{
 "cells": [
  {
   "cell_type": "markdown",
   "metadata": {},
   "source": [
    "# Рекомендация тарифов"
   ]
  },
  {
   "cell_type": "markdown",
   "metadata": {},
   "source": [
    "В вашем распоряжении данные о поведении клиентов, которые уже перешли на эти тарифы (из проекта курса «Статистический анализ данных»). Нужно построить модель для задачи классификации, которая выберет подходящий тариф. Предобработка данных не понадобится — вы её уже сделали.\n",
    "\n",
    "Постройте модель с максимально большим значением *accuracy*. Чтобы сдать проект успешно, нужно довести долю правильных ответов по крайней мере до 0.75. Проверьте *accuracy* на тестовой выборке самостоятельно."
   ]
  },
  {
   "cell_type": "markdown",
   "metadata": {},
   "source": [
    "## Открываем и изучаем файл"
   ]
  },
  {
   "cell_type": "markdown",
   "metadata": {},
   "source": [
    "Импортируем необходимые в работе библиотеки и модули"
   ]
  },
  {
   "cell_type": "code",
   "execution_count": 1,
   "metadata": {},
   "outputs": [],
   "source": [
    "import pandas as pd\n",
    "import numpy as np\n",
    "from sklearn.metrics import accuracy_score\n",
    "from sklearn.tree import DecisionTreeClassifier\n",
    "from sklearn.ensemble import RandomForestClassifier\n",
    "from sklearn.linear_model import LogisticRegression\n",
    "from sklearn.model_selection import train_test_split"
   ]
  },
  {
   "cell_type": "code",
   "execution_count": 2,
   "metadata": {},
   "outputs": [],
   "source": [
    "# откроем датасет и сохраним его в переменной df\n",
    "df = pd.read_csv('/datasets/users_behavior.csv')"
   ]
  },
  {
   "cell_type": "code",
   "execution_count": 3,
   "metadata": {},
   "outputs": [
    {
     "name": "stdout",
     "output_type": "stream",
     "text": [
      "(3214, 5)\n"
     ]
    }
   ],
   "source": [
    "# посмотрим на форму датасета\n",
    "print(df.shape)"
   ]
  },
  {
   "cell_type": "code",
   "execution_count": 4,
   "metadata": {},
   "outputs": [
    {
     "data": {
      "text/html": [
       "<div>\n",
       "<style scoped>\n",
       "    .dataframe tbody tr th:only-of-type {\n",
       "        vertical-align: middle;\n",
       "    }\n",
       "\n",
       "    .dataframe tbody tr th {\n",
       "        vertical-align: top;\n",
       "    }\n",
       "\n",
       "    .dataframe thead th {\n",
       "        text-align: right;\n",
       "    }\n",
       "</style>\n",
       "<table border=\"1\" class=\"dataframe\">\n",
       "  <thead>\n",
       "    <tr style=\"text-align: right;\">\n",
       "      <th></th>\n",
       "      <th>calls</th>\n",
       "      <th>minutes</th>\n",
       "      <th>messages</th>\n",
       "      <th>mb_used</th>\n",
       "      <th>is_ultra</th>\n",
       "    </tr>\n",
       "  </thead>\n",
       "  <tbody>\n",
       "    <tr>\n",
       "      <th>0</th>\n",
       "      <td>40.0</td>\n",
       "      <td>311.90</td>\n",
       "      <td>83.0</td>\n",
       "      <td>19915.42</td>\n",
       "      <td>0</td>\n",
       "    </tr>\n",
       "    <tr>\n",
       "      <th>1</th>\n",
       "      <td>85.0</td>\n",
       "      <td>516.75</td>\n",
       "      <td>56.0</td>\n",
       "      <td>22696.96</td>\n",
       "      <td>0</td>\n",
       "    </tr>\n",
       "    <tr>\n",
       "      <th>2</th>\n",
       "      <td>77.0</td>\n",
       "      <td>467.66</td>\n",
       "      <td>86.0</td>\n",
       "      <td>21060.45</td>\n",
       "      <td>0</td>\n",
       "    </tr>\n",
       "    <tr>\n",
       "      <th>3</th>\n",
       "      <td>106.0</td>\n",
       "      <td>745.53</td>\n",
       "      <td>81.0</td>\n",
       "      <td>8437.39</td>\n",
       "      <td>1</td>\n",
       "    </tr>\n",
       "    <tr>\n",
       "      <th>4</th>\n",
       "      <td>66.0</td>\n",
       "      <td>418.74</td>\n",
       "      <td>1.0</td>\n",
       "      <td>14502.75</td>\n",
       "      <td>0</td>\n",
       "    </tr>\n",
       "  </tbody>\n",
       "</table>\n",
       "</div>"
      ],
      "text/plain": [
       "   calls  minutes  messages   mb_used  is_ultra\n",
       "0   40.0   311.90      83.0  19915.42         0\n",
       "1   85.0   516.75      56.0  22696.96         0\n",
       "2   77.0   467.66      86.0  21060.45         0\n",
       "3  106.0   745.53      81.0   8437.39         1\n",
       "4   66.0   418.74       1.0  14502.75         0"
      ]
     },
     "metadata": {},
     "output_type": "display_data"
    }
   ],
   "source": [
    "# выведем первые пять строк таблицы\n",
    "display(df.head())"
   ]
  },
  {
   "cell_type": "code",
   "execution_count": 5,
   "metadata": {},
   "outputs": [
    {
     "name": "stdout",
     "output_type": "stream",
     "text": [
      "<class 'pandas.core.frame.DataFrame'>\n",
      "RangeIndex: 3214 entries, 0 to 3213\n",
      "Data columns (total 5 columns):\n",
      " #   Column    Non-Null Count  Dtype  \n",
      "---  ------    --------------  -----  \n",
      " 0   calls     3214 non-null   float64\n",
      " 1   minutes   3214 non-null   float64\n",
      " 2   messages  3214 non-null   float64\n",
      " 3   mb_used   3214 non-null   float64\n",
      " 4   is_ultra  3214 non-null   int64  \n",
      "dtypes: float64(4), int64(1)\n",
      "memory usage: 125.7 KB\n"
     ]
    }
   ],
   "source": [
    "# выведем общую информацию по таблице\n",
    "df.info()"
   ]
  },
  {
   "cell_type": "markdown",
   "metadata": {},
   "source": [
    "**Описание данных:**\n",
    "\n",
    "Каждый объект в наборе данных — это информация о поведении одного пользователя за месяц. Известно:\n",
    "\n",
    "•\t`сalls` — количество звонков\n",
    "\n",
    "•\t`minutes` — суммарная длительность звонков в минутах\n",
    "\n",
    "•\t`messages` — количество sms-сообщений\n",
    "\n",
    "•\t`mb_used ` — израсходованный интернет-трафик в Мб\n",
    "\n",
    "•\t`is_ultra` — каким тарифом пользовался в течение месяца («Ультра» — 1, «Смарт» — 0)"
   ]
  },
  {
   "cell_type": "markdown",
   "metadata": {},
   "source": [
    "Из задания известно (да и видно по нашим выведенным таблицам), что предобработка данных не понадобится так как мы её уже сделали в одном из  предыдущих проектов.\n",
    "\n",
    "Разделим данные на признаки и целевое значение:"
   ]
  },
  {
   "cell_type": "code",
   "execution_count": 6,
   "metadata": {},
   "outputs": [],
   "source": [
    "features = df.drop('is_ultra', axis=1) # признаки\n",
    "target = df['is_ultra'] # целевое значение"
   ]
  },
  {
   "cell_type": "code",
   "execution_count": 7,
   "metadata": {},
   "outputs": [
    {
     "name": "stdout",
     "output_type": "stream",
     "text": [
      "(3214, 4) (3214,)\n"
     ]
    }
   ],
   "source": [
    "# посмотрим на размеры новых данных\n",
    "print(features.shape, target.shape)"
   ]
  },
  {
   "cell_type": "markdown",
   "metadata": {},
   "source": [
    "Как видно данные успешно разделены."
   ]
  },
  {
   "cell_type": "markdown",
   "metadata": {},
   "source": [
    "## Разделение исходных данных на выборки"
   ]
  },
  {
   "cell_type": "markdown",
   "metadata": {},
   "source": [
    "Как сказано в задании разобьем данные на три части: обучающую, валидационную и тестовую. Размеры тестового и валидационного наборов сделаем равными. Исходные данные разобьем в соотношении 3:1:1:\n",
    "* 1)\tОбучающая выборка (train) = 60%\n",
    "* 2)\tВалидационная выборка (valid) = 20%\n",
    "* 3)\tТестовая выборка (test) = 20%"
   ]
  },
  {
   "cell_type": "code",
   "execution_count": 8,
   "metadata": {},
   "outputs": [],
   "source": [
    "# разделим данные на обучающую, валидационную и тестовую выборки через numpy.split ()\n",
    "df_train, df_valid, df_test = np.split(df.sample(frac=1), [int(.6*len(df)), int(.8*len(df))])"
   ]
  },
  {
   "cell_type": "markdown",
   "metadata": {},
   "source": [
    "Проверим как разделились выборки:"
   ]
  },
  {
   "cell_type": "code",
   "execution_count": 9,
   "metadata": {},
   "outputs": [
    {
     "name": "stdout",
     "output_type": "stream",
     "text": [
      "Доля обучающей выборки равна: 60%\n",
      "Доля валидационной выборки равна: 20%\n",
      "Доля тестовой выборки равна: 20%\n"
     ]
    }
   ],
   "source": [
    "print('Доля обучающей выборки равна: {:.0%}'.format(len(df_train) / len(df)))\n",
    "print('Доля валидационной выборки равна: {:.0%}'.format(len(df_valid) / len(df)))\n",
    "print('Доля тестовой выборки равна: {:.0%}'.format(len(df_test) / len(df)))"
   ]
  },
  {
   "cell_type": "markdown",
   "metadata": {},
   "source": [
    "Cоздадим переменные для признаков и целевого признака:"
   ]
  },
  {
   "cell_type": "code",
   "execution_count": 10,
   "metadata": {},
   "outputs": [
    {
     "name": "stdout",
     "output_type": "stream",
     "text": [
      "обучающая выборка:\n",
      "(1928, 4) (1928,)\n",
      "\n",
      "валидационная выборка:\n",
      "(643, 4) (643,)\n",
      "\n",
      "тестовая выборка:\n",
      "(643, 4) (643,)\n"
     ]
    }
   ],
   "source": [
    "# обучающая выборка\n",
    "print('обучающая выборка:')\n",
    "features_train = df_train.drop('is_ultra', axis=1)\n",
    "target_train = df_train['is_ultra']\n",
    "print(features_train.shape, target_train.shape)\n",
    "print()\n",
    "\n",
    "# валидационная выборка\n",
    "print('валидационная выборка:')\n",
    "features_valid = df_valid.drop('is_ultra', axis=1)\n",
    "target_valid = df_valid['is_ultra']\n",
    "print(features_valid.shape, target_valid.shape)\n",
    "print()\n",
    "\n",
    "# тестовая выборка\n",
    "print('тестовая выборка:')\n",
    "features_test = df_test.drop('is_ultra', axis=1)\n",
    "target_test = df_test['is_ultra']\n",
    "print(features_test.shape, target_test.shape)"
   ]
  },
  {
   "cell_type": "markdown",
   "metadata": {},
   "source": [
    "Как видим данные разбились на требуемые нам выборки."
   ]
  },
  {
   "cell_type": "markdown",
   "metadata": {},
   "source": [
    "## Исследование моделей"
   ]
  },
  {
   "cell_type": "markdown",
   "metadata": {},
   "source": [
    "### Дерево решений"
   ]
  },
  {
   "cell_type": "markdown",
   "metadata": {},
   "source": [
    "Первой моделью выберем **`«Дерево решений»`** и, чтобы ее улучшить будем перебирать гиперпараметр `«maх_depth»` в цикле автоматически, не дожидаясь проверки на тестовой выборке:"
   ]
  },
  {
   "cell_type": "code",
   "execution_count": 11,
   "metadata": {},
   "outputs": [
    {
     "name": "stdout",
     "output_type": "stream",
     "text": [
      "--------------- Модель \"Дерево решений\" ---------------\n",
      "\n",
      "Параметры наилучшей модели на валидационной выборке:\n",
      "Accuracy = 0.8133748055987559\n",
      "Гиперпараметр \"maх_depth\" = 3\n"
     ]
    }
   ],
   "source": [
    "best_model_tree = None\n",
    "best_result_tree = 0\n",
    "best_tree = 0\n",
    "# выполним цикл для \"max_depth\" от 1 до 15\n",
    "for tree in range(1,16):\n",
    "# обучаем модель с заданной глубиной дерева «tree»    \n",
    "    model_tree = DecisionTreeClassifier(random_state=13, max_depth=tree) \n",
    "    # обучаем модель\n",
    "    model_tree.fit(features_train, target_train)\n",
    "    # получаем предсказания модели\n",
    "    predictions_tree = model_tree.predict(features_valid)\n",
    "    # посчитаем качество модели    \n",
    "    result_tree = accuracy_score(target_valid, predictions_tree)\n",
    "    \n",
    "    if result_tree > best_result_tree:\n",
    "        # сохраним наилучшую модель\n",
    "        best_model_tree = model_tree\n",
    "        # сохраним наилучшее значение метрики accuracy на валидационных данных\n",
    "        best_result_tree = result_tree\n",
    "        # сохраним наилучшее значение гиперпараметра \"maх_depth\"\n",
    "        best_tree = tree\n",
    "\n",
    "print('--------------- Модель \"Дерево решений\" ---------------')\n",
    "print()\n",
    "print(\"Параметры наилучшей модели на валидационной выборке:\")\n",
    "print(\"Accuracy =\", best_result_tree)\n",
    "print('Гиперпараметр \"maх_depth\" =', best_tree)"
   ]
  },
  {
   "cell_type": "markdown",
   "metadata": {},
   "source": [
    "### Случайный лес"
   ]
  },
  {
   "cell_type": "markdown",
   "metadata": {},
   "source": [
    "Второй моделью будет **`«Случайный лес»`**. Настраивать будем количесво деревьев `«n_estimators»`. Чем больше деревьев, тем дольше модель будет учиться, но результат станет лучше (и наоборот). Попробуем на количестве деревьев равное 100 с шагом 10."
   ]
  },
  {
   "cell_type": "code",
   "execution_count": 12,
   "metadata": {},
   "outputs": [
    {
     "name": "stdout",
     "output_type": "stream",
     "text": [
      "--------------- Модель «Случайный лес» ---------------\n",
      "\n",
      "Параметры наилучшей модели на валидационной выборке:\n",
      "Accuracy = 0.8180404354587869\n",
      "Гиперпараметр «n_estimators» = 91\n"
     ]
    }
   ],
   "source": [
    "best_model_forest = None\n",
    "best_result_forest = 0\n",
    "best_forest = 0\n",
    "for forest in range(1, 101, 10):\n",
    "    # обучим модель с заданным количеством деревьев\n",
    "    model_forest = RandomForestClassifier(random_state=13, n_estimators=forest)\n",
    "    # обучим модель на тренировочной выборке \n",
    "    model_forest.fit(features_train, target_train)\n",
    "    # посчитаем качество модели на валидационной выборке\n",
    "    result_forest = model_forest.score(features_valid, target_valid)\n",
    "    if result_forest > best_result_forest:\n",
    "        # сохраним наилучшую модель\n",
    "        best_model_forest = model_forest\n",
    "        # сохраним наилучшее значение метрики accuracy на валидационных данных\n",
    "        best_result_forest = result_forest\n",
    "        # сохраним наилучшее значение «n_estimators»\n",
    "        best_forest = forest\n",
    "\n",
    "\n",
    "print(\"--------------- Модель «Случайный лес» ---------------\")\n",
    "print()\n",
    "print(\"Параметры наилучшей модели на валидационной выборке:\")\n",
    "print(\"Accuracy =\", best_result_forest)\n",
    "print(\"Гиперпараметр «n_estimators» =\", best_forest)"
   ]
  },
  {
   "cell_type": "markdown",
   "metadata": {},
   "source": [
    "### Логистическая регрессия"
   ]
  },
  {
   "cell_type": "markdown",
   "metadata": {},
   "source": [
    "Попробуем третий алгоритм — **`«Логистическую регрессию»`**. Обучим модель логистической регрессии на обучающей выборке и посчитаем её качество на валидационных данных."
   ]
  },
  {
   "cell_type": "code",
   "execution_count": 13,
   "metadata": {},
   "outputs": [
    {
     "name": "stdout",
     "output_type": "stream",
     "text": [
      "Accuracy модели логистической регрессии на валидационной выборке: 0.6967340590979783\n"
     ]
    }
   ],
   "source": [
    "# Инициализируем модель логистической регрессии с параметром random_state=37\n",
    "model_logist = LogisticRegression(random_state=13, solver='lbfgs') \n",
    "\n",
    "# обучим модель на тренировочной выборке\n",
    "model_logist.fit(features_train, target_train) \n",
    "\n",
    "# получим метрику качества модели на валидационной выборке\n",
    "result_logist = model_logist.score(features_valid, target_valid) \n",
    "\n",
    "print(\"Accuracy модели логистической регрессии на валидационной выборке:\", result_logist)"
   ]
  },
  {
   "cell_type": "markdown",
   "metadata": {},
   "source": [
    "### Выводы исследования"
   ]
  },
  {
   "cell_type": "markdown",
   "metadata": {},
   "source": [
    "Лучшей моделью показал себя **`«Случайный лес»`** он самый затратный по ресурсам по сравнению с другими, но в данном проекте требований к данному нюансу не было, поэтому выберем его лучшей моделью."
   ]
  },
  {
   "cell_type": "markdown",
   "metadata": {},
   "source": [
    "## Проверка качества лучшей модели на тестовой выборке"
   ]
  },
  {
   "cell_type": "markdown",
   "metadata": {},
   "source": [
    "Проверим выбранную нами модель **`«Случайного леса»`** на тестовой выборке:"
   ]
  },
  {
   "cell_type": "code",
   "execution_count": 14,
   "metadata": {},
   "outputs": [
    {
     "name": "stdout",
     "output_type": "stream",
     "text": [
      "Качество тестовой выборки: 0.7853810264385692\n"
     ]
    }
   ],
   "source": [
    "predictions_test = model_forest.predict(features_test)\n",
    "accuracy_test = accuracy_score(target_test, predictions_test)\n",
    "print(\"Качество тестовой выборки:\", accuracy_test)"
   ]
  },
  {
   "cell_type": "markdown",
   "metadata": {},
   "source": [
    "## (бонус) Проверка модели на вменяемость"
   ]
  },
  {
   "cell_type": "markdown",
   "metadata": {},
   "source": [
    "В качестве параметра вменяемости модели примем, что если наша модель предсказывает лучше чем предположение о том, что количество пользователей использующих тариф «смарт» и «ультра», будет с такими же пропорциями что и в исходной выборке, то она вменяема.\n",
    "Вычислим количество пользователей использующих тариф «смарт» к общему количеству объектов в выборке:"
   ]
  },
  {
   "cell_type": "code",
   "execution_count": 15,
   "metadata": {},
   "outputs": [
    {
     "name": "stdout",
     "output_type": "stream",
     "text": [
      "0    2229\n",
      "1     985\n",
      "Name: is_ultra, dtype: int64\n"
     ]
    }
   ],
   "source": [
    "# проверим какое количество пользователей используют тариф «смарт» и «ультра»\n",
    "print(df['is_ultra'].value_counts())"
   ]
  },
  {
   "cell_type": "code",
   "execution_count": 16,
   "metadata": {},
   "outputs": [
    {
     "name": "stdout",
     "output_type": "stream",
     "text": [
      "Доля пользователей использующих тариф «смарт» равна: 69%\n"
     ]
    }
   ],
   "source": [
    "print('Доля пользователей использующих тариф «смарт» равна: {:.0%}'.format((df['is_ultra'] == 0).sum() / df.shape[0]))"
   ]
  },
  {
   "cell_type": "markdown",
   "metadata": {},
   "source": [
    "## Вывод\n",
    "\n",
    "Видим, что доля правильных ответов наших моделей оказалась выше чем у нашего предположения, а следовательно можно считать модели адекватными."
   ]
  }
 ],
 "metadata": {
  "ExecuteTimeLog": [
   {
    "duration": 1391,
    "start_time": "2022-02-01T14:55:09.143Z"
   },
   {
    "duration": 25,
    "start_time": "2022-02-01T14:55:21.103Z"
   },
   {
    "duration": 4,
    "start_time": "2022-02-01T14:55:31.199Z"
   },
   {
    "duration": 29,
    "start_time": "2022-02-01T14:55:39.243Z"
   },
   {
    "duration": 9,
    "start_time": "2022-02-01T14:55:52.703Z"
   },
   {
    "duration": 6,
    "start_time": "2022-02-01T14:56:46.426Z"
   },
   {
    "duration": 7,
    "start_time": "2022-02-01T14:56:55.591Z"
   },
   {
    "duration": 6,
    "start_time": "2022-02-01T14:57:16.363Z"
   },
   {
    "duration": 512,
    "start_time": "2022-02-01T14:59:37.746Z"
   },
   {
    "duration": 245,
    "start_time": "2022-02-01T15:05:10.274Z"
   },
   {
    "duration": 4,
    "start_time": "2022-02-01T15:05:57.778Z"
   },
   {
    "duration": 23,
    "start_time": "2022-02-01T15:05:59.265Z"
   },
   {
    "duration": 5,
    "start_time": "2022-02-01T15:05:59.913Z"
   },
   {
    "duration": 15,
    "start_time": "2022-02-01T15:06:00.937Z"
   },
   {
    "duration": 9,
    "start_time": "2022-02-01T15:06:01.705Z"
   },
   {
    "duration": 6,
    "start_time": "2022-02-01T15:06:04.682Z"
   },
   {
    "duration": 4,
    "start_time": "2022-02-01T15:06:05.274Z"
   },
   {
    "duration": 8,
    "start_time": "2022-02-01T15:06:07.779Z"
   },
   {
    "duration": 6,
    "start_time": "2022-02-01T15:06:30.809Z"
   },
   {
    "duration": 5,
    "start_time": "2022-02-01T15:06:46.550Z"
   },
   {
    "duration": 6,
    "start_time": "2022-02-01T15:07:01.837Z"
   },
   {
    "duration": 10,
    "start_time": "2022-02-01T15:08:12.263Z"
   },
   {
    "duration": 9,
    "start_time": "2022-02-01T15:08:13.464Z"
   },
   {
    "duration": 15,
    "start_time": "2022-02-01T15:08:31.509Z"
   },
   {
    "duration": 321,
    "start_time": "2022-02-01T15:11:29.538Z"
   },
   {
    "duration": 15,
    "start_time": "2022-02-01T15:11:36.981Z"
   },
   {
    "duration": 6,
    "start_time": "2022-02-01T15:11:38.437Z"
   },
   {
    "duration": 6,
    "start_time": "2022-02-01T15:12:26.621Z"
   },
   {
    "duration": 14,
    "start_time": "2022-02-01T15:12:35.256Z"
   },
   {
    "duration": 165,
    "start_time": "2022-02-01T15:19:09.288Z"
   },
   {
    "duration": 5,
    "start_time": "2022-02-01T15:19:21.012Z"
   },
   {
    "duration": 5,
    "start_time": "2022-02-01T15:19:25.632Z"
   },
   {
    "duration": 7,
    "start_time": "2022-02-01T15:20:11.909Z"
   },
   {
    "duration": 9,
    "start_time": "2022-02-01T15:20:33.712Z"
   },
   {
    "duration": 15,
    "start_time": "2022-02-01T15:22:00.653Z"
   },
   {
    "duration": 4,
    "start_time": "2022-02-01T15:23:06.477Z"
   },
   {
    "duration": 145,
    "start_time": "2022-02-01T15:23:28.494Z"
   },
   {
    "duration": 727,
    "start_time": "2022-02-01T15:24:06.877Z"
   },
   {
    "duration": 9,
    "start_time": "2022-02-01T15:24:46.200Z"
   },
   {
    "duration": 22,
    "start_time": "2022-02-01T15:25:19.981Z"
   },
   {
    "duration": 117,
    "start_time": "2022-02-01T15:25:30.338Z"
   },
   {
    "duration": 9,
    "start_time": "2022-02-01T15:25:57.405Z"
   },
   {
    "duration": 93,
    "start_time": "2022-02-01T15:25:59.973Z"
   },
   {
    "duration": 9,
    "start_time": "2022-02-01T15:26:09.285Z"
   },
   {
    "duration": 791,
    "start_time": "2022-02-01T15:26:32.455Z"
   },
   {
    "duration": 658,
    "start_time": "2022-02-01T15:27:24.413Z"
   },
   {
    "duration": 326,
    "start_time": "2022-02-01T15:28:07.641Z"
   },
   {
    "duration": 326,
    "start_time": "2022-02-01T15:30:28.359Z"
   },
   {
    "duration": 11,
    "start_time": "2022-02-01T15:32:30.097Z"
   },
   {
    "duration": 5,
    "start_time": "2022-02-01T15:32:41.964Z"
   },
   {
    "duration": 11,
    "start_time": "2022-02-01T15:34:35.565Z"
   },
   {
    "duration": 11,
    "start_time": "2022-02-01T15:34:51.729Z"
   },
   {
    "duration": 11,
    "start_time": "2022-02-01T15:35:12.918Z"
   },
   {
    "duration": 11,
    "start_time": "2022-02-01T15:35:23.373Z"
   },
   {
    "duration": 11,
    "start_time": "2022-02-01T15:35:40.301Z"
   },
   {
    "duration": 12,
    "start_time": "2022-02-01T15:36:09.097Z"
   },
   {
    "duration": 12,
    "start_time": "2022-02-01T15:37:31.025Z"
   },
   {
    "duration": 3,
    "start_time": "2022-02-01T15:38:16.364Z"
   },
   {
    "duration": 46,
    "start_time": "2022-02-01T15:39:15.724Z"
   },
   {
    "duration": 81,
    "start_time": "2022-02-01T15:40:08.293Z"
   },
   {
    "duration": 1265,
    "start_time": "2022-02-01T15:40:15.236Z"
   },
   {
    "duration": 104,
    "start_time": "2022-02-01T15:40:23.915Z"
   },
   {
    "duration": 84,
    "start_time": "2022-02-01T15:40:29.109Z"
   },
   {
    "duration": 105,
    "start_time": "2022-02-01T15:40:32.593Z"
   },
   {
    "duration": 79,
    "start_time": "2022-02-01T15:40:44.159Z"
   },
   {
    "duration": 122,
    "start_time": "2022-02-01T15:41:07.044Z"
   },
   {
    "duration": 142,
    "start_time": "2022-02-01T15:43:00.661Z"
   },
   {
    "duration": 468,
    "start_time": "2022-02-01T15:43:30.377Z"
   },
   {
    "duration": 29124,
    "start_time": "2022-02-01T15:43:41.695Z"
   },
   {
    "duration": 2718,
    "start_time": "2022-02-01T15:44:26.196Z"
   },
   {
    "duration": 28693,
    "start_time": "2022-02-01T15:44:47.269Z"
   },
   {
    "duration": 2772,
    "start_time": "2022-02-01T15:45:46.179Z"
   },
   {
    "duration": 2592,
    "start_time": "2022-02-01T15:46:57.506Z"
   },
   {
    "duration": 19,
    "start_time": "2022-02-01T15:48:32.610Z"
   },
   {
    "duration": 15,
    "start_time": "2022-02-01T15:48:43.922Z"
   },
   {
    "duration": 2694,
    "start_time": "2022-02-01T15:48:50.314Z"
   },
   {
    "duration": 143,
    "start_time": "2022-02-01T15:49:11.409Z"
   },
   {
    "duration": 59,
    "start_time": "2022-02-01T15:53:20.125Z"
   },
   {
    "duration": 168,
    "start_time": "2022-02-01T15:58:53.736Z"
   },
   {
    "duration": 151,
    "start_time": "2022-02-01T15:59:28.280Z"
   },
   {
    "duration": 33,
    "start_time": "2022-02-01T16:04:32.173Z"
   },
   {
    "duration": 32,
    "start_time": "2022-02-01T16:06:26.765Z"
   },
   {
    "duration": 7,
    "start_time": "2022-02-01T16:08:36.572Z"
   },
   {
    "duration": 5,
    "start_time": "2022-02-01T16:11:29.636Z"
   },
   {
    "duration": 6,
    "start_time": "2022-02-01T16:12:20.993Z"
   },
   {
    "duration": 8,
    "start_time": "2022-02-01T16:13:35.333Z"
   },
   {
    "duration": 8,
    "start_time": "2022-02-01T16:14:44.702Z"
   },
   {
    "duration": 8,
    "start_time": "2022-02-01T16:15:04.149Z"
   },
   {
    "duration": 50,
    "start_time": "2022-02-01T16:17:18.621Z"
   },
   {
    "duration": 6,
    "start_time": "2022-02-01T16:17:22.405Z"
   },
   {
    "duration": 5,
    "start_time": "2022-02-01T16:21:33.262Z"
   },
   {
    "duration": 22,
    "start_time": "2022-02-01T16:21:33.298Z"
   },
   {
    "duration": 3,
    "start_time": "2022-02-01T16:21:33.326Z"
   },
   {
    "duration": 16,
    "start_time": "2022-02-01T16:21:33.373Z"
   },
   {
    "duration": 32,
    "start_time": "2022-02-01T16:21:33.395Z"
   },
   {
    "duration": 6,
    "start_time": "2022-02-01T16:21:33.502Z"
   },
   {
    "duration": 5,
    "start_time": "2022-02-01T16:21:33.533Z"
   },
   {
    "duration": 8,
    "start_time": "2022-02-01T16:21:33.675Z"
   },
   {
    "duration": 6,
    "start_time": "2022-02-01T16:21:33.721Z"
   },
   {
    "duration": 21,
    "start_time": "2022-02-01T16:21:33.803Z"
   },
   {
    "duration": 195,
    "start_time": "2022-02-01T16:21:33.985Z"
   },
   {
    "duration": 2951,
    "start_time": "2022-02-01T16:21:34.186Z"
   },
   {
    "duration": 35,
    "start_time": "2022-02-01T16:21:37.141Z"
   },
   {
    "duration": 49,
    "start_time": "2022-02-01T16:21:37.180Z"
   },
   {
    "duration": 27,
    "start_time": "2022-02-01T16:21:37.232Z"
   },
   {
    "duration": 15,
    "start_time": "2022-02-01T16:21:37.262Z"
   },
   {
    "duration": 4,
    "start_time": "2022-02-01T16:24:36.741Z"
   },
   {
    "duration": 20,
    "start_time": "2022-02-01T16:24:36.770Z"
   },
   {
    "duration": 4,
    "start_time": "2022-02-01T16:24:36.800Z"
   },
   {
    "duration": 18,
    "start_time": "2022-02-01T16:24:36.836Z"
   },
   {
    "duration": 9,
    "start_time": "2022-02-01T16:24:36.884Z"
   },
   {
    "duration": 6,
    "start_time": "2022-02-01T16:24:36.981Z"
   },
   {
    "duration": 5,
    "start_time": "2022-02-01T16:24:37.012Z"
   },
   {
    "duration": 10,
    "start_time": "2022-02-01T16:24:37.137Z"
   },
   {
    "duration": 5,
    "start_time": "2022-02-01T16:24:37.209Z"
   },
   {
    "duration": 18,
    "start_time": "2022-02-01T16:24:37.273Z"
   },
   {
    "duration": 152,
    "start_time": "2022-02-01T16:24:37.453Z"
   },
   {
    "duration": 2709,
    "start_time": "2022-02-01T16:24:37.608Z"
   },
   {
    "duration": 41,
    "start_time": "2022-02-01T16:24:40.320Z"
   },
   {
    "duration": 39,
    "start_time": "2022-02-01T16:24:40.364Z"
   },
   {
    "duration": 6,
    "start_time": "2022-02-01T16:24:40.406Z"
   },
   {
    "duration": 10,
    "start_time": "2022-02-01T16:24:40.414Z"
   },
   {
    "duration": 1114,
    "start_time": "2025-03-23T07:52:38.843Z"
   },
   {
    "duration": 120,
    "start_time": "2025-03-23T07:52:39.959Z"
   },
   {
    "duration": 3,
    "start_time": "2025-03-23T07:52:40.080Z"
   },
   {
    "duration": 34,
    "start_time": "2025-03-23T07:52:40.084Z"
   },
   {
    "duration": 11,
    "start_time": "2025-03-23T07:52:40.120Z"
   },
   {
    "duration": 5,
    "start_time": "2025-03-23T07:52:40.132Z"
   },
   {
    "duration": 5,
    "start_time": "2025-03-23T07:52:40.139Z"
   },
   {
    "duration": 14,
    "start_time": "2025-03-23T07:52:40.146Z"
   },
   {
    "duration": 3,
    "start_time": "2025-03-23T07:52:40.162Z"
   },
   {
    "duration": 7,
    "start_time": "2025-03-23T07:52:40.167Z"
   },
   {
    "duration": 141,
    "start_time": "2025-03-23T07:52:40.175Z"
   },
   {
    "duration": 1819,
    "start_time": "2025-03-23T07:52:40.317Z"
   },
   {
    "duration": 24,
    "start_time": "2025-03-23T07:52:42.137Z"
   },
   {
    "duration": 25,
    "start_time": "2025-03-23T07:52:42.163Z"
   },
   {
    "duration": 5,
    "start_time": "2025-03-23T07:52:42.206Z"
   },
   {
    "duration": 6,
    "start_time": "2025-03-23T07:52:42.212Z"
   }
  ],
  "kernelspec": {
   "display_name": "Python 3 (ipykernel)",
   "language": "python",
   "name": "python3"
  },
  "language_info": {
   "codemirror_mode": {
    "name": "ipython",
    "version": 3
   },
   "file_extension": ".py",
   "mimetype": "text/x-python",
   "name": "python",
   "nbconvert_exporter": "python",
   "pygments_lexer": "ipython3",
   "version": "3.9.5"
  },
  "toc": {
   "base_numbering": 1,
   "nav_menu": {},
   "number_sections": true,
   "sideBar": true,
   "skip_h1_title": true,
   "title_cell": "Table of Contents",
   "title_sidebar": "Contents",
   "toc_cell": false,
   "toc_position": {},
   "toc_section_display": true,
   "toc_window_display": false
  }
 },
 "nbformat": 4,
 "nbformat_minor": 2
}
