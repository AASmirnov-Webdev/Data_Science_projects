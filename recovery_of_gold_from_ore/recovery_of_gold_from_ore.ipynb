{
 "cells": [
  {
   "cell_type": "markdown",
   "metadata": {
    "toc": true
   },
   "source": [
    "<h1>Содержание<span class=\"tocSkip\"></span></h1>\n",
    "<div class=\"toc\"><ul class=\"toc-item\"><li><span><a href=\"#Подготовка-данных\" data-toc-modified-id=\"Подготовка-данных-1\"><span class=\"toc-item-num\">1&nbsp;&nbsp;</span>Подготовка данных</a></span><ul class=\"toc-item\"><li><span><a href=\"#Описание-данных\" data-toc-modified-id=\"Описание-данных-1.1\"><span class=\"toc-item-num\">1.1&nbsp;&nbsp;</span>Описание данных</a></span></li><li><span><a href=\"#Открываем-и-изучаем-файлы\" data-toc-modified-id=\"Открываем-и-изучаем-файлы-1.2\"><span class=\"toc-item-num\">1.2&nbsp;&nbsp;</span>Открываем и изучаем файлы</a></span></li><li><span><a href=\"#Анализ-признаков,-недоступных-в-тестовой-выборке\" data-toc-modified-id=\"Анализ-признаков,-недоступных-в-тестовой-выборке-1.3\"><span class=\"toc-item-num\">1.3&nbsp;&nbsp;</span>Анализ признаков, недоступных в тестовой выборке</a></span></li><li><span><a href=\"#Проверка-формулы-вычисления-эффективности-обогащения\" data-toc-modified-id=\"Проверка-формулы-вычисления-эффективности-обогащения-1.4\"><span class=\"toc-item-num\">1.4&nbsp;&nbsp;</span>Проверка формулы вычисления эффективности обогащения</a></span></li><li><span><a href=\"#Предобработка-данных\" data-toc-modified-id=\"Предобработка-данных-1.5\"><span class=\"toc-item-num\">1.5&nbsp;&nbsp;</span>Предобработка данных</a></span><ul class=\"toc-item\"><li><span><a href=\"#Обучающая-выборка\" data-toc-modified-id=\"Обучающая-выборка-1.5.1\"><span class=\"toc-item-num\">1.5.1&nbsp;&nbsp;</span>Обучающая выборка</a></span></li><li><span><a href=\"#Тестовая-выборка\" data-toc-modified-id=\"Тестовая-выборка-1.5.2\"><span class=\"toc-item-num\">1.5.2&nbsp;&nbsp;</span>Тестовая выборка</a></span></li><li><span><a href=\"#Обработка-пропусков\" data-toc-modified-id=\"Обработка-пропусков-1.5.3\"><span class=\"toc-item-num\">1.5.3&nbsp;&nbsp;</span>Обработка пропусков</a></span></li><li><span><a href=\"#Обработка-нулевых-значений\" data-toc-modified-id=\"Обработка-нулевых-значений-1.5.4\"><span class=\"toc-item-num\">1.5.4&nbsp;&nbsp;</span>Обработка нулевых значений</a></span></li></ul></li><li><span><a href=\"#Вывод\" data-toc-modified-id=\"Вывод-1.6\"><span class=\"toc-item-num\">1.6&nbsp;&nbsp;</span>Вывод</a></span></li></ul></li><li><span><a href=\"#Анализ-данных\" data-toc-modified-id=\"Анализ-данных-2\"><span class=\"toc-item-num\">2&nbsp;&nbsp;</span>Анализ данных</a></span><ul class=\"toc-item\"><li><span><a href=\"#Исследование-изменения-концентрации-элементов-на-каждом-этапе\" data-toc-modified-id=\"Исследование-изменения-концентрации-элементов-на-каждом-этапе-2.1\"><span class=\"toc-item-num\">2.1&nbsp;&nbsp;</span>Исследование изменения концентрации элементов на каждом этапе</a></span></li><li><span><a href=\"#Анализ-распределения-размеров-гранул-на-обучающей-и-тестовой-выборках\" data-toc-modified-id=\"Анализ-распределения-размеров-гранул-на-обучающей-и-тестовой-выборках-2.2\"><span class=\"toc-item-num\">2.2&nbsp;&nbsp;</span>Анализ распределения размеров гранул на обучающей и тестовой выборках</a></span></li><li><span><a href=\"#Исследование-суммарных-концентраций\" data-toc-modified-id=\"Исследование-суммарных-концентраций-2.3\"><span class=\"toc-item-num\">2.3&nbsp;&nbsp;</span>Исследование суммарных концентраций</a></span></li><li><span><a href=\"#Вывод\" data-toc-modified-id=\"Вывод-2.4\"><span class=\"toc-item-num\">2.4&nbsp;&nbsp;</span>Вывод</a></span></li></ul></li><li><span><a href=\"#Модель\" data-toc-modified-id=\"Модель-3\"><span class=\"toc-item-num\">3&nbsp;&nbsp;</span>Модель</a></span><ul class=\"toc-item\"><li><span><a href=\"#Функция-для-вычисления-итогового-sMAPE\" data-toc-modified-id=\"Функция-для-вычисления-итогового-sMAPE-3.1\"><span class=\"toc-item-num\">3.1&nbsp;&nbsp;</span>Функция для вычисления итогового sMAPE</a></span></li><li><span><a href=\"#Разбивка-данных\" data-toc-modified-id=\"Разбивка-данных-3.2\"><span class=\"toc-item-num\">3.2&nbsp;&nbsp;</span>Разбивка данных</a></span></li><li><span><a href=\"#Обучение-и-сравнение-моделей\" data-toc-modified-id=\"Обучение-и-сравнение-моделей-3.3\"><span class=\"toc-item-num\">3.3&nbsp;&nbsp;</span>Обучение и сравнение моделей</a></span><ul class=\"toc-item\"><li><span><a href=\"#Константная-модель\" data-toc-modified-id=\"Константная-модель-3.3.1\"><span class=\"toc-item-num\">3.3.1&nbsp;&nbsp;</span>Константная модель</a></span></li><li><span><a href=\"#Сравнение-моделей-регрессии\" data-toc-modified-id=\"Сравнение-моделей-регрессии-3.3.2\"><span class=\"toc-item-num\">3.3.2&nbsp;&nbsp;</span>Сравнение моделей регрессии</a></span></li></ul></li><li><span><a href=\"#Выбор-лучшей-модели\" data-toc-modified-id=\"Выбор-лучшей-модели-3.4\"><span class=\"toc-item-num\">3.4&nbsp;&nbsp;</span>Выбор лучшей модели</a></span></li><li><span><a href=\"#Проверка-модели\" data-toc-modified-id=\"Проверка-модели-3.5\"><span class=\"toc-item-num\">3.5&nbsp;&nbsp;</span>Проверка модели</a></span></li><li><span><a href=\"#Вывод\" data-toc-modified-id=\"Вывод-3.6\"><span class=\"toc-item-num\">3.6&nbsp;&nbsp;</span>Вывод</a></span></li></ul></li><li><span><a href=\"#Общий-вывод\" data-toc-modified-id=\"Общий-вывод-4\"><span class=\"toc-item-num\">4&nbsp;&nbsp;</span>Общий вывод</a></span></li><li><span><a href=\"#Чек-лист-готовности-проекта\" data-toc-modified-id=\"Чек-лист-готовности-проекта-5\"><span class=\"toc-item-num\">5&nbsp;&nbsp;</span>Чек-лист готовности проекта</a></span></li></ul></div>"
   ]
  },
  {
   "cell_type": "markdown",
   "metadata": {},
   "source": [
    "# Восстановление золота из руды"
   ]
  },
  {
   "cell_type": "markdown",
   "metadata": {},
   "source": [
    "Подготовьте прототип модели машинного обучения для «Цифры». Компания разрабатывает решения для эффективной работы промышленных предприятий.\n",
    "\n",
    "Модель должна предсказать коэффициент восстановления золота из золотосодержащей руды. Используйте данные с параметрами добычи и очистки. \n",
    "\n",
    "Модель поможет оптимизировать производство, чтобы не запускать предприятие с убыточными характеристиками.\n",
    "\n",
    "Вам нужно:\n",
    "\n",
    "1. Подготовить данные;\n",
    "2. Провести исследовательский анализ данных;\n",
    "3. Построить и обучить модель.\n",
    "\n",
    "Чтобы выполнить проект, обращайтесь к библиотекам *pandas*, *matplotlib* и *sklearn.* Вам поможет их документация."
   ]
  },
  {
   "cell_type": "markdown",
   "metadata": {},
   "source": [
    "## Подготовка данных"
   ]
  },
  {
   "cell_type": "markdown",
   "metadata": {},
   "source": [
    "### Описание данных"
   ]
  },
  {
   "cell_type": "markdown",
   "metadata": {},
   "source": [
    "Данные находятся в трёх файлах:\n",
    "*\t`gold_recovery_train_new.csv` — обучающая выборка;\n",
    "*\t`gold_recovery_test_new.csv` — тестовая выборка;\n",
    "*\t`gold_recovery_full_new.csv` — исходные данные.\n",
    "\n",
    "Данные индексируются датой и временем получения информации (признак date). Соседние по времени параметры часто похожи.\n",
    "Некоторые параметры недоступны, потому что замеряются и/или рассчитываются значительно позже. Из-за этого в тестовой выборке отсутствуют некоторые признаки, которые могут быть в обучающей. Также в тестовом наборе нет целевых признаков.\n",
    "Исходный датасет содержит обучающую и тестовую выборки со всеми признаками.\n",
    "В вашем распоряжении сырые данные: их просто выгрузили из хранилища. Прежде чем приступить к построению модели, проверьте по нашей инструкции их на корректность."
   ]
  },
  {
   "cell_type": "markdown",
   "metadata": {},
   "source": [
    "### Открываем и изучаем файлы"
   ]
  },
  {
   "cell_type": "markdown",
   "metadata": {},
   "source": [
    "Импортируем необходимые в работе библиотеки и модули"
   ]
  },
  {
   "cell_type": "code",
   "execution_count": 133,
   "metadata": {},
   "outputs": [],
   "source": [
    "import pandas as pd\n",
    "import numpy as np\n",
    "import matplotlib.pyplot as plt\n",
    "import seaborn as sns\n",
    "sns.set()\n",
    "from sklearn.utils import shuffle\n",
    "from sklearn.preprocessing import StandardScaler, MinMaxScaler\n",
    "from sklearn.dummy import DummyRegressor\n",
    "from sklearn.metrics import mean_absolute_error\n",
    "from sklearn.tree import DecisionTreeRegressor\n",
    "from sklearn.linear_model import LinearRegression\n",
    "from sklearn.ensemble import RandomForestRegressor\n",
    "from sklearn.metrics import make_scorer\n",
    "from sklearn.pipeline import Pipeline\n",
    "from sklearn.model_selection import cross_val_score, KFold\n",
    "\n",
    "import warnings\n",
    "warnings.filterwarnings(\"ignore\")"
   ]
  },
  {
   "cell_type": "code",
   "execution_count": 134,
   "metadata": {},
   "outputs": [],
   "source": [
    "# откроем датасеты и сохраним их в новых переменных\n",
    "df_train = pd.read_csv('/datasets/gold_recovery_train_new.csv', parse_dates=[0])\n",
    "df_test = pd.read_csv('/datasets/gold_recovery_test_new.csv', parse_dates=[0])\n",
    "df_full = pd.read_csv('/datasets/gold_recovery_full_new.csv', parse_dates=[0])"
   ]
  },
  {
   "cell_type": "markdown",
   "metadata": {},
   "source": [
    "По заданию известно, что данные индексируются датой и временем получения информации (признак date), поэтому дату оставим в качестве индекса."
   ]
  },
  {
   "cell_type": "code",
   "execution_count": 135,
   "metadata": {},
   "outputs": [],
   "source": [
    "df_train.set_index('date', inplace=True)\n",
    "df_test.set_index('date', inplace=True)\n",
    "df_full.set_index('date', inplace=True)"
   ]
  },
  {
   "cell_type": "code",
   "execution_count": 136,
   "metadata": {},
   "outputs": [
    {
     "data": {
      "text/html": [
       "<div>\n",
       "<style scoped>\n",
       "    .dataframe tbody tr th:only-of-type {\n",
       "        vertical-align: middle;\n",
       "    }\n",
       "\n",
       "    .dataframe tbody tr th {\n",
       "        vertical-align: top;\n",
       "    }\n",
       "\n",
       "    .dataframe thead th {\n",
       "        text-align: right;\n",
       "    }\n",
       "</style>\n",
       "<table border=\"1\" class=\"dataframe\">\n",
       "  <thead>\n",
       "    <tr style=\"text-align: right;\">\n",
       "      <th></th>\n",
       "      <th>final.output.concentrate_ag</th>\n",
       "      <th>final.output.concentrate_pb</th>\n",
       "      <th>final.output.concentrate_sol</th>\n",
       "      <th>final.output.concentrate_au</th>\n",
       "      <th>final.output.recovery</th>\n",
       "      <th>final.output.tail_ag</th>\n",
       "      <th>final.output.tail_pb</th>\n",
       "      <th>final.output.tail_sol</th>\n",
       "      <th>final.output.tail_au</th>\n",
       "      <th>primary_cleaner.input.sulfate</th>\n",
       "      <th>...</th>\n",
       "      <th>secondary_cleaner.state.floatbank4_a_air</th>\n",
       "      <th>secondary_cleaner.state.floatbank4_a_level</th>\n",
       "      <th>secondary_cleaner.state.floatbank4_b_air</th>\n",
       "      <th>secondary_cleaner.state.floatbank4_b_level</th>\n",
       "      <th>secondary_cleaner.state.floatbank5_a_air</th>\n",
       "      <th>secondary_cleaner.state.floatbank5_a_level</th>\n",
       "      <th>secondary_cleaner.state.floatbank5_b_air</th>\n",
       "      <th>secondary_cleaner.state.floatbank5_b_level</th>\n",
       "      <th>secondary_cleaner.state.floatbank6_a_air</th>\n",
       "      <th>secondary_cleaner.state.floatbank6_a_level</th>\n",
       "    </tr>\n",
       "    <tr>\n",
       "      <th>date</th>\n",
       "      <th></th>\n",
       "      <th></th>\n",
       "      <th></th>\n",
       "      <th></th>\n",
       "      <th></th>\n",
       "      <th></th>\n",
       "      <th></th>\n",
       "      <th></th>\n",
       "      <th></th>\n",
       "      <th></th>\n",
       "      <th></th>\n",
       "      <th></th>\n",
       "      <th></th>\n",
       "      <th></th>\n",
       "      <th></th>\n",
       "      <th></th>\n",
       "      <th></th>\n",
       "      <th></th>\n",
       "      <th></th>\n",
       "      <th></th>\n",
       "      <th></th>\n",
       "    </tr>\n",
       "  </thead>\n",
       "  <tbody>\n",
       "    <tr>\n",
       "      <td>2016-01-15 00:00:00</td>\n",
       "      <td>6.055403</td>\n",
       "      <td>9.889648</td>\n",
       "      <td>5.507324</td>\n",
       "      <td>42.192020</td>\n",
       "      <td>70.541216</td>\n",
       "      <td>10.411962</td>\n",
       "      <td>0.895447</td>\n",
       "      <td>16.904297</td>\n",
       "      <td>2.143149</td>\n",
       "      <td>127.092003</td>\n",
       "      <td>...</td>\n",
       "      <td>14.016835</td>\n",
       "      <td>-502.488007</td>\n",
       "      <td>12.099931</td>\n",
       "      <td>-504.715942</td>\n",
       "      <td>9.925633</td>\n",
       "      <td>-498.310211</td>\n",
       "      <td>8.079666</td>\n",
       "      <td>-500.470978</td>\n",
       "      <td>14.151341</td>\n",
       "      <td>-605.841980</td>\n",
       "    </tr>\n",
       "    <tr>\n",
       "      <td>2016-01-15 01:00:00</td>\n",
       "      <td>6.029369</td>\n",
       "      <td>9.968944</td>\n",
       "      <td>5.257781</td>\n",
       "      <td>42.701629</td>\n",
       "      <td>69.266198</td>\n",
       "      <td>10.462676</td>\n",
       "      <td>0.927452</td>\n",
       "      <td>16.634514</td>\n",
       "      <td>2.224930</td>\n",
       "      <td>125.629232</td>\n",
       "      <td>...</td>\n",
       "      <td>13.992281</td>\n",
       "      <td>-505.503262</td>\n",
       "      <td>11.950531</td>\n",
       "      <td>-501.331529</td>\n",
       "      <td>10.039245</td>\n",
       "      <td>-500.169983</td>\n",
       "      <td>7.984757</td>\n",
       "      <td>-500.582168</td>\n",
       "      <td>13.998353</td>\n",
       "      <td>-599.787184</td>\n",
       "    </tr>\n",
       "    <tr>\n",
       "      <td>2016-01-15 02:00:00</td>\n",
       "      <td>6.055926</td>\n",
       "      <td>10.213995</td>\n",
       "      <td>5.383759</td>\n",
       "      <td>42.657501</td>\n",
       "      <td>68.116445</td>\n",
       "      <td>10.507046</td>\n",
       "      <td>0.953716</td>\n",
       "      <td>16.208849</td>\n",
       "      <td>2.257889</td>\n",
       "      <td>123.819808</td>\n",
       "      <td>...</td>\n",
       "      <td>14.015015</td>\n",
       "      <td>-502.520901</td>\n",
       "      <td>11.912783</td>\n",
       "      <td>-501.133383</td>\n",
       "      <td>10.070913</td>\n",
       "      <td>-500.129135</td>\n",
       "      <td>8.013877</td>\n",
       "      <td>-500.517572</td>\n",
       "      <td>14.028663</td>\n",
       "      <td>-601.427363</td>\n",
       "    </tr>\n",
       "    <tr>\n",
       "      <td>2016-01-15 03:00:00</td>\n",
       "      <td>6.047977</td>\n",
       "      <td>9.977019</td>\n",
       "      <td>4.858634</td>\n",
       "      <td>42.689819</td>\n",
       "      <td>68.347543</td>\n",
       "      <td>10.422762</td>\n",
       "      <td>0.883763</td>\n",
       "      <td>16.532835</td>\n",
       "      <td>2.146849</td>\n",
       "      <td>122.270188</td>\n",
       "      <td>...</td>\n",
       "      <td>14.036510</td>\n",
       "      <td>-500.857308</td>\n",
       "      <td>11.999550</td>\n",
       "      <td>-501.193686</td>\n",
       "      <td>9.970366</td>\n",
       "      <td>-499.201640</td>\n",
       "      <td>7.977324</td>\n",
       "      <td>-500.255908</td>\n",
       "      <td>14.005551</td>\n",
       "      <td>-599.996129</td>\n",
       "    </tr>\n",
       "    <tr>\n",
       "      <td>2016-01-15 04:00:00</td>\n",
       "      <td>6.148599</td>\n",
       "      <td>10.142511</td>\n",
       "      <td>4.939416</td>\n",
       "      <td>42.774141</td>\n",
       "      <td>66.927016</td>\n",
       "      <td>10.360302</td>\n",
       "      <td>0.792826</td>\n",
       "      <td>16.525686</td>\n",
       "      <td>2.055292</td>\n",
       "      <td>117.988169</td>\n",
       "      <td>...</td>\n",
       "      <td>14.027298</td>\n",
       "      <td>-499.838632</td>\n",
       "      <td>11.953070</td>\n",
       "      <td>-501.053894</td>\n",
       "      <td>9.925709</td>\n",
       "      <td>-501.686727</td>\n",
       "      <td>7.894242</td>\n",
       "      <td>-500.356035</td>\n",
       "      <td>13.996647</td>\n",
       "      <td>-601.496691</td>\n",
       "    </tr>\n",
       "  </tbody>\n",
       "</table>\n",
       "<p>5 rows × 86 columns</p>\n",
       "</div>"
      ],
      "text/plain": [
       "                     final.output.concentrate_ag  final.output.concentrate_pb  \\\n",
       "date                                                                            \n",
       "2016-01-15 00:00:00                     6.055403                     9.889648   \n",
       "2016-01-15 01:00:00                     6.029369                     9.968944   \n",
       "2016-01-15 02:00:00                     6.055926                    10.213995   \n",
       "2016-01-15 03:00:00                     6.047977                     9.977019   \n",
       "2016-01-15 04:00:00                     6.148599                    10.142511   \n",
       "\n",
       "                     final.output.concentrate_sol  \\\n",
       "date                                                \n",
       "2016-01-15 00:00:00                      5.507324   \n",
       "2016-01-15 01:00:00                      5.257781   \n",
       "2016-01-15 02:00:00                      5.383759   \n",
       "2016-01-15 03:00:00                      4.858634   \n",
       "2016-01-15 04:00:00                      4.939416   \n",
       "\n",
       "                     final.output.concentrate_au  final.output.recovery  \\\n",
       "date                                                                      \n",
       "2016-01-15 00:00:00                    42.192020              70.541216   \n",
       "2016-01-15 01:00:00                    42.701629              69.266198   \n",
       "2016-01-15 02:00:00                    42.657501              68.116445   \n",
       "2016-01-15 03:00:00                    42.689819              68.347543   \n",
       "2016-01-15 04:00:00                    42.774141              66.927016   \n",
       "\n",
       "                     final.output.tail_ag  final.output.tail_pb  \\\n",
       "date                                                              \n",
       "2016-01-15 00:00:00             10.411962              0.895447   \n",
       "2016-01-15 01:00:00             10.462676              0.927452   \n",
       "2016-01-15 02:00:00             10.507046              0.953716   \n",
       "2016-01-15 03:00:00             10.422762              0.883763   \n",
       "2016-01-15 04:00:00             10.360302              0.792826   \n",
       "\n",
       "                     final.output.tail_sol  final.output.tail_au  \\\n",
       "date                                                               \n",
       "2016-01-15 00:00:00              16.904297              2.143149   \n",
       "2016-01-15 01:00:00              16.634514              2.224930   \n",
       "2016-01-15 02:00:00              16.208849              2.257889   \n",
       "2016-01-15 03:00:00              16.532835              2.146849   \n",
       "2016-01-15 04:00:00              16.525686              2.055292   \n",
       "\n",
       "                     primary_cleaner.input.sulfate  ...  \\\n",
       "date                                                ...   \n",
       "2016-01-15 00:00:00                     127.092003  ...   \n",
       "2016-01-15 01:00:00                     125.629232  ...   \n",
       "2016-01-15 02:00:00                     123.819808  ...   \n",
       "2016-01-15 03:00:00                     122.270188  ...   \n",
       "2016-01-15 04:00:00                     117.988169  ...   \n",
       "\n",
       "                     secondary_cleaner.state.floatbank4_a_air  \\\n",
       "date                                                            \n",
       "2016-01-15 00:00:00                                 14.016835   \n",
       "2016-01-15 01:00:00                                 13.992281   \n",
       "2016-01-15 02:00:00                                 14.015015   \n",
       "2016-01-15 03:00:00                                 14.036510   \n",
       "2016-01-15 04:00:00                                 14.027298   \n",
       "\n",
       "                     secondary_cleaner.state.floatbank4_a_level  \\\n",
       "date                                                              \n",
       "2016-01-15 00:00:00                                 -502.488007   \n",
       "2016-01-15 01:00:00                                 -505.503262   \n",
       "2016-01-15 02:00:00                                 -502.520901   \n",
       "2016-01-15 03:00:00                                 -500.857308   \n",
       "2016-01-15 04:00:00                                 -499.838632   \n",
       "\n",
       "                     secondary_cleaner.state.floatbank4_b_air  \\\n",
       "date                                                            \n",
       "2016-01-15 00:00:00                                 12.099931   \n",
       "2016-01-15 01:00:00                                 11.950531   \n",
       "2016-01-15 02:00:00                                 11.912783   \n",
       "2016-01-15 03:00:00                                 11.999550   \n",
       "2016-01-15 04:00:00                                 11.953070   \n",
       "\n",
       "                     secondary_cleaner.state.floatbank4_b_level  \\\n",
       "date                                                              \n",
       "2016-01-15 00:00:00                                 -504.715942   \n",
       "2016-01-15 01:00:00                                 -501.331529   \n",
       "2016-01-15 02:00:00                                 -501.133383   \n",
       "2016-01-15 03:00:00                                 -501.193686   \n",
       "2016-01-15 04:00:00                                 -501.053894   \n",
       "\n",
       "                     secondary_cleaner.state.floatbank5_a_air  \\\n",
       "date                                                            \n",
       "2016-01-15 00:00:00                                  9.925633   \n",
       "2016-01-15 01:00:00                                 10.039245   \n",
       "2016-01-15 02:00:00                                 10.070913   \n",
       "2016-01-15 03:00:00                                  9.970366   \n",
       "2016-01-15 04:00:00                                  9.925709   \n",
       "\n",
       "                     secondary_cleaner.state.floatbank5_a_level  \\\n",
       "date                                                              \n",
       "2016-01-15 00:00:00                                 -498.310211   \n",
       "2016-01-15 01:00:00                                 -500.169983   \n",
       "2016-01-15 02:00:00                                 -500.129135   \n",
       "2016-01-15 03:00:00                                 -499.201640   \n",
       "2016-01-15 04:00:00                                 -501.686727   \n",
       "\n",
       "                     secondary_cleaner.state.floatbank5_b_air  \\\n",
       "date                                                            \n",
       "2016-01-15 00:00:00                                  8.079666   \n",
       "2016-01-15 01:00:00                                  7.984757   \n",
       "2016-01-15 02:00:00                                  8.013877   \n",
       "2016-01-15 03:00:00                                  7.977324   \n",
       "2016-01-15 04:00:00                                  7.894242   \n",
       "\n",
       "                     secondary_cleaner.state.floatbank5_b_level  \\\n",
       "date                                                              \n",
       "2016-01-15 00:00:00                                 -500.470978   \n",
       "2016-01-15 01:00:00                                 -500.582168   \n",
       "2016-01-15 02:00:00                                 -500.517572   \n",
       "2016-01-15 03:00:00                                 -500.255908   \n",
       "2016-01-15 04:00:00                                 -500.356035   \n",
       "\n",
       "                     secondary_cleaner.state.floatbank6_a_air  \\\n",
       "date                                                            \n",
       "2016-01-15 00:00:00                                 14.151341   \n",
       "2016-01-15 01:00:00                                 13.998353   \n",
       "2016-01-15 02:00:00                                 14.028663   \n",
       "2016-01-15 03:00:00                                 14.005551   \n",
       "2016-01-15 04:00:00                                 13.996647   \n",
       "\n",
       "                     secondary_cleaner.state.floatbank6_a_level  \n",
       "date                                                             \n",
       "2016-01-15 00:00:00                                 -605.841980  \n",
       "2016-01-15 01:00:00                                 -599.787184  \n",
       "2016-01-15 02:00:00                                 -601.427363  \n",
       "2016-01-15 03:00:00                                 -599.996129  \n",
       "2016-01-15 04:00:00                                 -601.496691  \n",
       "\n",
       "[5 rows x 86 columns]"
      ]
     },
     "metadata": {},
     "output_type": "display_data"
    },
    {
     "data": {
      "text/html": [
       "<div>\n",
       "<style scoped>\n",
       "    .dataframe tbody tr th:only-of-type {\n",
       "        vertical-align: middle;\n",
       "    }\n",
       "\n",
       "    .dataframe tbody tr th {\n",
       "        vertical-align: top;\n",
       "    }\n",
       "\n",
       "    .dataframe thead th {\n",
       "        text-align: right;\n",
       "    }\n",
       "</style>\n",
       "<table border=\"1\" class=\"dataframe\">\n",
       "  <thead>\n",
       "    <tr style=\"text-align: right;\">\n",
       "      <th></th>\n",
       "      <th>primary_cleaner.input.sulfate</th>\n",
       "      <th>primary_cleaner.input.depressant</th>\n",
       "      <th>primary_cleaner.input.feed_size</th>\n",
       "      <th>primary_cleaner.input.xanthate</th>\n",
       "      <th>primary_cleaner.state.floatbank8_a_air</th>\n",
       "      <th>primary_cleaner.state.floatbank8_a_level</th>\n",
       "      <th>primary_cleaner.state.floatbank8_b_air</th>\n",
       "      <th>primary_cleaner.state.floatbank8_b_level</th>\n",
       "      <th>primary_cleaner.state.floatbank8_c_air</th>\n",
       "      <th>primary_cleaner.state.floatbank8_c_level</th>\n",
       "      <th>...</th>\n",
       "      <th>secondary_cleaner.state.floatbank4_a_air</th>\n",
       "      <th>secondary_cleaner.state.floatbank4_a_level</th>\n",
       "      <th>secondary_cleaner.state.floatbank4_b_air</th>\n",
       "      <th>secondary_cleaner.state.floatbank4_b_level</th>\n",
       "      <th>secondary_cleaner.state.floatbank5_a_air</th>\n",
       "      <th>secondary_cleaner.state.floatbank5_a_level</th>\n",
       "      <th>secondary_cleaner.state.floatbank5_b_air</th>\n",
       "      <th>secondary_cleaner.state.floatbank5_b_level</th>\n",
       "      <th>secondary_cleaner.state.floatbank6_a_air</th>\n",
       "      <th>secondary_cleaner.state.floatbank6_a_level</th>\n",
       "    </tr>\n",
       "    <tr>\n",
       "      <th>date</th>\n",
       "      <th></th>\n",
       "      <th></th>\n",
       "      <th></th>\n",
       "      <th></th>\n",
       "      <th></th>\n",
       "      <th></th>\n",
       "      <th></th>\n",
       "      <th></th>\n",
       "      <th></th>\n",
       "      <th></th>\n",
       "      <th></th>\n",
       "      <th></th>\n",
       "      <th></th>\n",
       "      <th></th>\n",
       "      <th></th>\n",
       "      <th></th>\n",
       "      <th></th>\n",
       "      <th></th>\n",
       "      <th></th>\n",
       "      <th></th>\n",
       "      <th></th>\n",
       "    </tr>\n",
       "  </thead>\n",
       "  <tbody>\n",
       "    <tr>\n",
       "      <td>2016-09-01 00:59:59</td>\n",
       "      <td>210.800909</td>\n",
       "      <td>14.993118</td>\n",
       "      <td>8.080000</td>\n",
       "      <td>1.005021</td>\n",
       "      <td>1398.981301</td>\n",
       "      <td>-500.225577</td>\n",
       "      <td>1399.144926</td>\n",
       "      <td>-499.919735</td>\n",
       "      <td>1400.102998</td>\n",
       "      <td>-500.704369</td>\n",
       "      <td>...</td>\n",
       "      <td>12.023554</td>\n",
       "      <td>-497.795834</td>\n",
       "      <td>8.016656</td>\n",
       "      <td>-501.289139</td>\n",
       "      <td>7.946562</td>\n",
       "      <td>-432.317850</td>\n",
       "      <td>4.872511</td>\n",
       "      <td>-500.037437</td>\n",
       "      <td>26.705889</td>\n",
       "      <td>-499.709414</td>\n",
       "    </tr>\n",
       "    <tr>\n",
       "      <td>2016-09-01 01:59:59</td>\n",
       "      <td>215.392455</td>\n",
       "      <td>14.987471</td>\n",
       "      <td>8.080000</td>\n",
       "      <td>0.990469</td>\n",
       "      <td>1398.777912</td>\n",
       "      <td>-500.057435</td>\n",
       "      <td>1398.055362</td>\n",
       "      <td>-499.778182</td>\n",
       "      <td>1396.151033</td>\n",
       "      <td>-499.240168</td>\n",
       "      <td>...</td>\n",
       "      <td>12.058140</td>\n",
       "      <td>-498.695773</td>\n",
       "      <td>8.130979</td>\n",
       "      <td>-499.634209</td>\n",
       "      <td>7.958270</td>\n",
       "      <td>-525.839648</td>\n",
       "      <td>4.878850</td>\n",
       "      <td>-500.162375</td>\n",
       "      <td>25.019940</td>\n",
       "      <td>-499.819438</td>\n",
       "    </tr>\n",
       "    <tr>\n",
       "      <td>2016-09-01 02:59:59</td>\n",
       "      <td>215.259946</td>\n",
       "      <td>12.884934</td>\n",
       "      <td>7.786667</td>\n",
       "      <td>0.996043</td>\n",
       "      <td>1398.493666</td>\n",
       "      <td>-500.868360</td>\n",
       "      <td>1398.860436</td>\n",
       "      <td>-499.764529</td>\n",
       "      <td>1398.075709</td>\n",
       "      <td>-502.151509</td>\n",
       "      <td>...</td>\n",
       "      <td>11.962366</td>\n",
       "      <td>-498.767484</td>\n",
       "      <td>8.096893</td>\n",
       "      <td>-500.827423</td>\n",
       "      <td>8.071056</td>\n",
       "      <td>-500.801673</td>\n",
       "      <td>4.905125</td>\n",
       "      <td>-499.828510</td>\n",
       "      <td>24.994862</td>\n",
       "      <td>-500.622559</td>\n",
       "    </tr>\n",
       "    <tr>\n",
       "      <td>2016-09-01 03:59:59</td>\n",
       "      <td>215.336236</td>\n",
       "      <td>12.006805</td>\n",
       "      <td>7.640000</td>\n",
       "      <td>0.863514</td>\n",
       "      <td>1399.618111</td>\n",
       "      <td>-498.863574</td>\n",
       "      <td>1397.440120</td>\n",
       "      <td>-499.211024</td>\n",
       "      <td>1400.129303</td>\n",
       "      <td>-498.355873</td>\n",
       "      <td>...</td>\n",
       "      <td>12.033091</td>\n",
       "      <td>-498.350935</td>\n",
       "      <td>8.074946</td>\n",
       "      <td>-499.474407</td>\n",
       "      <td>7.897085</td>\n",
       "      <td>-500.868509</td>\n",
       "      <td>4.931400</td>\n",
       "      <td>-499.963623</td>\n",
       "      <td>24.948919</td>\n",
       "      <td>-498.709987</td>\n",
       "    </tr>\n",
       "    <tr>\n",
       "      <td>2016-09-01 04:59:59</td>\n",
       "      <td>199.099327</td>\n",
       "      <td>10.682530</td>\n",
       "      <td>7.530000</td>\n",
       "      <td>0.805575</td>\n",
       "      <td>1401.268123</td>\n",
       "      <td>-500.808305</td>\n",
       "      <td>1398.128818</td>\n",
       "      <td>-499.504543</td>\n",
       "      <td>1402.172226</td>\n",
       "      <td>-500.810606</td>\n",
       "      <td>...</td>\n",
       "      <td>12.025367</td>\n",
       "      <td>-500.786497</td>\n",
       "      <td>8.054678</td>\n",
       "      <td>-500.397500</td>\n",
       "      <td>8.107890</td>\n",
       "      <td>-509.526725</td>\n",
       "      <td>4.957674</td>\n",
       "      <td>-500.360026</td>\n",
       "      <td>25.003331</td>\n",
       "      <td>-500.856333</td>\n",
       "    </tr>\n",
       "  </tbody>\n",
       "</table>\n",
       "<p>5 rows × 52 columns</p>\n",
       "</div>"
      ],
      "text/plain": [
       "                     primary_cleaner.input.sulfate  \\\n",
       "date                                                 \n",
       "2016-09-01 00:59:59                     210.800909   \n",
       "2016-09-01 01:59:59                     215.392455   \n",
       "2016-09-01 02:59:59                     215.259946   \n",
       "2016-09-01 03:59:59                     215.336236   \n",
       "2016-09-01 04:59:59                     199.099327   \n",
       "\n",
       "                     primary_cleaner.input.depressant  \\\n",
       "date                                                    \n",
       "2016-09-01 00:59:59                         14.993118   \n",
       "2016-09-01 01:59:59                         14.987471   \n",
       "2016-09-01 02:59:59                         12.884934   \n",
       "2016-09-01 03:59:59                         12.006805   \n",
       "2016-09-01 04:59:59                         10.682530   \n",
       "\n",
       "                     primary_cleaner.input.feed_size  \\\n",
       "date                                                   \n",
       "2016-09-01 00:59:59                         8.080000   \n",
       "2016-09-01 01:59:59                         8.080000   \n",
       "2016-09-01 02:59:59                         7.786667   \n",
       "2016-09-01 03:59:59                         7.640000   \n",
       "2016-09-01 04:59:59                         7.530000   \n",
       "\n",
       "                     primary_cleaner.input.xanthate  \\\n",
       "date                                                  \n",
       "2016-09-01 00:59:59                        1.005021   \n",
       "2016-09-01 01:59:59                        0.990469   \n",
       "2016-09-01 02:59:59                        0.996043   \n",
       "2016-09-01 03:59:59                        0.863514   \n",
       "2016-09-01 04:59:59                        0.805575   \n",
       "\n",
       "                     primary_cleaner.state.floatbank8_a_air  \\\n",
       "date                                                          \n",
       "2016-09-01 00:59:59                             1398.981301   \n",
       "2016-09-01 01:59:59                             1398.777912   \n",
       "2016-09-01 02:59:59                             1398.493666   \n",
       "2016-09-01 03:59:59                             1399.618111   \n",
       "2016-09-01 04:59:59                             1401.268123   \n",
       "\n",
       "                     primary_cleaner.state.floatbank8_a_level  \\\n",
       "date                                                            \n",
       "2016-09-01 00:59:59                               -500.225577   \n",
       "2016-09-01 01:59:59                               -500.057435   \n",
       "2016-09-01 02:59:59                               -500.868360   \n",
       "2016-09-01 03:59:59                               -498.863574   \n",
       "2016-09-01 04:59:59                               -500.808305   \n",
       "\n",
       "                     primary_cleaner.state.floatbank8_b_air  \\\n",
       "date                                                          \n",
       "2016-09-01 00:59:59                             1399.144926   \n",
       "2016-09-01 01:59:59                             1398.055362   \n",
       "2016-09-01 02:59:59                             1398.860436   \n",
       "2016-09-01 03:59:59                             1397.440120   \n",
       "2016-09-01 04:59:59                             1398.128818   \n",
       "\n",
       "                     primary_cleaner.state.floatbank8_b_level  \\\n",
       "date                                                            \n",
       "2016-09-01 00:59:59                               -499.919735   \n",
       "2016-09-01 01:59:59                               -499.778182   \n",
       "2016-09-01 02:59:59                               -499.764529   \n",
       "2016-09-01 03:59:59                               -499.211024   \n",
       "2016-09-01 04:59:59                               -499.504543   \n",
       "\n",
       "                     primary_cleaner.state.floatbank8_c_air  \\\n",
       "date                                                          \n",
       "2016-09-01 00:59:59                             1400.102998   \n",
       "2016-09-01 01:59:59                             1396.151033   \n",
       "2016-09-01 02:59:59                             1398.075709   \n",
       "2016-09-01 03:59:59                             1400.129303   \n",
       "2016-09-01 04:59:59                             1402.172226   \n",
       "\n",
       "                     primary_cleaner.state.floatbank8_c_level  ...  \\\n",
       "date                                                           ...   \n",
       "2016-09-01 00:59:59                               -500.704369  ...   \n",
       "2016-09-01 01:59:59                               -499.240168  ...   \n",
       "2016-09-01 02:59:59                               -502.151509  ...   \n",
       "2016-09-01 03:59:59                               -498.355873  ...   \n",
       "2016-09-01 04:59:59                               -500.810606  ...   \n",
       "\n",
       "                     secondary_cleaner.state.floatbank4_a_air  \\\n",
       "date                                                            \n",
       "2016-09-01 00:59:59                                 12.023554   \n",
       "2016-09-01 01:59:59                                 12.058140   \n",
       "2016-09-01 02:59:59                                 11.962366   \n",
       "2016-09-01 03:59:59                                 12.033091   \n",
       "2016-09-01 04:59:59                                 12.025367   \n",
       "\n",
       "                     secondary_cleaner.state.floatbank4_a_level  \\\n",
       "date                                                              \n",
       "2016-09-01 00:59:59                                 -497.795834   \n",
       "2016-09-01 01:59:59                                 -498.695773   \n",
       "2016-09-01 02:59:59                                 -498.767484   \n",
       "2016-09-01 03:59:59                                 -498.350935   \n",
       "2016-09-01 04:59:59                                 -500.786497   \n",
       "\n",
       "                     secondary_cleaner.state.floatbank4_b_air  \\\n",
       "date                                                            \n",
       "2016-09-01 00:59:59                                  8.016656   \n",
       "2016-09-01 01:59:59                                  8.130979   \n",
       "2016-09-01 02:59:59                                  8.096893   \n",
       "2016-09-01 03:59:59                                  8.074946   \n",
       "2016-09-01 04:59:59                                  8.054678   \n",
       "\n",
       "                     secondary_cleaner.state.floatbank4_b_level  \\\n",
       "date                                                              \n",
       "2016-09-01 00:59:59                                 -501.289139   \n",
       "2016-09-01 01:59:59                                 -499.634209   \n",
       "2016-09-01 02:59:59                                 -500.827423   \n",
       "2016-09-01 03:59:59                                 -499.474407   \n",
       "2016-09-01 04:59:59                                 -500.397500   \n",
       "\n",
       "                     secondary_cleaner.state.floatbank5_a_air  \\\n",
       "date                                                            \n",
       "2016-09-01 00:59:59                                  7.946562   \n",
       "2016-09-01 01:59:59                                  7.958270   \n",
       "2016-09-01 02:59:59                                  8.071056   \n",
       "2016-09-01 03:59:59                                  7.897085   \n",
       "2016-09-01 04:59:59                                  8.107890   \n",
       "\n",
       "                     secondary_cleaner.state.floatbank5_a_level  \\\n",
       "date                                                              \n",
       "2016-09-01 00:59:59                                 -432.317850   \n",
       "2016-09-01 01:59:59                                 -525.839648   \n",
       "2016-09-01 02:59:59                                 -500.801673   \n",
       "2016-09-01 03:59:59                                 -500.868509   \n",
       "2016-09-01 04:59:59                                 -509.526725   \n",
       "\n",
       "                     secondary_cleaner.state.floatbank5_b_air  \\\n",
       "date                                                            \n",
       "2016-09-01 00:59:59                                  4.872511   \n",
       "2016-09-01 01:59:59                                  4.878850   \n",
       "2016-09-01 02:59:59                                  4.905125   \n",
       "2016-09-01 03:59:59                                  4.931400   \n",
       "2016-09-01 04:59:59                                  4.957674   \n",
       "\n",
       "                     secondary_cleaner.state.floatbank5_b_level  \\\n",
       "date                                                              \n",
       "2016-09-01 00:59:59                                 -500.037437   \n",
       "2016-09-01 01:59:59                                 -500.162375   \n",
       "2016-09-01 02:59:59                                 -499.828510   \n",
       "2016-09-01 03:59:59                                 -499.963623   \n",
       "2016-09-01 04:59:59                                 -500.360026   \n",
       "\n",
       "                     secondary_cleaner.state.floatbank6_a_air  \\\n",
       "date                                                            \n",
       "2016-09-01 00:59:59                                 26.705889   \n",
       "2016-09-01 01:59:59                                 25.019940   \n",
       "2016-09-01 02:59:59                                 24.994862   \n",
       "2016-09-01 03:59:59                                 24.948919   \n",
       "2016-09-01 04:59:59                                 25.003331   \n",
       "\n",
       "                     secondary_cleaner.state.floatbank6_a_level  \n",
       "date                                                             \n",
       "2016-09-01 00:59:59                                 -499.709414  \n",
       "2016-09-01 01:59:59                                 -499.819438  \n",
       "2016-09-01 02:59:59                                 -500.622559  \n",
       "2016-09-01 03:59:59                                 -498.709987  \n",
       "2016-09-01 04:59:59                                 -500.856333  \n",
       "\n",
       "[5 rows x 52 columns]"
      ]
     },
     "metadata": {},
     "output_type": "display_data"
    },
    {
     "data": {
      "text/html": [
       "<div>\n",
       "<style scoped>\n",
       "    .dataframe tbody tr th:only-of-type {\n",
       "        vertical-align: middle;\n",
       "    }\n",
       "\n",
       "    .dataframe tbody tr th {\n",
       "        vertical-align: top;\n",
       "    }\n",
       "\n",
       "    .dataframe thead th {\n",
       "        text-align: right;\n",
       "    }\n",
       "</style>\n",
       "<table border=\"1\" class=\"dataframe\">\n",
       "  <thead>\n",
       "    <tr style=\"text-align: right;\">\n",
       "      <th></th>\n",
       "      <th>final.output.concentrate_ag</th>\n",
       "      <th>final.output.concentrate_pb</th>\n",
       "      <th>final.output.concentrate_sol</th>\n",
       "      <th>final.output.concentrate_au</th>\n",
       "      <th>final.output.recovery</th>\n",
       "      <th>final.output.tail_ag</th>\n",
       "      <th>final.output.tail_pb</th>\n",
       "      <th>final.output.tail_sol</th>\n",
       "      <th>final.output.tail_au</th>\n",
       "      <th>primary_cleaner.input.sulfate</th>\n",
       "      <th>...</th>\n",
       "      <th>secondary_cleaner.state.floatbank4_a_air</th>\n",
       "      <th>secondary_cleaner.state.floatbank4_a_level</th>\n",
       "      <th>secondary_cleaner.state.floatbank4_b_air</th>\n",
       "      <th>secondary_cleaner.state.floatbank4_b_level</th>\n",
       "      <th>secondary_cleaner.state.floatbank5_a_air</th>\n",
       "      <th>secondary_cleaner.state.floatbank5_a_level</th>\n",
       "      <th>secondary_cleaner.state.floatbank5_b_air</th>\n",
       "      <th>secondary_cleaner.state.floatbank5_b_level</th>\n",
       "      <th>secondary_cleaner.state.floatbank6_a_air</th>\n",
       "      <th>secondary_cleaner.state.floatbank6_a_level</th>\n",
       "    </tr>\n",
       "    <tr>\n",
       "      <th>date</th>\n",
       "      <th></th>\n",
       "      <th></th>\n",
       "      <th></th>\n",
       "      <th></th>\n",
       "      <th></th>\n",
       "      <th></th>\n",
       "      <th></th>\n",
       "      <th></th>\n",
       "      <th></th>\n",
       "      <th></th>\n",
       "      <th></th>\n",
       "      <th></th>\n",
       "      <th></th>\n",
       "      <th></th>\n",
       "      <th></th>\n",
       "      <th></th>\n",
       "      <th></th>\n",
       "      <th></th>\n",
       "      <th></th>\n",
       "      <th></th>\n",
       "      <th></th>\n",
       "    </tr>\n",
       "  </thead>\n",
       "  <tbody>\n",
       "    <tr>\n",
       "      <td>2016-01-15 00:00:00</td>\n",
       "      <td>6.055403</td>\n",
       "      <td>9.889648</td>\n",
       "      <td>5.507324</td>\n",
       "      <td>42.192020</td>\n",
       "      <td>70.541216</td>\n",
       "      <td>10.411962</td>\n",
       "      <td>0.895447</td>\n",
       "      <td>16.904297</td>\n",
       "      <td>2.143149</td>\n",
       "      <td>127.092003</td>\n",
       "      <td>...</td>\n",
       "      <td>14.016835</td>\n",
       "      <td>-502.488007</td>\n",
       "      <td>12.099931</td>\n",
       "      <td>-504.715942</td>\n",
       "      <td>9.925633</td>\n",
       "      <td>-498.310211</td>\n",
       "      <td>8.079666</td>\n",
       "      <td>-500.470978</td>\n",
       "      <td>14.151341</td>\n",
       "      <td>-605.841980</td>\n",
       "    </tr>\n",
       "    <tr>\n",
       "      <td>2016-01-15 01:00:00</td>\n",
       "      <td>6.029369</td>\n",
       "      <td>9.968944</td>\n",
       "      <td>5.257781</td>\n",
       "      <td>42.701629</td>\n",
       "      <td>69.266198</td>\n",
       "      <td>10.462676</td>\n",
       "      <td>0.927452</td>\n",
       "      <td>16.634514</td>\n",
       "      <td>2.224930</td>\n",
       "      <td>125.629232</td>\n",
       "      <td>...</td>\n",
       "      <td>13.992281</td>\n",
       "      <td>-505.503262</td>\n",
       "      <td>11.950531</td>\n",
       "      <td>-501.331529</td>\n",
       "      <td>10.039245</td>\n",
       "      <td>-500.169983</td>\n",
       "      <td>7.984757</td>\n",
       "      <td>-500.582168</td>\n",
       "      <td>13.998353</td>\n",
       "      <td>-599.787184</td>\n",
       "    </tr>\n",
       "    <tr>\n",
       "      <td>2016-01-15 02:00:00</td>\n",
       "      <td>6.055926</td>\n",
       "      <td>10.213995</td>\n",
       "      <td>5.383759</td>\n",
       "      <td>42.657501</td>\n",
       "      <td>68.116445</td>\n",
       "      <td>10.507046</td>\n",
       "      <td>0.953716</td>\n",
       "      <td>16.208849</td>\n",
       "      <td>2.257889</td>\n",
       "      <td>123.819808</td>\n",
       "      <td>...</td>\n",
       "      <td>14.015015</td>\n",
       "      <td>-502.520901</td>\n",
       "      <td>11.912783</td>\n",
       "      <td>-501.133383</td>\n",
       "      <td>10.070913</td>\n",
       "      <td>-500.129135</td>\n",
       "      <td>8.013877</td>\n",
       "      <td>-500.517572</td>\n",
       "      <td>14.028663</td>\n",
       "      <td>-601.427363</td>\n",
       "    </tr>\n",
       "    <tr>\n",
       "      <td>2016-01-15 03:00:00</td>\n",
       "      <td>6.047977</td>\n",
       "      <td>9.977019</td>\n",
       "      <td>4.858634</td>\n",
       "      <td>42.689819</td>\n",
       "      <td>68.347543</td>\n",
       "      <td>10.422762</td>\n",
       "      <td>0.883763</td>\n",
       "      <td>16.532835</td>\n",
       "      <td>2.146849</td>\n",
       "      <td>122.270188</td>\n",
       "      <td>...</td>\n",
       "      <td>14.036510</td>\n",
       "      <td>-500.857308</td>\n",
       "      <td>11.999550</td>\n",
       "      <td>-501.193686</td>\n",
       "      <td>9.970366</td>\n",
       "      <td>-499.201640</td>\n",
       "      <td>7.977324</td>\n",
       "      <td>-500.255908</td>\n",
       "      <td>14.005551</td>\n",
       "      <td>-599.996129</td>\n",
       "    </tr>\n",
       "    <tr>\n",
       "      <td>2016-01-15 04:00:00</td>\n",
       "      <td>6.148599</td>\n",
       "      <td>10.142511</td>\n",
       "      <td>4.939416</td>\n",
       "      <td>42.774141</td>\n",
       "      <td>66.927016</td>\n",
       "      <td>10.360302</td>\n",
       "      <td>0.792826</td>\n",
       "      <td>16.525686</td>\n",
       "      <td>2.055292</td>\n",
       "      <td>117.988169</td>\n",
       "      <td>...</td>\n",
       "      <td>14.027298</td>\n",
       "      <td>-499.838632</td>\n",
       "      <td>11.953070</td>\n",
       "      <td>-501.053894</td>\n",
       "      <td>9.925709</td>\n",
       "      <td>-501.686727</td>\n",
       "      <td>7.894242</td>\n",
       "      <td>-500.356035</td>\n",
       "      <td>13.996647</td>\n",
       "      <td>-601.496691</td>\n",
       "    </tr>\n",
       "  </tbody>\n",
       "</table>\n",
       "<p>5 rows × 86 columns</p>\n",
       "</div>"
      ],
      "text/plain": [
       "                     final.output.concentrate_ag  final.output.concentrate_pb  \\\n",
       "date                                                                            \n",
       "2016-01-15 00:00:00                     6.055403                     9.889648   \n",
       "2016-01-15 01:00:00                     6.029369                     9.968944   \n",
       "2016-01-15 02:00:00                     6.055926                    10.213995   \n",
       "2016-01-15 03:00:00                     6.047977                     9.977019   \n",
       "2016-01-15 04:00:00                     6.148599                    10.142511   \n",
       "\n",
       "                     final.output.concentrate_sol  \\\n",
       "date                                                \n",
       "2016-01-15 00:00:00                      5.507324   \n",
       "2016-01-15 01:00:00                      5.257781   \n",
       "2016-01-15 02:00:00                      5.383759   \n",
       "2016-01-15 03:00:00                      4.858634   \n",
       "2016-01-15 04:00:00                      4.939416   \n",
       "\n",
       "                     final.output.concentrate_au  final.output.recovery  \\\n",
       "date                                                                      \n",
       "2016-01-15 00:00:00                    42.192020              70.541216   \n",
       "2016-01-15 01:00:00                    42.701629              69.266198   \n",
       "2016-01-15 02:00:00                    42.657501              68.116445   \n",
       "2016-01-15 03:00:00                    42.689819              68.347543   \n",
       "2016-01-15 04:00:00                    42.774141              66.927016   \n",
       "\n",
       "                     final.output.tail_ag  final.output.tail_pb  \\\n",
       "date                                                              \n",
       "2016-01-15 00:00:00             10.411962              0.895447   \n",
       "2016-01-15 01:00:00             10.462676              0.927452   \n",
       "2016-01-15 02:00:00             10.507046              0.953716   \n",
       "2016-01-15 03:00:00             10.422762              0.883763   \n",
       "2016-01-15 04:00:00             10.360302              0.792826   \n",
       "\n",
       "                     final.output.tail_sol  final.output.tail_au  \\\n",
       "date                                                               \n",
       "2016-01-15 00:00:00              16.904297              2.143149   \n",
       "2016-01-15 01:00:00              16.634514              2.224930   \n",
       "2016-01-15 02:00:00              16.208849              2.257889   \n",
       "2016-01-15 03:00:00              16.532835              2.146849   \n",
       "2016-01-15 04:00:00              16.525686              2.055292   \n",
       "\n",
       "                     primary_cleaner.input.sulfate  ...  \\\n",
       "date                                                ...   \n",
       "2016-01-15 00:00:00                     127.092003  ...   \n",
       "2016-01-15 01:00:00                     125.629232  ...   \n",
       "2016-01-15 02:00:00                     123.819808  ...   \n",
       "2016-01-15 03:00:00                     122.270188  ...   \n",
       "2016-01-15 04:00:00                     117.988169  ...   \n",
       "\n",
       "                     secondary_cleaner.state.floatbank4_a_air  \\\n",
       "date                                                            \n",
       "2016-01-15 00:00:00                                 14.016835   \n",
       "2016-01-15 01:00:00                                 13.992281   \n",
       "2016-01-15 02:00:00                                 14.015015   \n",
       "2016-01-15 03:00:00                                 14.036510   \n",
       "2016-01-15 04:00:00                                 14.027298   \n",
       "\n",
       "                     secondary_cleaner.state.floatbank4_a_level  \\\n",
       "date                                                              \n",
       "2016-01-15 00:00:00                                 -502.488007   \n",
       "2016-01-15 01:00:00                                 -505.503262   \n",
       "2016-01-15 02:00:00                                 -502.520901   \n",
       "2016-01-15 03:00:00                                 -500.857308   \n",
       "2016-01-15 04:00:00                                 -499.838632   \n",
       "\n",
       "                     secondary_cleaner.state.floatbank4_b_air  \\\n",
       "date                                                            \n",
       "2016-01-15 00:00:00                                 12.099931   \n",
       "2016-01-15 01:00:00                                 11.950531   \n",
       "2016-01-15 02:00:00                                 11.912783   \n",
       "2016-01-15 03:00:00                                 11.999550   \n",
       "2016-01-15 04:00:00                                 11.953070   \n",
       "\n",
       "                     secondary_cleaner.state.floatbank4_b_level  \\\n",
       "date                                                              \n",
       "2016-01-15 00:00:00                                 -504.715942   \n",
       "2016-01-15 01:00:00                                 -501.331529   \n",
       "2016-01-15 02:00:00                                 -501.133383   \n",
       "2016-01-15 03:00:00                                 -501.193686   \n",
       "2016-01-15 04:00:00                                 -501.053894   \n",
       "\n",
       "                     secondary_cleaner.state.floatbank5_a_air  \\\n",
       "date                                                            \n",
       "2016-01-15 00:00:00                                  9.925633   \n",
       "2016-01-15 01:00:00                                 10.039245   \n",
       "2016-01-15 02:00:00                                 10.070913   \n",
       "2016-01-15 03:00:00                                  9.970366   \n",
       "2016-01-15 04:00:00                                  9.925709   \n",
       "\n",
       "                     secondary_cleaner.state.floatbank5_a_level  \\\n",
       "date                                                              \n",
       "2016-01-15 00:00:00                                 -498.310211   \n",
       "2016-01-15 01:00:00                                 -500.169983   \n",
       "2016-01-15 02:00:00                                 -500.129135   \n",
       "2016-01-15 03:00:00                                 -499.201640   \n",
       "2016-01-15 04:00:00                                 -501.686727   \n",
       "\n",
       "                     secondary_cleaner.state.floatbank5_b_air  \\\n",
       "date                                                            \n",
       "2016-01-15 00:00:00                                  8.079666   \n",
       "2016-01-15 01:00:00                                  7.984757   \n",
       "2016-01-15 02:00:00                                  8.013877   \n",
       "2016-01-15 03:00:00                                  7.977324   \n",
       "2016-01-15 04:00:00                                  7.894242   \n",
       "\n",
       "                     secondary_cleaner.state.floatbank5_b_level  \\\n",
       "date                                                              \n",
       "2016-01-15 00:00:00                                 -500.470978   \n",
       "2016-01-15 01:00:00                                 -500.582168   \n",
       "2016-01-15 02:00:00                                 -500.517572   \n",
       "2016-01-15 03:00:00                                 -500.255908   \n",
       "2016-01-15 04:00:00                                 -500.356035   \n",
       "\n",
       "                     secondary_cleaner.state.floatbank6_a_air  \\\n",
       "date                                                            \n",
       "2016-01-15 00:00:00                                 14.151341   \n",
       "2016-01-15 01:00:00                                 13.998353   \n",
       "2016-01-15 02:00:00                                 14.028663   \n",
       "2016-01-15 03:00:00                                 14.005551   \n",
       "2016-01-15 04:00:00                                 13.996647   \n",
       "\n",
       "                     secondary_cleaner.state.floatbank6_a_level  \n",
       "date                                                             \n",
       "2016-01-15 00:00:00                                 -605.841980  \n",
       "2016-01-15 01:00:00                                 -599.787184  \n",
       "2016-01-15 02:00:00                                 -601.427363  \n",
       "2016-01-15 03:00:00                                 -599.996129  \n",
       "2016-01-15 04:00:00                                 -601.496691  \n",
       "\n",
       "[5 rows x 86 columns]"
      ]
     },
     "metadata": {},
     "output_type": "display_data"
    }
   ],
   "source": [
    "# выведем первые пять строк таблиц\n",
    "display(df_train.head())\n",
    "display(df_test.head())\n",
    "display(df_full.head())"
   ]
  },
  {
   "cell_type": "code",
   "execution_count": 137,
   "metadata": {},
   "outputs": [
    {
     "name": "stdout",
     "output_type": "stream",
     "text": [
      "(14149, 86)\n",
      "(5290, 52)\n",
      "(19439, 86)\n"
     ]
    }
   ],
   "source": [
    "# посмотрим на формы датасетов\n",
    "print(df_train.shape)\n",
    "print(df_test.shape)\n",
    "print(df_full.shape)"
   ]
  },
  {
   "cell_type": "markdown",
   "metadata": {},
   "source": [
    "Выведем информацию по выборкам"
   ]
  },
  {
   "cell_type": "code",
   "execution_count": 138,
   "metadata": {},
   "outputs": [
    {
     "name": "stdout",
     "output_type": "stream",
     "text": [
      "<class 'pandas.core.frame.DataFrame'>\n",
      "DatetimeIndex: 14149 entries, 2016-01-15 00:00:00 to 2018-08-18 10:59:59\n",
      "Data columns (total 86 columns):\n",
      "final.output.concentrate_ag                           14148 non-null float64\n",
      "final.output.concentrate_pb                           14148 non-null float64\n",
      "final.output.concentrate_sol                          13938 non-null float64\n",
      "final.output.concentrate_au                           14149 non-null float64\n",
      "final.output.recovery                                 14149 non-null float64\n",
      "final.output.tail_ag                                  14149 non-null float64\n",
      "final.output.tail_pb                                  14049 non-null float64\n",
      "final.output.tail_sol                                 14144 non-null float64\n",
      "final.output.tail_au                                  14149 non-null float64\n",
      "primary_cleaner.input.sulfate                         14129 non-null float64\n",
      "primary_cleaner.input.depressant                      14117 non-null float64\n",
      "primary_cleaner.input.feed_size                       14149 non-null float64\n",
      "primary_cleaner.input.xanthate                        14049 non-null float64\n",
      "primary_cleaner.output.concentrate_ag                 14149 non-null float64\n",
      "primary_cleaner.output.concentrate_pb                 14063 non-null float64\n",
      "primary_cleaner.output.concentrate_sol                13863 non-null float64\n",
      "primary_cleaner.output.concentrate_au                 14149 non-null float64\n",
      "primary_cleaner.output.tail_ag                        14148 non-null float64\n",
      "primary_cleaner.output.tail_pb                        14134 non-null float64\n",
      "primary_cleaner.output.tail_sol                       14103 non-null float64\n",
      "primary_cleaner.output.tail_au                        14149 non-null float64\n",
      "primary_cleaner.state.floatbank8_a_air                14145 non-null float64\n",
      "primary_cleaner.state.floatbank8_a_level              14148 non-null float64\n",
      "primary_cleaner.state.floatbank8_b_air                14145 non-null float64\n",
      "primary_cleaner.state.floatbank8_b_level              14148 non-null float64\n",
      "primary_cleaner.state.floatbank8_c_air                14147 non-null float64\n",
      "primary_cleaner.state.floatbank8_c_level              14148 non-null float64\n",
      "primary_cleaner.state.floatbank8_d_air                14146 non-null float64\n",
      "primary_cleaner.state.floatbank8_d_level              14148 non-null float64\n",
      "rougher.calculation.sulfate_to_au_concentrate         14148 non-null float64\n",
      "rougher.calculation.floatbank10_sulfate_to_au_feed    14148 non-null float64\n",
      "rougher.calculation.floatbank11_sulfate_to_au_feed    14148 non-null float64\n",
      "rougher.calculation.au_pb_ratio                       14149 non-null float64\n",
      "rougher.input.feed_ag                                 14149 non-null float64\n",
      "rougher.input.feed_pb                                 14049 non-null float64\n",
      "rougher.input.feed_rate                               14141 non-null float64\n",
      "rougher.input.feed_size                               14005 non-null float64\n",
      "rougher.input.feed_sol                                14071 non-null float64\n",
      "rougher.input.feed_au                                 14149 non-null float64\n",
      "rougher.input.floatbank10_sulfate                     14120 non-null float64\n",
      "rougher.input.floatbank10_xanthate                    14141 non-null float64\n",
      "rougher.input.floatbank11_sulfate                     14113 non-null float64\n",
      "rougher.input.floatbank11_xanthate                    13721 non-null float64\n",
      "rougher.output.concentrate_ag                         14149 non-null float64\n",
      "rougher.output.concentrate_pb                         14149 non-null float64\n",
      "rougher.output.concentrate_sol                        14127 non-null float64\n",
      "rougher.output.concentrate_au                         14149 non-null float64\n",
      "rougher.output.recovery                               14149 non-null float64\n",
      "rougher.output.tail_ag                                14148 non-null float64\n",
      "rougher.output.tail_pb                                14149 non-null float64\n",
      "rougher.output.tail_sol                               14149 non-null float64\n",
      "rougher.output.tail_au                                14149 non-null float64\n",
      "rougher.state.floatbank10_a_air                       14148 non-null float64\n",
      "rougher.state.floatbank10_a_level                     14148 non-null float64\n",
      "rougher.state.floatbank10_b_air                       14148 non-null float64\n",
      "rougher.state.floatbank10_b_level                     14148 non-null float64\n",
      "rougher.state.floatbank10_c_air                       14148 non-null float64\n",
      "rougher.state.floatbank10_c_level                     14148 non-null float64\n",
      "rougher.state.floatbank10_d_air                       14149 non-null float64\n",
      "rougher.state.floatbank10_d_level                     14149 non-null float64\n",
      "rougher.state.floatbank10_e_air                       13713 non-null float64\n",
      "rougher.state.floatbank10_e_level                     14149 non-null float64\n",
      "rougher.state.floatbank10_f_air                       14149 non-null float64\n",
      "rougher.state.floatbank10_f_level                     14149 non-null float64\n",
      "secondary_cleaner.output.tail_ag                      14147 non-null float64\n",
      "secondary_cleaner.output.tail_pb                      14139 non-null float64\n",
      "secondary_cleaner.output.tail_sol                     12544 non-null float64\n",
      "secondary_cleaner.output.tail_au                      14149 non-null float64\n",
      "secondary_cleaner.state.floatbank2_a_air              13932 non-null float64\n",
      "secondary_cleaner.state.floatbank2_a_level            14148 non-null float64\n",
      "secondary_cleaner.state.floatbank2_b_air              14128 non-null float64\n",
      "secondary_cleaner.state.floatbank2_b_level            14148 non-null float64\n",
      "secondary_cleaner.state.floatbank3_a_air              14145 non-null float64\n",
      "secondary_cleaner.state.floatbank3_a_level            14148 non-null float64\n",
      "secondary_cleaner.state.floatbank3_b_air              14148 non-null float64\n",
      "secondary_cleaner.state.floatbank3_b_level            14148 non-null float64\n",
      "secondary_cleaner.state.floatbank4_a_air              14143 non-null float64\n",
      "secondary_cleaner.state.floatbank4_a_level            14148 non-null float64\n",
      "secondary_cleaner.state.floatbank4_b_air              14148 non-null float64\n",
      "secondary_cleaner.state.floatbank4_b_level            14148 non-null float64\n",
      "secondary_cleaner.state.floatbank5_a_air              14148 non-null float64\n",
      "secondary_cleaner.state.floatbank5_a_level            14148 non-null float64\n",
      "secondary_cleaner.state.floatbank5_b_air              14148 non-null float64\n",
      "secondary_cleaner.state.floatbank5_b_level            14148 non-null float64\n",
      "secondary_cleaner.state.floatbank6_a_air              14147 non-null float64\n",
      "secondary_cleaner.state.floatbank6_a_level            14148 non-null float64\n",
      "dtypes: float64(86)\n",
      "memory usage: 9.4 MB\n"
     ]
    }
   ],
   "source": [
    "# Обучающая выборка\n",
    "df_train.info()"
   ]
  },
  {
   "cell_type": "code",
   "execution_count": 139,
   "metadata": {},
   "outputs": [
    {
     "name": "stdout",
     "output_type": "stream",
     "text": [
      "<class 'pandas.core.frame.DataFrame'>\n",
      "DatetimeIndex: 5290 entries, 2016-09-01 00:59:59 to 2017-12-31 23:59:59\n",
      "Data columns (total 52 columns):\n",
      "primary_cleaner.input.sulfate                 5286 non-null float64\n",
      "primary_cleaner.input.depressant              5285 non-null float64\n",
      "primary_cleaner.input.feed_size               5290 non-null float64\n",
      "primary_cleaner.input.xanthate                5286 non-null float64\n",
      "primary_cleaner.state.floatbank8_a_air        5290 non-null float64\n",
      "primary_cleaner.state.floatbank8_a_level      5290 non-null float64\n",
      "primary_cleaner.state.floatbank8_b_air        5290 non-null float64\n",
      "primary_cleaner.state.floatbank8_b_level      5290 non-null float64\n",
      "primary_cleaner.state.floatbank8_c_air        5290 non-null float64\n",
      "primary_cleaner.state.floatbank8_c_level      5290 non-null float64\n",
      "primary_cleaner.state.floatbank8_d_air        5290 non-null float64\n",
      "primary_cleaner.state.floatbank8_d_level      5290 non-null float64\n",
      "rougher.input.feed_ag                         5290 non-null float64\n",
      "rougher.input.feed_pb                         5290 non-null float64\n",
      "rougher.input.feed_rate                       5287 non-null float64\n",
      "rougher.input.feed_size                       5289 non-null float64\n",
      "rougher.input.feed_sol                        5269 non-null float64\n",
      "rougher.input.feed_au                         5290 non-null float64\n",
      "rougher.input.floatbank10_sulfate             5285 non-null float64\n",
      "rougher.input.floatbank10_xanthate            5290 non-null float64\n",
      "rougher.input.floatbank11_sulfate             5282 non-null float64\n",
      "rougher.input.floatbank11_xanthate            5265 non-null float64\n",
      "rougher.state.floatbank10_a_air               5290 non-null float64\n",
      "rougher.state.floatbank10_a_level             5290 non-null float64\n",
      "rougher.state.floatbank10_b_air               5290 non-null float64\n",
      "rougher.state.floatbank10_b_level             5290 non-null float64\n",
      "rougher.state.floatbank10_c_air               5290 non-null float64\n",
      "rougher.state.floatbank10_c_level             5290 non-null float64\n",
      "rougher.state.floatbank10_d_air               5290 non-null float64\n",
      "rougher.state.floatbank10_d_level             5290 non-null float64\n",
      "rougher.state.floatbank10_e_air               5290 non-null float64\n",
      "rougher.state.floatbank10_e_level             5290 non-null float64\n",
      "rougher.state.floatbank10_f_air               5290 non-null float64\n",
      "rougher.state.floatbank10_f_level             5290 non-null float64\n",
      "secondary_cleaner.state.floatbank2_a_air      5287 non-null float64\n",
      "secondary_cleaner.state.floatbank2_a_level    5290 non-null float64\n",
      "secondary_cleaner.state.floatbank2_b_air      5288 non-null float64\n",
      "secondary_cleaner.state.floatbank2_b_level    5290 non-null float64\n",
      "secondary_cleaner.state.floatbank3_a_air      5281 non-null float64\n",
      "secondary_cleaner.state.floatbank3_a_level    5290 non-null float64\n",
      "secondary_cleaner.state.floatbank3_b_air      5290 non-null float64\n",
      "secondary_cleaner.state.floatbank3_b_level    5290 non-null float64\n",
      "secondary_cleaner.state.floatbank4_a_air      5290 non-null float64\n",
      "secondary_cleaner.state.floatbank4_a_level    5290 non-null float64\n",
      "secondary_cleaner.state.floatbank4_b_air      5290 non-null float64\n",
      "secondary_cleaner.state.floatbank4_b_level    5290 non-null float64\n",
      "secondary_cleaner.state.floatbank5_a_air      5290 non-null float64\n",
      "secondary_cleaner.state.floatbank5_a_level    5290 non-null float64\n",
      "secondary_cleaner.state.floatbank5_b_air      5290 non-null float64\n",
      "secondary_cleaner.state.floatbank5_b_level    5290 non-null float64\n",
      "secondary_cleaner.state.floatbank6_a_air      5290 non-null float64\n",
      "secondary_cleaner.state.floatbank6_a_level    5290 non-null float64\n",
      "dtypes: float64(52)\n",
      "memory usage: 2.1 MB\n"
     ]
    }
   ],
   "source": [
    "# Тестовая выборка\n",
    "df_test.info()"
   ]
  },
  {
   "cell_type": "code",
   "execution_count": 140,
   "metadata": {},
   "outputs": [
    {
     "name": "stdout",
     "output_type": "stream",
     "text": [
      "<class 'pandas.core.frame.DataFrame'>\n",
      "DatetimeIndex: 19439 entries, 2016-01-15 00:00:00 to 2018-08-18 10:59:59\n",
      "Data columns (total 86 columns):\n",
      "final.output.concentrate_ag                           19438 non-null float64\n",
      "final.output.concentrate_pb                           19438 non-null float64\n",
      "final.output.concentrate_sol                          19228 non-null float64\n",
      "final.output.concentrate_au                           19439 non-null float64\n",
      "final.output.recovery                                 19439 non-null float64\n",
      "final.output.tail_ag                                  19438 non-null float64\n",
      "final.output.tail_pb                                  19338 non-null float64\n",
      "final.output.tail_sol                                 19433 non-null float64\n",
      "final.output.tail_au                                  19439 non-null float64\n",
      "primary_cleaner.input.sulfate                         19415 non-null float64\n",
      "primary_cleaner.input.depressant                      19402 non-null float64\n",
      "primary_cleaner.input.feed_size                       19439 non-null float64\n",
      "primary_cleaner.input.xanthate                        19335 non-null float64\n",
      "primary_cleaner.output.concentrate_ag                 19439 non-null float64\n",
      "primary_cleaner.output.concentrate_pb                 19323 non-null float64\n",
      "primary_cleaner.output.concentrate_sol                19069 non-null float64\n",
      "primary_cleaner.output.concentrate_au                 19439 non-null float64\n",
      "primary_cleaner.output.tail_ag                        19435 non-null float64\n",
      "primary_cleaner.output.tail_pb                        19418 non-null float64\n",
      "primary_cleaner.output.tail_sol                       19377 non-null float64\n",
      "primary_cleaner.output.tail_au                        19439 non-null float64\n",
      "primary_cleaner.state.floatbank8_a_air                19435 non-null float64\n",
      "primary_cleaner.state.floatbank8_a_level              19438 non-null float64\n",
      "primary_cleaner.state.floatbank8_b_air                19435 non-null float64\n",
      "primary_cleaner.state.floatbank8_b_level              19438 non-null float64\n",
      "primary_cleaner.state.floatbank8_c_air                19437 non-null float64\n",
      "primary_cleaner.state.floatbank8_c_level              19438 non-null float64\n",
      "primary_cleaner.state.floatbank8_d_air                19436 non-null float64\n",
      "primary_cleaner.state.floatbank8_d_level              19438 non-null float64\n",
      "rougher.calculation.sulfate_to_au_concentrate         19437 non-null float64\n",
      "rougher.calculation.floatbank10_sulfate_to_au_feed    19437 non-null float64\n",
      "rougher.calculation.floatbank11_sulfate_to_au_feed    19437 non-null float64\n",
      "rougher.calculation.au_pb_ratio                       19439 non-null float64\n",
      "rougher.input.feed_ag                                 19439 non-null float64\n",
      "rougher.input.feed_pb                                 19339 non-null float64\n",
      "rougher.input.feed_rate                               19428 non-null float64\n",
      "rougher.input.feed_size                               19294 non-null float64\n",
      "rougher.input.feed_sol                                19340 non-null float64\n",
      "rougher.input.feed_au                                 19439 non-null float64\n",
      "rougher.input.floatbank10_sulfate                     19405 non-null float64\n",
      "rougher.input.floatbank10_xanthate                    19431 non-null float64\n",
      "rougher.input.floatbank11_sulfate                     19395 non-null float64\n",
      "rougher.input.floatbank11_xanthate                    18986 non-null float64\n",
      "rougher.output.concentrate_ag                         19439 non-null float64\n",
      "rougher.output.concentrate_pb                         19439 non-null float64\n",
      "rougher.output.concentrate_sol                        19416 non-null float64\n",
      "rougher.output.concentrate_au                         19439 non-null float64\n",
      "rougher.output.recovery                               19439 non-null float64\n",
      "rougher.output.tail_ag                                19438 non-null float64\n",
      "rougher.output.tail_pb                                19439 non-null float64\n",
      "rougher.output.tail_sol                               19439 non-null float64\n",
      "rougher.output.tail_au                                19439 non-null float64\n",
      "rougher.state.floatbank10_a_air                       19438 non-null float64\n",
      "rougher.state.floatbank10_a_level                     19438 non-null float64\n",
      "rougher.state.floatbank10_b_air                       19438 non-null float64\n",
      "rougher.state.floatbank10_b_level                     19438 non-null float64\n",
      "rougher.state.floatbank10_c_air                       19438 non-null float64\n",
      "rougher.state.floatbank10_c_level                     19438 non-null float64\n",
      "rougher.state.floatbank10_d_air                       19439 non-null float64\n",
      "rougher.state.floatbank10_d_level                     19439 non-null float64\n",
      "rougher.state.floatbank10_e_air                       19003 non-null float64\n",
      "rougher.state.floatbank10_e_level                     19439 non-null float64\n",
      "rougher.state.floatbank10_f_air                       19439 non-null float64\n",
      "rougher.state.floatbank10_f_level                     19439 non-null float64\n",
      "secondary_cleaner.output.tail_ag                      19437 non-null float64\n",
      "secondary_cleaner.output.tail_pb                      19427 non-null float64\n",
      "secondary_cleaner.output.tail_sol                     17691 non-null float64\n",
      "secondary_cleaner.output.tail_au                      19439 non-null float64\n",
      "secondary_cleaner.state.floatbank2_a_air              19219 non-null float64\n",
      "secondary_cleaner.state.floatbank2_a_level            19438 non-null float64\n",
      "secondary_cleaner.state.floatbank2_b_air              19416 non-null float64\n",
      "secondary_cleaner.state.floatbank2_b_level            19438 non-null float64\n",
      "secondary_cleaner.state.floatbank3_a_air              19426 non-null float64\n",
      "secondary_cleaner.state.floatbank3_a_level            19438 non-null float64\n",
      "secondary_cleaner.state.floatbank3_b_air              19438 non-null float64\n",
      "secondary_cleaner.state.floatbank3_b_level            19438 non-null float64\n",
      "secondary_cleaner.state.floatbank4_a_air              19433 non-null float64\n",
      "secondary_cleaner.state.floatbank4_a_level            19438 non-null float64\n",
      "secondary_cleaner.state.floatbank4_b_air              19438 non-null float64\n",
      "secondary_cleaner.state.floatbank4_b_level            19438 non-null float64\n",
      "secondary_cleaner.state.floatbank5_a_air              19438 non-null float64\n",
      "secondary_cleaner.state.floatbank5_a_level            19438 non-null float64\n",
      "secondary_cleaner.state.floatbank5_b_air              19438 non-null float64\n",
      "secondary_cleaner.state.floatbank5_b_level            19438 non-null float64\n",
      "secondary_cleaner.state.floatbank6_a_air              19437 non-null float64\n",
      "secondary_cleaner.state.floatbank6_a_level            19438 non-null float64\n",
      "dtypes: float64(86)\n",
      "memory usage: 12.9 MB\n"
     ]
    }
   ],
   "source": [
    "# Исходные данные\n",
    "df_full.info()"
   ]
  },
  {
   "cell_type": "markdown",
   "metadata": {},
   "source": [
    "Как видим в тестовой выборке данных меньше, а также в датасетах присутствуют пропущенные значения."
   ]
  },
  {
   "cell_type": "markdown",
   "metadata": {},
   "source": [
    "### Анализ признаков, недоступных в тестовой выборке"
   ]
  },
  {
   "cell_type": "markdown",
   "metadata": {},
   "source": [
    "Проанализируем признаки, недоступные в тестовой выборке. Для этого создадим новый список и сохраним в нем признаки которых нет в тестовой выборке. Вычтем из признаков обучающей выборки признаки тестовой выборки, это и будет список признаков, недосупных в тестовой выборке."
   ]
  },
  {
   "cell_type": "code",
   "execution_count": 141,
   "metadata": {},
   "outputs": [
    {
     "data": {
      "text/plain": [
       "['rougher.output.tail_sol',\n",
       " 'primary_cleaner.output.tail_pb',\n",
       " 'secondary_cleaner.output.tail_pb',\n",
       " 'primary_cleaner.output.tail_au',\n",
       " 'rougher.output.tail_ag',\n",
       " 'final.output.recovery',\n",
       " 'final.output.tail_au',\n",
       " 'rougher.output.tail_au',\n",
       " 'rougher.output.recovery',\n",
       " 'final.output.concentrate_ag',\n",
       " 'secondary_cleaner.output.tail_sol',\n",
       " 'final.output.tail_ag',\n",
       " 'primary_cleaner.output.tail_sol',\n",
       " 'primary_cleaner.output.tail_ag',\n",
       " 'secondary_cleaner.output.tail_au',\n",
       " 'final.output.tail_sol',\n",
       " 'rougher.output.concentrate_ag',\n",
       " 'primary_cleaner.output.concentrate_ag',\n",
       " 'rougher.output.concentrate_au',\n",
       " 'secondary_cleaner.output.tail_ag',\n",
       " 'final.output.concentrate_pb',\n",
       " 'rougher.output.concentrate_sol',\n",
       " 'rougher.calculation.floatbank11_sulfate_to_au_feed',\n",
       " 'final.output.tail_pb',\n",
       " 'rougher.calculation.au_pb_ratio',\n",
       " 'rougher.output.tail_pb',\n",
       " 'primary_cleaner.output.concentrate_sol',\n",
       " 'rougher.calculation.floatbank10_sulfate_to_au_feed',\n",
       " 'rougher.calculation.sulfate_to_au_concentrate',\n",
       " 'rougher.output.concentrate_pb',\n",
       " 'primary_cleaner.output.concentrate_au',\n",
       " 'final.output.concentrate_sol',\n",
       " 'final.output.concentrate_au',\n",
       " 'primary_cleaner.output.concentrate_pb']"
      ]
     },
     "execution_count": 141,
     "metadata": {},
     "output_type": "execute_result"
    }
   ],
   "source": [
    "feature_sheet = list(set(df_train.columns.values.tolist())-set(df_test.columns.values.tolist()))\n",
    "# выведем список признаков, недоступных в тестовой выборке\n",
    "feature_sheet"
   ]
  },
  {
   "cell_type": "markdown",
   "metadata": {},
   "source": [
    "Как видим, в тестовой выборке отсутствуют значения итоговых и промежуточных данных. Присутствуют значения и характеристики продукта в процессе обработки и на входе."
   ]
  },
  {
   "cell_type": "markdown",
   "metadata": {},
   "source": [
    "### Проверка формулы вычисления эффективности обогащения"
   ]
  },
  {
   "cell_type": "markdown",
   "metadata": {},
   "source": [
    "Проверим, что эффективность обогащения рассчитана правильно. Вычислим её на обучающей выборке для признака `rougher.output.recovery`. Найдем `MAE` между полученными расчётами и значением признака."
   ]
  },
  {
   "cell_type": "markdown",
   "metadata": {},
   "source": [
    "Из задания нам известно, что эффективность обогащения рассчитывается по формуле:\n",
    "\n",
    "**recovery = ( (C*(F-T)) / (F*(C-T)) ) * 100**\n",
    "\n",
    "где:\n",
    "\n",
    "* C — доля золота в концентрате после флотации/очистки\n",
    "* F — доля золота в сырье/концентрате до флотации/очистки\n",
    "* T — доля золота в отвальных хвостах после флотации/очистки"
   ]
  },
  {
   "cell_type": "markdown",
   "metadata": {},
   "source": [
    "Напишем для нашей формулы функцию:"
   ]
  },
  {
   "cell_type": "code",
   "execution_count": 142,
   "metadata": {},
   "outputs": [],
   "source": [
    "def recovery(C, F, T):\n",
    "    '''\n",
    "    Функция рассчитывает и возвращает эффективность обогащения.\n",
    "    C — доля золота в концентрате после флотации/очистки;\n",
    "    F — доля золота в сырье/концентрате до флотации/очистки;\n",
    "    T — доля золота в отвальных хвостах после флотации/очистки.\n",
    "    '''\n",
    "    recovery = ((C*(F-T))/(F*(C-T))) * 100\n",
    "    return recovery"
   ]
  },
  {
   "cell_type": "markdown",
   "metadata": {},
   "source": [
    "Как выяснилось в дальнейшем, чтобы корректно посчитать `mean_absolute_error` нам необходимо сначала избавиться от `NaN` в данных. Для проверки формулы оставим только нужные для этого признаки."
   ]
  },
  {
   "cell_type": "code",
   "execution_count": 143,
   "metadata": {},
   "outputs": [],
   "source": [
    "formula_check = df_train[['rougher.output.concentrate_au',\n",
    "                          'rougher.input.feed_au',\n",
    "                          'rougher.output.tail_au',\n",
    "                          'rougher.output.recovery']].dropna(axis = 0)"
   ]
  },
  {
   "cell_type": "code",
   "execution_count": 144,
   "metadata": {},
   "outputs": [
    {
     "data": {
      "text/html": [
       "<div>\n",
       "<style scoped>\n",
       "    .dataframe tbody tr th:only-of-type {\n",
       "        vertical-align: middle;\n",
       "    }\n",
       "\n",
       "    .dataframe tbody tr th {\n",
       "        vertical-align: top;\n",
       "    }\n",
       "\n",
       "    .dataframe thead th {\n",
       "        text-align: right;\n",
       "    }\n",
       "</style>\n",
       "<table border=\"1\" class=\"dataframe\">\n",
       "  <thead>\n",
       "    <tr style=\"text-align: right;\">\n",
       "      <th></th>\n",
       "      <th>rougher.output.concentrate_au</th>\n",
       "      <th>rougher.input.feed_au</th>\n",
       "      <th>rougher.output.tail_au</th>\n",
       "      <th>rougher.output.recovery</th>\n",
       "    </tr>\n",
       "    <tr>\n",
       "      <th>date</th>\n",
       "      <th></th>\n",
       "      <th></th>\n",
       "      <th></th>\n",
       "      <th></th>\n",
       "    </tr>\n",
       "  </thead>\n",
       "  <tbody>\n",
       "    <tr>\n",
       "      <td>2016-01-15 00:00:00</td>\n",
       "      <td>19.793808</td>\n",
       "      <td>6.486150</td>\n",
       "      <td>1.170244</td>\n",
       "      <td>87.107763</td>\n",
       "    </tr>\n",
       "    <tr>\n",
       "      <td>2016-01-15 01:00:00</td>\n",
       "      <td>20.050975</td>\n",
       "      <td>6.478583</td>\n",
       "      <td>1.184827</td>\n",
       "      <td>86.843261</td>\n",
       "    </tr>\n",
       "    <tr>\n",
       "      <td>2016-01-15 02:00:00</td>\n",
       "      <td>19.737170</td>\n",
       "      <td>6.362222</td>\n",
       "      <td>1.162562</td>\n",
       "      <td>86.842308</td>\n",
       "    </tr>\n",
       "    <tr>\n",
       "      <td>2016-01-15 03:00:00</td>\n",
       "      <td>19.320810</td>\n",
       "      <td>6.118189</td>\n",
       "      <td>1.079755</td>\n",
       "      <td>87.226430</td>\n",
       "    </tr>\n",
       "    <tr>\n",
       "      <td>2016-01-15 04:00:00</td>\n",
       "      <td>19.216101</td>\n",
       "      <td>5.663707</td>\n",
       "      <td>1.012642</td>\n",
       "      <td>86.688794</td>\n",
       "    </tr>\n",
       "  </tbody>\n",
       "</table>\n",
       "</div>"
      ],
      "text/plain": [
       "                     rougher.output.concentrate_au  rougher.input.feed_au  \\\n",
       "date                                                                        \n",
       "2016-01-15 00:00:00                      19.793808               6.486150   \n",
       "2016-01-15 01:00:00                      20.050975               6.478583   \n",
       "2016-01-15 02:00:00                      19.737170               6.362222   \n",
       "2016-01-15 03:00:00                      19.320810               6.118189   \n",
       "2016-01-15 04:00:00                      19.216101               5.663707   \n",
       "\n",
       "                     rougher.output.tail_au  rougher.output.recovery  \n",
       "date                                                                  \n",
       "2016-01-15 00:00:00                1.170244                87.107763  \n",
       "2016-01-15 01:00:00                1.184827                86.843261  \n",
       "2016-01-15 02:00:00                1.162562                86.842308  \n",
       "2016-01-15 03:00:00                1.079755                87.226430  \n",
       "2016-01-15 04:00:00                1.012642                86.688794  "
      ]
     },
     "execution_count": 144,
     "metadata": {},
     "output_type": "execute_result"
    }
   ],
   "source": [
    "# посмотрим что получилось\n",
    "formula_check.head()"
   ]
  },
  {
   "cell_type": "markdown",
   "metadata": {},
   "source": [
    "Для наших аргументов функции создадим переменные, чтобы использовать их в дальнейшем расчете:"
   ]
  },
  {
   "cell_type": "code",
   "execution_count": 145,
   "metadata": {},
   "outputs": [],
   "source": [
    "# доля золота в концентрате после флотации/очистки\n",
    "C = formula_check['rougher.output.concentrate_au']\n",
    "\n",
    "# доля золота в сырье/концентрате до флотации/очистки\n",
    "F = formula_check['rougher.input.feed_au']\n",
    "                  \n",
    "# доля золота в отвальных хвостах после флотации/очистки\n",
    "T = formula_check['rougher.output.tail_au']"
   ]
  },
  {
   "cell_type": "markdown",
   "metadata": {},
   "source": [
    "Создадим новый столбец и запишем в него результат вычисления нашей формулы расчета эффективности обогащения:"
   ]
  },
  {
   "cell_type": "code",
   "execution_count": 146,
   "metadata": {},
   "outputs": [],
   "source": [
    "formula_check['recovery'] = recovery(C, F, T)"
   ]
  },
  {
   "cell_type": "code",
   "execution_count": 147,
   "metadata": {},
   "outputs": [
    {
     "data": {
      "text/html": [
       "<div>\n",
       "<style scoped>\n",
       "    .dataframe tbody tr th:only-of-type {\n",
       "        vertical-align: middle;\n",
       "    }\n",
       "\n",
       "    .dataframe tbody tr th {\n",
       "        vertical-align: top;\n",
       "    }\n",
       "\n",
       "    .dataframe thead th {\n",
       "        text-align: right;\n",
       "    }\n",
       "</style>\n",
       "<table border=\"1\" class=\"dataframe\">\n",
       "  <thead>\n",
       "    <tr style=\"text-align: right;\">\n",
       "      <th></th>\n",
       "      <th>rougher.output.concentrate_au</th>\n",
       "      <th>rougher.input.feed_au</th>\n",
       "      <th>rougher.output.tail_au</th>\n",
       "      <th>rougher.output.recovery</th>\n",
       "      <th>recovery</th>\n",
       "    </tr>\n",
       "    <tr>\n",
       "      <th>date</th>\n",
       "      <th></th>\n",
       "      <th></th>\n",
       "      <th></th>\n",
       "      <th></th>\n",
       "      <th></th>\n",
       "    </tr>\n",
       "  </thead>\n",
       "  <tbody>\n",
       "    <tr>\n",
       "      <td>2016-01-15 00:00:00</td>\n",
       "      <td>19.793808</td>\n",
       "      <td>6.486150</td>\n",
       "      <td>1.170244</td>\n",
       "      <td>87.107763</td>\n",
       "      <td>87.107763</td>\n",
       "    </tr>\n",
       "    <tr>\n",
       "      <td>2016-01-15 01:00:00</td>\n",
       "      <td>20.050975</td>\n",
       "      <td>6.478583</td>\n",
       "      <td>1.184827</td>\n",
       "      <td>86.843261</td>\n",
       "      <td>86.843261</td>\n",
       "    </tr>\n",
       "    <tr>\n",
       "      <td>2016-01-15 02:00:00</td>\n",
       "      <td>19.737170</td>\n",
       "      <td>6.362222</td>\n",
       "      <td>1.162562</td>\n",
       "      <td>86.842308</td>\n",
       "      <td>86.842308</td>\n",
       "    </tr>\n",
       "    <tr>\n",
       "      <td>2016-01-15 03:00:00</td>\n",
       "      <td>19.320810</td>\n",
       "      <td>6.118189</td>\n",
       "      <td>1.079755</td>\n",
       "      <td>87.226430</td>\n",
       "      <td>87.226430</td>\n",
       "    </tr>\n",
       "    <tr>\n",
       "      <td>2016-01-15 04:00:00</td>\n",
       "      <td>19.216101</td>\n",
       "      <td>5.663707</td>\n",
       "      <td>1.012642</td>\n",
       "      <td>86.688794</td>\n",
       "      <td>86.688794</td>\n",
       "    </tr>\n",
       "  </tbody>\n",
       "</table>\n",
       "</div>"
      ],
      "text/plain": [
       "                     rougher.output.concentrate_au  rougher.input.feed_au  \\\n",
       "date                                                                        \n",
       "2016-01-15 00:00:00                      19.793808               6.486150   \n",
       "2016-01-15 01:00:00                      20.050975               6.478583   \n",
       "2016-01-15 02:00:00                      19.737170               6.362222   \n",
       "2016-01-15 03:00:00                      19.320810               6.118189   \n",
       "2016-01-15 04:00:00                      19.216101               5.663707   \n",
       "\n",
       "                     rougher.output.tail_au  rougher.output.recovery  \\\n",
       "date                                                                   \n",
       "2016-01-15 00:00:00                1.170244                87.107763   \n",
       "2016-01-15 01:00:00                1.184827                86.843261   \n",
       "2016-01-15 02:00:00                1.162562                86.842308   \n",
       "2016-01-15 03:00:00                1.079755                87.226430   \n",
       "2016-01-15 04:00:00                1.012642                86.688794   \n",
       "\n",
       "                      recovery  \n",
       "date                            \n",
       "2016-01-15 00:00:00  87.107763  \n",
       "2016-01-15 01:00:00  86.843261  \n",
       "2016-01-15 02:00:00  86.842308  \n",
       "2016-01-15 03:00:00  87.226430  \n",
       "2016-01-15 04:00:00  86.688794  "
      ]
     },
     "execution_count": 147,
     "metadata": {},
     "output_type": "execute_result"
    }
   ],
   "source": [
    "# посмотрим на результат\n",
    "formula_check.head()"
   ]
  },
  {
   "cell_type": "markdown",
   "metadata": {},
   "source": [
    "Как видим рассчитанные нами значения **`recovery`** полностью совпадают с **`rougher.output.recovery`**. Осталось найти **`MAE`** между полученными нами расчётами и значением признака."
   ]
  },
  {
   "cell_type": "code",
   "execution_count": 148,
   "metadata": {},
   "outputs": [
    {
     "name": "stdout",
     "output_type": "stream",
     "text": [
      "Среднее значение абсолютных отклонений равно:  9.682896147825551e-15\n"
     ]
    }
   ],
   "source": [
    "print('Среднее значение абсолютных отклонений равно: ', \n",
    "      mean_absolute_error(formula_check['rougher.output.recovery'], formula_check['recovery']))"
   ]
  },
  {
   "cell_type": "markdown",
   "metadata": {},
   "source": [
    "**Вывод**\n",
    "\n",
    "По такому мальнькому значению `МАЕ` и сопоставлению между полученными нами расчётами и значением признака можно сказать, что эффективность обогащения рассчитана **правильно!**"
   ]
  },
  {
   "cell_type": "markdown",
   "metadata": {},
   "source": [
    "### Предобработка данных"
   ]
  },
  {
   "cell_type": "markdown",
   "metadata": {},
   "source": [
    "#### Обучающая выборка"
   ]
  },
  {
   "cell_type": "markdown",
   "metadata": {},
   "source": [
    "Предобработаем обучающую выборку с необходимыми для дальнейшего использования признаками."
   ]
  },
  {
   "cell_type": "code",
   "execution_count": 149,
   "metadata": {},
   "outputs": [],
   "source": [
    "# Используем генератор списков List Comprehension для создания нового списка train_list\n",
    "# с необходимыми нам признаками, для этого используем созданный нами ранее список признаков feature_sheet\n",
    "train_list = [col for col in df_train.columns if col not in feature_sheet]\n",
    "\n",
    "# также добавим в лист целевые признаки\n",
    "train_list.append('rougher.output.recovery')\n",
    "train_list.append('final.output.recovery')"
   ]
  },
  {
   "cell_type": "markdown",
   "metadata": {},
   "source": [
    "Теперь мы имеем список необходимых нам признаков для обучающей выборки."
   ]
  },
  {
   "cell_type": "code",
   "execution_count": 150,
   "metadata": {},
   "outputs": [],
   "source": [
    "# применим новый список к обучающей выборке, оставив необходимые нам признаки\n",
    "df_train = df_train[train_list]"
   ]
  },
  {
   "cell_type": "code",
   "execution_count": 151,
   "metadata": {},
   "outputs": [
    {
     "data": {
      "text/html": [
       "<div>\n",
       "<style scoped>\n",
       "    .dataframe tbody tr th:only-of-type {\n",
       "        vertical-align: middle;\n",
       "    }\n",
       "\n",
       "    .dataframe tbody tr th {\n",
       "        vertical-align: top;\n",
       "    }\n",
       "\n",
       "    .dataframe thead th {\n",
       "        text-align: right;\n",
       "    }\n",
       "</style>\n",
       "<table border=\"1\" class=\"dataframe\">\n",
       "  <thead>\n",
       "    <tr style=\"text-align: right;\">\n",
       "      <th></th>\n",
       "      <th>primary_cleaner.input.sulfate</th>\n",
       "      <th>primary_cleaner.input.depressant</th>\n",
       "      <th>primary_cleaner.input.feed_size</th>\n",
       "      <th>primary_cleaner.input.xanthate</th>\n",
       "      <th>primary_cleaner.state.floatbank8_a_air</th>\n",
       "      <th>primary_cleaner.state.floatbank8_a_level</th>\n",
       "      <th>primary_cleaner.state.floatbank8_b_air</th>\n",
       "      <th>primary_cleaner.state.floatbank8_b_level</th>\n",
       "      <th>primary_cleaner.state.floatbank8_c_air</th>\n",
       "      <th>primary_cleaner.state.floatbank8_c_level</th>\n",
       "      <th>...</th>\n",
       "      <th>secondary_cleaner.state.floatbank4_b_air</th>\n",
       "      <th>secondary_cleaner.state.floatbank4_b_level</th>\n",
       "      <th>secondary_cleaner.state.floatbank5_a_air</th>\n",
       "      <th>secondary_cleaner.state.floatbank5_a_level</th>\n",
       "      <th>secondary_cleaner.state.floatbank5_b_air</th>\n",
       "      <th>secondary_cleaner.state.floatbank5_b_level</th>\n",
       "      <th>secondary_cleaner.state.floatbank6_a_air</th>\n",
       "      <th>secondary_cleaner.state.floatbank6_a_level</th>\n",
       "      <th>rougher.output.recovery</th>\n",
       "      <th>final.output.recovery</th>\n",
       "    </tr>\n",
       "    <tr>\n",
       "      <th>date</th>\n",
       "      <th></th>\n",
       "      <th></th>\n",
       "      <th></th>\n",
       "      <th></th>\n",
       "      <th></th>\n",
       "      <th></th>\n",
       "      <th></th>\n",
       "      <th></th>\n",
       "      <th></th>\n",
       "      <th></th>\n",
       "      <th></th>\n",
       "      <th></th>\n",
       "      <th></th>\n",
       "      <th></th>\n",
       "      <th></th>\n",
       "      <th></th>\n",
       "      <th></th>\n",
       "      <th></th>\n",
       "      <th></th>\n",
       "      <th></th>\n",
       "      <th></th>\n",
       "    </tr>\n",
       "  </thead>\n",
       "  <tbody>\n",
       "    <tr>\n",
       "      <td>2016-01-15 00:00:00</td>\n",
       "      <td>127.092003</td>\n",
       "      <td>10.128295</td>\n",
       "      <td>7.25</td>\n",
       "      <td>0.988759</td>\n",
       "      <td>1549.775757</td>\n",
       "      <td>-498.912140</td>\n",
       "      <td>1551.434204</td>\n",
       "      <td>-516.403442</td>\n",
       "      <td>1549.873901</td>\n",
       "      <td>-498.666595</td>\n",
       "      <td>...</td>\n",
       "      <td>12.099931</td>\n",
       "      <td>-504.715942</td>\n",
       "      <td>9.925633</td>\n",
       "      <td>-498.310211</td>\n",
       "      <td>8.079666</td>\n",
       "      <td>-500.470978</td>\n",
       "      <td>14.151341</td>\n",
       "      <td>-605.841980</td>\n",
       "      <td>87.107763</td>\n",
       "      <td>70.541216</td>\n",
       "    </tr>\n",
       "    <tr>\n",
       "      <td>2016-01-15 01:00:00</td>\n",
       "      <td>125.629232</td>\n",
       "      <td>10.296251</td>\n",
       "      <td>7.25</td>\n",
       "      <td>1.002663</td>\n",
       "      <td>1576.166671</td>\n",
       "      <td>-500.904965</td>\n",
       "      <td>1575.950626</td>\n",
       "      <td>-499.865889</td>\n",
       "      <td>1575.994189</td>\n",
       "      <td>-499.315107</td>\n",
       "      <td>...</td>\n",
       "      <td>11.950531</td>\n",
       "      <td>-501.331529</td>\n",
       "      <td>10.039245</td>\n",
       "      <td>-500.169983</td>\n",
       "      <td>7.984757</td>\n",
       "      <td>-500.582168</td>\n",
       "      <td>13.998353</td>\n",
       "      <td>-599.787184</td>\n",
       "      <td>86.843261</td>\n",
       "      <td>69.266198</td>\n",
       "    </tr>\n",
       "    <tr>\n",
       "      <td>2016-01-15 02:00:00</td>\n",
       "      <td>123.819808</td>\n",
       "      <td>11.316280</td>\n",
       "      <td>7.25</td>\n",
       "      <td>0.991265</td>\n",
       "      <td>1601.556163</td>\n",
       "      <td>-499.997791</td>\n",
       "      <td>1600.386685</td>\n",
       "      <td>-500.607762</td>\n",
       "      <td>1602.003542</td>\n",
       "      <td>-500.870069</td>\n",
       "      <td>...</td>\n",
       "      <td>11.912783</td>\n",
       "      <td>-501.133383</td>\n",
       "      <td>10.070913</td>\n",
       "      <td>-500.129135</td>\n",
       "      <td>8.013877</td>\n",
       "      <td>-500.517572</td>\n",
       "      <td>14.028663</td>\n",
       "      <td>-601.427363</td>\n",
       "      <td>86.842308</td>\n",
       "      <td>68.116445</td>\n",
       "    </tr>\n",
       "    <tr>\n",
       "      <td>2016-01-15 03:00:00</td>\n",
       "      <td>122.270188</td>\n",
       "      <td>11.322140</td>\n",
       "      <td>7.25</td>\n",
       "      <td>0.996739</td>\n",
       "      <td>1599.968720</td>\n",
       "      <td>-500.951778</td>\n",
       "      <td>1600.659236</td>\n",
       "      <td>-499.677094</td>\n",
       "      <td>1600.304144</td>\n",
       "      <td>-500.727997</td>\n",
       "      <td>...</td>\n",
       "      <td>11.999550</td>\n",
       "      <td>-501.193686</td>\n",
       "      <td>9.970366</td>\n",
       "      <td>-499.201640</td>\n",
       "      <td>7.977324</td>\n",
       "      <td>-500.255908</td>\n",
       "      <td>14.005551</td>\n",
       "      <td>-599.996129</td>\n",
       "      <td>87.226430</td>\n",
       "      <td>68.347543</td>\n",
       "    </tr>\n",
       "    <tr>\n",
       "      <td>2016-01-15 04:00:00</td>\n",
       "      <td>117.988169</td>\n",
       "      <td>11.913613</td>\n",
       "      <td>7.25</td>\n",
       "      <td>1.009869</td>\n",
       "      <td>1601.339707</td>\n",
       "      <td>-498.975456</td>\n",
       "      <td>1601.437854</td>\n",
       "      <td>-500.323246</td>\n",
       "      <td>1599.581894</td>\n",
       "      <td>-500.888152</td>\n",
       "      <td>...</td>\n",
       "      <td>11.953070</td>\n",
       "      <td>-501.053894</td>\n",
       "      <td>9.925709</td>\n",
       "      <td>-501.686727</td>\n",
       "      <td>7.894242</td>\n",
       "      <td>-500.356035</td>\n",
       "      <td>13.996647</td>\n",
       "      <td>-601.496691</td>\n",
       "      <td>86.688794</td>\n",
       "      <td>66.927016</td>\n",
       "    </tr>\n",
       "  </tbody>\n",
       "</table>\n",
       "<p>5 rows × 54 columns</p>\n",
       "</div>"
      ],
      "text/plain": [
       "                     primary_cleaner.input.sulfate  \\\n",
       "date                                                 \n",
       "2016-01-15 00:00:00                     127.092003   \n",
       "2016-01-15 01:00:00                     125.629232   \n",
       "2016-01-15 02:00:00                     123.819808   \n",
       "2016-01-15 03:00:00                     122.270188   \n",
       "2016-01-15 04:00:00                     117.988169   \n",
       "\n",
       "                     primary_cleaner.input.depressant  \\\n",
       "date                                                    \n",
       "2016-01-15 00:00:00                         10.128295   \n",
       "2016-01-15 01:00:00                         10.296251   \n",
       "2016-01-15 02:00:00                         11.316280   \n",
       "2016-01-15 03:00:00                         11.322140   \n",
       "2016-01-15 04:00:00                         11.913613   \n",
       "\n",
       "                     primary_cleaner.input.feed_size  \\\n",
       "date                                                   \n",
       "2016-01-15 00:00:00                             7.25   \n",
       "2016-01-15 01:00:00                             7.25   \n",
       "2016-01-15 02:00:00                             7.25   \n",
       "2016-01-15 03:00:00                             7.25   \n",
       "2016-01-15 04:00:00                             7.25   \n",
       "\n",
       "                     primary_cleaner.input.xanthate  \\\n",
       "date                                                  \n",
       "2016-01-15 00:00:00                        0.988759   \n",
       "2016-01-15 01:00:00                        1.002663   \n",
       "2016-01-15 02:00:00                        0.991265   \n",
       "2016-01-15 03:00:00                        0.996739   \n",
       "2016-01-15 04:00:00                        1.009869   \n",
       "\n",
       "                     primary_cleaner.state.floatbank8_a_air  \\\n",
       "date                                                          \n",
       "2016-01-15 00:00:00                             1549.775757   \n",
       "2016-01-15 01:00:00                             1576.166671   \n",
       "2016-01-15 02:00:00                             1601.556163   \n",
       "2016-01-15 03:00:00                             1599.968720   \n",
       "2016-01-15 04:00:00                             1601.339707   \n",
       "\n",
       "                     primary_cleaner.state.floatbank8_a_level  \\\n",
       "date                                                            \n",
       "2016-01-15 00:00:00                               -498.912140   \n",
       "2016-01-15 01:00:00                               -500.904965   \n",
       "2016-01-15 02:00:00                               -499.997791   \n",
       "2016-01-15 03:00:00                               -500.951778   \n",
       "2016-01-15 04:00:00                               -498.975456   \n",
       "\n",
       "                     primary_cleaner.state.floatbank8_b_air  \\\n",
       "date                                                          \n",
       "2016-01-15 00:00:00                             1551.434204   \n",
       "2016-01-15 01:00:00                             1575.950626   \n",
       "2016-01-15 02:00:00                             1600.386685   \n",
       "2016-01-15 03:00:00                             1600.659236   \n",
       "2016-01-15 04:00:00                             1601.437854   \n",
       "\n",
       "                     primary_cleaner.state.floatbank8_b_level  \\\n",
       "date                                                            \n",
       "2016-01-15 00:00:00                               -516.403442   \n",
       "2016-01-15 01:00:00                               -499.865889   \n",
       "2016-01-15 02:00:00                               -500.607762   \n",
       "2016-01-15 03:00:00                               -499.677094   \n",
       "2016-01-15 04:00:00                               -500.323246   \n",
       "\n",
       "                     primary_cleaner.state.floatbank8_c_air  \\\n",
       "date                                                          \n",
       "2016-01-15 00:00:00                             1549.873901   \n",
       "2016-01-15 01:00:00                             1575.994189   \n",
       "2016-01-15 02:00:00                             1602.003542   \n",
       "2016-01-15 03:00:00                             1600.304144   \n",
       "2016-01-15 04:00:00                             1599.581894   \n",
       "\n",
       "                     primary_cleaner.state.floatbank8_c_level  ...  \\\n",
       "date                                                           ...   \n",
       "2016-01-15 00:00:00                               -498.666595  ...   \n",
       "2016-01-15 01:00:00                               -499.315107  ...   \n",
       "2016-01-15 02:00:00                               -500.870069  ...   \n",
       "2016-01-15 03:00:00                               -500.727997  ...   \n",
       "2016-01-15 04:00:00                               -500.888152  ...   \n",
       "\n",
       "                     secondary_cleaner.state.floatbank4_b_air  \\\n",
       "date                                                            \n",
       "2016-01-15 00:00:00                                 12.099931   \n",
       "2016-01-15 01:00:00                                 11.950531   \n",
       "2016-01-15 02:00:00                                 11.912783   \n",
       "2016-01-15 03:00:00                                 11.999550   \n",
       "2016-01-15 04:00:00                                 11.953070   \n",
       "\n",
       "                     secondary_cleaner.state.floatbank4_b_level  \\\n",
       "date                                                              \n",
       "2016-01-15 00:00:00                                 -504.715942   \n",
       "2016-01-15 01:00:00                                 -501.331529   \n",
       "2016-01-15 02:00:00                                 -501.133383   \n",
       "2016-01-15 03:00:00                                 -501.193686   \n",
       "2016-01-15 04:00:00                                 -501.053894   \n",
       "\n",
       "                     secondary_cleaner.state.floatbank5_a_air  \\\n",
       "date                                                            \n",
       "2016-01-15 00:00:00                                  9.925633   \n",
       "2016-01-15 01:00:00                                 10.039245   \n",
       "2016-01-15 02:00:00                                 10.070913   \n",
       "2016-01-15 03:00:00                                  9.970366   \n",
       "2016-01-15 04:00:00                                  9.925709   \n",
       "\n",
       "                     secondary_cleaner.state.floatbank5_a_level  \\\n",
       "date                                                              \n",
       "2016-01-15 00:00:00                                 -498.310211   \n",
       "2016-01-15 01:00:00                                 -500.169983   \n",
       "2016-01-15 02:00:00                                 -500.129135   \n",
       "2016-01-15 03:00:00                                 -499.201640   \n",
       "2016-01-15 04:00:00                                 -501.686727   \n",
       "\n",
       "                     secondary_cleaner.state.floatbank5_b_air  \\\n",
       "date                                                            \n",
       "2016-01-15 00:00:00                                  8.079666   \n",
       "2016-01-15 01:00:00                                  7.984757   \n",
       "2016-01-15 02:00:00                                  8.013877   \n",
       "2016-01-15 03:00:00                                  7.977324   \n",
       "2016-01-15 04:00:00                                  7.894242   \n",
       "\n",
       "                     secondary_cleaner.state.floatbank5_b_level  \\\n",
       "date                                                              \n",
       "2016-01-15 00:00:00                                 -500.470978   \n",
       "2016-01-15 01:00:00                                 -500.582168   \n",
       "2016-01-15 02:00:00                                 -500.517572   \n",
       "2016-01-15 03:00:00                                 -500.255908   \n",
       "2016-01-15 04:00:00                                 -500.356035   \n",
       "\n",
       "                     secondary_cleaner.state.floatbank6_a_air  \\\n",
       "date                                                            \n",
       "2016-01-15 00:00:00                                 14.151341   \n",
       "2016-01-15 01:00:00                                 13.998353   \n",
       "2016-01-15 02:00:00                                 14.028663   \n",
       "2016-01-15 03:00:00                                 14.005551   \n",
       "2016-01-15 04:00:00                                 13.996647   \n",
       "\n",
       "                     secondary_cleaner.state.floatbank6_a_level  \\\n",
       "date                                                              \n",
       "2016-01-15 00:00:00                                 -605.841980   \n",
       "2016-01-15 01:00:00                                 -599.787184   \n",
       "2016-01-15 02:00:00                                 -601.427363   \n",
       "2016-01-15 03:00:00                                 -599.996129   \n",
       "2016-01-15 04:00:00                                 -601.496691   \n",
       "\n",
       "                     rougher.output.recovery  final.output.recovery  \n",
       "date                                                                 \n",
       "2016-01-15 00:00:00                87.107763              70.541216  \n",
       "2016-01-15 01:00:00                86.843261              69.266198  \n",
       "2016-01-15 02:00:00                86.842308              68.116445  \n",
       "2016-01-15 03:00:00                87.226430              68.347543  \n",
       "2016-01-15 04:00:00                86.688794              66.927016  \n",
       "\n",
       "[5 rows x 54 columns]"
      ]
     },
     "execution_count": 151,
     "metadata": {},
     "output_type": "execute_result"
    }
   ],
   "source": [
    "# посмотрим на первые пять строк обучающей выборки\n",
    "df_train.head()"
   ]
  },
  {
   "cell_type": "markdown",
   "metadata": {},
   "source": [
    "Получили обучающую выборку с необходимыми нам признаками."
   ]
  },
  {
   "cell_type": "markdown",
   "metadata": {},
   "source": [
    "#### Тестовая выборка"
   ]
  },
  {
   "cell_type": "markdown",
   "metadata": {},
   "source": [
    "Предобработаем тестовую выборку с необходимыми для дальнейшего использования признаками."
   ]
  },
  {
   "cell_type": "code",
   "execution_count": 152,
   "metadata": {},
   "outputs": [],
   "source": [
    "# Добавим целевые признаки из датасета исходных данных в тестовую выборку методом .join()\n",
    "df_test = df_test.join(df_full[['rougher.output.recovery', 'final.output.recovery']])"
   ]
  },
  {
   "cell_type": "code",
   "execution_count": 153,
   "metadata": {},
   "outputs": [
    {
     "data": {
      "text/html": [
       "<div>\n",
       "<style scoped>\n",
       "    .dataframe tbody tr th:only-of-type {\n",
       "        vertical-align: middle;\n",
       "    }\n",
       "\n",
       "    .dataframe tbody tr th {\n",
       "        vertical-align: top;\n",
       "    }\n",
       "\n",
       "    .dataframe thead th {\n",
       "        text-align: right;\n",
       "    }\n",
       "</style>\n",
       "<table border=\"1\" class=\"dataframe\">\n",
       "  <thead>\n",
       "    <tr style=\"text-align: right;\">\n",
       "      <th></th>\n",
       "      <th>primary_cleaner.input.sulfate</th>\n",
       "      <th>primary_cleaner.input.depressant</th>\n",
       "      <th>primary_cleaner.input.feed_size</th>\n",
       "      <th>primary_cleaner.input.xanthate</th>\n",
       "      <th>primary_cleaner.state.floatbank8_a_air</th>\n",
       "      <th>primary_cleaner.state.floatbank8_a_level</th>\n",
       "      <th>primary_cleaner.state.floatbank8_b_air</th>\n",
       "      <th>primary_cleaner.state.floatbank8_b_level</th>\n",
       "      <th>primary_cleaner.state.floatbank8_c_air</th>\n",
       "      <th>primary_cleaner.state.floatbank8_c_level</th>\n",
       "      <th>...</th>\n",
       "      <th>secondary_cleaner.state.floatbank4_b_air</th>\n",
       "      <th>secondary_cleaner.state.floatbank4_b_level</th>\n",
       "      <th>secondary_cleaner.state.floatbank5_a_air</th>\n",
       "      <th>secondary_cleaner.state.floatbank5_a_level</th>\n",
       "      <th>secondary_cleaner.state.floatbank5_b_air</th>\n",
       "      <th>secondary_cleaner.state.floatbank5_b_level</th>\n",
       "      <th>secondary_cleaner.state.floatbank6_a_air</th>\n",
       "      <th>secondary_cleaner.state.floatbank6_a_level</th>\n",
       "      <th>rougher.output.recovery</th>\n",
       "      <th>final.output.recovery</th>\n",
       "    </tr>\n",
       "    <tr>\n",
       "      <th>date</th>\n",
       "      <th></th>\n",
       "      <th></th>\n",
       "      <th></th>\n",
       "      <th></th>\n",
       "      <th></th>\n",
       "      <th></th>\n",
       "      <th></th>\n",
       "      <th></th>\n",
       "      <th></th>\n",
       "      <th></th>\n",
       "      <th></th>\n",
       "      <th></th>\n",
       "      <th></th>\n",
       "      <th></th>\n",
       "      <th></th>\n",
       "      <th></th>\n",
       "      <th></th>\n",
       "      <th></th>\n",
       "      <th></th>\n",
       "      <th></th>\n",
       "      <th></th>\n",
       "    </tr>\n",
       "  </thead>\n",
       "  <tbody>\n",
       "    <tr>\n",
       "      <td>2016-09-01 00:59:59</td>\n",
       "      <td>210.800909</td>\n",
       "      <td>14.993118</td>\n",
       "      <td>8.08</td>\n",
       "      <td>1.005021</td>\n",
       "      <td>1398.981301</td>\n",
       "      <td>-500.225577</td>\n",
       "      <td>1399.144926</td>\n",
       "      <td>-499.919735</td>\n",
       "      <td>1400.102998</td>\n",
       "      <td>-500.704369</td>\n",
       "      <td>...</td>\n",
       "      <td>8.016656</td>\n",
       "      <td>-501.289139</td>\n",
       "      <td>7.946562</td>\n",
       "      <td>-432.31785</td>\n",
       "      <td>4.872511</td>\n",
       "      <td>-500.037437</td>\n",
       "      <td>26.705889</td>\n",
       "      <td>-499.709414</td>\n",
       "      <td>89.993421</td>\n",
       "      <td>70.273583</td>\n",
       "    </tr>\n",
       "  </tbody>\n",
       "</table>\n",
       "<p>1 rows × 54 columns</p>\n",
       "</div>"
      ],
      "text/plain": [
       "                     primary_cleaner.input.sulfate  \\\n",
       "date                                                 \n",
       "2016-09-01 00:59:59                     210.800909   \n",
       "\n",
       "                     primary_cleaner.input.depressant  \\\n",
       "date                                                    \n",
       "2016-09-01 00:59:59                         14.993118   \n",
       "\n",
       "                     primary_cleaner.input.feed_size  \\\n",
       "date                                                   \n",
       "2016-09-01 00:59:59                             8.08   \n",
       "\n",
       "                     primary_cleaner.input.xanthate  \\\n",
       "date                                                  \n",
       "2016-09-01 00:59:59                        1.005021   \n",
       "\n",
       "                     primary_cleaner.state.floatbank8_a_air  \\\n",
       "date                                                          \n",
       "2016-09-01 00:59:59                             1398.981301   \n",
       "\n",
       "                     primary_cleaner.state.floatbank8_a_level  \\\n",
       "date                                                            \n",
       "2016-09-01 00:59:59                               -500.225577   \n",
       "\n",
       "                     primary_cleaner.state.floatbank8_b_air  \\\n",
       "date                                                          \n",
       "2016-09-01 00:59:59                             1399.144926   \n",
       "\n",
       "                     primary_cleaner.state.floatbank8_b_level  \\\n",
       "date                                                            \n",
       "2016-09-01 00:59:59                               -499.919735   \n",
       "\n",
       "                     primary_cleaner.state.floatbank8_c_air  \\\n",
       "date                                                          \n",
       "2016-09-01 00:59:59                             1400.102998   \n",
       "\n",
       "                     primary_cleaner.state.floatbank8_c_level  ...  \\\n",
       "date                                                           ...   \n",
       "2016-09-01 00:59:59                               -500.704369  ...   \n",
       "\n",
       "                     secondary_cleaner.state.floatbank4_b_air  \\\n",
       "date                                                            \n",
       "2016-09-01 00:59:59                                  8.016656   \n",
       "\n",
       "                     secondary_cleaner.state.floatbank4_b_level  \\\n",
       "date                                                              \n",
       "2016-09-01 00:59:59                                 -501.289139   \n",
       "\n",
       "                     secondary_cleaner.state.floatbank5_a_air  \\\n",
       "date                                                            \n",
       "2016-09-01 00:59:59                                  7.946562   \n",
       "\n",
       "                     secondary_cleaner.state.floatbank5_a_level  \\\n",
       "date                                                              \n",
       "2016-09-01 00:59:59                                  -432.31785   \n",
       "\n",
       "                     secondary_cleaner.state.floatbank5_b_air  \\\n",
       "date                                                            \n",
       "2016-09-01 00:59:59                                  4.872511   \n",
       "\n",
       "                     secondary_cleaner.state.floatbank5_b_level  \\\n",
       "date                                                              \n",
       "2016-09-01 00:59:59                                 -500.037437   \n",
       "\n",
       "                     secondary_cleaner.state.floatbank6_a_air  \\\n",
       "date                                                            \n",
       "2016-09-01 00:59:59                                 26.705889   \n",
       "\n",
       "                     secondary_cleaner.state.floatbank6_a_level  \\\n",
       "date                                                              \n",
       "2016-09-01 00:59:59                                 -499.709414   \n",
       "\n",
       "                     rougher.output.recovery  final.output.recovery  \n",
       "date                                                                 \n",
       "2016-09-01 00:59:59                89.993421              70.273583  \n",
       "\n",
       "[1 rows x 54 columns]"
      ]
     },
     "execution_count": 153,
     "metadata": {},
     "output_type": "execute_result"
    }
   ],
   "source": [
    "# посмотрим на первую строку тестовой выборки после добавления целевых признаков\n",
    "df_test.head(1)"
   ]
  },
  {
   "cell_type": "markdown",
   "metadata": {},
   "source": [
    "Как видим целевые признаки добавились, но для полной уверенности проверим как прошло добавление. Так как нам известно, что данные индексируются датой и временем получения информации выполним проверку по первой дате (2016-09-01 00:59:59)."
   ]
  },
  {
   "cell_type": "code",
   "execution_count": 154,
   "metadata": {},
   "outputs": [
    {
     "name": "stdout",
     "output_type": "stream",
     "text": [
      "final.output.recovery    68.910432\n",
      "Name: 2016-09-01 01:59:59, dtype: float64\n",
      "final.output.recovery    68.910432\n",
      "Name: 2016-09-01 01:59:59, dtype: float64\n"
     ]
    }
   ],
   "source": [
    "# проверим как прошло добавление\n",
    "print(df_test.loc['2016-09-01 01:59:59'][['final.output.recovery']])\n",
    "print(df_full.loc['2016-09-01 01:59:59'][['final.output.recovery']])"
   ]
  },
  {
   "cell_type": "markdown",
   "metadata": {},
   "source": [
    "Значения совпадают. Теперь мы точно видим, что целевые признаки добавились корректно."
   ]
  },
  {
   "cell_type": "markdown",
   "metadata": {},
   "source": [
    "#### Обработка пропусков"
   ]
  },
  {
   "cell_type": "markdown",
   "metadata": {},
   "source": [
    "Подсчитаем количество пропущенных значений целевых признаков в обучающей и тестовой выборке:"
   ]
  },
  {
   "cell_type": "code",
   "execution_count": 155,
   "metadata": {},
   "outputs": [
    {
     "name": "stdout",
     "output_type": "stream",
     "text": [
      "Количество пропусков в целевых признаках обучающей выборки: \n",
      "rougher.output.recovery    0\n",
      "final.output.recovery      0\n",
      "dtype: int64\n",
      "\n",
      "Количество пропусков в целевых признаках тестовой выборки: \n",
      "rougher.output.recovery    0\n",
      "final.output.recovery      0\n",
      "dtype: int64\n"
     ]
    }
   ],
   "source": [
    "print('Количество пропусков в целевых признаках обучающей выборки: ')\n",
    "print(df_train[['rougher.output.recovery', 'final.output.recovery']].isna().sum())\n",
    "print()\n",
    "print('Количество пропусков в целевых признаках тестовой выборки: ')\n",
    "print(df_test[['rougher.output.recovery', 'final.output.recovery']].isna().sum())"
   ]
  },
  {
   "cell_type": "markdown",
   "metadata": {},
   "source": [
    "Как видим в целевых признаках пропущенные значения отстуствуют, но из предварительного анализа данных нам известно, что практически все остальные признаки имеют пропущенные значения, для облегчения подсчета количества пропущенных значений напишем функцию которая также будет подсчитывать долю отсутствующих значений от их общего количества."
   ]
  },
  {
   "cell_type": "code",
   "execution_count": 156,
   "metadata": {},
   "outputs": [],
   "source": [
    "def pass_handling_function(data):\n",
    "    '''\n",
    "    Функция подсчитывает количество пропущенных значений для всех признаков датасета(data),\n",
    "    а также расчитывает долю пропущенных значений от их общего количества, сводит их в общую таблицу,\n",
    "    сортирует по убыванию и выводит на экран.\n",
    "    '''\n",
    "    # подсчет количества пропусков\n",
    "    number_of_passes = round(data.isnull().sum(),2)\n",
    "    # доля пропусков от общего числа значений\n",
    "    share_of_omissions=round((data.isnull().sum()/data.shape[0])*100,2)\n",
    "    # объединяем данные в новый датафрейм\n",
    "    table = pd.concat([number_of_passes,share_of_omissions],axis=1)\n",
    "    # сбрасываем индекс\n",
    "    table.reset_index(inplace=True)\n",
    "    # переименовываем название столбцов\n",
    "    table.rename(columns={0: 'Number of passes',1: 'Share of omissions, %'},inplace=True)\n",
    "    # выводим на экран получившуюся таблицу\n",
    "    display(table[table['Number of passes']!=0].sort_values(by = 'Share of omissions, %', ascending = False))"
   ]
  },
  {
   "cell_type": "markdown",
   "metadata": {},
   "source": [
    "Подсчитаем пропущенные значения в обучающей выборке:"
   ]
  },
  {
   "cell_type": "code",
   "execution_count": 157,
   "metadata": {},
   "outputs": [
    {
     "data": {
      "text/html": [
       "<div>\n",
       "<style scoped>\n",
       "    .dataframe tbody tr th:only-of-type {\n",
       "        vertical-align: middle;\n",
       "    }\n",
       "\n",
       "    .dataframe tbody tr th {\n",
       "        vertical-align: top;\n",
       "    }\n",
       "\n",
       "    .dataframe thead th {\n",
       "        text-align: right;\n",
       "    }\n",
       "</style>\n",
       "<table border=\"1\" class=\"dataframe\">\n",
       "  <thead>\n",
       "    <tr style=\"text-align: right;\">\n",
       "      <th></th>\n",
       "      <th>index</th>\n",
       "      <th>Number of passes</th>\n",
       "      <th>Share of omissions, %</th>\n",
       "    </tr>\n",
       "  </thead>\n",
       "  <tbody>\n",
       "    <tr>\n",
       "      <td>30</td>\n",
       "      <td>rougher.state.floatbank10_e_air</td>\n",
       "      <td>436</td>\n",
       "      <td>3.08</td>\n",
       "    </tr>\n",
       "    <tr>\n",
       "      <td>21</td>\n",
       "      <td>rougher.input.floatbank11_xanthate</td>\n",
       "      <td>428</td>\n",
       "      <td>3.02</td>\n",
       "    </tr>\n",
       "    <tr>\n",
       "      <td>34</td>\n",
       "      <td>secondary_cleaner.state.floatbank2_a_air</td>\n",
       "      <td>217</td>\n",
       "      <td>1.53</td>\n",
       "    </tr>\n",
       "    <tr>\n",
       "      <td>15</td>\n",
       "      <td>rougher.input.feed_size</td>\n",
       "      <td>144</td>\n",
       "      <td>1.02</td>\n",
       "    </tr>\n",
       "    <tr>\n",
       "      <td>13</td>\n",
       "      <td>rougher.input.feed_pb</td>\n",
       "      <td>100</td>\n",
       "      <td>0.71</td>\n",
       "    </tr>\n",
       "    <tr>\n",
       "      <td>3</td>\n",
       "      <td>primary_cleaner.input.xanthate</td>\n",
       "      <td>100</td>\n",
       "      <td>0.71</td>\n",
       "    </tr>\n",
       "    <tr>\n",
       "      <td>16</td>\n",
       "      <td>rougher.input.feed_sol</td>\n",
       "      <td>78</td>\n",
       "      <td>0.55</td>\n",
       "    </tr>\n",
       "    <tr>\n",
       "      <td>20</td>\n",
       "      <td>rougher.input.floatbank11_sulfate</td>\n",
       "      <td>36</td>\n",
       "      <td>0.25</td>\n",
       "    </tr>\n",
       "    <tr>\n",
       "      <td>1</td>\n",
       "      <td>primary_cleaner.input.depressant</td>\n",
       "      <td>32</td>\n",
       "      <td>0.23</td>\n",
       "    </tr>\n",
       "    <tr>\n",
       "      <td>18</td>\n",
       "      <td>rougher.input.floatbank10_sulfate</td>\n",
       "      <td>29</td>\n",
       "      <td>0.20</td>\n",
       "    </tr>\n",
       "    <tr>\n",
       "      <td>36</td>\n",
       "      <td>secondary_cleaner.state.floatbank2_b_air</td>\n",
       "      <td>21</td>\n",
       "      <td>0.15</td>\n",
       "    </tr>\n",
       "    <tr>\n",
       "      <td>0</td>\n",
       "      <td>primary_cleaner.input.sulfate</td>\n",
       "      <td>20</td>\n",
       "      <td>0.14</td>\n",
       "    </tr>\n",
       "    <tr>\n",
       "      <td>14</td>\n",
       "      <td>rougher.input.feed_rate</td>\n",
       "      <td>8</td>\n",
       "      <td>0.06</td>\n",
       "    </tr>\n",
       "    <tr>\n",
       "      <td>19</td>\n",
       "      <td>rougher.input.floatbank10_xanthate</td>\n",
       "      <td>8</td>\n",
       "      <td>0.06</td>\n",
       "    </tr>\n",
       "    <tr>\n",
       "      <td>42</td>\n",
       "      <td>secondary_cleaner.state.floatbank4_a_air</td>\n",
       "      <td>6</td>\n",
       "      <td>0.04</td>\n",
       "    </tr>\n",
       "    <tr>\n",
       "      <td>38</td>\n",
       "      <td>secondary_cleaner.state.floatbank3_a_air</td>\n",
       "      <td>4</td>\n",
       "      <td>0.03</td>\n",
       "    </tr>\n",
       "    <tr>\n",
       "      <td>4</td>\n",
       "      <td>primary_cleaner.state.floatbank8_a_air</td>\n",
       "      <td>4</td>\n",
       "      <td>0.03</td>\n",
       "    </tr>\n",
       "    <tr>\n",
       "      <td>6</td>\n",
       "      <td>primary_cleaner.state.floatbank8_b_air</td>\n",
       "      <td>4</td>\n",
       "      <td>0.03</td>\n",
       "    </tr>\n",
       "    <tr>\n",
       "      <td>10</td>\n",
       "      <td>primary_cleaner.state.floatbank8_d_air</td>\n",
       "      <td>3</td>\n",
       "      <td>0.02</td>\n",
       "    </tr>\n",
       "    <tr>\n",
       "      <td>40</td>\n",
       "      <td>secondary_cleaner.state.floatbank3_b_air</td>\n",
       "      <td>1</td>\n",
       "      <td>0.01</td>\n",
       "    </tr>\n",
       "    <tr>\n",
       "      <td>50</td>\n",
       "      <td>secondary_cleaner.state.floatbank6_a_air</td>\n",
       "      <td>2</td>\n",
       "      <td>0.01</td>\n",
       "    </tr>\n",
       "    <tr>\n",
       "      <td>41</td>\n",
       "      <td>secondary_cleaner.state.floatbank3_b_level</td>\n",
       "      <td>1</td>\n",
       "      <td>0.01</td>\n",
       "    </tr>\n",
       "    <tr>\n",
       "      <td>43</td>\n",
       "      <td>secondary_cleaner.state.floatbank4_a_level</td>\n",
       "      <td>1</td>\n",
       "      <td>0.01</td>\n",
       "    </tr>\n",
       "    <tr>\n",
       "      <td>49</td>\n",
       "      <td>secondary_cleaner.state.floatbank5_b_level</td>\n",
       "      <td>1</td>\n",
       "      <td>0.01</td>\n",
       "    </tr>\n",
       "    <tr>\n",
       "      <td>46</td>\n",
       "      <td>secondary_cleaner.state.floatbank5_a_air</td>\n",
       "      <td>1</td>\n",
       "      <td>0.01</td>\n",
       "    </tr>\n",
       "    <tr>\n",
       "      <td>44</td>\n",
       "      <td>secondary_cleaner.state.floatbank4_b_air</td>\n",
       "      <td>1</td>\n",
       "      <td>0.01</td>\n",
       "    </tr>\n",
       "    <tr>\n",
       "      <td>45</td>\n",
       "      <td>secondary_cleaner.state.floatbank4_b_level</td>\n",
       "      <td>1</td>\n",
       "      <td>0.01</td>\n",
       "    </tr>\n",
       "    <tr>\n",
       "      <td>48</td>\n",
       "      <td>secondary_cleaner.state.floatbank5_b_air</td>\n",
       "      <td>1</td>\n",
       "      <td>0.01</td>\n",
       "    </tr>\n",
       "    <tr>\n",
       "      <td>47</td>\n",
       "      <td>secondary_cleaner.state.floatbank5_a_level</td>\n",
       "      <td>1</td>\n",
       "      <td>0.01</td>\n",
       "    </tr>\n",
       "    <tr>\n",
       "      <td>39</td>\n",
       "      <td>secondary_cleaner.state.floatbank3_a_level</td>\n",
       "      <td>1</td>\n",
       "      <td>0.01</td>\n",
       "    </tr>\n",
       "    <tr>\n",
       "      <td>25</td>\n",
       "      <td>rougher.state.floatbank10_b_level</td>\n",
       "      <td>1</td>\n",
       "      <td>0.01</td>\n",
       "    </tr>\n",
       "    <tr>\n",
       "      <td>37</td>\n",
       "      <td>secondary_cleaner.state.floatbank2_b_level</td>\n",
       "      <td>1</td>\n",
       "      <td>0.01</td>\n",
       "    </tr>\n",
       "    <tr>\n",
       "      <td>35</td>\n",
       "      <td>secondary_cleaner.state.floatbank2_a_level</td>\n",
       "      <td>1</td>\n",
       "      <td>0.01</td>\n",
       "    </tr>\n",
       "    <tr>\n",
       "      <td>27</td>\n",
       "      <td>rougher.state.floatbank10_c_level</td>\n",
       "      <td>1</td>\n",
       "      <td>0.01</td>\n",
       "    </tr>\n",
       "    <tr>\n",
       "      <td>26</td>\n",
       "      <td>rougher.state.floatbank10_c_air</td>\n",
       "      <td>1</td>\n",
       "      <td>0.01</td>\n",
       "    </tr>\n",
       "    <tr>\n",
       "      <td>24</td>\n",
       "      <td>rougher.state.floatbank10_b_air</td>\n",
       "      <td>1</td>\n",
       "      <td>0.01</td>\n",
       "    </tr>\n",
       "    <tr>\n",
       "      <td>23</td>\n",
       "      <td>rougher.state.floatbank10_a_level</td>\n",
       "      <td>1</td>\n",
       "      <td>0.01</td>\n",
       "    </tr>\n",
       "    <tr>\n",
       "      <td>22</td>\n",
       "      <td>rougher.state.floatbank10_a_air</td>\n",
       "      <td>1</td>\n",
       "      <td>0.01</td>\n",
       "    </tr>\n",
       "    <tr>\n",
       "      <td>11</td>\n",
       "      <td>primary_cleaner.state.floatbank8_d_level</td>\n",
       "      <td>1</td>\n",
       "      <td>0.01</td>\n",
       "    </tr>\n",
       "    <tr>\n",
       "      <td>9</td>\n",
       "      <td>primary_cleaner.state.floatbank8_c_level</td>\n",
       "      <td>1</td>\n",
       "      <td>0.01</td>\n",
       "    </tr>\n",
       "    <tr>\n",
       "      <td>8</td>\n",
       "      <td>primary_cleaner.state.floatbank8_c_air</td>\n",
       "      <td>2</td>\n",
       "      <td>0.01</td>\n",
       "    </tr>\n",
       "    <tr>\n",
       "      <td>7</td>\n",
       "      <td>primary_cleaner.state.floatbank8_b_level</td>\n",
       "      <td>1</td>\n",
       "      <td>0.01</td>\n",
       "    </tr>\n",
       "    <tr>\n",
       "      <td>5</td>\n",
       "      <td>primary_cleaner.state.floatbank8_a_level</td>\n",
       "      <td>1</td>\n",
       "      <td>0.01</td>\n",
       "    </tr>\n",
       "    <tr>\n",
       "      <td>51</td>\n",
       "      <td>secondary_cleaner.state.floatbank6_a_level</td>\n",
       "      <td>1</td>\n",
       "      <td>0.01</td>\n",
       "    </tr>\n",
       "  </tbody>\n",
       "</table>\n",
       "</div>"
      ],
      "text/plain": [
       "                                         index  Number of passes  \\\n",
       "30             rougher.state.floatbank10_e_air               436   \n",
       "21          rougher.input.floatbank11_xanthate               428   \n",
       "34    secondary_cleaner.state.floatbank2_a_air               217   \n",
       "15                     rougher.input.feed_size               144   \n",
       "13                       rougher.input.feed_pb               100   \n",
       "3               primary_cleaner.input.xanthate               100   \n",
       "16                      rougher.input.feed_sol                78   \n",
       "20           rougher.input.floatbank11_sulfate                36   \n",
       "1             primary_cleaner.input.depressant                32   \n",
       "18           rougher.input.floatbank10_sulfate                29   \n",
       "36    secondary_cleaner.state.floatbank2_b_air                21   \n",
       "0                primary_cleaner.input.sulfate                20   \n",
       "14                     rougher.input.feed_rate                 8   \n",
       "19          rougher.input.floatbank10_xanthate                 8   \n",
       "42    secondary_cleaner.state.floatbank4_a_air                 6   \n",
       "38    secondary_cleaner.state.floatbank3_a_air                 4   \n",
       "4       primary_cleaner.state.floatbank8_a_air                 4   \n",
       "6       primary_cleaner.state.floatbank8_b_air                 4   \n",
       "10      primary_cleaner.state.floatbank8_d_air                 3   \n",
       "40    secondary_cleaner.state.floatbank3_b_air                 1   \n",
       "50    secondary_cleaner.state.floatbank6_a_air                 2   \n",
       "41  secondary_cleaner.state.floatbank3_b_level                 1   \n",
       "43  secondary_cleaner.state.floatbank4_a_level                 1   \n",
       "49  secondary_cleaner.state.floatbank5_b_level                 1   \n",
       "46    secondary_cleaner.state.floatbank5_a_air                 1   \n",
       "44    secondary_cleaner.state.floatbank4_b_air                 1   \n",
       "45  secondary_cleaner.state.floatbank4_b_level                 1   \n",
       "48    secondary_cleaner.state.floatbank5_b_air                 1   \n",
       "47  secondary_cleaner.state.floatbank5_a_level                 1   \n",
       "39  secondary_cleaner.state.floatbank3_a_level                 1   \n",
       "25           rougher.state.floatbank10_b_level                 1   \n",
       "37  secondary_cleaner.state.floatbank2_b_level                 1   \n",
       "35  secondary_cleaner.state.floatbank2_a_level                 1   \n",
       "27           rougher.state.floatbank10_c_level                 1   \n",
       "26             rougher.state.floatbank10_c_air                 1   \n",
       "24             rougher.state.floatbank10_b_air                 1   \n",
       "23           rougher.state.floatbank10_a_level                 1   \n",
       "22             rougher.state.floatbank10_a_air                 1   \n",
       "11    primary_cleaner.state.floatbank8_d_level                 1   \n",
       "9     primary_cleaner.state.floatbank8_c_level                 1   \n",
       "8       primary_cleaner.state.floatbank8_c_air                 2   \n",
       "7     primary_cleaner.state.floatbank8_b_level                 1   \n",
       "5     primary_cleaner.state.floatbank8_a_level                 1   \n",
       "51  secondary_cleaner.state.floatbank6_a_level                 1   \n",
       "\n",
       "    Share of omissions, %  \n",
       "30                   3.08  \n",
       "21                   3.02  \n",
       "34                   1.53  \n",
       "15                   1.02  \n",
       "13                   0.71  \n",
       "3                    0.71  \n",
       "16                   0.55  \n",
       "20                   0.25  \n",
       "1                    0.23  \n",
       "18                   0.20  \n",
       "36                   0.15  \n",
       "0                    0.14  \n",
       "14                   0.06  \n",
       "19                   0.06  \n",
       "42                   0.04  \n",
       "38                   0.03  \n",
       "4                    0.03  \n",
       "6                    0.03  \n",
       "10                   0.02  \n",
       "40                   0.01  \n",
       "50                   0.01  \n",
       "41                   0.01  \n",
       "43                   0.01  \n",
       "49                   0.01  \n",
       "46                   0.01  \n",
       "44                   0.01  \n",
       "45                   0.01  \n",
       "48                   0.01  \n",
       "47                   0.01  \n",
       "39                   0.01  \n",
       "25                   0.01  \n",
       "37                   0.01  \n",
       "35                   0.01  \n",
       "27                   0.01  \n",
       "26                   0.01  \n",
       "24                   0.01  \n",
       "23                   0.01  \n",
       "22                   0.01  \n",
       "11                   0.01  \n",
       "9                    0.01  \n",
       "8                    0.01  \n",
       "7                    0.01  \n",
       "5                    0.01  \n",
       "51                   0.01  "
      ]
     },
     "metadata": {},
     "output_type": "display_data"
    }
   ],
   "source": [
    "pass_handling_function(df_train)"
   ]
  },
  {
   "cell_type": "markdown",
   "metadata": {},
   "source": [
    "Подсчитаем пропущенные значения в тестовой выборке:"
   ]
  },
  {
   "cell_type": "code",
   "execution_count": 158,
   "metadata": {},
   "outputs": [
    {
     "data": {
      "text/html": [
       "<div>\n",
       "<style scoped>\n",
       "    .dataframe tbody tr th:only-of-type {\n",
       "        vertical-align: middle;\n",
       "    }\n",
       "\n",
       "    .dataframe tbody tr th {\n",
       "        vertical-align: top;\n",
       "    }\n",
       "\n",
       "    .dataframe thead th {\n",
       "        text-align: right;\n",
       "    }\n",
       "</style>\n",
       "<table border=\"1\" class=\"dataframe\">\n",
       "  <thead>\n",
       "    <tr style=\"text-align: right;\">\n",
       "      <th></th>\n",
       "      <th>index</th>\n",
       "      <th>Number of passes</th>\n",
       "      <th>Share of omissions, %</th>\n",
       "    </tr>\n",
       "  </thead>\n",
       "  <tbody>\n",
       "    <tr>\n",
       "      <td>21</td>\n",
       "      <td>rougher.input.floatbank11_xanthate</td>\n",
       "      <td>25</td>\n",
       "      <td>0.47</td>\n",
       "    </tr>\n",
       "    <tr>\n",
       "      <td>16</td>\n",
       "      <td>rougher.input.feed_sol</td>\n",
       "      <td>21</td>\n",
       "      <td>0.40</td>\n",
       "    </tr>\n",
       "    <tr>\n",
       "      <td>38</td>\n",
       "      <td>secondary_cleaner.state.floatbank3_a_air</td>\n",
       "      <td>9</td>\n",
       "      <td>0.17</td>\n",
       "    </tr>\n",
       "    <tr>\n",
       "      <td>20</td>\n",
       "      <td>rougher.input.floatbank11_sulfate</td>\n",
       "      <td>8</td>\n",
       "      <td>0.15</td>\n",
       "    </tr>\n",
       "    <tr>\n",
       "      <td>1</td>\n",
       "      <td>primary_cleaner.input.depressant</td>\n",
       "      <td>5</td>\n",
       "      <td>0.09</td>\n",
       "    </tr>\n",
       "    <tr>\n",
       "      <td>18</td>\n",
       "      <td>rougher.input.floatbank10_sulfate</td>\n",
       "      <td>5</td>\n",
       "      <td>0.09</td>\n",
       "    </tr>\n",
       "    <tr>\n",
       "      <td>0</td>\n",
       "      <td>primary_cleaner.input.sulfate</td>\n",
       "      <td>4</td>\n",
       "      <td>0.08</td>\n",
       "    </tr>\n",
       "    <tr>\n",
       "      <td>3</td>\n",
       "      <td>primary_cleaner.input.xanthate</td>\n",
       "      <td>4</td>\n",
       "      <td>0.08</td>\n",
       "    </tr>\n",
       "    <tr>\n",
       "      <td>14</td>\n",
       "      <td>rougher.input.feed_rate</td>\n",
       "      <td>3</td>\n",
       "      <td>0.06</td>\n",
       "    </tr>\n",
       "    <tr>\n",
       "      <td>34</td>\n",
       "      <td>secondary_cleaner.state.floatbank2_a_air</td>\n",
       "      <td>3</td>\n",
       "      <td>0.06</td>\n",
       "    </tr>\n",
       "    <tr>\n",
       "      <td>36</td>\n",
       "      <td>secondary_cleaner.state.floatbank2_b_air</td>\n",
       "      <td>2</td>\n",
       "      <td>0.04</td>\n",
       "    </tr>\n",
       "    <tr>\n",
       "      <td>15</td>\n",
       "      <td>rougher.input.feed_size</td>\n",
       "      <td>1</td>\n",
       "      <td>0.02</td>\n",
       "    </tr>\n",
       "  </tbody>\n",
       "</table>\n",
       "</div>"
      ],
      "text/plain": [
       "                                       index  Number of passes  \\\n",
       "21        rougher.input.floatbank11_xanthate                25   \n",
       "16                    rougher.input.feed_sol                21   \n",
       "38  secondary_cleaner.state.floatbank3_a_air                 9   \n",
       "20         rougher.input.floatbank11_sulfate                 8   \n",
       "1           primary_cleaner.input.depressant                 5   \n",
       "18         rougher.input.floatbank10_sulfate                 5   \n",
       "0              primary_cleaner.input.sulfate                 4   \n",
       "3             primary_cleaner.input.xanthate                 4   \n",
       "14                   rougher.input.feed_rate                 3   \n",
       "34  secondary_cleaner.state.floatbank2_a_air                 3   \n",
       "36  secondary_cleaner.state.floatbank2_b_air                 2   \n",
       "15                   rougher.input.feed_size                 1   \n",
       "\n",
       "    Share of omissions, %  \n",
       "21                   0.47  \n",
       "16                   0.40  \n",
       "38                   0.17  \n",
       "20                   0.15  \n",
       "1                    0.09  \n",
       "18                   0.09  \n",
       "0                    0.08  \n",
       "3                    0.08  \n",
       "14                   0.06  \n",
       "34                   0.06  \n",
       "36                   0.04  \n",
       "15                   0.02  "
      ]
     },
     "metadata": {},
     "output_type": "display_data"
    }
   ],
   "source": [
    "pass_handling_function(df_test)"
   ]
  },
  {
   "cell_type": "markdown",
   "metadata": {},
   "source": [
    "Так как у нас известны данные на момент времени T, но есть пропуск на момент времени T+1 заменим пропуски на значения в момент времени T:"
   ]
  },
  {
   "cell_type": "code",
   "execution_count": 159,
   "metadata": {},
   "outputs": [
    {
     "name": "stdout",
     "output_type": "stream",
     "text": [
      "Количество пропусков в тренировочном датасете =  0\n",
      "Количество пропусков в тестовом датасете =  0\n"
     ]
    }
   ],
   "source": [
    "# заменяем пропуски\n",
    "df_train = df_train.fillna(method=\"ffill\")\n",
    "df_test = df_test.fillna(method=\"ffill\")\n",
    "\n",
    "# проверяем количество пропусков после замены\n",
    "print('Количество пропусков в тренировочном датасете = ', df_train.isnull().sum().sum())\n",
    "print('Количество пропусков в тестовом датасете = ', df_test.isnull().sum().sum())"
   ]
  },
  {
   "cell_type": "markdown",
   "metadata": {},
   "source": [
    "Замена пропущенных значений прошла успешно!"
   ]
  },
  {
   "cell_type": "markdown",
   "metadata": {},
   "source": [
    "#### Обработка нулевых значений"
   ]
  },
  {
   "cell_type": "markdown",
   "metadata": {},
   "source": [
    "Посмотрим на наличие и количество нулевых значений в данных."
   ]
  },
  {
   "cell_type": "code",
   "execution_count": 160,
   "metadata": {},
   "outputs": [
    {
     "data": {
      "text/plain": [
       "primary_cleaner.input.sulfate                   0\n",
       "primary_cleaner.input.depressant               18\n",
       "primary_cleaner.input.feed_size                 0\n",
       "primary_cleaner.input.xanthate                  0\n",
       "primary_cleaner.state.floatbank8_a_air          0\n",
       "primary_cleaner.state.floatbank8_a_level        0\n",
       "primary_cleaner.state.floatbank8_b_air          0\n",
       "primary_cleaner.state.floatbank8_b_level        0\n",
       "primary_cleaner.state.floatbank8_c_air          0\n",
       "primary_cleaner.state.floatbank8_c_level        0\n",
       "primary_cleaner.state.floatbank8_d_air          0\n",
       "primary_cleaner.state.floatbank8_d_level        0\n",
       "rougher.input.feed_ag                           0\n",
       "rougher.input.feed_pb                           0\n",
       "rougher.input.feed_rate                         0\n",
       "rougher.input.feed_size                         0\n",
       "rougher.input.feed_sol                          0\n",
       "rougher.input.feed_au                           0\n",
       "rougher.input.floatbank10_sulfate               0\n",
       "rougher.input.floatbank10_xanthate              0\n",
       "rougher.input.floatbank11_sulfate               0\n",
       "rougher.input.floatbank11_xanthate              0\n",
       "rougher.state.floatbank10_a_air                 0\n",
       "rougher.state.floatbank10_a_level               0\n",
       "rougher.state.floatbank10_b_air                 0\n",
       "rougher.state.floatbank10_b_level               0\n",
       "rougher.state.floatbank10_c_air                 0\n",
       "rougher.state.floatbank10_c_level               0\n",
       "rougher.state.floatbank10_d_air                 0\n",
       "rougher.state.floatbank10_d_level               0\n",
       "rougher.state.floatbank10_e_air                 0\n",
       "rougher.state.floatbank10_e_level               0\n",
       "rougher.state.floatbank10_f_air                 0\n",
       "rougher.state.floatbank10_f_level               0\n",
       "secondary_cleaner.state.floatbank2_a_air        0\n",
       "secondary_cleaner.state.floatbank2_a_level      0\n",
       "secondary_cleaner.state.floatbank2_b_air        8\n",
       "secondary_cleaner.state.floatbank2_b_level      0\n",
       "secondary_cleaner.state.floatbank3_a_air        1\n",
       "secondary_cleaner.state.floatbank3_a_level      0\n",
       "secondary_cleaner.state.floatbank3_b_air        1\n",
       "secondary_cleaner.state.floatbank3_b_level      0\n",
       "secondary_cleaner.state.floatbank4_a_air        1\n",
       "secondary_cleaner.state.floatbank4_a_level      0\n",
       "secondary_cleaner.state.floatbank4_b_air        1\n",
       "secondary_cleaner.state.floatbank4_b_level      0\n",
       "secondary_cleaner.state.floatbank5_a_air        0\n",
       "secondary_cleaner.state.floatbank5_a_level      0\n",
       "secondary_cleaner.state.floatbank5_b_air        0\n",
       "secondary_cleaner.state.floatbank5_b_level      0\n",
       "secondary_cleaner.state.floatbank6_a_air        0\n",
       "secondary_cleaner.state.floatbank6_a_level      0\n",
       "rougher.output.recovery                       297\n",
       "final.output.recovery                          58\n",
       "dtype: int64"
      ]
     },
     "execution_count": 160,
     "metadata": {},
     "output_type": "execute_result"
    }
   ],
   "source": [
    "# количество нулевых значений в обучающей выборке\n",
    "df_train.eq(0).sum()"
   ]
  },
  {
   "cell_type": "code",
   "execution_count": 161,
   "metadata": {},
   "outputs": [
    {
     "data": {
      "text/plain": [
       "primary_cleaner.input.sulfate                  0\n",
       "primary_cleaner.input.depressant               0\n",
       "primary_cleaner.input.feed_size                0\n",
       "primary_cleaner.input.xanthate                 0\n",
       "primary_cleaner.state.floatbank8_a_air         0\n",
       "primary_cleaner.state.floatbank8_a_level       0\n",
       "primary_cleaner.state.floatbank8_b_air         0\n",
       "primary_cleaner.state.floatbank8_b_level       0\n",
       "primary_cleaner.state.floatbank8_c_air         0\n",
       "primary_cleaner.state.floatbank8_c_level       0\n",
       "primary_cleaner.state.floatbank8_d_air         0\n",
       "primary_cleaner.state.floatbank8_d_level       0\n",
       "rougher.input.feed_ag                          0\n",
       "rougher.input.feed_pb                          0\n",
       "rougher.input.feed_rate                        0\n",
       "rougher.input.feed_size                        0\n",
       "rougher.input.feed_sol                         0\n",
       "rougher.input.feed_au                          0\n",
       "rougher.input.floatbank10_sulfate              0\n",
       "rougher.input.floatbank10_xanthate             0\n",
       "rougher.input.floatbank11_sulfate              0\n",
       "rougher.input.floatbank11_xanthate             0\n",
       "rougher.state.floatbank10_a_air                0\n",
       "rougher.state.floatbank10_a_level              0\n",
       "rougher.state.floatbank10_b_air                0\n",
       "rougher.state.floatbank10_b_level              0\n",
       "rougher.state.floatbank10_c_air                0\n",
       "rougher.state.floatbank10_c_level              0\n",
       "rougher.state.floatbank10_d_air                0\n",
       "rougher.state.floatbank10_d_level              0\n",
       "rougher.state.floatbank10_e_air                0\n",
       "rougher.state.floatbank10_e_level              0\n",
       "rougher.state.floatbank10_f_air                0\n",
       "rougher.state.floatbank10_f_level              0\n",
       "secondary_cleaner.state.floatbank2_a_air       0\n",
       "secondary_cleaner.state.floatbank2_a_level     0\n",
       "secondary_cleaner.state.floatbank2_b_air       0\n",
       "secondary_cleaner.state.floatbank2_b_level     0\n",
       "secondary_cleaner.state.floatbank3_a_air       8\n",
       "secondary_cleaner.state.floatbank3_a_level     0\n",
       "secondary_cleaner.state.floatbank3_b_air       0\n",
       "secondary_cleaner.state.floatbank3_b_level     0\n",
       "secondary_cleaner.state.floatbank4_a_air       0\n",
       "secondary_cleaner.state.floatbank4_a_level     0\n",
       "secondary_cleaner.state.floatbank4_b_air       0\n",
       "secondary_cleaner.state.floatbank4_b_level     0\n",
       "secondary_cleaner.state.floatbank5_a_air       0\n",
       "secondary_cleaner.state.floatbank5_a_level     0\n",
       "secondary_cleaner.state.floatbank5_b_air       0\n",
       "secondary_cleaner.state.floatbank5_b_level     0\n",
       "secondary_cleaner.state.floatbank6_a_air       0\n",
       "secondary_cleaner.state.floatbank6_a_level     0\n",
       "rougher.output.recovery                       97\n",
       "final.output.recovery                         40\n",
       "dtype: int64"
      ]
     },
     "execution_count": 161,
     "metadata": {},
     "output_type": "execute_result"
    }
   ],
   "source": [
    "# количество нулевых значений в тестовой выборке\n",
    "df_test.eq(0).sum()"
   ]
  },
  {
   "cell_type": "code",
   "execution_count": 162,
   "metadata": {},
   "outputs": [
    {
     "name": "stdout",
     "output_type": "stream",
     "text": [
      "Количество нулевых значений в обучающей выборке =  385\n",
      "Доля нулевых значений в обучающей выборке от общих данных =  2.721040356208919\n",
      "Количество нулевых значений в обучающей выборке =  145\n",
      "Доля нулевых значений в обучающей выборке от общих данных =  2.7410207939508506\n"
     ]
    }
   ],
   "source": [
    "print('Количество нулевых значений в обучающей выборке = ', df_train.eq(0).sum().sum())\n",
    "print('Доля нулевых значений в обучающей выборке от общих данных = ', df_train.eq(0).sum().sum() / len(df_train) * 100)\n",
    "\n",
    "print('Количество нулевых значений в обучающей выборке = ', df_test.eq(0).sum().sum())\n",
    "print('Доля нулевых значений в обучающей выборке от общих данных = ', df_test.eq(0).sum().sum() / len(df_test) * 100)"
   ]
  },
  {
   "cell_type": "markdown",
   "metadata": {},
   "source": [
    "Избавимся от нулевых значений. Количество строк, которое останется должно хватить для обучения моделей."
   ]
  },
  {
   "cell_type": "code",
   "execution_count": 163,
   "metadata": {},
   "outputs": [
    {
     "name": "stdout",
     "output_type": "stream",
     "text": [
      "(13769, 54)\n",
      "(5147, 54)\n"
     ]
    }
   ],
   "source": [
    "# удаляем нулевые значения в обучающей выборке\n",
    "df_train[df_train.eq(0)] = np.nan\n",
    "df_train.dropna(axis=0, inplace=True)\n",
    "# удаляем нулевые значения в тестовой выборке\n",
    "df_test[df_test.eq(0)] = np.nan\n",
    "df_test.dropna(axis=0, inplace=True)\n",
    "# посмотрим на формы наших выборок\n",
    "print(df_train.shape)\n",
    "print(df_test.shape)"
   ]
  },
  {
   "cell_type": "markdown",
   "metadata": {},
   "source": [
    "### Вывод"
   ]
  },
  {
   "cell_type": "markdown",
   "metadata": {},
   "source": [
    "Мы открыли и изучили файлы, а также сохранили их в отдельных переменных. Проанализировали признаки, недоступные в тестовой выборке. Произвели проверку формулы вычисления эффективности обогащения. Провели предобработку данных на обучающей и тестовой выборке, обработали пропущенные и нулевые значения в данных."
   ]
  },
  {
   "cell_type": "markdown",
   "metadata": {},
   "source": [
    "## Анализ данных"
   ]
  },
  {
   "cell_type": "markdown",
   "metadata": {},
   "source": [
    "### Исследование изменения концентрации элементов на каждом этапе"
   ]
  },
  {
   "cell_type": "markdown",
   "metadata": {},
   "source": [
    "Составим словарь с нашими элементами:"
   ]
  },
  {
   "cell_type": "code",
   "execution_count": 164,
   "metadata": {},
   "outputs": [],
   "source": [
    "element = {'Серебро':[\n",
    "                        'rougher.output.concentrate_ag',\n",
    "                        'primary_cleaner.output.concentrate_ag',\n",
    "                        'final.output.concentrate_ag' ],\n",
    "               'Золото':[\n",
    "                       'rougher.output.concentrate_au', \n",
    "                       'primary_cleaner.output.concentrate_au', \n",
    "                       'final.output.concentrate_au' ],\n",
    "               'Свинец':[\n",
    "                       'rougher.output.concentrate_pb',\n",
    "                       'primary_cleaner.output.concentrate_pb',\n",
    "                       'final.output.concentrate_pb' ]}"
   ]
  },
  {
   "cell_type": "markdown",
   "metadata": {},
   "source": [
    "С помощью цикла и нового словаря выведем на экран распределение значений доли элементов в концентрате на каждом этапе:"
   ]
  },
  {
   "cell_type": "code",
   "execution_count": 165,
   "metadata": {},
   "outputs": [
    {
     "data": {
      "image/png": "[encoded data removed]",
      "text/plain": [
       "<Figure size 1080x576 with 1 Axes>"
      ]
     },
     "metadata": {},
     "output_type": "display_data"
    },
    {
     "data": {
      "image/png": "[encoded data removed]",
      "text/plain": [
       "<Figure size 1080x576 with 1 Axes>"
      ]
     },
     "metadata": {},
     "output_type": "display_data"
    },
    {
     "data": {
      "image/png": "[encoded data removed]",
      "text/plain": [
       "<Figure size 1080x576 with 1 Axes>"
      ]
     },
     "metadata": {},
     "output_type": "display_data"
    }
   ],
   "source": [
    "for key in element:\n",
    "    plt.figure(figsize=(15,8))\n",
    "    sns.boxplot(data = df_full[element[key]])\n",
    "    plt.title(f'Распределение значений доли элемента {key} в концентрате на каждом этапе')\n",
    "    \n",
    "    plt.show()"
   ]
  },
  {
   "cell_type": "markdown",
   "metadata": {},
   "source": [
    "По полученным распределениям можно сказать, что:\n",
    "* концентрация **`Серебра`** на каждом этапе падает;\n",
    "* концентрация **`Золота`** на каждом этапе растет;\n",
    "* концентрация **`Свинца`** вырастает после первичной очистки, но после вторичной изменений практически не происходит"
   ]
  },
  {
   "cell_type": "markdown",
   "metadata": {},
   "source": [
    "### Анализ распределения размеров гранул на обучающей и тестовой выборках"
   ]
  },
  {
   "cell_type": "markdown",
   "metadata": {},
   "source": [
    "Сравним распределения размеров гранул на двух выборках через построение графиков, для этого напишем итератор с помощью функции **`zip()`** для объединения элементов из нескольких источников данных и нарисуем графики:"
   ]
  },
  {
   "cell_type": "code",
   "execution_count": 166,
   "metadata": {
    "scrolled": true
   },
   "outputs": [
    {
     "data": {
      "image/png": "[encoded data removed]",
      "text/plain": [
       "<Figure size 432x288 with 1 Axes>"
      ]
     },
     "metadata": {},
     "output_type": "display_data"
    }
   ],
   "source": [
    "for frame, name in zip([df_train, df_test], [\"обучающая выборка\",\"тестовая выборка\"]):\n",
    "    subset = frame[\"rougher.input.feed_size\"]\n",
    "    sns.distplot(subset, hist = False, kde = True, label = name)\n",
    "plt.legend()\n",
    "plt.title('Распределения размеров гранул на обучающей и тестовой выборках')\n",
    "plt.show()"
   ]
  },
  {
   "cell_type": "code",
   "execution_count": 167,
   "metadata": {},
   "outputs": [
    {
     "data": {
      "text/html": [
       "<div>\n",
       "<style scoped>\n",
       "    .dataframe tbody tr th:only-of-type {\n",
       "        vertical-align: middle;\n",
       "    }\n",
       "\n",
       "    .dataframe tbody tr th {\n",
       "        vertical-align: top;\n",
       "    }\n",
       "\n",
       "    .dataframe thead th {\n",
       "        text-align: right;\n",
       "    }\n",
       "</style>\n",
       "<table border=\"1\" class=\"dataframe\">\n",
       "  <thead>\n",
       "    <tr style=\"text-align: right;\">\n",
       "      <th></th>\n",
       "      <th>rougher.input.feed_size</th>\n",
       "    </tr>\n",
       "  </thead>\n",
       "  <tbody>\n",
       "    <tr>\n",
       "      <td>count</td>\n",
       "      <td>13769.000000</td>\n",
       "    </tr>\n",
       "    <tr>\n",
       "      <td>mean</td>\n",
       "      <td>60.281825</td>\n",
       "    </tr>\n",
       "    <tr>\n",
       "      <td>std</td>\n",
       "      <td>23.101305</td>\n",
       "    </tr>\n",
       "    <tr>\n",
       "      <td>min</td>\n",
       "      <td>9.659576</td>\n",
       "    </tr>\n",
       "    <tr>\n",
       "      <td>25%</td>\n",
       "      <td>49.009910</td>\n",
       "    </tr>\n",
       "    <tr>\n",
       "      <td>50%</td>\n",
       "      <td>55.373885</td>\n",
       "    </tr>\n",
       "    <tr>\n",
       "      <td>75%</td>\n",
       "      <td>65.982420</td>\n",
       "    </tr>\n",
       "    <tr>\n",
       "      <td>max</td>\n",
       "      <td>484.967466</td>\n",
       "    </tr>\n",
       "  </tbody>\n",
       "</table>\n",
       "</div>"
      ],
      "text/plain": [
       "       rougher.input.feed_size\n",
       "count             13769.000000\n",
       "mean                 60.281825\n",
       "std                  23.101305\n",
       "min                   9.659576\n",
       "25%                  49.009910\n",
       "50%                  55.373885\n",
       "75%                  65.982420\n",
       "max                 484.967466"
      ]
     },
     "execution_count": 167,
     "metadata": {},
     "output_type": "execute_result"
    }
   ],
   "source": [
    "# выведем основные статистические показатели обучающей выборки\n",
    "df_train[['rougher.input.feed_size']].dropna().describe()"
   ]
  },
  {
   "cell_type": "code",
   "execution_count": 168,
   "metadata": {},
   "outputs": [
    {
     "data": {
      "text/html": [
       "<div>\n",
       "<style scoped>\n",
       "    .dataframe tbody tr th:only-of-type {\n",
       "        vertical-align: middle;\n",
       "    }\n",
       "\n",
       "    .dataframe tbody tr th {\n",
       "        vertical-align: top;\n",
       "    }\n",
       "\n",
       "    .dataframe thead th {\n",
       "        text-align: right;\n",
       "    }\n",
       "</style>\n",
       "<table border=\"1\" class=\"dataframe\">\n",
       "  <thead>\n",
       "    <tr style=\"text-align: right;\">\n",
       "      <th></th>\n",
       "      <th>rougher.input.feed_size</th>\n",
       "    </tr>\n",
       "  </thead>\n",
       "  <tbody>\n",
       "    <tr>\n",
       "      <td>count</td>\n",
       "      <td>5147.000000</td>\n",
       "    </tr>\n",
       "    <tr>\n",
       "      <td>mean</td>\n",
       "      <td>56.014819</td>\n",
       "    </tr>\n",
       "    <tr>\n",
       "      <td>std</td>\n",
       "      <td>19.115978</td>\n",
       "    </tr>\n",
       "    <tr>\n",
       "      <td>min</td>\n",
       "      <td>0.046369</td>\n",
       "    </tr>\n",
       "    <tr>\n",
       "      <td>25%</td>\n",
       "      <td>43.905907</td>\n",
       "    </tr>\n",
       "    <tr>\n",
       "      <td>50%</td>\n",
       "      <td>51.140313</td>\n",
       "    </tr>\n",
       "    <tr>\n",
       "      <td>75%</td>\n",
       "      <td>62.444459</td>\n",
       "    </tr>\n",
       "    <tr>\n",
       "      <td>max</td>\n",
       "      <td>392.494040</td>\n",
       "    </tr>\n",
       "  </tbody>\n",
       "</table>\n",
       "</div>"
      ],
      "text/plain": [
       "       rougher.input.feed_size\n",
       "count              5147.000000\n",
       "mean                 56.014819\n",
       "std                  19.115978\n",
       "min                   0.046369\n",
       "25%                  43.905907\n",
       "50%                  51.140313\n",
       "75%                  62.444459\n",
       "max                 392.494040"
      ]
     },
     "execution_count": 168,
     "metadata": {},
     "output_type": "execute_result"
    }
   ],
   "source": [
    "# выведем основные статистические показатели тестовой выборки\n",
    "df_test[['rougher.input.feed_size']].dropna().describe()"
   ]
  },
  {
   "cell_type": "markdown",
   "metadata": {},
   "source": [
    "Как видим различия между распределениями размеров гранул не существенные и графики почти совпадают."
   ]
  },
  {
   "cell_type": "markdown",
   "metadata": {},
   "source": [
    "### Исследование суммарных концентраций"
   ]
  },
  {
   "cell_type": "markdown",
   "metadata": {},
   "source": [
    "Создадим новый словарь для построения гистограмм и заполним его необходимыми нам ключами и значениями, а затем через цикл построим гистограммы суммарных концентраций элементов на разных стадиях."
   ]
  },
  {
   "cell_type": "code",
   "execution_count": 169,
   "metadata": {},
   "outputs": [],
   "source": [
    "sum_list = {'rougher':[x for x in df_full.columns if x.startswith('rougher.output.concentrate')],\n",
    "            'primary_cleaner':[x for x in df_full.columns if x.startswith('primary_cleaner.output.concentrate')],\n",
    "            'final':[x for x in df_full.columns if x.startswith('final.output.concentrate')]}"
   ]
  },
  {
   "cell_type": "code",
   "execution_count": 170,
   "metadata": {},
   "outputs": [
    {
     "data": {
      "image/png": "[encoded data removed]",
      "text/plain": [
       "<Figure size 1152x720 with 1 Axes>"
      ]
     },
     "metadata": {},
     "output_type": "display_data"
    }
   ],
   "source": [
    "plt.figure(figsize=(16, 10))\n",
    "for key in sum_list:\n",
    "    np.sum(df_full[sum_list[key]], axis=1).hist(bins = 100, alpha = 0.5)\n",
    "plt.title('Гистограммы суммарной концентрации элементов на разных стадиях')\n",
    "plt.legend(['Rougher', 'Primary Cleaner', 'Final'])\n",
    "plt.show()"
   ]
  },
  {
   "cell_type": "markdown",
   "metadata": {},
   "source": [
    "Видим, что присутствуют нулевые значения и можно предположить, что концентрат мог отсутствовать, то есть происходило прерывание процесса. Для предсказания результатов процесса оставим только данные для тех периодов, которые не прерывались. Поэтому отбросим 1 процент значений."
   ]
  },
  {
   "cell_type": "code",
   "execution_count": 171,
   "metadata": {},
   "outputs": [
    {
     "data": {
      "image/png": "[encoded data removed]",
      "text/plain": [
       "<Figure size 1152x720 with 1 Axes>"
      ]
     },
     "metadata": {},
     "output_type": "display_data"
    }
   ],
   "source": [
    "plt.figure(figsize=(16, 10))\n",
    "for key in sum_list:\n",
    "    df_cut = np.sum(df_full[sum_list[key]], axis=1)\n",
    "    cutoff_point = np.percentile(df_cut, 1)\n",
    "    df_cut[df_cut>cutoff_point].hist(bins = 100, alpha = 0.5 )\n",
    "plt.title('Гистограммы суммарной концентрации всех веществ на разных стадиях')\n",
    "plt.legend(['Rougher', 'Primary Cleaner', 'Final'])\n",
    "plt.show()"
   ]
  },
  {
   "cell_type": "markdown",
   "metadata": {},
   "source": [
    "Видим, что на финальной стадии обработки диапазон значений заметно сужается."
   ]
  },
  {
   "cell_type": "markdown",
   "metadata": {},
   "source": [
    "### Вывод"
   ]
  },
  {
   "cell_type": "markdown",
   "metadata": {},
   "source": [
    "Мы провели анализ данных, а именно:\n",
    "* исследовали изменения концентрации элементов на каждом этапе;\n",
    "* проанализировали распределения размеров гранул на обучающей и тестовой выборках;\n",
    "* провели исследование суммарных концентраций."
   ]
  },
  {
   "cell_type": "markdown",
   "metadata": {},
   "source": [
    "## Модель"
   ]
  },
  {
   "cell_type": "markdown",
   "metadata": {},
   "source": [
    "### Функция для вычисления итогового sMAPE"
   ]
  },
  {
   "cell_type": "markdown",
   "metadata": {},
   "source": [
    "Формула метрики качества sMAPE нам известна из задания, напишем для нее функцию:"
   ]
  },
  {
   "cell_type": "code",
   "execution_count": 172,
   "metadata": {},
   "outputs": [],
   "source": [
    "def smape(y_true, y_pred):\n",
    "    formula_smape = np.mean(abs(y_true - y_pred)/((abs(y_true)+abs(y_pred))/2))*100\n",
    "    return formula_smape"
   ]
  },
  {
   "cell_type": "markdown",
   "metadata": {},
   "source": [
    "Функция для итоговой sMAPE:"
   ]
  },
  {
   "cell_type": "code",
   "execution_count": 173,
   "metadata": {},
   "outputs": [],
   "source": [
    "def total_smape(smape_rougher, smape_final):\n",
    "    return (0.25*smape_rougher + 0.75*smape_final)"
   ]
  },
  {
   "cell_type": "code",
   "execution_count": 174,
   "metadata": {},
   "outputs": [],
   "source": [
    "smape_scoring = make_scorer(smape, greater_is_better=False)"
   ]
  },
  {
   "cell_type": "markdown",
   "metadata": {},
   "source": [
    "### Разбивка данных"
   ]
  },
  {
   "cell_type": "markdown",
   "metadata": {},
   "source": [
    "Перед обучением моделей подготовим признаки. Для предсказания эффективности обогащения после первого этапа, будем использовать показатели относящиеся только к этому этапу. Для этого построим хитмап и посмотрим как коррелируют между собой признаки."
   ]
  },
  {
   "cell_type": "code",
   "execution_count": 175,
   "metadata": {},
   "outputs": [],
   "source": [
    "# создаем пустой список для признаков rougher\n",
    "rougher_features = []\n",
    "# через цикл перебираем названия признаков обучающей выборки\n",
    "for column in df_train.columns:\n",
    "    # если признак в своем названии содержит \"rougher\", то\n",
    "    if (\"rougher\" in column):\n",
    "        # добавляем признак в наш новый список\n",
    "        rougher_features.append(column)"
   ]
  },
  {
   "cell_type": "code",
   "execution_count": 176,
   "metadata": {},
   "outputs": [
    {
     "data": {
      "image/png": "[encoded data removed]",
      "text/plain": [
       "<Figure size 1080x1080 with 2 Axes>"
      ]
     },
     "metadata": {},
     "output_type": "display_data"
    }
   ],
   "source": [
    "# строим хитмап по отобранным нами признакам и смотрим как они коррелируют между собой\n",
    "plt.figure(figsize=(15, 15))\n",
    "sns.heatmap(df_train[rougher_features].corr())\n",
    "plt.show()"
   ]
  },
  {
   "cell_type": "code",
   "execution_count": 177,
   "metadata": {},
   "outputs": [],
   "source": [
    "# оставим необходимые нам признаки для rougher\n",
    "rougher_features = ['rougher.input.feed_ag',\n",
    "                    'rougher.input.feed_pb',\n",
    "                    'rougher.input.feed_rate',\n",
    "                    'rougher.input.feed_size',\n",
    "                    'rougher.input.feed_sol',\n",
    "                    'rougher.input.feed_au',\n",
    "                    'rougher.input.floatbank10_sulfate',\n",
    "                    'rougher.input.floatbank10_xanthate',\n",
    "                    'rougher.state.floatbank10_a_air',\n",
    "                    'rougher.state.floatbank10_a_level']"
   ]
  },
  {
   "cell_type": "code",
   "execution_count": 178,
   "metadata": {},
   "outputs": [],
   "source": [
    "# создаем пустой список для признаков final\n",
    "final_features = []\n",
    "# через цикл перебираем названия признаков обучающей выборки\n",
    "for column in df_train.columns:\n",
    "    # если признак в своем названии не содержит \"rougher\", то\n",
    "    if not(\"rougher\" in column):\n",
    "        # добавляем признак в наш новый список\n",
    "        final_features.append(column)"
   ]
  },
  {
   "cell_type": "code",
   "execution_count": 179,
   "metadata": {},
   "outputs": [
    {
     "data": {
      "image/png": "[encoded data removed]",
      "text/plain": [
       "<Figure size 1080x1080 with 2 Axes>"
      ]
     },
     "metadata": {},
     "output_type": "display_data"
    }
   ],
   "source": [
    "# строим хитмап по отобранным нами признакам и смотрим как они коррелируют между собой\n",
    "plt.figure(figsize=(15, 15))\n",
    "sns.heatmap(df_train[final_features].corr())\n",
    "plt.show()"
   ]
  },
  {
   "cell_type": "code",
   "execution_count": 180,
   "metadata": {},
   "outputs": [],
   "source": [
    "# оставим необходимые нам признаки для final\n",
    "final_features = ['primary_cleaner.input.sulfate',\n",
    "                  'primary_cleaner.input.depressant',\n",
    "                  'primary_cleaner.input.feed_size',\n",
    "                  'primary_cleaner.input.xanthate',\n",
    "                  'primary_cleaner.state.floatbank8_a_air',\n",
    "                  'primary_cleaner.state.floatbank8_a_level',\n",
    "                  'secondary_cleaner.state.floatbank4_a_air',\n",
    "                  'secondary_cleaner.state.floatbank4_a_level']"
   ]
  },
  {
   "cell_type": "code",
   "execution_count": 181,
   "metadata": {},
   "outputs": [
    {
     "name": "stdout",
     "output_type": "stream",
     "text": [
      "(13769, 10)\n",
      "(13769,)\n"
     ]
    }
   ],
   "source": [
    "# разобьем данные обучающей выборки на признаки и целевой признак для rougher\n",
    "X_train_rougher = df_train[rougher_features]\n",
    "Y_train_rougher = df_train['rougher.output.recovery']\n",
    "# посмотрим на формы\n",
    "print(X_train_rougher.shape)\n",
    "print(Y_train_rougher.shape)"
   ]
  },
  {
   "cell_type": "code",
   "execution_count": 182,
   "metadata": {},
   "outputs": [
    {
     "name": "stdout",
     "output_type": "stream",
     "text": [
      "(5147, 10)\n",
      "(5147,)\n"
     ]
    }
   ],
   "source": [
    "# разобьем данные тестовой выборки на признаки и целевой признак для rougher\n",
    "X_test_rougher = df_test[rougher_features]\n",
    "Y_test_rougher = df_test['rougher.output.recovery']\n",
    "# посмотрим на формы\n",
    "print(X_test_rougher.shape)\n",
    "print(Y_test_rougher.shape)"
   ]
  },
  {
   "cell_type": "code",
   "execution_count": 183,
   "metadata": {},
   "outputs": [
    {
     "name": "stdout",
     "output_type": "stream",
     "text": [
      "(13769, 18)\n",
      "(13769,)\n"
     ]
    }
   ],
   "source": [
    "# разобьем данные обучающей выборки на признаки и целевой признак для final\n",
    "X_train_final = df_train[final_features+rougher_features]\n",
    "Y_train_final = df_train['final.output.recovery']\n",
    "# посмотрим на формы\n",
    "print(X_train_final.shape)\n",
    "print(Y_train_final.shape)"
   ]
  },
  {
   "cell_type": "code",
   "execution_count": 184,
   "metadata": {},
   "outputs": [
    {
     "name": "stdout",
     "output_type": "stream",
     "text": [
      "(5147, 18)\n",
      "(5147,)\n"
     ]
    }
   ],
   "source": [
    "# разобьем данные тестовой выборки на признаки и целевой признак для final\n",
    "X_test_final = df_test[final_features+rougher_features]\n",
    "Y_test_final = df_test['final.output.recovery']\n",
    "# посмотрим на формы\n",
    "print(X_test_final.shape)\n",
    "print(Y_test_final.shape)"
   ]
  },
  {
   "cell_type": "markdown",
   "metadata": {},
   "source": [
    "### Обучение и сравнение моделей"
   ]
  },
  {
   "cell_type": "markdown",
   "metadata": {},
   "source": [
    "#### Константная модель"
   ]
  },
  {
   "cell_type": "markdown",
   "metadata": {},
   "source": [
    "Вычислим sMAPE для константной модели:"
   ]
  },
  {
   "cell_type": "code",
   "execution_count": 185,
   "metadata": {},
   "outputs": [
    {
     "name": "stdout",
     "output_type": "stream",
     "text": [
      "sMAPE для константной модели:  7.352378602972202\n"
     ]
    }
   ],
   "source": [
    "dummy_one = DummyRegressor(strategy='median')\n",
    "dummy_two = DummyRegressor(strategy='median')\n",
    "dummy_one.fit(X_train_rougher, Y_train_rougher)\n",
    "dummy_two.fit(X_train_final, Y_train_final)\n",
    "dummy_pred_one = dummy_one.predict(X_test_rougher)\n",
    "dummy_pred_two = dummy_two.predict(X_test_final)\n",
    "rough = smape(Y_test_rougher, dummy_pred_one) \n",
    "final = smape(Y_test_final, dummy_pred_two)\n",
    "total_dummy = total_smape(rough, final)\n",
    "print('sMAPE для константной модели: ', total_dummy)"
   ]
  },
  {
   "cell_type": "markdown",
   "metadata": {},
   "source": [
    "#### Сравнение моделей регрессии"
   ]
  },
  {
   "cell_type": "markdown",
   "metadata": {},
   "source": [
    "Для сравнения и поиска лучшей модели выберем `Linear Regression`, `Random Forest Regressor` и `Decision Tree Regressor`."
   ]
  },
  {
   "cell_type": "code",
   "execution_count": 186,
   "metadata": {},
   "outputs": [
    {
     "name": "stdout",
     "output_type": "stream",
     "text": [
      "Linear Regression: 7.678769 (0.113763)\n",
      "Random Forest Regressor: 5.546034 (0.047694)\n",
      "Decision Tree Regressor: 7.241545 (0.087650)\n"
     ]
    }
   ],
   "source": [
    "# создаем новый список для пайплайнов\n",
    "pipelines = []\n",
    "# задаем значение random_state\n",
    "rand = 13\n",
    "# заполняем наш новый список\n",
    "pipelines.append(('Linear Regression', (Pipeline([('scaled', MinMaxScaler()), ('LR', LinearRegression())]))))\n",
    "pipelines.append(('Random Forest Regressor',\n",
    "                  (Pipeline([('scaled', MinMaxScaler()),\n",
    "                             ('RFR', RandomForestRegressor(random_state=rand))]))))\n",
    "pipelines.append(('Decision Tree Regressor',\n",
    "                  (Pipeline([('scaled', MinMaxScaler()),\n",
    "                             ('DT', DecisionTreeRegressor(random_state=rand))]))))\n",
    "\n",
    "# создаем новый список для названия моделей\n",
    "model_name = []\n",
    "# создаем новый список для значений результатов\n",
    "results = []\n",
    "\n",
    "# через цикл применяем кроссвалидацию\n",
    "for pipe, model in pipelines:\n",
    "    kfold = KFold(n_splits=3, shuffle= True)\n",
    "    crossv_results_rougher = cross_val_score(model,\n",
    "                                             X_train_rougher,\n",
    "                                             Y_train_rougher,\n",
    "                                             cv = kfold,\n",
    "                                             scoring=smape_scoring)\n",
    "    crossv_results_final = cross_val_score(model,\n",
    "                                           X_train_final,\n",
    "                                           Y_train_final,\n",
    "                                           cv = kfold,\n",
    "                                           scoring=smape_scoring)\n",
    "    # записываем в results результат применения функции total_smape\n",
    "    results.append(abs(total_smape(crossv_results_rougher, crossv_results_final)))\n",
    "    # записываем в model_name название модели регрессии\n",
    "    model_name.append(pipe)\n",
    "    # создаем новую переменную в которую сохраняем: название модели; среднее значение и стандартное отклонение\n",
    "    info_result = \"%s: %f (%f)\" % (pipe, np.mean(results[-1]), np.std(results[-1]))\n",
    "    # выводим содержимое переменной info_result на экран\n",
    "    print(info_result)"
   ]
  },
  {
   "cell_type": "markdown",
   "metadata": {},
   "source": [
    "### Выбор лучшей модели"
   ]
  },
  {
   "cell_type": "markdown",
   "metadata": {},
   "source": [
    "Как видим из полученных значений лучшей моделью оказался **`Случайный лес`**."
   ]
  },
  {
   "cell_type": "markdown",
   "metadata": {},
   "source": [
    "### Проверка модели"
   ]
  },
  {
   "cell_type": "markdown",
   "metadata": {},
   "source": [
    "Первым делом перемешаем признаки:"
   ]
  },
  {
   "cell_type": "code",
   "execution_count": 187,
   "metadata": {},
   "outputs": [],
   "source": [
    "# Обучающая выборка rougher\n",
    "X_train_rougher_shuffled = shuffle(X_train_rougher, random_state = rand)\n",
    "Y_train_rougher_shuffled = shuffle(Y_train_rougher, random_state = rand)\n",
    "# Тестовая выборка rougher\n",
    "X_test_rougher_shuffled = shuffle(X_test_rougher, random_state = rand)\n",
    "Y_test_rougher_shuffled = shuffle(Y_test_rougher, random_state = rand)\n",
    "# Обучающая выборка final\n",
    "X_train_final_shuffled = shuffle(X_train_final, random_state = rand)\n",
    "Y_train_final_shuffled = shuffle(Y_train_final, random_state = rand)\n",
    "# Тестовая выборка final\n",
    "X_test_final_shuffled = shuffle(X_test_final, random_state = rand)\n",
    "Y_test_final_shuffled = shuffle(Y_test_final, random_state = rand)"
   ]
  },
  {
   "cell_type": "code",
   "execution_count": 188,
   "metadata": {},
   "outputs": [],
   "source": [
    "# инициализируем pipeline для rougher\n",
    "pipe_rougher = Pipeline([('scaled', MinMaxScaler()), ('RFR', RandomForestRegressor(random_state=rand))])\n",
    "# обучаем модель\n",
    "pipe_rougher.fit(X_train_rougher_shuffled, Y_train_rougher_shuffled)\n",
    "# получаем предсказания\n",
    "pred_rougher = pipe_rougher.predict(X_test_rougher_shuffled)\n",
    "# рассчитываем smape для rougher\n",
    "rougher = smape(Y_test_rougher_shuffled, pred_rougher)"
   ]
  },
  {
   "cell_type": "code",
   "execution_count": 189,
   "metadata": {},
   "outputs": [],
   "source": [
    "# инициализируем pipeline для final\n",
    "pipe_final = Pipeline([('scaled', MinMaxScaler()), ('RFR', RandomForestRegressor(random_state=rand))])\n",
    "# обучаем модель\n",
    "pipe_final.fit(X_train_final_shuffled, Y_train_final_shuffled)\n",
    "# получаем предсказания\n",
    "pred_final = pipe_final.predict(X_test_final_shuffled)\n",
    "# рассчитываем smape для final\n",
    "final = smape(Y_test_final_shuffled, pred_final)"
   ]
  },
  {
   "cell_type": "markdown",
   "metadata": {},
   "source": [
    "Рассчитаем итоговый sMAPE:"
   ]
  },
  {
   "cell_type": "code",
   "execution_count": 190,
   "metadata": {},
   "outputs": [
    {
     "name": "stdout",
     "output_type": "stream",
     "text": [
      "7.708438079497554\n"
     ]
    }
   ],
   "source": [
    "final_smape = total_smape(rougher, final)\n",
    "print(final_smape)"
   ]
  },
  {
   "cell_type": "markdown",
   "metadata": {},
   "source": [
    "Сравним \"`Случайный лес`\" с \"`Константной моделью`\":"
   ]
  },
  {
   "cell_type": "code",
   "execution_count": 191,
   "metadata": {},
   "outputs": [
    {
     "name": "stdout",
     "output_type": "stream",
     "text": [
      "Модель Случайного леса на тестовой выборке лучше, чем константная\n"
     ]
    }
   ],
   "source": [
    "if final_smape > total_dummy:\n",
    "    print('Модель Случайного леса на тестовой выборке лучше, чем константная')\n",
    "else:\n",
    "    print('Константная модель лучше')"
   ]
  },
  {
   "cell_type": "markdown",
   "metadata": {},
   "source": [
    "### Вывод"
   ]
  },
  {
   "cell_type": "markdown",
   "metadata": {},
   "source": [
    "Результат выбранной нами модели `Случайного леса` на тестовой выборке получился **`лучше`**, чем на `константной модели`."
   ]
  },
  {
   "cell_type": "markdown",
   "metadata": {},
   "source": [
    "## Общий вывод"
   ]
  },
  {
   "cell_type": "markdown",
   "metadata": {},
   "source": [
    "В процессе проведения исследовательского анализа данных мы открыли и изучили файлы, проанализировали признаки, недоступные в тестовой выборке, проверили формулы вычисления эффективности обогащения. Провели предобработку данных на обучающей и тестовой выборке, обработали пропущенные и нулевые значения в данных. \n",
    "\n",
    "В процессе анализа данных, выполнили следующие действия:\n",
    "* исследовали изменения концентрации элементов на каждом этапе;\n",
    "* проанализировали распределения размеров гранул на обучающей и тестовой выборках;\n",
    "* провели исследование суммарных концентраций.\n",
    "\n",
    "Написали функцию для вычисления итогового sMAPE, произвели разбивку данных на признаки и целевые признаки. Выбрали для сравнения три модели регрессии (Linear Regression, Random Forest Regressor, Decision Tree Regressor) и выяснили, что лучшей себя показала модель **`Random Forest Regressor`**. Ну и наконец мы проверили нашу лучшую модель на тестовых данных и сравнили ее с константной моделью."
   ]
  }
 ],
 "metadata": {
  "ExecuteTimeLog": [
   {
    "duration": 1184,
    "start_time": "2022-03-08T12:06:35.973Z"
   },
   {
    "duration": 2,
    "start_time": "2022-03-08T12:08:35.535Z"
   },
   {
    "duration": 78,
    "start_time": "2022-03-08T12:20:32.667Z"
   },
   {
    "duration": 1881,
    "start_time": "2022-03-08T12:20:50.479Z"
   },
   {
    "duration": 1675,
    "start_time": "2022-03-08T12:21:50.044Z"
   },
   {
    "duration": 1744,
    "start_time": "2022-03-08T12:22:57.235Z"
   },
   {
    "duration": 1988,
    "start_time": "2022-03-08T12:23:26.747Z"
   },
   {
    "duration": 710,
    "start_time": "2022-03-08T12:24:02.340Z"
   },
   {
    "duration": 5,
    "start_time": "2022-03-08T12:25:49.643Z"
   },
   {
    "duration": 745,
    "start_time": "2022-03-08T12:25:52.332Z"
   },
   {
    "duration": 6,
    "start_time": "2022-03-08T12:26:00.468Z"
   },
   {
    "duration": 3,
    "start_time": "2022-03-08T12:27:02.216Z"
   },
   {
    "duration": 61,
    "start_time": "2022-03-08T12:32:59.948Z"
   },
   {
    "duration": 36,
    "start_time": "2022-03-08T12:33:52.479Z"
   },
   {
    "duration": 30,
    "start_time": "2022-03-08T12:34:44.165Z"
   },
   {
    "duration": 77,
    "start_time": "2022-03-08T13:10:49.644Z"
   },
   {
    "duration": 11,
    "start_time": "2022-03-08T13:11:55.916Z"
   },
   {
    "duration": 10,
    "start_time": "2022-03-08T13:12:28.380Z"
   },
   {
    "duration": 13,
    "start_time": "2022-03-08T13:13:00.425Z"
   },
   {
    "duration": 5,
    "start_time": "2022-03-08T13:29:01.940Z"
   },
   {
    "duration": 5,
    "start_time": "2022-03-08T13:29:41.624Z"
   },
   {
    "duration": 3,
    "start_time": "2022-03-08T13:49:29.071Z"
   },
   {
    "duration": 3,
    "start_time": "2022-03-08T13:52:00.538Z"
   },
   {
    "duration": 3,
    "start_time": "2022-03-08T13:57:28.227Z"
   },
   {
    "duration": 238,
    "start_time": "2022-03-08T14:04:27.899Z"
   },
   {
    "duration": 7,
    "start_time": "2022-03-08T14:05:03.211Z"
   },
   {
    "duration": 9,
    "start_time": "2022-03-08T14:05:51.727Z"
   },
   {
    "duration": 4,
    "start_time": "2022-03-08T14:12:28.012Z"
   },
   {
    "duration": 231,
    "start_time": "2022-03-08T14:12:53.857Z"
   },
   {
    "duration": 8,
    "start_time": "2022-03-08T14:13:12.440Z"
   },
   {
    "duration": 10,
    "start_time": "2022-03-08T14:16:40.956Z"
   },
   {
    "duration": 5,
    "start_time": "2022-03-08T14:25:28.256Z"
   },
   {
    "duration": 5,
    "start_time": "2022-03-08T14:25:43.175Z"
   },
   {
    "duration": 4,
    "start_time": "2022-03-08T14:27:20.317Z"
   },
   {
    "duration": 5,
    "start_time": "2022-03-08T15:03:03.725Z"
   },
   {
    "duration": 3,
    "start_time": "2022-03-08T15:25:19.382Z"
   },
   {
    "duration": 3,
    "start_time": "2022-03-08T15:29:28.254Z"
   },
   {
    "duration": 3,
    "start_time": "2022-03-08T15:30:17.466Z"
   },
   {
    "duration": 5,
    "start_time": "2022-03-08T15:35:01.686Z"
   },
   {
    "duration": 3,
    "start_time": "2022-03-08T15:35:44.962Z"
   },
   {
    "duration": 5,
    "start_time": "2022-03-08T15:41:58.816Z"
   },
   {
    "duration": 5,
    "start_time": "2022-03-08T15:42:21.441Z"
   },
   {
    "duration": 22,
    "start_time": "2022-03-08T15:45:09.489Z"
   },
   {
    "duration": 19,
    "start_time": "2022-03-08T15:45:27.440Z"
   },
   {
    "duration": 23,
    "start_time": "2022-03-08T15:45:32.196Z"
   },
   {
    "duration": 23,
    "start_time": "2022-03-08T15:46:02.564Z"
   },
   {
    "duration": 10,
    "start_time": "2022-03-08T15:49:31.081Z"
   },
   {
    "duration": 32,
    "start_time": "2022-03-08T15:51:10.400Z"
   },
   {
    "duration": 18,
    "start_time": "2022-03-08T15:54:05.383Z"
   },
   {
    "duration": 13,
    "start_time": "2022-03-08T15:58:45.883Z"
   },
   {
    "duration": 4,
    "start_time": "2022-03-08T16:35:15.233Z"
   },
   {
    "duration": 18,
    "start_time": "2022-03-08T16:37:05.843Z"
   },
   {
    "duration": 5,
    "start_time": "2022-03-08T16:43:11.547Z"
   },
   {
    "duration": 721,
    "start_time": "2022-03-08T16:43:11.587Z"
   },
   {
    "duration": 4,
    "start_time": "2022-03-08T16:43:12.310Z"
   },
   {
    "duration": 72,
    "start_time": "2022-03-08T16:43:12.316Z"
   },
   {
    "duration": 4,
    "start_time": "2022-03-08T16:43:12.390Z"
   },
   {
    "duration": 16,
    "start_time": "2022-03-08T16:43:12.395Z"
   },
   {
    "duration": 9,
    "start_time": "2022-03-08T16:43:12.413Z"
   },
   {
    "duration": 40,
    "start_time": "2022-03-08T16:43:12.423Z"
   },
   {
    "duration": 5,
    "start_time": "2022-03-08T16:43:12.465Z"
   },
   {
    "duration": 3,
    "start_time": "2022-03-08T16:43:12.472Z"
   },
   {
    "duration": 8,
    "start_time": "2022-03-08T16:43:12.476Z"
   },
   {
    "duration": 11,
    "start_time": "2022-03-08T16:43:12.486Z"
   },
   {
    "duration": 10,
    "start_time": "2022-03-08T16:43:12.498Z"
   },
   {
    "duration": 7,
    "start_time": "2022-03-08T16:43:12.510Z"
   },
   {
    "duration": 9,
    "start_time": "2022-03-08T16:43:12.519Z"
   },
   {
    "duration": 34,
    "start_time": "2022-03-08T16:43:12.529Z"
   },
   {
    "duration": 5,
    "start_time": "2022-03-08T16:43:12.667Z"
   },
   {
    "duration": 5,
    "start_time": "2022-03-08T16:43:12.731Z"
   },
   {
    "duration": 22,
    "start_time": "2022-03-08T16:43:12.763Z"
   },
   {
    "duration": 7,
    "start_time": "2022-03-08T16:43:12.892Z"
   },
   {
    "duration": 18,
    "start_time": "2022-03-08T16:43:12.943Z"
   },
   {
    "duration": 12,
    "start_time": "2022-03-08T16:43:12.999Z"
   },
   {
    "duration": 5,
    "start_time": "2022-03-08T16:43:13.139Z"
   },
   {
    "duration": 17,
    "start_time": "2022-03-08T16:43:13.191Z"
   },
   {
    "duration": 231,
    "start_time": "2022-03-08T16:43:45.355Z"
   },
   {
    "duration": 5,
    "start_time": "2022-03-08T16:44:31.814Z"
   },
   {
    "duration": 6,
    "start_time": "2022-03-08T16:45:08.794Z"
   },
   {
    "duration": 5,
    "start_time": "2022-03-08T16:45:16.382Z"
   },
   {
    "duration": 5,
    "start_time": "2022-03-08T16:45:41.818Z"
   },
   {
    "duration": 13,
    "start_time": "2022-03-08T16:46:48.972Z"
   },
   {
    "duration": 76,
    "start_time": "2022-03-08T16:55:37.187Z"
   },
   {
    "duration": 66,
    "start_time": "2022-03-08T16:55:43.710Z"
   },
   {
    "duration": 6,
    "start_time": "2022-03-08T16:56:08.408Z"
   },
   {
    "duration": 91,
    "start_time": "2022-03-08T16:56:58.238Z"
   },
   {
    "duration": 8,
    "start_time": "2022-03-08T16:57:01.550Z"
   },
   {
    "duration": 6,
    "start_time": "2022-03-08T16:57:23.115Z"
   },
   {
    "duration": 9,
    "start_time": "2022-03-08T16:57:55.510Z"
   },
   {
    "duration": 8,
    "start_time": "2022-03-08T16:58:02.954Z"
   },
   {
    "duration": 7,
    "start_time": "2022-03-08T16:58:53.150Z"
   },
   {
    "duration": 7,
    "start_time": "2022-03-15T06:18:38.903Z"
   },
   {
    "duration": 1142,
    "start_time": "2022-03-15T06:19:06.221Z"
   },
   {
    "duration": 673,
    "start_time": "2022-03-15T06:19:07.365Z"
   },
   {
    "duration": 4,
    "start_time": "2022-03-15T06:19:08.040Z"
   },
   {
    "duration": 60,
    "start_time": "2022-03-15T06:19:08.046Z"
   },
   {
    "duration": 3,
    "start_time": "2022-03-15T06:19:08.108Z"
   },
   {
    "duration": 15,
    "start_time": "2022-03-15T06:19:08.113Z"
   },
   {
    "duration": 8,
    "start_time": "2022-03-15T06:19:08.130Z"
   },
   {
    "duration": 13,
    "start_time": "2022-03-15T06:19:08.140Z"
   },
   {
    "duration": 4,
    "start_time": "2022-03-15T06:19:08.155Z"
   },
   {
    "duration": 4,
    "start_time": "2022-03-15T06:19:08.160Z"
   },
   {
    "duration": 41,
    "start_time": "2022-03-15T06:19:08.166Z"
   },
   {
    "duration": 11,
    "start_time": "2022-03-15T06:19:08.209Z"
   },
   {
    "duration": 3,
    "start_time": "2022-03-15T06:19:08.239Z"
   },
   {
    "duration": 9,
    "start_time": "2022-03-15T06:19:08.404Z"
   },
   {
    "duration": 9,
    "start_time": "2022-03-15T06:19:08.487Z"
   },
   {
    "duration": 5,
    "start_time": "2022-03-15T06:19:08.655Z"
   },
   {
    "duration": 3,
    "start_time": "2022-03-15T06:19:09.077Z"
   },
   {
    "duration": 7,
    "start_time": "2022-03-15T06:19:09.245Z"
   },
   {
    "duration": 18,
    "start_time": "2022-03-15T06:19:09.330Z"
   },
   {
    "duration": 6,
    "start_time": "2022-03-15T06:19:09.665Z"
   },
   {
    "duration": 16,
    "start_time": "2022-03-15T06:19:09.748Z"
   },
   {
    "duration": 13,
    "start_time": "2022-03-15T06:19:11.939Z"
   },
   {
    "duration": 8,
    "start_time": "2022-03-15T06:19:12.276Z"
   },
   {
    "duration": 4,
    "start_time": "2022-03-15T06:19:15.318Z"
   },
   {
    "duration": 15,
    "start_time": "2022-03-15T06:19:45.183Z"
   },
   {
    "duration": 14,
    "start_time": "2022-03-15T06:20:53.118Z"
   },
   {
    "duration": 29,
    "start_time": "2022-03-15T06:52:32.477Z"
   },
   {
    "duration": 7,
    "start_time": "2022-03-15T06:55:08.259Z"
   },
   {
    "duration": 8,
    "start_time": "2022-03-15T06:55:29.971Z"
   },
   {
    "duration": 6,
    "start_time": "2022-03-15T06:55:47.978Z"
   },
   {
    "duration": 6,
    "start_time": "2022-03-15T06:56:12.418Z"
   },
   {
    "duration": 5,
    "start_time": "2022-03-15T06:56:26.322Z"
   },
   {
    "duration": 5,
    "start_time": "2022-03-15T06:56:41.850Z"
   },
   {
    "duration": 9,
    "start_time": "2022-03-15T06:56:51.202Z"
   },
   {
    "duration": 11,
    "start_time": "2022-03-15T07:03:52.133Z"
   },
   {
    "duration": 6,
    "start_time": "2022-03-15T07:06:13.334Z"
   },
   {
    "duration": 64,
    "start_time": "2022-03-15T07:06:42.781Z"
   },
   {
    "duration": 58,
    "start_time": "2022-03-15T07:06:51.523Z"
   },
   {
    "duration": 98,
    "start_time": "2022-03-15T07:07:08.332Z"
   },
   {
    "duration": 22,
    "start_time": "2022-03-15T07:07:23.628Z"
   },
   {
    "duration": 13,
    "start_time": "2022-03-15T07:08:44.450Z"
   },
   {
    "duration": 11,
    "start_time": "2022-03-15T07:08:58.306Z"
   },
   {
    "duration": 2,
    "start_time": "2022-03-15T07:51:22.243Z"
   },
   {
    "duration": 6946,
    "start_time": "2022-03-15T08:02:23.750Z"
   },
   {
    "duration": 264,
    "start_time": "2022-03-15T08:03:49.918Z"
   },
   {
    "duration": 264,
    "start_time": "2022-03-15T08:04:01.950Z"
   },
   {
    "duration": 3,
    "start_time": "2022-03-15T08:04:10.367Z"
   },
   {
    "duration": 9,
    "start_time": "2022-03-15T08:11:45.347Z"
   },
   {
    "duration": 20505,
    "start_time": "2022-03-15T08:21:21.773Z"
   },
   {
    "duration": 21332,
    "start_time": "2022-03-15T08:22:49.796Z"
   },
   {
    "duration": 22010,
    "start_time": "2022-03-15T08:23:53.715Z"
   },
   {
    "duration": 31970,
    "start_time": "2022-03-15T08:24:48.963Z"
   },
   {
    "duration": 213,
    "start_time": "2022-03-15T08:26:46.658Z"
   },
   {
    "duration": 15945,
    "start_time": "2022-03-15T08:27:15.609Z"
   },
   {
    "duration": 15023,
    "start_time": "2022-03-15T08:27:44.209Z"
   },
   {
    "duration": 16731,
    "start_time": "2022-03-15T08:28:50.000Z"
   },
   {
    "duration": 21001,
    "start_time": "2022-03-15T08:31:19.279Z"
   },
   {
    "duration": 20666,
    "start_time": "2022-03-15T08:33:14.774Z"
   },
   {
    "duration": 27555,
    "start_time": "2022-03-15T08:33:53.165Z"
   },
   {
    "duration": 27631,
    "start_time": "2022-03-15T08:36:07.772Z"
   },
   {
    "duration": 29018,
    "start_time": "2022-03-15T08:37:36.403Z"
   },
   {
    "duration": 27605,
    "start_time": "2022-03-15T08:39:06.890Z"
   },
   {
    "duration": 11669,
    "start_time": "2022-03-15T08:40:10.427Z"
   },
   {
    "duration": 31501,
    "start_time": "2022-03-15T08:40:24.170Z"
   },
   {
    "duration": 24536,
    "start_time": "2022-03-15T08:42:22.904Z"
   },
   {
    "duration": 22,
    "start_time": "2022-03-15T08:47:17.132Z"
   },
   {
    "duration": 4,
    "start_time": "2022-03-15T08:49:27.804Z"
   },
   {
    "duration": 4,
    "start_time": "2022-03-15T08:49:39.660Z"
   },
   {
    "duration": 21,
    "start_time": "2022-03-15T08:56:14.905Z"
   },
   {
    "duration": 21,
    "start_time": "2022-03-15T08:56:45.672Z"
   },
   {
    "duration": 24,
    "start_time": "2022-03-15T08:56:57.688Z"
   },
   {
    "duration": 21,
    "start_time": "2022-03-15T08:57:18.568Z"
   },
   {
    "duration": 39,
    "start_time": "2022-03-15T08:57:34.898Z"
   },
   {
    "duration": 36,
    "start_time": "2022-03-15T08:59:53.271Z"
   },
   {
    "duration": 22,
    "start_time": "2022-03-15T09:00:53.519Z"
   },
   {
    "duration": 21,
    "start_time": "2022-03-15T09:01:13.904Z"
   },
   {
    "duration": 37,
    "start_time": "2022-03-15T09:08:44.642Z"
   },
   {
    "duration": 67,
    "start_time": "2022-03-15T09:09:12.826Z"
   },
   {
    "duration": 32,
    "start_time": "2022-03-15T09:09:49.385Z"
   },
   {
    "duration": 48,
    "start_time": "2022-03-15T09:10:10.345Z"
   },
   {
    "duration": 53,
    "start_time": "2022-03-15T09:10:49.960Z"
   },
   {
    "duration": 52,
    "start_time": "2022-03-15T09:11:05.561Z"
   },
   {
    "duration": 3,
    "start_time": "2022-03-15T09:15:37.830Z"
   },
   {
    "duration": 4,
    "start_time": "2022-03-15T09:17:02.989Z"
   },
   {
    "duration": 630,
    "start_time": "2022-03-15T09:18:59.277Z"
   },
   {
    "duration": 815,
    "start_time": "2022-03-15T09:20:23.588Z"
   },
   {
    "duration": 286,
    "start_time": "2022-03-15T11:15:51.321Z"
   },
   {
    "duration": 6572,
    "start_time": "2022-03-15T11:16:44.154Z"
   },
   {
    "duration": 6494,
    "start_time": "2022-03-15T11:17:29.034Z"
   },
   {
    "duration": 6,
    "start_time": "2022-03-15T11:18:16.497Z"
   },
   {
    "duration": 5,
    "start_time": "2022-03-15T11:18:43.281Z"
   },
   {
    "duration": 3,
    "start_time": "2022-03-15T11:19:03.809Z"
   },
   {
    "duration": 6,
    "start_time": "2022-03-15T11:20:29.800Z"
   },
   {
    "duration": 5,
    "start_time": "2022-03-15T11:20:51.359Z"
   },
   {
    "duration": 6496,
    "start_time": "2022-03-15T11:21:09.959Z"
   },
   {
    "duration": 1171,
    "start_time": "2022-03-15T11:21:35.375Z"
   },
   {
    "duration": 285,
    "start_time": "2022-03-15T11:22:35.671Z"
   },
   {
    "duration": 8,
    "start_time": "2022-03-15T11:22:43.735Z"
   },
   {
    "duration": 863,
    "start_time": "2022-03-15T11:22:49.433Z"
   },
   {
    "duration": 553,
    "start_time": "2022-03-15T11:23:34.327Z"
   },
   {
    "duration": 193,
    "start_time": "2022-03-15T11:24:11.814Z"
   },
   {
    "duration": 287,
    "start_time": "2022-03-15T11:24:21.893Z"
   },
   {
    "duration": 418,
    "start_time": "2022-03-15T11:24:31.277Z"
   },
   {
    "duration": 311,
    "start_time": "2022-03-15T11:26:49.131Z"
   },
   {
    "duration": 297,
    "start_time": "2022-03-15T11:28:24.907Z"
   },
   {
    "duration": 307,
    "start_time": "2022-03-15T11:28:56.259Z"
   },
   {
    "duration": 108,
    "start_time": "2022-03-15T11:29:10.974Z"
   },
   {
    "duration": 352,
    "start_time": "2022-03-15T11:29:21.068Z"
   },
   {
    "duration": 312,
    "start_time": "2022-03-15T11:29:52.155Z"
   },
   {
    "duration": 368,
    "start_time": "2022-03-15T11:29:56.586Z"
   },
   {
    "duration": 351,
    "start_time": "2022-03-15T11:30:18.178Z"
   },
   {
    "duration": 244,
    "start_time": "2022-03-15T11:32:47.145Z"
   },
   {
    "duration": 238,
    "start_time": "2022-03-15T11:33:04.608Z"
   },
   {
    "duration": 251,
    "start_time": "2022-03-15T11:35:53.414Z"
   },
   {
    "duration": 250,
    "start_time": "2022-03-15T11:36:03.839Z"
   },
   {
    "duration": 250,
    "start_time": "2022-03-15T11:36:08.686Z"
   },
   {
    "duration": 261,
    "start_time": "2022-03-15T11:37:08.878Z"
   },
   {
    "duration": 272,
    "start_time": "2022-03-15T11:37:16.056Z"
   },
   {
    "duration": 250,
    "start_time": "2022-03-15T11:37:58.573Z"
   },
   {
    "duration": 244,
    "start_time": "2022-03-15T11:38:05.278Z"
   },
   {
    "duration": 427,
    "start_time": "2022-03-15T11:38:26.500Z"
   },
   {
    "duration": 245,
    "start_time": "2022-03-15T11:38:43.133Z"
   },
   {
    "duration": 241,
    "start_time": "2022-03-15T11:38:52.308Z"
   },
   {
    "duration": 246,
    "start_time": "2022-03-15T11:39:31.741Z"
   },
   {
    "duration": 299,
    "start_time": "2022-03-15T11:41:55.987Z"
   },
   {
    "duration": 3,
    "start_time": "2022-03-15T11:42:00.238Z"
   },
   {
    "duration": 893,
    "start_time": "2022-03-15T11:42:02.027Z"
   },
   {
    "duration": 3,
    "start_time": "2022-03-15T11:46:46.999Z"
   },
   {
    "duration": 15,
    "start_time": "2022-03-15T11:47:05.868Z"
   },
   {
    "duration": 13,
    "start_time": "2022-03-15T11:47:08.656Z"
   },
   {
    "duration": 83,
    "start_time": "2022-03-15T11:47:15.674Z"
   },
   {
    "duration": 17,
    "start_time": "2022-03-15T11:47:20.471Z"
   },
   {
    "duration": 13,
    "start_time": "2022-03-15T11:47:27.351Z"
   },
   {
    "duration": 19,
    "start_time": "2022-03-15T11:47:34.359Z"
   },
   {
    "duration": 13,
    "start_time": "2022-03-15T11:47:39.991Z"
   },
   {
    "duration": 13,
    "start_time": "2022-03-15T11:48:11.911Z"
   },
   {
    "duration": 3,
    "start_time": "2022-03-15T12:13:16.544Z"
   },
   {
    "duration": 4,
    "start_time": "2022-03-15T12:16:30.487Z"
   },
   {
    "duration": 1269,
    "start_time": "2022-03-15T12:17:11.183Z"
   },
   {
    "duration": 911,
    "start_time": "2022-03-15T12:17:27.063Z"
   },
   {
    "duration": 937,
    "start_time": "2022-03-15T12:17:38.158Z"
   },
   {
    "duration": 903,
    "start_time": "2022-03-15T12:17:46.238Z"
   },
   {
    "duration": 1302,
    "start_time": "2022-03-15T12:19:32.840Z"
   },
   {
    "duration": 1502,
    "start_time": "2022-03-15T12:28:32.018Z"
   },
   {
    "duration": 916,
    "start_time": "2022-03-15T12:29:51.423Z"
   },
   {
    "duration": 5,
    "start_time": "2022-03-15T12:30:00.388Z"
   },
   {
    "duration": 660,
    "start_time": "2022-03-15T12:30:00.475Z"
   },
   {
    "duration": 4,
    "start_time": "2022-03-15T12:30:01.137Z"
   },
   {
    "duration": 60,
    "start_time": "2022-03-15T12:30:01.143Z"
   },
   {
    "duration": 3,
    "start_time": "2022-03-15T12:30:01.204Z"
   },
   {
    "duration": 19,
    "start_time": "2022-03-15T12:30:01.209Z"
   },
   {
    "duration": 8,
    "start_time": "2022-03-15T12:30:01.230Z"
   },
   {
    "duration": 13,
    "start_time": "2022-03-15T12:30:01.239Z"
   },
   {
    "duration": 5,
    "start_time": "2022-03-15T12:30:01.478Z"
   },
   {
    "duration": 3,
    "start_time": "2022-03-15T12:30:01.982Z"
   },
   {
    "duration": 7,
    "start_time": "2022-03-15T12:30:02.150Z"
   },
   {
    "duration": 9,
    "start_time": "2022-03-15T12:30:02.237Z"
   },
   {
    "duration": 3,
    "start_time": "2022-03-15T12:30:02.402Z"
   },
   {
    "duration": 6,
    "start_time": "2022-03-15T12:30:02.570Z"
   },
   {
    "duration": 9,
    "start_time": "2022-03-15T12:30:02.654Z"
   },
   {
    "duration": 5,
    "start_time": "2022-03-15T12:30:02.822Z"
   },
   {
    "duration": 3,
    "start_time": "2022-03-15T12:30:03.241Z"
   },
   {
    "duration": 5,
    "start_time": "2022-03-15T12:30:03.410Z"
   },
   {
    "duration": 20,
    "start_time": "2022-03-15T12:30:03.494Z"
   },
   {
    "duration": 5,
    "start_time": "2022-03-15T12:30:03.829Z"
   },
   {
    "duration": 17,
    "start_time": "2022-03-15T12:30:03.912Z"
   },
   {
    "duration": 12,
    "start_time": "2022-03-15T12:30:04.078Z"
   },
   {
    "duration": 8,
    "start_time": "2022-03-15T12:30:04.413Z"
   },
   {
    "duration": 4,
    "start_time": "2022-03-15T12:30:04.581Z"
   },
   {
    "duration": 17,
    "start_time": "2022-03-15T12:30:04.749Z"
   },
   {
    "duration": 12,
    "start_time": "2022-03-15T12:30:04.918Z"
   },
   {
    "duration": 12,
    "start_time": "2022-03-15T12:30:05.085Z"
   },
   {
    "duration": 22,
    "start_time": "2022-03-15T12:30:05.420Z"
   },
   {
    "duration": 21,
    "start_time": "2022-03-15T12:30:05.503Z"
   },
   {
    "duration": 66,
    "start_time": "2022-03-15T12:30:05.588Z"
   },
   {
    "duration": 53,
    "start_time": "2022-03-15T12:30:05.756Z"
   },
   {
    "duration": 3,
    "start_time": "2022-03-15T12:30:06.260Z"
   },
   {
    "duration": 815,
    "start_time": "2022-03-15T12:30:06.428Z"
   },
   {
    "duration": 260,
    "start_time": "2022-03-15T12:30:07.244Z"
   },
   {
    "duration": 13,
    "start_time": "2022-03-15T12:30:07.506Z"
   },
   {
    "duration": 12,
    "start_time": "2022-03-15T12:30:07.521Z"
   },
   {
    "duration": 3,
    "start_time": "2022-03-15T12:30:07.535Z"
   },
   {
    "duration": 920,
    "start_time": "2022-03-15T12:30:07.539Z"
   },
   {
    "duration": 1200,
    "start_time": "2022-03-15T12:30:12.782Z"
   },
   {
    "duration": 922,
    "start_time": "2022-03-15T12:34:39.524Z"
   },
   {
    "duration": 938,
    "start_time": "2022-03-15T12:34:55.948Z"
   },
   {
    "duration": 1133,
    "start_time": "2022-03-15T12:35:04.444Z"
   },
   {
    "duration": 1188,
    "start_time": "2022-03-15T12:35:11.331Z"
   },
   {
    "duration": 896,
    "start_time": "2022-03-15T12:40:44.742Z"
   },
   {
    "duration": 900,
    "start_time": "2022-03-15T12:40:51.296Z"
   },
   {
    "duration": 2,
    "start_time": "2022-03-15T12:46:12.436Z"
   },
   {
    "duration": 89,
    "start_time": "2022-03-15T12:52:12.776Z"
   },
   {
    "duration": 3,
    "start_time": "2022-03-15T12:52:53.593Z"
   },
   {
    "duration": 3,
    "start_time": "2022-03-15T12:54:26.984Z"
   },
   {
    "duration": 84,
    "start_time": "2022-03-15T12:56:08.690Z"
   },
   {
    "duration": 3,
    "start_time": "2022-03-15T12:57:05.269Z"
   },
   {
    "duration": 404,
    "start_time": "2022-03-15T13:05:48.540Z"
   },
   {
    "duration": 3,
    "start_time": "2022-03-15T13:05:57.214Z"
   },
   {
    "duration": 3,
    "start_time": "2022-03-15T13:05:58.454Z"
   },
   {
    "duration": 2,
    "start_time": "2022-03-15T13:05:58.934Z"
   },
   {
    "duration": 3,
    "start_time": "2022-03-15T13:15:33.302Z"
   },
   {
    "duration": 1031,
    "start_time": "2022-03-15T13:17:24.703Z"
   },
   {
    "duration": 1140,
    "start_time": "2022-03-15T13:17:33.590Z"
   },
   {
    "duration": 3,
    "start_time": "2022-03-15T13:20:47.205Z"
   },
   {
    "duration": 3,
    "start_time": "2022-03-15T13:30:50.254Z"
   },
   {
    "duration": 3,
    "start_time": "2022-03-15T13:34:41.339Z"
   },
   {
    "duration": 1499,
    "start_time": "2022-03-15T13:35:21.085Z"
   },
   {
    "duration": 3,
    "start_time": "2022-03-15T13:36:12.828Z"
   },
   {
    "duration": 7,
    "start_time": "2022-03-15T13:49:57.194Z"
   },
   {
    "duration": 6,
    "start_time": "2022-03-15T13:50:18.691Z"
   },
   {
    "duration": 7,
    "start_time": "2022-03-15T13:51:21.795Z"
   },
   {
    "duration": 7,
    "start_time": "2022-03-15T13:52:40.361Z"
   },
   {
    "duration": 296,
    "start_time": "2022-03-15T13:59:35.044Z"
   },
   {
    "duration": 9,
    "start_time": "2022-03-15T13:59:59.189Z"
   },
   {
    "duration": 8,
    "start_time": "2022-03-15T14:00:38.237Z"
   },
   {
    "duration": 9,
    "start_time": "2022-03-15T14:03:41.797Z"
   },
   {
    "duration": 8766,
    "start_time": "2022-03-15T14:12:23.237Z"
   },
   {
    "duration": 6,
    "start_time": "2022-03-15T14:13:59.357Z"
   },
   {
    "duration": 664,
    "start_time": "2022-03-15T14:13:59.858Z"
   },
   {
    "duration": 4,
    "start_time": "2022-03-15T14:14:00.524Z"
   },
   {
    "duration": 54,
    "start_time": "2022-03-15T14:14:00.530Z"
   },
   {
    "duration": 16,
    "start_time": "2022-03-15T14:14:00.586Z"
   },
   {
    "duration": 14,
    "start_time": "2022-03-15T14:14:00.604Z"
   },
   {
    "duration": 10,
    "start_time": "2022-03-15T14:14:00.619Z"
   },
   {
    "duration": 17,
    "start_time": "2022-03-15T14:14:00.630Z"
   },
   {
    "duration": 4,
    "start_time": "2022-03-15T14:14:00.864Z"
   },
   {
    "duration": 3,
    "start_time": "2022-03-15T14:14:01.366Z"
   },
   {
    "duration": 7,
    "start_time": "2022-03-15T14:14:01.532Z"
   },
   {
    "duration": 9,
    "start_time": "2022-03-15T14:14:01.617Z"
   },
   {
    "duration": 4,
    "start_time": "2022-03-15T14:14:01.784Z"
   },
   {
    "duration": 5,
    "start_time": "2022-03-15T14:14:01.951Z"
   },
   {
    "duration": 9,
    "start_time": "2022-03-15T14:14:02.034Z"
   },
   {
    "duration": 4,
    "start_time": "2022-03-15T14:14:02.203Z"
   },
   {
    "duration": 3,
    "start_time": "2022-03-15T14:14:02.623Z"
   },
   {
    "duration": 6,
    "start_time": "2022-03-15T14:14:02.792Z"
   },
   {
    "duration": 18,
    "start_time": "2022-03-15T14:14:02.876Z"
   },
   {
    "duration": 6,
    "start_time": "2022-03-15T14:14:03.212Z"
   },
   {
    "duration": 18,
    "start_time": "2022-03-15T14:14:03.299Z"
   },
   {
    "duration": 13,
    "start_time": "2022-03-15T14:14:03.464Z"
   },
   {
    "duration": 8,
    "start_time": "2022-03-15T14:14:03.799Z"
   },
   {
    "duration": 4,
    "start_time": "2022-03-15T14:14:03.968Z"
   },
   {
    "duration": 19,
    "start_time": "2022-03-15T14:14:04.136Z"
   },
   {
    "duration": 13,
    "start_time": "2022-03-15T14:14:04.302Z"
   },
   {
    "duration": 11,
    "start_time": "2022-03-15T14:14:04.470Z"
   },
   {
    "duration": 22,
    "start_time": "2022-03-15T14:14:04.807Z"
   },
   {
    "duration": 21,
    "start_time": "2022-03-15T14:14:04.891Z"
   },
   {
    "duration": 66,
    "start_time": "2022-03-15T14:14:04.977Z"
   },
   {
    "duration": 48,
    "start_time": "2022-03-15T14:14:05.142Z"
   },
   {
    "duration": 3,
    "start_time": "2022-03-15T14:14:05.647Z"
   },
   {
    "duration": 933,
    "start_time": "2022-03-15T14:14:05.815Z"
   },
   {
    "duration": 272,
    "start_time": "2022-03-15T14:14:06.751Z"
   },
   {
    "duration": 15,
    "start_time": "2022-03-15T14:14:07.025Z"
   },
   {
    "duration": 12,
    "start_time": "2022-03-15T14:14:07.042Z"
   },
   {
    "duration": 4,
    "start_time": "2022-03-15T14:14:07.056Z"
   },
   {
    "duration": 1246,
    "start_time": "2022-03-15T14:14:07.061Z"
   },
   {
    "duration": 949,
    "start_time": "2022-03-15T14:14:08.309Z"
   },
   {
    "duration": 3,
    "start_time": "2022-03-15T14:14:09.261Z"
   },
   {
    "duration": 3,
    "start_time": "2022-03-15T14:14:09.267Z"
   },
   {
    "duration": 4,
    "start_time": "2022-03-15T14:14:09.272Z"
   },
   {
    "duration": 4,
    "start_time": "2022-03-15T14:14:09.277Z"
   },
   {
    "duration": 1060,
    "start_time": "2022-03-15T14:14:09.283Z"
   },
   {
    "duration": 4,
    "start_time": "2022-03-15T14:14:10.345Z"
   },
   {
    "duration": 6,
    "start_time": "2022-03-15T14:14:10.351Z"
   },
   {
    "duration": 1503,
    "start_time": "2022-03-15T14:14:10.358Z"
   },
   {
    "duration": 2,
    "start_time": "2022-03-15T14:14:11.863Z"
   },
   {
    "duration": 9,
    "start_time": "2022-03-15T14:14:11.867Z"
   },
   {
    "duration": 25,
    "start_time": "2022-03-15T14:14:11.878Z"
   },
   {
    "duration": 7,
    "start_time": "2022-03-15T14:14:11.905Z"
   },
   {
    "duration": 6,
    "start_time": "2022-03-15T14:14:11.914Z"
   },
   {
    "duration": 7,
    "start_time": "2022-03-15T14:14:11.921Z"
   },
   {
    "duration": 7809,
    "start_time": "2022-03-15T14:14:11.930Z"
   },
   {
    "duration": 8002,
    "start_time": "2022-03-15T14:20:56.425Z"
   },
   {
    "duration": 7,
    "start_time": "2022-03-15T14:23:10.161Z"
   },
   {
    "duration": 3,
    "start_time": "2022-03-15T14:27:37.429Z"
   },
   {
    "duration": 3,
    "start_time": "2022-03-15T14:28:21.597Z"
   },
   {
    "duration": 3,
    "start_time": "2022-03-15T14:32:10.842Z"
   },
   {
    "duration": 8036,
    "start_time": "2022-03-15T14:39:17.710Z"
   },
   {
    "duration": 341,
    "start_time": "2022-03-15T14:40:25.909Z"
   },
   {
    "duration": 95,
    "start_time": "2022-03-15T14:42:29.140Z"
   },
   {
    "duration": 11,
    "start_time": "2022-03-15T14:48:45.721Z"
   },
   {
    "duration": 1080,
    "start_time": "2022-03-15T15:14:38.686Z"
   },
   {
    "duration": 1077,
    "start_time": "2022-03-15T15:17:43.758Z"
   },
   {
    "duration": 2139,
    "start_time": "2022-03-15T15:18:07.966Z"
   },
   {
    "duration": 1293,
    "start_time": "2022-03-15T15:20:02.397Z"
   },
   {
    "duration": 2194,
    "start_time": "2022-03-15T15:20:04.284Z"
   },
   {
    "duration": 4,
    "start_time": "2022-03-15T15:20:40.876Z"
   },
   {
    "duration": 3,
    "start_time": "2022-03-15T15:22:36.938Z"
   },
   {
    "duration": 85,
    "start_time": "2022-03-15T15:24:01.722Z"
   },
   {
    "duration": 99,
    "start_time": "2022-03-15T15:30:30.141Z"
   },
   {
    "duration": 254,
    "start_time": "2022-03-15T15:30:37.837Z"
   },
   {
    "duration": 3,
    "start_time": "2022-03-15T15:30:49.941Z"
   },
   {
    "duration": 3,
    "start_time": "2022-03-15T15:30:52.213Z"
   },
   {
    "duration": 2,
    "start_time": "2022-03-15T15:38:46.120Z"
   },
   {
    "duration": 5,
    "start_time": "2022-03-15T15:49:53.496Z"
   },
   {
    "duration": 710,
    "start_time": "2022-03-15T15:49:53.575Z"
   },
   {
    "duration": 4,
    "start_time": "2022-03-15T15:49:54.287Z"
   },
   {
    "duration": 51,
    "start_time": "2022-03-15T15:49:54.293Z"
   },
   {
    "duration": 3,
    "start_time": "2022-03-15T15:49:54.346Z"
   },
   {
    "duration": 15,
    "start_time": "2022-03-15T15:49:54.350Z"
   },
   {
    "duration": 9,
    "start_time": "2022-03-15T15:49:54.366Z"
   },
   {
    "duration": 36,
    "start_time": "2022-03-15T15:49:54.377Z"
   },
   {
    "duration": 5,
    "start_time": "2022-03-15T15:49:54.577Z"
   },
   {
    "duration": 3,
    "start_time": "2022-03-15T15:49:55.079Z"
   },
   {
    "duration": 6,
    "start_time": "2022-03-15T15:49:55.246Z"
   },
   {
    "duration": 7,
    "start_time": "2022-03-15T15:49:55.330Z"
   },
   {
    "duration": 3,
    "start_time": "2022-03-15T15:49:55.497Z"
   },
   {
    "duration": 5,
    "start_time": "2022-03-15T15:49:55.664Z"
   },
   {
    "duration": 9,
    "start_time": "2022-03-15T15:49:55.747Z"
   },
   {
    "duration": 4,
    "start_time": "2022-03-15T15:49:55.914Z"
   },
   {
    "duration": 3,
    "start_time": "2022-03-15T15:49:56.334Z"
   },
   {
    "duration": 7,
    "start_time": "2022-03-15T15:49:56.501Z"
   },
   {
    "duration": 18,
    "start_time": "2022-03-15T15:49:56.585Z"
   },
   {
    "duration": 6,
    "start_time": "2022-03-15T15:49:56.920Z"
   },
   {
    "duration": 16,
    "start_time": "2022-03-15T15:49:57.005Z"
   },
   {
    "duration": 12,
    "start_time": "2022-03-15T15:49:57.173Z"
   },
   {
    "duration": 8,
    "start_time": "2022-03-15T15:49:57.508Z"
   },
   {
    "duration": 4,
    "start_time": "2022-03-15T15:49:57.675Z"
   },
   {
    "duration": 17,
    "start_time": "2022-03-15T15:49:57.844Z"
   },
   {
    "duration": 12,
    "start_time": "2022-03-15T15:49:58.012Z"
   },
   {
    "duration": 11,
    "start_time": "2022-03-15T15:49:58.178Z"
   },
   {
    "duration": 21,
    "start_time": "2022-03-15T15:49:58.513Z"
   },
   {
    "duration": 21,
    "start_time": "2022-03-15T15:49:58.595Z"
   },
   {
    "duration": 65,
    "start_time": "2022-03-15T15:49:58.686Z"
   },
   {
    "duration": 58,
    "start_time": "2022-03-15T15:49:58.849Z"
   },
   {
    "duration": 3,
    "start_time": "2022-03-15T15:49:59.352Z"
   },
   {
    "duration": 787,
    "start_time": "2022-03-15T15:49:59.518Z"
   },
   {
    "duration": 269,
    "start_time": "2022-03-15T15:50:00.307Z"
   },
   {
    "duration": 23,
    "start_time": "2022-03-15T15:50:00.579Z"
   },
   {
    "duration": 13,
    "start_time": "2022-03-15T15:50:00.604Z"
   },
   {
    "duration": 3,
    "start_time": "2022-03-15T15:50:00.618Z"
   },
   {
    "duration": 918,
    "start_time": "2022-03-15T15:50:00.622Z"
   },
   {
    "duration": 947,
    "start_time": "2022-03-15T15:50:01.542Z"
   },
   {
    "duration": 2,
    "start_time": "2022-03-15T15:50:02.491Z"
   },
   {
    "duration": 4,
    "start_time": "2022-03-15T15:50:02.501Z"
   },
   {
    "duration": 5,
    "start_time": "2022-03-15T15:50:02.507Z"
   },
   {
    "duration": 4,
    "start_time": "2022-03-15T15:50:02.514Z"
   },
   {
    "duration": 1070,
    "start_time": "2022-03-15T15:50:02.521Z"
   },
   {
    "duration": 8,
    "start_time": "2022-03-15T15:50:03.593Z"
   },
   {
    "duration": 7,
    "start_time": "2022-03-15T15:50:03.603Z"
   },
   {
    "duration": 1783,
    "start_time": "2022-03-15T15:50:03.611Z"
   },
   {
    "duration": 6,
    "start_time": "2022-03-15T15:50:05.395Z"
   },
   {
    "duration": 8,
    "start_time": "2022-03-15T15:50:05.403Z"
   },
   {
    "duration": 8,
    "start_time": "2022-03-15T15:50:05.413Z"
   },
   {
    "duration": 7,
    "start_time": "2022-03-15T15:50:05.422Z"
   },
   {
    "duration": 6,
    "start_time": "2022-03-15T15:50:05.431Z"
   },
   {
    "duration": 9,
    "start_time": "2022-03-15T15:50:05.439Z"
   },
   {
    "duration": 7922,
    "start_time": "2022-03-15T15:50:05.451Z"
   },
   {
    "duration": 11,
    "start_time": "2022-03-15T15:50:13.375Z"
   },
   {
    "duration": 1182,
    "start_time": "2022-03-15T15:50:13.388Z"
   },
   {
    "duration": 2136,
    "start_time": "2022-03-15T15:50:14.572Z"
   },
   {
    "duration": 3,
    "start_time": "2022-03-15T15:50:16.710Z"
   },
   {
    "duration": 5,
    "start_time": "2022-03-15T15:50:16.714Z"
   },
   {
    "duration": 5,
    "start_time": "2022-03-15T15:52:10.632Z"
   },
   {
    "duration": 686,
    "start_time": "2022-03-15T15:52:10.716Z"
   },
   {
    "duration": 5,
    "start_time": "2022-03-15T15:52:11.403Z"
   },
   {
    "duration": 47,
    "start_time": "2022-03-15T15:52:11.410Z"
   },
   {
    "duration": 4,
    "start_time": "2022-03-15T15:52:11.459Z"
   },
   {
    "duration": 39,
    "start_time": "2022-03-15T15:52:11.465Z"
   },
   {
    "duration": 9,
    "start_time": "2022-03-15T15:52:11.506Z"
   },
   {
    "duration": 15,
    "start_time": "2022-03-15T15:52:11.517Z"
   },
   {
    "duration": 5,
    "start_time": "2022-03-15T15:52:11.722Z"
   },
   {
    "duration": 3,
    "start_time": "2022-03-15T15:52:12.226Z"
   },
   {
    "duration": 6,
    "start_time": "2022-03-15T15:52:12.394Z"
   },
   {
    "duration": 9,
    "start_time": "2022-03-15T15:52:12.478Z"
   },
   {
    "duration": 3,
    "start_time": "2022-03-15T15:52:12.646Z"
   },
   {
    "duration": 6,
    "start_time": "2022-03-15T15:52:12.814Z"
   },
   {
    "duration": 9,
    "start_time": "2022-03-15T15:52:12.898Z"
   },
   {
    "duration": 4,
    "start_time": "2022-03-15T15:52:13.066Z"
   },
   {
    "duration": 3,
    "start_time": "2022-03-15T15:52:13.487Z"
   },
   {
    "duration": 5,
    "start_time": "2022-03-15T15:52:13.655Z"
   },
   {
    "duration": 18,
    "start_time": "2022-03-15T15:52:13.742Z"
   },
   {
    "duration": 6,
    "start_time": "2022-03-15T15:52:14.072Z"
   },
   {
    "duration": 16,
    "start_time": "2022-03-15T15:52:14.157Z"
   },
   {
    "duration": 12,
    "start_time": "2022-03-15T15:52:14.324Z"
   },
   {
    "duration": 7,
    "start_time": "2022-03-15T15:52:14.660Z"
   },
   {
    "duration": 4,
    "start_time": "2022-03-15T15:52:14.827Z"
   },
   {
    "duration": 17,
    "start_time": "2022-03-15T15:52:14.995Z"
   },
   {
    "duration": 13,
    "start_time": "2022-03-15T15:52:15.163Z"
   },
   {
    "duration": 11,
    "start_time": "2022-03-15T15:52:15.330Z"
   },
   {
    "duration": 22,
    "start_time": "2022-03-15T15:52:15.666Z"
   },
   {
    "duration": 21,
    "start_time": "2022-03-15T15:52:15.751Z"
   },
   {
    "duration": 66,
    "start_time": "2022-03-15T15:52:15.835Z"
   },
   {
    "duration": 50,
    "start_time": "2022-03-15T15:52:16.002Z"
   },
   {
    "duration": 4,
    "start_time": "2022-03-15T15:52:16.505Z"
   },
   {
    "duration": 791,
    "start_time": "2022-03-15T15:52:16.673Z"
   },
   {
    "duration": 259,
    "start_time": "2022-03-15T15:52:17.466Z"
   },
   {
    "duration": 13,
    "start_time": "2022-03-15T15:52:17.727Z"
   },
   {
    "duration": 12,
    "start_time": "2022-03-15T15:52:17.741Z"
   },
   {
    "duration": 3,
    "start_time": "2022-03-15T15:52:17.754Z"
   },
   {
    "duration": 1042,
    "start_time": "2022-03-15T15:52:17.759Z"
   },
   {
    "duration": 932,
    "start_time": "2022-03-15T15:52:18.803Z"
   },
   {
    "duration": 3,
    "start_time": "2022-03-15T15:52:19.737Z"
   },
   {
    "duration": 5,
    "start_time": "2022-03-15T15:52:19.741Z"
   },
   {
    "duration": 4,
    "start_time": "2022-03-15T15:52:19.748Z"
   },
   {
    "duration": 6,
    "start_time": "2022-03-15T15:52:19.753Z"
   },
   {
    "duration": 1043,
    "start_time": "2022-03-15T15:52:19.762Z"
   },
   {
    "duration": 3,
    "start_time": "2022-03-15T15:52:20.807Z"
   },
   {
    "duration": 7,
    "start_time": "2022-03-15T15:52:20.811Z"
   },
   {
    "duration": 1443,
    "start_time": "2022-03-15T15:52:20.819Z"
   },
   {
    "duration": 3,
    "start_time": "2022-03-15T15:52:22.264Z"
   },
   {
    "duration": 10,
    "start_time": "2022-03-15T15:52:22.268Z"
   },
   {
    "duration": 23,
    "start_time": "2022-03-15T15:52:22.280Z"
   },
   {
    "duration": 6,
    "start_time": "2022-03-15T15:52:22.305Z"
   },
   {
    "duration": 6,
    "start_time": "2022-03-15T15:52:22.312Z"
   },
   {
    "duration": 8,
    "start_time": "2022-03-15T15:52:22.319Z"
   },
   {
    "duration": 8077,
    "start_time": "2022-03-15T15:52:22.329Z"
   },
   {
    "duration": 12,
    "start_time": "2022-03-15T15:52:30.408Z"
   },
   {
    "duration": 1084,
    "start_time": "2022-03-15T15:52:30.422Z"
   },
   {
    "duration": 2240,
    "start_time": "2022-03-15T15:52:31.507Z"
   },
   {
    "duration": 3,
    "start_time": "2022-03-15T15:52:33.749Z"
   },
   {
    "duration": 5,
    "start_time": "2022-03-15T15:52:33.754Z"
   },
   {
    "duration": 321,
    "start_time": "2022-03-16T11:12:10.760Z"
   },
   {
    "duration": 194,
    "start_time": "2022-03-16T14:13:24.946Z"
   },
   {
    "duration": 1554,
    "start_time": "2022-03-16T14:13:30.383Z"
   },
   {
    "duration": 890,
    "start_time": "2022-03-16T14:13:31.939Z"
   },
   {
    "duration": 7,
    "start_time": "2022-03-16T14:13:32.831Z"
   },
   {
    "duration": 120,
    "start_time": "2022-03-16T14:13:32.840Z"
   },
   {
    "duration": 22,
    "start_time": "2022-03-16T14:13:32.963Z"
   },
   {
    "duration": 34,
    "start_time": "2022-03-16T14:13:32.988Z"
   },
   {
    "duration": 33,
    "start_time": "2022-03-16T14:13:33.025Z"
   },
   {
    "duration": 45,
    "start_time": "2022-03-16T14:13:33.062Z"
   },
   {
    "duration": 37,
    "start_time": "2022-03-16T14:13:33.110Z"
   },
   {
    "duration": 62,
    "start_time": "2022-03-16T14:13:33.149Z"
   },
   {
    "duration": 49,
    "start_time": "2022-03-16T14:13:33.213Z"
   },
   {
    "duration": 70,
    "start_time": "2022-03-16T14:13:33.264Z"
   },
   {
    "duration": 39,
    "start_time": "2022-03-16T14:13:33.337Z"
   },
   {
    "duration": 43,
    "start_time": "2022-03-16T14:13:33.378Z"
   },
   {
    "duration": 20,
    "start_time": "2022-03-16T14:13:33.423Z"
   },
   {
    "duration": 37,
    "start_time": "2022-03-16T14:13:33.445Z"
   },
   {
    "duration": 5,
    "start_time": "2022-03-16T14:13:35.257Z"
   },
   {
    "duration": 9,
    "start_time": "2022-03-16T14:13:35.842Z"
   },
   {
    "duration": 33,
    "start_time": "2022-03-16T14:13:35.932Z"
   },
   {
    "duration": 9,
    "start_time": "2022-03-16T14:13:36.346Z"
   },
   {
    "duration": 29,
    "start_time": "2022-03-16T14:13:36.431Z"
   },
   {
    "duration": 17,
    "start_time": "2022-03-16T14:13:36.598Z"
   },
   {
    "duration": 12,
    "start_time": "2022-03-16T14:13:36.933Z"
   },
   {
    "duration": 6,
    "start_time": "2022-03-16T14:13:37.102Z"
   },
   {
    "duration": 26,
    "start_time": "2022-03-16T14:13:37.269Z"
   },
   {
    "duration": 19,
    "start_time": "2022-03-16T14:13:37.435Z"
   },
   {
    "duration": 18,
    "start_time": "2022-03-16T14:13:37.604Z"
   },
   {
    "duration": 36,
    "start_time": "2022-03-16T14:13:37.940Z"
   },
   {
    "duration": 35,
    "start_time": "2022-03-16T14:13:38.023Z"
   },
   {
    "duration": 119,
    "start_time": "2022-03-16T14:13:38.105Z"
   },
   {
    "duration": 90,
    "start_time": "2022-03-16T14:13:38.274Z"
   },
   {
    "duration": 4,
    "start_time": "2022-03-16T14:13:38.778Z"
   },
   {
    "duration": 1408,
    "start_time": "2022-03-16T14:13:38.945Z"
   },
   {
    "duration": 464,
    "start_time": "2022-03-16T14:13:40.357Z"
   },
   {
    "duration": 22,
    "start_time": "2022-03-16T14:13:40.826Z"
   },
   {
    "duration": 41,
    "start_time": "2022-03-16T14:13:40.851Z"
   },
   {
    "duration": 4,
    "start_time": "2022-03-16T14:13:40.895Z"
   },
   {
    "duration": 1857,
    "start_time": "2022-03-16T14:13:40.901Z"
   },
   {
    "duration": 2253,
    "start_time": "2022-03-16T14:13:42.761Z"
   },
   {
    "duration": 5,
    "start_time": "2022-03-16T14:13:45.018Z"
   },
   {
    "duration": 14,
    "start_time": "2022-03-16T14:13:45.026Z"
   },
   {
    "duration": 7,
    "start_time": "2022-03-16T14:13:45.043Z"
   },
   {
    "duration": 42,
    "start_time": "2022-03-16T14:13:45.053Z"
   },
   {
    "duration": 1909,
    "start_time": "2022-03-16T14:13:45.098Z"
   },
   {
    "duration": 4,
    "start_time": "2022-03-16T14:13:47.009Z"
   },
   {
    "duration": 12,
    "start_time": "2022-03-16T14:13:47.015Z"
   },
   {
    "duration": 2645,
    "start_time": "2022-03-16T14:13:47.029Z"
   },
   {
    "duration": 8,
    "start_time": "2022-03-16T14:13:49.676Z"
   },
   {
    "duration": 16,
    "start_time": "2022-03-16T14:13:49.687Z"
   },
   {
    "duration": 12,
    "start_time": "2022-03-16T14:13:49.705Z"
   },
   {
    "duration": 10,
    "start_time": "2022-03-16T14:13:49.720Z"
   },
   {
    "duration": 50,
    "start_time": "2022-03-16T14:13:49.733Z"
   },
   {
    "duration": 12,
    "start_time": "2022-03-16T14:13:49.785Z"
   },
   {
    "duration": 10773,
    "start_time": "2022-03-16T14:13:49.801Z"
   },
   {
    "duration": 19,
    "start_time": "2022-03-16T14:14:00.581Z"
   },
   {
    "duration": 1438,
    "start_time": "2022-03-16T14:14:00.603Z"
   },
   {
    "duration": 2858,
    "start_time": "2022-03-16T14:14:02.044Z"
   },
   {
    "duration": 4,
    "start_time": "2022-03-16T14:14:04.905Z"
   },
   {
    "duration": 44,
    "start_time": "2022-03-16T14:14:04.911Z"
   },
   {
    "duration": 16,
    "start_time": "2022-03-16T14:14:51.914Z"
   },
   {
    "duration": 15,
    "start_time": "2022-03-16T14:15:05.225Z"
   },
   {
    "duration": 35,
    "start_time": "2022-03-16T14:15:41.002Z"
   },
   {
    "duration": 94,
    "start_time": "2022-03-16T14:16:10.489Z"
   },
   {
    "duration": 65,
    "start_time": "2022-03-16T14:17:13.064Z"
   },
   {
    "duration": 14,
    "start_time": "2022-03-16T14:17:50.240Z"
   },
   {
    "duration": 7,
    "start_time": "2022-03-16T14:30:15.986Z"
   },
   {
    "duration": 862,
    "start_time": "2022-03-16T14:30:16.071Z"
   },
   {
    "duration": 7,
    "start_time": "2022-03-16T14:30:16.937Z"
   },
   {
    "duration": 102,
    "start_time": "2022-03-16T14:30:16.948Z"
   },
   {
    "duration": 5,
    "start_time": "2022-03-16T14:30:17.054Z"
   },
   {
    "duration": 23,
    "start_time": "2022-03-16T14:30:17.083Z"
   },
   {
    "duration": 15,
    "start_time": "2022-03-16T14:30:17.109Z"
   },
   {
    "duration": 56,
    "start_time": "2022-03-16T14:30:17.126Z"
   },
   {
    "duration": 7,
    "start_time": "2022-03-16T14:30:17.186Z"
   },
   {
    "duration": 5,
    "start_time": "2022-03-16T14:30:17.739Z"
   },
   {
    "duration": 10,
    "start_time": "2022-03-16T14:30:17.906Z"
   },
   {
    "duration": 13,
    "start_time": "2022-03-16T14:30:17.994Z"
   },
   {
    "duration": 5,
    "start_time": "2022-03-16T14:30:18.157Z"
   },
   {
    "duration": 7,
    "start_time": "2022-03-16T14:30:18.326Z"
   },
   {
    "duration": 14,
    "start_time": "2022-03-16T14:30:18.411Z"
   },
   {
    "duration": 6,
    "start_time": "2022-03-16T14:30:18.578Z"
   },
   {
    "duration": 5,
    "start_time": "2022-03-16T14:30:19.081Z"
   },
   {
    "duration": 7,
    "start_time": "2022-03-16T14:30:19.248Z"
   },
   {
    "duration": 32,
    "start_time": "2022-03-16T14:30:19.331Z"
   },
   {
    "duration": 10,
    "start_time": "2022-03-16T14:30:19.835Z"
   },
   {
    "duration": 29,
    "start_time": "2022-03-16T14:30:19.920Z"
   },
   {
    "duration": 19,
    "start_time": "2022-03-16T14:30:20.088Z"
   },
   {
    "duration": 12,
    "start_time": "2022-03-16T14:30:20.422Z"
   },
   {
    "duration": 7,
    "start_time": "2022-03-16T14:30:20.589Z"
   },
   {
    "duration": 26,
    "start_time": "2022-03-16T14:30:20.757Z"
   },
   {
    "duration": 19,
    "start_time": "2022-03-16T14:30:20.924Z"
   },
   {
    "duration": 15,
    "start_time": "2022-03-16T14:30:21.091Z"
   },
   {
    "duration": 37,
    "start_time": "2022-03-16T14:30:21.427Z"
   },
   {
    "duration": 35,
    "start_time": "2022-03-16T14:30:21.509Z"
   },
   {
    "duration": 115,
    "start_time": "2022-03-16T14:30:21.595Z"
   },
   {
    "duration": 87,
    "start_time": "2022-03-16T14:30:21.763Z"
   },
   {
    "duration": 4,
    "start_time": "2022-03-16T14:30:22.265Z"
   },
   {
    "duration": 1440,
    "start_time": "2022-03-16T14:30:22.433Z"
   },
   {
    "duration": 465,
    "start_time": "2022-03-16T14:30:23.883Z"
   },
   {
    "duration": 34,
    "start_time": "2022-03-16T14:30:24.350Z"
   },
   {
    "duration": 19,
    "start_time": "2022-03-16T14:30:24.387Z"
   },
   {
    "duration": 5,
    "start_time": "2022-03-16T14:30:24.409Z"
   },
   {
    "duration": 1730,
    "start_time": "2022-03-16T14:30:24.416Z"
   },
   {
    "duration": 1884,
    "start_time": "2022-03-16T14:30:26.149Z"
   },
   {
    "duration": 4,
    "start_time": "2022-03-16T14:30:28.037Z"
   },
   {
    "duration": 8,
    "start_time": "2022-03-16T14:30:28.044Z"
   },
   {
    "duration": 6,
    "start_time": "2022-03-16T14:30:28.055Z"
   },
   {
    "duration": 10,
    "start_time": "2022-03-16T14:30:28.063Z"
   },
   {
    "duration": 2125,
    "start_time": "2022-03-16T14:30:28.076Z"
   },
   {
    "duration": 5,
    "start_time": "2022-03-16T14:30:30.204Z"
   },
   {
    "duration": 20,
    "start_time": "2022-03-16T14:30:30.213Z"
   },
   {
    "duration": 2980,
    "start_time": "2022-03-16T14:30:30.237Z"
   },
   {
    "duration": 3,
    "start_time": "2022-03-16T14:30:33.220Z"
   },
   {
    "duration": 19,
    "start_time": "2022-03-16T14:30:33.225Z"
   },
   {
    "duration": 36,
    "start_time": "2022-03-16T14:30:33.246Z"
   },
   {
    "duration": 9,
    "start_time": "2022-03-16T14:30:33.285Z"
   },
   {
    "duration": 14,
    "start_time": "2022-03-16T14:30:33.297Z"
   },
   {
    "duration": 17,
    "start_time": "2022-03-16T14:30:33.313Z"
   },
   {
    "duration": 10389,
    "start_time": "2022-03-16T14:30:33.333Z"
   },
   {
    "duration": 17,
    "start_time": "2022-03-16T14:30:43.726Z"
   },
   {
    "duration": 1450,
    "start_time": "2022-03-16T14:30:43.746Z"
   },
   {
    "duration": 2953,
    "start_time": "2022-03-16T14:30:45.198Z"
   },
   {
    "duration": 5,
    "start_time": "2022-03-16T14:30:48.153Z"
   },
   {
    "duration": 24,
    "start_time": "2022-03-16T14:30:48.161Z"
   },
   {
    "duration": 8,
    "start_time": "2022-03-16T14:31:32.071Z"
   },
   {
    "duration": 8,
    "start_time": "2022-03-16T14:31:40.726Z"
   },
   {
    "duration": 7,
    "start_time": "2022-03-16T14:31:50.302Z"
   },
   {
    "duration": 7,
    "start_time": "2022-03-16T14:31:54.718Z"
   },
   {
    "duration": 7,
    "start_time": "2022-03-16T14:31:59.030Z"
   },
   {
    "duration": 11,
    "start_time": "2022-03-16T14:32:56.013Z"
   },
   {
    "duration": 7,
    "start_time": "2022-03-16T14:33:25.962Z"
   },
   {
    "duration": 836,
    "start_time": "2022-03-16T14:33:26.047Z"
   },
   {
    "duration": 7,
    "start_time": "2022-03-16T14:33:26.886Z"
   },
   {
    "duration": 111,
    "start_time": "2022-03-16T14:33:26.897Z"
   },
   {
    "duration": 7,
    "start_time": "2022-03-16T14:33:27.012Z"
   },
   {
    "duration": 25,
    "start_time": "2022-03-16T14:33:27.022Z"
   },
   {
    "duration": 15,
    "start_time": "2022-03-16T14:33:27.082Z"
   },
   {
    "duration": 22,
    "start_time": "2022-03-16T14:33:27.099Z"
   },
   {
    "duration": 7,
    "start_time": "2022-03-16T14:33:27.140Z"
   },
   {
    "duration": 4,
    "start_time": "2022-03-16T14:33:27.723Z"
   },
   {
    "duration": 9,
    "start_time": "2022-03-16T14:33:27.891Z"
   },
   {
    "duration": 12,
    "start_time": "2022-03-16T14:33:27.975Z"
   },
   {
    "duration": 4,
    "start_time": "2022-03-16T14:33:28.144Z"
   },
   {
    "duration": 8,
    "start_time": "2022-03-16T14:33:28.310Z"
   },
   {
    "duration": 13,
    "start_time": "2022-03-16T14:33:28.394Z"
   },
   {
    "duration": 6,
    "start_time": "2022-03-16T14:33:28.563Z"
   },
   {
    "duration": 4,
    "start_time": "2022-03-16T14:33:29.066Z"
   },
   {
    "duration": 7,
    "start_time": "2022-03-16T14:33:29.234Z"
   },
   {
    "duration": 31,
    "start_time": "2022-03-16T14:33:29.319Z"
   },
   {
    "duration": 9,
    "start_time": "2022-03-16T14:33:29.822Z"
   },
   {
    "duration": 30,
    "start_time": "2022-03-16T14:33:29.908Z"
   },
   {
    "duration": 16,
    "start_time": "2022-03-16T14:33:30.073Z"
   },
   {
    "duration": 11,
    "start_time": "2022-03-16T14:33:30.409Z"
   },
   {
    "duration": 8,
    "start_time": "2022-03-16T14:33:30.575Z"
   },
   {
    "duration": 25,
    "start_time": "2022-03-16T14:33:30.743Z"
   },
   {
    "duration": 17,
    "start_time": "2022-03-16T14:33:30.911Z"
   },
   {
    "duration": 15,
    "start_time": "2022-03-16T14:33:31.079Z"
   },
   {
    "duration": 38,
    "start_time": "2022-03-16T14:33:31.415Z"
   },
   {
    "duration": 37,
    "start_time": "2022-03-16T14:33:31.499Z"
   },
   {
    "duration": 118,
    "start_time": "2022-03-16T14:33:31.586Z"
   },
   {
    "duration": 82,
    "start_time": "2022-03-16T14:33:31.751Z"
   },
   {
    "duration": 4,
    "start_time": "2022-03-16T14:33:32.255Z"
   },
   {
    "duration": 1527,
    "start_time": "2022-03-16T14:33:32.423Z"
   },
   {
    "duration": 473,
    "start_time": "2022-03-16T14:33:33.953Z"
   },
   {
    "duration": 20,
    "start_time": "2022-03-16T14:33:34.429Z"
   },
   {
    "duration": 39,
    "start_time": "2022-03-16T14:33:34.452Z"
   },
   {
    "duration": 4,
    "start_time": "2022-03-16T14:33:34.493Z"
   },
   {
    "duration": 1713,
    "start_time": "2022-03-16T14:33:34.500Z"
   },
   {
    "duration": 1749,
    "start_time": "2022-03-16T14:33:36.215Z"
   },
   {
    "duration": 4,
    "start_time": "2022-03-16T14:33:37.967Z"
   },
   {
    "duration": 6,
    "start_time": "2022-03-16T14:33:37.983Z"
   },
   {
    "duration": 24,
    "start_time": "2022-03-16T14:33:37.991Z"
   },
   {
    "duration": 13,
    "start_time": "2022-03-16T14:33:38.017Z"
   },
   {
    "duration": 1822,
    "start_time": "2022-03-16T14:33:38.032Z"
   },
   {
    "duration": 4,
    "start_time": "2022-03-16T14:33:39.856Z"
   },
   {
    "duration": 47,
    "start_time": "2022-03-16T14:33:39.862Z"
   },
   {
    "duration": 2504,
    "start_time": "2022-03-16T14:33:39.911Z"
   },
   {
    "duration": 4,
    "start_time": "2022-03-16T14:33:42.417Z"
   },
   {
    "duration": 16,
    "start_time": "2022-03-16T14:33:42.423Z"
   },
   {
    "duration": 21,
    "start_time": "2022-03-16T14:33:42.442Z"
   },
   {
    "duration": 27,
    "start_time": "2022-03-16T14:33:42.465Z"
   },
   {
    "duration": 26,
    "start_time": "2022-03-16T14:33:42.494Z"
   },
   {
    "duration": 22,
    "start_time": "2022-03-16T14:33:42.522Z"
   },
   {
    "duration": 10225,
    "start_time": "2022-03-16T14:33:42.546Z"
   },
   {
    "duration": 21,
    "start_time": "2022-03-16T14:33:52.775Z"
   },
   {
    "duration": 1422,
    "start_time": "2022-03-16T14:33:52.798Z"
   },
   {
    "duration": 2824,
    "start_time": "2022-03-16T14:33:54.222Z"
   },
   {
    "duration": 4,
    "start_time": "2022-03-16T14:33:57.048Z"
   },
   {
    "duration": 8,
    "start_time": "2022-03-16T14:33:57.054Z"
   }
  ],
  "kernelspec": {
   "display_name": "Python 3 (ipykernel)",
   "language": "python",
   "name": "python3"
  },
  "language_info": {
   "codemirror_mode": {
    "name": "ipython",
    "version": 3
   },
   "file_extension": ".py",
   "mimetype": "text/x-python",
   "name": "python",
   "nbconvert_exporter": "python",
   "pygments_lexer": "ipython3",
   "version": "3.9.5"
  },
  "toc": {
   "base_numbering": 1,
   "nav_menu": {},
   "number_sections": true,
   "sideBar": true,
   "skip_h1_title": true,
   "title_cell": "Содержание",
   "title_sidebar": "Contents",
   "toc_cell": true,
   "toc_position": {
    "height": "calc(100% - 180px)",
    "left": "10px",
    "top": "150px",
    "width": "392px"
   },
   "toc_section_display": true,
   "toc_window_display": true
  }
 },
 "nbformat": 4,
 "nbformat_minor": 2
}
