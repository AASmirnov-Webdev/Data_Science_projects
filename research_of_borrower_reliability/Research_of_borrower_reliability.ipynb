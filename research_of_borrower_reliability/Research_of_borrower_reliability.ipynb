{
 "cells": [
  {
   "cell_type": "markdown",
   "metadata": {},
   "source": [
    "# Исследование надёжности заёмщиков\n",
    "\n",
    "Заказчик — кредитный отдел банка. Нужно разобраться, влияет ли семейное положение и количество детей клиента на факт погашения кредита в срок. Входные данные от банка — статистика о платёжеспособности клиентов.\n",
    "\n",
    "Результаты исследования будут учтены при построении модели **кредитного скоринга** — специальной системы, которая оценивает способность потенциального заёмщика вернуть кредит банку."
   ]
  },
  {
   "cell_type": "markdown",
   "metadata": {},
   "source": [
    "## Шаг 1. Откройте файл с данными и изучите общую информацию"
   ]
  },
  {
   "cell_type": "markdown",
   "metadata": {},
   "source": [
    "Импортируем библиотеку `Pandas`:"
   ]
  },
  {
   "cell_type": "code",
   "execution_count": 1,
   "metadata": {},
   "outputs": [],
   "source": [
    "import pandas as pd"
   ]
  },
  {
   "cell_type": "markdown",
   "metadata": {},
   "source": [
    "Прочитаем файл `data.csv` из папки `/datasets` и сохраним его в переменной `df`:"
   ]
  },
  {
   "cell_type": "code",
   "execution_count": 2,
   "metadata": {},
   "outputs": [],
   "source": [
    "df = pd.read_csv('/datasets/data.csv')"
   ]
  },
  {
   "cell_type": "markdown",
   "metadata": {},
   "source": [
    "Выводим на экран первые десять строк таблицы:"
   ]
  },
  {
   "cell_type": "code",
   "execution_count": 3,
   "metadata": {},
   "outputs": [
    {
     "data": {
      "text/html": [
       "<div>\n",
       "<style scoped>\n",
       "    .dataframe tbody tr th:only-of-type {\n",
       "        vertical-align: middle;\n",
       "    }\n",
       "\n",
       "    .dataframe tbody tr th {\n",
       "        vertical-align: top;\n",
       "    }\n",
       "\n",
       "    .dataframe thead th {\n",
       "        text-align: right;\n",
       "    }\n",
       "</style>\n",
       "<table border=\"1\" class=\"dataframe\">\n",
       "  <thead>\n",
       "    <tr style=\"text-align: right;\">\n",
       "      <th></th>\n",
       "      <th>children</th>\n",
       "      <th>days_employed</th>\n",
       "      <th>dob_years</th>\n",
       "      <th>education</th>\n",
       "      <th>education_id</th>\n",
       "      <th>family_status</th>\n",
       "      <th>family_status_id</th>\n",
       "      <th>gender</th>\n",
       "      <th>income_type</th>\n",
       "      <th>debt</th>\n",
       "      <th>total_income</th>\n",
       "      <th>purpose</th>\n",
       "    </tr>\n",
       "  </thead>\n",
       "  <tbody>\n",
       "    <tr>\n",
       "      <td>0</td>\n",
       "      <td>1</td>\n",
       "      <td>-8437.673028</td>\n",
       "      <td>42</td>\n",
       "      <td>высшее</td>\n",
       "      <td>0</td>\n",
       "      <td>женат / замужем</td>\n",
       "      <td>0</td>\n",
       "      <td>F</td>\n",
       "      <td>сотрудник</td>\n",
       "      <td>0</td>\n",
       "      <td>253875.639453</td>\n",
       "      <td>покупка жилья</td>\n",
       "    </tr>\n",
       "    <tr>\n",
       "      <td>1</td>\n",
       "      <td>1</td>\n",
       "      <td>-4024.803754</td>\n",
       "      <td>36</td>\n",
       "      <td>среднее</td>\n",
       "      <td>1</td>\n",
       "      <td>женат / замужем</td>\n",
       "      <td>0</td>\n",
       "      <td>F</td>\n",
       "      <td>сотрудник</td>\n",
       "      <td>0</td>\n",
       "      <td>112080.014102</td>\n",
       "      <td>приобретение автомобиля</td>\n",
       "    </tr>\n",
       "    <tr>\n",
       "      <td>2</td>\n",
       "      <td>0</td>\n",
       "      <td>-5623.422610</td>\n",
       "      <td>33</td>\n",
       "      <td>Среднее</td>\n",
       "      <td>1</td>\n",
       "      <td>женат / замужем</td>\n",
       "      <td>0</td>\n",
       "      <td>M</td>\n",
       "      <td>сотрудник</td>\n",
       "      <td>0</td>\n",
       "      <td>145885.952297</td>\n",
       "      <td>покупка жилья</td>\n",
       "    </tr>\n",
       "    <tr>\n",
       "      <td>3</td>\n",
       "      <td>3</td>\n",
       "      <td>-4124.747207</td>\n",
       "      <td>32</td>\n",
       "      <td>среднее</td>\n",
       "      <td>1</td>\n",
       "      <td>женат / замужем</td>\n",
       "      <td>0</td>\n",
       "      <td>M</td>\n",
       "      <td>сотрудник</td>\n",
       "      <td>0</td>\n",
       "      <td>267628.550329</td>\n",
       "      <td>дополнительное образование</td>\n",
       "    </tr>\n",
       "    <tr>\n",
       "      <td>4</td>\n",
       "      <td>0</td>\n",
       "      <td>340266.072047</td>\n",
       "      <td>53</td>\n",
       "      <td>среднее</td>\n",
       "      <td>1</td>\n",
       "      <td>гражданский брак</td>\n",
       "      <td>1</td>\n",
       "      <td>F</td>\n",
       "      <td>пенсионер</td>\n",
       "      <td>0</td>\n",
       "      <td>158616.077870</td>\n",
       "      <td>сыграть свадьбу</td>\n",
       "    </tr>\n",
       "    <tr>\n",
       "      <td>...</td>\n",
       "      <td>...</td>\n",
       "      <td>...</td>\n",
       "      <td>...</td>\n",
       "      <td>...</td>\n",
       "      <td>...</td>\n",
       "      <td>...</td>\n",
       "      <td>...</td>\n",
       "      <td>...</td>\n",
       "      <td>...</td>\n",
       "      <td>...</td>\n",
       "      <td>...</td>\n",
       "      <td>...</td>\n",
       "    </tr>\n",
       "    <tr>\n",
       "      <td>21520</td>\n",
       "      <td>1</td>\n",
       "      <td>-4529.316663</td>\n",
       "      <td>43</td>\n",
       "      <td>среднее</td>\n",
       "      <td>1</td>\n",
       "      <td>гражданский брак</td>\n",
       "      <td>1</td>\n",
       "      <td>F</td>\n",
       "      <td>компаньон</td>\n",
       "      <td>0</td>\n",
       "      <td>224791.862382</td>\n",
       "      <td>операции с жильем</td>\n",
       "    </tr>\n",
       "    <tr>\n",
       "      <td>21521</td>\n",
       "      <td>0</td>\n",
       "      <td>343937.404131</td>\n",
       "      <td>67</td>\n",
       "      <td>среднее</td>\n",
       "      <td>1</td>\n",
       "      <td>женат / замужем</td>\n",
       "      <td>0</td>\n",
       "      <td>F</td>\n",
       "      <td>пенсионер</td>\n",
       "      <td>0</td>\n",
       "      <td>155999.806512</td>\n",
       "      <td>сделка с автомобилем</td>\n",
       "    </tr>\n",
       "    <tr>\n",
       "      <td>21522</td>\n",
       "      <td>1</td>\n",
       "      <td>-2113.346888</td>\n",
       "      <td>38</td>\n",
       "      <td>среднее</td>\n",
       "      <td>1</td>\n",
       "      <td>гражданский брак</td>\n",
       "      <td>1</td>\n",
       "      <td>M</td>\n",
       "      <td>сотрудник</td>\n",
       "      <td>1</td>\n",
       "      <td>89672.561153</td>\n",
       "      <td>недвижимость</td>\n",
       "    </tr>\n",
       "    <tr>\n",
       "      <td>21523</td>\n",
       "      <td>3</td>\n",
       "      <td>-3112.481705</td>\n",
       "      <td>38</td>\n",
       "      <td>среднее</td>\n",
       "      <td>1</td>\n",
       "      <td>женат / замужем</td>\n",
       "      <td>0</td>\n",
       "      <td>M</td>\n",
       "      <td>сотрудник</td>\n",
       "      <td>1</td>\n",
       "      <td>244093.050500</td>\n",
       "      <td>на покупку своего автомобиля</td>\n",
       "    </tr>\n",
       "    <tr>\n",
       "      <td>21524</td>\n",
       "      <td>2</td>\n",
       "      <td>-1984.507589</td>\n",
       "      <td>40</td>\n",
       "      <td>среднее</td>\n",
       "      <td>1</td>\n",
       "      <td>женат / замужем</td>\n",
       "      <td>0</td>\n",
       "      <td>F</td>\n",
       "      <td>сотрудник</td>\n",
       "      <td>0</td>\n",
       "      <td>82047.418899</td>\n",
       "      <td>на покупку автомобиля</td>\n",
       "    </tr>\n",
       "  </tbody>\n",
       "</table>\n",
       "<p>21525 rows × 12 columns</p>\n",
       "</div>"
      ],
      "text/plain": [
       "       children  days_employed  dob_years education  education_id  \\\n",
       "0             1   -8437.673028         42    высшее             0   \n",
       "1             1   -4024.803754         36   среднее             1   \n",
       "2             0   -5623.422610         33   Среднее             1   \n",
       "3             3   -4124.747207         32   среднее             1   \n",
       "4             0  340266.072047         53   среднее             1   \n",
       "...         ...            ...        ...       ...           ...   \n",
       "21520         1   -4529.316663         43   среднее             1   \n",
       "21521         0  343937.404131         67   среднее             1   \n",
       "21522         1   -2113.346888         38   среднее             1   \n",
       "21523         3   -3112.481705         38   среднее             1   \n",
       "21524         2   -1984.507589         40   среднее             1   \n",
       "\n",
       "          family_status  family_status_id gender income_type  debt  \\\n",
       "0       женат / замужем                 0      F   сотрудник     0   \n",
       "1       женат / замужем                 0      F   сотрудник     0   \n",
       "2       женат / замужем                 0      M   сотрудник     0   \n",
       "3       женат / замужем                 0      M   сотрудник     0   \n",
       "4      гражданский брак                 1      F   пенсионер     0   \n",
       "...                 ...               ...    ...         ...   ...   \n",
       "21520  гражданский брак                 1      F   компаньон     0   \n",
       "21521   женат / замужем                 0      F   пенсионер     0   \n",
       "21522  гражданский брак                 1      M   сотрудник     1   \n",
       "21523   женат / замужем                 0      M   сотрудник     1   \n",
       "21524   женат / замужем                 0      F   сотрудник     0   \n",
       "\n",
       "        total_income                       purpose  \n",
       "0      253875.639453                 покупка жилья  \n",
       "1      112080.014102       приобретение автомобиля  \n",
       "2      145885.952297                 покупка жилья  \n",
       "3      267628.550329    дополнительное образование  \n",
       "4      158616.077870               сыграть свадьбу  \n",
       "...              ...                           ...  \n",
       "21520  224791.862382             операции с жильем  \n",
       "21521  155999.806512          сделка с автомобилем  \n",
       "21522   89672.561153                  недвижимость  \n",
       "21523  244093.050500  на покупку своего автомобиля  \n",
       "21524   82047.418899         на покупку автомобиля  \n",
       "\n",
       "[21525 rows x 12 columns]"
      ]
     },
     "metadata": {},
     "output_type": "display_data"
    }
   ],
   "source": [
    "display(df)"
   ]
  },
  {
   "cell_type": "markdown",
   "metadata": {},
   "source": [
    "Получаем общую информацию о таблице:"
   ]
  },
  {
   "cell_type": "code",
   "execution_count": 4,
   "metadata": {
    "scrolled": true
   },
   "outputs": [
    {
     "name": "stdout",
     "output_type": "stream",
     "text": [
      "<class 'pandas.core.frame.DataFrame'>\n",
      "RangeIndex: 21525 entries, 0 to 21524\n",
      "Data columns (total 12 columns):\n",
      "children            21525 non-null int64\n",
      "days_employed       19351 non-null float64\n",
      "dob_years           21525 non-null int64\n",
      "education           21525 non-null object\n",
      "education_id        21525 non-null int64\n",
      "family_status       21525 non-null object\n",
      "family_status_id    21525 non-null int64\n",
      "gender              21525 non-null object\n",
      "income_type         21525 non-null object\n",
      "debt                21525 non-null int64\n",
      "total_income        19351 non-null float64\n",
      "purpose             21525 non-null object\n",
      "dtypes: float64(2), int64(5), object(5)\n",
      "memory usage: 2.0+ MB\n"
     ]
    }
   ],
   "source": [
    "df.info()"
   ]
  },
  {
   "cell_type": "markdown",
   "metadata": {},
   "source": [
    "**Описание таблицы**\n",
    "\n",
    "В таблице 12 столбцов и 21525 строк. Тип данных в столбцах — `float`, `int`, `object`.\n",
    "\n",
    "Описание данных:\n",
    "\n",
    "* `children` — количество детей в семье;\n",
    "* `days_employed` — трудовой стаж в днях;\n",
    "* `dob_years` — возраст клиента в годах;\n",
    "* `education` — образование клиента;\n",
    "* `education_id` — идентификатор образования;\n",
    "* `family_status` — семейное положение;\n",
    "* `family_status_id` — идентификатор семейного положения;\n",
    "* `gender` — пол клиента;\n",
    "* `income_type` — тип занятости;\n",
    "* `debt` — имел ли задолженности по возврату кредитов;\n",
    "* `total_income` — доход в месяц;\n",
    "* `purpose` — цель получения кредита.\n",
    "\n",
    "Количество значений в столбцах различается. Значит, в данных есть пропущенные значения.\n",
    "\n",
    "Одни и теже цели получения кредита описаны по разному.\n",
    "\n",
    "В колонке с трудовым стажем имеются вещественные числа c отрицательными значениями."
   ]
  },
  {
   "cell_type": "markdown",
   "metadata": {},
   "source": [
    "**Вывод**"
   ]
  },
  {
   "cell_type": "markdown",
   "metadata": {},
   "source": [
    "В каждой строке таблицы — данные о клиенте. Часть колонок содержит информацию о поле, возрасте, семейном положении, наличии детей и образовании. Остальные данные рассказывают о типе занятости, трудовому стажу и доходу. Также есть информация о целях получения кредита и имел ли клиент задолженности по возврату кредитов.\n",
    "\n",
    "По предварительно оцененной информации можно утверждать, что, данных достаточно для проверки гипотез. Но: встречаются пропуски в данных (в столбцах `\"days_employed\"` и `\"total_income\"` имеются пропущенные значения); в столбце `\"days_employed\"` имеются вещественные числа c отрицательными значениями; столбец `\"education\"` содержит значения с разным регистром символов; одни и теже цели получения кредита описаны разными словами.\n",
    "\n",
    "Поэтому, чтобы перейти к проверке гипотез, нужно устранить проблемы в данных."
   ]
  },
  {
   "cell_type": "markdown",
   "metadata": {},
   "source": [
    "## Шаг 2. Предобработка данных"
   ]
  },
  {
   "cell_type": "markdown",
   "metadata": {},
   "source": [
    "### Обработка пропусков"
   ]
  },
  {
   "cell_type": "markdown",
   "metadata": {},
   "source": [
    "Посчитаем, сколько в таблице пропущенных значений."
   ]
  },
  {
   "cell_type": "code",
   "execution_count": 5,
   "metadata": {},
   "outputs": [
    {
     "data": {
      "text/plain": [
       "children               0\n",
       "days_employed       2174\n",
       "dob_years              0\n",
       "education              0\n",
       "education_id           0\n",
       "family_status          0\n",
       "family_status_id       0\n",
       "gender                 0\n",
       "income_type            0\n",
       "debt                   0\n",
       "total_income        2174\n",
       "purpose                0\n",
       "dtype: int64"
      ]
     },
     "execution_count": 5,
     "metadata": {},
     "output_type": "execute_result"
    }
   ],
   "source": [
    "df.isna().sum() # подсчёт пропусков"
   ]
  },
  {
   "cell_type": "markdown",
   "metadata": {},
   "source": [
    "Как и ожидалось столбцы `\"days_employed\"` и `\"total_income\"` имеют пропуски в размере `2174` значений, это порядка `10%` от общего числа клиентов (поэтому удалить мы их не можем, будем обрабатывать).\n",
    "\n",
    "В рамках данного проекта не будем учитывать возможную корреляцию заменяемых значений от каких-либо других показателей, поэтому заменим пропуски на средние (медианы) по данным столбцам:"
   ]
  },
  {
   "cell_type": "markdown",
   "metadata": {},
   "source": [
    "Напишем функцию замены пропусков (можно обойтись и без функции, но захотелось потренироваться):"
   ]
  },
  {
   "cell_type": "code",
   "execution_count": 6,
   "metadata": {},
   "outputs": [],
   "source": [
    "def replace_columns(list_columns):\n",
    "    '''\n",
    "    Функция для замены пропущенных значений в столбцах.\n",
    "    На вход принимает список столбцов \"list_columns\", в которых необходимо произвести замену пропусков.\n",
    "    Заменяет пропуски средним (медианой) значением по итерируемому столбцу.\n",
    "    '''\n",
    "    for column in list_columns: # проходим по списку столбцов\n",
    "        df[column] = df[column].fillna(df[column].mean()) # заменяем пропущенные значения на среднее (медиану)"
   ]
  },
  {
   "cell_type": "markdown",
   "metadata": {},
   "source": [
    "Создаем список столбцов, в которых необходимо произвести замену пропусков."
   ]
  },
  {
   "cell_type": "code",
   "execution_count": 7,
   "metadata": {},
   "outputs": [],
   "source": [
    "list_columns = ['days_employed', 'total_income'] # создание нового списка"
   ]
  },
  {
   "cell_type": "markdown",
   "metadata": {},
   "source": [
    "Выполняем функцию замены пропусков:"
   ]
  },
  {
   "cell_type": "code",
   "execution_count": 8,
   "metadata": {},
   "outputs": [],
   "source": [
    "replace_columns(list_columns) # вызов функции с аргументом \"list_columns\""
   ]
  },
  {
   "cell_type": "markdown",
   "metadata": {},
   "source": [
    "Проверяем остались ли пропущенные значения в столбцах:"
   ]
  },
  {
   "cell_type": "code",
   "execution_count": 9,
   "metadata": {},
   "outputs": [
    {
     "data": {
      "text/plain": [
       "children            0\n",
       "days_employed       0\n",
       "dob_years           0\n",
       "education           0\n",
       "education_id        0\n",
       "family_status       0\n",
       "family_status_id    0\n",
       "gender              0\n",
       "income_type         0\n",
       "debt                0\n",
       "total_income        0\n",
       "purpose             0\n",
       "dtype: int64"
      ]
     },
     "execution_count": 9,
     "metadata": {},
     "output_type": "execute_result"
    }
   ],
   "source": [
    "df.isna().sum()"
   ]
  },
  {
   "cell_type": "markdown",
   "metadata": {},
   "source": [
    "Замена произошла упешно - пропущенных значений в столбцах не осталось"
   ]
  },
  {
   "cell_type": "markdown",
   "metadata": {},
   "source": [
    "**Вывод**"
   ]
  },
  {
   "cell_type": "markdown",
   "metadata": {},
   "source": [
    "Столбцы `\"days_employed\"` и `\"total_income\"` имели порядка `10%` пропусков от общего числа клиентов. Причем количество пропусков в столбцах равное, из чего можно предположить, что клиент никогда не работал (по крайней мере официально), т.е. не имеет трудовой книжки и \"белой\" зарплаты, либо клиент просто не заполнял эти данные, так как кредитор не требует от заемщика официального трудоустройства."
   ]
  },
  {
   "cell_type": "markdown",
   "metadata": {},
   "source": [
    "### Замена типа данных"
   ]
  },
  {
   "cell_type": "markdown",
   "metadata": {},
   "source": [
    "В процессе предварительного анализа было определено, что два столбца (`\"days_employed\"` и `\"total_income\"`) имеют вещественный тип данных. Для удобства дальнейшего использования данных из этих столбцов переведем значения в целочисленный вид."
   ]
  },
  {
   "cell_type": "markdown",
   "metadata": {},
   "source": [
    "Создадим новый список, значениями которого будут столбцы, подлежащие изменению:"
   ]
  },
  {
   "cell_type": "code",
   "execution_count": 10,
   "metadata": {},
   "outputs": [],
   "source": [
    "list_meaning = ['days_employed', 'total_income'] # создаем список с названиями столбцов"
   ]
  },
  {
   "cell_type": "markdown",
   "metadata": {},
   "source": [
    "Далее переберем его элементы циклом `for` и для каждого столбца выполним замену типов:"
   ]
  },
  {
   "cell_type": "code",
   "execution_count": 11,
   "metadata": {},
   "outputs": [],
   "source": [
    "for columns in list_meaning:\n",
    "    df[columns] = df[columns].astype('int')"
   ]
  },
  {
   "cell_type": "markdown",
   "metadata": {},
   "source": [
    "Проверим изменился ли тип данных столбцов `\"days_employed\"` и `\"total_income\"` на `'int'`"
   ]
  },
  {
   "cell_type": "code",
   "execution_count": 12,
   "metadata": {
    "scrolled": true
   },
   "outputs": [
    {
     "name": "stdout",
     "output_type": "stream",
     "text": [
      "<class 'pandas.core.frame.DataFrame'>\n",
      "RangeIndex: 21525 entries, 0 to 21524\n",
      "Data columns (total 12 columns):\n",
      "children            21525 non-null int64\n",
      "days_employed       21525 non-null int64\n",
      "dob_years           21525 non-null int64\n",
      "education           21525 non-null object\n",
      "education_id        21525 non-null int64\n",
      "family_status       21525 non-null object\n",
      "family_status_id    21525 non-null int64\n",
      "gender              21525 non-null object\n",
      "income_type         21525 non-null object\n",
      "debt                21525 non-null int64\n",
      "total_income        21525 non-null int64\n",
      "purpose             21525 non-null object\n",
      "dtypes: int64(7), object(5)\n",
      "memory usage: 2.0+ MB\n"
     ]
    }
   ],
   "source": [
    "df.info()"
   ]
  },
  {
   "cell_type": "markdown",
   "metadata": {},
   "source": [
    "Да, как видим изменение типов произошло успешно."
   ]
  },
  {
   "cell_type": "markdown",
   "metadata": {},
   "source": [
    "**Вывод**"
   ]
  },
  {
   "cell_type": "markdown",
   "metadata": {},
   "source": [
    "В данном случае для изменения типа данных был использован метод `astype()` так как значениями были вещественные числа, но если бы значениями оказались строковые типы данных, то пришлось бы использовать метод `to_numeric()`."
   ]
  },
  {
   "cell_type": "markdown",
   "metadata": {},
   "source": [
    "### Обработка дубликатов"
   ]
  },
  {
   "cell_type": "code",
   "execution_count": 13,
   "metadata": {},
   "outputs": [
    {
     "name": "stdout",
     "output_type": "stream",
     "text": [
      "[ 1  0  3  2 -1  4 20  5]\n"
     ]
    }
   ],
   "source": [
    "print(df['children'].unique()) # выведем список уникальных значений"
   ]
  },
  {
   "cell_type": "code",
   "execution_count": 14,
   "metadata": {},
   "outputs": [],
   "source": [
    "def replace_wrong_values(columns, old_name, correct_name):\n",
    "    '''\n",
    "    Функция заменяет в столбце «columns» значение «old_name» на новое значение «correct_name».\n",
    "    Обозначения:\n",
    "    - «columns» название итерируемого столбца;\n",
    "    - «old_name» - содержит неправильное значение;\n",
    "    - «correct_name» – содержит правильное значение.\n",
    "    '''\n",
    "    for i in old_name:\n",
    "        df[columns] = df[columns].replace(old_name, correct_name)"
   ]
  },
  {
   "cell_type": "code",
   "execution_count": 15,
   "metadata": {},
   "outputs": [],
   "source": [
    "replace_wrong_values('children', [-1], 1) # вызов функции для замены «-1» на «1»\n",
    "replace_wrong_values('children', [20], 2) # вызов функции для замены «20» на «2»"
   ]
  },
  {
   "cell_type": "code",
   "execution_count": 16,
   "metadata": {},
   "outputs": [
    {
     "name": "stdout",
     "output_type": "stream",
     "text": [
      "[1 0 3 2 4 5]\n"
     ]
    }
   ],
   "source": [
    "print(df['children'].unique())"
   ]
  },
  {
   "cell_type": "code",
   "execution_count": 17,
   "metadata": {},
   "outputs": [
    {
     "name": "stdout",
     "output_type": "stream",
     "text": [
      "['высшее' 'среднее' 'Среднее' 'СРЕДНЕЕ' 'ВЫСШЕЕ' 'неоконченное высшее'\n",
      " 'начальное' 'Высшее' 'НЕОКОНЧЕННОЕ ВЫСШЕЕ' 'Неоконченное высшее'\n",
      " 'НАЧАЛЬНОЕ' 'Начальное' 'Ученая степень' 'УЧЕНАЯ СТЕПЕНЬ'\n",
      " 'ученая степень']\n"
     ]
    }
   ],
   "source": [
    "print(df['education'].unique()) # выведем список уникальных значений"
   ]
  },
  {
   "cell_type": "code",
   "execution_count": 18,
   "metadata": {},
   "outputs": [],
   "source": [
    "df['education'] = df['education'].str.lower() #преобразует символы значения в нижний регистр методом 'str.lower()'"
   ]
  },
  {
   "cell_type": "code",
   "execution_count": 19,
   "metadata": {},
   "outputs": [
    {
     "name": "stdout",
     "output_type": "stream",
     "text": [
      "['высшее' 'среднее' 'неоконченное высшее' 'начальное' 'ученая степень']\n"
     ]
    }
   ],
   "source": [
    "print(df['education'].unique())"
   ]
  },
  {
   "cell_type": "markdown",
   "metadata": {},
   "source": [
    "Посчитаем явные дубликаты в таблице:"
   ]
  },
  {
   "cell_type": "code",
   "execution_count": 20,
   "metadata": {},
   "outputs": [
    {
     "name": "stdout",
     "output_type": "stream",
     "text": [
      "Количество явных дубликатов: 71\n"
     ]
    }
   ],
   "source": [
    "df.duplicated().sum()\n",
    "print(\"Количество явных дубликатов: {}\".format(df.duplicated().sum()))"
   ]
  },
  {
   "cell_type": "markdown",
   "metadata": {},
   "source": [
    "Выяснили, что таблица содержит 71 явный дубликат.\n",
    "\n",
    "Сохраним дубликаты в новую таблицу и выведем первые пять строк на экран:"
   ]
  },
  {
   "cell_type": "code",
   "execution_count": 21,
   "metadata": {},
   "outputs": [
    {
     "data": {
      "text/html": [
       "<div>\n",
       "<style scoped>\n",
       "    .dataframe tbody tr th:only-of-type {\n",
       "        vertical-align: middle;\n",
       "    }\n",
       "\n",
       "    .dataframe tbody tr th {\n",
       "        vertical-align: top;\n",
       "    }\n",
       "\n",
       "    .dataframe thead th {\n",
       "        text-align: right;\n",
       "    }\n",
       "</style>\n",
       "<table border=\"1\" class=\"dataframe\">\n",
       "  <thead>\n",
       "    <tr style=\"text-align: right;\">\n",
       "      <th></th>\n",
       "      <th>children</th>\n",
       "      <th>days_employed</th>\n",
       "      <th>dob_years</th>\n",
       "      <th>education</th>\n",
       "      <th>education_id</th>\n",
       "      <th>family_status</th>\n",
       "      <th>family_status_id</th>\n",
       "      <th>gender</th>\n",
       "      <th>income_type</th>\n",
       "      <th>debt</th>\n",
       "      <th>total_income</th>\n",
       "      <th>purpose</th>\n",
       "    </tr>\n",
       "  </thead>\n",
       "  <tbody>\n",
       "    <tr>\n",
       "      <td>2849</td>\n",
       "      <td>0</td>\n",
       "      <td>63046</td>\n",
       "      <td>41</td>\n",
       "      <td>среднее</td>\n",
       "      <td>1</td>\n",
       "      <td>женат / замужем</td>\n",
       "      <td>0</td>\n",
       "      <td>F</td>\n",
       "      <td>сотрудник</td>\n",
       "      <td>0</td>\n",
       "      <td>167422</td>\n",
       "      <td>покупка жилья для семьи</td>\n",
       "    </tr>\n",
       "    <tr>\n",
       "      <td>3290</td>\n",
       "      <td>0</td>\n",
       "      <td>63046</td>\n",
       "      <td>58</td>\n",
       "      <td>среднее</td>\n",
       "      <td>1</td>\n",
       "      <td>гражданский брак</td>\n",
       "      <td>1</td>\n",
       "      <td>F</td>\n",
       "      <td>пенсионер</td>\n",
       "      <td>0</td>\n",
       "      <td>167422</td>\n",
       "      <td>сыграть свадьбу</td>\n",
       "    </tr>\n",
       "    <tr>\n",
       "      <td>4182</td>\n",
       "      <td>1</td>\n",
       "      <td>63046</td>\n",
       "      <td>34</td>\n",
       "      <td>высшее</td>\n",
       "      <td>0</td>\n",
       "      <td>гражданский брак</td>\n",
       "      <td>1</td>\n",
       "      <td>F</td>\n",
       "      <td>сотрудник</td>\n",
       "      <td>0</td>\n",
       "      <td>167422</td>\n",
       "      <td>свадьба</td>\n",
       "    </tr>\n",
       "    <tr>\n",
       "      <td>4851</td>\n",
       "      <td>0</td>\n",
       "      <td>63046</td>\n",
       "      <td>60</td>\n",
       "      <td>среднее</td>\n",
       "      <td>1</td>\n",
       "      <td>гражданский брак</td>\n",
       "      <td>1</td>\n",
       "      <td>F</td>\n",
       "      <td>пенсионер</td>\n",
       "      <td>0</td>\n",
       "      <td>167422</td>\n",
       "      <td>свадьба</td>\n",
       "    </tr>\n",
       "    <tr>\n",
       "      <td>5557</td>\n",
       "      <td>0</td>\n",
       "      <td>63046</td>\n",
       "      <td>58</td>\n",
       "      <td>среднее</td>\n",
       "      <td>1</td>\n",
       "      <td>гражданский брак</td>\n",
       "      <td>1</td>\n",
       "      <td>F</td>\n",
       "      <td>пенсионер</td>\n",
       "      <td>0</td>\n",
       "      <td>167422</td>\n",
       "      <td>сыграть свадьбу</td>\n",
       "    </tr>\n",
       "  </tbody>\n",
       "</table>\n",
       "</div>"
      ],
      "text/plain": [
       "      children  days_employed  dob_years education  education_id  \\\n",
       "2849         0          63046         41   среднее             1   \n",
       "3290         0          63046         58   среднее             1   \n",
       "4182         1          63046         34    высшее             0   \n",
       "4851         0          63046         60   среднее             1   \n",
       "5557         0          63046         58   среднее             1   \n",
       "\n",
       "         family_status  family_status_id gender income_type  debt  \\\n",
       "2849   женат / замужем                 0      F   сотрудник     0   \n",
       "3290  гражданский брак                 1      F   пенсионер     0   \n",
       "4182  гражданский брак                 1      F   сотрудник     0   \n",
       "4851  гражданский брак                 1      F   пенсионер     0   \n",
       "5557  гражданский брак                 1      F   пенсионер     0   \n",
       "\n",
       "      total_income                  purpose  \n",
       "2849        167422  покупка жилья для семьи  \n",
       "3290        167422          сыграть свадьбу  \n",
       "4182        167422                  свадьба  \n",
       "4851        167422                  свадьба  \n",
       "5557        167422          сыграть свадьбу  "
      ]
     },
     "metadata": {},
     "output_type": "display_data"
    }
   ],
   "source": [
    "duplicated_df = df[df.duplicated()].head()\n",
    "display(duplicated_df)"
   ]
  },
  {
   "cell_type": "markdown",
   "metadata": {},
   "source": [
    "Удалим явные дубликаты методом `drop_duplicates()` (для удаления старых индексов и формирования новых применим метод `reset_index()`):"
   ]
  },
  {
   "cell_type": "code",
   "execution_count": 22,
   "metadata": {},
   "outputs": [],
   "source": [
    "df = df.drop_duplicates()"
   ]
  },
  {
   "cell_type": "markdown",
   "metadata": {},
   "source": [
    "Ещё раз посчитаем явные дубликаты в таблице — убедимся, что полностью от них избавились:"
   ]
  },
  {
   "cell_type": "code",
   "execution_count": 23,
   "metadata": {},
   "outputs": [
    {
     "name": "stdout",
     "output_type": "stream",
     "text": [
      "Количество явных дубликатов: 0\n"
     ]
    }
   ],
   "source": [
    "df.duplicated().sum() # проверка на отсутствие дубликатов\n",
    "print(\"Количество явных дубликатов: {}\".format(df.duplicated().sum()))"
   ]
  },
  {
   "cell_type": "markdown",
   "metadata": {},
   "source": [
    "**Вывод**"
   ]
  },
  {
   "cell_type": "markdown",
   "metadata": {},
   "source": [
    "При поиске явных дубликатов обнаружилось, что их количество составляет 71 значение. \n",
    "\n",
    "Для поиска использовали метод `\"duplicated()\"`, который возвращает `Series` со значением `True` именно для строк-дубликатов. Метод `value_counts()` и `unique` здесь не подходят, так как они анализируют определенный столбец, выбирают каждое уникальное значение и подсчитывают частоту его встречаемости.\n",
    "\n",
    "Для удаления дубликатов использовался метод `drop_duplicated()` после применения которого нарушается индексация, и что бы ее обновить применяли метод `\"reset_index()\"` с параметром `\"drop=True\"`, который позволяет не создавать дополнительный столбец `\"index\"` после применения метода `\"reset_index()\"`.\n",
    "\n",
    "Причинами возникновения дубликатов могут быть повторные представления, неправильное соединение данных из разных источников, ошибки пользователя при занесении информации."
   ]
  },
  {
   "cell_type": "markdown",
   "metadata": {},
   "source": [
    "### Лемматизация"
   ]
  },
  {
   "cell_type": "markdown",
   "metadata": {},
   "source": [
    "Для лемматизации целей кредита приведем значения столбца `\"purpose\"` к их словарной форме. Для этого необходимо подключить библиотеку `\"PyMystem\"`."
   ]
  },
  {
   "cell_type": "code",
   "execution_count": 24,
   "metadata": {},
   "outputs": [],
   "source": [
    "# импортируем модуль pymystem3\n",
    "from pymystem3 import Mystem\n",
    "m = Mystem() # присваиваем ее переменной m"
   ]
  },
  {
   "cell_type": "code",
   "execution_count": 25,
   "metadata": {},
   "outputs": [],
   "source": [
    "list = str(df['purpose'].tolist()) # создаем список значений столбца 'purpose' для лемматизации\n",
    "lemmas = m.lemmatize(list) # применяем лемматизацию к списку"
   ]
  },
  {
   "cell_type": "markdown",
   "metadata": {},
   "source": [
    "Подсчитаем число упоминаний лемматизированных слов в списке `\"lemmas\"`:"
   ]
  },
  {
   "cell_type": "code",
   "execution_count": 26,
   "metadata": {},
   "outputs": [
    {
     "name": "stdout",
     "output_type": "stream",
     "text": [
      "Counter({' ': 33570, \"', '\": 21453, 'недвижимость': 6351, 'покупка': 5897, 'жилье': 4460, 'автомобиль': 4306, 'образование': 4013, 'с': 2918, 'операция': 2604, 'свадьба': 2324, 'свой': 2230, 'на': 2222, 'строительство': 1878, 'высокий': 1374, 'получение': 1314, 'коммерческий': 1311, 'для': 1289, 'жилой': 1230, 'сделка': 941, 'дополнительный': 906, 'заниматься': 904, 'подержать': 853, 'проведение': 768, 'сыграть': 765, 'сдача': 651, 'семья': 638, 'собственный': 635, 'со': 627, 'ремонт': 607, 'приобретение': 461, 'профильный': 436, 'подержанный': 111, \"['\": 1, \"']\\n\": 1})\n"
     ]
    }
   ],
   "source": [
    "# Для подсчета вызовем специальный контейнер Counter из модуля collections:\n",
    "from collections import Counter\n",
    "print(Counter(lemmas)) # выводим на экран полученные значения"
   ]
  },
  {
   "cell_type": "markdown",
   "metadata": {},
   "source": [
    "**Вывод**"
   ]
  },
  {
   "cell_type": "markdown",
   "metadata": {},
   "source": [
    "Из лемматизированных данных видно что основными целями кредита являются: недвижимость(жилье), автомобиль, образование и свадьба."
   ]
  },
  {
   "cell_type": "markdown",
   "metadata": {},
   "source": [
    "### Категоризация данных"
   ]
  },
  {
   "cell_type": "markdown",
   "metadata": {},
   "source": [
    "**2.5.1** Для категоризации целей кредита напишем функцию:"
   ]
  },
  {
   "cell_type": "code",
   "execution_count": 27,
   "metadata": {},
   "outputs": [],
   "source": [
    "def category(purpose):\n",
    "    '''\n",
    "    Функция принимает на вход значение столбца 'purpose'\n",
    "    и заменяет его на нужное.\n",
    "    Возвращает категорию целей кредита.\n",
    "    '''\n",
    "    if 'недвижимост' in purpose:\n",
    "        return 'недвижимость'\n",
    "    if 'жиль' in purpose:\n",
    "        return 'недвижимость'\n",
    "    if 'авто' in purpose:\n",
    "        return 'автомобиль'\n",
    "    if 'образован' in purpose:\n",
    "        return 'образование'\n",
    "    if 'свадьб' in purpose:\n",
    "        return 'свадьба'"
   ]
  },
  {
   "cell_type": "markdown",
   "metadata": {},
   "source": [
    "Создадим новый столбец `'purpose_group'` для категорий кредитов:"
   ]
  },
  {
   "cell_type": "code",
   "execution_count": 28,
   "metadata": {},
   "outputs": [],
   "source": [
    "df['purpose_group'] = df['purpose'].apply(category) # используем метод \"apply()\" и в качестве аргумента выступит функция"
   ]
  },
  {
   "cell_type": "markdown",
   "metadata": {},
   "source": [
    "Проверим список уникальных значений в новом столбце `'purpose_group'`:"
   ]
  },
  {
   "cell_type": "code",
   "execution_count": 29,
   "metadata": {
    "scrolled": true
   },
   "outputs": [
    {
     "name": "stdout",
     "output_type": "stream",
     "text": [
      "['недвижимость' 'автомобиль' 'образование' 'свадьба']\n"
     ]
    }
   ],
   "source": [
    "print(df['purpose_group'].unique()) "
   ]
  },
  {
   "cell_type": "markdown",
   "metadata": {},
   "source": [
    "**Так же для дальнейшего анализа нам потребуется категоризировать еще 3 столбца:**\n",
    "\n",
    "* `children` — количество детей в семье;\n",
    "* `family_status` — семейное положение;\n",
    "* `total_income` — доход в месяц."
   ]
  },
  {
   "cell_type": "markdown",
   "metadata": {},
   "source": [
    "**2.5.2** Для категоризации столбца `children` напишем функцию:\n",
    "\n",
    "Для выделения категорий примем следующее:\n",
    "* если детей у клиента нет то категория `\"бездетные\"`;\n",
    "* если у клиента 1 или 2 ребенка - категория `\"малодетные\"`;\n",
    "* если у клиента более 2 детей, то категория `\"многодетные\"`."
   ]
  },
  {
   "cell_type": "code",
   "execution_count": 30,
   "metadata": {},
   "outputs": [],
   "source": [
    "def children_status(children):\n",
    "    '''\n",
    "    Функция принимает на вход значение столбца 'children'\n",
    "    и заменяет его на нужное.\n",
    "    Возвращает категорию 'бездетные' если значение столбца 'children' == 0,\n",
    "    или возвращает категорию 'малодетные' если значение столбца 1 <= 'children' <= 2,\n",
    "    иначе возвращает 'многодетные'.\n",
    "    '''\n",
    "    if children == 0:\n",
    "        return 'бездетные'\n",
    "    if 1 <= children <= 2:\n",
    "        return 'малодетные'\n",
    "    return 'многодетные'"
   ]
  },
  {
   "cell_type": "code",
   "execution_count": 31,
   "metadata": {},
   "outputs": [],
   "source": [
    "# используем метод \"apply()\" и в качестве аргумента выступит функция\n",
    "df['children_status'] = df['children'].apply(children_status)"
   ]
  },
  {
   "cell_type": "code",
   "execution_count": 32,
   "metadata": {},
   "outputs": [
    {
     "name": "stdout",
     "output_type": "stream",
     "text": [
      "['малодетные' 'бездетные' 'многодетные']\n"
     ]
    }
   ],
   "source": [
    "# Проверим список уникальных значений в новом столбце 'children_status':\n",
    "print(df['children_status'].unique())"
   ]
  },
  {
   "cell_type": "markdown",
   "metadata": {},
   "source": [
    "**2.5.3** Для категоризации столбца `family_status` напишем похожую функцию, только значения будем использовать из стобца `family_status_id`:"
   ]
  },
  {
   "cell_type": "code",
   "execution_count": 33,
   "metadata": {},
   "outputs": [],
   "source": [
    "def family_status_category(family_status_id):\n",
    "    '''\n",
    "    Функция принимает на вход значение столбца 'family_status_id'\n",
    "    и заменяет его на нужное.\n",
    "    Возвращает категорию 'женат/замужем' если значение столбца 'family_status_id' == 0 или 1\n",
    "    иначе возвращает 'не женат/не замужем'.\n",
    "    '''\n",
    "    if family_status_id == 0:\n",
    "        return 'женат/замужем'\n",
    "    if family_status_id == 0:\n",
    "        return 'женат/замужем'\n",
    "    return 'не женат/не замужем'"
   ]
  },
  {
   "cell_type": "code",
   "execution_count": 34,
   "metadata": {},
   "outputs": [],
   "source": [
    "# используем метод \"apply()\" и в качестве аргумента выступит функция\n",
    "df['family_status_category'] = df['family_status_id'].apply(family_status_category)"
   ]
  },
  {
   "cell_type": "code",
   "execution_count": 35,
   "metadata": {},
   "outputs": [
    {
     "name": "stdout",
     "output_type": "stream",
     "text": [
      "['женат/замужем' 'не женат/не замужем']\n"
     ]
    }
   ],
   "source": [
    "# Проверим список уникальных значений в новом столбце 'family_status_category':\n",
    "print(df['family_status_category'].unique())"
   ]
  },
  {
   "cell_type": "markdown",
   "metadata": {},
   "source": [
    "**2.5.4** Для категоризации столбца `total_income` напишем похожую функцию:\n",
    "\n",
    "Для удобства расчетов примем следующие категории:\n",
    "* `низкая ЗП` для значений до 100 000;\n",
    "* `средняя ЗП` для значений от 101 000 до 200 000;\n",
    "* `высокая ЗП` для значений 201 000 и выше."
   ]
  },
  {
   "cell_type": "code",
   "execution_count": 36,
   "metadata": {},
   "outputs": [],
   "source": [
    "def total_income_category(total_income):\n",
    "    '''\n",
    "    Функция принимает на вход значение столбца 'total_income'\n",
    "    и заменяет его на нужное.\n",
    "    Возвращает категорию:\n",
    "    - 'низкая ЗП' если значение столбца 'total_income' <= 100000;\n",
    "    - 'средняя ЗП'если значение столбца 101000 <= 'total_income' <= 200000;\n",
    "    - иначе возвращает 'высокая ЗП'.\n",
    "    '''\n",
    "    if total_income <= 100000:\n",
    "        return 'низкая ЗП'\n",
    "    if (total_income >= 101000) and (total_income <= 200000):\n",
    "        return 'средняя ЗП'\n",
    "    return 'высокая ЗП'"
   ]
  },
  {
   "cell_type": "code",
   "execution_count": 37,
   "metadata": {},
   "outputs": [],
   "source": [
    "# используем метод \"apply()\" и в качестве аргумента выступит функция\n",
    "df['total_income_category'] = df['total_income'].apply(total_income_category)"
   ]
  },
  {
   "cell_type": "code",
   "execution_count": 38,
   "metadata": {},
   "outputs": [
    {
     "name": "stdout",
     "output_type": "stream",
     "text": [
      "['высокая ЗП' 'средняя ЗП' 'низкая ЗП']\n"
     ]
    }
   ],
   "source": [
    "# Проверим список уникальных значений в новом столбце 'family_status_category':\n",
    "print(df['total_income_category'].unique())"
   ]
  },
  {
   "cell_type": "markdown",
   "metadata": {},
   "source": [
    "На всякий случай проверим отсутствие пропусков после замены и наличие новых столбцов с категориями:"
   ]
  },
  {
   "cell_type": "code",
   "execution_count": 39,
   "metadata": {},
   "outputs": [
    {
     "name": "stdout",
     "output_type": "stream",
     "text": [
      "children                  0\n",
      "days_employed             0\n",
      "dob_years                 0\n",
      "education                 0\n",
      "education_id              0\n",
      "family_status             0\n",
      "family_status_id          0\n",
      "gender                    0\n",
      "income_type               0\n",
      "debt                      0\n",
      "total_income              0\n",
      "purpose                   0\n",
      "purpose_group             0\n",
      "children_status           0\n",
      "family_status_category    0\n",
      "total_income_category     0\n",
      "dtype: int64\n"
     ]
    }
   ],
   "source": [
    "print(df.isna().sum())"
   ]
  },
  {
   "cell_type": "markdown",
   "metadata": {},
   "source": [
    "Как видно все получилось!!!"
   ]
  },
  {
   "cell_type": "markdown",
   "metadata": {},
   "source": [
    "Посмотрим как теперь выглядят первые 5 строк таблицы:"
   ]
  },
  {
   "cell_type": "code",
   "execution_count": 40,
   "metadata": {},
   "outputs": [
    {
     "data": {
      "text/html": [
       "<div>\n",
       "<style scoped>\n",
       "    .dataframe tbody tr th:only-of-type {\n",
       "        vertical-align: middle;\n",
       "    }\n",
       "\n",
       "    .dataframe tbody tr th {\n",
       "        vertical-align: top;\n",
       "    }\n",
       "\n",
       "    .dataframe thead th {\n",
       "        text-align: right;\n",
       "    }\n",
       "</style>\n",
       "<table border=\"1\" class=\"dataframe\">\n",
       "  <thead>\n",
       "    <tr style=\"text-align: right;\">\n",
       "      <th></th>\n",
       "      <th>children</th>\n",
       "      <th>days_employed</th>\n",
       "      <th>dob_years</th>\n",
       "      <th>education</th>\n",
       "      <th>education_id</th>\n",
       "      <th>family_status</th>\n",
       "      <th>family_status_id</th>\n",
       "      <th>gender</th>\n",
       "      <th>income_type</th>\n",
       "      <th>debt</th>\n",
       "      <th>total_income</th>\n",
       "      <th>purpose</th>\n",
       "      <th>purpose_group</th>\n",
       "      <th>children_status</th>\n",
       "      <th>family_status_category</th>\n",
       "      <th>total_income_category</th>\n",
       "    </tr>\n",
       "  </thead>\n",
       "  <tbody>\n",
       "    <tr>\n",
       "      <td>0</td>\n",
       "      <td>1</td>\n",
       "      <td>-8437</td>\n",
       "      <td>42</td>\n",
       "      <td>высшее</td>\n",
       "      <td>0</td>\n",
       "      <td>женат / замужем</td>\n",
       "      <td>0</td>\n",
       "      <td>F</td>\n",
       "      <td>сотрудник</td>\n",
       "      <td>0</td>\n",
       "      <td>253875</td>\n",
       "      <td>покупка жилья</td>\n",
       "      <td>недвижимость</td>\n",
       "      <td>малодетные</td>\n",
       "      <td>женат/замужем</td>\n",
       "      <td>высокая ЗП</td>\n",
       "    </tr>\n",
       "    <tr>\n",
       "      <td>1</td>\n",
       "      <td>1</td>\n",
       "      <td>-4024</td>\n",
       "      <td>36</td>\n",
       "      <td>среднее</td>\n",
       "      <td>1</td>\n",
       "      <td>женат / замужем</td>\n",
       "      <td>0</td>\n",
       "      <td>F</td>\n",
       "      <td>сотрудник</td>\n",
       "      <td>0</td>\n",
       "      <td>112080</td>\n",
       "      <td>приобретение автомобиля</td>\n",
       "      <td>автомобиль</td>\n",
       "      <td>малодетные</td>\n",
       "      <td>женат/замужем</td>\n",
       "      <td>средняя ЗП</td>\n",
       "    </tr>\n",
       "    <tr>\n",
       "      <td>2</td>\n",
       "      <td>0</td>\n",
       "      <td>-5623</td>\n",
       "      <td>33</td>\n",
       "      <td>среднее</td>\n",
       "      <td>1</td>\n",
       "      <td>женат / замужем</td>\n",
       "      <td>0</td>\n",
       "      <td>M</td>\n",
       "      <td>сотрудник</td>\n",
       "      <td>0</td>\n",
       "      <td>145885</td>\n",
       "      <td>покупка жилья</td>\n",
       "      <td>недвижимость</td>\n",
       "      <td>бездетные</td>\n",
       "      <td>женат/замужем</td>\n",
       "      <td>средняя ЗП</td>\n",
       "    </tr>\n",
       "    <tr>\n",
       "      <td>3</td>\n",
       "      <td>3</td>\n",
       "      <td>-4124</td>\n",
       "      <td>32</td>\n",
       "      <td>среднее</td>\n",
       "      <td>1</td>\n",
       "      <td>женат / замужем</td>\n",
       "      <td>0</td>\n",
       "      <td>M</td>\n",
       "      <td>сотрудник</td>\n",
       "      <td>0</td>\n",
       "      <td>267628</td>\n",
       "      <td>дополнительное образование</td>\n",
       "      <td>образование</td>\n",
       "      <td>многодетные</td>\n",
       "      <td>женат/замужем</td>\n",
       "      <td>высокая ЗП</td>\n",
       "    </tr>\n",
       "    <tr>\n",
       "      <td>4</td>\n",
       "      <td>0</td>\n",
       "      <td>340266</td>\n",
       "      <td>53</td>\n",
       "      <td>среднее</td>\n",
       "      <td>1</td>\n",
       "      <td>гражданский брак</td>\n",
       "      <td>1</td>\n",
       "      <td>F</td>\n",
       "      <td>пенсионер</td>\n",
       "      <td>0</td>\n",
       "      <td>158616</td>\n",
       "      <td>сыграть свадьбу</td>\n",
       "      <td>свадьба</td>\n",
       "      <td>бездетные</td>\n",
       "      <td>не женат/не замужем</td>\n",
       "      <td>средняя ЗП</td>\n",
       "    </tr>\n",
       "  </tbody>\n",
       "</table>\n",
       "</div>"
      ],
      "text/plain": [
       "   children  days_employed  dob_years education  education_id  \\\n",
       "0         1          -8437         42    высшее             0   \n",
       "1         1          -4024         36   среднее             1   \n",
       "2         0          -5623         33   среднее             1   \n",
       "3         3          -4124         32   среднее             1   \n",
       "4         0         340266         53   среднее             1   \n",
       "\n",
       "      family_status  family_status_id gender income_type  debt  total_income  \\\n",
       "0   женат / замужем                 0      F   сотрудник     0        253875   \n",
       "1   женат / замужем                 0      F   сотрудник     0        112080   \n",
       "2   женат / замужем                 0      M   сотрудник     0        145885   \n",
       "3   женат / замужем                 0      M   сотрудник     0        267628   \n",
       "4  гражданский брак                 1      F   пенсионер     0        158616   \n",
       "\n",
       "                      purpose purpose_group children_status  \\\n",
       "0               покупка жилья  недвижимость      малодетные   \n",
       "1     приобретение автомобиля    автомобиль      малодетные   \n",
       "2               покупка жилья  недвижимость       бездетные   \n",
       "3  дополнительное образование   образование     многодетные   \n",
       "4             сыграть свадьбу       свадьба       бездетные   \n",
       "\n",
       "  family_status_category total_income_category  \n",
       "0          женат/замужем            высокая ЗП  \n",
       "1          женат/замужем            средняя ЗП  \n",
       "2          женат/замужем            средняя ЗП  \n",
       "3          женат/замужем            высокая ЗП  \n",
       "4    не женат/не замужем            средняя ЗП  "
      ]
     },
     "metadata": {},
     "output_type": "display_data"
    }
   ],
   "source": [
    "display(df.head())"
   ]
  },
  {
   "cell_type": "markdown",
   "metadata": {},
   "source": [
    "**Вывод**"
   ]
  },
  {
   "cell_type": "markdown",
   "metadata": {},
   "source": [
    "Мы категоризировали 4 столбца с данными посредством написания функции и добавлением нового столбца со значением, которое эта функция возвращает. Для добавления новых столбцов Датафрейма использовали метод `apply()`. Такая категоризация поможет выделить нужные категории при проверке гипотез. Теперь можно переходить непосредственно к самой проверке гипотез."
   ]
  },
  {
   "cell_type": "markdown",
   "metadata": {},
   "source": [
    "## Шаг 3. Ответьте на вопросы"
   ]
  },
  {
   "cell_type": "markdown",
   "metadata": {},
   "source": [
    "- Есть ли зависимость между наличием детей и возвратом кредита в срок?"
   ]
  },
  {
   "cell_type": "markdown",
   "metadata": {},
   "source": [
    "**Для ответа на данный вопрос я попробую решить задачу двумя способами: через введение новых переменных, а затем проверю расчеты созданием сводной таблицы.**\n",
    "\n",
    "\n",
    "**1 способ**\n",
    "\n",
    "Для начала необходимо знать количество невозвратов кредита в срок для категорий `\"дети есть\"` и `\"детей нет\"`"
   ]
  },
  {
   "cell_type": "markdown",
   "metadata": {},
   "source": [
    "Посчитаем количество клиентов с детьми и без. Для этого посчитаем сколько раз встречается каждая категория `\"children_status\"`:"
   ]
  },
  {
   "cell_type": "code",
   "execution_count": 41,
   "metadata": {},
   "outputs": [
    {
     "name": "stdout",
     "output_type": "stream",
     "text": [
      "Количество малодетных клиентов: 6983\n"
     ]
    }
   ],
   "source": [
    "# сохраним количество малодетных клиентов в переменной have_children\n",
    "have_children = df[df['children_status'] == 'малодетные']['children_status'].value_counts().sum()\n",
    "print(\"Количество малодетных клиентов: {}\".format(have_children))"
   ]
  },
  {
   "cell_type": "code",
   "execution_count": 42,
   "metadata": {},
   "outputs": [
    {
     "name": "stdout",
     "output_type": "stream",
     "text": [
      "Количество многодетных клиентов: 380\n"
     ]
    }
   ],
   "source": [
    "# сохраним количество многодетных клиентов в переменной have_more_children\n",
    "have_more_children = df[df['children_status'] == 'многодетные']['children_status'].value_counts().sum()\n",
    "print(\"Количество многодетных клиентов: {}\".format(have_more_children))"
   ]
  },
  {
   "cell_type": "code",
   "execution_count": 43,
   "metadata": {},
   "outputs": [
    {
     "name": "stdout",
     "output_type": "stream",
     "text": [
      "Количество бездетных клиентов: 14091\n"
     ]
    }
   ],
   "source": [
    "# сохраним количество бездетных клиентов в переменной have_no_children\n",
    "have_no_children = df[df['children_status'] == 'бездетные']['children_status'].value_counts().sum()\n",
    "print(\"Количество бездетных клиентов: {}\".format(have_no_children))"
   ]
  },
  {
   "cell_type": "markdown",
   "metadata": {},
   "source": [
    "Оказывается, что клиентов, у которых детей нет, в два раза больше, чем клиентов у которых дети есть."
   ]
  },
  {
   "cell_type": "code",
   "execution_count": 44,
   "metadata": {},
   "outputs": [
    {
     "name": "stdout",
     "output_type": "stream",
     "text": [
      "Количество малодетных клиентов и невозврат кредита в срок: 647\n"
     ]
    }
   ],
   "source": [
    "# сохраним количество малодетных клиентов и невозврат кредита в срок в переменной debt_children\n",
    "debt_children = df[df['children_status'] == 'малодетные']['debt'].sum()\n",
    "print(\"Количество малодетных клиентов и невозврат кредита в срок: {}\".format(debt_children))"
   ]
  },
  {
   "cell_type": "code",
   "execution_count": 45,
   "metadata": {},
   "outputs": [
    {
     "name": "stdout",
     "output_type": "stream",
     "text": [
      "Количество многодетных клиентов и невозврат кредита в срок: 31\n"
     ]
    }
   ],
   "source": [
    "# сохраним количество многодетных клиентов и невозврат кредита в срок в переменной debt_more_children\n",
    "debt_more_children = df[df['children_status'] == 'многодетные']['debt'].sum()\n",
    "print(\"Количество многодетных клиентов и невозврат кредита в срок: {}\".format(debt_more_children))"
   ]
  },
  {
   "cell_type": "code",
   "execution_count": 46,
   "metadata": {},
   "outputs": [
    {
     "name": "stdout",
     "output_type": "stream",
     "text": [
      "Количество бездетных клиентов и невозврат кредита в срок: 1063\n"
     ]
    }
   ],
   "source": [
    "# сохраним количество бездетных клиентов и невозврат кредита в срок в переменной debt_no_children\n",
    "debt_no_children = df[df['children_status'] == 'бездетные']['debt'].sum()\n",
    "print(\"Количество бездетных клиентов и невозврат кредита в срок: {}\".format(debt_no_children))"
   ]
  },
  {
   "cell_type": "markdown",
   "metadata": {},
   "source": [
    "Посчитаем отношение малодетных клиентов и невозврат кредита в срок к общему количеству малодетных клиентов:"
   ]
  },
  {
   "cell_type": "code",
   "execution_count": 47,
   "metadata": {},
   "outputs": [
    {
     "name": "stdout",
     "output_type": "stream",
     "text": [
      "Процент невозврата кредита в срок для малодетных клиентов равен: 9.3%\n"
     ]
    }
   ],
   "source": [
    "# результат сохраним в переменной debt_have_children\n",
    "# дополнительно напишем обработчик исключений (при вызове ошибки деления на 0)\n",
    "try:\n",
    "    debt_have_children = debt_children / have_children\n",
    "    print(\"Процент невозврата кредита в срок для малодетных клиентов равен: {:.1%}\".format(debt_have_children))\n",
    "except:\n",
    "    print('Деление на 0, проверьте входные данные')"
   ]
  },
  {
   "cell_type": "markdown",
   "metadata": {},
   "source": [
    "Посчитаем отношение многодетных клиентов и невозврат кредита в срок к общему количеству многодетных клиентов:"
   ]
  },
  {
   "cell_type": "code",
   "execution_count": 48,
   "metadata": {},
   "outputs": [
    {
     "name": "stdout",
     "output_type": "stream",
     "text": [
      "Процент невозврата кредита в срок для многодетных клиентов равен: 8.2%\n"
     ]
    }
   ],
   "source": [
    "# результат сохраним в переменной debt_have_more_children\n",
    "# дополнительно напишем обработчик исключений (при вызове ошибки деления на 0)\n",
    "try:\n",
    "    debt_have_more_children = debt_more_children / have_more_children\n",
    "    print(\"Процент невозврата кредита в срок для многодетных клиентов равен: {:.1%}\".format(debt_have_more_children))\n",
    "except:\n",
    "    print('Деление на 0, проверьте входные данные')"
   ]
  },
  {
   "cell_type": "markdown",
   "metadata": {},
   "source": [
    "Посчитаем отношение клиентов, без детей и невозврат кредита в срок к общему количеству клиентов без детей:"
   ]
  },
  {
   "cell_type": "code",
   "execution_count": 49,
   "metadata": {},
   "outputs": [
    {
     "name": "stdout",
     "output_type": "stream",
     "text": [
      "Процент невозврата кредита в срок для бездетных клиентов равен: 7.5%\n"
     ]
    }
   ],
   "source": [
    "# результат сохраним в переменной debt_no_have_children\n",
    "# дополнительно напишем обработчик исключений (при вызове ошибки деления на 0)\n",
    "try:\n",
    "    debt_no_have_children = debt_no_children / have_no_children\n",
    "    print(\"Процент невозврата кредита в срок для бездетных клиентов равен: {:.1%}\".format(debt_no_have_children))\n",
    "except:\n",
    "    print('Деление на 0, проверьте входные данные')"
   ]
  },
  {
   "cell_type": "markdown",
   "metadata": {},
   "source": [
    "**2 способ**\n",
    "\n",
    "Проверим результаты расчетов через создание сводной таблицы:"
   ]
  },
  {
   "cell_type": "code",
   "execution_count": 50,
   "metadata": {},
   "outputs": [
    {
     "data": {
      "text/html": [
       "<div>\n",
       "<style scoped>\n",
       "    .dataframe tbody tr th:only-of-type {\n",
       "        vertical-align: middle;\n",
       "    }\n",
       "\n",
       "    .dataframe tbody tr th {\n",
       "        vertical-align: top;\n",
       "    }\n",
       "\n",
       "    .dataframe thead th {\n",
       "        text-align: right;\n",
       "    }\n",
       "</style>\n",
       "<table border=\"1\" class=\"dataframe\">\n",
       "  <thead>\n",
       "    <tr style=\"text-align: right;\">\n",
       "      <th></th>\n",
       "      <th>debt</th>\n",
       "    </tr>\n",
       "    <tr>\n",
       "      <th>children_status</th>\n",
       "      <th></th>\n",
       "    </tr>\n",
       "  </thead>\n",
       "  <tbody>\n",
       "    <tr>\n",
       "      <td>бездетные</td>\n",
       "      <td>0.075438</td>\n",
       "    </tr>\n",
       "    <tr>\n",
       "      <td>малодетные</td>\n",
       "      <td>0.092654</td>\n",
       "    </tr>\n",
       "    <tr>\n",
       "      <td>многодетные</td>\n",
       "      <td>0.081579</td>\n",
       "    </tr>\n",
       "  </tbody>\n",
       "</table>\n",
       "</div>"
      ],
      "text/plain": [
       "                     debt\n",
       "children_status          \n",
       "бездетные        0.075438\n",
       "малодетные       0.092654\n",
       "многодетные      0.081579"
      ]
     },
     "metadata": {},
     "output_type": "display_data"
    }
   ],
   "source": [
    "new_df = pd.pivot_table(df, index='children_status', values='debt') # создаем сводную таблицу с нужными столбцами\n",
    "display(new_df) # выводим на экран"
   ]
  },
  {
   "cell_type": "markdown",
   "metadata": {},
   "source": [
    "Расчеты выполнены корректно!!!"
   ]
  },
  {
   "cell_type": "markdown",
   "metadata": {},
   "source": [
    "**Вывод**"
   ]
  },
  {
   "cell_type": "markdown",
   "metadata": {},
   "source": [
    "В процессе анализа зависимости между наличием детей и возвратом кредита в срок выяснилось, что процент невозврата кредита в срок для малодетных клиентов равен **`9.3%`**, процент невозврата кредита в срок для многодетных клиентов **`8.2%`**, а процент невозврата кредита в срок для бездетных клиентов **`7.5%`**. Отсюда следует вывод что, если у клиента есть дети, то процент невозврата кредита в срок **`выше на 0.7 - 1,1%`** по отношению к клиентам у которых детей нет."
   ]
  },
  {
   "cell_type": "markdown",
   "metadata": {},
   "source": [
    "- Есть ли зависимость между семейным положением и возвратом кредита в срок?"
   ]
  },
  {
   "cell_type": "markdown",
   "metadata": {},
   "source": [
    "Для ответа на этот вопрос создадим сводную таблицу по заранее категоризированному столбцу `\"family_status_category\"`:"
   ]
  },
  {
   "cell_type": "code",
   "execution_count": 51,
   "metadata": {},
   "outputs": [
    {
     "data": {
      "text/html": [
       "<div>\n",
       "<style scoped>\n",
       "    .dataframe tbody tr th:only-of-type {\n",
       "        vertical-align: middle;\n",
       "    }\n",
       "\n",
       "    .dataframe tbody tr th {\n",
       "        vertical-align: top;\n",
       "    }\n",
       "\n",
       "    .dataframe thead th {\n",
       "        text-align: right;\n",
       "    }\n",
       "</style>\n",
       "<table border=\"1\" class=\"dataframe\">\n",
       "  <thead>\n",
       "    <tr style=\"text-align: right;\">\n",
       "      <th></th>\n",
       "      <th>debt</th>\n",
       "    </tr>\n",
       "    <tr>\n",
       "      <th>family_status_category</th>\n",
       "      <th></th>\n",
       "    </tr>\n",
       "  </thead>\n",
       "  <tbody>\n",
       "    <tr>\n",
       "      <td>женат/замужем</td>\n",
       "      <td>0.075452</td>\n",
       "    </tr>\n",
       "    <tr>\n",
       "      <td>не женат/не замужем</td>\n",
       "      <td>0.088865</td>\n",
       "    </tr>\n",
       "  </tbody>\n",
       "</table>\n",
       "</div>"
      ],
      "text/plain": [
       "                            debt\n",
       "family_status_category          \n",
       "женат/замужем           0.075452\n",
       "не женат/не замужем     0.088865"
      ]
     },
     "metadata": {},
     "output_type": "display_data"
    }
   ],
   "source": [
    "famyly_df = pd.pivot_table(df, index='family_status_category', values='debt') # создаем сводную таблицу с нужными столбцами\n",
    "display(famyly_df) # выводим на экран"
   ]
  },
  {
   "cell_type": "markdown",
   "metadata": {},
   "source": [
    "**Вывод**"
   ]
  },
  {
   "cell_type": "markdown",
   "metadata": {},
   "source": [
    "В процессе анализа зависимости между семейным положением и возвратом кредита в срок выяснилось, что процент невозврата кредита в срок для клиентов с семейным положением `не женат/не замужем` равна **`8.9%`**, а процент невозврата кредита в срок для клиентов с семейным положением `женат/замужем` **`7.5%`**. Отсюда следует вывод что, если клиент `состоит в браке`, то процент невозврата кредита в срок **`меньше на 1.4%`** по отношению к `не женатым/не замужным` клиентам."
   ]
  },
  {
   "cell_type": "markdown",
   "metadata": {},
   "source": [
    "- Есть ли зависимость между уровнем дохода и возвратом кредита в срок?"
   ]
  },
  {
   "cell_type": "markdown",
   "metadata": {},
   "source": [
    "Для ответа на этот вопрос создадим сводную таблицу по заранее категоризированному столбцу `\"total_income_category\"`:"
   ]
  },
  {
   "cell_type": "code",
   "execution_count": 52,
   "metadata": {},
   "outputs": [
    {
     "data": {
      "text/html": [
       "<div>\n",
       "<style scoped>\n",
       "    .dataframe tbody tr th:only-of-type {\n",
       "        vertical-align: middle;\n",
       "    }\n",
       "\n",
       "    .dataframe tbody tr th {\n",
       "        vertical-align: top;\n",
       "    }\n",
       "\n",
       "    .dataframe thead th {\n",
       "        text-align: right;\n",
       "    }\n",
       "</style>\n",
       "<table border=\"1\" class=\"dataframe\">\n",
       "  <thead>\n",
       "    <tr style=\"text-align: right;\">\n",
       "      <th></th>\n",
       "      <th>debt</th>\n",
       "    </tr>\n",
       "    <tr>\n",
       "      <th>total_income_category</th>\n",
       "      <th></th>\n",
       "    </tr>\n",
       "  </thead>\n",
       "  <tbody>\n",
       "    <tr>\n",
       "      <td>высокая ЗП</td>\n",
       "      <td>0.070314</td>\n",
       "    </tr>\n",
       "    <tr>\n",
       "      <td>низкая ЗП</td>\n",
       "      <td>0.079319</td>\n",
       "    </tr>\n",
       "    <tr>\n",
       "      <td>средняя ЗП</td>\n",
       "      <td>0.086610</td>\n",
       "    </tr>\n",
       "  </tbody>\n",
       "</table>\n",
       "</div>"
      ],
      "text/plain": [
       "                           debt\n",
       "total_income_category          \n",
       "высокая ЗП             0.070314\n",
       "низкая ЗП              0.079319\n",
       "средняя ЗП             0.086610"
      ]
     },
     "metadata": {},
     "output_type": "display_data"
    }
   ],
   "source": [
    "income_df = pd.pivot_table(df, index='total_income_category', values='debt') # создаем сводную таблицу с нужными столбцами\n",
    "display(income_df) # выводим на экран"
   ]
  },
  {
   "cell_type": "markdown",
   "metadata": {},
   "source": [
    "**Вывод**"
   ]
  },
  {
   "cell_type": "markdown",
   "metadata": {},
   "source": [
    "В процессе анализа зависимости между уровнем дохода и возвратом кредита в срок выяснилось, что процент невозврата кредита в срок для клиентов с `\"низкой ЗП\"` равен **`7.9%`**, процент невозврата кредита в срок для клиентов со `\"средней ЗП\"` **`8.6%`**, а процент невозврата кредита в срок для клиентов с `\"высокой ЗП\"` **`7.0%`**. Отсюда следует вывод что, у клиентов с `\"высокой ЗП\"` процент невозврата кредита в срок меньше по сравнению с остальными, \"лидерами\" в данной ситуации оказались клиенты со `\"среней ЗП\"`, у них процент невозврата кредита в срок выше чем у остальных (на **`0,7%`** больше по отношению к клиентам с `\"низкой ЗП\"` и на **`1,6%`** больше по отношению к клиентам с `\"высокой ЗП\"`)."
   ]
  },
  {
   "cell_type": "markdown",
   "metadata": {},
   "source": [
    "- Как разные цели кредита влияют на его возврат в срок?"
   ]
  },
  {
   "cell_type": "markdown",
   "metadata": {},
   "source": [
    "Для ответа на этот вопрос создадим сводную таблицу по заранее категоризированному столбцу `\"purpose_group\"`:"
   ]
  },
  {
   "cell_type": "code",
   "execution_count": 53,
   "metadata": {},
   "outputs": [
    {
     "data": {
      "text/html": [
       "<div>\n",
       "<style scoped>\n",
       "    .dataframe tbody tr th:only-of-type {\n",
       "        vertical-align: middle;\n",
       "    }\n",
       "\n",
       "    .dataframe tbody tr th {\n",
       "        vertical-align: top;\n",
       "    }\n",
       "\n",
       "    .dataframe thead th {\n",
       "        text-align: right;\n",
       "    }\n",
       "</style>\n",
       "<table border=\"1\" class=\"dataframe\">\n",
       "  <thead>\n",
       "    <tr style=\"text-align: right;\">\n",
       "      <th></th>\n",
       "      <th>debt</th>\n",
       "    </tr>\n",
       "    <tr>\n",
       "      <th>purpose_group</th>\n",
       "      <th></th>\n",
       "    </tr>\n",
       "  </thead>\n",
       "  <tbody>\n",
       "    <tr>\n",
       "      <td>автомобиль</td>\n",
       "      <td>0.093590</td>\n",
       "    </tr>\n",
       "    <tr>\n",
       "      <td>недвижимость</td>\n",
       "      <td>0.072334</td>\n",
       "    </tr>\n",
       "    <tr>\n",
       "      <td>образование</td>\n",
       "      <td>0.092200</td>\n",
       "    </tr>\n",
       "    <tr>\n",
       "      <td>свадьба</td>\n",
       "      <td>0.080034</td>\n",
       "    </tr>\n",
       "  </tbody>\n",
       "</table>\n",
       "</div>"
      ],
      "text/plain": [
       "                   debt\n",
       "purpose_group          \n",
       "автомобиль     0.093590\n",
       "недвижимость   0.072334\n",
       "образование    0.092200\n",
       "свадьба        0.080034"
      ]
     },
     "metadata": {},
     "output_type": "display_data"
    }
   ],
   "source": [
    "target_cred_df = pd.pivot_table(df, index='purpose_group', values='debt') # создаем сводную таблицу с нужными столбцами\n",
    "display(target_cred_df) # выводим на экран"
   ]
  },
  {
   "cell_type": "markdown",
   "metadata": {},
   "source": [
    "**Вывод**"
   ]
  },
  {
   "cell_type": "markdown",
   "metadata": {},
   "source": [
    "Самый высокий процент не возврата кредита в срок у клиентов, чья цель - `\"автомобиль\"` и `\"образование\"`, для клиентов которые берут кредит для `\"недвижимости\"` и `\"свадьбы\"` процент не возврата меньше на **`1,2%`** - **`2,2%`** по сравнению с предыдущими."
   ]
  },
  {
   "cell_type": "markdown",
   "metadata": {},
   "source": [
    "## Шаг 4. Общий вывод"
   ]
  },
  {
   "cell_type": "markdown",
   "metadata": {},
   "source": [
    "**Из проведенного исследования стало ясно, что:**\n",
    "\n",
    "- если у клиента `есть дети`, то процент невозврата кредита в срок выше на **`0.7 - 1,1%`** по отношению к бездетным клиентам;\n",
    "- если клиент `состоит в браке`, то процент невозврата кредита в срок меньше на **`1.4%`** по отношению к \"одиноким\" клиентам;\n",
    "- у клиентов с `\"высокой ЗП\"` процент невозврата кредита в срок меньше по сравнению с остальными, а у клиентов со `\"средней ЗП\"` процент невозврата кредита в срок выше чем у остальных (на **`0,7%`** больше по отношению к клиентам с `\"низкой ЗП\"` и на **`1,6%`** больше по отношению к клиентам с `\"высокой ЗП\"`);\n",
    "- так же стало ясно, что самый высокий процент не возврата кредита в срок у клиентов, чья цель - `\"автомобиль\"` и `\"образование\"`, а для клиентов которые берут кредит для `\"недвижимости\"` и `\"свадьбы\"` процент не возврата меньше на **`1,2% - 2,2%`** по сравнению с предыдущими."
   ]
  }
 ],
 "metadata": {
  "ExecuteTimeLog": [
   {
    "duration": 826,
    "start_time": "2021-11-27T07:46:42.679Z"
   },
   {
    "duration": 98,
    "start_time": "2021-11-27T07:46:52.799Z"
   },
   {
    "duration": 106,
    "start_time": "2021-11-27T07:48:01.379Z"
   },
   {
    "duration": 87,
    "start_time": "2021-11-27T07:58:50.602Z"
   },
   {
    "duration": 84,
    "start_time": "2021-11-27T08:06:13.694Z"
   },
   {
    "duration": 97,
    "start_time": "2021-11-27T08:08:47.934Z"
   },
   {
    "duration": 99,
    "start_time": "2021-11-27T08:09:59.990Z"
   },
   {
    "duration": 3,
    "start_time": "2021-11-27T08:10:32.750Z"
   },
   {
    "duration": 132,
    "start_time": "2021-11-27T08:15:34.577Z"
   },
   {
    "duration": 63,
    "start_time": "2021-11-27T08:15:59.865Z"
   },
   {
    "duration": 31,
    "start_time": "2021-11-27T08:16:14.325Z"
   },
   {
    "duration": 31,
    "start_time": "2021-11-27T08:16:39.293Z"
   },
   {
    "duration": 15,
    "start_time": "2021-11-27T08:17:06.633Z"
   },
   {
    "duration": 14,
    "start_time": "2021-11-27T08:17:15.078Z"
   },
   {
    "duration": 33,
    "start_time": "2021-11-27T08:17:43.272Z"
   },
   {
    "duration": 15,
    "start_time": "2021-11-27T08:18:39.365Z"
   },
   {
    "duration": 16,
    "start_time": "2021-11-27T08:19:06.125Z"
   },
   {
    "duration": 12,
    "start_time": "2021-11-27T10:13:03.269Z"
   },
   {
    "duration": 6,
    "start_time": "2021-11-27T10:18:52.336Z"
   },
   {
    "duration": 17,
    "start_time": "2021-11-27T10:28:52.712Z"
   },
   {
    "duration": 19,
    "start_time": "2021-11-27T10:29:14.287Z"
   },
   {
    "duration": 13,
    "start_time": "2021-11-27T10:30:12.400Z"
   },
   {
    "duration": 27,
    "start_time": "2021-11-27T10:51:29.826Z"
   },
   {
    "duration": 10,
    "start_time": "2021-11-27T10:51:45.265Z"
   },
   {
    "duration": 9,
    "start_time": "2021-11-27T10:51:56.413Z"
   },
   {
    "duration": 7,
    "start_time": "2021-11-27T10:52:16.761Z"
   },
   {
    "duration": 6,
    "start_time": "2021-11-27T10:53:52.662Z"
   },
   {
    "duration": 370,
    "start_time": "2021-11-27T11:11:27.692Z"
   },
   {
    "duration": 9,
    "start_time": "2021-11-27T11:11:38.952Z"
   },
   {
    "duration": 8,
    "start_time": "2021-11-27T11:11:52.360Z"
   },
   {
    "duration": 302,
    "start_time": "2021-11-27T11:18:38.668Z"
   },
   {
    "duration": 311,
    "start_time": "2021-11-27T11:19:05.892Z"
   },
   {
    "duration": 315,
    "start_time": "2021-11-27T11:19:17.036Z"
   },
   {
    "duration": 450,
    "start_time": "2021-11-27T11:19:41.120Z"
   },
   {
    "duration": 282,
    "start_time": "2021-11-27T11:20:07.015Z"
   },
   {
    "duration": 5,
    "start_time": "2021-11-27T11:20:16.911Z"
   },
   {
    "duration": 301,
    "start_time": "2021-11-27T11:28:32.091Z"
   },
   {
    "duration": 368,
    "start_time": "2021-11-27T11:28:44.706Z"
   },
   {
    "duration": 293,
    "start_time": "2021-11-27T11:28:55.959Z"
   },
   {
    "duration": 285,
    "start_time": "2021-11-27T11:29:02.439Z"
   },
   {
    "duration": 95,
    "start_time": "2021-11-27T11:29:15.178Z"
   },
   {
    "duration": 5,
    "start_time": "2021-11-27T11:29:20.247Z"
   },
   {
    "duration": 5,
    "start_time": "2021-11-27T11:31:39.627Z"
   },
   {
    "duration": 7,
    "start_time": "2021-11-27T11:31:52.783Z"
   },
   {
    "duration": 19,
    "start_time": "2021-11-27T11:31:56.547Z"
   },
   {
    "duration": 326,
    "start_time": "2021-11-27T11:33:44.923Z"
   },
   {
    "duration": 6,
    "start_time": "2021-11-27T11:34:00.311Z"
   },
   {
    "duration": 6,
    "start_time": "2021-11-27T11:34:48.651Z"
   },
   {
    "duration": 12,
    "start_time": "2021-11-27T11:37:24.615Z"
   },
   {
    "duration": 93,
    "start_time": "2021-11-27T11:38:43.361Z"
   },
   {
    "duration": 7,
    "start_time": "2021-11-27T11:39:15.715Z"
   },
   {
    "duration": 2495,
    "start_time": "2021-11-27T12:03:39.173Z"
   },
   {
    "duration": 6,
    "start_time": "2021-11-27T12:05:59.793Z"
   },
   {
    "duration": 4,
    "start_time": "2021-11-27T12:06:47.213Z"
   },
   {
    "duration": 4,
    "start_time": "2021-11-27T12:07:29.680Z"
   },
   {
    "duration": 97,
    "start_time": "2021-11-27T12:08:06.484Z"
   },
   {
    "duration": 7,
    "start_time": "2021-11-27T12:08:24.997Z"
   },
   {
    "duration": 18,
    "start_time": "2021-11-27T12:08:46.753Z"
   },
   {
    "duration": 13,
    "start_time": "2021-11-27T12:09:18.364Z"
   },
   {
    "duration": 13,
    "start_time": "2021-11-27T12:09:20.868Z"
   },
   {
    "duration": 4,
    "start_time": "2021-11-27T12:09:33.272Z"
   },
   {
    "duration": 65,
    "start_time": "2021-11-27T12:09:35.137Z"
   },
   {
    "duration": 33,
    "start_time": "2021-11-27T12:09:36.373Z"
   },
   {
    "duration": 15,
    "start_time": "2021-11-27T12:09:40.256Z"
   },
   {
    "duration": 13,
    "start_time": "2021-11-27T12:09:44.685Z"
   },
   {
    "duration": 4,
    "start_time": "2021-11-27T12:09:47.933Z"
   },
   {
    "duration": 4,
    "start_time": "2021-11-27T12:09:50.485Z"
   },
   {
    "duration": 4,
    "start_time": "2021-11-27T12:09:53.280Z"
   },
   {
    "duration": 6,
    "start_time": "2021-11-27T12:09:55.349Z"
   },
   {
    "duration": 17,
    "start_time": "2021-11-27T12:09:58.052Z"
   },
   {
    "duration": 93,
    "start_time": "2021-11-27T12:59:25.049Z"
   },
   {
    "duration": 4,
    "start_time": "2021-11-27T13:02:13.494Z"
   },
   {
    "duration": 4,
    "start_time": "2021-11-27T13:11:28.535Z"
   },
   {
    "duration": 7,
    "start_time": "2021-11-27T13:12:17.879Z"
   },
   {
    "duration": 12,
    "start_time": "2021-11-27T13:13:22.392Z"
   },
   {
    "duration": 302,
    "start_time": "2021-11-27T13:13:41.160Z"
   },
   {
    "duration": 368,
    "start_time": "2021-11-27T13:13:56.847Z"
   },
   {
    "duration": 14,
    "start_time": "2021-11-27T13:14:08.720Z"
   },
   {
    "duration": 100,
    "start_time": "2021-11-27T13:16:00.592Z"
   },
   {
    "duration": 5,
    "start_time": "2021-11-27T13:16:08.867Z"
   },
   {
    "duration": 6,
    "start_time": "2021-11-27T13:16:13.235Z"
   },
   {
    "duration": 21,
    "start_time": "2021-11-27T13:16:14.727Z"
   },
   {
    "duration": 32,
    "start_time": "2021-11-27T13:42:52.393Z"
   },
   {
    "duration": 29,
    "start_time": "2021-11-27T13:45:31.240Z"
   },
   {
    "duration": 21,
    "start_time": "2021-11-27T13:48:57.720Z"
   },
   {
    "duration": 29,
    "start_time": "2021-11-27T13:49:50.953Z"
   },
   {
    "duration": 289,
    "start_time": "2021-11-27T13:52:22.943Z"
   },
   {
    "duration": 4,
    "start_time": "2021-11-27T13:52:28.748Z"
   },
   {
    "duration": 5,
    "start_time": "2021-11-27T13:53:00.224Z"
   },
   {
    "duration": 41,
    "start_time": "2021-11-27T13:53:10.660Z"
   },
   {
    "duration": 33,
    "start_time": "2021-11-27T13:53:41.376Z"
   },
   {
    "duration": 50,
    "start_time": "2021-11-27T13:53:53.052Z"
   },
   {
    "duration": 32,
    "start_time": "2021-11-27T13:55:13.836Z"
   },
   {
    "duration": 6,
    "start_time": "2021-11-27T13:55:55.047Z"
   },
   {
    "duration": 301,
    "start_time": "2021-11-27T13:56:33.311Z"
   },
   {
    "duration": 4,
    "start_time": "2021-11-27T13:56:45.991Z"
   },
   {
    "duration": 7,
    "start_time": "2021-11-27T13:57:14.940Z"
   },
   {
    "duration": 8,
    "start_time": "2021-11-27T13:57:32.576Z"
   },
   {
    "duration": 7,
    "start_time": "2021-11-27T13:57:38.863Z"
   },
   {
    "duration": 8,
    "start_time": "2021-11-27T13:57:45.259Z"
   },
   {
    "duration": 7,
    "start_time": "2021-11-27T13:58:09.727Z"
   },
   {
    "duration": 19,
    "start_time": "2021-11-27T13:58:20.203Z"
   },
   {
    "duration": 10,
    "start_time": "2021-11-27T13:58:27.419Z"
   },
   {
    "duration": 6,
    "start_time": "2021-11-27T13:59:24.044Z"
   },
   {
    "duration": 6,
    "start_time": "2021-11-27T13:59:39.887Z"
   },
   {
    "duration": 6,
    "start_time": "2021-11-27T13:59:50.963Z"
   },
   {
    "duration": 7,
    "start_time": "2021-11-27T13:59:59.979Z"
   },
   {
    "duration": 304,
    "start_time": "2021-11-27T14:00:05.627Z"
   },
   {
    "duration": 5,
    "start_time": "2021-11-27T14:00:13.540Z"
   },
   {
    "duration": 6,
    "start_time": "2021-11-27T14:00:23.796Z"
   },
   {
    "duration": 5,
    "start_time": "2021-11-27T14:00:34.092Z"
   },
   {
    "duration": 5,
    "start_time": "2021-11-27T14:00:54.671Z"
   },
   {
    "duration": 5,
    "start_time": "2021-11-27T14:01:00.107Z"
   },
   {
    "duration": 5,
    "start_time": "2021-11-27T14:01:06.167Z"
   },
   {
    "duration": 5,
    "start_time": "2021-11-27T14:01:10.811Z"
   },
   {
    "duration": 5,
    "start_time": "2021-11-27T14:01:19.399Z"
   },
   {
    "duration": 5,
    "start_time": "2021-11-27T14:01:26.108Z"
   },
   {
    "duration": 5,
    "start_time": "2021-11-27T14:01:30.960Z"
   },
   {
    "duration": 5,
    "start_time": "2021-11-27T14:01:42.087Z"
   },
   {
    "duration": 5,
    "start_time": "2021-11-27T14:01:46.975Z"
   },
   {
    "duration": 5,
    "start_time": "2021-11-27T14:01:56.987Z"
   },
   {
    "duration": 5,
    "start_time": "2021-11-27T14:02:04.083Z"
   },
   {
    "duration": 5,
    "start_time": "2021-11-27T14:02:11.507Z"
   },
   {
    "duration": 75,
    "start_time": "2021-11-27T14:02:27.748Z"
   },
   {
    "duration": 6,
    "start_time": "2021-11-27T14:02:32.523Z"
   },
   {
    "duration": 5,
    "start_time": "2021-11-27T14:02:49.524Z"
   },
   {
    "duration": 5,
    "start_time": "2021-11-27T14:03:06.603Z"
   },
   {
    "duration": 6,
    "start_time": "2021-11-27T14:03:13.955Z"
   },
   {
    "duration": 321,
    "start_time": "2021-11-27T14:03:36.791Z"
   },
   {
    "duration": 49,
    "start_time": "2021-11-27T14:03:45.899Z"
   },
   {
    "duration": 1093,
    "start_time": "2021-11-27T14:06:44.559Z"
   },
   {
    "duration": 22,
    "start_time": "2021-11-27T14:08:25.467Z"
   },
   {
    "duration": 23,
    "start_time": "2021-11-27T14:09:21.467Z"
   },
   {
    "duration": 38,
    "start_time": "2021-11-27T14:10:20.011Z"
   },
   {
    "duration": 36,
    "start_time": "2021-11-27T14:10:40.743Z"
   },
   {
    "duration": 57,
    "start_time": "2021-11-27T14:10:53.403Z"
   },
   {
    "duration": 36,
    "start_time": "2021-11-27T14:11:04.183Z"
   },
   {
    "duration": 29,
    "start_time": "2021-11-27T14:11:20.750Z"
   },
   {
    "duration": 3,
    "start_time": "2021-11-27T14:11:30.352Z"
   },
   {
    "duration": 65,
    "start_time": "2021-11-27T14:11:31.467Z"
   },
   {
    "duration": 33,
    "start_time": "2021-11-27T14:11:33.379Z"
   },
   {
    "duration": 17,
    "start_time": "2021-11-27T14:11:36.907Z"
   },
   {
    "duration": 18,
    "start_time": "2021-11-27T14:12:05.183Z"
   },
   {
    "duration": 16,
    "start_time": "2021-11-27T14:12:20.712Z"
   },
   {
    "duration": 4,
    "start_time": "2021-11-27T14:12:34.951Z"
   },
   {
    "duration": 3,
    "start_time": "2021-11-27T14:12:36.511Z"
   },
   {
    "duration": 8,
    "start_time": "2021-11-27T14:12:38.283Z"
   },
   {
    "duration": 7,
    "start_time": "2021-11-27T14:13:15.971Z"
   },
   {
    "duration": 4,
    "start_time": "2021-11-27T14:15:17.954Z"
   },
   {
    "duration": 8,
    "start_time": "2021-11-27T14:15:31.848Z"
   },
   {
    "duration": 13,
    "start_time": "2021-11-27T14:15:33.323Z"
   },
   {
    "duration": 4,
    "start_time": "2021-11-27T14:15:37.398Z"
   },
   {
    "duration": 7,
    "start_time": "2021-11-27T14:15:40.247Z"
   },
   {
    "duration": 16,
    "start_time": "2021-11-27T14:15:42.386Z"
   },
   {
    "duration": 37,
    "start_time": "2021-11-27T14:15:52.062Z"
   },
   {
    "duration": 34,
    "start_time": "2021-11-27T14:15:54.610Z"
   },
   {
    "duration": 35,
    "start_time": "2021-11-27T14:15:57.630Z"
   },
   {
    "duration": 55,
    "start_time": "2021-11-27T14:16:00.288Z"
   },
   {
    "duration": 54,
    "start_time": "2021-11-27T14:52:00.026Z"
   },
   {
    "duration": 4,
    "start_time": "2021-11-27T14:52:12.853Z"
   },
   {
    "duration": 61,
    "start_time": "2021-11-27T14:52:14.253Z"
   },
   {
    "duration": 31,
    "start_time": "2021-11-27T14:52:15.581Z"
   },
   {
    "duration": 14,
    "start_time": "2021-11-27T14:52:17.865Z"
   },
   {
    "duration": 13,
    "start_time": "2021-11-27T14:52:21.002Z"
   },
   {
    "duration": 6,
    "start_time": "2021-11-27T14:52:25.457Z"
   },
   {
    "duration": 4,
    "start_time": "2021-11-27T14:52:27.107Z"
   },
   {
    "duration": 8,
    "start_time": "2021-11-27T14:52:28.169Z"
   },
   {
    "duration": 18,
    "start_time": "2021-11-27T14:52:30.393Z"
   },
   {
    "duration": 3,
    "start_time": "2021-11-27T14:52:33.985Z"
   },
   {
    "duration": 6,
    "start_time": "2021-11-27T14:52:35.717Z"
   },
   {
    "duration": 16,
    "start_time": "2021-11-27T14:52:37.128Z"
   },
   {
    "duration": 62,
    "start_time": "2021-11-27T14:52:40.097Z"
   },
   {
    "duration": 33,
    "start_time": "2021-11-27T14:52:41.797Z"
   },
   {
    "duration": 22,
    "start_time": "2021-11-27T14:52:43.861Z"
   },
   {
    "duration": 37,
    "start_time": "2021-11-27T14:52:45.469Z"
   },
   {
    "duration": 10,
    "start_time": "2021-11-27T15:08:16.312Z"
   },
   {
    "duration": 4,
    "start_time": "2021-11-27T15:09:28.979Z"
   },
   {
    "duration": 6,
    "start_time": "2021-11-27T15:10:12.063Z"
   },
   {
    "duration": 342,
    "start_time": "2021-11-27T15:11:08.395Z"
   },
   {
    "duration": 7,
    "start_time": "2021-11-27T15:11:33.439Z"
   },
   {
    "duration": 298,
    "start_time": "2021-11-27T15:14:57.927Z"
   },
   {
    "duration": 28,
    "start_time": "2021-11-27T15:16:34.515Z"
   },
   {
    "duration": 295,
    "start_time": "2021-11-27T15:17:14.060Z"
   },
   {
    "duration": 332,
    "start_time": "2021-11-27T15:17:35.771Z"
   },
   {
    "duration": 3258,
    "start_time": "2021-11-27T15:18:06.271Z"
   },
   {
    "duration": 2334,
    "start_time": "2021-11-27T15:19:10.143Z"
   },
   {
    "duration": 2439,
    "start_time": "2021-11-27T15:19:17.639Z"
   },
   {
    "duration": 2727,
    "start_time": "2021-11-27T15:19:38.383Z"
   },
   {
    "duration": 2402,
    "start_time": "2021-11-27T15:19:54.415Z"
   },
   {
    "duration": 25,
    "start_time": "2021-11-27T15:25:38.982Z"
   },
   {
    "duration": 2382,
    "start_time": "2021-11-27T15:29:56.414Z"
   },
   {
    "duration": 23,
    "start_time": "2021-11-27T15:31:16.437Z"
   },
   {
    "duration": 6,
    "start_time": "2021-11-27T16:42:23.168Z"
   },
   {
    "duration": 1428,
    "start_time": "2021-11-27T16:43:16.839Z"
   },
   {
    "duration": 5,
    "start_time": "2021-11-27T16:43:35.811Z"
   },
   {
    "duration": 16,
    "start_time": "2021-11-27T16:43:38.375Z"
   },
   {
    "duration": 12,
    "start_time": "2021-11-27T16:43:54.919Z"
   },
   {
    "duration": 7,
    "start_time": "2021-11-27T16:45:03.035Z"
   },
   {
    "duration": 6,
    "start_time": "2021-11-27T16:45:57.991Z"
   },
   {
    "duration": 651,
    "start_time": "2021-11-27T16:46:09.319Z"
   },
   {
    "duration": 361,
    "start_time": "2021-11-27T16:46:27.415Z"
   },
   {
    "duration": 313,
    "start_time": "2021-11-27T16:46:34.832Z"
   },
   {
    "duration": 11,
    "start_time": "2021-11-27T16:46:42.908Z"
   },
   {
    "duration": 9,
    "start_time": "2021-11-27T16:48:03.903Z"
   },
   {
    "duration": 8,
    "start_time": "2021-11-27T16:48:20.815Z"
   },
   {
    "duration": 7,
    "start_time": "2021-11-27T16:48:30.387Z"
   },
   {
    "duration": 5,
    "start_time": "2021-11-27T16:49:18.559Z"
   },
   {
    "duration": 14,
    "start_time": "2021-11-27T16:49:21.575Z"
   },
   {
    "duration": 8,
    "start_time": "2021-11-27T16:49:23.911Z"
   },
   {
    "duration": 10,
    "start_time": "2021-11-27T16:50:03.807Z"
   },
   {
    "duration": 5,
    "start_time": "2021-11-27T16:50:15.835Z"
   },
   {
    "duration": 13,
    "start_time": "2021-11-27T16:50:19.623Z"
   },
   {
    "duration": 12,
    "start_time": "2021-11-27T16:50:34.479Z"
   },
   {
    "duration": 2388,
    "start_time": "2021-11-27T16:55:46.770Z"
   },
   {
    "duration": 2582,
    "start_time": "2021-11-27T16:56:25.347Z"
   },
   {
    "duration": 3298,
    "start_time": "2021-11-27T16:56:52.050Z"
   },
   {
    "duration": 13,
    "start_time": "2021-11-27T16:57:18.458Z"
   },
   {
    "duration": 6,
    "start_time": "2021-11-27T16:58:14.670Z"
   },
   {
    "duration": 2853,
    "start_time": "2021-11-27T16:58:48.166Z"
   },
   {
    "duration": 14,
    "start_time": "2021-11-27T16:58:53.374Z"
   },
   {
    "duration": 7,
    "start_time": "2021-11-27T16:58:56.526Z"
   },
   {
    "duration": 11,
    "start_time": "2021-11-27T16:59:08.051Z"
   },
   {
    "duration": 550,
    "start_time": "2021-11-27T16:59:19.871Z"
   },
   {
    "duration": 9,
    "start_time": "2021-11-27T16:59:31.822Z"
   },
   {
    "duration": 5,
    "start_time": "2021-11-27T17:02:12.810Z"
   },
   {
    "duration": 6,
    "start_time": "2021-11-27T17:02:20.526Z"
   },
   {
    "duration": 7,
    "start_time": "2021-11-27T17:02:37.682Z"
   },
   {
    "duration": 8,
    "start_time": "2021-11-27T17:03:02.306Z"
   },
   {
    "duration": 7,
    "start_time": "2021-11-27T17:03:09.346Z"
   },
   {
    "duration": 7,
    "start_time": "2021-11-27T17:05:43.490Z"
   },
   {
    "duration": 4,
    "start_time": "2021-11-27T17:06:00.390Z"
   },
   {
    "duration": 12,
    "start_time": "2021-11-27T17:06:02.662Z"
   },
   {
    "duration": 7,
    "start_time": "2021-11-27T17:06:04.962Z"
   },
   {
    "duration": 7,
    "start_time": "2021-11-27T17:06:07.599Z"
   },
   {
    "duration": 646,
    "start_time": "2021-11-27T17:06:30.150Z"
   },
   {
    "duration": 8,
    "start_time": "2021-11-27T17:06:37.961Z"
   },
   {
    "duration": 12,
    "start_time": "2021-11-27T17:06:47.182Z"
   },
   {
    "duration": 5,
    "start_time": "2021-11-27T17:07:42.194Z"
   },
   {
    "duration": 189,
    "start_time": "2021-11-27T17:08:54.921Z"
   },
   {
    "duration": 13,
    "start_time": "2021-11-27T17:10:16.158Z"
   },
   {
    "duration": 13,
    "start_time": "2021-11-27T17:10:27.905Z"
   },
   {
    "duration": 6,
    "start_time": "2021-11-27T17:11:58.345Z"
   },
   {
    "duration": 6,
    "start_time": "2021-11-27T17:12:24.877Z"
   },
   {
    "duration": 23,
    "start_time": "2021-11-27T17:14:31.853Z"
   },
   {
    "duration": 33,
    "start_time": "2021-11-27T17:16:20.761Z"
   },
   {
    "duration": 13,
    "start_time": "2021-11-27T17:16:38.276Z"
   },
   {
    "duration": 29,
    "start_time": "2021-11-27T17:19:09.029Z"
   },
   {
    "duration": 24,
    "start_time": "2021-11-27T17:19:48.720Z"
   },
   {
    "duration": 4,
    "start_time": "2021-11-27T17:43:01.200Z"
   },
   {
    "duration": 11,
    "start_time": "2021-11-27T17:44:02.199Z"
   },
   {
    "duration": 12,
    "start_time": "2021-11-27T17:44:24.767Z"
   },
   {
    "duration": 14,
    "start_time": "2021-11-27T17:47:45.655Z"
   },
   {
    "duration": 102,
    "start_time": "2021-11-27T17:48:06.207Z"
   },
   {
    "duration": 8,
    "start_time": "2021-11-27T17:48:13.051Z"
   },
   {
    "duration": 6,
    "start_time": "2021-11-27T17:48:54.687Z"
   },
   {
    "duration": 29,
    "start_time": "2021-11-27T17:55:26.374Z"
   },
   {
    "duration": 19,
    "start_time": "2021-11-27T17:55:48.263Z"
   },
   {
    "duration": 4,
    "start_time": "2021-11-27T17:57:25.327Z"
   },
   {
    "duration": 11,
    "start_time": "2021-11-27T17:57:37.599Z"
   },
   {
    "duration": 311,
    "start_time": "2021-11-27T17:59:05.158Z"
   },
   {
    "duration": 4,
    "start_time": "2021-11-27T17:59:11.902Z"
   },
   {
    "duration": 12,
    "start_time": "2021-11-27T17:59:13.986Z"
   },
   {
    "duration": 6,
    "start_time": "2021-11-27T17:59:32.858Z"
   },
   {
    "duration": 6,
    "start_time": "2021-11-27T18:14:50.902Z"
   },
   {
    "duration": 17,
    "start_time": "2021-11-27T18:15:24.361Z"
   },
   {
    "duration": 5,
    "start_time": "2021-11-27T18:15:42.881Z"
   },
   {
    "duration": 18,
    "start_time": "2021-11-27T18:20:59.817Z"
   },
   {
    "duration": 21,
    "start_time": "2021-11-27T18:23:16.000Z"
   },
   {
    "duration": 782,
    "start_time": "2021-11-28T04:58:21.154Z"
   },
   {
    "duration": 64,
    "start_time": "2021-11-28T04:58:23.246Z"
   },
   {
    "duration": 42,
    "start_time": "2021-11-28T04:58:24.570Z"
   },
   {
    "duration": 15,
    "start_time": "2021-11-28T04:58:27.006Z"
   },
   {
    "duration": 12,
    "start_time": "2021-11-28T04:58:30.418Z"
   },
   {
    "duration": 4,
    "start_time": "2021-11-28T04:58:33.278Z"
   },
   {
    "duration": 4,
    "start_time": "2021-11-28T04:58:35.714Z"
   },
   {
    "duration": 7,
    "start_time": "2021-11-28T04:58:37.394Z"
   },
   {
    "duration": 13,
    "start_time": "2021-11-28T04:58:38.843Z"
   },
   {
    "duration": 3,
    "start_time": "2021-11-28T04:58:41.618Z"
   },
   {
    "duration": 7,
    "start_time": "2021-11-28T04:58:43.350Z"
   },
   {
    "duration": 16,
    "start_time": "2021-11-28T04:58:45.046Z"
   },
   {
    "duration": 38,
    "start_time": "2021-11-28T04:58:47.342Z"
   },
   {
    "duration": 35,
    "start_time": "2021-11-28T04:58:49.814Z"
   },
   {
    "duration": 23,
    "start_time": "2021-11-28T04:58:52.050Z"
   },
   {
    "duration": 40,
    "start_time": "2021-11-28T04:58:53.922Z"
   },
   {
    "duration": 8,
    "start_time": "2021-11-28T04:58:57.058Z"
   },
   {
    "duration": 3519,
    "start_time": "2021-11-28T04:58:59.454Z"
   },
   {
    "duration": 23,
    "start_time": "2021-11-28T04:59:04.126Z"
   },
   {
    "duration": 5,
    "start_time": "2021-11-28T04:59:06.490Z"
   },
   {
    "duration": 14,
    "start_time": "2021-11-28T04:59:08.994Z"
   },
   {
    "duration": 6,
    "start_time": "2021-11-28T04:59:10.934Z"
   },
   {
    "duration": 4,
    "start_time": "2021-11-28T04:59:13.230Z"
   },
   {
    "duration": 11,
    "start_time": "2021-11-28T04:59:15.422Z"
   },
   {
    "duration": 6,
    "start_time": "2021-11-28T04:59:16.722Z"
   },
   {
    "duration": 5,
    "start_time": "2021-11-28T04:59:18.758Z"
   },
   {
    "duration": 11,
    "start_time": "2021-11-28T04:59:21.938Z"
   },
   {
    "duration": 6,
    "start_time": "2021-11-28T04:59:22.910Z"
   },
   {
    "duration": 5,
    "start_time": "2021-11-28T04:59:24.938Z"
   },
   {
    "duration": 12,
    "start_time": "2021-11-28T04:59:26.290Z"
   },
   {
    "duration": 6,
    "start_time": "2021-11-28T04:59:27.026Z"
   },
   {
    "duration": 23,
    "start_time": "2021-11-28T04:59:28.946Z"
   },
   {
    "duration": 22,
    "start_time": "2021-11-28T04:59:33.142Z"
   },
   {
    "duration": 8,
    "start_time": "2021-11-28T05:16:25.189Z"
   },
   {
    "duration": 85,
    "start_time": "2021-11-28T05:17:39.441Z"
   },
   {
    "duration": 88,
    "start_time": "2021-11-28T05:21:27.645Z"
   },
   {
    "duration": 6,
    "start_time": "2021-11-28T05:22:56.065Z"
   },
   {
    "duration": 5,
    "start_time": "2021-11-28T05:23:42.689Z"
   },
   {
    "duration": 5,
    "start_time": "2021-11-28T05:23:59.605Z"
   },
   {
    "duration": 7,
    "start_time": "2021-11-28T05:24:51.816Z"
   },
   {
    "duration": 6,
    "start_time": "2021-11-28T05:26:12.797Z"
   },
   {
    "duration": 11,
    "start_time": "2021-11-28T05:35:48.392Z"
   },
   {
    "duration": 10,
    "start_time": "2021-11-28T05:36:07.684Z"
   },
   {
    "duration": 9,
    "start_time": "2021-11-28T05:37:30.144Z"
   },
   {
    "duration": 9,
    "start_time": "2021-11-28T05:38:55.240Z"
   },
   {
    "duration": 10,
    "start_time": "2021-11-28T05:44:54.999Z"
   },
   {
    "duration": 373,
    "start_time": "2021-11-28T06:24:37.831Z"
   },
   {
    "duration": 12,
    "start_time": "2021-11-28T06:24:50.900Z"
   },
   {
    "duration": 13,
    "start_time": "2021-11-28T06:25:51.168Z"
   },
   {
    "duration": 300,
    "start_time": "2021-11-28T06:29:32.988Z"
   },
   {
    "duration": 14,
    "start_time": "2021-11-28T06:30:10.492Z"
   },
   {
    "duration": 13,
    "start_time": "2021-11-28T06:31:26.596Z"
   },
   {
    "duration": 12,
    "start_time": "2021-11-28T06:31:43.980Z"
   },
   {
    "duration": 12,
    "start_time": "2021-11-28T06:32:05.992Z"
   },
   {
    "duration": 12,
    "start_time": "2021-11-28T06:32:30.336Z"
   },
   {
    "duration": 14,
    "start_time": "2021-11-28T06:32:37.904Z"
   },
   {
    "duration": 9,
    "start_time": "2021-11-28T06:38:31.548Z"
   },
   {
    "duration": 13,
    "start_time": "2021-11-28T06:38:44.556Z"
   },
   {
    "duration": 11,
    "start_time": "2021-11-28T06:38:57.124Z"
   },
   {
    "duration": 12,
    "start_time": "2021-11-28T06:39:25.304Z"
   },
   {
    "duration": 14,
    "start_time": "2021-11-28T06:48:33.395Z"
   },
   {
    "duration": 10,
    "start_time": "2021-11-28T06:48:54.927Z"
   },
   {
    "duration": 5,
    "start_time": "2021-11-28T06:51:38.033Z"
   },
   {
    "duration": 100,
    "start_time": "2021-11-28T06:53:08.957Z"
   },
   {
    "duration": 82,
    "start_time": "2021-11-28T06:53:13.518Z"
   },
   {
    "duration": 5,
    "start_time": "2021-11-28T06:53:23.042Z"
   },
   {
    "duration": 6,
    "start_time": "2021-11-28T06:55:52.445Z"
   },
   {
    "duration": 6,
    "start_time": "2021-11-28T06:57:43.601Z"
   },
   {
    "duration": 5,
    "start_time": "2021-11-28T06:59:36.330Z"
   },
   {
    "duration": 5,
    "start_time": "2021-11-28T06:59:42.145Z"
   },
   {
    "duration": 5,
    "start_time": "2021-11-28T07:00:32.441Z"
   },
   {
    "duration": 5,
    "start_time": "2021-11-28T07:02:18.709Z"
   },
   {
    "duration": 5,
    "start_time": "2021-11-28T07:14:49.529Z"
   },
   {
    "duration": 267,
    "start_time": "2021-11-28T07:29:49.019Z"
   },
   {
    "duration": 267,
    "start_time": "2021-11-28T07:30:21.035Z"
   },
   {
    "duration": 23,
    "start_time": "2021-11-28T07:31:51.954Z"
   },
   {
    "duration": 32,
    "start_time": "2021-11-28T07:32:11.363Z"
   },
   {
    "duration": 20,
    "start_time": "2021-11-28T07:34:23.223Z"
   },
   {
    "duration": 26,
    "start_time": "2021-11-28T07:35:27.563Z"
   },
   {
    "duration": 303,
    "start_time": "2021-11-28T07:36:02.543Z"
   },
   {
    "duration": 29,
    "start_time": "2021-11-28T07:36:46.314Z"
   },
   {
    "duration": 21,
    "start_time": "2021-11-28T07:38:28.626Z"
   },
   {
    "duration": 20,
    "start_time": "2021-11-28T07:40:35.186Z"
   },
   {
    "duration": 21,
    "start_time": "2021-11-28T07:40:52.195Z"
   },
   {
    "duration": 21,
    "start_time": "2021-11-28T07:41:08.594Z"
   },
   {
    "duration": 20,
    "start_time": "2021-11-28T07:45:33.862Z"
   },
   {
    "duration": 22,
    "start_time": "2021-11-28T08:10:08.376Z"
   },
   {
    "duration": 23,
    "start_time": "2021-11-28T08:10:15.099Z"
   },
   {
    "duration": 22,
    "start_time": "2021-11-28T08:44:30.709Z"
   },
   {
    "duration": 21,
    "start_time": "2021-11-28T08:45:17.374Z"
   },
   {
    "duration": 20,
    "start_time": "2021-11-28T08:45:52.410Z"
   },
   {
    "duration": 322,
    "start_time": "2021-11-28T08:53:00.341Z"
   },
   {
    "duration": 287,
    "start_time": "2021-11-28T08:53:09.173Z"
   },
   {
    "duration": 79,
    "start_time": "2021-11-28T08:53:13.949Z"
   },
   {
    "duration": 20,
    "start_time": "2021-11-28T08:53:17.446Z"
   },
   {
    "duration": 26,
    "start_time": "2021-11-28T09:10:04.828Z"
   },
   {
    "duration": 287,
    "start_time": "2021-11-28T09:16:33.364Z"
   },
   {
    "duration": 5,
    "start_time": "2021-11-28T09:25:20.584Z"
   },
   {
    "duration": 11,
    "start_time": "2021-11-28T09:25:26.747Z"
   },
   {
    "duration": 3,
    "start_time": "2021-11-28T09:25:33.035Z"
   },
   {
    "duration": 66,
    "start_time": "2021-11-28T09:25:34.395Z"
   },
   {
    "duration": 33,
    "start_time": "2021-11-28T09:25:36.343Z"
   },
   {
    "duration": 15,
    "start_time": "2021-11-28T09:25:39.867Z"
   },
   {
    "duration": 14,
    "start_time": "2021-11-28T09:25:45.547Z"
   },
   {
    "duration": 4,
    "start_time": "2021-11-28T09:25:48.103Z"
   },
   {
    "duration": 4,
    "start_time": "2021-11-28T09:25:50.191Z"
   },
   {
    "duration": 6,
    "start_time": "2021-11-28T09:25:51.975Z"
   },
   {
    "duration": 13,
    "start_time": "2021-11-28T09:25:53.326Z"
   },
   {
    "duration": 3,
    "start_time": "2021-11-28T09:25:57.451Z"
   },
   {
    "duration": 6,
    "start_time": "2021-11-28T09:25:58.831Z"
   },
   {
    "duration": 15,
    "start_time": "2021-11-28T09:26:01.279Z"
   },
   {
    "duration": 39,
    "start_time": "2021-11-28T09:26:04.191Z"
   },
   {
    "duration": 34,
    "start_time": "2021-11-28T09:26:06.144Z"
   },
   {
    "duration": 24,
    "start_time": "2021-11-28T09:26:11.266Z"
   },
   {
    "duration": 38,
    "start_time": "2021-11-28T09:26:12.531Z"
   },
   {
    "duration": 54,
    "start_time": "2021-11-28T09:26:22.923Z"
   },
   {
    "duration": 3399,
    "start_time": "2021-11-28T09:26:25.556Z"
   },
   {
    "duration": 22,
    "start_time": "2021-11-28T09:26:30.539Z"
   },
   {
    "duration": 5,
    "start_time": "2021-11-28T09:26:34.227Z"
   },
   {
    "duration": 14,
    "start_time": "2021-11-28T09:26:36.284Z"
   },
   {
    "duration": 6,
    "start_time": "2021-11-28T09:26:37.991Z"
   },
   {
    "duration": 4,
    "start_time": "2021-11-28T09:26:43.175Z"
   },
   {
    "duration": 12,
    "start_time": "2021-11-28T09:26:45.058Z"
   },
   {
    "duration": 6,
    "start_time": "2021-11-28T09:26:47.119Z"
   },
   {
    "duration": 4,
    "start_time": "2021-11-28T09:26:53.635Z"
   },
   {
    "duration": 12,
    "start_time": "2021-11-28T09:26:54.927Z"
   },
   {
    "duration": 7,
    "start_time": "2021-11-28T09:26:57.083Z"
   },
   {
    "duration": 5,
    "start_time": "2021-11-28T09:26:59.051Z"
   },
   {
    "duration": 12,
    "start_time": "2021-11-28T09:27:00.875Z"
   },
   {
    "duration": 5,
    "start_time": "2021-11-28T09:27:01.940Z"
   },
   {
    "duration": 21,
    "start_time": "2021-11-28T09:27:04.423Z"
   },
   {
    "duration": 21,
    "start_time": "2021-11-28T09:27:07.815Z"
   },
   {
    "duration": 11,
    "start_time": "2021-11-28T09:27:22.547Z"
   },
   {
    "duration": 13,
    "start_time": "2021-11-28T09:29:07.651Z"
   },
   {
    "duration": 16,
    "start_time": "2021-11-28T09:32:02.543Z"
   },
   {
    "duration": 11,
    "start_time": "2021-11-28T09:32:12.238Z"
   },
   {
    "duration": 15,
    "start_time": "2021-11-28T09:32:40.432Z"
   },
   {
    "duration": 10,
    "start_time": "2021-11-28T09:39:02.111Z"
   },
   {
    "duration": 10,
    "start_time": "2021-11-28T09:39:20.590Z"
   },
   {
    "duration": 9,
    "start_time": "2021-11-28T09:46:30.209Z"
   },
   {
    "duration": 4,
    "start_time": "2021-11-28T09:48:00.070Z"
   },
   {
    "duration": 18,
    "start_time": "2021-11-28T09:48:13.593Z"
   },
   {
    "duration": 22,
    "start_time": "2021-11-28T09:48:17.374Z"
   },
   {
    "duration": 10,
    "start_time": "2021-11-28T09:49:27.905Z"
   },
   {
    "duration": 9,
    "start_time": "2021-11-28T09:49:55.541Z"
   },
   {
    "duration": 4,
    "start_time": "2021-11-28T09:50:06.093Z"
   },
   {
    "duration": 66,
    "start_time": "2021-11-28T09:50:07.577Z"
   },
   {
    "duration": 34,
    "start_time": "2021-11-28T09:50:08.985Z"
   },
   {
    "duration": 15,
    "start_time": "2021-11-28T09:50:11.228Z"
   },
   {
    "duration": 14,
    "start_time": "2021-11-28T09:50:15.377Z"
   },
   {
    "duration": 5,
    "start_time": "2021-11-28T09:50:17.630Z"
   },
   {
    "duration": 3,
    "start_time": "2021-11-28T09:50:19.117Z"
   },
   {
    "duration": 6,
    "start_time": "2021-11-28T09:50:20.269Z"
   },
   {
    "duration": 15,
    "start_time": "2021-11-28T09:50:21.792Z"
   },
   {
    "duration": 3,
    "start_time": "2021-11-28T09:50:24.296Z"
   },
   {
    "duration": 7,
    "start_time": "2021-11-28T09:50:25.635Z"
   },
   {
    "duration": 17,
    "start_time": "2021-11-28T09:50:26.781Z"
   },
   {
    "duration": 42,
    "start_time": "2021-11-28T09:50:30.349Z"
   },
   {
    "duration": 35,
    "start_time": "2021-11-28T09:50:32.616Z"
   },
   {
    "duration": 29,
    "start_time": "2021-11-28T09:50:37.258Z"
   },
   {
    "duration": 43,
    "start_time": "2021-11-28T09:50:38.889Z"
   },
   {
    "duration": 58,
    "start_time": "2021-11-28T09:50:43.333Z"
   },
   {
    "duration": 3667,
    "start_time": "2021-11-28T09:50:44.609Z"
   },
   {
    "duration": 26,
    "start_time": "2021-11-28T09:50:49.977Z"
   },
   {
    "duration": 5,
    "start_time": "2021-11-28T09:50:52.629Z"
   },
   {
    "duration": 20,
    "start_time": "2021-11-28T09:50:54.629Z"
   },
   {
    "duration": 7,
    "start_time": "2021-11-28T09:50:55.713Z"
   },
   {
    "duration": 4,
    "start_time": "2021-11-28T09:50:58.281Z"
   },
   {
    "duration": 11,
    "start_time": "2021-11-28T09:51:00.741Z"
   },
   {
    "duration": 6,
    "start_time": "2021-11-28T09:51:02.645Z"
   },
   {
    "duration": 4,
    "start_time": "2021-11-28T09:51:05.837Z"
   },
   {
    "duration": 11,
    "start_time": "2021-11-28T09:51:07.685Z"
   },
   {
    "duration": 5,
    "start_time": "2021-11-28T09:51:08.525Z"
   },
   {
    "duration": 5,
    "start_time": "2021-11-28T09:51:10.189Z"
   },
   {
    "duration": 17,
    "start_time": "2021-11-28T09:51:11.697Z"
   },
   {
    "duration": 7,
    "start_time": "2021-11-28T09:51:13.164Z"
   },
   {
    "duration": 26,
    "start_time": "2021-11-28T09:51:14.896Z"
   },
   {
    "duration": 20,
    "start_time": "2021-11-28T09:51:17.328Z"
   },
   {
    "duration": 11,
    "start_time": "2021-11-28T09:51:30.998Z"
   },
   {
    "duration": 14,
    "start_time": "2021-11-28T09:51:44.817Z"
   },
   {
    "duration": 16,
    "start_time": "2021-11-28T09:51:55.117Z"
   },
   {
    "duration": 10,
    "start_time": "2021-11-28T09:53:03.560Z"
   },
   {
    "duration": 5,
    "start_time": "2021-11-28T09:53:56.337Z"
   },
   {
    "duration": 8,
    "start_time": "2021-11-28T09:55:26.172Z"
   },
   {
    "duration": 3,
    "start_time": "2021-11-28T09:55:35.512Z"
   },
   {
    "duration": 63,
    "start_time": "2021-11-28T09:55:36.804Z"
   },
   {
    "duration": 34,
    "start_time": "2021-11-28T09:55:37.868Z"
   },
   {
    "duration": 18,
    "start_time": "2021-11-28T09:55:40.264Z"
   },
   {
    "duration": 14,
    "start_time": "2021-11-28T09:55:43.228Z"
   },
   {
    "duration": 4,
    "start_time": "2021-11-28T09:55:45.300Z"
   },
   {
    "duration": 4,
    "start_time": "2021-11-28T09:55:47.084Z"
   },
   {
    "duration": 6,
    "start_time": "2021-11-28T09:55:48.184Z"
   },
   {
    "duration": 13,
    "start_time": "2021-11-28T09:55:49.412Z"
   },
   {
    "duration": 4,
    "start_time": "2021-11-28T09:55:52.636Z"
   },
   {
    "duration": 6,
    "start_time": "2021-11-28T09:55:53.980Z"
   },
   {
    "duration": 16,
    "start_time": "2021-11-28T09:55:55.772Z"
   },
   {
    "duration": 36,
    "start_time": "2021-11-28T09:55:58.556Z"
   },
   {
    "duration": 35,
    "start_time": "2021-11-28T09:56:00.060Z"
   },
   {
    "duration": 26,
    "start_time": "2021-11-28T09:56:02.836Z"
   },
   {
    "duration": 43,
    "start_time": "2021-11-28T09:56:04.076Z"
   },
   {
    "duration": 55,
    "start_time": "2021-11-28T09:56:06.536Z"
   },
   {
    "duration": 3422,
    "start_time": "2021-11-28T09:56:07.428Z"
   },
   {
    "duration": 26,
    "start_time": "2021-11-28T09:56:11.896Z"
   },
   {
    "duration": 6,
    "start_time": "2021-11-28T09:56:14.916Z"
   },
   {
    "duration": 14,
    "start_time": "2021-11-28T09:56:18.220Z"
   },
   {
    "duration": 7,
    "start_time": "2021-11-28T09:56:19.380Z"
   },
   {
    "duration": 4,
    "start_time": "2021-11-28T09:56:25.415Z"
   },
   {
    "duration": 11,
    "start_time": "2021-11-28T09:56:26.464Z"
   },
   {
    "duration": 6,
    "start_time": "2021-11-28T09:56:29.076Z"
   },
   {
    "duration": 4,
    "start_time": "2021-11-28T09:56:34.733Z"
   },
   {
    "duration": 11,
    "start_time": "2021-11-28T09:56:36.572Z"
   },
   {
    "duration": 7,
    "start_time": "2021-11-28T09:56:37.564Z"
   },
   {
    "duration": 5,
    "start_time": "2021-11-28T09:56:39.108Z"
   },
   {
    "duration": 12,
    "start_time": "2021-11-28T09:56:40.252Z"
   },
   {
    "duration": 7,
    "start_time": "2021-11-28T09:56:40.784Z"
   },
   {
    "duration": 21,
    "start_time": "2021-11-28T09:56:46.244Z"
   },
   {
    "duration": 21,
    "start_time": "2021-11-28T09:56:48.956Z"
   },
   {
    "duration": 12,
    "start_time": "2021-11-28T09:56:55.652Z"
   },
   {
    "duration": 11,
    "start_time": "2021-11-28T09:56:57.112Z"
   },
   {
    "duration": 13,
    "start_time": "2021-11-28T09:57:26.168Z"
   },
   {
    "duration": 9,
    "start_time": "2021-11-28T09:57:56.516Z"
   },
   {
    "duration": 14,
    "start_time": "2021-11-28T09:58:07.995Z"
   },
   {
    "duration": 12,
    "start_time": "2021-11-28T09:58:19.900Z"
   },
   {
    "duration": 21,
    "start_time": "2021-11-28T10:02:38.440Z"
   },
   {
    "duration": 5,
    "start_time": "2021-11-28T10:04:28.061Z"
   },
   {
    "duration": 5,
    "start_time": "2021-11-28T10:08:23.684Z"
   },
   {
    "duration": 5,
    "start_time": "2021-11-28T10:08:41.799Z"
   },
   {
    "duration": 6,
    "start_time": "2021-11-28T10:09:46.999Z"
   },
   {
    "duration": 7,
    "start_time": "2021-11-28T10:09:58.863Z"
   },
   {
    "duration": 4,
    "start_time": "2021-11-28T10:10:10.016Z"
   },
   {
    "duration": 5,
    "start_time": "2021-11-28T10:13:32.443Z"
   },
   {
    "duration": 7,
    "start_time": "2021-11-28T10:13:43.179Z"
   },
   {
    "duration": 6,
    "start_time": "2021-11-28T10:13:50.907Z"
   },
   {
    "duration": 5,
    "start_time": "2021-11-28T10:13:56.923Z"
   },
   {
    "duration": 21,
    "start_time": "2021-11-28T10:14:07.883Z"
   },
   {
    "duration": 4,
    "start_time": "2021-11-28T10:23:31.191Z"
   },
   {
    "duration": 68,
    "start_time": "2021-11-28T10:23:32.534Z"
   },
   {
    "duration": 33,
    "start_time": "2021-11-28T10:23:33.883Z"
   },
   {
    "duration": 15,
    "start_time": "2021-11-28T10:23:36.583Z"
   },
   {
    "duration": 13,
    "start_time": "2021-11-28T10:23:42.555Z"
   },
   {
    "duration": 4,
    "start_time": "2021-11-28T10:23:44.516Z"
   },
   {
    "duration": 3,
    "start_time": "2021-11-28T10:23:45.751Z"
   },
   {
    "duration": 7,
    "start_time": "2021-11-28T10:23:46.950Z"
   },
   {
    "duration": 14,
    "start_time": "2021-11-28T10:23:48.319Z"
   },
   {
    "duration": 4,
    "start_time": "2021-11-28T10:23:53.582Z"
   },
   {
    "duration": 6,
    "start_time": "2021-11-28T10:23:54.754Z"
   },
   {
    "duration": 16,
    "start_time": "2021-11-28T10:23:56.123Z"
   },
   {
    "duration": 38,
    "start_time": "2021-11-28T10:24:00.207Z"
   },
   {
    "duration": 36,
    "start_time": "2021-11-28T10:24:01.607Z"
   },
   {
    "duration": 26,
    "start_time": "2021-11-28T10:24:04.030Z"
   },
   {
    "duration": 36,
    "start_time": "2021-11-28T10:24:05.395Z"
   },
   {
    "duration": 58,
    "start_time": "2021-11-28T10:24:11.883Z"
   },
   {
    "duration": 3398,
    "start_time": "2021-11-28T10:24:12.943Z"
   },
   {
    "duration": 24,
    "start_time": "2021-11-28T10:24:17.623Z"
   },
   {
    "duration": 5,
    "start_time": "2021-11-28T10:24:20.710Z"
   },
   {
    "duration": 14,
    "start_time": "2021-11-28T10:24:22.455Z"
   },
   {
    "duration": 8,
    "start_time": "2021-11-28T10:24:23.719Z"
   },
   {
    "duration": 4,
    "start_time": "2021-11-28T10:24:26.038Z"
   },
   {
    "duration": 17,
    "start_time": "2021-11-28T10:24:26.999Z"
   },
   {
    "duration": 5,
    "start_time": "2021-11-28T10:24:27.879Z"
   },
   {
    "duration": 4,
    "start_time": "2021-11-28T10:24:29.695Z"
   },
   {
    "duration": 11,
    "start_time": "2021-11-28T10:24:30.654Z"
   },
   {
    "duration": 6,
    "start_time": "2021-11-28T10:24:31.351Z"
   },
   {
    "duration": 5,
    "start_time": "2021-11-28T10:24:32.846Z"
   },
   {
    "duration": 12,
    "start_time": "2021-11-28T10:24:33.539Z"
   },
   {
    "duration": 13,
    "start_time": "2021-11-28T10:24:34.230Z"
   },
   {
    "duration": 22,
    "start_time": "2021-11-28T10:24:35.714Z"
   },
   {
    "duration": 21,
    "start_time": "2021-11-28T10:24:37.962Z"
   },
   {
    "duration": 14,
    "start_time": "2021-11-28T10:24:42.699Z"
   },
   {
    "duration": 10,
    "start_time": "2021-11-28T10:24:43.322Z"
   },
   {
    "duration": 13,
    "start_time": "2021-11-28T10:24:43.911Z"
   },
   {
    "duration": 9,
    "start_time": "2021-11-28T10:24:45.343Z"
   },
   {
    "duration": 13,
    "start_time": "2021-11-28T10:24:46.011Z"
   },
   {
    "duration": 10,
    "start_time": "2021-11-28T10:24:46.679Z"
   },
   {
    "duration": 4,
    "start_time": "2021-11-28T10:24:48.359Z"
   },
   {
    "duration": 5,
    "start_time": "2021-11-28T10:24:49.883Z"
   },
   {
    "duration": 5,
    "start_time": "2021-11-28T10:24:51.558Z"
   },
   {
    "duration": 21,
    "start_time": "2021-11-28T10:24:53.215Z"
   },
   {
    "duration": 27,
    "start_time": "2021-11-28T10:25:01.466Z"
   },
   {
    "duration": 20,
    "start_time": "2021-11-28T10:25:04.935Z"
   },
   {
    "duration": 20,
    "start_time": "2021-11-28T10:25:08.627Z"
   },
   {
    "duration": 519,
    "start_time": "2021-11-28T20:07:50.048Z"
   },
   {
    "duration": 62,
    "start_time": "2021-11-28T20:07:50.568Z"
   },
   {
    "duration": 33,
    "start_time": "2021-11-28T20:07:50.768Z"
   },
   {
    "duration": 19,
    "start_time": "2021-11-28T20:07:50.807Z"
   },
   {
    "duration": 10,
    "start_time": "2021-11-28T20:07:50.828Z"
   },
   {
    "duration": 4,
    "start_time": "2021-11-28T20:07:50.840Z"
   },
   {
    "duration": 7,
    "start_time": "2021-11-28T20:07:50.845Z"
   },
   {
    "duration": 5,
    "start_time": "2021-11-28T20:07:50.854Z"
   },
   {
    "duration": 9,
    "start_time": "2021-11-28T20:07:50.861Z"
   },
   {
    "duration": 10,
    "start_time": "2021-11-28T20:07:50.872Z"
   },
   {
    "duration": 7,
    "start_time": "2021-11-28T20:07:50.894Z"
   },
   {
    "duration": 14,
    "start_time": "2021-11-28T20:07:50.904Z"
   },
   {
    "duration": 21,
    "start_time": "2021-11-28T20:07:50.920Z"
   },
   {
    "duration": 49,
    "start_time": "2021-11-28T20:07:50.943Z"
   },
   {
    "duration": 19,
    "start_time": "2021-11-28T20:07:50.994Z"
   },
   {
    "duration": 25,
    "start_time": "2021-11-28T20:07:51.015Z"
   },
   {
    "duration": 4,
    "start_time": "2021-11-28T20:07:51.042Z"
   },
   {
    "duration": 2437,
    "start_time": "2021-11-28T20:07:51.048Z"
   },
   {
    "duration": 19,
    "start_time": "2021-11-28T20:07:53.488Z"
   },
   {
    "duration": 4,
    "start_time": "2021-11-28T20:07:53.513Z"
   },
   {
    "duration": 9,
    "start_time": "2021-11-28T20:07:53.519Z"
   },
   {
    "duration": 5,
    "start_time": "2021-11-28T20:07:53.529Z"
   },
   {
    "duration": 3,
    "start_time": "2021-11-28T20:07:53.535Z"
   },
   {
    "duration": 9,
    "start_time": "2021-11-28T20:07:53.540Z"
   },
   {
    "duration": 6,
    "start_time": "2021-11-28T20:07:53.551Z"
   },
   {
    "duration": 33,
    "start_time": "2021-11-28T20:07:53.558Z"
   },
   {
    "duration": 24,
    "start_time": "2021-11-28T20:07:53.594Z"
   },
   {
    "duration": 4,
    "start_time": "2021-11-28T20:07:53.620Z"
   },
   {
    "duration": 7,
    "start_time": "2021-11-28T20:07:53.626Z"
   },
   {
    "duration": 9,
    "start_time": "2021-11-28T20:07:53.634Z"
   },
   {
    "duration": 8,
    "start_time": "2021-11-28T20:07:53.644Z"
   },
   {
    "duration": 19,
    "start_time": "2021-11-28T20:07:53.653Z"
   },
   {
    "duration": 10,
    "start_time": "2021-11-28T20:07:53.674Z"
   },
   {
    "duration": 18,
    "start_time": "2021-11-28T20:07:53.690Z"
   },
   {
    "duration": 9,
    "start_time": "2021-11-28T20:07:53.711Z"
   },
   {
    "duration": 8,
    "start_time": "2021-11-28T20:07:53.721Z"
   },
   {
    "duration": 7,
    "start_time": "2021-11-28T20:07:53.730Z"
   },
   {
    "duration": 5,
    "start_time": "2021-11-28T20:07:53.738Z"
   },
   {
    "duration": 10,
    "start_time": "2021-11-28T20:07:53.745Z"
   },
   {
    "duration": 3,
    "start_time": "2021-11-28T20:07:53.756Z"
   },
   {
    "duration": 6,
    "start_time": "2021-11-28T20:07:53.789Z"
   },
   {
    "duration": 17,
    "start_time": "2021-11-28T20:07:53.800Z"
   },
   {
    "duration": 16,
    "start_time": "2021-11-28T20:07:53.818Z"
   },
   {
    "duration": 12,
    "start_time": "2021-11-28T20:07:53.835Z"
   },
   {
    "duration": 11,
    "start_time": "2021-11-28T20:07:53.848Z"
   },
   {
    "duration": 11,
    "start_time": "2021-11-28T20:07:53.861Z"
   },
   {
    "duration": 96,
    "start_time": "2021-11-28T20:25:23.988Z"
   },
   {
    "duration": 316,
    "start_time": "2021-11-29T13:35:57.853Z"
   },
   {
    "duration": 729,
    "start_time": "2021-11-29T13:36:11.922Z"
   },
   {
    "duration": 66,
    "start_time": "2021-11-29T13:36:14.554Z"
   },
   {
    "duration": 27,
    "start_time": "2021-11-29T13:36:16.266Z"
   },
   {
    "duration": 11,
    "start_time": "2021-11-29T13:36:19.058Z"
   },
   {
    "duration": 9,
    "start_time": "2021-11-29T13:36:24.258Z"
   },
   {
    "duration": 4,
    "start_time": "2021-11-29T13:36:26.574Z"
   },
   {
    "duration": 2,
    "start_time": "2021-11-29T13:36:28.194Z"
   },
   {
    "duration": 5,
    "start_time": "2021-11-29T13:36:31.002Z"
   },
   {
    "duration": 9,
    "start_time": "2021-11-29T13:36:32.082Z"
   },
   {
    "duration": 2,
    "start_time": "2021-11-29T13:36:37.834Z"
   },
   {
    "duration": 5,
    "start_time": "2021-11-29T13:36:39.398Z"
   },
   {
    "duration": 13,
    "start_time": "2021-11-29T13:36:40.905Z"
   },
   {
    "duration": 4,
    "start_time": "2021-11-29T13:36:44.554Z"
   },
   {
    "duration": 607,
    "start_time": "2021-11-29T13:37:00.914Z"
   },
   {
    "duration": 4,
    "start_time": "2021-11-29T13:37:09.974Z"
   },
   {
    "duration": 125,
    "start_time": "2021-11-29T13:40:25.965Z"
   },
   {
    "duration": 4,
    "start_time": "2021-11-29T13:40:41.573Z"
   },
   {
    "duration": 3,
    "start_time": "2021-11-29T13:41:32.153Z"
   },
   {
    "duration": 12,
    "start_time": "2021-11-29T13:41:53.493Z"
   },
   {
    "duration": 4,
    "start_time": "2021-11-29T13:42:39.265Z"
   },
   {
    "duration": 20,
    "start_time": "2021-11-29T13:42:56.314Z"
   },
   {
    "duration": 4,
    "start_time": "2021-11-29T13:42:57.817Z"
   },
   {
    "duration": 3,
    "start_time": "2021-11-29T13:49:42.785Z"
   },
   {
    "duration": 569,
    "start_time": "2021-11-29T13:50:16.045Z"
   },
   {
    "duration": 1425,
    "start_time": "2021-11-29T13:50:34.057Z"
   },
   {
    "duration": 12,
    "start_time": "2021-11-29T13:51:00.333Z"
   },
   {
    "duration": 3,
    "start_time": "2021-11-29T13:51:05.097Z"
   },
   {
    "duration": 3,
    "start_time": "2021-11-29T13:52:18.525Z"
   },
   {
    "duration": 12,
    "start_time": "2021-11-29T13:52:19.825Z"
   },
   {
    "duration": 4,
    "start_time": "2021-11-29T13:52:21.589Z"
   },
   {
    "duration": 3,
    "start_time": "2021-11-29T13:52:44.505Z"
   },
   {
    "duration": 265,
    "start_time": "2021-11-29T13:52:47.205Z"
   },
   {
    "duration": 11,
    "start_time": "2021-11-29T13:52:56.585Z"
   },
   {
    "duration": 4,
    "start_time": "2021-11-29T13:52:58.893Z"
   },
   {
    "duration": 8,
    "start_time": "2021-11-29T13:53:23.837Z"
   },
   {
    "duration": 4,
    "start_time": "2021-11-29T13:53:26.208Z"
   },
   {
    "duration": 4,
    "start_time": "2021-11-29T13:53:28.712Z"
   },
   {
    "duration": 3,
    "start_time": "2021-11-29T13:54:37.588Z"
   },
   {
    "duration": 7,
    "start_time": "2021-11-29T13:54:40.781Z"
   },
   {
    "duration": 3,
    "start_time": "2021-11-29T13:54:42.732Z"
   },
   {
    "duration": 8,
    "start_time": "2021-11-29T13:54:52.160Z"
   },
   {
    "duration": 5,
    "start_time": "2021-11-29T13:54:53.533Z"
   },
   {
    "duration": 4,
    "start_time": "2021-11-29T13:55:09.596Z"
   },
   {
    "duration": 3,
    "start_time": "2021-11-29T13:55:11.437Z"
   },
   {
    "duration": 7,
    "start_time": "2021-11-29T13:55:13.188Z"
   },
   {
    "duration": 4,
    "start_time": "2021-11-29T13:55:14.764Z"
   },
   {
    "duration": 8,
    "start_time": "2021-11-29T13:56:10.608Z"
   },
   {
    "duration": 4,
    "start_time": "2021-11-29T13:56:11.736Z"
   },
   {
    "duration": 4,
    "start_time": "2021-11-29T13:56:20.768Z"
   },
   {
    "duration": 4,
    "start_time": "2021-11-29T13:56:21.988Z"
   },
   {
    "duration": 4,
    "start_time": "2021-11-29T13:56:38.808Z"
   },
   {
    "duration": 5,
    "start_time": "2021-11-29T13:56:40.020Z"
   },
   {
    "duration": 3,
    "start_time": "2021-11-29T13:58:09.100Z"
   },
   {
    "duration": 3,
    "start_time": "2021-11-29T13:58:48.056Z"
   },
   {
    "duration": 3,
    "start_time": "2021-11-29T13:59:29.784Z"
   },
   {
    "duration": 3,
    "start_time": "2021-11-29T13:59:37.604Z"
   },
   {
    "duration": 46,
    "start_time": "2021-11-29T13:59:38.967Z"
   },
   {
    "duration": 22,
    "start_time": "2021-11-29T13:59:40.068Z"
   },
   {
    "duration": 11,
    "start_time": "2021-11-29T13:59:42.464Z"
   },
   {
    "duration": 10,
    "start_time": "2021-11-29T13:59:45.636Z"
   },
   {
    "duration": 3,
    "start_time": "2021-11-29T13:59:48.192Z"
   },
   {
    "duration": 2,
    "start_time": "2021-11-29T13:59:49.580Z"
   },
   {
    "duration": 4,
    "start_time": "2021-11-29T13:59:51.137Z"
   },
   {
    "duration": 12,
    "start_time": "2021-11-29T13:59:52.663Z"
   },
   {
    "duration": 2,
    "start_time": "2021-11-29T13:59:55.536Z"
   },
   {
    "duration": 5,
    "start_time": "2021-11-29T13:59:56.872Z"
   },
   {
    "duration": 11,
    "start_time": "2021-11-29T13:59:59.332Z"
   },
   {
    "duration": 3,
    "start_time": "2021-11-29T14:00:02.688Z"
   },
   {
    "duration": 3,
    "start_time": "2021-11-29T14:00:05.236Z"
   },
   {
    "duration": 541,
    "start_time": "2021-11-29T14:00:14.475Z"
   },
   {
    "duration": 4,
    "start_time": "2021-11-29T14:00:27.196Z"
   },
   {
    "duration": 4,
    "start_time": "2021-11-29T14:00:31.627Z"
   },
   {
    "duration": 4,
    "start_time": "2021-11-29T14:00:46.324Z"
   },
   {
    "duration": 4,
    "start_time": "2021-11-29T14:00:50.584Z"
   },
   {
    "duration": 5,
    "start_time": "2021-11-29T14:02:02.324Z"
   },
   {
    "duration": 3,
    "start_time": "2021-11-29T14:02:08.956Z"
   },
   {
    "duration": 5,
    "start_time": "2021-11-29T14:04:12.175Z"
   },
   {
    "duration": 350,
    "start_time": "2021-11-29T14:05:28.675Z"
   },
   {
    "duration": 14,
    "start_time": "2021-11-29T14:06:23.196Z"
   },
   {
    "duration": 11,
    "start_time": "2021-11-29T14:07:29.668Z"
   },
   {
    "duration": 13,
    "start_time": "2021-11-29T14:07:44.147Z"
   },
   {
    "duration": 12,
    "start_time": "2021-11-29T14:07:53.615Z"
   },
   {
    "duration": 12,
    "start_time": "2021-11-29T14:08:24.403Z"
   },
   {
    "duration": 5,
    "start_time": "2021-11-29T14:08:35.646Z"
   },
   {
    "duration": 262,
    "start_time": "2021-11-29T14:09:07.983Z"
   },
   {
    "duration": 13,
    "start_time": "2021-11-29T14:09:15.383Z"
   },
   {
    "duration": 3,
    "start_time": "2021-11-29T14:13:37.351Z"
   },
   {
    "duration": 49,
    "start_time": "2021-11-29T14:13:39.207Z"
   },
   {
    "duration": 21,
    "start_time": "2021-11-29T14:13:40.351Z"
   },
   {
    "duration": 10,
    "start_time": "2021-11-29T14:13:42.751Z"
   },
   {
    "duration": 10,
    "start_time": "2021-11-29T14:13:46.271Z"
   },
   {
    "duration": 3,
    "start_time": "2021-11-29T14:13:48.416Z"
   },
   {
    "duration": 3,
    "start_time": "2021-11-29T14:13:50.338Z"
   },
   {
    "duration": 5,
    "start_time": "2021-11-29T14:13:51.409Z"
   },
   {
    "duration": 12,
    "start_time": "2021-11-29T14:13:52.338Z"
   },
   {
    "duration": 5,
    "start_time": "2021-11-29T14:13:54.675Z"
   },
   {
    "duration": 5,
    "start_time": "2021-11-29T14:13:55.795Z"
   },
   {
    "duration": 13,
    "start_time": "2021-11-29T14:13:57.442Z"
   },
   {
    "duration": 4,
    "start_time": "2021-11-29T14:14:11.780Z"
   },
   {
    "duration": 3,
    "start_time": "2021-11-29T14:14:13.971Z"
   },
   {
    "duration": 4,
    "start_time": "2021-11-29T14:14:17.811Z"
   },
   {
    "duration": 3,
    "start_time": "2021-11-29T14:14:19.511Z"
   },
   {
    "duration": 4,
    "start_time": "2021-11-29T14:14:21.943Z"
   },
   {
    "duration": 13,
    "start_time": "2021-11-29T14:14:27.082Z"
   },
   {
    "duration": 4,
    "start_time": "2021-11-29T14:14:30.327Z"
   },
   {
    "duration": 10,
    "start_time": "2021-11-29T14:14:50.471Z"
   },
   {
    "duration": 6,
    "start_time": "2021-11-29T14:14:56.143Z"
   },
   {
    "duration": 25,
    "start_time": "2021-11-29T14:16:57.606Z"
   },
   {
    "duration": 21,
    "start_time": "2021-11-29T14:17:20.127Z"
   },
   {
    "duration": 16,
    "start_time": "2021-11-29T14:17:24.998Z"
   },
   {
    "duration": 27,
    "start_time": "2021-11-29T14:17:26.766Z"
   },
   {
    "duration": 7,
    "start_time": "2021-11-29T14:18:54.147Z"
   },
   {
    "duration": 2309,
    "start_time": "2021-11-29T14:18:55.902Z"
   },
   {
    "duration": 15,
    "start_time": "2021-11-29T14:18:58.213Z"
   },
   {
    "duration": 3,
    "start_time": "2021-11-29T14:19:04.839Z"
   },
   {
    "duration": 10,
    "start_time": "2021-11-29T14:19:07.438Z"
   },
   {
    "duration": 5,
    "start_time": "2021-11-29T14:19:09.238Z"
   },
   {
    "duration": 3,
    "start_time": "2021-11-29T14:19:13.018Z"
   },
   {
    "duration": 7,
    "start_time": "2021-11-29T14:19:19.370Z"
   },
   {
    "duration": 4,
    "start_time": "2021-11-29T14:19:21.987Z"
   },
   {
    "duration": 3,
    "start_time": "2021-11-29T14:19:24.371Z"
   },
   {
    "duration": 7,
    "start_time": "2021-11-29T14:19:25.646Z"
   },
   {
    "duration": 6,
    "start_time": "2021-11-29T14:19:27.282Z"
   },
   {
    "duration": 4,
    "start_time": "2021-11-29T14:19:30.642Z"
   },
   {
    "duration": 9,
    "start_time": "2021-11-29T14:19:32.894Z"
   },
   {
    "duration": 4,
    "start_time": "2021-11-29T14:19:34.363Z"
   },
   {
    "duration": 18,
    "start_time": "2021-11-29T14:19:51.462Z"
   },
   {
    "duration": 14,
    "start_time": "2021-11-29T14:19:55.250Z"
   },
   {
    "duration": 9,
    "start_time": "2021-11-29T14:20:07.914Z"
   },
   {
    "duration": 12,
    "start_time": "2021-11-29T14:20:09.722Z"
   },
   {
    "duration": 10,
    "start_time": "2021-11-29T14:20:11.650Z"
   },
   {
    "duration": 8,
    "start_time": "2021-11-29T14:20:13.066Z"
   },
   {
    "duration": 7,
    "start_time": "2021-11-29T14:20:14.774Z"
   },
   {
    "duration": 7,
    "start_time": "2021-11-29T14:20:17.259Z"
   },
   {
    "duration": 4,
    "start_time": "2021-11-29T14:20:20.318Z"
   },
   {
    "duration": 4,
    "start_time": "2021-11-29T14:20:22.662Z"
   },
   {
    "duration": 3,
    "start_time": "2021-11-29T14:20:24.778Z"
   },
   {
    "duration": 14,
    "start_time": "2021-11-29T14:20:32.154Z"
   },
   {
    "duration": 14,
    "start_time": "2021-11-29T14:22:19.762Z"
   },
   {
    "duration": 13,
    "start_time": "2021-11-29T14:22:31.358Z"
   },
   {
    "duration": 13,
    "start_time": "2021-11-29T14:22:39.290Z"
   },
   {
    "duration": 884,
    "start_time": "2021-11-29T14:38:48.846Z"
   },
   {
    "duration": 66,
    "start_time": "2021-11-29T14:38:49.732Z"
   },
   {
    "duration": 43,
    "start_time": "2021-11-29T14:38:49.801Z"
   },
   {
    "duration": 14,
    "start_time": "2021-11-29T14:38:49.848Z"
   },
   {
    "duration": 41,
    "start_time": "2021-11-29T14:38:49.865Z"
   },
   {
    "duration": 5,
    "start_time": "2021-11-29T14:38:49.909Z"
   },
   {
    "duration": 7,
    "start_time": "2021-11-29T14:38:49.916Z"
   },
   {
    "duration": 8,
    "start_time": "2021-11-29T14:38:49.927Z"
   },
   {
    "duration": 14,
    "start_time": "2021-11-29T14:38:49.937Z"
   },
   {
    "duration": 4,
    "start_time": "2021-11-29T14:38:49.953Z"
   },
   {
    "duration": 6,
    "start_time": "2021-11-29T14:38:50.001Z"
   },
   {
    "duration": 29,
    "start_time": "2021-11-29T14:38:50.009Z"
   },
   {
    "duration": 4,
    "start_time": "2021-11-29T14:38:50.040Z"
   },
   {
    "duration": 15,
    "start_time": "2021-11-29T14:38:50.047Z"
   },
   {
    "duration": 46,
    "start_time": "2021-11-29T14:38:50.064Z"
   },
   {
    "duration": 14,
    "start_time": "2021-11-29T14:38:50.113Z"
   },
   {
    "duration": 10,
    "start_time": "2021-11-29T14:38:50.130Z"
   },
   {
    "duration": 25,
    "start_time": "2021-11-29T14:38:50.143Z"
   },
   {
    "duration": 11,
    "start_time": "2021-11-29T14:38:50.170Z"
   },
   {
    "duration": 49,
    "start_time": "2021-11-29T14:38:50.183Z"
   },
   {
    "duration": 67,
    "start_time": "2021-11-29T14:38:50.234Z"
   },
   {
    "duration": 31,
    "start_time": "2021-11-29T14:38:50.304Z"
   },
   {
    "duration": 74,
    "start_time": "2021-11-29T14:38:50.342Z"
   },
   {
    "duration": 7,
    "start_time": "2021-11-29T14:38:50.420Z"
   },
   {
    "duration": 769,
    "start_time": "2021-11-29T14:38:56.211Z"
   },
   {
    "duration": 65,
    "start_time": "2021-11-29T14:38:56.982Z"
   },
   {
    "duration": 97,
    "start_time": "2021-11-29T14:38:57.050Z"
   },
   {
    "duration": 15,
    "start_time": "2021-11-29T14:38:57.149Z"
   },
   {
    "duration": 40,
    "start_time": "2021-11-29T14:38:57.167Z"
   },
   {
    "duration": 5,
    "start_time": "2021-11-29T14:38:57.210Z"
   },
   {
    "duration": 16,
    "start_time": "2021-11-29T14:38:57.217Z"
   },
   {
    "duration": 11,
    "start_time": "2021-11-29T14:38:57.238Z"
   },
   {
    "duration": 18,
    "start_time": "2021-11-29T14:38:57.253Z"
   },
   {
    "duration": 4,
    "start_time": "2021-11-29T14:38:57.302Z"
   },
   {
    "duration": 13,
    "start_time": "2021-11-29T14:38:57.309Z"
   },
   {
    "duration": 24,
    "start_time": "2021-11-29T14:38:57.325Z"
   },
   {
    "duration": 6,
    "start_time": "2021-11-29T14:38:57.352Z"
   },
   {
    "duration": 40,
    "start_time": "2021-11-29T14:38:57.361Z"
   },
   {
    "duration": 9,
    "start_time": "2021-11-29T14:38:57.405Z"
   },
   {
    "duration": 9,
    "start_time": "2021-11-29T14:38:57.418Z"
   },
   {
    "duration": 11,
    "start_time": "2021-11-29T14:38:57.431Z"
   },
   {
    "duration": 59,
    "start_time": "2021-11-29T14:38:57.445Z"
   },
   {
    "duration": 12,
    "start_time": "2021-11-29T14:38:57.507Z"
   },
   {
    "duration": 49,
    "start_time": "2021-11-29T14:38:57.522Z"
   },
   {
    "duration": 34,
    "start_time": "2021-11-29T14:38:57.601Z"
   },
   {
    "duration": 21,
    "start_time": "2021-11-29T14:38:57.638Z"
   },
   {
    "duration": 72,
    "start_time": "2021-11-29T14:38:57.665Z"
   },
   {
    "duration": 20,
    "start_time": "2021-11-29T14:38:57.741Z"
   },
   {
    "duration": 3389,
    "start_time": "2021-11-29T14:38:57.763Z"
   },
   {
    "duration": 20,
    "start_time": "2021-11-29T14:39:01.155Z"
   },
   {
    "duration": 23,
    "start_time": "2021-11-29T14:39:01.178Z"
   },
   {
    "duration": 38,
    "start_time": "2021-11-29T14:39:01.203Z"
   },
   {
    "duration": 17,
    "start_time": "2021-11-29T14:39:01.244Z"
   },
   {
    "duration": 11,
    "start_time": "2021-11-29T14:39:01.264Z"
   },
   {
    "duration": 26,
    "start_time": "2021-11-29T14:39:01.278Z"
   },
   {
    "duration": 17,
    "start_time": "2021-11-29T14:39:01.307Z"
   },
   {
    "duration": 8,
    "start_time": "2021-11-29T14:39:01.327Z"
   },
   {
    "duration": 39,
    "start_time": "2021-11-29T14:39:01.337Z"
   },
   {
    "duration": 25,
    "start_time": "2021-11-29T14:39:01.379Z"
   },
   {
    "duration": 17,
    "start_time": "2021-11-29T14:39:01.406Z"
   },
   {
    "duration": 31,
    "start_time": "2021-11-29T14:39:01.426Z"
   },
   {
    "duration": 21,
    "start_time": "2021-11-29T14:39:01.459Z"
   },
   {
    "duration": 39,
    "start_time": "2021-11-29T14:39:01.483Z"
   },
   {
    "duration": 22,
    "start_time": "2021-11-29T14:39:01.525Z"
   },
   {
    "duration": 45,
    "start_time": "2021-11-29T14:39:01.549Z"
   },
   {
    "duration": 44,
    "start_time": "2021-11-29T14:39:01.597Z"
   },
   {
    "duration": 41,
    "start_time": "2021-11-29T14:39:01.644Z"
   },
   {
    "duration": 35,
    "start_time": "2021-11-29T14:39:01.688Z"
   },
   {
    "duration": 34,
    "start_time": "2021-11-29T14:39:01.726Z"
   },
   {
    "duration": 44,
    "start_time": "2021-11-29T14:39:01.762Z"
   },
   {
    "duration": 36,
    "start_time": "2021-11-29T14:39:01.809Z"
   },
   {
    "duration": 91,
    "start_time": "2021-11-29T14:39:01.847Z"
   },
   {
    "duration": 114,
    "start_time": "2021-11-29T14:39:01.940Z"
   },
   {
    "duration": 47,
    "start_time": "2021-11-29T14:39:02.056Z"
   },
   {
    "duration": 39,
    "start_time": "2021-11-29T14:39:02.106Z"
   },
   {
    "duration": 28,
    "start_time": "2021-11-29T14:39:02.147Z"
   },
   {
    "duration": 61,
    "start_time": "2021-11-29T14:39:02.178Z"
   },
   {
    "duration": 106,
    "start_time": "2021-11-29T14:43:16.102Z"
   }
  ],
  "kernelspec": {
   "display_name": "Python 3 (ipykernel)",
   "language": "python",
   "name": "python3"
  },
  "language_info": {
   "codemirror_mode": {
    "name": "ipython",
    "version": 3
   },
   "file_extension": ".py",
   "mimetype": "text/x-python",
   "name": "python",
   "nbconvert_exporter": "python",
   "pygments_lexer": "ipython3",
   "version": "3.9.5"
  },
  "toc": {
   "base_numbering": 1,
   "nav_menu": {},
   "number_sections": true,
   "sideBar": true,
   "skip_h1_title": true,
   "title_cell": "Table of Contents",
   "title_sidebar": "Contents",
   "toc_cell": false,
   "toc_position": {},
   "toc_section_display": true,
   "toc_window_display": true
  }
 },
 "nbformat": 4,
 "nbformat_minor": 2
}
