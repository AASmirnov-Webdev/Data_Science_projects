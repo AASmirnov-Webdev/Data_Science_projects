{
 "cells": [
  {
   "cell_type": "markdown",
   "metadata": {},
   "source": [
    "# Определение стоимости автомобилей"
   ]
  },
  {
   "cell_type": "markdown",
   "metadata": {},
   "source": [
    "## Подготовка данных"
   ]
  },
  {
   "cell_type": "markdown",
   "metadata": {},
   "source": [
    "### Описание проекта"
   ]
  },
  {
   "cell_type": "markdown",
   "metadata": {},
   "source": [
    "Сервис по продаже автомобилей с пробегом «Не бит, не крашен» разрабатывает приложение для привлечения новых клиентов. В нём можно быстро узнать рыночную стоимость своего автомобиля. \n",
    "\n",
    "В вашем распоряжении исторические данные: технические характеристики, комплектации и цены автомобилей. Вам нужно построить модель для определения стоимости.\n",
    "\n",
    "Заказчику важны:\n",
    "\n",
    "* качество предсказания;\n",
    "* скорость предсказания;\n",
    "* время обучения."
   ]
  },
  {
   "cell_type": "markdown",
   "metadata": {},
   "source": [
    "### Описание данных"
   ]
  },
  {
   "cell_type": "markdown",
   "metadata": {},
   "source": [
    "Данные находятся в файле /datasets/autos.csv.\n",
    "\n",
    "**Признаки:**\n",
    "\n",
    "* ``DateCrawled`` — дата скачивания анкеты из базы\n",
    "* ``VehicleType`` — тип автомобильного кузова\n",
    "* ``RegistrationYear`` — год регистрации автомобиля\n",
    "* ``Gearbox`` — тип коробки передач\n",
    "* ``Power`` — мощность (л. с.)\n",
    "* ``Model`` — модель автомобиля\n",
    "* ``Kilometer`` — пробег (км)\n",
    "* ``RegistrationMonth`` — месяц регистрации автомобиля\n",
    "* ``FuelType`` — тип топлива\n",
    "* ``Brand`` — марка автомобиля\n",
    "* ``NotRepaired`` — была машина в ремонте или нет\n",
    "* ``ateCreated`` — дата создания анкеты\n",
    "* ``NumberOfPictures`` — количество фотографий автомобиля\n",
    "* ``PostalCode`` — почтовый индекс владельца анкеты (пользователя)\n",
    "* ``LastSeen`` — дата последней активности пользователя\n",
    "\n",
    "**Целевой признак:**\n",
    "\n",
    "* ``Price`` — цена (евро)"
   ]
  },
  {
   "cell_type": "markdown",
   "metadata": {},
   "source": [
    "### Открываем и изучаем файл"
   ]
  },
  {
   "cell_type": "markdown",
   "metadata": {},
   "source": [
    "Импортируем необходимые в работе библиотеки и модули"
   ]
  },
  {
   "cell_type": "code",
   "execution_count": 206,
   "metadata": {},
   "outputs": [],
   "source": [
    "import time\n",
    "\n",
    "import pandas as pd\n",
    "import numpy as np\n",
    "\n",
    "from sklearn.model_selection import train_test_split, GridSearchCV, KFold, cross_val_score\n",
    "from sklearn.linear_model import Ridge, LinearRegression\n",
    "from sklearn.pipeline import Pipeline\n",
    "from sklearn.preprocessing import OneHotEncoder, StandardScaler, LabelEncoder\n",
    "from sklearn.metrics import mean_squared_error as mse\n",
    "\n",
    "import seaborn as sns\n",
    "\n",
    "from catboost import CatBoostRegressor\n",
    "from lightgbm import LGBMRegressor\n",
    "import lightgbm as lgb\n",
    "\n",
    "from sklearn import preprocessing\n",
    "\n",
    "import warnings\n",
    "\n",
    "warnings.filterwarnings('ignore')"
   ]
  },
  {
   "cell_type": "code",
   "execution_count": 207,
   "metadata": {},
   "outputs": [],
   "source": [
    "# откроем датасет и сохраним его в новой переменной\n",
    "df = pd.read_csv('/datasets/autos.csv')"
   ]
  },
  {
   "cell_type": "code",
   "execution_count": 208,
   "metadata": {},
   "outputs": [
    {
     "data": {
      "text/html": [
       "<div>\n",
       "<style scoped>\n",
       "    .dataframe tbody tr th:only-of-type {\n",
       "        vertical-align: middle;\n",
       "    }\n",
       "\n",
       "    .dataframe tbody tr th {\n",
       "        vertical-align: top;\n",
       "    }\n",
       "\n",
       "    .dataframe thead th {\n",
       "        text-align: right;\n",
       "    }\n",
       "</style>\n",
       "<table border=\"1\" class=\"dataframe\">\n",
       "  <thead>\n",
       "    <tr style=\"text-align: right;\">\n",
       "      <th></th>\n",
       "      <th>DateCrawled</th>\n",
       "      <th>Price</th>\n",
       "      <th>VehicleType</th>\n",
       "      <th>RegistrationYear</th>\n",
       "      <th>Gearbox</th>\n",
       "      <th>Power</th>\n",
       "      <th>Model</th>\n",
       "      <th>Kilometer</th>\n",
       "      <th>RegistrationMonth</th>\n",
       "      <th>FuelType</th>\n",
       "      <th>Brand</th>\n",
       "      <th>NotRepaired</th>\n",
       "      <th>DateCreated</th>\n",
       "      <th>NumberOfPictures</th>\n",
       "      <th>PostalCode</th>\n",
       "      <th>LastSeen</th>\n",
       "    </tr>\n",
       "  </thead>\n",
       "  <tbody>\n",
       "    <tr>\n",
       "      <th>0</th>\n",
       "      <td>2016-03-24 11:52:17</td>\n",
       "      <td>480</td>\n",
       "      <td>NaN</td>\n",
       "      <td>1993</td>\n",
       "      <td>manual</td>\n",
       "      <td>0</td>\n",
       "      <td>golf</td>\n",
       "      <td>150000</td>\n",
       "      <td>0</td>\n",
       "      <td>petrol</td>\n",
       "      <td>volkswagen</td>\n",
       "      <td>NaN</td>\n",
       "      <td>2016-03-24 00:00:00</td>\n",
       "      <td>0</td>\n",
       "      <td>70435</td>\n",
       "      <td>2016-04-07 03:16:57</td>\n",
       "    </tr>\n",
       "    <tr>\n",
       "      <th>1</th>\n",
       "      <td>2016-03-24 10:58:45</td>\n",
       "      <td>18300</td>\n",
       "      <td>coupe</td>\n",
       "      <td>2011</td>\n",
       "      <td>manual</td>\n",
       "      <td>190</td>\n",
       "      <td>NaN</td>\n",
       "      <td>125000</td>\n",
       "      <td>5</td>\n",
       "      <td>gasoline</td>\n",
       "      <td>audi</td>\n",
       "      <td>yes</td>\n",
       "      <td>2016-03-24 00:00:00</td>\n",
       "      <td>0</td>\n",
       "      <td>66954</td>\n",
       "      <td>2016-04-07 01:46:50</td>\n",
       "    </tr>\n",
       "    <tr>\n",
       "      <th>2</th>\n",
       "      <td>2016-03-14 12:52:21</td>\n",
       "      <td>9800</td>\n",
       "      <td>suv</td>\n",
       "      <td>2004</td>\n",
       "      <td>auto</td>\n",
       "      <td>163</td>\n",
       "      <td>grand</td>\n",
       "      <td>125000</td>\n",
       "      <td>8</td>\n",
       "      <td>gasoline</td>\n",
       "      <td>jeep</td>\n",
       "      <td>NaN</td>\n",
       "      <td>2016-03-14 00:00:00</td>\n",
       "      <td>0</td>\n",
       "      <td>90480</td>\n",
       "      <td>2016-04-05 12:47:46</td>\n",
       "    </tr>\n",
       "    <tr>\n",
       "      <th>3</th>\n",
       "      <td>2016-03-17 16:54:04</td>\n",
       "      <td>1500</td>\n",
       "      <td>small</td>\n",
       "      <td>2001</td>\n",
       "      <td>manual</td>\n",
       "      <td>75</td>\n",
       "      <td>golf</td>\n",
       "      <td>150000</td>\n",
       "      <td>6</td>\n",
       "      <td>petrol</td>\n",
       "      <td>volkswagen</td>\n",
       "      <td>no</td>\n",
       "      <td>2016-03-17 00:00:00</td>\n",
       "      <td>0</td>\n",
       "      <td>91074</td>\n",
       "      <td>2016-03-17 17:40:17</td>\n",
       "    </tr>\n",
       "    <tr>\n",
       "      <th>4</th>\n",
       "      <td>2016-03-31 17:25:20</td>\n",
       "      <td>3600</td>\n",
       "      <td>small</td>\n",
       "      <td>2008</td>\n",
       "      <td>manual</td>\n",
       "      <td>69</td>\n",
       "      <td>fabia</td>\n",
       "      <td>90000</td>\n",
       "      <td>7</td>\n",
       "      <td>gasoline</td>\n",
       "      <td>skoda</td>\n",
       "      <td>no</td>\n",
       "      <td>2016-03-31 00:00:00</td>\n",
       "      <td>0</td>\n",
       "      <td>60437</td>\n",
       "      <td>2016-04-06 10:17:21</td>\n",
       "    </tr>\n",
       "  </tbody>\n",
       "</table>\n",
       "</div>"
      ],
      "text/plain": [
       "           DateCrawled  Price VehicleType  RegistrationYear Gearbox  Power  \\\n",
       "0  2016-03-24 11:52:17    480         NaN              1993  manual      0   \n",
       "1  2016-03-24 10:58:45  18300       coupe              2011  manual    190   \n",
       "2  2016-03-14 12:52:21   9800         suv              2004    auto    163   \n",
       "3  2016-03-17 16:54:04   1500       small              2001  manual     75   \n",
       "4  2016-03-31 17:25:20   3600       small              2008  manual     69   \n",
       "\n",
       "   Model  Kilometer  RegistrationMonth  FuelType       Brand NotRepaired  \\\n",
       "0   golf     150000                  0    petrol  volkswagen         NaN   \n",
       "1    NaN     125000                  5  gasoline        audi         yes   \n",
       "2  grand     125000                  8  gasoline        jeep         NaN   \n",
       "3   golf     150000                  6    petrol  volkswagen          no   \n",
       "4  fabia      90000                  7  gasoline       skoda          no   \n",
       "\n",
       "           DateCreated  NumberOfPictures  PostalCode             LastSeen  \n",
       "0  2016-03-24 00:00:00                 0       70435  2016-04-07 03:16:57  \n",
       "1  2016-03-24 00:00:00                 0       66954  2016-04-07 01:46:50  \n",
       "2  2016-03-14 00:00:00                 0       90480  2016-04-05 12:47:46  \n",
       "3  2016-03-17 00:00:00                 0       91074  2016-03-17 17:40:17  \n",
       "4  2016-03-31 00:00:00                 0       60437  2016-04-06 10:17:21  "
      ]
     },
     "execution_count": 208,
     "metadata": {},
     "output_type": "execute_result"
    }
   ],
   "source": [
    "# выведем первые пять строк таблицы\n",
    "df.head()"
   ]
  },
  {
   "cell_type": "code",
   "execution_count": 209,
   "metadata": {},
   "outputs": [
    {
     "data": {
      "text/plain": [
       "(354369, 16)"
      ]
     },
     "execution_count": 209,
     "metadata": {},
     "output_type": "execute_result"
    }
   ],
   "source": [
    "# посмотрим на форму датасета\n",
    "df.shape"
   ]
  },
  {
   "cell_type": "code",
   "execution_count": 210,
   "metadata": {},
   "outputs": [
    {
     "name": "stdout",
     "output_type": "stream",
     "text": [
      "<class 'pandas.core.frame.DataFrame'>\n",
      "RangeIndex: 354369 entries, 0 to 354368\n",
      "Data columns (total 16 columns):\n",
      " #   Column             Non-Null Count   Dtype \n",
      "---  ------             --------------   ----- \n",
      " 0   DateCrawled        354369 non-null  object\n",
      " 1   Price              354369 non-null  int64 \n",
      " 2   VehicleType        316879 non-null  object\n",
      " 3   RegistrationYear   354369 non-null  int64 \n",
      " 4   Gearbox            334536 non-null  object\n",
      " 5   Power              354369 non-null  int64 \n",
      " 6   Model              334664 non-null  object\n",
      " 7   Kilometer          354369 non-null  int64 \n",
      " 8   RegistrationMonth  354369 non-null  int64 \n",
      " 9   FuelType           321474 non-null  object\n",
      " 10  Brand              354369 non-null  object\n",
      " 11  NotRepaired        283215 non-null  object\n",
      " 12  DateCreated        354369 non-null  object\n",
      " 13  NumberOfPictures   354369 non-null  int64 \n",
      " 14  PostalCode         354369 non-null  int64 \n",
      " 15  LastSeen           354369 non-null  object\n",
      "dtypes: int64(7), object(9)\n",
      "memory usage: 43.3+ MB\n"
     ]
    }
   ],
   "source": [
    "# Выведем информацию по датасету\n",
    "df.info()"
   ]
  },
  {
   "cell_type": "code",
   "execution_count": 211,
   "metadata": {},
   "outputs": [
    {
     "data": {
      "text/html": [
       "<div>\n",
       "<style scoped>\n",
       "    .dataframe tbody tr th:only-of-type {\n",
       "        vertical-align: middle;\n",
       "    }\n",
       "\n",
       "    .dataframe tbody tr th {\n",
       "        vertical-align: top;\n",
       "    }\n",
       "\n",
       "    .dataframe thead th {\n",
       "        text-align: right;\n",
       "    }\n",
       "</style>\n",
       "<table border=\"1\" class=\"dataframe\">\n",
       "  <thead>\n",
       "    <tr style=\"text-align: right;\">\n",
       "      <th></th>\n",
       "      <th>Price</th>\n",
       "      <th>RegistrationYear</th>\n",
       "      <th>Power</th>\n",
       "      <th>Kilometer</th>\n",
       "      <th>RegistrationMonth</th>\n",
       "      <th>NumberOfPictures</th>\n",
       "      <th>PostalCode</th>\n",
       "    </tr>\n",
       "  </thead>\n",
       "  <tbody>\n",
       "    <tr>\n",
       "      <th>count</th>\n",
       "      <td>354369.000000</td>\n",
       "      <td>354369.000000</td>\n",
       "      <td>354369.000000</td>\n",
       "      <td>354369.000000</td>\n",
       "      <td>354369.000000</td>\n",
       "      <td>354369.0</td>\n",
       "      <td>354369.000000</td>\n",
       "    </tr>\n",
       "    <tr>\n",
       "      <th>mean</th>\n",
       "      <td>4416.656776</td>\n",
       "      <td>2004.234448</td>\n",
       "      <td>110.094337</td>\n",
       "      <td>128211.172535</td>\n",
       "      <td>5.714645</td>\n",
       "      <td>0.0</td>\n",
       "      <td>50508.689087</td>\n",
       "    </tr>\n",
       "    <tr>\n",
       "      <th>std</th>\n",
       "      <td>4514.158514</td>\n",
       "      <td>90.227958</td>\n",
       "      <td>189.850405</td>\n",
       "      <td>37905.341530</td>\n",
       "      <td>3.726421</td>\n",
       "      <td>0.0</td>\n",
       "      <td>25783.096248</td>\n",
       "    </tr>\n",
       "    <tr>\n",
       "      <th>min</th>\n",
       "      <td>0.000000</td>\n",
       "      <td>1000.000000</td>\n",
       "      <td>0.000000</td>\n",
       "      <td>5000.000000</td>\n",
       "      <td>0.000000</td>\n",
       "      <td>0.0</td>\n",
       "      <td>1067.000000</td>\n",
       "    </tr>\n",
       "    <tr>\n",
       "      <th>25%</th>\n",
       "      <td>1050.000000</td>\n",
       "      <td>1999.000000</td>\n",
       "      <td>69.000000</td>\n",
       "      <td>125000.000000</td>\n",
       "      <td>3.000000</td>\n",
       "      <td>0.0</td>\n",
       "      <td>30165.000000</td>\n",
       "    </tr>\n",
       "    <tr>\n",
       "      <th>50%</th>\n",
       "      <td>2700.000000</td>\n",
       "      <td>2003.000000</td>\n",
       "      <td>105.000000</td>\n",
       "      <td>150000.000000</td>\n",
       "      <td>6.000000</td>\n",
       "      <td>0.0</td>\n",
       "      <td>49413.000000</td>\n",
       "    </tr>\n",
       "    <tr>\n",
       "      <th>75%</th>\n",
       "      <td>6400.000000</td>\n",
       "      <td>2008.000000</td>\n",
       "      <td>143.000000</td>\n",
       "      <td>150000.000000</td>\n",
       "      <td>9.000000</td>\n",
       "      <td>0.0</td>\n",
       "      <td>71083.000000</td>\n",
       "    </tr>\n",
       "    <tr>\n",
       "      <th>max</th>\n",
       "      <td>20000.000000</td>\n",
       "      <td>9999.000000</td>\n",
       "      <td>20000.000000</td>\n",
       "      <td>150000.000000</td>\n",
       "      <td>12.000000</td>\n",
       "      <td>0.0</td>\n",
       "      <td>99998.000000</td>\n",
       "    </tr>\n",
       "  </tbody>\n",
       "</table>\n",
       "</div>"
      ],
      "text/plain": [
       "               Price  RegistrationYear          Power      Kilometer  \\\n",
       "count  354369.000000     354369.000000  354369.000000  354369.000000   \n",
       "mean     4416.656776       2004.234448     110.094337  128211.172535   \n",
       "std      4514.158514         90.227958     189.850405   37905.341530   \n",
       "min         0.000000       1000.000000       0.000000    5000.000000   \n",
       "25%      1050.000000       1999.000000      69.000000  125000.000000   \n",
       "50%      2700.000000       2003.000000     105.000000  150000.000000   \n",
       "75%      6400.000000       2008.000000     143.000000  150000.000000   \n",
       "max     20000.000000       9999.000000   20000.000000  150000.000000   \n",
       "\n",
       "       RegistrationMonth  NumberOfPictures     PostalCode  \n",
       "count      354369.000000          354369.0  354369.000000  \n",
       "mean            5.714645               0.0   50508.689087  \n",
       "std             3.726421               0.0   25783.096248  \n",
       "min             0.000000               0.0    1067.000000  \n",
       "25%             3.000000               0.0   30165.000000  \n",
       "50%             6.000000               0.0   49413.000000  \n",
       "75%             9.000000               0.0   71083.000000  \n",
       "max            12.000000               0.0   99998.000000  "
      ]
     },
     "execution_count": 211,
     "metadata": {},
     "output_type": "execute_result"
    }
   ],
   "source": [
    "# Посмотрим на список характерных значений\n",
    "df.describe()"
   ]
  },
  {
   "cell_type": "markdown",
   "metadata": {},
   "source": [
    "Как видим, в данных есть пропуски, нужно будет их обработать."
   ]
  },
  {
   "cell_type": "markdown",
   "metadata": {},
   "source": [
    "### Предобработка данных"
   ]
  },
  {
   "cell_type": "markdown",
   "metadata": {},
   "source": [
    "#### Обработка дубликатов"
   ]
  },
  {
   "cell_type": "markdown",
   "metadata": {},
   "source": [
    "Проверим данные на наличие явных дубликатов"
   ]
  },
  {
   "cell_type": "code",
   "execution_count": 212,
   "metadata": {},
   "outputs": [
    {
     "name": "stdout",
     "output_type": "stream",
     "text": [
      "Количество дубликатов в данных: 4\n"
     ]
    }
   ],
   "source": [
    "print('Количество дубликатов в данных:', sum(df.duplicated()))"
   ]
  },
  {
   "cell_type": "markdown",
   "metadata": {},
   "source": [
    "Удалим дубликаты"
   ]
  },
  {
   "cell_type": "code",
   "execution_count": 213,
   "metadata": {},
   "outputs": [],
   "source": [
    "df = df.drop_duplicates()"
   ]
  },
  {
   "cell_type": "code",
   "execution_count": 214,
   "metadata": {},
   "outputs": [
    {
     "name": "stdout",
     "output_type": "stream",
     "text": [
      "Количество дубликатов после удаления: 0\n"
     ]
    }
   ],
   "source": [
    "print('Количество дубликатов после удаления:', sum(df.duplicated()))"
   ]
  },
  {
   "cell_type": "markdown",
   "metadata": {},
   "source": [
    "#### Поиск и обработка аномалий в признаках"
   ]
  },
  {
   "cell_type": "markdown",
   "metadata": {},
   "source": [
    "##### Признак ``Price``"
   ]
  },
  {
   "cell_type": "markdown",
   "metadata": {},
   "source": [
    "Из предварительного списка характерных значений выше видим, что присутствуют нулевые значения цены. Посмотрим сколько таких объявлений."
   ]
  },
  {
   "cell_type": "code",
   "execution_count": 215,
   "metadata": {},
   "outputs": [
    {
     "name": "stdout",
     "output_type": "stream",
     "text": [
      "Количество объявлений с нулевой ценой: 10772\n"
     ]
    }
   ],
   "source": [
    "print(f\"Количество объявлений с нулевой ценой: {len(df.loc[df['Price'] == 0])}\")"
   ]
  },
  {
   "cell_type": "markdown",
   "metadata": {},
   "source": [
    "Данные о нулевой цене либо внесены ошибочно, либо пользователи не указывали цену в объявлении. На данный момент нет возможности восстановить целевой признак в этих объектах. Удалим их, чтобы не портить модель."
   ]
  },
  {
   "cell_type": "code",
   "execution_count": 216,
   "metadata": {},
   "outputs": [],
   "source": [
    "df = df.loc[df['Price'] != 0]"
   ]
  },
  {
   "cell_type": "markdown",
   "metadata": {},
   "source": [
    "Теперь посмотрим на гистограмму ``'Price'``"
   ]
  },
  {
   "cell_type": "code",
   "execution_count": 217,
   "metadata": {},
   "outputs": [
    {
     "data": {
      "text/plain": [
       "<AxesSubplot:xlabel='Price', ylabel='Count'>"
      ]
     },
     "execution_count": 217,
     "metadata": {},
     "output_type": "execute_result"
    },
    {
     "data": {
      "image/png": "[encoded data removed]",
      "text/plain": [
       "<Figure size 432x288 with 1 Axes>"
      ]
     },
     "metadata": {},
     "output_type": "display_data"
    }
   ],
   "source": [
    "# строим гистограмму для наглядности\n",
    "sns.histplot(df['Price'], bins=15)"
   ]
  },
  {
   "cell_type": "markdown",
   "metadata": {},
   "source": [
    "##### Признак ``Model``"
   ]
  },
  {
   "cell_type": "markdown",
   "metadata": {},
   "source": [
    "Посмотрим на количество объявлений с незаполненной моделью автомобиля:"
   ]
  },
  {
   "cell_type": "code",
   "execution_count": 218,
   "metadata": {},
   "outputs": [
    {
     "name": "stdout",
     "output_type": "stream",
     "text": [
      "Количество объявлений с незаполненной моделью: 17521\n"
     ]
    }
   ],
   "source": [
    "print(f\"Количество объявлений с незаполненной моделью: {len(df.loc[df['Model'].isna()])}\")"
   ]
  },
  {
   "cell_type": "markdown",
   "metadata": {},
   "source": [
    "Признак ``Model`` является одним из основных для предсказания цены. Пропущено порядка 5% данных в этом признаке. Нет возможности восстановить корректно эти данные, удалим пропуски."
   ]
  },
  {
   "cell_type": "code",
   "execution_count": 219,
   "metadata": {},
   "outputs": [],
   "source": [
    "df = df.loc[~df['Model'].isna()]"
   ]
  },
  {
   "cell_type": "code",
   "execution_count": 220,
   "metadata": {},
   "outputs": [
    {
     "name": "stdout",
     "output_type": "stream",
     "text": [
      "Количество объявлений с незаполненной моделью после удаления: 0\n"
     ]
    }
   ],
   "source": [
    "print(f\"Количество объявлений с незаполненной моделью после удаления: {len(df.loc[df['Model'].isna()])}\")"
   ]
  },
  {
   "cell_type": "markdown",
   "metadata": {},
   "source": [
    "##### Признак ``Power``"
   ]
  },
  {
   "cell_type": "markdown",
   "metadata": {},
   "source": [
    "Посмотрим на количество авто с мощностью двигателя более 600 л.с.:"
   ]
  },
  {
   "cell_type": "code",
   "execution_count": 221,
   "metadata": {},
   "outputs": [
    {
     "name": "stdout",
     "output_type": "stream",
     "text": [
      "Количество автомобилей с мощностью > 400 л.с.: 31966\n"
     ]
    }
   ],
   "source": [
    "print(f\"Количество автомобилей с мощностью > 400 л.с.: {len(df.loc[(df['Power'] > 400) | (df['Power'] <= 0)])}\")"
   ]
  },
  {
   "cell_type": "markdown",
   "metadata": {},
   "source": [
    "Будем считать, что мощность выше 400 л.с. в данном случае нам неподходит (не включаем сюда самосвалы гиганты под 4000 л.с.:). Поэтому заменим эти значения медианными среди автомобилей той же модели."
   ]
  },
  {
   "cell_type": "code",
   "execution_count": 222,
   "metadata": {},
   "outputs": [],
   "source": [
    "df.loc[(df['Power'] > 400) | (df['Power'] <= 0), 'Power'] = None\n",
    "df['Power'] = df['Power'].fillna(df.groupby('Model')['Power'].transform('median'))\n",
    "df = df.loc[~df['Power'].isna()]\n",
    "df['Power'] = df['Power'].astype('int64')"
   ]
  },
  {
   "cell_type": "markdown",
   "metadata": {},
   "source": [
    "Теперь посмотрим на гистограмму ``'Power'``"
   ]
  },
  {
   "cell_type": "code",
   "execution_count": 223,
   "metadata": {},
   "outputs": [
    {
     "data": {
      "text/plain": [
       "<AxesSubplot:xlabel='Power', ylabel='Count'>"
      ]
     },
     "execution_count": 223,
     "metadata": {},
     "output_type": "execute_result"
    },
    {
     "data": {
      "image/png": "[encoded data removed]",
      "text/plain": [
       "<Figure size 432x288 with 1 Axes>"
      ]
     },
     "metadata": {},
     "output_type": "display_data"
    }
   ],
   "source": [
    "# строим гистограмму для наглядности\n",
    "sns.histplot(df['Power'], bins=15)"
   ]
  },
  {
   "cell_type": "markdown",
   "metadata": {},
   "source": [
    "##### Признак ``RegistrationYear``"
   ]
  },
  {
   "cell_type": "markdown",
   "metadata": {},
   "source": [
    "Посмотрим на количество объявлений с годом регистрации более 2022 и ранее 1900:"
   ]
  },
  {
   "cell_type": "code",
   "execution_count": 224,
   "metadata": {},
   "outputs": [
    {
     "name": "stdout",
     "output_type": "stream",
     "text": [
      "Количество объявлений с годом регистрации более 2022: 58\n",
      "Количество объявлений с годом регистрации ранее 1900: 28\n"
     ]
    }
   ],
   "source": [
    "print(f\"Количество объявлений с годом регистрации более 2022: {len(df.loc[df['RegistrationYear'] > 2022])}\")\n",
    "print(f\"Количество объявлений с годом регистрации ранее 1900: {len(df.loc[df['RegistrationYear'] < 1900])}\")"
   ]
  },
  {
   "cell_type": "code",
   "execution_count": 225,
   "metadata": {},
   "outputs": [
    {
     "data": {
      "text/html": [
       "<div>\n",
       "<style scoped>\n",
       "    .dataframe tbody tr th:only-of-type {\n",
       "        vertical-align: middle;\n",
       "    }\n",
       "\n",
       "    .dataframe tbody tr th {\n",
       "        vertical-align: top;\n",
       "    }\n",
       "\n",
       "    .dataframe thead th {\n",
       "        text-align: right;\n",
       "    }\n",
       "</style>\n",
       "<table border=\"1\" class=\"dataframe\">\n",
       "  <thead>\n",
       "    <tr style=\"text-align: right;\">\n",
       "      <th></th>\n",
       "      <th>DateCrawled</th>\n",
       "      <th>Price</th>\n",
       "      <th>VehicleType</th>\n",
       "      <th>RegistrationYear</th>\n",
       "      <th>Gearbox</th>\n",
       "      <th>Power</th>\n",
       "      <th>Model</th>\n",
       "      <th>Kilometer</th>\n",
       "      <th>RegistrationMonth</th>\n",
       "      <th>FuelType</th>\n",
       "      <th>Brand</th>\n",
       "      <th>NotRepaired</th>\n",
       "      <th>DateCreated</th>\n",
       "      <th>NumberOfPictures</th>\n",
       "      <th>PostalCode</th>\n",
       "      <th>LastSeen</th>\n",
       "    </tr>\n",
       "  </thead>\n",
       "  <tbody>\n",
       "    <tr>\n",
       "      <th>12946</th>\n",
       "      <td>2016-03-29 18:39:40</td>\n",
       "      <td>49</td>\n",
       "      <td>NaN</td>\n",
       "      <td>5000</td>\n",
       "      <td>NaN</td>\n",
       "      <td>101</td>\n",
       "      <td>golf</td>\n",
       "      <td>5000</td>\n",
       "      <td>12</td>\n",
       "      <td>NaN</td>\n",
       "      <td>volkswagen</td>\n",
       "      <td>NaN</td>\n",
       "      <td>2016-03-29 00:00:00</td>\n",
       "      <td>0</td>\n",
       "      <td>74523</td>\n",
       "      <td>2016-04-06 04:16:14</td>\n",
       "    </tr>\n",
       "    <tr>\n",
       "      <th>17271</th>\n",
       "      <td>2016-03-23 16:43:29</td>\n",
       "      <td>700</td>\n",
       "      <td>NaN</td>\n",
       "      <td>9999</td>\n",
       "      <td>NaN</td>\n",
       "      <td>116</td>\n",
       "      <td>other</td>\n",
       "      <td>10000</td>\n",
       "      <td>0</td>\n",
       "      <td>NaN</td>\n",
       "      <td>opel</td>\n",
       "      <td>NaN</td>\n",
       "      <td>2016-03-23 00:00:00</td>\n",
       "      <td>0</td>\n",
       "      <td>21769</td>\n",
       "      <td>2016-04-05 20:16:15</td>\n",
       "    </tr>\n",
       "    <tr>\n",
       "      <th>18259</th>\n",
       "      <td>2016-03-16 20:37:54</td>\n",
       "      <td>300</td>\n",
       "      <td>NaN</td>\n",
       "      <td>2200</td>\n",
       "      <td>NaN</td>\n",
       "      <td>58</td>\n",
       "      <td>twingo</td>\n",
       "      <td>5000</td>\n",
       "      <td>12</td>\n",
       "      <td>NaN</td>\n",
       "      <td>renault</td>\n",
       "      <td>NaN</td>\n",
       "      <td>2016-03-16 00:00:00</td>\n",
       "      <td>0</td>\n",
       "      <td>45307</td>\n",
       "      <td>2016-04-07 06:45:32</td>\n",
       "    </tr>\n",
       "    <tr>\n",
       "      <th>26382</th>\n",
       "      <td>2016-03-07 20:50:57</td>\n",
       "      <td>150</td>\n",
       "      <td>NaN</td>\n",
       "      <td>3000</td>\n",
       "      <td>NaN</td>\n",
       "      <td>95</td>\n",
       "      <td>a_klasse</td>\n",
       "      <td>5000</td>\n",
       "      <td>0</td>\n",
       "      <td>NaN</td>\n",
       "      <td>mercedes_benz</td>\n",
       "      <td>NaN</td>\n",
       "      <td>2016-03-07 00:00:00</td>\n",
       "      <td>0</td>\n",
       "      <td>28217</td>\n",
       "      <td>2016-03-08 07:46:23</td>\n",
       "    </tr>\n",
       "    <tr>\n",
       "      <th>26560</th>\n",
       "      <td>2016-03-24 17:45:47</td>\n",
       "      <td>800</td>\n",
       "      <td>NaN</td>\n",
       "      <td>2066</td>\n",
       "      <td>NaN</td>\n",
       "      <td>125</td>\n",
       "      <td>zafira</td>\n",
       "      <td>5000</td>\n",
       "      <td>0</td>\n",
       "      <td>gasoline</td>\n",
       "      <td>opel</td>\n",
       "      <td>NaN</td>\n",
       "      <td>2016-03-24 00:00:00</td>\n",
       "      <td>0</td>\n",
       "      <td>45355</td>\n",
       "      <td>2016-03-29 03:16:49</td>\n",
       "    </tr>\n",
       "  </tbody>\n",
       "</table>\n",
       "</div>"
      ],
      "text/plain": [
       "               DateCrawled  Price VehicleType  RegistrationYear Gearbox  \\\n",
       "12946  2016-03-29 18:39:40     49         NaN              5000     NaN   \n",
       "17271  2016-03-23 16:43:29    700         NaN              9999     NaN   \n",
       "18259  2016-03-16 20:37:54    300         NaN              2200     NaN   \n",
       "26382  2016-03-07 20:50:57    150         NaN              3000     NaN   \n",
       "26560  2016-03-24 17:45:47    800         NaN              2066     NaN   \n",
       "\n",
       "       Power     Model  Kilometer  RegistrationMonth  FuelType          Brand  \\\n",
       "12946    101      golf       5000                 12       NaN     volkswagen   \n",
       "17271    116     other      10000                  0       NaN           opel   \n",
       "18259     58    twingo       5000                 12       NaN        renault   \n",
       "26382     95  a_klasse       5000                  0       NaN  mercedes_benz   \n",
       "26560    125    zafira       5000                  0  gasoline           opel   \n",
       "\n",
       "      NotRepaired          DateCreated  NumberOfPictures  PostalCode  \\\n",
       "12946         NaN  2016-03-29 00:00:00                 0       74523   \n",
       "17271         NaN  2016-03-23 00:00:00                 0       21769   \n",
       "18259         NaN  2016-03-16 00:00:00                 0       45307   \n",
       "26382         NaN  2016-03-07 00:00:00                 0       28217   \n",
       "26560         NaN  2016-03-24 00:00:00                 0       45355   \n",
       "\n",
       "                  LastSeen  \n",
       "12946  2016-04-06 04:16:14  \n",
       "17271  2016-04-05 20:16:15  \n",
       "18259  2016-04-07 06:45:32  \n",
       "26382  2016-03-08 07:46:23  \n",
       "26560  2016-03-29 03:16:49  "
      ]
     },
     "metadata": {},
     "output_type": "display_data"
    },
    {
     "data": {
      "text/html": [
       "<div>\n",
       "<style scoped>\n",
       "    .dataframe tbody tr th:only-of-type {\n",
       "        vertical-align: middle;\n",
       "    }\n",
       "\n",
       "    .dataframe tbody tr th {\n",
       "        vertical-align: top;\n",
       "    }\n",
       "\n",
       "    .dataframe thead th {\n",
       "        text-align: right;\n",
       "    }\n",
       "</style>\n",
       "<table border=\"1\" class=\"dataframe\">\n",
       "  <thead>\n",
       "    <tr style=\"text-align: right;\">\n",
       "      <th></th>\n",
       "      <th>DateCrawled</th>\n",
       "      <th>Price</th>\n",
       "      <th>VehicleType</th>\n",
       "      <th>RegistrationYear</th>\n",
       "      <th>Gearbox</th>\n",
       "      <th>Power</th>\n",
       "      <th>Model</th>\n",
       "      <th>Kilometer</th>\n",
       "      <th>RegistrationMonth</th>\n",
       "      <th>FuelType</th>\n",
       "      <th>Brand</th>\n",
       "      <th>NotRepaired</th>\n",
       "      <th>DateCreated</th>\n",
       "      <th>NumberOfPictures</th>\n",
       "      <th>PostalCode</th>\n",
       "      <th>LastSeen</th>\n",
       "    </tr>\n",
       "  </thead>\n",
       "  <tbody>\n",
       "    <tr>\n",
       "      <th>16062</th>\n",
       "      <td>2016-03-29 23:42:16</td>\n",
       "      <td>190</td>\n",
       "      <td>NaN</td>\n",
       "      <td>1000</td>\n",
       "      <td>NaN</td>\n",
       "      <td>131</td>\n",
       "      <td>mondeo</td>\n",
       "      <td>5000</td>\n",
       "      <td>0</td>\n",
       "      <td>NaN</td>\n",
       "      <td>ford</td>\n",
       "      <td>NaN</td>\n",
       "      <td>2016-03-29 00:00:00</td>\n",
       "      <td>0</td>\n",
       "      <td>47166</td>\n",
       "      <td>2016-04-06 10:44:58</td>\n",
       "    </tr>\n",
       "    <tr>\n",
       "      <th>18224</th>\n",
       "      <td>2016-03-09 17:49:44</td>\n",
       "      <td>7999</td>\n",
       "      <td>NaN</td>\n",
       "      <td>1500</td>\n",
       "      <td>manual</td>\n",
       "      <td>224</td>\n",
       "      <td>impreza</td>\n",
       "      <td>5000</td>\n",
       "      <td>3</td>\n",
       "      <td>NaN</td>\n",
       "      <td>subaru</td>\n",
       "      <td>NaN</td>\n",
       "      <td>2016-03-09 00:00:00</td>\n",
       "      <td>0</td>\n",
       "      <td>53577</td>\n",
       "      <td>2016-03-15 05:15:17</td>\n",
       "    </tr>\n",
       "    <tr>\n",
       "      <th>53577</th>\n",
       "      <td>2016-03-20 11:44:28</td>\n",
       "      <td>330</td>\n",
       "      <td>NaN</td>\n",
       "      <td>1000</td>\n",
       "      <td>NaN</td>\n",
       "      <td>60</td>\n",
       "      <td>polo</td>\n",
       "      <td>5000</td>\n",
       "      <td>0</td>\n",
       "      <td>NaN</td>\n",
       "      <td>volkswagen</td>\n",
       "      <td>NaN</td>\n",
       "      <td>2016-03-20 00:00:00</td>\n",
       "      <td>0</td>\n",
       "      <td>45259</td>\n",
       "      <td>2016-04-04 08:17:15</td>\n",
       "    </tr>\n",
       "    <tr>\n",
       "      <th>56241</th>\n",
       "      <td>2016-03-30 18:54:27</td>\n",
       "      <td>950</td>\n",
       "      <td>NaN</td>\n",
       "      <td>1400</td>\n",
       "      <td>manual</td>\n",
       "      <td>101</td>\n",
       "      <td>golf</td>\n",
       "      <td>125000</td>\n",
       "      <td>4</td>\n",
       "      <td>petrol</td>\n",
       "      <td>volkswagen</td>\n",
       "      <td>NaN</td>\n",
       "      <td>2016-03-30 00:00:00</td>\n",
       "      <td>0</td>\n",
       "      <td>50389</td>\n",
       "      <td>2016-04-03 09:45:19</td>\n",
       "    </tr>\n",
       "    <tr>\n",
       "      <th>71459</th>\n",
       "      <td>2016-03-27 23:46:28</td>\n",
       "      <td>500</td>\n",
       "      <td>NaN</td>\n",
       "      <td>1000</td>\n",
       "      <td>NaN</td>\n",
       "      <td>101</td>\n",
       "      <td>golf</td>\n",
       "      <td>5000</td>\n",
       "      <td>0</td>\n",
       "      <td>NaN</td>\n",
       "      <td>volkswagen</td>\n",
       "      <td>NaN</td>\n",
       "      <td>2016-03-27 00:00:00</td>\n",
       "      <td>0</td>\n",
       "      <td>91628</td>\n",
       "      <td>2016-03-29 13:46:49</td>\n",
       "    </tr>\n",
       "  </tbody>\n",
       "</table>\n",
       "</div>"
      ],
      "text/plain": [
       "               DateCrawled  Price VehicleType  RegistrationYear Gearbox  \\\n",
       "16062  2016-03-29 23:42:16    190         NaN              1000     NaN   \n",
       "18224  2016-03-09 17:49:44   7999         NaN              1500  manual   \n",
       "53577  2016-03-20 11:44:28    330         NaN              1000     NaN   \n",
       "56241  2016-03-30 18:54:27    950         NaN              1400  manual   \n",
       "71459  2016-03-27 23:46:28    500         NaN              1000     NaN   \n",
       "\n",
       "       Power    Model  Kilometer  RegistrationMonth FuelType       Brand  \\\n",
       "16062    131   mondeo       5000                  0      NaN        ford   \n",
       "18224    224  impreza       5000                  3      NaN      subaru   \n",
       "53577     60     polo       5000                  0      NaN  volkswagen   \n",
       "56241    101     golf     125000                  4   petrol  volkswagen   \n",
       "71459    101     golf       5000                  0      NaN  volkswagen   \n",
       "\n",
       "      NotRepaired          DateCreated  NumberOfPictures  PostalCode  \\\n",
       "16062         NaN  2016-03-29 00:00:00                 0       47166   \n",
       "18224         NaN  2016-03-09 00:00:00                 0       53577   \n",
       "53577         NaN  2016-03-20 00:00:00                 0       45259   \n",
       "56241         NaN  2016-03-30 00:00:00                 0       50389   \n",
       "71459         NaN  2016-03-27 00:00:00                 0       91628   \n",
       "\n",
       "                  LastSeen  \n",
       "16062  2016-04-06 10:44:58  \n",
       "18224  2016-03-15 05:15:17  \n",
       "53577  2016-04-04 08:17:15  \n",
       "56241  2016-04-03 09:45:19  \n",
       "71459  2016-03-29 13:46:49  "
      ]
     },
     "metadata": {},
     "output_type": "display_data"
    }
   ],
   "source": [
    "# выведем первые пять строк таблицы на экран\n",
    "display(df.loc[df['RegistrationYear'] > 2022].head())\n",
    "display(df.loc[df['RegistrationYear'] < 1900].head())"
   ]
  },
  {
   "cell_type": "markdown",
   "metadata": {},
   "source": [
    "Цену с неправильным годом регистрации также будет сложно предсказать, такие объявления могут внести ошибки в модель. Таких объектов мало, и данные по многим другим признакам также пропущены. Удалим эти аномалии."
   ]
  },
  {
   "cell_type": "code",
   "execution_count": 226,
   "metadata": {},
   "outputs": [],
   "source": [
    "# отсеиваем года более 2022\n",
    "df = df.loc[df['RegistrationYear'] <= 2022]\n",
    "# отсеиваем года ранее 1900\n",
    "df = df.loc[df['RegistrationYear'] >= 1900]"
   ]
  },
  {
   "cell_type": "markdown",
   "metadata": {},
   "source": [
    "##### Просмотр обработки результатов"
   ]
  },
  {
   "cell_type": "markdown",
   "metadata": {},
   "source": [
    "Посмотрим теперь на технические характеристики после обработки аномалий:"
   ]
  },
  {
   "cell_type": "code",
   "execution_count": 227,
   "metadata": {},
   "outputs": [
    {
     "data": {
      "text/html": [
       "<div>\n",
       "<style scoped>\n",
       "    .dataframe tbody tr th:only-of-type {\n",
       "        vertical-align: middle;\n",
       "    }\n",
       "\n",
       "    .dataframe tbody tr th {\n",
       "        vertical-align: top;\n",
       "    }\n",
       "\n",
       "    .dataframe thead th {\n",
       "        text-align: right;\n",
       "    }\n",
       "</style>\n",
       "<table border=\"1\" class=\"dataframe\">\n",
       "  <thead>\n",
       "    <tr style=\"text-align: right;\">\n",
       "      <th></th>\n",
       "      <th>Price</th>\n",
       "      <th>RegistrationYear</th>\n",
       "      <th>Power</th>\n",
       "      <th>Kilometer</th>\n",
       "      <th>RegistrationMonth</th>\n",
       "      <th>NumberOfPictures</th>\n",
       "      <th>PostalCode</th>\n",
       "    </tr>\n",
       "  </thead>\n",
       "  <tbody>\n",
       "    <tr>\n",
       "      <th>count</th>\n",
       "      <td>325985.000000</td>\n",
       "      <td>325985.000000</td>\n",
       "      <td>325985.000000</td>\n",
       "      <td>325985.000000</td>\n",
       "      <td>325985.000000</td>\n",
       "      <td>325985.0</td>\n",
       "      <td>325985.000000</td>\n",
       "    </tr>\n",
       "    <tr>\n",
       "      <th>mean</th>\n",
       "      <td>4623.374517</td>\n",
       "      <td>2003.268147</td>\n",
       "      <td>118.725451</td>\n",
       "      <td>128597.067350</td>\n",
       "      <td>5.853966</td>\n",
       "      <td>0.0</td>\n",
       "      <td>50817.638002</td>\n",
       "    </tr>\n",
       "    <tr>\n",
       "      <th>std</th>\n",
       "      <td>4530.487896</td>\n",
       "      <td>7.061790</td>\n",
       "      <td>51.326833</td>\n",
       "      <td>36963.747615</td>\n",
       "      <td>3.665989</td>\n",
       "      <td>0.0</td>\n",
       "      <td>25722.540727</td>\n",
       "    </tr>\n",
       "    <tr>\n",
       "      <th>min</th>\n",
       "      <td>1.000000</td>\n",
       "      <td>1910.000000</td>\n",
       "      <td>1.000000</td>\n",
       "      <td>5000.000000</td>\n",
       "      <td>0.000000</td>\n",
       "      <td>0.0</td>\n",
       "      <td>1067.000000</td>\n",
       "    </tr>\n",
       "    <tr>\n",
       "      <th>25%</th>\n",
       "      <td>1200.000000</td>\n",
       "      <td>1999.000000</td>\n",
       "      <td>75.000000</td>\n",
       "      <td>125000.000000</td>\n",
       "      <td>3.000000</td>\n",
       "      <td>0.0</td>\n",
       "      <td>30519.000000</td>\n",
       "    </tr>\n",
       "    <tr>\n",
       "      <th>50%</th>\n",
       "      <td>2950.000000</td>\n",
       "      <td>2003.000000</td>\n",
       "      <td>110.000000</td>\n",
       "      <td>150000.000000</td>\n",
       "      <td>6.000000</td>\n",
       "      <td>0.0</td>\n",
       "      <td>49661.000000</td>\n",
       "    </tr>\n",
       "    <tr>\n",
       "      <th>75%</th>\n",
       "      <td>6650.000000</td>\n",
       "      <td>2008.000000</td>\n",
       "      <td>144.000000</td>\n",
       "      <td>150000.000000</td>\n",
       "      <td>9.000000</td>\n",
       "      <td>0.0</td>\n",
       "      <td>71336.000000</td>\n",
       "    </tr>\n",
       "    <tr>\n",
       "      <th>max</th>\n",
       "      <td>20000.000000</td>\n",
       "      <td>2019.000000</td>\n",
       "      <td>400.000000</td>\n",
       "      <td>150000.000000</td>\n",
       "      <td>12.000000</td>\n",
       "      <td>0.0</td>\n",
       "      <td>99998.000000</td>\n",
       "    </tr>\n",
       "  </tbody>\n",
       "</table>\n",
       "</div>"
      ],
      "text/plain": [
       "               Price  RegistrationYear          Power      Kilometer  \\\n",
       "count  325985.000000     325985.000000  325985.000000  325985.000000   \n",
       "mean     4623.374517       2003.268147     118.725451  128597.067350   \n",
       "std      4530.487896          7.061790      51.326833   36963.747615   \n",
       "min         1.000000       1910.000000       1.000000    5000.000000   \n",
       "25%      1200.000000       1999.000000      75.000000  125000.000000   \n",
       "50%      2950.000000       2003.000000     110.000000  150000.000000   \n",
       "75%      6650.000000       2008.000000     144.000000  150000.000000   \n",
       "max     20000.000000       2019.000000     400.000000  150000.000000   \n",
       "\n",
       "       RegistrationMonth  NumberOfPictures     PostalCode  \n",
       "count      325985.000000          325985.0  325985.000000  \n",
       "mean            5.853966               0.0   50817.638002  \n",
       "std             3.665989               0.0   25722.540727  \n",
       "min             0.000000               0.0    1067.000000  \n",
       "25%             3.000000               0.0   30519.000000  \n",
       "50%             6.000000               0.0   49661.000000  \n",
       "75%             9.000000               0.0   71336.000000  \n",
       "max            12.000000               0.0   99998.000000  "
      ]
     },
     "execution_count": 227,
     "metadata": {},
     "output_type": "execute_result"
    }
   ],
   "source": [
    "df.describe()"
   ]
  },
  {
   "cell_type": "markdown",
   "metadata": {},
   "source": [
    "#### Удаление ненужных данных"
   ]
  },
  {
   "cell_type": "markdown",
   "metadata": {},
   "source": [
    "Для начала удалим столбцы которые нам не понадобятся для предсказания цены."
   ]
  },
  {
   "cell_type": "code",
   "execution_count": 228,
   "metadata": {},
   "outputs": [],
   "source": [
    "# создаем список столбцов для удаления\n",
    "list_del_column = ['DateCrawled', 'DateCreated', 'NumberOfPictures', 'LastSeen', 'PostalCode']\n",
    "# удаляем столбцы\n",
    "df = df.drop(columns=list_del_column)"
   ]
  },
  {
   "cell_type": "markdown",
   "metadata": {},
   "source": [
    "Создадим список для категориальных столбцов (в дальнейшем он нам понадобится):"
   ]
  },
  {
   "cell_type": "code",
   "execution_count": 229,
   "metadata": {},
   "outputs": [],
   "source": [
    "category_columns = ['VehicleType', 'Gearbox', 'Model', 'RegistrationMonth', 'FuelType', 'Brand', 'NotRepaired']"
   ]
  },
  {
   "cell_type": "markdown",
   "metadata": {},
   "source": [
    "#### Обработка пропусков"
   ]
  },
  {
   "cell_type": "markdown",
   "metadata": {},
   "source": [
    "Как нам стало известно из предварительного анализа датасета мы имеем пропуски в данных. Посмотрим на них:"
   ]
  },
  {
   "cell_type": "code",
   "execution_count": 230,
   "metadata": {},
   "outputs": [
    {
     "name": "stdout",
     "output_type": "stream",
     "text": [
      "NotRepaired          58217\n",
      "VehicleType          28080\n",
      "FuelType             23490\n",
      "Gearbox              14205\n",
      "Price                    0\n",
      "RegistrationYear         0\n",
      "Power                    0\n",
      "Model                    0\n",
      "Kilometer                0\n",
      "RegistrationMonth        0\n",
      "Brand                    0\n",
      "dtype: int64\n"
     ]
    }
   ],
   "source": [
    "print(df.isna().sum().sort_values(ascending=False))"
   ]
  },
  {
   "cell_type": "markdown",
   "metadata": {},
   "source": [
    "Заполним пропуски в столбцах на значение ``'Nan'``:"
   ]
  },
  {
   "cell_type": "code",
   "execution_count": 231,
   "metadata": {},
   "outputs": [],
   "source": [
    "df[category_columns] = df[category_columns].fillna('Nan')"
   ]
  },
  {
   "cell_type": "markdown",
   "metadata": {},
   "source": [
    "Проверим прошло ли изменение:"
   ]
  },
  {
   "cell_type": "code",
   "execution_count": 232,
   "metadata": {},
   "outputs": [
    {
     "name": "stdout",
     "output_type": "stream",
     "text": [
      "Количество пропусков в датасете =  0\n"
     ]
    }
   ],
   "source": [
    "print(\"Количество пропусков в датасете = \", df.isna().sum().sum())"
   ]
  },
  {
   "cell_type": "markdown",
   "metadata": {},
   "source": [
    "Как видим изменения прошли успешно."
   ]
  },
  {
   "cell_type": "markdown",
   "metadata": {},
   "source": [
    "#### Изменение типа данных"
   ]
  },
  {
   "cell_type": "code",
   "execution_count": 233,
   "metadata": {},
   "outputs": [],
   "source": [
    "# изменим тип данных категориальных столбцов на \"category\"\n",
    "for col in category_columns:\n",
    "    df[col] = df[col].astype('category')"
   ]
  },
  {
   "cell_type": "markdown",
   "metadata": {},
   "source": [
    "### Разбивка данных на выборки"
   ]
  },
  {
   "cell_type": "markdown",
   "metadata": {},
   "source": [
    "Определим целевое значение и признаки. Из задания нам известен целевой признак, это ``Price`` — цена (евро)."
   ]
  },
  {
   "cell_type": "code",
   "execution_count": 234,
   "metadata": {},
   "outputs": [],
   "source": [
    "X = df.drop(columns='Price') # признаки\n",
    "y = df['Price'] # целевое значение"
   ]
  },
  {
   "cell_type": "markdown",
   "metadata": {},
   "source": [
    "Разобьем данные на train и test:"
   ]
  },
  {
   "cell_type": "code",
   "execution_count": 235,
   "metadata": {},
   "outputs": [],
   "source": [
    "# задаем значение random_state\n",
    "rand = 13"
   ]
  },
  {
   "cell_type": "code",
   "execution_count": 236,
   "metadata": {},
   "outputs": [],
   "source": [
    "# разделяемм данные на train и test\n",
    "X_train, X_test, y_train, y_test = train_test_split(X, y, test_size=0.2, random_state=rand)"
   ]
  },
  {
   "cell_type": "markdown",
   "metadata": {},
   "source": [
    "``Train`` дополнительно разобьем на ``train_valid`` и ``valid``:"
   ]
  },
  {
   "cell_type": "code",
   "execution_count": 237,
   "metadata": {},
   "outputs": [],
   "source": [
    "X_train_valid, X_valid, y_train_valid, y_valid = train_test_split(X_train, y_train, test_size=0.2, random_state=rand)"
   ]
  },
  {
   "cell_type": "markdown",
   "metadata": {},
   "source": [
    "Посмотрим на размеры выборок:"
   ]
  },
  {
   "cell_type": "code",
   "execution_count": 238,
   "metadata": {},
   "outputs": [
    {
     "name": "stdout",
     "output_type": "stream",
     "text": [
      "X_train: (260788, 10)\n",
      "y_train: (260788,)\n",
      "X_test: (65197, 10)\n",
      "y_test: (65197,)\n",
      "\n",
      "X_train_valid: (208630, 10)\n",
      "y_train_valid: (208630,)\n",
      "X_valid: (52158, 10)\n",
      "y_valid: (52158,)\n"
     ]
    }
   ],
   "source": [
    "print('X_train:', X_train.shape)\n",
    "print('y_train:', y_train.shape)\n",
    "print('X_test:', X_test.shape)\n",
    "print('y_test:', y_test.shape)\n",
    "print('\\nX_train_valid:', X_train_valid.shape)\n",
    "print('y_train_valid:', y_train_valid.shape)\n",
    "print('X_valid:', X_valid.shape)\n",
    "print('y_valid:', y_valid.shape)"
   ]
  },
  {
   "cell_type": "markdown",
   "metadata": {},
   "source": [
    "### Вывод"
   ]
  },
  {
   "cell_type": "markdown",
   "metadata": {},
   "source": [
    "Мы открыли и изучили файл с данными, а также сохранили их в отдельной переменной. Провели предобработку данных: удалили ненужные для предсказания столбцы, обработали пропущенные значения, а также произвели разбивку данных на выборки."
   ]
  },
  {
   "cell_type": "markdown",
   "metadata": {},
   "source": [
    "## Обучение моделей"
   ]
  },
  {
   "cell_type": "markdown",
   "metadata": {},
   "source": [
    "В данном разделе напишем функцию для расчета параметров времени и RMSE, затем выполним проверку трех моделей: ``LightGBM``, ``CatBoost`` и ``Ridge``. Для каждой модели найдем наилучшие гиперпараметры и произведем расчет времени обучения на ``train`` выборке."
   ]
  },
  {
   "cell_type": "markdown",
   "metadata": {},
   "source": [
    "### Функция для расчета параметров времени и RMSE"
   ]
  },
  {
   "cell_type": "markdown",
   "metadata": {},
   "source": [
    "Напишем функцию, на вход которой будут подаваться модель и датасеты(выборки) и она будет возвращать время обучения, время предсказания и RMSE."
   ]
  },
  {
   "cell_type": "code",
   "execution_count": 239,
   "metadata": {},
   "outputs": [],
   "source": [
    "def calculation_model_parameter(model, X_train, y_train, X_test, y_test):\n",
    "    '''\n",
    "    Функция принимает на вход модель и датасеты для обучения модели и расчета предсказаний.\n",
    "    Возвращает время обучения, время предсказания и RMSE.\n",
    "    '''\n",
    "    \n",
    "    start = time.time() # сохраняем значение времени перед обучением\n",
    "    model.fit(X_train, y_train) # обучаем модель\n",
    "    training_time = time.time() - start # рассчитываем время обучения\n",
    "    \n",
    "    start = time.time() # # сохраняем значение времени перед обучением\n",
    "    y_pred = model.predict(X_test) # получаем предсказания\n",
    "    predict_time = time.time() - start # рассчитываем время предсказания\n",
    "\n",
    "    return training_time, predict_time, mse(y_test, y_pred)**0.5 # возвращаем время обучения, время предсказания и RMSE"
   ]
  },
  {
   "cell_type": "markdown",
   "metadata": {},
   "source": [
    "### Проверка моделей"
   ]
  },
  {
   "cell_type": "markdown",
   "metadata": {},
   "source": [
    "Выполним проверку трех моделей: ``Ridge``,``CatBoost`` и ``LightGBM``."
   ]
  },
  {
   "cell_type": "markdown",
   "metadata": {},
   "source": [
    "#### Модель ``Ridge``"
   ]
  },
  {
   "cell_type": "markdown",
   "metadata": {},
   "source": [
    "Найдем лучшие параметры модели ``Ridge`` на кросс-валидации:"
   ]
  },
  {
   "cell_type": "code",
   "execution_count": 240,
   "metadata": {},
   "outputs": [],
   "source": [
    "model_Ridge = GridSearchCV(Pipeline([                # инициализируем пайплайн\n",
    "    ('ohe', OneHotEncoder(handle_unknown='ignore')), # кодируем признаки\n",
    "    ('scaler', StandardScaler(with_mean=False)),     # масштабируем признаки\n",
    "    ('model', Ridge(random_state=rand))              # модель \"Ridge\"\n",
    "]),\n",
    "                    param_grid = [{'model__alpha': np.logspace(-2, 2, 20)}],\n",
    "                    cv = KFold(n_splits=3, shuffle=True, random_state=rand),\n",
    "                    scoring='neg_mean_squared_error',\n",
    "                    n_jobs=-1,\n",
    "                    verbose=False)"
   ]
  },
  {
   "cell_type": "markdown",
   "metadata": {},
   "source": [
    "Произведем расчет времени обучения:"
   ]
  },
  {
   "cell_type": "code",
   "execution_count": 241,
   "metadata": {},
   "outputs": [
    {
     "name": "stdout",
     "output_type": "stream",
     "text": [
      "CPU times: user 51 s, sys: 24.9 ms, total: 51.1 s\n",
      "Wall time: 52.5 s\n"
     ]
    },
    {
     "data": {
      "text/plain": [
       "GridSearchCV(cv=KFold(n_splits=3, random_state=13, shuffle=True),\n",
       "             estimator=Pipeline(steps=[('ohe',\n",
       "                                        OneHotEncoder(handle_unknown='ignore')),\n",
       "                                       ('scaler',\n",
       "                                        StandardScaler(with_mean=False)),\n",
       "                                       ('model', Ridge(random_state=13))]),\n",
       "             n_jobs=-1,\n",
       "             param_grid=[{'model__alpha': array([1.00000000e-02, 1.62377674e-02, 2.63665090e-02, 4.28133240e-02,\n",
       "       6.95192796e-02, 1.12883789e-01, 1.83298071e-01, 2.97635144e-01,\n",
       "       4.83293024e-01, 7.84759970e-01, 1.27427499e+00, 2.06913808e+00,\n",
       "       3.35981829e+00, 5.45559478e+00, 8.85866790e+00, 1.43844989e+01,\n",
       "       2.33572147e+01, 3.79269019e+01, 6.15848211e+01, 1.00000000e+02])}],\n",
       "             scoring='neg_mean_squared_error', verbose=False)"
      ]
     },
     "execution_count": 241,
     "metadata": {},
     "output_type": "execute_result"
    }
   ],
   "source": [
    "%%time\n",
    "model_Ridge.fit(X_train_valid, y_train_valid);"
   ]
  },
  {
   "cell_type": "code",
   "execution_count": 242,
   "metadata": {},
   "outputs": [
    {
     "data": {
      "text/plain": [
       "{'model__alpha': 100.0}"
      ]
     },
     "execution_count": 242,
     "metadata": {},
     "output_type": "execute_result"
    }
   ],
   "source": [
    "# наилучшие результаты\n",
    "model_Ridge.best_params_"
   ]
  },
  {
   "cell_type": "markdown",
   "metadata": {},
   "source": [
    "#### Модель ``CatBoost``"
   ]
  },
  {
   "cell_type": "code",
   "execution_count": 243,
   "metadata": {},
   "outputs": [],
   "source": [
    "# закодируем данные\n",
    "encoders = {}\n",
    "for i in category_columns:\n",
    "    encoders[i] = preprocessing.LabelEncoder()\n",
    "    df[i] = encoders[i].fit_transform(df[i])"
   ]
  },
  {
   "cell_type": "markdown",
   "metadata": {},
   "source": [
    "Найдем лучшие параметры модели ``CatBoost`` на кросс-валидации:"
   ]
  },
  {
   "cell_type": "code",
   "execution_count": 244,
   "metadata": {},
   "outputs": [],
   "source": [
    "model_CatBoost = GridSearchCV(\n",
    "    CatBoostRegressor(random_seed=rand, loss_function='RMSE', silent=True, cat_features=category_columns),\n",
    "    {'learning_rate': np.logspace(-3, 0, 5), 'iterations': [40, 60], 'depth': [6, 8, 10]},\n",
    "    cv = KFold(n_splits=3, shuffle=True, random_state=rand),\n",
    "    scoring='neg_mean_squared_error',\n",
    "    verbose=False)"
   ]
  },
  {
   "cell_type": "markdown",
   "metadata": {},
   "source": [
    "Произведем расчет времени обучения:"
   ]
  },
  {
   "cell_type": "code",
   "execution_count": 245,
   "metadata": {},
   "outputs": [
    {
     "name": "stdout",
     "output_type": "stream",
     "text": [
      "CPU times: user 17min 18s, sys: 4.22 s, total: 17min 22s\n",
      "Wall time: 19min 49s\n"
     ]
    },
    {
     "data": {
      "text/plain": [
       "GridSearchCV(cv=KFold(n_splits=3, random_state=13, shuffle=True),\n",
       "             estimator=<catboost.core.CatBoostRegressor object at 0x7f740759dbb0>,\n",
       "             param_grid={'depth': [6, 8, 10], 'iterations': [40, 60],\n",
       "                         'learning_rate': array([0.001     , 0.00562341, 0.03162278, 0.17782794, 1.        ])},\n",
       "             scoring='neg_mean_squared_error', verbose=False)"
      ]
     },
     "execution_count": 245,
     "metadata": {},
     "output_type": "execute_result"
    }
   ],
   "source": [
    "%%time\n",
    "model_CatBoost.fit(X_train_valid, y_train_valid)"
   ]
  },
  {
   "cell_type": "code",
   "execution_count": 246,
   "metadata": {},
   "outputs": [
    {
     "data": {
      "text/plain": [
       "{'depth': 10, 'iterations': 60, 'learning_rate': 0.1778279410038923}"
      ]
     },
     "execution_count": 246,
     "metadata": {},
     "output_type": "execute_result"
    }
   ],
   "source": [
    "# наилучшие результаты\n",
    "model_CatBoost.best_params_"
   ]
  },
  {
   "cell_type": "markdown",
   "metadata": {},
   "source": [
    "#### Модель ``LightGBM``"
   ]
  },
  {
   "cell_type": "code",
   "execution_count": 247,
   "metadata": {},
   "outputs": [],
   "source": [
    "gbm = lgb.LGBMRegressor(boosting_type='gbdt', verbose=0, seed=rand)\n",
    "\n",
    "\n",
    "params = {\n",
    "    'learning_rate': [1.0],\n",
    "    'max_depth': [15],\n",
    "    'num_leaves': [41],\n",
    "    'force_col_wise': ['True'],\n",
    "}\n",
    "\n",
    "model_LGBM = GridSearchCV(gbm,\n",
    "                        params,\n",
    "                        cv = KFold(n_splits=3, shuffle=True, random_state=rand),\n",
    "                        scoring='neg_mean_squared_error',\n",
    "                        verbose=True)"
   ]
  },
  {
   "cell_type": "markdown",
   "metadata": {},
   "source": [
    "Произведем расчет времени обучения:"
   ]
  },
  {
   "cell_type": "code",
   "execution_count": 248,
   "metadata": {},
   "outputs": [
    {
     "name": "stdout",
     "output_type": "stream",
     "text": [
      "Fitting 3 folds for each of 1 candidates, totalling 3 fits\n",
      "CPU times: user 3min 15s, sys: 872 ms, total: 3min 15s\n",
      "Wall time: 3min 17s\n"
     ]
    },
    {
     "data": {
      "text/plain": [
       "GridSearchCV(cv=KFold(n_splits=3, random_state=13, shuffle=True),\n",
       "             estimator=LGBMRegressor(seed=13, verbose=0),\n",
       "             param_grid={'force_col_wise': ['True'], 'learning_rate': [1.0],\n",
       "                         'max_depth': [15], 'num_leaves': [41]},\n",
       "             scoring='neg_mean_squared_error', verbose=True)"
      ]
     },
     "execution_count": 248,
     "metadata": {},
     "output_type": "execute_result"
    }
   ],
   "source": [
    "%%time\n",
    "model_LGBM.fit(X_train_valid, y_train_valid)"
   ]
  },
  {
   "cell_type": "code",
   "execution_count": 249,
   "metadata": {},
   "outputs": [
    {
     "data": {
      "text/plain": [
       "{'force_col_wise': 'True',\n",
       " 'learning_rate': 1.0,\n",
       " 'max_depth': 15,\n",
       " 'num_leaves': 41}"
      ]
     },
     "execution_count": 249,
     "metadata": {},
     "output_type": "execute_result"
    }
   ],
   "source": [
    "# наилучшие результаты\n",
    "model_LGBM.best_params_"
   ]
  },
  {
   "cell_type": "markdown",
   "metadata": {},
   "source": [
    "## Анализ моделей"
   ]
  },
  {
   "cell_type": "markdown",
   "metadata": {},
   "source": [
    "Сведем все данные в один датафрейм и посмотрим результаты на валидационной выборке:"
   ]
  },
  {
   "cell_type": "code",
   "execution_count": 250,
   "metadata": {},
   "outputs": [],
   "source": [
    "# создадим лист для записи параметров моделей\n",
    "list_params_model = []"
   ]
  },
  {
   "cell_type": "code",
   "execution_count": 251,
   "metadata": {},
   "outputs": [],
   "source": [
    "# добавляем параметры модели \"Ridge\"\n",
    "list_params_model.append(calculation_model_parameter(model_Ridge.best_estimator_,\n",
    "                                                     X_train_valid, y_train_valid, X_valid, y_valid))\n",
    "\n",
    "# добавляем параметры модели \"CatBoost\"\n",
    "list_params_model.append(calculation_model_parameter(model_CatBoost.best_estimator_,\n",
    "                                                     X_train_valid, y_train_valid, X_valid, y_valid))\n",
    "\n",
    "# добавляем параметры модели \"LightGBM\"\n",
    "list_params_model.append(calculation_model_parameter(model_LGBM.best_estimator_,\n",
    "                                                     X_train_valid, y_train_valid, X_valid, y_valid))"
   ]
  },
  {
   "cell_type": "markdown",
   "metadata": {},
   "source": [
    "Выведем на экран таблицу результатов:"
   ]
  },
  {
   "cell_type": "code",
   "execution_count": 252,
   "metadata": {},
   "outputs": [
    {
     "data": {
      "text/html": [
       "<div>\n",
       "<style scoped>\n",
       "    .dataframe tbody tr th:only-of-type {\n",
       "        vertical-align: middle;\n",
       "    }\n",
       "\n",
       "    .dataframe tbody tr th {\n",
       "        vertical-align: top;\n",
       "    }\n",
       "\n",
       "    .dataframe thead th {\n",
       "        text-align: right;\n",
       "    }\n",
       "</style>\n",
       "<table border=\"1\" class=\"dataframe\">\n",
       "  <thead>\n",
       "    <tr style=\"text-align: right;\">\n",
       "      <th></th>\n",
       "      <th>Время обучения</th>\n",
       "      <th>Время предсказания</th>\n",
       "      <th>RMSE</th>\n",
       "    </tr>\n",
       "  </thead>\n",
       "  <tbody>\n",
       "    <tr>\n",
       "      <th>Модель \"Ridge\"</th>\n",
       "      <td>1.040817</td>\n",
       "      <td>0.117271</td>\n",
       "      <td>2039.330668</td>\n",
       "    </tr>\n",
       "    <tr>\n",
       "      <th>Модель \"CatBoost\"</th>\n",
       "      <td>24.699027</td>\n",
       "      <td>0.067964</td>\n",
       "      <td>1716.956645</td>\n",
       "    </tr>\n",
       "    <tr>\n",
       "      <th>Модель \"LightGBM\"</th>\n",
       "      <td>7.446241</td>\n",
       "      <td>0.503243</td>\n",
       "      <td>1789.971372</td>\n",
       "    </tr>\n",
       "  </tbody>\n",
       "</table>\n",
       "</div>"
      ],
      "text/plain": [
       "                   Время обучения  Время предсказания         RMSE\n",
       "Модель \"Ridge\"           1.040817            0.117271  2039.330668\n",
       "Модель \"CatBoost\"       24.699027            0.067964  1716.956645\n",
       "Модель \"LightGBM\"        7.446241            0.503243  1789.971372"
      ]
     },
     "execution_count": 252,
     "metadata": {},
     "output_type": "execute_result"
    }
   ],
   "source": [
    "# создание датафрейма\n",
    "pd.DataFrame(data=list_params_model,\n",
    "             index=['Модель \"Ridge\"', 'Модель \"CatBoost\"', 'Модель \"LightGBM\"'],\n",
    "             columns=['Время обучения', 'Время предсказания', 'RMSE'])"
   ]
  },
  {
   "cell_type": "markdown",
   "metadata": {},
   "source": [
    "По моему мнению в данном случае наиболее подходящей моделью, с **оптимальным качеством и быстродействием** оказался: ``LightGBM``"
   ]
  },
  {
   "cell_type": "markdown",
   "metadata": {},
   "source": [
    "## Общий вывод"
   ]
  },
  {
   "cell_type": "markdown",
   "metadata": {},
   "source": [
    "В процессе проведения исследовательского анализа данных мы открыли и изучили файл, проанализировали признаки. Провели предобработку данных, обработали пропущенные значения и избавились от ненужных для предсказания цены данных.\n",
    "\n",
    "В разделе \"обучение моделей\" написали функцию для расчета параметров времени и RMSE, затем выполнили проверку трех моделей: ``Ridge``, ``CatBoost`` и ``LightGBM``. Для каждой модели нашли наилучшие гиперпараметры и произвели расчет времени обучения на ``train`` выборке. Наилучшей моделью c моей точки зрения показала себя ``LightGBM``.\n",
    "\n",
    "**``P.S.``**\n",
    "* Для обучения моделей перепробовал огромное количество гиперпараметров с разными значениями, но для ускорения обучения оставил только несколько из них, иначе попросту тонна времени уходила на проверку!!!"
   ]
  }
 ],
 "metadata": {
  "ExecuteTimeLog": [
   {
    "duration": 1318,
    "start_time": "2022-04-15T13:00:21.211Z"
   },
   {
    "duration": 1756,
    "start_time": "2022-04-16T03:21:41.810Z"
   },
   {
    "duration": 5,
    "start_time": "2022-04-16T03:23:21.241Z"
   },
   {
    "duration": 1108,
    "start_time": "2022-04-16T03:24:43.562Z"
   },
   {
    "duration": 1219,
    "start_time": "2022-04-16T03:25:14.101Z"
   },
   {
    "duration": 149,
    "start_time": "2022-04-16T03:26:06.632Z"
   },
   {
    "duration": 31,
    "start_time": "2022-04-16T03:26:12.881Z"
   },
   {
    "duration": 3,
    "start_time": "2022-04-16T03:27:04.932Z"
   },
   {
    "duration": 166,
    "start_time": "2022-04-16T03:27:48.391Z"
   },
   {
    "duration": 5,
    "start_time": "2022-04-16T03:27:58.471Z"
   },
   {
    "duration": 121,
    "start_time": "2022-04-16T03:29:59.541Z"
   },
   {
    "duration": 13,
    "start_time": "2022-04-16T03:35:05.921Z"
   },
   {
    "duration": 30,
    "start_time": "2022-04-16T03:35:15.911Z"
   },
   {
    "duration": 22,
    "start_time": "2022-04-16T03:35:21.332Z"
   },
   {
    "duration": 5,
    "start_time": "2022-04-16T03:35:30.482Z"
   },
   {
    "duration": 1119,
    "start_time": "2022-04-16T03:35:30.492Z"
   },
   {
    "duration": 26,
    "start_time": "2022-04-16T03:35:31.614Z"
   },
   {
    "duration": 9,
    "start_time": "2022-04-16T03:35:31.642Z"
   },
   {
    "duration": 189,
    "start_time": "2022-04-16T03:35:31.654Z"
   },
   {
    "duration": 127,
    "start_time": "2022-04-16T03:35:31.845Z"
   },
   {
    "duration": 31,
    "start_time": "2022-04-16T03:35:31.974Z"
   },
   {
    "duration": 3,
    "start_time": "2022-04-16T03:38:49.451Z"
   },
   {
    "duration": 103,
    "start_time": "2022-04-16T03:43:47.193Z"
   },
   {
    "duration": 105,
    "start_time": "2022-04-16T03:45:40.923Z"
   },
   {
    "duration": 101,
    "start_time": "2022-04-16T03:46:21.172Z"
   },
   {
    "duration": 205,
    "start_time": "2022-04-16T03:57:58.323Z"
   },
   {
    "duration": 98,
    "start_time": "2022-04-16T03:58:41.813Z"
   },
   {
    "duration": 100,
    "start_time": "2022-04-16T03:58:51.714Z"
   },
   {
    "duration": 100,
    "start_time": "2022-04-16T03:59:29.813Z"
   },
   {
    "duration": 4,
    "start_time": "2022-04-16T04:07:08.904Z"
   },
   {
    "duration": 98,
    "start_time": "2022-04-16T04:07:11.003Z"
   },
   {
    "duration": 28,
    "start_time": "2022-04-16T04:32:02.104Z"
   },
   {
    "duration": 4,
    "start_time": "2022-04-16T04:36:54.933Z"
   },
   {
    "duration": 165,
    "start_time": "2022-04-16T04:37:00.373Z"
   },
   {
    "duration": 189,
    "start_time": "2022-04-16T04:37:30.613Z"
   },
   {
    "duration": 129,
    "start_time": "2022-04-16T04:38:26.873Z"
   },
   {
    "duration": 12,
    "start_time": "2022-04-16T04:46:49.995Z"
   },
   {
    "duration": 13,
    "start_time": "2022-04-16T04:47:57.725Z"
   },
   {
    "duration": 13,
    "start_time": "2022-04-16T04:48:56.765Z"
   },
   {
    "duration": 12,
    "start_time": "2022-04-16T04:49:13.955Z"
   },
   {
    "duration": 15,
    "start_time": "2022-04-16T04:51:55.895Z"
   },
   {
    "duration": 162,
    "start_time": "2022-04-16T04:52:09.375Z"
   },
   {
    "duration": 16,
    "start_time": "2022-04-16T04:52:19.945Z"
   },
   {
    "duration": 123,
    "start_time": "2022-04-16T04:52:25.535Z"
   },
   {
    "duration": 125,
    "start_time": "2022-04-16T04:52:34.076Z"
   },
   {
    "duration": 7,
    "start_time": "2022-04-16T04:52:42.576Z"
   },
   {
    "duration": 7,
    "start_time": "2022-04-16T04:52:57.515Z"
   },
   {
    "duration": 8,
    "start_time": "2022-04-16T04:53:33.845Z"
   },
   {
    "duration": 9,
    "start_time": "2022-04-16T04:54:17.076Z"
   },
   {
    "duration": 8,
    "start_time": "2022-04-16T04:54:41.596Z"
   },
   {
    "duration": 6,
    "start_time": "2022-04-16T05:34:39.262Z"
   },
   {
    "duration": 3,
    "start_time": "2022-04-16T05:41:01.672Z"
   },
   {
    "duration": 18,
    "start_time": "2022-04-16T05:58:47.742Z"
   },
   {
    "duration": 7,
    "start_time": "2022-04-16T05:59:32.513Z"
   },
   {
    "duration": 6,
    "start_time": "2022-04-16T05:59:47.312Z"
   },
   {
    "duration": 5,
    "start_time": "2022-04-16T06:44:24.009Z"
   },
   {
    "duration": 1098,
    "start_time": "2022-04-16T06:44:24.048Z"
   },
   {
    "duration": 21,
    "start_time": "2022-04-16T06:44:25.148Z"
   },
   {
    "duration": 10,
    "start_time": "2022-04-16T06:44:25.171Z"
   },
   {
    "duration": 185,
    "start_time": "2022-04-16T06:44:25.184Z"
   },
   {
    "duration": 138,
    "start_time": "2022-04-16T06:44:25.371Z"
   },
   {
    "duration": 33,
    "start_time": "2022-04-16T06:44:25.512Z"
   },
   {
    "duration": 5,
    "start_time": "2022-04-16T06:44:25.548Z"
   },
   {
    "duration": 131,
    "start_time": "2022-04-16T06:44:25.556Z"
   },
   {
    "duration": 196,
    "start_time": "2022-04-16T06:44:25.690Z"
   },
   {
    "duration": 109,
    "start_time": "2022-04-16T06:44:25.890Z"
   },
   {
    "duration": 40,
    "start_time": "2022-04-16T06:44:26.002Z"
   },
   {
    "duration": 4,
    "start_time": "2022-04-16T06:44:26.045Z"
   },
   {
    "duration": 201,
    "start_time": "2022-04-16T06:44:26.052Z"
   },
   {
    "duration": 149,
    "start_time": "2022-04-16T06:44:26.256Z"
   },
   {
    "duration": 19,
    "start_time": "2022-04-16T06:44:26.407Z"
   },
   {
    "duration": 6,
    "start_time": "2022-04-16T06:44:28.908Z"
   },
   {
    "duration": 6,
    "start_time": "2022-04-16T06:47:59.889Z"
   },
   {
    "duration": 6,
    "start_time": "2022-04-16T06:49:43.459Z"
   },
   {
    "duration": 65879,
    "start_time": "2022-04-16T06:50:07.109Z"
   },
   {
    "duration": 5,
    "start_time": "2022-04-16T06:52:39.179Z"
   },
   {
    "duration": 7,
    "start_time": "2022-04-16T06:55:50.319Z"
   },
   {
    "duration": 332,
    "start_time": "2022-04-16T07:00:35.500Z"
   },
   {
    "duration": 509,
    "start_time": "2022-04-16T07:01:01.641Z"
   },
   {
    "duration": 5,
    "start_time": "2022-04-16T07:02:24.410Z"
   },
   {
    "duration": 1174,
    "start_time": "2022-04-16T07:02:24.440Z"
   },
   {
    "duration": 27,
    "start_time": "2022-04-16T07:02:25.618Z"
   },
   {
    "duration": 22,
    "start_time": "2022-04-16T07:02:25.647Z"
   },
   {
    "duration": 203,
    "start_time": "2022-04-16T07:02:25.673Z"
   },
   {
    "duration": 130,
    "start_time": "2022-04-16T07:02:25.878Z"
   },
   {
    "duration": 33,
    "start_time": "2022-04-16T07:02:26.010Z"
   },
   {
    "duration": 4,
    "start_time": "2022-04-16T07:02:26.045Z"
   },
   {
    "duration": 125,
    "start_time": "2022-04-16T07:02:26.051Z"
   },
   {
    "duration": 189,
    "start_time": "2022-04-16T07:02:26.178Z"
   },
   {
    "duration": 103,
    "start_time": "2022-04-16T07:02:26.371Z"
   },
   {
    "duration": 53,
    "start_time": "2022-04-16T07:02:26.476Z"
   },
   {
    "duration": 3,
    "start_time": "2022-04-16T07:02:26.531Z"
   },
   {
    "duration": 200,
    "start_time": "2022-04-16T07:02:26.536Z"
   },
   {
    "duration": 148,
    "start_time": "2022-04-16T07:02:26.738Z"
   },
   {
    "duration": 8,
    "start_time": "2022-04-16T07:02:26.888Z"
   },
   {
    "duration": 26,
    "start_time": "2022-04-16T07:02:26.898Z"
   },
   {
    "duration": 511,
    "start_time": "2022-04-16T07:02:26.927Z"
   },
   {
    "duration": 0,
    "start_time": "2022-04-16T07:02:27.440Z"
   },
   {
    "duration": 0,
    "start_time": "2022-04-16T07:02:27.442Z"
   },
   {
    "duration": 0,
    "start_time": "2022-04-16T07:02:27.443Z"
   },
   {
    "duration": 503,
    "start_time": "2022-04-16T07:07:55.690Z"
   },
   {
    "duration": 2046,
    "start_time": "2022-04-16T07:17:54.000Z"
   },
   {
    "duration": 2578,
    "start_time": "2022-04-16T07:18:10.100Z"
   },
   {
    "duration": 2053,
    "start_time": "2022-04-16T07:18:40.801Z"
   },
   {
    "duration": 45,
    "start_time": "2022-04-16T07:18:58.671Z"
   },
   {
    "duration": 2202,
    "start_time": "2022-04-16T07:20:00.570Z"
   },
   {
    "duration": 2487,
    "start_time": "2022-04-16T07:20:10.021Z"
   },
   {
    "duration": 35,
    "start_time": "2022-04-16T07:20:36.141Z"
   },
   {
    "duration": 41,
    "start_time": "2022-04-16T07:20:45.871Z"
   },
   {
    "duration": 56,
    "start_time": "2022-04-16T07:22:15.451Z"
   },
   {
    "duration": 14,
    "start_time": "2022-04-16T07:22:57.251Z"
   },
   {
    "duration": 12,
    "start_time": "2022-04-16T07:23:06.250Z"
   },
   {
    "duration": 12,
    "start_time": "2022-04-16T07:23:16.951Z"
   },
   {
    "duration": 336,
    "start_time": "2022-04-16T07:23:33.711Z"
   },
   {
    "duration": 316,
    "start_time": "2022-04-16T07:23:42.961Z"
   },
   {
    "duration": 33,
    "start_time": "2022-04-16T07:24:05.941Z"
   },
   {
    "duration": 136,
    "start_time": "2022-04-16T07:27:31.800Z"
   },
   {
    "duration": 2722,
    "start_time": "2022-04-16T07:28:28.611Z"
   },
   {
    "duration": 6,
    "start_time": "2022-04-16T07:30:38.531Z"
   },
   {
    "duration": 1129,
    "start_time": "2022-04-16T07:30:38.571Z"
   },
   {
    "duration": 30,
    "start_time": "2022-04-16T07:30:39.703Z"
   },
   {
    "duration": 7,
    "start_time": "2022-04-16T07:30:39.736Z"
   },
   {
    "duration": 186,
    "start_time": "2022-04-16T07:30:39.746Z"
   },
   {
    "duration": 131,
    "start_time": "2022-04-16T07:30:39.934Z"
   },
   {
    "duration": 29,
    "start_time": "2022-04-16T07:30:40.068Z"
   },
   {
    "duration": 3,
    "start_time": "2022-04-16T07:30:40.100Z"
   },
   {
    "duration": 113,
    "start_time": "2022-04-16T07:30:40.126Z"
   },
   {
    "duration": 221,
    "start_time": "2022-04-16T07:30:40.242Z"
   },
   {
    "duration": 110,
    "start_time": "2022-04-16T07:30:40.468Z"
   },
   {
    "duration": 48,
    "start_time": "2022-04-16T07:30:40.581Z"
   },
   {
    "duration": 4,
    "start_time": "2022-04-16T07:30:40.631Z"
   },
   {
    "duration": 180,
    "start_time": "2022-04-16T07:30:40.637Z"
   },
   {
    "duration": 142,
    "start_time": "2022-04-16T07:30:40.820Z"
   },
   {
    "duration": 8,
    "start_time": "2022-04-16T07:30:40.964Z"
   },
   {
    "duration": 9,
    "start_time": "2022-04-16T07:30:40.974Z"
   },
   {
    "duration": 2739,
    "start_time": "2022-04-16T07:30:40.985Z"
   },
   {
    "duration": 5,
    "start_time": "2022-04-16T07:30:43.726Z"
   },
   {
    "duration": 4226,
    "start_time": "2022-04-16T07:30:43.733Z"
   },
   {
    "duration": 5,
    "start_time": "2022-04-16T07:30:47.961Z"
   },
   {
    "duration": 6,
    "start_time": "2022-04-16T07:31:23.141Z"
   },
   {
    "duration": 1103,
    "start_time": "2022-04-16T07:31:23.191Z"
   },
   {
    "duration": 27,
    "start_time": "2022-04-16T07:31:24.297Z"
   },
   {
    "duration": 5,
    "start_time": "2022-04-16T07:31:24.327Z"
   },
   {
    "duration": 189,
    "start_time": "2022-04-16T07:31:24.335Z"
   },
   {
    "duration": 127,
    "start_time": "2022-04-16T07:31:24.527Z"
   },
   {
    "duration": 30,
    "start_time": "2022-04-16T07:31:24.656Z"
   },
   {
    "duration": 4,
    "start_time": "2022-04-16T07:31:24.688Z"
   },
   {
    "duration": 132,
    "start_time": "2022-04-16T07:31:24.695Z"
   },
   {
    "duration": 210,
    "start_time": "2022-04-16T07:31:24.829Z"
   },
   {
    "duration": 104,
    "start_time": "2022-04-16T07:31:25.043Z"
   },
   {
    "duration": 35,
    "start_time": "2022-04-16T07:31:25.149Z"
   },
   {
    "duration": 3,
    "start_time": "2022-04-16T07:31:25.187Z"
   },
   {
    "duration": 196,
    "start_time": "2022-04-16T07:31:25.193Z"
   },
   {
    "duration": 134,
    "start_time": "2022-04-16T07:31:25.391Z"
   },
   {
    "duration": 10,
    "start_time": "2022-04-16T07:31:25.527Z"
   },
   {
    "duration": 6,
    "start_time": "2022-04-16T07:31:25.540Z"
   },
   {
    "duration": 2813,
    "start_time": "2022-04-16T07:31:25.548Z"
   },
   {
    "duration": 7,
    "start_time": "2022-04-16T07:32:19.101Z"
   },
   {
    "duration": 61697,
    "start_time": "2022-04-16T07:32:21.601Z"
   },
   {
    "duration": 6,
    "start_time": "2022-04-16T07:33:45.671Z"
   },
   {
    "duration": 6,
    "start_time": "2022-04-16T07:35:41.422Z"
   },
   {
    "duration": 1247037,
    "start_time": "2022-04-16T07:35:56.871Z"
   },
   {
    "duration": 5,
    "start_time": "2022-04-16T08:01:44.055Z"
   },
   {
    "duration": 200,
    "start_time": "2022-04-16T08:06:17.403Z"
   },
   {
    "duration": 23,
    "start_time": "2022-04-16T08:06:44.183Z"
   },
   {
    "duration": 6,
    "start_time": "2022-04-16T08:06:54.624Z"
   },
   {
    "duration": 5,
    "start_time": "2022-04-16T08:08:04.804Z"
   },
   {
    "duration": 135,
    "start_time": "2022-04-16T08:30:48.164Z"
   },
   {
    "duration": 5,
    "start_time": "2022-04-16T08:31:23.094Z"
   },
   {
    "duration": 144,
    "start_time": "2022-04-16T08:31:28.411Z"
   },
   {
    "duration": 5,
    "start_time": "2022-04-16T08:31:54.414Z"
   },
   {
    "duration": 810,
    "start_time": "2022-04-16T08:32:00.804Z"
   },
   {
    "duration": 6,
    "start_time": "2022-04-16T08:37:39.364Z"
   },
   {
    "duration": 590,
    "start_time": "2022-04-16T08:37:43.245Z"
   },
   {
    "duration": 480,
    "start_time": "2022-04-16T08:38:41.293Z"
   },
   {
    "duration": 604,
    "start_time": "2022-04-16T08:39:46.164Z"
   },
   {
    "duration": 259,
    "start_time": "2022-04-16T08:40:06.635Z"
   },
   {
    "duration": 6,
    "start_time": "2022-04-16T08:41:56.024Z"
   },
   {
    "duration": 70,
    "start_time": "2022-04-16T08:43:33.725Z"
   },
   {
    "duration": 55,
    "start_time": "2022-04-16T08:46:00.576Z"
   },
   {
    "duration": 257,
    "start_time": "2022-04-16T08:46:20.265Z"
   },
   {
    "duration": 517,
    "start_time": "2022-04-16T08:46:30.945Z"
   },
   {
    "duration": 11,
    "start_time": "2022-04-16T08:54:14.175Z"
   },
   {
    "duration": 517,
    "start_time": "2022-04-16T08:54:24.175Z"
   },
   {
    "duration": 125,
    "start_time": "2022-04-16T08:54:46.205Z"
   },
   {
    "duration": 529,
    "start_time": "2022-04-16T08:55:58.625Z"
   },
   {
    "duration": 6,
    "start_time": "2022-04-16T08:56:46.675Z"
   },
   {
    "duration": 3158,
    "start_time": "2022-04-16T08:57:13.694Z"
   },
   {
    "duration": 4060,
    "start_time": "2022-04-16T08:58:41.295Z"
   },
   {
    "duration": 240,
    "start_time": "2022-04-16T09:00:01.125Z"
   },
   {
    "duration": 5,
    "start_time": "2022-04-16T09:00:53.145Z"
   },
   {
    "duration": 1001,
    "start_time": "2022-04-16T09:00:53.164Z"
   },
   {
    "duration": 20,
    "start_time": "2022-04-16T09:00:54.168Z"
   },
   {
    "duration": 9,
    "start_time": "2022-04-16T09:00:54.191Z"
   },
   {
    "duration": 186,
    "start_time": "2022-04-16T09:00:54.203Z"
   },
   {
    "duration": 122,
    "start_time": "2022-04-16T09:00:54.391Z"
   },
   {
    "duration": 27,
    "start_time": "2022-04-16T09:00:54.524Z"
   },
   {
    "duration": 4,
    "start_time": "2022-04-16T09:00:54.553Z"
   },
   {
    "duration": 123,
    "start_time": "2022-04-16T09:00:54.559Z"
   },
   {
    "duration": 208,
    "start_time": "2022-04-16T09:00:54.684Z"
   },
   {
    "duration": 96,
    "start_time": "2022-04-16T09:00:54.896Z"
   },
   {
    "duration": 53,
    "start_time": "2022-04-16T09:00:54.994Z"
   },
   {
    "duration": 4,
    "start_time": "2022-04-16T09:00:55.050Z"
   },
   {
    "duration": 202,
    "start_time": "2022-04-16T09:00:55.056Z"
   },
   {
    "duration": 154,
    "start_time": "2022-04-16T09:00:55.261Z"
   },
   {
    "duration": 11,
    "start_time": "2022-04-16T09:00:55.418Z"
   },
   {
    "duration": 5,
    "start_time": "2022-04-16T09:00:58.526Z"
   },
   {
    "duration": 237,
    "start_time": "2022-04-16T09:01:01.775Z"
   },
   {
    "duration": 158,
    "start_time": "2022-04-16T09:05:38.684Z"
   },
   {
    "duration": 236,
    "start_time": "2022-04-16T09:05:42.436Z"
   },
   {
    "duration": 133,
    "start_time": "2022-04-16T09:05:59.534Z"
   },
   {
    "duration": 251,
    "start_time": "2022-04-16T09:06:05.504Z"
   },
   {
    "duration": 6,
    "start_time": "2022-04-16T09:06:53.564Z"
   },
   {
    "duration": 1062,
    "start_time": "2022-04-16T09:06:53.594Z"
   },
   {
    "duration": 295,
    "start_time": "2022-04-16T09:06:54.659Z"
   },
   {
    "duration": 22,
    "start_time": "2022-04-16T09:06:54.957Z"
   },
   {
    "duration": 11,
    "start_time": "2022-04-16T09:06:54.982Z"
   },
   {
    "duration": 185,
    "start_time": "2022-04-16T09:06:54.995Z"
   },
   {
    "duration": 128,
    "start_time": "2022-04-16T09:06:55.183Z"
   },
   {
    "duration": 32,
    "start_time": "2022-04-16T09:06:55.313Z"
   },
   {
    "duration": 4,
    "start_time": "2022-04-16T09:06:55.348Z"
   },
   {
    "duration": 127,
    "start_time": "2022-04-16T09:06:55.354Z"
   },
   {
    "duration": 187,
    "start_time": "2022-04-16T09:06:55.484Z"
   },
   {
    "duration": 104,
    "start_time": "2022-04-16T09:06:55.674Z"
   },
   {
    "duration": 55,
    "start_time": "2022-04-16T09:06:55.780Z"
   },
   {
    "duration": 4,
    "start_time": "2022-04-16T09:06:55.837Z"
   },
   {
    "duration": 183,
    "start_time": "2022-04-16T09:06:55.844Z"
   },
   {
    "duration": 143,
    "start_time": "2022-04-16T09:06:56.030Z"
   },
   {
    "duration": 9,
    "start_time": "2022-04-16T09:06:56.175Z"
   },
   {
    "duration": 6,
    "start_time": "2022-04-16T09:06:57.934Z"
   },
   {
    "duration": 242,
    "start_time": "2022-04-16T09:06:59.304Z"
   },
   {
    "duration": 7,
    "start_time": "2022-04-16T09:07:19.774Z"
   },
   {
    "duration": 1110,
    "start_time": "2022-04-16T09:07:19.793Z"
   },
   {
    "duration": 27,
    "start_time": "2022-04-16T09:07:20.906Z"
   },
   {
    "duration": 9,
    "start_time": "2022-04-16T09:07:20.936Z"
   },
   {
    "duration": 192,
    "start_time": "2022-04-16T09:07:20.948Z"
   },
   {
    "duration": 134,
    "start_time": "2022-04-16T09:07:21.143Z"
   },
   {
    "duration": 52,
    "start_time": "2022-04-16T09:07:21.280Z"
   },
   {
    "duration": 4,
    "start_time": "2022-04-16T09:07:21.335Z"
   },
   {
    "duration": 122,
    "start_time": "2022-04-16T09:07:21.342Z"
   },
   {
    "duration": 201,
    "start_time": "2022-04-16T09:07:21.467Z"
   },
   {
    "duration": 110,
    "start_time": "2022-04-16T09:07:21.673Z"
   },
   {
    "duration": 59,
    "start_time": "2022-04-16T09:07:21.786Z"
   },
   {
    "duration": 4,
    "start_time": "2022-04-16T09:07:21.848Z"
   },
   {
    "duration": 192,
    "start_time": "2022-04-16T09:07:21.855Z"
   },
   {
    "duration": 148,
    "start_time": "2022-04-16T09:07:22.049Z"
   },
   {
    "duration": 25,
    "start_time": "2022-04-16T09:07:22.200Z"
   },
   {
    "duration": 15,
    "start_time": "2022-04-16T09:07:22.228Z"
   },
   {
    "duration": 251,
    "start_time": "2022-04-16T09:07:22.246Z"
   },
   {
    "duration": 0,
    "start_time": "2022-04-16T09:07:22.500Z"
   },
   {
    "duration": 0,
    "start_time": "2022-04-16T09:07:22.503Z"
   },
   {
    "duration": 192,
    "start_time": "2022-04-16T09:07:58.624Z"
   },
   {
    "duration": 7,
    "start_time": "2022-04-16T09:08:03.325Z"
   },
   {
    "duration": 1077,
    "start_time": "2022-04-16T09:08:03.364Z"
   },
   {
    "duration": 21,
    "start_time": "2022-04-16T09:08:04.444Z"
   },
   {
    "duration": 17,
    "start_time": "2022-04-16T09:08:04.467Z"
   },
   {
    "duration": 186,
    "start_time": "2022-04-16T09:08:04.487Z"
   },
   {
    "duration": 127,
    "start_time": "2022-04-16T09:08:04.675Z"
   },
   {
    "duration": 38,
    "start_time": "2022-04-16T09:08:04.804Z"
   },
   {
    "duration": 4,
    "start_time": "2022-04-16T09:08:04.844Z"
   },
   {
    "duration": 119,
    "start_time": "2022-04-16T09:08:04.850Z"
   },
   {
    "duration": 218,
    "start_time": "2022-04-16T09:08:04.971Z"
   },
   {
    "duration": 100,
    "start_time": "2022-04-16T09:08:05.193Z"
   },
   {
    "duration": 50,
    "start_time": "2022-04-16T09:08:05.295Z"
   },
   {
    "duration": 4,
    "start_time": "2022-04-16T09:08:05.347Z"
   },
   {
    "duration": 201,
    "start_time": "2022-04-16T09:08:05.353Z"
   },
   {
    "duration": 143,
    "start_time": "2022-04-16T09:08:05.557Z"
   },
   {
    "duration": 8,
    "start_time": "2022-04-16T09:08:05.703Z"
   },
   {
    "duration": 8,
    "start_time": "2022-04-16T09:08:05.725Z"
   },
   {
    "duration": 251,
    "start_time": "2022-04-16T09:08:05.735Z"
   },
   {
    "duration": 0,
    "start_time": "2022-04-16T09:08:05.989Z"
   },
   {
    "duration": 163,
    "start_time": "2022-04-16T09:08:25.164Z"
   },
   {
    "duration": 5,
    "start_time": "2022-04-16T09:08:31.917Z"
   },
   {
    "duration": 1034,
    "start_time": "2022-04-16T09:08:31.933Z"
   },
   {
    "duration": 22,
    "start_time": "2022-04-16T09:08:32.970Z"
   },
   {
    "duration": 25,
    "start_time": "2022-04-16T09:08:32.994Z"
   },
   {
    "duration": 203,
    "start_time": "2022-04-16T09:08:33.026Z"
   },
   {
    "duration": 134,
    "start_time": "2022-04-16T09:08:33.231Z"
   },
   {
    "duration": 28,
    "start_time": "2022-04-16T09:08:33.367Z"
   },
   {
    "duration": 13,
    "start_time": "2022-04-16T09:08:33.398Z"
   },
   {
    "duration": 110,
    "start_time": "2022-04-16T09:08:33.425Z"
   },
   {
    "duration": 205,
    "start_time": "2022-04-16T09:08:33.537Z"
   },
   {
    "duration": 102,
    "start_time": "2022-04-16T09:08:33.746Z"
   },
   {
    "duration": 78,
    "start_time": "2022-04-16T09:08:33.850Z"
   },
   {
    "duration": 4,
    "start_time": "2022-04-16T09:08:33.930Z"
   },
   {
    "duration": 192,
    "start_time": "2022-04-16T09:08:33.936Z"
   },
   {
    "duration": 144,
    "start_time": "2022-04-16T09:08:34.131Z"
   },
   {
    "duration": 10,
    "start_time": "2022-04-16T09:08:34.277Z"
   },
   {
    "duration": 7,
    "start_time": "2022-04-16T09:08:36.184Z"
   },
   {
    "duration": 245,
    "start_time": "2022-04-16T09:25:28.925Z"
   },
   {
    "duration": 12,
    "start_time": "2022-04-16T09:25:52.496Z"
   },
   {
    "duration": 1221,
    "start_time": "2022-04-16T09:25:52.511Z"
   },
   {
    "duration": 30,
    "start_time": "2022-04-16T09:25:53.736Z"
   },
   {
    "duration": 31,
    "start_time": "2022-04-16T09:25:53.769Z"
   },
   {
    "duration": 212,
    "start_time": "2022-04-16T09:25:53.804Z"
   },
   {
    "duration": 178,
    "start_time": "2022-04-16T09:25:54.019Z"
   },
   {
    "duration": 48,
    "start_time": "2022-04-16T09:25:54.200Z"
   },
   {
    "duration": 5,
    "start_time": "2022-04-16T09:25:54.251Z"
   },
   {
    "duration": 156,
    "start_time": "2022-04-16T09:25:54.258Z"
   },
   {
    "duration": 311,
    "start_time": "2022-04-16T09:25:54.418Z"
   },
   {
    "duration": 201,
    "start_time": "2022-04-16T09:25:54.734Z"
   },
   {
    "duration": 65,
    "start_time": "2022-04-16T09:25:54.938Z"
   },
   {
    "duration": 13,
    "start_time": "2022-04-16T09:25:55.006Z"
   },
   {
    "duration": 193,
    "start_time": "2022-04-16T09:25:55.022Z"
   },
   {
    "duration": 151,
    "start_time": "2022-04-16T09:25:55.218Z"
   },
   {
    "duration": 10,
    "start_time": "2022-04-16T09:25:55.373Z"
   },
   {
    "duration": 11,
    "start_time": "2022-04-16T09:25:57.307Z"
   },
   {
    "duration": 4720,
    "start_time": "2022-04-16T09:25:57.926Z"
   },
   {
    "duration": 7,
    "start_time": "2022-04-16T09:26:02.651Z"
   },
   {
    "duration": 43425,
    "start_time": "2022-04-16T09:26:02.662Z"
   },
   {
    "duration": 19,
    "start_time": "2022-04-16T09:26:46.091Z"
   },
   {
    "duration": 1,
    "start_time": "2022-04-16T09:26:46.112Z"
   },
   {
    "duration": 0,
    "start_time": "2022-04-16T09:26:46.114Z"
   },
   {
    "duration": 0,
    "start_time": "2022-04-16T09:26:46.116Z"
   },
   {
    "duration": 0,
    "start_time": "2022-04-16T09:26:46.117Z"
   },
   {
    "duration": 6,
    "start_time": "2022-04-16T09:26:49.752Z"
   },
   {
    "duration": 1267,
    "start_time": "2022-04-16T09:26:49.761Z"
   },
   {
    "duration": 22,
    "start_time": "2022-04-16T09:26:51.031Z"
   },
   {
    "duration": 10,
    "start_time": "2022-04-16T09:26:51.056Z"
   },
   {
    "duration": 192,
    "start_time": "2022-04-16T09:26:51.071Z"
   },
   {
    "duration": 131,
    "start_time": "2022-04-16T09:26:51.267Z"
   },
   {
    "duration": 42,
    "start_time": "2022-04-16T09:26:51.401Z"
   },
   {
    "duration": 4,
    "start_time": "2022-04-16T09:26:51.446Z"
   },
   {
    "duration": 213,
    "start_time": "2022-04-16T09:26:51.453Z"
   },
   {
    "duration": 328,
    "start_time": "2022-04-16T09:26:51.669Z"
   },
   {
    "duration": 208,
    "start_time": "2022-04-16T09:26:52.000Z"
   },
   {
    "duration": 44,
    "start_time": "2022-04-16T09:26:52.213Z"
   },
   {
    "duration": 3,
    "start_time": "2022-04-16T09:26:52.260Z"
   },
   {
    "duration": 194,
    "start_time": "2022-04-16T09:26:52.267Z"
   },
   {
    "duration": 166,
    "start_time": "2022-04-16T09:26:52.464Z"
   },
   {
    "duration": 9,
    "start_time": "2022-04-16T09:26:52.633Z"
   },
   {
    "duration": 13,
    "start_time": "2022-04-16T09:26:52.646Z"
   },
   {
    "duration": 7,
    "start_time": "2022-04-16T09:26:52.662Z"
   },
   {
    "duration": 1218143,
    "start_time": "2022-04-16T09:26:52.673Z"
   },
   {
    "duration": 18,
    "start_time": "2022-04-16T09:47:10.820Z"
   },
   {
    "duration": 0,
    "start_time": "2022-04-16T09:47:10.842Z"
   },
   {
    "duration": 0,
    "start_time": "2022-04-16T09:47:10.844Z"
   },
   {
    "duration": 0,
    "start_time": "2022-04-16T09:47:10.847Z"
   },
   {
    "duration": 0,
    "start_time": "2022-04-16T09:47:10.849Z"
   },
   {
    "duration": 0,
    "start_time": "2022-04-16T09:47:10.852Z"
   },
   {
    "duration": 6,
    "start_time": "2022-04-16T09:48:52.266Z"
   },
   {
    "duration": 1051,
    "start_time": "2022-04-16T09:48:52.295Z"
   },
   {
    "duration": 30,
    "start_time": "2022-04-16T09:48:53.350Z"
   },
   {
    "duration": 7,
    "start_time": "2022-04-16T09:48:53.382Z"
   },
   {
    "duration": 318,
    "start_time": "2022-04-16T09:48:53.393Z"
   },
   {
    "duration": 131,
    "start_time": "2022-04-16T09:48:53.713Z"
   },
   {
    "duration": 28,
    "start_time": "2022-04-16T09:48:53.847Z"
   },
   {
    "duration": 4,
    "start_time": "2022-04-16T09:48:53.877Z"
   },
   {
    "duration": 144,
    "start_time": "2022-04-16T09:48:53.883Z"
   },
   {
    "duration": 214,
    "start_time": "2022-04-16T09:48:54.031Z"
   },
   {
    "duration": 111,
    "start_time": "2022-04-16T09:48:54.249Z"
   },
   {
    "duration": 33,
    "start_time": "2022-04-16T09:48:54.362Z"
   },
   {
    "duration": 3,
    "start_time": "2022-04-16T09:48:54.398Z"
   },
   {
    "duration": 181,
    "start_time": "2022-04-16T09:48:54.426Z"
   },
   {
    "duration": 150,
    "start_time": "2022-04-16T09:48:54.610Z"
   },
   {
    "duration": 9,
    "start_time": "2022-04-16T09:48:54.762Z"
   },
   {
    "duration": 10,
    "start_time": "2022-04-16T09:48:54.774Z"
   },
   {
    "duration": 5,
    "start_time": "2022-04-16T09:48:56.926Z"
   },
   {
    "duration": 4,
    "start_time": "2022-04-16T09:48:57.756Z"
   },
   {
    "duration": 3,
    "start_time": "2022-04-16T09:48:57.956Z"
   },
   {
    "duration": 5,
    "start_time": "2022-04-16T09:49:00.036Z"
   },
   {
    "duration": 4,
    "start_time": "2022-04-16T09:49:01.426Z"
   },
   {
    "duration": 3,
    "start_time": "2022-04-16T09:49:01.626Z"
   },
   {
    "duration": 291,
    "start_time": "2022-04-16T09:49:02.887Z"
   },
   {
    "duration": 5378,
    "start_time": "2022-04-16T09:49:03.506Z"
   },
   {
    "duration": 6,
    "start_time": "2022-04-16T09:49:19.306Z"
   },
   {
    "duration": 4222,
    "start_time": "2022-04-16T09:49:25.406Z"
   },
   {
    "duration": 144,
    "start_time": "2022-04-16T09:52:25.887Z"
   },
   {
    "duration": 137,
    "start_time": "2022-04-16T09:52:56.156Z"
   },
   {
    "duration": 2731,
    "start_time": "2022-04-16T09:54:15.097Z"
   },
   {
    "duration": 304,
    "start_time": "2022-04-16T10:03:52.640Z"
   },
   {
    "duration": 6,
    "start_time": "2022-04-16T10:03:59.838Z"
   },
   {
    "duration": 1101,
    "start_time": "2022-04-16T10:03:59.868Z"
   },
   {
    "duration": 23,
    "start_time": "2022-04-16T10:04:00.972Z"
   },
   {
    "duration": 31,
    "start_time": "2022-04-16T10:04:00.997Z"
   },
   {
    "duration": 177,
    "start_time": "2022-04-16T10:04:01.032Z"
   },
   {
    "duration": 136,
    "start_time": "2022-04-16T10:04:01.212Z"
   },
   {
    "duration": 31,
    "start_time": "2022-04-16T10:04:01.351Z"
   },
   {
    "duration": 4,
    "start_time": "2022-04-16T10:04:01.385Z"
   },
   {
    "duration": 286,
    "start_time": "2022-04-16T10:04:01.392Z"
   },
   {
    "duration": 16,
    "start_time": "2022-04-16T10:04:01.680Z"
   },
   {
    "duration": 49,
    "start_time": "2022-04-16T10:04:01.699Z"
   },
   {
    "duration": 0,
    "start_time": "2022-04-16T10:04:01.750Z"
   },
   {
    "duration": 0,
    "start_time": "2022-04-16T10:04:01.752Z"
   },
   {
    "duration": 0,
    "start_time": "2022-04-16T10:04:01.753Z"
   },
   {
    "duration": 0,
    "start_time": "2022-04-16T10:04:01.755Z"
   },
   {
    "duration": 0,
    "start_time": "2022-04-16T10:04:01.757Z"
   },
   {
    "duration": 0,
    "start_time": "2022-04-16T10:04:01.758Z"
   },
   {
    "duration": 7,
    "start_time": "2022-04-16T10:04:03.778Z"
   },
   {
    "duration": 6,
    "start_time": "2022-04-16T10:04:08.518Z"
   },
   {
    "duration": 3,
    "start_time": "2022-04-16T10:04:10.858Z"
   },
   {
    "duration": 3,
    "start_time": "2022-04-16T10:04:11.215Z"
   },
   {
    "duration": 4,
    "start_time": "2022-04-16T10:04:12.538Z"
   },
   {
    "duration": 4,
    "start_time": "2022-04-16T10:04:13.557Z"
   },
   {
    "duration": 4,
    "start_time": "2022-04-16T10:04:13.918Z"
   },
   {
    "duration": 2676,
    "start_time": "2022-04-16T10:04:16.068Z"
   },
   {
    "duration": 41,
    "start_time": "2022-04-16T10:05:48.147Z"
   },
   {
    "duration": 1313,
    "start_time": "2022-04-16T10:07:26.848Z"
   },
   {
    "duration": 6,
    "start_time": "2022-04-16T10:07:36.568Z"
   },
   {
    "duration": 2011,
    "start_time": "2022-04-16T10:07:36.582Z"
   },
   {
    "duration": 34,
    "start_time": "2022-04-16T10:07:38.596Z"
   },
   {
    "duration": 11,
    "start_time": "2022-04-16T10:07:38.633Z"
   },
   {
    "duration": 144,
    "start_time": "2022-04-16T10:07:38.649Z"
   },
   {
    "duration": 146,
    "start_time": "2022-04-16T10:07:38.795Z"
   },
   {
    "duration": 28,
    "start_time": "2022-04-16T10:07:38.944Z"
   },
   {
    "duration": 11,
    "start_time": "2022-04-16T10:07:38.975Z"
   },
   {
    "duration": 292,
    "start_time": "2022-04-16T10:07:38.989Z"
   },
   {
    "duration": 15,
    "start_time": "2022-04-16T10:07:39.284Z"
   },
   {
    "duration": 42,
    "start_time": "2022-04-16T10:07:39.303Z"
   },
   {
    "duration": 0,
    "start_time": "2022-04-16T10:07:39.347Z"
   },
   {
    "duration": 0,
    "start_time": "2022-04-16T10:07:39.348Z"
   },
   {
    "duration": 0,
    "start_time": "2022-04-16T10:07:39.349Z"
   },
   {
    "duration": 0,
    "start_time": "2022-04-16T10:07:39.351Z"
   },
   {
    "duration": 0,
    "start_time": "2022-04-16T10:07:39.352Z"
   },
   {
    "duration": 0,
    "start_time": "2022-04-16T10:07:39.353Z"
   },
   {
    "duration": 0,
    "start_time": "2022-04-16T10:07:39.354Z"
   },
   {
    "duration": 5,
    "start_time": "2022-04-16T10:07:41.129Z"
   },
   {
    "duration": 3,
    "start_time": "2022-04-16T10:07:41.778Z"
   },
   {
    "duration": 3,
    "start_time": "2022-04-16T10:07:42.048Z"
   },
   {
    "duration": 4,
    "start_time": "2022-04-16T10:07:42.548Z"
   },
   {
    "duration": 3,
    "start_time": "2022-04-16T10:07:43.138Z"
   },
   {
    "duration": 3,
    "start_time": "2022-04-16T10:07:43.298Z"
   },
   {
    "duration": 2838,
    "start_time": "2022-04-16T10:07:44.158Z"
   },
   {
    "duration": 1036,
    "start_time": "2022-04-16T10:08:29.777Z"
   },
   {
    "duration": 57,
    "start_time": "2022-04-16T10:10:49.298Z"
   },
   {
    "duration": 585,
    "start_time": "2022-04-16T10:11:02.358Z"
   },
   {
    "duration": 137,
    "start_time": "2022-04-16T10:13:18.108Z"
   },
   {
    "duration": 49,
    "start_time": "2022-04-16T10:13:31.748Z"
   },
   {
    "duration": 96,
    "start_time": "2022-04-16T10:15:06.638Z"
   },
   {
    "duration": 848,
    "start_time": "2022-04-16T10:20:58.602Z"
   },
   {
    "duration": 2910,
    "start_time": "2022-04-16T10:21:22.881Z"
   },
   {
    "duration": 6,
    "start_time": "2022-04-16T10:22:12.149Z"
   },
   {
    "duration": 1089,
    "start_time": "2022-04-16T10:22:12.158Z"
   },
   {
    "duration": 22,
    "start_time": "2022-04-16T10:22:13.249Z"
   },
   {
    "duration": 20,
    "start_time": "2022-04-16T10:22:13.273Z"
   },
   {
    "duration": 187,
    "start_time": "2022-04-16T10:22:13.296Z"
   },
   {
    "duration": 129,
    "start_time": "2022-04-16T10:22:13.486Z"
   },
   {
    "duration": 28,
    "start_time": "2022-04-16T10:22:13.625Z"
   },
   {
    "duration": 17,
    "start_time": "2022-04-16T10:22:13.656Z"
   },
   {
    "duration": 453,
    "start_time": "2022-04-16T10:22:13.676Z"
   },
   {
    "duration": 1053,
    "start_time": "2022-04-16T10:22:14.132Z"
   },
   {
    "duration": 21,
    "start_time": "2022-04-16T10:22:15.188Z"
   },
   {
    "duration": 58,
    "start_time": "2022-04-16T10:22:15.212Z"
   },
   {
    "duration": 14,
    "start_time": "2022-04-16T10:22:15.273Z"
   },
   {
    "duration": 54,
    "start_time": "2022-04-16T10:22:15.291Z"
   },
   {
    "duration": 23,
    "start_time": "2022-04-16T10:22:15.348Z"
   },
   {
    "duration": 75,
    "start_time": "2022-04-16T10:22:15.374Z"
   },
   {
    "duration": 55,
    "start_time": "2022-04-16T10:22:15.452Z"
   },
   {
    "duration": 22,
    "start_time": "2022-04-16T10:22:15.510Z"
   },
   {
    "duration": 20,
    "start_time": "2022-04-16T10:22:15.535Z"
   },
   {
    "duration": 6,
    "start_time": "2022-04-16T10:22:20.161Z"
   },
   {
    "duration": 5,
    "start_time": "2022-04-16T10:22:21.752Z"
   },
   {
    "duration": 5,
    "start_time": "2022-04-16T10:22:21.990Z"
   },
   {
    "duration": 4,
    "start_time": "2022-04-16T10:22:22.961Z"
   },
   {
    "duration": 3,
    "start_time": "2022-04-16T10:22:23.691Z"
   },
   {
    "duration": 4,
    "start_time": "2022-04-16T10:22:24.010Z"
   },
   {
    "duration": 4,
    "start_time": "2022-04-16T10:22:27.571Z"
   },
   {
    "duration": 418410,
    "start_time": "2022-04-16T10:22:28.992Z"
   },
   {
    "duration": 18,
    "start_time": "2022-04-16T10:29:48.701Z"
   },
   {
    "duration": 6,
    "start_time": "2022-04-16T10:30:03.849Z"
   },
   {
    "duration": 214923,
    "start_time": "2022-04-16T10:30:39.169Z"
   },
   {
    "duration": 139,
    "start_time": "2022-04-16T10:35:05.249Z"
   },
   {
    "duration": 14,
    "start_time": "2022-04-16T10:35:31.719Z"
   },
   {
    "duration": 6,
    "start_time": "2022-04-16T10:35:46.290Z"
   },
   {
    "duration": 26520,
    "start_time": "2022-04-16T10:35:50.748Z"
   },
   {
    "duration": 6,
    "start_time": "2022-04-16T10:36:38.988Z"
   },
   {
    "duration": 8205,
    "start_time": "2022-04-16T10:36:42.608Z"
   },
   {
    "duration": 14361,
    "start_time": "2022-04-16T10:36:56.670Z"
   },
   {
    "duration": 6,
    "start_time": "2022-04-16T10:37:27.031Z"
   },
   {
    "duration": 766587,
    "start_time": "2022-04-16T10:37:28.199Z"
   },
   {
    "duration": 6,
    "start_time": "2022-04-16T10:50:37.460Z"
   },
   {
    "duration": 1289578,
    "start_time": "2022-04-16T10:50:41.219Z"
   },
   {
    "duration": 5,
    "start_time": "2022-04-16T11:13:05.870Z"
   },
   {
    "duration": 71337,
    "start_time": "2022-04-16T11:13:09.590Z"
   },
   {
    "duration": 6,
    "start_time": "2022-04-16T11:15:27.250Z"
   },
   {
    "duration": 98548,
    "start_time": "2022-04-16T11:15:30.879Z"
   },
   {
    "duration": 6,
    "start_time": "2022-04-16T11:17:40.510Z"
   },
   {
    "duration": 211819,
    "start_time": "2022-04-16T11:19:26.511Z"
   },
   {
    "duration": 4,
    "start_time": "2022-04-16T11:25:06.611Z"
   },
   {
    "duration": 5,
    "start_time": "2022-04-16T11:28:57.821Z"
   },
   {
    "duration": 1044,
    "start_time": "2022-04-16T11:28:57.850Z"
   },
   {
    "duration": 29,
    "start_time": "2022-04-16T11:28:58.897Z"
   },
   {
    "duration": 6,
    "start_time": "2022-04-16T11:28:58.928Z"
   },
   {
    "duration": 187,
    "start_time": "2022-04-16T11:28:58.937Z"
   },
   {
    "duration": 130,
    "start_time": "2022-04-16T11:28:59.127Z"
   },
   {
    "duration": 28,
    "start_time": "2022-04-16T11:28:59.259Z"
   },
   {
    "duration": 3,
    "start_time": "2022-04-16T11:28:59.290Z"
   },
   {
    "duration": 290,
    "start_time": "2022-04-16T11:28:59.296Z"
   },
   {
    "duration": 622,
    "start_time": "2022-04-16T11:28:59.588Z"
   },
   {
    "duration": 23,
    "start_time": "2022-04-16T11:29:00.214Z"
   },
   {
    "duration": 90,
    "start_time": "2022-04-16T11:29:00.240Z"
   },
   {
    "duration": 14,
    "start_time": "2022-04-16T11:29:00.333Z"
   },
   {
    "duration": 40,
    "start_time": "2022-04-16T11:29:00.350Z"
   },
   {
    "duration": 20,
    "start_time": "2022-04-16T11:29:00.393Z"
   },
   {
    "duration": 95,
    "start_time": "2022-04-16T11:29:00.416Z"
   },
   {
    "duration": 50,
    "start_time": "2022-04-16T11:29:00.513Z"
   },
   {
    "duration": 10,
    "start_time": "2022-04-16T11:29:00.565Z"
   },
   {
    "duration": 28,
    "start_time": "2022-04-16T11:29:00.577Z"
   },
   {
    "duration": 20,
    "start_time": "2022-04-16T11:29:00.608Z"
   },
   {
    "duration": 42,
    "start_time": "2022-04-16T11:29:00.631Z"
   },
   {
    "duration": 49,
    "start_time": "2022-04-16T11:29:00.676Z"
   },
   {
    "duration": 13,
    "start_time": "2022-04-16T11:29:00.728Z"
   },
   {
    "duration": 15,
    "start_time": "2022-04-16T11:29:00.744Z"
   },
   {
    "duration": 40496,
    "start_time": "2022-04-16T11:29:00.762Z"
   },
   {
    "duration": 5,
    "start_time": "2022-04-16T11:29:41.261Z"
   },
   {
    "duration": 916,
    "start_time": "2022-04-16T11:29:41.269Z"
   },
   {
    "duration": 13,
    "start_time": "2022-04-16T11:29:42.187Z"
   },
   {
    "duration": 7,
    "start_time": "2022-04-16T11:29:42.224Z"
   },
   {
    "duration": 646175,
    "start_time": "2022-04-16T11:29:42.234Z"
   },
   {
    "duration": 14,
    "start_time": "2022-04-16T11:40:28.412Z"
   },
   {
    "duration": 0,
    "start_time": "2022-04-16T11:40:28.429Z"
   },
   {
    "duration": 0,
    "start_time": "2022-04-16T11:40:28.432Z"
   },
   {
    "duration": 166599,
    "start_time": "2022-04-16T11:40:38.601Z"
   },
   {
    "duration": 5,
    "start_time": "2022-04-16T11:43:34.602Z"
   },
   {
    "duration": 323027,
    "start_time": "2022-04-16T11:43:40.491Z"
   },
   {
    "duration": 6,
    "start_time": "2022-04-16T11:49:15.432Z"
   },
   {
    "duration": 1149,
    "start_time": "2022-04-16T11:49:15.443Z"
   },
   {
    "duration": 30,
    "start_time": "2022-04-16T11:49:16.596Z"
   },
   {
    "duration": 8,
    "start_time": "2022-04-16T11:49:16.630Z"
   },
   {
    "duration": 198,
    "start_time": "2022-04-16T11:49:16.643Z"
   },
   {
    "duration": 144,
    "start_time": "2022-04-16T11:49:16.844Z"
   },
   {
    "duration": 42,
    "start_time": "2022-04-16T11:49:16.990Z"
   },
   {
    "duration": 5,
    "start_time": "2022-04-16T11:49:17.034Z"
   },
   {
    "duration": 265,
    "start_time": "2022-04-16T11:49:17.041Z"
   },
   {
    "duration": 623,
    "start_time": "2022-04-16T11:49:17.308Z"
   },
   {
    "duration": 16,
    "start_time": "2022-04-16T11:49:17.935Z"
   },
   {
    "duration": 82,
    "start_time": "2022-04-16T11:49:17.953Z"
   },
   {
    "duration": 14,
    "start_time": "2022-04-16T11:49:18.037Z"
   },
   {
    "duration": 16,
    "start_time": "2022-04-16T11:49:18.054Z"
   },
   {
    "duration": 33,
    "start_time": "2022-04-16T11:49:18.073Z"
   },
   {
    "duration": 176,
    "start_time": "2022-04-16T11:49:18.108Z"
   },
   {
    "duration": 58,
    "start_time": "2022-04-16T11:49:18.287Z"
   },
   {
    "duration": 11,
    "start_time": "2022-04-16T11:49:18.348Z"
   },
   {
    "duration": 7,
    "start_time": "2022-04-16T11:49:18.361Z"
   },
   {
    "duration": 12,
    "start_time": "2022-04-16T11:49:18.370Z"
   },
   {
    "duration": 8,
    "start_time": "2022-04-16T11:49:18.385Z"
   },
   {
    "duration": 31,
    "start_time": "2022-04-16T11:49:18.397Z"
   },
   {
    "duration": 6,
    "start_time": "2022-04-16T11:51:07.302Z"
   },
   {
    "duration": 1239,
    "start_time": "2022-04-16T11:51:07.322Z"
   },
   {
    "duration": 22,
    "start_time": "2022-04-16T11:51:08.564Z"
   },
   {
    "duration": 7,
    "start_time": "2022-04-16T11:51:08.589Z"
   },
   {
    "duration": 174,
    "start_time": "2022-04-16T11:51:08.627Z"
   },
   {
    "duration": 146,
    "start_time": "2022-04-16T11:51:08.804Z"
   },
   {
    "duration": 29,
    "start_time": "2022-04-16T11:51:08.953Z"
   },
   {
    "duration": 4,
    "start_time": "2022-04-16T11:51:08.984Z"
   },
   {
    "duration": 380,
    "start_time": "2022-04-16T11:51:08.991Z"
   },
   {
    "duration": 619,
    "start_time": "2022-04-16T11:51:09.373Z"
   },
   {
    "duration": 28,
    "start_time": "2022-04-16T11:51:09.997Z"
   },
   {
    "duration": 63,
    "start_time": "2022-04-16T11:51:10.028Z"
   },
   {
    "duration": 35,
    "start_time": "2022-04-16T11:51:10.094Z"
   },
   {
    "duration": 18,
    "start_time": "2022-04-16T11:51:10.132Z"
   },
   {
    "duration": 13,
    "start_time": "2022-04-16T11:51:10.153Z"
   },
   {
    "duration": 118,
    "start_time": "2022-04-16T11:51:10.169Z"
   },
   {
    "duration": 80,
    "start_time": "2022-04-16T11:51:10.290Z"
   },
   {
    "duration": 10,
    "start_time": "2022-04-16T11:51:10.373Z"
   },
   {
    "duration": 19,
    "start_time": "2022-04-16T11:51:10.386Z"
   },
   {
    "duration": 20,
    "start_time": "2022-04-16T11:51:10.407Z"
   },
   {
    "duration": 9,
    "start_time": "2022-04-16T11:51:10.430Z"
   },
   {
    "duration": 1324620,
    "start_time": "2022-04-16T11:51:10.442Z"
   },
   {
    "duration": 7,
    "start_time": "2022-04-16T12:13:15.065Z"
   },
   {
    "duration": 31169,
    "start_time": "2022-04-16T12:13:15.075Z"
   },
   {
    "duration": 6,
    "start_time": "2022-04-16T12:13:46.247Z"
   },
   {
    "duration": 40496,
    "start_time": "2022-04-16T12:13:46.255Z"
   },
   {
    "duration": 6,
    "start_time": "2022-04-16T12:14:26.754Z"
   },
   {
    "duration": 925,
    "start_time": "2022-04-16T12:14:26.762Z"
   },
   {
    "duration": 9,
    "start_time": "2022-04-16T12:14:27.691Z"
   },
   {
    "duration": 28,
    "start_time": "2022-04-16T12:14:27.702Z"
   },
   {
    "duration": 1447305,
    "start_time": "2022-04-16T12:14:27.732Z"
   },
   {
    "duration": 15,
    "start_time": "2022-04-16T12:38:35.040Z"
   },
   {
    "duration": 0,
    "start_time": "2022-04-16T12:38:35.057Z"
   },
   {
    "duration": 0,
    "start_time": "2022-04-16T12:38:35.058Z"
   },
   {
    "duration": 8,
    "start_time": "2022-04-16T12:38:59.884Z"
   },
   {
    "duration": 37026,
    "start_time": "2022-04-16T12:39:04.065Z"
   },
   {
    "duration": 6,
    "start_time": "2022-04-16T12:39:41.674Z"
   },
   {
    "duration": 48209,
    "start_time": "2022-04-16T12:39:46.865Z"
   },
   {
    "duration": 6,
    "start_time": "2022-04-16T12:40:54.637Z"
   },
   {
    "duration": 152516,
    "start_time": "2022-04-16T12:40:57.385Z"
   },
   {
    "duration": 6,
    "start_time": "2022-04-16T12:43:59.655Z"
   },
   {
    "duration": 456463,
    "start_time": "2022-04-16T12:44:02.604Z"
   },
   {
    "duration": 159,
    "start_time": "2022-04-16T12:51:52.814Z"
   },
   {
    "duration": 191918,
    "start_time": "2022-04-16T12:52:05.914Z"
   },
   {
    "duration": 6,
    "start_time": "2022-04-16T12:55:51.453Z"
   },
   {
    "duration": 9138,
    "start_time": "2022-04-16T12:55:55.293Z"
   },
   {
    "duration": 13,
    "start_time": "2022-04-16T12:56:07.453Z"
   },
   {
    "duration": 13,
    "start_time": "2022-04-16T12:59:57.004Z"
   },
   {
    "duration": 5,
    "start_time": "2022-04-16T13:00:59.365Z"
   },
   {
    "duration": 8,
    "start_time": "2022-04-16T13:01:07.173Z"
   },
   {
    "duration": 10,
    "start_time": "2022-04-16T13:01:14.765Z"
   },
   {
    "duration": 5,
    "start_time": "2022-04-16T13:01:53.904Z"
   },
   {
    "duration": 11,
    "start_time": "2022-04-16T13:01:55.024Z"
   },
   {
    "duration": 5,
    "start_time": "2022-04-16T13:02:50.585Z"
   },
   {
    "duration": 12,
    "start_time": "2022-04-16T13:02:50.974Z"
   },
   {
    "duration": 13,
    "start_time": "2022-04-16T13:05:25.066Z"
   },
   {
    "duration": 2050,
    "start_time": "2022-04-16T13:05:39.925Z"
   },
   {
    "duration": 2186,
    "start_time": "2022-04-16T13:06:21.134Z"
   },
   {
    "duration": 4,
    "start_time": "2022-04-16T13:12:52.375Z"
   },
   {
    "duration": 72550,
    "start_time": "2022-04-16T13:17:09.775Z"
   },
   {
    "duration": 13,
    "start_time": "2022-04-16T13:19:22.006Z"
   },
   {
    "duration": 12,
    "start_time": "2022-04-16T13:19:51.116Z"
   },
   {
    "duration": 13,
    "start_time": "2022-04-16T13:20:06.406Z"
   },
   {
    "duration": 13,
    "start_time": "2022-04-16T13:20:39.406Z"
   },
   {
    "duration": 13,
    "start_time": "2022-04-16T13:20:46.606Z"
   },
   {
    "duration": 13,
    "start_time": "2022-04-16T13:24:05.936Z"
   },
   {
    "duration": 9,
    "start_time": "2022-04-16T13:43:46.682Z"
   },
   {
    "duration": 1073,
    "start_time": "2022-04-16T13:43:46.694Z"
   },
   {
    "duration": 21,
    "start_time": "2022-04-16T13:43:47.770Z"
   },
   {
    "duration": 30,
    "start_time": "2022-04-16T13:43:47.794Z"
   },
   {
    "duration": 178,
    "start_time": "2022-04-16T13:43:47.828Z"
   },
   {
    "duration": 129,
    "start_time": "2022-04-16T13:43:48.008Z"
   },
   {
    "duration": 29,
    "start_time": "2022-04-16T13:43:48.140Z"
   },
   {
    "duration": 4,
    "start_time": "2022-04-16T13:43:48.171Z"
   },
   {
    "duration": 279,
    "start_time": "2022-04-16T13:43:48.177Z"
   },
   {
    "duration": 625,
    "start_time": "2022-04-16T13:43:48.459Z"
   },
   {
    "duration": 16,
    "start_time": "2022-04-16T13:43:49.087Z"
   },
   {
    "duration": 52,
    "start_time": "2022-04-16T13:44:06.200Z"
   },
   {
    "duration": 16,
    "start_time": "2022-04-16T13:44:07.419Z"
   },
   {
    "duration": 17,
    "start_time": "2022-04-16T13:44:08.489Z"
   },
   {
    "duration": 4,
    "start_time": "2022-04-16T13:44:09.119Z"
   },
   {
    "duration": 61,
    "start_time": "2022-04-16T13:44:09.280Z"
   },
   {
    "duration": 51,
    "start_time": "2022-04-16T13:44:09.629Z"
   },
   {
    "duration": 8,
    "start_time": "2022-04-16T13:44:10.340Z"
   },
   {
    "duration": 6,
    "start_time": "2022-04-16T13:44:13.790Z"
   },
   {
    "duration": 9,
    "start_time": "2022-04-16T13:45:09.570Z"
   },
   {
    "duration": 1049,
    "start_time": "2022-04-16T13:45:09.620Z"
   },
   {
    "duration": 22,
    "start_time": "2022-04-16T13:45:10.672Z"
   },
   {
    "duration": 30,
    "start_time": "2022-04-16T13:45:10.696Z"
   },
   {
    "duration": 314,
    "start_time": "2022-04-16T13:45:10.731Z"
   },
   {
    "duration": 140,
    "start_time": "2022-04-16T13:45:11.047Z"
   },
   {
    "duration": 41,
    "start_time": "2022-04-16T13:45:11.189Z"
   },
   {
    "duration": 4,
    "start_time": "2022-04-16T13:45:12.100Z"
   },
   {
    "duration": 250,
    "start_time": "2022-04-16T13:45:12.650Z"
   },
   {
    "duration": 610,
    "start_time": "2022-04-16T13:45:13.549Z"
   },
   {
    "duration": 17,
    "start_time": "2022-04-16T13:45:15.250Z"
   },
   {
    "duration": 7,
    "start_time": "2022-04-16T13:45:34.530Z"
   },
   {
    "duration": 1660,
    "start_time": "2022-04-16T13:45:34.560Z"
   },
   {
    "duration": 33,
    "start_time": "2022-04-16T13:45:36.224Z"
   },
   {
    "duration": 13,
    "start_time": "2022-04-16T13:45:36.259Z"
   },
   {
    "duration": 189,
    "start_time": "2022-04-16T13:45:36.275Z"
   },
   {
    "duration": 133,
    "start_time": "2022-04-16T13:45:36.467Z"
   },
   {
    "duration": 41,
    "start_time": "2022-04-16T13:45:36.602Z"
   },
   {
    "duration": 4,
    "start_time": "2022-04-16T13:45:36.646Z"
   },
   {
    "duration": 272,
    "start_time": "2022-04-16T13:45:36.653Z"
   },
   {
    "duration": 20,
    "start_time": "2022-04-16T13:45:36.928Z"
   },
   {
    "duration": 28,
    "start_time": "2022-04-16T13:45:36.953Z"
   },
   {
    "duration": 0,
    "start_time": "2022-04-16T13:45:36.983Z"
   },
   {
    "duration": 7,
    "start_time": "2022-04-16T13:46:34.150Z"
   },
   {
    "duration": 1026,
    "start_time": "2022-04-16T13:46:34.161Z"
   },
   {
    "duration": 22,
    "start_time": "2022-04-16T13:46:35.190Z"
   },
   {
    "duration": 6,
    "start_time": "2022-04-16T13:46:35.225Z"
   },
   {
    "duration": 178,
    "start_time": "2022-04-16T13:46:35.234Z"
   },
   {
    "duration": 132,
    "start_time": "2022-04-16T13:46:35.414Z"
   },
   {
    "duration": 29,
    "start_time": "2022-04-16T13:46:35.549Z"
   },
   {
    "duration": 5,
    "start_time": "2022-04-16T13:46:35.581Z"
   },
   {
    "duration": 131,
    "start_time": "2022-04-16T13:46:35.588Z"
   },
   {
    "duration": 314,
    "start_time": "2022-04-16T13:46:43.150Z"
   },
   {
    "duration": 203,
    "start_time": "2022-04-16T13:46:46.580Z"
   },
   {
    "duration": 1448,
    "start_time": "2022-04-16T13:47:00.360Z"
   },
   {
    "duration": 41,
    "start_time": "2022-04-16T13:49:20.989Z"
   },
   {
    "duration": 138,
    "start_time": "2022-04-16T13:51:40.750Z"
   },
   {
    "duration": 6,
    "start_time": "2022-04-16T13:55:11.620Z"
   },
   {
    "duration": 1034,
    "start_time": "2022-04-16T13:55:11.629Z"
   },
   {
    "duration": 23,
    "start_time": "2022-04-16T13:55:12.666Z"
   },
   {
    "duration": 7,
    "start_time": "2022-04-16T13:55:12.692Z"
   },
   {
    "duration": 176,
    "start_time": "2022-04-16T13:55:12.727Z"
   },
   {
    "duration": 136,
    "start_time": "2022-04-16T13:55:12.905Z"
   },
   {
    "duration": 29,
    "start_time": "2022-04-16T13:55:13.043Z"
   },
   {
    "duration": 5,
    "start_time": "2022-04-16T13:55:13.074Z"
   },
   {
    "duration": 128,
    "start_time": "2022-04-16T13:55:13.081Z"
   },
   {
    "duration": 333,
    "start_time": "2022-04-16T13:55:13.212Z"
   },
   {
    "duration": 217,
    "start_time": "2022-04-16T13:55:13.551Z"
   },
   {
    "duration": 407,
    "start_time": "2022-04-16T13:55:13.771Z"
   },
   {
    "duration": 11,
    "start_time": "2022-04-16T13:55:14.182Z"
   },
   {
    "duration": 9,
    "start_time": "2022-04-16T13:55:14.196Z"
   },
   {
    "duration": 84,
    "start_time": "2022-04-16T13:55:14.225Z"
   },
   {
    "duration": 67,
    "start_time": "2022-04-16T13:55:19.470Z"
   },
   {
    "duration": 7,
    "start_time": "2022-04-16T13:55:56.459Z"
   },
   {
    "duration": 1677,
    "start_time": "2022-04-16T13:55:56.500Z"
   },
   {
    "duration": 45,
    "start_time": "2022-04-16T13:55:58.181Z"
   },
   {
    "duration": 7,
    "start_time": "2022-04-16T13:55:58.229Z"
   },
   {
    "duration": 359,
    "start_time": "2022-04-16T13:55:58.241Z"
   },
   {
    "duration": 172,
    "start_time": "2022-04-16T13:55:58.603Z"
   },
   {
    "duration": 47,
    "start_time": "2022-04-16T13:55:58.778Z"
   },
   {
    "duration": 5,
    "start_time": "2022-04-16T13:55:58.828Z"
   },
   {
    "duration": 122,
    "start_time": "2022-04-16T13:55:58.836Z"
   },
   {
    "duration": 191,
    "start_time": "2022-04-16T13:55:58.960Z"
   },
   {
    "duration": 106,
    "start_time": "2022-04-16T13:55:59.154Z"
   },
   {
    "duration": 292,
    "start_time": "2022-04-16T13:55:59.263Z"
   },
   {
    "duration": 9,
    "start_time": "2022-04-16T13:55:59.557Z"
   },
   {
    "duration": 5,
    "start_time": "2022-04-16T13:55:59.569Z"
   },
   {
    "duration": 92,
    "start_time": "2022-04-16T13:55:59.576Z"
   },
   {
    "duration": 62,
    "start_time": "2022-04-16T13:55:59.671Z"
   },
   {
    "duration": 10,
    "start_time": "2022-04-16T13:55:59.735Z"
   },
   {
    "duration": 17,
    "start_time": "2022-04-16T13:55:59.747Z"
   },
   {
    "duration": 6,
    "start_time": "2022-04-16T13:56:03.790Z"
   },
   {
    "duration": 61690,
    "start_time": "2022-04-16T13:56:04.740Z"
   },
   {
    "duration": 6,
    "start_time": "2022-04-16T13:57:06.434Z"
   },
   {
    "duration": 802,
    "start_time": "2022-04-16T13:57:06.443Z"
   },
   {
    "duration": 8,
    "start_time": "2022-04-16T13:57:07.249Z"
   },
   {
    "duration": 160,
    "start_time": "2022-04-16T13:57:07.260Z"
   },
   {
    "duration": 0,
    "start_time": "2022-04-16T13:57:07.423Z"
   },
   {
    "duration": 0,
    "start_time": "2022-04-16T13:57:07.426Z"
   },
   {
    "duration": 0,
    "start_time": "2022-04-16T13:57:07.428Z"
   },
   {
    "duration": 0,
    "start_time": "2022-04-16T13:57:07.430Z"
   },
   {
    "duration": 0,
    "start_time": "2022-04-16T13:57:07.432Z"
   },
   {
    "duration": 0,
    "start_time": "2022-04-16T13:57:07.435Z"
   },
   {
    "duration": 1,
    "start_time": "2022-04-16T13:57:07.437Z"
   },
   {
    "duration": 0,
    "start_time": "2022-04-16T13:57:07.440Z"
   },
   {
    "duration": 6,
    "start_time": "2022-04-16T13:59:11.830Z"
   },
   {
    "duration": 1224297,
    "start_time": "2022-04-16T13:59:14.000Z"
   },
   {
    "duration": 5,
    "start_time": "2022-04-16T14:19:38.300Z"
   },
   {
    "duration": 7,
    "start_time": "2022-04-16T14:19:38.307Z"
   },
   {
    "duration": 30016,
    "start_time": "2022-04-16T14:19:38.317Z"
   },
   {
    "duration": 6,
    "start_time": "2022-04-16T14:20:08.335Z"
   },
   {
    "duration": 6,
    "start_time": "2022-04-16T14:20:08.343Z"
   },
   {
    "duration": 40185,
    "start_time": "2022-04-16T14:20:08.351Z"
   },
   {
    "duration": 15,
    "start_time": "2022-04-16T14:20:48.538Z"
   },
   {
    "duration": 2482,
    "start_time": "2022-04-17T09:31:43.868Z"
   },
   {
    "duration": 745,
    "start_time": "2022-04-17T09:31:46.352Z"
   },
   {
    "duration": 19,
    "start_time": "2022-04-17T09:31:47.099Z"
   },
   {
    "duration": 3,
    "start_time": "2022-04-17T09:32:40.141Z"
   },
   {
    "duration": 143,
    "start_time": "2022-04-17T09:32:41.017Z"
   },
   {
    "duration": 92,
    "start_time": "2022-04-17T09:32:48.748Z"
   },
   {
    "duration": 28,
    "start_time": "2022-04-17T09:33:26.675Z"
   },
   {
    "duration": 3,
    "start_time": "2022-04-17T09:33:27.742Z"
   },
   {
    "duration": 79,
    "start_time": "2022-04-17T09:36:20.645Z"
   },
   {
    "duration": 145,
    "start_time": "2022-04-17T09:36:22.883Z"
   },
   {
    "duration": 75,
    "start_time": "2022-04-17T09:36:35.887Z"
   },
   {
    "duration": 175,
    "start_time": "2022-04-17T09:37:45.899Z"
   },
   {
    "duration": 7,
    "start_time": "2022-04-17T09:38:02.503Z"
   },
   {
    "duration": 3,
    "start_time": "2022-04-17T09:38:03.713Z"
   },
   {
    "duration": 44,
    "start_time": "2022-04-17T09:38:04.304Z"
   },
   {
    "duration": 41,
    "start_time": "2022-04-17T09:38:05.243Z"
   },
   {
    "duration": 5,
    "start_time": "2022-04-17T09:38:06.815Z"
   },
   {
    "duration": 4,
    "start_time": "2022-04-17T09:43:35.164Z"
   },
   {
    "duration": 4,
    "start_time": "2022-04-17T09:44:15.287Z"
   },
   {
    "duration": 38193,
    "start_time": "2022-04-17T09:45:01.598Z"
   },
   {
    "duration": 4,
    "start_time": "2022-04-17T09:45:39.793Z"
   },
   {
    "duration": 370,
    "start_time": "2022-04-17T09:50:58.064Z"
   },
   {
    "duration": 4,
    "start_time": "2022-04-17T09:50:59.208Z"
   },
   {
    "duration": 562071,
    "start_time": "2022-04-17T09:51:01.613Z"
   },
   {
    "duration": 4,
    "start_time": "2022-04-17T10:00:23.686Z"
   },
   {
    "duration": 6,
    "start_time": "2022-04-17T10:00:23.692Z"
   },
   {
    "duration": 272782,
    "start_time": "2022-04-17T10:00:23.700Z"
   },
   {
    "duration": 5,
    "start_time": "2022-04-17T10:04:56.484Z"
   },
   {
    "duration": 5,
    "start_time": "2022-04-17T10:04:56.491Z"
   },
   {
    "duration": 284978,
    "start_time": "2022-04-17T10:04:56.498Z"
   },
   {
    "duration": 8,
    "start_time": "2022-04-17T10:09:41.478Z"
   },
   {
    "duration": 1867,
    "start_time": "2022-04-17T11:57:10.579Z"
   },
   {
    "duration": 1001,
    "start_time": "2022-04-17T11:57:12.449Z"
   },
   {
    "duration": 41,
    "start_time": "2022-04-17T11:57:13.452Z"
   },
   {
    "duration": 6,
    "start_time": "2022-04-17T11:57:15.421Z"
   },
   {
    "duration": 161,
    "start_time": "2022-04-17T11:57:16.029Z"
   },
   {
    "duration": 112,
    "start_time": "2022-04-17T11:57:16.839Z"
   },
   {
    "duration": 11,
    "start_time": "2022-04-17T11:57:57.489Z"
   },
   {
    "duration": 10,
    "start_time": "2022-04-17T11:58:11.409Z"
   },
   {
    "duration": 143,
    "start_time": "2022-04-17T11:58:26.130Z"
   },
   {
    "duration": 16,
    "start_time": "2022-04-17T11:58:34.219Z"
   },
   {
    "duration": 15,
    "start_time": "2022-04-17T11:58:47.879Z"
   },
   {
    "duration": 14,
    "start_time": "2022-04-17T11:58:52.249Z"
   },
   {
    "duration": 8,
    "start_time": "2022-04-17T11:59:31.359Z"
   },
   {
    "duration": 6,
    "start_time": "2022-04-17T12:00:25.160Z"
   },
   {
    "duration": 7,
    "start_time": "2022-04-17T12:00:54.729Z"
   },
   {
    "duration": 14,
    "start_time": "2022-04-17T12:01:10.059Z"
   },
   {
    "duration": 111,
    "start_time": "2022-04-17T12:02:41.889Z"
   },
   {
    "duration": 16,
    "start_time": "2022-04-17T12:03:06.159Z"
   },
   {
    "duration": 14,
    "start_time": "2022-04-17T12:03:20.719Z"
   },
   {
    "duration": 12,
    "start_time": "2022-04-17T12:03:36.900Z"
   },
   {
    "duration": 676,
    "start_time": "2022-04-17T12:14:48.321Z"
   },
   {
    "duration": 615,
    "start_time": "2022-04-17T12:16:22.610Z"
   },
   {
    "duration": 732,
    "start_time": "2022-04-17T12:16:39.791Z"
   },
   {
    "duration": 706,
    "start_time": "2022-04-17T12:17:00.320Z"
   },
   {
    "duration": 645,
    "start_time": "2022-04-17T12:17:23.291Z"
   },
   {
    "duration": 677,
    "start_time": "2022-04-17T12:17:38.020Z"
   },
   {
    "duration": 621,
    "start_time": "2022-04-17T12:17:54.980Z"
   },
   {
    "duration": 11,
    "start_time": "2022-04-17T12:18:09.140Z"
   },
   {
    "duration": 5,
    "start_time": "2022-04-17T12:18:14.630Z"
   },
   {
    "duration": 643,
    "start_time": "2022-04-17T12:18:25.880Z"
   },
   {
    "duration": 5,
    "start_time": "2022-04-17T12:18:35.050Z"
   },
   {
    "duration": 5,
    "start_time": "2022-04-17T12:18:36.581Z"
   },
   {
    "duration": 4,
    "start_time": "2022-04-17T12:18:47.411Z"
   },
   {
    "duration": 7,
    "start_time": "2022-04-17T12:18:59.432Z"
   },
   {
    "duration": 18,
    "start_time": "2022-04-17T12:19:12.702Z"
   },
   {
    "duration": 19,
    "start_time": "2022-04-17T12:20:54.291Z"
   },
   {
    "duration": 6,
    "start_time": "2022-04-17T12:22:14.510Z"
   },
   {
    "duration": 1017,
    "start_time": "2022-04-17T12:22:14.521Z"
   },
   {
    "duration": 20,
    "start_time": "2022-04-17T12:22:15.540Z"
   },
   {
    "duration": 8,
    "start_time": "2022-04-17T12:22:15.564Z"
   },
   {
    "duration": 172,
    "start_time": "2022-04-17T12:22:15.595Z"
   },
   {
    "duration": 127,
    "start_time": "2022-04-17T12:22:15.770Z"
   },
   {
    "duration": 668,
    "start_time": "2022-04-17T12:22:15.899Z"
   },
   {
    "duration": 4,
    "start_time": "2022-04-17T12:22:43.792Z"
   },
   {
    "duration": 8,
    "start_time": "2022-04-17T12:22:48.601Z"
   },
   {
    "duration": 1328,
    "start_time": "2022-04-17T12:22:48.901Z"
   },
   {
    "duration": 20,
    "start_time": "2022-04-17T12:22:50.232Z"
   },
   {
    "duration": 9,
    "start_time": "2022-04-17T12:22:50.255Z"
   },
   {
    "duration": 157,
    "start_time": "2022-04-17T12:22:50.581Z"
   },
   {
    "duration": 105,
    "start_time": "2022-04-17T12:22:51.020Z"
   },
   {
    "duration": 6,
    "start_time": "2022-04-17T12:22:53.921Z"
   },
   {
    "duration": 622,
    "start_time": "2022-04-17T12:23:03.390Z"
   },
   {
    "duration": 645,
    "start_time": "2022-04-17T12:23:11.870Z"
   },
   {
    "duration": 634,
    "start_time": "2022-04-17T12:23:12.891Z"
   },
   {
    "duration": 615,
    "start_time": "2022-04-17T12:23:31.601Z"
   },
   {
    "duration": 6,
    "start_time": "2022-04-17T12:25:19.591Z"
   },
   {
    "duration": 995,
    "start_time": "2022-04-17T12:25:19.620Z"
   },
   {
    "duration": 20,
    "start_time": "2022-04-17T12:25:20.618Z"
   },
   {
    "duration": 8,
    "start_time": "2022-04-17T12:25:20.639Z"
   },
   {
    "duration": 177,
    "start_time": "2022-04-17T12:25:20.649Z"
   },
   {
    "duration": 160,
    "start_time": "2022-04-17T12:25:20.829Z"
   },
   {
    "duration": 621,
    "start_time": "2022-04-17T12:25:20.991Z"
   },
   {
    "duration": 750,
    "start_time": "2022-04-17T12:25:21.614Z"
   },
   {
    "duration": 672,
    "start_time": "2022-04-17T12:25:22.366Z"
   },
   {
    "duration": 4,
    "start_time": "2022-04-17T12:28:47.240Z"
   },
   {
    "duration": 4,
    "start_time": "2022-04-17T12:29:31.910Z"
   },
   {
    "duration": 23,
    "start_time": "2022-04-17T12:30:36.141Z"
   },
   {
    "duration": 18,
    "start_time": "2022-04-17T12:30:54.391Z"
   },
   {
    "duration": 70,
    "start_time": "2022-04-17T12:34:25.081Z"
   },
   {
    "duration": 12,
    "start_time": "2022-04-17T12:34:36.370Z"
   },
   {
    "duration": 521,
    "start_time": "2022-04-17T12:34:56.294Z"
   },
   {
    "duration": 1271,
    "start_time": "2022-04-17T12:35:01.251Z"
   },
   {
    "duration": 482,
    "start_time": "2022-04-17T12:35:16.930Z"
   },
   {
    "duration": 465,
    "start_time": "2022-04-17T12:35:32.911Z"
   },
   {
    "duration": 519,
    "start_time": "2022-04-17T12:37:24.662Z"
   },
   {
    "duration": 49,
    "start_time": "2022-04-17T12:37:54.811Z"
   },
   {
    "duration": 2104,
    "start_time": "2022-04-17T12:45:30.741Z"
   },
   {
    "duration": 13,
    "start_time": "2022-04-17T12:45:48.651Z"
   },
   {
    "duration": 1987,
    "start_time": "2022-04-17T12:46:16.071Z"
   },
   {
    "duration": 820,
    "start_time": "2022-04-17T12:46:47.242Z"
   },
   {
    "duration": 497,
    "start_time": "2022-04-17T12:46:59.351Z"
   },
   {
    "duration": 483,
    "start_time": "2022-04-17T12:47:12.531Z"
   },
   {
    "duration": 498,
    "start_time": "2022-04-17T12:47:21.656Z"
   },
   {
    "duration": 98,
    "start_time": "2022-04-17T12:47:42.661Z"
   },
   {
    "duration": 489,
    "start_time": "2022-04-17T12:48:05.111Z"
   },
   {
    "duration": 7,
    "start_time": "2022-04-17T12:48:46.471Z"
   },
   {
    "duration": 1053,
    "start_time": "2022-04-17T12:48:46.511Z"
   },
   {
    "duration": 31,
    "start_time": "2022-04-17T12:48:47.567Z"
   },
   {
    "duration": 9,
    "start_time": "2022-04-17T12:48:47.600Z"
   },
   {
    "duration": 181,
    "start_time": "2022-04-17T12:48:47.612Z"
   },
   {
    "duration": 123,
    "start_time": "2022-04-17T12:48:47.795Z"
   },
   {
    "duration": 646,
    "start_time": "2022-04-17T12:48:47.920Z"
   },
   {
    "duration": 680,
    "start_time": "2022-04-17T12:48:48.568Z"
   },
   {
    "duration": 655,
    "start_time": "2022-04-17T12:48:49.250Z"
   },
   {
    "duration": 18,
    "start_time": "2022-04-17T12:48:49.907Z"
   },
   {
    "duration": 108,
    "start_time": "2022-04-17T12:48:49.930Z"
   },
   {
    "duration": 588,
    "start_time": "2022-04-17T12:48:50.042Z"
   },
   {
    "duration": 37,
    "start_time": "2022-04-17T12:48:50.632Z"
   },
   {
    "duration": 108,
    "start_time": "2022-04-17T12:48:50.671Z"
   },
   {
    "duration": 19,
    "start_time": "2022-04-17T12:49:24.711Z"
   },
   {
    "duration": 23,
    "start_time": "2022-04-17T12:50:00.752Z"
   },
   {
    "duration": 22,
    "start_time": "2022-04-17T12:51:25.831Z"
   },
   {
    "duration": 21,
    "start_time": "2022-04-17T12:52:02.672Z"
   },
   {
    "duration": 135,
    "start_time": "2022-04-17T12:56:37.862Z"
   },
   {
    "duration": 488,
    "start_time": "2022-04-17T12:56:51.602Z"
   },
   {
    "duration": 18,
    "start_time": "2022-04-17T12:57:25.032Z"
   },
   {
    "duration": 6,
    "start_time": "2022-04-17T12:57:31.242Z"
   },
   {
    "duration": 1453,
    "start_time": "2022-04-17T12:57:31.342Z"
   },
   {
    "duration": 27,
    "start_time": "2022-04-17T12:57:32.799Z"
   },
   {
    "duration": 7,
    "start_time": "2022-04-17T12:57:32.828Z"
   },
   {
    "duration": 186,
    "start_time": "2022-04-17T12:57:32.837Z"
   },
   {
    "duration": 226,
    "start_time": "2022-04-17T12:57:33.026Z"
   },
   {
    "duration": 690,
    "start_time": "2022-04-17T12:57:33.255Z"
   },
   {
    "duration": 730,
    "start_time": "2022-04-17T12:57:33.947Z"
   },
   {
    "duration": 758,
    "start_time": "2022-04-17T12:57:34.679Z"
   },
   {
    "duration": 17,
    "start_time": "2022-04-17T12:57:35.440Z"
   },
   {
    "duration": 115,
    "start_time": "2022-04-17T12:57:35.460Z"
   },
   {
    "duration": 815,
    "start_time": "2022-04-17T12:57:35.578Z"
   },
   {
    "duration": 33,
    "start_time": "2022-04-17T12:57:38.742Z"
   },
   {
    "duration": 85,
    "start_time": "2022-04-17T12:57:41.862Z"
   },
   {
    "duration": 19,
    "start_time": "2022-04-17T12:57:42.832Z"
   },
   {
    "duration": 24,
    "start_time": "2022-04-17T12:57:44.602Z"
   },
   {
    "duration": 167,
    "start_time": "2022-04-17T12:57:49.343Z"
   },
   {
    "duration": 18,
    "start_time": "2022-04-17T12:58:05.342Z"
   },
   {
    "duration": 9,
    "start_time": "2022-04-17T12:59:02.232Z"
   },
   {
    "duration": 1455,
    "start_time": "2022-04-17T12:59:02.272Z"
   },
   {
    "duration": 27,
    "start_time": "2022-04-17T12:59:03.730Z"
   },
   {
    "duration": 11,
    "start_time": "2022-04-17T12:59:03.760Z"
   },
   {
    "duration": 302,
    "start_time": "2022-04-17T12:59:03.775Z"
   },
   {
    "duration": 160,
    "start_time": "2022-04-17T12:59:04.080Z"
   },
   {
    "duration": 956,
    "start_time": "2022-04-17T12:59:04.243Z"
   },
   {
    "duration": 944,
    "start_time": "2022-04-17T12:59:05.202Z"
   },
   {
    "duration": 968,
    "start_time": "2022-04-17T12:59:06.149Z"
   },
   {
    "duration": 18,
    "start_time": "2022-04-17T12:59:07.119Z"
   },
   {
    "duration": 114,
    "start_time": "2022-04-17T12:59:07.142Z"
   },
   {
    "duration": 578,
    "start_time": "2022-04-17T12:59:07.258Z"
   },
   {
    "duration": 34,
    "start_time": "2022-04-17T12:59:07.838Z"
   },
   {
    "duration": 88,
    "start_time": "2022-04-17T12:59:13.962Z"
   },
   {
    "duration": 20,
    "start_time": "2022-04-17T12:59:15.043Z"
   },
   {
    "duration": 25,
    "start_time": "2022-04-17T12:59:27.321Z"
   },
   {
    "duration": 161,
    "start_time": "2022-04-17T12:59:29.082Z"
   },
   {
    "duration": 544,
    "start_time": "2022-04-17T13:00:00.112Z"
   },
   {
    "duration": 497,
    "start_time": "2022-04-17T13:02:31.282Z"
   },
   {
    "duration": 475,
    "start_time": "2022-04-17T13:02:37.192Z"
   },
   {
    "duration": 16,
    "start_time": "2022-04-17T13:04:30.312Z"
   },
   {
    "duration": 205,
    "start_time": "2022-04-17T13:05:14.182Z"
   },
   {
    "duration": 38,
    "start_time": "2022-04-17T13:05:42.322Z"
   },
   {
    "duration": 21,
    "start_time": "2022-04-17T13:05:53.312Z"
   },
   {
    "duration": 27,
    "start_time": "2022-04-17T13:06:00.143Z"
   },
   {
    "duration": 22,
    "start_time": "2022-04-17T13:06:06.372Z"
   },
   {
    "duration": 21,
    "start_time": "2022-04-17T13:06:51.573Z"
   },
   {
    "duration": 1382,
    "start_time": "2022-04-17T13:10:04.902Z"
   },
   {
    "duration": 15,
    "start_time": "2022-04-17T13:10:19.002Z"
   },
   {
    "duration": 709,
    "start_time": "2022-04-17T13:10:44.573Z"
   },
   {
    "duration": 6,
    "start_time": "2022-04-17T13:10:54.943Z"
   },
   {
    "duration": 8,
    "start_time": "2022-04-17T13:13:02.243Z"
   },
   {
    "duration": 8,
    "start_time": "2022-04-17T13:15:17.274Z"
   },
   {
    "duration": 39,
    "start_time": "2022-04-17T13:15:37.512Z"
   },
   {
    "duration": 129,
    "start_time": "2022-04-17T13:18:36.233Z"
   },
   {
    "duration": 148,
    "start_time": "2022-04-17T13:18:53.373Z"
   },
   {
    "duration": 7,
    "start_time": "2022-04-17T13:19:29.753Z"
   },
   {
    "duration": 96,
    "start_time": "2022-04-17T13:19:52.913Z"
   },
   {
    "duration": 99,
    "start_time": "2022-04-17T13:21:47.483Z"
   },
   {
    "duration": 137,
    "start_time": "2022-04-17T13:23:46.803Z"
   },
   {
    "duration": 6,
    "start_time": "2022-04-17T13:23:59.713Z"
   },
   {
    "duration": 1710,
    "start_time": "2022-04-17T13:23:59.783Z"
   },
   {
    "duration": 21,
    "start_time": "2022-04-17T13:24:01.496Z"
   },
   {
    "duration": 15,
    "start_time": "2022-04-17T13:24:01.519Z"
   },
   {
    "duration": 184,
    "start_time": "2022-04-17T13:24:01.537Z"
   },
   {
    "duration": 137,
    "start_time": "2022-04-17T13:24:01.723Z"
   },
   {
    "duration": 667,
    "start_time": "2022-04-17T13:24:01.863Z"
   },
   {
    "duration": 675,
    "start_time": "2022-04-17T13:24:02.532Z"
   },
   {
    "duration": 685,
    "start_time": "2022-04-17T13:24:03.209Z"
   },
   {
    "duration": 18,
    "start_time": "2022-04-17T13:24:03.897Z"
   },
   {
    "duration": 106,
    "start_time": "2022-04-17T13:24:03.919Z"
   },
   {
    "duration": 551,
    "start_time": "2022-04-17T13:24:04.028Z"
   },
   {
    "duration": 42,
    "start_time": "2022-04-17T13:24:04.581Z"
   },
   {
    "duration": 102,
    "start_time": "2022-04-17T13:24:04.625Z"
   },
   {
    "duration": 19,
    "start_time": "2022-04-17T13:24:06.053Z"
   },
   {
    "duration": 182,
    "start_time": "2022-04-17T13:24:06.513Z"
   },
   {
    "duration": 132,
    "start_time": "2022-04-17T13:24:06.853Z"
   },
   {
    "duration": 487,
    "start_time": "2022-04-17T13:24:07.123Z"
   },
   {
    "duration": 16,
    "start_time": "2022-04-17T13:24:07.613Z"
   },
   {
    "duration": 39,
    "start_time": "2022-04-17T13:24:07.733Z"
   },
   {
    "duration": 136,
    "start_time": "2022-04-17T13:24:08.033Z"
   },
   {
    "duration": 107,
    "start_time": "2022-04-17T13:24:08.493Z"
   },
   {
    "duration": 164,
    "start_time": "2022-04-17T13:33:30.173Z"
   },
   {
    "duration": 55,
    "start_time": "2022-04-17T13:33:32.954Z"
   },
   {
    "duration": 6,
    "start_time": "2022-04-17T13:33:36.134Z"
   },
   {
    "duration": 182,
    "start_time": "2022-04-17T13:33:38.663Z"
   },
   {
    "duration": 176,
    "start_time": "2022-04-17T13:33:50.423Z"
   },
   {
    "duration": 167,
    "start_time": "2022-04-17T13:33:53.893Z"
   },
   {
    "duration": 243,
    "start_time": "2022-04-17T13:34:05.642Z"
   },
   {
    "duration": 11,
    "start_time": "2022-04-17T13:34:18.595Z"
   },
   {
    "duration": 4,
    "start_time": "2022-04-17T13:34:18.663Z"
   },
   {
    "duration": 53,
    "start_time": "2022-04-17T13:34:18.713Z"
   },
   {
    "duration": 42,
    "start_time": "2022-04-17T13:34:18.793Z"
   },
   {
    "duration": 9,
    "start_time": "2022-04-17T13:34:18.863Z"
   },
   {
    "duration": 7,
    "start_time": "2022-04-17T13:34:21.404Z"
   },
   {
    "duration": 11,
    "start_time": "2022-04-17T13:34:24.345Z"
   },
   {
    "duration": 53198,
    "start_time": "2022-04-17T13:34:28.113Z"
   },
   {
    "duration": 5,
    "start_time": "2022-04-17T13:35:50.484Z"
   },
   {
    "duration": 4,
    "start_time": "2022-04-17T13:36:06.104Z"
   },
   {
    "duration": 1189,
    "start_time": "2022-04-17T13:36:21.304Z"
   },
   {
    "duration": 13,
    "start_time": "2022-04-17T13:36:28.033Z"
   },
   {
    "duration": 6,
    "start_time": "2022-04-17T13:53:27.965Z"
   },
   {
    "duration": 1035,
    "start_time": "2022-04-17T13:53:28.024Z"
   },
   {
    "duration": 21,
    "start_time": "2022-04-17T13:53:29.062Z"
   },
   {
    "duration": 7,
    "start_time": "2022-04-17T13:53:29.092Z"
   },
   {
    "duration": 194,
    "start_time": "2022-04-17T13:53:29.102Z"
   },
   {
    "duration": 123,
    "start_time": "2022-04-17T13:53:29.298Z"
   },
   {
    "duration": 813,
    "start_time": "2022-04-17T13:53:29.423Z"
   },
   {
    "duration": 797,
    "start_time": "2022-04-17T13:53:30.239Z"
   },
   {
    "duration": 1335,
    "start_time": "2022-04-17T13:53:31.041Z"
   },
   {
    "duration": 31,
    "start_time": "2022-04-17T13:53:32.378Z"
   },
   {
    "duration": 124,
    "start_time": "2022-04-17T13:53:32.413Z"
   },
   {
    "duration": 812,
    "start_time": "2022-04-17T13:53:32.539Z"
   },
   {
    "duration": 62,
    "start_time": "2022-04-17T13:53:33.354Z"
   },
   {
    "duration": 133,
    "start_time": "2022-04-17T13:53:33.419Z"
   },
   {
    "duration": 20,
    "start_time": "2022-04-17T13:53:33.555Z"
   },
   {
    "duration": 33,
    "start_time": "2022-04-17T13:53:33.578Z"
   },
   {
    "duration": 169,
    "start_time": "2022-04-17T13:53:33.613Z"
   },
   {
    "duration": 791,
    "start_time": "2022-04-17T13:53:33.785Z"
   },
   {
    "duration": 26,
    "start_time": "2022-04-17T13:53:34.578Z"
   },
   {
    "duration": 46,
    "start_time": "2022-04-17T13:53:34.608Z"
   },
   {
    "duration": 198,
    "start_time": "2022-04-17T13:53:34.656Z"
   },
   {
    "duration": 126,
    "start_time": "2022-04-17T13:53:34.856Z"
   },
   {
    "duration": 47,
    "start_time": "2022-04-17T13:53:34.984Z"
   },
   {
    "duration": 5,
    "start_time": "2022-04-17T13:53:35.033Z"
   },
   {
    "duration": 123,
    "start_time": "2022-04-17T13:53:35.041Z"
   },
   {
    "duration": 178,
    "start_time": "2022-04-17T13:53:35.167Z"
   },
   {
    "duration": 113,
    "start_time": "2022-04-17T13:53:35.348Z"
   },
   {
    "duration": 268,
    "start_time": "2022-04-17T13:53:35.463Z"
   },
   {
    "duration": 7,
    "start_time": "2022-04-17T13:53:35.737Z"
   },
   {
    "duration": 382,
    "start_time": "2022-04-17T13:53:35.747Z"
   },
   {
    "duration": 1029,
    "start_time": "2022-04-17T13:53:36.132Z"
   },
   {
    "duration": 43,
    "start_time": "2022-04-17T13:53:37.163Z"
   },
   {
    "duration": 10,
    "start_time": "2022-04-17T13:53:37.208Z"
   },
   {
    "duration": 7,
    "start_time": "2022-04-17T13:53:37.220Z"
   },
   {
    "duration": 15,
    "start_time": "2022-04-17T13:53:37.230Z"
   },
   {
    "duration": 52509,
    "start_time": "2022-04-17T13:53:37.247Z"
   },
   {
    "duration": 5,
    "start_time": "2022-04-17T13:54:29.758Z"
   },
   {
    "duration": 658,
    "start_time": "2022-04-17T13:54:29.765Z"
   },
   {
    "duration": 6,
    "start_time": "2022-04-17T13:54:30.425Z"
   },
   {
    "duration": 1189210,
    "start_time": "2022-04-17T13:54:30.433Z"
   },
   {
    "duration": 7,
    "start_time": "2022-04-17T14:14:19.645Z"
   },
   {
    "duration": 12,
    "start_time": "2022-04-17T14:14:19.655Z"
   },
   {
    "duration": 197731,
    "start_time": "2022-04-17T14:14:19.671Z"
   },
   {
    "duration": 5,
    "start_time": "2022-04-17T14:17:37.405Z"
   },
   {
    "duration": 4,
    "start_time": "2022-04-17T14:17:37.412Z"
   },
   {
    "duration": 33885,
    "start_time": "2022-04-17T14:17:37.418Z"
   },
   {
    "duration": 89,
    "start_time": "2022-04-17T14:18:11.305Z"
   }
  ],
  "kernelspec": {
   "display_name": "Python 3 (ipykernel)",
   "language": "python",
   "name": "python3"
  },
  "language_info": {
   "codemirror_mode": {
    "name": "ipython",
    "version": 3
   },
   "file_extension": ".py",
   "mimetype": "text/x-python",
   "name": "python",
   "nbconvert_exporter": "python",
   "pygments_lexer": "ipython3",
   "version": "3.9.5"
  },
  "toc": {
   "base_numbering": 1,
   "nav_menu": {},
   "number_sections": true,
   "sideBar": true,
   "skip_h1_title": true,
   "title_cell": "Table of Contents",
   "title_sidebar": "Contents",
   "toc_cell": false,
   "toc_position": {
    "height": "calc(100% - 180px)",
    "left": "10px",
    "top": "150px",
    "width": "206.6px"
   },
   "toc_section_display": true,
   "toc_window_display": true
  }
 },
 "nbformat": 4,
 "nbformat_minor": 2
}
