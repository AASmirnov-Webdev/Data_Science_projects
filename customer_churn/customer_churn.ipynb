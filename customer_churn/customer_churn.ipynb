{
 "cells": [
  {
   "cell_type": "markdown",
   "metadata": {
    "toc": true
   },
   "source": [
    "<h1>Содержание<span class=\"tocSkip\"></span></h1>\n",
    "<div class=\"toc\"><ul class=\"toc-item\"><li><span><a href=\"#Подготовка-данных\" data-toc-modified-id=\"Подготовка-данных-1\"><span class=\"toc-item-num\">1&nbsp;&nbsp;</span>Подготовка данных</a></span><ul class=\"toc-item\"><li><span><a href=\"#Описание-данных\" data-toc-modified-id=\"Описание-данных-1.1\"><span class=\"toc-item-num\">1.1&nbsp;&nbsp;</span>Описание данных</a></span></li><li><span><a href=\"#Открытие-и-чтение-файла\" data-toc-modified-id=\"Открытие-и-чтение-файла-1.2\"><span class=\"toc-item-num\">1.2&nbsp;&nbsp;</span>Открытие и чтение файла</a></span></li><li><span><a href=\"#Удаление-бесполезных-признаков\" data-toc-modified-id=\"Удаление-бесполезных-признаков-1.3\"><span class=\"toc-item-num\">1.3&nbsp;&nbsp;</span>Удаление бесполезных признаков</a></span></li><li><span><a href=\"#Обработка-пропусков\" data-toc-modified-id=\"Обработка-пропусков-1.4\"><span class=\"toc-item-num\">1.4&nbsp;&nbsp;</span>Обработка пропусков</a></span></li><li><span><a href=\"#Вывод\" data-toc-modified-id=\"Вывод-1.5\"><span class=\"toc-item-num\">1.5&nbsp;&nbsp;</span>Вывод</a></span></li></ul></li><li><span><a href=\"#Исследование-задачи\" data-toc-modified-id=\"Исследование-задачи-2\"><span class=\"toc-item-num\">2&nbsp;&nbsp;</span>Исследование задачи</a></span><ul class=\"toc-item\"><li><span><a href=\"#Преобразование-категориальных-признаков\" data-toc-modified-id=\"Преобразование-категориальных-признаков-2.1\"><span class=\"toc-item-num\">2.1&nbsp;&nbsp;</span>Преобразование категориальных признаков</a></span></li><li><span><a href=\"#Разделение-данных-на-признаки-и-целевое-значение\" data-toc-modified-id=\"Разделение-данных-на-признаки-и-целевое-значение-2.2\"><span class=\"toc-item-num\">2.2&nbsp;&nbsp;</span>Разделение данных на признаки и целевое значение</a></span></li><li><span><a href=\"#Разделение-данных-на-выборки\" data-toc-modified-id=\"Разделение-данных-на-выборки-2.3\"><span class=\"toc-item-num\">2.3&nbsp;&nbsp;</span>Разделение данных на выборки</a></span></li><li><span><a href=\"#Маштабирование-признаков\" data-toc-modified-id=\"Маштабирование-признаков-2.4\"><span class=\"toc-item-num\">2.4&nbsp;&nbsp;</span>Маштабирование признаков</a></span></li><li><span><a href=\"#Выбор-лучшей-модели\" data-toc-modified-id=\"Выбор-лучшей-модели-2.5\"><span class=\"toc-item-num\">2.5&nbsp;&nbsp;</span>Выбор лучшей модели</a></span><ul class=\"toc-item\"><li><span><a href=\"#Логистическая-регрессия\" data-toc-modified-id=\"Логистическая-регрессия-2.5.1\"><span class=\"toc-item-num\">2.5.1&nbsp;&nbsp;</span>Логистическая регрессия</a></span></li><li><span><a href=\"#Дерево-решений\" data-toc-modified-id=\"Дерево-решений-2.5.2\"><span class=\"toc-item-num\">2.5.2&nbsp;&nbsp;</span>Дерево решений</a></span></li><li><span><a href=\"#Случайный-лес\" data-toc-modified-id=\"Случайный-лес-2.5.3\"><span class=\"toc-item-num\">2.5.3&nbsp;&nbsp;</span>Случайный лес</a></span></li></ul></li><li><span><a href=\"#Вывод\" data-toc-modified-id=\"Вывод-2.6\"><span class=\"toc-item-num\">2.6&nbsp;&nbsp;</span>Вывод</a></span></li></ul></li><li><span><a href=\"#Борьба-с-дисбалансом\" data-toc-modified-id=\"Борьба-с-дисбалансом-3\"><span class=\"toc-item-num\">3&nbsp;&nbsp;</span>Борьба с дисбалансом</a></span><ul class=\"toc-item\"><li><span><a href=\"#Метод-class_weight\" data-toc-modified-id=\"Метод-class_weight-3.1\"><span class=\"toc-item-num\">3.1&nbsp;&nbsp;</span>Метод <code>class_weight</code></a></span></li><li><span><a href=\"#Метод-upsampling\" data-toc-modified-id=\"Метод-upsampling-3.2\"><span class=\"toc-item-num\">3.2&nbsp;&nbsp;</span>Метод <code>upsampling</code></a></span></li><li><span><a href=\"#Вывод\" data-toc-modified-id=\"Вывод-3.3\"><span class=\"toc-item-num\">3.3&nbsp;&nbsp;</span>Вывод</a></span></li></ul></li><li><span><a href=\"#Тестирование-модели\" data-toc-modified-id=\"Тестирование-модели-4\"><span class=\"toc-item-num\">4&nbsp;&nbsp;</span>Тестирование модели</a></span><ul class=\"toc-item\"><li><span><a href=\"#Тестирование-лучшей-модели\" data-toc-modified-id=\"Тестирование-лучшей-модели-4.1\"><span class=\"toc-item-num\">4.1&nbsp;&nbsp;</span>Тестирование лучшей модели</a></span></li><li><span><a href=\"#Расчет-метрики-AUC-ROC\" data-toc-modified-id=\"Расчет-метрики-AUC-ROC-4.2\"><span class=\"toc-item-num\">4.2&nbsp;&nbsp;</span>Расчет метрики AUC-ROC</a></span></li></ul></li><li><span><a href=\"#Общий-вывод\" data-toc-modified-id=\"Общий-вывод-5\"><span class=\"toc-item-num\">5&nbsp;&nbsp;</span>Общий вывод</a></span></li></ul></div>"
   ]
  },
  {
   "cell_type": "markdown",
   "metadata": {},
   "source": [
    "# Прогнозирование оттока клиентов из банка"
   ]
  },
  {
   "cell_type": "markdown",
   "metadata": {},
   "source": [
    "Из «Бета-Банка» стали уходить клиенты. Каждый месяц. Немного, но заметно. Банковские маркетологи посчитали: сохранять текущих клиентов дешевле, чем привлекать новых.\n",
    "\n",
    "Нужно спрогнозировать, уйдёт клиент из банка в ближайшее время или нет. Вам предоставлены исторические данные о поведении клиентов и расторжении договоров с банком. \n",
    "\n",
    "Постройте модель с предельно большим значением *F1*-меры. Чтобы сдать проект успешно, нужно довести метрику до 0.59. Проверьте *F1*-меру на тестовой выборке самостоятельно.\n",
    "\n",
    "Дополнительно измеряйте *AUC-ROC*, сравнивайте её значение с *F1*-мерой.\n",
    "\n",
    "Источник данных: [https://www.kaggle.com/barelydedicated/bank-customer-churn-modeling](https://www.kaggle.com/barelydedicated/bank-customer-churn-modeling)"
   ]
  },
  {
   "cell_type": "markdown",
   "metadata": {},
   "source": [
    "## Подготовка данных"
   ]
  },
  {
   "cell_type": "markdown",
   "metadata": {},
   "source": [
    "### Описание данных"
   ]
  },
  {
   "cell_type": "markdown",
   "metadata": {},
   "source": [
    "\n",
    "Данные находятся в файле /datasets/Churn.csv (англ. «отток клиентов»)\n",
    "\n",
    "Признаки:    \n",
    "*\t`RowNumber` — индекс строки в данных\n",
    "*\t`CustomerId` — уникальный идентификатор клиента\n",
    "*\t`Surname` — фамилия\n",
    "*\t`CreditScore` — кредитный рейтинг\n",
    "*\t`Geography` — страна проживания\n",
    "*\t`Gender` — пол\n",
    "*\t`Age` — возраст\n",
    "*\t`Tenure` — сколько лет человек является клиентом банка\n",
    "*\t`Balance` — баланс на счёте\n",
    "*\t`NumOfProducts` — количество продуктов банка, используемых клиентом\n",
    "*\t`HasCrCard` — наличие кредитной карты\n",
    "*\t`IsActiveMember` — активность клиента\n",
    "*\t`EstimatedSalary` — предполагаемая зарплата\n",
    "\n",
    "Целевой признак:\n",
    "*\t`Exited` — факт ухода клиента\n"
   ]
  },
  {
   "cell_type": "markdown",
   "metadata": {},
   "source": [
    "### Открытие и чтение файла"
   ]
  },
  {
   "cell_type": "markdown",
   "metadata": {},
   "source": [
    "Импортируем необходимые в работе библиотеки и модули"
   ]
  },
  {
   "cell_type": "code",
   "execution_count": 163,
   "metadata": {},
   "outputs": [],
   "source": [
    "import numpy as np\n",
    "import pandas as pd\n",
    "from sklearn.metrics import (accuracy_score, mean_squared_error, mean_absolute_error,\n",
    "                             roc_auc_score, recall_score, precision_score, f1_score)\n",
    "from sklearn.preprocessing import StandardScaler\n",
    "from sklearn.linear_model import LogisticRegression\n",
    "from sklearn.tree import DecisionTreeClassifier\n",
    "from sklearn.ensemble import RandomForestClassifier\n",
    "from sklearn.model_selection import train_test_split\n",
    "from sklearn.utils import shuffle\n",
    "import matplotlib.pyplot as plt\n",
    "import warnings\n",
    "warnings.filterwarnings('ignore')"
   ]
  },
  {
   "cell_type": "code",
   "execution_count": 164,
   "metadata": {},
   "outputs": [],
   "source": [
    "# откроем датасет и сохраним его в переменной df\n",
    "df = pd.read_csv('/datasets/Churn.csv')"
   ]
  },
  {
   "cell_type": "code",
   "execution_count": 165,
   "metadata": {},
   "outputs": [
    {
     "name": "stdout",
     "output_type": "stream",
     "text": [
      "(10000, 14)\n"
     ]
    }
   ],
   "source": [
    "# посмотрим на форму датасета\n",
    "print(df.shape)"
   ]
  },
  {
   "cell_type": "code",
   "execution_count": 166,
   "metadata": {},
   "outputs": [
    {
     "data": {
      "text/html": [
       "<div>\n",
       "<style scoped>\n",
       "    .dataframe tbody tr th:only-of-type {\n",
       "        vertical-align: middle;\n",
       "    }\n",
       "\n",
       "    .dataframe tbody tr th {\n",
       "        vertical-align: top;\n",
       "    }\n",
       "\n",
       "    .dataframe thead th {\n",
       "        text-align: right;\n",
       "    }\n",
       "</style>\n",
       "<table border=\"1\" class=\"dataframe\">\n",
       "  <thead>\n",
       "    <tr style=\"text-align: right;\">\n",
       "      <th></th>\n",
       "      <th>RowNumber</th>\n",
       "      <th>CustomerId</th>\n",
       "      <th>Surname</th>\n",
       "      <th>CreditScore</th>\n",
       "      <th>Geography</th>\n",
       "      <th>Gender</th>\n",
       "      <th>Age</th>\n",
       "      <th>Tenure</th>\n",
       "      <th>Balance</th>\n",
       "      <th>NumOfProducts</th>\n",
       "      <th>HasCrCard</th>\n",
       "      <th>IsActiveMember</th>\n",
       "      <th>EstimatedSalary</th>\n",
       "      <th>Exited</th>\n",
       "    </tr>\n",
       "  </thead>\n",
       "  <tbody>\n",
       "    <tr>\n",
       "      <td>0</td>\n",
       "      <td>1</td>\n",
       "      <td>15634602</td>\n",
       "      <td>Hargrave</td>\n",
       "      <td>619</td>\n",
       "      <td>France</td>\n",
       "      <td>Female</td>\n",
       "      <td>42</td>\n",
       "      <td>2.0</td>\n",
       "      <td>0.00</td>\n",
       "      <td>1</td>\n",
       "      <td>1</td>\n",
       "      <td>1</td>\n",
       "      <td>101348.88</td>\n",
       "      <td>1</td>\n",
       "    </tr>\n",
       "    <tr>\n",
       "      <td>1</td>\n",
       "      <td>2</td>\n",
       "      <td>15647311</td>\n",
       "      <td>Hill</td>\n",
       "      <td>608</td>\n",
       "      <td>Spain</td>\n",
       "      <td>Female</td>\n",
       "      <td>41</td>\n",
       "      <td>1.0</td>\n",
       "      <td>83807.86</td>\n",
       "      <td>1</td>\n",
       "      <td>0</td>\n",
       "      <td>1</td>\n",
       "      <td>112542.58</td>\n",
       "      <td>0</td>\n",
       "    </tr>\n",
       "    <tr>\n",
       "      <td>2</td>\n",
       "      <td>3</td>\n",
       "      <td>15619304</td>\n",
       "      <td>Onio</td>\n",
       "      <td>502</td>\n",
       "      <td>France</td>\n",
       "      <td>Female</td>\n",
       "      <td>42</td>\n",
       "      <td>8.0</td>\n",
       "      <td>159660.80</td>\n",
       "      <td>3</td>\n",
       "      <td>1</td>\n",
       "      <td>0</td>\n",
       "      <td>113931.57</td>\n",
       "      <td>1</td>\n",
       "    </tr>\n",
       "    <tr>\n",
       "      <td>3</td>\n",
       "      <td>4</td>\n",
       "      <td>15701354</td>\n",
       "      <td>Boni</td>\n",
       "      <td>699</td>\n",
       "      <td>France</td>\n",
       "      <td>Female</td>\n",
       "      <td>39</td>\n",
       "      <td>1.0</td>\n",
       "      <td>0.00</td>\n",
       "      <td>2</td>\n",
       "      <td>0</td>\n",
       "      <td>0</td>\n",
       "      <td>93826.63</td>\n",
       "      <td>0</td>\n",
       "    </tr>\n",
       "    <tr>\n",
       "      <td>4</td>\n",
       "      <td>5</td>\n",
       "      <td>15737888</td>\n",
       "      <td>Mitchell</td>\n",
       "      <td>850</td>\n",
       "      <td>Spain</td>\n",
       "      <td>Female</td>\n",
       "      <td>43</td>\n",
       "      <td>2.0</td>\n",
       "      <td>125510.82</td>\n",
       "      <td>1</td>\n",
       "      <td>1</td>\n",
       "      <td>1</td>\n",
       "      <td>79084.10</td>\n",
       "      <td>0</td>\n",
       "    </tr>\n",
       "  </tbody>\n",
       "</table>\n",
       "</div>"
      ],
      "text/plain": [
       "   RowNumber  CustomerId   Surname  CreditScore Geography  Gender  Age  \\\n",
       "0          1    15634602  Hargrave          619    France  Female   42   \n",
       "1          2    15647311      Hill          608     Spain  Female   41   \n",
       "2          3    15619304      Onio          502    France  Female   42   \n",
       "3          4    15701354      Boni          699    France  Female   39   \n",
       "4          5    15737888  Mitchell          850     Spain  Female   43   \n",
       "\n",
       "   Tenure    Balance  NumOfProducts  HasCrCard  IsActiveMember  \\\n",
       "0     2.0       0.00              1          1               1   \n",
       "1     1.0   83807.86              1          0               1   \n",
       "2     8.0  159660.80              3          1               0   \n",
       "3     1.0       0.00              2          0               0   \n",
       "4     2.0  125510.82              1          1               1   \n",
       "\n",
       "   EstimatedSalary  Exited  \n",
       "0        101348.88       1  \n",
       "1        112542.58       0  \n",
       "2        113931.57       1  \n",
       "3         93826.63       0  \n",
       "4         79084.10       0  "
      ]
     },
     "metadata": {},
     "output_type": "display_data"
    }
   ],
   "source": [
    "# выведем первые пять строк таблицы\n",
    "display(df.head())"
   ]
  },
  {
   "cell_type": "code",
   "execution_count": 167,
   "metadata": {},
   "outputs": [
    {
     "name": "stdout",
     "output_type": "stream",
     "text": [
      "<class 'pandas.core.frame.DataFrame'>\n",
      "RangeIndex: 10000 entries, 0 to 9999\n",
      "Data columns (total 14 columns):\n",
      "RowNumber          10000 non-null int64\n",
      "CustomerId         10000 non-null int64\n",
      "Surname            10000 non-null object\n",
      "CreditScore        10000 non-null int64\n",
      "Geography          10000 non-null object\n",
      "Gender             10000 non-null object\n",
      "Age                10000 non-null int64\n",
      "Tenure             9091 non-null float64\n",
      "Balance            10000 non-null float64\n",
      "NumOfProducts      10000 non-null int64\n",
      "HasCrCard          10000 non-null int64\n",
      "IsActiveMember     10000 non-null int64\n",
      "EstimatedSalary    10000 non-null float64\n",
      "Exited             10000 non-null int64\n",
      "dtypes: float64(3), int64(8), object(3)\n",
      "memory usage: 1.1+ MB\n"
     ]
    }
   ],
   "source": [
    "# выведем общую информацию по таблице\n",
    "df.info()"
   ]
  },
  {
   "cell_type": "code",
   "execution_count": 168,
   "metadata": {},
   "outputs": [
    {
     "data": {
      "text/html": [
       "<div>\n",
       "<style scoped>\n",
       "    .dataframe tbody tr th:only-of-type {\n",
       "        vertical-align: middle;\n",
       "    }\n",
       "\n",
       "    .dataframe tbody tr th {\n",
       "        vertical-align: top;\n",
       "    }\n",
       "\n",
       "    .dataframe thead th {\n",
       "        text-align: right;\n",
       "    }\n",
       "</style>\n",
       "<table border=\"1\" class=\"dataframe\">\n",
       "  <thead>\n",
       "    <tr style=\"text-align: right;\">\n",
       "      <th></th>\n",
       "      <th>RowNumber</th>\n",
       "      <th>CustomerId</th>\n",
       "      <th>CreditScore</th>\n",
       "      <th>Age</th>\n",
       "      <th>Tenure</th>\n",
       "      <th>Balance</th>\n",
       "      <th>NumOfProducts</th>\n",
       "      <th>HasCrCard</th>\n",
       "      <th>IsActiveMember</th>\n",
       "      <th>EstimatedSalary</th>\n",
       "      <th>Exited</th>\n",
       "    </tr>\n",
       "  </thead>\n",
       "  <tbody>\n",
       "    <tr>\n",
       "      <td>count</td>\n",
       "      <td>10000.00000</td>\n",
       "      <td>1.000000e+04</td>\n",
       "      <td>10000.000000</td>\n",
       "      <td>10000.000000</td>\n",
       "      <td>9091.000000</td>\n",
       "      <td>10000.000000</td>\n",
       "      <td>10000.000000</td>\n",
       "      <td>10000.00000</td>\n",
       "      <td>10000.000000</td>\n",
       "      <td>10000.000000</td>\n",
       "      <td>10000.000000</td>\n",
       "    </tr>\n",
       "    <tr>\n",
       "      <td>mean</td>\n",
       "      <td>5000.50000</td>\n",
       "      <td>1.569094e+07</td>\n",
       "      <td>650.528800</td>\n",
       "      <td>38.921800</td>\n",
       "      <td>4.997690</td>\n",
       "      <td>76485.889288</td>\n",
       "      <td>1.530200</td>\n",
       "      <td>0.70550</td>\n",
       "      <td>0.515100</td>\n",
       "      <td>100090.239881</td>\n",
       "      <td>0.203700</td>\n",
       "    </tr>\n",
       "    <tr>\n",
       "      <td>std</td>\n",
       "      <td>2886.89568</td>\n",
       "      <td>7.193619e+04</td>\n",
       "      <td>96.653299</td>\n",
       "      <td>10.487806</td>\n",
       "      <td>2.894723</td>\n",
       "      <td>62397.405202</td>\n",
       "      <td>0.581654</td>\n",
       "      <td>0.45584</td>\n",
       "      <td>0.499797</td>\n",
       "      <td>57510.492818</td>\n",
       "      <td>0.402769</td>\n",
       "    </tr>\n",
       "    <tr>\n",
       "      <td>min</td>\n",
       "      <td>1.00000</td>\n",
       "      <td>1.556570e+07</td>\n",
       "      <td>350.000000</td>\n",
       "      <td>18.000000</td>\n",
       "      <td>0.000000</td>\n",
       "      <td>0.000000</td>\n",
       "      <td>1.000000</td>\n",
       "      <td>0.00000</td>\n",
       "      <td>0.000000</td>\n",
       "      <td>11.580000</td>\n",
       "      <td>0.000000</td>\n",
       "    </tr>\n",
       "    <tr>\n",
       "      <td>25%</td>\n",
       "      <td>2500.75000</td>\n",
       "      <td>1.562853e+07</td>\n",
       "      <td>584.000000</td>\n",
       "      <td>32.000000</td>\n",
       "      <td>2.000000</td>\n",
       "      <td>0.000000</td>\n",
       "      <td>1.000000</td>\n",
       "      <td>0.00000</td>\n",
       "      <td>0.000000</td>\n",
       "      <td>51002.110000</td>\n",
       "      <td>0.000000</td>\n",
       "    </tr>\n",
       "    <tr>\n",
       "      <td>50%</td>\n",
       "      <td>5000.50000</td>\n",
       "      <td>1.569074e+07</td>\n",
       "      <td>652.000000</td>\n",
       "      <td>37.000000</td>\n",
       "      <td>5.000000</td>\n",
       "      <td>97198.540000</td>\n",
       "      <td>1.000000</td>\n",
       "      <td>1.00000</td>\n",
       "      <td>1.000000</td>\n",
       "      <td>100193.915000</td>\n",
       "      <td>0.000000</td>\n",
       "    </tr>\n",
       "    <tr>\n",
       "      <td>75%</td>\n",
       "      <td>7500.25000</td>\n",
       "      <td>1.575323e+07</td>\n",
       "      <td>718.000000</td>\n",
       "      <td>44.000000</td>\n",
       "      <td>7.000000</td>\n",
       "      <td>127644.240000</td>\n",
       "      <td>2.000000</td>\n",
       "      <td>1.00000</td>\n",
       "      <td>1.000000</td>\n",
       "      <td>149388.247500</td>\n",
       "      <td>0.000000</td>\n",
       "    </tr>\n",
       "    <tr>\n",
       "      <td>max</td>\n",
       "      <td>10000.00000</td>\n",
       "      <td>1.581569e+07</td>\n",
       "      <td>850.000000</td>\n",
       "      <td>92.000000</td>\n",
       "      <td>10.000000</td>\n",
       "      <td>250898.090000</td>\n",
       "      <td>4.000000</td>\n",
       "      <td>1.00000</td>\n",
       "      <td>1.000000</td>\n",
       "      <td>199992.480000</td>\n",
       "      <td>1.000000</td>\n",
       "    </tr>\n",
       "  </tbody>\n",
       "</table>\n",
       "</div>"
      ],
      "text/plain": [
       "         RowNumber    CustomerId   CreditScore           Age       Tenure  \\\n",
       "count  10000.00000  1.000000e+04  10000.000000  10000.000000  9091.000000   \n",
       "mean    5000.50000  1.569094e+07    650.528800     38.921800     4.997690   \n",
       "std     2886.89568  7.193619e+04     96.653299     10.487806     2.894723   \n",
       "min        1.00000  1.556570e+07    350.000000     18.000000     0.000000   \n",
       "25%     2500.75000  1.562853e+07    584.000000     32.000000     2.000000   \n",
       "50%     5000.50000  1.569074e+07    652.000000     37.000000     5.000000   \n",
       "75%     7500.25000  1.575323e+07    718.000000     44.000000     7.000000   \n",
       "max    10000.00000  1.581569e+07    850.000000     92.000000    10.000000   \n",
       "\n",
       "             Balance  NumOfProducts    HasCrCard  IsActiveMember  \\\n",
       "count   10000.000000   10000.000000  10000.00000    10000.000000   \n",
       "mean    76485.889288       1.530200      0.70550        0.515100   \n",
       "std     62397.405202       0.581654      0.45584        0.499797   \n",
       "min         0.000000       1.000000      0.00000        0.000000   \n",
       "25%         0.000000       1.000000      0.00000        0.000000   \n",
       "50%     97198.540000       1.000000      1.00000        1.000000   \n",
       "75%    127644.240000       2.000000      1.00000        1.000000   \n",
       "max    250898.090000       4.000000      1.00000        1.000000   \n",
       "\n",
       "       EstimatedSalary        Exited  \n",
       "count     10000.000000  10000.000000  \n",
       "mean     100090.239881      0.203700  \n",
       "std       57510.492818      0.402769  \n",
       "min          11.580000      0.000000  \n",
       "25%       51002.110000      0.000000  \n",
       "50%      100193.915000      0.000000  \n",
       "75%      149388.247500      0.000000  \n",
       "max      199992.480000      1.000000  "
      ]
     },
     "execution_count": 168,
     "metadata": {},
     "output_type": "execute_result"
    }
   ],
   "source": [
    "# посмотрим на технические характеристики\n",
    "df.describe()"
   ]
  },
  {
   "cell_type": "markdown",
   "metadata": {},
   "source": [
    "### Удаление бесполезных признаков"
   ]
  },
  {
   "cell_type": "markdown",
   "metadata": {},
   "source": [
    "По предварительному анализу данных можно предположить, что признаки `RowNumber`, `'CustomerId'` и `'Surname'` бесполезны для прогнозирования `'Exited'`, поэтому удалим их."
   ]
  },
  {
   "cell_type": "code",
   "execution_count": 169,
   "metadata": {},
   "outputs": [],
   "source": [
    "df = df.drop(columns=['RowNumber', 'CustomerId', 'Surname'])"
   ]
  },
  {
   "cell_type": "code",
   "execution_count": 170,
   "metadata": {},
   "outputs": [
    {
     "data": {
      "text/html": [
       "<div>\n",
       "<style scoped>\n",
       "    .dataframe tbody tr th:only-of-type {\n",
       "        vertical-align: middle;\n",
       "    }\n",
       "\n",
       "    .dataframe tbody tr th {\n",
       "        vertical-align: top;\n",
       "    }\n",
       "\n",
       "    .dataframe thead th {\n",
       "        text-align: right;\n",
       "    }\n",
       "</style>\n",
       "<table border=\"1\" class=\"dataframe\">\n",
       "  <thead>\n",
       "    <tr style=\"text-align: right;\">\n",
       "      <th></th>\n",
       "      <th>CreditScore</th>\n",
       "      <th>Geography</th>\n",
       "      <th>Gender</th>\n",
       "      <th>Age</th>\n",
       "      <th>Tenure</th>\n",
       "      <th>Balance</th>\n",
       "      <th>NumOfProducts</th>\n",
       "      <th>HasCrCard</th>\n",
       "      <th>IsActiveMember</th>\n",
       "      <th>EstimatedSalary</th>\n",
       "      <th>Exited</th>\n",
       "    </tr>\n",
       "  </thead>\n",
       "  <tbody>\n",
       "    <tr>\n",
       "      <td>0</td>\n",
       "      <td>619</td>\n",
       "      <td>France</td>\n",
       "      <td>Female</td>\n",
       "      <td>42</td>\n",
       "      <td>2.0</td>\n",
       "      <td>0.00</td>\n",
       "      <td>1</td>\n",
       "      <td>1</td>\n",
       "      <td>1</td>\n",
       "      <td>101348.88</td>\n",
       "      <td>1</td>\n",
       "    </tr>\n",
       "    <tr>\n",
       "      <td>1</td>\n",
       "      <td>608</td>\n",
       "      <td>Spain</td>\n",
       "      <td>Female</td>\n",
       "      <td>41</td>\n",
       "      <td>1.0</td>\n",
       "      <td>83807.86</td>\n",
       "      <td>1</td>\n",
       "      <td>0</td>\n",
       "      <td>1</td>\n",
       "      <td>112542.58</td>\n",
       "      <td>0</td>\n",
       "    </tr>\n",
       "    <tr>\n",
       "      <td>2</td>\n",
       "      <td>502</td>\n",
       "      <td>France</td>\n",
       "      <td>Female</td>\n",
       "      <td>42</td>\n",
       "      <td>8.0</td>\n",
       "      <td>159660.80</td>\n",
       "      <td>3</td>\n",
       "      <td>1</td>\n",
       "      <td>0</td>\n",
       "      <td>113931.57</td>\n",
       "      <td>1</td>\n",
       "    </tr>\n",
       "    <tr>\n",
       "      <td>3</td>\n",
       "      <td>699</td>\n",
       "      <td>France</td>\n",
       "      <td>Female</td>\n",
       "      <td>39</td>\n",
       "      <td>1.0</td>\n",
       "      <td>0.00</td>\n",
       "      <td>2</td>\n",
       "      <td>0</td>\n",
       "      <td>0</td>\n",
       "      <td>93826.63</td>\n",
       "      <td>0</td>\n",
       "    </tr>\n",
       "    <tr>\n",
       "      <td>4</td>\n",
       "      <td>850</td>\n",
       "      <td>Spain</td>\n",
       "      <td>Female</td>\n",
       "      <td>43</td>\n",
       "      <td>2.0</td>\n",
       "      <td>125510.82</td>\n",
       "      <td>1</td>\n",
       "      <td>1</td>\n",
       "      <td>1</td>\n",
       "      <td>79084.10</td>\n",
       "      <td>0</td>\n",
       "    </tr>\n",
       "  </tbody>\n",
       "</table>\n",
       "</div>"
      ],
      "text/plain": [
       "   CreditScore Geography  Gender  Age  Tenure    Balance  NumOfProducts  \\\n",
       "0          619    France  Female   42     2.0       0.00              1   \n",
       "1          608     Spain  Female   41     1.0   83807.86              1   \n",
       "2          502    France  Female   42     8.0  159660.80              3   \n",
       "3          699    France  Female   39     1.0       0.00              2   \n",
       "4          850     Spain  Female   43     2.0  125510.82              1   \n",
       "\n",
       "   HasCrCard  IsActiveMember  EstimatedSalary  Exited  \n",
       "0          1               1        101348.88       1  \n",
       "1          0               1        112542.58       0  \n",
       "2          1               0        113931.57       1  \n",
       "3          0               0         93826.63       0  \n",
       "4          1               1         79084.10       0  "
      ]
     },
     "metadata": {},
     "output_type": "display_data"
    }
   ],
   "source": [
    "# посмотрим на первые пять строк таблицы\n",
    "display(df.head())"
   ]
  },
  {
   "cell_type": "markdown",
   "metadata": {},
   "source": [
    "### Обработка пропусков"
   ]
  },
  {
   "cell_type": "markdown",
   "metadata": {},
   "source": [
    "Так же видно, что столбец `«Tenure»` - количество недвижимости у клиента содержит пропущенные значения, поэтому заменим их медианным значением:"
   ]
  },
  {
   "cell_type": "code",
   "execution_count": 171,
   "metadata": {},
   "outputs": [
    {
     "name": "stdout",
     "output_type": "stream",
     "text": [
      "Количество пропусков после замены: 0\n"
     ]
    }
   ],
   "source": [
    "# заменяем пропущенные значения столбца 'Tenure' медианой\n",
    "df.loc[df['Tenure'].isna(), 'Tenure'] = df['Tenure'].median()\n",
    "\n",
    "# проверим остались ли пропуски после замены\n",
    "print(f'Количество пропусков после замены:', df['Tenure'].isna().sum())"
   ]
  },
  {
   "cell_type": "code",
   "execution_count": 172,
   "metadata": {},
   "outputs": [
    {
     "data": {
      "text/plain": [
       "5.0     1836\n",
       "1.0      952\n",
       "2.0      950\n",
       "8.0      933\n",
       "3.0      928\n",
       "7.0      925\n",
       "4.0      885\n",
       "9.0      882\n",
       "6.0      881\n",
       "10.0     446\n",
       "0.0      382\n",
       "Name: Tenure, dtype: int64"
      ]
     },
     "execution_count": 172,
     "metadata": {},
     "output_type": "execute_result"
    }
   ],
   "source": [
    "# посмотрим какое количество недвижимости у клиента встречается чаще всего\n",
    "df['Tenure'].value_counts()"
   ]
  },
  {
   "cell_type": "markdown",
   "metadata": {},
   "source": [
    "### Вывод"
   ]
  },
  {
   "cell_type": "markdown",
   "metadata": {},
   "source": [
    "На данном этапе мы открыли и изучили файл с данными, удалили признаки, которые по нашему мнению являются бесполезными для прогнозирования, обработали пропущенные значения, заменив их на медиану."
   ]
  },
  {
   "cell_type": "markdown",
   "metadata": {},
   "source": [
    "## Исследование задачи"
   ]
  },
  {
   "cell_type": "markdown",
   "metadata": {},
   "source": [
    "###\tПреобразование категориальных признаков"
   ]
  },
  {
   "cell_type": "markdown",
   "metadata": {},
   "source": [
    "Преобразуем категориальные признаки `«Geography»` и `«Gender»` техникой `OHE`. Чтобы не попасть в дамми-ловушку, применим аргумент `drop_first` функции `pd.get_dummies()` со значением `True`."
   ]
  },
  {
   "cell_type": "code",
   "execution_count": 173,
   "metadata": {},
   "outputs": [],
   "source": [
    "df = pd.get_dummies(df, drop_first=True)"
   ]
  },
  {
   "cell_type": "code",
   "execution_count": 174,
   "metadata": {},
   "outputs": [
    {
     "data": {
      "text/html": [
       "<div>\n",
       "<style scoped>\n",
       "    .dataframe tbody tr th:only-of-type {\n",
       "        vertical-align: middle;\n",
       "    }\n",
       "\n",
       "    .dataframe tbody tr th {\n",
       "        vertical-align: top;\n",
       "    }\n",
       "\n",
       "    .dataframe thead th {\n",
       "        text-align: right;\n",
       "    }\n",
       "</style>\n",
       "<table border=\"1\" class=\"dataframe\">\n",
       "  <thead>\n",
       "    <tr style=\"text-align: right;\">\n",
       "      <th></th>\n",
       "      <th>CreditScore</th>\n",
       "      <th>Age</th>\n",
       "      <th>Tenure</th>\n",
       "      <th>Balance</th>\n",
       "      <th>NumOfProducts</th>\n",
       "      <th>HasCrCard</th>\n",
       "      <th>IsActiveMember</th>\n",
       "      <th>EstimatedSalary</th>\n",
       "      <th>Exited</th>\n",
       "      <th>Geography_Germany</th>\n",
       "      <th>Geography_Spain</th>\n",
       "      <th>Gender_Male</th>\n",
       "    </tr>\n",
       "  </thead>\n",
       "  <tbody>\n",
       "    <tr>\n",
       "      <td>0</td>\n",
       "      <td>619</td>\n",
       "      <td>42</td>\n",
       "      <td>2.0</td>\n",
       "      <td>0.00</td>\n",
       "      <td>1</td>\n",
       "      <td>1</td>\n",
       "      <td>1</td>\n",
       "      <td>101348.88</td>\n",
       "      <td>1</td>\n",
       "      <td>0</td>\n",
       "      <td>0</td>\n",
       "      <td>0</td>\n",
       "    </tr>\n",
       "    <tr>\n",
       "      <td>1</td>\n",
       "      <td>608</td>\n",
       "      <td>41</td>\n",
       "      <td>1.0</td>\n",
       "      <td>83807.86</td>\n",
       "      <td>1</td>\n",
       "      <td>0</td>\n",
       "      <td>1</td>\n",
       "      <td>112542.58</td>\n",
       "      <td>0</td>\n",
       "      <td>0</td>\n",
       "      <td>1</td>\n",
       "      <td>0</td>\n",
       "    </tr>\n",
       "    <tr>\n",
       "      <td>2</td>\n",
       "      <td>502</td>\n",
       "      <td>42</td>\n",
       "      <td>8.0</td>\n",
       "      <td>159660.80</td>\n",
       "      <td>3</td>\n",
       "      <td>1</td>\n",
       "      <td>0</td>\n",
       "      <td>113931.57</td>\n",
       "      <td>1</td>\n",
       "      <td>0</td>\n",
       "      <td>0</td>\n",
       "      <td>0</td>\n",
       "    </tr>\n",
       "    <tr>\n",
       "      <td>3</td>\n",
       "      <td>699</td>\n",
       "      <td>39</td>\n",
       "      <td>1.0</td>\n",
       "      <td>0.00</td>\n",
       "      <td>2</td>\n",
       "      <td>0</td>\n",
       "      <td>0</td>\n",
       "      <td>93826.63</td>\n",
       "      <td>0</td>\n",
       "      <td>0</td>\n",
       "      <td>0</td>\n",
       "      <td>0</td>\n",
       "    </tr>\n",
       "    <tr>\n",
       "      <td>4</td>\n",
       "      <td>850</td>\n",
       "      <td>43</td>\n",
       "      <td>2.0</td>\n",
       "      <td>125510.82</td>\n",
       "      <td>1</td>\n",
       "      <td>1</td>\n",
       "      <td>1</td>\n",
       "      <td>79084.10</td>\n",
       "      <td>0</td>\n",
       "      <td>0</td>\n",
       "      <td>1</td>\n",
       "      <td>0</td>\n",
       "    </tr>\n",
       "  </tbody>\n",
       "</table>\n",
       "</div>"
      ],
      "text/plain": [
       "   CreditScore  Age  Tenure    Balance  NumOfProducts  HasCrCard  \\\n",
       "0          619   42     2.0       0.00              1          1   \n",
       "1          608   41     1.0   83807.86              1          0   \n",
       "2          502   42     8.0  159660.80              3          1   \n",
       "3          699   39     1.0       0.00              2          0   \n",
       "4          850   43     2.0  125510.82              1          1   \n",
       "\n",
       "   IsActiveMember  EstimatedSalary  Exited  Geography_Germany  \\\n",
       "0               1        101348.88       1                  0   \n",
       "1               1        112542.58       0                  0   \n",
       "2               0        113931.57       1                  0   \n",
       "3               0         93826.63       0                  0   \n",
       "4               1         79084.10       0                  0   \n",
       "\n",
       "   Geography_Spain  Gender_Male  \n",
       "0                0            0  \n",
       "1                1            0  \n",
       "2                0            0  \n",
       "3                0            0  \n",
       "4                1            0  "
      ]
     },
     "metadata": {},
     "output_type": "display_data"
    }
   ],
   "source": [
    "# выведем первые пять строк таблицы\n",
    "display(df.head())"
   ]
  },
  {
   "cell_type": "markdown",
   "metadata": {},
   "source": [
    "### Разделение данных на признаки и целевое значение"
   ]
  },
  {
   "cell_type": "code",
   "execution_count": 175,
   "metadata": {},
   "outputs": [],
   "source": [
    "features = df.drop(columns=['Exited'])     # признаки\n",
    "target = df['Exited']                      # целевое значение"
   ]
  },
  {
   "cell_type": "code",
   "execution_count": 176,
   "metadata": {},
   "outputs": [
    {
     "data": {
      "text/plain": [
       "((10000, 11), (10000,))"
      ]
     },
     "execution_count": 176,
     "metadata": {},
     "output_type": "execute_result"
    }
   ],
   "source": [
    "# посмотрим на размеры новых данных\n",
    "features.shape, target.shape"
   ]
  },
  {
   "cell_type": "markdown",
   "metadata": {},
   "source": [
    "Как видно данные успешно разделены."
   ]
  },
  {
   "cell_type": "markdown",
   "metadata": {},
   "source": [
    "### Разделение данных на выборки"
   ]
  },
  {
   "cell_type": "markdown",
   "metadata": {},
   "source": [
    "Разделим данные на обучающую, валидационную и тестовую выборки. Размеры тестового и валидационного наборов сделаем равными. Исходные данные разобьем в соотношении 3:1:1:\n",
    "* 1)\tОбучающая выборка (train) = 60%\n",
    "* 2)\tВалидационная выборка (valid) = 20%\n",
    "* 3)\tТестовая выборка (test) = 20%"
   ]
  },
  {
   "cell_type": "code",
   "execution_count": 177,
   "metadata": {},
   "outputs": [],
   "source": [
    "# разделим данные на обучающую, валидационную и тестовую выборки через numpy.split ()\n",
    "df_train, df_valid, df_test = np.split(df.sample(frac=1), [int(.6*len(df)), int(.8*len(df))])"
   ]
  },
  {
   "cell_type": "markdown",
   "metadata": {},
   "source": [
    "Проверим как разделились выборки:"
   ]
  },
  {
   "cell_type": "code",
   "execution_count": 178,
   "metadata": {},
   "outputs": [
    {
     "name": "stdout",
     "output_type": "stream",
     "text": [
      "Доля обучающей выборки равна: 60%\n",
      "Доля валидационной выборки равна: 20%\n",
      "Доля тестовой выборки равна: 20%\n"
     ]
    }
   ],
   "source": [
    "print('Доля обучающей выборки равна: {:.0%}'.format(len(df_train) / len(df)))\n",
    "print('Доля валидационной выборки равна: {:.0%}'.format(len(df_valid) / len(df)))\n",
    "print('Доля тестовой выборки равна: {:.0%}'.format(len(df_test) / len(df)))"
   ]
  },
  {
   "cell_type": "markdown",
   "metadata": {},
   "source": [
    "Cоздадим переменные для признаков и целевого признака:"
   ]
  },
  {
   "cell_type": "code",
   "execution_count": 179,
   "metadata": {},
   "outputs": [
    {
     "name": "stdout",
     "output_type": "stream",
     "text": [
      "обучающая выборка:\n",
      "(6000, 11) (6000,)\n",
      "\n",
      "валидационная выборка:\n",
      "(2000, 11) (2000,)\n",
      "\n",
      "тестовая выборка:\n",
      "(2000, 11) (2000,)\n"
     ]
    }
   ],
   "source": [
    "# обучающая выборка\n",
    "print('обучающая выборка:')\n",
    "features_train = df_train.drop('Exited', axis=1)\n",
    "target_train = df_train['Exited']\n",
    "print(features_train.shape, target_train.shape)\n",
    "print()\n",
    "\n",
    "# валидационная выборка\n",
    "print('валидационная выборка:')\n",
    "features_valid = df_valid.drop('Exited', axis=1)\n",
    "target_valid = df_valid['Exited']\n",
    "print(features_valid.shape, target_valid.shape)\n",
    "print()\n",
    "\n",
    "# тестовая выборка\n",
    "print('тестовая выборка:')\n",
    "features_test = df_test.drop('Exited', axis=1)\n",
    "target_test = df_test['Exited']\n",
    "print(features_test.shape, target_test.shape)"
   ]
  },
  {
   "cell_type": "markdown",
   "metadata": {},
   "source": [
    "Как видим данные разбились на требуемые нам выборки."
   ]
  },
  {
   "cell_type": "markdown",
   "metadata": {},
   "source": [
    "### Маштабирование признаков"
   ]
  },
  {
   "cell_type": "markdown",
   "metadata": {},
   "source": [
    "Для удобства выведем названия признаков:"
   ]
  },
  {
   "cell_type": "code",
   "execution_count": 180,
   "metadata": {},
   "outputs": [
    {
     "name": "stdout",
     "output_type": "stream",
     "text": [
      "Index(['CreditScore', 'Age', 'Tenure', 'Balance', 'NumOfProducts', 'HasCrCard',\n",
      "       'IsActiveMember', 'EstimatedSalary', 'Geography_Germany',\n",
      "       'Geography_Spain', 'Gender_Male'],\n",
      "      dtype='object')\n"
     ]
    }
   ],
   "source": [
    "print(features.columns)"
   ]
  },
  {
   "cell_type": "markdown",
   "metadata": {},
   "source": [
    "Стандартизируем (только) численные признаки:"
   ]
  },
  {
   "cell_type": "code",
   "execution_count": 181,
   "metadata": {},
   "outputs": [
    {
     "data": {
      "text/html": [
       "<div>\n",
       "<style scoped>\n",
       "    .dataframe tbody tr th:only-of-type {\n",
       "        vertical-align: middle;\n",
       "    }\n",
       "\n",
       "    .dataframe tbody tr th {\n",
       "        vertical-align: top;\n",
       "    }\n",
       "\n",
       "    .dataframe thead th {\n",
       "        text-align: right;\n",
       "    }\n",
       "</style>\n",
       "<table border=\"1\" class=\"dataframe\">\n",
       "  <thead>\n",
       "    <tr style=\"text-align: right;\">\n",
       "      <th></th>\n",
       "      <th>CreditScore</th>\n",
       "      <th>Age</th>\n",
       "      <th>Tenure</th>\n",
       "      <th>Balance</th>\n",
       "      <th>NumOfProducts</th>\n",
       "      <th>HasCrCard</th>\n",
       "      <th>IsActiveMember</th>\n",
       "      <th>EstimatedSalary</th>\n",
       "      <th>Geography_Germany</th>\n",
       "      <th>Geography_Spain</th>\n",
       "      <th>Gender_Male</th>\n",
       "    </tr>\n",
       "  </thead>\n",
       "  <tbody>\n",
       "    <tr>\n",
       "      <td>7104</td>\n",
       "      <td>-0.758631</td>\n",
       "      <td>0.198176</td>\n",
       "      <td>-0.365659</td>\n",
       "      <td>0.193700</td>\n",
       "      <td>-0.919783</td>\n",
       "      <td>-1.547768</td>\n",
       "      <td>0.971733</td>\n",
       "      <td>0.626166</td>\n",
       "      <td>0</td>\n",
       "      <td>1</td>\n",
       "      <td>1</td>\n",
       "    </tr>\n",
       "    <tr>\n",
       "      <td>8869</td>\n",
       "      <td>0.198834</td>\n",
       "      <td>0.198176</td>\n",
       "      <td>-1.815966</td>\n",
       "      <td>1.174193</td>\n",
       "      <td>0.804810</td>\n",
       "      <td>-1.547768</td>\n",
       "      <td>-1.029090</td>\n",
       "      <td>0.145838</td>\n",
       "      <td>0</td>\n",
       "      <td>0</td>\n",
       "      <td>0</td>\n",
       "    </tr>\n",
       "    <tr>\n",
       "      <td>5494</td>\n",
       "      <td>-2.777634</td>\n",
       "      <td>0.868552</td>\n",
       "      <td>1.084649</td>\n",
       "      <td>0.302518</td>\n",
       "      <td>-0.919783</td>\n",
       "      <td>-1.547768</td>\n",
       "      <td>-1.029090</td>\n",
       "      <td>0.669568</td>\n",
       "      <td>0</td>\n",
       "      <td>1</td>\n",
       "      <td>0</td>\n",
       "    </tr>\n",
       "    <tr>\n",
       "      <td>7095</td>\n",
       "      <td>1.073041</td>\n",
       "      <td>-0.089128</td>\n",
       "      <td>-1.453389</td>\n",
       "      <td>0.647059</td>\n",
       "      <td>-0.919783</td>\n",
       "      <td>0.646092</td>\n",
       "      <td>-1.029090</td>\n",
       "      <td>0.394564</td>\n",
       "      <td>1</td>\n",
       "      <td>0</td>\n",
       "      <td>0</td>\n",
       "    </tr>\n",
       "    <tr>\n",
       "      <td>9955</td>\n",
       "      <td>0.667159</td>\n",
       "      <td>-0.951041</td>\n",
       "      <td>-0.365659</td>\n",
       "      <td>-1.232342</td>\n",
       "      <td>0.804810</td>\n",
       "      <td>0.646092</td>\n",
       "      <td>0.971733</td>\n",
       "      <td>-1.085892</td>\n",
       "      <td>0</td>\n",
       "      <td>1</td>\n",
       "      <td>1</td>\n",
       "    </tr>\n",
       "  </tbody>\n",
       "</table>\n",
       "</div>"
      ],
      "text/plain": [
       "      CreditScore       Age    Tenure   Balance  NumOfProducts  HasCrCard  \\\n",
       "7104    -0.758631  0.198176 -0.365659  0.193700      -0.919783  -1.547768   \n",
       "8869     0.198834  0.198176 -1.815966  1.174193       0.804810  -1.547768   \n",
       "5494    -2.777634  0.868552  1.084649  0.302518      -0.919783  -1.547768   \n",
       "7095     1.073041 -0.089128 -1.453389  0.647059      -0.919783   0.646092   \n",
       "9955     0.667159 -0.951041 -0.365659 -1.232342       0.804810   0.646092   \n",
       "\n",
       "      IsActiveMember  EstimatedSalary  Geography_Germany  Geography_Spain  \\\n",
       "7104        0.971733         0.626166                  0                1   \n",
       "8869       -1.029090         0.145838                  0                0   \n",
       "5494       -1.029090         0.669568                  0                1   \n",
       "7095       -1.029090         0.394564                  1                0   \n",
       "9955        0.971733        -1.085892                  0                1   \n",
       "\n",
       "      Gender_Male  \n",
       "7104            1  \n",
       "8869            0  \n",
       "5494            0  \n",
       "7095            0  \n",
       "9955            1  "
      ]
     },
     "metadata": {},
     "output_type": "display_data"
    },
    {
     "data": {
      "text/html": [
       "<div>\n",
       "<style scoped>\n",
       "    .dataframe tbody tr th:only-of-type {\n",
       "        vertical-align: middle;\n",
       "    }\n",
       "\n",
       "    .dataframe tbody tr th {\n",
       "        vertical-align: top;\n",
       "    }\n",
       "\n",
       "    .dataframe thead th {\n",
       "        text-align: right;\n",
       "    }\n",
       "</style>\n",
       "<table border=\"1\" class=\"dataframe\">\n",
       "  <thead>\n",
       "    <tr style=\"text-align: right;\">\n",
       "      <th></th>\n",
       "      <th>CreditScore</th>\n",
       "      <th>Age</th>\n",
       "      <th>Tenure</th>\n",
       "      <th>Balance</th>\n",
       "      <th>NumOfProducts</th>\n",
       "      <th>HasCrCard</th>\n",
       "      <th>IsActiveMember</th>\n",
       "      <th>EstimatedSalary</th>\n",
       "      <th>Geography_Germany</th>\n",
       "      <th>Geography_Spain</th>\n",
       "      <th>Gender_Male</th>\n",
       "    </tr>\n",
       "  </thead>\n",
       "  <tbody>\n",
       "    <tr>\n",
       "      <td>8606</td>\n",
       "      <td>1.635031</td>\n",
       "      <td>0.293944</td>\n",
       "      <td>-0.003082</td>\n",
       "      <td>-1.232342</td>\n",
       "      <td>0.804810</td>\n",
       "      <td>0.646092</td>\n",
       "      <td>0.971733</td>\n",
       "      <td>-0.431822</td>\n",
       "      <td>0</td>\n",
       "      <td>1</td>\n",
       "      <td>1</td>\n",
       "    </tr>\n",
       "    <tr>\n",
       "      <td>2355</td>\n",
       "      <td>-0.841889</td>\n",
       "      <td>0.293944</td>\n",
       "      <td>-1.453389</td>\n",
       "      <td>-1.232342</td>\n",
       "      <td>-0.919783</td>\n",
       "      <td>0.646092</td>\n",
       "      <td>0.971733</td>\n",
       "      <td>-0.278741</td>\n",
       "      <td>0</td>\n",
       "      <td>1</td>\n",
       "      <td>0</td>\n",
       "    </tr>\n",
       "    <tr>\n",
       "      <td>7744</td>\n",
       "      <td>0.927340</td>\n",
       "      <td>-0.280664</td>\n",
       "      <td>-1.815966</td>\n",
       "      <td>-1.232342</td>\n",
       "      <td>0.804810</td>\n",
       "      <td>-1.547768</td>\n",
       "      <td>-1.029090</td>\n",
       "      <td>0.595270</td>\n",
       "      <td>0</td>\n",
       "      <td>0</td>\n",
       "      <td>0</td>\n",
       "    </tr>\n",
       "    <tr>\n",
       "      <td>8705</td>\n",
       "      <td>0.958561</td>\n",
       "      <td>-0.376432</td>\n",
       "      <td>-1.090813</td>\n",
       "      <td>0.035270</td>\n",
       "      <td>-0.919783</td>\n",
       "      <td>0.646092</td>\n",
       "      <td>0.971733</td>\n",
       "      <td>0.481835</td>\n",
       "      <td>0</td>\n",
       "      <td>0</td>\n",
       "      <td>0</td>\n",
       "    </tr>\n",
       "    <tr>\n",
       "      <td>737</td>\n",
       "      <td>-1.299807</td>\n",
       "      <td>-0.280664</td>\n",
       "      <td>-1.090813</td>\n",
       "      <td>0.604021</td>\n",
       "      <td>-0.919783</td>\n",
       "      <td>-1.547768</td>\n",
       "      <td>0.971733</td>\n",
       "      <td>1.206013</td>\n",
       "      <td>0</td>\n",
       "      <td>0</td>\n",
       "      <td>1</td>\n",
       "    </tr>\n",
       "  </tbody>\n",
       "</table>\n",
       "</div>"
      ],
      "text/plain": [
       "      CreditScore       Age    Tenure   Balance  NumOfProducts  HasCrCard  \\\n",
       "8606     1.635031  0.293944 -0.003082 -1.232342       0.804810   0.646092   \n",
       "2355    -0.841889  0.293944 -1.453389 -1.232342      -0.919783   0.646092   \n",
       "7744     0.927340 -0.280664 -1.815966 -1.232342       0.804810  -1.547768   \n",
       "8705     0.958561 -0.376432 -1.090813  0.035270      -0.919783   0.646092   \n",
       "737     -1.299807 -0.280664 -1.090813  0.604021      -0.919783  -1.547768   \n",
       "\n",
       "      IsActiveMember  EstimatedSalary  Geography_Germany  Geography_Spain  \\\n",
       "8606        0.971733        -0.431822                  0                1   \n",
       "2355        0.971733        -0.278741                  0                1   \n",
       "7744       -1.029090         0.595270                  0                0   \n",
       "8705        0.971733         0.481835                  0                0   \n",
       "737         0.971733         1.206013                  0                0   \n",
       "\n",
       "      Gender_Male  \n",
       "8606            1  \n",
       "2355            0  \n",
       "7744            0  \n",
       "8705            0  \n",
       "737             1  "
      ]
     },
     "metadata": {},
     "output_type": "display_data"
    },
    {
     "data": {
      "text/html": [
       "<div>\n",
       "<style scoped>\n",
       "    .dataframe tbody tr th:only-of-type {\n",
       "        vertical-align: middle;\n",
       "    }\n",
       "\n",
       "    .dataframe tbody tr th {\n",
       "        vertical-align: top;\n",
       "    }\n",
       "\n",
       "    .dataframe thead th {\n",
       "        text-align: right;\n",
       "    }\n",
       "</style>\n",
       "<table border=\"1\" class=\"dataframe\">\n",
       "  <thead>\n",
       "    <tr style=\"text-align: right;\">\n",
       "      <th></th>\n",
       "      <th>CreditScore</th>\n",
       "      <th>Age</th>\n",
       "      <th>Tenure</th>\n",
       "      <th>Balance</th>\n",
       "      <th>NumOfProducts</th>\n",
       "      <th>HasCrCard</th>\n",
       "      <th>IsActiveMember</th>\n",
       "      <th>EstimatedSalary</th>\n",
       "      <th>Geography_Germany</th>\n",
       "      <th>Geography_Spain</th>\n",
       "      <th>Gender_Male</th>\n",
       "    </tr>\n",
       "  </thead>\n",
       "  <tbody>\n",
       "    <tr>\n",
       "      <td>2597</td>\n",
       "      <td>-0.602523</td>\n",
       "      <td>0.102408</td>\n",
       "      <td>-1.090813</td>\n",
       "      <td>1.976851</td>\n",
       "      <td>-0.919783</td>\n",
       "      <td>0.646092</td>\n",
       "      <td>0.971733</td>\n",
       "      <td>0.240642</td>\n",
       "      <td>0</td>\n",
       "      <td>1</td>\n",
       "      <td>0</td>\n",
       "    </tr>\n",
       "    <tr>\n",
       "      <td>4527</td>\n",
       "      <td>0.573494</td>\n",
       "      <td>-0.089128</td>\n",
       "      <td>-1.453389</td>\n",
       "      <td>1.802572</td>\n",
       "      <td>-0.919783</td>\n",
       "      <td>-1.547768</td>\n",
       "      <td>0.971733</td>\n",
       "      <td>0.124960</td>\n",
       "      <td>0</td>\n",
       "      <td>0</td>\n",
       "      <td>1</td>\n",
       "    </tr>\n",
       "    <tr>\n",
       "      <td>6801</td>\n",
       "      <td>-0.134198</td>\n",
       "      <td>0.389712</td>\n",
       "      <td>1.084649</td>\n",
       "      <td>-1.232342</td>\n",
       "      <td>-0.919783</td>\n",
       "      <td>0.646092</td>\n",
       "      <td>-1.029090</td>\n",
       "      <td>-1.532210</td>\n",
       "      <td>0</td>\n",
       "      <td>1</td>\n",
       "      <td>1</td>\n",
       "    </tr>\n",
       "    <tr>\n",
       "      <td>4062</td>\n",
       "      <td>-0.945962</td>\n",
       "      <td>0.581248</td>\n",
       "      <td>1.084649</td>\n",
       "      <td>-0.847163</td>\n",
       "      <td>-0.919783</td>\n",
       "      <td>-1.547768</td>\n",
       "      <td>0.971733</td>\n",
       "      <td>1.232169</td>\n",
       "      <td>0</td>\n",
       "      <td>0</td>\n",
       "      <td>1</td>\n",
       "    </tr>\n",
       "    <tr>\n",
       "      <td>340</td>\n",
       "      <td>-0.082162</td>\n",
       "      <td>0.102408</td>\n",
       "      <td>0.359495</td>\n",
       "      <td>0.842305</td>\n",
       "      <td>0.804810</td>\n",
       "      <td>-1.547768</td>\n",
       "      <td>0.971733</td>\n",
       "      <td>-0.235429</td>\n",
       "      <td>1</td>\n",
       "      <td>0</td>\n",
       "      <td>0</td>\n",
       "    </tr>\n",
       "  </tbody>\n",
       "</table>\n",
       "</div>"
      ],
      "text/plain": [
       "      CreditScore       Age    Tenure   Balance  NumOfProducts  HasCrCard  \\\n",
       "2597    -0.602523  0.102408 -1.090813  1.976851      -0.919783   0.646092   \n",
       "4527     0.573494 -0.089128 -1.453389  1.802572      -0.919783  -1.547768   \n",
       "6801    -0.134198  0.389712  1.084649 -1.232342      -0.919783   0.646092   \n",
       "4062    -0.945962  0.581248  1.084649 -0.847163      -0.919783  -1.547768   \n",
       "340     -0.082162  0.102408  0.359495  0.842305       0.804810  -1.547768   \n",
       "\n",
       "      IsActiveMember  EstimatedSalary  Geography_Germany  Geography_Spain  \\\n",
       "2597        0.971733         0.240642                  0                1   \n",
       "4527        0.971733         0.124960                  0                0   \n",
       "6801       -1.029090        -1.532210                  0                1   \n",
       "4062        0.971733         1.232169                  0                0   \n",
       "340         0.971733        -0.235429                  1                0   \n",
       "\n",
       "      Gender_Male  \n",
       "2597            0  \n",
       "4527            1  \n",
       "6801            1  \n",
       "4062            1  \n",
       "340             0  "
      ]
     },
     "metadata": {},
     "output_type": "display_data"
    }
   ],
   "source": [
    "numeric = ['CreditScore', \n",
    "           'Age', 'Tenure', 'Balance', \n",
    "           'NumOfProducts', 'HasCrCard', \n",
    "           'IsActiveMember', 'EstimatedSalary']\n",
    "\n",
    "# Создадим объект \"scaler\" и настроим его на обучающих данных\n",
    "scaler = StandardScaler()\n",
    "scaler.fit(features_train[numeric])\n",
    "\n",
    "# что бы код не вызывал предупреждение SettingWithCopy пропишем строку\n",
    "pd.options.mode.chained_assignment = None\n",
    "\n",
    "features_train[numeric] = scaler.transform(features_train[numeric])\n",
    "features_valid[numeric] = scaler.transform(features_valid[numeric])\n",
    "features_test[numeric] = scaler.transform(features_test[numeric])\n",
    "\n",
    "display(features_train.head())\n",
    "display(features_valid.head())\n",
    "display(features_test.head())"
   ]
  },
  {
   "cell_type": "markdown",
   "metadata": {},
   "source": [
    "### Выбор лучшей модели"
   ]
  },
  {
   "cell_type": "markdown",
   "metadata": {},
   "source": [
    "В качестве моделей будем использовать логистическую регрессию, дерево решений и случайный лес."
   ]
  },
  {
   "cell_type": "markdown",
   "metadata": {},
   "source": [
    "#### Логистическая регрессия"
   ]
  },
  {
   "cell_type": "markdown",
   "metadata": {},
   "source": [
    "Обучим модель `\"логистической регрессии\"` на обучающей выборке и посчитаем её качество на валидационных данных, а также посмотрим на другие метрики."
   ]
  },
  {
   "cell_type": "code",
   "execution_count": 182,
   "metadata": {},
   "outputs": [
    {
     "name": "stdout",
     "output_type": "stream",
     "text": [
      "\n",
      "---------------- Модель логистической регрессии ----------------\n",
      "\n",
      "Accuracy: 0.8245\n",
      "MSE: 0.1755\n",
      "RMSE: 0.4189272013130682\n",
      "MAE: 0.1755\n",
      "Полнота: 0.23255813953488372\n",
      "Точность: 0.625\n",
      "F1-мера: 0.33898305084745767\n"
     ]
    }
   ],
   "source": [
    "# Инициализируем модель логистической регрессии с параметром random_state=13\n",
    "model_logist = LogisticRegression(random_state=13, solver='liblinear') \n",
    "\n",
    "# обучим модель на тренировочной выборке\n",
    "model_logist.fit(features_train, target_train) \n",
    "\n",
    "result_logist = model_logist.score(features_valid, target_valid)\n",
    "\n",
    "predictions_valid_logist = model_logist.predict(features_valid)\n",
    "\n",
    "# посчитаем точность, применив функцию precision_score()\n",
    "precision_logist = precision_score(target_valid, predictions_valid_logist)\n",
    "\n",
    "# посчитаем полноту функцией recall_score()\n",
    "recall_logist = recall_score(target_valid, predictions_valid_logist)\n",
    "\n",
    "# посчитаем F1-меру\n",
    "f1_logist = f1_score(target_valid, predictions_valid_logist)\n",
    "\n",
    "mse_logist = mean_squared_error(target_valid, predictions_valid_logist)\n",
    "\n",
    "print()\n",
    "print(\"---------------- Модель логистической регрессии ----------------\")\n",
    "print()\n",
    "\n",
    "# 1. получим метрику качества модели на валидационной выборке\n",
    "print(\"Accuracy:\", result_logist)\n",
    "\n",
    "# 2. получим метрику средней квадратичной ошибки\n",
    "print(\"MSE:\", mse_logist)\n",
    "print(\"RMSE:\", mse_logist**0.5)\n",
    "\n",
    "# 3. получим метрику среднего абсолютного отклонения\n",
    "print(\"MAE:\", \n",
    "      mean_absolute_error(target_valid, predictions_valid_logist))\n",
    "\n",
    "print(\"Полнота:\", recall_logist)\n",
    "print(\"Точность:\", precision_logist)\n",
    "print(\"F1-мера:\", f1_logist)"
   ]
  },
  {
   "cell_type": "markdown",
   "metadata": {},
   "source": [
    "#### Дерево решений"
   ]
  },
  {
   "cell_type": "markdown",
   "metadata": {},
   "source": [
    "Обучим модель `\"Дерево решений\"` на обучающей выборке и посчитаем её качество на валидационных данных, а также посмотрим на другие метрики."
   ]
  },
  {
   "cell_type": "code",
   "execution_count": 183,
   "metadata": {},
   "outputs": [
    {
     "name": "stdout",
     "output_type": "stream",
     "text": [
      "\n",
      "---------------- Модель Дерево решений ----------------\n",
      "\n",
      "Accuracy: 0.7895\n",
      "MSE: 0.2105\n",
      "RMSE: 0.45880278987817846\n",
      "MAE: 0.2105\n",
      "Полнота: 0.5142118863049095\n",
      "Точность: 0.46064814814814814\n",
      "F1-мера: 0.48595848595848595\n"
     ]
    }
   ],
   "source": [
    "# Инициализируем модель    \n",
    "model_tree = DecisionTreeClassifier(random_state=13) \n",
    "\n",
    "# обучим модель на тренировочной выборке\n",
    "model_tree.fit(features_train, target_train) \n",
    "\n",
    "result_tree = model_tree.score(features_valid, target_valid)\n",
    "\n",
    "predictions_valid_tree = model_tree.predict(features_valid)\n",
    "\n",
    "# посчитаем точность, применив функцию precision_score()\n",
    "precision_tree = precision_score(target_valid, predictions_valid_tree)\n",
    "\n",
    "# посчитаем полноту функцией recall_score()\n",
    "recall_tree = recall_score(target_valid, predictions_valid_tree)\n",
    "\n",
    "# посчитаем F1-меру\n",
    "f1_tree = f1_score(target_valid, predictions_valid_tree)\n",
    "\n",
    "mse_tree = mean_squared_error(target_valid, predictions_valid_tree)\n",
    "\n",
    "print()\n",
    "print(\"---------------- Модель Дерево решений ----------------\")\n",
    "print()\n",
    "\n",
    "# 1. получим метрику качества модели на валидационной выборке\n",
    "print(\"Accuracy:\", result_tree)\n",
    "\n",
    "# 2. получим метрику средней квадратичной ошибки\n",
    "print(\"MSE:\", mse_tree)\n",
    "print(\"RMSE:\", mse_tree**0.5)\n",
    "\n",
    "# 3. получим метрику среднего абсолютного отклонения\n",
    "print(\"MAE:\", \n",
    "      mean_absolute_error(target_valid, predictions_valid_tree))\n",
    "\n",
    "print(\"Полнота:\", recall_tree)\n",
    "print(\"Точность:\", precision_tree)\n",
    "print(\"F1-мера:\", f1_tree)"
   ]
  },
  {
   "cell_type": "markdown",
   "metadata": {},
   "source": [
    "#### Случайный лес"
   ]
  },
  {
   "cell_type": "markdown",
   "metadata": {},
   "source": [
    "Обучим модель `\"Случайный лес\"` на обучающей выборке и посчитаем её качество на валидационных данных, а также посмотрим на другие метрики."
   ]
  },
  {
   "cell_type": "code",
   "execution_count": 184,
   "metadata": {},
   "outputs": [
    {
     "name": "stdout",
     "output_type": "stream",
     "text": [
      "\n",
      "---------------- Модель Случайный лес ----------------\n",
      "\n",
      "Accuracy: 0.8595\n",
      "MSE: 0.1405\n",
      "RMSE: 0.37483329627982626\n",
      "MAE: 0.1405\n",
      "Полнота: 0.45219638242894056\n",
      "Точность: 0.7172131147540983\n",
      "F1-мера: 0.554675118858954\n"
     ]
    }
   ],
   "source": [
    "# Инициализируем модель    \n",
    "model_forest = RandomForestClassifier(random_state=13, n_estimators = 10) \n",
    "\n",
    "# обучим модель на тренировочной выборке\n",
    "model_forest.fit(features_train, target_train) \n",
    "\n",
    "result_forest = model_forest.score(features_valid, target_valid)\n",
    "\n",
    "predictions_valid_forest = model_forest.predict(features_valid)\n",
    "\n",
    "# посчитаем точность, применив функцию precision_score()\n",
    "precision_forest = precision_score(target_valid, predictions_valid_forest)\n",
    "\n",
    "# посчитаем полноту функцией recall_score()\n",
    "recall_forest = recall_score(target_valid, predictions_valid_forest)\n",
    "\n",
    "# посчитаем F1-меру\n",
    "f1_forest = f1_score(target_valid, predictions_valid_forest)\n",
    "\n",
    "mse_forest = mean_squared_error(target_valid, predictions_valid_forest)\n",
    "\n",
    "print()\n",
    "print(\"---------------- Модель Случайный лес ----------------\")\n",
    "print()\n",
    "\n",
    "# 1. получим метрику качества модели на валидационной выборке\n",
    "print(\"Accuracy:\", result_forest)\n",
    "\n",
    "# 2. получим метрику средней квадратичной ошибки\n",
    "print(\"MSE:\", mse_forest)\n",
    "print(\"RMSE:\", mse_forest**0.5)\n",
    "\n",
    "# 3. получим метрику среднего абсолютного отклонения\n",
    "print(\"MAE:\", \n",
    "      mean_absolute_error(target_valid, predictions_valid_forest))\n",
    "\n",
    "print(\"Полнота:\", recall_forest)\n",
    "print(\"Точность:\", precision_forest)\n",
    "print(\"F1-мера:\", f1_forest)"
   ]
  },
  {
   "cell_type": "markdown",
   "metadata": {},
   "source": [
    "Как мы видим случайный лес показывает лучшие результаты, поэтому выберем его как лучшую модель и подберем под него наилучшие гиперпараметры перебором в цикле."
   ]
  },
  {
   "cell_type": "code",
   "execution_count": 185,
   "metadata": {},
   "outputs": [
    {
     "name": "stdout",
     "output_type": "stream",
     "text": [
      "--------------- Модель «Случайный лес» ---------------\n",
      "\n",
      "Параметры наилучшей модели на валидационной выборке:\n",
      "Гиперпараметр «n_estimators» = 201\n",
      "Гиперпараметр «max_depth» = 14\n",
      "Accuracy = 0.865\n",
      "F1-мера: 0.5700636942675159\n"
     ]
    }
   ],
   "source": [
    "best_model_forest = None\n",
    "best_result_forest = 0\n",
    "best_f1_mera = 0\n",
    "best_tree = 0\n",
    "best_forest = 0\n",
    "for tree in range(1,16):\n",
    "    for forest in range(1, 1001, 100):\n",
    "        # обучим модель с заданным количеством деревьев\n",
    "        model_forest = RandomForestClassifier(random_state=13, n_estimators=forest, max_depth = tree)\n",
    "        # обучим модель на тренировочной выборке \n",
    "        model_forest.fit(features_train, target_train)\n",
    "        \n",
    "        # посчитаем качество модели на валидационной выборке\n",
    "        result_forest = model_forest.score(features_valid, target_valid)\n",
    "        \n",
    "        # получаем предсказание\n",
    "        predictions_valid_forest = model_forest.predict(features_valid)\n",
    "        \n",
    "        # посчитаем F1-меру\n",
    "        f1_forest = f1_score(target_valid, predictions_valid_forest)\n",
    "        \n",
    "        if f1_forest > best_f1_mera:\n",
    "            # сохраним наилучшую модель\n",
    "            best_model_forest = model_forest\n",
    "            # сохраним наилучшее значение метрики accuracy на валидационных данных\n",
    "            best_result_forest = result_forest\n",
    "            # сохраним наилучшее значение «n_estimators»\n",
    "            best_forest = forest\n",
    "            # сохраним наилучшее значение «max_depth»\n",
    "            best_tree = tree\n",
    "            # сохраним наилучшее значение «f1_mera»\n",
    "            best_f1_mera = f1_forest\n",
    "        \n",
    "print(\"--------------- Модель «Случайный лес» ---------------\")\n",
    "print()\n",
    "print(\"Параметры наилучшей модели на валидационной выборке:\")\n",
    "print(\"Гиперпараметр «n_estimators» =\", best_forest)\n",
    "print(\"Гиперпараметр «max_depth» =\", best_tree)\n",
    "print(\"Accuracy =\", best_result_forest)\n",
    "print(\"F1-мера:\", best_f1_mera)"
   ]
  },
  {
   "cell_type": "markdown",
   "metadata": {},
   "source": [
    "### Вывод"
   ]
  },
  {
   "cell_type": "markdown",
   "metadata": {},
   "source": [
    "В процессе исследования задачи мы провели преобразование категориальных признаков, разделили данные на признаки и целевое значение, а также на обучающую, валидационную и тестовую выборки. Произвели масштабирование признаков и выяснили, что лучшей моделью является **`\"Случайный лес\"`**."
   ]
  },
  {
   "cell_type": "markdown",
   "metadata": {},
   "source": [
    "## Борьба с дисбалансом"
   ]
  },
  {
   "cell_type": "markdown",
   "metadata": {},
   "source": [
    "Посмотрим на дисбаланс:"
   ]
  },
  {
   "cell_type": "code",
   "execution_count": 186,
   "metadata": {},
   "outputs": [
    {
     "name": "stdout",
     "output_type": "stream",
     "text": [
      "0    4755\n",
      "1    1245\n",
      "Name: Exited, dtype: int64\n"
     ]
    }
   ],
   "source": [
    "print(target_train.value_counts())"
   ]
  },
  {
   "cell_type": "markdown",
   "metadata": {},
   "source": [
    "Как видим дисбаланс огромный."
   ]
  },
  {
   "cell_type": "markdown",
   "metadata": {},
   "source": [
    "### Метод `class_weight`"
   ]
  },
  {
   "cell_type": "markdown",
   "metadata": {},
   "source": [
    "Возьмем нашу выбранную модель случайного леса и сделаем веса классов сбалансированными:"
   ]
  },
  {
   "cell_type": "code",
   "execution_count": 187,
   "metadata": {},
   "outputs": [
    {
     "name": "stdout",
     "output_type": "stream",
     "text": [
      "F1-мера: 0.5753846153846154\n"
     ]
    }
   ],
   "source": [
    "# Инициализируем модель с class_weight='balanced'\n",
    "model_forest = RandomForestClassifier(random_state=13, \n",
    "                                      n_estimators = best_forest, max_depth = best_tree, class_weight='balanced')\n",
    "\n",
    "# обучим модель на тренировочной выборке\n",
    "model_forest.fit(features_train, target_train)\n",
    "\n",
    "# получаем предсказание\n",
    "predictions_valid_forest = model_forest.predict(features_valid)\n",
    "\n",
    "# посчитаем F1-меру\n",
    "f1_forest = f1_score(target_valid, predictions_valid_forest)\n",
    "\n",
    "print(\"F1-мера:\", f1_forest)"
   ]
  },
  {
   "cell_type": "markdown",
   "metadata": {},
   "source": [
    "Как видим после балансировки классов методом class_weight='balanced' привело к небольшому увеличению F1-меры."
   ]
  },
  {
   "cell_type": "markdown",
   "metadata": {},
   "source": [
    "### Метод `upsampling`"
   ]
  },
  {
   "cell_type": "markdown",
   "metadata": {},
   "source": [
    "Поробуем бороться с дисбалансом используя upsampling.\n",
    "\n",
    "Разделим обучающую выборку на отрицательные и положительные объекты.\n",
    "Объявим четыре переменные и запишем в них:\n",
    "*\tfeatures_zeros — признаки объектов с ответом «0»;\n",
    "*\tfeatures_ones — признаки объектов с ответом «1»;\n",
    "*\ttarget_zeros — целевой признак объектов, у которых ответы только «0»;\n",
    "*\ttarget_ones — целевой признак объектов, у которых ответы только «1»."
   ]
  },
  {
   "cell_type": "code",
   "execution_count": 188,
   "metadata": {},
   "outputs": [
    {
     "name": "stdout",
     "output_type": "stream",
     "text": [
      "(4755, 11)\n",
      "(1245, 11)\n",
      "(4755,)\n",
      "(1245,)\n"
     ]
    }
   ],
   "source": [
    "features_zeros = features_train[target_train == 0]\n",
    "features_ones = features_train[target_train == 1]\n",
    "target_zeros = target_train[target_train == 0]\n",
    "target_ones = target_train[target_train == 1]\n",
    "\n",
    "# Напечатаем на экране размеры таблиц, которые хранятся в четырёх переменных\n",
    "print(features_zeros.shape)\n",
    "print(features_ones.shape)\n",
    "print(target_zeros.shape)\n",
    "print(target_ones.shape)"
   ]
  },
  {
   "cell_type": "markdown",
   "metadata": {},
   "source": [
    "Продублируем объекты положительного класса и объединим их с объектами отрицательного. Чтобы соединить таблицы, воспользуемся функцией `pd.concat()`."
   ]
  },
  {
   "cell_type": "code",
   "execution_count": 189,
   "metadata": {},
   "outputs": [
    {
     "name": "stdout",
     "output_type": "stream",
     "text": [
      "(17205, 11)\n",
      "(17205,)\n"
     ]
    }
   ],
   "source": [
    "# Количество повторений\n",
    "repeat = 10\n",
    "# объединим таблицы с признаками и сохраним результат в переменной features_upsampled\n",
    "features_upsampled = pd.concat([features_zeros] + [features_ones] * repeat)\n",
    "\n",
    "# объединим таблицы с целевым признаком и сохраним результат в переменной target_upsampled\n",
    "target_upsampled = pd.concat([target_zeros] + [target_ones] * repeat)\n",
    "\n",
    "print(features_upsampled.shape)\n",
    "print(target_upsampled.shape)"
   ]
  },
  {
   "cell_type": "markdown",
   "metadata": {},
   "source": [
    "Теперь необходимо перемешать данные с помощью функции `shuffle()`."
   ]
  },
  {
   "cell_type": "code",
   "execution_count": 190,
   "metadata": {},
   "outputs": [
    {
     "name": "stdout",
     "output_type": "stream",
     "text": [
      "(17205, 11)\n",
      "(17205,)\n"
     ]
    }
   ],
   "source": [
    "features_upsampled = shuffle(features_upsampled, random_state=13)\n",
    "target_upsampled = shuffle(target_upsampled, random_state=13)\n",
    "\n",
    "print(features_upsampled.shape)\n",
    "print(target_upsampled.shape)"
   ]
  },
  {
   "cell_type": "markdown",
   "metadata": {},
   "source": [
    "Обучим на новых данных нашу модель `Случайного леса` и найдем для неё значение F1-меры."
   ]
  },
  {
   "cell_type": "code",
   "execution_count": 191,
   "metadata": {},
   "outputs": [
    {
     "name": "stdout",
     "output_type": "stream",
     "text": [
      "F1-мера: 0.6009852216748769\n"
     ]
    }
   ],
   "source": [
    "# Инициализируем модель\n",
    "model_forest = RandomForestClassifier(random_state=13, n_estimators = best_forest, max_depth = best_tree)\n",
    "\n",
    "# обучим модель на новых данных\n",
    "model_forest.fit(features_upsampled, target_upsampled)\n",
    "\n",
    "# получаем предсказание\n",
    "predictions_valid_forest = model_forest.predict(features_valid)\n",
    "\n",
    "# посчитаем F1-меру\n",
    "f1_forest = f1_score(target_valid, predictions_valid_forest)\n",
    "\n",
    "print(\"F1-мера:\", f1_forest)"
   ]
  },
  {
   "cell_type": "markdown",
   "metadata": {},
   "source": [
    "### Вывод"
   ]
  },
  {
   "cell_type": "markdown",
   "metadata": {},
   "source": [
    "Как выяснилось борьба с дисбалансом методом `upsampling` помогла увеличить F1-меру, а вот метод `class_weight()` немного даже ее уменьшил. Далее перейдем к тестированию модели."
   ]
  },
  {
   "cell_type": "markdown",
   "metadata": {},
   "source": [
    "## Тестирование модели"
   ]
  },
  {
   "cell_type": "markdown",
   "metadata": {},
   "source": [
    "### Тестирование лучшей модели"
   ]
  },
  {
   "cell_type": "markdown",
   "metadata": {},
   "source": [
    "Протестируем нашу лучшую модель:"
   ]
  },
  {
   "cell_type": "code",
   "execution_count": 192,
   "metadata": {},
   "outputs": [
    {
     "name": "stdout",
     "output_type": "stream",
     "text": [
      "Качество тестовой выборки: 0.837\n",
      "F1-мера: 0.6226851851851851\n"
     ]
    }
   ],
   "source": [
    "predictions_test_forest = model_forest.predict(features_test)\n",
    "accuracy_test_forest = accuracy_score(target_test, predictions_test_forest)\n",
    "print(\"Качество тестовой выборки:\", accuracy_test_forest)\n",
    "\n",
    "# посчитаем F1-меру\n",
    "f1_forest_test = f1_score(target_test, predictions_test_forest)\n",
    "\n",
    "print(\"F1-мера:\", f1_forest_test)"
   ]
  },
  {
   "cell_type": "markdown",
   "metadata": {},
   "source": [
    "Как видим на тесте модель показала F1-меру выше 0.59, а следовательно подбор гиперпараметров выполнен успешно."
   ]
  },
  {
   "cell_type": "markdown",
   "metadata": {},
   "source": [
    "### Расчет метрики AUC-ROC"
   ]
  },
  {
   "cell_type": "markdown",
   "metadata": {},
   "source": [
    "Также исследуем метрику AUC-ROC:"
   ]
  },
  {
   "cell_type": "code",
   "execution_count": 193,
   "metadata": {},
   "outputs": [
    {
     "name": "stdout",
     "output_type": "stream",
     "text": [
      "AUC-ROC метрика = 0.8393815750899907\n"
     ]
    }
   ],
   "source": [
    "probabilities_valid = model_forest.predict_proba(features_valid)\n",
    "probabilities_one_valid = probabilities_valid[:, 1]\n",
    "\n",
    "auc_roc = roc_auc_score(target_valid, probabilities_one_valid)\n",
    "\n",
    "print(\"AUC-ROC метрика =\", auc_roc)"
   ]
  },
  {
   "cell_type": "markdown",
   "metadata": {},
   "source": [
    "Получили неплохую метрику AUC-ROC."
   ]
  },
  {
   "cell_type": "markdown",
   "metadata": {},
   "source": [
    "## Общий вывод"
   ]
  },
  {
   "cell_type": "markdown",
   "metadata": {},
   "source": [
    "В нашем проекте мы открыли и изучили файл с данными, удалили признаки, которые по нашему мнению являются бесполезными для прогнозирования, обработали пропущенные значения, заменив их на медиану. В процессе исследования задачи мы провели преобразование категориальных признаков, разделили данные на признаки и целевое значение, а также на обучающую, валидационную и тестовую выборки. Произвели масштабирование признаков и выяснили, что лучшей моделью является **`\"Случайный лес\"`**. Как выяснилось борьба с дисбалансом методами `upsampling` и `class_weight()` помогла увеличить F1-меру.\n",
    "\n",
    "При тестировании модели получили результаты: \n",
    "\n",
    "* **`F1-мера больше 0.59`**\n",
    "* **`AUC-ROC метрика больше 0.83`**"
   ]
  }
 ],
 "metadata": {
  "ExecuteTimeLog": [
   {
    "duration": 71,
    "start_time": "2022-02-18T10:01:32.977Z"
   },
   {
    "duration": 1193,
    "start_time": "2022-02-18T10:04:23.228Z"
   },
   {
    "duration": 23,
    "start_time": "2022-02-18T10:04:36.777Z"
   },
   {
    "duration": 4,
    "start_time": "2022-02-18T10:04:44.845Z"
   },
   {
    "duration": 16,
    "start_time": "2022-02-18T10:04:55.904Z"
   },
   {
    "duration": 9,
    "start_time": "2022-02-18T10:05:58.876Z"
   },
   {
    "duration": 39,
    "start_time": "2022-02-18T10:06:10.945Z"
   },
   {
    "duration": 5,
    "start_time": "2022-02-18T10:06:56.372Z"
   },
   {
    "duration": 6,
    "start_time": "2022-02-18T10:07:21.825Z"
   },
   {
    "duration": 5,
    "start_time": "2022-02-18T10:07:56.972Z"
   },
   {
    "duration": 12,
    "start_time": "2022-02-18T10:08:05.088Z"
   },
   {
    "duration": 7,
    "start_time": "2022-02-18T10:08:49.948Z"
   },
   {
    "duration": 46,
    "start_time": "2022-02-18T10:09:02.773Z"
   },
   {
    "duration": 9,
    "start_time": "2022-02-18T10:09:27.584Z"
   },
   {
    "duration": 7,
    "start_time": "2022-02-18T10:09:46.117Z"
   },
   {
    "duration": 6,
    "start_time": "2022-02-18T10:10:34.988Z"
   },
   {
    "duration": 4,
    "start_time": "2022-02-18T10:10:46.216Z"
   },
   {
    "duration": 313,
    "start_time": "2022-02-18T10:15:05.816Z"
   },
   {
    "duration": 10,
    "start_time": "2022-02-18T10:15:17.052Z"
   },
   {
    "duration": 3,
    "start_time": "2022-02-18T10:15:30.529Z"
   },
   {
    "duration": 13,
    "start_time": "2022-02-18T10:15:41.437Z"
   },
   {
    "duration": 10,
    "start_time": "2022-02-18T10:16:31.253Z"
   },
   {
    "duration": 10,
    "start_time": "2022-02-18T10:16:47.209Z"
   },
   {
    "duration": 250,
    "start_time": "2022-02-18T10:17:16.056Z"
   },
   {
    "duration": 235,
    "start_time": "2022-02-18T10:17:30.536Z"
   },
   {
    "duration": 47,
    "start_time": "2022-02-18T10:18:22.028Z"
   },
   {
    "duration": 43,
    "start_time": "2022-02-18T10:19:13.504Z"
   },
   {
    "duration": 167,
    "start_time": "2022-02-18T10:19:39.149Z"
   },
   {
    "duration": 183,
    "start_time": "2022-02-18T10:20:31.693Z"
   },
   {
    "duration": 292,
    "start_time": "2022-02-18T10:22:56.812Z"
   },
   {
    "duration": 242,
    "start_time": "2022-02-18T10:23:18.060Z"
   },
   {
    "duration": 17,
    "start_time": "2022-02-18T10:26:47.265Z"
   },
   {
    "duration": 263,
    "start_time": "2022-02-18T10:26:52.148Z"
   },
   {
    "duration": 4,
    "start_time": "2022-02-18T10:27:35.472Z"
   },
   {
    "duration": 42,
    "start_time": "2022-02-18T10:27:43.440Z"
   },
   {
    "duration": 276,
    "start_time": "2022-02-18T10:29:22.777Z"
   },
   {
    "duration": 107,
    "start_time": "2022-02-18T10:29:26.457Z"
   },
   {
    "duration": 236,
    "start_time": "2022-02-18T10:30:25.829Z"
   },
   {
    "duration": 6,
    "start_time": "2022-02-18T10:31:10.125Z"
   },
   {
    "duration": 228,
    "start_time": "2022-02-18T10:31:14.632Z"
   },
   {
    "duration": 4037,
    "start_time": "2022-02-18T10:31:54.713Z"
   },
   {
    "duration": 164,
    "start_time": "2022-02-18T10:33:44.934Z"
   },
   {
    "duration": 3891,
    "start_time": "2022-02-18T10:34:50.150Z"
   },
   {
    "duration": 19951,
    "start_time": "2022-02-18T10:35:32.198Z"
   },
   {
    "duration": 3895,
    "start_time": "2022-02-18T10:36:01.014Z"
   },
   {
    "duration": 143,
    "start_time": "2022-02-18T10:36:18.926Z"
   },
   {
    "duration": 142,
    "start_time": "2022-02-18T10:36:32.067Z"
   },
   {
    "duration": 153,
    "start_time": "2022-02-18T10:55:44.592Z"
   },
   {
    "duration": 154,
    "start_time": "2022-02-18T10:58:56.891Z"
   },
   {
    "duration": 258,
    "start_time": "2022-02-18T10:59:40.727Z"
   },
   {
    "duration": 51485,
    "start_time": "2022-02-18T11:10:20.027Z"
   },
   {
    "duration": 3857,
    "start_time": "2022-02-18T11:11:40.124Z"
   },
   {
    "duration": 259,
    "start_time": "2022-02-18T11:11:48.512Z"
   },
   {
    "duration": 128,
    "start_time": "2022-02-18T11:15:02.483Z"
   },
   {
    "duration": 276,
    "start_time": "2022-02-18T11:15:14.420Z"
   },
   {
    "duration": 168,
    "start_time": "2022-02-20T08:43:32.641Z"
   },
   {
    "duration": 1163,
    "start_time": "2022-02-20T08:43:40.033Z"
   },
   {
    "duration": 30,
    "start_time": "2022-02-20T08:43:41.198Z"
   },
   {
    "duration": 3,
    "start_time": "2022-02-20T08:43:41.230Z"
   },
   {
    "duration": 20,
    "start_time": "2022-02-20T08:43:41.235Z"
   },
   {
    "duration": 14,
    "start_time": "2022-02-20T08:43:41.256Z"
   },
   {
    "duration": 39,
    "start_time": "2022-02-20T08:43:41.272Z"
   },
   {
    "duration": 4,
    "start_time": "2022-02-20T08:43:41.312Z"
   },
   {
    "duration": 3838,
    "start_time": "2022-02-20T08:43:41.319Z"
   },
   {
    "duration": -579,
    "start_time": "2022-02-20T08:43:45.738Z"
   },
   {
    "duration": -587,
    "start_time": "2022-02-20T08:43:45.747Z"
   },
   {
    "duration": 11,
    "start_time": "2022-02-20T08:44:12.533Z"
   },
   {
    "duration": 7,
    "start_time": "2022-02-20T08:44:45.981Z"
   },
   {
    "duration": 6,
    "start_time": "2022-02-20T08:44:48.637Z"
   },
   {
    "duration": 4,
    "start_time": "2022-02-20T08:46:49.573Z"
   },
   {
    "duration": 4,
    "start_time": "2022-02-20T08:46:50.329Z"
   },
   {
    "duration": 10,
    "start_time": "2022-02-20T08:47:16.605Z"
   },
   {
    "duration": 11,
    "start_time": "2022-02-20T08:47:17.889Z"
   },
   {
    "duration": 7,
    "start_time": "2022-02-20T08:53:01.941Z"
   },
   {
    "duration": 4,
    "start_time": "2022-02-20T08:53:28.185Z"
   },
   {
    "duration": 10,
    "start_time": "2022-02-20T08:54:36.905Z"
   },
   {
    "duration": 4,
    "start_time": "2022-02-20T08:59:55.244Z"
   },
   {
    "duration": 37,
    "start_time": "2022-02-20T09:13:27.311Z"
   },
   {
    "duration": 3,
    "start_time": "2022-02-20T09:15:48.739Z"
   },
   {
    "duration": 33,
    "start_time": "2022-02-20T09:18:44.579Z"
   },
   {
    "duration": 37,
    "start_time": "2022-02-20T09:19:03.578Z"
   },
   {
    "duration": 52,
    "start_time": "2022-02-20T09:21:39.278Z"
   },
   {
    "duration": 4,
    "start_time": "2022-02-20T09:33:52.174Z"
   },
   {
    "duration": 14,
    "start_time": "2022-02-20T09:44:45.117Z"
   },
   {
    "duration": 11,
    "start_time": "2022-02-20T09:45:12.552Z"
   },
   {
    "duration": 4,
    "start_time": "2022-02-20T09:45:31.356Z"
   },
   {
    "duration": 28,
    "start_time": "2022-02-20T09:45:31.380Z"
   },
   {
    "duration": 3,
    "start_time": "2022-02-20T09:45:31.412Z"
   },
   {
    "duration": 11,
    "start_time": "2022-02-20T09:45:31.449Z"
   },
   {
    "duration": 8,
    "start_time": "2022-02-20T09:45:31.488Z"
   },
   {
    "duration": 38,
    "start_time": "2022-02-20T09:45:31.524Z"
   },
   {
    "duration": 4,
    "start_time": "2022-02-20T09:45:31.617Z"
   },
   {
    "duration": 10,
    "start_time": "2022-02-20T09:45:31.651Z"
   },
   {
    "duration": 6,
    "start_time": "2022-02-20T09:45:31.745Z"
   },
   {
    "duration": 6,
    "start_time": "2022-02-20T09:45:31.780Z"
   },
   {
    "duration": 4,
    "start_time": "2022-02-20T09:45:31.841Z"
   },
   {
    "duration": 4,
    "start_time": "2022-02-20T09:45:31.868Z"
   },
   {
    "duration": 12,
    "start_time": "2022-02-20T09:45:32.117Z"
   },
   {
    "duration": 10,
    "start_time": "2022-02-20T09:45:32.139Z"
   },
   {
    "duration": 8,
    "start_time": "2022-02-20T09:45:32.236Z"
   },
   {
    "duration": 4,
    "start_time": "2022-02-20T09:45:32.302Z"
   },
   {
    "duration": 10,
    "start_time": "2022-02-20T09:45:32.377Z"
   },
   {
    "duration": 4,
    "start_time": "2022-02-20T09:45:39.176Z"
   },
   {
    "duration": 55,
    "start_time": "2022-02-20T09:45:41.192Z"
   },
   {
    "duration": 5,
    "start_time": "2022-02-20T09:47:50.656Z"
   },
   {
    "duration": 4,
    "start_time": "2022-02-20T09:47:57.789Z"
   },
   {
    "duration": 59,
    "start_time": "2022-02-20T09:48:09.736Z"
   },
   {
    "duration": 10,
    "start_time": "2022-02-20T09:48:42.897Z"
   },
   {
    "duration": 4,
    "start_time": "2022-02-20T09:49:23.470Z"
   },
   {
    "duration": 22,
    "start_time": "2022-02-20T09:49:23.501Z"
   },
   {
    "duration": 3,
    "start_time": "2022-02-20T09:49:23.536Z"
   },
   {
    "duration": 11,
    "start_time": "2022-02-20T09:49:23.573Z"
   },
   {
    "duration": 8,
    "start_time": "2022-02-20T09:49:23.612Z"
   },
   {
    "duration": 38,
    "start_time": "2022-02-20T09:49:23.648Z"
   },
   {
    "duration": 5,
    "start_time": "2022-02-20T09:49:23.740Z"
   },
   {
    "duration": 11,
    "start_time": "2022-02-20T09:49:23.772Z"
   },
   {
    "duration": 7,
    "start_time": "2022-02-20T09:49:23.865Z"
   },
   {
    "duration": 6,
    "start_time": "2022-02-20T09:49:23.900Z"
   },
   {
    "duration": 13,
    "start_time": "2022-02-20T09:49:24.097Z"
   },
   {
    "duration": 11,
    "start_time": "2022-02-20T09:49:24.124Z"
   },
   {
    "duration": 5,
    "start_time": "2022-02-20T09:49:24.189Z"
   },
   {
    "duration": 3,
    "start_time": "2022-02-20T09:49:24.217Z"
   },
   {
    "duration": 7,
    "start_time": "2022-02-20T09:49:24.345Z"
   },
   {
    "duration": 4,
    "start_time": "2022-02-20T09:49:24.409Z"
   },
   {
    "duration": 9,
    "start_time": "2022-02-20T09:49:24.477Z"
   },
   {
    "duration": 4,
    "start_time": "2022-02-20T09:49:24.620Z"
   },
   {
    "duration": 56,
    "start_time": "2022-02-20T09:49:27.541Z"
   },
   {
    "duration": 24,
    "start_time": "2022-02-20T10:29:44.798Z"
   },
   {
    "duration": 171,
    "start_time": "2022-02-20T10:37:48.862Z"
   },
   {
    "duration": 22,
    "start_time": "2022-02-20T10:38:03.925Z"
   },
   {
    "duration": 24,
    "start_time": "2022-02-20T10:40:54.037Z"
   },
   {
    "duration": 99,
    "start_time": "2022-02-20T10:47:17.532Z"
   },
   {
    "duration": 26,
    "start_time": "2022-02-20T10:47:44.108Z"
   },
   {
    "duration": 24,
    "start_time": "2022-02-20T10:48:01.608Z"
   },
   {
    "duration": 26,
    "start_time": "2022-02-20T10:48:29.248Z"
   },
   {
    "duration": 24,
    "start_time": "2022-02-20T10:48:59.676Z"
   },
   {
    "duration": 4,
    "start_time": "2022-02-20T10:50:43.808Z"
   },
   {
    "duration": 33,
    "start_time": "2022-02-20T10:57:17.504Z"
   },
   {
    "duration": 39,
    "start_time": "2022-02-20T11:00:09.899Z"
   },
   {
    "duration": 133,
    "start_time": "2022-02-20T11:11:39.059Z"
   },
   {
    "duration": 4,
    "start_time": "2022-02-20T11:12:02.719Z"
   },
   {
    "duration": 50,
    "start_time": "2022-02-20T11:12:06.879Z"
   },
   {
    "duration": 82,
    "start_time": "2022-02-20T11:12:22.855Z"
   },
   {
    "duration": 48,
    "start_time": "2022-02-20T11:12:56.899Z"
   },
   {
    "duration": 48,
    "start_time": "2022-02-20T11:13:18.368Z"
   },
   {
    "duration": 49,
    "start_time": "2022-02-20T11:13:25.143Z"
   },
   {
    "duration": 44,
    "start_time": "2022-02-20T11:13:47.795Z"
   },
   {
    "duration": 94,
    "start_time": "2022-02-20T11:19:02.547Z"
   },
   {
    "duration": 92,
    "start_time": "2022-02-20T11:20:09.583Z"
   },
   {
    "duration": 94,
    "start_time": "2022-02-20T11:25:43.539Z"
   },
   {
    "duration": 48,
    "start_time": "2022-02-20T11:26:07.623Z"
   },
   {
    "duration": 144,
    "start_time": "2022-02-20T11:26:13.974Z"
   },
   {
    "duration": 21,
    "start_time": "2022-02-20T11:26:36.978Z"
   },
   {
    "duration": 45,
    "start_time": "2022-02-20T11:26:50.226Z"
   },
   {
    "duration": 49,
    "start_time": "2022-02-20T11:27:04.146Z"
   },
   {
    "duration": 750,
    "start_time": "2022-02-20T11:27:17.242Z"
   },
   {
    "duration": 135,
    "start_time": "2022-02-20T11:27:26.638Z"
   },
   {
    "duration": 246,
    "start_time": "2022-02-20T11:55:34.444Z"
   },
   {
    "duration": 76,
    "start_time": "2022-02-20T11:56:20.484Z"
   },
   {
    "duration": 5,
    "start_time": "2022-02-20T12:04:27.144Z"
   },
   {
    "duration": 5,
    "start_time": "2022-02-20T12:05:21.708Z"
   },
   {
    "duration": 5,
    "start_time": "2022-02-20T12:05:36.552Z"
   },
   {
    "duration": 5,
    "start_time": "2022-02-20T12:05:45.536Z"
   },
   {
    "duration": 3542,
    "start_time": "2022-02-20T12:10:31.748Z"
   },
   {
    "duration": 2564,
    "start_time": "2022-02-20T12:10:51.128Z"
   },
   {
    "duration": 6,
    "start_time": "2022-02-20T12:11:27.372Z"
   },
   {
    "duration": 702,
    "start_time": "2022-02-20T12:13:36.832Z"
   },
   {
    "duration": 581,
    "start_time": "2022-02-20T12:17:35.776Z"
   },
   {
    "duration": 705,
    "start_time": "2022-02-20T12:17:59.928Z"
   },
   {
    "duration": 916,
    "start_time": "2022-02-20T12:18:10.628Z"
   },
   {
    "duration": 70,
    "start_time": "2022-02-20T12:18:17.349Z"
   },
   {
    "duration": 571,
    "start_time": "2022-02-20T12:18:22.364Z"
   },
   {
    "duration": 79,
    "start_time": "2022-02-20T12:20:12.864Z"
   },
   {
    "duration": 142,
    "start_time": "2022-02-20T12:20:30.860Z"
   },
   {
    "duration": 47,
    "start_time": "2022-02-20T12:20:36.684Z"
   },
   {
    "duration": 139,
    "start_time": "2022-02-20T12:20:45.328Z"
   },
   {
    "duration": 92,
    "start_time": "2022-02-20T12:20:50.812Z"
   },
   {
    "duration": 713,
    "start_time": "2022-02-20T12:21:25.092Z"
   },
   {
    "duration": 80,
    "start_time": "2022-02-20T12:21:41.973Z"
   },
   {
    "duration": 40,
    "start_time": "2022-02-20T12:22:03.844Z"
   },
   {
    "duration": 2,
    "start_time": "2022-02-20T12:27:19.068Z"
   },
   {
    "duration": 8,
    "start_time": "2022-02-20T12:28:02.200Z"
   },
   {
    "duration": 8,
    "start_time": "2022-02-20T12:42:46.796Z"
   },
   {
    "duration": 9,
    "start_time": "2022-02-20T12:46:47.756Z"
   },
   {
    "duration": 9,
    "start_time": "2022-02-20T12:48:08.932Z"
   },
   {
    "duration": 156,
    "start_time": "2022-02-20T12:55:50.963Z"
   },
   {
    "duration": 145,
    "start_time": "2022-02-20T13:05:06.139Z"
   },
   {
    "duration": 4,
    "start_time": "2022-02-20T13:05:50.943Z"
   },
   {
    "duration": 12,
    "start_time": "2022-02-20T13:05:54.827Z"
   },
   {
    "duration": 13,
    "start_time": "2022-02-20T13:07:49.215Z"
   },
   {
    "duration": 34504,
    "start_time": "2022-02-20T13:19:22.686Z"
   },
   {
    "duration": 239,
    "start_time": "2022-02-20T13:20:50.134Z"
   },
   {
    "duration": 8,
    "start_time": "2022-02-20T13:21:54.409Z"
   },
   {
    "duration": 7,
    "start_time": "2022-02-20T13:21:56.249Z"
   },
   {
    "duration": 8,
    "start_time": "2022-02-20T13:21:57.619Z"
   },
   {
    "duration": 243,
    "start_time": "2022-02-20T13:21:59.249Z"
   },
   {
    "duration": 20,
    "start_time": "2022-02-20T13:22:03.786Z"
   },
   {
    "duration": 34592,
    "start_time": "2022-02-20T13:37:20.067Z"
   },
   {
    "duration": 4,
    "start_time": "2022-02-20T13:43:38.886Z"
   },
   {
    "duration": 34666,
    "start_time": "2022-02-20T13:43:46.118Z"
   },
   {
    "duration": 5,
    "start_time": "2022-02-20T13:44:22.934Z"
   },
   {
    "duration": 4,
    "start_time": "2022-02-20T13:44:34.274Z"
   },
   {
    "duration": 5,
    "start_time": "2022-02-20T13:44:39.838Z"
   },
   {
    "duration": 4,
    "start_time": "2022-02-20T13:44:45.766Z"
   },
   {
    "duration": 5,
    "start_time": "2022-02-20T13:44:53.717Z"
   },
   {
    "duration": 4,
    "start_time": "2022-02-20T13:45:20.218Z"
   },
   {
    "duration": 5,
    "start_time": "2022-02-20T13:45:32.486Z"
   },
   {
    "duration": 4,
    "start_time": "2022-02-20T13:46:28.199Z"
   },
   {
    "duration": 6,
    "start_time": "2022-02-20T13:47:50.283Z"
   },
   {
    "duration": 4,
    "start_time": "2022-02-20T13:48:01.755Z"
   },
   {
    "duration": 23,
    "start_time": "2022-02-20T13:48:08.635Z"
   },
   {
    "duration": 3,
    "start_time": "2022-02-20T13:48:09.347Z"
   },
   {
    "duration": 11,
    "start_time": "2022-02-20T13:48:09.735Z"
   },
   {
    "duration": 8,
    "start_time": "2022-02-20T13:48:10.680Z"
   },
   {
    "duration": 38,
    "start_time": "2022-02-20T13:48:11.183Z"
   },
   {
    "duration": 4,
    "start_time": "2022-02-20T13:48:11.291Z"
   },
   {
    "duration": 11,
    "start_time": "2022-02-20T13:48:11.323Z"
   },
   {
    "duration": 6,
    "start_time": "2022-02-20T13:48:11.443Z"
   },
   {
    "duration": 7,
    "start_time": "2022-02-20T13:48:11.490Z"
   },
   {
    "duration": 13,
    "start_time": "2022-02-20T13:48:11.643Z"
   },
   {
    "duration": 10,
    "start_time": "2022-02-20T13:48:11.679Z"
   },
   {
    "duration": 5,
    "start_time": "2022-02-20T13:48:11.755Z"
   },
   {
    "duration": 3,
    "start_time": "2022-02-20T13:48:11.787Z"
   },
   {
    "duration": 7,
    "start_time": "2022-02-20T13:48:11.919Z"
   },
   {
    "duration": 4,
    "start_time": "2022-02-20T13:48:11.979Z"
   },
   {
    "duration": 9,
    "start_time": "2022-02-20T13:48:12.059Z"
   },
   {
    "duration": 4,
    "start_time": "2022-02-20T13:48:12.175Z"
   },
   {
    "duration": 54,
    "start_time": "2022-02-20T13:48:12.254Z"
   },
   {
    "duration": 108,
    "start_time": "2022-02-20T13:48:12.423Z"
   },
   {
    "duration": 138,
    "start_time": "2022-02-20T13:48:12.534Z"
   },
   {
    "duration": 112,
    "start_time": "2022-02-20T13:48:12.674Z"
   },
   {
    "duration": 34083,
    "start_time": "2022-02-20T13:48:12.788Z"
   },
   {
    "duration": 36227,
    "start_time": "2022-02-20T13:50:07.495Z"
   },
   {
    "duration": 5,
    "start_time": "2022-02-20T13:51:15.827Z"
   },
   {
    "duration": 84,
    "start_time": "2022-02-20T13:51:23.671Z"
   },
   {
    "duration": 82,
    "start_time": "2022-02-20T13:51:55.311Z"
   },
   {
    "duration": 11,
    "start_time": "2022-02-20T13:52:04.554Z"
   },
   {
    "duration": 7,
    "start_time": "2022-02-20T13:52:08.235Z"
   },
   {
    "duration": 8,
    "start_time": "2022-02-20T13:52:12.645Z"
   },
   {
    "duration": 241,
    "start_time": "2022-02-20T13:52:17.199Z"
   },
   {
    "duration": 153,
    "start_time": "2022-02-20T13:52:29.755Z"
   },
   {
    "duration": 161,
    "start_time": "2022-02-20T13:52:36.027Z"
   },
   {
    "duration": 14,
    "start_time": "2022-02-20T13:54:37.687Z"
   },
   {
    "duration": 12,
    "start_time": "2022-02-20T13:55:27.147Z"
   },
   {
    "duration": 12,
    "start_time": "2022-02-20T13:55:29.875Z"
   },
   {
    "duration": 12,
    "start_time": "2022-02-20T13:55:31.855Z"
   },
   {
    "duration": 1049,
    "start_time": "2022-02-20T13:56:11.084Z"
   },
   {
    "duration": 34,
    "start_time": "2022-02-20T13:56:16.343Z"
   },
   {
    "duration": 4,
    "start_time": "2022-02-20T13:57:24.951Z"
   },
   {
    "duration": 21,
    "start_time": "2022-02-20T13:57:24.974Z"
   },
   {
    "duration": 3,
    "start_time": "2022-02-20T13:57:25.012Z"
   },
   {
    "duration": 11,
    "start_time": "2022-02-20T13:57:25.060Z"
   },
   {
    "duration": 8,
    "start_time": "2022-02-20T13:57:25.095Z"
   },
   {
    "duration": 36,
    "start_time": "2022-02-20T13:57:25.133Z"
   },
   {
    "duration": 5,
    "start_time": "2022-02-20T13:57:25.208Z"
   },
   {
    "duration": 11,
    "start_time": "2022-02-20T13:57:25.254Z"
   },
   {
    "duration": 7,
    "start_time": "2022-02-20T13:57:25.346Z"
   },
   {
    "duration": 7,
    "start_time": "2022-02-20T13:57:25.378Z"
   },
   {
    "duration": 13,
    "start_time": "2022-02-20T13:57:32.915Z"
   },
   {
    "duration": 11,
    "start_time": "2022-02-20T13:57:33.351Z"
   },
   {
    "duration": 5,
    "start_time": "2022-02-20T13:57:34.255Z"
   },
   {
    "duration": 4,
    "start_time": "2022-02-20T13:57:34.595Z"
   },
   {
    "duration": 7,
    "start_time": "2022-02-20T13:57:36.362Z"
   },
   {
    "duration": 4,
    "start_time": "2022-02-20T13:57:37.382Z"
   },
   {
    "duration": 11,
    "start_time": "2022-02-20T13:57:38.359Z"
   },
   {
    "duration": 3,
    "start_time": "2022-02-20T13:57:39.915Z"
   },
   {
    "duration": 58,
    "start_time": "2022-02-20T13:57:40.974Z"
   },
   {
    "duration": 87,
    "start_time": "2022-02-20T13:57:44.151Z"
   },
   {
    "duration": 48,
    "start_time": "2022-02-20T13:57:50.238Z"
   },
   {
    "duration": 95,
    "start_time": "2022-02-20T13:57:59.515Z"
   },
   {
    "duration": 348100,
    "start_time": "2022-02-20T13:58:10.087Z"
   },
   {
    "duration": 5,
    "start_time": "2022-02-20T14:06:48.418Z"
   },
   {
    "duration": 88,
    "start_time": "2022-02-20T14:06:50.890Z"
   },
   {
    "duration": 2746,
    "start_time": "2022-02-20T14:07:09.994Z"
   },
   {
    "duration": 8,
    "start_time": "2022-02-20T14:07:24.374Z"
   },
   {
    "duration": 6,
    "start_time": "2022-02-20T14:07:26.478Z"
   },
   {
    "duration": 9,
    "start_time": "2022-02-20T14:07:28.930Z"
   },
   {
    "duration": 5510,
    "start_time": "2022-02-20T14:07:37.794Z"
   },
   {
    "duration": 161,
    "start_time": "2022-02-20T14:07:54.674Z"
   },
   {
    "duration": 46554,
    "start_time": "2022-02-20T14:10:12.718Z"
   },
   {
    "duration": 6,
    "start_time": "2022-02-20T14:11:27.577Z"
   },
   {
    "duration": 2773,
    "start_time": "2022-02-20T14:11:28.202Z"
   },
   {
    "duration": 9,
    "start_time": "2022-02-20T14:11:30.977Z"
   },
   {
    "duration": 7,
    "start_time": "2022-02-20T14:11:30.988Z"
   },
   {
    "duration": 8,
    "start_time": "2022-02-20T14:11:30.997Z"
   },
   {
    "duration": 5373,
    "start_time": "2022-02-20T14:11:31.006Z"
   },
   {
    "duration": 166,
    "start_time": "2022-02-20T14:11:36.381Z"
   },
   {
    "duration": 161,
    "start_time": "2022-02-20T14:12:51.094Z"
   },
   {
    "duration": 152,
    "start_time": "2022-02-20T14:40:14.505Z"
   },
   {
    "duration": 153,
    "start_time": "2022-02-20T14:40:57.565Z"
   },
   {
    "duration": 202,
    "start_time": "2022-02-20T14:41:34.801Z"
   },
   {
    "duration": 5,
    "start_time": "2022-02-20T14:41:58.981Z"
   },
   {
    "duration": 157,
    "start_time": "2022-02-20T14:42:09.309Z"
   },
   {
    "duration": 153,
    "start_time": "2022-02-20T14:47:04.305Z"
   },
   {
    "duration": 161,
    "start_time": "2022-02-20T14:47:30.917Z"
   },
   {
    "duration": 2033,
    "start_time": "2022-02-20T14:51:28.649Z"
   },
   {
    "duration": 10,
    "start_time": "2022-02-20T14:51:35.025Z"
   },
   {
    "duration": 6,
    "start_time": "2022-02-20T14:51:36.285Z"
   },
   {
    "duration": 8,
    "start_time": "2022-02-20T14:51:37.552Z"
   },
   {
    "duration": 5521,
    "start_time": "2022-02-20T14:51:39.089Z"
   },
   {
    "duration": 155,
    "start_time": "2022-02-20T14:51:49.577Z"
   },
   {
    "duration": 3997,
    "start_time": "2022-02-20T14:52:02.945Z"
   },
   {
    "duration": 116,
    "start_time": "2022-02-20T14:52:09.737Z"
   },
   {
    "duration": 5,
    "start_time": "2022-02-20T14:56:17.812Z"
   },
   {
    "duration": 23,
    "start_time": "2022-02-20T14:56:17.843Z"
   },
   {
    "duration": 3,
    "start_time": "2022-02-20T14:56:17.875Z"
   },
   {
    "duration": 11,
    "start_time": "2022-02-20T14:56:17.920Z"
   },
   {
    "duration": 9,
    "start_time": "2022-02-20T14:56:17.959Z"
   },
   {
    "duration": 39,
    "start_time": "2022-02-20T14:56:17.992Z"
   },
   {
    "duration": 5,
    "start_time": "2022-02-20T14:56:18.076Z"
   },
   {
    "duration": 12,
    "start_time": "2022-02-20T14:56:18.111Z"
   },
   {
    "duration": 7,
    "start_time": "2022-02-20T14:56:18.208Z"
   },
   {
    "duration": 6,
    "start_time": "2022-02-20T14:56:18.244Z"
   },
   {
    "duration": 14,
    "start_time": "2022-02-20T14:56:22.127Z"
   },
   {
    "duration": 12,
    "start_time": "2022-02-20T14:56:22.633Z"
   },
   {
    "duration": 6,
    "start_time": "2022-02-20T14:56:23.880Z"
   },
   {
    "duration": 3,
    "start_time": "2022-02-20T14:56:24.348Z"
   },
   {
    "duration": 7,
    "start_time": "2022-02-20T14:56:27.320Z"
   },
   {
    "duration": 4,
    "start_time": "2022-02-20T14:56:30.252Z"
   },
   {
    "duration": 10,
    "start_time": "2022-02-20T14:56:33.444Z"
   },
   {
    "duration": 3,
    "start_time": "2022-02-20T14:56:37.344Z"
   },
   {
    "duration": 54,
    "start_time": "2022-02-20T14:56:38.372Z"
   },
   {
    "duration": 132,
    "start_time": "2022-02-20T14:56:41.400Z"
   },
   {
    "duration": 49,
    "start_time": "2022-02-20T14:56:44.140Z"
   },
   {
    "duration": 98,
    "start_time": "2022-02-20T14:56:47.076Z"
   },
   {
    "duration": 77180,
    "start_time": "2022-02-20T14:56:52.796Z"
   },
   {
    "duration": 6,
    "start_time": "2022-02-20T14:58:25.123Z"
   },
   {
    "duration": 2062,
    "start_time": "2022-02-20T14:58:27.988Z"
   },
   {
    "duration": 9,
    "start_time": "2022-02-20T14:58:37.029Z"
   },
   {
    "duration": 7,
    "start_time": "2022-02-20T14:58:40.460Z"
   },
   {
    "duration": 2025,
    "start_time": "2022-02-20T14:59:03.860Z"
   },
   {
    "duration": 11,
    "start_time": "2022-02-20T14:59:12.275Z"
   },
   {
    "duration": 7,
    "start_time": "2022-02-20T14:59:14.499Z"
   },
   {
    "duration": 8,
    "start_time": "2022-02-20T14:59:16.680Z"
   },
   {
    "duration": 4114,
    "start_time": "2022-02-20T14:59:24.880Z"
   },
   {
    "duration": 116,
    "start_time": "2022-02-20T15:00:03.956Z"
   },
   {
    "duration": 5,
    "start_time": "2022-02-20T15:01:14.140Z"
   },
   {
    "duration": 29,
    "start_time": "2022-02-20T15:01:14.172Z"
   },
   {
    "duration": 3,
    "start_time": "2022-02-20T15:01:14.207Z"
   },
   {
    "duration": 12,
    "start_time": "2022-02-20T15:01:14.255Z"
   },
   {
    "duration": 9,
    "start_time": "2022-02-20T15:01:14.291Z"
   },
   {
    "duration": 40,
    "start_time": "2022-02-20T15:01:14.327Z"
   },
   {
    "duration": 5,
    "start_time": "2022-02-20T15:01:14.407Z"
   },
   {
    "duration": 11,
    "start_time": "2022-02-20T15:01:14.439Z"
   },
   {
    "duration": 7,
    "start_time": "2022-02-20T15:01:14.523Z"
   },
   {
    "duration": 6,
    "start_time": "2022-02-20T15:01:14.555Z"
   },
   {
    "duration": 13,
    "start_time": "2022-02-20T15:01:14.763Z"
   },
   {
    "duration": 12,
    "start_time": "2022-02-20T15:01:14.795Z"
   },
   {
    "duration": 6,
    "start_time": "2022-02-20T15:01:14.855Z"
   },
   {
    "duration": 3,
    "start_time": "2022-02-20T15:01:14.887Z"
   },
   {
    "duration": 7,
    "start_time": "2022-02-20T15:01:15.016Z"
   },
   {
    "duration": 4,
    "start_time": "2022-02-20T15:01:15.087Z"
   },
   {
    "duration": 10,
    "start_time": "2022-02-20T15:01:15.171Z"
   },
   {
    "duration": 4,
    "start_time": "2022-02-20T15:01:15.295Z"
   },
   {
    "duration": 56,
    "start_time": "2022-02-20T15:01:15.364Z"
   },
   {
    "duration": 102,
    "start_time": "2022-02-20T15:01:15.535Z"
   },
   {
    "duration": 132,
    "start_time": "2022-02-20T15:01:15.639Z"
   },
   {
    "duration": 99,
    "start_time": "2022-02-20T15:01:17.748Z"
   },
   {
    "duration": 36553,
    "start_time": "2022-02-20T15:01:19.931Z"
   },
   {
    "duration": 5,
    "start_time": "2022-02-20T15:02:06.779Z"
   },
   {
    "duration": 353,
    "start_time": "2022-02-20T15:02:20.323Z"
   },
   {
    "duration": 9,
    "start_time": "2022-02-20T15:02:24.643Z"
   },
   {
    "duration": 6,
    "start_time": "2022-02-20T15:02:26.148Z"
   },
   {
    "duration": 8,
    "start_time": "2022-02-20T15:02:28.399Z"
   },
   {
    "duration": 691,
    "start_time": "2022-02-20T15:02:36.459Z"
   },
   {
    "duration": 29,
    "start_time": "2022-02-20T15:02:53.035Z"
   },
   {
    "duration": 5,
    "start_time": "2022-02-20T15:04:28.635Z"
   },
   {
    "duration": 21,
    "start_time": "2022-02-20T15:04:28.666Z"
   },
   {
    "duration": 3,
    "start_time": "2022-02-20T15:04:28.702Z"
   },
   {
    "duration": 11,
    "start_time": "2022-02-20T15:04:28.740Z"
   },
   {
    "duration": 8,
    "start_time": "2022-02-20T15:04:28.775Z"
   },
   {
    "duration": 37,
    "start_time": "2022-02-20T15:04:28.807Z"
   },
   {
    "duration": 4,
    "start_time": "2022-02-20T15:04:28.891Z"
   },
   {
    "duration": 10,
    "start_time": "2022-02-20T15:04:28.923Z"
   },
   {
    "duration": 7,
    "start_time": "2022-02-20T15:04:29.019Z"
   },
   {
    "duration": 6,
    "start_time": "2022-02-20T15:04:29.055Z"
   },
   {
    "duration": 14,
    "start_time": "2022-02-20T15:04:29.251Z"
   },
   {
    "duration": 13,
    "start_time": "2022-02-20T15:04:29.278Z"
   },
   {
    "duration": 6,
    "start_time": "2022-02-20T15:04:29.339Z"
   },
   {
    "duration": 3,
    "start_time": "2022-02-20T15:04:29.371Z"
   },
   {
    "duration": 6,
    "start_time": "2022-02-20T15:04:29.511Z"
   },
   {
    "duration": 4,
    "start_time": "2022-02-20T15:04:29.583Z"
   },
   {
    "duration": 9,
    "start_time": "2022-02-20T15:04:29.651Z"
   },
   {
    "duration": 3,
    "start_time": "2022-02-20T15:04:29.763Z"
   },
   {
    "duration": 55,
    "start_time": "2022-02-20T15:04:29.859Z"
   },
   {
    "duration": 207,
    "start_time": "2022-02-20T15:04:30.023Z"
   },
   {
    "duration": 50,
    "start_time": "2022-02-20T15:04:30.232Z"
   },
   {
    "duration": 113,
    "start_time": "2022-02-20T15:04:30.284Z"
   },
   {
    "duration": 7631,
    "start_time": "2022-02-20T15:04:30.399Z"
   },
   {
    "duration": 4,
    "start_time": "2022-02-20T15:04:38.032Z"
   },
   {
    "duration": 375,
    "start_time": "2022-02-20T15:04:38.038Z"
   },
   {
    "duration": 665,
    "start_time": "2022-02-20T15:05:00.780Z"
   },
   {
    "duration": 9,
    "start_time": "2022-02-20T15:05:03.575Z"
   },
   {
    "duration": 8,
    "start_time": "2022-02-20T15:05:04.943Z"
   },
   {
    "duration": 8,
    "start_time": "2022-02-20T15:05:05.755Z"
   },
   {
    "duration": 1326,
    "start_time": "2022-02-20T15:05:12.891Z"
   },
   {
    "duration": 45,
    "start_time": "2022-02-20T15:05:17.823Z"
   },
   {
    "duration": 32539,
    "start_time": "2022-02-20T15:05:43.907Z"
   },
   {
    "duration": 648,
    "start_time": "2022-02-20T15:06:56.975Z"
   },
   {
    "duration": 9,
    "start_time": "2022-02-20T15:07:06.567Z"
   },
   {
    "duration": 7,
    "start_time": "2022-02-20T15:07:09.275Z"
   },
   {
    "duration": 8,
    "start_time": "2022-02-20T15:07:10.715Z"
   },
   {
    "duration": 1330,
    "start_time": "2022-02-20T15:07:24.791Z"
   },
   {
    "duration": 43,
    "start_time": "2022-02-20T15:07:31.111Z"
   },
   {
    "duration": 71683,
    "start_time": "2022-02-20T15:08:01.423Z"
   },
   {
    "duration": 635,
    "start_time": "2022-02-20T15:09:24.643Z"
   },
   {
    "duration": 8,
    "start_time": "2022-02-20T15:09:28.183Z"
   },
   {
    "duration": 7,
    "start_time": "2022-02-20T15:09:29.414Z"
   },
   {
    "duration": 8,
    "start_time": "2022-02-20T15:09:31.007Z"
   },
   {
    "duration": 1441,
    "start_time": "2022-02-20T15:09:33.019Z"
   },
   {
    "duration": 41,
    "start_time": "2022-02-20T15:09:36.747Z"
   },
   {
    "duration": 4,
    "start_time": "2022-02-20T15:10:49.303Z"
   },
   {
    "duration": 22,
    "start_time": "2022-02-20T15:10:49.330Z"
   },
   {
    "duration": 3,
    "start_time": "2022-02-20T15:10:49.378Z"
   },
   {
    "duration": 13,
    "start_time": "2022-02-20T15:10:49.422Z"
   },
   {
    "duration": 8,
    "start_time": "2022-02-20T15:10:49.471Z"
   },
   {
    "duration": 38,
    "start_time": "2022-02-20T15:10:49.507Z"
   },
   {
    "duration": 5,
    "start_time": "2022-02-20T15:10:49.586Z"
   },
   {
    "duration": 11,
    "start_time": "2022-02-20T15:10:49.618Z"
   },
   {
    "duration": 7,
    "start_time": "2022-02-20T15:10:49.699Z"
   },
   {
    "duration": 5,
    "start_time": "2022-02-20T15:10:49.730Z"
   },
   {
    "duration": 14,
    "start_time": "2022-02-20T15:10:49.930Z"
   },
   {
    "duration": 12,
    "start_time": "2022-02-20T15:10:49.962Z"
   },
   {
    "duration": 6,
    "start_time": "2022-02-20T15:10:50.023Z"
   },
   {
    "duration": 4,
    "start_time": "2022-02-20T15:10:50.055Z"
   },
   {
    "duration": 7,
    "start_time": "2022-02-20T15:10:50.180Z"
   },
   {
    "duration": 4,
    "start_time": "2022-02-20T15:10:50.238Z"
   },
   {
    "duration": 9,
    "start_time": "2022-02-20T15:10:50.319Z"
   },
   {
    "duration": 3,
    "start_time": "2022-02-20T15:10:50.443Z"
   },
   {
    "duration": 55,
    "start_time": "2022-02-20T15:10:50.527Z"
   },
   {
    "duration": 47,
    "start_time": "2022-02-20T15:10:50.691Z"
   },
   {
    "duration": 129,
    "start_time": "2022-02-20T15:10:50.832Z"
   },
   {
    "duration": 110,
    "start_time": "2022-02-20T15:10:50.962Z"
   },
   {
    "duration": 318057,
    "start_time": "2022-02-20T15:10:51.074Z"
   },
   {
    "duration": 5,
    "start_time": "2022-02-20T15:16:09.133Z"
   },
   {
    "duration": 2180,
    "start_time": "2022-02-20T15:16:09.140Z"
   },
   {
    "duration": 13,
    "start_time": "2022-02-20T15:16:11.322Z"
   },
   {
    "duration": 7,
    "start_time": "2022-02-20T15:16:11.337Z"
   },
   {
    "duration": 7,
    "start_time": "2022-02-20T15:16:11.346Z"
   },
   {
    "duration": 4939,
    "start_time": "2022-02-20T15:16:11.354Z"
   },
   {
    "duration": 179,
    "start_time": "2022-02-20T15:16:16.296Z"
   },
   {
    "duration": 174,
    "start_time": "2022-02-20T15:16:16.477Z"
   },
   {
    "duration": 187,
    "start_time": "2022-02-20T15:16:16.653Z"
   },
   {
    "duration": 5,
    "start_time": "2022-02-20T15:18:20.666Z"
   },
   {
    "duration": 25,
    "start_time": "2022-02-20T15:18:20.693Z"
   },
   {
    "duration": 3,
    "start_time": "2022-02-20T15:18:20.729Z"
   },
   {
    "duration": 12,
    "start_time": "2022-02-20T15:18:20.770Z"
   },
   {
    "duration": 8,
    "start_time": "2022-02-20T15:18:20.806Z"
   },
   {
    "duration": 38,
    "start_time": "2022-02-20T15:18:20.837Z"
   },
   {
    "duration": 4,
    "start_time": "2022-02-20T15:18:20.922Z"
   },
   {
    "duration": 11,
    "start_time": "2022-02-20T15:18:20.954Z"
   },
   {
    "duration": 7,
    "start_time": "2022-02-20T15:18:21.054Z"
   },
   {
    "duration": 6,
    "start_time": "2022-02-20T15:18:21.090Z"
   },
   {
    "duration": 12,
    "start_time": "2022-02-20T15:18:21.275Z"
   },
   {
    "duration": 11,
    "start_time": "2022-02-20T15:18:21.306Z"
   },
   {
    "duration": 5,
    "start_time": "2022-02-20T15:18:21.379Z"
   },
   {
    "duration": 3,
    "start_time": "2022-02-20T15:18:21.410Z"
   },
   {
    "duration": 7,
    "start_time": "2022-02-20T15:18:21.547Z"
   },
   {
    "duration": 4,
    "start_time": "2022-02-20T15:18:21.618Z"
   },
   {
    "duration": 9,
    "start_time": "2022-02-20T15:18:21.707Z"
   },
   {
    "duration": 3,
    "start_time": "2022-02-20T15:18:21.822Z"
   },
   {
    "duration": 56,
    "start_time": "2022-02-20T15:18:21.890Z"
   },
   {
    "duration": 70,
    "start_time": "2022-02-20T15:18:22.062Z"
   },
   {
    "duration": 46,
    "start_time": "2022-02-20T15:18:22.231Z"
   },
   {
    "duration": 105,
    "start_time": "2022-02-20T15:18:22.279Z"
   },
   {
    "duration": 69166,
    "start_time": "2022-02-20T15:18:22.387Z"
   },
   {
    "duration": 5,
    "start_time": "2022-02-20T15:19:31.555Z"
   },
   {
    "duration": 1391,
    "start_time": "2022-02-20T15:19:31.562Z"
   },
   {
    "duration": 7,
    "start_time": "2022-02-20T15:19:32.955Z"
   },
   {
    "duration": 6,
    "start_time": "2022-02-20T15:19:32.964Z"
   },
   {
    "duration": 8,
    "start_time": "2022-02-20T15:19:32.971Z"
   },
   {
    "duration": 2814,
    "start_time": "2022-02-20T15:19:32.980Z"
   },
   {
    "duration": 90,
    "start_time": "2022-02-20T15:19:35.796Z"
   },
   {
    "duration": 165,
    "start_time": "2022-02-20T15:19:35.888Z"
   },
   {
    "duration": 93,
    "start_time": "2022-02-20T15:19:36.055Z"
   },
   {
    "duration": 4,
    "start_time": "2022-02-20T15:22:42.910Z"
   },
   {
    "duration": 26,
    "start_time": "2022-02-20T15:22:42.933Z"
   },
   {
    "duration": 4,
    "start_time": "2022-02-20T15:22:42.965Z"
   },
   {
    "duration": 13,
    "start_time": "2022-02-20T15:22:43.003Z"
   },
   {
    "duration": 9,
    "start_time": "2022-02-20T15:22:43.033Z"
   },
   {
    "duration": 41,
    "start_time": "2022-02-20T15:22:43.070Z"
   },
   {
    "duration": 4,
    "start_time": "2022-02-20T15:22:43.156Z"
   },
   {
    "duration": 11,
    "start_time": "2022-02-20T15:22:43.181Z"
   },
   {
    "duration": 7,
    "start_time": "2022-02-20T15:22:43.282Z"
   },
   {
    "duration": 6,
    "start_time": "2022-02-20T15:22:43.330Z"
   },
   {
    "duration": 13,
    "start_time": "2022-02-20T15:22:43.514Z"
   },
   {
    "duration": 13,
    "start_time": "2022-02-20T15:22:43.545Z"
   },
   {
    "duration": 5,
    "start_time": "2022-02-20T15:22:43.622Z"
   },
   {
    "duration": 4,
    "start_time": "2022-02-20T15:22:43.653Z"
   },
   {
    "duration": 7,
    "start_time": "2022-02-20T15:22:43.782Z"
   },
   {
    "duration": 4,
    "start_time": "2022-02-20T15:22:43.845Z"
   },
   {
    "duration": 10,
    "start_time": "2022-02-20T15:22:43.930Z"
   },
   {
    "duration": 3,
    "start_time": "2022-02-20T15:22:44.042Z"
   },
   {
    "duration": 61,
    "start_time": "2022-02-20T15:22:44.118Z"
   },
   {
    "duration": 39,
    "start_time": "2022-02-20T15:22:44.302Z"
   },
   {
    "duration": 141,
    "start_time": "2022-02-20T15:22:44.433Z"
   },
   {
    "duration": 116,
    "start_time": "2022-02-20T15:22:44.576Z"
   },
   {
    "duration": 347693,
    "start_time": "2022-02-20T15:22:44.694Z"
   },
   {
    "duration": 5,
    "start_time": "2022-02-20T15:28:32.389Z"
   },
   {
    "duration": 3431,
    "start_time": "2022-02-20T15:28:32.395Z"
   },
   {
    "duration": 9,
    "start_time": "2022-02-20T15:28:35.831Z"
   },
   {
    "duration": 8,
    "start_time": "2022-02-20T15:28:35.841Z"
   },
   {
    "duration": 7,
    "start_time": "2022-02-20T15:28:35.851Z"
   },
   {
    "duration": 6932,
    "start_time": "2022-02-20T15:28:35.860Z"
   },
   {
    "duration": 191,
    "start_time": "2022-02-20T15:28:42.794Z"
   },
   {
    "duration": 161,
    "start_time": "2022-02-20T15:28:42.987Z"
   },
   {
    "duration": 196,
    "start_time": "2022-02-20T15:28:43.150Z"
   },
   {
    "duration": 4,
    "start_time": "2022-02-20T15:38:44.992Z"
   },
   {
    "duration": 27,
    "start_time": "2022-02-20T15:38:45.023Z"
   },
   {
    "duration": 3,
    "start_time": "2022-02-20T15:38:45.055Z"
   },
   {
    "duration": 11,
    "start_time": "2022-02-20T15:38:45.096Z"
   },
   {
    "duration": 9,
    "start_time": "2022-02-20T15:38:45.135Z"
   },
   {
    "duration": 40,
    "start_time": "2022-02-20T15:38:45.168Z"
   },
   {
    "duration": 4,
    "start_time": "2022-02-20T15:38:45.248Z"
   },
   {
    "duration": 11,
    "start_time": "2022-02-20T15:38:45.279Z"
   },
   {
    "duration": 7,
    "start_time": "2022-02-20T15:38:45.379Z"
   },
   {
    "duration": 6,
    "start_time": "2022-02-20T15:38:45.412Z"
   },
   {
    "duration": 13,
    "start_time": "2022-02-20T15:38:45.620Z"
   },
   {
    "duration": 13,
    "start_time": "2022-02-20T15:38:45.651Z"
   },
   {
    "duration": 6,
    "start_time": "2022-02-20T15:38:45.712Z"
   },
   {
    "duration": 5,
    "start_time": "2022-02-20T15:38:45.743Z"
   },
   {
    "duration": 6,
    "start_time": "2022-02-20T15:38:45.876Z"
   },
   {
    "duration": 5,
    "start_time": "2022-02-20T15:38:45.931Z"
   },
   {
    "duration": 9,
    "start_time": "2022-02-20T15:38:46.024Z"
   },
   {
    "duration": 3,
    "start_time": "2022-02-20T15:38:46.144Z"
   },
   {
    "duration": 59,
    "start_time": "2022-02-20T15:38:46.215Z"
   },
   {
    "duration": 39,
    "start_time": "2022-02-20T15:38:46.399Z"
   },
   {
    "duration": 141,
    "start_time": "2022-02-20T15:38:46.533Z"
   },
   {
    "duration": 110,
    "start_time": "2022-02-20T15:38:46.676Z"
   },
   {
    "duration": 351952,
    "start_time": "2022-02-20T15:38:46.788Z"
   },
   {
    "duration": 6,
    "start_time": "2022-02-20T15:44:38.742Z"
   },
   {
    "duration": 751,
    "start_time": "2022-02-20T15:44:38.751Z"
   },
   {
    "duration": 9,
    "start_time": "2022-02-20T15:44:39.504Z"
   },
   {
    "duration": 20,
    "start_time": "2022-02-20T15:44:39.515Z"
   },
   {
    "duration": 8,
    "start_time": "2022-02-20T15:44:39.537Z"
   },
   {
    "duration": 1461,
    "start_time": "2022-02-20T15:44:39.547Z"
   },
   {
    "duration": 58,
    "start_time": "2022-02-20T15:44:41.011Z"
   },
   {
    "duration": 47,
    "start_time": "2022-02-20T15:44:41.071Z"
   },
   {
    "duration": 365,
    "start_time": "2022-02-20T18:17:47.219Z"
   },
   {
    "duration": 1669,
    "start_time": "2022-02-20T18:18:03.043Z"
   },
   {
    "duration": 31,
    "start_time": "2022-02-20T18:18:04.715Z"
   },
   {
    "duration": 4,
    "start_time": "2022-02-20T18:18:04.750Z"
   },
   {
    "duration": 23,
    "start_time": "2022-02-20T18:18:04.757Z"
   },
   {
    "duration": 45,
    "start_time": "2022-02-20T18:18:04.783Z"
   },
   {
    "duration": 62,
    "start_time": "2022-02-20T18:18:04.831Z"
   },
   {
    "duration": 35,
    "start_time": "2022-02-20T18:18:04.896Z"
   },
   {
    "duration": 18,
    "start_time": "2022-02-20T18:18:04.934Z"
   },
   {
    "duration": 11,
    "start_time": "2022-02-20T18:18:04.955Z"
   },
   {
    "duration": 10,
    "start_time": "2022-02-20T18:18:04.969Z"
   },
   {
    "duration": 22,
    "start_time": "2022-02-20T18:18:05.027Z"
   },
   {
    "duration": 20,
    "start_time": "2022-02-20T18:18:05.051Z"
   },
   {
    "duration": 9,
    "start_time": "2022-02-20T18:18:05.074Z"
   },
   {
    "duration": 7,
    "start_time": "2022-02-20T18:18:05.125Z"
   },
   {
    "duration": 12,
    "start_time": "2022-02-20T18:18:05.135Z"
   },
   {
    "duration": 6,
    "start_time": "2022-02-20T18:18:05.150Z"
   },
   {
    "duration": 18,
    "start_time": "2022-02-20T18:18:05.159Z"
   },
   {
    "duration": 6,
    "start_time": "2022-02-20T18:18:05.227Z"
   },
   {
    "duration": 408,
    "start_time": "2022-02-20T18:18:05.235Z"
   },
   {
    "duration": -820,
    "start_time": "2022-02-20T18:18:06.466Z"
   },
   {
    "duration": -821,
    "start_time": "2022-02-20T18:18:06.469Z"
   },
   {
    "duration": -823,
    "start_time": "2022-02-20T18:18:06.472Z"
   },
   {
    "duration": -825,
    "start_time": "2022-02-20T18:18:06.476Z"
   },
   {
    "duration": -854,
    "start_time": "2022-02-20T18:18:06.507Z"
   },
   {
    "duration": -856,
    "start_time": "2022-02-20T18:18:06.510Z"
   },
   {
    "duration": -857,
    "start_time": "2022-02-20T18:18:06.513Z"
   },
   {
    "duration": -858,
    "start_time": "2022-02-20T18:18:06.516Z"
   },
   {
    "duration": -860,
    "start_time": "2022-02-20T18:18:06.520Z"
   },
   {
    "duration": -862,
    "start_time": "2022-02-20T18:18:06.523Z"
   },
   {
    "duration": 368,
    "start_time": "2022-02-20T18:18:05.743Z"
   },
   {
    "duration": -441,
    "start_time": "2022-02-20T18:18:06.555Z"
   },
   {
    "duration": 112,
    "start_time": "2022-02-20T18:20:20.127Z"
   },
   {
    "duration": 425,
    "start_time": "2022-02-20T18:21:00.915Z"
   },
   {
    "duration": 276,
    "start_time": "2022-02-20T18:22:36.557Z"
   },
   {
    "duration": 66,
    "start_time": "2022-02-20T18:22:46.241Z"
   },
   {
    "duration": 193,
    "start_time": "2022-02-20T18:22:52.915Z"
   },
   {
    "duration": 522400,
    "start_time": "2022-02-20T18:23:01.027Z"
   },
   {
    "duration": 7,
    "start_time": "2022-02-20T18:32:50.078Z"
   },
   {
    "duration": 2854,
    "start_time": "2022-02-20T18:32:54.214Z"
   },
   {
    "duration": 12,
    "start_time": "2022-02-20T18:33:26.546Z"
   },
   {
    "duration": 9,
    "start_time": "2022-02-20T18:33:29.514Z"
   },
   {
    "duration": 10,
    "start_time": "2022-02-20T18:33:32.342Z"
   },
   {
    "duration": 6368,
    "start_time": "2022-02-20T18:33:35.589Z"
   },
   {
    "duration": 165,
    "start_time": "2022-02-20T18:33:56.466Z"
   },
   {
    "duration": 172,
    "start_time": "2022-02-20T18:34:21.954Z"
   },
   {
    "duration": 809,
    "start_time": "2022-02-20T18:41:23.350Z"
   },
   {
    "duration": 6,
    "start_time": "2022-02-20T18:41:58.077Z"
   },
   {
    "duration": 5,
    "start_time": "2022-02-20T18:43:58.050Z"
   },
   {
    "duration": 5,
    "start_time": "2022-02-20T18:44:36.509Z"
   },
   {
    "duration": 26,
    "start_time": "2022-02-20T18:44:36.610Z"
   },
   {
    "duration": 4,
    "start_time": "2022-02-20T18:44:36.642Z"
   },
   {
    "duration": 21,
    "start_time": "2022-02-20T18:44:36.688Z"
   },
   {
    "duration": 13,
    "start_time": "2022-02-20T18:44:36.729Z"
   },
   {
    "duration": 65,
    "start_time": "2022-02-20T18:44:36.761Z"
   },
   {
    "duration": 7,
    "start_time": "2022-02-20T18:44:36.849Z"
   },
   {
    "duration": 17,
    "start_time": "2022-02-20T18:44:36.881Z"
   },
   {
    "duration": 14,
    "start_time": "2022-02-20T18:44:37.030Z"
   },
   {
    "duration": 12,
    "start_time": "2022-02-20T18:44:37.066Z"
   },
   {
    "duration": 22,
    "start_time": "2022-02-20T18:44:37.269Z"
   },
   {
    "duration": 18,
    "start_time": "2022-02-20T18:44:37.305Z"
   },
   {
    "duration": 8,
    "start_time": "2022-02-20T18:44:37.365Z"
   },
   {
    "duration": 5,
    "start_time": "2022-02-20T18:44:37.397Z"
   },
   {
    "duration": 10,
    "start_time": "2022-02-20T18:44:37.529Z"
   },
   {
    "duration": 7,
    "start_time": "2022-02-20T18:44:37.589Z"
   },
   {
    "duration": 14,
    "start_time": "2022-02-20T18:44:37.669Z"
   },
   {
    "duration": 5,
    "start_time": "2022-02-20T18:44:37.825Z"
   },
   {
    "duration": 87,
    "start_time": "2022-02-20T18:44:37.902Z"
   },
   {
    "duration": 139,
    "start_time": "2022-02-20T18:44:38.097Z"
   },
   {
    "duration": 62,
    "start_time": "2022-02-20T18:44:38.329Z"
   },
   {
    "duration": 163,
    "start_time": "2022-02-20T18:44:38.395Z"
   },
   {
    "duration": 531636,
    "start_time": "2022-02-20T18:44:38.561Z"
   },
   {
    "duration": 7,
    "start_time": "2022-02-20T18:53:30.200Z"
   },
   {
    "duration": 1387,
    "start_time": "2022-02-20T18:53:30.226Z"
   },
   {
    "duration": 19,
    "start_time": "2022-02-20T18:53:31.617Z"
   },
   {
    "duration": 9,
    "start_time": "2022-02-20T18:53:31.640Z"
   },
   {
    "duration": 16,
    "start_time": "2022-02-20T18:53:31.652Z"
   },
   {
    "duration": 2189,
    "start_time": "2022-02-20T18:53:31.670Z"
   },
   {
    "duration": 76,
    "start_time": "2022-02-20T18:53:33.862Z"
   },
   {
    "duration": 59,
    "start_time": "2022-02-20T18:53:33.940Z"
   },
   {
    "duration": 5,
    "start_time": "2022-02-20T18:57:09.177Z"
   },
   {
    "duration": 36,
    "start_time": "2022-02-20T18:57:09.268Z"
   },
   {
    "duration": 5,
    "start_time": "2022-02-20T18:57:09.307Z"
   },
   {
    "duration": 25,
    "start_time": "2022-02-20T18:57:09.349Z"
   },
   {
    "duration": 13,
    "start_time": "2022-02-20T18:57:09.389Z"
   },
   {
    "duration": 82,
    "start_time": "2022-02-20T18:57:09.420Z"
   },
   {
    "duration": 22,
    "start_time": "2022-02-20T18:57:09.505Z"
   },
   {
    "duration": 17,
    "start_time": "2022-02-20T18:57:09.540Z"
   },
   {
    "duration": 10,
    "start_time": "2022-02-20T18:57:09.701Z"
   },
   {
    "duration": 9,
    "start_time": "2022-02-20T18:57:09.732Z"
   },
   {
    "duration": 29,
    "start_time": "2022-02-20T18:57:09.925Z"
   },
   {
    "duration": 18,
    "start_time": "2022-02-20T18:57:09.976Z"
   },
   {
    "duration": 7,
    "start_time": "2022-02-20T18:57:10.040Z"
   },
   {
    "duration": 6,
    "start_time": "2022-02-20T18:57:10.072Z"
   },
   {
    "duration": 9,
    "start_time": "2022-02-20T18:57:10.192Z"
   },
   {
    "duration": 6,
    "start_time": "2022-02-20T18:57:10.252Z"
   },
   {
    "duration": 17,
    "start_time": "2022-02-20T18:57:10.332Z"
   },
   {
    "duration": 5,
    "start_time": "2022-02-20T18:57:10.496Z"
   },
   {
    "duration": 89,
    "start_time": "2022-02-20T18:57:10.568Z"
   },
   {
    "duration": 144,
    "start_time": "2022-02-20T18:57:10.785Z"
   },
   {
    "duration": 176,
    "start_time": "2022-02-20T18:57:10.933Z"
   },
   {
    "duration": 154,
    "start_time": "2022-02-20T18:57:11.126Z"
   },
   {
    "duration": 126707,
    "start_time": "2022-02-20T18:57:11.283Z"
   },
   {
    "duration": 7,
    "start_time": "2022-02-20T18:59:17.993Z"
   },
   {
    "duration": 2116,
    "start_time": "2022-02-20T18:59:18.002Z"
   },
   {
    "duration": 16,
    "start_time": "2022-02-20T18:59:20.121Z"
   },
   {
    "duration": 9,
    "start_time": "2022-02-20T18:59:20.139Z"
   },
   {
    "duration": 13,
    "start_time": "2022-02-20T18:59:20.151Z"
   },
   {
    "duration": 6095,
    "start_time": "2022-02-20T18:59:20.167Z"
   },
   {
    "duration": 133,
    "start_time": "2022-02-20T18:59:26.265Z"
   },
   {
    "duration": 128,
    "start_time": "2022-02-20T18:59:26.401Z"
   },
   {
    "duration": 7,
    "start_time": "2022-02-20T19:01:08.117Z"
   },
   {
    "duration": 27,
    "start_time": "2022-02-20T19:01:08.220Z"
   },
   {
    "duration": 5,
    "start_time": "2022-02-20T19:01:08.255Z"
   },
   {
    "duration": 27,
    "start_time": "2022-02-20T19:01:08.300Z"
   },
   {
    "duration": 17,
    "start_time": "2022-02-20T19:01:08.341Z"
   },
   {
    "duration": 84,
    "start_time": "2022-02-20T19:01:08.372Z"
   },
   {
    "duration": 6,
    "start_time": "2022-02-20T19:01:08.459Z"
   },
   {
    "duration": 18,
    "start_time": "2022-02-20T19:01:08.492Z"
   },
   {
    "duration": 10,
    "start_time": "2022-02-20T19:01:08.649Z"
   },
   {
    "duration": 8,
    "start_time": "2022-02-20T19:01:08.680Z"
   },
   {
    "duration": 21,
    "start_time": "2022-02-20T19:01:08.872Z"
   },
   {
    "duration": 18,
    "start_time": "2022-02-20T19:01:08.907Z"
   },
   {
    "duration": 8,
    "start_time": "2022-02-20T19:01:08.976Z"
   },
   {
    "duration": 5,
    "start_time": "2022-02-20T19:01:09.008Z"
   },
   {
    "duration": 10,
    "start_time": "2022-02-20T19:01:09.128Z"
   },
   {
    "duration": 6,
    "start_time": "2022-02-20T19:01:09.196Z"
   },
   {
    "duration": 17,
    "start_time": "2022-02-20T19:01:09.289Z"
   },
   {
    "duration": 6,
    "start_time": "2022-02-20T19:01:09.437Z"
   },
   {
    "duration": 95,
    "start_time": "2022-02-20T19:01:09.513Z"
   },
   {
    "duration": 320,
    "start_time": "2022-02-20T19:01:09.716Z"
   },
   {
    "duration": 65,
    "start_time": "2022-02-20T19:01:10.038Z"
   },
   {
    "duration": 150,
    "start_time": "2022-02-20T19:01:10.126Z"
   },
   {
    "duration": 79814,
    "start_time": "2022-02-20T19:01:10.279Z"
   },
   {
    "duration": 9,
    "start_time": "2022-02-20T19:02:30.096Z"
   },
   {
    "duration": 6197,
    "start_time": "2022-02-20T19:02:30.108Z"
   },
   {
    "duration": 24,
    "start_time": "2022-02-20T19:02:36.309Z"
   },
   {
    "duration": 10,
    "start_time": "2022-02-20T19:02:36.336Z"
   },
   {
    "duration": 13,
    "start_time": "2022-02-20T19:02:36.349Z"
   },
   {
    "duration": 14289,
    "start_time": "2022-02-20T19:02:36.365Z"
   },
   {
    "duration": 353,
    "start_time": "2022-02-20T19:02:50.657Z"
   },
   {
    "duration": 342,
    "start_time": "2022-02-20T19:02:51.012Z"
   },
   {
    "duration": 6,
    "start_time": "2022-02-20T19:03:46.033Z"
   },
   {
    "duration": 40,
    "start_time": "2022-02-20T19:03:46.125Z"
   },
   {
    "duration": 7,
    "start_time": "2022-02-20T19:03:46.169Z"
   },
   {
    "duration": 25,
    "start_time": "2022-02-20T19:03:46.203Z"
   },
   {
    "duration": 13,
    "start_time": "2022-02-20T19:03:46.240Z"
   },
   {
    "duration": 77,
    "start_time": "2022-02-20T19:03:46.275Z"
   },
   {
    "duration": 7,
    "start_time": "2022-02-20T19:03:46.357Z"
   },
   {
    "duration": 24,
    "start_time": "2022-02-20T19:03:46.392Z"
   },
   {
    "duration": 13,
    "start_time": "2022-02-20T19:03:46.552Z"
   },
   {
    "duration": 9,
    "start_time": "2022-02-20T19:03:46.584Z"
   },
   {
    "duration": 20,
    "start_time": "2022-02-20T19:03:46.772Z"
   },
   {
    "duration": 17,
    "start_time": "2022-02-20T19:03:46.807Z"
   },
   {
    "duration": 7,
    "start_time": "2022-02-20T19:03:46.884Z"
   },
   {
    "duration": 8,
    "start_time": "2022-02-20T19:03:46.916Z"
   },
   {
    "duration": 12,
    "start_time": "2022-02-20T19:03:47.052Z"
   },
   {
    "duration": 7,
    "start_time": "2022-02-20T19:03:47.112Z"
   },
   {
    "duration": 16,
    "start_time": "2022-02-20T19:03:47.185Z"
   },
   {
    "duration": 5,
    "start_time": "2022-02-20T19:03:47.356Z"
   },
   {
    "duration": 85,
    "start_time": "2022-02-20T19:03:47.428Z"
   },
   {
    "duration": 212,
    "start_time": "2022-02-20T19:03:47.620Z"
   },
   {
    "duration": 67,
    "start_time": "2022-02-20T19:03:47.835Z"
   },
   {
    "duration": 160,
    "start_time": "2022-02-20T19:03:47.927Z"
   },
   {
    "duration": 55825,
    "start_time": "2022-02-20T19:03:48.091Z"
   },
   {
    "duration": 11,
    "start_time": "2022-02-20T19:04:43.919Z"
   },
   {
    "duration": 855,
    "start_time": "2022-02-20T19:04:43.933Z"
   },
   {
    "duration": 12,
    "start_time": "2022-02-20T19:04:44.790Z"
   },
   {
    "duration": 28,
    "start_time": "2022-02-20T19:04:44.804Z"
   },
   {
    "duration": 12,
    "start_time": "2022-02-20T19:04:44.835Z"
   },
   {
    "duration": 1582,
    "start_time": "2022-02-20T19:04:44.851Z"
   },
   {
    "duration": 49,
    "start_time": "2022-02-20T19:04:46.435Z"
   },
   {
    "duration": 71,
    "start_time": "2022-02-20T19:04:46.486Z"
   },
   {
    "duration": 7,
    "start_time": "2022-02-20T19:07:15.640Z"
   },
   {
    "duration": 29,
    "start_time": "2022-02-20T19:07:15.736Z"
   },
   {
    "duration": 4,
    "start_time": "2022-02-20T19:07:15.772Z"
   },
   {
    "duration": 23,
    "start_time": "2022-02-20T19:07:15.816Z"
   },
   {
    "duration": 14,
    "start_time": "2022-02-20T19:07:15.851Z"
   },
   {
    "duration": 69,
    "start_time": "2022-02-20T19:07:15.891Z"
   },
   {
    "duration": 6,
    "start_time": "2022-02-20T19:07:15.971Z"
   },
   {
    "duration": 17,
    "start_time": "2022-02-20T19:07:16.008Z"
   },
   {
    "duration": 12,
    "start_time": "2022-02-20T19:07:16.168Z"
   },
   {
    "duration": 10,
    "start_time": "2022-02-20T19:07:16.203Z"
   },
   {
    "duration": 20,
    "start_time": "2022-02-20T19:07:16.388Z"
   },
   {
    "duration": 19,
    "start_time": "2022-02-20T19:07:16.419Z"
   },
   {
    "duration": 7,
    "start_time": "2022-02-20T19:07:16.495Z"
   },
   {
    "duration": 6,
    "start_time": "2022-02-20T19:07:16.527Z"
   },
   {
    "duration": 9,
    "start_time": "2022-02-20T19:07:16.668Z"
   },
   {
    "duration": 6,
    "start_time": "2022-02-20T19:07:16.728Z"
   },
   {
    "duration": 16,
    "start_time": "2022-02-20T19:07:16.812Z"
   },
   {
    "duration": 5,
    "start_time": "2022-02-20T19:07:16.949Z"
   },
   {
    "duration": 102,
    "start_time": "2022-02-20T19:07:17.024Z"
   },
   {
    "duration": 282,
    "start_time": "2022-02-20T19:07:17.248Z"
   },
   {
    "duration": 63,
    "start_time": "2022-02-20T19:07:17.533Z"
   },
   {
    "duration": 170,
    "start_time": "2022-02-20T19:07:17.599Z"
   },
   {
    "duration": 534260,
    "start_time": "2022-02-20T19:07:17.772Z"
   },
   {
    "duration": 7,
    "start_time": "2022-02-20T19:16:12.034Z"
   },
   {
    "duration": 1986,
    "start_time": "2022-02-20T19:16:12.045Z"
   },
   {
    "duration": 13,
    "start_time": "2022-02-20T19:16:14.035Z"
   },
   {
    "duration": 36,
    "start_time": "2022-02-20T19:16:14.051Z"
   },
   {
    "duration": 22,
    "start_time": "2022-02-20T19:16:14.089Z"
   },
   {
    "duration": 4434,
    "start_time": "2022-02-20T19:16:14.114Z"
   },
   {
    "duration": 135,
    "start_time": "2022-02-20T19:16:18.551Z"
   },
   {
    "duration": 132,
    "start_time": "2022-02-20T19:16:18.689Z"
   }
  ],
  "kernelspec": {
   "display_name": "Python 3 (ipykernel)",
   "language": "python",
   "name": "python3"
  },
  "language_info": {
   "codemirror_mode": {
    "name": "ipython",
    "version": 3
   },
   "file_extension": ".py",
   "mimetype": "text/x-python",
   "name": "python",
   "nbconvert_exporter": "python",
   "pygments_lexer": "ipython3",
   "version": "3.9.5"
  },
  "toc": {
   "base_numbering": 1,
   "nav_menu": {},
   "number_sections": true,
   "sideBar": true,
   "skip_h1_title": true,
   "title_cell": "Содержание",
   "title_sidebar": "Contents",
   "toc_cell": true,
   "toc_position": {
    "height": "calc(100% - 180px)",
    "left": "10px",
    "top": "150px",
    "width": "366.391px"
   },
   "toc_section_display": true,
   "toc_window_display": true
  }
 },
 "nbformat": 4,
 "nbformat_minor": 2
}
