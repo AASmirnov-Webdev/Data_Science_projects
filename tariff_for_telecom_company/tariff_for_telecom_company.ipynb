{
 "cells": [
  {
   "cell_type": "markdown",
   "metadata": {},
   "source": [
    "## Определение перспективного тарифа для телеком-компании!\n",
    "_____\n",
    "### Описание исследования.\n",
    "\n",
    "Я аналитик компании «Мегалайн» — федерального оператора сотовой связи. Клиентам предлагают два тарифных плана: «Смарт» и «Ультра». \n",
    "    \n",
    "_____\n",
    "### Цель исследования.\n",
    "    \n",
    "Суть исследования:\n",
    "Провести анализ данных при помощи которых коммерческий департамент сможет скорректировать рекламный бюджет, в зависимости от того, какой тариф приносит больше денег.\n",
    "    \n",
    "_____\n",
    "### Задачи исследования.\n",
    "\n",
    "Действия, необходимые для достижения поставленной цели:\n",
    "Мне предстоит сделать предварительный анализ тарифов на небольшой выборке клиентов.\n",
    "_____\n",
    "### Исходные данные.\n",
    "    \n",
    "В моем распоряжении данные 500 пользователей «Мегалайна»: кто они, откуда, каким тарифом пользуются, сколько звонков и сообщений каждый отправил за 2018 год.\n",
    "\n",
    "#### Описание тарифов\n",
    "\n",
    "##### Тариф `«Смарт»`\n",
    "1.\tЕжемесячная плата: 550 рублей\n",
    "2.\tВключено 500 минут разговора, 50 сообщений и 15 Гб интернет-трафика\n",
    "3.\tСтоимость услуг сверх тарифного пакета: 1. минута разговора: 3 рубля («Мегалайн» всегда округляет вверх значения минут и мегабайтов. Если пользователь проговорил всего 1 секунду, в тарифе засчитывается целая минута); 2. сообщение: 3 рубля; 3. 1 Гб интернет-трафика: 200 рублей.\n",
    "\n",
    "##### Тариф `«Ультра»`\n",
    "1.\tЕжемесячная плата: 1950 рублей\n",
    "2.\tВключено 3000 минут разговора, 1000 сообщений и 30 Гб интернет-трафика\n",
    "3.\tСтоимость услуг сверх тарифного пакета: 1. минута разговора: 1 рубль; 2. сообщение: 1 рубль; 3. 1 Гб интернет-трафика: 150 рублей.\n",
    "\n",
    "##### Примечание:\n",
    "«Мегалайн» всегда округляет секунды до минут, а мегабайты — до гигабайт. Каждый звонок округляется отдельно: даже если он длился всего 1 секунду, будет засчитан как 1 минута.\n",
    "Для веб-трафика отдельные сессии не считаются. Вместо этого общая сумма за месяц округляется в бо́льшую сторону. Если абонент использует 1025 мегабайт в этом месяце, с него возьмут плату за 2 гигабайта.\n",
    "\n",
    "______\n",
    "#### Описание данных\n",
    "\n",
    "##### Путь к файлам:\n",
    "\n",
    "•\t`/datasets/calls.csv`.\n",
    "\n",
    "•\t`/datasets/internet.csv`.\n",
    "\n",
    "•\t`/datasets/messages.csv`.\n",
    "\n",
    "•\t`/datasets/tariffs.csv`.\n",
    "\n",
    "•\t`/datasets/users.csv`.\n",
    "\n",
    "\n",
    "##### Таблица `users` (информация о пользователях):\n",
    "\n",
    "•\t`user_id` — уникальный идентификатор пользователя\n",
    "\n",
    "•\t`first_name` — имя пользователя\n",
    "\n",
    "•\t`last_name` — фамилия пользователя\n",
    "\n",
    "•\t`age` — возраст пользователя (годы)\n",
    "\n",
    "•\t`reg_date` — дата подключения тарифа (день, месяц, год)\n",
    "\n",
    "•\t`churn_date` — дата прекращения пользования тарифом (если значение пропущено, то тариф ещё действовал на момент выгрузки данных)\n",
    "\n",
    "•\t`city` — город проживания пользователя\n",
    "\n",
    "•\t`tarif` — название тарифного плана\n",
    "\n",
    "\n",
    "##### Таблица `calls` (информация о звонках):\n",
    "\n",
    "•\t`id` — уникальный номер звонка\n",
    "\n",
    "•\t`call_date` — дата звонка\n",
    "\n",
    "•\t`duration` — длительность звонка в минутах\n",
    "\n",
    "•\t`user_id` — идентификатор пользователя, сделавшего звонок\n",
    "\n",
    "\n",
    "##### Таблица `messages` (информация о сообщениях):\n",
    "\n",
    "•\t`id` — уникальный номер сообщения\n",
    "\n",
    "•\t`message_date` — дата сообщения\n",
    "\n",
    "•\t`user_id` — идентификатор пользователя, отправившего сообщение\n",
    "\n",
    "\n",
    "##### Таблица `internet` (информация об интернет-сессиях):\n",
    "\n",
    "•\t`id` — уникальный номер сессии\n",
    "\n",
    "•\t`mb_used` — объём потраченного за сессию интернет-трафика (в мегабайтах)\n",
    "\n",
    "•\t`session_date` — дата интернет-сессии\n",
    "\n",
    "•\t`user_id` — идентификатор пользователя\n",
    "\n",
    "\n",
    "##### Таблица `tariffs` (информация о тарифах):\n",
    "\n",
    "•\t`tariff_name` — название тарифа\n",
    "\n",
    "•\t`rub_monthly_fee` — ежемесячная абонентская плата в рублях\n",
    "\n",
    "•\t`minutes_included` — количество минут разговора в месяц, включённых в абонентскую плату\n",
    "\n",
    "•\t`messages_included` — количество сообщений в месяц, включённых в абонентскую плату\n",
    "\n",
    "•\t`mb_per_month_included` — объём интернет-трафика, включённого в абонентскую плату (в мегабайтах)\n",
    "\n",
    "•\t`rub_per_minute` — стоимость минуты разговора сверх тарифного пакета (например, если в тарифе 100 минут разговора в месяц, то со 101 минуты будет взиматься плата)\n",
    "\n",
    "•\t`rub_per_message` — стоимость отправки сообщения сверх тарифного пакета\n",
    "\n",
    "•\t`rub_per_gb` — стоимость дополнительного гигабайта интернет-трафика сверх тарифного пакета (1 гигабайт = 1024 мегабайта)\n",
    "\n",
    "______"
   ]
  },
  {
   "cell_type": "markdown",
   "metadata": {},
   "source": [
    "## Изучение данных из файла"
   ]
  },
  {
   "cell_type": "markdown",
   "metadata": {},
   "source": [
    "Импортируем библиотеку `Pandas`:"
   ]
  },
  {
   "cell_type": "code",
   "execution_count": 73,
   "metadata": {},
   "outputs": [],
   "source": [
    "import pandas as pd"
   ]
  },
  {
   "cell_type": "markdown",
   "metadata": {},
   "source": [
    "### Чтение файлов"
   ]
  },
  {
   "cell_type": "markdown",
   "metadata": {},
   "source": [
    "#### Файл `calls.csv`"
   ]
  },
  {
   "cell_type": "code",
   "execution_count": 74,
   "metadata": {},
   "outputs": [
    {
     "data": {
      "text/html": [
       "<div>\n",
       "<style scoped>\n",
       "    .dataframe tbody tr th:only-of-type {\n",
       "        vertical-align: middle;\n",
       "    }\n",
       "\n",
       "    .dataframe tbody tr th {\n",
       "        vertical-align: top;\n",
       "    }\n",
       "\n",
       "    .dataframe thead th {\n",
       "        text-align: right;\n",
       "    }\n",
       "</style>\n",
       "<table border=\"1\" class=\"dataframe\">\n",
       "  <thead>\n",
       "    <tr style=\"text-align: right;\">\n",
       "      <th></th>\n",
       "      <th>id</th>\n",
       "      <th>call_date</th>\n",
       "      <th>duration</th>\n",
       "      <th>user_id</th>\n",
       "    </tr>\n",
       "  </thead>\n",
       "  <tbody>\n",
       "    <tr>\n",
       "      <th>0</th>\n",
       "      <td>1000_0</td>\n",
       "      <td>2018-07-25</td>\n",
       "      <td>0.00</td>\n",
       "      <td>1000</td>\n",
       "    </tr>\n",
       "    <tr>\n",
       "      <th>1</th>\n",
       "      <td>1000_1</td>\n",
       "      <td>2018-08-17</td>\n",
       "      <td>0.00</td>\n",
       "      <td>1000</td>\n",
       "    </tr>\n",
       "    <tr>\n",
       "      <th>2</th>\n",
       "      <td>1000_2</td>\n",
       "      <td>2018-06-11</td>\n",
       "      <td>2.85</td>\n",
       "      <td>1000</td>\n",
       "    </tr>\n",
       "    <tr>\n",
       "      <th>3</th>\n",
       "      <td>1000_3</td>\n",
       "      <td>2018-09-21</td>\n",
       "      <td>13.80</td>\n",
       "      <td>1000</td>\n",
       "    </tr>\n",
       "    <tr>\n",
       "      <th>4</th>\n",
       "      <td>1000_4</td>\n",
       "      <td>2018-12-15</td>\n",
       "      <td>5.18</td>\n",
       "      <td>1000</td>\n",
       "    </tr>\n",
       "    <tr>\n",
       "      <th>...</th>\n",
       "      <td>...</td>\n",
       "      <td>...</td>\n",
       "      <td>...</td>\n",
       "      <td>...</td>\n",
       "    </tr>\n",
       "    <tr>\n",
       "      <th>202602</th>\n",
       "      <td>1499_215</td>\n",
       "      <td>2018-12-26</td>\n",
       "      <td>0.76</td>\n",
       "      <td>1499</td>\n",
       "    </tr>\n",
       "    <tr>\n",
       "      <th>202603</th>\n",
       "      <td>1499_216</td>\n",
       "      <td>2018-10-18</td>\n",
       "      <td>18.83</td>\n",
       "      <td>1499</td>\n",
       "    </tr>\n",
       "    <tr>\n",
       "      <th>202604</th>\n",
       "      <td>1499_217</td>\n",
       "      <td>2018-11-10</td>\n",
       "      <td>10.81</td>\n",
       "      <td>1499</td>\n",
       "    </tr>\n",
       "    <tr>\n",
       "      <th>202605</th>\n",
       "      <td>1499_218</td>\n",
       "      <td>2018-10-06</td>\n",
       "      <td>4.27</td>\n",
       "      <td>1499</td>\n",
       "    </tr>\n",
       "    <tr>\n",
       "      <th>202606</th>\n",
       "      <td>1499_219</td>\n",
       "      <td>2018-12-14</td>\n",
       "      <td>19.62</td>\n",
       "      <td>1499</td>\n",
       "    </tr>\n",
       "  </tbody>\n",
       "</table>\n",
       "<p>202607 rows × 4 columns</p>\n",
       "</div>"
      ],
      "text/plain": [
       "              id   call_date  duration  user_id\n",
       "0         1000_0  2018-07-25      0.00     1000\n",
       "1         1000_1  2018-08-17      0.00     1000\n",
       "2         1000_2  2018-06-11      2.85     1000\n",
       "3         1000_3  2018-09-21     13.80     1000\n",
       "4         1000_4  2018-12-15      5.18     1000\n",
       "...          ...         ...       ...      ...\n",
       "202602  1499_215  2018-12-26      0.76     1499\n",
       "202603  1499_216  2018-10-18     18.83     1499\n",
       "202604  1499_217  2018-11-10     10.81     1499\n",
       "202605  1499_218  2018-10-06      4.27     1499\n",
       "202606  1499_219  2018-12-14     19.62     1499\n",
       "\n",
       "[202607 rows x 4 columns]"
      ]
     },
     "metadata": {},
     "output_type": "display_data"
    }
   ],
   "source": [
    "df_calls = pd.read_csv('/datasets/calls.csv')   # Прочитаем файл calls.csv из папки /datasets\n",
    "                                                # и сохраним его в переменной df_calls\n",
    "display(df_calls) # Выводим на экран первые десять строк таблицы"
   ]
  },
  {
   "cell_type": "code",
   "execution_count": 75,
   "metadata": {},
   "outputs": [
    {
     "name": "stdout",
     "output_type": "stream",
     "text": [
      "<class 'pandas.core.frame.DataFrame'>\n",
      "RangeIndex: 202607 entries, 0 to 202606\n",
      "Data columns (total 4 columns):\n",
      " #   Column     Non-Null Count   Dtype  \n",
      "---  ------     --------------   -----  \n",
      " 0   id         202607 non-null  object \n",
      " 1   call_date  202607 non-null  object \n",
      " 2   duration   202607 non-null  float64\n",
      " 3   user_id    202607 non-null  int64  \n",
      "dtypes: float64(1), int64(1), object(2)\n",
      "memory usage: 6.2+ MB\n"
     ]
    }
   ],
   "source": [
    "df_calls.info() # Получаем общую информацию о таблице:"
   ]
  },
  {
   "cell_type": "code",
   "execution_count": 76,
   "metadata": {},
   "outputs": [
    {
     "data": {
      "text/plain": [
       "id           0\n",
       "call_date    0\n",
       "duration     0\n",
       "user_id      0\n",
       "dtype: int64"
      ]
     },
     "execution_count": 76,
     "metadata": {},
     "output_type": "execute_result"
    }
   ],
   "source": [
    "df_calls.isna().sum() # подсчитаем количество пропущенных значений в таблице"
   ]
  },
  {
   "cell_type": "markdown",
   "metadata": {},
   "source": [
    "**Описание таблицы**\n",
    "\n",
    "В таблице 4 столбца и 202607 строк. Тип данных в столбцах — `float`, `int`, `object`. Пропущенные значения отсутствуют. Столбцы `'id'` и `'call_date'` имеют строковый тип данных (в предобработке необходимо привести их к типу `int` и `DateTime`). Столбец `'duration'` содержит нулевые значения."
   ]
  },
  {
   "cell_type": "markdown",
   "metadata": {},
   "source": [
    "#### Файл `internet.csv`"
   ]
  },
  {
   "cell_type": "code",
   "execution_count": 77,
   "metadata": {},
   "outputs": [
    {
     "data": {
      "text/html": [
       "<div>\n",
       "<style scoped>\n",
       "    .dataframe tbody tr th:only-of-type {\n",
       "        vertical-align: middle;\n",
       "    }\n",
       "\n",
       "    .dataframe tbody tr th {\n",
       "        vertical-align: top;\n",
       "    }\n",
       "\n",
       "    .dataframe thead th {\n",
       "        text-align: right;\n",
       "    }\n",
       "</style>\n",
       "<table border=\"1\" class=\"dataframe\">\n",
       "  <thead>\n",
       "    <tr style=\"text-align: right;\">\n",
       "      <th></th>\n",
       "      <th>id</th>\n",
       "      <th>mb_used</th>\n",
       "      <th>session_date</th>\n",
       "      <th>user_id</th>\n",
       "    </tr>\n",
       "  </thead>\n",
       "  <tbody>\n",
       "    <tr>\n",
       "      <th>0</th>\n",
       "      <td>1000_0</td>\n",
       "      <td>112.95</td>\n",
       "      <td>2018-11-25</td>\n",
       "      <td>1000</td>\n",
       "    </tr>\n",
       "    <tr>\n",
       "      <th>1</th>\n",
       "      <td>1000_1</td>\n",
       "      <td>1052.81</td>\n",
       "      <td>2018-09-07</td>\n",
       "      <td>1000</td>\n",
       "    </tr>\n",
       "    <tr>\n",
       "      <th>2</th>\n",
       "      <td>1000_2</td>\n",
       "      <td>1197.26</td>\n",
       "      <td>2018-06-25</td>\n",
       "      <td>1000</td>\n",
       "    </tr>\n",
       "    <tr>\n",
       "      <th>3</th>\n",
       "      <td>1000_3</td>\n",
       "      <td>550.27</td>\n",
       "      <td>2018-08-22</td>\n",
       "      <td>1000</td>\n",
       "    </tr>\n",
       "    <tr>\n",
       "      <th>4</th>\n",
       "      <td>1000_4</td>\n",
       "      <td>302.56</td>\n",
       "      <td>2018-09-24</td>\n",
       "      <td>1000</td>\n",
       "    </tr>\n",
       "    <tr>\n",
       "      <th>...</th>\n",
       "      <td>...</td>\n",
       "      <td>...</td>\n",
       "      <td>...</td>\n",
       "      <td>...</td>\n",
       "    </tr>\n",
       "    <tr>\n",
       "      <th>149391</th>\n",
       "      <td>1499_152</td>\n",
       "      <td>318.90</td>\n",
       "      <td>2018-10-03</td>\n",
       "      <td>1499</td>\n",
       "    </tr>\n",
       "    <tr>\n",
       "      <th>149392</th>\n",
       "      <td>1499_153</td>\n",
       "      <td>490.13</td>\n",
       "      <td>2018-12-14</td>\n",
       "      <td>1499</td>\n",
       "    </tr>\n",
       "    <tr>\n",
       "      <th>149393</th>\n",
       "      <td>1499_154</td>\n",
       "      <td>0.00</td>\n",
       "      <td>2018-10-27</td>\n",
       "      <td>1499</td>\n",
       "    </tr>\n",
       "    <tr>\n",
       "      <th>149394</th>\n",
       "      <td>1499_155</td>\n",
       "      <td>1246.32</td>\n",
       "      <td>2018-11-26</td>\n",
       "      <td>1499</td>\n",
       "    </tr>\n",
       "    <tr>\n",
       "      <th>149395</th>\n",
       "      <td>1499_156</td>\n",
       "      <td>544.37</td>\n",
       "      <td>2018-10-26</td>\n",
       "      <td>1499</td>\n",
       "    </tr>\n",
       "  </tbody>\n",
       "</table>\n",
       "<p>149396 rows × 4 columns</p>\n",
       "</div>"
      ],
      "text/plain": [
       "              id  mb_used session_date  user_id\n",
       "0         1000_0   112.95   2018-11-25     1000\n",
       "1         1000_1  1052.81   2018-09-07     1000\n",
       "2         1000_2  1197.26   2018-06-25     1000\n",
       "3         1000_3   550.27   2018-08-22     1000\n",
       "4         1000_4   302.56   2018-09-24     1000\n",
       "...          ...      ...          ...      ...\n",
       "149391  1499_152   318.90   2018-10-03     1499\n",
       "149392  1499_153   490.13   2018-12-14     1499\n",
       "149393  1499_154     0.00   2018-10-27     1499\n",
       "149394  1499_155  1246.32   2018-11-26     1499\n",
       "149395  1499_156   544.37   2018-10-26     1499\n",
       "\n",
       "[149396 rows x 4 columns]"
      ]
     },
     "metadata": {},
     "output_type": "display_data"
    }
   ],
   "source": [
    "df_internet = pd.read_csv('/datasets/internet.csv', index_col=0)   # Прочитаем файл internet.csv из папки /datasets\n",
    "                                                                   # и сохраним его в переменной df_internet\n",
    "display(df_internet) # Выводим на экран первые десять строк таблицы"
   ]
  },
  {
   "cell_type": "code",
   "execution_count": 78,
   "metadata": {},
   "outputs": [
    {
     "name": "stdout",
     "output_type": "stream",
     "text": [
      "<class 'pandas.core.frame.DataFrame'>\n",
      "Int64Index: 149396 entries, 0 to 149395\n",
      "Data columns (total 4 columns):\n",
      " #   Column        Non-Null Count   Dtype  \n",
      "---  ------        --------------   -----  \n",
      " 0   id            149396 non-null  object \n",
      " 1   mb_used       149396 non-null  float64\n",
      " 2   session_date  149396 non-null  object \n",
      " 3   user_id       149396 non-null  int64  \n",
      "dtypes: float64(1), int64(1), object(2)\n",
      "memory usage: 5.7+ MB\n"
     ]
    }
   ],
   "source": [
    "df_internet.info() # Получаем общую информацию о таблице"
   ]
  },
  {
   "cell_type": "code",
   "execution_count": 79,
   "metadata": {},
   "outputs": [
    {
     "data": {
      "text/plain": [
       "id              0\n",
       "mb_used         0\n",
       "session_date    0\n",
       "user_id         0\n",
       "dtype: int64"
      ]
     },
     "execution_count": 79,
     "metadata": {},
     "output_type": "execute_result"
    }
   ],
   "source": [
    "df_internet.isna().sum() # подсчитаем количество пропущенных значений в таблице"
   ]
  },
  {
   "cell_type": "markdown",
   "metadata": {},
   "source": [
    "**Описание таблицы**\n",
    "\n",
    "В таблице 4 столбца и 149396 строк. Тип данных в столбцах — `float`, `int`, `object`. Пропущенные значения отсутствуют. Столбцы `'id'` и `'session_date'` имеют строковый тип данных (в предобработке необходимо привести их к типу `int` и `DateTime`)."
   ]
  },
  {
   "cell_type": "markdown",
   "metadata": {},
   "source": [
    "#### Файл `messages.csv`"
   ]
  },
  {
   "cell_type": "code",
   "execution_count": 80,
   "metadata": {},
   "outputs": [
    {
     "data": {
      "text/html": [
       "<div>\n",
       "<style scoped>\n",
       "    .dataframe tbody tr th:only-of-type {\n",
       "        vertical-align: middle;\n",
       "    }\n",
       "\n",
       "    .dataframe tbody tr th {\n",
       "        vertical-align: top;\n",
       "    }\n",
       "\n",
       "    .dataframe thead th {\n",
       "        text-align: right;\n",
       "    }\n",
       "</style>\n",
       "<table border=\"1\" class=\"dataframe\">\n",
       "  <thead>\n",
       "    <tr style=\"text-align: right;\">\n",
       "      <th></th>\n",
       "      <th>id</th>\n",
       "      <th>message_date</th>\n",
       "      <th>user_id</th>\n",
       "    </tr>\n",
       "  </thead>\n",
       "  <tbody>\n",
       "    <tr>\n",
       "      <th>0</th>\n",
       "      <td>1000_0</td>\n",
       "      <td>2018-06-27</td>\n",
       "      <td>1000</td>\n",
       "    </tr>\n",
       "    <tr>\n",
       "      <th>1</th>\n",
       "      <td>1000_1</td>\n",
       "      <td>2018-10-08</td>\n",
       "      <td>1000</td>\n",
       "    </tr>\n",
       "    <tr>\n",
       "      <th>2</th>\n",
       "      <td>1000_2</td>\n",
       "      <td>2018-08-04</td>\n",
       "      <td>1000</td>\n",
       "    </tr>\n",
       "    <tr>\n",
       "      <th>3</th>\n",
       "      <td>1000_3</td>\n",
       "      <td>2018-06-16</td>\n",
       "      <td>1000</td>\n",
       "    </tr>\n",
       "    <tr>\n",
       "      <th>4</th>\n",
       "      <td>1000_4</td>\n",
       "      <td>2018-12-05</td>\n",
       "      <td>1000</td>\n",
       "    </tr>\n",
       "    <tr>\n",
       "      <th>...</th>\n",
       "      <td>...</td>\n",
       "      <td>...</td>\n",
       "      <td>...</td>\n",
       "    </tr>\n",
       "    <tr>\n",
       "      <th>123031</th>\n",
       "      <td>1499_179</td>\n",
       "      <td>2018-12-12</td>\n",
       "      <td>1499</td>\n",
       "    </tr>\n",
       "    <tr>\n",
       "      <th>123032</th>\n",
       "      <td>1499_180</td>\n",
       "      <td>2018-09-28</td>\n",
       "      <td>1499</td>\n",
       "    </tr>\n",
       "    <tr>\n",
       "      <th>123033</th>\n",
       "      <td>1499_181</td>\n",
       "      <td>2018-09-27</td>\n",
       "      <td>1499</td>\n",
       "    </tr>\n",
       "    <tr>\n",
       "      <th>123034</th>\n",
       "      <td>1499_182</td>\n",
       "      <td>2018-11-15</td>\n",
       "      <td>1499</td>\n",
       "    </tr>\n",
       "    <tr>\n",
       "      <th>123035</th>\n",
       "      <td>1499_183</td>\n",
       "      <td>2018-11-16</td>\n",
       "      <td>1499</td>\n",
       "    </tr>\n",
       "  </tbody>\n",
       "</table>\n",
       "<p>123036 rows × 3 columns</p>\n",
       "</div>"
      ],
      "text/plain": [
       "              id message_date  user_id\n",
       "0         1000_0   2018-06-27     1000\n",
       "1         1000_1   2018-10-08     1000\n",
       "2         1000_2   2018-08-04     1000\n",
       "3         1000_3   2018-06-16     1000\n",
       "4         1000_4   2018-12-05     1000\n",
       "...          ...          ...      ...\n",
       "123031  1499_179   2018-12-12     1499\n",
       "123032  1499_180   2018-09-28     1499\n",
       "123033  1499_181   2018-09-27     1499\n",
       "123034  1499_182   2018-11-15     1499\n",
       "123035  1499_183   2018-11-16     1499\n",
       "\n",
       "[123036 rows x 3 columns]"
      ]
     },
     "metadata": {},
     "output_type": "display_data"
    }
   ],
   "source": [
    "df_messages = pd.read_csv('/datasets/messages.csv')   # Прочитаем файл messages.csv из папки /datasets\n",
    "                                                      # и сохраним его в переменной df_messages\n",
    "display(df_messages) # Выводим на экран первые десять строк таблицы"
   ]
  },
  {
   "cell_type": "code",
   "execution_count": 81,
   "metadata": {},
   "outputs": [
    {
     "name": "stdout",
     "output_type": "stream",
     "text": [
      "<class 'pandas.core.frame.DataFrame'>\n",
      "RangeIndex: 123036 entries, 0 to 123035\n",
      "Data columns (total 3 columns):\n",
      " #   Column        Non-Null Count   Dtype \n",
      "---  ------        --------------   ----- \n",
      " 0   id            123036 non-null  object\n",
      " 1   message_date  123036 non-null  object\n",
      " 2   user_id       123036 non-null  int64 \n",
      "dtypes: int64(1), object(2)\n",
      "memory usage: 2.8+ MB\n"
     ]
    }
   ],
   "source": [
    "df_messages.info() # Получаем общую информацию о таблице"
   ]
  },
  {
   "cell_type": "code",
   "execution_count": 82,
   "metadata": {},
   "outputs": [
    {
     "data": {
      "text/plain": [
       "id              0\n",
       "message_date    0\n",
       "user_id         0\n",
       "dtype: int64"
      ]
     },
     "execution_count": 82,
     "metadata": {},
     "output_type": "execute_result"
    }
   ],
   "source": [
    "df_messages.isna().sum() # подсчитаем количество пропущенных значений в таблице"
   ]
  },
  {
   "cell_type": "markdown",
   "metadata": {},
   "source": [
    "**Описание таблицы**\n",
    "\n",
    "В таблице 3 столбца и 123036 строк. Тип данных в столбцах — `float`, `int`, `object`. Пропущенные значения отсутствуют. Столбцы `'id'` и `'message_date'` имеют строковый тип данных (в предобработке необходимо привести их к типу `int` и `DateTime`)."
   ]
  },
  {
   "cell_type": "markdown",
   "metadata": {},
   "source": [
    "#### Файл `tariffs.csv`"
   ]
  },
  {
   "cell_type": "code",
   "execution_count": 83,
   "metadata": {},
   "outputs": [
    {
     "data": {
      "text/html": [
       "<div>\n",
       "<style scoped>\n",
       "    .dataframe tbody tr th:only-of-type {\n",
       "        vertical-align: middle;\n",
       "    }\n",
       "\n",
       "    .dataframe tbody tr th {\n",
       "        vertical-align: top;\n",
       "    }\n",
       "\n",
       "    .dataframe thead th {\n",
       "        text-align: right;\n",
       "    }\n",
       "</style>\n",
       "<table border=\"1\" class=\"dataframe\">\n",
       "  <thead>\n",
       "    <tr style=\"text-align: right;\">\n",
       "      <th></th>\n",
       "      <th>messages_included</th>\n",
       "      <th>mb_per_month_included</th>\n",
       "      <th>minutes_included</th>\n",
       "      <th>rub_monthly_fee</th>\n",
       "      <th>rub_per_gb</th>\n",
       "      <th>rub_per_message</th>\n",
       "      <th>rub_per_minute</th>\n",
       "      <th>tariff_name</th>\n",
       "    </tr>\n",
       "  </thead>\n",
       "  <tbody>\n",
       "    <tr>\n",
       "      <th>0</th>\n",
       "      <td>50</td>\n",
       "      <td>15360</td>\n",
       "      <td>500</td>\n",
       "      <td>550</td>\n",
       "      <td>200</td>\n",
       "      <td>3</td>\n",
       "      <td>3</td>\n",
       "      <td>smart</td>\n",
       "    </tr>\n",
       "    <tr>\n",
       "      <th>1</th>\n",
       "      <td>1000</td>\n",
       "      <td>30720</td>\n",
       "      <td>3000</td>\n",
       "      <td>1950</td>\n",
       "      <td>150</td>\n",
       "      <td>1</td>\n",
       "      <td>1</td>\n",
       "      <td>ultra</td>\n",
       "    </tr>\n",
       "  </tbody>\n",
       "</table>\n",
       "</div>"
      ],
      "text/plain": [
       "   messages_included  mb_per_month_included  minutes_included  \\\n",
       "0                 50                  15360               500   \n",
       "1               1000                  30720              3000   \n",
       "\n",
       "   rub_monthly_fee  rub_per_gb  rub_per_message  rub_per_minute tariff_name  \n",
       "0              550         200                3               3       smart  \n",
       "1             1950         150                1               1       ultra  "
      ]
     },
     "metadata": {},
     "output_type": "display_data"
    }
   ],
   "source": [
    "df_tariffs = pd.read_csv('/datasets/tariffs.csv')   # Прочитаем файл tariffs.csv из папки /datasets\n",
    "                                                    # и сохраним его в переменной df_tariffs\n",
    "display(df_tariffs) # Выводим на экран первые десять строк таблицы"
   ]
  },
  {
   "cell_type": "code",
   "execution_count": 84,
   "metadata": {},
   "outputs": [
    {
     "name": "stdout",
     "output_type": "stream",
     "text": [
      "<class 'pandas.core.frame.DataFrame'>\n",
      "RangeIndex: 2 entries, 0 to 1\n",
      "Data columns (total 8 columns):\n",
      " #   Column                 Non-Null Count  Dtype \n",
      "---  ------                 --------------  ----- \n",
      " 0   messages_included      2 non-null      int64 \n",
      " 1   mb_per_month_included  2 non-null      int64 \n",
      " 2   minutes_included       2 non-null      int64 \n",
      " 3   rub_monthly_fee        2 non-null      int64 \n",
      " 4   rub_per_gb             2 non-null      int64 \n",
      " 5   rub_per_message        2 non-null      int64 \n",
      " 6   rub_per_minute         2 non-null      int64 \n",
      " 7   tariff_name            2 non-null      object\n",
      "dtypes: int64(7), object(1)\n",
      "memory usage: 256.0+ bytes\n"
     ]
    }
   ],
   "source": [
    "df_tariffs.info() # Получаем общую информацию о таблице"
   ]
  },
  {
   "cell_type": "code",
   "execution_count": 85,
   "metadata": {},
   "outputs": [
    {
     "data": {
      "text/plain": [
       "messages_included        0\n",
       "mb_per_month_included    0\n",
       "minutes_included         0\n",
       "rub_monthly_fee          0\n",
       "rub_per_gb               0\n",
       "rub_per_message          0\n",
       "rub_per_minute           0\n",
       "tariff_name              0\n",
       "dtype: int64"
      ]
     },
     "execution_count": 85,
     "metadata": {},
     "output_type": "execute_result"
    }
   ],
   "source": [
    "df_tariffs.isna().sum() # подсчитаем количество пропущенных значений в таблице"
   ]
  },
  {
   "cell_type": "markdown",
   "metadata": {},
   "source": [
    "**Описание таблицы**\n",
    "\n",
    "В таблице 8 столбцов и 2 строки. Тип данных в столбцах — `int`, `object`. Пропущенные значения отсутствуют."
   ]
  },
  {
   "cell_type": "markdown",
   "metadata": {},
   "source": [
    "#### Файл `users.csv`"
   ]
  },
  {
   "cell_type": "code",
   "execution_count": 86,
   "metadata": {},
   "outputs": [
    {
     "data": {
      "text/html": [
       "<div>\n",
       "<style scoped>\n",
       "    .dataframe tbody tr th:only-of-type {\n",
       "        vertical-align: middle;\n",
       "    }\n",
       "\n",
       "    .dataframe tbody tr th {\n",
       "        vertical-align: top;\n",
       "    }\n",
       "\n",
       "    .dataframe thead th {\n",
       "        text-align: right;\n",
       "    }\n",
       "</style>\n",
       "<table border=\"1\" class=\"dataframe\">\n",
       "  <thead>\n",
       "    <tr style=\"text-align: right;\">\n",
       "      <th></th>\n",
       "      <th>user_id</th>\n",
       "      <th>age</th>\n",
       "      <th>churn_date</th>\n",
       "      <th>city</th>\n",
       "      <th>first_name</th>\n",
       "      <th>last_name</th>\n",
       "      <th>reg_date</th>\n",
       "      <th>tariff</th>\n",
       "    </tr>\n",
       "  </thead>\n",
       "  <tbody>\n",
       "    <tr>\n",
       "      <th>0</th>\n",
       "      <td>1000</td>\n",
       "      <td>52</td>\n",
       "      <td>NaN</td>\n",
       "      <td>Краснодар</td>\n",
       "      <td>Рафаил</td>\n",
       "      <td>Верещагин</td>\n",
       "      <td>2018-05-25</td>\n",
       "      <td>ultra</td>\n",
       "    </tr>\n",
       "    <tr>\n",
       "      <th>1</th>\n",
       "      <td>1001</td>\n",
       "      <td>41</td>\n",
       "      <td>NaN</td>\n",
       "      <td>Москва</td>\n",
       "      <td>Иван</td>\n",
       "      <td>Ежов</td>\n",
       "      <td>2018-11-01</td>\n",
       "      <td>smart</td>\n",
       "    </tr>\n",
       "    <tr>\n",
       "      <th>2</th>\n",
       "      <td>1002</td>\n",
       "      <td>59</td>\n",
       "      <td>NaN</td>\n",
       "      <td>Стерлитамак</td>\n",
       "      <td>Евгений</td>\n",
       "      <td>Абрамович</td>\n",
       "      <td>2018-06-17</td>\n",
       "      <td>smart</td>\n",
       "    </tr>\n",
       "    <tr>\n",
       "      <th>3</th>\n",
       "      <td>1003</td>\n",
       "      <td>23</td>\n",
       "      <td>NaN</td>\n",
       "      <td>Москва</td>\n",
       "      <td>Белла</td>\n",
       "      <td>Белякова</td>\n",
       "      <td>2018-08-17</td>\n",
       "      <td>ultra</td>\n",
       "    </tr>\n",
       "    <tr>\n",
       "      <th>4</th>\n",
       "      <td>1004</td>\n",
       "      <td>68</td>\n",
       "      <td>NaN</td>\n",
       "      <td>Новокузнецк</td>\n",
       "      <td>Татьяна</td>\n",
       "      <td>Авдеенко</td>\n",
       "      <td>2018-05-14</td>\n",
       "      <td>ultra</td>\n",
       "    </tr>\n",
       "    <tr>\n",
       "      <th>...</th>\n",
       "      <td>...</td>\n",
       "      <td>...</td>\n",
       "      <td>...</td>\n",
       "      <td>...</td>\n",
       "      <td>...</td>\n",
       "      <td>...</td>\n",
       "      <td>...</td>\n",
       "      <td>...</td>\n",
       "    </tr>\n",
       "    <tr>\n",
       "      <th>495</th>\n",
       "      <td>1495</td>\n",
       "      <td>65</td>\n",
       "      <td>NaN</td>\n",
       "      <td>Иркутск</td>\n",
       "      <td>Авксентий</td>\n",
       "      <td>Фокин</td>\n",
       "      <td>2018-08-28</td>\n",
       "      <td>ultra</td>\n",
       "    </tr>\n",
       "    <tr>\n",
       "      <th>496</th>\n",
       "      <td>1496</td>\n",
       "      <td>36</td>\n",
       "      <td>NaN</td>\n",
       "      <td>Вологда</td>\n",
       "      <td>Трифон</td>\n",
       "      <td>Блохин</td>\n",
       "      <td>2018-01-27</td>\n",
       "      <td>smart</td>\n",
       "    </tr>\n",
       "    <tr>\n",
       "      <th>497</th>\n",
       "      <td>1497</td>\n",
       "      <td>32</td>\n",
       "      <td>NaN</td>\n",
       "      <td>Челябинск</td>\n",
       "      <td>Каролина</td>\n",
       "      <td>Агеева</td>\n",
       "      <td>2018-10-09</td>\n",
       "      <td>smart</td>\n",
       "    </tr>\n",
       "    <tr>\n",
       "      <th>498</th>\n",
       "      <td>1498</td>\n",
       "      <td>68</td>\n",
       "      <td>2018-10-25</td>\n",
       "      <td>Владикавказ</td>\n",
       "      <td>Всеволод</td>\n",
       "      <td>Акимчин</td>\n",
       "      <td>2018-07-19</td>\n",
       "      <td>smart</td>\n",
       "    </tr>\n",
       "    <tr>\n",
       "      <th>499</th>\n",
       "      <td>1499</td>\n",
       "      <td>35</td>\n",
       "      <td>NaN</td>\n",
       "      <td>Пермь</td>\n",
       "      <td>Гектор</td>\n",
       "      <td>Корнилов</td>\n",
       "      <td>2018-09-27</td>\n",
       "      <td>smart</td>\n",
       "    </tr>\n",
       "  </tbody>\n",
       "</table>\n",
       "<p>500 rows × 8 columns</p>\n",
       "</div>"
      ],
      "text/plain": [
       "     user_id  age  churn_date         city first_name  last_name    reg_date  \\\n",
       "0       1000   52         NaN    Краснодар     Рафаил  Верещагин  2018-05-25   \n",
       "1       1001   41         NaN       Москва       Иван       Ежов  2018-11-01   \n",
       "2       1002   59         NaN  Стерлитамак    Евгений  Абрамович  2018-06-17   \n",
       "3       1003   23         NaN       Москва      Белла   Белякова  2018-08-17   \n",
       "4       1004   68         NaN  Новокузнецк    Татьяна   Авдеенко  2018-05-14   \n",
       "..       ...  ...         ...          ...        ...        ...         ...   \n",
       "495     1495   65         NaN      Иркутск  Авксентий      Фокин  2018-08-28   \n",
       "496     1496   36         NaN      Вологда     Трифон     Блохин  2018-01-27   \n",
       "497     1497   32         NaN    Челябинск   Каролина     Агеева  2018-10-09   \n",
       "498     1498   68  2018-10-25  Владикавказ   Всеволод    Акимчин  2018-07-19   \n",
       "499     1499   35         NaN        Пермь     Гектор   Корнилов  2018-09-27   \n",
       "\n",
       "    tariff  \n",
       "0    ultra  \n",
       "1    smart  \n",
       "2    smart  \n",
       "3    ultra  \n",
       "4    ultra  \n",
       "..     ...  \n",
       "495  ultra  \n",
       "496  smart  \n",
       "497  smart  \n",
       "498  smart  \n",
       "499  smart  \n",
       "\n",
       "[500 rows x 8 columns]"
      ]
     },
     "metadata": {},
     "output_type": "display_data"
    }
   ],
   "source": [
    "df_users = pd.read_csv('/datasets/users.csv')   # Прочитаем файл users.csv из папки /datasets\n",
    "                                                # и сохраним его в переменной df_users\n",
    "display(df_users) # Выводим на экран первые десять строк таблицы"
   ]
  },
  {
   "cell_type": "code",
   "execution_count": 87,
   "metadata": {},
   "outputs": [
    {
     "name": "stdout",
     "output_type": "stream",
     "text": [
      "<class 'pandas.core.frame.DataFrame'>\n",
      "RangeIndex: 500 entries, 0 to 499\n",
      "Data columns (total 8 columns):\n",
      " #   Column      Non-Null Count  Dtype \n",
      "---  ------      --------------  ----- \n",
      " 0   user_id     500 non-null    int64 \n",
      " 1   age         500 non-null    int64 \n",
      " 2   churn_date  38 non-null     object\n",
      " 3   city        500 non-null    object\n",
      " 4   first_name  500 non-null    object\n",
      " 5   last_name   500 non-null    object\n",
      " 6   reg_date    500 non-null    object\n",
      " 7   tariff      500 non-null    object\n",
      "dtypes: int64(2), object(6)\n",
      "memory usage: 31.4+ KB\n"
     ]
    }
   ],
   "source": [
    "df_users.info() # Получаем общую информацию о таблице"
   ]
  },
  {
   "cell_type": "code",
   "execution_count": 88,
   "metadata": {},
   "outputs": [
    {
     "data": {
      "text/plain": [
       "user_id         0\n",
       "age             0\n",
       "churn_date    462\n",
       "city            0\n",
       "first_name      0\n",
       "last_name       0\n",
       "reg_date        0\n",
       "tariff          0\n",
       "dtype: int64"
      ]
     },
     "execution_count": 88,
     "metadata": {},
     "output_type": "execute_result"
    }
   ],
   "source": [
    "df_users.isna().sum() # подсчитаем количество пропущенных значений в таблице"
   ]
  },
  {
   "cell_type": "markdown",
   "metadata": {},
   "source": [
    "**Описание таблицы**\n",
    "\n",
    "В таблице 8 столбцов и 500 строк. Тип данных в столбцах — `int`, `object`. Обнаружено 462 пропущенных значения, но из описания данных нам известно, что: `'churn_date'` — дата прекращения пользования тарифом (если значение пропущено, то тариф ещё действовал на момент выгрузки данных). Столбцы `'churn_date'` и `'reg_date'` имеют строковый тип данных (в предобработке необходимо привести их к типу `DateTime`)."
   ]
  },
  {
   "cell_type": "markdown",
   "metadata": {},
   "source": [
    "## Предобработка данных"
   ]
  },
  {
   "cell_type": "markdown",
   "metadata": {},
   "source": [
    "### Обработка дубликатов"
   ]
  },
  {
   "cell_type": "markdown",
   "metadata": {},
   "source": [
    "#### Обработка неявных дубликатов"
   ]
  },
  {
   "cell_type": "markdown",
   "metadata": {},
   "source": [
    "По предварительному анализу мы заметили что в столбце `'duration'` датафрейма `'df_calls'` имеются нулевые значения.\n",
    "\n",
    "Проверим наличие неявных дубликатов в столбце `'duration'` методом `unique()` через просмотр уникальных значений, а также выведем числовые характеристики столбца:"
   ]
  },
  {
   "cell_type": "code",
   "execution_count": 89,
   "metadata": {},
   "outputs": [
    {
     "name": "stdout",
     "output_type": "stream",
     "text": [
      "[ 0.    2.85 13.8  ... 24.36 24.5  26.9 ]\n"
     ]
    }
   ],
   "source": [
    "print(df_calls['duration'].unique()) # выведем список уникальных значений"
   ]
  },
  {
   "cell_type": "code",
   "execution_count": 90,
   "metadata": {},
   "outputs": [
    {
     "name": "stdout",
     "output_type": "stream",
     "text": [
      "count    202607.000000\n",
      "mean          6.755887\n",
      "std           5.843365\n",
      "min           0.000000\n",
      "25%           1.300000\n",
      "50%           6.000000\n",
      "75%          10.700000\n",
      "max          38.000000\n",
      "Name: duration, dtype: float64\n"
     ]
    }
   ],
   "source": [
    "print(df_calls['duration'].describe())"
   ]
  },
  {
   "cell_type": "markdown",
   "metadata": {},
   "source": [
    "Как видим данные действительно содержат нулевые значения, но обратившись к описанию данных по заданию выяснилось, что звонки с нулевой продолжительностью это не ошибка, так как нулями обозначены пропущенные звонки, поэтому их не нужно удалять."
   ]
  },
  {
   "cell_type": "markdown",
   "metadata": {},
   "source": [
    "#### Обработка явных дубликатов"
   ]
  },
  {
   "cell_type": "markdown",
   "metadata": {},
   "source": [
    "Посчитаем явные дубликаты в таблицах:"
   ]
  },
  {
   "cell_type": "code",
   "execution_count": 91,
   "metadata": {},
   "outputs": [
    {
     "name": "stdout",
     "output_type": "stream",
     "text": [
      "Количество явных дубликатов в датасете 'df_calls': 0\n",
      "Количество явных дубликатов в датасете 'df_internet': 0\n",
      "Количество явных дубликатов в датасете 'df_messages': 0\n",
      "Количество явных дубликатов в датасете 'df_tariffs': 0\n",
      "Количество явных дубликатов в датасете 'df_users': 0\n"
     ]
    }
   ],
   "source": [
    "print(\"Количество явных дубликатов в датасете 'df_calls': {}\".format(df_calls.duplicated().sum()))\n",
    "print(\"Количество явных дубликатов в датасете 'df_internet': {}\".format(df_internet.duplicated().sum()))\n",
    "print(\"Количество явных дубликатов в датасете 'df_messages': {}\".format(df_messages.duplicated().sum()))\n",
    "print(\"Количество явных дубликатов в датасете 'df_tariffs': {}\".format(df_tariffs.duplicated().sum()))\n",
    "print(\"Количество явных дубликатов в датасете 'df_users': {}\".format(df_users.duplicated().sum()))"
   ]
  },
  {
   "cell_type": "markdown",
   "metadata": {},
   "source": [
    "Явные дубликаты в таблицах отсутствуют."
   ]
  },
  {
   "cell_type": "markdown",
   "metadata": {},
   "source": [
    "### Обработка типов значений"
   ]
  },
  {
   "cell_type": "markdown",
   "metadata": {},
   "source": [
    "#### Приведение данных к целочисленному типу"
   ]
  },
  {
   "cell_type": "markdown",
   "metadata": {},
   "source": [
    "По предварительному анализу мы заметили что данные в столбцах `'id'` датафреймов `'df_calls'`, `'df_internet'` и `'df_messages'`  имеют строковый тип данных, поэтому приведем их к типу `int`."
   ]
  },
  {
   "cell_type": "code",
   "execution_count": 92,
   "metadata": {},
   "outputs": [],
   "source": [
    "df_calls['id'] = df_calls['id'].astype('int')\n",
    "df_internet['id'] = df_internet['id'].astype('int')\n",
    "df_messages['id'] = df_messages['id'].astype('int')"
   ]
  },
  {
   "cell_type": "code",
   "execution_count": 93,
   "metadata": {},
   "outputs": [
    {
     "name": "stdout",
     "output_type": "stream",
     "text": [
      "Новый тип данных в столбце 'id' в датасете 'df_calls': int64\n",
      "Новый тип данных в столбце 'id' в датасете 'df_internet': int64\n",
      "Новый тип данных в столбце 'id' в датасете 'df_messages': int64\n"
     ]
    }
   ],
   "source": [
    "print(\"Новый тип данных в столбце 'id' в датасете 'df_calls': {}\".format(df_calls['id'].dtypes))\n",
    "print(\"Новый тип данных в столбце 'id' в датасете 'df_internet': {}\".format(df_internet['id'].dtypes))\n",
    "print(\"Новый тип данных в столбце 'id' в датасете 'df_messages': {}\".format(df_messages['id'].dtypes))"
   ]
  },
  {
   "cell_type": "markdown",
   "metadata": {},
   "source": [
    "Изменение типа данных прошло удачно!"
   ]
  },
  {
   "cell_type": "markdown",
   "metadata": {},
   "source": [
    "#### Приведение данных к формату DateTime"
   ]
  },
  {
   "cell_type": "markdown",
   "metadata": {},
   "source": [
    "По предварительному анализу мы заметили что данные в столбцах `'call_date'`, `'session_date'`, `'message_date'`, `'churn_date'` и `'reg_date'` датафреймов `'df_calls'`, `'df_internet'`, `'df_messages'` и `'df_users'`  имеют строковый тип данных, поэтому приведем их к типу `DateTime`."
   ]
  },
  {
   "cell_type": "code",
   "execution_count": 94,
   "metadata": {},
   "outputs": [
    {
     "name": "stdout",
     "output_type": "stream",
     "text": [
      "Новый тип данных в столбце 'call_date' в датасете 'df_calls': datetime64[ns]\n",
      "Новый тип данных в столбце 'session_date' в датасете 'df_internet': datetime64[ns]\n",
      "Новый тип данных в столбце 'message_date' в датасете 'df_messages': datetime64[ns]\n",
      "Новый тип данных в столбце 'churn_date' в датасете 'df_users': datetime64[ns]\n",
      "Новый тип данных в столбце 'reg_date' в датасете 'df_users': datetime64[ns]\n"
     ]
    }
   ],
   "source": [
    "df_calls['call_date'] = pd.to_datetime(df_calls['call_date'], format=\"%Y-%m-%d\")\n",
    "print(\"Новый тип данных в столбце 'call_date' в датасете 'df_calls': {}\".format(df_calls['call_date'].dtypes))\n",
    "\n",
    "df_internet['session_date'] = pd.to_datetime(df_internet['session_date'], format=\"%Y-%m-%d\")\n",
    "print(\"Новый тип данных в столбце 'session_date' в датасете 'df_internet': {}\".format(df_internet['session_date'].dtypes))\n",
    "\n",
    "df_messages['message_date'] = pd.to_datetime(df_messages['message_date'], format=\"%Y-%m-%d\")\n",
    "print(\"Новый тип данных в столбце 'message_date' в датасете 'df_messages': {}\".format(df_messages['message_date'].dtypes))\n",
    "\n",
    "df_users['churn_date'] = pd.to_datetime(df_users['churn_date'], format=\"%Y-%m-%d\")\n",
    "print(\"Новый тип данных в столбце 'churn_date' в датасете 'df_users': {}\".format(df_users['churn_date'].dtypes))\n",
    "\n",
    "df_users['reg_date'] = pd.to_datetime(df_users['reg_date'], format=\"%Y-%m-%d\")\n",
    "print(\"Новый тип данных в столбце 'reg_date' в датасете 'df_users': {}\".format(df_users['reg_date'].dtypes))"
   ]
  },
  {
   "cell_type": "markdown",
   "metadata": {},
   "source": [
    "Изменение типа данных завершилось удачно!"
   ]
  },
  {
   "cell_type": "markdown",
   "metadata": {},
   "source": [
    "## Подготовка данных"
   ]
  },
  {
   "cell_type": "markdown",
   "metadata": {},
   "source": [
    "### Расчеты значений для каждого пользователя"
   ]
  },
  {
   "cell_type": "markdown",
   "metadata": {},
   "source": [
    "#### Количество сделанных звонков и израсходованных минут разговора по месяцам"
   ]
  },
  {
   "cell_type": "markdown",
   "metadata": {},
   "source": [
    "Для подсчета количества сделанных звонков и израсходованных минут разговора по месяцам нам необходимо в датасете `'df_calls'` добавить столбец `'month'` и заполнить его номерами месяцев."
   ]
  },
  {
   "cell_type": "code",
   "execution_count": 95,
   "metadata": {},
   "outputs": [
    {
     "name": "stdout",
     "output_type": "stream",
     "text": [
      "[ 7  8  6  9 12 11 10  5  3  4  1  2]\n"
     ]
    }
   ],
   "source": [
    "df_calls['month'] = pd.DatetimeIndex(df_calls['call_date']).month # создаем новый столбец и заполняем его номером месяца\n",
    "print(df_calls['month'].unique()) # для проверки выводим список уникальных значений нового столбца"
   ]
  },
  {
   "cell_type": "code",
   "execution_count": 96,
   "metadata": {},
   "outputs": [
    {
     "data": {
      "text/html": [
       "<div>\n",
       "<style scoped>\n",
       "    .dataframe tbody tr th:only-of-type {\n",
       "        vertical-align: middle;\n",
       "    }\n",
       "\n",
       "    .dataframe tbody tr th {\n",
       "        vertical-align: top;\n",
       "    }\n",
       "\n",
       "    .dataframe thead th {\n",
       "        text-align: right;\n",
       "    }\n",
       "</style>\n",
       "<table border=\"1\" class=\"dataframe\">\n",
       "  <thead>\n",
       "    <tr style=\"text-align: right;\">\n",
       "      <th></th>\n",
       "      <th>id</th>\n",
       "      <th>call_date</th>\n",
       "      <th>duration</th>\n",
       "      <th>user_id</th>\n",
       "      <th>month</th>\n",
       "    </tr>\n",
       "  </thead>\n",
       "  <tbody>\n",
       "    <tr>\n",
       "      <th>0</th>\n",
       "      <td>10000</td>\n",
       "      <td>2018-07-25</td>\n",
       "      <td>0.00</td>\n",
       "      <td>1000</td>\n",
       "      <td>7</td>\n",
       "    </tr>\n",
       "    <tr>\n",
       "      <th>1</th>\n",
       "      <td>10001</td>\n",
       "      <td>2018-08-17</td>\n",
       "      <td>0.00</td>\n",
       "      <td>1000</td>\n",
       "      <td>8</td>\n",
       "    </tr>\n",
       "    <tr>\n",
       "      <th>2</th>\n",
       "      <td>10002</td>\n",
       "      <td>2018-06-11</td>\n",
       "      <td>2.85</td>\n",
       "      <td>1000</td>\n",
       "      <td>6</td>\n",
       "    </tr>\n",
       "    <tr>\n",
       "      <th>3</th>\n",
       "      <td>10003</td>\n",
       "      <td>2018-09-21</td>\n",
       "      <td>13.80</td>\n",
       "      <td>1000</td>\n",
       "      <td>9</td>\n",
       "    </tr>\n",
       "    <tr>\n",
       "      <th>4</th>\n",
       "      <td>10004</td>\n",
       "      <td>2018-12-15</td>\n",
       "      <td>5.18</td>\n",
       "      <td>1000</td>\n",
       "      <td>12</td>\n",
       "    </tr>\n",
       "  </tbody>\n",
       "</table>\n",
       "</div>"
      ],
      "text/plain": [
       "      id  call_date  duration  user_id  month\n",
       "0  10000 2018-07-25      0.00     1000      7\n",
       "1  10001 2018-08-17      0.00     1000      8\n",
       "2  10002 2018-06-11      2.85     1000      6\n",
       "3  10003 2018-09-21     13.80     1000      9\n",
       "4  10004 2018-12-15      5.18     1000     12"
      ]
     },
     "metadata": {},
     "output_type": "display_data"
    }
   ],
   "source": [
    "display(df_calls.head()) # выведем первые пять строк таблицы для удобства"
   ]
  },
  {
   "cell_type": "markdown",
   "metadata": {},
   "source": [
    "Так как в примечании к заданию у нас указано то, что `«Мегалайн»` всегда округляет секунды до минут (каждый звонок округляется отдельно: даже если он длился всего 1 секунду, будет засчитан как 1 минута) перед группировкой необходимо округлить значения столбца `'duration'` до целых минут. Для этого нам потребуется библиотека `Math`, импортируем ее:"
   ]
  },
  {
   "cell_type": "code",
   "execution_count": 97,
   "metadata": {},
   "outputs": [],
   "source": [
    "import math # импортируем библиотеку Math для округления значений"
   ]
  },
  {
   "cell_type": "code",
   "execution_count": 98,
   "metadata": {},
   "outputs": [],
   "source": [
    "# округляем значения столбца 'duration' до целого вверх\n",
    "df_calls['duration'] = df_calls[df_calls['duration'] != 0].apply(lambda x: math.ceil(x['duration']), axis=1)\n",
    "\n",
    "# после округления у нас вместо нулей появились в столбце пропуски (nan), поэтому заменим их на \"0\"\n",
    "df_calls['duration'] = df_calls['duration'].fillna(0)\n",
    "\n",
    "# также изменим вещественный тип данных на целочисленный\n",
    "df_calls['duration'] = df_calls['duration'].astype('int')"
   ]
  },
  {
   "cell_type": "code",
   "execution_count": 99,
   "metadata": {
    "scrolled": true
   },
   "outputs": [
    {
     "name": "stdout",
     "output_type": "stream",
     "text": [
      "[ 0  3 14  6 19  8 10  5 13 16  9  2 15 11 24 12 23  7 20  1  4 17 21 18\n",
      " 25 22 27 26 29 28 30 37 31 33 34 32 36 35 38]\n"
     ]
    }
   ],
   "source": [
    "# для проверки выводим список уникальных значений столбца\n",
    "print(df_calls['duration'].unique())"
   ]
  },
  {
   "cell_type": "markdown",
   "metadata": {},
   "source": [
    "Создадим сводную таблицу с расчетами значений количества сделанных звонков и израсходованных минут разговора по месяцам:"
   ]
  },
  {
   "cell_type": "code",
   "execution_count": 100,
   "metadata": {},
   "outputs": [
    {
     "data": {
      "text/html": [
       "<div>\n",
       "<style scoped>\n",
       "    .dataframe tbody tr th:only-of-type {\n",
       "        vertical-align: middle;\n",
       "    }\n",
       "\n",
       "    .dataframe tbody tr th {\n",
       "        vertical-align: top;\n",
       "    }\n",
       "\n",
       "    .dataframe thead th {\n",
       "        text-align: right;\n",
       "    }\n",
       "</style>\n",
       "<table border=\"1\" class=\"dataframe\">\n",
       "  <thead>\n",
       "    <tr style=\"text-align: right;\">\n",
       "      <th></th>\n",
       "      <th>user_id</th>\n",
       "      <th>month</th>\n",
       "      <th>minutes_per_month</th>\n",
       "      <th>calls_per_month</th>\n",
       "    </tr>\n",
       "  </thead>\n",
       "  <tbody>\n",
       "    <tr>\n",
       "      <th>0</th>\n",
       "      <td>1000</td>\n",
       "      <td>5</td>\n",
       "      <td>159</td>\n",
       "      <td>22</td>\n",
       "    </tr>\n",
       "    <tr>\n",
       "      <th>1</th>\n",
       "      <td>1000</td>\n",
       "      <td>6</td>\n",
       "      <td>172</td>\n",
       "      <td>43</td>\n",
       "    </tr>\n",
       "    <tr>\n",
       "      <th>2</th>\n",
       "      <td>1000</td>\n",
       "      <td>7</td>\n",
       "      <td>340</td>\n",
       "      <td>47</td>\n",
       "    </tr>\n",
       "    <tr>\n",
       "      <th>3</th>\n",
       "      <td>1000</td>\n",
       "      <td>8</td>\n",
       "      <td>408</td>\n",
       "      <td>52</td>\n",
       "    </tr>\n",
       "    <tr>\n",
       "      <th>4</th>\n",
       "      <td>1000</td>\n",
       "      <td>9</td>\n",
       "      <td>466</td>\n",
       "      <td>58</td>\n",
       "    </tr>\n",
       "  </tbody>\n",
       "</table>\n",
       "</div>"
      ],
      "text/plain": [
       "   user_id  month  minutes_per_month  calls_per_month\n",
       "0     1000      5                159               22\n",
       "1     1000      6                172               43\n",
       "2     1000      7                340               47\n",
       "3     1000      8                408               52\n",
       "4     1000      9                466               58"
      ]
     },
     "metadata": {},
     "output_type": "display_data"
    }
   ],
   "source": [
    "number_calls = (df_calls.groupby(['user_id', 'month']) # делаем срез данных по нужным для расчета столбцам \n",
    "                  .agg({'duration':'sum', 'id':'count'}) # применяем к столбцам функции подсчета требуемых значений \n",
    "                  .reset_index() # обновляем индексацию\n",
    "                  .rename(columns={'duration':'minutes_per_month','id':'calls_per_month'})) # переименовываем столбцы\n",
    "\n",
    "display(number_calls.head()) # выводим на экран первые 5 строк сводной таблицы с расчитанными данными"
   ]
  },
  {
   "cell_type": "markdown",
   "metadata": {},
   "source": [
    "Сводная таблица с расчетами значений количества сделанных звонков и израсходованных минут разговора по месяцам готова!"
   ]
  },
  {
   "cell_type": "markdown",
   "metadata": {},
   "source": [
    "#### Количество отправленных сообщений по месяцам"
   ]
  },
  {
   "cell_type": "markdown",
   "metadata": {},
   "source": [
    "Для подсчета количества отправленных сообщений по месяцам нам необходимо в датасете `'df_messages'` добавить столбец `'month'` и заполнить его номерами месяцев."
   ]
  },
  {
   "cell_type": "code",
   "execution_count": 101,
   "metadata": {},
   "outputs": [
    {
     "name": "stdout",
     "output_type": "stream",
     "text": [
      "[ 6 10  8 12 11  5  7  9  3  4  2  1]\n"
     ]
    }
   ],
   "source": [
    "df_messages['month'] = pd.DatetimeIndex(df_messages['message_date']).month # создаем новый столбец и  \n",
    "                                                                           # заполняем его номером месяца\n",
    "print(df_messages['month'].unique()) # для проверки выводим список уникальных значений нового столбца"
   ]
  },
  {
   "cell_type": "code",
   "execution_count": 102,
   "metadata": {},
   "outputs": [
    {
     "data": {
      "text/html": [
       "<div>\n",
       "<style scoped>\n",
       "    .dataframe tbody tr th:only-of-type {\n",
       "        vertical-align: middle;\n",
       "    }\n",
       "\n",
       "    .dataframe tbody tr th {\n",
       "        vertical-align: top;\n",
       "    }\n",
       "\n",
       "    .dataframe thead th {\n",
       "        text-align: right;\n",
       "    }\n",
       "</style>\n",
       "<table border=\"1\" class=\"dataframe\">\n",
       "  <thead>\n",
       "    <tr style=\"text-align: right;\">\n",
       "      <th></th>\n",
       "      <th>id</th>\n",
       "      <th>message_date</th>\n",
       "      <th>user_id</th>\n",
       "      <th>month</th>\n",
       "    </tr>\n",
       "  </thead>\n",
       "  <tbody>\n",
       "    <tr>\n",
       "      <th>0</th>\n",
       "      <td>10000</td>\n",
       "      <td>2018-06-27</td>\n",
       "      <td>1000</td>\n",
       "      <td>6</td>\n",
       "    </tr>\n",
       "    <tr>\n",
       "      <th>1</th>\n",
       "      <td>10001</td>\n",
       "      <td>2018-10-08</td>\n",
       "      <td>1000</td>\n",
       "      <td>10</td>\n",
       "    </tr>\n",
       "    <tr>\n",
       "      <th>2</th>\n",
       "      <td>10002</td>\n",
       "      <td>2018-08-04</td>\n",
       "      <td>1000</td>\n",
       "      <td>8</td>\n",
       "    </tr>\n",
       "    <tr>\n",
       "      <th>3</th>\n",
       "      <td>10003</td>\n",
       "      <td>2018-06-16</td>\n",
       "      <td>1000</td>\n",
       "      <td>6</td>\n",
       "    </tr>\n",
       "    <tr>\n",
       "      <th>4</th>\n",
       "      <td>10004</td>\n",
       "      <td>2018-12-05</td>\n",
       "      <td>1000</td>\n",
       "      <td>12</td>\n",
       "    </tr>\n",
       "  </tbody>\n",
       "</table>\n",
       "</div>"
      ],
      "text/plain": [
       "      id message_date  user_id  month\n",
       "0  10000   2018-06-27     1000      6\n",
       "1  10001   2018-10-08     1000     10\n",
       "2  10002   2018-08-04     1000      8\n",
       "3  10003   2018-06-16     1000      6\n",
       "4  10004   2018-12-05     1000     12"
      ]
     },
     "metadata": {},
     "output_type": "display_data"
    }
   ],
   "source": [
    "display(df_messages.head()) # выведем первые пять строк таблицы для удобства"
   ]
  },
  {
   "cell_type": "markdown",
   "metadata": {},
   "source": [
    "Создадим сводную таблицу с расчетами значений количества отправленных сообщений по месяцам:"
   ]
  },
  {
   "cell_type": "code",
   "execution_count": 103,
   "metadata": {},
   "outputs": [
    {
     "data": {
      "text/html": [
       "<div>\n",
       "<style scoped>\n",
       "    .dataframe tbody tr th:only-of-type {\n",
       "        vertical-align: middle;\n",
       "    }\n",
       "\n",
       "    .dataframe tbody tr th {\n",
       "        vertical-align: top;\n",
       "    }\n",
       "\n",
       "    .dataframe thead th {\n",
       "        text-align: right;\n",
       "    }\n",
       "</style>\n",
       "<table border=\"1\" class=\"dataframe\">\n",
       "  <thead>\n",
       "    <tr style=\"text-align: right;\">\n",
       "      <th></th>\n",
       "      <th>user_id</th>\n",
       "      <th>month</th>\n",
       "      <th>messages_per_month</th>\n",
       "    </tr>\n",
       "  </thead>\n",
       "  <tbody>\n",
       "    <tr>\n",
       "      <th>0</th>\n",
       "      <td>1000</td>\n",
       "      <td>5</td>\n",
       "      <td>22</td>\n",
       "    </tr>\n",
       "    <tr>\n",
       "      <th>1</th>\n",
       "      <td>1000</td>\n",
       "      <td>6</td>\n",
       "      <td>60</td>\n",
       "    </tr>\n",
       "    <tr>\n",
       "      <th>2</th>\n",
       "      <td>1000</td>\n",
       "      <td>7</td>\n",
       "      <td>75</td>\n",
       "    </tr>\n",
       "    <tr>\n",
       "      <th>3</th>\n",
       "      <td>1000</td>\n",
       "      <td>8</td>\n",
       "      <td>81</td>\n",
       "    </tr>\n",
       "    <tr>\n",
       "      <th>4</th>\n",
       "      <td>1000</td>\n",
       "      <td>9</td>\n",
       "      <td>57</td>\n",
       "    </tr>\n",
       "  </tbody>\n",
       "</table>\n",
       "</div>"
      ],
      "text/plain": [
       "   user_id  month  messages_per_month\n",
       "0     1000      5                  22\n",
       "1     1000      6                  60\n",
       "2     1000      7                  75\n",
       "3     1000      8                  81\n",
       "4     1000      9                  57"
      ]
     },
     "metadata": {},
     "output_type": "display_data"
    }
   ],
   "source": [
    "number_messages = (df_messages.groupby(['user_id', 'month']) # делаем срез данных по нужным для расчета столбцам \n",
    "                        .agg({'id':'count'}) # применяем к столбцам функции подсчета требуемых значений\n",
    "                        .reset_index() # обновляем индексацию\n",
    "                        .rename(columns={'id':'messages_per_month'})) # переименовываем столбцы\n",
    "\n",
    "display(number_messages.head()) # выводим на экран первые 5 строк сводной таблицы с расчитанными данными"
   ]
  },
  {
   "cell_type": "markdown",
   "metadata": {},
   "source": [
    "Сводная таблица с расчетами значений количества отправленных сообщений по месяцам готова!"
   ]
  },
  {
   "cell_type": "markdown",
   "metadata": {},
   "source": [
    "#### Объем израсходованного интернет-трафика по месяцам"
   ]
  },
  {
   "cell_type": "markdown",
   "metadata": {},
   "source": [
    "Для подсчета объема израсходованного интернет-трафика по месяцам нам необходимо в датасете `'df_internet'` добавить столбец `'month'` и заполнить его номерами месяцев."
   ]
  },
  {
   "cell_type": "code",
   "execution_count": 104,
   "metadata": {},
   "outputs": [
    {
     "name": "stdout",
     "output_type": "stream",
     "text": [
      "[11  9  6  8 10  7 12  5  2  3  4  1]\n"
     ]
    }
   ],
   "source": [
    "df_internet['month'] = pd.DatetimeIndex(df_internet['session_date']).month # создаем новый столбец и  \n",
    "                                                                           # заполняем его номером месяца\n",
    "print(df_internet['month'].unique()) # для проверки выводим список уникальных значений нового столбца"
   ]
  },
  {
   "cell_type": "code",
   "execution_count": 105,
   "metadata": {},
   "outputs": [
    {
     "data": {
      "text/html": [
       "<div>\n",
       "<style scoped>\n",
       "    .dataframe tbody tr th:only-of-type {\n",
       "        vertical-align: middle;\n",
       "    }\n",
       "\n",
       "    .dataframe tbody tr th {\n",
       "        vertical-align: top;\n",
       "    }\n",
       "\n",
       "    .dataframe thead th {\n",
       "        text-align: right;\n",
       "    }\n",
       "</style>\n",
       "<table border=\"1\" class=\"dataframe\">\n",
       "  <thead>\n",
       "    <tr style=\"text-align: right;\">\n",
       "      <th></th>\n",
       "      <th>id</th>\n",
       "      <th>mb_used</th>\n",
       "      <th>session_date</th>\n",
       "      <th>user_id</th>\n",
       "      <th>month</th>\n",
       "    </tr>\n",
       "  </thead>\n",
       "  <tbody>\n",
       "    <tr>\n",
       "      <th>0</th>\n",
       "      <td>10000</td>\n",
       "      <td>112.95</td>\n",
       "      <td>2018-11-25</td>\n",
       "      <td>1000</td>\n",
       "      <td>11</td>\n",
       "    </tr>\n",
       "    <tr>\n",
       "      <th>1</th>\n",
       "      <td>10001</td>\n",
       "      <td>1052.81</td>\n",
       "      <td>2018-09-07</td>\n",
       "      <td>1000</td>\n",
       "      <td>9</td>\n",
       "    </tr>\n",
       "    <tr>\n",
       "      <th>2</th>\n",
       "      <td>10002</td>\n",
       "      <td>1197.26</td>\n",
       "      <td>2018-06-25</td>\n",
       "      <td>1000</td>\n",
       "      <td>6</td>\n",
       "    </tr>\n",
       "    <tr>\n",
       "      <th>3</th>\n",
       "      <td>10003</td>\n",
       "      <td>550.27</td>\n",
       "      <td>2018-08-22</td>\n",
       "      <td>1000</td>\n",
       "      <td>8</td>\n",
       "    </tr>\n",
       "    <tr>\n",
       "      <th>4</th>\n",
       "      <td>10004</td>\n",
       "      <td>302.56</td>\n",
       "      <td>2018-09-24</td>\n",
       "      <td>1000</td>\n",
       "      <td>9</td>\n",
       "    </tr>\n",
       "  </tbody>\n",
       "</table>\n",
       "</div>"
      ],
      "text/plain": [
       "      id  mb_used session_date  user_id  month\n",
       "0  10000   112.95   2018-11-25     1000     11\n",
       "1  10001  1052.81   2018-09-07     1000      9\n",
       "2  10002  1197.26   2018-06-25     1000      6\n",
       "3  10003   550.27   2018-08-22     1000      8\n",
       "4  10004   302.56   2018-09-24     1000      9"
      ]
     },
     "metadata": {},
     "output_type": "display_data"
    }
   ],
   "source": [
    "display(df_internet.head()) # выведем первые пять строк таблицы для удобства"
   ]
  },
  {
   "cell_type": "markdown",
   "metadata": {},
   "source": [
    "Так как в примечании к заданию у нас указано то, что для веб-трафика отдельные сессии не считаются. Вместо этого общая сумма за месяц округляется в бо́льшую сторону. Если абонент использует 1025 мегабайт в этом месяце, с него возьмут плату за 2 гигабайта. Следовательно переведем мегабайты в гигабайты, сгруппируем данные по месяцам, посчитаем общий трафик в месяц и округлим вверх до целых гигабайтов:"
   ]
  },
  {
   "cell_type": "code",
   "execution_count": 106,
   "metadata": {},
   "outputs": [
    {
     "data": {
      "text/html": [
       "<div>\n",
       "<style scoped>\n",
       "    .dataframe tbody tr th:only-of-type {\n",
       "        vertical-align: middle;\n",
       "    }\n",
       "\n",
       "    .dataframe tbody tr th {\n",
       "        vertical-align: top;\n",
       "    }\n",
       "\n",
       "    .dataframe thead th {\n",
       "        text-align: right;\n",
       "    }\n",
       "</style>\n",
       "<table border=\"1\" class=\"dataframe\">\n",
       "  <thead>\n",
       "    <tr style=\"text-align: right;\">\n",
       "      <th></th>\n",
       "      <th>id</th>\n",
       "      <th>mb_used</th>\n",
       "      <th>session_date</th>\n",
       "      <th>user_id</th>\n",
       "      <th>month</th>\n",
       "      <th>gb_used</th>\n",
       "    </tr>\n",
       "  </thead>\n",
       "  <tbody>\n",
       "    <tr>\n",
       "      <th>0</th>\n",
       "      <td>10000</td>\n",
       "      <td>112.95</td>\n",
       "      <td>2018-11-25</td>\n",
       "      <td>1000</td>\n",
       "      <td>11</td>\n",
       "      <td>0.110303</td>\n",
       "    </tr>\n",
       "    <tr>\n",
       "      <th>1</th>\n",
       "      <td>10001</td>\n",
       "      <td>1052.81</td>\n",
       "      <td>2018-09-07</td>\n",
       "      <td>1000</td>\n",
       "      <td>9</td>\n",
       "      <td>1.028135</td>\n",
       "    </tr>\n",
       "    <tr>\n",
       "      <th>2</th>\n",
       "      <td>10002</td>\n",
       "      <td>1197.26</td>\n",
       "      <td>2018-06-25</td>\n",
       "      <td>1000</td>\n",
       "      <td>6</td>\n",
       "      <td>1.169199</td>\n",
       "    </tr>\n",
       "    <tr>\n",
       "      <th>3</th>\n",
       "      <td>10003</td>\n",
       "      <td>550.27</td>\n",
       "      <td>2018-08-22</td>\n",
       "      <td>1000</td>\n",
       "      <td>8</td>\n",
       "      <td>0.537373</td>\n",
       "    </tr>\n",
       "    <tr>\n",
       "      <th>4</th>\n",
       "      <td>10004</td>\n",
       "      <td>302.56</td>\n",
       "      <td>2018-09-24</td>\n",
       "      <td>1000</td>\n",
       "      <td>9</td>\n",
       "      <td>0.295469</td>\n",
       "    </tr>\n",
       "  </tbody>\n",
       "</table>\n",
       "</div>"
      ],
      "text/plain": [
       "      id  mb_used session_date  user_id  month   gb_used\n",
       "0  10000   112.95   2018-11-25     1000     11  0.110303\n",
       "1  10001  1052.81   2018-09-07     1000      9  1.028135\n",
       "2  10002  1197.26   2018-06-25     1000      6  1.169199\n",
       "3  10003   550.27   2018-08-22     1000      8  0.537373\n",
       "4  10004   302.56   2018-09-24     1000      9  0.295469"
      ]
     },
     "metadata": {},
     "output_type": "display_data"
    }
   ],
   "source": [
    "# переведем мегабайты в гигабайты и запишем их в новый столбец 'gb_used'\n",
    "df_internet['gb_used'] = df_internet['mb_used'] / 1024\n",
    "\n",
    "# выведем первые пять строк на экран\n",
    "display(df_internet.head())"
   ]
  },
  {
   "cell_type": "markdown",
   "metadata": {},
   "source": [
    "Создадим сводную таблицу с расчетами значений объема израсходованного интернет-трафика по месяцам:"
   ]
  },
  {
   "cell_type": "code",
   "execution_count": 107,
   "metadata": {
    "scrolled": true
   },
   "outputs": [
    {
     "data": {
      "text/html": [
       "<div>\n",
       "<style scoped>\n",
       "    .dataframe tbody tr th:only-of-type {\n",
       "        vertical-align: middle;\n",
       "    }\n",
       "\n",
       "    .dataframe tbody tr th {\n",
       "        vertical-align: top;\n",
       "    }\n",
       "\n",
       "    .dataframe thead th {\n",
       "        text-align: right;\n",
       "    }\n",
       "</style>\n",
       "<table border=\"1\" class=\"dataframe\">\n",
       "  <thead>\n",
       "    <tr style=\"text-align: right;\">\n",
       "      <th></th>\n",
       "      <th>user_id</th>\n",
       "      <th>month</th>\n",
       "      <th>internet_traffic_volume</th>\n",
       "    </tr>\n",
       "  </thead>\n",
       "  <tbody>\n",
       "    <tr>\n",
       "      <th>0</th>\n",
       "      <td>1000</td>\n",
       "      <td>5</td>\n",
       "      <td>2.200674</td>\n",
       "    </tr>\n",
       "    <tr>\n",
       "      <th>1</th>\n",
       "      <td>1000</td>\n",
       "      <td>6</td>\n",
       "      <td>22.689229</td>\n",
       "    </tr>\n",
       "    <tr>\n",
       "      <th>2</th>\n",
       "      <td>1000</td>\n",
       "      <td>7</td>\n",
       "      <td>13.675430</td>\n",
       "    </tr>\n",
       "    <tr>\n",
       "      <th>3</th>\n",
       "      <td>1000</td>\n",
       "      <td>8</td>\n",
       "      <td>13.726494</td>\n",
       "    </tr>\n",
       "    <tr>\n",
       "      <th>4</th>\n",
       "      <td>1000</td>\n",
       "      <td>9</td>\n",
       "      <td>14.227451</td>\n",
       "    </tr>\n",
       "  </tbody>\n",
       "</table>\n",
       "</div>"
      ],
      "text/plain": [
       "   user_id  month  internet_traffic_volume\n",
       "0     1000      5                 2.200674\n",
       "1     1000      6                22.689229\n",
       "2     1000      7                13.675430\n",
       "3     1000      8                13.726494\n",
       "4     1000      9                14.227451"
      ]
     },
     "metadata": {},
     "output_type": "display_data"
    }
   ],
   "source": [
    "volume_internet = (df_internet.groupby(['user_id', 'month']) # делаем срез данных по нужным для расчета столбцам \n",
    "                        .agg({'gb_used':'sum'}) # применяем к столбцу функцию подсчета требуемых значений\n",
    "                        .reset_index() # обновляем индексацию\n",
    "                        .rename(columns={'gb_used':'internet_traffic_volume'})) # переименовываем столбец\n",
    "\n",
    "display(volume_internet.head()) # выводим на экран первые 5 строк сводной таблицы с расчитанными данными"
   ]
  },
  {
   "cell_type": "code",
   "execution_count": 108,
   "metadata": {},
   "outputs": [
    {
     "data": {
      "text/html": [
       "<div>\n",
       "<style scoped>\n",
       "    .dataframe tbody tr th:only-of-type {\n",
       "        vertical-align: middle;\n",
       "    }\n",
       "\n",
       "    .dataframe tbody tr th {\n",
       "        vertical-align: top;\n",
       "    }\n",
       "\n",
       "    .dataframe thead th {\n",
       "        text-align: right;\n",
       "    }\n",
       "</style>\n",
       "<table border=\"1\" class=\"dataframe\">\n",
       "  <thead>\n",
       "    <tr style=\"text-align: right;\">\n",
       "      <th></th>\n",
       "      <th>user_id</th>\n",
       "      <th>month</th>\n",
       "      <th>internet_traffic_volume</th>\n",
       "    </tr>\n",
       "  </thead>\n",
       "  <tbody>\n",
       "    <tr>\n",
       "      <th>0</th>\n",
       "      <td>1000</td>\n",
       "      <td>5</td>\n",
       "      <td>3</td>\n",
       "    </tr>\n",
       "    <tr>\n",
       "      <th>1</th>\n",
       "      <td>1000</td>\n",
       "      <td>6</td>\n",
       "      <td>23</td>\n",
       "    </tr>\n",
       "    <tr>\n",
       "      <th>2</th>\n",
       "      <td>1000</td>\n",
       "      <td>7</td>\n",
       "      <td>14</td>\n",
       "    </tr>\n",
       "    <tr>\n",
       "      <th>3</th>\n",
       "      <td>1000</td>\n",
       "      <td>8</td>\n",
       "      <td>14</td>\n",
       "    </tr>\n",
       "    <tr>\n",
       "      <th>4</th>\n",
       "      <td>1000</td>\n",
       "      <td>9</td>\n",
       "      <td>15</td>\n",
       "    </tr>\n",
       "  </tbody>\n",
       "</table>\n",
       "</div>"
      ],
      "text/plain": [
       "   user_id  month  internet_traffic_volume\n",
       "0     1000      5                        3\n",
       "1     1000      6                       23\n",
       "2     1000      7                       14\n",
       "3     1000      8                       14\n",
       "4     1000      9                       15"
      ]
     },
     "metadata": {},
     "output_type": "display_data"
    }
   ],
   "source": [
    "# округляем значения столбца 'gb_used' до целого вверх\n",
    "volume_internet['internet_traffic_volume'] = (volume_internet[volume_internet['internet_traffic_volume'] != 0]\n",
    "                                            .apply(lambda x: math.ceil(x['internet_traffic_volume']), axis=1))\n",
    "\n",
    "# после округления у нас вместо нулей появились в столбце пропуски (nan), поэтому заменим их на \"0\"\n",
    "volume_internet['internet_traffic_volume'] = volume_internet['internet_traffic_volume'].fillna(0)\n",
    "\n",
    "# также изменим вещественный тип данных на целочисленный\n",
    "volume_internet['internet_traffic_volume'] = volume_internet['internet_traffic_volume'].astype('int')\n",
    "\n",
    "# выведем первые пять строк на экран\n",
    "display(volume_internet.head())"
   ]
  },
  {
   "cell_type": "code",
   "execution_count": 109,
   "metadata": {},
   "outputs": [
    {
     "name": "stdout",
     "output_type": "stream",
     "text": [
      "[ 3 23 14 15 10 18 11 20 17 19  9 13 12 22 28 16  8  7  2 21 25 24  6 26\n",
      " 29  1 27  5  4 43 36 37 35 30 31  0 49 39 33 34 32 38 42 40 41 48 45 44]\n"
     ]
    }
   ],
   "source": [
    "# посмотрим на список уникальных значений интернет-трафика в Гб\n",
    "print(volume_internet['internet_traffic_volume'].unique())"
   ]
  },
  {
   "cell_type": "markdown",
   "metadata": {},
   "source": [
    "Так же для дальнейшего использования и облегчения расчетов нам потребуется перевести объём интернет-трафика, включённого в абонентскую плату (в мегабайтах) в датасете `df_tariffs` в столбце `mb_per_month_included` в гигабайты. Для этого создадим новый столбец `gb_per_month_included` и запишем в него гигабайты:"
   ]
  },
  {
   "cell_type": "code",
   "execution_count": 110,
   "metadata": {},
   "outputs": [
    {
     "name": "stdout",
     "output_type": "stream",
     "text": [
      "[15 30]\n"
     ]
    }
   ],
   "source": [
    "# переведем мегабайты в гигабайты и запишем их в новый столбец 'gb_per_month_included'\n",
    "df_tariffs['gb_per_month_included'] = df_tariffs['mb_per_month_included'] / 1024\n",
    "\n",
    "# также изменим вещественный тип данных на целочисленный\n",
    "df_tariffs['gb_per_month_included'] = df_tariffs['gb_per_month_included'].astype('int')   \n",
    "    \n",
    "# посмотрим на список уникальных значений в Гб\n",
    "print(df_tariffs['gb_per_month_included'].unique())"
   ]
  },
  {
   "cell_type": "markdown",
   "metadata": {},
   "source": [
    "#### Помесячная выручка с каждого пользователя"
   ]
  },
  {
   "cell_type": "markdown",
   "metadata": {},
   "source": [
    "Для подсчета помесячной выручки с каждого пользователя нам необходимо последовательно собрать все необходимые данные в один датасет. Для этого используем метод `merge()`:"
   ]
  },
  {
   "cell_type": "code",
   "execution_count": 111,
   "metadata": {},
   "outputs": [],
   "source": [
    "# Соединим последовательно все датасеты в один общий \"df_proceeds\"\n",
    "df_proceeds = number_calls.merge(number_messages, on=['user_id','month'], how='outer')\n",
    "df_proceeds = df_proceeds.merge(volume_internet, on=['user_id','month'], how='outer')\n",
    "df_proceeds = df_proceeds.merge(df_users, on=['user_id'], how='left')"
   ]
  },
  {
   "cell_type": "markdown",
   "metadata": {},
   "source": [
    "В процессе объединения датасетов выяснилось, что в датасете `'df_tariffs'` для объединения необходимо переименование столбца `tariff_name` на `tariff`, поэтому выполним переименование и продолжим:"
   ]
  },
  {
   "cell_type": "code",
   "execution_count": 112,
   "metadata": {},
   "outputs": [
    {
     "data": {
      "text/html": [
       "<div>\n",
       "<style scoped>\n",
       "    .dataframe tbody tr th:only-of-type {\n",
       "        vertical-align: middle;\n",
       "    }\n",
       "\n",
       "    .dataframe tbody tr th {\n",
       "        vertical-align: top;\n",
       "    }\n",
       "\n",
       "    .dataframe thead th {\n",
       "        text-align: right;\n",
       "    }\n",
       "</style>\n",
       "<table border=\"1\" class=\"dataframe\">\n",
       "  <thead>\n",
       "    <tr style=\"text-align: right;\">\n",
       "      <th></th>\n",
       "      <th>messages_included</th>\n",
       "      <th>mb_per_month_included</th>\n",
       "      <th>minutes_included</th>\n",
       "      <th>rub_monthly_fee</th>\n",
       "      <th>rub_per_gb</th>\n",
       "      <th>rub_per_message</th>\n",
       "      <th>rub_per_minute</th>\n",
       "      <th>tariff_name</th>\n",
       "      <th>gb_per_month_included</th>\n",
       "    </tr>\n",
       "  </thead>\n",
       "  <tbody>\n",
       "    <tr>\n",
       "      <th>0</th>\n",
       "      <td>50</td>\n",
       "      <td>15360</td>\n",
       "      <td>500</td>\n",
       "      <td>550</td>\n",
       "      <td>200</td>\n",
       "      <td>3</td>\n",
       "      <td>3</td>\n",
       "      <td>smart</td>\n",
       "      <td>15</td>\n",
       "    </tr>\n",
       "    <tr>\n",
       "      <th>1</th>\n",
       "      <td>1000</td>\n",
       "      <td>30720</td>\n",
       "      <td>3000</td>\n",
       "      <td>1950</td>\n",
       "      <td>150</td>\n",
       "      <td>1</td>\n",
       "      <td>1</td>\n",
       "      <td>ultra</td>\n",
       "      <td>30</td>\n",
       "    </tr>\n",
       "  </tbody>\n",
       "</table>\n",
       "</div>"
      ],
      "text/plain": [
       "   messages_included  mb_per_month_included  minutes_included  \\\n",
       "0                 50                  15360               500   \n",
       "1               1000                  30720              3000   \n",
       "\n",
       "   rub_monthly_fee  rub_per_gb  rub_per_message  rub_per_minute tariff_name  \\\n",
       "0              550         200                3               3       smart   \n",
       "1             1950         150                1               1       ultra   \n",
       "\n",
       "   gb_per_month_included  \n",
       "0                     15  \n",
       "1                     30  "
      ]
     },
     "metadata": {},
     "output_type": "display_data"
    }
   ],
   "source": [
    "display(df_tariffs.head())"
   ]
  },
  {
   "cell_type": "code",
   "execution_count": 113,
   "metadata": {},
   "outputs": [
    {
     "name": "stdout",
     "output_type": "stream",
     "text": [
      "Index(['messages_included', 'mb_per_month_included', 'minutes_included',\n",
      "       'rub_monthly_fee', 'rub_per_gb', 'rub_per_message', 'rub_per_minute',\n",
      "       'tariff', 'gb_per_month_included'],\n",
      "      dtype='object')\n"
     ]
    }
   ],
   "source": [
    "# переименуем столбец 'tariff_name' датасета \"df_tariffs\" на 'tariff'\n",
    "df_tariffs = df_tariffs.rename(columns={'tariff_name' : 'tariff'})\n",
    "# проверим изменилось ли название столбца\n",
    "print(df_tariffs.columns)"
   ]
  },
  {
   "cell_type": "markdown",
   "metadata": {},
   "source": [
    "Как видим, название столбца `tariff_name` поменялось на `tariff`, а значит можно продолжить соединение датафреймов:"
   ]
  },
  {
   "cell_type": "code",
   "execution_count": 114,
   "metadata": {},
   "outputs": [],
   "source": [
    "df_proceeds = df_proceeds.merge(df_tariffs, on='tariff', how='left')"
   ]
  },
  {
   "cell_type": "code",
   "execution_count": 115,
   "metadata": {},
   "outputs": [
    {
     "data": {
      "text/html": [
       "<div>\n",
       "<style scoped>\n",
       "    .dataframe tbody tr th:only-of-type {\n",
       "        vertical-align: middle;\n",
       "    }\n",
       "\n",
       "    .dataframe tbody tr th {\n",
       "        vertical-align: top;\n",
       "    }\n",
       "\n",
       "    .dataframe thead th {\n",
       "        text-align: right;\n",
       "    }\n",
       "</style>\n",
       "<table border=\"1\" class=\"dataframe\">\n",
       "  <thead>\n",
       "    <tr style=\"text-align: right;\">\n",
       "      <th></th>\n",
       "      <th>user_id</th>\n",
       "      <th>month</th>\n",
       "      <th>minutes_per_month</th>\n",
       "      <th>calls_per_month</th>\n",
       "      <th>messages_per_month</th>\n",
       "      <th>internet_traffic_volume</th>\n",
       "      <th>age</th>\n",
       "      <th>churn_date</th>\n",
       "      <th>city</th>\n",
       "      <th>first_name</th>\n",
       "      <th>...</th>\n",
       "      <th>reg_date</th>\n",
       "      <th>tariff</th>\n",
       "      <th>messages_included</th>\n",
       "      <th>mb_per_month_included</th>\n",
       "      <th>minutes_included</th>\n",
       "      <th>rub_monthly_fee</th>\n",
       "      <th>rub_per_gb</th>\n",
       "      <th>rub_per_message</th>\n",
       "      <th>rub_per_minute</th>\n",
       "      <th>gb_per_month_included</th>\n",
       "    </tr>\n",
       "  </thead>\n",
       "  <tbody>\n",
       "    <tr>\n",
       "      <th>0</th>\n",
       "      <td>1000</td>\n",
       "      <td>5</td>\n",
       "      <td>159.0</td>\n",
       "      <td>22.0</td>\n",
       "      <td>22.0</td>\n",
       "      <td>3.0</td>\n",
       "      <td>52</td>\n",
       "      <td>NaT</td>\n",
       "      <td>Краснодар</td>\n",
       "      <td>Рафаил</td>\n",
       "      <td>...</td>\n",
       "      <td>2018-05-25</td>\n",
       "      <td>ultra</td>\n",
       "      <td>1000</td>\n",
       "      <td>30720</td>\n",
       "      <td>3000</td>\n",
       "      <td>1950</td>\n",
       "      <td>150</td>\n",
       "      <td>1</td>\n",
       "      <td>1</td>\n",
       "      <td>30</td>\n",
       "    </tr>\n",
       "    <tr>\n",
       "      <th>1</th>\n",
       "      <td>1000</td>\n",
       "      <td>6</td>\n",
       "      <td>172.0</td>\n",
       "      <td>43.0</td>\n",
       "      <td>60.0</td>\n",
       "      <td>23.0</td>\n",
       "      <td>52</td>\n",
       "      <td>NaT</td>\n",
       "      <td>Краснодар</td>\n",
       "      <td>Рафаил</td>\n",
       "      <td>...</td>\n",
       "      <td>2018-05-25</td>\n",
       "      <td>ultra</td>\n",
       "      <td>1000</td>\n",
       "      <td>30720</td>\n",
       "      <td>3000</td>\n",
       "      <td>1950</td>\n",
       "      <td>150</td>\n",
       "      <td>1</td>\n",
       "      <td>1</td>\n",
       "      <td>30</td>\n",
       "    </tr>\n",
       "    <tr>\n",
       "      <th>2</th>\n",
       "      <td>1000</td>\n",
       "      <td>7</td>\n",
       "      <td>340.0</td>\n",
       "      <td>47.0</td>\n",
       "      <td>75.0</td>\n",
       "      <td>14.0</td>\n",
       "      <td>52</td>\n",
       "      <td>NaT</td>\n",
       "      <td>Краснодар</td>\n",
       "      <td>Рафаил</td>\n",
       "      <td>...</td>\n",
       "      <td>2018-05-25</td>\n",
       "      <td>ultra</td>\n",
       "      <td>1000</td>\n",
       "      <td>30720</td>\n",
       "      <td>3000</td>\n",
       "      <td>1950</td>\n",
       "      <td>150</td>\n",
       "      <td>1</td>\n",
       "      <td>1</td>\n",
       "      <td>30</td>\n",
       "    </tr>\n",
       "    <tr>\n",
       "      <th>3</th>\n",
       "      <td>1000</td>\n",
       "      <td>8</td>\n",
       "      <td>408.0</td>\n",
       "      <td>52.0</td>\n",
       "      <td>81.0</td>\n",
       "      <td>14.0</td>\n",
       "      <td>52</td>\n",
       "      <td>NaT</td>\n",
       "      <td>Краснодар</td>\n",
       "      <td>Рафаил</td>\n",
       "      <td>...</td>\n",
       "      <td>2018-05-25</td>\n",
       "      <td>ultra</td>\n",
       "      <td>1000</td>\n",
       "      <td>30720</td>\n",
       "      <td>3000</td>\n",
       "      <td>1950</td>\n",
       "      <td>150</td>\n",
       "      <td>1</td>\n",
       "      <td>1</td>\n",
       "      <td>30</td>\n",
       "    </tr>\n",
       "    <tr>\n",
       "      <th>4</th>\n",
       "      <td>1000</td>\n",
       "      <td>9</td>\n",
       "      <td>466.0</td>\n",
       "      <td>58.0</td>\n",
       "      <td>57.0</td>\n",
       "      <td>15.0</td>\n",
       "      <td>52</td>\n",
       "      <td>NaT</td>\n",
       "      <td>Краснодар</td>\n",
       "      <td>Рафаил</td>\n",
       "      <td>...</td>\n",
       "      <td>2018-05-25</td>\n",
       "      <td>ultra</td>\n",
       "      <td>1000</td>\n",
       "      <td>30720</td>\n",
       "      <td>3000</td>\n",
       "      <td>1950</td>\n",
       "      <td>150</td>\n",
       "      <td>1</td>\n",
       "      <td>1</td>\n",
       "      <td>30</td>\n",
       "    </tr>\n",
       "  </tbody>\n",
       "</table>\n",
       "<p>5 rows × 21 columns</p>\n",
       "</div>"
      ],
      "text/plain": [
       "   user_id  month  minutes_per_month  calls_per_month  messages_per_month  \\\n",
       "0     1000      5              159.0             22.0                22.0   \n",
       "1     1000      6              172.0             43.0                60.0   \n",
       "2     1000      7              340.0             47.0                75.0   \n",
       "3     1000      8              408.0             52.0                81.0   \n",
       "4     1000      9              466.0             58.0                57.0   \n",
       "\n",
       "   internet_traffic_volume  age churn_date       city first_name  ...  \\\n",
       "0                      3.0   52        NaT  Краснодар     Рафаил  ...   \n",
       "1                     23.0   52        NaT  Краснодар     Рафаил  ...   \n",
       "2                     14.0   52        NaT  Краснодар     Рафаил  ...   \n",
       "3                     14.0   52        NaT  Краснодар     Рафаил  ...   \n",
       "4                     15.0   52        NaT  Краснодар     Рафаил  ...   \n",
       "\n",
       "    reg_date tariff messages_included  mb_per_month_included  \\\n",
       "0 2018-05-25  ultra              1000                  30720   \n",
       "1 2018-05-25  ultra              1000                  30720   \n",
       "2 2018-05-25  ultra              1000                  30720   \n",
       "3 2018-05-25  ultra              1000                  30720   \n",
       "4 2018-05-25  ultra              1000                  30720   \n",
       "\n",
       "   minutes_included  rub_monthly_fee  rub_per_gb  rub_per_message  \\\n",
       "0              3000             1950         150                1   \n",
       "1              3000             1950         150                1   \n",
       "2              3000             1950         150                1   \n",
       "3              3000             1950         150                1   \n",
       "4              3000             1950         150                1   \n",
       "\n",
       "   rub_per_minute  gb_per_month_included  \n",
       "0               1                     30  \n",
       "1               1                     30  \n",
       "2               1                     30  \n",
       "3               1                     30  \n",
       "4               1                     30  \n",
       "\n",
       "[5 rows x 21 columns]"
      ]
     },
     "metadata": {},
     "output_type": "display_data"
    }
   ],
   "source": [
    "# Посмотрим какая получилась общая таблица \"df_proceeds\" (первые пять строк)\n",
    "display(df_proceeds.head())"
   ]
  },
  {
   "cell_type": "markdown",
   "metadata": {},
   "source": [
    "Проверим новую таблицу на предмет пропусков:"
   ]
  },
  {
   "cell_type": "code",
   "execution_count": 116,
   "metadata": {},
   "outputs": [
    {
     "data": {
      "text/plain": [
       "user_id                       0\n",
       "month                         0\n",
       "minutes_per_month            40\n",
       "calls_per_month              40\n",
       "messages_per_month          497\n",
       "internet_traffic_volume      11\n",
       "age                           0\n",
       "churn_date                 3027\n",
       "city                          0\n",
       "first_name                    0\n",
       "last_name                     0\n",
       "reg_date                      0\n",
       "tariff                        0\n",
       "messages_included             0\n",
       "mb_per_month_included         0\n",
       "minutes_included              0\n",
       "rub_monthly_fee               0\n",
       "rub_per_gb                    0\n",
       "rub_per_message               0\n",
       "rub_per_minute                0\n",
       "gb_per_month_included         0\n",
       "dtype: int64"
      ]
     },
     "execution_count": 116,
     "metadata": {},
     "output_type": "execute_result"
    }
   ],
   "source": [
    "df_proceeds.isna().sum()"
   ]
  },
  {
   "cell_type": "markdown",
   "metadata": {},
   "source": [
    "Как видим в новом датафрейме появились пропуски, и они вероятнее всего образовались по причине того, что потребитель не пользовался интернет-трафиком и не отправлял смс. Поэтому заменим данные пропуски нулями."
   ]
  },
  {
   "cell_type": "code",
   "execution_count": 117,
   "metadata": {},
   "outputs": [
    {
     "name": "stdout",
     "output_type": "stream",
     "text": [
      "Количество пропусков в столбце \"minutes_per_month\": 0\n",
      "Количество пропусков в столбце \"calls_per_month\": 0\n",
      "Количество пропусков в столбце \"messages_per_month\": 0\n",
      "Количество пропусков в столбце \"internet_traffic_volume\": 0\n"
     ]
    }
   ],
   "source": [
    "# создаем список столбцов для замены пропусков\n",
    "list_pass = ['minutes_per_month', 'calls_per_month', 'messages_per_month', 'internet_traffic_volume']\n",
    "\n",
    "# для замены пустых значений используем метод \"fillna()\"\n",
    "for i in list_pass: # циклом проходим по каждому значению из списка\n",
    "    df_proceeds[i] = df_proceeds[i].fillna(0) # заменяем пропуски на \"0\"\n",
    "\n",
    "# проверяем произошла ли замена\n",
    "for i in list_pass: # проходимся по циклу и выводим на печать\n",
    "    print(f'Количество пропусков в столбце \"{i}\":', df_proceeds[i].isna().sum())"
   ]
  },
  {
   "cell_type": "markdown",
   "metadata": {},
   "source": [
    "Проверим наличие дубликатов в новом датасете:"
   ]
  },
  {
   "cell_type": "code",
   "execution_count": 118,
   "metadata": {},
   "outputs": [
    {
     "name": "stdout",
     "output_type": "stream",
     "text": [
      "Количество дубликатов в датасете \"df_proceeds\": 0\n"
     ]
    }
   ],
   "source": [
    "print(f'Количество дубликатов в датасете \"df_proceeds\":', df_proceeds.duplicated().sum())"
   ]
  },
  {
   "cell_type": "markdown",
   "metadata": {},
   "source": [
    "Как сказано в задании помесячную выручку с каждого пользователя нужно посчитать путем вычета бесплатного лимита из суммарного количества звонков, сообщений и интернет-трафика; остаток умножить на значение из тарифного плана; прибавить абонентскую плату, соответствующую тарифному плану. Для этого напишем функцию:"
   ]
  },
  {
   "cell_type": "code",
   "execution_count": 119,
   "metadata": {},
   "outputs": [],
   "source": [
    "def tariff_function(row):\n",
    "    '''\n",
    "    Функция вычитает бесплатный лимит, включенный в абонентскую плату из суммарного количества звонков, \n",
    "    сообщений и интернет-трафика и остаток умножает на значение из тарифного плана.\n",
    "    Возвращает сумму всех значений при условии, что они больше \"0\".\n",
    "    '''\n",
    "    # высчитываем стоимость сообщений\n",
    "    messages = (row['messages_per_month'] - row['messages_included']) * row['rub_per_message']\n",
    "    # высчитываем стоимость минут\n",
    "    minutes = (row['minutes_per_month'] - row['minutes_included']) * row['rub_per_minute']\n",
    "    # высчитываем стоимость интернет-трафика\n",
    "    gigabites = (row['internet_traffic_volume'] - row['gb_per_month_included']) * row['rub_per_gb']\n",
    "    \n",
    "    final = 0 # создаем переменную для подсчета итогового значения\n",
    "    \n",
    "    for i in [messages, minutes, gigabites]: # проходимся циклом по значениям\n",
    "        if i > 0: # если условие верно, то итоговое значение увеличивается\n",
    "            final += i\n",
    "    return final # возвращаем итоговое значение, т.е. сумму всех итерируемых значений"
   ]
  },
  {
   "cell_type": "markdown",
   "metadata": {},
   "source": [
    "Создаем в датасете `\"df_proceeds\"` новый столбец `'final_sum'` и применяем к нему нашу функцию через выражение лямбда-функции:"
   ]
  },
  {
   "cell_type": "code",
   "execution_count": 120,
   "metadata": {},
   "outputs": [
    {
     "data": {
      "text/plain": [
       "count    3214.000000\n",
       "mean      550.015868\n",
       "std       767.771509\n",
       "min         0.000000\n",
       "25%         0.000000\n",
       "50%       163.500000\n",
       "75%       938.000000\n",
       "max      6220.000000\n",
       "Name: final_sum, dtype: float64"
      ]
     },
     "execution_count": 120,
     "metadata": {},
     "output_type": "execute_result"
    }
   ],
   "source": [
    "df_proceeds['final_sum'] = df_proceeds.apply(lambda x: tariff_function(x), axis=1)\n",
    "\n",
    "# результат применения функции проверим путем вывода числовых характеристик нового столбца\n",
    "df_proceeds['final_sum'].describe()"
   ]
  },
  {
   "cell_type": "markdown",
   "metadata": {},
   "source": [
    "Ну, и, наконец посчитаем помесячную выручку с каждого пользователя. Для этого прибавим к посчитанным значениям столбца `'final_sum'` абонентскую плату, соответствующую тарифному плану в столбце `'rub_monthly_fee'` и запишем ее в новый столбец `'proceeds'`:"
   ]
  },
  {
   "cell_type": "code",
   "execution_count": 121,
   "metadata": {},
   "outputs": [
    {
     "data": {
      "text/plain": [
       "count    3214.000000\n",
       "mean     1529.076229\n",
       "std       798.251091\n",
       "min       550.000000\n",
       "25%       750.000000\n",
       "50%      1653.500000\n",
       "75%      1950.000000\n",
       "max      6770.000000\n",
       "Name: proceeds, dtype: float64"
      ]
     },
     "execution_count": 121,
     "metadata": {},
     "output_type": "execute_result"
    }
   ],
   "source": [
    "df_proceeds['proceeds'] = df_proceeds['final_sum'] + df_proceeds['rub_monthly_fee']\n",
    "\n",
    "# результат вычисления проверим путем вывода числовых характеристик нового столбца\n",
    "df_proceeds['proceeds'].describe()"
   ]
  },
  {
   "cell_type": "markdown",
   "metadata": {},
   "source": [
    "**Вывод**\n",
    "\n",
    "Мы посчитали и добавили в датасет помесячную выручку с каждого пользователя путем вычета бесплатного лимита из суммарного количества звонков, сообщений и интернет-трафика, а остаток умножили на значение из тарифного плана, затем прибавили абонентскую плату, соответствующую тарифному плану. Теперь можно приступать к анализу данных."
   ]
  },
  {
   "cell_type": "markdown",
   "metadata": {},
   "source": [
    "## Анализ данных"
   ]
  },
  {
   "cell_type": "markdown",
   "metadata": {},
   "source": [
    "Опишем поведение клиентов оператора, исходя из выборки. Сколько минут разговора, сколько сообщений и какой объём интернет-трафика требуется пользователям каждого тарифа в месяц. Посчитаем среднее количество, дисперсию и стандартное отклонение. Построим гистограммы. Опишем распределения."
   ]
  },
  {
   "cell_type": "markdown",
   "metadata": {},
   "source": [
    "### Описание поведения клиента на основе полученной выборки"
   ]
  },
  {
   "cell_type": "code",
   "execution_count": 122,
   "metadata": {},
   "outputs": [
    {
     "data": {
      "text/html": [
       "<div>\n",
       "<style scoped>\n",
       "    .dataframe tbody tr th:only-of-type {\n",
       "        vertical-align: middle;\n",
       "    }\n",
       "\n",
       "    .dataframe tbody tr th {\n",
       "        vertical-align: top;\n",
       "    }\n",
       "\n",
       "    .dataframe thead th {\n",
       "        text-align: right;\n",
       "    }\n",
       "</style>\n",
       "<table border=\"1\" class=\"dataframe\">\n",
       "  <thead>\n",
       "    <tr style=\"text-align: right;\">\n",
       "      <th></th>\n",
       "      <th>user_id</th>\n",
       "    </tr>\n",
       "    <tr>\n",
       "      <th>tariff</th>\n",
       "      <th></th>\n",
       "    </tr>\n",
       "  </thead>\n",
       "  <tbody>\n",
       "    <tr>\n",
       "      <th>smart</th>\n",
       "      <td>2229</td>\n",
       "    </tr>\n",
       "    <tr>\n",
       "      <th>ultra</th>\n",
       "      <td>985</td>\n",
       "    </tr>\n",
       "  </tbody>\n",
       "</table>\n",
       "</div>"
      ],
      "text/plain": [
       "        user_id\n",
       "tariff         \n",
       "smart      2229\n",
       "ultra       985"
      ]
     },
     "execution_count": 122,
     "metadata": {},
     "output_type": "execute_result"
    }
   ],
   "source": [
    "# посчитаем какое количество потребителей пользуется разными тарифами\n",
    "df_proceeds.pivot_table(index='tariff', values=['user_id'], aggfunc='count')"
   ]
  },
  {
   "cell_type": "markdown",
   "metadata": {},
   "source": [
    "Как видно из наших расчетов и сводных таблиц больше людей пользуются тарифом `smart`."
   ]
  },
  {
   "cell_type": "code",
   "execution_count": 123,
   "metadata": {},
   "outputs": [
    {
     "data": {
      "text/html": [
       "<div>\n",
       "<style scoped>\n",
       "    .dataframe tbody tr th:only-of-type {\n",
       "        vertical-align: middle;\n",
       "    }\n",
       "\n",
       "    .dataframe tbody tr th {\n",
       "        vertical-align: top;\n",
       "    }\n",
       "\n",
       "    .dataframe thead th {\n",
       "        text-align: right;\n",
       "    }\n",
       "</style>\n",
       "<table border=\"1\" class=\"dataframe\">\n",
       "  <thead>\n",
       "    <tr style=\"text-align: right;\">\n",
       "      <th></th>\n",
       "      <th>internet_traffic_volume</th>\n",
       "      <th>messages_per_month</th>\n",
       "      <th>minutes_per_month</th>\n",
       "      <th>proceeds</th>\n",
       "    </tr>\n",
       "    <tr>\n",
       "      <th>tariff</th>\n",
       "      <th></th>\n",
       "      <th></th>\n",
       "      <th></th>\n",
       "      <th></th>\n",
       "    </tr>\n",
       "  </thead>\n",
       "  <tbody>\n",
       "    <tr>\n",
       "      <th>smart</th>\n",
       "      <td>36397.0</td>\n",
       "      <td>74413.0</td>\n",
       "      <td>931577.0</td>\n",
       "      <td>2875351.0</td>\n",
       "    </tr>\n",
       "    <tr>\n",
       "      <th>ultra</th>\n",
       "      <td>19202.0</td>\n",
       "      <td>48623.0</td>\n",
       "      <td>518724.0</td>\n",
       "      <td>2039100.0</td>\n",
       "    </tr>\n",
       "  </tbody>\n",
       "</table>\n",
       "</div>"
      ],
      "text/plain": [
       "        internet_traffic_volume  messages_per_month  minutes_per_month  \\\n",
       "tariff                                                                   \n",
       "smart                   36397.0             74413.0           931577.0   \n",
       "ultra                   19202.0             48623.0           518724.0   \n",
       "\n",
       "         proceeds  \n",
       "tariff             \n",
       "smart   2875351.0  \n",
       "ultra   2039100.0  "
      ]
     },
     "execution_count": 123,
     "metadata": {},
     "output_type": "execute_result"
    }
   ],
   "source": [
    "# посчитаем на каком тарифе больше используются сообщения, минуты, трафик и посмотрим на общую выручку\n",
    "df_proceeds.pivot_table(index='tariff', values=['messages_per_month',\n",
    "                                                'minutes_per_month',\n",
    "                                                'internet_traffic_volume',\n",
    "                                                'proceeds'], aggfunc='sum')"
   ]
  },
  {
   "cell_type": "markdown",
   "metadata": {},
   "source": [
    "**Вывод**\n",
    "\n",
    "На тарифе `smart` больше проходит трафика, отправляется сообщений и больше проходит звонков. По выручке тоже можно сказать, что по тарифу `smart` она выше хоть и абонентская плата по тарифу `ultra` в несколько раз больше."
   ]
  },
  {
   "cell_type": "markdown",
   "metadata": {},
   "source": [
    "### Построение гистограмм и подсчет значений"
   ]
  },
  {
   "cell_type": "markdown",
   "metadata": {},
   "source": [
    "#### Гистограммы и значения для каждого тарифа по выручке"
   ]
  },
  {
   "cell_type": "code",
   "execution_count": 124,
   "metadata": {},
   "outputs": [],
   "source": [
    "# импортируем библиотеку \"matplotlib\" для работы с графиками\n",
    "import matplotlib.pyplot as plt"
   ]
  },
  {
   "cell_type": "code",
   "execution_count": 125,
   "metadata": {},
   "outputs": [
    {
     "data": {
      "image/png": "[encoded data removed]",
      "text/plain": [
       "<Figure size 864x432 with 1 Axes>"
      ]
     },
     "metadata": {
      "needs_background": "light"
     },
     "output_type": "display_data"
    }
   ],
   "source": [
    "# построим гистограммы для тарифов 'ultra' и 'smart' по выручке\n",
    "plt.figure(figsize=(12, 6))\n",
    "(df_proceeds[df_proceeds['tariff'] == 'ultra']['proceeds']\n",
    "     .plot(kind='hist', bins=10, grid=True, label = 'ultra', alpha=0.5))\n",
    "(df_proceeds[df_proceeds['tariff'] == 'smart']['proceeds']\n",
    "     .plot(kind='hist', bins=10, grid=True, label = 'smart', alpha=0.5))\n",
    "plt.legend()\n",
    "plt.title('Tariffs_ultra_and_smart - Proceeds')\n",
    "plt.show()"
   ]
  },
  {
   "cell_type": "code",
   "execution_count": 126,
   "metadata": {},
   "outputs": [
    {
     "data": {
      "text/html": [
       "<div>\n",
       "<style scoped>\n",
       "    .dataframe tbody tr th:only-of-type {\n",
       "        vertical-align: middle;\n",
       "    }\n",
       "\n",
       "    .dataframe tbody tr th {\n",
       "        vertical-align: top;\n",
       "    }\n",
       "\n",
       "    .dataframe thead tr th {\n",
       "        text-align: left;\n",
       "    }\n",
       "\n",
       "    .dataframe thead tr:last-of-type th {\n",
       "        text-align: right;\n",
       "    }\n",
       "</style>\n",
       "<table border=\"1\" class=\"dataframe\">\n",
       "  <thead>\n",
       "    <tr>\n",
       "      <th></th>\n",
       "      <th colspan=\"4\" halign=\"left\">proceeds</th>\n",
       "    </tr>\n",
       "    <tr>\n",
       "      <th></th>\n",
       "      <th>median</th>\n",
       "      <th>mean</th>\n",
       "      <th>var</th>\n",
       "      <th>std</th>\n",
       "    </tr>\n",
       "    <tr>\n",
       "      <th>tariff</th>\n",
       "      <th></th>\n",
       "      <th></th>\n",
       "      <th></th>\n",
       "      <th></th>\n",
       "    </tr>\n",
       "  </thead>\n",
       "  <tbody>\n",
       "    <tr>\n",
       "      <th>smart</th>\n",
       "      <td>1023.0</td>\n",
       "      <td>1289.973531</td>\n",
       "      <td>669785.708006</td>\n",
       "      <td>818.404367</td>\n",
       "    </tr>\n",
       "    <tr>\n",
       "      <th>ultra</th>\n",
       "      <td>1950.0</td>\n",
       "      <td>2070.152284</td>\n",
       "      <td>141516.745079</td>\n",
       "      <td>376.187114</td>\n",
       "    </tr>\n",
       "  </tbody>\n",
       "</table>\n",
       "</div>"
      ],
      "text/plain": [
       "       proceeds                                        \n",
       "         median         mean            var         std\n",
       "tariff                                                 \n",
       "smart    1023.0  1289.973531  669785.708006  818.404367\n",
       "ultra    1950.0  2070.152284  141516.745079  376.187114"
      ]
     },
     "execution_count": 126,
     "metadata": {},
     "output_type": "execute_result"
    }
   ],
   "source": [
    "# Посчитаем медиану, среднее количество, дисперсию и стандартное отклонение\n",
    "(df_proceeds.groupby('tariff')\n",
    "  .agg({'proceeds':['median','mean','var','std']}))"
   ]
  },
  {
   "cell_type": "markdown",
   "metadata": {},
   "source": [
    "**Вывод**\n",
    "\n",
    "Как видим, по тарифу `'ultra'` в основном платят по тарифу, но есть небольшое количество потребителей которые платят сверх тарифа. У тарифа `'smart'` потребители выходят за абонентскую плату намного чаще."
   ]
  },
  {
   "cell_type": "markdown",
   "metadata": {},
   "source": [
    "#### Гистограммы и значения для каждого тарифа по минутам"
   ]
  },
  {
   "cell_type": "code",
   "execution_count": 127,
   "metadata": {},
   "outputs": [
    {
     "data": {
      "image/png": "[encoded data removed]",
      "text/plain": [
       "<Figure size 864x432 with 1 Axes>"
      ]
     },
     "metadata": {
      "needs_background": "light"
     },
     "output_type": "display_data"
    }
   ],
   "source": [
    "# построим гистограммы для тарифов 'ultra' и 'smart' по количеству минут в месяц\n",
    "plt.figure(figsize=(12, 6))\n",
    "(df_proceeds[df_proceeds['tariff'] == 'ultra']['minutes_per_month']\n",
    "     .plot(kind='hist', bins=10, grid=True, label = 'ultra', alpha=0.5))\n",
    "(df_proceeds[df_proceeds['tariff'] == 'smart']['minutes_per_month']\n",
    "     .plot(kind='hist', bins=10, grid=True, label = 'smart', alpha=0.5))\n",
    "plt.legend()\n",
    "plt.title('Tariffs_ultra_and_smart - Minutes')\n",
    "plt.show()"
   ]
  },
  {
   "cell_type": "code",
   "execution_count": 128,
   "metadata": {},
   "outputs": [
    {
     "data": {
      "text/html": [
       "<div>\n",
       "<style scoped>\n",
       "    .dataframe tbody tr th:only-of-type {\n",
       "        vertical-align: middle;\n",
       "    }\n",
       "\n",
       "    .dataframe tbody tr th {\n",
       "        vertical-align: top;\n",
       "    }\n",
       "\n",
       "    .dataframe thead tr th {\n",
       "        text-align: left;\n",
       "    }\n",
       "\n",
       "    .dataframe thead tr:last-of-type th {\n",
       "        text-align: right;\n",
       "    }\n",
       "</style>\n",
       "<table border=\"1\" class=\"dataframe\">\n",
       "  <thead>\n",
       "    <tr>\n",
       "      <th></th>\n",
       "      <th colspan=\"4\" halign=\"left\">minutes_per_month</th>\n",
       "    </tr>\n",
       "    <tr>\n",
       "      <th></th>\n",
       "      <th>median</th>\n",
       "      <th>mean</th>\n",
       "      <th>var</th>\n",
       "      <th>std</th>\n",
       "    </tr>\n",
       "    <tr>\n",
       "      <th>tariff</th>\n",
       "      <th></th>\n",
       "      <th></th>\n",
       "      <th></th>\n",
       "      <th></th>\n",
       "    </tr>\n",
       "  </thead>\n",
       "  <tbody>\n",
       "    <tr>\n",
       "      <th>smart</th>\n",
       "      <td>422.0</td>\n",
       "      <td>417.934948</td>\n",
       "      <td>36219.315784</td>\n",
       "      <td>190.313730</td>\n",
       "    </tr>\n",
       "    <tr>\n",
       "      <th>ultra</th>\n",
       "      <td>518.0</td>\n",
       "      <td>526.623350</td>\n",
       "      <td>100873.633397</td>\n",
       "      <td>317.606098</td>\n",
       "    </tr>\n",
       "  </tbody>\n",
       "</table>\n",
       "</div>"
      ],
      "text/plain": [
       "       minutes_per_month                                       \n",
       "                  median        mean            var         std\n",
       "tariff                                                         \n",
       "smart              422.0  417.934948   36219.315784  190.313730\n",
       "ultra              518.0  526.623350  100873.633397  317.606098"
      ]
     },
     "execution_count": 128,
     "metadata": {},
     "output_type": "execute_result"
    }
   ],
   "source": [
    "# Посчитаем медиану, среднее количество, дисперсию и стандартное отклонение\n",
    "(df_proceeds.groupby('tariff')\n",
    "  .agg({'minutes_per_month':['median','mean','var','std']}))"
   ]
  },
  {
   "cell_type": "markdown",
   "metadata": {},
   "source": [
    "**Вывод**\n",
    "\n",
    "На тарифе `smart` потребители говорят около 420 минут в месяц, а на тарифе `ultra` 520 минут в месяц. А также на тарифе `ultra` у потребителей еще остается некоторое количество минут. Среднее и медиана отличаются незначительно."
   ]
  },
  {
   "cell_type": "markdown",
   "metadata": {},
   "source": [
    "#### Гистограммы и значения для каждого тарифа по трафику"
   ]
  },
  {
   "cell_type": "code",
   "execution_count": 129,
   "metadata": {},
   "outputs": [
    {
     "data": {
      "image/png": "[encoded data removed]",
      "text/plain": [
       "<Figure size 864x432 with 1 Axes>"
      ]
     },
     "metadata": {
      "needs_background": "light"
     },
     "output_type": "display_data"
    }
   ],
   "source": [
    "# построим гистограммы для тарифов 'ultra' и 'smart' по количеству интернет-трафика в месяц\n",
    "plt.figure(figsize=(12, 6))\n",
    "(df_proceeds[df_proceeds['tariff'] == 'ultra']['internet_traffic_volume']\n",
    "     .plot(kind='hist', bins=10, grid=True, label = 'ultra', alpha=0.5))\n",
    "(df_proceeds[df_proceeds['tariff'] == 'smart']['internet_traffic_volume']\n",
    "     .plot(kind='hist', bins=10, grid=True, label = 'smart', alpha=0.5))\n",
    "plt.legend()\n",
    "plt.title('Tariffs_ultra_and_smart - Internet_traffic')\n",
    "plt.show()"
   ]
  },
  {
   "cell_type": "code",
   "execution_count": 130,
   "metadata": {},
   "outputs": [
    {
     "data": {
      "text/html": [
       "<div>\n",
       "<style scoped>\n",
       "    .dataframe tbody tr th:only-of-type {\n",
       "        vertical-align: middle;\n",
       "    }\n",
       "\n",
       "    .dataframe tbody tr th {\n",
       "        vertical-align: top;\n",
       "    }\n",
       "\n",
       "    .dataframe thead tr th {\n",
       "        text-align: left;\n",
       "    }\n",
       "\n",
       "    .dataframe thead tr:last-of-type th {\n",
       "        text-align: right;\n",
       "    }\n",
       "</style>\n",
       "<table border=\"1\" class=\"dataframe\">\n",
       "  <thead>\n",
       "    <tr>\n",
       "      <th></th>\n",
       "      <th colspan=\"4\" halign=\"left\">internet_traffic_volume</th>\n",
       "    </tr>\n",
       "    <tr>\n",
       "      <th></th>\n",
       "      <th>median</th>\n",
       "      <th>mean</th>\n",
       "      <th>var</th>\n",
       "      <th>std</th>\n",
       "    </tr>\n",
       "    <tr>\n",
       "      <th>tariff</th>\n",
       "      <th></th>\n",
       "      <th></th>\n",
       "      <th></th>\n",
       "      <th></th>\n",
       "    </tr>\n",
       "  </thead>\n",
       "  <tbody>\n",
       "    <tr>\n",
       "      <th>smart</th>\n",
       "      <td>17.0</td>\n",
       "      <td>16.328847</td>\n",
       "      <td>33.028705</td>\n",
       "      <td>5.747061</td>\n",
       "    </tr>\n",
       "    <tr>\n",
       "      <th>ultra</th>\n",
       "      <td>19.0</td>\n",
       "      <td>19.494416</td>\n",
       "      <td>97.091686</td>\n",
       "      <td>9.853511</td>\n",
       "    </tr>\n",
       "  </tbody>\n",
       "</table>\n",
       "</div>"
      ],
      "text/plain": [
       "       internet_traffic_volume                                \n",
       "                        median       mean        var       std\n",
       "tariff                                                        \n",
       "smart                     17.0  16.328847  33.028705  5.747061\n",
       "ultra                     19.0  19.494416  97.091686  9.853511"
      ]
     },
     "execution_count": 130,
     "metadata": {},
     "output_type": "execute_result"
    }
   ],
   "source": [
    "# Посчитаем медиану, среднее количество, дисперсию и стандартное отклонение\n",
    "(df_proceeds.groupby('tariff')\n",
    "  .agg({'internet_traffic_volume':['median','mean','var','std']}))"
   ]
  },
  {
   "cell_type": "markdown",
   "metadata": {},
   "source": [
    "**Вывод**\n",
    "\n",
    "На тарифе `smart` потребители выходят за пределы тарифа больше, а на тарифе `ultra` остается неиспользованный трафик. Среднее и медиана отличаются незначительно."
   ]
  },
  {
   "cell_type": "markdown",
   "metadata": {},
   "source": [
    "#### Гистограммы и значения для каждого тарифа по сообщениям"
   ]
  },
  {
   "cell_type": "code",
   "execution_count": 131,
   "metadata": {},
   "outputs": [
    {
     "data": {
      "image/png": "[encoded data removed]",
      "text/plain": [
       "<Figure size 864x432 with 1 Axes>"
      ]
     },
     "metadata": {
      "needs_background": "light"
     },
     "output_type": "display_data"
    }
   ],
   "source": [
    "# построим гистограммы для тарифов 'ultra' и 'smart' по количеству количеству сообщений в месяц\n",
    "plt.figure(figsize=(12, 6))\n",
    "(df_proceeds[df_proceeds['tariff'] == 'ultra']['messages_per_month']\n",
    "     .plot(kind='hist', bins=10, grid=True, label = 'ultra', alpha=0.5))\n",
    "(df_proceeds[df_proceeds['tariff'] == 'smart']['messages_per_month']\n",
    "     .plot(kind='hist', bins=10, grid=True, label = 'smart', alpha=0.5))\n",
    "plt.legend()\n",
    "plt.title('Tariffs_ultra_and_smart - Messages')\n",
    "plt.show()"
   ]
  },
  {
   "cell_type": "code",
   "execution_count": 132,
   "metadata": {},
   "outputs": [
    {
     "data": {
      "text/html": [
       "<div>\n",
       "<style scoped>\n",
       "    .dataframe tbody tr th:only-of-type {\n",
       "        vertical-align: middle;\n",
       "    }\n",
       "\n",
       "    .dataframe tbody tr th {\n",
       "        vertical-align: top;\n",
       "    }\n",
       "\n",
       "    .dataframe thead tr th {\n",
       "        text-align: left;\n",
       "    }\n",
       "\n",
       "    .dataframe thead tr:last-of-type th {\n",
       "        text-align: right;\n",
       "    }\n",
       "</style>\n",
       "<table border=\"1\" class=\"dataframe\">\n",
       "  <thead>\n",
       "    <tr>\n",
       "      <th></th>\n",
       "      <th colspan=\"4\" halign=\"left\">messages_per_month</th>\n",
       "    </tr>\n",
       "    <tr>\n",
       "      <th></th>\n",
       "      <th>median</th>\n",
       "      <th>mean</th>\n",
       "      <th>var</th>\n",
       "      <th>std</th>\n",
       "    </tr>\n",
       "    <tr>\n",
       "      <th>tariff</th>\n",
       "      <th></th>\n",
       "      <th></th>\n",
       "      <th></th>\n",
       "      <th></th>\n",
       "    </tr>\n",
       "  </thead>\n",
       "  <tbody>\n",
       "    <tr>\n",
       "      <th>smart</th>\n",
       "      <td>28.0</td>\n",
       "      <td>33.384029</td>\n",
       "      <td>796.812958</td>\n",
       "      <td>28.227876</td>\n",
       "    </tr>\n",
       "    <tr>\n",
       "      <th>ultra</th>\n",
       "      <td>38.0</td>\n",
       "      <td>49.363452</td>\n",
       "      <td>2285.266143</td>\n",
       "      <td>47.804457</td>\n",
       "    </tr>\n",
       "  </tbody>\n",
       "</table>\n",
       "</div>"
      ],
      "text/plain": [
       "       messages_per_month                                   \n",
       "                   median       mean          var        std\n",
       "tariff                                                      \n",
       "smart                28.0  33.384029   796.812958  28.227876\n",
       "ultra                38.0  49.363452  2285.266143  47.804457"
      ]
     },
     "execution_count": 132,
     "metadata": {},
     "output_type": "execute_result"
    }
   ],
   "source": [
    "# Посчитаем медиану, среднее количество, дисперсию и стандартное отклонение\n",
    "(df_proceeds.groupby('tariff')\n",
    "  .agg({'messages_per_month':['median','mean','var','std']}))"
   ]
  },
  {
   "cell_type": "markdown",
   "metadata": {},
   "source": [
    "**Вывод**\n",
    "\n",
    "Как видно по гистограммам и сводной таблицы большая часть потребителей на каждом тарифе практически не отправляет сообщения."
   ]
  },
  {
   "cell_type": "markdown",
   "metadata": {},
   "source": [
    "## Проверка гипотез"
   ]
  },
  {
   "cell_type": "markdown",
   "metadata": {},
   "source": [
    "### Cредняя выручка пользователей тарифов «Ультра» и «Смарт» различаются"
   ]
  },
  {
   "cell_type": "markdown",
   "metadata": {},
   "source": [
    "`H0 (нулевая гипотеза)` - предположение о том, что между данными связи нет (средняя выручка пользователей тарифа Смарт не отличается от средней выручки пользователей тарифа Ультра).\n",
    "\n",
    "`H1 (альтернативная гипотеза)` - средняя выручка пользователей тарифа Смарт отличается от средней выручки пользователей тарифа Ультра."
   ]
  },
  {
   "cell_type": "markdown",
   "metadata": {},
   "source": [
    "В нашем случае сравниваемые выборки независимые, поэтому можно использовать t-критерий Стьюдента."
   ]
  },
  {
   "cell_type": "code",
   "execution_count": 133,
   "metadata": {},
   "outputs": [],
   "source": [
    "# Напишем функцию для удаления выбросов\n",
    "def outlier_removal(data, column):\n",
    "    '''\n",
    "    Функция удаляет определяемые условием выбросы в определенном датасете по определенному столбцу.\n",
    "        - data - определенный датасет;\n",
    "        - column - столбец в датасете.\n",
    "    '''\n",
    "    q1 = data[column].quantile(0.25) # первый квартиль                \n",
    "    q3 = data[column].quantile(0.75) # третий квартиль\n",
    "    iqr = q3 - q1 # межквартильный размах\n",
    "    iqr_test = (data[column] >= (q1 - 1.5 * iqr)) & (data[column] <= (q3 + 1.5 * iqr)) # определяем требуемые условия\n",
    "    return data.loc[iqr_test]"
   ]
  },
  {
   "cell_type": "markdown",
   "metadata": {},
   "source": [
    "Сформируем для проверки гипотез два датасета по срезу тарифов:"
   ]
  },
  {
   "cell_type": "code",
   "execution_count": 134,
   "metadata": {},
   "outputs": [],
   "source": [
    "tarif_ultra = df_proceeds[df_proceeds['tariff'] == 'ultra'] # датасет по тарифу 'ultra'\n",
    "tarif_smart = df_proceeds[df_proceeds['tariff'] == 'smart'] # датасет по тарифу 'smart'"
   ]
  },
  {
   "cell_type": "markdown",
   "metadata": {},
   "source": [
    "Применим функцию удаления выбросов к новым датасетам:"
   ]
  },
  {
   "cell_type": "code",
   "execution_count": 135,
   "metadata": {},
   "outputs": [],
   "source": [
    "# применяем функцию к датасету тарифа \"ultra\"\n",
    "tarif_ultra = outlier_removal(tarif_ultra, 'proceeds')\n",
    "tarif_ultra = tarif_ultra['proceeds']\n",
    "\n",
    "# применяем функцию к датасету тарифа \"smart\"\n",
    "tarif_smart = outlier_removal(tarif_smart, 'proceeds')\n",
    "tarif_smart = tarif_smart['proceeds']"
   ]
  },
  {
   "cell_type": "markdown",
   "metadata": {},
   "source": [
    "Пороговое значение `alpha` зададим 0.05:"
   ]
  },
  {
   "cell_type": "code",
   "execution_count": 136,
   "metadata": {},
   "outputs": [],
   "source": [
    "alpha = 0.05 # критический уровень статистической значимости"
   ]
  },
  {
   "cell_type": "markdown",
   "metadata": {},
   "source": [
    "Чтобы проверить нашу гипотезу о равенстве среднего двух генеральных совокупностей по взятым нами выборкам, применим метод `scipy.stats.ttest_ind`, но для этого необходимо подключить библиотеку `scipy`:"
   ]
  },
  {
   "cell_type": "code",
   "execution_count": 137,
   "metadata": {},
   "outputs": [],
   "source": [
    "from scipy import stats as st # подключаем библиотеку \"scipy\" и импортируем из нее модуль \"stats\" в переменную \"st\""
   ]
  },
  {
   "cell_type": "code",
   "execution_count": 138,
   "metadata": {},
   "outputs": [
    {
     "name": "stdout",
     "output_type": "stream",
     "text": [
      "p-значение: 6.199325734910118e-155\n",
      "Отвергаем нулевую гипотезу\n"
     ]
    },
    {
     "name": "stderr",
     "output_type": "stream",
     "text": [
      "/tmp/ipykernel_93/906305427.py:1: RuntimeWarning: Precision loss occurred in moment calculation due to catastrophic cancellation. This occurs when the data are nearly identical. Results may be unreliable.\n",
      "  results = st.ttest_ind(tarif_ultra, tarif_smart) # применяем метод \"scipy.stats.ttest_ind\" к нашим выборкам\n"
     ]
    }
   ],
   "source": [
    "results = st.ttest_ind(tarif_ultra, tarif_smart) # применяем метод \"scipy.stats.ttest_ind\" к нашим выборкам\n",
    "\n",
    "print('p-значение:', results.pvalue) # выводим p-value из результата\n",
    "\n",
    "if (results.pvalue < alpha): # сравниваем полученный и критический уровни значимости\n",
    "    print(\"Отвергаем нулевую гипотезу\")\n",
    "else:\n",
    "    print(\"Не получилось отвергнуть нулевую гипотезу\")"
   ]
  },
  {
   "cell_type": "markdown",
   "metadata": {},
   "source": [
    "Мы определили, что присутствуют значимые различия между нашими выборками."
   ]
  },
  {
   "cell_type": "markdown",
   "metadata": {},
   "source": [
    "### Cредняя выручка пользователей из Москвы отличается от выручки пользователей из других регионов"
   ]
  },
  {
   "cell_type": "markdown",
   "metadata": {},
   "source": [
    "`H0 (нулевая гипотеза)` - средняя выручка пользователей из Москвы не отличается от выручки пользователей из других регионов.\n",
    "\n",
    "`H1 (альтернативная гипотеза)` - средняя выручка пользователей из Москвы отличается от выручки пользователей из других регионов."
   ]
  },
  {
   "cell_type": "markdown",
   "metadata": {},
   "source": [
    "Для проверки гипотез необходимо создать два датасета (один для Москвы, а второй для других регионов). Проставим признак по каждой строке - Москва или регион, но сначала необходимо проверить список уникальных значений по столбцу `city`, для подстраховки:"
   ]
  },
  {
   "cell_type": "code",
   "execution_count": 139,
   "metadata": {},
   "outputs": [
    {
     "name": "stdout",
     "output_type": "stream",
     "text": [
      "['Краснодар' 'Москва' 'Стерлитамак' 'Новокузнецк' 'Набережные Челны'\n",
      " 'Ульяновск' 'Челябинск' 'Пермь' 'Тюмень' 'Самара' 'Санкт-Петербург'\n",
      " 'Иваново' 'Чебоксары' 'Омск' 'Уфа' 'Томск' 'Чита' 'Мурманск'\n",
      " 'Петрозаводск' 'Тверь' 'Екатеринбург' 'Махачкала' 'Вологда' 'Череповец'\n",
      " 'Ярославль' 'Сочи' 'Хабаровск' 'Ставрополь' 'Рязань' 'Улан-Удэ' 'Тула'\n",
      " 'Саратов' 'Ростов-на-Дону' 'Казань' 'Иркутск' 'Курск' 'Калуга' 'Якутск'\n",
      " 'Астрахань' 'Химки' 'Владикавказ' 'Волгоград' 'Саранск' 'Ижевск'\n",
      " 'Новосибирск' 'Брянск' 'Тольятти' 'Нижний Тагил' 'Орёл' 'Белгород'\n",
      " 'Воронеж' 'Курган' 'Барнаул' 'Красноярск' 'Архангельск' 'Липецк'\n",
      " 'Кемерово' 'Киров' 'Сургут' 'Пенза' 'Волжский' 'Магнитогорск'\n",
      " 'Нижний Новгород' 'Кострома' 'Владивосток' 'Тамбов' 'Балашиха'\n",
      " 'Севастополь' 'Калининград' 'Оренбург' 'Смоленск' 'Нижневартовск'\n",
      " 'Владимир' 'Новороссийск' 'Грозный' 'Подольск']\n"
     ]
    }
   ],
   "source": [
    "print(df_proceeds['city'].unique()) # выводим список уникальных значений по столбцу 'city'"
   ]
  },
  {
   "cell_type": "markdown",
   "metadata": {},
   "source": [
    "Как видим Москва встречается в единственном экземпляре, а значит можно проставить признаки по каждой строке Москва или регион с использованием метода `np.where()`, но для этого необходимо подключить библиотеку `numpy`:"
   ]
  },
  {
   "cell_type": "code",
   "execution_count": 140,
   "metadata": {},
   "outputs": [],
   "source": [
    "import numpy as np # импортируем библиотеку \"numpy\""
   ]
  },
  {
   "cell_type": "code",
   "execution_count": 141,
   "metadata": {},
   "outputs": [
    {
     "name": "stdout",
     "output_type": "stream",
     "text": [
      "['Регион' 'Москва']\n"
     ]
    }
   ],
   "source": [
    "df_proceeds['regions'] = np.where(df_proceeds['city'] == 'Москва', 'Москва', 'Регион') # проставляем признаки в новый столбец\n",
    "print(df_proceeds['regions'].unique()) # проверяем уникальные значения в новом столбце"
   ]
  },
  {
   "cell_type": "markdown",
   "metadata": {},
   "source": [
    "Создаем две выборки по Москве и регионам:"
   ]
  },
  {
   "cell_type": "code",
   "execution_count": 142,
   "metadata": {},
   "outputs": [],
   "source": [
    "moscow = df_proceeds[df_proceeds['regions'] == 'Москва'] # выборка по Москве\n",
    "regions = df_proceeds[df_proceeds['regions'] == 'Регион'] # выборка по другим регионам"
   ]
  },
  {
   "cell_type": "markdown",
   "metadata": {},
   "source": [
    "Применим функцию удаления выбросов к новым датасетам:"
   ]
  },
  {
   "cell_type": "code",
   "execution_count": 143,
   "metadata": {},
   "outputs": [],
   "source": [
    "# применяем функцию к датасету по Москве\n",
    "moscow = outlier_removal(moscow, 'proceeds')\n",
    "moscow = moscow['proceeds']\n",
    "\n",
    "# применяем функцию к датасету по другим регионам\n",
    "regions = outlier_removal(regions, 'proceeds')\n",
    "regions = regions['proceeds']"
   ]
  },
  {
   "cell_type": "markdown",
   "metadata": {},
   "source": [
    "Критический уровень статистической значимости `alpha` оставляем равным 0.05 и применим метод `scipy.stats.ttest_ind`:"
   ]
  },
  {
   "cell_type": "code",
   "execution_count": 144,
   "metadata": {},
   "outputs": [
    {
     "name": "stdout",
     "output_type": "stream",
     "text": [
      "p-значение: 0.29404256281786195\n",
      "Не получилось отвергнуть нулевую гипотезу\n"
     ]
    }
   ],
   "source": [
    "results = st.ttest_ind(moscow, regions) # применяем метод \"scipy.stats.ttest_ind\" к нашим выборкам\n",
    "\n",
    "print('p-значение:', results.pvalue) # выводим p-value из результата\n",
    "\n",
    "if (results.pvalue < alpha): # сравниваем полученный и критический уровни значимости\n",
    "    print(\"Отвергаем нулевую гипотезу\")\n",
    "else:\n",
    "    print(\"Не получилось отвергнуть нулевую гипотезу\")"
   ]
  },
  {
   "cell_type": "markdown",
   "metadata": {},
   "source": [
    "Как видим мы получили вероятность порядка 30%, что результат может быть получен совершенно случайно и из этого следует, что значимых различий нет. Нулевую гипотезу отвергнуть не получается. Таким образом, верно утверждение, что средняя выручка потребителей из Москвы не отличается от выручки потребителей из других регионов."
   ]
  },
  {
   "cell_type": "markdown",
   "metadata": {},
   "source": [
    "## Общий вывод\n",
    "\n",
    "Как видно из наших расчетов и сводных таблиц больше потребителей пользуются тарифом `Смарт`, а также на этом тарифе больше проходит трафика, отправляется сообщений и больше проходит звонков. По выручке тоже можно сказать, что по тарифу `Смарт` (выручка составляет порядка 60%) она выше хоть и абонентская плата по тарифу `Ультра` в несколько раз больше.\n",
    "\n",
    "Количество потребителей на тарифе `Смарт` составляет 2229 пользователей, а на тарифе `Ультра` всего 985 пользователей.\n",
    "\n",
    "На тарифе `Смарт` потребители говорят около 420 минут в месяц, а на тарифе `Ультра` 520 минут в месяц. А также на тарифе `Ультра` у потребителей еще остается некоторое количество минут.\n",
    "\n",
    "На тарифе `Смарт` потребители выходят за пределы тарифа больше, а на тарифе `Ультра` остается неиспользованный трафик.\n",
    "\n",
    "Выяснилось, что средняя выручка потребителей из Москвы не отличается от выручки потребителей из других регионов."
   ]
  }
 ],
 "metadata": {
  "ExecuteTimeLog": [
   {
    "duration": 83,
    "start_time": "2021-12-25T08:09:10.187Z"
   },
   {
    "duration": 3,
    "start_time": "2021-12-25T08:36:20.068Z"
   },
   {
    "duration": 589,
    "start_time": "2021-12-25T08:54:47.772Z"
   },
   {
    "duration": 153,
    "start_time": "2021-12-25T08:56:15.139Z"
   },
   {
    "duration": 14,
    "start_time": "2021-12-25T08:56:25.218Z"
   },
   {
    "duration": 12,
    "start_time": "2021-12-25T08:56:46.601Z"
   },
   {
    "duration": 23,
    "start_time": "2021-12-25T08:59:48.217Z"
   },
   {
    "duration": 20,
    "start_time": "2021-12-25T09:03:32.036Z"
   },
   {
    "duration": 10,
    "start_time": "2021-12-25T09:03:44.149Z"
   },
   {
    "duration": 148,
    "start_time": "2021-12-25T09:05:31.397Z"
   },
   {
    "duration": 11,
    "start_time": "2021-12-25T09:05:32.093Z"
   },
   {
    "duration": 22,
    "start_time": "2021-12-25T09:05:36.388Z"
   },
   {
    "duration": 127,
    "start_time": "2021-12-25T09:08:37.354Z"
   },
   {
    "duration": 139,
    "start_time": "2021-12-25T09:09:47.482Z"
   },
   {
    "duration": 139,
    "start_time": "2021-12-25T09:10:11.955Z"
   },
   {
    "duration": 159,
    "start_time": "2021-12-25T09:11:00.074Z"
   },
   {
    "duration": 17,
    "start_time": "2021-12-25T09:12:50.408Z"
   },
   {
    "duration": 3,
    "start_time": "2021-12-25T09:21:37.545Z"
   },
   {
    "duration": 94,
    "start_time": "2021-12-25T09:22:07.897Z"
   },
   {
    "duration": 15,
    "start_time": "2021-12-25T09:23:02.338Z"
   },
   {
    "duration": 22,
    "start_time": "2021-12-25T09:27:31.181Z"
   },
   {
    "duration": 7,
    "start_time": "2021-12-25T09:28:05.277Z"
   },
   {
    "duration": 45,
    "start_time": "2021-12-25T09:28:35.421Z"
   },
   {
    "duration": 2,
    "start_time": "2021-12-25T09:29:04.325Z"
   },
   {
    "duration": 35,
    "start_time": "2021-12-25T09:30:04.532Z"
   },
   {
    "duration": 7,
    "start_time": "2021-12-25T09:30:26.044Z"
   },
   {
    "duration": 25,
    "start_time": "2021-12-25T09:30:46.876Z"
   },
   {
    "duration": 32,
    "start_time": "2021-12-25T09:38:37.521Z"
   },
   {
    "duration": 17,
    "start_time": "2021-12-25T09:40:32.988Z"
   },
   {
    "duration": 15,
    "start_time": "2021-12-25T09:40:51.948Z"
   },
   {
    "duration": 7,
    "start_time": "2021-12-25T09:41:09.180Z"
   },
   {
    "duration": 6,
    "start_time": "2021-12-25T09:41:28.220Z"
   },
   {
    "duration": 51,
    "start_time": "2021-12-25T09:47:26.600Z"
   },
   {
    "duration": 8687,
    "start_time": "2021-12-25T09:47:35.945Z"
   },
   {
    "duration": 231,
    "start_time": "2021-12-25T09:47:47.400Z"
   },
   {
    "duration": 141,
    "start_time": "2021-12-25T09:48:06.800Z"
   },
   {
    "duration": 282,
    "start_time": "2021-12-25T09:48:44.071Z"
   },
   {
    "duration": 137,
    "start_time": "2021-12-25T09:49:15.902Z"
   },
   {
    "duration": 298,
    "start_time": "2021-12-25T09:49:32.383Z"
   },
   {
    "duration": 34,
    "start_time": "2021-12-25T09:49:56.607Z"
   },
   {
    "duration": 7,
    "start_time": "2021-12-25T11:47:42.289Z"
   },
   {
    "duration": 134,
    "start_time": "2021-12-25T12:01:21.329Z"
   },
   {
    "duration": 9,
    "start_time": "2021-12-25T12:01:29.881Z"
   },
   {
    "duration": 15,
    "start_time": "2021-12-25T12:02:19.712Z"
   },
   {
    "duration": 53,
    "start_time": "2021-12-25T12:11:22.042Z"
   },
   {
    "duration": 78,
    "start_time": "2021-12-25T12:11:37.897Z"
   },
   {
    "duration": 158,
    "start_time": "2021-12-25T12:13:29.377Z"
   },
   {
    "duration": 21,
    "start_time": "2021-12-25T12:18:13.876Z"
   },
   {
    "duration": 8,
    "start_time": "2021-12-25T12:18:24.368Z"
   },
   {
    "duration": 54,
    "start_time": "2021-12-25T12:25:08.136Z"
   },
   {
    "duration": 134,
    "start_time": "2021-12-25T12:26:09.975Z"
   },
   {
    "duration": 144,
    "start_time": "2021-12-25T12:26:25.351Z"
   },
   {
    "duration": 130,
    "start_time": "2021-12-25T12:30:33.317Z"
   },
   {
    "duration": 134,
    "start_time": "2021-12-25T12:31:23.068Z"
   },
   {
    "duration": 4,
    "start_time": "2021-12-25T12:32:03.772Z"
   },
   {
    "duration": 3,
    "start_time": "2021-12-25T12:32:12.932Z"
   },
   {
    "duration": 4,
    "start_time": "2021-12-25T12:34:12.811Z"
   },
   {
    "duration": 131,
    "start_time": "2021-12-25T12:37:27.440Z"
   },
   {
    "duration": 164,
    "start_time": "2021-12-25T12:37:59.728Z"
   },
   {
    "duration": 189,
    "start_time": "2021-12-25T12:38:38.624Z"
   },
   {
    "duration": 98,
    "start_time": "2021-12-25T12:39:35.375Z"
   },
   {
    "duration": 185,
    "start_time": "2021-12-25T12:40:06.919Z"
   },
   {
    "duration": 479,
    "start_time": "2021-12-25T12:40:24.331Z"
   },
   {
    "duration": 50,
    "start_time": "2021-12-25T12:40:34.694Z"
   },
   {
    "duration": 51,
    "start_time": "2021-12-25T12:41:00.269Z"
   },
   {
    "duration": 49,
    "start_time": "2021-12-25T12:41:21.070Z"
   },
   {
    "duration": 41,
    "start_time": "2021-12-25T12:41:31.871Z"
   },
   {
    "duration": 98,
    "start_time": "2021-12-25T12:41:49.894Z"
   },
   {
    "duration": 179,
    "start_time": "2021-12-25T12:41:56.022Z"
   },
   {
    "duration": 100,
    "start_time": "2021-12-25T12:42:23.173Z"
   },
   {
    "duration": 101,
    "start_time": "2021-12-25T12:42:31.630Z"
   },
   {
    "duration": 157,
    "start_time": "2021-12-25T12:42:54.029Z"
   },
   {
    "duration": 116,
    "start_time": "2021-12-25T12:43:47.565Z"
   },
   {
    "duration": 106,
    "start_time": "2021-12-25T12:44:37.588Z"
   },
   {
    "duration": 152,
    "start_time": "2021-12-25T12:46:47.867Z"
   },
   {
    "duration": 45,
    "start_time": "2021-12-25T12:47:42.685Z"
   },
   {
    "duration": 44,
    "start_time": "2021-12-25T12:47:47.723Z"
   },
   {
    "duration": 45,
    "start_time": "2021-12-25T12:48:03.508Z"
   },
   {
    "duration": 73,
    "start_time": "2021-12-25T12:48:31.370Z"
   },
   {
    "duration": 43,
    "start_time": "2021-12-25T12:48:34.402Z"
   },
   {
    "duration": 274,
    "start_time": "2021-12-25T12:53:30.831Z"
   },
   {
    "duration": 247,
    "start_time": "2021-12-25T12:53:47.223Z"
   },
   {
    "duration": 22,
    "start_time": "2021-12-25T12:54:02.351Z"
   },
   {
    "duration": 21,
    "start_time": "2021-12-25T12:54:29.646Z"
   },
   {
    "duration": 100,
    "start_time": "2021-12-25T12:54:56.166Z"
   },
   {
    "duration": 3292,
    "start_time": "2021-12-25T12:58:12.748Z"
   },
   {
    "duration": 8,
    "start_time": "2021-12-25T12:58:27.803Z"
   },
   {
    "duration": 99,
    "start_time": "2021-12-25T12:58:44.027Z"
   },
   {
    "duration": 275,
    "start_time": "2021-12-25T15:45:31.684Z"
   },
   {
    "duration": 38,
    "start_time": "2021-12-25T15:45:44.060Z"
   },
   {
    "duration": 12,
    "start_time": "2021-12-25T15:46:04.795Z"
   },
   {
    "duration": 8,
    "start_time": "2021-12-25T15:46:15.212Z"
   },
   {
    "duration": 145,
    "start_time": "2021-12-25T15:46:37.996Z"
   },
   {
    "duration": 9,
    "start_time": "2021-12-25T15:46:49.691Z"
   },
   {
    "duration": 9,
    "start_time": "2021-12-25T15:48:38.122Z"
   },
   {
    "duration": 28,
    "start_time": "2021-12-25T15:50:04.802Z"
   },
   {
    "duration": 26,
    "start_time": "2021-12-25T15:52:18.469Z"
   },
   {
    "duration": 19,
    "start_time": "2021-12-25T15:53:14.454Z"
   },
   {
    "duration": 21,
    "start_time": "2021-12-25T15:53:45.445Z"
   },
   {
    "duration": 29,
    "start_time": "2021-12-25T15:53:51.021Z"
   },
   {
    "duration": 140,
    "start_time": "2021-12-25T16:02:46.248Z"
   },
   {
    "duration": 45,
    "start_time": "2021-12-25T16:03:42.816Z"
   },
   {
    "duration": 193,
    "start_time": "2021-12-25T16:03:48.462Z"
   },
   {
    "duration": 172,
    "start_time": "2021-12-25T16:05:38.919Z"
   },
   {
    "duration": 243,
    "start_time": "2021-12-25T16:05:51.191Z"
   },
   {
    "duration": 4,
    "start_time": "2021-12-25T16:05:54.861Z"
   },
   {
    "duration": 139,
    "start_time": "2021-12-25T16:06:22.109Z"
   },
   {
    "duration": 87,
    "start_time": "2021-12-25T16:06:40.302Z"
   },
   {
    "duration": 23,
    "start_time": "2021-12-25T16:18:09.669Z"
   },
   {
    "duration": 24,
    "start_time": "2021-12-25T16:18:23.855Z"
   },
   {
    "duration": 25,
    "start_time": "2021-12-25T16:18:59.182Z"
   },
   {
    "duration": 24,
    "start_time": "2021-12-25T16:19:11.973Z"
   },
   {
    "duration": 24,
    "start_time": "2021-12-25T16:19:16.357Z"
   },
   {
    "duration": 26,
    "start_time": "2021-12-25T16:19:20.013Z"
   },
   {
    "duration": 153,
    "start_time": "2021-12-25T16:19:39.326Z"
   },
   {
    "duration": 24,
    "start_time": "2021-12-25T16:19:48.605Z"
   },
   {
    "duration": 19,
    "start_time": "2021-12-25T16:23:39.587Z"
   },
   {
    "duration": 19,
    "start_time": "2021-12-25T16:23:58.762Z"
   },
   {
    "duration": 21,
    "start_time": "2021-12-25T16:24:11.682Z"
   },
   {
    "duration": 23,
    "start_time": "2021-12-25T16:25:19.192Z"
   },
   {
    "duration": 20,
    "start_time": "2021-12-25T16:25:34.049Z"
   },
   {
    "duration": 21,
    "start_time": "2021-12-25T16:25:48.696Z"
   },
   {
    "duration": 22,
    "start_time": "2021-12-25T16:31:46.372Z"
   },
   {
    "duration": 25,
    "start_time": "2021-12-25T16:36:15.273Z"
   },
   {
    "duration": 44,
    "start_time": "2021-12-25T16:40:07.134Z"
   },
   {
    "duration": 55,
    "start_time": "2021-12-25T16:41:03.640Z"
   },
   {
    "duration": 66,
    "start_time": "2021-12-25T16:41:16.902Z"
   },
   {
    "duration": 43,
    "start_time": "2021-12-25T16:42:11.087Z"
   },
   {
    "duration": 51,
    "start_time": "2021-12-25T16:42:32.493Z"
   },
   {
    "duration": 44,
    "start_time": "2021-12-25T16:42:46.117Z"
   },
   {
    "duration": 46,
    "start_time": "2021-12-25T16:42:50.173Z"
   },
   {
    "duration": 22,
    "start_time": "2021-12-25T16:43:07.406Z"
   },
   {
    "duration": 20,
    "start_time": "2021-12-25T16:43:13.708Z"
   },
   {
    "duration": 20,
    "start_time": "2021-12-25T16:44:16.165Z"
   },
   {
    "duration": 20,
    "start_time": "2021-12-25T16:44:40.893Z"
   },
   {
    "duration": 3589,
    "start_time": "2021-12-25T16:48:52.035Z"
   },
   {
    "duration": 19,
    "start_time": "2021-12-25T16:49:22.882Z"
   },
   {
    "duration": 16,
    "start_time": "2021-12-25T16:50:06.602Z"
   },
   {
    "duration": 19,
    "start_time": "2021-12-25T16:53:02.815Z"
   },
   {
    "duration": 17,
    "start_time": "2021-12-25T16:53:20.424Z"
   },
   {
    "duration": 20,
    "start_time": "2021-12-25T16:56:46.309Z"
   },
   {
    "duration": 19,
    "start_time": "2021-12-25T16:57:47.093Z"
   },
   {
    "duration": 22,
    "start_time": "2021-12-25T17:03:25.072Z"
   },
   {
    "duration": 9,
    "start_time": "2021-12-25T17:05:58.240Z"
   },
   {
    "duration": 8,
    "start_time": "2021-12-25T17:06:29.631Z"
   },
   {
    "duration": 9,
    "start_time": "2021-12-25T17:06:54.367Z"
   },
   {
    "duration": 10,
    "start_time": "2021-12-25T17:07:10.463Z"
   },
   {
    "duration": 9,
    "start_time": "2021-12-25T17:08:03.854Z"
   },
   {
    "duration": 10,
    "start_time": "2021-12-25T17:08:15.127Z"
   },
   {
    "duration": 15,
    "start_time": "2021-12-25T17:13:47.355Z"
   },
   {
    "duration": 12,
    "start_time": "2021-12-25T17:14:20.010Z"
   },
   {
    "duration": 15,
    "start_time": "2021-12-25T17:16:47.001Z"
   },
   {
    "duration": 24,
    "start_time": "2021-12-25T17:19:31.713Z"
   },
   {
    "duration": 156,
    "start_time": "2021-12-25T17:21:04.623Z"
   },
   {
    "duration": 162,
    "start_time": "2021-12-25T17:22:01.879Z"
   },
   {
    "duration": 179,
    "start_time": "2021-12-25T17:22:53.103Z"
   },
   {
    "duration": 8,
    "start_time": "2021-12-25T17:23:16.311Z"
   },
   {
    "duration": 157,
    "start_time": "2021-12-25T17:23:49.941Z"
   },
   {
    "duration": 168,
    "start_time": "2021-12-25T17:24:55.421Z"
   },
   {
    "duration": 10,
    "start_time": "2021-12-25T17:27:56.411Z"
   },
   {
    "duration": 25,
    "start_time": "2021-12-25T17:33:01.967Z"
   },
   {
    "duration": 18,
    "start_time": "2021-12-25T17:33:08.201Z"
   },
   {
    "duration": 5,
    "start_time": "2021-12-25T17:38:58.044Z"
   },
   {
    "duration": 5,
    "start_time": "2021-12-25T17:40:07.084Z"
   },
   {
    "duration": 8,
    "start_time": "2021-12-25T17:46:16.360Z"
   },
   {
    "duration": 8,
    "start_time": "2021-12-25T17:46:38.872Z"
   },
   {
    "duration": 8,
    "start_time": "2021-12-25T17:46:47.368Z"
   },
   {
    "duration": 8,
    "start_time": "2021-12-25T17:46:58.424Z"
   },
   {
    "duration": 15,
    "start_time": "2021-12-25T17:50:19.789Z"
   },
   {
    "duration": 19,
    "start_time": "2021-12-25T17:52:42.916Z"
   },
   {
    "duration": 8,
    "start_time": "2021-12-25T17:52:49.005Z"
   },
   {
    "duration": 3,
    "start_time": "2021-12-25T17:52:57.664Z"
   },
   {
    "duration": 144,
    "start_time": "2021-12-25T17:52:57.917Z"
   },
   {
    "duration": 34,
    "start_time": "2021-12-25T17:52:58.063Z"
   },
   {
    "duration": 21,
    "start_time": "2021-12-25T17:52:58.100Z"
   },
   {
    "duration": 133,
    "start_time": "2021-12-25T17:52:58.334Z"
   },
   {
    "duration": 27,
    "start_time": "2021-12-25T17:52:58.469Z"
   },
   {
    "duration": 17,
    "start_time": "2021-12-25T17:52:58.502Z"
   },
   {
    "duration": 92,
    "start_time": "2021-12-25T17:52:58.754Z"
   },
   {
    "duration": 13,
    "start_time": "2021-12-25T17:52:58.848Z"
   },
   {
    "duration": 14,
    "start_time": "2021-12-25T17:52:58.921Z"
   },
   {
    "duration": 22,
    "start_time": "2021-12-25T17:52:59.171Z"
   },
   {
    "duration": 7,
    "start_time": "2021-12-25T17:52:59.254Z"
   },
   {
    "duration": 6,
    "start_time": "2021-12-25T17:52:59.338Z"
   },
   {
    "duration": 38,
    "start_time": "2021-12-25T17:52:59.589Z"
   },
   {
    "duration": 7,
    "start_time": "2021-12-25T17:52:59.679Z"
   },
   {
    "duration": 6,
    "start_time": "2021-12-25T17:52:59.756Z"
   },
   {
    "duration": 8,
    "start_time": "2021-12-25T17:53:00.260Z"
   },
   {
    "duration": 15,
    "start_time": "2021-12-25T17:53:00.344Z"
   },
   {
    "duration": 187,
    "start_time": "2021-12-25T17:53:00.677Z"
   },
   {
    "duration": 57,
    "start_time": "2021-12-25T17:53:01.094Z"
   },
   {
    "duration": 4,
    "start_time": "2021-12-25T17:53:01.179Z"
   },
   {
    "duration": 62,
    "start_time": "2021-12-25T17:53:01.513Z"
   },
   {
    "duration": 25,
    "start_time": "2021-12-25T17:53:02.016Z"
   },
   {
    "duration": 10,
    "start_time": "2021-12-25T17:53:02.100Z"
   },
   {
    "duration": 29,
    "start_time": "2021-12-25T17:53:02.269Z"
   },
   {
    "duration": 17,
    "start_time": "2021-12-25T17:53:02.604Z"
   },
   {
    "duration": 9,
    "start_time": "2021-12-25T17:53:02.688Z"
   },
   {
    "duration": 18,
    "start_time": "2021-12-25T17:53:02.855Z"
   },
   {
    "duration": 18,
    "start_time": "2021-12-25T17:53:03.191Z"
   },
   {
    "duration": 9,
    "start_time": "2021-12-25T17:53:03.281Z"
   },
   {
    "duration": 21,
    "start_time": "2021-12-25T17:53:03.443Z"
   },
   {
    "duration": 20,
    "start_time": "2021-12-25T17:53:03.693Z"
   },
   {
    "duration": 8,
    "start_time": "2021-12-25T17:53:03.860Z"
   },
   {
    "duration": 5,
    "start_time": "2021-12-25T17:53:03.949Z"
   },
   {
    "duration": 10,
    "start_time": "2021-12-25T17:53:04.110Z"
   },
   {
    "duration": 18,
    "start_time": "2021-12-25T17:53:04.195Z"
   },
   {
    "duration": 8,
    "start_time": "2021-12-25T17:53:04.279Z"
   },
   {
    "duration": 16,
    "start_time": "2021-12-25T17:54:05.532Z"
   },
   {
    "duration": 7,
    "start_time": "2021-12-25T17:54:08.786Z"
   },
   {
    "duration": 5,
    "start_time": "2021-12-25T17:55:59.538Z"
   },
   {
    "duration": 3247,
    "start_time": "2021-12-25T17:56:45.289Z"
   },
   {
    "duration": 3227,
    "start_time": "2021-12-25T17:56:53.626Z"
   },
   {
    "duration": 136,
    "start_time": "2021-12-25T17:57:14.186Z"
   },
   {
    "duration": 41,
    "start_time": "2021-12-25T17:57:38.545Z"
   },
   {
    "duration": 19,
    "start_time": "2021-12-25T17:57:48.937Z"
   },
   {
    "duration": 149,
    "start_time": "2021-12-25T17:58:32.472Z"
   },
   {
    "duration": 10,
    "start_time": "2021-12-25T17:58:39.176Z"
   },
   {
    "duration": 10,
    "start_time": "2021-12-25T18:00:22.087Z"
   },
   {
    "duration": 20,
    "start_time": "2021-12-25T18:00:23.606Z"
   },
   {
    "duration": 7,
    "start_time": "2021-12-25T18:00:25.047Z"
   },
   {
    "duration": 3,
    "start_time": "2021-12-25T18:00:31.563Z"
   },
   {
    "duration": 145,
    "start_time": "2021-12-25T18:00:31.817Z"
   },
   {
    "duration": 27,
    "start_time": "2021-12-25T18:00:31.964Z"
   },
   {
    "duration": 20,
    "start_time": "2021-12-25T18:00:31.993Z"
   },
   {
    "duration": 139,
    "start_time": "2021-12-25T18:00:32.235Z"
   },
   {
    "duration": 32,
    "start_time": "2021-12-25T18:00:32.376Z"
   },
   {
    "duration": 17,
    "start_time": "2021-12-25T18:00:32.411Z"
   },
   {
    "duration": 96,
    "start_time": "2021-12-25T18:00:32.654Z"
   },
   {
    "duration": 14,
    "start_time": "2021-12-25T18:00:32.752Z"
   },
   {
    "duration": 14,
    "start_time": "2021-12-25T18:00:32.832Z"
   },
   {
    "duration": 26,
    "start_time": "2021-12-25T18:00:33.074Z"
   },
   {
    "duration": 9,
    "start_time": "2021-12-25T18:00:33.168Z"
   },
   {
    "duration": 6,
    "start_time": "2021-12-25T18:00:33.240Z"
   },
   {
    "duration": 38,
    "start_time": "2021-12-25T18:00:33.492Z"
   },
   {
    "duration": 7,
    "start_time": "2021-12-25T18:00:33.579Z"
   },
   {
    "duration": 6,
    "start_time": "2021-12-25T18:00:33.658Z"
   },
   {
    "duration": 8,
    "start_time": "2021-12-25T18:00:34.161Z"
   },
   {
    "duration": 15,
    "start_time": "2021-12-25T18:00:34.246Z"
   },
   {
    "duration": 175,
    "start_time": "2021-12-25T18:00:34.582Z"
   },
   {
    "duration": 55,
    "start_time": "2021-12-25T18:00:35.002Z"
   },
   {
    "duration": 5,
    "start_time": "2021-12-25T18:00:35.088Z"
   },
   {
    "duration": 60,
    "start_time": "2021-12-25T18:00:35.423Z"
   },
   {
    "duration": 24,
    "start_time": "2021-12-25T18:00:35.925Z"
   },
   {
    "duration": 9,
    "start_time": "2021-12-25T18:00:36.008Z"
   },
   {
    "duration": 24,
    "start_time": "2021-12-25T18:00:36.175Z"
   },
   {
    "duration": 17,
    "start_time": "2021-12-25T18:00:36.508Z"
   },
   {
    "duration": 8,
    "start_time": "2021-12-25T18:00:36.591Z"
   },
   {
    "duration": 18,
    "start_time": "2021-12-25T18:00:36.759Z"
   },
   {
    "duration": 20,
    "start_time": "2021-12-25T18:00:37.094Z"
   },
   {
    "duration": 10,
    "start_time": "2021-12-25T18:00:37.178Z"
   },
   {
    "duration": 22,
    "start_time": "2021-12-25T18:00:37.345Z"
   },
   {
    "duration": 20,
    "start_time": "2021-12-25T18:00:37.597Z"
   },
   {
    "duration": 9,
    "start_time": "2021-12-25T18:00:37.764Z"
   },
   {
    "duration": 5,
    "start_time": "2021-12-25T18:00:37.849Z"
   },
   {
    "duration": 9,
    "start_time": "2021-12-25T18:00:38.016Z"
   },
   {
    "duration": 18,
    "start_time": "2021-12-25T18:00:38.100Z"
   },
   {
    "duration": 7,
    "start_time": "2021-12-25T18:00:38.183Z"
   },
   {
    "duration": 12,
    "start_time": "2021-12-25T18:00:38.268Z"
   },
   {
    "duration": 2,
    "start_time": "2021-12-25T18:18:41.695Z"
   },
   {
    "duration": 146,
    "start_time": "2021-12-25T18:18:41.946Z"
   },
   {
    "duration": 19,
    "start_time": "2021-12-25T18:18:42.094Z"
   },
   {
    "duration": 18,
    "start_time": "2021-12-25T18:18:42.116Z"
   },
   {
    "duration": 130,
    "start_time": "2021-12-25T18:18:42.364Z"
   },
   {
    "duration": 17,
    "start_time": "2021-12-25T18:18:42.496Z"
   },
   {
    "duration": 15,
    "start_time": "2021-12-25T18:18:42.532Z"
   },
   {
    "duration": 88,
    "start_time": "2021-12-25T18:18:42.784Z"
   },
   {
    "duration": 17,
    "start_time": "2021-12-25T18:18:42.874Z"
   },
   {
    "duration": 14,
    "start_time": "2021-12-25T18:18:42.956Z"
   },
   {
    "duration": 21,
    "start_time": "2021-12-25T18:18:43.201Z"
   },
   {
    "duration": 6,
    "start_time": "2021-12-25T18:18:43.288Z"
   },
   {
    "duration": 5,
    "start_time": "2021-12-25T18:18:43.367Z"
   },
   {
    "duration": 38,
    "start_time": "2021-12-25T18:18:43.619Z"
   },
   {
    "duration": 7,
    "start_time": "2021-12-25T18:18:43.703Z"
   },
   {
    "duration": 6,
    "start_time": "2021-12-25T18:18:43.787Z"
   },
   {
    "duration": 7,
    "start_time": "2021-12-25T18:18:44.291Z"
   },
   {
    "duration": 16,
    "start_time": "2021-12-25T18:18:44.378Z"
   },
   {
    "duration": 158,
    "start_time": "2021-12-25T18:18:44.710Z"
   },
   {
    "duration": 56,
    "start_time": "2021-12-25T18:18:45.130Z"
   },
   {
    "duration": 5,
    "start_time": "2021-12-25T18:18:45.213Z"
   },
   {
    "duration": 61,
    "start_time": "2021-12-25T18:18:45.548Z"
   },
   {
    "duration": 24,
    "start_time": "2021-12-25T18:18:46.048Z"
   },
   {
    "duration": 9,
    "start_time": "2021-12-25T18:18:46.132Z"
   },
   {
    "duration": 25,
    "start_time": "2021-12-25T18:18:46.299Z"
   },
   {
    "duration": 17,
    "start_time": "2021-12-25T18:18:46.633Z"
   },
   {
    "duration": 9,
    "start_time": "2021-12-25T18:18:46.717Z"
   },
   {
    "duration": 18,
    "start_time": "2021-12-25T18:18:46.885Z"
   },
   {
    "duration": 20,
    "start_time": "2021-12-25T18:18:47.219Z"
   },
   {
    "duration": 9,
    "start_time": "2021-12-25T18:18:47.303Z"
   },
   {
    "duration": 21,
    "start_time": "2021-12-25T18:18:47.472Z"
   },
   {
    "duration": 18,
    "start_time": "2021-12-25T18:18:47.724Z"
   },
   {
    "duration": 9,
    "start_time": "2021-12-25T18:18:47.892Z"
   },
   {
    "duration": 4,
    "start_time": "2021-12-25T18:18:47.977Z"
   },
   {
    "duration": 8,
    "start_time": "2021-12-25T18:18:48.144Z"
   },
   {
    "duration": 16,
    "start_time": "2021-12-25T18:18:48.229Z"
   },
   {
    "duration": 8,
    "start_time": "2021-12-25T18:18:48.316Z"
   },
   {
    "duration": 13,
    "start_time": "2021-12-25T18:18:48.398Z"
   },
   {
    "duration": 6,
    "start_time": "2021-12-25T18:39:33.949Z"
   },
   {
    "duration": 8,
    "start_time": "2021-12-25T18:42:49.579Z"
   },
   {
    "duration": 135,
    "start_time": "2021-12-25T18:57:01.499Z"
   },
   {
    "duration": 133,
    "start_time": "2021-12-25T18:57:11.507Z"
   },
   {
    "duration": 11,
    "start_time": "2021-12-25T18:57:18.538Z"
   },
   {
    "duration": 9,
    "start_time": "2021-12-25T18:59:08.905Z"
   },
   {
    "duration": 8,
    "start_time": "2021-12-25T18:59:17.393Z"
   },
   {
    "duration": 41,
    "start_time": "2021-12-25T19:01:11.281Z"
   },
   {
    "duration": 9,
    "start_time": "2021-12-25T19:01:15.952Z"
   },
   {
    "duration": 16,
    "start_time": "2021-12-25T19:21:03.020Z"
   },
   {
    "duration": 4,
    "start_time": "2021-12-25T19:30:17.550Z"
   },
   {
    "duration": 146,
    "start_time": "2021-12-25T19:34:25.340Z"
   },
   {
    "duration": 2,
    "start_time": "2021-12-25T19:34:36.067Z"
   },
   {
    "duration": 2,
    "start_time": "2021-12-25T19:35:58.018Z"
   },
   {
    "duration": 5,
    "start_time": "2021-12-25T19:58:06.308Z"
   },
   {
    "duration": 4578,
    "start_time": "2021-12-25T20:00:57.554Z"
   },
   {
    "duration": 5,
    "start_time": "2021-12-25T20:02:20.417Z"
   },
   {
    "duration": 3,
    "start_time": "2021-12-25T20:02:24.368Z"
   },
   {
    "duration": 193,
    "start_time": "2021-12-25T20:02:26.225Z"
   },
   {
    "duration": 5,
    "start_time": "2021-12-25T20:02:37.210Z"
   },
   {
    "duration": 5,
    "start_time": "2021-12-25T20:02:48.024Z"
   },
   {
    "duration": 9,
    "start_time": "2021-12-25T20:03:02.281Z"
   },
   {
    "duration": 4,
    "start_time": "2021-12-25T20:10:04.434Z"
   },
   {
    "duration": 256,
    "start_time": "2021-12-25T20:11:38.675Z"
   },
   {
    "duration": 12,
    "start_time": "2021-12-25T20:14:55.087Z"
   },
   {
    "duration": 9,
    "start_time": "2021-12-25T20:15:27.543Z"
   },
   {
    "duration": 9,
    "start_time": "2021-12-25T20:16:18.878Z"
   },
   {
    "duration": 141,
    "start_time": "2021-12-25T20:52:32.852Z"
   },
   {
    "duration": 160,
    "start_time": "2021-12-25T20:52:38.804Z"
   },
   {
    "duration": 13,
    "start_time": "2021-12-25T20:52:47.603Z"
   },
   {
    "duration": 16,
    "start_time": "2021-12-25T20:54:14.619Z"
   },
   {
    "duration": 136,
    "start_time": "2021-12-25T20:55:48.425Z"
   },
   {
    "duration": 14,
    "start_time": "2021-12-25T20:56:08.297Z"
   },
   {
    "duration": 12,
    "start_time": "2021-12-25T20:57:08.936Z"
   },
   {
    "duration": 15,
    "start_time": "2021-12-25T20:58:20.664Z"
   },
   {
    "duration": 12,
    "start_time": "2021-12-25T21:03:56.547Z"
   },
   {
    "duration": 194,
    "start_time": "2021-12-25T21:07:12.937Z"
   },
   {
    "duration": 414,
    "start_time": "2021-12-25T21:07:30.105Z"
   },
   {
    "duration": 250,
    "start_time": "2021-12-25T21:07:41.921Z"
   },
   {
    "duration": 194,
    "start_time": "2021-12-25T21:10:12.543Z"
   },
   {
    "duration": 12,
    "start_time": "2021-12-25T21:12:32.462Z"
   },
   {
    "duration": 18,
    "start_time": "2021-12-25T21:12:44.094Z"
   },
   {
    "duration": 324,
    "start_time": "2021-12-25T21:20:31.304Z"
   },
   {
    "duration": 3,
    "start_time": "2021-12-25T21:21:50.488Z"
   },
   {
    "duration": 318,
    "start_time": "2021-12-25T21:21:51.583Z"
   },
   {
    "duration": 183,
    "start_time": "2021-12-25T21:22:02.678Z"
   },
   {
    "duration": 180,
    "start_time": "2021-12-25T21:22:18.638Z"
   },
   {
    "duration": 174,
    "start_time": "2021-12-25T21:28:23.290Z"
   },
   {
    "duration": 202,
    "start_time": "2021-12-25T21:28:52.441Z"
   },
   {
    "duration": 344,
    "start_time": "2021-12-25T21:40:00.378Z"
   },
   {
    "duration": 18,
    "start_time": "2021-12-25T21:40:25.298Z"
   },
   {
    "duration": 14,
    "start_time": "2021-12-25T21:40:53.699Z"
   },
   {
    "duration": 187,
    "start_time": "2021-12-25T21:43:20.208Z"
   },
   {
    "duration": 189,
    "start_time": "2021-12-25T21:43:47.472Z"
   },
   {
    "duration": 227,
    "start_time": "2021-12-25T22:08:49.708Z"
   },
   {
    "duration": 206,
    "start_time": "2021-12-25T22:09:05.500Z"
   },
   {
    "duration": 206,
    "start_time": "2021-12-25T22:11:18.378Z"
   },
   {
    "duration": 203,
    "start_time": "2021-12-25T22:11:27.265Z"
   },
   {
    "duration": 15,
    "start_time": "2021-12-25T22:15:08.495Z"
   },
   {
    "duration": 17,
    "start_time": "2021-12-25T22:16:26.382Z"
   },
   {
    "duration": 16,
    "start_time": "2021-12-25T22:16:41.997Z"
   },
   {
    "duration": 193,
    "start_time": "2021-12-25T22:20:16.498Z"
   },
   {
    "duration": 189,
    "start_time": "2021-12-25T22:20:23.234Z"
   },
   {
    "duration": 192,
    "start_time": "2021-12-25T22:32:08.923Z"
   },
   {
    "duration": 195,
    "start_time": "2021-12-25T22:32:41.146Z"
   },
   {
    "duration": 198,
    "start_time": "2021-12-25T22:32:47.666Z"
   },
   {
    "duration": 212,
    "start_time": "2021-12-25T22:32:53.753Z"
   },
   {
    "duration": 305,
    "start_time": "2021-12-25T22:32:58.033Z"
   },
   {
    "duration": 189,
    "start_time": "2021-12-25T22:33:01.513Z"
   },
   {
    "duration": 204,
    "start_time": "2021-12-25T22:33:40.098Z"
   },
   {
    "duration": 15,
    "start_time": "2021-12-25T22:34:01.114Z"
   },
   {
    "duration": 193,
    "start_time": "2021-12-25T22:39:17.829Z"
   },
   {
    "duration": 197,
    "start_time": "2021-12-25T22:39:40.445Z"
   },
   {
    "duration": 24,
    "start_time": "2021-12-25T22:40:09.164Z"
   },
   {
    "duration": 50,
    "start_time": "2021-12-25T22:45:07.616Z"
   },
   {
    "duration": 4,
    "start_time": "2021-12-25T23:06:18.643Z"
   },
   {
    "duration": 5,
    "start_time": "2021-12-25T23:22:59.421Z"
   },
   {
    "duration": 8,
    "start_time": "2021-12-25T23:26:37.540Z"
   },
   {
    "duration": 8,
    "start_time": "2021-12-25T23:28:03.738Z"
   },
   {
    "duration": 381,
    "start_time": "2021-12-25T23:29:44.241Z"
   },
   {
    "duration": 4,
    "start_time": "2021-12-25T23:32:58.925Z"
   },
   {
    "duration": 7,
    "start_time": "2021-12-25T23:33:01.271Z"
   },
   {
    "duration": 143,
    "start_time": "2021-12-25T23:33:02.592Z"
   },
   {
    "duration": 145,
    "start_time": "2021-12-25T23:33:05.449Z"
   },
   {
    "duration": 7,
    "start_time": "2021-12-25T23:33:20.943Z"
   },
   {
    "duration": 8,
    "start_time": "2021-12-25T23:33:23.103Z"
   },
   {
    "duration": 1966,
    "start_time": "2021-12-25T23:35:07.734Z"
   },
   {
    "duration": 1827,
    "start_time": "2021-12-25T23:35:48.637Z"
   },
   {
    "duration": 2,
    "start_time": "2021-12-25T23:36:33.085Z"
   },
   {
    "duration": 3,
    "start_time": "2021-12-25T23:36:41.072Z"
   },
   {
    "duration": 158,
    "start_time": "2021-12-25T23:36:41.324Z"
   },
   {
    "duration": 25,
    "start_time": "2021-12-25T23:36:41.483Z"
   },
   {
    "duration": 20,
    "start_time": "2021-12-25T23:36:41.510Z"
   },
   {
    "duration": 135,
    "start_time": "2021-12-25T23:36:41.743Z"
   },
   {
    "duration": 20,
    "start_time": "2021-12-25T23:36:41.881Z"
   },
   {
    "duration": 16,
    "start_time": "2021-12-25T23:36:41.909Z"
   },
   {
    "duration": 92,
    "start_time": "2021-12-25T23:36:42.163Z"
   },
   {
    "duration": 14,
    "start_time": "2021-12-25T23:36:42.257Z"
   },
   {
    "duration": 14,
    "start_time": "2021-12-25T23:36:42.329Z"
   },
   {
    "duration": 23,
    "start_time": "2021-12-25T23:36:42.582Z"
   },
   {
    "duration": 7,
    "start_time": "2021-12-25T23:36:42.667Z"
   },
   {
    "duration": 7,
    "start_time": "2021-12-25T23:36:42.751Z"
   },
   {
    "duration": 38,
    "start_time": "2021-12-25T23:36:43.002Z"
   },
   {
    "duration": 6,
    "start_time": "2021-12-25T23:36:43.094Z"
   },
   {
    "duration": 6,
    "start_time": "2021-12-25T23:36:43.173Z"
   },
   {
    "duration": 8,
    "start_time": "2021-12-25T23:36:43.671Z"
   },
   {
    "duration": 15,
    "start_time": "2021-12-25T23:36:43.758Z"
   },
   {
    "duration": 158,
    "start_time": "2021-12-25T23:36:44.087Z"
   },
   {
    "duration": 53,
    "start_time": "2021-12-25T23:36:44.505Z"
   },
   {
    "duration": 5,
    "start_time": "2021-12-25T23:36:44.588Z"
   },
   {
    "duration": 62,
    "start_time": "2021-12-25T23:36:44.921Z"
   },
   {
    "duration": 26,
    "start_time": "2021-12-25T23:36:45.422Z"
   },
   {
    "duration": 9,
    "start_time": "2021-12-25T23:36:45.523Z"
   },
   {
    "duration": 25,
    "start_time": "2021-12-25T23:36:45.673Z"
   },
   {
    "duration": 17,
    "start_time": "2021-12-25T23:36:46.007Z"
   },
   {
    "duration": 8,
    "start_time": "2021-12-25T23:36:46.092Z"
   },
   {
    "duration": 19,
    "start_time": "2021-12-25T23:36:46.257Z"
   },
   {
    "duration": 20,
    "start_time": "2021-12-25T23:36:46.594Z"
   },
   {
    "duration": 11,
    "start_time": "2021-12-25T23:36:46.677Z"
   },
   {
    "duration": 21,
    "start_time": "2021-12-25T23:36:46.844Z"
   },
   {
    "duration": 19,
    "start_time": "2021-12-25T23:36:47.097Z"
   },
   {
    "duration": 9,
    "start_time": "2021-12-25T23:36:47.263Z"
   },
   {
    "duration": 5,
    "start_time": "2021-12-25T23:36:47.349Z"
   },
   {
    "duration": 10,
    "start_time": "2021-12-25T23:36:47.514Z"
   },
   {
    "duration": 16,
    "start_time": "2021-12-25T23:36:47.600Z"
   },
   {
    "duration": 10,
    "start_time": "2021-12-25T23:36:47.766Z"
   },
   {
    "duration": 9,
    "start_time": "2021-12-25T23:36:47.935Z"
   },
   {
    "duration": 11,
    "start_time": "2021-12-25T23:36:48.101Z"
   },
   {
    "duration": 6,
    "start_time": "2021-12-25T23:36:48.268Z"
   },
   {
    "duration": 3,
    "start_time": "2021-12-25T23:36:48.436Z"
   },
   {
    "duration": 202,
    "start_time": "2021-12-25T23:36:48.603Z"
   },
   {
    "duration": 9,
    "start_time": "2021-12-25T23:36:48.806Z"
   },
   {
    "duration": 12,
    "start_time": "2021-12-25T23:36:49.189Z"
   },
   {
    "duration": 16,
    "start_time": "2021-12-25T23:36:49.357Z"
   },
   {
    "duration": 3,
    "start_time": "2021-12-25T23:36:49.691Z"
   },
   {
    "duration": 178,
    "start_time": "2021-12-25T23:36:49.776Z"
   },
   {
    "duration": 203,
    "start_time": "2021-12-25T23:36:49.956Z"
   },
   {
    "duration": 15,
    "start_time": "2021-12-25T23:36:50.161Z"
   },
   {
    "duration": 213,
    "start_time": "2021-12-25T23:36:50.190Z"
   },
   {
    "duration": 210,
    "start_time": "2021-12-25T23:36:50.404Z"
   },
   {
    "duration": 14,
    "start_time": "2021-12-25T23:36:50.616Z"
   },
   {
    "duration": 213,
    "start_time": "2021-12-25T23:36:50.632Z"
   },
   {
    "duration": 217,
    "start_time": "2021-12-25T23:36:50.846Z"
   },
   {
    "duration": 15,
    "start_time": "2021-12-25T23:36:51.064Z"
   },
   {
    "duration": 207,
    "start_time": "2021-12-25T23:36:51.080Z"
   },
   {
    "duration": 318,
    "start_time": "2021-12-25T23:36:51.291Z"
   },
   {
    "duration": 15,
    "start_time": "2021-12-25T23:36:51.611Z"
   },
   {
    "duration": 4,
    "start_time": "2021-12-25T23:36:51.704Z"
   },
   {
    "duration": 6,
    "start_time": "2021-12-25T23:36:51.870Z"
   },
   {
    "duration": 11,
    "start_time": "2021-12-25T23:36:52.038Z"
   },
   {
    "duration": 3,
    "start_time": "2021-12-25T23:36:52.125Z"
   },
   {
    "duration": 359,
    "start_time": "2021-12-25T23:48:20.773Z"
   },
   {
    "duration": 3,
    "start_time": "2021-12-25T23:48:42.150Z"
   },
   {
    "duration": 3,
    "start_time": "2021-12-25T23:49:26.957Z"
   },
   {
    "duration": 5,
    "start_time": "2021-12-25T23:58:31.528Z"
   },
   {
    "duration": 19,
    "start_time": "2021-12-26T00:03:16.924Z"
   },
   {
    "duration": 203,
    "start_time": "2021-12-26T00:10:51.220Z"
   },
   {
    "duration": 4,
    "start_time": "2021-12-26T00:11:05.326Z"
   },
   {
    "duration": 5,
    "start_time": "2021-12-26T00:11:16.133Z"
   },
   {
    "duration": 5,
    "start_time": "2021-12-26T00:11:33.117Z"
   },
   {
    "duration": 4,
    "start_time": "2021-12-26T00:11:42.789Z"
   },
   {
    "duration": 4,
    "start_time": "2021-12-26T00:11:50.877Z"
   },
   {
    "duration": 5,
    "start_time": "2021-12-26T00:12:31.005Z"
   },
   {
    "duration": 145,
    "start_time": "2021-12-26T00:17:44.897Z"
   },
   {
    "duration": 3,
    "start_time": "2021-12-26T00:18:52.670Z"
   },
   {
    "duration": 3,
    "start_time": "2021-12-26T00:19:35.287Z"
   },
   {
    "duration": 5,
    "start_time": "2021-12-26T00:19:37.311Z"
   },
   {
    "duration": 4,
    "start_time": "2021-12-26T00:20:46.574Z"
   },
   {
    "duration": 7,
    "start_time": "2021-12-26T00:23:27.134Z"
   },
   {
    "duration": 7,
    "start_time": "2021-12-26T00:24:02.829Z"
   },
   {
    "duration": 6,
    "start_time": "2021-12-26T00:24:14.308Z"
   },
   {
    "duration": 6,
    "start_time": "2021-12-26T00:24:37.995Z"
   },
   {
    "duration": 6,
    "start_time": "2021-12-26T00:25:29.748Z"
   },
   {
    "duration": 1793,
    "start_time": "2021-12-26T00:26:46.410Z"
   },
   {
    "duration": 15,
    "start_time": "2021-12-26T00:27:28.362Z"
   },
   {
    "duration": 16,
    "start_time": "2021-12-26T00:27:49.978Z"
   },
   {
    "duration": 7,
    "start_time": "2021-12-26T00:28:20.418Z"
   },
   {
    "duration": 2096,
    "start_time": "2021-12-26T00:28:22.994Z"
   },
   {
    "duration": 3,
    "start_time": "2021-12-26T00:28:31.637Z"
   },
   {
    "duration": 155,
    "start_time": "2021-12-26T00:28:31.890Z"
   },
   {
    "duration": 21,
    "start_time": "2021-12-26T00:28:32.047Z"
   },
   {
    "duration": 33,
    "start_time": "2021-12-26T00:28:32.069Z"
   },
   {
    "duration": 145,
    "start_time": "2021-12-26T00:28:32.308Z"
   },
   {
    "duration": 17,
    "start_time": "2021-12-26T00:28:32.454Z"
   },
   {
    "duration": 29,
    "start_time": "2021-12-26T00:28:32.475Z"
   },
   {
    "duration": 93,
    "start_time": "2021-12-26T00:28:32.729Z"
   },
   {
    "duration": 14,
    "start_time": "2021-12-26T00:28:32.824Z"
   },
   {
    "duration": 15,
    "start_time": "2021-12-26T00:28:32.899Z"
   },
   {
    "duration": 23,
    "start_time": "2021-12-26T00:28:33.147Z"
   },
   {
    "duration": 6,
    "start_time": "2021-12-26T00:28:33.237Z"
   },
   {
    "duration": 6,
    "start_time": "2021-12-26T00:28:33.333Z"
   },
   {
    "duration": 38,
    "start_time": "2021-12-26T00:28:33.566Z"
   },
   {
    "duration": 7,
    "start_time": "2021-12-26T00:28:33.683Z"
   },
   {
    "duration": 5,
    "start_time": "2021-12-26T00:28:33.734Z"
   },
   {
    "duration": 8,
    "start_time": "2021-12-26T00:28:34.233Z"
   },
   {
    "duration": 16,
    "start_time": "2021-12-26T00:28:34.319Z"
   },
   {
    "duration": 170,
    "start_time": "2021-12-26T00:28:34.650Z"
   },
   {
    "duration": 58,
    "start_time": "2021-12-26T00:28:35.067Z"
   },
   {
    "duration": 5,
    "start_time": "2021-12-26T00:28:35.150Z"
   },
   {
    "duration": 60,
    "start_time": "2021-12-26T00:28:35.483Z"
   },
   {
    "duration": 24,
    "start_time": "2021-12-26T00:28:35.983Z"
   },
   {
    "duration": 9,
    "start_time": "2021-12-26T00:28:36.072Z"
   },
   {
    "duration": 26,
    "start_time": "2021-12-26T00:28:36.235Z"
   },
   {
    "duration": 17,
    "start_time": "2021-12-26T00:28:36.567Z"
   },
   {
    "duration": 9,
    "start_time": "2021-12-26T00:28:36.654Z"
   },
   {
    "duration": 18,
    "start_time": "2021-12-26T00:28:36.822Z"
   },
   {
    "duration": 19,
    "start_time": "2021-12-26T00:28:37.152Z"
   },
   {
    "duration": 10,
    "start_time": "2021-12-26T00:28:37.240Z"
   },
   {
    "duration": 21,
    "start_time": "2021-12-26T00:28:37.405Z"
   },
   {
    "duration": 21,
    "start_time": "2021-12-26T00:28:37.655Z"
   },
   {
    "duration": 8,
    "start_time": "2021-12-26T00:28:37.824Z"
   },
   {
    "duration": 5,
    "start_time": "2021-12-26T00:28:37.915Z"
   },
   {
    "duration": 8,
    "start_time": "2021-12-26T00:28:38.082Z"
   },
   {
    "duration": 18,
    "start_time": "2021-12-26T00:28:38.165Z"
   },
   {
    "duration": 7,
    "start_time": "2021-12-26T00:28:38.328Z"
   },
   {
    "duration": 9,
    "start_time": "2021-12-26T00:28:38.496Z"
   },
   {
    "duration": 11,
    "start_time": "2021-12-26T00:28:38.664Z"
   },
   {
    "duration": 4,
    "start_time": "2021-12-26T00:28:38.832Z"
   },
   {
    "duration": 3,
    "start_time": "2021-12-26T00:28:39.000Z"
   },
   {
    "duration": 196,
    "start_time": "2021-12-26T00:28:39.167Z"
   },
   {
    "duration": 8,
    "start_time": "2021-12-26T00:28:39.365Z"
   },
   {
    "duration": 12,
    "start_time": "2021-12-26T00:28:39.751Z"
   },
   {
    "duration": 15,
    "start_time": "2021-12-26T00:28:39.919Z"
   },
   {
    "duration": 2,
    "start_time": "2021-12-26T00:28:40.253Z"
   },
   {
    "duration": 182,
    "start_time": "2021-12-26T00:28:40.338Z"
   },
   {
    "duration": 200,
    "start_time": "2021-12-26T00:28:40.521Z"
   },
   {
    "duration": 14,
    "start_time": "2021-12-26T00:28:40.723Z"
   },
   {
    "duration": 206,
    "start_time": "2021-12-26T00:28:40.753Z"
   },
   {
    "duration": 212,
    "start_time": "2021-12-26T00:28:40.960Z"
   },
   {
    "duration": 22,
    "start_time": "2021-12-26T00:28:41.173Z"
   },
   {
    "duration": 202,
    "start_time": "2021-12-26T00:28:41.196Z"
   },
   {
    "duration": 323,
    "start_time": "2021-12-26T00:28:41.400Z"
   },
   {
    "duration": 15,
    "start_time": "2021-12-26T00:28:41.724Z"
   },
   {
    "duration": 204,
    "start_time": "2021-12-26T00:28:41.741Z"
   },
   {
    "duration": 210,
    "start_time": "2021-12-26T00:28:41.947Z"
   },
   {
    "duration": 13,
    "start_time": "2021-12-26T00:28:42.159Z"
   },
   {
    "duration": 4,
    "start_time": "2021-12-26T00:28:42.266Z"
   },
   {
    "duration": 6,
    "start_time": "2021-12-26T00:28:42.428Z"
   },
   {
    "duration": 10,
    "start_time": "2021-12-26T00:28:42.596Z"
   },
   {
    "duration": 3,
    "start_time": "2021-12-26T00:28:44.207Z"
   },
   {
    "duration": 3,
    "start_time": "2021-12-26T00:28:44.799Z"
   },
   {
    "duration": 5,
    "start_time": "2021-12-26T00:28:44.976Z"
   },
   {
    "duration": 4,
    "start_time": "2021-12-26T00:28:45.819Z"
   },
   {
    "duration": 3,
    "start_time": "2021-12-26T00:28:46.375Z"
   },
   {
    "duration": 6,
    "start_time": "2021-12-26T00:28:46.552Z"
   },
   {
    "duration": 7,
    "start_time": "2021-12-26T00:28:47.220Z"
   },
   {
    "duration": 1846,
    "start_time": "2021-12-26T00:28:47.387Z"
   },
   {
    "duration": 2329,
    "start_time": "2021-12-26T00:29:47.827Z"
   },
   {
    "duration": 2,
    "start_time": "2021-12-26T00:30:05.389Z"
   },
   {
    "duration": 155,
    "start_time": "2021-12-26T00:30:05.640Z"
   },
   {
    "duration": 21,
    "start_time": "2021-12-26T00:30:05.797Z"
   },
   {
    "duration": 20,
    "start_time": "2021-12-26T00:30:05.820Z"
   },
   {
    "duration": 133,
    "start_time": "2021-12-26T00:30:06.059Z"
   },
   {
    "duration": 18,
    "start_time": "2021-12-26T00:30:06.194Z"
   },
   {
    "duration": 16,
    "start_time": "2021-12-26T00:30:06.226Z"
   },
   {
    "duration": 96,
    "start_time": "2021-12-26T00:30:06.479Z"
   },
   {
    "duration": 23,
    "start_time": "2021-12-26T00:30:06.578Z"
   },
   {
    "duration": 15,
    "start_time": "2021-12-26T00:30:06.651Z"
   },
   {
    "duration": 24,
    "start_time": "2021-12-26T00:30:06.898Z"
   },
   {
    "duration": 7,
    "start_time": "2021-12-26T00:30:06.984Z"
   },
   {
    "duration": 7,
    "start_time": "2021-12-26T00:30:07.069Z"
   },
   {
    "duration": 38,
    "start_time": "2021-12-26T00:30:07.319Z"
   },
   {
    "duration": 7,
    "start_time": "2021-12-26T00:30:07.400Z"
   },
   {
    "duration": 6,
    "start_time": "2021-12-26T00:30:07.482Z"
   },
   {
    "duration": 7,
    "start_time": "2021-12-26T00:30:07.984Z"
   },
   {
    "duration": 15,
    "start_time": "2021-12-26T00:30:08.084Z"
   },
   {
    "duration": 159,
    "start_time": "2021-12-26T00:30:08.402Z"
   },
   {
    "duration": 55,
    "start_time": "2021-12-26T00:30:08.824Z"
   },
   {
    "duration": 4,
    "start_time": "2021-12-26T00:30:08.908Z"
   },
   {
    "duration": 61,
    "start_time": "2021-12-26T00:30:09.244Z"
   },
   {
    "duration": 25,
    "start_time": "2021-12-26T00:30:09.747Z"
   },
   {
    "duration": 9,
    "start_time": "2021-12-26T00:30:09.836Z"
   },
   {
    "duration": 25,
    "start_time": "2021-12-26T00:30:10.000Z"
   },
   {
    "duration": 17,
    "start_time": "2021-12-26T00:30:10.332Z"
   },
   {
    "duration": 9,
    "start_time": "2021-12-26T00:30:10.417Z"
   },
   {
    "duration": 18,
    "start_time": "2021-12-26T00:30:10.580Z"
   },
   {
    "duration": 20,
    "start_time": "2021-12-26T00:30:10.914Z"
   },
   {
    "duration": 9,
    "start_time": "2021-12-26T00:30:11.002Z"
   },
   {
    "duration": 20,
    "start_time": "2021-12-26T00:30:11.165Z"
   },
   {
    "duration": 19,
    "start_time": "2021-12-26T00:30:11.416Z"
   },
   {
    "duration": 9,
    "start_time": "2021-12-26T00:30:11.584Z"
   },
   {
    "duration": 6,
    "start_time": "2021-12-26T00:30:11.670Z"
   },
   {
    "duration": 10,
    "start_time": "2021-12-26T00:30:11.835Z"
   },
   {
    "duration": 17,
    "start_time": "2021-12-26T00:30:11.920Z"
   },
   {
    "duration": 9,
    "start_time": "2021-12-26T00:30:12.089Z"
   },
   {
    "duration": 9,
    "start_time": "2021-12-26T00:30:12.255Z"
   },
   {
    "duration": 11,
    "start_time": "2021-12-26T00:30:12.422Z"
   },
   {
    "duration": 4,
    "start_time": "2021-12-26T00:30:12.591Z"
   },
   {
    "duration": 2,
    "start_time": "2021-12-26T00:30:12.758Z"
   },
   {
    "duration": 199,
    "start_time": "2021-12-26T00:30:12.926Z"
   },
   {
    "duration": 8,
    "start_time": "2021-12-26T00:30:13.127Z"
   },
   {
    "duration": 13,
    "start_time": "2021-12-26T00:30:13.513Z"
   },
   {
    "duration": 16,
    "start_time": "2021-12-26T00:30:13.682Z"
   },
   {
    "duration": 2,
    "start_time": "2021-12-26T00:30:14.015Z"
   },
   {
    "duration": 184,
    "start_time": "2021-12-26T00:30:14.101Z"
   },
   {
    "duration": 205,
    "start_time": "2021-12-26T00:30:14.291Z"
   },
   {
    "duration": 16,
    "start_time": "2021-12-26T00:30:14.498Z"
   },
   {
    "duration": 231,
    "start_time": "2021-12-26T00:30:14.516Z"
   },
   {
    "duration": 206,
    "start_time": "2021-12-26T00:30:14.749Z"
   },
   {
    "duration": 15,
    "start_time": "2021-12-26T00:30:14.957Z"
   },
   {
    "duration": 226,
    "start_time": "2021-12-26T00:30:14.974Z"
   },
   {
    "duration": 220,
    "start_time": "2021-12-26T00:30:15.202Z"
   },
   {
    "duration": 15,
    "start_time": "2021-12-26T00:30:15.425Z"
   },
   {
    "duration": 201,
    "start_time": "2021-12-26T00:30:15.442Z"
   },
   {
    "duration": 215,
    "start_time": "2021-12-26T00:30:15.645Z"
   },
   {
    "duration": 15,
    "start_time": "2021-12-26T00:30:15.862Z"
   },
   {
    "duration": 4,
    "start_time": "2021-12-26T00:30:16.023Z"
   },
   {
    "duration": 7,
    "start_time": "2021-12-26T00:30:16.189Z"
   },
   {
    "duration": 12,
    "start_time": "2021-12-26T00:30:16.358Z"
   },
   {
    "duration": 3,
    "start_time": "2021-12-26T00:30:16.526Z"
   },
   {
    "duration": 3,
    "start_time": "2021-12-26T00:30:16.693Z"
   },
   {
    "duration": 5,
    "start_time": "2021-12-26T00:30:16.778Z"
   },
   {
    "duration": 4,
    "start_time": "2021-12-26T00:30:17.203Z"
   },
   {
    "duration": 2,
    "start_time": "2021-12-26T00:30:17.365Z"
   },
   {
    "duration": 6,
    "start_time": "2021-12-26T00:30:17.451Z"
   },
   {
    "duration": 7,
    "start_time": "2021-12-26T00:30:19.032Z"
   },
   {
    "duration": 12,
    "start_time": "2021-12-26T00:30:20.287Z"
   },
   {
    "duration": 19,
    "start_time": "2021-12-26T00:30:27.264Z"
   },
   {
    "duration": 2037,
    "start_time": "2021-12-26T00:30:58.112Z"
   },
   {
    "duration": 3,
    "start_time": "2021-12-26T00:31:10.364Z"
   },
   {
    "duration": 156,
    "start_time": "2021-12-26T00:31:10.614Z"
   },
   {
    "duration": 30,
    "start_time": "2021-12-26T00:31:10.772Z"
   },
   {
    "duration": 19,
    "start_time": "2021-12-26T00:31:10.804Z"
   },
   {
    "duration": 135,
    "start_time": "2021-12-26T00:31:11.033Z"
   },
   {
    "duration": 25,
    "start_time": "2021-12-26T00:31:11.170Z"
   },
   {
    "duration": 15,
    "start_time": "2021-12-26T00:31:11.200Z"
   },
   {
    "duration": 89,
    "start_time": "2021-12-26T00:31:11.451Z"
   },
   {
    "duration": 14,
    "start_time": "2021-12-26T00:31:11.542Z"
   },
   {
    "duration": 14,
    "start_time": "2021-12-26T00:31:11.620Z"
   },
   {
    "duration": 23,
    "start_time": "2021-12-26T00:31:11.867Z"
   },
   {
    "duration": 6,
    "start_time": "2021-12-26T00:31:11.956Z"
   },
   {
    "duration": 6,
    "start_time": "2021-12-26T00:31:12.064Z"
   },
   {
    "duration": 38,
    "start_time": "2021-12-26T00:31:12.285Z"
   },
   {
    "duration": 6,
    "start_time": "2021-12-26T00:31:12.372Z"
   },
   {
    "duration": 6,
    "start_time": "2021-12-26T00:31:12.453Z"
   },
   {
    "duration": 7,
    "start_time": "2021-12-26T00:31:12.956Z"
   },
   {
    "duration": 15,
    "start_time": "2021-12-26T00:31:13.042Z"
   },
   {
    "duration": 166,
    "start_time": "2021-12-26T00:31:13.375Z"
   },
   {
    "duration": 57,
    "start_time": "2021-12-26T00:31:13.795Z"
   },
   {
    "duration": 4,
    "start_time": "2021-12-26T00:31:13.879Z"
   },
   {
    "duration": 61,
    "start_time": "2021-12-26T00:31:14.215Z"
   },
   {
    "duration": 24,
    "start_time": "2021-12-26T00:31:14.719Z"
   },
   {
    "duration": 9,
    "start_time": "2021-12-26T00:31:14.806Z"
   },
   {
    "duration": 28,
    "start_time": "2021-12-26T00:31:14.971Z"
   },
   {
    "duration": 16,
    "start_time": "2021-12-26T00:31:15.303Z"
   },
   {
    "duration": 8,
    "start_time": "2021-12-26T00:31:15.388Z"
   },
   {
    "duration": 17,
    "start_time": "2021-12-26T00:31:15.553Z"
   },
   {
    "duration": 19,
    "start_time": "2021-12-26T00:31:15.888Z"
   },
   {
    "duration": 9,
    "start_time": "2021-12-26T00:31:15.974Z"
   },
   {
    "duration": 21,
    "start_time": "2021-12-26T00:31:16.147Z"
   },
   {
    "duration": 20,
    "start_time": "2021-12-26T00:31:16.391Z"
   },
   {
    "duration": 9,
    "start_time": "2021-12-26T00:31:16.558Z"
   },
   {
    "duration": 5,
    "start_time": "2021-12-26T00:31:16.648Z"
   },
   {
    "duration": 9,
    "start_time": "2021-12-26T00:31:16.810Z"
   },
   {
    "duration": 17,
    "start_time": "2021-12-26T00:31:16.895Z"
   },
   {
    "duration": 7,
    "start_time": "2021-12-26T00:31:17.062Z"
   },
   {
    "duration": 9,
    "start_time": "2021-12-26T00:31:17.229Z"
   },
   {
    "duration": 11,
    "start_time": "2021-12-26T00:31:17.397Z"
   },
   {
    "duration": 5,
    "start_time": "2021-12-26T00:31:17.565Z"
   },
   {
    "duration": 3,
    "start_time": "2021-12-26T00:31:17.732Z"
   },
   {
    "duration": 201,
    "start_time": "2021-12-26T00:31:17.900Z"
   },
   {
    "duration": 10,
    "start_time": "2021-12-26T00:31:18.103Z"
   },
   {
    "duration": 13,
    "start_time": "2021-12-26T00:31:18.485Z"
   },
   {
    "duration": 18,
    "start_time": "2021-12-26T00:31:18.653Z"
   },
   {
    "duration": 2,
    "start_time": "2021-12-26T00:31:18.986Z"
   },
   {
    "duration": 184,
    "start_time": "2021-12-26T00:31:19.072Z"
   },
   {
    "duration": 211,
    "start_time": "2021-12-26T00:31:19.258Z"
   },
   {
    "duration": 21,
    "start_time": "2021-12-26T00:31:19.471Z"
   },
   {
    "duration": 220,
    "start_time": "2021-12-26T00:31:19.494Z"
   },
   {
    "duration": 346,
    "start_time": "2021-12-26T00:31:19.716Z"
   },
   {
    "duration": 28,
    "start_time": "2021-12-26T00:31:20.064Z"
   },
   {
    "duration": 210,
    "start_time": "2021-12-26T00:31:20.094Z"
   },
   {
    "duration": 221,
    "start_time": "2021-12-26T00:31:20.306Z"
   },
   {
    "duration": 15,
    "start_time": "2021-12-26T00:31:20.528Z"
   },
   {
    "duration": 204,
    "start_time": "2021-12-26T00:31:20.545Z"
   },
   {
    "duration": 216,
    "start_time": "2021-12-26T00:31:20.751Z"
   },
   {
    "duration": 23,
    "start_time": "2021-12-26T00:31:20.969Z"
   },
   {
    "duration": 4,
    "start_time": "2021-12-26T00:31:20.994Z"
   },
   {
    "duration": 7,
    "start_time": "2021-12-26T00:31:21.156Z"
   },
   {
    "duration": 12,
    "start_time": "2021-12-26T00:31:21.324Z"
   },
   {
    "duration": 3,
    "start_time": "2021-12-26T00:31:21.491Z"
   },
   {
    "duration": 3,
    "start_time": "2021-12-26T00:31:21.658Z"
   },
   {
    "duration": 6,
    "start_time": "2021-12-26T00:31:21.742Z"
   },
   {
    "duration": 5,
    "start_time": "2021-12-26T00:31:22.161Z"
   },
   {
    "duration": 3,
    "start_time": "2021-12-26T00:31:22.329Z"
   },
   {
    "duration": 7,
    "start_time": "2021-12-26T00:31:22.415Z"
   },
   {
    "duration": 9,
    "start_time": "2021-12-26T00:31:22.588Z"
   },
   {
    "duration": 11,
    "start_time": "2021-12-26T00:31:22.755Z"
   },
   {
    "duration": 6,
    "start_time": "2021-12-26T00:34:53.645Z"
   },
   {
    "duration": 4,
    "start_time": "2021-12-26T00:46:29.132Z"
   },
   {
    "duration": 190,
    "start_time": "2021-12-26T00:58:48.876Z"
   },
   {
    "duration": 441,
    "start_time": "2021-12-26T00:58:53.306Z"
   },
   {
    "duration": 181,
    "start_time": "2021-12-26T00:59:00.412Z"
   },
   {
    "duration": 3,
    "start_time": "2021-12-26T00:59:11.311Z"
   },
   {
    "duration": 151,
    "start_time": "2021-12-26T00:59:11.564Z"
   },
   {
    "duration": 20,
    "start_time": "2021-12-26T00:59:11.716Z"
   },
   {
    "duration": 18,
    "start_time": "2021-12-26T00:59:11.738Z"
   },
   {
    "duration": 132,
    "start_time": "2021-12-26T00:59:11.981Z"
   },
   {
    "duration": 17,
    "start_time": "2021-12-26T00:59:12.115Z"
   },
   {
    "duration": 17,
    "start_time": "2021-12-26T00:59:12.147Z"
   },
   {
    "duration": 90,
    "start_time": "2021-12-26T00:59:12.398Z"
   },
   {
    "duration": 15,
    "start_time": "2021-12-26T00:59:12.491Z"
   },
   {
    "duration": 14,
    "start_time": "2021-12-26T00:59:12.567Z"
   },
   {
    "duration": 22,
    "start_time": "2021-12-26T00:59:12.814Z"
   },
   {
    "duration": 6,
    "start_time": "2021-12-26T00:59:12.901Z"
   },
   {
    "duration": 6,
    "start_time": "2021-12-26T00:59:12.984Z"
   },
   {
    "duration": 37,
    "start_time": "2021-12-26T00:59:13.233Z"
   },
   {
    "duration": 7,
    "start_time": "2021-12-26T00:59:13.320Z"
   },
   {
    "duration": 6,
    "start_time": "2021-12-26T00:59:13.412Z"
   },
   {
    "duration": 7,
    "start_time": "2021-12-26T00:59:13.902Z"
   },
   {
    "duration": 15,
    "start_time": "2021-12-26T00:59:13.988Z"
   },
   {
    "duration": 161,
    "start_time": "2021-12-26T00:59:14.321Z"
   },
   {
    "duration": 55,
    "start_time": "2021-12-26T00:59:14.740Z"
   },
   {
    "duration": 4,
    "start_time": "2021-12-26T00:59:14.823Z"
   },
   {
    "duration": 59,
    "start_time": "2021-12-26T00:59:15.170Z"
   },
   {
    "duration": 24,
    "start_time": "2021-12-26T00:59:15.664Z"
   },
   {
    "duration": 9,
    "start_time": "2021-12-26T00:59:15.752Z"
   },
   {
    "duration": 28,
    "start_time": "2021-12-26T00:59:15.913Z"
   },
   {
    "duration": 17,
    "start_time": "2021-12-26T00:59:16.247Z"
   },
   {
    "duration": 8,
    "start_time": "2021-12-26T00:59:16.335Z"
   },
   {
    "duration": 18,
    "start_time": "2021-12-26T00:59:16.497Z"
   },
   {
    "duration": 19,
    "start_time": "2021-12-26T00:59:16.832Z"
   },
   {
    "duration": 9,
    "start_time": "2021-12-26T00:59:16.920Z"
   },
   {
    "duration": 20,
    "start_time": "2021-12-26T00:59:17.083Z"
   },
   {
    "duration": 19,
    "start_time": "2021-12-26T00:59:17.335Z"
   },
   {
    "duration": 8,
    "start_time": "2021-12-26T00:59:17.503Z"
   },
   {
    "duration": 5,
    "start_time": "2021-12-26T00:59:17.599Z"
   },
   {
    "duration": 9,
    "start_time": "2021-12-26T00:59:17.760Z"
   },
   {
    "duration": 22,
    "start_time": "2021-12-26T00:59:17.839Z"
   },
   {
    "duration": 8,
    "start_time": "2021-12-26T00:59:18.006Z"
   },
   {
    "duration": 11,
    "start_time": "2021-12-26T00:59:18.173Z"
   },
   {
    "duration": 10,
    "start_time": "2021-12-26T00:59:18.341Z"
   },
   {
    "duration": 4,
    "start_time": "2021-12-26T00:59:18.508Z"
   },
   {
    "duration": 3,
    "start_time": "2021-12-26T00:59:18.676Z"
   },
   {
    "duration": 195,
    "start_time": "2021-12-26T00:59:18.844Z"
   },
   {
    "duration": 7,
    "start_time": "2021-12-26T00:59:19.041Z"
   },
   {
    "duration": 13,
    "start_time": "2021-12-26T00:59:19.430Z"
   },
   {
    "duration": 15,
    "start_time": "2021-12-26T00:59:19.599Z"
   },
   {
    "duration": 3,
    "start_time": "2021-12-26T00:59:19.932Z"
   },
   {
    "duration": 190,
    "start_time": "2021-12-26T00:59:20.018Z"
   },
   {
    "duration": 194,
    "start_time": "2021-12-26T00:59:20.210Z"
   },
   {
    "duration": 14,
    "start_time": "2021-12-26T00:59:20.406Z"
   },
   {
    "duration": 215,
    "start_time": "2021-12-26T00:59:20.432Z"
   },
   {
    "duration": 324,
    "start_time": "2021-12-26T00:59:20.649Z"
   },
   {
    "duration": 22,
    "start_time": "2021-12-26T00:59:20.975Z"
   },
   {
    "duration": 202,
    "start_time": "2021-12-26T00:59:20.998Z"
   },
   {
    "duration": 216,
    "start_time": "2021-12-26T00:59:21.201Z"
   },
   {
    "duration": 15,
    "start_time": "2021-12-26T00:59:21.419Z"
   },
   {
    "duration": 210,
    "start_time": "2021-12-26T00:59:21.436Z"
   },
   {
    "duration": 212,
    "start_time": "2021-12-26T00:59:21.648Z"
   },
   {
    "duration": 14,
    "start_time": "2021-12-26T00:59:21.861Z"
   },
   {
    "duration": 3,
    "start_time": "2021-12-26T00:59:21.944Z"
   },
   {
    "duration": 6,
    "start_time": "2021-12-26T00:59:22.106Z"
   },
   {
    "duration": 10,
    "start_time": "2021-12-26T00:59:22.273Z"
   },
   {
    "duration": 2,
    "start_time": "2021-12-26T00:59:22.440Z"
   },
   {
    "duration": 2,
    "start_time": "2021-12-26T00:59:22.608Z"
   },
   {
    "duration": 6,
    "start_time": "2021-12-26T00:59:22.691Z"
   },
   {
    "duration": 4,
    "start_time": "2021-12-26T00:59:23.110Z"
   },
   {
    "duration": 3,
    "start_time": "2021-12-26T00:59:23.277Z"
   },
   {
    "duration": 7,
    "start_time": "2021-12-26T00:59:23.362Z"
   },
   {
    "duration": 8,
    "start_time": "2021-12-26T00:59:23.528Z"
   },
   {
    "duration": 11,
    "start_time": "2021-12-26T00:59:23.698Z"
   },
   {
    "duration": 6,
    "start_time": "2021-12-26T00:59:23.863Z"
   },
   {
    "duration": 9,
    "start_time": "2021-12-26T01:01:29.105Z"
   },
   {
    "duration": 4,
    "start_time": "2021-12-26T01:02:22.626Z"
   },
   {
    "duration": 4,
    "start_time": "2021-12-26T01:02:31.873Z"
   },
   {
    "duration": 735,
    "start_time": "2021-12-27T03:22:17.715Z"
   },
   {
    "duration": 223,
    "start_time": "2021-12-27T03:22:18.453Z"
   },
   {
    "duration": 27,
    "start_time": "2021-12-27T03:22:18.679Z"
   },
   {
    "duration": 27,
    "start_time": "2021-12-27T03:22:18.708Z"
   },
   {
    "duration": 199,
    "start_time": "2021-12-27T03:22:18.737Z"
   },
   {
    "duration": 30,
    "start_time": "2021-12-27T03:22:18.938Z"
   },
   {
    "duration": 20,
    "start_time": "2021-12-27T03:22:18.971Z"
   },
   {
    "duration": 128,
    "start_time": "2021-12-27T03:22:18.995Z"
   },
   {
    "duration": 19,
    "start_time": "2021-12-27T03:22:19.127Z"
   },
   {
    "duration": 27,
    "start_time": "2021-12-27T03:22:19.163Z"
   },
   {
    "duration": 32,
    "start_time": "2021-12-27T03:22:19.193Z"
   },
   {
    "duration": 12,
    "start_time": "2021-12-27T03:22:19.228Z"
   },
   {
    "duration": 27,
    "start_time": "2021-12-27T03:22:19.243Z"
   },
   {
    "duration": 56,
    "start_time": "2021-12-27T03:22:19.273Z"
   },
   {
    "duration": 11,
    "start_time": "2021-12-27T03:22:19.333Z"
   },
   {
    "duration": 22,
    "start_time": "2021-12-27T03:22:19.347Z"
   },
   {
    "duration": 9,
    "start_time": "2021-12-27T03:22:19.371Z"
   },
   {
    "duration": 19,
    "start_time": "2021-12-27T03:22:19.383Z"
   },
   {
    "duration": 343,
    "start_time": "2021-12-27T03:22:19.404Z"
   },
   {
    "duration": 84,
    "start_time": "2021-12-27T03:22:19.749Z"
   },
   {
    "duration": 5,
    "start_time": "2021-12-27T03:22:19.836Z"
   },
   {
    "duration": 91,
    "start_time": "2021-12-27T03:22:19.862Z"
   },
   {
    "duration": 34,
    "start_time": "2021-12-27T03:22:19.967Z"
   },
   {
    "duration": 12,
    "start_time": "2021-12-27T03:22:20.005Z"
   },
   {
    "duration": 68,
    "start_time": "2021-12-27T03:22:20.019Z"
   },
   {
    "duration": 23,
    "start_time": "2021-12-27T03:22:20.089Z"
   },
   {
    "duration": 11,
    "start_time": "2021-12-27T03:22:20.114Z"
   },
   {
    "duration": 51,
    "start_time": "2021-12-27T03:22:20.127Z"
   },
   {
    "duration": 26,
    "start_time": "2021-12-27T03:22:20.180Z"
   },
   {
    "duration": 12,
    "start_time": "2021-12-27T03:22:20.208Z"
   },
   {
    "duration": 62,
    "start_time": "2021-12-27T03:22:20.222Z"
   },
   {
    "duration": 27,
    "start_time": "2021-12-27T03:22:20.286Z"
   },
   {
    "duration": 11,
    "start_time": "2021-12-27T03:22:20.316Z"
   },
   {
    "duration": 36,
    "start_time": "2021-12-27T03:22:20.331Z"
   },
   {
    "duration": 14,
    "start_time": "2021-12-27T03:22:20.371Z"
   },
   {
    "duration": 27,
    "start_time": "2021-12-27T03:22:20.388Z"
   },
   {
    "duration": 54,
    "start_time": "2021-12-27T03:22:20.418Z"
   },
   {
    "duration": 13,
    "start_time": "2021-12-27T03:22:20.475Z"
   },
   {
    "duration": 17,
    "start_time": "2021-12-27T03:22:20.491Z"
   },
   {
    "duration": 8,
    "start_time": "2021-12-27T03:22:20.511Z"
   },
   {
    "duration": 5,
    "start_time": "2021-12-27T03:22:20.564Z"
   },
   {
    "duration": 369,
    "start_time": "2021-12-27T03:22:20.572Z"
   },
   {
    "duration": 26,
    "start_time": "2021-12-27T03:22:20.944Z"
   },
   {
    "duration": 18,
    "start_time": "2021-12-27T03:22:20.973Z"
   },
   {
    "duration": 22,
    "start_time": "2021-12-27T03:22:20.994Z"
   },
   {
    "duration": 139,
    "start_time": "2021-12-27T03:22:21.019Z"
   },
   {
    "duration": 301,
    "start_time": "2021-12-27T03:22:21.162Z"
   },
   {
    "duration": 342,
    "start_time": "2021-12-27T03:22:21.465Z"
   },
   {
    "duration": 21,
    "start_time": "2021-12-27T03:22:21.810Z"
   },
   {
    "duration": 348,
    "start_time": "2021-12-27T03:22:21.833Z"
   },
   {
    "duration": 442,
    "start_time": "2021-12-27T03:22:22.184Z"
   },
   {
    "duration": 33,
    "start_time": "2021-12-27T03:22:22.629Z"
   },
   {
    "duration": 309,
    "start_time": "2021-12-27T03:22:22.665Z"
   },
   {
    "duration": 327,
    "start_time": "2021-12-27T03:22:22.976Z"
   },
   {
    "duration": 24,
    "start_time": "2021-12-27T03:22:23.305Z"
   },
   {
    "duration": 332,
    "start_time": "2021-12-27T03:22:23.331Z"
   },
   {
    "duration": 313,
    "start_time": "2021-12-27T03:22:23.665Z"
   },
   {
    "duration": 20,
    "start_time": "2021-12-27T03:22:23.980Z"
   },
   {
    "duration": 4,
    "start_time": "2021-12-27T03:22:24.003Z"
   },
   {
    "duration": 7,
    "start_time": "2021-12-27T03:22:24.010Z"
   },
   {
    "duration": 47,
    "start_time": "2021-12-27T03:22:24.020Z"
   },
   {
    "duration": 3,
    "start_time": "2021-12-27T03:22:24.069Z"
   },
   {
    "duration": 414,
    "start_time": "2021-12-27T03:22:24.075Z"
   },
   {
    "duration": 7,
    "start_time": "2021-12-27T03:22:24.491Z"
   },
   {
    "duration": 7,
    "start_time": "2021-12-27T03:22:24.500Z"
   },
   {
    "duration": 4,
    "start_time": "2021-12-27T03:22:24.509Z"
   },
   {
    "duration": 47,
    "start_time": "2021-12-27T03:22:24.515Z"
   },
   {
    "duration": 9,
    "start_time": "2021-12-27T03:22:24.570Z"
   },
   {
    "duration": 15,
    "start_time": "2021-12-27T03:22:24.581Z"
   },
   {
    "duration": 7,
    "start_time": "2021-12-27T03:22:24.598Z"
   },
   {
    "duration": 46,
    "start_time": "2021-12-27T04:03:37.281Z"
   },
   {
    "duration": 331,
    "start_time": "2021-12-27T04:08:02.068Z"
   },
   {
    "duration": 420,
    "start_time": "2021-12-27T04:08:36.063Z"
   },
   {
    "duration": 357,
    "start_time": "2021-12-27T04:08:44.801Z"
   },
   {
    "duration": 363,
    "start_time": "2021-12-27T04:09:00.803Z"
   },
   {
    "duration": 360,
    "start_time": "2021-12-27T04:09:09.234Z"
   },
   {
    "duration": 453,
    "start_time": "2021-12-27T04:09:33.835Z"
   },
   {
    "duration": 800,
    "start_time": "2021-12-27T04:31:20.458Z"
   },
   {
    "duration": 236,
    "start_time": "2021-12-27T04:31:21.260Z"
   },
   {
    "duration": 40,
    "start_time": "2021-12-27T04:31:21.499Z"
   },
   {
    "duration": 42,
    "start_time": "2021-12-27T04:31:21.542Z"
   },
   {
    "duration": 198,
    "start_time": "2021-12-27T04:31:21.587Z"
   },
   {
    "duration": 23,
    "start_time": "2021-12-27T04:31:21.788Z"
   },
   {
    "duration": 50,
    "start_time": "2021-12-27T04:31:21.813Z"
   },
   {
    "duration": 127,
    "start_time": "2021-12-27T04:31:21.867Z"
   },
   {
    "duration": 20,
    "start_time": "2021-12-27T04:31:21.997Z"
   },
   {
    "duration": 19,
    "start_time": "2021-12-27T04:31:22.020Z"
   },
   {
    "duration": 27,
    "start_time": "2021-12-27T04:31:22.064Z"
   },
   {
    "duration": 9,
    "start_time": "2021-12-27T04:31:22.094Z"
   },
   {
    "duration": 8,
    "start_time": "2021-12-27T04:31:22.105Z"
   },
   {
    "duration": 51,
    "start_time": "2021-12-27T04:31:22.115Z"
   },
   {
    "duration": 9,
    "start_time": "2021-12-27T04:31:22.169Z"
   },
   {
    "duration": 8,
    "start_time": "2021-12-27T04:31:22.180Z"
   },
   {
    "duration": 9,
    "start_time": "2021-12-27T04:31:22.191Z"
   },
   {
    "duration": 19,
    "start_time": "2021-12-27T04:31:22.203Z"
   },
   {
    "duration": 316,
    "start_time": "2021-12-27T04:31:22.263Z"
   },
   {
    "duration": 99,
    "start_time": "2021-12-27T04:31:22.582Z"
   },
   {
    "duration": 7,
    "start_time": "2021-12-27T04:31:22.684Z"
   },
   {
    "duration": 123,
    "start_time": "2021-12-27T04:31:22.694Z"
   },
   {
    "duration": 44,
    "start_time": "2021-12-27T04:31:22.823Z"
   },
   {
    "duration": 12,
    "start_time": "2021-12-27T04:31:22.871Z"
   },
   {
    "duration": 43,
    "start_time": "2021-12-27T04:31:22.885Z"
   },
   {
    "duration": 51,
    "start_time": "2021-12-27T04:31:22.931Z"
   },
   {
    "duration": 13,
    "start_time": "2021-12-27T04:31:22.985Z"
   },
   {
    "duration": 26,
    "start_time": "2021-12-27T04:31:23.000Z"
   },
   {
    "duration": 60,
    "start_time": "2021-12-27T04:31:23.029Z"
   },
   {
    "duration": 12,
    "start_time": "2021-12-27T04:31:23.091Z"
   },
   {
    "duration": 58,
    "start_time": "2021-12-27T04:31:23.106Z"
   },
   {
    "duration": 28,
    "start_time": "2021-12-27T04:31:23.167Z"
   },
   {
    "duration": 11,
    "start_time": "2021-12-27T04:31:23.197Z"
   },
   {
    "duration": 8,
    "start_time": "2021-12-27T04:31:23.210Z"
   },
   {
    "duration": 46,
    "start_time": "2021-12-27T04:31:23.220Z"
   },
   {
    "duration": 25,
    "start_time": "2021-12-27T04:31:23.269Z"
   },
   {
    "duration": 12,
    "start_time": "2021-12-27T04:31:23.296Z"
   },
   {
    "duration": 11,
    "start_time": "2021-12-27T04:31:23.310Z"
   },
   {
    "duration": 50,
    "start_time": "2021-12-27T04:31:23.324Z"
   },
   {
    "duration": 6,
    "start_time": "2021-12-27T04:31:23.376Z"
   },
   {
    "duration": 8,
    "start_time": "2021-12-27T04:31:23.385Z"
   },
   {
    "duration": 368,
    "start_time": "2021-12-27T04:31:23.396Z"
   },
   {
    "duration": 18,
    "start_time": "2021-12-27T04:31:23.766Z"
   },
   {
    "duration": 17,
    "start_time": "2021-12-27T04:31:23.786Z"
   },
   {
    "duration": 22,
    "start_time": "2021-12-27T04:31:23.805Z"
   },
   {
    "duration": 113,
    "start_time": "2021-12-27T04:31:23.862Z"
   },
   {
    "duration": 311,
    "start_time": "2021-12-27T04:31:23.977Z"
   },
   {
    "duration": 390,
    "start_time": "2021-12-27T04:31:24.292Z"
   },
   {
    "duration": 21,
    "start_time": "2021-12-27T04:31:24.685Z"
   },
   {
    "duration": 345,
    "start_time": "2021-12-27T04:31:24.709Z"
   },
   {
    "duration": 369,
    "start_time": "2021-12-27T04:31:25.062Z"
   },
   {
    "duration": 34,
    "start_time": "2021-12-27T04:31:25.433Z"
   },
   {
    "duration": 330,
    "start_time": "2021-12-27T04:31:25.469Z"
   },
   {
    "duration": 331,
    "start_time": "2021-12-27T04:31:25.802Z"
   },
   {
    "duration": 35,
    "start_time": "2021-12-27T04:31:26.135Z"
   },
   {
    "duration": 308,
    "start_time": "2021-12-27T04:31:26.172Z"
   },
   {
    "duration": 325,
    "start_time": "2021-12-27T04:31:26.482Z"
   },
   {
    "duration": 22,
    "start_time": "2021-12-27T04:31:26.809Z"
   },
   {
    "duration": 5,
    "start_time": "2021-12-27T04:31:26.834Z"
   },
   {
    "duration": 28,
    "start_time": "2021-12-27T04:31:26.841Z"
   },
   {
    "duration": 16,
    "start_time": "2021-12-27T04:31:26.871Z"
   },
   {
    "duration": 4,
    "start_time": "2021-12-27T04:31:26.890Z"
   },
   {
    "duration": 481,
    "start_time": "2021-12-27T04:31:26.896Z"
   },
   {
    "duration": 7,
    "start_time": "2021-12-27T04:31:27.381Z"
   },
   {
    "duration": 11,
    "start_time": "2021-12-27T04:31:27.390Z"
   },
   {
    "duration": 10,
    "start_time": "2021-12-27T04:31:27.404Z"
   },
   {
    "duration": 13,
    "start_time": "2021-12-27T04:31:27.417Z"
   },
   {
    "duration": 10,
    "start_time": "2021-12-27T04:31:27.467Z"
   },
   {
    "duration": 20,
    "start_time": "2021-12-27T04:31:27.479Z"
   },
   {
    "duration": 7,
    "start_time": "2021-12-27T04:31:27.501Z"
   },
   {
    "duration": 443,
    "start_time": "2021-12-27T05:30:32.846Z"
   },
   {
    "duration": 505,
    "start_time": "2021-12-27T05:42:41.633Z"
   },
   {
    "duration": 159,
    "start_time": "2021-12-27T05:42:43.190Z"
   },
   {
    "duration": 22,
    "start_time": "2021-12-27T05:42:43.654Z"
   },
   {
    "duration": 20,
    "start_time": "2021-12-27T05:42:44.231Z"
   },
   {
    "duration": 139,
    "start_time": "2021-12-27T05:42:46.198Z"
   },
   {
    "duration": 16,
    "start_time": "2021-12-27T05:42:49.111Z"
   },
   {
    "duration": 17,
    "start_time": "2021-12-27T05:42:49.798Z"
   },
   {
    "duration": 145,
    "start_time": "2021-12-27T05:43:38.472Z"
   },
   {
    "duration": 17,
    "start_time": "2021-12-27T05:43:43.398Z"
   },
   {
    "duration": 16,
    "start_time": "2021-12-27T05:43:44.454Z"
   },
   {
    "duration": 97,
    "start_time": "2021-12-27T05:43:50.638Z"
   },
   {
    "duration": 15,
    "start_time": "2021-12-27T05:43:51.470Z"
   },
   {
    "duration": 14,
    "start_time": "2021-12-27T05:43:51.902Z"
   },
   {
    "duration": 23,
    "start_time": "2021-12-27T05:43:53.085Z"
   },
   {
    "duration": 7,
    "start_time": "2021-12-27T05:43:53.581Z"
   },
   {
    "duration": 6,
    "start_time": "2021-12-27T05:43:53.974Z"
   },
   {
    "duration": 37,
    "start_time": "2021-12-27T05:43:55.214Z"
   },
   {
    "duration": 8,
    "start_time": "2021-12-27T05:43:55.677Z"
   },
   {
    "duration": 6,
    "start_time": "2021-12-27T05:43:56.085Z"
   },
   {
    "duration": 8,
    "start_time": "2021-12-27T05:43:58.653Z"
   },
   {
    "duration": 16,
    "start_time": "2021-12-27T05:43:59.190Z"
   },
   {
    "duration": 171,
    "start_time": "2021-12-27T05:44:00.653Z"
   },
   {
    "duration": 55,
    "start_time": "2021-12-27T05:44:02.925Z"
   },
   {
    "duration": 4,
    "start_time": "2021-12-27T05:44:03.270Z"
   },
   {
    "duration": 63,
    "start_time": "2021-12-27T05:44:05.029Z"
   },
   {
    "duration": 26,
    "start_time": "2021-12-27T05:44:07.637Z"
   },
   {
    "duration": 10,
    "start_time": "2021-12-27T05:44:08.174Z"
   },
   {
    "duration": 29,
    "start_time": "2021-12-27T05:44:10.061Z"
   },
   {
    "duration": 2,
    "start_time": "2021-12-27T05:59:50.887Z"
   },
   {
    "duration": 4775,
    "start_time": "2021-12-27T06:00:54.294Z"
   },
   {
    "duration": 151,
    "start_time": "2021-12-27T06:01:24.789Z"
   },
   {
    "duration": 2220,
    "start_time": "2021-12-27T06:09:48.036Z"
   },
   {
    "duration": 2258,
    "start_time": "2021-12-27T06:10:11.376Z"
   },
   {
    "duration": 5,
    "start_time": "2021-12-27T06:10:35.543Z"
   },
   {
    "duration": 144,
    "start_time": "2021-12-27T06:11:34.703Z"
   },
   {
    "duration": 10,
    "start_time": "2021-12-27T06:11:39.335Z"
   },
   {
    "duration": 148,
    "start_time": "2021-12-27T06:12:00.479Z"
   },
   {
    "duration": 8,
    "start_time": "2021-12-27T06:12:12.007Z"
   },
   {
    "duration": 5,
    "start_time": "2021-12-27T06:13:13.006Z"
   },
   {
    "duration": 8,
    "start_time": "2021-12-27T06:13:46.470Z"
   },
   {
    "duration": 5,
    "start_time": "2021-12-27T06:14:01.637Z"
   },
   {
    "duration": 6,
    "start_time": "2021-12-27T06:14:03.541Z"
   },
   {
    "duration": 8,
    "start_time": "2021-12-27T06:14:17.892Z"
   },
   {
    "duration": 2,
    "start_time": "2021-12-27T06:15:25.854Z"
   },
   {
    "duration": 2308,
    "start_time": "2021-12-27T06:15:32.749Z"
   },
   {
    "duration": 9,
    "start_time": "2021-12-27T06:15:36.532Z"
   },
   {
    "duration": 2,
    "start_time": "2021-12-27T06:15:47.257Z"
   },
   {
    "duration": 143,
    "start_time": "2021-12-27T06:15:47.507Z"
   },
   {
    "duration": 20,
    "start_time": "2021-12-27T06:15:47.652Z"
   },
   {
    "duration": 30,
    "start_time": "2021-12-27T06:15:47.674Z"
   },
   {
    "duration": 145,
    "start_time": "2021-12-27T06:15:48.009Z"
   },
   {
    "duration": 18,
    "start_time": "2021-12-27T06:15:48.157Z"
   },
   {
    "duration": 29,
    "start_time": "2021-12-27T06:15:48.177Z"
   },
   {
    "duration": 90,
    "start_time": "2021-12-27T06:15:48.598Z"
   },
   {
    "duration": 13,
    "start_time": "2021-12-27T06:15:48.690Z"
   },
   {
    "duration": 13,
    "start_time": "2021-12-27T06:15:48.767Z"
   },
   {
    "duration": 22,
    "start_time": "2021-12-27T06:15:49.013Z"
   },
   {
    "duration": 7,
    "start_time": "2021-12-27T06:15:49.099Z"
   },
   {
    "duration": 5,
    "start_time": "2021-12-27T06:15:49.202Z"
   },
   {
    "duration": 37,
    "start_time": "2021-12-27T06:15:49.432Z"
   },
   {
    "duration": 6,
    "start_time": "2021-12-27T06:15:49.522Z"
   },
   {
    "duration": 6,
    "start_time": "2021-12-27T06:15:49.608Z"
   },
   {
    "duration": 7,
    "start_time": "2021-12-27T06:15:50.188Z"
   },
   {
    "duration": 14,
    "start_time": "2021-12-27T06:15:50.284Z"
   },
   {
    "duration": 159,
    "start_time": "2021-12-27T06:15:50.607Z"
   },
   {
    "duration": 57,
    "start_time": "2021-12-27T06:15:51.028Z"
   },
   {
    "duration": 4,
    "start_time": "2021-12-27T06:15:51.113Z"
   },
   {
    "duration": 61,
    "start_time": "2021-12-27T06:15:51.474Z"
   },
   {
    "duration": 25,
    "start_time": "2021-12-27T06:15:52.915Z"
   },
   {
    "duration": 9,
    "start_time": "2021-12-27T06:15:53.420Z"
   },
   {
    "duration": 2,
    "start_time": "2021-12-27T06:15:54.195Z"
   },
   {
    "duration": 2294,
    "start_time": "2021-12-27T06:15:54.403Z"
   },
   {
    "duration": 8,
    "start_time": "2021-12-27T06:15:56.698Z"
   },
   {
    "duration": 5,
    "start_time": "2021-12-27T06:15:59.179Z"
   },
   {
    "duration": 5,
    "start_time": "2021-12-27T06:16:00.668Z"
   },
   {
    "duration": 8,
    "start_time": "2021-12-27T06:16:01.691Z"
   },
   {
    "duration": 2,
    "start_time": "2021-12-27T06:16:15.211Z"
   },
   {
    "duration": 2222,
    "start_time": "2021-12-27T06:16:20.588Z"
   },
   {
    "duration": 3692,
    "start_time": "2021-12-27T06:17:24.996Z"
   },
   {
    "duration": 1094,
    "start_time": "2021-12-27T06:18:34.331Z"
   },
   {
    "duration": 969,
    "start_time": "2021-12-27T06:19:14.386Z"
   },
   {
    "duration": 9,
    "start_time": "2021-12-27T06:20:07.881Z"
   },
   {
    "duration": 5,
    "start_time": "2021-12-27T06:22:15.120Z"
   },
   {
    "duration": 7,
    "start_time": "2021-12-27T06:22:37.191Z"
   },
   {
    "duration": 2,
    "start_time": "2021-12-27T06:22:45.021Z"
   },
   {
    "duration": 152,
    "start_time": "2021-12-27T06:22:45.279Z"
   },
   {
    "duration": 20,
    "start_time": "2021-12-27T06:22:45.433Z"
   },
   {
    "duration": 42,
    "start_time": "2021-12-27T06:22:45.455Z"
   },
   {
    "duration": 173,
    "start_time": "2021-12-27T06:22:45.776Z"
   },
   {
    "duration": 15,
    "start_time": "2021-12-27T06:22:45.951Z"
   },
   {
    "duration": 32,
    "start_time": "2021-12-27T06:22:45.969Z"
   },
   {
    "duration": 86,
    "start_time": "2021-12-27T06:22:46.364Z"
   },
   {
    "duration": 14,
    "start_time": "2021-12-27T06:22:46.452Z"
   },
   {
    "duration": 14,
    "start_time": "2021-12-27T06:22:46.536Z"
   },
   {
    "duration": 22,
    "start_time": "2021-12-27T06:22:46.782Z"
   },
   {
    "duration": 7,
    "start_time": "2021-12-27T06:22:46.876Z"
   },
   {
    "duration": 6,
    "start_time": "2021-12-27T06:22:46.967Z"
   },
   {
    "duration": 37,
    "start_time": "2021-12-27T06:22:47.201Z"
   },
   {
    "duration": 6,
    "start_time": "2021-12-27T06:22:47.286Z"
   },
   {
    "duration": 8,
    "start_time": "2021-12-27T06:22:47.382Z"
   },
   {
    "duration": 9,
    "start_time": "2021-12-27T06:22:47.956Z"
   },
   {
    "duration": 18,
    "start_time": "2021-12-27T06:22:48.043Z"
   },
   {
    "duration": 153,
    "start_time": "2021-12-27T06:22:48.376Z"
   },
   {
    "duration": 55,
    "start_time": "2021-12-27T06:22:48.796Z"
   },
   {
    "duration": 5,
    "start_time": "2021-12-27T06:22:48.880Z"
   },
   {
    "duration": 62,
    "start_time": "2021-12-27T06:22:49.217Z"
   },
   {
    "duration": 25,
    "start_time": "2021-12-27T06:22:49.805Z"
   },
   {
    "duration": 9,
    "start_time": "2021-12-27T06:22:49.905Z"
   },
   {
    "duration": 2,
    "start_time": "2021-12-27T06:22:50.063Z"
   },
   {
    "duration": 2515,
    "start_time": "2021-12-27T06:22:50.148Z"
   },
   {
    "duration": 7,
    "start_time": "2021-12-27T06:22:52.665Z"
   },
   {
    "duration": 5,
    "start_time": "2021-12-27T06:22:54.127Z"
   },
   {
    "duration": 5,
    "start_time": "2021-12-27T06:22:55.326Z"
   },
   {
    "duration": 5,
    "start_time": "2021-12-27T06:22:56.279Z"
   },
   {
    "duration": 5,
    "start_time": "2021-12-27T06:22:57.215Z"
   },
   {
    "duration": 6,
    "start_time": "2021-12-27T06:23:44.343Z"
   },
   {
    "duration": 4,
    "start_time": "2021-12-27T06:23:53.506Z"
   },
   {
    "duration": 145,
    "start_time": "2021-12-27T06:23:53.758Z"
   },
   {
    "duration": 20,
    "start_time": "2021-12-27T06:23:53.905Z"
   },
   {
    "duration": 19,
    "start_time": "2021-12-27T06:23:53.927Z"
   },
   {
    "duration": 151,
    "start_time": "2021-12-27T06:23:54.261Z"
   },
   {
    "duration": 16,
    "start_time": "2021-12-27T06:23:54.414Z"
   },
   {
    "duration": 16,
    "start_time": "2021-12-27T06:23:54.432Z"
   },
   {
    "duration": 92,
    "start_time": "2021-12-27T06:23:54.848Z"
   },
   {
    "duration": 14,
    "start_time": "2021-12-27T06:23:54.942Z"
   },
   {
    "duration": 14,
    "start_time": "2021-12-27T06:23:55.016Z"
   },
   {
    "duration": 23,
    "start_time": "2021-12-27T06:23:55.265Z"
   },
   {
    "duration": 6,
    "start_time": "2021-12-27T06:23:55.359Z"
   },
   {
    "duration": 6,
    "start_time": "2021-12-27T06:23:55.444Z"
   },
   {
    "duration": 37,
    "start_time": "2021-12-27T06:23:55.687Z"
   },
   {
    "duration": 6,
    "start_time": "2021-12-27T06:23:55.769Z"
   },
   {
    "duration": 6,
    "start_time": "2021-12-27T06:23:55.858Z"
   },
   {
    "duration": 6,
    "start_time": "2021-12-27T06:23:56.441Z"
   },
   {
    "duration": 15,
    "start_time": "2021-12-27T06:23:56.528Z"
   },
   {
    "duration": 143,
    "start_time": "2021-12-27T06:23:56.859Z"
   },
   {
    "duration": 53,
    "start_time": "2021-12-27T06:23:57.279Z"
   },
   {
    "duration": 5,
    "start_time": "2021-12-27T06:23:57.361Z"
   },
   {
    "duration": 61,
    "start_time": "2021-12-27T06:23:57.698Z"
   },
   {
    "duration": 24,
    "start_time": "2021-12-27T06:23:58.284Z"
   },
   {
    "duration": 9,
    "start_time": "2021-12-27T06:23:58.376Z"
   },
   {
    "duration": 2,
    "start_time": "2021-12-27T06:23:58.543Z"
   },
   {
    "duration": 2293,
    "start_time": "2021-12-27T06:23:58.621Z"
   },
   {
    "duration": 167,
    "start_time": "2021-12-27T06:24:00.916Z"
   },
   {
    "duration": -71,
    "start_time": "2021-12-27T06:24:01.157Z"
   },
   {
    "duration": -74,
    "start_time": "2021-12-27T06:24:01.162Z"
   },
   {
    "duration": 8,
    "start_time": "2021-12-27T06:24:44.790Z"
   },
   {
    "duration": 5,
    "start_time": "2021-12-27T06:24:47.678Z"
   },
   {
    "duration": 5,
    "start_time": "2021-12-27T06:24:59.564Z"
   },
   {
    "duration": 6,
    "start_time": "2021-12-27T06:25:00.814Z"
   },
   {
    "duration": 6,
    "start_time": "2021-12-27T06:25:06.133Z"
   },
   {
    "duration": 5,
    "start_time": "2021-12-27T06:25:15.201Z"
   },
   {
    "duration": 5,
    "start_time": "2021-12-27T06:25:17.045Z"
   },
   {
    "duration": 5,
    "start_time": "2021-12-27T06:25:31.535Z"
   },
   {
    "duration": 20,
    "start_time": "2021-12-27T06:27:10.741Z"
   },
   {
    "duration": 3,
    "start_time": "2021-12-27T06:27:39.457Z"
   },
   {
    "duration": 144,
    "start_time": "2021-12-27T06:27:39.711Z"
   },
   {
    "duration": 21,
    "start_time": "2021-12-27T06:27:39.857Z"
   },
   {
    "duration": 21,
    "start_time": "2021-12-27T06:27:39.892Z"
   },
   {
    "duration": 161,
    "start_time": "2021-12-27T06:27:40.213Z"
   },
   {
    "duration": 20,
    "start_time": "2021-12-27T06:27:40.376Z"
   },
   {
    "duration": 16,
    "start_time": "2021-12-27T06:27:40.398Z"
   },
   {
    "duration": 87,
    "start_time": "2021-12-27T06:27:40.800Z"
   },
   {
    "duration": 14,
    "start_time": "2021-12-27T06:27:40.889Z"
   },
   {
    "duration": 16,
    "start_time": "2021-12-27T06:27:40.968Z"
   },
   {
    "duration": 21,
    "start_time": "2021-12-27T06:27:41.217Z"
   },
   {
    "duration": 6,
    "start_time": "2021-12-27T06:27:41.315Z"
   },
   {
    "duration": 6,
    "start_time": "2021-12-27T06:27:41.387Z"
   },
   {
    "duration": 36,
    "start_time": "2021-12-27T06:27:41.636Z"
   },
   {
    "duration": 7,
    "start_time": "2021-12-27T06:27:41.720Z"
   },
   {
    "duration": 5,
    "start_time": "2021-12-27T06:27:41.816Z"
   },
   {
    "duration": 8,
    "start_time": "2021-12-27T06:27:43.680Z"
   },
   {
    "duration": 15,
    "start_time": "2021-12-27T06:27:43.768Z"
   },
   {
    "duration": 155,
    "start_time": "2021-12-27T06:27:44.100Z"
   },
   {
    "duration": 56,
    "start_time": "2021-12-27T06:27:44.520Z"
   },
   {
    "duration": 5,
    "start_time": "2021-12-27T06:27:44.602Z"
   },
   {
    "duration": 62,
    "start_time": "2021-12-27T06:27:44.939Z"
   },
   {
    "duration": 24,
    "start_time": "2021-12-27T06:27:46.547Z"
   },
   {
    "duration": 9,
    "start_time": "2021-12-27T06:27:46.948Z"
   },
   {
    "duration": 21,
    "start_time": "2021-12-27T06:27:47.634Z"
   },
   {
    "duration": 3,
    "start_time": "2021-12-27T06:27:58.803Z"
   },
   {
    "duration": 139,
    "start_time": "2021-12-27T06:29:30.339Z"
   },
   {
    "duration": 18,
    "start_time": "2021-12-27T06:29:34.620Z"
   },
   {
    "duration": 21,
    "start_time": "2021-12-27T06:29:46.467Z"
   },
   {
    "duration": 20,
    "start_time": "2021-12-27T06:29:58.410Z"
   },
   {
    "duration": 20,
    "start_time": "2021-12-27T06:31:39.042Z"
   },
   {
    "duration": 17,
    "start_time": "2021-12-27T06:31:43.762Z"
   },
   {
    "duration": 6,
    "start_time": "2021-12-27T06:35:41.399Z"
   },
   {
    "duration": 5,
    "start_time": "2021-12-27T06:36:30.200Z"
   },
   {
    "duration": 5,
    "start_time": "2021-12-27T06:36:42.759Z"
   },
   {
    "duration": 5,
    "start_time": "2021-12-27T06:37:28.646Z"
   },
   {
    "duration": 3,
    "start_time": "2021-12-27T06:37:35.993Z"
   },
   {
    "duration": 149,
    "start_time": "2021-12-27T06:37:36.247Z"
   },
   {
    "duration": 20,
    "start_time": "2021-12-27T06:37:36.398Z"
   },
   {
    "duration": 21,
    "start_time": "2021-12-27T06:37:36.420Z"
   },
   {
    "duration": 163,
    "start_time": "2021-12-27T06:37:36.749Z"
   },
   {
    "duration": 16,
    "start_time": "2021-12-27T06:37:36.914Z"
   },
   {
    "duration": 16,
    "start_time": "2021-12-27T06:37:36.932Z"
   },
   {
    "duration": 89,
    "start_time": "2021-12-27T06:37:37.336Z"
   },
   {
    "duration": 15,
    "start_time": "2021-12-27T06:37:37.426Z"
   },
   {
    "duration": 14,
    "start_time": "2021-12-27T06:37:37.507Z"
   },
   {
    "duration": 22,
    "start_time": "2021-12-27T06:37:37.754Z"
   },
   {
    "duration": 6,
    "start_time": "2021-12-27T06:37:37.846Z"
   },
   {
    "duration": 7,
    "start_time": "2021-12-27T06:37:37.921Z"
   },
   {
    "duration": 38,
    "start_time": "2021-12-27T06:37:38.172Z"
   },
   {
    "duration": 7,
    "start_time": "2021-12-27T06:37:38.256Z"
   },
   {
    "duration": 6,
    "start_time": "2021-12-27T06:37:38.344Z"
   },
   {
    "duration": 8,
    "start_time": "2021-12-27T06:37:40.609Z"
   },
   {
    "duration": 14,
    "start_time": "2021-12-27T06:37:40.698Z"
   },
   {
    "duration": 150,
    "start_time": "2021-12-27T06:37:41.031Z"
   },
   {
    "duration": 56,
    "start_time": "2021-12-27T06:37:41.448Z"
   },
   {
    "duration": 4,
    "start_time": "2021-12-27T06:37:41.532Z"
   },
   {
    "duration": 60,
    "start_time": "2021-12-27T06:37:41.869Z"
   },
   {
    "duration": 24,
    "start_time": "2021-12-27T06:37:42.453Z"
   },
   {
    "duration": 9,
    "start_time": "2021-12-27T06:37:42.545Z"
   },
   {
    "duration": 3,
    "start_time": "2021-12-27T06:37:42.705Z"
   },
   {
    "duration": 2226,
    "start_time": "2021-12-27T06:37:42.790Z"
   },
   {
    "duration": 6,
    "start_time": "2021-12-27T06:37:45.018Z"
   },
   {
    "duration": 26,
    "start_time": "2021-12-27T06:37:56.165Z"
   },
   {
    "duration": 4,
    "start_time": "2021-12-27T06:39:52.413Z"
   },
   {
    "duration": 5,
    "start_time": "2021-12-27T06:40:29.228Z"
   },
   {
    "duration": 5,
    "start_time": "2021-12-27T06:40:43.252Z"
   },
   {
    "duration": 12,
    "start_time": "2021-12-27T08:15:04.747Z"
   },
   {
    "duration": 13,
    "start_time": "2021-12-27T08:16:01.587Z"
   },
   {
    "duration": 2,
    "start_time": "2021-12-27T08:16:23.671Z"
   },
   {
    "duration": 145,
    "start_time": "2021-12-27T08:16:23.922Z"
   },
   {
    "duration": 28,
    "start_time": "2021-12-27T08:16:24.069Z"
   },
   {
    "duration": 24,
    "start_time": "2021-12-27T08:16:24.100Z"
   },
   {
    "duration": 152,
    "start_time": "2021-12-27T08:16:24.425Z"
   },
   {
    "duration": 32,
    "start_time": "2021-12-27T08:16:24.579Z"
   },
   {
    "duration": 17,
    "start_time": "2021-12-27T08:16:24.613Z"
   },
   {
    "duration": 93,
    "start_time": "2021-12-27T08:16:25.013Z"
   },
   {
    "duration": 15,
    "start_time": "2021-12-27T08:16:25.108Z"
   },
   {
    "duration": 18,
    "start_time": "2021-12-27T08:16:25.183Z"
   },
   {
    "duration": 21,
    "start_time": "2021-12-27T08:16:25.432Z"
   },
   {
    "duration": 6,
    "start_time": "2021-12-27T08:16:25.523Z"
   },
   {
    "duration": 6,
    "start_time": "2021-12-27T08:16:25.614Z"
   },
   {
    "duration": 73,
    "start_time": "2021-12-27T08:16:25.850Z"
   },
   {
    "duration": 8,
    "start_time": "2021-12-27T08:16:25.931Z"
   },
   {
    "duration": 6,
    "start_time": "2021-12-27T08:16:26.024Z"
   },
   {
    "duration": 8,
    "start_time": "2021-12-27T08:16:26.603Z"
   },
   {
    "duration": 22,
    "start_time": "2021-12-27T08:16:26.692Z"
   },
   {
    "duration": 151,
    "start_time": "2021-12-27T08:16:27.022Z"
   },
   {
    "duration": 123,
    "start_time": "2021-12-27T08:16:27.444Z"
   },
   {
    "duration": 4,
    "start_time": "2021-12-27T08:16:27.569Z"
   },
   {
    "duration": 67,
    "start_time": "2021-12-27T08:16:27.863Z"
   },
   {
    "duration": 25,
    "start_time": "2021-12-27T08:16:28.450Z"
   },
   {
    "duration": 9,
    "start_time": "2021-12-27T08:16:28.538Z"
   },
   {
    "duration": 3,
    "start_time": "2021-12-27T08:16:28.706Z"
   },
   {
    "duration": 2435,
    "start_time": "2021-12-27T08:16:28.786Z"
   },
   {
    "duration": 4,
    "start_time": "2021-12-27T08:16:31.223Z"
   },
   {
    "duration": 27,
    "start_time": "2021-12-27T08:16:31.229Z"
   },
   {
    "duration": 37,
    "start_time": "2021-12-27T08:16:31.258Z"
   },
   {
    "duration": 11,
    "start_time": "2021-12-27T08:16:31.298Z"
   },
   {
    "duration": 23,
    "start_time": "2021-12-27T08:16:31.311Z"
   },
   {
    "duration": 20,
    "start_time": "2021-12-27T08:16:32.849Z"
   },
   {
    "duration": 9,
    "start_time": "2021-12-27T08:16:33.369Z"
   },
   {
    "duration": 11,
    "start_time": "2021-12-27T08:16:33.953Z"
   },
   {
    "duration": 610,
    "start_time": "2021-12-27T08:17:33.714Z"
   },
   {
    "duration": 190,
    "start_time": "2021-12-27T08:17:49.753Z"
   },
   {
    "duration": 2,
    "start_time": "2021-12-27T08:19:24.652Z"
   },
   {
    "duration": 154,
    "start_time": "2021-12-27T08:19:24.904Z"
   },
   {
    "duration": 19,
    "start_time": "2021-12-27T08:19:25.060Z"
   },
   {
    "duration": 27,
    "start_time": "2021-12-27T08:19:25.093Z"
   },
   {
    "duration": 158,
    "start_time": "2021-12-27T08:19:25.406Z"
   },
   {
    "duration": 16,
    "start_time": "2021-12-27T08:19:25.567Z"
   },
   {
    "duration": 23,
    "start_time": "2021-12-27T08:19:25.593Z"
   },
   {
    "duration": 91,
    "start_time": "2021-12-27T08:19:25.994Z"
   },
   {
    "duration": 26,
    "start_time": "2021-12-27T08:19:26.087Z"
   },
   {
    "duration": 15,
    "start_time": "2021-12-27T08:19:26.161Z"
   },
   {
    "duration": 23,
    "start_time": "2021-12-27T08:19:26.411Z"
   },
   {
    "duration": 8,
    "start_time": "2021-12-27T08:19:26.510Z"
   },
   {
    "duration": 7,
    "start_time": "2021-12-27T08:19:26.578Z"
   },
   {
    "duration": 50,
    "start_time": "2021-12-27T08:19:26.830Z"
   },
   {
    "duration": 7,
    "start_time": "2021-12-27T08:19:26.914Z"
   },
   {
    "duration": 9,
    "start_time": "2021-12-27T08:19:27.001Z"
   },
   {
    "duration": 7,
    "start_time": "2021-12-27T08:19:27.584Z"
   },
   {
    "duration": 15,
    "start_time": "2021-12-27T08:19:27.670Z"
   },
   {
    "duration": 164,
    "start_time": "2021-12-27T08:19:28.002Z"
   },
   {
    "duration": 57,
    "start_time": "2021-12-27T08:19:28.420Z"
   },
   {
    "duration": 6,
    "start_time": "2021-12-27T08:19:28.505Z"
   },
   {
    "duration": 66,
    "start_time": "2021-12-27T08:19:28.841Z"
   },
   {
    "duration": 25,
    "start_time": "2021-12-27T08:19:29.427Z"
   },
   {
    "duration": 9,
    "start_time": "2021-12-27T08:19:29.515Z"
   },
   {
    "duration": 2,
    "start_time": "2021-12-27T08:19:29.684Z"
   },
   {
    "duration": 2370,
    "start_time": "2021-12-27T08:19:29.762Z"
   },
   {
    "duration": 4,
    "start_time": "2021-12-27T08:19:32.135Z"
   },
   {
    "duration": 25,
    "start_time": "2021-12-27T08:19:32.141Z"
   },
   {
    "duration": 42,
    "start_time": "2021-12-27T08:19:32.168Z"
   },
   {
    "duration": 8,
    "start_time": "2021-12-27T08:19:32.212Z"
   },
   {
    "duration": 20,
    "start_time": "2021-12-27T08:19:33.001Z"
   },
   {
    "duration": 19,
    "start_time": "2021-12-27T08:19:35.023Z"
   },
   {
    "duration": 9,
    "start_time": "2021-12-27T08:19:35.976Z"
   },
   {
    "duration": 197,
    "start_time": "2021-12-27T08:19:37.080Z"
   },
   {
    "duration": 1990,
    "start_time": "2021-12-27T08:21:00.231Z"
   },
   {
    "duration": 1965,
    "start_time": "2021-12-27T08:21:51.656Z"
   },
   {
    "duration": 1972,
    "start_time": "2021-12-27T08:22:11.862Z"
   },
   {
    "duration": 1972,
    "start_time": "2021-12-27T08:23:13.800Z"
   },
   {
    "duration": 1902,
    "start_time": "2021-12-27T08:23:42.271Z"
   },
   {
    "duration": 3,
    "start_time": "2021-12-27T08:24:54.616Z"
   },
   {
    "duration": 170,
    "start_time": "2021-12-27T08:24:54.867Z"
   },
   {
    "duration": 21,
    "start_time": "2021-12-27T08:24:55.038Z"
   },
   {
    "duration": 33,
    "start_time": "2021-12-27T08:24:55.061Z"
   },
   {
    "duration": 171,
    "start_time": "2021-12-27T08:24:55.369Z"
   },
   {
    "duration": 17,
    "start_time": "2021-12-27T08:24:55.542Z"
   },
   {
    "duration": 38,
    "start_time": "2021-12-27T08:24:55.561Z"
   },
   {
    "duration": 103,
    "start_time": "2021-12-27T08:24:55.954Z"
   },
   {
    "duration": 15,
    "start_time": "2021-12-27T08:24:56.059Z"
   },
   {
    "duration": 15,
    "start_time": "2021-12-27T08:24:56.124Z"
   },
   {
    "duration": 26,
    "start_time": "2021-12-27T08:24:56.373Z"
   },
   {
    "duration": 7,
    "start_time": "2021-12-27T08:24:56.465Z"
   },
   {
    "duration": 6,
    "start_time": "2021-12-27T08:24:56.555Z"
   },
   {
    "duration": 54,
    "start_time": "2021-12-27T08:24:56.791Z"
   },
   {
    "duration": 7,
    "start_time": "2021-12-27T08:24:56.874Z"
   },
   {
    "duration": 6,
    "start_time": "2021-12-27T08:24:56.969Z"
   },
   {
    "duration": 7,
    "start_time": "2021-12-27T08:24:57.545Z"
   },
   {
    "duration": 15,
    "start_time": "2021-12-27T08:24:57.633Z"
   },
   {
    "duration": 168,
    "start_time": "2021-12-27T08:24:57.963Z"
   },
   {
    "duration": 93,
    "start_time": "2021-12-27T08:24:58.381Z"
   },
   {
    "duration": 16,
    "start_time": "2021-12-27T08:24:58.476Z"
   },
   {
    "duration": 66,
    "start_time": "2021-12-27T08:24:58.802Z"
   },
   {
    "duration": 29,
    "start_time": "2021-12-27T08:25:00.787Z"
   },
   {
    "duration": 15,
    "start_time": "2021-12-27T08:25:01.289Z"
   },
   {
    "duration": 3,
    "start_time": "2021-12-27T08:25:01.458Z"
   },
   {
    "duration": 2428,
    "start_time": "2021-12-27T08:25:01.540Z"
   },
   {
    "duration": 5,
    "start_time": "2021-12-27T08:25:03.970Z"
   },
   {
    "duration": 43,
    "start_time": "2021-12-27T08:25:03.977Z"
   },
   {
    "duration": 42,
    "start_time": "2021-12-27T08:25:04.022Z"
   },
   {
    "duration": 9,
    "start_time": "2021-12-27T08:25:04.675Z"
   },
   {
    "duration": 19,
    "start_time": "2021-12-27T08:25:08.004Z"
   },
   {
    "duration": 21,
    "start_time": "2021-12-27T08:25:11.202Z"
   },
   {
    "duration": 12,
    "start_time": "2021-12-27T08:25:13.155Z"
   },
   {
    "duration": 1943,
    "start_time": "2021-12-27T08:27:28.420Z"
   },
   {
    "duration": 4,
    "start_time": "2021-12-27T08:27:38.458Z"
   },
   {
    "duration": 5,
    "start_time": "2021-12-27T08:44:39.134Z"
   },
   {
    "duration": 20,
    "start_time": "2021-12-27T08:45:44.071Z"
   },
   {
    "duration": 374,
    "start_time": "2021-12-27T08:48:41.180Z"
   },
   {
    "duration": 148,
    "start_time": "2021-12-27T08:48:52.635Z"
   },
   {
    "duration": 138,
    "start_time": "2021-12-27T08:48:59.795Z"
   },
   {
    "duration": 9,
    "start_time": "2021-12-27T08:49:03.786Z"
   },
   {
    "duration": 6,
    "start_time": "2021-12-27T08:52:02.825Z"
   },
   {
    "duration": 30,
    "start_time": "2021-12-27T08:52:57.293Z"
   },
   {
    "duration": 18,
    "start_time": "2021-12-27T08:53:27.743Z"
   },
   {
    "duration": 49,
    "start_time": "2021-12-27T08:56:09.135Z"
   },
   {
    "duration": 8,
    "start_time": "2021-12-27T08:56:37.574Z"
   },
   {
    "duration": 12,
    "start_time": "2021-12-27T08:57:13.223Z"
   },
   {
    "duration": 20,
    "start_time": "2021-12-27T08:57:31.909Z"
   },
   {
    "duration": 49,
    "start_time": "2021-12-27T08:57:38.245Z"
   },
   {
    "duration": 7,
    "start_time": "2021-12-27T08:57:50.812Z"
   },
   {
    "duration": 5,
    "start_time": "2021-12-27T08:59:25.683Z"
   },
   {
    "duration": 18,
    "start_time": "2021-12-27T09:00:24.315Z"
   },
   {
    "duration": 6,
    "start_time": "2021-12-27T09:06:56.487Z"
   },
   {
    "duration": 3,
    "start_time": "2021-12-27T09:07:04.747Z"
   },
   {
    "duration": 147,
    "start_time": "2021-12-27T09:07:04.999Z"
   },
   {
    "duration": 22,
    "start_time": "2021-12-27T09:07:05.148Z"
   },
   {
    "duration": 36,
    "start_time": "2021-12-27T09:07:05.173Z"
   },
   {
    "duration": 154,
    "start_time": "2021-12-27T09:07:05.502Z"
   },
   {
    "duration": 16,
    "start_time": "2021-12-27T09:07:05.658Z"
   },
   {
    "duration": 25,
    "start_time": "2021-12-27T09:07:05.691Z"
   },
   {
    "duration": 87,
    "start_time": "2021-12-27T09:07:06.091Z"
   },
   {
    "duration": 16,
    "start_time": "2021-12-27T09:07:06.180Z"
   },
   {
    "duration": 15,
    "start_time": "2021-12-27T09:07:06.263Z"
   },
   {
    "duration": 23,
    "start_time": "2021-12-27T09:07:06.505Z"
   },
   {
    "duration": 12,
    "start_time": "2021-12-27T09:07:06.598Z"
   },
   {
    "duration": 8,
    "start_time": "2021-12-27T09:07:06.689Z"
   },
   {
    "duration": 51,
    "start_time": "2021-12-27T09:07:06.924Z"
   },
   {
    "duration": 7,
    "start_time": "2021-12-27T09:07:07.008Z"
   },
   {
    "duration": 9,
    "start_time": "2021-12-27T09:07:07.100Z"
   },
   {
    "duration": 7,
    "start_time": "2021-12-27T09:07:07.677Z"
   },
   {
    "duration": 14,
    "start_time": "2021-12-27T09:07:07.775Z"
   },
   {
    "duration": 180,
    "start_time": "2021-12-27T09:07:08.093Z"
   },
   {
    "duration": 56,
    "start_time": "2021-12-27T09:07:08.511Z"
   },
   {
    "duration": 6,
    "start_time": "2021-12-27T09:07:08.595Z"
   },
   {
    "duration": 64,
    "start_time": "2021-12-27T09:07:08.930Z"
   },
   {
    "duration": 25,
    "start_time": "2021-12-27T09:07:09.516Z"
   },
   {
    "duration": 11,
    "start_time": "2021-12-27T09:07:09.609Z"
   },
   {
    "duration": 2,
    "start_time": "2021-12-27T09:07:09.771Z"
   },
   {
    "duration": 2375,
    "start_time": "2021-12-27T09:07:09.856Z"
   },
   {
    "duration": 5,
    "start_time": "2021-12-27T09:07:12.233Z"
   },
   {
    "duration": 28,
    "start_time": "2021-12-27T09:07:12.240Z"
   },
   {
    "duration": 41,
    "start_time": "2021-12-27T09:07:12.270Z"
   },
   {
    "duration": 9,
    "start_time": "2021-12-27T09:07:12.313Z"
   },
   {
    "duration": 25,
    "start_time": "2021-12-27T09:07:12.324Z"
   },
   {
    "duration": 54,
    "start_time": "2021-12-27T09:07:12.351Z"
   },
   {
    "duration": 10,
    "start_time": "2021-12-27T09:07:12.409Z"
   },
   {
    "duration": 11,
    "start_time": "2021-12-27T09:07:13.311Z"
   },
   {
    "duration": 21,
    "start_time": "2021-12-27T09:07:17.128Z"
   },
   {
    "duration": 45,
    "start_time": "2021-12-27T09:07:19.431Z"
   },
   {
    "duration": 5,
    "start_time": "2021-12-27T09:07:21.646Z"
   },
   {
    "duration": 20,
    "start_time": "2021-12-27T09:08:00.549Z"
   },
   {
    "duration": 10,
    "start_time": "2021-12-27T09:08:01.773Z"
   },
   {
    "duration": 7,
    "start_time": "2021-12-27T09:08:02.390Z"
   },
   {
    "duration": 8,
    "start_time": "2021-12-27T09:08:06.405Z"
   },
   {
    "duration": 22,
    "start_time": "2021-12-27T09:08:06.687Z"
   },
   {
    "duration": 11,
    "start_time": "2021-12-27T09:08:07.695Z"
   },
   {
    "duration": 9,
    "start_time": "2021-12-27T09:08:09.805Z"
   },
   {
    "duration": 12,
    "start_time": "2021-12-27T09:08:17.502Z"
   },
   {
    "duration": 5,
    "start_time": "2021-12-27T09:08:20.533Z"
   },
   {
    "duration": 4,
    "start_time": "2021-12-27T09:13:49.330Z"
   },
   {
    "duration": 4,
    "start_time": "2021-12-27T09:14:01.171Z"
   },
   {
    "duration": 142,
    "start_time": "2021-12-27T09:20:27.104Z"
   },
   {
    "duration": 8,
    "start_time": "2021-12-27T09:20:31.615Z"
   },
   {
    "duration": 11,
    "start_time": "2021-12-27T09:24:13.965Z"
   },
   {
    "duration": 10,
    "start_time": "2021-12-27T09:24:22.358Z"
   },
   {
    "duration": 12,
    "start_time": "2021-12-27T09:25:33.876Z"
   },
   {
    "duration": 9,
    "start_time": "2021-12-27T09:26:07.781Z"
   },
   {
    "duration": 140,
    "start_time": "2021-12-27T09:26:16.323Z"
   },
   {
    "duration": 7,
    "start_time": "2021-12-27T09:26:23.475Z"
   },
   {
    "duration": 4,
    "start_time": "2021-12-27T09:26:30.931Z"
   },
   {
    "duration": 6,
    "start_time": "2021-12-27T09:27:47.963Z"
   },
   {
    "duration": 3,
    "start_time": "2021-12-27T09:27:54.772Z"
   },
   {
    "duration": 148,
    "start_time": "2021-12-27T09:27:55.023Z"
   },
   {
    "duration": 27,
    "start_time": "2021-12-27T09:27:55.173Z"
   },
   {
    "duration": 22,
    "start_time": "2021-12-27T09:27:55.204Z"
   },
   {
    "duration": 150,
    "start_time": "2021-12-27T09:27:55.526Z"
   },
   {
    "duration": 24,
    "start_time": "2021-12-27T09:27:55.678Z"
   },
   {
    "duration": 23,
    "start_time": "2021-12-27T09:27:55.707Z"
   },
   {
    "duration": 116,
    "start_time": "2021-12-27T09:27:56.110Z"
   },
   {
    "duration": 14,
    "start_time": "2021-12-27T09:27:56.228Z"
   },
   {
    "duration": 21,
    "start_time": "2021-12-27T09:27:56.291Z"
   },
   {
    "duration": 22,
    "start_time": "2021-12-27T09:27:56.534Z"
   },
   {
    "duration": 7,
    "start_time": "2021-12-27T09:27:56.617Z"
   },
   {
    "duration": 7,
    "start_time": "2021-12-27T09:27:56.703Z"
   },
   {
    "duration": 38,
    "start_time": "2021-12-27T09:27:56.946Z"
   },
   {
    "duration": 6,
    "start_time": "2021-12-27T09:27:57.038Z"
   },
   {
    "duration": 6,
    "start_time": "2021-12-27T09:27:57.119Z"
   },
   {
    "duration": 7,
    "start_time": "2021-12-27T09:27:57.702Z"
   },
   {
    "duration": 19,
    "start_time": "2021-12-27T09:27:57.789Z"
   },
   {
    "duration": 157,
    "start_time": "2021-12-27T09:27:58.119Z"
   },
   {
    "duration": 57,
    "start_time": "2021-12-27T09:27:58.538Z"
   },
   {
    "duration": 5,
    "start_time": "2021-12-27T09:27:58.621Z"
   },
   {
    "duration": 67,
    "start_time": "2021-12-27T09:27:58.957Z"
   },
   {
    "duration": 24,
    "start_time": "2021-12-27T09:27:59.546Z"
   },
   {
    "duration": 9,
    "start_time": "2021-12-27T09:27:59.635Z"
   },
   {
    "duration": 4,
    "start_time": "2021-12-27T09:27:59.798Z"
   },
   {
    "duration": 2379,
    "start_time": "2021-12-27T09:27:59.895Z"
   },
   {
    "duration": 17,
    "start_time": "2021-12-27T09:28:02.276Z"
   },
   {
    "duration": 28,
    "start_time": "2021-12-27T09:28:02.298Z"
   },
   {
    "duration": 17,
    "start_time": "2021-12-27T09:28:02.327Z"
   },
   {
    "duration": 8,
    "start_time": "2021-12-27T09:28:02.346Z"
   },
   {
    "duration": 18,
    "start_time": "2021-12-27T09:28:03.130Z"
   },
   {
    "duration": 20,
    "start_time": "2021-12-27T09:28:04.552Z"
   },
   {
    "duration": 10,
    "start_time": "2021-12-27T09:28:04.749Z"
   },
   {
    "duration": 12,
    "start_time": "2021-12-27T09:28:05.145Z"
   },
   {
    "duration": 23,
    "start_time": "2021-12-27T09:28:05.578Z"
   },
   {
    "duration": 46,
    "start_time": "2021-12-27T09:28:06.009Z"
   },
   {
    "duration": 4,
    "start_time": "2021-12-27T09:28:06.537Z"
   },
   {
    "duration": 8,
    "start_time": "2021-12-27T09:28:09.433Z"
   },
   {
    "duration": 5,
    "start_time": "2021-12-27T09:28:11.361Z"
   },
   {
    "duration": 3,
    "start_time": "2021-12-27T09:34:23.592Z"
   },
   {
    "duration": 139,
    "start_time": "2021-12-27T09:34:23.827Z"
   },
   {
    "duration": 34,
    "start_time": "2021-12-27T09:34:23.968Z"
   },
   {
    "duration": 22,
    "start_time": "2021-12-27T09:34:24.004Z"
   },
   {
    "duration": 152,
    "start_time": "2021-12-27T09:34:24.328Z"
   },
   {
    "duration": 27,
    "start_time": "2021-12-27T09:34:24.481Z"
   },
   {
    "duration": 17,
    "start_time": "2021-12-27T09:34:24.510Z"
   },
   {
    "duration": 94,
    "start_time": "2021-12-27T09:34:24.913Z"
   },
   {
    "duration": 15,
    "start_time": "2021-12-27T09:34:25.009Z"
   },
   {
    "duration": 21,
    "start_time": "2021-12-27T09:34:25.083Z"
   },
   {
    "duration": 22,
    "start_time": "2021-12-27T09:34:25.333Z"
   },
   {
    "duration": 6,
    "start_time": "2021-12-27T09:34:25.431Z"
   },
   {
    "duration": 7,
    "start_time": "2021-12-27T09:34:25.502Z"
   },
   {
    "duration": 37,
    "start_time": "2021-12-27T09:34:25.752Z"
   },
   {
    "duration": 7,
    "start_time": "2021-12-27T09:34:25.839Z"
   },
   {
    "duration": 6,
    "start_time": "2021-12-27T09:34:25.937Z"
   },
   {
    "duration": 7,
    "start_time": "2021-12-27T09:34:26.507Z"
   },
   {
    "duration": 18,
    "start_time": "2021-12-27T09:34:26.595Z"
   },
   {
    "duration": 154,
    "start_time": "2021-12-27T09:34:26.927Z"
   },
   {
    "duration": 61,
    "start_time": "2021-12-27T09:34:27.345Z"
   },
   {
    "duration": 5,
    "start_time": "2021-12-27T09:34:27.428Z"
   },
   {
    "duration": 66,
    "start_time": "2021-12-27T09:34:27.764Z"
   },
   {
    "duration": 24,
    "start_time": "2021-12-27T09:34:28.351Z"
   },
   {
    "duration": 10,
    "start_time": "2021-12-27T09:34:28.443Z"
   },
   {
    "duration": 3,
    "start_time": "2021-12-27T09:34:28.603Z"
   },
   {
    "duration": 2359,
    "start_time": "2021-12-27T09:34:28.686Z"
   },
   {
    "duration": 5,
    "start_time": "2021-12-27T09:34:31.047Z"
   },
   {
    "duration": 38,
    "start_time": "2021-12-27T09:34:31.054Z"
   },
   {
    "duration": 20,
    "start_time": "2021-12-27T09:34:31.096Z"
   },
   {
    "duration": 8,
    "start_time": "2021-12-27T09:34:31.118Z"
   },
   {
    "duration": 25,
    "start_time": "2021-12-27T09:34:31.128Z"
   },
   {
    "duration": 20,
    "start_time": "2021-12-27T09:34:31.525Z"
   },
   {
    "duration": 11,
    "start_time": "2021-12-27T09:34:31.686Z"
   },
   {
    "duration": 12,
    "start_time": "2021-12-27T09:34:32.302Z"
   },
   {
    "duration": 32,
    "start_time": "2021-12-27T09:34:33.373Z"
   },
   {
    "duration": 45,
    "start_time": "2021-12-27T09:34:33.733Z"
   },
   {
    "duration": 4,
    "start_time": "2021-12-27T09:34:34.221Z"
   },
   {
    "duration": 8,
    "start_time": "2021-12-27T09:34:35.004Z"
   },
   {
    "duration": 18,
    "start_time": "2021-12-27T09:34:37.908Z"
   },
   {
    "duration": 8,
    "start_time": "2021-12-27T09:34:40.380Z"
   },
   {
    "duration": 5,
    "start_time": "2021-12-27T09:34:41.356Z"
   },
   {
    "duration": 12,
    "start_time": "2021-12-27T09:34:43.788Z"
   },
   {
    "duration": 20,
    "start_time": "2021-12-27T09:34:45.813Z"
   },
   {
    "duration": 7,
    "start_time": "2021-12-27T09:34:47.340Z"
   },
   {
    "duration": 8,
    "start_time": "2021-12-27T09:34:48.261Z"
   },
   {
    "duration": 11,
    "start_time": "2021-12-27T09:34:49.604Z"
   },
   {
    "duration": 7,
    "start_time": "2021-12-27T09:34:50.893Z"
   },
   {
    "duration": 222,
    "start_time": "2021-12-27T09:35:00.460Z"
   },
   {
    "duration": 10,
    "start_time": "2021-12-27T09:35:13.477Z"
   },
   {
    "duration": 16,
    "start_time": "2021-12-27T09:35:45.084Z"
   },
   {
    "duration": 18,
    "start_time": "2021-12-27T09:35:50.101Z"
   },
   {
    "duration": 70,
    "start_time": "2021-12-27T09:36:08.900Z"
   },
   {
    "duration": 310,
    "start_time": "2021-12-27T09:39:38.362Z"
   },
   {
    "duration": 306,
    "start_time": "2021-12-27T09:40:58.403Z"
   },
   {
    "duration": 311,
    "start_time": "2021-12-27T09:42:31.778Z"
   },
   {
    "duration": 320,
    "start_time": "2021-12-27T09:43:14.009Z"
   },
   {
    "duration": 15,
    "start_time": "2021-12-27T09:44:54.630Z"
   },
   {
    "duration": 390,
    "start_time": "2021-12-27T09:46:20.374Z"
   },
   {
    "duration": 14,
    "start_time": "2021-12-27T09:46:55.533Z"
   },
   {
    "duration": 299,
    "start_time": "2021-12-27T09:48:11.501Z"
   },
   {
    "duration": 15,
    "start_time": "2021-12-27T09:49:31.627Z"
   },
   {
    "duration": 309,
    "start_time": "2021-12-27T09:50:28.788Z"
   },
   {
    "duration": 14,
    "start_time": "2021-12-27T09:50:37.875Z"
   },
   {
    "duration": 4,
    "start_time": "2021-12-27T09:51:40.786Z"
   },
   {
    "duration": 6,
    "start_time": "2021-12-27T09:51:47.153Z"
   },
   {
    "duration": 10,
    "start_time": "2021-12-27T09:51:48.729Z"
   },
   {
    "duration": 2,
    "start_time": "2021-12-27T09:51:50.025Z"
   },
   {
    "duration": 335,
    "start_time": "2021-12-27T09:51:54.105Z"
   },
   {
    "duration": 5,
    "start_time": "2021-12-27T09:51:55.227Z"
   },
   {
    "duration": 4,
    "start_time": "2021-12-27T09:52:07.561Z"
   },
   {
    "duration": 3,
    "start_time": "2021-12-27T09:52:12.793Z"
   },
   {
    "duration": 6,
    "start_time": "2021-12-27T09:52:13.538Z"
   },
   {
    "duration": 7,
    "start_time": "2021-12-27T09:52:14.842Z"
   },
   {
    "duration": 10,
    "start_time": "2021-12-27T09:52:16.081Z"
   },
   {
    "duration": 6,
    "start_time": "2021-12-27T09:52:19.217Z"
   },
   {
    "duration": 3,
    "start_time": "2021-12-27T09:56:07.752Z"
   },
   {
    "duration": 4,
    "start_time": "2021-12-27T09:56:18.135Z"
   },
   {
    "duration": 4,
    "start_time": "2021-12-27T09:57:38.423Z"
   },
   {
    "duration": 1135,
    "start_time": "2021-12-28T05:25:59.697Z"
   },
   {
    "duration": 231,
    "start_time": "2021-12-28T05:26:00.835Z"
   },
   {
    "duration": 28,
    "start_time": "2021-12-28T05:26:01.069Z"
   },
   {
    "duration": 26,
    "start_time": "2021-12-28T05:26:01.100Z"
   },
   {
    "duration": 238,
    "start_time": "2021-12-28T05:26:01.128Z"
   },
   {
    "duration": 23,
    "start_time": "2021-12-28T05:26:01.368Z"
   },
   {
    "duration": 22,
    "start_time": "2021-12-28T05:26:01.393Z"
   },
   {
    "duration": 150,
    "start_time": "2021-12-28T05:26:01.418Z"
   },
   {
    "duration": 19,
    "start_time": "2021-12-28T05:26:01.571Z"
   },
   {
    "duration": 19,
    "start_time": "2021-12-28T05:26:01.593Z"
   },
   {
    "duration": 46,
    "start_time": "2021-12-28T05:26:01.615Z"
   },
   {
    "duration": 12,
    "start_time": "2021-12-28T05:26:01.664Z"
   },
   {
    "duration": 10,
    "start_time": "2021-12-28T05:26:01.678Z"
   },
   {
    "duration": 73,
    "start_time": "2021-12-28T05:26:01.690Z"
   },
   {
    "duration": 9,
    "start_time": "2021-12-28T05:26:01.765Z"
   },
   {
    "duration": 10,
    "start_time": "2021-12-28T05:26:01.776Z"
   },
   {
    "duration": 11,
    "start_time": "2021-12-28T05:26:01.789Z"
   },
   {
    "duration": 20,
    "start_time": "2021-12-28T05:26:01.802Z"
   },
   {
    "duration": 294,
    "start_time": "2021-12-28T05:26:01.824Z"
   },
   {
    "duration": 87,
    "start_time": "2021-12-28T05:26:02.120Z"
   },
   {
    "duration": 6,
    "start_time": "2021-12-28T05:26:02.209Z"
   },
   {
    "duration": 105,
    "start_time": "2021-12-28T05:26:02.217Z"
   },
   {
    "duration": 47,
    "start_time": "2021-12-28T05:26:02.328Z"
   },
   {
    "duration": 13,
    "start_time": "2021-12-28T05:26:02.379Z"
   },
   {
    "duration": 7,
    "start_time": "2021-12-28T05:26:02.394Z"
   },
   {
    "duration": 3783,
    "start_time": "2021-12-28T05:26:02.403Z"
   },
   {
    "duration": 6,
    "start_time": "2021-12-28T05:26:06.188Z"
   },
   {
    "duration": 64,
    "start_time": "2021-12-28T05:26:06.197Z"
   },
   {
    "duration": 25,
    "start_time": "2021-12-28T05:26:06.263Z"
   },
   {
    "duration": 11,
    "start_time": "2021-12-28T05:26:06.291Z"
   },
   {
    "duration": 57,
    "start_time": "2021-12-28T05:26:06.304Z"
   },
   {
    "duration": 27,
    "start_time": "2021-12-28T05:26:06.364Z"
   },
   {
    "duration": 12,
    "start_time": "2021-12-28T05:26:06.394Z"
   },
   {
    "duration": 30,
    "start_time": "2021-12-28T05:26:06.409Z"
   },
   {
    "duration": 50,
    "start_time": "2021-12-28T05:26:06.441Z"
   },
   {
    "duration": 92,
    "start_time": "2021-12-28T05:26:06.493Z"
   },
   {
    "duration": 4,
    "start_time": "2021-12-28T05:26:06.587Z"
   },
   {
    "duration": 14,
    "start_time": "2021-12-28T05:26:06.594Z"
   },
   {
    "duration": 49,
    "start_time": "2021-12-28T05:26:06.610Z"
   },
   {
    "duration": 13,
    "start_time": "2021-12-28T05:26:06.661Z"
   },
   {
    "duration": 8,
    "start_time": "2021-12-28T05:26:06.676Z"
   },
   {
    "duration": 13,
    "start_time": "2021-12-28T05:26:06.686Z"
   },
   {
    "duration": 64,
    "start_time": "2021-12-28T05:26:06.701Z"
   },
   {
    "duration": 10,
    "start_time": "2021-12-28T05:26:06.767Z"
   },
   {
    "duration": 12,
    "start_time": "2021-12-28T05:26:06.779Z"
   },
   {
    "duration": 24,
    "start_time": "2021-12-28T05:26:06.793Z"
   },
   {
    "duration": 6,
    "start_time": "2021-12-28T05:26:06.819Z"
   },
   {
    "duration": 385,
    "start_time": "2021-12-28T05:26:06.827Z"
   },
   {
    "duration": 12,
    "start_time": "2021-12-28T05:26:07.214Z"
   },
   {
    "duration": 38,
    "start_time": "2021-12-28T05:26:07.229Z"
   },
   {
    "duration": 22,
    "start_time": "2021-12-28T05:26:07.269Z"
   },
   {
    "duration": 128,
    "start_time": "2021-12-28T05:26:07.293Z"
   },
   {
    "duration": 504,
    "start_time": "2021-12-28T05:26:07.423Z"
   },
   {
    "duration": 33,
    "start_time": "2021-12-28T05:26:07.929Z"
   },
   {
    "duration": 483,
    "start_time": "2021-12-28T05:26:07.965Z"
   },
   {
    "duration": 27,
    "start_time": "2021-12-28T05:26:08.452Z"
   },
   {
    "duration": 477,
    "start_time": "2021-12-28T05:26:08.482Z"
   },
   {
    "duration": 20,
    "start_time": "2021-12-28T05:26:08.962Z"
   },
   {
    "duration": 480,
    "start_time": "2021-12-28T05:26:08.985Z"
   },
   {
    "duration": 23,
    "start_time": "2021-12-28T05:26:09.468Z"
   },
   {
    "duration": 5,
    "start_time": "2021-12-28T05:26:09.494Z"
   },
   {
    "duration": 10,
    "start_time": "2021-12-28T05:26:09.501Z"
   },
   {
    "duration": 52,
    "start_time": "2021-12-28T05:26:09.513Z"
   },
   {
    "duration": 4,
    "start_time": "2021-12-28T05:26:09.567Z"
   },
   {
    "duration": 442,
    "start_time": "2021-12-28T05:26:09.573Z"
   },
   {
    "duration": 7,
    "start_time": "2021-12-28T05:26:10.018Z"
   },
   {
    "duration": 8,
    "start_time": "2021-12-28T05:26:10.027Z"
   },
   {
    "duration": 3,
    "start_time": "2021-12-28T05:26:10.062Z"
   },
   {
    "duration": 10,
    "start_time": "2021-12-28T05:26:10.069Z"
   },
   {
    "duration": 12,
    "start_time": "2021-12-28T05:26:10.082Z"
   },
   {
    "duration": 16,
    "start_time": "2021-12-28T05:26:10.097Z"
   },
   {
    "duration": 48,
    "start_time": "2021-12-28T05:26:10.116Z"
   },
   {
    "duration": 47,
    "start_time": "2021-12-28T05:26:44.497Z"
   },
   {
    "duration": 802,
    "start_time": "2021-12-28T05:37:22.879Z"
   },
   {
    "duration": 240,
    "start_time": "2021-12-28T05:37:23.684Z"
   },
   {
    "duration": 36,
    "start_time": "2021-12-28T05:37:23.927Z"
   },
   {
    "duration": 27,
    "start_time": "2021-12-28T05:37:23.966Z"
   },
   {
    "duration": 227,
    "start_time": "2021-12-28T05:37:23.995Z"
   },
   {
    "duration": 37,
    "start_time": "2021-12-28T05:37:24.224Z"
   },
   {
    "duration": 21,
    "start_time": "2021-12-28T05:37:24.264Z"
   },
   {
    "duration": 139,
    "start_time": "2021-12-28T05:37:24.290Z"
   },
   {
    "duration": 29,
    "start_time": "2021-12-28T05:37:24.432Z"
   },
   {
    "duration": 20,
    "start_time": "2021-12-28T05:37:24.463Z"
   },
   {
    "duration": 32,
    "start_time": "2021-12-28T05:37:24.485Z"
   },
   {
    "duration": 40,
    "start_time": "2021-12-28T05:37:24.520Z"
   },
   {
    "duration": 10,
    "start_time": "2021-12-28T05:37:24.564Z"
   },
   {
    "duration": 65,
    "start_time": "2021-12-28T05:37:24.577Z"
   },
   {
    "duration": 11,
    "start_time": "2021-12-28T05:37:24.645Z"
   },
   {
    "duration": 9,
    "start_time": "2021-12-28T05:37:24.659Z"
   },
   {
    "duration": 14,
    "start_time": "2021-12-28T05:37:24.671Z"
   },
   {
    "duration": 23,
    "start_time": "2021-12-28T05:37:24.688Z"
   },
   {
    "duration": 326,
    "start_time": "2021-12-28T05:37:24.714Z"
   },
   {
    "duration": 97,
    "start_time": "2021-12-28T05:37:25.043Z"
   },
   {
    "duration": 19,
    "start_time": "2021-12-28T05:37:25.143Z"
   },
   {
    "duration": 111,
    "start_time": "2021-12-28T05:37:25.165Z"
   },
   {
    "duration": 34,
    "start_time": "2021-12-28T05:37:25.282Z"
   },
   {
    "duration": 12,
    "start_time": "2021-12-28T05:37:25.320Z"
   },
   {
    "duration": 26,
    "start_time": "2021-12-28T05:37:25.334Z"
   },
   {
    "duration": 3559,
    "start_time": "2021-12-28T05:37:25.363Z"
   },
   {
    "duration": 5,
    "start_time": "2021-12-28T05:37:28.925Z"
   },
   {
    "duration": 53,
    "start_time": "2021-12-28T05:37:28.933Z"
   },
   {
    "duration": 23,
    "start_time": "2021-12-28T05:37:28.988Z"
   },
   {
    "duration": 11,
    "start_time": "2021-12-28T05:37:29.013Z"
   },
   {
    "duration": 48,
    "start_time": "2021-12-28T05:37:29.026Z"
   },
   {
    "duration": 27,
    "start_time": "2021-12-28T05:37:29.077Z"
   },
   {
    "duration": 13,
    "start_time": "2021-12-28T05:37:29.107Z"
   },
   {
    "duration": 55,
    "start_time": "2021-12-28T05:37:29.123Z"
   },
   {
    "duration": 30,
    "start_time": "2021-12-28T05:37:29.180Z"
   },
   {
    "duration": 93,
    "start_time": "2021-12-28T05:37:29.213Z"
   },
   {
    "duration": 5,
    "start_time": "2021-12-28T05:37:29.308Z"
   },
   {
    "duration": 10,
    "start_time": "2021-12-28T05:37:29.315Z"
   },
   {
    "duration": 49,
    "start_time": "2021-12-28T05:37:29.327Z"
   },
   {
    "duration": 12,
    "start_time": "2021-12-28T05:37:29.378Z"
   },
   {
    "duration": 7,
    "start_time": "2021-12-28T05:37:29.392Z"
   },
   {
    "duration": 11,
    "start_time": "2021-12-28T05:37:29.401Z"
   },
   {
    "duration": 62,
    "start_time": "2021-12-28T05:37:29.414Z"
   },
   {
    "duration": 10,
    "start_time": "2021-12-28T05:37:29.478Z"
   },
   {
    "duration": 11,
    "start_time": "2021-12-28T05:37:29.490Z"
   },
   {
    "duration": 24,
    "start_time": "2021-12-28T05:37:29.503Z"
   },
   {
    "duration": 34,
    "start_time": "2021-12-28T05:37:29.529Z"
   },
   {
    "duration": 362,
    "start_time": "2021-12-28T05:37:29.566Z"
   },
   {
    "duration": 12,
    "start_time": "2021-12-28T05:37:29.931Z"
   },
   {
    "duration": 16,
    "start_time": "2021-12-28T05:37:29.960Z"
   },
   {
    "duration": 21,
    "start_time": "2021-12-28T05:37:29.978Z"
   },
   {
    "duration": 132,
    "start_time": "2021-12-28T05:37:30.001Z"
   },
   {
    "duration": 512,
    "start_time": "2021-12-28T05:37:30.135Z"
   },
   {
    "duration": 29,
    "start_time": "2021-12-28T05:37:30.649Z"
   },
   {
    "duration": 491,
    "start_time": "2021-12-28T05:37:30.681Z"
   },
   {
    "duration": 24,
    "start_time": "2021-12-28T05:37:31.176Z"
   },
   {
    "duration": 489,
    "start_time": "2021-12-28T05:37:31.203Z"
   },
   {
    "duration": 22,
    "start_time": "2021-12-28T05:37:31.695Z"
   },
   {
    "duration": 468,
    "start_time": "2021-12-28T05:37:31.719Z"
   },
   {
    "duration": 21,
    "start_time": "2021-12-28T05:37:32.189Z"
   },
   {
    "duration": 5,
    "start_time": "2021-12-28T05:37:32.212Z"
   },
   {
    "duration": 8,
    "start_time": "2021-12-28T05:37:32.220Z"
   },
   {
    "duration": 40,
    "start_time": "2021-12-28T05:37:32.231Z"
   },
   {
    "duration": 4,
    "start_time": "2021-12-28T05:37:32.273Z"
   },
   {
    "duration": 436,
    "start_time": "2021-12-28T05:37:32.279Z"
   },
   {
    "duration": 7,
    "start_time": "2021-12-28T05:37:32.717Z"
   },
   {
    "duration": 6,
    "start_time": "2021-12-28T05:37:32.728Z"
   },
   {
    "duration": 3,
    "start_time": "2021-12-28T05:37:32.767Z"
   },
   {
    "duration": 10,
    "start_time": "2021-12-28T05:37:32.774Z"
   },
   {
    "duration": 8,
    "start_time": "2021-12-28T05:37:32.786Z"
   },
   {
    "duration": 14,
    "start_time": "2021-12-28T05:37:32.797Z"
   },
   {
    "duration": 47,
    "start_time": "2021-12-28T05:37:32.813Z"
   },
   {
    "duration": 459,
    "start_time": "2025-03-22T13:33:06.966Z"
   },
   {
    "duration": 762,
    "start_time": "2025-03-22T13:33:07.427Z"
   },
   {
    "duration": 27,
    "start_time": "2025-03-22T13:33:08.191Z"
   },
   {
    "duration": 46,
    "start_time": "2025-03-22T13:33:08.221Z"
   },
   {
    "duration": 265,
    "start_time": "2025-03-22T13:33:08.275Z"
   },
   {
    "duration": 40,
    "start_time": "2025-03-22T13:33:08.542Z"
   },
   {
    "duration": 20,
    "start_time": "2025-03-22T13:33:08.584Z"
   },
   {
    "duration": 167,
    "start_time": "2025-03-22T13:33:08.605Z"
   },
   {
    "duration": 22,
    "start_time": "2025-03-22T13:33:08.774Z"
   },
   {
    "duration": 17,
    "start_time": "2025-03-22T13:33:08.799Z"
   },
   {
    "duration": 57,
    "start_time": "2025-03-22T13:33:08.817Z"
   },
   {
    "duration": 12,
    "start_time": "2025-03-22T13:33:08.876Z"
   },
   {
    "duration": 7,
    "start_time": "2025-03-22T13:33:08.890Z"
   },
   {
    "duration": 62,
    "start_time": "2025-03-22T13:33:08.899Z"
   },
   {
    "duration": 15,
    "start_time": "2025-03-22T13:33:08.964Z"
   },
   {
    "duration": 91,
    "start_time": "2025-03-22T13:33:08.981Z"
   },
   {
    "duration": 10,
    "start_time": "2025-03-22T13:33:09.074Z"
   },
   {
    "duration": 18,
    "start_time": "2025-03-22T13:33:09.086Z"
   },
   {
    "duration": 229,
    "start_time": "2025-03-22T13:33:09.106Z"
   },
   {
    "duration": 76,
    "start_time": "2025-03-22T13:33:09.337Z"
   },
   {
    "duration": 14,
    "start_time": "2025-03-22T13:33:09.415Z"
   },
   {
    "duration": 83,
    "start_time": "2025-03-22T13:33:09.431Z"
   },
   {
    "duration": 24,
    "start_time": "2025-03-22T13:33:09.515Z"
   },
   {
    "duration": 26,
    "start_time": "2025-03-22T13:33:09.541Z"
   },
   {
    "duration": 3,
    "start_time": "2025-03-22T13:33:09.574Z"
   },
   {
    "duration": 1593,
    "start_time": "2025-03-22T13:33:09.579Z"
   },
   {
    "duration": 4,
    "start_time": "2025-03-22T13:33:11.174Z"
   },
   {
    "duration": 26,
    "start_time": "2025-03-22T13:33:11.182Z"
   },
   {
    "duration": 16,
    "start_time": "2025-03-22T13:33:11.211Z"
   },
   {
    "duration": 32,
    "start_time": "2025-03-22T13:33:11.229Z"
   },
   {
    "duration": 17,
    "start_time": "2025-03-22T13:33:11.270Z"
   },
   {
    "duration": 19,
    "start_time": "2025-03-22T13:33:11.289Z"
   },
   {
    "duration": 10,
    "start_time": "2025-03-22T13:33:11.310Z"
   },
   {
    "duration": 13,
    "start_time": "2025-03-22T13:33:11.322Z"
   },
   {
    "duration": 65,
    "start_time": "2025-03-22T13:33:11.358Z"
   },
   {
    "duration": 31,
    "start_time": "2025-03-22T13:33:11.425Z"
   },
   {
    "duration": 7,
    "start_time": "2025-03-22T13:33:11.457Z"
   },
   {
    "duration": 8,
    "start_time": "2025-03-22T13:33:11.468Z"
   },
   {
    "duration": 16,
    "start_time": "2025-03-22T13:33:11.478Z"
   },
   {
    "duration": 8,
    "start_time": "2025-03-22T13:33:11.496Z"
   },
   {
    "duration": 4,
    "start_time": "2025-03-22T13:33:11.506Z"
   },
   {
    "duration": 15,
    "start_time": "2025-03-22T13:33:11.512Z"
   },
   {
    "duration": 30,
    "start_time": "2025-03-22T13:33:11.561Z"
   },
   {
    "duration": 12,
    "start_time": "2025-03-22T13:33:11.593Z"
   },
   {
    "duration": 11,
    "start_time": "2025-03-22T13:33:11.606Z"
   },
   {
    "duration": 13,
    "start_time": "2025-03-22T13:33:11.619Z"
   },
   {
    "duration": 28,
    "start_time": "2025-03-22T13:33:11.634Z"
   },
   {
    "duration": 128,
    "start_time": "2025-03-22T13:33:11.664Z"
   },
   {
    "duration": 8,
    "start_time": "2025-03-22T13:33:11.794Z"
   },
   {
    "duration": 106,
    "start_time": "2025-03-22T13:33:11.803Z"
   },
   {
    "duration": 16,
    "start_time": "2025-03-22T13:33:11.910Z"
   },
   {
    "duration": 442,
    "start_time": "2025-03-22T13:33:11.928Z"
   },
   {
    "duration": 240,
    "start_time": "2025-03-22T13:33:12.372Z"
   },
   {
    "duration": 18,
    "start_time": "2025-03-22T13:33:12.614Z"
   },
   {
    "duration": 243,
    "start_time": "2025-03-22T13:33:12.633Z"
   },
   {
    "duration": 15,
    "start_time": "2025-03-22T13:33:12.878Z"
   },
   {
    "duration": 220,
    "start_time": "2025-03-22T13:33:12.894Z"
   },
   {
    "duration": 14,
    "start_time": "2025-03-22T13:33:13.115Z"
   },
   {
    "duration": 218,
    "start_time": "2025-03-22T13:33:13.130Z"
   },
   {
    "duration": 30,
    "start_time": "2025-03-22T13:33:13.350Z"
   },
   {
    "duration": 10,
    "start_time": "2025-03-22T13:33:13.382Z"
   },
   {
    "duration": 8,
    "start_time": "2025-03-22T13:33:13.394Z"
   },
   {
    "duration": 11,
    "start_time": "2025-03-22T13:33:13.403Z"
   },
   {
    "duration": 3,
    "start_time": "2025-03-22T13:33:13.415Z"
   },
   {
    "duration": 526,
    "start_time": "2025-03-22T13:33:13.420Z"
   },
   {
    "duration": 12,
    "start_time": "2025-03-22T13:33:13.948Z"
   },
   {
    "duration": 7,
    "start_time": "2025-03-22T13:33:13.963Z"
   },
   {
    "duration": 3,
    "start_time": "2025-03-22T13:33:13.972Z"
   },
   {
    "duration": 8,
    "start_time": "2025-03-22T13:33:13.977Z"
   },
   {
    "duration": 7,
    "start_time": "2025-03-22T13:33:13.987Z"
   },
   {
    "duration": 10,
    "start_time": "2025-03-22T13:33:13.996Z"
   },
   {
    "duration": 5,
    "start_time": "2025-03-22T13:33:14.008Z"
   },
   {
    "duration": 9,
    "start_time": "2025-03-22T13:33:25.556Z"
   },
   {
    "duration": 218,
    "start_time": "2025-03-22T13:33:25.568Z"
   },
   {
    "duration": 28,
    "start_time": "2025-03-22T13:33:25.788Z"
   },
   {
    "duration": 109,
    "start_time": "2025-03-22T13:33:25.817Z"
   },
   {
    "duration": 200,
    "start_time": "2025-03-22T13:33:25.928Z"
   },
   {
    "duration": 24,
    "start_time": "2025-03-22T13:33:26.131Z"
   },
   {
    "duration": 32,
    "start_time": "2025-03-22T13:33:26.157Z"
   },
   {
    "duration": 117,
    "start_time": "2025-03-22T13:33:26.190Z"
   },
   {
    "duration": 20,
    "start_time": "2025-03-22T13:33:26.308Z"
   },
   {
    "duration": 17,
    "start_time": "2025-03-22T13:33:26.330Z"
   },
   {
    "duration": 21,
    "start_time": "2025-03-22T13:33:26.369Z"
   },
   {
    "duration": 10,
    "start_time": "2025-03-22T13:33:26.391Z"
   },
   {
    "duration": 10,
    "start_time": "2025-03-22T13:33:26.403Z"
   },
   {
    "duration": 35,
    "start_time": "2025-03-22T13:33:26.416Z"
   },
   {
    "duration": 14,
    "start_time": "2025-03-22T13:33:26.453Z"
   },
   {
    "duration": 10,
    "start_time": "2025-03-22T13:33:26.469Z"
   },
   {
    "duration": 10,
    "start_time": "2025-03-22T13:33:26.481Z"
   },
   {
    "duration": 18,
    "start_time": "2025-03-22T13:33:26.493Z"
   },
   {
    "duration": 247,
    "start_time": "2025-03-22T13:33:26.514Z"
   },
   {
    "duration": 63,
    "start_time": "2025-03-22T13:33:26.770Z"
   },
   {
    "duration": 5,
    "start_time": "2025-03-22T13:33:26.835Z"
   },
   {
    "duration": 94,
    "start_time": "2025-03-22T13:33:26.841Z"
   },
   {
    "duration": 34,
    "start_time": "2025-03-22T13:33:26.937Z"
   },
   {
    "duration": 98,
    "start_time": "2025-03-22T13:33:26.973Z"
   },
   {
    "duration": 2,
    "start_time": "2025-03-22T13:33:27.074Z"
   },
   {
    "duration": 1673,
    "start_time": "2025-03-22T13:33:27.078Z"
   },
   {
    "duration": 6,
    "start_time": "2025-03-22T13:33:28.752Z"
   },
   {
    "duration": 29,
    "start_time": "2025-03-22T13:33:28.760Z"
   },
   {
    "duration": 17,
    "start_time": "2025-03-22T13:33:28.791Z"
   },
   {
    "duration": 8,
    "start_time": "2025-03-22T13:33:28.809Z"
   },
   {
    "duration": 55,
    "start_time": "2025-03-22T13:33:28.818Z"
   },
   {
    "duration": 20,
    "start_time": "2025-03-22T13:33:28.875Z"
   },
   {
    "duration": 10,
    "start_time": "2025-03-22T13:33:28.896Z"
   },
   {
    "duration": 163,
    "start_time": "2025-03-22T13:33:28.907Z"
   },
   {
    "duration": 19,
    "start_time": "2025-03-22T13:33:29.073Z"
   },
   {
    "duration": 30,
    "start_time": "2025-03-22T13:33:29.094Z"
   },
   {
    "duration": 4,
    "start_time": "2025-03-22T13:33:29.125Z"
   },
   {
    "duration": 5,
    "start_time": "2025-03-22T13:33:29.131Z"
   },
   {
    "duration": 45,
    "start_time": "2025-03-22T13:33:29.138Z"
   },
   {
    "duration": 8,
    "start_time": "2025-03-22T13:33:29.184Z"
   },
   {
    "duration": 4,
    "start_time": "2025-03-22T13:33:29.196Z"
   },
   {
    "duration": 9,
    "start_time": "2025-03-22T13:33:29.202Z"
   },
   {
    "duration": 49,
    "start_time": "2025-03-22T13:33:29.212Z"
   },
   {
    "duration": 16,
    "start_time": "2025-03-22T13:33:29.263Z"
   },
   {
    "duration": 8,
    "start_time": "2025-03-22T13:33:29.280Z"
   },
   {
    "duration": 9,
    "start_time": "2025-03-22T13:33:29.290Z"
   },
   {
    "duration": 4,
    "start_time": "2025-03-22T13:33:29.301Z"
   },
   {
    "duration": 150,
    "start_time": "2025-03-22T13:33:29.306Z"
   },
   {
    "duration": 11,
    "start_time": "2025-03-22T13:33:29.470Z"
   },
   {
    "duration": 12,
    "start_time": "2025-03-22T13:33:29.483Z"
   },
   {
    "duration": 15,
    "start_time": "2025-03-22T13:33:29.497Z"
   },
   {
    "duration": 2,
    "start_time": "2025-03-22T13:33:29.514Z"
   },
   {
    "duration": 275,
    "start_time": "2025-03-22T13:33:29.518Z"
   },
   {
    "duration": 15,
    "start_time": "2025-03-22T13:33:29.794Z"
   },
   {
    "duration": 341,
    "start_time": "2025-03-22T13:33:29.811Z"
   },
   {
    "duration": 22,
    "start_time": "2025-03-22T13:33:30.161Z"
   },
   {
    "duration": 240,
    "start_time": "2025-03-22T13:33:30.184Z"
   },
   {
    "duration": 15,
    "start_time": "2025-03-22T13:33:30.426Z"
   },
   {
    "duration": 248,
    "start_time": "2025-03-22T13:33:30.442Z"
   },
   {
    "duration": 14,
    "start_time": "2025-03-22T13:33:30.691Z"
   },
   {
    "duration": 66,
    "start_time": "2025-03-22T13:33:30.706Z"
   },
   {
    "duration": 13,
    "start_time": "2025-03-22T13:33:30.774Z"
   },
   {
    "duration": 9,
    "start_time": "2025-03-22T13:33:30.789Z"
   },
   {
    "duration": 11,
    "start_time": "2025-03-22T13:33:30.799Z"
   },
   {
    "duration": 3,
    "start_time": "2025-03-22T13:33:30.812Z"
   },
   {
    "duration": 9,
    "start_time": "2025-03-22T13:33:30.817Z"
   },
   {
    "duration": 4,
    "start_time": "2025-03-22T13:33:30.828Z"
   },
   {
    "duration": 4,
    "start_time": "2025-03-22T13:33:30.834Z"
   },
   {
    "duration": 8,
    "start_time": "2025-03-22T13:33:30.840Z"
   },
   {
    "duration": 16,
    "start_time": "2025-03-22T13:33:30.849Z"
   },
   {
    "duration": 12,
    "start_time": "2025-03-22T13:33:30.867Z"
   },
   {
    "duration": 7,
    "start_time": "2025-03-22T13:33:30.881Z"
   }
  ],
  "kernelspec": {
   "display_name": "Python 3 (ipykernel)",
   "language": "python",
   "name": "python3"
  },
  "language_info": {
   "codemirror_mode": {
    "name": "ipython",
    "version": 3
   },
   "file_extension": ".py",
   "mimetype": "text/x-python",
   "name": "python",
   "nbconvert_exporter": "python",
   "pygments_lexer": "ipython3",
   "version": "3.9.5"
  },
  "toc": {
   "base_numbering": 1,
   "nav_menu": {
    "height": "740px",
    "width": "629px"
   },
   "number_sections": true,
   "sideBar": true,
   "skip_h1_title": true,
   "title_cell": "Table of Contents",
   "title_sidebar": "Contents",
   "toc_cell": false,
   "toc_position": {},
   "toc_section_display": true,
   "toc_window_display": true
  }
 },
 "nbformat": 4,
 "nbformat_minor": 2
}
