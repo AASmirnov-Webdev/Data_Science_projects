{
 "cells": [
  {
   "cell_type": "markdown",
   "metadata": {
    "toc": true
   },
   "source": [
    "<h1>Содержание<span class=\"tocSkip\"></span></h1>\n",
    "<div class=\"toc\"><ul class=\"toc-item\"><li><span><a href=\"#Подготовка\" data-toc-modified-id=\"Подготовка-1\"><span class=\"toc-item-num\">1&nbsp;&nbsp;</span>Подготовка</a></span><ul class=\"toc-item\"><li><span><a href=\"#Открываем-и-изучаем-файл\" data-toc-modified-id=\"Открываем-и-изучаем-файл-1.1\"><span class=\"toc-item-num\">1.1&nbsp;&nbsp;</span>Открываем и изучаем файл</a></span></li><li><span><a href=\"#Ресемплирование-данных\" data-toc-modified-id=\"Ресемплирование-данных-1.2\"><span class=\"toc-item-num\">1.2&nbsp;&nbsp;</span>Ресемплирование данных</a></span></li></ul></li><li><span><a href=\"#Анализ\" data-toc-modified-id=\"Анализ-2\"><span class=\"toc-item-num\">2&nbsp;&nbsp;</span>Анализ</a></span><ul class=\"toc-item\"><li><span><a href=\"#Тренд-&quot;Trend&quot;\" data-toc-modified-id=\"Тренд-&quot;Trend&quot;-2.1\"><span class=\"toc-item-num\">2.1&nbsp;&nbsp;</span>Тренд <code>\"Trend\"</code></a></span></li><li><span><a href=\"#Cезонность-&quot;Seasonality&quot;\" data-toc-modified-id=\"Cезонность-&quot;Seasonality&quot;-2.2\"><span class=\"toc-item-num\">2.2&nbsp;&nbsp;</span>Cезонность <code>\"Seasonality\"</code></a></span></li><li><span><a href=\"#Остаток-&quot;Residuals&quot;\" data-toc-modified-id=\"Остаток-&quot;Residuals&quot;-2.3\"><span class=\"toc-item-num\">2.3&nbsp;&nbsp;</span>Остаток <code>\"Residuals\"</code></a></span></li><li><span><a href=\"#Вывод\" data-toc-modified-id=\"Вывод-2.4\"><span class=\"toc-item-num\">2.4&nbsp;&nbsp;</span>Вывод</a></span></li></ul></li><li><span><a href=\"#Обучение\" data-toc-modified-id=\"Обучение-3\"><span class=\"toc-item-num\">3&nbsp;&nbsp;</span>Обучение</a></span><ul class=\"toc-item\"><li><span><a href=\"#Модель-baseline\" data-toc-modified-id=\"Модель-baseline-3.1\"><span class=\"toc-item-num\">3.1&nbsp;&nbsp;</span>Модель <code>baseline</code></a></span></li><li><span><a href=\"#Функция-обучающих-признаков\" data-toc-modified-id=\"Функция-обучающих-признаков-3.2\"><span class=\"toc-item-num\">3.2&nbsp;&nbsp;</span>Функция обучающих признаков</a></span></li><li><span><a href=\"#Линейная-регрессия\" data-toc-modified-id=\"Линейная-регрессия-3.3\"><span class=\"toc-item-num\">3.3&nbsp;&nbsp;</span>Линейная регрессия</a></span></li></ul></li><li><span><a href=\"#Тестирование\" data-toc-modified-id=\"Тестирование-4\"><span class=\"toc-item-num\">4&nbsp;&nbsp;</span>Тестирование</a></span><ul class=\"toc-item\"><li><span><a href=\"#Функция-main_model\" data-toc-modified-id=\"Функция-main_model-4.1\"><span class=\"toc-item-num\">4.1&nbsp;&nbsp;</span>Функция <code>main_model</code></a></span></li><li><span><a href=\"#Модель-Lasso\" data-toc-modified-id=\"Модель-Lasso-4.2\"><span class=\"toc-item-num\">4.2&nbsp;&nbsp;</span>Модель <code>Lasso</code></a></span></li><li><span><a href=\"#Модель-Ridge\" data-toc-modified-id=\"Модель-Ridge-4.3\"><span class=\"toc-item-num\">4.3&nbsp;&nbsp;</span>Модель <code>Ridge</code></a></span></li><li><span><a href=\"#Анализ-результатов\" data-toc-modified-id=\"Анализ-результатов-4.4\"><span class=\"toc-item-num\">4.4&nbsp;&nbsp;</span>Анализ результатов</a></span></li></ul></li><li><span><a href=\"#Общий-вывод\" data-toc-modified-id=\"Общий-вывод-5\"><span class=\"toc-item-num\">5&nbsp;&nbsp;</span>Общий вывод</a></span></li><li><span><a href=\"#Чек-лист-проверки\" data-toc-modified-id=\"Чек-лист-проверки-6\"><span class=\"toc-item-num\">6&nbsp;&nbsp;</span>Чек-лист проверки</a></span></li></ul></div>"
   ]
  },
  {
   "cell_type": "markdown",
   "metadata": {},
   "source": [
    "#  Прогнозирование заказов такси"
   ]
  },
  {
   "cell_type": "markdown",
   "metadata": {},
   "source": [
    "Компания «Чётенькое такси» собрала исторические данные о заказах такси в аэропортах. Чтобы привлекать больше водителей в период пиковой нагрузки, нужно спрогнозировать количество заказов такси на следующий час. Постройте модель для такого предсказания.\n",
    "\n",
    "Значение метрики *RMSE* на тестовой выборке должно быть не больше 48.\n",
    "\n",
    "Вам нужно:\n",
    "\n",
    "1. Загрузить данные и выполнить их ресемплирование по одному часу.\n",
    "2. Проанализировать данные.\n",
    "3. Обучить разные модели с различными гиперпараметрами. Сделать тестовую выборку размером 10% от исходных данных.\n",
    "4. Проверить данные на тестовой выборке и сделать выводы.\n",
    "\n",
    "\n",
    "Данные лежат в файле `taxi.csv`. Количество заказов находится в столбце `num_orders` (от англ. *number of orders*, «число заказов»)."
   ]
  },
  {
   "cell_type": "markdown",
   "metadata": {},
   "source": [
    "## Подготовка"
   ]
  },
  {
   "cell_type": "markdown",
   "metadata": {},
   "source": [
    "### Открываем и изучаем файл"
   ]
  },
  {
   "cell_type": "markdown",
   "metadata": {},
   "source": [
    "Импортируем необходимые в работе библиотеки и модули"
   ]
  },
  {
   "cell_type": "code",
   "execution_count": 1,
   "metadata": {},
   "outputs": [],
   "source": [
    "import pandas as pd\n",
    "import numpy as np\n",
    "import matplotlib.pyplot as plt\n",
    "import seaborn as sns\n",
    "from IPython.display import display\n",
    "from statsmodels.tsa.seasonal import seasonal_decompose\n",
    "from sklearn.model_selection import train_test_split, cross_val_score, GridSearchCV\n",
    "from sklearn.linear_model import LinearRegression, ElasticNet, Ridge, Lasso\n",
    "from sklearn.metrics import mean_squared_error\n",
    "import warnings\n",
    "warnings.filterwarnings('ignore')\n",
    "%matplotlib inline"
   ]
  },
  {
   "cell_type": "code",
   "execution_count": 2,
   "metadata": {},
   "outputs": [],
   "source": [
    "# откроем датасет и сохраним его в новой переменной\n",
    "df = pd.read_csv('/datasets/taxi.csv', index_col='datetime', parse_dates=[0])"
   ]
  },
  {
   "cell_type": "code",
   "execution_count": 3,
   "metadata": {},
   "outputs": [
    {
     "data": {
      "text/html": [
       "<div>\n",
       "<style scoped>\n",
       "    .dataframe tbody tr th:only-of-type {\n",
       "        vertical-align: middle;\n",
       "    }\n",
       "\n",
       "    .dataframe tbody tr th {\n",
       "        vertical-align: top;\n",
       "    }\n",
       "\n",
       "    .dataframe thead th {\n",
       "        text-align: right;\n",
       "    }\n",
       "</style>\n",
       "<table border=\"1\" class=\"dataframe\">\n",
       "  <thead>\n",
       "    <tr style=\"text-align: right;\">\n",
       "      <th></th>\n",
       "      <th>num_orders</th>\n",
       "    </tr>\n",
       "    <tr>\n",
       "      <th>datetime</th>\n",
       "      <th></th>\n",
       "    </tr>\n",
       "  </thead>\n",
       "  <tbody>\n",
       "    <tr>\n",
       "      <th>2018-03-01 00:00:00</th>\n",
       "      <td>9</td>\n",
       "    </tr>\n",
       "    <tr>\n",
       "      <th>2018-03-01 00:10:00</th>\n",
       "      <td>14</td>\n",
       "    </tr>\n",
       "    <tr>\n",
       "      <th>2018-03-01 00:20:00</th>\n",
       "      <td>28</td>\n",
       "    </tr>\n",
       "    <tr>\n",
       "      <th>2018-03-01 00:30:00</th>\n",
       "      <td>20</td>\n",
       "    </tr>\n",
       "    <tr>\n",
       "      <th>2018-03-01 00:40:00</th>\n",
       "      <td>32</td>\n",
       "    </tr>\n",
       "  </tbody>\n",
       "</table>\n",
       "</div>"
      ],
      "text/plain": [
       "                     num_orders\n",
       "datetime                       \n",
       "2018-03-01 00:00:00           9\n",
       "2018-03-01 00:10:00          14\n",
       "2018-03-01 00:20:00          28\n",
       "2018-03-01 00:30:00          20\n",
       "2018-03-01 00:40:00          32"
      ]
     },
     "execution_count": 3,
     "metadata": {},
     "output_type": "execute_result"
    }
   ],
   "source": [
    "# выведем первые пять строк таблицы\n",
    "df.head()"
   ]
  },
  {
   "cell_type": "code",
   "execution_count": 4,
   "metadata": {},
   "outputs": [
    {
     "data": {
      "text/plain": [
       "(26496, 1)"
      ]
     },
     "execution_count": 4,
     "metadata": {},
     "output_type": "execute_result"
    }
   ],
   "source": [
    "# посмотрим на форму датасета\n",
    "df.shape"
   ]
  },
  {
   "cell_type": "code",
   "execution_count": 5,
   "metadata": {},
   "outputs": [
    {
     "name": "stdout",
     "output_type": "stream",
     "text": [
      "<class 'pandas.core.frame.DataFrame'>\n",
      "DatetimeIndex: 26496 entries, 2018-03-01 00:00:00 to 2018-08-31 23:50:00\n",
      "Data columns (total 1 columns):\n",
      " #   Column      Non-Null Count  Dtype\n",
      "---  ------      --------------  -----\n",
      " 0   num_orders  26496 non-null  int64\n",
      "dtypes: int64(1)\n",
      "memory usage: 414.0 KB\n"
     ]
    }
   ],
   "source": [
    "# Выведем информацию по датасету\n",
    "df.info()"
   ]
  },
  {
   "cell_type": "code",
   "execution_count": 6,
   "metadata": {},
   "outputs": [
    {
     "data": {
      "text/html": [
       "<div>\n",
       "<style scoped>\n",
       "    .dataframe tbody tr th:only-of-type {\n",
       "        vertical-align: middle;\n",
       "    }\n",
       "\n",
       "    .dataframe tbody tr th {\n",
       "        vertical-align: top;\n",
       "    }\n",
       "\n",
       "    .dataframe thead th {\n",
       "        text-align: right;\n",
       "    }\n",
       "</style>\n",
       "<table border=\"1\" class=\"dataframe\">\n",
       "  <thead>\n",
       "    <tr style=\"text-align: right;\">\n",
       "      <th></th>\n",
       "      <th>num_orders</th>\n",
       "    </tr>\n",
       "  </thead>\n",
       "  <tbody>\n",
       "    <tr>\n",
       "      <th>count</th>\n",
       "      <td>26496.000000</td>\n",
       "    </tr>\n",
       "    <tr>\n",
       "      <th>mean</th>\n",
       "      <td>14.070463</td>\n",
       "    </tr>\n",
       "    <tr>\n",
       "      <th>std</th>\n",
       "      <td>9.211330</td>\n",
       "    </tr>\n",
       "    <tr>\n",
       "      <th>min</th>\n",
       "      <td>0.000000</td>\n",
       "    </tr>\n",
       "    <tr>\n",
       "      <th>25%</th>\n",
       "      <td>8.000000</td>\n",
       "    </tr>\n",
       "    <tr>\n",
       "      <th>50%</th>\n",
       "      <td>13.000000</td>\n",
       "    </tr>\n",
       "    <tr>\n",
       "      <th>75%</th>\n",
       "      <td>19.000000</td>\n",
       "    </tr>\n",
       "    <tr>\n",
       "      <th>max</th>\n",
       "      <td>119.000000</td>\n",
       "    </tr>\n",
       "  </tbody>\n",
       "</table>\n",
       "</div>"
      ],
      "text/plain": [
       "         num_orders\n",
       "count  26496.000000\n",
       "mean      14.070463\n",
       "std        9.211330\n",
       "min        0.000000\n",
       "25%        8.000000\n",
       "50%       13.000000\n",
       "75%       19.000000\n",
       "max      119.000000"
      ]
     },
     "execution_count": 6,
     "metadata": {},
     "output_type": "execute_result"
    }
   ],
   "source": [
    "# Посмотрим на список характерных значений\n",
    "df.describe()"
   ]
  },
  {
   "cell_type": "markdown",
   "metadata": {},
   "source": [
    "### Ресемплирование данных"
   ]
  },
  {
   "cell_type": "markdown",
   "metadata": {},
   "source": [
    "Произведем ресемплирование данных по одному часу. Так как предсказываем количество заказов такси на следующий час, аггрегируем суммы значений."
   ]
  },
  {
   "cell_type": "code",
   "execution_count": 7,
   "metadata": {},
   "outputs": [],
   "source": [
    "df = df.sort_index()\n",
    "df = df.resample('1H').sum()"
   ]
  },
  {
   "cell_type": "code",
   "execution_count": 8,
   "metadata": {},
   "outputs": [
    {
     "name": "stdout",
     "output_type": "stream",
     "text": [
      "Временной интервал: 2018-03-01 00:00:00 - 2018-08-31 23:00:00\n"
     ]
    }
   ],
   "source": [
    "# посмотрим какой интервал времени получили\n",
    "print(f\"Временной интервал: {df.index.min()} - {df.index.max()}\")"
   ]
  },
  {
   "cell_type": "markdown",
   "metadata": {},
   "source": [
    "## Анализ"
   ]
  },
  {
   "cell_type": "markdown",
   "metadata": {},
   "source": [
    "Разложим данные на три составляющие: тренд ``\"Trend\"``, сезонность ``\"Seasonality\"`` и остаток ``\"Residuals\"``.\n",
    "\n",
    "Построим графики последнего месяца временного ряда и проанализируем данные."
   ]
  },
  {
   "cell_type": "markdown",
   "metadata": {},
   "source": [
    "### Тренд ``\"Trend\"``"
   ]
  },
  {
   "cell_type": "code",
   "execution_count": 9,
   "metadata": {},
   "outputs": [
    {
     "data": {
      "text/plain": [
       "Text(0.5, 1.0, 'Trend')"
      ]
     },
     "execution_count": 9,
     "metadata": {},
     "output_type": "execute_result"
    },
    {
     "data": {
      "image/png": "[encoded data removed]",
      "text/plain": [
       "<Figure size 864x864 with 1 Axes>"
      ]
     },
     "metadata": {},
     "output_type": "display_data"
    }
   ],
   "source": [
    "plt.style.use('ggplot')\n",
    "decomposed = seasonal_decompose(df['2018-08':'2018-08'])\n",
    "plt.figure(figsize=(12, 12))\n",
    "plt.subplot(211)\n",
    "\n",
    "decomposed.trend.plot(ax=plt.gca())\n",
    "plt.title('Trend')"
   ]
  },
  {
   "cell_type": "markdown",
   "metadata": {},
   "source": [
    "Трэнд показывает линейный рост количества заказов со временем. Построим тренд для всего временного ряда, чтобы увидеть полную картину."
   ]
  },
  {
   "cell_type": "code",
   "execution_count": 10,
   "metadata": {},
   "outputs": [
    {
     "data": {
      "text/plain": [
       "Text(0.5, 1.0, 'Trend')"
      ]
     },
     "execution_count": 10,
     "metadata": {},
     "output_type": "execute_result"
    },
    {
     "data": {
      "image/png": "[encoded data removed]",
      "text/plain": [
       "<Figure size 864x360 with 1 Axes>"
      ]
     },
     "metadata": {},
     "output_type": "display_data"
    }
   ],
   "source": [
    "plt.style.use('ggplot')\n",
    "decomposed = seasonal_decompose(df)\n",
    "plt.figure(figsize=(12, 5))\n",
    "decomposed.trend.plot(ax=plt.gca())\n",
    "plt.title('Trend')"
   ]
  },
  {
   "cell_type": "markdown",
   "metadata": {},
   "source": [
    "### Cезонность ``\"Seasonality\"``"
   ]
  },
  {
   "cell_type": "code",
   "execution_count": 11,
   "metadata": {},
   "outputs": [
    {
     "data": {
      "text/plain": [
       "Text(0.5, 1.0, 'Seasonality')"
      ]
     },
     "execution_count": 11,
     "metadata": {},
     "output_type": "execute_result"
    },
    {
     "data": {
      "image/png": "[encoded data removed]",
      "text/plain": [
       "<Figure size 864x864 with 1 Axes>"
      ]
     },
     "metadata": {},
     "output_type": "display_data"
    }
   ],
   "source": [
    "plt.style.use('ggplot')\n",
    "decomposed = seasonal_decompose(df['2018-08':'2018-08'])\n",
    "plt.figure(figsize=(12, 12))\n",
    "plt.subplot(211)\n",
    "\n",
    "decomposed.seasonal.plot(ax=plt.gca())\n",
    "plt.title('Seasonality')"
   ]
  },
  {
   "cell_type": "markdown",
   "metadata": {},
   "source": [
    "Распределение сезонной части выглядит статическим в интервале суток. Ночью такси почти не заказывают, пик ближе к вечеру."
   ]
  },
  {
   "cell_type": "markdown",
   "metadata": {},
   "source": [
    "### Остаток ``\"Residuals\"``"
   ]
  },
  {
   "cell_type": "code",
   "execution_count": 12,
   "metadata": {},
   "outputs": [
    {
     "data": {
      "image/png": "[encoded data removed]",
      "text/plain": [
       "<Figure size 864x864 with 1 Axes>"
      ]
     },
     "metadata": {},
     "output_type": "display_data"
    }
   ],
   "source": [
    "plt.style.use('ggplot')\n",
    "decomposed = seasonal_decompose(df['2018-08':'2018-08'])\n",
    "plt.figure(figsize=(12, 12))\n",
    "plt.subplot(211)\n",
    "\n",
    "decomposed.resid.plot(ax=plt.gca())\n",
    "plt.title('Residuals')\n",
    "plt.tight_layout()"
   ]
  },
  {
   "cell_type": "markdown",
   "metadata": {},
   "source": [
    "В этой части также присутствует постоянное среднее значение, но периодически возникают большие волны (возможно это вызвано повышенным спросом на такси по выходным или праздничным дням)."
   ]
  },
  {
   "cell_type": "markdown",
   "metadata": {},
   "source": [
    "### Вывод"
   ]
  },
  {
   "cell_type": "markdown",
   "metadata": {},
   "source": [
    "Трэнд имеет более сложную зависимость от времени (квадратичная или экспоненциальная). Для текущей задачи будем считать его линейным (предсказания нам потребуются на час вперёд).\n",
    "Видно, что линия тренда имеет некоторый шум. Возможно, для предсказания будет необходимо применить скользящее среднее с окном в несколько десятков часов."
   ]
  },
  {
   "cell_type": "markdown",
   "metadata": {},
   "source": [
    "## Обучение"
   ]
  },
  {
   "cell_type": "markdown",
   "metadata": {},
   "source": [
    "### Модель ``baseline``"
   ]
  },
  {
   "cell_type": "markdown",
   "metadata": {},
   "source": [
    "В качестве ``baseline`` модели будем предсказывать новые значения предыдущими:"
   ]
  },
  {
   "cell_type": "code",
   "execution_count": 13,
   "metadata": {},
   "outputs": [
    {
     "name": "stdout",
     "output_type": "stream",
     "text": [
      "RMSE модели: 53.368\n"
     ]
    }
   ],
   "source": [
    "train, test = train_test_split(df, shuffle=False, test_size=0.2)\n",
    "\n",
    "train = train.dropna()\n",
    "\n",
    "pred_previous = test.shift()\n",
    "pred_previous.iloc[0] = train.iloc[-1]\n",
    "\n",
    "rmse_base =  mean_squared_error(test['num_orders'], pred_previous) ** 0.5\n",
    "\n",
    "print(\"RMSE модели:\", round(rmse_base, 3))"
   ]
  },
  {
   "cell_type": "markdown",
   "metadata": {},
   "source": [
    "Проверим предсказания по среднему значению:"
   ]
  },
  {
   "cell_type": "code",
   "execution_count": 14,
   "metadata": {},
   "outputs": [
    {
     "name": "stdout",
     "output_type": "stream",
     "text": [
      "RMSE модели: 74.42015786913375\n"
     ]
    }
   ],
   "source": [
    "pred_mean = np.ones(test.shape) * train['num_orders'].mean()\n",
    "print(\"RMSE модели:\", mean_squared_error(test['num_orders'], pred_mean) ** 0.5)"
   ]
  },
  {
   "cell_type": "markdown",
   "metadata": {},
   "source": [
    "Предсказания по первому значению показывают результат лучше чем по среднему, поэтому возьмём их в качестве baseline."
   ]
  },
  {
   "cell_type": "markdown",
   "metadata": {},
   "source": [
    "### Функция обучающих признаков"
   ]
  },
  {
   "cell_type": "markdown",
   "metadata": {},
   "source": [
    "Напишем функцию для создания обучающих признаков. Создадим признаки ``day`` (день) и ``dayofweek`` (день недели). А также признаки для скользящего среднего ``rolling_mean`` (с размером окна ``rolling_mean_size``), и ``lag_i`` для признаков отстающего значения."
   ]
  },
  {
   "cell_type": "code",
   "execution_count": 15,
   "metadata": {},
   "outputs": [],
   "source": [
    "def function_training_features(data, max_lag, rolling_mean_size):\n",
    "    df = data.copy()\n",
    "    df['dayofweek'] = df.index.dayofweek\n",
    "    \n",
    "    for lag in range(1, max_lag + 1):\n",
    "        df['lag_{}'.format(lag)] = df['num_orders'].shift(lag)\n",
    "\n",
    "    df['rolling_mean'] = df['num_orders'].shift().rolling(rolling_mean_size).mean()\n",
    "    \n",
    "    return df"
   ]
  },
  {
   "cell_type": "code",
   "execution_count": 16,
   "metadata": {},
   "outputs": [],
   "source": [
    "df_func = function_training_features(df, 30, 50)"
   ]
  },
  {
   "cell_type": "markdown",
   "metadata": {},
   "source": [
    "### Линейная регрессия"
   ]
  },
  {
   "cell_type": "markdown",
   "metadata": {},
   "source": [
    "Обучим линейную регрессию и как сказано в задании разделим данные в соотношении 9:1 (10% тестовой выборки)."
   ]
  },
  {
   "cell_type": "code",
   "execution_count": 17,
   "metadata": {},
   "outputs": [],
   "source": [
    "train, test = train_test_split(df_func, shuffle=False, test_size=0.2)\n",
    "train = train.dropna()"
   ]
  },
  {
   "cell_type": "code",
   "execution_count": 18,
   "metadata": {},
   "outputs": [
    {
     "data": {
      "text/html": [
       "<div>\n",
       "<style scoped>\n",
       "    .dataframe tbody tr th:only-of-type {\n",
       "        vertical-align: middle;\n",
       "    }\n",
       "\n",
       "    .dataframe tbody tr th {\n",
       "        vertical-align: top;\n",
       "    }\n",
       "\n",
       "    .dataframe thead th {\n",
       "        text-align: right;\n",
       "    }\n",
       "</style>\n",
       "<table border=\"1\" class=\"dataframe\">\n",
       "  <thead>\n",
       "    <tr style=\"text-align: right;\">\n",
       "      <th></th>\n",
       "      <th>num_orders</th>\n",
       "      <th>dayofweek</th>\n",
       "      <th>lag_1</th>\n",
       "      <th>lag_2</th>\n",
       "      <th>lag_3</th>\n",
       "      <th>lag_4</th>\n",
       "      <th>lag_5</th>\n",
       "      <th>lag_6</th>\n",
       "      <th>lag_7</th>\n",
       "      <th>lag_8</th>\n",
       "      <th>...</th>\n",
       "      <th>lag_22</th>\n",
       "      <th>lag_23</th>\n",
       "      <th>lag_24</th>\n",
       "      <th>lag_25</th>\n",
       "      <th>lag_26</th>\n",
       "      <th>lag_27</th>\n",
       "      <th>lag_28</th>\n",
       "      <th>lag_29</th>\n",
       "      <th>lag_30</th>\n",
       "      <th>rolling_mean</th>\n",
       "    </tr>\n",
       "    <tr>\n",
       "      <th>datetime</th>\n",
       "      <th></th>\n",
       "      <th></th>\n",
       "      <th></th>\n",
       "      <th></th>\n",
       "      <th></th>\n",
       "      <th></th>\n",
       "      <th></th>\n",
       "      <th></th>\n",
       "      <th></th>\n",
       "      <th></th>\n",
       "      <th></th>\n",
       "      <th></th>\n",
       "      <th></th>\n",
       "      <th></th>\n",
       "      <th></th>\n",
       "      <th></th>\n",
       "      <th></th>\n",
       "      <th></th>\n",
       "      <th></th>\n",
       "      <th></th>\n",
       "      <th></th>\n",
       "    </tr>\n",
       "  </thead>\n",
       "  <tbody>\n",
       "    <tr>\n",
       "      <th>2018-03-03 02:00:00</th>\n",
       "      <td>25</td>\n",
       "      <td>5</td>\n",
       "      <td>108.0</td>\n",
       "      <td>163.0</td>\n",
       "      <td>72.0</td>\n",
       "      <td>119.0</td>\n",
       "      <td>101.0</td>\n",
       "      <td>93.0</td>\n",
       "      <td>49.0</td>\n",
       "      <td>89.0</td>\n",
       "      <td>...</td>\n",
       "      <td>20.0</td>\n",
       "      <td>64.0</td>\n",
       "      <td>75.0</td>\n",
       "      <td>120.0</td>\n",
       "      <td>90.0</td>\n",
       "      <td>58.0</td>\n",
       "      <td>113.0</td>\n",
       "      <td>66.0</td>\n",
       "      <td>61.0</td>\n",
       "      <td>62.82</td>\n",
       "    </tr>\n",
       "    <tr>\n",
       "      <th>2018-03-03 03:00:00</th>\n",
       "      <td>64</td>\n",
       "      <td>5</td>\n",
       "      <td>25.0</td>\n",
       "      <td>108.0</td>\n",
       "      <td>163.0</td>\n",
       "      <td>72.0</td>\n",
       "      <td>119.0</td>\n",
       "      <td>101.0</td>\n",
       "      <td>93.0</td>\n",
       "      <td>49.0</td>\n",
       "      <td>...</td>\n",
       "      <td>11.0</td>\n",
       "      <td>20.0</td>\n",
       "      <td>64.0</td>\n",
       "      <td>75.0</td>\n",
       "      <td>120.0</td>\n",
       "      <td>90.0</td>\n",
       "      <td>58.0</td>\n",
       "      <td>113.0</td>\n",
       "      <td>66.0</td>\n",
       "      <td>60.84</td>\n",
       "    </tr>\n",
       "    <tr>\n",
       "      <th>2018-03-03 04:00:00</th>\n",
       "      <td>44</td>\n",
       "      <td>5</td>\n",
       "      <td>64.0</td>\n",
       "      <td>25.0</td>\n",
       "      <td>108.0</td>\n",
       "      <td>163.0</td>\n",
       "      <td>72.0</td>\n",
       "      <td>119.0</td>\n",
       "      <td>101.0</td>\n",
       "      <td>93.0</td>\n",
       "      <td>...</td>\n",
       "      <td>11.0</td>\n",
       "      <td>11.0</td>\n",
       "      <td>20.0</td>\n",
       "      <td>64.0</td>\n",
       "      <td>75.0</td>\n",
       "      <td>120.0</td>\n",
       "      <td>90.0</td>\n",
       "      <td>58.0</td>\n",
       "      <td>113.0</td>\n",
       "      <td>60.42</td>\n",
       "    </tr>\n",
       "    <tr>\n",
       "      <th>2018-03-03 05:00:00</th>\n",
       "      <td>15</td>\n",
       "      <td>5</td>\n",
       "      <td>44.0</td>\n",
       "      <td>64.0</td>\n",
       "      <td>25.0</td>\n",
       "      <td>108.0</td>\n",
       "      <td>163.0</td>\n",
       "      <td>72.0</td>\n",
       "      <td>119.0</td>\n",
       "      <td>101.0</td>\n",
       "      <td>...</td>\n",
       "      <td>7.0</td>\n",
       "      <td>11.0</td>\n",
       "      <td>11.0</td>\n",
       "      <td>20.0</td>\n",
       "      <td>64.0</td>\n",
       "      <td>75.0</td>\n",
       "      <td>120.0</td>\n",
       "      <td>90.0</td>\n",
       "      <td>58.0</td>\n",
       "      <td>59.88</td>\n",
       "    </tr>\n",
       "    <tr>\n",
       "      <th>2018-03-03 06:00:00</th>\n",
       "      <td>9</td>\n",
       "      <td>5</td>\n",
       "      <td>15.0</td>\n",
       "      <td>44.0</td>\n",
       "      <td>64.0</td>\n",
       "      <td>25.0</td>\n",
       "      <td>108.0</td>\n",
       "      <td>163.0</td>\n",
       "      <td>72.0</td>\n",
       "      <td>119.0</td>\n",
       "      <td>...</td>\n",
       "      <td>46.0</td>\n",
       "      <td>7.0</td>\n",
       "      <td>11.0</td>\n",
       "      <td>11.0</td>\n",
       "      <td>20.0</td>\n",
       "      <td>64.0</td>\n",
       "      <td>75.0</td>\n",
       "      <td>120.0</td>\n",
       "      <td>90.0</td>\n",
       "      <td>58.86</td>\n",
       "    </tr>\n",
       "  </tbody>\n",
       "</table>\n",
       "<p>5 rows × 33 columns</p>\n",
       "</div>"
      ],
      "text/plain": [
       "                     num_orders  dayofweek  lag_1  lag_2  lag_3  lag_4  lag_5  \\\n",
       "datetime                                                                        \n",
       "2018-03-03 02:00:00          25          5  108.0  163.0   72.0  119.0  101.0   \n",
       "2018-03-03 03:00:00          64          5   25.0  108.0  163.0   72.0  119.0   \n",
       "2018-03-03 04:00:00          44          5   64.0   25.0  108.0  163.0   72.0   \n",
       "2018-03-03 05:00:00          15          5   44.0   64.0   25.0  108.0  163.0   \n",
       "2018-03-03 06:00:00           9          5   15.0   44.0   64.0   25.0  108.0   \n",
       "\n",
       "                     lag_6  lag_7  lag_8  ...  lag_22  lag_23  lag_24  lag_25  \\\n",
       "datetime                                  ...                                   \n",
       "2018-03-03 02:00:00   93.0   49.0   89.0  ...    20.0    64.0    75.0   120.0   \n",
       "2018-03-03 03:00:00  101.0   93.0   49.0  ...    11.0    20.0    64.0    75.0   \n",
       "2018-03-03 04:00:00  119.0  101.0   93.0  ...    11.0    11.0    20.0    64.0   \n",
       "2018-03-03 05:00:00   72.0  119.0  101.0  ...     7.0    11.0    11.0    20.0   \n",
       "2018-03-03 06:00:00  163.0   72.0  119.0  ...    46.0     7.0    11.0    11.0   \n",
       "\n",
       "                     lag_26  lag_27  lag_28  lag_29  lag_30  rolling_mean  \n",
       "datetime                                                                   \n",
       "2018-03-03 02:00:00    90.0    58.0   113.0    66.0    61.0         62.82  \n",
       "2018-03-03 03:00:00   120.0    90.0    58.0   113.0    66.0         60.84  \n",
       "2018-03-03 04:00:00    75.0   120.0    90.0    58.0   113.0         60.42  \n",
       "2018-03-03 05:00:00    64.0    75.0   120.0    90.0    58.0         59.88  \n",
       "2018-03-03 06:00:00    20.0    64.0    75.0   120.0    90.0         58.86  \n",
       "\n",
       "[5 rows x 33 columns]"
      ]
     },
     "execution_count": 18,
     "metadata": {},
     "output_type": "execute_result"
    }
   ],
   "source": [
    "# выведем первые пять строк таблицы\n",
    "train.head()"
   ]
  },
  {
   "cell_type": "markdown",
   "metadata": {},
   "source": [
    "Рассчитаем RMSE на обучающей и тестовой выборках:"
   ]
  },
  {
   "cell_type": "code",
   "execution_count": 19,
   "metadata": {},
   "outputs": [
    {
     "name": "stdout",
     "output_type": "stream",
     "text": [
      "RMSE на обучающей выборке: 24.107441665527308\n",
      "RMSE на тестовой выборке:  39.82156637969243\n"
     ]
    }
   ],
   "source": [
    "X_train = train.drop('num_orders', axis = 1)\n",
    "y_train = train['num_orders']\n",
    "X_test = test.drop('num_orders', axis = 1)\n",
    "y_test = test['num_orders']\n",
    "\n",
    "lm = LinearRegression()\n",
    "lm.fit(X_train, y_train)\n",
    "preds_train = lm.predict(X_train)\n",
    "print(\"RMSE на обучающей выборке:\", mean_squared_error(y_train, preds_train) ** 0.5)\n",
    "\n",
    "preds_test = lm.predict(X_test)\n",
    "print(\"RMSE на тестовой выборке: \", mean_squared_error(y_test, preds_test) ** 0.5)"
   ]
  },
  {
   "cell_type": "markdown",
   "metadata": {},
   "source": [
    "## Тестирование"
   ]
  },
  {
   "cell_type": "markdown",
   "metadata": {},
   "source": [
    "Попробуем подобрать параметры для линейной регрессии более точно:"
   ]
  },
  {
   "cell_type": "code",
   "execution_count": 20,
   "metadata": {},
   "outputs": [
    {
     "name": "stdout",
     "output_type": "stream",
     "text": [
      "RMSE на тестовой выборке: 35.69311306439486         \n",
      "Максимальное смещение: 96         \n",
      "Размер скользящего окна: 16\n",
      "\n",
      "CPU times: user 54.6 s, sys: 50.1 s, total: 1min 44s\n",
      "Wall time: 1min 44s\n"
     ]
    }
   ],
   "source": [
    "%%time\n",
    "best_lag_lm = 0\n",
    "best_roll_size_lm = 0\n",
    "best_rmse_lm = 48\n",
    "for lag in range(1, 101, 5):\n",
    "    for roll_size in range(1, 101, 5):\n",
    "\n",
    "        df_func = function_training_features(df, lag, roll_size)\n",
    "        train, test = train_test_split(df_func, shuffle=False, test_size=0.2)\n",
    "        train = train.dropna()\n",
    "        X_train = train.drop('num_orders', axis = 1)\n",
    "        y_train = train['num_orders']\n",
    "        X_test = test.drop('num_orders', axis = 1)\n",
    "        y_test = test['num_orders']\n",
    "\n",
    "        lm = LinearRegression()\n",
    "        lm.fit(X_train, y_train)\n",
    "\n",
    "        preds_test = lm.predict(X_test)\n",
    "        rmse = mean_squared_error(y_test, preds_test) ** 0.5\n",
    "        # Значение метрики RMSE на тестовой выборке должно быть не больше 48\n",
    "        if rmse < best_rmse_lm :\n",
    "            best_rmse_lm = rmse\n",
    "            best_lag_lm = lag\n",
    "            best_roll_size_lm = roll_size\n",
    "            \n",
    "print(f\"RMSE на тестовой выборке: {best_rmse_lm} \\\n",
    "        \\nМаксимальное смещение: {best_lag_lm} \\\n",
    "        \\nРазмер скользящего окна: {best_roll_size_lm}\\n\")"
   ]
  },
  {
   "cell_type": "markdown",
   "metadata": {},
   "source": [
    "### Функция ``main_model``"
   ]
  },
  {
   "cell_type": "markdown",
   "metadata": {},
   "source": [
    "Напишем функцию и обучим модели ``Lasso`` и ``Ridge``."
   ]
  },
  {
   "cell_type": "code",
   "execution_count": 21,
   "metadata": {},
   "outputs": [],
   "source": [
    "def main_model(model):\n",
    "    best_lag = 0\n",
    "    best_roll_size = 0\n",
    "    best_alpha = 0\n",
    "    best_rmse = 48\n",
    "    for lag in range(1, 101, 5):\n",
    "        for roll_size in range(1, 101, 5):\n",
    "            for alpha in np.arange(0.1, 1, 0.2):\n",
    "\n",
    "                df_func = function_training_features(df, lag, roll_size)\n",
    "                train, test = train_test_split(df_func, shuffle=False, test_size=0.2)\n",
    "                train = train.dropna()\n",
    "                X_train = train.drop('num_orders', axis = 1)\n",
    "                y_train = train['num_orders']\n",
    "                X_test = test.drop('num_orders', axis = 1)\n",
    "                y_test = test['num_orders']\n",
    "                \n",
    "                if model == 'Lasso' :\n",
    "                    lm = Lasso(alpha=alpha)\n",
    "                elif model == 'Ridge' :\n",
    "                    lm = Ridge(alpha=alpha)\n",
    "                lm.fit(X_train, y_train)\n",
    "\n",
    "                preds_test = lm.predict(X_test)\n",
    "                rmse = mean_squared_error(y_test, preds_test) ** 0.5\n",
    "                if rmse < best_rmse :\n",
    "                    best_rmse = rmse\n",
    "                    best_lag = lag\n",
    "                    best_roll_size = roll_size\n",
    "                    best_alpha = alpha\n",
    "    return best_rmse, best_lag, best_roll_size, best_alpha"
   ]
  },
  {
   "cell_type": "markdown",
   "metadata": {},
   "source": [
    "### Модель ``Lasso``"
   ]
  },
  {
   "cell_type": "code",
   "execution_count": 22,
   "metadata": {},
   "outputs": [
    {
     "name": "stdout",
     "output_type": "stream",
     "text": [
      "RMSE на тестовой выборке: 35.67281060216996         \n",
      "Максимальное смещение 96         \n",
      "Размер скользящего окна 41\n",
      "\n",
      "Коэффициент регуляризации: 0.9000000000000001\n",
      "CPU times: user 6min 54s, sys: 6min 1s, total: 12min 55s\n",
      "Wall time: 12min 56s\n"
     ]
    }
   ],
   "source": [
    "%%time\n",
    "best_rmse_ls, best_lag_ls, best_roll_size_ls, best_alpha_ls = main_model(\"Lasso\")\n",
    "print(f\"RMSE на тестовой выборке: {best_rmse_ls} \\\n",
    "        \\nМаксимальное смещение {best_lag_ls} \\\n",
    "        \\nРазмер скользящего окна {best_roll_size_ls}\\n\")\n",
    "print(f\"Коэффициент регуляризации: {best_alpha_ls}\")"
   ]
  },
  {
   "cell_type": "markdown",
   "metadata": {},
   "source": [
    "### Модель ``Ridge``"
   ]
  },
  {
   "cell_type": "code",
   "execution_count": 23,
   "metadata": {},
   "outputs": [
    {
     "name": "stdout",
     "output_type": "stream",
     "text": [
      "RMSE на тестовой выборке: 35.694169666362185         \n",
      "Максимальное смещение 96         \n",
      "Размер скользящего окна 1\n",
      "\n",
      "Коэффициент регуляризации: 0.1\n",
      "CPU times: user 3min 38s, sys: 3min 4s, total: 6min 43s\n",
      "Wall time: 6min 43s\n"
     ]
    }
   ],
   "source": [
    "%%time\n",
    "best_rmse_rg, best_lag_rg, best_roll_size_rg, best_alpha_rg = main_model(\"Ridge\")\n",
    "print(f\"RMSE на тестовой выборке: {best_rmse_rg} \\\n",
    "        \\nМаксимальное смещение {best_lag_rg} \\\n",
    "        \\nРазмер скользящего окна {best_roll_size_rg}\\n\")\n",
    "print(f\"Коэффициент регуляризации: {best_alpha_rg}\")"
   ]
  },
  {
   "cell_type": "markdown",
   "metadata": {},
   "source": [
    "### Анализ результатов"
   ]
  },
  {
   "cell_type": "markdown",
   "metadata": {},
   "source": [
    "Соберём данные в таблицу и проанализируем результат:"
   ]
  },
  {
   "cell_type": "code",
   "execution_count": 25,
   "metadata": {},
   "outputs": [
    {
     "data": {
      "text/html": [
       "<div>\n",
       "<style scoped>\n",
       "    .dataframe tbody tr th:only-of-type {\n",
       "        vertical-align: middle;\n",
       "    }\n",
       "\n",
       "    .dataframe tbody tr th {\n",
       "        vertical-align: top;\n",
       "    }\n",
       "\n",
       "    .dataframe thead th {\n",
       "        text-align: right;\n",
       "    }\n",
       "</style>\n",
       "<table border=\"1\" class=\"dataframe\">\n",
       "  <thead>\n",
       "    <tr style=\"text-align: right;\">\n",
       "      <th></th>\n",
       "      <th>model</th>\n",
       "      <th>rmse</th>\n",
       "      <th>max_lag</th>\n",
       "      <th>roll_size</th>\n",
       "      <th>alpha</th>\n",
       "    </tr>\n",
       "  </thead>\n",
       "  <tbody>\n",
       "    <tr>\n",
       "      <th>0</th>\n",
       "      <td>Baseline</td>\n",
       "      <td>53.368</td>\n",
       "      <td>1</td>\n",
       "      <td>0</td>\n",
       "      <td>NaN</td>\n",
       "    </tr>\n",
       "    <tr>\n",
       "      <th>1</th>\n",
       "      <td>Linear Regression</td>\n",
       "      <td>35.693</td>\n",
       "      <td>96</td>\n",
       "      <td>16</td>\n",
       "      <td>NaN</td>\n",
       "    </tr>\n",
       "    <tr>\n",
       "      <th>2</th>\n",
       "      <td>Lasso</td>\n",
       "      <td>35.673</td>\n",
       "      <td>96</td>\n",
       "      <td>41</td>\n",
       "      <td>0.9</td>\n",
       "    </tr>\n",
       "    <tr>\n",
       "      <th>3</th>\n",
       "      <td>Ridge</td>\n",
       "      <td>35.694</td>\n",
       "      <td>96</td>\n",
       "      <td>1</td>\n",
       "      <td>0.1</td>\n",
       "    </tr>\n",
       "  </tbody>\n",
       "</table>\n",
       "</div>"
      ],
      "text/plain": [
       "               model    rmse  max_lag  roll_size  alpha\n",
       "0           Baseline  53.368        1          0    NaN\n",
       "1  Linear Regression  35.693       96         16    NaN\n",
       "2              Lasso  35.673       96         41    0.9\n",
       "3              Ridge  35.694       96          1    0.1"
      ]
     },
     "metadata": {},
     "output_type": "display_data"
    }
   ],
   "source": [
    "stats = pd.DataFrame([['Baseline', round(rmse_base, 3), 1, 0, np.nan],\n",
    "                      ['Linear Regression', round(best_rmse_lm, 3), best_lag_lm, best_roll_size_lm, np.nan],\n",
    "                      ['Lasso', round(best_rmse_ls, 3), best_lag_ls, best_roll_size_ls, best_alpha_ls],\n",
    "                      ['Ridge', round(best_rmse_rg, 3), best_lag_rg, best_roll_size_rg, best_alpha_rg]],\n",
    "                    columns = ['model', 'rmse', 'max_lag', 'roll_size', 'alpha'])\n",
    "# выведем таблицу\n",
    "display(stats)"
   ]
  },
  {
   "cell_type": "markdown",
   "metadata": {},
   "source": [
    "Для предсказаний модели ``Lasso`` с параметром регуляризации ``alpha=0.9`` построим графики зависимостей целевого признака и предсказаний от времени. Проверим, в какие моменты модель была более точной и менее точной. Для наглядности графика построим последние 10 дней."
   ]
  },
  {
   "cell_type": "code",
   "execution_count": 26,
   "metadata": {},
   "outputs": [],
   "source": [
    "df_func = function_training_features(df, 96, 41)\n",
    "train, test = train_test_split(df_func, shuffle=False, test_size=0.2)\n",
    "train = train.dropna()\n",
    "X_train = train.drop('num_orders', axis = 1)\n",
    "y_train = train['num_orders']\n",
    "X_test = test.drop('num_orders', axis = 1)\n",
    "y_test = test['num_orders']\n",
    "\n",
    "lasso = Lasso(alpha=0.9)\n",
    "lasso.fit(X_train, y_train)\n",
    "preds_test = pd.Series(lasso.predict(X_test), index = y_test.index, name='preds')"
   ]
  },
  {
   "cell_type": "code",
   "execution_count": 27,
   "metadata": {},
   "outputs": [
    {
     "data": {
      "text/html": [
       "<div>\n",
       "<style scoped>\n",
       "    .dataframe tbody tr th:only-of-type {\n",
       "        vertical-align: middle;\n",
       "    }\n",
       "\n",
       "    .dataframe tbody tr th {\n",
       "        vertical-align: top;\n",
       "    }\n",
       "\n",
       "    .dataframe thead th {\n",
       "        text-align: right;\n",
       "    }\n",
       "</style>\n",
       "<table border=\"1\" class=\"dataframe\">\n",
       "  <thead>\n",
       "    <tr style=\"text-align: right;\">\n",
       "      <th></th>\n",
       "      <th>num_orders</th>\n",
       "      <th>preds</th>\n",
       "    </tr>\n",
       "    <tr>\n",
       "      <th>datetime</th>\n",
       "      <th></th>\n",
       "      <th></th>\n",
       "    </tr>\n",
       "  </thead>\n",
       "  <tbody>\n",
       "    <tr>\n",
       "      <th>2018-07-26 04:00:00</th>\n",
       "      <td>131</td>\n",
       "      <td>127.387869</td>\n",
       "    </tr>\n",
       "    <tr>\n",
       "      <th>2018-07-26 05:00:00</th>\n",
       "      <td>83</td>\n",
       "      <td>75.378455</td>\n",
       "    </tr>\n",
       "    <tr>\n",
       "      <th>2018-07-26 06:00:00</th>\n",
       "      <td>21</td>\n",
       "      <td>48.722166</td>\n",
       "    </tr>\n",
       "    <tr>\n",
       "      <th>2018-07-26 07:00:00</th>\n",
       "      <td>39</td>\n",
       "      <td>65.843009</td>\n",
       "    </tr>\n",
       "    <tr>\n",
       "      <th>2018-07-26 08:00:00</th>\n",
       "      <td>80</td>\n",
       "      <td>61.754457</td>\n",
       "    </tr>\n",
       "    <tr>\n",
       "      <th>2018-07-26 09:00:00</th>\n",
       "      <td>138</td>\n",
       "      <td>109.017315</td>\n",
       "    </tr>\n",
       "    <tr>\n",
       "      <th>2018-07-26 10:00:00</th>\n",
       "      <td>142</td>\n",
       "      <td>92.892337</td>\n",
       "    </tr>\n",
       "    <tr>\n",
       "      <th>2018-07-26 11:00:00</th>\n",
       "      <td>86</td>\n",
       "      <td>107.615540</td>\n",
       "    </tr>\n",
       "    <tr>\n",
       "      <th>2018-07-26 12:00:00</th>\n",
       "      <td>102</td>\n",
       "      <td>114.649062</td>\n",
       "    </tr>\n",
       "    <tr>\n",
       "      <th>2018-07-26 13:00:00</th>\n",
       "      <td>70</td>\n",
       "      <td>89.205671</td>\n",
       "    </tr>\n",
       "  </tbody>\n",
       "</table>\n",
       "</div>"
      ],
      "text/plain": [
       "                     num_orders       preds\n",
       "datetime                                   \n",
       "2018-07-26 04:00:00         131  127.387869\n",
       "2018-07-26 05:00:00          83   75.378455\n",
       "2018-07-26 06:00:00          21   48.722166\n",
       "2018-07-26 07:00:00          39   65.843009\n",
       "2018-07-26 08:00:00          80   61.754457\n",
       "2018-07-26 09:00:00         138  109.017315\n",
       "2018-07-26 10:00:00         142   92.892337\n",
       "2018-07-26 11:00:00          86  107.615540\n",
       "2018-07-26 12:00:00         102  114.649062\n",
       "2018-07-26 13:00:00          70   89.205671"
      ]
     },
     "execution_count": 27,
     "metadata": {},
     "output_type": "execute_result"
    }
   ],
   "source": [
    "df_preditors = pd.concat([y_test, preds_test], axis=1)\n",
    "df_preditors.head(10)"
   ]
  },
  {
   "cell_type": "code",
   "execution_count": 28,
   "metadata": {},
   "outputs": [
    {
     "data": {
      "text/plain": [
       "<AxesSubplot:xlabel='datetime', ylabel='num_orders'>"
      ]
     },
     "execution_count": 28,
     "metadata": {},
     "output_type": "execute_result"
    },
    {
     "data": {
      "image/png": "[encoded data removed]",
      "text/plain": [
       "<Figure size 1008x360 with 1 Axes>"
      ]
     },
     "metadata": {},
     "output_type": "display_data"
    }
   ],
   "source": [
    "plt.figure(figsize=(14, 5))\n",
    "plt.style.use('ggplot')\n",
    "data = df_preditors['2018-08-15':]\n",
    "sns.lineplot(x=data.index, y=data['num_orders'], label='True Test')\n",
    "sns.lineplot(x=data.index, y=data['preds'], label='Predictions')"
   ]
  },
  {
   "cell_type": "markdown",
   "metadata": {},
   "source": [
    "Видим, что модель отлично определяет тестовые данные, но испытывает проблемы с редкими большими значениями."
   ]
  },
  {
   "cell_type": "markdown",
   "metadata": {},
   "source": [
    "## Общий вывод"
   ]
  },
  {
   "cell_type": "markdown",
   "metadata": {},
   "source": [
    "В процессе проведения исследовательского анализа данных мы открыли и изучили файл, проанализировали данные. Написали функции для обучения и тестирования моделей. Выяснили, что линейные модели показали практически одинаковый результат по RMSE. Наилучшие результаты даёт скользящее окно размером примерно ``40-50 часов``. Модель ``Lasso`` получила заметно меньшее ``RMSE`` по сравнению с базовой моделью. И в итоге мы  увидели, что модель отлично определяет тестовые данные, но испытывает проблемы с редкими большими значениями."
   ]
  }
 ],
 "metadata": {
  "ExecuteTimeLog": [
   {
    "duration": 1788,
    "start_time": "2022-04-21T13:00:34.915Z"
   },
   {
    "duration": 46,
    "start_time": "2022-04-21T13:01:53.605Z"
   },
   {
    "duration": 15,
    "start_time": "2022-04-21T13:02:13.324Z"
   },
   {
    "duration": 5,
    "start_time": "2022-04-21T13:02:30.665Z"
   },
   {
    "duration": 12,
    "start_time": "2022-04-21T13:02:40.744Z"
   },
   {
    "duration": 18,
    "start_time": "2022-04-21T13:03:04.295Z"
   },
   {
    "duration": 9,
    "start_time": "2022-04-21T13:05:25.884Z"
   },
   {
    "duration": 4,
    "start_time": "2022-04-21T13:06:03.503Z"
   },
   {
    "duration": 4,
    "start_time": "2022-04-21T13:06:36.454Z"
   },
   {
    "duration": 7,
    "start_time": "2022-04-21T13:07:05.444Z"
   },
   {
    "duration": 4,
    "start_time": "2022-04-21T13:07:07.133Z"
   },
   {
    "duration": 122,
    "start_time": "2022-04-21T13:12:01.773Z"
   },
   {
    "duration": 123,
    "start_time": "2022-04-21T13:12:12.703Z"
   },
   {
    "duration": 435,
    "start_time": "2022-04-21T13:12:41.314Z"
   },
   {
    "duration": 409,
    "start_time": "2022-04-21T13:13:20.894Z"
   },
   {
    "duration": 218,
    "start_time": "2022-04-21T13:13:27.194Z"
   },
   {
    "duration": 259,
    "start_time": "2022-04-21T13:14:24.345Z"
   },
   {
    "duration": 479,
    "start_time": "2022-04-21T13:14:36.504Z"
   },
   {
    "duration": 226,
    "start_time": "2022-04-21T13:14:46.544Z"
   },
   {
    "duration": 196,
    "start_time": "2022-04-21T13:16:20.854Z"
   },
   {
    "duration": 67,
    "start_time": "2022-04-21T13:16:37.953Z"
   },
   {
    "duration": 65,
    "start_time": "2022-04-21T13:16:57.794Z"
   },
   {
    "duration": 194,
    "start_time": "2022-04-21T13:17:09.533Z"
   },
   {
    "duration": 204,
    "start_time": "2022-04-21T13:17:49.813Z"
   },
   {
    "duration": 194,
    "start_time": "2022-04-21T13:18:03.704Z"
   },
   {
    "duration": 451,
    "start_time": "2022-04-21T13:19:05.354Z"
   },
   {
    "duration": 5,
    "start_time": "2022-04-21T13:19:41.345Z"
   },
   {
    "duration": 40,
    "start_time": "2022-04-21T13:19:41.352Z"
   },
   {
    "duration": 7,
    "start_time": "2022-04-21T13:19:41.394Z"
   },
   {
    "duration": 5,
    "start_time": "2022-04-21T13:19:41.403Z"
   },
   {
    "duration": 12,
    "start_time": "2022-04-21T13:19:41.409Z"
   },
   {
    "duration": 14,
    "start_time": "2022-04-21T13:19:41.444Z"
   },
   {
    "duration": 8,
    "start_time": "2022-04-21T13:19:41.460Z"
   },
   {
    "duration": 23,
    "start_time": "2022-04-21T13:19:41.469Z"
   },
   {
    "duration": 214,
    "start_time": "2022-04-21T13:19:41.494Z"
   },
   {
    "duration": 223,
    "start_time": "2022-04-21T13:19:41.710Z"
   },
   {
    "duration": 217,
    "start_time": "2022-04-21T13:21:57.134Z"
   },
   {
    "duration": 12,
    "start_time": "2022-04-21T13:23:21.894Z"
   },
   {
    "duration": 411,
    "start_time": "2022-04-21T13:23:29.304Z"
   },
   {
    "duration": 281,
    "start_time": "2022-04-21T13:26:46.774Z"
   },
   {
    "duration": 168,
    "start_time": "2022-04-21T13:26:58.784Z"
   },
   {
    "duration": 24,
    "start_time": "2022-04-21T13:27:03.894Z"
   },
   {
    "duration": 210,
    "start_time": "2022-04-21T13:27:13.685Z"
   },
   {
    "duration": 172,
    "start_time": "2022-04-21T13:27:19.424Z"
   },
   {
    "duration": 23,
    "start_time": "2022-04-21T13:27:25.134Z"
   },
   {
    "duration": 24,
    "start_time": "2022-04-21T13:27:30.085Z"
   },
   {
    "duration": 22,
    "start_time": "2022-04-21T13:27:34.975Z"
   },
   {
    "duration": 199,
    "start_time": "2022-04-21T13:27:39.155Z"
   },
   {
    "duration": 306,
    "start_time": "2022-04-21T13:27:44.064Z"
   },
   {
    "duration": 193,
    "start_time": "2022-04-21T13:27:49.464Z"
   },
   {
    "duration": 284,
    "start_time": "2022-04-21T13:27:56.464Z"
   },
   {
    "duration": 176,
    "start_time": "2022-04-21T13:28:05.454Z"
   },
   {
    "duration": 179,
    "start_time": "2022-04-21T13:28:26.594Z"
   },
   {
    "duration": 248,
    "start_time": "2022-04-21T13:28:31.874Z"
   },
   {
    "duration": 204,
    "start_time": "2022-04-21T13:29:12.915Z"
   },
   {
    "duration": 21,
    "start_time": "2022-04-21T13:29:18.844Z"
   },
   {
    "duration": 209,
    "start_time": "2022-04-21T13:29:21.675Z"
   },
   {
    "duration": 209,
    "start_time": "2022-04-21T13:29:30.504Z"
   },
   {
    "duration": 216,
    "start_time": "2022-04-21T13:29:41.466Z"
   },
   {
    "duration": 373,
    "start_time": "2022-04-21T13:29:47.235Z"
   },
   {
    "duration": 10,
    "start_time": "2022-04-21T13:37:55.327Z"
   },
   {
    "duration": 5,
    "start_time": "2022-04-21T13:41:00.658Z"
   },
   {
    "duration": 10,
    "start_time": "2022-04-21T13:41:09.865Z"
   },
   {
    "duration": 10,
    "start_time": "2022-04-21T13:49:39.095Z"
   },
   {
    "duration": 4,
    "start_time": "2022-04-21T13:54:55.485Z"
   },
   {
    "duration": 23,
    "start_time": "2022-04-21T13:56:03.715Z"
   },
   {
    "duration": 9,
    "start_time": "2022-04-21T14:00:10.475Z"
   },
   {
    "duration": 25,
    "start_time": "2022-04-21T14:00:22.365Z"
   },
   {
    "duration": 26,
    "start_time": "2022-04-21T14:00:50.075Z"
   },
   {
    "duration": 23,
    "start_time": "2022-04-21T14:01:45.225Z"
   },
   {
    "duration": 161,
    "start_time": "2022-04-21T14:02:49.836Z"
   },
   {
    "duration": 123,
    "start_time": "2022-04-21T14:05:37.496Z"
   },
   {
    "duration": 59562,
    "start_time": "2022-04-21T14:06:28.376Z"
   },
   {
    "duration": 88721,
    "start_time": "2022-04-21T14:07:41.205Z"
   },
   {
    "duration": 4,
    "start_time": "2022-04-21T14:09:28.325Z"
   },
   {
    "duration": 3,
    "start_time": "2022-04-21T14:09:41.496Z"
   },
   {
    "duration": 61,
    "start_time": "2022-04-21T14:10:21.956Z"
   },
   {
    "duration": 28234,
    "start_time": "2022-04-21T14:10:36.166Z"
   },
   {
    "duration": 7,
    "start_time": "2022-04-21T14:11:10.477Z"
   },
   {
    "duration": 42,
    "start_time": "2022-04-21T14:11:10.486Z"
   },
   {
    "duration": 7,
    "start_time": "2022-04-21T14:11:10.530Z"
   },
   {
    "duration": 6,
    "start_time": "2022-04-21T14:11:10.538Z"
   },
   {
    "duration": 20,
    "start_time": "2022-04-21T14:11:10.546Z"
   },
   {
    "duration": 19,
    "start_time": "2022-04-21T14:11:10.585Z"
   },
   {
    "duration": 8,
    "start_time": "2022-04-21T14:11:10.606Z"
   },
   {
    "duration": 11,
    "start_time": "2022-04-21T14:11:10.616Z"
   },
   {
    "duration": 222,
    "start_time": "2022-04-21T14:11:10.629Z"
   },
   {
    "duration": 349,
    "start_time": "2022-04-21T14:11:10.854Z"
   },
   {
    "duration": 215,
    "start_time": "2022-04-21T14:11:11.205Z"
   },
   {
    "duration": 355,
    "start_time": "2022-04-21T14:11:11.422Z"
   },
   {
    "duration": 22,
    "start_time": "2022-04-21T14:11:11.779Z"
   },
   {
    "duration": 26,
    "start_time": "2022-04-21T14:11:11.803Z"
   },
   {
    "duration": 17,
    "start_time": "2022-04-21T14:11:11.831Z"
   },
   {
    "duration": 44,
    "start_time": "2022-04-21T14:11:11.850Z"
   },
   {
    "duration": 8,
    "start_time": "2022-04-21T14:11:11.896Z"
   },
   {
    "duration": 38,
    "start_time": "2022-04-21T14:11:11.905Z"
   },
   {
    "duration": 153,
    "start_time": "2022-04-21T14:11:11.946Z"
   },
   {
    "duration": 97694,
    "start_time": "2022-04-21T14:11:12.102Z"
   },
   {
    "duration": 120,
    "start_time": "2022-04-21T14:28:26.516Z"
   },
   {
    "duration": 7,
    "start_time": "2022-04-21T14:28:32.477Z"
   },
   {
    "duration": 428656,
    "start_time": "2022-04-21T14:28:36.516Z"
   },
   {
    "duration": 6,
    "start_time": "2022-04-21T14:35:54.652Z"
   },
   {
    "duration": 31,
    "start_time": "2022-04-21T14:35:54.664Z"
   },
   {
    "duration": 8,
    "start_time": "2022-04-21T14:35:54.697Z"
   },
   {
    "duration": 7,
    "start_time": "2022-04-21T14:35:54.706Z"
   },
   {
    "duration": 12,
    "start_time": "2022-04-21T14:35:54.715Z"
   },
   {
    "duration": 12,
    "start_time": "2022-04-21T14:35:54.729Z"
   },
   {
    "duration": 7,
    "start_time": "2022-04-21T14:35:54.743Z"
   },
   {
    "duration": 3,
    "start_time": "2022-04-21T14:35:54.751Z"
   },
   {
    "duration": 323,
    "start_time": "2022-04-21T14:35:54.792Z"
   },
   {
    "duration": 237,
    "start_time": "2022-04-21T14:35:55.116Z"
   },
   {
    "duration": 239,
    "start_time": "2022-04-21T14:35:55.355Z"
   },
   {
    "duration": 412,
    "start_time": "2022-04-21T14:35:55.596Z"
   },
   {
    "duration": 12,
    "start_time": "2022-04-21T14:35:56.011Z"
   },
   {
    "duration": 6,
    "start_time": "2022-04-21T14:35:56.025Z"
   },
   {
    "duration": 4,
    "start_time": "2022-04-21T14:35:56.034Z"
   },
   {
    "duration": 59,
    "start_time": "2022-04-21T14:35:56.039Z"
   },
   {
    "duration": 9,
    "start_time": "2022-04-21T14:35:56.100Z"
   },
   {
    "duration": 26,
    "start_time": "2022-04-21T14:35:56.111Z"
   },
   {
    "duration": 153,
    "start_time": "2022-04-21T14:35:56.139Z"
   },
   {
    "duration": 103002,
    "start_time": "2022-04-21T14:35:56.295Z"
   },
   {
    "duration": 98,
    "start_time": "2022-04-21T14:37:39.299Z"
   },
   {
    "duration": 724607,
    "start_time": "2022-04-21T14:37:39.399Z"
   },
   {
    "duration": 2487,
    "start_time": "2022-04-22T11:16:17.839Z"
   },
   {
    "duration": 47,
    "start_time": "2022-04-22T11:16:20.329Z"
   },
   {
    "duration": 21,
    "start_time": "2022-04-22T11:16:20.378Z"
   },
   {
    "duration": 10,
    "start_time": "2022-04-22T11:16:20.407Z"
   },
   {
    "duration": 16,
    "start_time": "2022-04-22T11:16:20.422Z"
   },
   {
    "duration": 49,
    "start_time": "2022-04-22T11:16:20.441Z"
   },
   {
    "duration": 20,
    "start_time": "2022-04-22T11:16:20.492Z"
   },
   {
    "duration": 15,
    "start_time": "2022-04-22T11:16:20.522Z"
   },
   {
    "duration": 449,
    "start_time": "2022-04-22T11:16:20.539Z"
   },
   {
    "duration": 415,
    "start_time": "2022-04-22T11:16:20.990Z"
   },
   {
    "duration": 523,
    "start_time": "2022-04-22T11:16:21.407Z"
   },
   {
    "duration": 632,
    "start_time": "2022-04-22T11:16:21.932Z"
   },
   {
    "duration": 43,
    "start_time": "2022-04-22T11:16:22.566Z"
   },
   {
    "duration": 25,
    "start_time": "2022-04-22T11:16:22.614Z"
   },
   {
    "duration": 19,
    "start_time": "2022-04-22T11:16:22.641Z"
   },
   {
    "duration": 53,
    "start_time": "2022-04-22T11:16:22.662Z"
   },
   {
    "duration": 12,
    "start_time": "2022-04-22T11:16:22.717Z"
   },
   {
    "duration": 37,
    "start_time": "2022-04-22T11:16:22.732Z"
   },
   {
    "duration": 231,
    "start_time": "2022-04-22T11:16:22.786Z"
   },
   {
    "duration": 260976,
    "start_time": "2022-04-22T11:16:23.020Z"
   },
   {
    "duration": 80,
    "start_time": "2022-04-22T11:20:44.017Z"
   },
   {
    "duration": 1154401,
    "start_time": "2022-04-22T11:20:44.107Z"
   },
   {
    "duration": 593566,
    "start_time": "2022-04-22T11:44:54.321Z"
   },
   {
    "duration": 7,
    "start_time": "2022-04-22T12:10:09.751Z"
   },
   {
    "duration": 15,
    "start_time": "2022-04-22T12:10:23.473Z"
   },
   {
    "duration": 15,
    "start_time": "2022-04-22T12:11:01.181Z"
   },
   {
    "duration": 21,
    "start_time": "2022-04-22T12:11:08.181Z"
   },
   {
    "duration": 362,
    "start_time": "2022-04-22T12:14:17.741Z"
   },
   {
    "duration": 20,
    "start_time": "2022-04-22T12:15:03.983Z"
   },
   {
    "duration": 20,
    "start_time": "2022-04-22T12:15:16.632Z"
   },
   {
    "duration": 12,
    "start_time": "2022-04-22T12:15:41.441Z"
   },
   {
    "duration": 928,
    "start_time": "2022-04-22T12:16:04.691Z"
   },
   {
    "duration": 7,
    "start_time": "2022-04-22T12:32:07.032Z"
   },
   {
    "duration": 49,
    "start_time": "2022-04-22T12:32:07.042Z"
   },
   {
    "duration": 10,
    "start_time": "2022-04-22T12:32:07.094Z"
   },
   {
    "duration": 12,
    "start_time": "2022-04-22T12:32:07.108Z"
   },
   {
    "duration": 21,
    "start_time": "2022-04-22T12:32:07.123Z"
   },
   {
    "duration": 26,
    "start_time": "2022-04-22T12:32:07.183Z"
   },
   {
    "duration": 12,
    "start_time": "2022-04-22T12:32:07.212Z"
   },
   {
    "duration": 5,
    "start_time": "2022-04-22T12:32:07.228Z"
   },
   {
    "duration": 709,
    "start_time": "2022-04-22T12:32:07.238Z"
   },
   {
    "duration": 612,
    "start_time": "2022-04-22T12:32:07.950Z"
   },
   {
    "duration": 437,
    "start_time": "2022-04-22T12:32:08.565Z"
   },
   {
    "duration": 790,
    "start_time": "2022-04-22T12:32:09.004Z"
   },
   {
    "duration": 16,
    "start_time": "2022-04-22T12:32:09.798Z"
   },
   {
    "duration": 6,
    "start_time": "2022-04-22T12:32:09.817Z"
   },
   {
    "duration": 8,
    "start_time": "2022-04-22T12:32:09.826Z"
   },
   {
    "duration": 83,
    "start_time": "2022-04-22T12:32:09.836Z"
   },
   {
    "duration": 11,
    "start_time": "2022-04-22T12:32:09.921Z"
   },
   {
    "duration": 63,
    "start_time": "2022-04-22T12:32:09.936Z"
   },
   {
    "duration": 312,
    "start_time": "2022-04-22T12:32:10.001Z"
   },
   {
    "duration": 211014,
    "start_time": "2022-04-22T12:32:10.386Z"
   },
   {
    "duration": 94,
    "start_time": "2022-04-22T12:35:41.491Z"
   },
   {
    "duration": 1080394,
    "start_time": "2022-04-22T12:35:41.593Z"
   },
   {
    "duration": 552096,
    "start_time": "2022-04-22T12:53:41.990Z"
   },
   {
    "duration": 19,
    "start_time": "2022-04-22T13:02:54.092Z"
   },
   {
    "duration": 571,
    "start_time": "2022-04-22T13:02:54.114Z"
   },
   {
    "duration": 14,
    "start_time": "2022-04-22T13:02:54.695Z"
   },
   {
    "duration": 669,
    "start_time": "2022-04-22T13:02:54.712Z"
   },
   {
    "duration": 177891,
    "start_time": "2022-04-23T06:55:03.912Z"
   },
   {
    "duration": 82,
    "start_time": "2022-04-23T06:58:01.806Z"
   },
   {
    "duration": 15,
    "start_time": "2022-04-23T06:58:01.891Z"
   },
   {
    "duration": 11,
    "start_time": "2022-04-23T06:58:01.908Z"
   },
   {
    "duration": 35,
    "start_time": "2022-04-23T06:58:01.921Z"
   },
   {
    "duration": 18,
    "start_time": "2022-04-23T06:58:01.958Z"
   },
   {
    "duration": 125,
    "start_time": "2022-04-23T07:08:08.358Z"
   },
   {
    "duration": 229106,
    "start_time": "2022-04-23T07:08:14.464Z"
   },
   {
    "duration": 4484,
    "start_time": "2022-04-23T07:43:11.384Z"
   },
   {
    "duration": 35,
    "start_time": "2022-04-23T07:43:35.227Z"
   },
   {
    "duration": 10,
    "start_time": "2022-04-23T07:43:36.089Z"
   },
   {
    "duration": 3,
    "start_time": "2022-04-23T07:43:36.288Z"
   },
   {
    "duration": 10,
    "start_time": "2022-04-23T07:43:36.478Z"
   },
   {
    "duration": 13,
    "start_time": "2022-04-23T07:43:36.673Z"
   },
   {
    "duration": 8,
    "start_time": "2022-04-23T07:43:38.258Z"
   },
   {
    "duration": 2,
    "start_time": "2022-04-23T07:43:38.635Z"
   },
   {
    "duration": 220,
    "start_time": "2022-04-23T07:43:40.133Z"
   },
   {
    "duration": 223,
    "start_time": "2022-04-23T07:43:40.637Z"
   },
   {
    "duration": 316,
    "start_time": "2022-04-23T07:43:41.288Z"
   },
   {
    "duration": 445,
    "start_time": "2022-04-23T07:43:42.109Z"
   },
   {
    "duration": 10,
    "start_time": "2022-04-23T07:43:48.600Z"
   },
   {
    "duration": 5,
    "start_time": "2022-04-23T07:43:50.087Z"
   },
   {
    "duration": 4,
    "start_time": "2022-04-23T07:43:56.397Z"
   },
   {
    "duration": 24,
    "start_time": "2022-04-23T07:43:56.603Z"
   },
   {
    "duration": 8,
    "start_time": "2022-04-23T07:44:51.385Z"
   },
   {
    "duration": 24,
    "start_time": "2022-04-23T07:44:51.970Z"
   },
   {
    "duration": 32,
    "start_time": "2022-04-23T07:44:53.682Z"
   },
   {
    "duration": 104822,
    "start_time": "2022-04-23T07:45:08.390Z"
   },
   {
    "duration": 100,
    "start_time": "2022-04-23T07:46:53.214Z"
   },
   {
    "duration": 776295,
    "start_time": "2022-04-23T07:46:53.317Z"
   },
   {
    "duration": 403699,
    "start_time": "2022-04-23T07:59:49.615Z"
   },
   {
    "duration": 101,
    "start_time": "2022-04-23T08:06:33.317Z"
   },
   {
    "duration": 10,
    "start_time": "2022-04-23T08:11:26.173Z"
   },
   {
    "duration": 352,
    "start_time": "2022-04-23T08:11:37.160Z"
   },
   {
    "duration": 134,
    "start_time": "2022-04-23T08:11:37.809Z"
   },
   {
    "duration": 348,
    "start_time": "2022-04-23T08:11:38.587Z"
   }
  ],
  "kernelspec": {
   "display_name": "Python 3 (ipykernel)",
   "language": "python",
   "name": "python3"
  },
  "language_info": {
   "codemirror_mode": {
    "name": "ipython",
    "version": 3
   },
   "file_extension": ".py",
   "mimetype": "text/x-python",
   "name": "python",
   "nbconvert_exporter": "python",
   "pygments_lexer": "ipython3",
   "version": "3.9.5"
  },
  "toc": {
   "base_numbering": 1,
   "nav_menu": {},
   "number_sections": true,
   "sideBar": true,
   "skip_h1_title": true,
   "title_cell": "Содержание",
   "title_sidebar": "Contents",
   "toc_cell": true,
   "toc_position": {},
   "toc_section_display": true,
   "toc_window_display": true
  }
 },
 "nbformat": 4,
 "nbformat_minor": 2
}
