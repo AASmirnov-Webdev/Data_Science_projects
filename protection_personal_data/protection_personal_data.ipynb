{
 "cells": [
  {
   "cell_type": "markdown",
   "metadata": {
    "toc": true
   },
   "source": [
    "<h1>Содержание<span class=\"tocSkip\"></span></h1>\n",
    "<div class=\"toc\"><ul class=\"toc-item\"><li><span><a href=\"#Загрузка-данных\" data-toc-modified-id=\"Загрузка-данных-1\"><span class=\"toc-item-num\">1&nbsp;&nbsp;</span>Загрузка данных</a></span><ul class=\"toc-item\"><li><span><a href=\"#Описание-данных\" data-toc-modified-id=\"Описание-данных-1.1\"><span class=\"toc-item-num\">1.1&nbsp;&nbsp;</span>Описание данных</a></span></li><li><span><a href=\"#Открываем-и-изучаем-файл\" data-toc-modified-id=\"Открываем-и-изучаем-файл-1.2\"><span class=\"toc-item-num\">1.2&nbsp;&nbsp;</span>Открываем и изучаем файл</a></span></li><li><span><a href=\"#Предобработка-данных\" data-toc-modified-id=\"Предобработка-данных-1.3\"><span class=\"toc-item-num\">1.3&nbsp;&nbsp;</span>Предобработка данных</a></span><ul class=\"toc-item\"><li><span><a href=\"#Количество-пропусков\" data-toc-modified-id=\"Количество-пропусков-1.3.1\"><span class=\"toc-item-num\">1.3.1&nbsp;&nbsp;</span>Количество пропусков</a></span></li><li><span><a href=\"#Просмотр-уникальных-значений\" data-toc-modified-id=\"Просмотр-уникальных-значений-1.3.2\"><span class=\"toc-item-num\">1.3.2&nbsp;&nbsp;</span>Просмотр уникальных значений</a></span></li><li><span><a href=\"#Изменение-типа-данных\" data-toc-modified-id=\"Изменение-типа-данных-1.3.3\"><span class=\"toc-item-num\">1.3.3&nbsp;&nbsp;</span>Изменение типа данных</a></span></li></ul></li><li><span><a href=\"#Вывод\" data-toc-modified-id=\"Вывод-1.4\"><span class=\"toc-item-num\">1.4&nbsp;&nbsp;</span>Вывод</a></span></li></ul></li><li><span><a href=\"#Умножение-матриц\" data-toc-modified-id=\"Умножение-матриц-2\"><span class=\"toc-item-num\">2&nbsp;&nbsp;</span>Умножение матриц</a></span></li><li><span><a href=\"#Алгоритм-преобразования\" data-toc-modified-id=\"Алгоритм-преобразования-3\"><span class=\"toc-item-num\">3&nbsp;&nbsp;</span>Алгоритм преобразования</a></span></li><li><span><a href=\"#Проверка-алгоритма\" data-toc-modified-id=\"Проверка-алгоритма-4\"><span class=\"toc-item-num\">4&nbsp;&nbsp;</span>Проверка алгоритма</a></span></li><li><span><a href=\"#Общий-вывод\" data-toc-modified-id=\"Общий-вывод-5\"><span class=\"toc-item-num\">5&nbsp;&nbsp;</span>Общий вывод</a></span></li><li><span><a href=\"#Чек-лист-проверки\" data-toc-modified-id=\"Чек-лист-проверки-6\"><span class=\"toc-item-num\">6&nbsp;&nbsp;</span>Чек-лист проверки</a></span></li></ul></div>"
   ]
  },
  {
   "cell_type": "markdown",
   "metadata": {},
   "source": [
    "# Защита персональных данных клиентов"
   ]
  },
  {
   "cell_type": "markdown",
   "metadata": {},
   "source": [
    "Вам нужно защитить данные клиентов страховой компании «Хоть потоп». Разработайте такой метод преобразования данных, чтобы по ним было сложно восстановить персональную информацию. Обоснуйте корректность его работы.\n",
    "\n",
    "Нужно защитить данные, чтобы при преобразовании качество моделей машинного обучения не ухудшилось. Подбирать наилучшую модель не требуется."
   ]
  },
  {
   "cell_type": "markdown",
   "metadata": {},
   "source": [
    "## Загрузка данных"
   ]
  },
  {
   "cell_type": "markdown",
   "metadata": {},
   "source": [
    "### Описание данных"
   ]
  },
  {
   "cell_type": "markdown",
   "metadata": {},
   "source": [
    "Набор данных находится в файле `/datasets/insurance.csv`.\n",
    "\n",
    "*\t**`Признаки`**: пол, возраст и зарплата застрахованного, количество членов его семьи.\n",
    "*\t**`Целевой признак`**: количество страховых выплат клиенту за последние 5 лет."
   ]
  },
  {
   "cell_type": "markdown",
   "metadata": {},
   "source": [
    "### Открываем и изучаем файл"
   ]
  },
  {
   "cell_type": "markdown",
   "metadata": {},
   "source": [
    "Импортируем необходимые в работе библиотеки и модули"
   ]
  },
  {
   "cell_type": "code",
   "execution_count": 1,
   "metadata": {},
   "outputs": [],
   "source": [
    "import pandas as pd\n",
    "import numpy as np\n",
    "from sklearn.model_selection import train_test_split\n",
    "from sklearn.preprocessing import StandardScaler\n",
    "from sklearn.pipeline import Pipeline\n",
    "from sklearn.linear_model import LinearRegression\n",
    "from sklearn.metrics import r2_score"
   ]
  },
  {
   "cell_type": "code",
   "execution_count": 2,
   "metadata": {},
   "outputs": [],
   "source": [
    "# откроем датасет и сохраним его в новой переменной\n",
    "df = pd.read_csv('/datasets/insurance.csv')"
   ]
  },
  {
   "cell_type": "code",
   "execution_count": 3,
   "metadata": {},
   "outputs": [
    {
     "data": {
      "text/html": [
       "<div>\n",
       "<style scoped>\n",
       "    .dataframe tbody tr th:only-of-type {\n",
       "        vertical-align: middle;\n",
       "    }\n",
       "\n",
       "    .dataframe tbody tr th {\n",
       "        vertical-align: top;\n",
       "    }\n",
       "\n",
       "    .dataframe thead th {\n",
       "        text-align: right;\n",
       "    }\n",
       "</style>\n",
       "<table border=\"1\" class=\"dataframe\">\n",
       "  <thead>\n",
       "    <tr style=\"text-align: right;\">\n",
       "      <th></th>\n",
       "      <th>Пол</th>\n",
       "      <th>Возраст</th>\n",
       "      <th>Зарплата</th>\n",
       "      <th>Члены семьи</th>\n",
       "      <th>Страховые выплаты</th>\n",
       "    </tr>\n",
       "  </thead>\n",
       "  <tbody>\n",
       "    <tr>\n",
       "      <th>0</th>\n",
       "      <td>1</td>\n",
       "      <td>41.0</td>\n",
       "      <td>49600.0</td>\n",
       "      <td>1</td>\n",
       "      <td>0</td>\n",
       "    </tr>\n",
       "    <tr>\n",
       "      <th>1</th>\n",
       "      <td>0</td>\n",
       "      <td>46.0</td>\n",
       "      <td>38000.0</td>\n",
       "      <td>1</td>\n",
       "      <td>1</td>\n",
       "    </tr>\n",
       "    <tr>\n",
       "      <th>2</th>\n",
       "      <td>0</td>\n",
       "      <td>29.0</td>\n",
       "      <td>21000.0</td>\n",
       "      <td>0</td>\n",
       "      <td>0</td>\n",
       "    </tr>\n",
       "    <tr>\n",
       "      <th>3</th>\n",
       "      <td>0</td>\n",
       "      <td>21.0</td>\n",
       "      <td>41700.0</td>\n",
       "      <td>2</td>\n",
       "      <td>0</td>\n",
       "    </tr>\n",
       "    <tr>\n",
       "      <th>4</th>\n",
       "      <td>1</td>\n",
       "      <td>28.0</td>\n",
       "      <td>26100.0</td>\n",
       "      <td>0</td>\n",
       "      <td>0</td>\n",
       "    </tr>\n",
       "  </tbody>\n",
       "</table>\n",
       "</div>"
      ],
      "text/plain": [
       "   Пол  Возраст  Зарплата  Члены семьи  Страховые выплаты\n",
       "0    1     41.0   49600.0            1                  0\n",
       "1    0     46.0   38000.0            1                  1\n",
       "2    0     29.0   21000.0            0                  0\n",
       "3    0     21.0   41700.0            2                  0\n",
       "4    1     28.0   26100.0            0                  0"
      ]
     },
     "execution_count": 3,
     "metadata": {},
     "output_type": "execute_result"
    }
   ],
   "source": [
    "# выведем первые пять строк таблицы\n",
    "df.head()"
   ]
  },
  {
   "cell_type": "code",
   "execution_count": 4,
   "metadata": {},
   "outputs": [
    {
     "name": "stdout",
     "output_type": "stream",
     "text": [
      "<class 'pandas.core.frame.DataFrame'>\n",
      "RangeIndex: 5000 entries, 0 to 4999\n",
      "Data columns (total 5 columns):\n",
      " #   Column             Non-Null Count  Dtype  \n",
      "---  ------             --------------  -----  \n",
      " 0   Пол                5000 non-null   int64  \n",
      " 1   Возраст            5000 non-null   float64\n",
      " 2   Зарплата           5000 non-null   float64\n",
      " 3   Члены семьи        5000 non-null   int64  \n",
      " 4   Страховые выплаты  5000 non-null   int64  \n",
      "dtypes: float64(2), int64(3)\n",
      "memory usage: 195.4 KB\n"
     ]
    }
   ],
   "source": [
    "# Выведем общую информацию\n",
    "df.info()"
   ]
  },
  {
   "cell_type": "code",
   "execution_count": 5,
   "metadata": {},
   "outputs": [
    {
     "data": {
      "text/html": [
       "<div>\n",
       "<style scoped>\n",
       "    .dataframe tbody tr th:only-of-type {\n",
       "        vertical-align: middle;\n",
       "    }\n",
       "\n",
       "    .dataframe tbody tr th {\n",
       "        vertical-align: top;\n",
       "    }\n",
       "\n",
       "    .dataframe thead th {\n",
       "        text-align: right;\n",
       "    }\n",
       "</style>\n",
       "<table border=\"1\" class=\"dataframe\">\n",
       "  <thead>\n",
       "    <tr style=\"text-align: right;\">\n",
       "      <th></th>\n",
       "      <th>Пол</th>\n",
       "      <th>Возраст</th>\n",
       "      <th>Зарплата</th>\n",
       "      <th>Члены семьи</th>\n",
       "      <th>Страховые выплаты</th>\n",
       "    </tr>\n",
       "  </thead>\n",
       "  <tbody>\n",
       "    <tr>\n",
       "      <th>count</th>\n",
       "      <td>5000.000000</td>\n",
       "      <td>5000.000000</td>\n",
       "      <td>5000.000000</td>\n",
       "      <td>5000.000000</td>\n",
       "      <td>5000.000000</td>\n",
       "    </tr>\n",
       "    <tr>\n",
       "      <th>mean</th>\n",
       "      <td>0.499000</td>\n",
       "      <td>30.952800</td>\n",
       "      <td>39916.360000</td>\n",
       "      <td>1.194200</td>\n",
       "      <td>0.148000</td>\n",
       "    </tr>\n",
       "    <tr>\n",
       "      <th>std</th>\n",
       "      <td>0.500049</td>\n",
       "      <td>8.440807</td>\n",
       "      <td>9900.083569</td>\n",
       "      <td>1.091387</td>\n",
       "      <td>0.463183</td>\n",
       "    </tr>\n",
       "    <tr>\n",
       "      <th>min</th>\n",
       "      <td>0.000000</td>\n",
       "      <td>18.000000</td>\n",
       "      <td>5300.000000</td>\n",
       "      <td>0.000000</td>\n",
       "      <td>0.000000</td>\n",
       "    </tr>\n",
       "    <tr>\n",
       "      <th>25%</th>\n",
       "      <td>0.000000</td>\n",
       "      <td>24.000000</td>\n",
       "      <td>33300.000000</td>\n",
       "      <td>0.000000</td>\n",
       "      <td>0.000000</td>\n",
       "    </tr>\n",
       "    <tr>\n",
       "      <th>50%</th>\n",
       "      <td>0.000000</td>\n",
       "      <td>30.000000</td>\n",
       "      <td>40200.000000</td>\n",
       "      <td>1.000000</td>\n",
       "      <td>0.000000</td>\n",
       "    </tr>\n",
       "    <tr>\n",
       "      <th>75%</th>\n",
       "      <td>1.000000</td>\n",
       "      <td>37.000000</td>\n",
       "      <td>46600.000000</td>\n",
       "      <td>2.000000</td>\n",
       "      <td>0.000000</td>\n",
       "    </tr>\n",
       "    <tr>\n",
       "      <th>max</th>\n",
       "      <td>1.000000</td>\n",
       "      <td>65.000000</td>\n",
       "      <td>79000.000000</td>\n",
       "      <td>6.000000</td>\n",
       "      <td>5.000000</td>\n",
       "    </tr>\n",
       "  </tbody>\n",
       "</table>\n",
       "</div>"
      ],
      "text/plain": [
       "               Пол      Возраст      Зарплата  Члены семьи  Страховые выплаты\n",
       "count  5000.000000  5000.000000   5000.000000  5000.000000        5000.000000\n",
       "mean      0.499000    30.952800  39916.360000     1.194200           0.148000\n",
       "std       0.500049     8.440807   9900.083569     1.091387           0.463183\n",
       "min       0.000000    18.000000   5300.000000     0.000000           0.000000\n",
       "25%       0.000000    24.000000  33300.000000     0.000000           0.000000\n",
       "50%       0.000000    30.000000  40200.000000     1.000000           0.000000\n",
       "75%       1.000000    37.000000  46600.000000     2.000000           0.000000\n",
       "max       1.000000    65.000000  79000.000000     6.000000           5.000000"
      ]
     },
     "execution_count": 5,
     "metadata": {},
     "output_type": "execute_result"
    }
   ],
   "source": [
    "# Посмотрим на список характерных значений\n",
    "df.describe()"
   ]
  },
  {
   "cell_type": "markdown",
   "metadata": {},
   "source": [
    "### Предобработка данных"
   ]
  },
  {
   "cell_type": "markdown",
   "metadata": {},
   "source": [
    "#### Количество пропусков"
   ]
  },
  {
   "cell_type": "markdown",
   "metadata": {},
   "source": [
    "На всякий случай проверим отсутствие пропусков в данных."
   ]
  },
  {
   "cell_type": "code",
   "execution_count": 6,
   "metadata": {},
   "outputs": [
    {
     "name": "stdout",
     "output_type": "stream",
     "text": [
      "Количество пропусков: 0\n"
     ]
    }
   ],
   "source": [
    "print(\"Количество пропусков: {}\".format(df.isna().sum().sum()))"
   ]
  },
  {
   "cell_type": "markdown",
   "metadata": {},
   "source": [
    "Убедились, что пропусков в данных нет!"
   ]
  },
  {
   "cell_type": "markdown",
   "metadata": {},
   "source": [
    "#### Просмотр уникальных значений"
   ]
  },
  {
   "cell_type": "markdown",
   "metadata": {},
   "source": [
    "С применением цикла посмотрим на уникальные значения столбцов:"
   ]
  },
  {
   "cell_type": "code",
   "execution_count": 7,
   "metadata": {},
   "outputs": [
    {
     "name": "stdout",
     "output_type": "stream",
     "text": [
      "Уникальные значения столбца Пол\n",
      "[1 0]\n",
      "Уникальные значения столбца Возраст\n",
      "[41. 46. 29. 21. 28. 43. 39. 25. 36. 32. 38. 23. 40. 34. 26. 42. 27. 33.\n",
      " 47. 30. 19. 31. 22. 20. 24. 18. 37. 48. 45. 44. 52. 49. 35. 56. 65. 55.\n",
      " 57. 54. 50. 53. 51. 58. 59. 60. 61. 62.]\n",
      "Уникальные значения столбца Зарплата\n",
      "[49600. 38000. 21000. 41700. 26100. 41000. 39700. 38600. 49700. 51700.\n",
      " 36600. 29300. 39500. 55000. 43700. 23300. 48900. 33200. 36900. 43500.\n",
      " 36100. 26600. 48700. 40400. 38400. 34600. 34800. 36800. 42200. 46300.\n",
      " 30300. 51000. 28100. 64800. 30400. 45300. 38300. 49500. 19400. 40200.\n",
      " 31700. 69200. 33100. 31600. 34500. 38700. 39600. 42400. 34900. 30500.\n",
      " 24200. 49900. 14300. 47000. 44800. 43800. 42700. 35400. 57200. 29600.\n",
      " 37400. 48100. 33700. 61800. 39400. 15600. 52600. 37600. 52500. 32700.\n",
      " 51600. 60900. 41800. 47400. 26500. 45900. 35700. 34300. 26700. 25700.\n",
      " 33300. 31100. 31500. 42100. 37300. 42500. 27300. 46800. 33500. 44300.\n",
      " 41600. 53900. 40100. 44600. 45000. 32000. 38200. 33000. 38500. 51800.\n",
      " 33800. 46400. 43200. 31800. 50200. 35100. 30700. 45800. 49300. 42800.\n",
      " 33600. 50300. 34000. 36400. 44900. 43600. 54600. 52800. 29700. 39000.\n",
      " 44100. 31900. 37700. 35200. 43100. 51300. 47500. 40800. 26800. 64900.\n",
      " 35900. 31200. 39900. 43300. 33900. 40700. 44700. 53400. 30600. 56000.\n",
      " 35600. 55200. 40600. 48300. 50800. 41200. 44200. 44400. 40500. 39800.\n",
      " 16600. 48400. 25100. 23100. 32100. 31000. 42900. 46700. 26000. 55900.\n",
      " 52000. 41500. 49400. 60300. 45600. 49000. 37500. 21900. 45100. 47900.\n",
      " 54300. 32400. 41300. 44500. 23200. 37900. 48000. 52100. 45700. 29900.\n",
      " 42600. 45200. 36000. 46500. 23800. 30200. 24400. 32800. 29000. 43400.\n",
      " 51500. 61700. 45400. 50700. 36200. 41900. 27900. 47200. 48800. 55100.\n",
      " 48200. 35500. 35000. 43900. 40000. 22000. 40300. 36300. 49800. 25600.\n",
      " 42300. 54900. 25500. 32900. 36700. 38900. 24700. 28800. 22900. 47300.\n",
      " 14500. 28700. 44000. 34100. 53000. 59300. 28500. 47100. 41400. 58900.\n",
      " 17500. 54200. 43000. 29800. 20000. 13800. 27500. 67700. 28000. 37100.\n",
      "  8900. 14600. 56200. 38800. 27700. 50500. 58400. 34700. 34400. 49100.\n",
      " 50900. 28200. 61500. 32500. 25900.  9800. 28300. 41100. 62000. 32600.\n",
      " 37200. 53800. 24000. 53600. 54800. 59600. 20200. 21700. 29200. 38100.\n",
      " 20700. 32300. 21200. 62100. 54000. 24500. 51900. 47800. 56100. 55300.\n",
      " 58100. 28900. 39100. 58000. 27200. 24600. 30100. 57100. 60100. 22200.\n",
      " 47700. 24900. 37800. 52700. 34200. 18700. 42000. 26300. 22600. 30900.\n",
      " 35800. 30800. 51100. 53300. 46200. 24100. 54700. 51200. 62300. 51400.\n",
      " 40900. 23400. 35300. 55800. 33400. 21300. 30000. 56700. 46900.  5300.\n",
      " 39200. 57500. 31300. 53700. 21600. 50000. 36500. 16400. 15900. 65100.\n",
      " 59900. 63200. 26200. 61200. 48500. 32200. 29100. 50100. 22700. 28600.\n",
      " 23500. 23700. 19600. 17800. 50600. 57900. 22500. 22100. 58300. 64100.\n",
      " 25000. 60400. 59100. 37000. 62400. 29500. 25800. 25400. 26900. 21500.\n",
      " 52200. 46600. 57300. 46100. 19300. 18900. 31400. 28400. 29400. 17600.\n",
      " 13900. 52400. 11300. 46000. 60500. 58700. 58200. 24800. 63700. 60600.\n",
      " 20400. 26400. 55600. 57000. 45500. 48600. 57600. 52900. 62800. 17000.\n",
      " 56500. 52300. 18400. 63300. 12900. 27000. 55700. 39300. 27800. 18300.\n",
      " 56300. 59800. 24300. 14400. 13400. 17900. 47600. 54500. 54400. 23900.\n",
      " 13000. 19900. 55400. 22800. 61000. 57400. 23000. 20500. 53200. 18100.\n",
      " 25300. 59500. 18200. 50400. 21100. 20900. 27400. 17300. 60700. 70600.\n",
      " 17700. 19700. 49200. 63100. 59200. 14700. 53100. 21800. 68000. 16500.\n",
      " 71400. 10000. 55500. 54100. 56400. 20600. 66300. 18800. 11000. 66100.\n",
      " 27100. 57800. 53500. 19200. 58500. 64000. 63600. 23600. 25200. 19100.\n",
      " 18600. 57700. 62700. 56600. 21400. 58800. 68400. 17100. 13300. 68500.\n",
      " 56900. 64400. 27600. 67200. 16200. 58600. 62200. 16000. 79000. 22300.\n",
      " 11200. 71600. 61300. 70500. 67100. 59000. 13500. 16700. 15700. 60000.\n",
      " 17400. 63400. 61900. 65200. 62600. 14100. 20100. 63800. 15100. 70000.\n",
      " 60200. 20300. 65900. 15200. 63500. 13200. 68900. 12200.  6000. 74800.\n",
      " 59700. 10800. 19000. 10600. 69400. 15000. 75200. 62500. 16300. 20800.\n",
      "  7400. 65300. 61400. 56800.]\n",
      "Уникальные значения столбца Члены семьи\n",
      "[1 0 2 4 3 5 6]\n",
      "Уникальные значения столбца Страховые выплаты\n",
      "[0 1 2 3 5 4]\n"
     ]
    }
   ],
   "source": [
    "for column in df.columns:\n",
    "        print('Уникальные значения столбца', column)\n",
    "        print(df[column].unique())"
   ]
  },
  {
   "cell_type": "markdown",
   "metadata": {},
   "source": [
    "Как видим, столбцы **`Возраст`** и **`Зарплата`** имеют вещественный тип данных, изменим его на целочисленный."
   ]
  },
  {
   "cell_type": "markdown",
   "metadata": {},
   "source": [
    "#### Изменение типа данных"
   ]
  },
  {
   "cell_type": "markdown",
   "metadata": {},
   "source": [
    "Создадим новый список, значениями которого будут столбцы, подлежащие изменению:"
   ]
  },
  {
   "cell_type": "code",
   "execution_count": 8,
   "metadata": {},
   "outputs": [],
   "source": [
    "# создаем список с названиями столбцов\n",
    "list_meaning = ['Возраст', 'Зарплата']"
   ]
  },
  {
   "cell_type": "markdown",
   "metadata": {},
   "source": [
    "Далее переберем его элементы циклом `for` и для каждого столбца выполним замену типов:"
   ]
  },
  {
   "cell_type": "code",
   "execution_count": 9,
   "metadata": {},
   "outputs": [],
   "source": [
    "for columns in list_meaning:\n",
    "    df[columns] = df[columns].astype('int')"
   ]
  },
  {
   "cell_type": "markdown",
   "metadata": {},
   "source": [
    "Проверим изменился ли тип данных столбцов `\"Возраст\"` и `\"Зарплата\"` на `'int'`:"
   ]
  },
  {
   "cell_type": "code",
   "execution_count": 10,
   "metadata": {},
   "outputs": [
    {
     "name": "stdout",
     "output_type": "stream",
     "text": [
      "<class 'pandas.core.frame.DataFrame'>\n",
      "RangeIndex: 5000 entries, 0 to 4999\n",
      "Data columns (total 5 columns):\n",
      " #   Column             Non-Null Count  Dtype\n",
      "---  ------             --------------  -----\n",
      " 0   Пол                5000 non-null   int64\n",
      " 1   Возраст            5000 non-null   int64\n",
      " 2   Зарплата           5000 non-null   int64\n",
      " 3   Члены семьи        5000 non-null   int64\n",
      " 4   Страховые выплаты  5000 non-null   int64\n",
      "dtypes: int64(5)\n",
      "memory usage: 195.4 KB\n"
     ]
    }
   ],
   "source": [
    "df.info()"
   ]
  },
  {
   "cell_type": "markdown",
   "metadata": {},
   "source": [
    "Да, как видим изменение типов произошло успешно."
   ]
  },
  {
   "cell_type": "markdown",
   "metadata": {},
   "source": [
    "### Вывод"
   ]
  },
  {
   "cell_type": "markdown",
   "metadata": {},
   "source": [
    "Данные загружены и изучены. Аномалий не наблюдается. Приведены к целочисленному типу данных столбцы `\"Возраст\"` и `\"Зарплата\"`. Пропусков в данных нет."
   ]
  },
  {
   "cell_type": "markdown",
   "metadata": {},
   "source": [
    "## Умножение матриц"
   ]
  },
  {
   "cell_type": "markdown",
   "metadata": {},
   "source": [
    "Обозначения:\n",
    "\n",
    "- $X$ — матрица признаков (нулевой столбец состоит из единиц)\n",
    "\n",
    "- $y$ — вектор целевого признака\n",
    "\n",
    "- $P$ — матрица, на которую умножаются признаки\n",
    "\n",
    "- $w$ — вектор весов линейной регрессии (нулевой элемент равен сдвигу)"
   ]
  },
  {
   "cell_type": "markdown",
   "metadata": {},
   "source": [
    "Предсказания:\n",
    "\n",
    "$$\n",
    "a = Xw\n",
    "$$\n",
    "\n",
    "Задача обучения:\n",
    "\n",
    "$$\n",
    "w = \\arg\\min_w MSE(Xw, y)\n",
    "$$\n",
    "\n",
    "Формула обучения:\n",
    "\n",
    "$$\n",
    "w = (X^T X)^{-1} X^T y\n",
    "$$"
   ]
  },
  {
   "cell_type": "markdown",
   "metadata": {},
   "source": [
    "**Вопрос:** \n",
    "\n",
    "Признаки умножают на обратимую матрицу. Изменится ли качество линейной регрессии?\n",
    "\n",
    "**Ответ:** \n",
    "\n",
    "Не изменится.\n",
    "\n",
    "Заменим матрицу $X$ на матрицу $Z$: \n",
    "\n",
    "$$\n",
    "Z = XP\n",
    "$$\n",
    "\n",
    "$P$ - обратимая матрица на которую может быть умножена матрица $X$.\n",
    "\n",
    "**Обоснование:** \n",
    "\n",
    "Заменим $X$ на $Z$ и вычислим, чему будет равно предсказание и вектор весов.\n",
    "\n",
    "$$\n",
    "a1 = Zw1\n",
    "$$\n",
    "\n",
    "$$\n",
    "w1 = (Z^T Z)^{-1} Z^T y\n",
    "$$\n",
    "\n",
    "Исхлдя из этого получим следущее:\n",
    "\n",
    "$$\n",
    "a1 = Z(Z^T Z)^{-1} Z^T y\n",
    "$$\n",
    "\n",
    "Заменим все $Z$ на $XP$:\n",
    "\n",
    "$$\n",
    "a1 = XP((XP^T XP))^{-1} (XP)^T y\n",
    "$$\n",
    "\n",
    "Далее нам понадобится следующее свойсво обратной матрицы:\n",
    "\n",
    "$$\n",
    "(AB)^{-1} = B^{-1} A^{-1}\n",
    "$$\n",
    "\n",
    "Раскроем выражение $((XP)^T XP)^{-1}$:\n",
    "\n",
    "$$\n",
    "a1 = XP((XP)^T XP)^{-1} (XP)^T y = XP(XP)^{-1}((XP)^T)^{-1} (XP)^T y = XPP^{-1}X^{-1}((XP)^T)^{-1}(XP)^T y\n",
    "$$\n",
    "\n",
    "Умножение приведет к $PP^{-1} = E$. Далее воспользуемся свойством транспорнированной матрицы:\n",
    "\n",
    "$$\n",
    "(AB)^T = B^TA^T\n",
    "$$\n",
    "\n",
    "Умножение на единичную матрицу ничего не меняет. Раскроем выражение $((XP)^T)^{-1}(XP)^T$:\n",
    "\n",
    "$$\n",
    "a1 = XEX^{-1}((XP)^T)^{-1}(XP)^T y = XX^{-1}(P^T X^T)^{-1} P^T X^T y = X X^{-1}(X^T)^{-1}(P^T)^{-1} P^T X^T y\n",
    "$$\n",
    "\n",
    "Умножение приведет к $(P^T)^{-1}P^T = E$:\n",
    "\n",
    "$$\n",
    "a1 = X X^{-1}(X^T)^{-1} E X^T y = X(X^TX)^{-1} X^T y = Xw = a\n",
    "$$\n",
    "\n",
    "Как видим, значение предсказания $a$ не меняется, если умножать матрицу признаков на обратимую матрицу."
   ]
  },
  {
   "cell_type": "markdown",
   "metadata": {},
   "source": [
    "$$\n",
    "w' = ((XP)^T XP)^{-1} (XP)^T y\n",
    "$$\n",
    "$$\n",
    "w' = (P^T (X^T X) P)^{-1} (XP)^T y\n",
    "$$\n",
    "$$\n",
    "/..............\n",
    "$$"
   ]
  },
  {
   "cell_type": "markdown",
   "metadata": {},
   "source": [
    "$$\n",
    "w' = ((XP)^T XP)^{-1} (XP)^T y = (P^T (X^T X) P)^{-1} (XP)^T y = P^{-1} (X^TX)^{-1}(P^T)^{-1} P^TX^Ty = P^{-1}(X^TX)^{-1}Ewy  = P^{-1}w\n",
    "$$"
   ]
  },
  {
   "cell_type": "markdown",
   "metadata": {},
   "source": [
    "## Алгоритм преобразования"
   ]
  },
  {
   "cell_type": "markdown",
   "metadata": {},
   "source": [
    "**Алгоритм**\n",
    "\n",
    "Для защиты информации на этапе поиска коэффициентов регрессии и предсказаний регрессии будем умножать матрицу признаков на обратимую матрицу $Y$, которая будет генерироваться случайным образом.\n",
    "\n",
    "Этапы алгоритма:\n",
    "\n",
    "Составление матрицы $Y$.\n",
    "Проверка матрицы на обратимость. Вычисление детерминанта матрицы $Y$.\n",
    "Получение матрицы преобразованных признаков $Z = XY$.\n",
    "Применение алгоритма на преобразованных признаках $Z$."
   ]
  },
  {
   "cell_type": "markdown",
   "metadata": {},
   "source": [
    "**Обоснование**\n",
    "\n",
    "Матрица $Y$ должна иметь необходимую размерность $(n*n)$, где n - количество признаков для регрессии. Таким образом матрица $Z$ будет иметь туже размерность, что и матрица $X$. Обратная матрица $Y$ существует только для квадратных невырожденных матриц (определитель которых не равен нулю)."
   ]
  },
  {
   "cell_type": "markdown",
   "metadata": {},
   "source": [
    "## Проверка алгоритма"
   ]
  },
  {
   "cell_type": "markdown",
   "metadata": {},
   "source": [
    "Проведем исследование модели по двум направлениям:\n",
    "\n",
    "1. Исследуем качество модели без преобразования.\n",
    "\n",
    "* С исходными признаками\n",
    "* С отмасштабированными признаками\n",
    "\n",
    "2. Исследуем качество модели с преобразованием.\n",
    "\n",
    "* С исходными признаками\n",
    "* С отмасштабированными признаками"
   ]
  },
  {
   "cell_type": "markdown",
   "metadata": {},
   "source": [
    "Разделим данные на обучающие и тестовые:"
   ]
  },
  {
   "cell_type": "code",
   "execution_count": 11,
   "metadata": {},
   "outputs": [],
   "source": [
    "# задаем значение random_state\n",
    "rand = 13\n",
    "# признаки\n",
    "features = df.drop('Страховые выплаты',axis=1)\n",
    "# целевой признак\n",
    "target = df['Страховые выплаты']\n",
    "# разделим данные на обучающие и тестовые\n",
    "features_train, features_test, target_train, target_test = train_test_split(\n",
    "    features, target, test_size=0.25, random_state=rand)"
   ]
  },
  {
   "cell_type": "markdown",
   "metadata": {},
   "source": [
    "Построим модель \"Линейной регрессии\" на исходных данных:"
   ]
  },
  {
   "cell_type": "code",
   "execution_count": 12,
   "metadata": {},
   "outputs": [
    {
     "name": "stdout",
     "output_type": "stream",
     "text": [
      "R2 = 0.4399491061258466\n"
     ]
    }
   ],
   "source": [
    "# Модель \"Линейной регрессии\" на исходных данных\n",
    "model = LinearRegression()\n",
    "# обучаем модель\n",
    "model.fit(features_train, target_train)\n",
    "# получаем предсказания\n",
    "predictions = model.predict(features_test)\n",
    "# рассчитываем r2_score\n",
    "model_R2 = r2_score(target_test, predictions)\n",
    "# печатаем результаты\n",
    "print(\"R2 =\", model_R2)"
   ]
  },
  {
   "cell_type": "markdown",
   "metadata": {},
   "source": [
    "Проверим, что покажет модель на отмасштабированных данных:"
   ]
  },
  {
   "cell_type": "code",
   "execution_count": 13,
   "metadata": {},
   "outputs": [
    {
     "name": "stdout",
     "output_type": "stream",
     "text": [
      "R2 = 0.4399491061258476\n"
     ]
    }
   ],
   "source": [
    "# Модель \"Линейной регрессии\" на отмасштабированных данных\n",
    "regressor = LinearRegression()\n",
    "# масштабируем данные\n",
    "scaller = StandardScaler()\n",
    "# инициализируем pipeline\n",
    "pipeline = Pipeline([(\"standard_scaller\", scaller),(\"linear_regression\", regressor)])\n",
    "# обучаем модель\n",
    "pipeline.fit(features_train, target_train)\n",
    "# получаем предсказания\n",
    "predictions_scaled = pipeline.predict(features_test)\n",
    "# рассчитываем r2_score\n",
    "model_R2_scaled = r2_score(target_test, predictions_scaled)\n",
    "# печатаем результаты\n",
    "print(\"R2 =\", model_R2_scaled)"
   ]
  },
  {
   "cell_type": "markdown",
   "metadata": {},
   "source": [
    "Как видим R2 у моделей показала себя одинаково как на исходных данных, так и на отмасштабированных."
   ]
  },
  {
   "cell_type": "markdown",
   "metadata": {},
   "source": [
    "Напишем функцию преобразования матрицы признаков."
   ]
  },
  {
   "cell_type": "code",
   "execution_count": 14,
   "metadata": {},
   "outputs": [],
   "source": [
    "def feature_matrix_transformation(features):\n",
    "    # задаем значение random_state\n",
    "    rand = 13\n",
    "    coded_features = features\n",
    "    n = features.shape[1]\n",
    "    np.random.seed(rand)\n",
    "    coded_matrix = np.random.randint(1, 10, (n,n))\n",
    "    det = np.linalg.det(coded_matrix)\n",
    "    while det == 0:\n",
    "        np.random.seed(rand)\n",
    "        coded_matrix = np.random.randint(1, 10, (n,n))\n",
    "        det = np.linalg.det(coded_matrix)\n",
    "    coded_features = coded_features @ coded_matrix\n",
    "    return coded_features, coded_matrix"
   ]
  },
  {
   "cell_type": "markdown",
   "metadata": {},
   "source": [
    "Выведем данные до преобразования и после."
   ]
  },
  {
   "cell_type": "code",
   "execution_count": 15,
   "metadata": {},
   "outputs": [
    {
     "data": {
      "text/html": [
       "<div>\n",
       "<style scoped>\n",
       "    .dataframe tbody tr th:only-of-type {\n",
       "        vertical-align: middle;\n",
       "    }\n",
       "\n",
       "    .dataframe tbody tr th {\n",
       "        vertical-align: top;\n",
       "    }\n",
       "\n",
       "    .dataframe thead th {\n",
       "        text-align: right;\n",
       "    }\n",
       "</style>\n",
       "<table border=\"1\" class=\"dataframe\">\n",
       "  <thead>\n",
       "    <tr style=\"text-align: right;\">\n",
       "      <th></th>\n",
       "      <th>Пол</th>\n",
       "      <th>Возраст</th>\n",
       "      <th>Зарплата</th>\n",
       "      <th>Члены семьи</th>\n",
       "    </tr>\n",
       "  </thead>\n",
       "  <tbody>\n",
       "    <tr>\n",
       "      <th>0</th>\n",
       "      <td>1</td>\n",
       "      <td>41</td>\n",
       "      <td>49600</td>\n",
       "      <td>1</td>\n",
       "    </tr>\n",
       "    <tr>\n",
       "      <th>1</th>\n",
       "      <td>0</td>\n",
       "      <td>46</td>\n",
       "      <td>38000</td>\n",
       "      <td>1</td>\n",
       "    </tr>\n",
       "    <tr>\n",
       "      <th>2</th>\n",
       "      <td>0</td>\n",
       "      <td>29</td>\n",
       "      <td>21000</td>\n",
       "      <td>0</td>\n",
       "    </tr>\n",
       "    <tr>\n",
       "      <th>3</th>\n",
       "      <td>0</td>\n",
       "      <td>21</td>\n",
       "      <td>41700</td>\n",
       "      <td>2</td>\n",
       "    </tr>\n",
       "    <tr>\n",
       "      <th>4</th>\n",
       "      <td>1</td>\n",
       "      <td>28</td>\n",
       "      <td>26100</td>\n",
       "      <td>0</td>\n",
       "    </tr>\n",
       "  </tbody>\n",
       "</table>\n",
       "</div>"
      ],
      "text/plain": [
       "   Пол  Возраст  Зарплата  Члены семьи\n",
       "0    1       41     49600            1\n",
       "1    0       46     38000            1\n",
       "2    0       29     21000            0\n",
       "3    0       21     41700            2\n",
       "4    1       28     26100            0"
      ]
     },
     "metadata": {},
     "output_type": "display_data"
    },
    {
     "data": {
      "text/html": [
       "<div>\n",
       "<style scoped>\n",
       "    .dataframe tbody tr th:only-of-type {\n",
       "        vertical-align: middle;\n",
       "    }\n",
       "\n",
       "    .dataframe tbody tr th {\n",
       "        vertical-align: top;\n",
       "    }\n",
       "\n",
       "    .dataframe thead th {\n",
       "        text-align: right;\n",
       "    }\n",
       "</style>\n",
       "<table border=\"1\" class=\"dataframe\">\n",
       "  <thead>\n",
       "    <tr style=\"text-align: right;\">\n",
       "      <th></th>\n",
       "      <th>0</th>\n",
       "      <th>1</th>\n",
       "      <th>2</th>\n",
       "      <th>3</th>\n",
       "    </tr>\n",
       "  </thead>\n",
       "  <tbody>\n",
       "    <tr>\n",
       "      <th>0</th>\n",
       "      <td>148929</td>\n",
       "      <td>347407</td>\n",
       "      <td>297769</td>\n",
       "      <td>248218</td>\n",
       "    </tr>\n",
       "    <tr>\n",
       "      <th>1</th>\n",
       "      <td>114141</td>\n",
       "      <td>266231</td>\n",
       "      <td>228188</td>\n",
       "      <td>190236</td>\n",
       "    </tr>\n",
       "    <tr>\n",
       "      <th>2</th>\n",
       "      <td>63087</td>\n",
       "      <td>147145</td>\n",
       "      <td>126116</td>\n",
       "      <td>105145</td>\n",
       "    </tr>\n",
       "    <tr>\n",
       "      <th>3</th>\n",
       "      <td>125169</td>\n",
       "      <td>292007</td>\n",
       "      <td>250292</td>\n",
       "      <td>208617</td>\n",
       "    </tr>\n",
       "    <tr>\n",
       "      <th>4</th>\n",
       "      <td>78387</td>\n",
       "      <td>182841</td>\n",
       "      <td>156713</td>\n",
       "      <td>130647</td>\n",
       "    </tr>\n",
       "  </tbody>\n",
       "</table>\n",
       "</div>"
      ],
      "text/plain": [
       "        0       1       2       3\n",
       "0  148929  347407  297769  248218\n",
       "1  114141  266231  228188  190236\n",
       "2   63087  147145  126116  105145\n",
       "3  125169  292007  250292  208617\n",
       "4   78387  182841  156713  130647"
      ]
     },
     "metadata": {},
     "output_type": "display_data"
    },
    {
     "data": {
      "text/plain": [
       "array([[3, 1, 1, 7],\n",
       "       [3, 5, 4, 5],\n",
       "       [3, 7, 6, 5],\n",
       "       [3, 1, 4, 6]])"
      ]
     },
     "execution_count": 15,
     "metadata": {},
     "output_type": "execute_result"
    }
   ],
   "source": [
    "display(features.head())\n",
    "features, coded_matrix = feature_matrix_transformation(features)\n",
    "display(features.head())\n",
    "coded_matrix"
   ]
  },
  {
   "cell_type": "markdown",
   "metadata": {},
   "source": [
    "Как видим в данных теперь содержатся непонятные числа. Разобьем данные на тренировочную и обучающую выборку и проверим R2 значение."
   ]
  },
  {
   "cell_type": "code",
   "execution_count": 16,
   "metadata": {},
   "outputs": [],
   "source": [
    "# разделим данные на обучающие и тестовые\n",
    "features_train, features_test, target_train, target_test = train_test_split(\n",
    "    features, target, test_size=0.25, random_state=rand)"
   ]
  },
  {
   "cell_type": "markdown",
   "metadata": {},
   "source": [
    "Построим модель \"Линейной регрессии\" на закодированных данных:"
   ]
  },
  {
   "cell_type": "code",
   "execution_count": 17,
   "metadata": {},
   "outputs": [
    {
     "name": "stdout",
     "output_type": "stream",
     "text": [
      "R2 = 0.4399491061258214\n"
     ]
    }
   ],
   "source": [
    "# Модель \"Линейной регрессии\" на закодированных данных\n",
    "model = LinearRegression()\n",
    "# обучаем модель\n",
    "model.fit(features_train, target_train)\n",
    "# получаем предсказания\n",
    "predictions_coder = model.predict(features_test)\n",
    "# рассчитываем r2_score\n",
    "model_R2_code = r2_score(target_test, predictions_coder)\n",
    "# печатаем результаты\n",
    "print(\"R2 =\", model_R2_code)"
   ]
  },
  {
   "cell_type": "markdown",
   "metadata": {},
   "source": [
    "Проверим, что покажет модель на отмасштабированных закодированных данных:"
   ]
  },
  {
   "cell_type": "code",
   "execution_count": 18,
   "metadata": {},
   "outputs": [
    {
     "name": "stdout",
     "output_type": "stream",
     "text": [
      "R2 = 0.43994910612586013\n"
     ]
    }
   ],
   "source": [
    "# Модель \"Линейной регрессии\" на отмасштабированных закодированных данных\n",
    "regressor = LinearRegression()\n",
    "# масштабируем данные\n",
    "scaller = StandardScaler()\n",
    "# инициализируем pipeline\n",
    "pipeline = Pipeline([(\"standard_scaller\", scaller),(\"linear_regression\", regressor)])\n",
    "# обучаем модель\n",
    "pipeline.fit(features_train, target_train)\n",
    "# получаем предсказания\n",
    "predictions_scaled_coder = pipeline.predict(features_test)\n",
    "# рассчитываем r2_score\n",
    "model_R2_scaled_coder = r2_score(target_test, predictions_scaled_coder)\n",
    "# печатаем результаты\n",
    "print(\"R2 =\", model_R2_scaled_coder)"
   ]
  },
  {
   "cell_type": "markdown",
   "metadata": {},
   "source": [
    "Как видим все показатели R2 моделей показали одни и теже результаты."
   ]
  },
  {
   "cell_type": "markdown",
   "metadata": {},
   "source": [
    "## Общий вывод"
   ]
  },
  {
   "cell_type": "markdown",
   "metadata": {},
   "source": [
    "В процессе проведения исследовательского анализа данных мы открыли и изучили файл, предобработали данные путем проверки отсутствия пропусков и изменения типа данных. Выяснили, что качество линейной регресии не изменилось от использования исходной матрицы и исходной матрицы, умноженную на обратимую. Разработали и исследовали алгоритм преобразования данных, а также проверили метрики R2 для данных без преобразования и с ним и выяснили, что они имеют одинаковые значения, а значит данные успешно зашифровались."
   ]
  }
 ],
 "metadata": {
  "ExecuteTimeLog": [
   {
    "duration": 2046,
    "start_time": "2022-04-02T16:37:40.163Z"
   },
   {
    "duration": 20,
    "start_time": "2022-04-02T16:39:08.810Z"
   },
   {
    "duration": 15,
    "start_time": "2022-04-02T16:39:37.369Z"
   },
   {
    "duration": 16,
    "start_time": "2022-04-02T16:40:25.273Z"
   },
   {
    "duration": 22,
    "start_time": "2022-04-02T16:41:38.248Z"
   },
   {
    "duration": 15,
    "start_time": "2022-04-02T16:46:25.348Z"
   },
   {
    "duration": 33,
    "start_time": "2022-04-02T16:51:09.547Z"
   },
   {
    "duration": 34,
    "start_time": "2022-04-02T16:52:39.936Z"
   },
   {
    "duration": 3,
    "start_time": "2022-04-02T16:55:39.311Z"
   },
   {
    "duration": 8,
    "start_time": "2022-04-02T16:55:55.471Z"
   },
   {
    "duration": 8,
    "start_time": "2022-04-02T16:57:03.589Z"
   },
   {
    "duration": 7,
    "start_time": "2022-04-02T16:57:45.606Z"
   },
   {
    "duration": 8,
    "start_time": "2022-04-02T16:58:13.987Z"
   },
   {
    "duration": 15,
    "start_time": "2022-04-02T17:01:16.309Z"
   },
   {
    "duration": 14,
    "start_time": "2022-04-02T17:02:20.712Z"
   },
   {
    "duration": 3,
    "start_time": "2022-04-02T17:08:56.418Z"
   },
   {
    "duration": 135,
    "start_time": "2022-04-02T17:09:42.238Z"
   },
   {
    "duration": 6,
    "start_time": "2022-04-02T17:09:57.358Z"
   },
   {
    "duration": 15,
    "start_time": "2022-04-02T17:10:48.655Z"
   },
   {
    "duration": 144,
    "start_time": "2022-04-02T18:26:34.534Z"
   },
   {
    "duration": 12,
    "start_time": "2022-04-02T18:29:11.526Z"
   },
   {
    "duration": 9,
    "start_time": "2022-04-02T18:29:25.653Z"
   },
   {
    "duration": 13,
    "start_time": "2022-04-02T18:49:14.144Z"
   },
   {
    "duration": 12,
    "start_time": "2022-04-02T18:50:38.549Z"
   },
   {
    "duration": 9,
    "start_time": "2022-04-02T18:54:51.996Z"
   },
   {
    "duration": 19,
    "start_time": "2022-04-02T18:59:33.389Z"
   },
   {
    "duration": 13,
    "start_time": "2022-04-02T18:59:52.784Z"
   },
   {
    "duration": 17,
    "start_time": "2022-04-02T18:59:54.504Z"
   },
   {
    "duration": 179,
    "start_time": "2022-04-02T19:02:48.943Z"
   },
   {
    "duration": 6,
    "start_time": "2022-04-02T19:09:37.454Z"
   },
   {
    "duration": 18,
    "start_time": "2022-04-02T19:10:38.977Z"
   },
   {
    "duration": 18,
    "start_time": "2022-04-02T19:11:18.360Z"
   },
   {
    "duration": 7,
    "start_time": "2022-04-02T19:12:21.631Z"
   },
   {
    "duration": 18,
    "start_time": "2022-04-02T19:12:22.993Z"
   },
   {
    "duration": 5,
    "start_time": "2022-04-02T19:13:28.979Z"
   },
   {
    "duration": 14,
    "start_time": "2022-04-02T19:13:29.065Z"
   },
   {
    "duration": 12,
    "start_time": "2022-04-02T19:13:29.146Z"
   },
   {
    "duration": 19,
    "start_time": "2022-04-02T19:13:29.231Z"
   },
   {
    "duration": 32,
    "start_time": "2022-04-02T19:13:29.313Z"
   },
   {
    "duration": 7,
    "start_time": "2022-04-02T19:13:29.648Z"
   },
   {
    "duration": 19,
    "start_time": "2022-04-02T19:13:29.983Z"
   },
   {
    "duration": 5,
    "start_time": "2022-04-02T19:13:30.319Z"
   },
   {
    "duration": 8,
    "start_time": "2022-04-02T19:13:30.486Z"
   },
   {
    "duration": 22,
    "start_time": "2022-04-02T19:13:30.653Z"
   },
   {
    "duration": 12,
    "start_time": "2022-04-02T19:13:33.822Z"
   },
   {
    "duration": 14,
    "start_time": "2022-04-02T19:13:34.166Z"
   },
   {
    "duration": 16,
    "start_time": "2022-04-02T19:13:35.174Z"
   },
   {
    "duration": 6,
    "start_time": "2022-04-02T19:13:36.309Z"
   },
   {
    "duration": 18,
    "start_time": "2022-04-02T19:13:37.399Z"
   },
   {
    "duration": 7,
    "start_time": "2022-04-02T19:17:59.562Z"
   },
   {
    "duration": 13,
    "start_time": "2022-04-02T19:23:02.375Z"
   },
   {
    "duration": 16,
    "start_time": "2022-04-02T19:27:57.261Z"
   },
   {
    "duration": 4,
    "start_time": "2022-04-02T19:41:07.339Z"
   },
   {
    "duration": 15,
    "start_time": "2022-04-02T19:41:07.420Z"
   },
   {
    "duration": 13,
    "start_time": "2022-04-02T19:41:07.502Z"
   },
   {
    "duration": 15,
    "start_time": "2022-04-02T19:41:07.587Z"
   },
   {
    "duration": 33,
    "start_time": "2022-04-02T19:41:07.665Z"
   },
   {
    "duration": 7,
    "start_time": "2022-04-02T19:41:08.001Z"
   },
   {
    "duration": 14,
    "start_time": "2022-04-02T19:41:08.336Z"
   },
   {
    "duration": 3,
    "start_time": "2022-04-02T19:41:08.673Z"
   },
   {
    "duration": 5,
    "start_time": "2022-04-02T19:41:08.839Z"
   },
   {
    "duration": 15,
    "start_time": "2022-04-02T19:41:09.007Z"
   },
   {
    "duration": 9,
    "start_time": "2022-04-02T19:41:10.182Z"
   },
   {
    "duration": 11,
    "start_time": "2022-04-02T19:41:10.349Z"
   },
   {
    "duration": 15,
    "start_time": "2022-04-02T19:41:10.518Z"
   },
   {
    "duration": 5,
    "start_time": "2022-04-02T19:41:11.540Z"
   },
   {
    "duration": 18,
    "start_time": "2022-04-02T19:41:12.125Z"
   },
   {
    "duration": 7,
    "start_time": "2022-04-02T19:41:12.293Z"
   },
   {
    "duration": 11,
    "start_time": "2022-04-02T19:41:12.462Z"
   },
   {
    "duration": 16,
    "start_time": "2022-04-02T19:41:13.259Z"
   },
   {
    "duration": 4,
    "start_time": "2022-04-02T19:41:33.735Z"
   },
   {
    "duration": 14,
    "start_time": "2022-04-02T19:41:33.822Z"
   },
   {
    "duration": 12,
    "start_time": "2022-04-02T19:41:33.901Z"
   },
   {
    "duration": 15,
    "start_time": "2022-04-02T19:41:33.985Z"
   },
   {
    "duration": 31,
    "start_time": "2022-04-02T19:41:34.069Z"
   },
   {
    "duration": 7,
    "start_time": "2022-04-02T19:41:34.405Z"
   },
   {
    "duration": 16,
    "start_time": "2022-04-02T19:41:34.739Z"
   },
   {
    "duration": 4,
    "start_time": "2022-04-02T19:41:35.075Z"
   },
   {
    "duration": 6,
    "start_time": "2022-04-02T19:41:35.243Z"
   },
   {
    "duration": 23,
    "start_time": "2022-04-02T19:41:35.412Z"
   },
   {
    "duration": 10,
    "start_time": "2022-04-02T19:41:36.586Z"
   },
   {
    "duration": 12,
    "start_time": "2022-04-02T19:41:36.754Z"
   },
   {
    "duration": 16,
    "start_time": "2022-04-02T19:41:36.922Z"
   },
   {
    "duration": 6,
    "start_time": "2022-04-02T19:41:37.931Z"
   },
   {
    "duration": 18,
    "start_time": "2022-04-02T19:41:38.467Z"
   },
   {
    "duration": 7,
    "start_time": "2022-04-02T19:41:39.499Z"
   },
   {
    "duration": 12,
    "start_time": "2022-04-02T19:41:40.336Z"
   },
   {
    "duration": 18,
    "start_time": "2022-04-02T19:41:40.504Z"
   },
   {
    "duration": 5,
    "start_time": "2022-04-02T19:41:58.900Z"
   },
   {
    "duration": 14,
    "start_time": "2022-04-02T19:41:58.987Z"
   },
   {
    "duration": 12,
    "start_time": "2022-04-02T19:41:59.066Z"
   },
   {
    "duration": 21,
    "start_time": "2022-04-02T19:41:59.152Z"
   },
   {
    "duration": 46,
    "start_time": "2022-04-02T19:41:59.235Z"
   },
   {
    "duration": 9,
    "start_time": "2022-04-02T19:41:59.568Z"
   },
   {
    "duration": 19,
    "start_time": "2022-04-02T19:41:59.904Z"
   },
   {
    "duration": 4,
    "start_time": "2022-04-02T19:42:00.239Z"
   },
   {
    "duration": 8,
    "start_time": "2022-04-02T19:42:00.407Z"
   },
   {
    "duration": 20,
    "start_time": "2022-04-02T19:42:00.576Z"
   },
   {
    "duration": 11,
    "start_time": "2022-04-02T19:42:03.858Z"
   },
   {
    "duration": 11,
    "start_time": "2022-04-02T19:42:04.707Z"
   },
   {
    "duration": 16,
    "start_time": "2022-04-02T19:42:05.475Z"
   },
   {
    "duration": 6,
    "start_time": "2022-04-02T19:42:06.627Z"
   },
   {
    "duration": 21,
    "start_time": "2022-04-02T19:42:07.595Z"
   },
   {
    "duration": 6,
    "start_time": "2022-04-02T19:42:08.747Z"
   },
   {
    "duration": 13,
    "start_time": "2022-04-02T19:42:09.291Z"
   },
   {
    "duration": 17,
    "start_time": "2022-04-02T19:42:10.360Z"
   },
   {
    "duration": 88782,
    "start_time": "2022-04-03T11:50:49.558Z"
   },
   {
    "duration": 18,
    "start_time": "2022-04-03T11:52:18.342Z"
   },
   {
    "duration": 14,
    "start_time": "2022-04-03T11:52:18.362Z"
   },
   {
    "duration": 10,
    "start_time": "2022-04-03T11:52:18.378Z"
   },
   {
    "duration": 21,
    "start_time": "2022-04-03T11:52:18.390Z"
   },
   {
    "duration": 5,
    "start_time": "2022-04-03T11:53:26.740Z"
   },
   {
    "duration": 10,
    "start_time": "2022-04-03T11:53:28.498Z"
   },
   {
    "duration": 2,
    "start_time": "2022-04-03T11:53:30.189Z"
   },
   {
    "duration": 5,
    "start_time": "2022-04-03T11:53:30.555Z"
   },
   {
    "duration": 11,
    "start_time": "2022-04-03T11:53:31.375Z"
   },
   {
    "duration": 7,
    "start_time": "2022-04-03T12:01:26.690Z"
   },
   {
    "duration": 9,
    "start_time": "2022-04-03T12:01:27.560Z"
   },
   {
    "duration": 11,
    "start_time": "2022-04-03T12:01:28.283Z"
   },
   {
    "duration": 4,
    "start_time": "2022-04-03T12:01:29.820Z"
   },
   {
    "duration": 13,
    "start_time": "2022-04-03T12:01:30.493Z"
   },
   {
    "duration": 6,
    "start_time": "2022-04-03T12:01:31.448Z"
   },
   {
    "duration": 9,
    "start_time": "2022-04-03T12:01:31.909Z"
   },
   {
    "duration": 12,
    "start_time": "2022-04-03T12:01:32.574Z"
   }
  ],
  "kernelspec": {
   "display_name": "Python 3 (ipykernel)",
   "language": "python",
   "name": "python3"
  },
  "language_info": {
   "codemirror_mode": {
    "name": "ipython",
    "version": 3
   },
   "file_extension": ".py",
   "mimetype": "text/x-python",
   "name": "python",
   "nbconvert_exporter": "python",
   "pygments_lexer": "ipython3",
   "version": "3.9.5"
  },
  "toc": {
   "base_numbering": 1,
   "nav_menu": {},
   "number_sections": true,
   "sideBar": true,
   "skip_h1_title": true,
   "title_cell": "Содержание",
   "title_sidebar": "Contents",
   "toc_cell": true,
   "toc_position": {},
   "toc_section_display": true,
   "toc_window_display": true
  }
 },
 "nbformat": 4,
 "nbformat_minor": 2
}
