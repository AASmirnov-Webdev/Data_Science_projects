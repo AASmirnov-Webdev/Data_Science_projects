{
 "cells": [
  {
   "cell_type": "markdown",
   "metadata": {
    "toc": true
   },
   "source": [
    "<h1>Содержание<span class=\"tocSkip\"></span></h1>\n",
    "<div class=\"toc\"><ul class=\"toc-item\"><li><span><a href=\"#Изучение-данных-из-файла\" data-toc-modified-id=\"Изучение-данных-из-файла-1\"><span class=\"toc-item-num\">1&nbsp;&nbsp;</span>Изучение данных из файла</a></span><ul class=\"toc-item\"><li><span><a href=\"#Чтение-файла\" data-toc-modified-id=\"Чтение-файла-1.1\"><span class=\"toc-item-num\">1.1&nbsp;&nbsp;</span>Чтение файла</a></span></li><li><span><a href=\"#Получение-общей-информации\" data-toc-modified-id=\"Получение-общей-информации-1.2\"><span class=\"toc-item-num\">1.2&nbsp;&nbsp;</span>Получение общей информации</a></span></li><li><span><a href=\"#Вывод\" data-toc-modified-id=\"Вывод-1.3\"><span class=\"toc-item-num\">1.3&nbsp;&nbsp;</span>Вывод</a></span></li></ul></li><li><span><a href=\"#Предобработка-данных\" data-toc-modified-id=\"Предобработка-данных-2\"><span class=\"toc-item-num\">2&nbsp;&nbsp;</span>Предобработка данных</a></span><ul class=\"toc-item\"><li><span><a href=\"#Изменение-названий-столбцов\" data-toc-modified-id=\"Изменение-названий-столбцов-2.1\"><span class=\"toc-item-num\">2.1&nbsp;&nbsp;</span>Изменение названий столбцов</a></span></li><li><span><a href=\"#Обработка-пропущенных-значений\" data-toc-modified-id=\"Обработка-пропущенных-значений-2.2\"><span class=\"toc-item-num\">2.2&nbsp;&nbsp;</span>Обработка пропущенных значений</a></span><ul class=\"toc-item\"><li><span><a href=\"#Высота-потолков\" data-toc-modified-id=\"Высота-потолков-2.2.1\"><span class=\"toc-item-num\">2.2.1&nbsp;&nbsp;</span>Высота потолков</a></span></li><li><span><a href=\"#Всего-этажей-в-доме\" data-toc-modified-id=\"Всего-этажей-в-доме-2.2.2\"><span class=\"toc-item-num\">2.2.2&nbsp;&nbsp;</span>Всего этажей в доме</a></span></li><li><span><a href=\"#Жилая-площадь-квартиры\" data-toc-modified-id=\"Жилая-площадь-квартиры-2.2.3\"><span class=\"toc-item-num\">2.2.3&nbsp;&nbsp;</span>Жилая площадь квартиры</a></span></li><li><span><a href=\"#Аппартаменты\" data-toc-modified-id=\"Аппартаменты-2.2.4\"><span class=\"toc-item-num\">2.2.4&nbsp;&nbsp;</span>Аппартаменты</a></span></li><li><span><a href=\"#Балконы\" data-toc-modified-id=\"Балконы-2.2.5\"><span class=\"toc-item-num\">2.2.5&nbsp;&nbsp;</span>Балконы</a></span></li><li><span><a href=\"#Название-населенного-пункта\" data-toc-modified-id=\"Название-населенного-пункта-2.2.6\"><span class=\"toc-item-num\">2.2.6&nbsp;&nbsp;</span>Название населенного пункта</a></span></li><li><span><a href=\"#Расстояния-до-объектов-и-их-количество\" data-toc-modified-id=\"Расстояния-до-объектов-и-их-количество-2.2.7\"><span class=\"toc-item-num\">2.2.7&nbsp;&nbsp;</span>Расстояния до объектов и их количество</a></span></li><li><span><a href=\"#Число-дней-размещения-объявления\" data-toc-modified-id=\"Число-дней-размещения-объявления-2.2.8\"><span class=\"toc-item-num\">2.2.8&nbsp;&nbsp;</span>Число дней размещения объявления</a></span></li></ul></li><li><span><a href=\"#Обработка-дубликатов\" data-toc-modified-id=\"Обработка-дубликатов-2.3\"><span class=\"toc-item-num\">2.3&nbsp;&nbsp;</span>Обработка дубликатов</a></span><ul class=\"toc-item\"><li><span><a href=\"#Обработка-неявных-дубликатов\" data-toc-modified-id=\"Обработка-неявных-дубликатов-2.3.1\"><span class=\"toc-item-num\">2.3.1&nbsp;&nbsp;</span>Обработка неявных дубликатов</a></span></li><li><span><a href=\"#Обработка-явных-дубликатов\" data-toc-modified-id=\"Обработка-явных-дубликатов-2.3.2\"><span class=\"toc-item-num\">2.3.2&nbsp;&nbsp;</span>Обработка явных дубликатов</a></span></li></ul></li><li><span><a href=\"#Обработка-типов-значений\" data-toc-modified-id=\"Обработка-типов-значений-2.4\"><span class=\"toc-item-num\">2.4&nbsp;&nbsp;</span>Обработка типов значений</a></span><ul class=\"toc-item\"><li><span><a href=\"#Дата-публикации-объявления\" data-toc-modified-id=\"Дата-публикации-объявления-2.4.1\"><span class=\"toc-item-num\">2.4.1&nbsp;&nbsp;</span>Дата публикации объявления</a></span></li><li><span><a href=\"#Приведение-данных-к-целочисленному-типу\" data-toc-modified-id=\"Приведение-данных-к-целочисленному-типу-2.4.2\"><span class=\"toc-item-num\">2.4.2&nbsp;&nbsp;</span>Приведение данных к целочисленному типу</a></span></li></ul></li><li><span><a href=\"#Вывод\" data-toc-modified-id=\"Вывод-2.5\"><span class=\"toc-item-num\">2.5&nbsp;&nbsp;</span>Вывод</a></span></li></ul></li><li><span><a href=\"#Расчёты-и-добавление-результатов-в-таблицу\" data-toc-modified-id=\"Расчёты-и-добавление-результатов-в-таблицу-3\"><span class=\"toc-item-num\">3&nbsp;&nbsp;</span>Расчёты и добавление результатов в таблицу</a></span><ul class=\"toc-item\"><li><span><a href=\"#Цена-квадратного-метра\" data-toc-modified-id=\"Цена-квадратного-метра-3.1\"><span class=\"toc-item-num\">3.1&nbsp;&nbsp;</span>Цена квадратного метра</a></span></li><li><span><a href=\"#Дата-публикации\" data-toc-modified-id=\"Дата-публикации-3.2\"><span class=\"toc-item-num\">3.2&nbsp;&nbsp;</span>Дата публикации</a></span></li><li><span><a href=\"#Этаж-квартиры\" data-toc-modified-id=\"Этаж-квартиры-3.3\"><span class=\"toc-item-num\">3.3&nbsp;&nbsp;</span>Этаж квартиры</a></span></li><li><span><a href=\"#Отношение-жилой-площади-к-общей\" data-toc-modified-id=\"Отношение-жилой-площади-к-общей-3.4\"><span class=\"toc-item-num\">3.4&nbsp;&nbsp;</span>Отношение жилой площади к общей</a></span></li><li><span><a href=\"#Отношение-площади-кухни-к-общей\" data-toc-modified-id=\"Отношение-площади-кухни-к-общей-3.5\"><span class=\"toc-item-num\">3.5&nbsp;&nbsp;</span>Отношение площади кухни к общей</a></span></li><li><span><a href=\"#Вывод\" data-toc-modified-id=\"Вывод-3.6\"><span class=\"toc-item-num\">3.6&nbsp;&nbsp;</span>Вывод</a></span></li></ul></li><li><span><a href=\"#Исследовательский-анализ-данных\" data-toc-modified-id=\"Исследовательский-анализ-данных-4\"><span class=\"toc-item-num\">4&nbsp;&nbsp;</span>Исследовательский анализ данных</a></span><ul class=\"toc-item\"><li><span><a href=\"#Изучение-параметров:-площадь,-цена,-число-комнат,-высота-потолков\" data-toc-modified-id=\"Изучение-параметров:-площадь,-цена,-число-комнат,-высота-потолков-4.1\"><span class=\"toc-item-num\">4.1&nbsp;&nbsp;</span>Изучение параметров: площадь, цена, число комнат, высота потолков</a></span><ul class=\"toc-item\"><li><span><a href=\"#Площадь\" data-toc-modified-id=\"Площадь-4.1.1\"><span class=\"toc-item-num\">4.1.1&nbsp;&nbsp;</span>Площадь</a></span></li><li><span><a href=\"#Цена\" data-toc-modified-id=\"Цена-4.1.2\"><span class=\"toc-item-num\">4.1.2&nbsp;&nbsp;</span>Цена</a></span></li><li><span><a href=\"#Число-комнат\" data-toc-modified-id=\"Число-комнат-4.1.3\"><span class=\"toc-item-num\">4.1.3&nbsp;&nbsp;</span>Число комнат</a></span></li><li><span><a href=\"#Высота-потолков\" data-toc-modified-id=\"Высота-потолков-4.1.4\"><span class=\"toc-item-num\">4.1.4&nbsp;&nbsp;</span>Высота потолков</a></span></li></ul></li><li><span><a href=\"#Задания\" data-toc-modified-id=\"Задания-4.2\"><span class=\"toc-item-num\">4.2&nbsp;&nbsp;</span>Задания</a></span><ul class=\"toc-item\"><li><span><a href=\"#Время-продажи-квартиры\" data-toc-modified-id=\"Время-продажи-квартиры-4.2.1\"><span class=\"toc-item-num\">4.2.1&nbsp;&nbsp;</span>Время продажи квартиры</a></span></li><li><span><a href=\"#Редкие-и-выбивающиеся-значения\" data-toc-modified-id=\"Редкие-и-выбивающиеся-значения-4.2.2\"><span class=\"toc-item-num\">4.2.2&nbsp;&nbsp;</span>Редкие и выбивающиеся значения</a></span><ul class=\"toc-item\"><li><span><a href=\"#Цена-квартиры\" data-toc-modified-id=\"Цена-квартиры-4.2.2.1\"><span class=\"toc-item-num\">4.2.2.1&nbsp;&nbsp;</span>Цена квартиры</a></span></li><li><span><a href=\"#Площадь-квартиры\" data-toc-modified-id=\"Площадь-квартиры-4.2.2.2\"><span class=\"toc-item-num\">4.2.2.2&nbsp;&nbsp;</span>Площадь квартиры</a></span></li><li><span><a href=\"#Количество-комнат\" data-toc-modified-id=\"Количество-комнат-4.2.2.3\"><span class=\"toc-item-num\">4.2.2.3&nbsp;&nbsp;</span>Количество комнат</a></span></li><li><span><a href=\"#Жилая-площадь-квартиры\" data-toc-modified-id=\"Жилая-площадь-квартиры-4.2.2.4\"><span class=\"toc-item-num\">4.2.2.4&nbsp;&nbsp;</span>Жилая площадь квартиры</a></span></li><li><span><a href=\"#Площадь-кухни\" data-toc-modified-id=\"Площадь-кухни-4.2.2.5\"><span class=\"toc-item-num\">4.2.2.5&nbsp;&nbsp;</span>Площадь кухни</a></span></li><li><span><a href=\"#Количество-дней-размещения-объявления\" data-toc-modified-id=\"Количество-дней-размещения-объявления-4.2.2.6\"><span class=\"toc-item-num\">4.2.2.6&nbsp;&nbsp;</span>Количество дней размещения объявления</a></span></li></ul></li><li><span><a href=\"#Факторы,-влияющие-на-стоимость-квартиры\" data-toc-modified-id=\"Факторы,-влияющие-на-стоимость-квартиры-4.2.3\"><span class=\"toc-item-num\">4.2.3&nbsp;&nbsp;</span>Факторы, влияющие на стоимость квартиры</a></span><ul class=\"toc-item\"><li><span><a href=\"#Зависимость-цены-от-квадратного-метра\" data-toc-modified-id=\"Зависимость-цены-от-квадратного-метра-4.2.3.1\"><span class=\"toc-item-num\">4.2.3.1&nbsp;&nbsp;</span>Зависимость цены от квадратного метра</a></span></li><li><span><a href=\"#Зависимость-цены-от-числа-комнат\" data-toc-modified-id=\"Зависимость-цены-от-числа-комнат-4.2.3.2\"><span class=\"toc-item-num\">4.2.3.2&nbsp;&nbsp;</span>Зависимость цены от числа комнат</a></span></li><li><span><a href=\"#Зависимость-цены-от-этажа\" data-toc-modified-id=\"Зависимость-цены-от-этажа-4.2.3.3\"><span class=\"toc-item-num\">4.2.3.3&nbsp;&nbsp;</span>Зависимость цены от этажа</a></span></li><li><span><a href=\"#Зависимость-цены-от-удаленности-от-центра\" data-toc-modified-id=\"Зависимость-цены-от-удаленности-от-центра-4.2.3.4\"><span class=\"toc-item-num\">4.2.3.4&nbsp;&nbsp;</span>Зависимость цены от удаленности от центра</a></span></li><li><span><a href=\"#Зависимость-цены-от-даты-размещения\" data-toc-modified-id=\"Зависимость-цены-от-даты-размещения-4.2.3.5\"><span class=\"toc-item-num\">4.2.3.5&nbsp;&nbsp;</span>Зависимость цены от даты размещения</a></span></li><li><span><a href=\"#10-населённых-пунктов-с-наибольшим-числом-объявлений\" data-toc-modified-id=\"10-населённых-пунктов-с-наибольшим-числом-объявлений-4.2.3.6\"><span class=\"toc-item-num\">4.2.3.6&nbsp;&nbsp;</span>10 населённых пунктов с наибольшим числом объявлений</a></span></li><li><span><a href=\"#Населённые-пункты-с-самой-высокой-и-низкой-стоимостью-жилья\" data-toc-modified-id=\"Населённые-пункты-с-самой-высокой-и-низкой-стоимостью-жилья-4.2.3.7\"><span class=\"toc-item-num\">4.2.3.7&nbsp;&nbsp;</span>Населённые пункты с самой высокой и низкой стоимостью жилья</a></span></li></ul></li><li><span><a href=\"#Анализ-изменения-цены-по-степени-удалённости-от-центра\" data-toc-modified-id=\"Анализ-изменения-цены-по-степени-удалённости-от-центра-4.2.4\"><span class=\"toc-item-num\">4.2.4&nbsp;&nbsp;</span>Анализ изменения цены по степени удалённости от центра</a></span></li><li><span><a href=\"#Cегмент-квартир-в-центре\" data-toc-modified-id=\"Cегмент-квартир-в-центре-4.2.5\"><span class=\"toc-item-num\">4.2.5&nbsp;&nbsp;</span>Cегмент квартир в центре</a></span></li></ul></li></ul></li><li><span><a href=\"#Общий-вывод\" data-toc-modified-id=\"Общий-вывод-5\"><span class=\"toc-item-num\">5&nbsp;&nbsp;</span>Общий вывод</a></span></li></ul></div>"
   ]
  },
  {
   "cell_type": "markdown",
   "metadata": {},
   "source": [
    "# Исследование объявлений о продаже квартир\n",
    "\n",
    "В вашем распоряжении данные сервиса Яндекс.Недвижимость — архив объявлений о продаже квартир в Санкт-Петербурге и соседних населённых пунктах за несколько лет. Нужно научиться определять рыночную стоимость объектов недвижимости. Ваша задача — установить параметры. Это позволит построить автоматизированную систему: она отследит аномалии и мошенническую деятельность. \n",
    "\n",
    "По каждой квартире на продажу доступны два вида данных. Первые вписаны пользователем, вторые получены автоматически на основе картографических данных. Например, расстояние до центра, аэропорта, ближайшего парка и водоёма. "
   ]
  },
  {
   "cell_type": "markdown",
   "metadata": {},
   "source": [
    "## Изучение данных из файла"
   ]
  },
  {
   "cell_type": "markdown",
   "metadata": {},
   "source": [
    "Импортируем библиотеку `Pandas`:"
   ]
  },
  {
   "cell_type": "code",
   "execution_count": 1,
   "metadata": {},
   "outputs": [],
   "source": [
    "import pandas as pd"
   ]
  },
  {
   "cell_type": "markdown",
   "metadata": {},
   "source": [
    "### Чтение файла"
   ]
  },
  {
   "cell_type": "markdown",
   "metadata": {},
   "source": [
    "Прочитаем файл `real_estate_data.csv` из папки `/datasets` и сохраним его в переменной `df`:"
   ]
  },
  {
   "cell_type": "code",
   "execution_count": 2,
   "metadata": {},
   "outputs": [],
   "source": [
    "df = pd.read_csv('/datasets/real_estate_data.csv', sep='\\t')"
   ]
  },
  {
   "cell_type": "markdown",
   "metadata": {},
   "source": [
    "Выводим на экран первые десять строк таблицы:"
   ]
  },
  {
   "cell_type": "code",
   "execution_count": 3,
   "metadata": {},
   "outputs": [
    {
     "data": {
      "text/html": [
       "<div>\n",
       "<style scoped>\n",
       "    .dataframe tbody tr th:only-of-type {\n",
       "        vertical-align: middle;\n",
       "    }\n",
       "\n",
       "    .dataframe tbody tr th {\n",
       "        vertical-align: top;\n",
       "    }\n",
       "\n",
       "    .dataframe thead th {\n",
       "        text-align: right;\n",
       "    }\n",
       "</style>\n",
       "<table border=\"1\" class=\"dataframe\">\n",
       "  <thead>\n",
       "    <tr style=\"text-align: right;\">\n",
       "      <th></th>\n",
       "      <th>total_images</th>\n",
       "      <th>last_price</th>\n",
       "      <th>total_area</th>\n",
       "      <th>first_day_exposition</th>\n",
       "      <th>rooms</th>\n",
       "      <th>ceiling_height</th>\n",
       "      <th>floors_total</th>\n",
       "      <th>living_area</th>\n",
       "      <th>floor</th>\n",
       "      <th>is_apartment</th>\n",
       "      <th>studio</th>\n",
       "      <th>open_plan</th>\n",
       "      <th>kitchen_area</th>\n",
       "      <th>balcony</th>\n",
       "      <th>locality_name</th>\n",
       "      <th>airports_nearest</th>\n",
       "      <th>cityCenters_nearest</th>\n",
       "      <th>parks_around3000</th>\n",
       "      <th>parks_nearest</th>\n",
       "      <th>ponds_around3000</th>\n",
       "      <th>ponds_nearest</th>\n",
       "      <th>days_exposition</th>\n",
       "    </tr>\n",
       "  </thead>\n",
       "  <tbody>\n",
       "    <tr>\n",
       "      <td>0</td>\n",
       "      <td>20</td>\n",
       "      <td>13000000.0</td>\n",
       "      <td>108.00</td>\n",
       "      <td>2019-03-07T00:00:00</td>\n",
       "      <td>3</td>\n",
       "      <td>2.70</td>\n",
       "      <td>16.0</td>\n",
       "      <td>51.0</td>\n",
       "      <td>8</td>\n",
       "      <td>NaN</td>\n",
       "      <td>False</td>\n",
       "      <td>False</td>\n",
       "      <td>25.00</td>\n",
       "      <td>NaN</td>\n",
       "      <td>Санкт-Петербург</td>\n",
       "      <td>18863.0</td>\n",
       "      <td>16028.0</td>\n",
       "      <td>1.0</td>\n",
       "      <td>482.0</td>\n",
       "      <td>2.0</td>\n",
       "      <td>755.0</td>\n",
       "      <td>NaN</td>\n",
       "    </tr>\n",
       "    <tr>\n",
       "      <td>1</td>\n",
       "      <td>7</td>\n",
       "      <td>3350000.0</td>\n",
       "      <td>40.40</td>\n",
       "      <td>2018-12-04T00:00:00</td>\n",
       "      <td>1</td>\n",
       "      <td>NaN</td>\n",
       "      <td>11.0</td>\n",
       "      <td>18.6</td>\n",
       "      <td>1</td>\n",
       "      <td>NaN</td>\n",
       "      <td>False</td>\n",
       "      <td>False</td>\n",
       "      <td>11.00</td>\n",
       "      <td>2.0</td>\n",
       "      <td>посёлок Шушары</td>\n",
       "      <td>12817.0</td>\n",
       "      <td>18603.0</td>\n",
       "      <td>0.0</td>\n",
       "      <td>NaN</td>\n",
       "      <td>0.0</td>\n",
       "      <td>NaN</td>\n",
       "      <td>81.0</td>\n",
       "    </tr>\n",
       "    <tr>\n",
       "      <td>2</td>\n",
       "      <td>10</td>\n",
       "      <td>5196000.0</td>\n",
       "      <td>56.00</td>\n",
       "      <td>2015-08-20T00:00:00</td>\n",
       "      <td>2</td>\n",
       "      <td>NaN</td>\n",
       "      <td>5.0</td>\n",
       "      <td>34.3</td>\n",
       "      <td>4</td>\n",
       "      <td>NaN</td>\n",
       "      <td>False</td>\n",
       "      <td>False</td>\n",
       "      <td>8.30</td>\n",
       "      <td>0.0</td>\n",
       "      <td>Санкт-Петербург</td>\n",
       "      <td>21741.0</td>\n",
       "      <td>13933.0</td>\n",
       "      <td>1.0</td>\n",
       "      <td>90.0</td>\n",
       "      <td>2.0</td>\n",
       "      <td>574.0</td>\n",
       "      <td>558.0</td>\n",
       "    </tr>\n",
       "    <tr>\n",
       "      <td>3</td>\n",
       "      <td>0</td>\n",
       "      <td>64900000.0</td>\n",
       "      <td>159.00</td>\n",
       "      <td>2015-07-24T00:00:00</td>\n",
       "      <td>3</td>\n",
       "      <td>NaN</td>\n",
       "      <td>14.0</td>\n",
       "      <td>NaN</td>\n",
       "      <td>9</td>\n",
       "      <td>NaN</td>\n",
       "      <td>False</td>\n",
       "      <td>False</td>\n",
       "      <td>NaN</td>\n",
       "      <td>0.0</td>\n",
       "      <td>Санкт-Петербург</td>\n",
       "      <td>28098.0</td>\n",
       "      <td>6800.0</td>\n",
       "      <td>2.0</td>\n",
       "      <td>84.0</td>\n",
       "      <td>3.0</td>\n",
       "      <td>234.0</td>\n",
       "      <td>424.0</td>\n",
       "    </tr>\n",
       "    <tr>\n",
       "      <td>4</td>\n",
       "      <td>2</td>\n",
       "      <td>10000000.0</td>\n",
       "      <td>100.00</td>\n",
       "      <td>2018-06-19T00:00:00</td>\n",
       "      <td>2</td>\n",
       "      <td>3.03</td>\n",
       "      <td>14.0</td>\n",
       "      <td>32.0</td>\n",
       "      <td>13</td>\n",
       "      <td>NaN</td>\n",
       "      <td>False</td>\n",
       "      <td>False</td>\n",
       "      <td>41.00</td>\n",
       "      <td>NaN</td>\n",
       "      <td>Санкт-Петербург</td>\n",
       "      <td>31856.0</td>\n",
       "      <td>8098.0</td>\n",
       "      <td>2.0</td>\n",
       "      <td>112.0</td>\n",
       "      <td>1.0</td>\n",
       "      <td>48.0</td>\n",
       "      <td>121.0</td>\n",
       "    </tr>\n",
       "    <tr>\n",
       "      <td>...</td>\n",
       "      <td>...</td>\n",
       "      <td>...</td>\n",
       "      <td>...</td>\n",
       "      <td>...</td>\n",
       "      <td>...</td>\n",
       "      <td>...</td>\n",
       "      <td>...</td>\n",
       "      <td>...</td>\n",
       "      <td>...</td>\n",
       "      <td>...</td>\n",
       "      <td>...</td>\n",
       "      <td>...</td>\n",
       "      <td>...</td>\n",
       "      <td>...</td>\n",
       "      <td>...</td>\n",
       "      <td>...</td>\n",
       "      <td>...</td>\n",
       "      <td>...</td>\n",
       "      <td>...</td>\n",
       "      <td>...</td>\n",
       "      <td>...</td>\n",
       "      <td>...</td>\n",
       "    </tr>\n",
       "    <tr>\n",
       "      <td>23694</td>\n",
       "      <td>9</td>\n",
       "      <td>9700000.0</td>\n",
       "      <td>133.81</td>\n",
       "      <td>2017-03-21T00:00:00</td>\n",
       "      <td>3</td>\n",
       "      <td>3.70</td>\n",
       "      <td>5.0</td>\n",
       "      <td>73.3</td>\n",
       "      <td>3</td>\n",
       "      <td>NaN</td>\n",
       "      <td>False</td>\n",
       "      <td>False</td>\n",
       "      <td>13.83</td>\n",
       "      <td>NaN</td>\n",
       "      <td>Санкт-Петербург</td>\n",
       "      <td>24665.0</td>\n",
       "      <td>4232.0</td>\n",
       "      <td>1.0</td>\n",
       "      <td>796.0</td>\n",
       "      <td>3.0</td>\n",
       "      <td>381.0</td>\n",
       "      <td>NaN</td>\n",
       "    </tr>\n",
       "    <tr>\n",
       "      <td>23695</td>\n",
       "      <td>14</td>\n",
       "      <td>3100000.0</td>\n",
       "      <td>59.00</td>\n",
       "      <td>2018-01-15T00:00:00</td>\n",
       "      <td>3</td>\n",
       "      <td>NaN</td>\n",
       "      <td>5.0</td>\n",
       "      <td>38.0</td>\n",
       "      <td>4</td>\n",
       "      <td>NaN</td>\n",
       "      <td>False</td>\n",
       "      <td>False</td>\n",
       "      <td>8.50</td>\n",
       "      <td>NaN</td>\n",
       "      <td>Тосно</td>\n",
       "      <td>NaN</td>\n",
       "      <td>NaN</td>\n",
       "      <td>NaN</td>\n",
       "      <td>NaN</td>\n",
       "      <td>NaN</td>\n",
       "      <td>NaN</td>\n",
       "      <td>45.0</td>\n",
       "    </tr>\n",
       "    <tr>\n",
       "      <td>23696</td>\n",
       "      <td>18</td>\n",
       "      <td>2500000.0</td>\n",
       "      <td>56.70</td>\n",
       "      <td>2018-02-11T00:00:00</td>\n",
       "      <td>2</td>\n",
       "      <td>NaN</td>\n",
       "      <td>3.0</td>\n",
       "      <td>29.7</td>\n",
       "      <td>1</td>\n",
       "      <td>NaN</td>\n",
       "      <td>False</td>\n",
       "      <td>False</td>\n",
       "      <td>NaN</td>\n",
       "      <td>NaN</td>\n",
       "      <td>село Рождествено</td>\n",
       "      <td>NaN</td>\n",
       "      <td>NaN</td>\n",
       "      <td>NaN</td>\n",
       "      <td>NaN</td>\n",
       "      <td>NaN</td>\n",
       "      <td>NaN</td>\n",
       "      <td>NaN</td>\n",
       "    </tr>\n",
       "    <tr>\n",
       "      <td>23697</td>\n",
       "      <td>13</td>\n",
       "      <td>11475000.0</td>\n",
       "      <td>76.75</td>\n",
       "      <td>2017-03-28T00:00:00</td>\n",
       "      <td>2</td>\n",
       "      <td>3.00</td>\n",
       "      <td>17.0</td>\n",
       "      <td>NaN</td>\n",
       "      <td>12</td>\n",
       "      <td>NaN</td>\n",
       "      <td>False</td>\n",
       "      <td>False</td>\n",
       "      <td>23.30</td>\n",
       "      <td>2.0</td>\n",
       "      <td>Санкт-Петербург</td>\n",
       "      <td>39140.0</td>\n",
       "      <td>10364.0</td>\n",
       "      <td>2.0</td>\n",
       "      <td>173.0</td>\n",
       "      <td>3.0</td>\n",
       "      <td>196.0</td>\n",
       "      <td>602.0</td>\n",
       "    </tr>\n",
       "    <tr>\n",
       "      <td>23698</td>\n",
       "      <td>4</td>\n",
       "      <td>1350000.0</td>\n",
       "      <td>32.30</td>\n",
       "      <td>2017-07-21T00:00:00</td>\n",
       "      <td>1</td>\n",
       "      <td>2.50</td>\n",
       "      <td>5.0</td>\n",
       "      <td>12.3</td>\n",
       "      <td>1</td>\n",
       "      <td>NaN</td>\n",
       "      <td>False</td>\n",
       "      <td>False</td>\n",
       "      <td>9.00</td>\n",
       "      <td>NaN</td>\n",
       "      <td>поселок Новый Учхоз</td>\n",
       "      <td>NaN</td>\n",
       "      <td>NaN</td>\n",
       "      <td>NaN</td>\n",
       "      <td>NaN</td>\n",
       "      <td>NaN</td>\n",
       "      <td>NaN</td>\n",
       "      <td>NaN</td>\n",
       "    </tr>\n",
       "  </tbody>\n",
       "</table>\n",
       "<p>23699 rows × 22 columns</p>\n",
       "</div>"
      ],
      "text/plain": [
       "       total_images  last_price  total_area first_day_exposition  rooms  \\\n",
       "0                20  13000000.0      108.00  2019-03-07T00:00:00      3   \n",
       "1                 7   3350000.0       40.40  2018-12-04T00:00:00      1   \n",
       "2                10   5196000.0       56.00  2015-08-20T00:00:00      2   \n",
       "3                 0  64900000.0      159.00  2015-07-24T00:00:00      3   \n",
       "4                 2  10000000.0      100.00  2018-06-19T00:00:00      2   \n",
       "...             ...         ...         ...                  ...    ...   \n",
       "23694             9   9700000.0      133.81  2017-03-21T00:00:00      3   \n",
       "23695            14   3100000.0       59.00  2018-01-15T00:00:00      3   \n",
       "23696            18   2500000.0       56.70  2018-02-11T00:00:00      2   \n",
       "23697            13  11475000.0       76.75  2017-03-28T00:00:00      2   \n",
       "23698             4   1350000.0       32.30  2017-07-21T00:00:00      1   \n",
       "\n",
       "       ceiling_height  floors_total  living_area  floor is_apartment  studio  \\\n",
       "0                2.70          16.0         51.0      8          NaN   False   \n",
       "1                 NaN          11.0         18.6      1          NaN   False   \n",
       "2                 NaN           5.0         34.3      4          NaN   False   \n",
       "3                 NaN          14.0          NaN      9          NaN   False   \n",
       "4                3.03          14.0         32.0     13          NaN   False   \n",
       "...               ...           ...          ...    ...          ...     ...   \n",
       "23694            3.70           5.0         73.3      3          NaN   False   \n",
       "23695             NaN           5.0         38.0      4          NaN   False   \n",
       "23696             NaN           3.0         29.7      1          NaN   False   \n",
       "23697            3.00          17.0          NaN     12          NaN   False   \n",
       "23698            2.50           5.0         12.3      1          NaN   False   \n",
       "\n",
       "       open_plan  kitchen_area  balcony        locality_name  \\\n",
       "0          False         25.00      NaN      Санкт-Петербург   \n",
       "1          False         11.00      2.0       посёлок Шушары   \n",
       "2          False          8.30      0.0      Санкт-Петербург   \n",
       "3          False           NaN      0.0      Санкт-Петербург   \n",
       "4          False         41.00      NaN      Санкт-Петербург   \n",
       "...          ...           ...      ...                  ...   \n",
       "23694      False         13.83      NaN      Санкт-Петербург   \n",
       "23695      False          8.50      NaN                Тосно   \n",
       "23696      False           NaN      NaN     село Рождествено   \n",
       "23697      False         23.30      2.0      Санкт-Петербург   \n",
       "23698      False          9.00      NaN  поселок Новый Учхоз   \n",
       "\n",
       "       airports_nearest  cityCenters_nearest  parks_around3000  parks_nearest  \\\n",
       "0               18863.0              16028.0               1.0          482.0   \n",
       "1               12817.0              18603.0               0.0            NaN   \n",
       "2               21741.0              13933.0               1.0           90.0   \n",
       "3               28098.0               6800.0               2.0           84.0   \n",
       "4               31856.0               8098.0               2.0          112.0   \n",
       "...                 ...                  ...               ...            ...   \n",
       "23694           24665.0               4232.0               1.0          796.0   \n",
       "23695               NaN                  NaN               NaN            NaN   \n",
       "23696               NaN                  NaN               NaN            NaN   \n",
       "23697           39140.0              10364.0               2.0          173.0   \n",
       "23698               NaN                  NaN               NaN            NaN   \n",
       "\n",
       "       ponds_around3000  ponds_nearest  days_exposition  \n",
       "0                   2.0          755.0              NaN  \n",
       "1                   0.0            NaN             81.0  \n",
       "2                   2.0          574.0            558.0  \n",
       "3                   3.0          234.0            424.0  \n",
       "4                   1.0           48.0            121.0  \n",
       "...                 ...            ...              ...  \n",
       "23694               3.0          381.0              NaN  \n",
       "23695               NaN            NaN             45.0  \n",
       "23696               NaN            NaN              NaN  \n",
       "23697               3.0          196.0            602.0  \n",
       "23698               NaN            NaN              NaN  \n",
       "\n",
       "[23699 rows x 22 columns]"
      ]
     },
     "metadata": {},
     "output_type": "display_data"
    }
   ],
   "source": [
    "pd.options.display.max_columns = None # отобразим все столбцы при выводе таблицы\n",
    "display(df)"
   ]
  },
  {
   "cell_type": "markdown",
   "metadata": {},
   "source": [
    "### Получение общей информации"
   ]
  },
  {
   "cell_type": "markdown",
   "metadata": {},
   "source": [
    "Получаем общую информацию о таблице:"
   ]
  },
  {
   "cell_type": "code",
   "execution_count": 4,
   "metadata": {},
   "outputs": [
    {
     "name": "stdout",
     "output_type": "stream",
     "text": [
      "<class 'pandas.core.frame.DataFrame'>\n",
      "RangeIndex: 23699 entries, 0 to 23698\n",
      "Data columns (total 22 columns):\n",
      "total_images            23699 non-null int64\n",
      "last_price              23699 non-null float64\n",
      "total_area              23699 non-null float64\n",
      "first_day_exposition    23699 non-null object\n",
      "rooms                   23699 non-null int64\n",
      "ceiling_height          14504 non-null float64\n",
      "floors_total            23613 non-null float64\n",
      "living_area             21796 non-null float64\n",
      "floor                   23699 non-null int64\n",
      "is_apartment            2775 non-null object\n",
      "studio                  23699 non-null bool\n",
      "open_plan               23699 non-null bool\n",
      "kitchen_area            21421 non-null float64\n",
      "balcony                 12180 non-null float64\n",
      "locality_name           23650 non-null object\n",
      "airports_nearest        18157 non-null float64\n",
      "cityCenters_nearest     18180 non-null float64\n",
      "parks_around3000        18181 non-null float64\n",
      "parks_nearest           8079 non-null float64\n",
      "ponds_around3000        18181 non-null float64\n",
      "ponds_nearest           9110 non-null float64\n",
      "days_exposition         20518 non-null float64\n",
      "dtypes: bool(2), float64(14), int64(3), object(3)\n",
      "memory usage: 3.7+ MB\n"
     ]
    }
   ],
   "source": [
    "df.info()"
   ]
  },
  {
   "cell_type": "markdown",
   "metadata": {},
   "source": [
    "**Описание таблицы**\n",
    "\n",
    "В таблице 22 столбца и 23699 строк. Тип данных в столбцах — `bool`, `float`, `int`, `object`.\n",
    "\n",
    "Описание данных:\n",
    "\n",
    "* `total_images` — число фотографий квартиры в объявлении;\n",
    "* `last_price` — цена на момент снятия с публикации;\n",
    "* `total_area` — площадь квартиры в квадратных метрах (м²);\n",
    "* `first_day_exposition` — дата публикации;\n",
    "* `rooms` — число комнат;\n",
    "* `ceiling_height` — высота потолков (м);\n",
    "* `floors_total` — всего этажей в доме;\n",
    "* `living_area` — жилая площадь в квадратных метрах (м²);\n",
    "* `floor` — этаж;\n",
    "* `is_apartment` — апартаменты (булев тип);\n",
    "* `studio` — квартира-студия (булев тип);\n",
    "* `open_plan` — свободная планировка (булев тип);\n",
    "* `kitchen_area` — площадь кухни в квадратных метрах (м²);\n",
    "* `balcony` — число балконов;\n",
    "* `locality_name` — название населённого пункта;\n",
    "* `airports_nearest` — расстояние до ближайшего аэропорта в метрах (м);\n",
    "* `cityCenters_nearest` — расстояние до центра города (м);\n",
    "* `parks_around3000` — число водоёмов в радиусе 3 км;\n",
    "* `parks_nearest` — расстояние до ближайшего парка (м);\n",
    "* `ponds_around3000` — число парков в радиусе 3 км;\n",
    "* `ponds_nearest` — расстояние до ближайшего водоёма (м);\n",
    "* `days_exposition` — сколько дней было размещено объявление (от публикации до снятия).\n",
    "\n",
    "Количество значений в столбцах различается. Значит, в данных есть пропущенные значения.\n",
    "\n",
    "Некоторые названия столбцов записаны в разном регистре и плохо читаемы (требуют приведения их к \"змеиному\" регистру).\n",
    "\n",
    "Некоторые столбцы требуют изменения типа данных."
   ]
  },
  {
   "cell_type": "markdown",
   "metadata": {},
   "source": [
    "### Вывод"
   ]
  },
  {
   "cell_type": "markdown",
   "metadata": {},
   "source": [
    "В каждой строке таблицы — данные о продаже квартир. Часть колонок содержит информацию о цене и технических характеристиках квартиры, местоположении и расстояние до определенных близлежащих мест (центр города, аэропорт, парк, водоем). Остальные данные рассказывают о количестве времени размещения объявления (от публикации до снятия), а также дате публикации объявления. Также есть информация о числе фотографий квартиры в объявлении.\n",
    "\n",
    "По предварительно оцененной информации видно, что: встречаются пропуски в данных (например в столбцах `\"airports_nearest\"`, `\"cityCenters_nearest\"`, `\"parks_nearest\"` и `\"ponds_nearest\"` имеются пропущенные значения, так как известно, что значения в этих столбцах получены автоматически на основе картографических данных); столбцы `parks_around3000`, `balcony`, `ponds_around3000` и `days_exposition` имеют вещественный тип данных, но по логике должны быть целочисленными; столбец с датой публикации `\"first_day_exposition\"` содержит значения типа `object`; некоторые названия столбцов записаны в разном регистре и плохо (неудобно) читаемы.\n",
    "\n",
    "Поэтому, чтобы перейти к дальнейшей расчетам, нужно устранить проблемы в данных."
   ]
  },
  {
   "cell_type": "markdown",
   "metadata": {},
   "source": [
    "## Предобработка данных"
   ]
  },
  {
   "cell_type": "markdown",
   "metadata": {},
   "source": [
    "### Изменение названий столбцов"
   ]
  },
  {
   "cell_type": "markdown",
   "metadata": {},
   "source": [
    "Приведем названия столбцов `\"cityCenters_nearest\"`, `\"parks_around3000\"`, `\"ponds_around3000\"` в удобночитаемый вид:"
   ]
  },
  {
   "cell_type": "code",
   "execution_count": 5,
   "metadata": {},
   "outputs": [],
   "source": [
    "df = df.rename(columns={\n",
    "    'cityCenters_nearest':'city_centers_nearest', \n",
    "    'parks_around3000':'parks_around', \n",
    "    'ponds_around3000':'ponds_around'})"
   ]
  },
  {
   "cell_type": "markdown",
   "metadata": {},
   "source": [
    "Проверим внесенные изменения:"
   ]
  },
  {
   "cell_type": "code",
   "execution_count": 6,
   "metadata": {},
   "outputs": [
    {
     "name": "stdout",
     "output_type": "stream",
     "text": [
      "Index(['total_images', 'last_price', 'total_area', 'first_day_exposition',\n",
      "       'rooms', 'ceiling_height', 'floors_total', 'living_area', 'floor',\n",
      "       'is_apartment', 'studio', 'open_plan', 'kitchen_area', 'balcony',\n",
      "       'locality_name', 'airports_nearest', 'city_centers_nearest',\n",
      "       'parks_around', 'parks_nearest', 'ponds_around', 'ponds_nearest',\n",
      "       'days_exposition'],\n",
      "      dtype='object')\n"
     ]
    }
   ],
   "source": [
    "print(df.columns)"
   ]
  },
  {
   "cell_type": "markdown",
   "metadata": {},
   "source": [
    "Как видно переименование столбцов завершилось удачно."
   ]
  },
  {
   "cell_type": "markdown",
   "metadata": {},
   "source": [
    "### Обработка пропущенных значений"
   ]
  },
  {
   "cell_type": "markdown",
   "metadata": {},
   "source": [
    "Посчитаем, сколько в таблице пропущенных значений."
   ]
  },
  {
   "cell_type": "code",
   "execution_count": 7,
   "metadata": {},
   "outputs": [
    {
     "data": {
      "text/plain": [
       "total_images                0\n",
       "last_price                  0\n",
       "total_area                  0\n",
       "first_day_exposition        0\n",
       "rooms                       0\n",
       "ceiling_height           9195\n",
       "floors_total               86\n",
       "living_area              1903\n",
       "floor                       0\n",
       "is_apartment            20924\n",
       "studio                      0\n",
       "open_plan                   0\n",
       "kitchen_area             2278\n",
       "balcony                 11519\n",
       "locality_name              49\n",
       "airports_nearest         5542\n",
       "city_centers_nearest     5519\n",
       "parks_around             5518\n",
       "parks_nearest           15620\n",
       "ponds_around             5518\n",
       "ponds_nearest           14589\n",
       "days_exposition          3181\n",
       "dtype: int64"
      ]
     },
     "execution_count": 7,
     "metadata": {},
     "output_type": "execute_result"
    }
   ],
   "source": [
    "df.isna().sum() # подсчёт пропусков"
   ]
  },
  {
   "cell_type": "markdown",
   "metadata": {},
   "source": [
    "Как видно пропусков в таблице довольно много, будем обрабатывать."
   ]
  },
  {
   "cell_type": "markdown",
   "metadata": {},
   "source": [
    "#### Высота потолков"
   ]
  },
  {
   "cell_type": "markdown",
   "metadata": {},
   "source": [
    "Столбец `\"ceiling_height\"` - высота потолков имеет 9195 пропущенных значений.\n",
    "Посмотрим какие значения он содержит:"
   ]
  },
  {
   "cell_type": "code",
   "execution_count": 8,
   "metadata": {},
   "outputs": [
    {
     "data": {
      "text/plain": [
       "count    14504.000000\n",
       "mean         2.771499\n",
       "std          1.261056\n",
       "min          1.000000\n",
       "25%          2.520000\n",
       "50%          2.650000\n",
       "75%          2.800000\n",
       "max        100.000000\n",
       "Name: ceiling_height, dtype: float64"
      ]
     },
     "execution_count": 8,
     "metadata": {},
     "output_type": "execute_result"
    }
   ],
   "source": [
    "df['ceiling_height'].describe()"
   ]
  },
  {
   "cell_type": "markdown",
   "metadata": {},
   "source": [
    "Как видим минимальное значение высоты потолков 1 метр, а максимальное целых 100 метров. Определенно пользователь вводивший данные допустил ошибку. Аномальные значения заменять не будем, так как фильтрация по ним будет произведена после исследовательского анализа данных."
   ]
  },
  {
   "cell_type": "markdown",
   "metadata": {},
   "source": [
    "Так же заменим пустые значения на среднее (медиану):"
   ]
  },
  {
   "cell_type": "code",
   "execution_count": 9,
   "metadata": {},
   "outputs": [],
   "source": [
    "df['ceiling_height'] = df['ceiling_height'].fillna(df['ceiling_height'].median())"
   ]
  },
  {
   "cell_type": "markdown",
   "metadata": {},
   "source": [
    "Проверим изменение значений:"
   ]
  },
  {
   "cell_type": "code",
   "execution_count": 10,
   "metadata": {},
   "outputs": [
    {
     "data": {
      "text/plain": [
       "count    23699.000000\n",
       "mean         2.724358\n",
       "std          0.988298\n",
       "min          1.000000\n",
       "25%          2.600000\n",
       "50%          2.650000\n",
       "75%          2.700000\n",
       "max        100.000000\n",
       "Name: ceiling_height, dtype: float64"
      ]
     },
     "execution_count": 10,
     "metadata": {},
     "output_type": "execute_result"
    }
   ],
   "source": [
    "df['ceiling_height'].describe()"
   ]
  },
  {
   "cell_type": "markdown",
   "metadata": {},
   "source": [
    "Проверим остались ли пустые значения:"
   ]
  },
  {
   "cell_type": "code",
   "execution_count": 11,
   "metadata": {},
   "outputs": [
    {
     "name": "stdout",
     "output_type": "stream",
     "text": [
      "Количество пустых значений в столбце \"ceiling_height\": 0\n"
     ]
    }
   ],
   "source": [
    "print(f'Количество пустых значений в столбце \"ceiling_height\":', df['ceiling_height'].isna().sum())"
   ]
  },
  {
   "cell_type": "markdown",
   "metadata": {},
   "source": [
    "Пропущенные значения в столбце `\"ceiling_height\"` успешно обработаны!"
   ]
  },
  {
   "cell_type": "markdown",
   "metadata": {},
   "source": [
    "#### Всего этажей в доме"
   ]
  },
  {
   "cell_type": "markdown",
   "metadata": {},
   "source": [
    "Столбец `\"floors_total\"` - количество этажей имеет 86 пропущенных значений (это количество незначительное, потому что составляет порядка 0,4% от всех значений в столбце) поэтому заменим эти значения на среднее (медиану). Также проверим наличие \"артефактов\" в данном столбце:"
   ]
  },
  {
   "cell_type": "code",
   "execution_count": 12,
   "metadata": {},
   "outputs": [
    {
     "data": {
      "text/plain": [
       "count    23613.000000\n",
       "mean        10.673824\n",
       "std          6.597173\n",
       "min          1.000000\n",
       "25%          5.000000\n",
       "50%          9.000000\n",
       "75%         16.000000\n",
       "max         60.000000\n",
       "Name: floors_total, dtype: float64"
      ]
     },
     "execution_count": 12,
     "metadata": {},
     "output_type": "execute_result"
    }
   ],
   "source": [
    "df['floors_total'].describe()"
   ]
  },
  {
   "cell_type": "markdown",
   "metadata": {},
   "source": [
    "Как видим минимальное количество этажей 1, а максимальное 60, что выглядит правдоподобно, но стоит проверить количество \"высоток\" в датасете:"
   ]
  },
  {
   "cell_type": "code",
   "execution_count": 13,
   "metadata": {},
   "outputs": [
    {
     "name": "stdout",
     "output_type": "stream",
     "text": [
      "2253     60.0\n",
      "16731    52.0\n",
      "Name: floors_total, dtype: float64\n"
     ]
    }
   ],
   "source": [
    "print(df[df['floors_total'] > 40]['floors_total'])"
   ]
  },
  {
   "cell_type": "markdown",
   "metadata": {},
   "source": [
    "Как видно датасет имеет всего две \"высотки\", поэтому примем это за правду."
   ]
  },
  {
   "cell_type": "code",
   "execution_count": 14,
   "metadata": {},
   "outputs": [],
   "source": [
    "# заменяем пропущенные значения на среднее (медиану)\n",
    "df['floors_total'] = df['floors_total'].fillna(df['floors_total'].median())"
   ]
  },
  {
   "cell_type": "markdown",
   "metadata": {},
   "source": [
    "Проверим остались ли пустые значения:"
   ]
  },
  {
   "cell_type": "code",
   "execution_count": 15,
   "metadata": {},
   "outputs": [
    {
     "name": "stdout",
     "output_type": "stream",
     "text": [
      "Количество пустых значений в столбце \"floors_total\": 0\n"
     ]
    }
   ],
   "source": [
    "print(f'Количество пустых значений в столбце \"floors_total\":', df['floors_total'].isna().sum())"
   ]
  },
  {
   "cell_type": "markdown",
   "metadata": {},
   "source": [
    "Пропущенные значения в столбце `\"floors_total\"` успешно обработаны!"
   ]
  },
  {
   "cell_type": "markdown",
   "metadata": {},
   "source": [
    "#### Жилая площадь квартиры"
   ]
  },
  {
   "cell_type": "markdown",
   "metadata": {},
   "source": [
    "Столбец `\"living_area\"` - жилая площадь квартиры имеет 1903 пропущенных значений.\n",
    "\n",
    "Для определения и изменения пропущенных значений в столбце `\"living_area\"` нам потребуется общая жилая площадь квартиры `\"total_area\"` и площадь кухни `\"kitchen_area\"`. Для получения жилой площади будем вычитать площадь кухни из общей площади квартиры. Но нам уже известно, что площадь кухни тоже имеет пропуски в данных, поэтому сначала заменим пропуски средним значением (медиана) для `\"kitchen_area\"`."
   ]
  },
  {
   "cell_type": "code",
   "execution_count": 16,
   "metadata": {},
   "outputs": [],
   "source": [
    "#заменяем пропущенные значения на среднее (медиану)\n",
    "df['kitchen_area'] = df['kitchen_area'].fillna(df['kitchen_area'].median())"
   ]
  },
  {
   "cell_type": "code",
   "execution_count": 17,
   "metadata": {},
   "outputs": [
    {
     "name": "stdout",
     "output_type": "stream",
     "text": [
      "Количество пустых значений в столбце \"kitchen_area\": 0\n"
     ]
    }
   ],
   "source": [
    "print(f'Количество пустых значений в столбце \"kitchen_area\":', df['kitchen_area'].isna().sum())"
   ]
  },
  {
   "cell_type": "markdown",
   "metadata": {},
   "source": [
    "Теперь заменим пустые значения в столбце `\"living_area\"`:"
   ]
  },
  {
   "cell_type": "code",
   "execution_count": 18,
   "metadata": {},
   "outputs": [],
   "source": [
    "# дополнительно напишем обработчик исключений\n",
    "try:\n",
    "    df['living_area'] = df['living_area'].fillna(df['total_area'] - df['kitchen_area'])\n",
    "except:\n",
    "    print('Ошибка, проверьте входные данные')"
   ]
  },
  {
   "cell_type": "markdown",
   "metadata": {},
   "source": [
    "Проверим количество пустых значений после замены:"
   ]
  },
  {
   "cell_type": "code",
   "execution_count": 19,
   "metadata": {},
   "outputs": [
    {
     "name": "stdout",
     "output_type": "stream",
     "text": [
      "Количество пустых значений в столбце \"living_area\": 0\n"
     ]
    }
   ],
   "source": [
    "print(f'Количество пустых значений в столбце \"living_area\":', df['living_area'].isna().sum())"
   ]
  },
  {
   "cell_type": "markdown",
   "metadata": {},
   "source": [
    "Пропущенные значения в столбце `\"living_area\"` и `\"kitchen_area\"` успешно обработаны!"
   ]
  },
  {
   "cell_type": "markdown",
   "metadata": {},
   "source": [
    "#### Аппартаменты"
   ]
  },
  {
   "cell_type": "markdown",
   "metadata": {},
   "source": [
    "Столбец `\"is_apartment\"` - аппартаменты имеет 20924 пропущенных значений.\n",
    "\n",
    "Посмотрим на значения через сводную таблицу:"
   ]
  },
  {
   "cell_type": "code",
   "execution_count": 20,
   "metadata": {},
   "outputs": [
    {
     "data": {
      "text/html": [
       "<div>\n",
       "<style scoped>\n",
       "    .dataframe tbody tr th:only-of-type {\n",
       "        vertical-align: middle;\n",
       "    }\n",
       "\n",
       "    .dataframe tbody tr th {\n",
       "        vertical-align: top;\n",
       "    }\n",
       "\n",
       "    .dataframe thead th {\n",
       "        text-align: right;\n",
       "    }\n",
       "</style>\n",
       "<table border=\"1\" class=\"dataframe\">\n",
       "  <thead>\n",
       "    <tr style=\"text-align: right;\">\n",
       "      <th></th>\n",
       "      <th>rooms</th>\n",
       "    </tr>\n",
       "    <tr>\n",
       "      <th>is_apartment</th>\n",
       "      <th></th>\n",
       "    </tr>\n",
       "  </thead>\n",
       "  <tbody>\n",
       "    <tr>\n",
       "      <td>False</td>\n",
       "      <td>2725</td>\n",
       "    </tr>\n",
       "    <tr>\n",
       "      <td>True</td>\n",
       "      <td>50</td>\n",
       "    </tr>\n",
       "  </tbody>\n",
       "</table>\n",
       "</div>"
      ],
      "text/plain": [
       "              rooms\n",
       "is_apartment       \n",
       "False          2725\n",
       "True             50"
      ]
     },
     "execution_count": 20,
     "metadata": {},
     "output_type": "execute_result"
    }
   ],
   "source": [
    "df.pivot_table(index='is_apartment', values='rooms', aggfunc='count')"
   ]
  },
  {
   "cell_type": "markdown",
   "metadata": {},
   "source": [
    "Из сводной таблицы видно, что аппартаментами являются всего 50 квартир, поэтому пропуски заменим на `False`:"
   ]
  },
  {
   "cell_type": "code",
   "execution_count": 21,
   "metadata": {},
   "outputs": [],
   "source": [
    "#заменяем пропущенные значения на False\n",
    "df['is_apartment'] = df['is_apartment'].fillna(False)"
   ]
  },
  {
   "cell_type": "code",
   "execution_count": 22,
   "metadata": {},
   "outputs": [
    {
     "name": "stdout",
     "output_type": "stream",
     "text": [
      "Количество пустых значений в столбце \"is_apartment\": 0\n"
     ]
    }
   ],
   "source": [
    "print(f'Количество пустых значений в столбце \"is_apartment\":', df['is_apartment'].isna().sum())"
   ]
  },
  {
   "cell_type": "markdown",
   "metadata": {},
   "source": [
    "Пропущенные значения в столбце `\"is_apartment\"` успешно обработаны!"
   ]
  },
  {
   "cell_type": "markdown",
   "metadata": {},
   "source": [
    "#### Балконы"
   ]
  },
  {
   "cell_type": "markdown",
   "metadata": {},
   "source": [
    "Столбец `\"balcony\"` - количество балконов имеет 11519 пропущенных значений.\n",
    "Здесь можно предположить, что пользователь не указал число балконов и скорее всего, их нет. Такие пропуски заменим на 0:"
   ]
  },
  {
   "cell_type": "code",
   "execution_count": 23,
   "metadata": {},
   "outputs": [],
   "source": [
    "#заменяем пропущенные значения на \"0\"\n",
    "df['balcony'] = df['balcony'].fillna(0)"
   ]
  },
  {
   "cell_type": "code",
   "execution_count": 24,
   "metadata": {},
   "outputs": [
    {
     "name": "stdout",
     "output_type": "stream",
     "text": [
      "Количество пустых значений в столбце \"balcony\": 0\n"
     ]
    }
   ],
   "source": [
    "print(f'Количество пустых значений в столбце \"balcony\":', df['balcony'].isna().sum())"
   ]
  },
  {
   "cell_type": "markdown",
   "metadata": {},
   "source": [
    "Пропущенные значения в столбце `\"balcony\"` успешно обработаны!"
   ]
  },
  {
   "cell_type": "markdown",
   "metadata": {},
   "source": [
    "#### Название населенного пункта"
   ]
  },
  {
   "cell_type": "markdown",
   "metadata": {},
   "source": [
    "Столбец `\"locality_name\"` - название населенного пункта имеет 49 пропущенных значений (это количество незначительное, потому что \n",
    "составляет порядка 0,2% от всех значений в столбце) поэтому просто удалим строки, где встречаются эти значения:\n"
   ]
  },
  {
   "cell_type": "code",
   "execution_count": 25,
   "metadata": {},
   "outputs": [],
   "source": [
    "df = df.dropna(subset=['locality_name'])"
   ]
  },
  {
   "cell_type": "code",
   "execution_count": 26,
   "metadata": {},
   "outputs": [
    {
     "name": "stdout",
     "output_type": "stream",
     "text": [
      "Количество пустых значений в столбце \"locality_name\": 0\n"
     ]
    }
   ],
   "source": [
    "print(f'Количество пустых значений в столбце \"locality_name\":', df['locality_name'].isna().sum())"
   ]
  },
  {
   "cell_type": "markdown",
   "metadata": {},
   "source": [
    "Пропущенные значения в столбце `\"locality_name\"` успешно удалены!"
   ]
  },
  {
   "cell_type": "markdown",
   "metadata": {},
   "source": [
    "#### Расстояния до объектов и их количество"
   ]
  },
  {
   "cell_type": "markdown",
   "metadata": {},
   "source": [
    "Как нам уже известно многие данные заносились в таблицу автоматически. Например, расстояние до центра, аэропорта, ближайшего парка и водоёма получены автоматически на основе картографических данных. Поэтому можно предположить, что и данные о их количестве тоже заносились автоматически. Тем более количество пропущенных значений у них практически одинаковое, а также эти данные не понадобятся при дальнейших расчетах. Исходя из этого заменим пропущенные значения в столбцах `\"airports_nearest\"`, `\"city_centers_nearest\"`, `\"parks_around\"`, `\"parks_nearest\"`, `\"ponds_around\"`, `\"ponds_nearest\"` на `\"0\"`:"
   ]
  },
  {
   "cell_type": "markdown",
   "metadata": {},
   "source": [
    "Напишем функцию замены пропусков:"
   ]
  },
  {
   "cell_type": "code",
   "execution_count": 27,
   "metadata": {},
   "outputs": [],
   "source": [
    "def replace_columns(list_columns):\n",
    "    '''\n",
    "    Функция для замены пропущенных значений в столбцах.\n",
    "    На вход принимает список столбцов \"list_columns\", в которых необходимо произвести замену пропусков.\n",
    "    Заменяет пропуски значением \"-1\" по итерируемому столбцу.\n",
    "    '''\n",
    "    for column in list_columns: # проходим по списку столбцов\n",
    "        df[column] = df[column].fillna(-1) # заменяем пропущенные значения на \"-1\""
   ]
  },
  {
   "cell_type": "markdown",
   "metadata": {},
   "source": [
    "Создаем список столбцов, в которых необходимо произвести замену пропусков:"
   ]
  },
  {
   "cell_type": "code",
   "execution_count": 28,
   "metadata": {},
   "outputs": [],
   "source": [
    "list_columns = ['airports_nearest',\n",
    "                'city_centers_nearest', \n",
    "                'parks_around', \n",
    "                'parks_nearest', \n",
    "                'ponds_around', \n",
    "                'ponds_nearest']"
   ]
  },
  {
   "cell_type": "markdown",
   "metadata": {},
   "source": [
    "Выполняем функцию замены пропусков:"
   ]
  },
  {
   "cell_type": "code",
   "execution_count": 29,
   "metadata": {},
   "outputs": [],
   "source": [
    "replace_columns(list_columns) # вызов функции с аргументом \"list_columns\""
   ]
  },
  {
   "cell_type": "markdown",
   "metadata": {},
   "source": [
    "Проверяем остались ли пропущенные значения в столбцах:"
   ]
  },
  {
   "cell_type": "code",
   "execution_count": 30,
   "metadata": {},
   "outputs": [
    {
     "name": "stdout",
     "output_type": "stream",
     "text": [
      "Количество пустых значений в столбце \"airports_nearest\": 0\n",
      "Количество пустых значений в столбце \"city_centers_nearest\": 0\n",
      "Количество пустых значений в столбце \"parks_around\": 0\n",
      "Количество пустых значений в столбце \"parks_nearest\": 0\n",
      "Количество пустых значений в столбце \"ponds_around\": 0\n",
      "Количество пустых значений в столбце \"ponds_nearest\": 0\n"
     ]
    }
   ],
   "source": [
    "for i in list_columns:\n",
    "    print(f'Количество пустых значений в столбце \"{i}\":', df[i].isna().sum())"
   ]
  },
  {
   "cell_type": "markdown",
   "metadata": {},
   "source": [
    "#### Число дней размещения объявления"
   ]
  },
  {
   "cell_type": "markdown",
   "metadata": {},
   "source": [
    "По столбцу `days_exposition` — сколько дней было размещено объявление (от публикации до снятия) имеется пропущенные значения в количестве 3181. Можно предположить, что по этим данным на момент выгрузки таблицы объявление о продаже не было снято, поэтому заменим данные пропуски значениями \"0\":"
   ]
  },
  {
   "cell_type": "code",
   "execution_count": 31,
   "metadata": {},
   "outputs": [],
   "source": [
    "#заменяем пропущенные значения на максиммальные для данного столбца\n",
    "df['days_exposition'] = df['days_exposition'].fillna(0)"
   ]
  },
  {
   "cell_type": "code",
   "execution_count": 32,
   "metadata": {},
   "outputs": [
    {
     "name": "stdout",
     "output_type": "stream",
     "text": [
      "Количество пустых значений в столбце \"days_exposition\": 0\n"
     ]
    }
   ],
   "source": [
    "print(f'Количество пустых значений в столбце \"days_exposition\":', df['days_exposition'].isna().sum())"
   ]
  },
  {
   "cell_type": "markdown",
   "metadata": {},
   "source": [
    "Пропущенные значения в столбце `\"days_exposition\"` успешно обработаны!"
   ]
  },
  {
   "cell_type": "markdown",
   "metadata": {},
   "source": [
    "Проверим, остались ли в таблице пропущенные значения после обработки:"
   ]
  },
  {
   "cell_type": "code",
   "execution_count": 33,
   "metadata": {},
   "outputs": [
    {
     "data": {
      "text/plain": [
       "total_images            0\n",
       "last_price              0\n",
       "total_area              0\n",
       "first_day_exposition    0\n",
       "rooms                   0\n",
       "ceiling_height          0\n",
       "floors_total            0\n",
       "living_area             0\n",
       "floor                   0\n",
       "is_apartment            0\n",
       "studio                  0\n",
       "open_plan               0\n",
       "kitchen_area            0\n",
       "balcony                 0\n",
       "locality_name           0\n",
       "airports_nearest        0\n",
       "city_centers_nearest    0\n",
       "parks_around            0\n",
       "parks_nearest           0\n",
       "ponds_around            0\n",
       "ponds_nearest           0\n",
       "days_exposition         0\n",
       "dtype: int64"
      ]
     },
     "execution_count": 33,
     "metadata": {},
     "output_type": "execute_result"
    }
   ],
   "source": [
    "df.isna().sum()"
   ]
  },
  {
   "cell_type": "markdown",
   "metadata": {},
   "source": [
    "Как видно из таблицы пропусков в данных не осталось."
   ]
  },
  {
   "cell_type": "markdown",
   "metadata": {},
   "source": [
    "### Обработка дубликатов"
   ]
  },
  {
   "cell_type": "markdown",
   "metadata": {},
   "source": [
    "#### Обработка неявных дубликатов"
   ]
  },
  {
   "cell_type": "markdown",
   "metadata": {},
   "source": [
    "Проверим наличие неявных дубликатов в столбце `'rooms'`:\n",
    "\n",
    "Методом ‘unique()’ посмотрим уникальные значения в столбце `'rooms'`:"
   ]
  },
  {
   "cell_type": "code",
   "execution_count": 34,
   "metadata": {},
   "outputs": [
    {
     "name": "stdout",
     "output_type": "stream",
     "text": [
      "[ 3  1  2  4  5  6  0  7 11  8 14 10 15  9 19 16 12]\n"
     ]
    }
   ],
   "source": [
    "print(df['rooms'].unique()) # выведем список уникальных значений"
   ]
  },
  {
   "cell_type": "markdown",
   "metadata": {},
   "source": [
    "Видно, что столбец `'rooms'` имеет количество комнат равное \"0\" и больше \"10\". Большое количество комнат пока трогать не будем, но необходимо обработать нулевые значения исходя из площади квартиры для данной строки, а также является ли эта квартира студией или нет (если является то `'rooms'` оставим равный \"0\", иначе количество комнат будет зависеть от площади). Для этого посчитаем сколько вообще присутствует в столбце квартир-студий с числом комнат \"0\" и не студий с числом комнат \"0\", и напишем функцию замены:"
   ]
  },
  {
   "cell_type": "code",
   "execution_count": 35,
   "metadata": {},
   "outputs": [
    {
     "name": "stdout",
     "output_type": "stream",
     "text": [
      "Количество нулевых значений в столбце \"rooms\": 197\n",
      "Из них:\n",
      "Количество квартир-студий с числом комнат \"0\": 138\n",
      "Количество квартир не студий с числом комнат \"0\": 59\n"
     ]
    }
   ],
   "source": [
    "print(f'Количество нулевых значений в столбце \"rooms\":', df.query('rooms == 0')['rooms'].count())\n",
    "print('Из них:')\n",
    "print(f'Количество квартир-студий с числом комнат \"0\":', df.query('studio == True and rooms == 0')['studio'].count())\n",
    "print(f'Количество квартир не студий с числом комнат \"0\":', df.query('studio == False and rooms == 0')['studio'].count())"
   ]
  },
  {
   "cell_type": "markdown",
   "metadata": {},
   "source": [
    "Как видим квартир не студий с числом комнат \"0\" составляет 59 единиц, а значит их нужно обработать:"
   ]
  },
  {
   "cell_type": "code",
   "execution_count": 36,
   "metadata": {},
   "outputs": [],
   "source": [
    "def rooms_func(row):\n",
    "    '''\n",
    "    Функция меняет нулевое значение в столбце 'rooms' в зависимости от площади столбца 'living_area'\n",
    "    и от того является ли квартира студией.\n",
    "    Возвращает '1' если значение столбца 'rooms' == 0 и значение столбца 'living_area' от 0 до 30 и studio == False;\n",
    "    возвращает '2' если значение столбца 'rooms' == 0 и значение столбца 'living_area' от 30 до 60 и studio == False;\n",
    "    возвращает '3' если значение столбца 'rooms' == 0 и значение столбца 'living_area' от 60 до 100 и studio == False;\n",
    "    возвращает '4' если значение столбца 'rooms' == 0 и значение столбца 'living_area' больше 100 и studio == False;\n",
    "    иначе возвращает 'rooms'.\n",
    "    '''\n",
    "    rooms = row['rooms']\n",
    "    living_area = row['living_area']\n",
    "    studio = row['studio']\n",
    "    \n",
    "    if rooms == 0 and (0 <= living_area <= 30) and studio == False:\n",
    "        return 1\n",
    "    if rooms == 0 and (30 < living_area <= 60) and  studio == False:\n",
    "        return 2\n",
    "    if rooms == 0 and (60 < living_area <= 100) and studio == False:\n",
    "        return 3\n",
    "    if rooms == 0 and (living_area > 100) and studio == False:\n",
    "        return 4\n",
    "    else:\n",
    "        return rooms"
   ]
  },
  {
   "cell_type": "code",
   "execution_count": 37,
   "metadata": {},
   "outputs": [],
   "source": [
    "# используем метод \"apply()\" и в качестве аргумента выступит функция\n",
    "df['rooms'] = df.apply(rooms_func, axis=1) # чтобы на вход подавались строки параметр axis=1"
   ]
  },
  {
   "cell_type": "code",
   "execution_count": 38,
   "metadata": {},
   "outputs": [
    {
     "name": "stdout",
     "output_type": "stream",
     "text": [
      "Количество нулевых значений в столбце \"rooms\": 138\n",
      "Из них:\n",
      "Количество квартир-студий с числом комнат \"0\": 138\n",
      "Количество квартир не студий с числом комнат \"0\": 0\n"
     ]
    }
   ],
   "source": [
    "print(f'Количество нулевых значений в столбце \"rooms\":', df.query('rooms == 0')['rooms'].count())\n",
    "print('Из них:')\n",
    "print(f'Количество квартир-студий с числом комнат \"0\":', df.query('studio == True and rooms == 0')['studio'].count())\n",
    "print(f'Количество квартир не студий с числом комнат \"0\":', df.query('studio == False and rooms == 0')['studio'].count())"
   ]
  },
  {
   "cell_type": "markdown",
   "metadata": {},
   "source": [
    "Таким образом мы поменяли количество комнат квартир не студий с числом комнат \"0\" на количество комнат в зависимости от площади квартиры."
   ]
  },
  {
   "cell_type": "markdown",
   "metadata": {},
   "source": [
    "#### Обработка явных дубликатов"
   ]
  },
  {
   "cell_type": "markdown",
   "metadata": {},
   "source": [
    "Посчитаем явные дубликаты в таблице:"
   ]
  },
  {
   "cell_type": "code",
   "execution_count": 39,
   "metadata": {},
   "outputs": [
    {
     "name": "stdout",
     "output_type": "stream",
     "text": [
      "Количество явных дубликатов: 0\n"
     ]
    }
   ],
   "source": [
    "df.duplicated().sum()\n",
    "print(\"Количество явных дубликатов: {}\".format(df.duplicated().sum()))"
   ]
  },
  {
   "cell_type": "markdown",
   "metadata": {},
   "source": [
    "Явные дубликаты в таблице отсутствуют."
   ]
  },
  {
   "cell_type": "markdown",
   "metadata": {},
   "source": [
    "### Обработка типов значений"
   ]
  },
  {
   "cell_type": "markdown",
   "metadata": {},
   "source": [
    "#### Дата публикации объявления"
   ]
  },
  {
   "cell_type": "markdown",
   "metadata": {},
   "source": [
    "Необходимо перевести содержимое столбца `first_day_exposition` — дата публикации в понятные для Python даты.\n",
    "\n",
    "Для этого отформатируем содержимое столбца `first_day_exposition` методом `to_datetime()`:"
   ]
  },
  {
   "cell_type": "code",
   "execution_count": 40,
   "metadata": {},
   "outputs": [],
   "source": [
    "df['first_day_exposition'] = pd.to_datetime(df['first_day_exposition'], format='%Y.%m.%dT%H:%M:%S')"
   ]
  },
  {
   "cell_type": "code",
   "execution_count": 41,
   "metadata": {},
   "outputs": [
    {
     "name": "stdout",
     "output_type": "stream",
     "text": [
      "0   2019-03-07\n",
      "1   2018-12-04\n",
      "2   2015-08-20\n",
      "3   2015-07-24\n",
      "4   2018-06-19\n",
      "Name: first_day_exposition, dtype: datetime64[ns]\n"
     ]
    }
   ],
   "source": [
    "print(df['first_day_exposition'].head())"
   ]
  },
  {
   "cell_type": "markdown",
   "metadata": {},
   "source": [
    "Тип значений в столбце `first_day_exposition` изменился на `datetime`."
   ]
  },
  {
   "cell_type": "markdown",
   "metadata": {},
   "source": [
    "#### Приведение данных к целочисленному типу"
   ]
  },
  {
   "cell_type": "markdown",
   "metadata": {},
   "source": [
    "Для удобства дальнейших вычислений и по логическому сопоставлению данных изменим вещественный тип данных в некоторых столбцах на целочисленный. Для этого напишем функцию, на вход которой будет подаваться список столбцов, подлежащих к изменению типа."
   ]
  },
  {
   "cell_type": "code",
   "execution_count": 42,
   "metadata": {},
   "outputs": [],
   "source": [
    "def replace_data_type(list_new_type):\n",
    "    '''\n",
    "    Функция для изменения типа данных в столбцах.\n",
    "    На вход принимает список столбцов \"list_new_type\", в которых необходимо изменить тип данных.\n",
    "    Изменяет тип данных столбца на \"целочисленный\".\n",
    "    '''\n",
    "    for column in list_new_type: # проходим по списку столбцов\n",
    "        df[column] = df[column].astype('int') # изменяем тип данных на 'int'"
   ]
  },
  {
   "cell_type": "markdown",
   "metadata": {},
   "source": [
    "Cоздаем новый список необходимых к замене типа данных столбцов:"
   ]
  },
  {
   "cell_type": "code",
   "execution_count": 43,
   "metadata": {},
   "outputs": [],
   "source": [
    "list_new_type = ['last_price', \n",
    "                 'floors_total', \n",
    "                 'balcony', \n",
    "                 'airports_nearest', \n",
    "                 'city_centers_nearest', \n",
    "                 'parks_around', \n",
    "                 'parks_nearest', \n",
    "                 'ponds_around', \n",
    "                 'ponds_nearest', \n",
    "                 'days_exposition']"
   ]
  },
  {
   "cell_type": "markdown",
   "metadata": {},
   "source": [
    "Выполняем функцию изменения типа данных:"
   ]
  },
  {
   "cell_type": "code",
   "execution_count": 44,
   "metadata": {},
   "outputs": [],
   "source": [
    "replace_data_type(list_new_type)"
   ]
  },
  {
   "cell_type": "markdown",
   "metadata": {},
   "source": [
    "Проверяем изменился ли тип данных:"
   ]
  },
  {
   "cell_type": "code",
   "execution_count": 45,
   "metadata": {},
   "outputs": [
    {
     "name": "stdout",
     "output_type": "stream",
     "text": [
      "Тип данных столбца \"last_price\": int64\n",
      "Тип данных столбца \"floors_total\": int64\n",
      "Тип данных столбца \"balcony\": int64\n",
      "Тип данных столбца \"airports_nearest\": int64\n",
      "Тип данных столбца \"city_centers_nearest\": int64\n",
      "Тип данных столбца \"parks_around\": int64\n",
      "Тип данных столбца \"parks_nearest\": int64\n",
      "Тип данных столбца \"ponds_around\": int64\n",
      "Тип данных столбца \"ponds_nearest\": int64\n",
      "Тип данных столбца \"days_exposition\": int64\n"
     ]
    }
   ],
   "source": [
    "for i in list_new_type:\n",
    "    print(f'Тип данных столбца \"{i}\":', df[i].dtypes)"
   ]
  },
  {
   "cell_type": "markdown",
   "metadata": {},
   "source": [
    "Как видим тип данных стал целочисленным!"
   ]
  },
  {
   "cell_type": "markdown",
   "metadata": {},
   "source": [
    "### Вывод\n",
    "\n",
    "В процессе предобработки данных мы: изменили названия столбцов (привели их к читаемому и удобному для нас виду); обработали пропущенные значения и дубликаты, а также привели типы значений к требуемому для дальнейших расчетов."
   ]
  },
  {
   "cell_type": "markdown",
   "metadata": {},
   "source": [
    "## Расчёты и добавление результатов в таблицу"
   ]
  },
  {
   "cell_type": "markdown",
   "metadata": {},
   "source": [
    "### Цена квадратного метра"
   ]
  },
  {
   "cell_type": "markdown",
   "metadata": {},
   "source": [
    "Вычислим цену квадратного метра и добавим результат вычисления в таблицу: "
   ]
  },
  {
   "cell_type": "code",
   "execution_count": 46,
   "metadata": {},
   "outputs": [],
   "source": [
    "df['price_square_meter'] = (df['last_price'] / df['total_area']).astype('int') # меняя тип данных на \"int\""
   ]
  },
  {
   "cell_type": "markdown",
   "metadata": {},
   "source": [
    "### Дата публикации"
   ]
  },
  {
   "cell_type": "markdown",
   "metadata": {},
   "source": [
    "Добавим в таблицу новые столбцы `\"weekday_publication\"`, `\"months_publication\"` и `\"years_publication\"` - дата публикации объявления по дню недели, месяцу и году:"
   ]
  },
  {
   "cell_type": "code",
   "execution_count": 47,
   "metadata": {},
   "outputs": [],
   "source": [
    "df['weekday_publication'] = df['first_day_exposition'].dt.weekday # день недели\n",
    "df['months_publication'] = df['first_day_exposition'].dt.month # месяц\n",
    "df['years_publication'] = df['first_day_exposition'].dt.year # год"
   ]
  },
  {
   "cell_type": "markdown",
   "metadata": {},
   "source": [
    "Посмотрим на 5 строк новых столбцов `\"weekday_publication\"`, `\"years_publication\"` и `\"months_publication\"`:"
   ]
  },
  {
   "cell_type": "code",
   "execution_count": 48,
   "metadata": {},
   "outputs": [
    {
     "name": "stdout",
     "output_type": "stream",
     "text": [
      "   weekday_publication  months_publication  years_publication\n",
      "0                    3                   3               2019\n",
      "1                    1                  12               2018\n",
      "2                    3                   8               2015\n",
      "3                    4                   7               2015\n",
      "4                    1                   6               2018\n"
     ]
    }
   ],
   "source": [
    "print(df[['weekday_publication', 'months_publication', 'years_publication']].head())"
   ]
  },
  {
   "cell_type": "markdown",
   "metadata": {},
   "source": [
    "Данные преобрели требуемый вид."
   ]
  },
  {
   "cell_type": "markdown",
   "metadata": {},
   "source": [
    "### Этаж квартиры"
   ]
  },
  {
   "cell_type": "markdown",
   "metadata": {},
   "source": [
    "Добавим в таблицу этаж на котором находится квартира. Для этого воспользуемся категоризацией данных и напишем функцию:"
   ]
  },
  {
   "cell_type": "code",
   "execution_count": 49,
   "metadata": {},
   "outputs": [],
   "source": [
    "def apartment_floor(row):\n",
    "    '''\n",
    "    Функция категоризирует данные по этажам на котором находится квартира.\n",
    "    Возвращает категорию 'первый' если значение столбца 'floor' == 1,\n",
    "    возвращает категорию 'последний' если значение столбца 'floor' == значению столбца 'floors_total',\n",
    "    иначе возвращает категорию 'другой'.\n",
    "    '''\n",
    "    floor = row['floor']\n",
    "    floors_total = row['floors_total']\n",
    "    if floor == 1:\n",
    "        return 'первый'\n",
    "    if floor == floors_total:\n",
    "        return 'последний'\n",
    "    return 'другой'"
   ]
  },
  {
   "cell_type": "code",
   "execution_count": 50,
   "metadata": {},
   "outputs": [],
   "source": [
    "# используем метод \"apply()\" и в качестве аргумента выступит функция\n",
    "df['apartment_floor'] = df.apply(apartment_floor, axis=1) # чтобы на вход подавались строки параметр axis=1"
   ]
  },
  {
   "cell_type": "markdown",
   "metadata": {},
   "source": [
    "Проверим значеня нового столбца `'apartment_floor'`:"
   ]
  },
  {
   "cell_type": "code",
   "execution_count": 51,
   "metadata": {},
   "outputs": [
    {
     "name": "stdout",
     "output_type": "stream",
     "text": [
      "['другой' 'первый' 'последний']\n"
     ]
    }
   ],
   "source": [
    "print(df['apartment_floor'].unique())"
   ]
  },
  {
   "cell_type": "markdown",
   "metadata": {},
   "source": [
    "Категоризация данных прошла успешно!"
   ]
  },
  {
   "cell_type": "markdown",
   "metadata": {},
   "source": [
    "### Отношение жилой площади к общей"
   ]
  },
  {
   "cell_type": "markdown",
   "metadata": {},
   "source": [
    "Добавим в таблицу столбец `\"living_total_area\"` - соотношение жилой и общей площади:"
   ]
  },
  {
   "cell_type": "code",
   "execution_count": 52,
   "metadata": {},
   "outputs": [],
   "source": [
    "df['living_total_area'] = df['living_area'] / df['total_area']"
   ]
  },
  {
   "cell_type": "markdown",
   "metadata": {},
   "source": [
    "Посмотрим на 5 строк нового столбца `'living_total_area'`:"
   ]
  },
  {
   "cell_type": "code",
   "execution_count": 53,
   "metadata": {},
   "outputs": [
    {
     "name": "stdout",
     "output_type": "stream",
     "text": [
      "0    0.472222\n",
      "1    0.460396\n",
      "2    0.612500\n",
      "3    0.942767\n",
      "4    0.320000\n",
      "Name: living_total_area, dtype: float64\n"
     ]
    }
   ],
   "source": [
    "print(df['living_total_area'].head())"
   ]
  },
  {
   "cell_type": "markdown",
   "metadata": {},
   "source": [
    "### Отношение площади кухни к общей"
   ]
  },
  {
   "cell_type": "markdown",
   "metadata": {},
   "source": [
    "Добавим в таблицу столбец `\"kitchen_total_area\"` - соотношение площади кухни к общей площади:"
   ]
  },
  {
   "cell_type": "code",
   "execution_count": 54,
   "metadata": {},
   "outputs": [],
   "source": [
    "df['kitchen_total_area'] = df['kitchen_area'] / df['total_area']"
   ]
  },
  {
   "cell_type": "markdown",
   "metadata": {},
   "source": [
    "Посмотрим на 5 строк нового столбца `'kitchen_total_area'`:"
   ]
  },
  {
   "cell_type": "code",
   "execution_count": 55,
   "metadata": {},
   "outputs": [
    {
     "name": "stdout",
     "output_type": "stream",
     "text": [
      "0    0.231481\n",
      "1    0.272277\n",
      "2    0.148214\n",
      "3    0.057233\n",
      "4    0.410000\n",
      "Name: kitchen_total_area, dtype: float64\n"
     ]
    }
   ],
   "source": [
    "print(df['kitchen_total_area'].head())"
   ]
  },
  {
   "cell_type": "markdown",
   "metadata": {},
   "source": [
    "### Вывод\n",
    "\n",
    "Мы рассчитали и добавили в таблицу цену квадратного метра, дату публикации, этаж квартиры, отношение жилой площади к общей и отношение площади кухни к общей."
   ]
  },
  {
   "cell_type": "markdown",
   "metadata": {},
   "source": [
    "## Исследовательский анализ данных"
   ]
  },
  {
   "cell_type": "markdown",
   "metadata": {},
   "source": [
    "### Изучение параметров: площадь, цена, число комнат, высота потолков"
   ]
  },
  {
   "cell_type": "markdown",
   "metadata": {},
   "source": [
    "Изучим следующие параметры: площадь, цена, число комнат, высота потолков:"
   ]
  },
  {
   "cell_type": "code",
   "execution_count": 56,
   "metadata": {},
   "outputs": [
    {
     "data": {
      "text/html": [
       "<div>\n",
       "<style scoped>\n",
       "    .dataframe tbody tr th:only-of-type {\n",
       "        vertical-align: middle;\n",
       "    }\n",
       "\n",
       "    .dataframe tbody tr th {\n",
       "        vertical-align: top;\n",
       "    }\n",
       "\n",
       "    .dataframe thead th {\n",
       "        text-align: right;\n",
       "    }\n",
       "</style>\n",
       "<table border=\"1\" class=\"dataframe\">\n",
       "  <thead>\n",
       "    <tr style=\"text-align: right;\">\n",
       "      <th></th>\n",
       "      <th>total_area</th>\n",
       "      <th>last_price</th>\n",
       "      <th>rooms</th>\n",
       "      <th>ceiling_height</th>\n",
       "    </tr>\n",
       "  </thead>\n",
       "  <tbody>\n",
       "    <tr>\n",
       "      <td>count</td>\n",
       "      <td>23650.000000</td>\n",
       "      <td>2.365000e+04</td>\n",
       "      <td>23650.000000</td>\n",
       "      <td>23650.000000</td>\n",
       "    </tr>\n",
       "    <tr>\n",
       "      <td>mean</td>\n",
       "      <td>60.329069</td>\n",
       "      <td>6.541127e+06</td>\n",
       "      <td>2.072727</td>\n",
       "      <td>2.724311</td>\n",
       "    </tr>\n",
       "    <tr>\n",
       "      <td>std</td>\n",
       "      <td>35.661808</td>\n",
       "      <td>1.089640e+07</td>\n",
       "      <td>1.075030</td>\n",
       "      <td>0.989255</td>\n",
       "    </tr>\n",
       "    <tr>\n",
       "      <td>min</td>\n",
       "      <td>12.000000</td>\n",
       "      <td>1.219000e+04</td>\n",
       "      <td>0.000000</td>\n",
       "      <td>1.000000</td>\n",
       "    </tr>\n",
       "    <tr>\n",
       "      <td>25%</td>\n",
       "      <td>40.000000</td>\n",
       "      <td>3.400000e+06</td>\n",
       "      <td>1.000000</td>\n",
       "      <td>2.600000</td>\n",
       "    </tr>\n",
       "    <tr>\n",
       "      <td>50%</td>\n",
       "      <td>52.000000</td>\n",
       "      <td>4.650000e+06</td>\n",
       "      <td>2.000000</td>\n",
       "      <td>2.650000</td>\n",
       "    </tr>\n",
       "    <tr>\n",
       "      <td>75%</td>\n",
       "      <td>69.700000</td>\n",
       "      <td>6.799000e+06</td>\n",
       "      <td>3.000000</td>\n",
       "      <td>2.700000</td>\n",
       "    </tr>\n",
       "    <tr>\n",
       "      <td>max</td>\n",
       "      <td>900.000000</td>\n",
       "      <td>7.630000e+08</td>\n",
       "      <td>19.000000</td>\n",
       "      <td>100.000000</td>\n",
       "    </tr>\n",
       "  </tbody>\n",
       "</table>\n",
       "</div>"
      ],
      "text/plain": [
       "         total_area    last_price         rooms  ceiling_height\n",
       "count  23650.000000  2.365000e+04  23650.000000    23650.000000\n",
       "mean      60.329069  6.541127e+06      2.072727        2.724311\n",
       "std       35.661808  1.089640e+07      1.075030        0.989255\n",
       "min       12.000000  1.219000e+04      0.000000        1.000000\n",
       "25%       40.000000  3.400000e+06      1.000000        2.600000\n",
       "50%       52.000000  4.650000e+06      2.000000        2.650000\n",
       "75%       69.700000  6.799000e+06      3.000000        2.700000\n",
       "max      900.000000  7.630000e+08     19.000000      100.000000"
      ]
     },
     "execution_count": 56,
     "metadata": {},
     "output_type": "execute_result"
    }
   ],
   "source": [
    "df[['total_area', 'last_price', 'rooms', 'ceiling_height']].describe() # посмотрим на числовые характеристики"
   ]
  },
  {
   "cell_type": "markdown",
   "metadata": {},
   "source": [
    "\n",
    "#### Площадь"
   ]
  },
  {
   "cell_type": "markdown",
   "metadata": {},
   "source": [
    "Построим гистограмму площади:"
   ]
  },
  {
   "cell_type": "code",
   "execution_count": 57,
   "metadata": {},
   "outputs": [
    {
     "data": {
      "image/png": "[encoded data removed]",
      "text/plain": [
       "<Figure size 432x288 with 1 Axes>"
      ]
     },
     "metadata": {
      "needs_background": "light"
     },
     "output_type": "display_data"
    }
   ],
   "source": [
    "import matplotlib.pyplot as plt # импортируем библиотеку matplotlib\n",
    "\n",
    "df['total_area'].hist()\n",
    "plt.show() # убираем техническую строку над графиком"
   ]
  },
  {
   "cell_type": "markdown",
   "metadata": {},
   "source": [
    "Из гистограммы видно, что основная часть площадей находится в пределах 200 квадратных метров, а значит в данных вероятно есть выбросы. Построим гистограмму с увеличенным числом корзин и уменьшим диапазон:"
   ]
  },
  {
   "cell_type": "code",
   "execution_count": 58,
   "metadata": {},
   "outputs": [
    {
     "data": {
      "image/png": "[encoded data removed]",
      "text/plain": [
       "<Figure size 432x288 with 1 Axes>"
      ]
     },
     "metadata": {
      "needs_background": "light"
     },
     "output_type": "display_data"
    }
   ],
   "source": [
    "df['total_area'].hist(bins=100, range=(30, 250))\n",
    "plt.show()"
   ]
  },
  {
   "cell_type": "markdown",
   "metadata": {},
   "source": [
    "Данная гистограмма похожа на распределение Пуассона. Первая четверть выборки Q1=40, а третий квартиль Q3=69.9 при медианном значении в 52. Есть минимальные и максимальные значения, но их совсем немного (например квартира 12 кв.м и 900 кв.м). Значит в таблице есть нетипичные значения - выбросы."
   ]
  },
  {
   "cell_type": "markdown",
   "metadata": {},
   "source": [
    "#### Цена"
   ]
  },
  {
   "cell_type": "markdown",
   "metadata": {},
   "source": [
    "Построим гистограмму цены:"
   ]
  },
  {
   "cell_type": "code",
   "execution_count": 59,
   "metadata": {},
   "outputs": [
    {
     "data": {
      "image/png": "[encoded data removed]",
      "text/plain": [
       "<Figure size 432x288 with 1 Axes>"
      ]
     },
     "metadata": {
      "needs_background": "light"
     },
     "output_type": "display_data"
    }
   ],
   "source": [
    "df['last_price'].hist()\n",
    "plt.show()"
   ]
  },
  {
   "cell_type": "markdown",
   "metadata": {},
   "source": [
    "Из гистограммы видно, что основная часть квартир продается в пределах 10 млн, а остальные данные вероятно выбросы. Построим гистограмму с увеличенным числом корзин и уменьшим диапазон:"
   ]
  },
  {
   "cell_type": "code",
   "execution_count": 60,
   "metadata": {},
   "outputs": [
    {
     "data": {
      "image/png": "[encoded data removed]",
      "text/plain": [
       "<Figure size 432x288 with 1 Axes>"
      ]
     },
     "metadata": {
      "needs_background": "light"
     },
     "output_type": "display_data"
    }
   ],
   "source": [
    "df['last_price'].hist(bins=100, range=(0, 40000000))\n",
    "plt.show()"
   ]
  },
  {
   "cell_type": "markdown",
   "metadata": {},
   "source": [
    "Первая четверть выборки Q1=3.4 млн, а третий квартиль Q3=763 млн при медианном значении в 4.65. Есть минимальные и максимальные значения, но их совсем немного (например квартира за 763 млн руб и за 12 тыс руб). Значит в таблице есть нетипичные значения - выбросы."
   ]
  },
  {
   "cell_type": "markdown",
   "metadata": {},
   "source": [
    "#### Число комнат"
   ]
  },
  {
   "cell_type": "markdown",
   "metadata": {},
   "source": [
    "Построим гистограмму числа комнат:"
   ]
  },
  {
   "cell_type": "code",
   "execution_count": 61,
   "metadata": {},
   "outputs": [
    {
     "data": {
      "image/png": "[encoded data removed]",
      "text/plain": [
       "<Figure size 432x288 with 1 Axes>"
      ]
     },
     "metadata": {
      "needs_background": "light"
     },
     "output_type": "display_data"
    }
   ],
   "source": [
    "df['rooms'].hist()\n",
    "plt.show()"
   ]
  },
  {
   "cell_type": "markdown",
   "metadata": {},
   "source": [
    "Из гистограммы видно, что основная часть числа комнат находится в пределах 6, а значит в данных вероятно есть выбросы. Построим гистограмму с увеличенным числом корзин:"
   ]
  },
  {
   "cell_type": "code",
   "execution_count": 62,
   "metadata": {},
   "outputs": [
    {
     "data": {
      "image/png": "[encoded data removed]",
      "text/plain": [
       "<Figure size 432x288 with 1 Axes>"
      ]
     },
     "metadata": {
      "needs_background": "light"
     },
     "output_type": "display_data"
    }
   ],
   "source": [
    "df['rooms'].hist(bins=100)\n",
    "plt.show()"
   ]
  },
  {
   "cell_type": "markdown",
   "metadata": {},
   "source": [
    "Первая четверть выборки Q1=1, а третий квартиль Q3=3 при медианном значении в 2. Есть максимальные значения, но их совсем немного (например число комнат в квартире равно 19). Значит в таблице есть нетипичные значения - выбросы."
   ]
  },
  {
   "cell_type": "markdown",
   "metadata": {},
   "source": [
    "#### Высота потолков"
   ]
  },
  {
   "cell_type": "markdown",
   "metadata": {},
   "source": [
    "Построим гистограмму высоты потолков:"
   ]
  },
  {
   "cell_type": "code",
   "execution_count": 63,
   "metadata": {},
   "outputs": [
    {
     "data": {
      "image/png": "[encoded data removed]",
      "text/plain": [
       "<Figure size 432x288 with 1 Axes>"
      ]
     },
     "metadata": {
      "needs_background": "light"
     },
     "output_type": "display_data"
    }
   ],
   "source": [
    "df['ceiling_height'].hist(bins=100, range=(2.5, 4))\n",
    "plt.show()"
   ]
  },
  {
   "cell_type": "markdown",
   "metadata": {},
   "source": [
    "Из гистограммы видно, что типичная высота потолка в пределах 2.65 м, первая четверть выборки Q1=2.6, а третий квартиль Q3=2.65 при медианном значении в 2.65, предполагаю, что гистограмма отображает нормальное распределение и не содержит нетипичных значений - выбросов."
   ]
  },
  {
   "cell_type": "markdown",
   "metadata": {},
   "source": [
    "###  Задания"
   ]
  },
  {
   "cell_type": "markdown",
   "metadata": {},
   "source": [
    "#### Время продажи квартиры"
   ]
  },
  {
   "cell_type": "markdown",
   "metadata": {},
   "source": [
    "Построим гистограмму времени продажи квартиры по столбцу `\"days_exposition\"`:"
   ]
  },
  {
   "cell_type": "code",
   "execution_count": 64,
   "metadata": {},
   "outputs": [
    {
     "data": {
      "image/png": "[encoded data removed]",
      "text/plain": [
       "<Figure size 432x288 with 1 Axes>"
      ]
     },
     "metadata": {
      "needs_background": "light"
     },
     "output_type": "display_data"
    }
   ],
   "source": [
    "df['days_exposition'].hist(bins=30)\n",
    "plt.show()"
   ]
  },
  {
   "cell_type": "markdown",
   "metadata": {},
   "source": [
    "На гистограмме видно что пиковое число значений находится у \"0\". Вспомним, что за \"0\" мы приняли пустые значения столбца опираясь на то, что на момент формирования таблицы объявление не было снято. Поэтому отфильтруем данные от значений-заглушек и изучить их еще раз: "
   ]
  },
  {
   "cell_type": "code",
   "execution_count": 65,
   "metadata": {},
   "outputs": [
    {
     "data": {
      "image/png": "[encoded data removed]",
      "text/plain": [
       "<Figure size 432x288 with 1 Axes>"
      ]
     },
     "metadata": {
      "needs_background": "light"
     },
     "output_type": "display_data"
    }
   ],
   "source": [
    "days_exposition_filter = df[df['days_exposition'] != 0] # выполняем срез для фильтрации данных от значений-заглушек\n",
    "days_exposition_filter['days_exposition'].hist(bins=30)\n",
    "plt.show()"
   ]
  },
  {
   "cell_type": "markdown",
   "metadata": {},
   "source": [
    "Выведем список характерных значений:"
   ]
  },
  {
   "cell_type": "code",
   "execution_count": 66,
   "metadata": {},
   "outputs": [
    {
     "name": "stdout",
     "output_type": "stream",
     "text": [
      "count    20470.000000\n",
      "mean       180.753200\n",
      "std        219.777916\n",
      "min          1.000000\n",
      "25%         45.000000\n",
      "50%         95.000000\n",
      "75%        231.000000\n",
      "max       1580.000000\n",
      "Name: days_exposition, dtype: float64\n"
     ]
    }
   ],
   "source": [
    "print(days_exposition_filter['days_exposition'].describe())"
   ]
  },
  {
   "cell_type": "markdown",
   "metadata": {},
   "source": [
    "Среднее значение времени продажи равно 180 дням, а медианное 95 дней.\n",
    "\n",
    "Исходя из вышеизложенного можно предположить, что обычно продажа занимает примерно пол года.\n",
    "Можно считать, что продажи прошли очень быстро если значение `\"days_exposition\"` не превышает 1 - 1,5 месяца, а когда значение `\"days_exposition\"` больше 2,5 - 3 года, то продажа происходит довольно долго, ну и нетипичные значения выше 1000 и уж тем более наподобие максимальных 1580 дней похожи на выбросы, потому как это необычно долго."
   ]
  },
  {
   "cell_type": "markdown",
   "metadata": {},
   "source": [
    "#### Редкие и выбивающиеся значения"
   ]
  },
  {
   "cell_type": "markdown",
   "metadata": {},
   "source": [
    "Выведем список характерных значений для всех данных таблицы:"
   ]
  },
  {
   "cell_type": "code",
   "execution_count": 67,
   "metadata": {},
   "outputs": [
    {
     "data": {
      "text/html": [
       "<div>\n",
       "<style scoped>\n",
       "    .dataframe tbody tr th:only-of-type {\n",
       "        vertical-align: middle;\n",
       "    }\n",
       "\n",
       "    .dataframe tbody tr th {\n",
       "        vertical-align: top;\n",
       "    }\n",
       "\n",
       "    .dataframe thead th {\n",
       "        text-align: right;\n",
       "    }\n",
       "</style>\n",
       "<table border=\"1\" class=\"dataframe\">\n",
       "  <thead>\n",
       "    <tr style=\"text-align: right;\">\n",
       "      <th></th>\n",
       "      <th>total_images</th>\n",
       "      <th>last_price</th>\n",
       "      <th>total_area</th>\n",
       "      <th>rooms</th>\n",
       "      <th>ceiling_height</th>\n",
       "      <th>floors_total</th>\n",
       "      <th>living_area</th>\n",
       "      <th>floor</th>\n",
       "      <th>kitchen_area</th>\n",
       "      <th>balcony</th>\n",
       "      <th>airports_nearest</th>\n",
       "      <th>city_centers_nearest</th>\n",
       "      <th>parks_around</th>\n",
       "      <th>parks_nearest</th>\n",
       "      <th>ponds_around</th>\n",
       "      <th>ponds_nearest</th>\n",
       "      <th>days_exposition</th>\n",
       "      <th>price_square_meter</th>\n",
       "      <th>weekday_publication</th>\n",
       "      <th>months_publication</th>\n",
       "      <th>years_publication</th>\n",
       "      <th>living_total_area</th>\n",
       "      <th>kitchen_total_area</th>\n",
       "    </tr>\n",
       "  </thead>\n",
       "  <tbody>\n",
       "    <tr>\n",
       "      <td>count</td>\n",
       "      <td>23650.000000</td>\n",
       "      <td>2.365000e+04</td>\n",
       "      <td>23650.000000</td>\n",
       "      <td>23650.000000</td>\n",
       "      <td>23650.000000</td>\n",
       "      <td>23650.000000</td>\n",
       "      <td>23650.000000</td>\n",
       "      <td>23650.000000</td>\n",
       "      <td>23650.000000</td>\n",
       "      <td>23650.000000</td>\n",
       "      <td>23650.000000</td>\n",
       "      <td>23650.000000</td>\n",
       "      <td>23650.000000</td>\n",
       "      <td>23650.000000</td>\n",
       "      <td>23650.000000</td>\n",
       "      <td>23650.000000</td>\n",
       "      <td>23650.000000</td>\n",
       "      <td>2.365000e+04</td>\n",
       "      <td>23650.000000</td>\n",
       "      <td>23650.000000</td>\n",
       "      <td>23650.000000</td>\n",
       "      <td>23650.000000</td>\n",
       "      <td>23650.000000</td>\n",
       "    </tr>\n",
       "    <tr>\n",
       "      <td>mean</td>\n",
       "      <td>9.862326</td>\n",
       "      <td>6.541127e+06</td>\n",
       "      <td>60.329069</td>\n",
       "      <td>2.072727</td>\n",
       "      <td>2.724311</td>\n",
       "      <td>10.669852</td>\n",
       "      <td>35.957086</td>\n",
       "      <td>5.893277</td>\n",
       "      <td>10.425715</td>\n",
       "      <td>0.591712</td>\n",
       "      <td>22063.158816</td>\n",
       "      <td>10889.195983</td>\n",
       "      <td>0.236110</td>\n",
       "      <td>166.700761</td>\n",
       "      <td>0.357378</td>\n",
       "      <td>198.393615</td>\n",
       "      <td>156.448964</td>\n",
       "      <td>9.943180e+04</td>\n",
       "      <td>2.568710</td>\n",
       "      <td>6.401564</td>\n",
       "      <td>2017.370021</td>\n",
       "      <td>0.584371</td>\n",
       "      <td>0.189477</td>\n",
       "    </tr>\n",
       "    <tr>\n",
       "      <td>std</td>\n",
       "      <td>5.682278</td>\n",
       "      <td>1.089640e+07</td>\n",
       "      <td>35.661808</td>\n",
       "      <td>1.075030</td>\n",
       "      <td>0.989255</td>\n",
       "      <td>6.583725</td>\n",
       "      <td>25.033227</td>\n",
       "      <td>4.883317</td>\n",
       "      <td>5.628088</td>\n",
       "      <td>0.959662</td>\n",
       "      <td>16463.620576</td>\n",
       "      <td>9635.794850</td>\n",
       "      <td>0.978512</td>\n",
       "      <td>307.191767</td>\n",
       "      <td>1.111057</td>\n",
       "      <td>305.605088</td>\n",
       "      <td>213.564548</td>\n",
       "      <td>5.033794e+04</td>\n",
       "      <td>1.788808</td>\n",
       "      <td>3.491418</td>\n",
       "      <td>1.037806</td>\n",
       "      <td>0.123137</td>\n",
       "      <td>0.075805</td>\n",
       "    </tr>\n",
       "    <tr>\n",
       "      <td>min</td>\n",
       "      <td>0.000000</td>\n",
       "      <td>1.219000e+04</td>\n",
       "      <td>12.000000</td>\n",
       "      <td>0.000000</td>\n",
       "      <td>1.000000</td>\n",
       "      <td>1.000000</td>\n",
       "      <td>2.000000</td>\n",
       "      <td>1.000000</td>\n",
       "      <td>1.300000</td>\n",
       "      <td>0.000000</td>\n",
       "      <td>-1.000000</td>\n",
       "      <td>-1.000000</td>\n",
       "      <td>-1.000000</td>\n",
       "      <td>-1.000000</td>\n",
       "      <td>-1.000000</td>\n",
       "      <td>-1.000000</td>\n",
       "      <td>0.000000</td>\n",
       "      <td>1.110000e+02</td>\n",
       "      <td>0.000000</td>\n",
       "      <td>1.000000</td>\n",
       "      <td>2014.000000</td>\n",
       "      <td>0.021583</td>\n",
       "      <td>0.018200</td>\n",
       "    </tr>\n",
       "    <tr>\n",
       "      <td>25%</td>\n",
       "      <td>6.000000</td>\n",
       "      <td>3.400000e+06</td>\n",
       "      <td>40.000000</td>\n",
       "      <td>1.000000</td>\n",
       "      <td>2.600000</td>\n",
       "      <td>5.000000</td>\n",
       "      <td>19.000000</td>\n",
       "      <td>2.000000</td>\n",
       "      <td>7.300000</td>\n",
       "      <td>0.000000</td>\n",
       "      <td>10147.000000</td>\n",
       "      <td>2242.000000</td>\n",
       "      <td>0.000000</td>\n",
       "      <td>-1.000000</td>\n",
       "      <td>0.000000</td>\n",
       "      <td>-1.000000</td>\n",
       "      <td>22.000000</td>\n",
       "      <td>7.661425e+04</td>\n",
       "      <td>1.000000</td>\n",
       "      <td>3.000000</td>\n",
       "      <td>2017.000000</td>\n",
       "      <td>0.500000</td>\n",
       "      <td>0.133824</td>\n",
       "    </tr>\n",
       "    <tr>\n",
       "      <td>50%</td>\n",
       "      <td>9.000000</td>\n",
       "      <td>4.650000e+06</td>\n",
       "      <td>52.000000</td>\n",
       "      <td>2.000000</td>\n",
       "      <td>2.650000</td>\n",
       "      <td>9.000000</td>\n",
       "      <td>30.800000</td>\n",
       "      <td>4.000000</td>\n",
       "      <td>9.100000</td>\n",
       "      <td>0.000000</td>\n",
       "      <td>21868.000000</td>\n",
       "      <td>11250.000000</td>\n",
       "      <td>0.000000</td>\n",
       "      <td>-1.000000</td>\n",
       "      <td>0.000000</td>\n",
       "      <td>-1.000000</td>\n",
       "      <td>73.000000</td>\n",
       "      <td>9.500000e+04</td>\n",
       "      <td>3.000000</td>\n",
       "      <td>6.000000</td>\n",
       "      <td>2017.000000</td>\n",
       "      <td>0.580645</td>\n",
       "      <td>0.173913</td>\n",
       "    </tr>\n",
       "    <tr>\n",
       "      <td>75%</td>\n",
       "      <td>14.000000</td>\n",
       "      <td>6.799000e+06</td>\n",
       "      <td>69.700000</td>\n",
       "      <td>3.000000</td>\n",
       "      <td>2.700000</td>\n",
       "      <td>16.000000</td>\n",
       "      <td>43.200000</td>\n",
       "      <td>8.000000</td>\n",
       "      <td>11.427500</td>\n",
       "      <td>1.000000</td>\n",
       "      <td>34358.000000</td>\n",
       "      <td>15247.000000</td>\n",
       "      <td>1.000000</td>\n",
       "      <td>301.000000</td>\n",
       "      <td>1.000000</td>\n",
       "      <td>389.000000</td>\n",
       "      <td>198.000000</td>\n",
       "      <td>1.142740e+05</td>\n",
       "      <td>4.000000</td>\n",
       "      <td>10.000000</td>\n",
       "      <td>2018.000000</td>\n",
       "      <td>0.658333</td>\n",
       "      <td>0.234694</td>\n",
       "    </tr>\n",
       "    <tr>\n",
       "      <td>max</td>\n",
       "      <td>50.000000</td>\n",
       "      <td>7.630000e+08</td>\n",
       "      <td>900.000000</td>\n",
       "      <td>19.000000</td>\n",
       "      <td>100.000000</td>\n",
       "      <td>60.000000</td>\n",
       "      <td>571.000000</td>\n",
       "      <td>33.000000</td>\n",
       "      <td>112.000000</td>\n",
       "      <td>5.000000</td>\n",
       "      <td>84869.000000</td>\n",
       "      <td>65968.000000</td>\n",
       "      <td>3.000000</td>\n",
       "      <td>3190.000000</td>\n",
       "      <td>3.000000</td>\n",
       "      <td>1344.000000</td>\n",
       "      <td>1580.000000</td>\n",
       "      <td>1.907500e+06</td>\n",
       "      <td>6.000000</td>\n",
       "      <td>12.000000</td>\n",
       "      <td>2019.000000</td>\n",
       "      <td>1.000000</td>\n",
       "      <td>0.787879</td>\n",
       "    </tr>\n",
       "  </tbody>\n",
       "</table>\n",
       "</div>"
      ],
      "text/plain": [
       "       total_images    last_price    total_area         rooms  ceiling_height  \\\n",
       "count  23650.000000  2.365000e+04  23650.000000  23650.000000    23650.000000   \n",
       "mean       9.862326  6.541127e+06     60.329069      2.072727        2.724311   \n",
       "std        5.682278  1.089640e+07     35.661808      1.075030        0.989255   \n",
       "min        0.000000  1.219000e+04     12.000000      0.000000        1.000000   \n",
       "25%        6.000000  3.400000e+06     40.000000      1.000000        2.600000   \n",
       "50%        9.000000  4.650000e+06     52.000000      2.000000        2.650000   \n",
       "75%       14.000000  6.799000e+06     69.700000      3.000000        2.700000   \n",
       "max       50.000000  7.630000e+08    900.000000     19.000000      100.000000   \n",
       "\n",
       "       floors_total   living_area         floor  kitchen_area       balcony  \\\n",
       "count  23650.000000  23650.000000  23650.000000  23650.000000  23650.000000   \n",
       "mean      10.669852     35.957086      5.893277     10.425715      0.591712   \n",
       "std        6.583725     25.033227      4.883317      5.628088      0.959662   \n",
       "min        1.000000      2.000000      1.000000      1.300000      0.000000   \n",
       "25%        5.000000     19.000000      2.000000      7.300000      0.000000   \n",
       "50%        9.000000     30.800000      4.000000      9.100000      0.000000   \n",
       "75%       16.000000     43.200000      8.000000     11.427500      1.000000   \n",
       "max       60.000000    571.000000     33.000000    112.000000      5.000000   \n",
       "\n",
       "       airports_nearest  city_centers_nearest  parks_around  parks_nearest  \\\n",
       "count      23650.000000          23650.000000  23650.000000   23650.000000   \n",
       "mean       22063.158816          10889.195983      0.236110     166.700761   \n",
       "std        16463.620576           9635.794850      0.978512     307.191767   \n",
       "min           -1.000000             -1.000000     -1.000000      -1.000000   \n",
       "25%        10147.000000           2242.000000      0.000000      -1.000000   \n",
       "50%        21868.000000          11250.000000      0.000000      -1.000000   \n",
       "75%        34358.000000          15247.000000      1.000000     301.000000   \n",
       "max        84869.000000          65968.000000      3.000000    3190.000000   \n",
       "\n",
       "       ponds_around  ponds_nearest  days_exposition  price_square_meter  \\\n",
       "count  23650.000000   23650.000000     23650.000000        2.365000e+04   \n",
       "mean       0.357378     198.393615       156.448964        9.943180e+04   \n",
       "std        1.111057     305.605088       213.564548        5.033794e+04   \n",
       "min       -1.000000      -1.000000         0.000000        1.110000e+02   \n",
       "25%        0.000000      -1.000000        22.000000        7.661425e+04   \n",
       "50%        0.000000      -1.000000        73.000000        9.500000e+04   \n",
       "75%        1.000000     389.000000       198.000000        1.142740e+05   \n",
       "max        3.000000    1344.000000      1580.000000        1.907500e+06   \n",
       "\n",
       "       weekday_publication  months_publication  years_publication  \\\n",
       "count         23650.000000        23650.000000       23650.000000   \n",
       "mean              2.568710            6.401564        2017.370021   \n",
       "std               1.788808            3.491418           1.037806   \n",
       "min               0.000000            1.000000        2014.000000   \n",
       "25%               1.000000            3.000000        2017.000000   \n",
       "50%               3.000000            6.000000        2017.000000   \n",
       "75%               4.000000           10.000000        2018.000000   \n",
       "max               6.000000           12.000000        2019.000000   \n",
       "\n",
       "       living_total_area  kitchen_total_area  \n",
       "count       23650.000000        23650.000000  \n",
       "mean            0.584371            0.189477  \n",
       "std             0.123137            0.075805  \n",
       "min             0.021583            0.018200  \n",
       "25%             0.500000            0.133824  \n",
       "50%             0.580645            0.173913  \n",
       "75%             0.658333            0.234694  \n",
       "max             1.000000            0.787879  "
      ]
     },
     "execution_count": 67,
     "metadata": {},
     "output_type": "execute_result"
    }
   ],
   "source": [
    "df.describe()"
   ]
  },
  {
   "cell_type": "markdown",
   "metadata": {},
   "source": [
    "Подозрительными выглядят значения в столбцах `last_price`, `total_area`, `rooms`, `living_area`, `kitchen_area` и `days_exposition`. Посмотрим на их значения более подробно:"
   ]
  },
  {
   "cell_type": "markdown",
   "metadata": {},
   "source": [
    "##### Цена квартиры"
   ]
  },
  {
   "cell_type": "markdown",
   "metadata": {},
   "source": [
    "Построим гистограмму цены на квартиру по столбцу `\"last_price\"`:"
   ]
  },
  {
   "cell_type": "code",
   "execution_count": 68,
   "metadata": {},
   "outputs": [
    {
     "data": {
      "image/png": "[encoded data removed]",
      "text/plain": [
       "<Figure size 432x288 with 1 Axes>"
      ]
     },
     "metadata": {
      "needs_background": "light"
     },
     "output_type": "display_data"
    }
   ],
   "source": [
    "df['last_price'].hist(bins=100)\n",
    "plt.show()"
   ]
  },
  {
   "cell_type": "markdown",
   "metadata": {},
   "source": [
    "По гистограмме видно, что цена более 25 млн руб практически не встречается. Посчитаем долю квартир по цене более 25 млн руб от общего количества квартир:"
   ]
  },
  {
   "cell_type": "code",
   "execution_count": 69,
   "metadata": {},
   "outputs": [
    {
     "name": "stdout",
     "output_type": "stream",
     "text": [
      "Доля квартир дороже 25 млн.руб. равна: 1.96%\n"
     ]
    }
   ],
   "source": [
    "print('Доля квартир дороже 25 млн.руб. равна: {:.2%}'\n",
    "    .format(df[df['last_price'] > 25000000]['last_price'].count()/len(df['last_price'])))"
   ]
  },
  {
   "cell_type": "markdown",
   "metadata": {},
   "source": [
    "Также нам известно, что в столбце есть минимальная цена в 12 тыс.руб, поэтому проанализируем долю квартир дешевле 1 млн.руб.:"
   ]
  },
  {
   "cell_type": "code",
   "execution_count": 70,
   "metadata": {},
   "outputs": [
    {
     "name": "stdout",
     "output_type": "stream",
     "text": [
      "Доля квартир дешевле 1 млн.руб. равна: 0.95%\n"
     ]
    }
   ],
   "source": [
    "print('Доля квартир дешевле 1 млн.руб. равна: {:.2%}'\n",
    "      .format(df[df['last_price'] < 1000000]['last_price'].count()/len(df['last_price'])))"
   ]
  },
  {
   "cell_type": "markdown",
   "metadata": {},
   "source": [
    "Как видим доля квартир дешевле 1 млн.руб. и дороже 25 млн.руб. составляет менее 3% от общего числа, поэтому можно ее отбросить и построить гистограмму по срезу:"
   ]
  },
  {
   "cell_type": "code",
   "execution_count": 71,
   "metadata": {},
   "outputs": [
    {
     "data": {
      "image/png": "[encoded data removed]",
      "text/plain": [
       "<Figure size 432x288 with 1 Axes>"
      ]
     },
     "metadata": {
      "needs_background": "light"
     },
     "output_type": "display_data"
    }
   ],
   "source": [
    "last_price_filter = df[(df['last_price'] > 1000000) & (df['last_price'] < 25000000)]\n",
    "last_price_filter['last_price'].hist(bins=100)\n",
    "plt.show()"
   ]
  },
  {
   "cell_type": "markdown",
   "metadata": {},
   "source": [
    "По гистограмме можно сказать, что типичыми нормальными значениями являются цены от 1 млн.руб. до 15 млн.руб."
   ]
  },
  {
   "cell_type": "markdown",
   "metadata": {},
   "source": [
    "##### Площадь квартиры"
   ]
  },
  {
   "cell_type": "markdown",
   "metadata": {},
   "source": [
    "Построим гистограмму общей площади квартиры по столбцу `\"total_area\"`:"
   ]
  },
  {
   "cell_type": "code",
   "execution_count": 72,
   "metadata": {},
   "outputs": [
    {
     "data": {
      "image/png": "[encoded data removed]",
      "text/plain": [
       "<Figure size 432x288 with 1 Axes>"
      ]
     },
     "metadata": {
      "needs_background": "light"
     },
     "output_type": "display_data"
    }
   ],
   "source": [
    "df['total_area'].hist(bins=100)\n",
    "plt.show()"
   ]
  },
  {
   "cell_type": "markdown",
   "metadata": {},
   "source": [
    "По гистограмме видим, что значения выше 200 встречаются совсем редко, а так же нам известно, что минимальное значение для данного столбца равно 12, что не особо похоже на правду. Посчитаем количество выбросов по условию: менее 20 и более 200."
   ]
  },
  {
   "cell_type": "code",
   "execution_count": 73,
   "metadata": {},
   "outputs": [
    {
     "name": "stdout",
     "output_type": "stream",
     "text": [
      "Доля квартир площадью менее 20 кв.м. равна: 0.11%\n",
      "Доля квартир площадью более 200 кв.м. равна: 0.96%\n"
     ]
    }
   ],
   "source": [
    "print('Доля квартир площадью менее 20 кв.м. равна: {:.2%}'\n",
    "    .format(df[df['total_area'] < 20]['total_area'].count()/len(df['total_area'])))\n",
    "print('Доля квартир площадью более 200 кв.м. равна: {:.2%}'\n",
    "    .format(df[df['total_area'] > 200]['total_area'].count()/len(df['total_area'])))"
   ]
  },
  {
   "cell_type": "markdown",
   "metadata": {},
   "source": [
    "Как видим нетипичные значения составляют чуть более 1% от общего количества, поэтому можем их отбросить:"
   ]
  },
  {
   "cell_type": "code",
   "execution_count": 74,
   "metadata": {},
   "outputs": [
    {
     "data": {
      "image/png": "[encoded data removed]",
      "text/plain": [
       "<Figure size 432x288 with 1 Axes>"
      ]
     },
     "metadata": {
      "needs_background": "light"
     },
     "output_type": "display_data"
    }
   ],
   "source": [
    "total_area_filter = df[(df['total_area'] < 200) & (df['total_area'] > 20)]\n",
    "total_area_filter['total_area'].hist(bins=100)\n",
    "plt.show()"
   ]
  },
  {
   "cell_type": "markdown",
   "metadata": {},
   "source": [
    "По гистограмме можно сказать, что типичыми нормальными значениями являются квартиры площадью от 20 кв.м. до 150 кв.м."
   ]
  },
  {
   "cell_type": "markdown",
   "metadata": {},
   "source": [
    "##### Количество комнат"
   ]
  },
  {
   "cell_type": "markdown",
   "metadata": {},
   "source": [
    "Построим гистограмму количества комнат квартиры по столбцу `\"rooms\"`:"
   ]
  },
  {
   "cell_type": "code",
   "execution_count": 75,
   "metadata": {},
   "outputs": [
    {
     "data": {
      "image/png": "[encoded data removed]",
      "text/plain": [
       "<Figure size 432x288 with 1 Axes>"
      ]
     },
     "metadata": {
      "needs_background": "light"
     },
     "output_type": "display_data"
    }
   ],
   "source": [
    "df['rooms'].hist(bins=100)\n",
    "plt.show()"
   ]
  },
  {
   "cell_type": "markdown",
   "metadata": {},
   "source": [
    "По гистограмме видим, что значения выше 5 встречаются совсем редко. Посчитаем количество выбросов по условию: более или равно 5."
   ]
  },
  {
   "cell_type": "code",
   "execution_count": 76,
   "metadata": {},
   "outputs": [
    {
     "name": "stdout",
     "output_type": "stream",
     "text": [
      "Доля количества комнат квартиры 5 ед. и более равна: 2.20%\n"
     ]
    }
   ],
   "source": [
    "print('Доля количества комнат квартиры 5 ед. и более равна: {:.2%}'\n",
    "    .format(df[df['rooms'] >= 5]['rooms'].count()/len(df['rooms'])))"
   ]
  },
  {
   "cell_type": "markdown",
   "metadata": {},
   "source": [
    "Как видим нетипичные значения составляют менее 1% от общего количества, поэтому можем их отбросить:"
   ]
  },
  {
   "cell_type": "code",
   "execution_count": 77,
   "metadata": {},
   "outputs": [
    {
     "data": {
      "image/png": "[encoded data removed]",
      "text/plain": [
       "<Figure size 432x288 with 1 Axes>"
      ]
     },
     "metadata": {
      "needs_background": "light"
     },
     "output_type": "display_data"
    }
   ],
   "source": [
    "rooms_filter = df[df['rooms'] <= 5]\n",
    "rooms_filter['rooms'].hist()\n",
    "plt.show()"
   ]
  },
  {
   "cell_type": "markdown",
   "metadata": {},
   "source": [
    "По гистограмме можно сказать, что типичыми нормальными значениями являются число комнат квартир равные от 1 до 5 ед. Причем количество четырех- и пятикомнатных квартир намного меньше по сравнению с другими одно-, двух-, и трехкомнатными квартирами."
   ]
  },
  {
   "cell_type": "markdown",
   "metadata": {},
   "source": [
    "##### Жилая площадь квартиры"
   ]
  },
  {
   "cell_type": "markdown",
   "metadata": {},
   "source": [
    "Построим гистограмму жилой площади квартиры по столбцу `\"living_area\"`:"
   ]
  },
  {
   "cell_type": "code",
   "execution_count": 78,
   "metadata": {},
   "outputs": [
    {
     "data": {
      "image/png": "[encoded data removed]",
      "text/plain": [
       "<Figure size 432x288 with 1 Axes>"
      ]
     },
     "metadata": {
      "needs_background": "light"
     },
     "output_type": "display_data"
    }
   ],
   "source": [
    "df['living_area'].hist(bins=100)\n",
    "plt.show()"
   ]
  },
  {
   "cell_type": "markdown",
   "metadata": {},
   "source": [
    "По гистограмме видим, что значения выше 200 встречаются совсем редко, а так же нам известно, что минимальное значение для данного столбца равно 2, что не особо похоже на правду. Посчитаем количество выбросов по условию: менее 10 и более 200."
   ]
  },
  {
   "cell_type": "code",
   "execution_count": 79,
   "metadata": {},
   "outputs": [
    {
     "name": "stdout",
     "output_type": "stream",
     "text": [
      "Доля квартир жилой площадью менее 10 кв.м. равна: 0.14%\n",
      "Доля квартир жилой площадью более 200 кв.м. равна: 0.71%\n"
     ]
    }
   ],
   "source": [
    "print('Доля квартир жилой площадью менее 10 кв.м. равна: {:.2%}'\n",
    "    .format(df[df['living_area'] < 10]['living_area'].count()/len(df['living_area'])))\n",
    "print('Доля квартир жилой площадью более 200 кв.м. равна: {:.2%}'\n",
    "    .format(df[df['living_area'] > 150]['living_area'].count()/len(df['living_area'])))"
   ]
  },
  {
   "cell_type": "markdown",
   "metadata": {},
   "source": [
    "Как видим нетипичные значения составляют менее 1% от общего количества, поэтому можем их отбросить:"
   ]
  },
  {
   "cell_type": "code",
   "execution_count": 80,
   "metadata": {},
   "outputs": [
    {
     "data": {
      "image/png": "[encoded data removed]",
      "text/plain": [
       "<Figure size 432x288 with 1 Axes>"
      ]
     },
     "metadata": {
      "needs_background": "light"
     },
     "output_type": "display_data"
    }
   ],
   "source": [
    "living_area_filter = df[(df['living_area'] < 150) & (df['living_area'] > 10)]\n",
    "living_area_filter['living_area'].hist(bins=100)\n",
    "plt.show()"
   ]
  },
  {
   "cell_type": "markdown",
   "metadata": {},
   "source": [
    "По гистограмме можно сказать, что типичыми нормальными значениями являются жилые площади квартир от 15 до 25 ед. и от 30 до 50 ед. Можно предположить, что эти значения связаны с количеством комнат в квартирах."
   ]
  },
  {
   "cell_type": "markdown",
   "metadata": {},
   "source": [
    "##### Площадь кухни"
   ]
  },
  {
   "cell_type": "markdown",
   "metadata": {},
   "source": [
    "Построим гистограмму площади кухни по столбцу `\"kitchen_area\"`:"
   ]
  },
  {
   "cell_type": "code",
   "execution_count": 81,
   "metadata": {},
   "outputs": [
    {
     "data": {
      "image/png": "[encoded data removed]",
      "text/plain": [
       "<Figure size 432x288 with 1 Axes>"
      ]
     },
     "metadata": {
      "needs_background": "light"
     },
     "output_type": "display_data"
    }
   ],
   "source": [
    "df['kitchen_area'].hist(bins=100)\n",
    "plt.show()"
   ]
  },
  {
   "cell_type": "markdown",
   "metadata": {},
   "source": [
    "По гистограмме видим, что значения выше 30 встречаются совсем редко, а так же нам известно, что минимальное значение для данного столбца равно 1.3, что не особо похоже на правду. Посчитаем количество выбросов по условию: менее 5 и более 30."
   ]
  },
  {
   "cell_type": "code",
   "execution_count": 82,
   "metadata": {},
   "outputs": [
    {
     "name": "stdout",
     "output_type": "stream",
     "text": [
      "Доля квартир с площадью кухни менее 5 кв.м. равна: 0.44%\n",
      "Доля квартир с площадью кухни более 30 кв.м. равна: 1.36%\n"
     ]
    }
   ],
   "source": [
    "print('Доля квартир с площадью кухни менее 5 кв.м. равна: {:.2%}'\n",
    "    .format(df[df['kitchen_area'] < 5]['kitchen_area'].count()/len(df['kitchen_area'])))\n",
    "print('Доля квартир с площадью кухни более 30 кв.м. равна: {:.2%}'\n",
    "    .format(df[df['kitchen_area'] > 30]['kitchen_area'].count()/len(df['kitchen_area'])))"
   ]
  },
  {
   "cell_type": "markdown",
   "metadata": {},
   "source": [
    "Как видим нетипичные значения составляют менее 2% от общего количества, поэтому можем их отбросить:"
   ]
  },
  {
   "cell_type": "code",
   "execution_count": 83,
   "metadata": {},
   "outputs": [
    {
     "data": {
      "image/png": "[encoded data removed]",
      "text/plain": [
       "<Figure size 432x288 with 1 Axes>"
      ]
     },
     "metadata": {
      "needs_background": "light"
     },
     "output_type": "display_data"
    }
   ],
   "source": [
    "kitchen_area_filter = df[(df['kitchen_area'] < 30) & (df['kitchen_area'] > 5)]\n",
    "kitchen_area_filter['kitchen_area'].hist(bins=100)\n",
    "plt.show()"
   ]
  },
  {
   "cell_type": "markdown",
   "metadata": {},
   "source": [
    "По гистограмме можно сказать, что типичыми нормальными значениями являются площади кухни от 5 до 20 ед. Можно предположить, что эти значения связаны с общей площадью квартир."
   ]
  },
  {
   "cell_type": "code",
   "execution_count": 84,
   "metadata": {},
   "outputs": [],
   "source": [
    "# отфильтруем и сохраним общие данные, которые не являются аномальными в переменную filter_df\n",
    "filter_df = (df\n",
    " .query('total_area < 200 and total_area > 20 and\\\n",
    "       last_price > 1000000 and last_price < 25000000 and\\\n",
    "       rooms <= 5 and\\\n",
    "       living_area < 150 and living_area > 10 and\\\n",
    "       ceiling_height <= 3 and\\\n",
    "       kitchen_area < 30 and kitchen_area > 5'))"
   ]
  },
  {
   "cell_type": "markdown",
   "metadata": {},
   "source": [
    "##### Количество дней размещения объявления"
   ]
  },
  {
   "cell_type": "markdown",
   "metadata": {},
   "source": [
    "Данный столбец `\"days_exposition\"` разобран в пункте **4.2.1 Время продажи квартиры**"
   ]
  },
  {
   "cell_type": "markdown",
   "metadata": {},
   "source": [
    "#### Факторы, влияющие на стоимость квартиры"
   ]
  },
  {
   "cell_type": "markdown",
   "metadata": {},
   "source": [
    "##### Зависимость цены от квадратного метра"
   ]
  },
  {
   "cell_type": "markdown",
   "metadata": {},
   "source": [
    "Для анализа зависимости цены от квадратного метра будем использовать данные из столбцов `\"last_price\"` и `\"total_area\"`.\n",
    "Для этого отбросим нетипичные значения, определенные ранее и построим по ним диаграмму рассеяния:"
   ]
  },
  {
   "cell_type": "code",
   "execution_count": 85,
   "metadata": {},
   "outputs": [
    {
     "data": {
      "image/png": "[encoded data removed]",
      "text/plain": [
       "<Figure size 432x288 with 1 Axes>"
      ]
     },
     "metadata": {
      "needs_background": "light"
     },
     "output_type": "display_data"
    }
   ],
   "source": [
    "(filter_df\n",
    ".plot(x='total_area', y='last_price', kind='scatter', alpha=0.03, grid=True)\n",
    ")\n",
    "plt.show()"
   ]
  },
  {
   "cell_type": "markdown",
   "metadata": {},
   "source": [
    "Найдем коэффициент корреляции Пирсона для столбцов `\"last_price\"` и `\"total_area\"`:"
   ]
  },
  {
   "cell_type": "code",
   "execution_count": 86,
   "metadata": {},
   "outputs": [
    {
     "data": {
      "text/html": [
       "<div>\n",
       "<style scoped>\n",
       "    .dataframe tbody tr th:only-of-type {\n",
       "        vertical-align: middle;\n",
       "    }\n",
       "\n",
       "    .dataframe tbody tr th {\n",
       "        vertical-align: top;\n",
       "    }\n",
       "\n",
       "    .dataframe thead th {\n",
       "        text-align: right;\n",
       "    }\n",
       "</style>\n",
       "<table border=\"1\" class=\"dataframe\">\n",
       "  <thead>\n",
       "    <tr style=\"text-align: right;\">\n",
       "      <th></th>\n",
       "      <th>last_price</th>\n",
       "      <th>total_area</th>\n",
       "    </tr>\n",
       "  </thead>\n",
       "  <tbody>\n",
       "    <tr>\n",
       "      <td>last_price</td>\n",
       "      <td>1.000000</td>\n",
       "      <td>0.754994</td>\n",
       "    </tr>\n",
       "    <tr>\n",
       "      <td>total_area</td>\n",
       "      <td>0.754994</td>\n",
       "      <td>1.000000</td>\n",
       "    </tr>\n",
       "  </tbody>\n",
       "</table>\n",
       "</div>"
      ],
      "text/plain": [
       "            last_price  total_area\n",
       "last_price    1.000000    0.754994\n",
       "total_area    0.754994    1.000000"
      ]
     },
     "execution_count": 86,
     "metadata": {},
     "output_type": "execute_result"
    }
   ],
   "source": [
    "(filter_df[['last_price', 'total_area']]\n",
    ".corr()\n",
    ")"
   ]
  },
  {
   "cell_type": "markdown",
   "metadata": {},
   "source": [
    "**Вывод**\n",
    "\n",
    "По диаграмме рассеяния видно, что при увеличении площади квартиры цена тоже увеличивается. \n",
    "\n",
    "Также положительная корреляция в 0.75 говорит о наличии связи между значениями."
   ]
  },
  {
   "cell_type": "markdown",
   "metadata": {},
   "source": [
    "##### Зависимость цены от числа комнат"
   ]
  },
  {
   "cell_type": "markdown",
   "metadata": {},
   "source": [
    "Для анализа зависимости цены от числа комнат будем использовать данные из столбцов `\"last_price\"` и `\"rooms\"`.\n",
    "\n",
    "Для этого отбросим нетипичные значения, определенные ранее и построим по ним диаграмму рассеяния:"
   ]
  },
  {
   "cell_type": "code",
   "execution_count": 87,
   "metadata": {},
   "outputs": [
    {
     "data": {
      "text/plain": [
       "<matplotlib.axes._subplots.AxesSubplot at 0x7f79a4abac10>"
      ]
     },
     "execution_count": 87,
     "metadata": {},
     "output_type": "execute_result"
    },
    {
     "data": {
      "image/png": "[encoded data removed]",
      "text/plain": [
       "<Figure size 432x288 with 1 Axes>"
      ]
     },
     "metadata": {
      "needs_background": "light"
     },
     "output_type": "display_data"
    }
   ],
   "source": [
    "(filter_df\n",
    ".pivot_table(index='rooms', values='last_price')\n",
    ".plot()\n",
    ")"
   ]
  },
  {
   "cell_type": "markdown",
   "metadata": {},
   "source": [
    "а также, найдем коэффициент корреляции Пирсона для столбцов `\"last_price\"` и `\"rooms\"`:"
   ]
  },
  {
   "cell_type": "code",
   "execution_count": 88,
   "metadata": {},
   "outputs": [
    {
     "data": {
      "text/html": [
       "<div>\n",
       "<style scoped>\n",
       "    .dataframe tbody tr th:only-of-type {\n",
       "        vertical-align: middle;\n",
       "    }\n",
       "\n",
       "    .dataframe tbody tr th {\n",
       "        vertical-align: top;\n",
       "    }\n",
       "\n",
       "    .dataframe thead th {\n",
       "        text-align: right;\n",
       "    }\n",
       "</style>\n",
       "<table border=\"1\" class=\"dataframe\">\n",
       "  <thead>\n",
       "    <tr style=\"text-align: right;\">\n",
       "      <th></th>\n",
       "      <th>last_price</th>\n",
       "      <th>rooms</th>\n",
       "    </tr>\n",
       "  </thead>\n",
       "  <tbody>\n",
       "    <tr>\n",
       "      <td>last_price</td>\n",
       "      <td>1.000000</td>\n",
       "      <td>0.464302</td>\n",
       "    </tr>\n",
       "    <tr>\n",
       "      <td>rooms</td>\n",
       "      <td>0.464302</td>\n",
       "      <td>1.000000</td>\n",
       "    </tr>\n",
       "  </tbody>\n",
       "</table>\n",
       "</div>"
      ],
      "text/plain": [
       "            last_price     rooms\n",
       "last_price    1.000000  0.464302\n",
       "rooms         0.464302  1.000000"
      ]
     },
     "execution_count": 88,
     "metadata": {},
     "output_type": "execute_result"
    }
   ],
   "source": [
    "(filter_df[['last_price', 'rooms']]\n",
    ".corr()\n",
    ")"
   ]
  },
  {
   "cell_type": "markdown",
   "metadata": {},
   "source": [
    "**Вывод**\n",
    "\n",
    "Как видим цена квартиры непосредственно связана с количеством комнат в квартире. Коэффициент корреляции Пирсона равен = 0.46, а значит положительная корреляция присутствует."
   ]
  },
  {
   "cell_type": "markdown",
   "metadata": {},
   "source": [
    "##### Зависимость цены от этажа"
   ]
  },
  {
   "cell_type": "markdown",
   "metadata": {},
   "source": [
    "Для анализа зависимости цены от этажа (первого или последнего) будем использовать данные из столбцов `\"last_price\"`, `\"floor\"` и `\"apartment_floor\"` который мы создали для категоризации этажей.\n",
    "\n",
    "Для этого отбросим нетипичные значения по цене, а также сделаем срез по первым и последним этажам и построим по ним диаграмму рассеяния:"
   ]
  },
  {
   "cell_type": "code",
   "execution_count": 89,
   "metadata": {},
   "outputs": [
    {
     "data": {
      "image/png": "[encoded data removed]",
      "text/plain": [
       "<Figure size 432x288 with 1 Axes>"
      ]
     },
     "metadata": {
      "needs_background": "light"
     },
     "output_type": "display_data"
    }
   ],
   "source": [
    "(filter_df\n",
    ".query('apartment_floor == \"первый\" or apartment_floor == \"последний\"')\n",
    ".plot(x='last_price', y='floor', kind='scatter', alpha=0.03, grid=True)\n",
    ")\n",
    "plt.show()"
   ]
  },
  {
   "cell_type": "code",
   "execution_count": 90,
   "metadata": {},
   "outputs": [
    {
     "data": {
      "image/png": "[encoded data removed]",
      "text/plain": [
       "<Figure size 432x288 with 1 Axes>"
      ]
     },
     "metadata": {
      "needs_background": "light"
     },
     "output_type": "display_data"
    }
   ],
   "source": [
    "filter_df.groupby('apartment_floor')['last_price'].mean().plot(kind='bar')\n",
    "plt.show()"
   ]
  },
  {
   "cell_type": "markdown",
   "metadata": {},
   "source": [
    "Как видно из графика первый или последний этажи стоят примерно 3-4 млн.руб, а также чем выше этаж тем меньше количество квартир на продажу. Посмотрим на коэффициент корреляции Пирсона (так как интересующий нас столбец `\"apartment_floor\"` имеет текстовый тип данных, то коэффициент корреляции Пирсона посмотрим через наш срез данных по столбцу `\"floor\"` так как в нем после среза остались только первые и последние этажи):"
   ]
  },
  {
   "cell_type": "code",
   "execution_count": 91,
   "metadata": {},
   "outputs": [
    {
     "data": {
      "text/html": [
       "<div>\n",
       "<style scoped>\n",
       "    .dataframe tbody tr th:only-of-type {\n",
       "        vertical-align: middle;\n",
       "    }\n",
       "\n",
       "    .dataframe tbody tr th {\n",
       "        vertical-align: top;\n",
       "    }\n",
       "\n",
       "    .dataframe thead th {\n",
       "        text-align: right;\n",
       "    }\n",
       "</style>\n",
       "<table border=\"1\" class=\"dataframe\">\n",
       "  <thead>\n",
       "    <tr style=\"text-align: right;\">\n",
       "      <th></th>\n",
       "      <th>last_price</th>\n",
       "      <th>floor</th>\n",
       "    </tr>\n",
       "  </thead>\n",
       "  <tbody>\n",
       "    <tr>\n",
       "      <td>last_price</td>\n",
       "      <td>1.000000</td>\n",
       "      <td>0.166408</td>\n",
       "    </tr>\n",
       "    <tr>\n",
       "      <td>floor</td>\n",
       "      <td>0.166408</td>\n",
       "      <td>1.000000</td>\n",
       "    </tr>\n",
       "  </tbody>\n",
       "</table>\n",
       "</div>"
      ],
      "text/plain": [
       "            last_price     floor\n",
       "last_price    1.000000  0.166408\n",
       "floor         0.166408  1.000000"
      ]
     },
     "execution_count": 91,
     "metadata": {},
     "output_type": "execute_result"
    }
   ],
   "source": [
    "(filter_df[['last_price', 'apartment_floor', 'floor']]\n",
    ".query('apartment_floor == \"первый\" or apartment_floor == \"последний\"')\n",
    ".corr()\n",
    ")"
   ]
  },
  {
   "cell_type": "markdown",
   "metadata": {},
   "source": [
    "**Вывод**\n",
    "\n",
    "Коэффициент корреляции Пирсона равен = 0.17, а значит корреляция между ценой и первым или последним этажем практически нулевая, а это значит, что скорее всего связь имеет более сложный нелинейный характер."
   ]
  },
  {
   "cell_type": "markdown",
   "metadata": {},
   "source": [
    "##### Зависимость цены от удаленности от центра"
   ]
  },
  {
   "cell_type": "markdown",
   "metadata": {},
   "source": [
    "Для анализа зависимости цены от удаленности от центра будем использовать данные из столбцов `\"last_price\"` и `\"city_centers_nearest\"`.\n",
    "\n",
    "Для этого отбросим нетипичные значения по цене и построим по ним диаграмму рассеяния:"
   ]
  },
  {
   "cell_type": "code",
   "execution_count": 92,
   "metadata": {},
   "outputs": [
    {
     "data": {
      "text/plain": [
       "<matplotlib.axes._subplots.AxesSubplot at 0x7f79a4f34ad0>"
      ]
     },
     "execution_count": 92,
     "metadata": {},
     "output_type": "execute_result"
    },
    {
     "data": {
      "image/png": "[encoded data removed]",
      "text/plain": [
       "<Figure size 432x288 with 1 Axes>"
      ]
     },
     "metadata": {
      "needs_background": "light"
     },
     "output_type": "display_data"
    }
   ],
   "source": [
    "(filter_df\n",
    ".query('locality_name == \"Санкт-Петербург\"')\n",
    ".pivot_table(index='last_price', values='city_centers_nearest')\n",
    ".plot()\n",
    ")"
   ]
  },
  {
   "cell_type": "markdown",
   "metadata": {},
   "source": [
    "Найдем коэффициент корреляции Пирсона для столбцов `\"last_price\"` и `\"city_centers_nearest\"`:"
   ]
  },
  {
   "cell_type": "code",
   "execution_count": 93,
   "metadata": {},
   "outputs": [
    {
     "data": {
      "text/html": [
       "<div>\n",
       "<style scoped>\n",
       "    .dataframe tbody tr th:only-of-type {\n",
       "        vertical-align: middle;\n",
       "    }\n",
       "\n",
       "    .dataframe tbody tr th {\n",
       "        vertical-align: top;\n",
       "    }\n",
       "\n",
       "    .dataframe thead th {\n",
       "        text-align: right;\n",
       "    }\n",
       "</style>\n",
       "<table border=\"1\" class=\"dataframe\">\n",
       "  <thead>\n",
       "    <tr style=\"text-align: right;\">\n",
       "      <th></th>\n",
       "      <th>last_price</th>\n",
       "      <th>city_centers_nearest</th>\n",
       "    </tr>\n",
       "  </thead>\n",
       "  <tbody>\n",
       "    <tr>\n",
       "      <td>last_price</td>\n",
       "      <td>1.000000</td>\n",
       "      <td>-0.010509</td>\n",
       "    </tr>\n",
       "    <tr>\n",
       "      <td>city_centers_nearest</td>\n",
       "      <td>-0.010509</td>\n",
       "      <td>1.000000</td>\n",
       "    </tr>\n",
       "  </tbody>\n",
       "</table>\n",
       "</div>"
      ],
      "text/plain": [
       "                      last_price  city_centers_nearest\n",
       "last_price              1.000000             -0.010509\n",
       "city_centers_nearest   -0.010509              1.000000"
      ]
     },
     "execution_count": 93,
     "metadata": {},
     "output_type": "execute_result"
    }
   ],
   "source": [
    "(df[['last_price', 'city_centers_nearest']]\n",
    ".query('last_price > 1000000 and last_price < 25000000')\n",
    ".corr()\n",
    ")"
   ]
  },
  {
   "cell_type": "markdown",
   "metadata": {},
   "source": [
    "**Вывод**\n",
    "\n",
    "Как видно по диаграмме основная масса квартир продается в пределах 35 км от центра города и самые дорогие квартиры продаются в пределах 20 км от центра, также присутствует масса значений в 50 км от центра, но цена у них примерно до 5 млн.\n",
    "Коэффициент корреляции Пирсона отрицательный и равен -0.01, а значит корреляция между ценой и удаленностью от центра нулевая, но это не значит, что связи между значениями нет. Скорее всего связь имеет более сложный нелинейный характер."
   ]
  },
  {
   "cell_type": "markdown",
   "metadata": {},
   "source": [
    "##### Зависимость цены от даты размещения"
   ]
  },
  {
   "cell_type": "markdown",
   "metadata": {},
   "source": [
    "Для анализа зависимости цены от удаленности от центра будем использовать данные из столбцов `\"last_price\"` и `\"days_exposition\"`.\n",
    "\n",
    "Для этого отбросим нетипичные значения по цене и построим по ним столбчатые диаграммы по годам, месяцам и дням недели:"
   ]
  },
  {
   "cell_type": "code",
   "execution_count": 94,
   "metadata": {},
   "outputs": [
    {
     "data": {
      "image/png": "[encoded data removed]",
      "text/plain": [
       "<Figure size 432x288 with 1 Axes>"
      ]
     },
     "metadata": {
      "needs_background": "light"
     },
     "output_type": "display_data"
    }
   ],
   "source": [
    "# зависимость цены от даты размещения\n",
    "(last_price_filter\n",
    ".plot(x='days_exposition', y='last_price', kind='scatter', alpha=0.03, grid=True)\n",
    ")\n",
    "plt.show()"
   ]
  },
  {
   "cell_type": "code",
   "execution_count": 95,
   "metadata": {},
   "outputs": [
    {
     "data": {
      "image/png": "[encoded data removed]",
      "text/plain": [
       "<Figure size 432x288 with 1 Axes>"
      ]
     },
     "metadata": {
      "needs_background": "light"
     },
     "output_type": "display_data"
    }
   ],
   "source": [
    "# построим столбчатую диаграмму по годам\n",
    "last_price_filter.groupby('years_publication')['last_price'].mean().plot(kind='bar')\n",
    "plt.show()"
   ]
  },
  {
   "cell_type": "code",
   "execution_count": 96,
   "metadata": {},
   "outputs": [
    {
     "data": {
      "image/png": "[encoded data removed]",
      "text/plain": [
       "<Figure size 432x288 with 1 Axes>"
      ]
     },
     "metadata": {
      "needs_background": "light"
     },
     "output_type": "display_data"
    }
   ],
   "source": [
    "# построим столбчатую диаграмму по месяцам\n",
    "last_price_filter.groupby('months_publication')['last_price'].mean().plot(kind='bar')\n",
    "plt.show()"
   ]
  },
  {
   "cell_type": "code",
   "execution_count": 97,
   "metadata": {},
   "outputs": [
    {
     "data": {
      "image/png": "[encoded data removed]",
      "text/plain": [
       "<Figure size 432x288 with 1 Axes>"
      ]
     },
     "metadata": {
      "needs_background": "light"
     },
     "output_type": "display_data"
    }
   ],
   "source": [
    "# построим столбчатую диаграмму по дням недели\n",
    "last_price_filter.groupby('weekday_publication')['last_price'].mean().plot(kind='bar')\n",
    "plt.show()"
   ]
  },
  {
   "cell_type": "markdown",
   "metadata": {},
   "source": [
    "Найдем коэффициент корреляции Пирсона для столбцов `\"last_price\"` и `\"days_exposition\"`:"
   ]
  },
  {
   "cell_type": "code",
   "execution_count": 98,
   "metadata": {},
   "outputs": [
    {
     "data": {
      "text/html": [
       "<div>\n",
       "<style scoped>\n",
       "    .dataframe tbody tr th:only-of-type {\n",
       "        vertical-align: middle;\n",
       "    }\n",
       "\n",
       "    .dataframe tbody tr th {\n",
       "        vertical-align: top;\n",
       "    }\n",
       "\n",
       "    .dataframe thead th {\n",
       "        text-align: right;\n",
       "    }\n",
       "</style>\n",
       "<table border=\"1\" class=\"dataframe\">\n",
       "  <thead>\n",
       "    <tr style=\"text-align: right;\">\n",
       "      <th></th>\n",
       "      <th>last_price</th>\n",
       "      <th>days_exposition</th>\n",
       "    </tr>\n",
       "  </thead>\n",
       "  <tbody>\n",
       "    <tr>\n",
       "      <td>last_price</td>\n",
       "      <td>1.000000</td>\n",
       "      <td>0.065233</td>\n",
       "    </tr>\n",
       "    <tr>\n",
       "      <td>days_exposition</td>\n",
       "      <td>0.065233</td>\n",
       "      <td>1.000000</td>\n",
       "    </tr>\n",
       "  </tbody>\n",
       "</table>\n",
       "</div>"
      ],
      "text/plain": [
       "                 last_price  days_exposition\n",
       "last_price         1.000000         0.065233\n",
       "days_exposition    0.065233         1.000000"
      ]
     },
     "execution_count": 98,
     "metadata": {},
     "output_type": "execute_result"
    }
   ],
   "source": [
    "(df[['last_price', 'days_exposition']]\n",
    ".query('last_price > 1000000 and last_price < 25000000')\n",
    ".corr()\n",
    ")"
   ]
  },
  {
   "cell_type": "markdown",
   "metadata": {},
   "source": [
    "**Вывод**\n",
    "\n",
    "Как видно по диаграмме основная масса квартир продается в пределах 10 млн в течение года. Вспомним, что нулевые значения в столбце `\"days_exposition\"` обозначают то, что на момент занесения данных в таблицу объявление еще \"висело\" в продажах.\n",
    "Коэффициент корреляции Пирсона положительный и равен 0.07, а значит корреляция между ценой и удаленностью от центра нулевая, но это не значит, что связи между значениями нет. Скорее всего связь имеет более сложный нелинейный характер."
   ]
  },
  {
   "cell_type": "markdown",
   "metadata": {},
   "source": [
    "##### 10 населённых пунктов с наибольшим числом объявлений"
   ]
  },
  {
   "cell_type": "markdown",
   "metadata": {},
   "source": [
    "Выберем 10 населённых пунктов с наибольшим числом объявлений по столбцу `\"locality_name\"` и посчитаем среднюю цену за квадратный метр по столбцу `\"price_square_meter\"`:"
   ]
  },
  {
   "cell_type": "code",
   "execution_count": 99,
   "metadata": {},
   "outputs": [
    {
     "data": {
      "text/html": [
       "<div>\n",
       "<style scoped>\n",
       "    .dataframe tbody tr th:only-of-type {\n",
       "        vertical-align: middle;\n",
       "    }\n",
       "\n",
       "    .dataframe tbody tr th {\n",
       "        vertical-align: top;\n",
       "    }\n",
       "\n",
       "    .dataframe thead th {\n",
       "        text-align: right;\n",
       "    }\n",
       "</style>\n",
       "<table border=\"1\" class=\"dataframe\">\n",
       "  <thead>\n",
       "    <tr style=\"text-align: right;\">\n",
       "      <th></th>\n",
       "      <th>count</th>\n",
       "      <th>price_square_meter_mean</th>\n",
       "    </tr>\n",
       "    <tr>\n",
       "      <th>locality_name</th>\n",
       "      <th></th>\n",
       "      <th></th>\n",
       "    </tr>\n",
       "  </thead>\n",
       "  <tbody>\n",
       "    <tr>\n",
       "      <td>Санкт-Петербург</td>\n",
       "      <td>15721</td>\n",
       "      <td>114848.565231</td>\n",
       "    </tr>\n",
       "    <tr>\n",
       "      <td>посёлок Мурино</td>\n",
       "      <td>522</td>\n",
       "      <td>85751.733716</td>\n",
       "    </tr>\n",
       "    <tr>\n",
       "      <td>посёлок Шушары</td>\n",
       "      <td>440</td>\n",
       "      <td>78676.904545</td>\n",
       "    </tr>\n",
       "    <tr>\n",
       "      <td>Всеволожск</td>\n",
       "      <td>398</td>\n",
       "      <td>68654.007538</td>\n",
       "    </tr>\n",
       "    <tr>\n",
       "      <td>Пушкин</td>\n",
       "      <td>369</td>\n",
       "      <td>103125.373984</td>\n",
       "    </tr>\n",
       "    <tr>\n",
       "      <td>Колпино</td>\n",
       "      <td>338</td>\n",
       "      <td>75424.150888</td>\n",
       "    </tr>\n",
       "    <tr>\n",
       "      <td>посёлок Парголово</td>\n",
       "      <td>327</td>\n",
       "      <td>90175.489297</td>\n",
       "    </tr>\n",
       "    <tr>\n",
       "      <td>Гатчина</td>\n",
       "      <td>307</td>\n",
       "      <td>68745.693811</td>\n",
       "    </tr>\n",
       "    <tr>\n",
       "      <td>деревня Кудрово</td>\n",
       "      <td>299</td>\n",
       "      <td>92473.086957</td>\n",
       "    </tr>\n",
       "    <tr>\n",
       "      <td>Выборг</td>\n",
       "      <td>237</td>\n",
       "      <td>58141.489451</td>\n",
       "    </tr>\n",
       "  </tbody>\n",
       "</table>\n",
       "</div>"
      ],
      "text/plain": [
       "                   count  price_square_meter_mean\n",
       "locality_name                                    \n",
       "Санкт-Петербург    15721            114848.565231\n",
       "посёлок Мурино       522             85751.733716\n",
       "посёлок Шушары       440             78676.904545\n",
       "Всеволожск           398             68654.007538\n",
       "Пушкин               369            103125.373984\n",
       "Колпино              338             75424.150888\n",
       "посёлок Парголово    327             90175.489297\n",
       "Гатчина              307             68745.693811\n",
       "деревня Кудрово      299             92473.086957\n",
       "Выборг               237             58141.489451"
      ]
     },
     "metadata": {},
     "output_type": "display_data"
    }
   ],
   "source": [
    "# создаем сводную таблицу по населенному пункту и цене за квадратный метр\n",
    "locality_name_filter = df.pivot_table(index='locality_name', values='price_square_meter', aggfunc=['count', 'mean'])\n",
    "\n",
    "# избавляемся от двухэтажности через переименование столбцов сводной таблицы\n",
    "locality_name_filter.columns=['count', 'price_square_meter_mean']\n",
    "\n",
    "# выводим на экран 10 населённых пунктов с наибольшим числом объявлений и средней ценой квадратного метра для каждого пункта\n",
    "display(locality_name_filter.sort_values(by='count', ascending=False).head(10))"
   ]
  },
  {
   "cell_type": "markdown",
   "metadata": {},
   "source": [
    "**Вывод**\n",
    "\n",
    "Как видно рейтинг населенных пунктов возглавляет Санкт-Петербург причем с огромным отрывом от остальных, в нем же самая высокая средняя цена квадратного метра квартиры."
   ]
  },
  {
   "cell_type": "markdown",
   "metadata": {},
   "source": [
    "##### Населённые пункты с самой высокой и низкой стоимостью жилья"
   ]
  },
  {
   "cell_type": "markdown",
   "metadata": {},
   "source": [
    "Выберем населённы пункты по \"срезанному\" столбцу `\"locality_name\"` и найдем самые высокие и низкие стоимости жилья по столбцу `\"last_price\"`:"
   ]
  },
  {
   "cell_type": "code",
   "execution_count": 100,
   "metadata": {},
   "outputs": [
    {
     "data": {
      "text/html": [
       "<div>\n",
       "<style scoped>\n",
       "    .dataframe tbody tr th:only-of-type {\n",
       "        vertical-align: middle;\n",
       "    }\n",
       "\n",
       "    .dataframe tbody tr th {\n",
       "        vertical-align: top;\n",
       "    }\n",
       "\n",
       "    .dataframe thead th {\n",
       "        text-align: right;\n",
       "    }\n",
       "</style>\n",
       "<table border=\"1\" class=\"dataframe\">\n",
       "  <thead>\n",
       "    <tr style=\"text-align: right;\">\n",
       "      <th></th>\n",
       "      <th>last_price</th>\n",
       "    </tr>\n",
       "    <tr>\n",
       "      <th>locality_name</th>\n",
       "      <th></th>\n",
       "    </tr>\n",
       "  </thead>\n",
       "  <tbody>\n",
       "    <tr>\n",
       "      <td>Санкт-Петербург</td>\n",
       "      <td>24900000</td>\n",
       "    </tr>\n",
       "    <tr>\n",
       "      <td>Пушкин</td>\n",
       "      <td>24800000</td>\n",
       "    </tr>\n",
       "    <tr>\n",
       "      <td>Всеволожск</td>\n",
       "      <td>24412900</td>\n",
       "    </tr>\n",
       "    <tr>\n",
       "      <td>Зеленогорск</td>\n",
       "      <td>23000000</td>\n",
       "    </tr>\n",
       "    <tr>\n",
       "      <td>Петергоф</td>\n",
       "      <td>22000000</td>\n",
       "    </tr>\n",
       "    <tr>\n",
       "      <td>Сестрорецк</td>\n",
       "      <td>21700000</td>\n",
       "    </tr>\n",
       "    <tr>\n",
       "      <td>Красное Село</td>\n",
       "      <td>21000000</td>\n",
       "    </tr>\n",
       "    <tr>\n",
       "      <td>деревня Бор</td>\n",
       "      <td>20295200</td>\n",
       "    </tr>\n",
       "    <tr>\n",
       "      <td>Выборг</td>\n",
       "      <td>19990000</td>\n",
       "    </tr>\n",
       "    <tr>\n",
       "      <td>посёлок Стрельна</td>\n",
       "      <td>17800000</td>\n",
       "    </tr>\n",
       "  </tbody>\n",
       "</table>\n",
       "</div>"
      ],
      "text/plain": [
       "                  last_price\n",
       "locality_name               \n",
       "Санкт-Петербург     24900000\n",
       "Пушкин              24800000\n",
       "Всеволожск          24412900\n",
       "Зеленогорск         23000000\n",
       "Петергоф            22000000\n",
       "Сестрорецк          21700000\n",
       "Красное Село        21000000\n",
       "деревня Бор         20295200\n",
       "Выборг              19990000\n",
       "посёлок Стрельна    17800000"
      ]
     },
     "execution_count": 100,
     "metadata": {},
     "output_type": "execute_result"
    }
   ],
   "source": [
    "# топ-10 населенных пунктов с самыми высокими стоимостями жилья\n",
    "(df[['locality_name', 'last_price']]\n",
    ".query('last_price > 1000000 and last_price < 25000000')\n",
    ".pivot_table(index='locality_name', values='last_price', aggfunc='max')\n",
    ".sort_values(by='last_price', ascending=False)\n",
    ".head(10)\n",
    ")"
   ]
  },
  {
   "cell_type": "code",
   "execution_count": 101,
   "metadata": {},
   "outputs": [
    {
     "data": {
      "text/html": [
       "<div>\n",
       "<style scoped>\n",
       "    .dataframe tbody tr th:only-of-type {\n",
       "        vertical-align: middle;\n",
       "    }\n",
       "\n",
       "    .dataframe tbody tr th {\n",
       "        vertical-align: top;\n",
       "    }\n",
       "\n",
       "    .dataframe thead th {\n",
       "        text-align: right;\n",
       "    }\n",
       "</style>\n",
       "<table border=\"1\" class=\"dataframe\">\n",
       "  <thead>\n",
       "    <tr style=\"text-align: right;\">\n",
       "      <th></th>\n",
       "      <th>last_price</th>\n",
       "    </tr>\n",
       "    <tr>\n",
       "      <th>locality_name</th>\n",
       "      <th></th>\n",
       "    </tr>\n",
       "  </thead>\n",
       "  <tbody>\n",
       "    <tr>\n",
       "      <td>Волхов</td>\n",
       "      <td>1010000</td>\n",
       "    </tr>\n",
       "    <tr>\n",
       "      <td>поселок Суходолье</td>\n",
       "      <td>1020000</td>\n",
       "    </tr>\n",
       "    <tr>\n",
       "      <td>Сланцы</td>\n",
       "      <td>1030000</td>\n",
       "    </tr>\n",
       "    <tr>\n",
       "      <td>поселок Житково</td>\n",
       "      <td>1050000</td>\n",
       "    </tr>\n",
       "    <tr>\n",
       "      <td>деревня Раздолье</td>\n",
       "      <td>1050000</td>\n",
       "    </tr>\n",
       "    <tr>\n",
       "      <td>городской посёлок Мга</td>\n",
       "      <td>1050000</td>\n",
       "    </tr>\n",
       "    <tr>\n",
       "      <td>Новая Ладога</td>\n",
       "      <td>1050000</td>\n",
       "    </tr>\n",
       "    <tr>\n",
       "      <td>посёлок городского типа Вознесенье</td>\n",
       "      <td>1050000</td>\n",
       "    </tr>\n",
       "    <tr>\n",
       "      <td>посёлок городского типа Вырица</td>\n",
       "      <td>1050000</td>\n",
       "    </tr>\n",
       "    <tr>\n",
       "      <td>Кириши</td>\n",
       "      <td>1050000</td>\n",
       "    </tr>\n",
       "  </tbody>\n",
       "</table>\n",
       "</div>"
      ],
      "text/plain": [
       "                                    last_price\n",
       "locality_name                                 \n",
       "Волхов                                 1010000\n",
       "поселок Суходолье                      1020000\n",
       "Сланцы                                 1030000\n",
       "поселок Житково                        1050000\n",
       "деревня Раздолье                       1050000\n",
       "городской посёлок Мга                  1050000\n",
       "Новая Ладога                           1050000\n",
       "посёлок городского типа Вознесенье     1050000\n",
       "посёлок городского типа Вырица         1050000\n",
       "Кириши                                 1050000"
      ]
     },
     "execution_count": 101,
     "metadata": {},
     "output_type": "execute_result"
    }
   ],
   "source": [
    "# топ-10 населенных пунктов с самыми низкими стоимостями жилья\n",
    "(df[['locality_name', 'last_price']]\n",
    ".query('last_price > 1000000 and last_price < 25000000')\n",
    ".pivot_table(index='locality_name', values='last_price', aggfunc='min')\n",
    ".sort_values(by='last_price', ascending=True)\n",
    ".head(10)\n",
    ")"
   ]
  },
  {
   "cell_type": "markdown",
   "metadata": {},
   "source": [
    "**Вывод**\n",
    "\n",
    "Самые высокие цены на жилье в населенных пунктах Санкт-Петербург, Пушкин, Всеволожск, Зеленогорск, Петергоф, а самые низкие цены на жилье в населенных пунктах Волхов, поселок Суходолье, Сланцы, поселок Житково."
   ]
  },
  {
   "cell_type": "markdown",
   "metadata": {},
   "source": [
    "#### Анализ изменения цены по степени удалённости от центра"
   ]
  },
  {
   "cell_type": "markdown",
   "metadata": {},
   "source": [
    "Для каждой квартиры есть информация о расстоянии до центра в столбце `\"city_centers_nearest\"`. Выделим квартиры в Санкт-Петербурге по столбцу `\"locality_name\"` и создадим новый столбец `\"city_centers_nearest_km\"` - расстояние до центра в км с округление до целых чисел"
   ]
  },
  {
   "cell_type": "code",
   "execution_count": 102,
   "metadata": {},
   "outputs": [],
   "source": [
    "# создадим новый столбец city_centers_nearest_km - расстояние до центра в км с округление до целых чисел\n",
    "df['city_centers_nearest_km'] = df['city_centers_nearest'] // 1000"
   ]
  },
  {
   "cell_type": "markdown",
   "metadata": {},
   "source": [
    "Посчитаем среднюю цену по нашему срезу для каждого километра и построим график который покажет как цена зависит от удалённости от центра:"
   ]
  },
  {
   "cell_type": "code",
   "execution_count": 103,
   "metadata": {},
   "outputs": [
    {
     "data": {
      "text/plain": [
       "<matplotlib.axes._subplots.AxesSubplot at 0x7f79a4a31510>"
      ]
     },
     "execution_count": 103,
     "metadata": {},
     "output_type": "execute_result"
    },
    {
     "data": {
      "image/png": "[encoded data removed]",
      "text/plain": [
       "<Figure size 432x288 with 1 Axes>"
      ]
     },
     "metadata": {
      "needs_background": "light"
     },
     "output_type": "display_data"
    }
   ],
   "source": [
    "(df\n",
    ".query('locality_name == \"Санкт-Петербург\"')\n",
    ".pivot_table(index='city_centers_nearest_km', values='last_price')\n",
    ".plot()\n",
    ")"
   ]
  },
  {
   "cell_type": "markdown",
   "metadata": {},
   "source": [
    "**Вывод**\n",
    "\n",
    "Как видим из графика чем дальше от центра города тем цена меньше, но так происходит только до 26 км, там цены взлетают вверх и снова падают.\n",
    "Центральную зону выделим в 6 км от центра."
   ]
  },
  {
   "cell_type": "markdown",
   "metadata": {},
   "source": [
    "#### Cегмент квартир в центре"
   ]
  },
  {
   "cell_type": "markdown",
   "metadata": {},
   "source": [
    "Проанализируем сегмент квартир в центре и изучим следующие параметры: площадь, цена, число комнат, высота потолков. Для этого составим сводную таблицу по срезу данных для максимальных и минимальных значений по расстоянию."
   ]
  },
  {
   "cell_type": "code",
   "execution_count": 104,
   "metadata": {},
   "outputs": [],
   "source": [
    "# определим сводную таблицу по срезу данных для сегмента квартир в центре\n",
    "center_df = (df\n",
    " .query('locality_name == \"Санкт-Петербург\" and 0 <= city_centers_nearest_km <= 6 and\\\n",
    "       total_area < 200 and total_area > 20 and\\\n",
    "       last_price > 1000000 and last_price < 25000000 and\\\n",
    "       rooms <= 5 and\\\n",
    "       living_area < 150 and living_area > 10 and\\\n",
    "       ceiling_height <= 3'))"
   ]
  },
  {
   "cell_type": "markdown",
   "metadata": {},
   "source": [
    "Для анализа зависимости цены от квадратного метра будем использовать данные из столбцов `\"last_price\"` и `\"total_area\"`.\n",
    "Для этого возьмем отфильтрованный датасет и построим по нему диаграмму рассеяния:"
   ]
  },
  {
   "cell_type": "code",
   "execution_count": 105,
   "metadata": {},
   "outputs": [
    {
     "data": {
      "image/png": "[encoded data removed]",
      "text/plain": [
       "<Figure size 432x288 with 1 Axes>"
      ]
     },
     "metadata": {
      "needs_background": "light"
     },
     "output_type": "display_data"
    }
   ],
   "source": [
    "(center_df\n",
    ".plot(x='total_area', y='last_price', kind='scatter', alpha=0.03, grid=True)\n",
    ")\n",
    "plt.show()"
   ]
  },
  {
   "cell_type": "markdown",
   "metadata": {},
   "source": [
    "Найдем коэффициент корреляции Пирсона для столбцов `\"last_price\"` и `\"total_area\"`:"
   ]
  },
  {
   "cell_type": "code",
   "execution_count": 106,
   "metadata": {},
   "outputs": [
    {
     "data": {
      "text/html": [
       "<div>\n",
       "<style scoped>\n",
       "    .dataframe tbody tr th:only-of-type {\n",
       "        vertical-align: middle;\n",
       "    }\n",
       "\n",
       "    .dataframe tbody tr th {\n",
       "        vertical-align: top;\n",
       "    }\n",
       "\n",
       "    .dataframe thead th {\n",
       "        text-align: right;\n",
       "    }\n",
       "</style>\n",
       "<table border=\"1\" class=\"dataframe\">\n",
       "  <thead>\n",
       "    <tr style=\"text-align: right;\">\n",
       "      <th></th>\n",
       "      <th>last_price</th>\n",
       "      <th>total_area</th>\n",
       "    </tr>\n",
       "  </thead>\n",
       "  <tbody>\n",
       "    <tr>\n",
       "      <td>last_price</td>\n",
       "      <td>1.000000</td>\n",
       "      <td>0.722844</td>\n",
       "    </tr>\n",
       "    <tr>\n",
       "      <td>total_area</td>\n",
       "      <td>0.722844</td>\n",
       "      <td>1.000000</td>\n",
       "    </tr>\n",
       "  </tbody>\n",
       "</table>\n",
       "</div>"
      ],
      "text/plain": [
       "            last_price  total_area\n",
       "last_price    1.000000    0.722844\n",
       "total_area    0.722844    1.000000"
      ]
     },
     "execution_count": 106,
     "metadata": {},
     "output_type": "execute_result"
    }
   ],
   "source": [
    "(center_df[['last_price', 'total_area']]\n",
    ".corr()\n",
    ")"
   ]
  },
  {
   "cell_type": "markdown",
   "metadata": {},
   "source": [
    "**Вывод**\n",
    "\n",
    "По диаграмме рассеяния видно, что при увеличении площади квартиры в центре цена тоже увеличивается. Также положительная корреляция в 0.72 говорит о наличии связи между значениями."
   ]
  },
  {
   "cell_type": "markdown",
   "metadata": {},
   "source": [
    "Для анализа зависимости цены в центре города будем использовать данные из столбцов `\"last_price\"` и `\"city_centers_nearest_km\"`."
   ]
  },
  {
   "cell_type": "markdown",
   "metadata": {},
   "source": [
    "Найдем коэффициент корреляции Пирсона для столбцов `\"last_price\"` и `\"city_centers_nearest_km\"`:"
   ]
  },
  {
   "cell_type": "code",
   "execution_count": 107,
   "metadata": {},
   "outputs": [
    {
     "data": {
      "text/html": [
       "<div>\n",
       "<style scoped>\n",
       "    .dataframe tbody tr th:only-of-type {\n",
       "        vertical-align: middle;\n",
       "    }\n",
       "\n",
       "    .dataframe tbody tr th {\n",
       "        vertical-align: top;\n",
       "    }\n",
       "\n",
       "    .dataframe thead th {\n",
       "        text-align: right;\n",
       "    }\n",
       "</style>\n",
       "<table border=\"1\" class=\"dataframe\">\n",
       "  <thead>\n",
       "    <tr style=\"text-align: right;\">\n",
       "      <th></th>\n",
       "      <th>last_price</th>\n",
       "      <th>city_centers_nearest_km</th>\n",
       "    </tr>\n",
       "  </thead>\n",
       "  <tbody>\n",
       "    <tr>\n",
       "      <td>last_price</td>\n",
       "      <td>1.000000</td>\n",
       "      <td>-0.039369</td>\n",
       "    </tr>\n",
       "    <tr>\n",
       "      <td>city_centers_nearest_km</td>\n",
       "      <td>-0.039369</td>\n",
       "      <td>1.000000</td>\n",
       "    </tr>\n",
       "  </tbody>\n",
       "</table>\n",
       "</div>"
      ],
      "text/plain": [
       "                         last_price  city_centers_nearest_km\n",
       "last_price                 1.000000                -0.039369\n",
       "city_centers_nearest_km   -0.039369                 1.000000"
      ]
     },
     "execution_count": 107,
     "metadata": {},
     "output_type": "execute_result"
    }
   ],
   "source": [
    "(center_df[['last_price', 'city_centers_nearest_km']]\n",
    ".corr()\n",
    ")"
   ]
  },
  {
   "cell_type": "markdown",
   "metadata": {},
   "source": [
    "Коэффициент корреляции Пирсона отрицательный и равен -0.04, а значит корреляция между ценой и удаленностью от центра нулевая, но это не значит, что связи между значениями нет. Скорее всего связь имеет более сложный нелинейный характер. Для этого возьмем отфильтрованный датасет и построим по нему линейный график:"
   ]
  },
  {
   "cell_type": "code",
   "execution_count": 108,
   "metadata": {},
   "outputs": [
    {
     "data": {
      "image/png": "[encoded data removed]",
      "text/plain": [
       "<Figure size 432x288 with 1 Axes>"
      ]
     },
     "metadata": {
      "needs_background": "light"
     },
     "output_type": "display_data"
    }
   ],
   "source": [
    "(center_df\n",
    ".pivot_table(index='city_centers_nearest_km', values='last_price')\n",
    ".plot()\n",
    ")\n",
    "plt.show()"
   ]
  },
  {
   "cell_type": "markdown",
   "metadata": {},
   "source": [
    "**Вывод**\n",
    "\n",
    "Как видим самые высокие цены на жилье находятся на расстоянии 1 и 4 км от центра города."
   ]
  },
  {
   "cell_type": "markdown",
   "metadata": {},
   "source": [
    "Для анализа зависимости цены от числа комнат будем использовать данные из столбцов `\"last_price\"` и `\"rooms\"`.\n",
    "Для этого возьмем отфильтрованный датасет и построим по нему линейный график:"
   ]
  },
  {
   "cell_type": "code",
   "execution_count": 109,
   "metadata": {},
   "outputs": [
    {
     "data": {
      "image/png": "[encoded data removed]",
      "text/plain": [
       "<Figure size 432x288 with 1 Axes>"
      ]
     },
     "metadata": {
      "needs_background": "light"
     },
     "output_type": "display_data"
    }
   ],
   "source": [
    "(center_df\n",
    ".pivot_table(index='rooms', values='last_price')\n",
    ".plot()\n",
    ")\n",
    "plt.show()"
   ]
  },
  {
   "cell_type": "markdown",
   "metadata": {},
   "source": [
    "Найдем коэффициент корреляции Пирсона для столбцов `\"last_price\"` и `\"rooms\"`:"
   ]
  },
  {
   "cell_type": "code",
   "execution_count": 110,
   "metadata": {},
   "outputs": [
    {
     "data": {
      "text/html": [
       "<div>\n",
       "<style scoped>\n",
       "    .dataframe tbody tr th:only-of-type {\n",
       "        vertical-align: middle;\n",
       "    }\n",
       "\n",
       "    .dataframe tbody tr th {\n",
       "        vertical-align: top;\n",
       "    }\n",
       "\n",
       "    .dataframe thead th {\n",
       "        text-align: right;\n",
       "    }\n",
       "</style>\n",
       "<table border=\"1\" class=\"dataframe\">\n",
       "  <thead>\n",
       "    <tr style=\"text-align: right;\">\n",
       "      <th></th>\n",
       "      <th>last_price</th>\n",
       "      <th>rooms</th>\n",
       "    </tr>\n",
       "  </thead>\n",
       "  <tbody>\n",
       "    <tr>\n",
       "      <td>last_price</td>\n",
       "      <td>1.000000</td>\n",
       "      <td>0.433206</td>\n",
       "    </tr>\n",
       "    <tr>\n",
       "      <td>rooms</td>\n",
       "      <td>0.433206</td>\n",
       "      <td>1.000000</td>\n",
       "    </tr>\n",
       "  </tbody>\n",
       "</table>\n",
       "</div>"
      ],
      "text/plain": [
       "            last_price     rooms\n",
       "last_price    1.000000  0.433206\n",
       "rooms         0.433206  1.000000"
      ]
     },
     "execution_count": 110,
     "metadata": {},
     "output_type": "execute_result"
    }
   ],
   "source": [
    "(center_df[['last_price', 'rooms']]\n",
    ".corr()\n",
    ")"
   ]
  },
  {
   "cell_type": "markdown",
   "metadata": {},
   "source": [
    "**Вывод**\n",
    "\n",
    "Как видим цена квартиры в центре связана с количеством комнат в квартире. Коэффициент корреляции Пирсона равен = 0.43, а значит положительная корреляция присутствует."
   ]
  },
  {
   "cell_type": "markdown",
   "metadata": {},
   "source": [
    "Для анализа зависимости цены от высоты потолка будем использовать данные из столбцов `\"last_price\"` и `\"ceiling_height\"`."
   ]
  },
  {
   "cell_type": "markdown",
   "metadata": {},
   "source": [
    "Найдем коэффициент корреляции Пирсона для столбцов `\"last_price\"` и `\"ceiling_height\"`:"
   ]
  },
  {
   "cell_type": "code",
   "execution_count": 111,
   "metadata": {},
   "outputs": [
    {
     "data": {
      "text/html": [
       "<div>\n",
       "<style scoped>\n",
       "    .dataframe tbody tr th:only-of-type {\n",
       "        vertical-align: middle;\n",
       "    }\n",
       "\n",
       "    .dataframe tbody tr th {\n",
       "        vertical-align: top;\n",
       "    }\n",
       "\n",
       "    .dataframe thead th {\n",
       "        text-align: right;\n",
       "    }\n",
       "</style>\n",
       "<table border=\"1\" class=\"dataframe\">\n",
       "  <thead>\n",
       "    <tr style=\"text-align: right;\">\n",
       "      <th></th>\n",
       "      <th>last_price</th>\n",
       "      <th>ceiling_height</th>\n",
       "    </tr>\n",
       "  </thead>\n",
       "  <tbody>\n",
       "    <tr>\n",
       "      <td>last_price</td>\n",
       "      <td>1.000000</td>\n",
       "      <td>0.133179</td>\n",
       "    </tr>\n",
       "    <tr>\n",
       "      <td>ceiling_height</td>\n",
       "      <td>0.133179</td>\n",
       "      <td>1.000000</td>\n",
       "    </tr>\n",
       "  </tbody>\n",
       "</table>\n",
       "</div>"
      ],
      "text/plain": [
       "                last_price  ceiling_height\n",
       "last_price        1.000000        0.133179\n",
       "ceiling_height    0.133179        1.000000"
      ]
     },
     "execution_count": 111,
     "metadata": {},
     "output_type": "execute_result"
    }
   ],
   "source": [
    "(center_df[['last_price', 'ceiling_height']]\n",
    ".corr()\n",
    ")"
   ]
  },
  {
   "cell_type": "markdown",
   "metadata": {},
   "source": [
    "Коэффициент корреляции Пирсона положительный и равен 0.13, а значит корреляция между ценой и высотой потолков невысокая, но это не значит, что связи между значениями нет. Скорее всего связь имеет более сложный нелинейный характер. Для этого возьмем отфильтрованный датасет и построим по нему линейный график:"
   ]
  },
  {
   "cell_type": "code",
   "execution_count": 112,
   "metadata": {},
   "outputs": [
    {
     "data": {
      "image/png": "[encoded data removed]",
      "text/plain": [
       "<Figure size 432x288 with 1 Axes>"
      ]
     },
     "metadata": {
      "needs_background": "light"
     },
     "output_type": "display_data"
    }
   ],
   "source": [
    "(center_df\n",
    ".pivot_table(index='ceiling_height', values='last_price')\n",
    ".plot(kind='bar')\n",
    ")\n",
    "plt.show()"
   ]
  },
  {
   "cell_type": "markdown",
   "metadata": {},
   "source": [
    "**Вывод**\n",
    "\n",
    "По столбчатому графику видно, что мы имеем дело с высокой волатильностью данных и низкий коэффициент корреляции, а это значит, что цена практически не зависит от высоты потолка."
   ]
  },
  {
   "cell_type": "markdown",
   "metadata": {},
   "source": [
    "**Вывод**\n",
    "\n",
    "Мы проанализировали факторы, влияющие на стоимость квартиры в центре города и выяснили, что при увеличении площади квартиры цена увеличивается как для квартир в центре города так и по общим данным; цена на квартиру уменьшается по степени удаленности от центра города и соответственно самые дорогие квартиры продаются в пределах 6 км от центра города; цена квартиры непосредственно связана с количеством комнат в квартире как в центре так и по общим данным; цена квартир на прямую не зависит от высоты потолков так как значения имеют высокую волатильность данных и низкий коэффициент корреляции, а это значит, что цена практически не зависит от высоты потолка. Определенный центральный сегмент города дает понять, что цены на квартиру в нем значительно выше чем по общим данным."
   ]
  },
  {
   "cell_type": "markdown",
   "metadata": {},
   "source": [
    "## Общий вывод"
   ]
  },
  {
   "cell_type": "markdown",
   "metadata": {},
   "source": [
    "Мы провели подробнейший анализ датафрейма, обработку пропущенных значений выявили и обработали неявные дубликаты. Поменяли типы значений там где это требовалось для дальнейших расчетов с данными. Произвели расчеты и добавили результаты в таблицу для проведения дальнейшего исследовательского анализа данных. Для каждой квартиры посчитали цены, площади, количество комнат, жилой площади и площади кухни, а также количество дней размещения объявления и определили факторы, влияющие на стоимость квартиры. Выделили 10 населенных пунктов с наибольшим числом объявлений и с самой высокой и низкой стоимостью жилья. Провели анализ изменения цены квартиры по степени удалённости от центра, а также обозначили сегмент квартир в центре и сравнили параметры со всем городом и определили, что чем ближе к центру, тем квартиры стоят дороже."
   ]
  }
 ],
 "metadata": {
  "ExecuteTimeLog": [
   {
    "duration": 775,
    "start_time": "2021-12-13T19:50:05.355Z"
   },
   {
    "duration": 76,
    "start_time": "2021-12-13T19:55:08.904Z"
   },
   {
    "duration": 23,
    "start_time": "2021-12-13T19:56:13.337Z"
   },
   {
    "duration": 76,
    "start_time": "2021-12-13T19:56:32.711Z"
   },
   {
    "duration": 11,
    "start_time": "2021-12-13T19:56:34.313Z"
   },
   {
    "duration": 127,
    "start_time": "2021-12-13T19:56:46.448Z"
   },
   {
    "duration": 86,
    "start_time": "2021-12-13T19:56:54.735Z"
   },
   {
    "duration": 12,
    "start_time": "2021-12-13T19:56:56.856Z"
   },
   {
    "duration": 131,
    "start_time": "2021-12-13T19:59:12.254Z"
   },
   {
    "duration": 6528,
    "start_time": "2021-12-13T20:00:09.990Z"
   },
   {
    "duration": -45,
    "start_time": "2021-12-13T20:00:16.566Z"
   },
   {
    "duration": 119,
    "start_time": "2021-12-13T20:01:04.814Z"
   },
   {
    "duration": 91,
    "start_time": "2021-12-13T20:03:54.755Z"
   },
   {
    "duration": 65,
    "start_time": "2021-12-13T20:03:57.107Z"
   },
   {
    "duration": 14,
    "start_time": "2021-12-13T20:05:04.042Z"
   },
   {
    "duration": 263,
    "start_time": "2021-12-14T05:35:18.086Z"
   },
   {
    "duration": 246,
    "start_time": "2021-12-14T05:35:51.894Z"
   },
   {
    "duration": 634,
    "start_time": "2021-12-14T05:36:03.879Z"
   },
   {
    "duration": 72,
    "start_time": "2021-12-14T05:36:23.325Z"
   },
   {
    "duration": 32,
    "start_time": "2021-12-14T05:36:25.509Z"
   },
   {
    "duration": 72,
    "start_time": "2021-12-14T05:36:43.477Z"
   },
   {
    "duration": 11,
    "start_time": "2021-12-14T05:39:03.188Z"
   },
   {
    "duration": 10,
    "start_time": "2021-12-14T07:08:26.058Z"
   },
   {
    "duration": 9,
    "start_time": "2021-12-14T07:16:30.565Z"
   },
   {
    "duration": 10,
    "start_time": "2021-12-14T07:16:48.677Z"
   },
   {
    "duration": 4,
    "start_time": "2021-12-14T07:16:56.668Z"
   },
   {
    "duration": 7,
    "start_time": "2021-12-14T07:21:13.937Z"
   },
   {
    "duration": 10,
    "start_time": "2021-12-14T08:03:55.502Z"
   },
   {
    "duration": 7,
    "start_time": "2021-12-14T08:08:03.075Z"
   },
   {
    "duration": 9,
    "start_time": "2021-12-14T08:08:43.860Z"
   },
   {
    "duration": 5,
    "start_time": "2021-12-14T08:08:59.268Z"
   },
   {
    "duration": 5,
    "start_time": "2021-12-14T08:09:13.363Z"
   },
   {
    "duration": 10,
    "start_time": "2021-12-14T08:09:43.611Z"
   },
   {
    "duration": 4,
    "start_time": "2021-12-14T08:24:00.131Z"
   },
   {
    "duration": 6618,
    "start_time": "2021-12-14T08:24:37.642Z"
   },
   {
    "duration": 3,
    "start_time": "2021-12-14T08:26:27.402Z"
   },
   {
    "duration": 8634,
    "start_time": "2021-12-14T08:26:39.256Z"
   },
   {
    "duration": 4,
    "start_time": "2021-12-14T08:26:58.913Z"
   },
   {
    "duration": 507,
    "start_time": "2021-12-14T08:27:01.994Z"
   },
   {
    "duration": 3,
    "start_time": "2021-12-14T08:35:00.539Z"
   },
   {
    "duration": 10,
    "start_time": "2021-12-14T08:36:53.315Z"
   },
   {
    "duration": 9,
    "start_time": "2021-12-14T08:37:10.043Z"
   },
   {
    "duration": 4,
    "start_time": "2021-12-14T08:38:28.097Z"
   },
   {
    "duration": 9,
    "start_time": "2021-12-14T08:38:29.666Z"
   },
   {
    "duration": 6,
    "start_time": "2021-12-14T08:38:30.826Z"
   },
   {
    "duration": 9,
    "start_time": "2021-12-14T08:38:55.482Z"
   },
   {
    "duration": 3,
    "start_time": "2021-12-14T08:39:11.289Z"
   },
   {
    "duration": 14,
    "start_time": "2021-12-14T08:39:12.225Z"
   },
   {
    "duration": 9,
    "start_time": "2021-12-14T08:39:12.689Z"
   },
   {
    "duration": 4,
    "start_time": "2021-12-14T08:39:18.938Z"
   },
   {
    "duration": 10,
    "start_time": "2021-12-14T08:39:19.593Z"
   },
   {
    "duration": 9,
    "start_time": "2021-12-14T08:39:19.913Z"
   },
   {
    "duration": 7,
    "start_time": "2021-12-14T08:40:10.025Z"
   },
   {
    "duration": 5,
    "start_time": "2021-12-14T08:40:23.097Z"
   },
   {
    "duration": 11,
    "start_time": "2021-12-14T08:40:37.409Z"
   },
   {
    "duration": 5,
    "start_time": "2021-12-14T08:40:44.521Z"
   },
   {
    "duration": 82,
    "start_time": "2021-12-14T08:42:25.072Z"
   },
   {
    "duration": 6,
    "start_time": "2021-12-14T08:42:29.224Z"
   },
   {
    "duration": 4,
    "start_time": "2021-12-14T08:51:49.082Z"
   },
   {
    "duration": 3,
    "start_time": "2021-12-14T08:52:53.850Z"
   },
   {
    "duration": 85,
    "start_time": "2021-12-14T08:54:18.657Z"
   },
   {
    "duration": 5,
    "start_time": "2021-12-14T09:08:12.495Z"
   },
   {
    "duration": 5,
    "start_time": "2021-12-14T09:08:40.744Z"
   },
   {
    "duration": 5,
    "start_time": "2021-12-14T09:09:02.576Z"
   },
   {
    "duration": 5,
    "start_time": "2021-12-14T09:09:11.808Z"
   },
   {
    "duration": 5,
    "start_time": "2021-12-14T09:09:14.975Z"
   },
   {
    "duration": 5,
    "start_time": "2021-12-14T09:09:15.440Z"
   },
   {
    "duration": 9,
    "start_time": "2021-12-14T09:09:44.927Z"
   },
   {
    "duration": 9,
    "start_time": "2021-12-14T09:15:39.515Z"
   },
   {
    "duration": 10,
    "start_time": "2021-12-14T09:15:49.611Z"
   },
   {
    "duration": 90,
    "start_time": "2021-12-14T09:22:07.129Z"
   },
   {
    "duration": 238,
    "start_time": "2021-12-14T09:22:16.496Z"
   },
   {
    "duration": 74,
    "start_time": "2021-12-14T09:22:51.216Z"
   },
   {
    "duration": 7,
    "start_time": "2021-12-14T09:22:55.031Z"
   },
   {
    "duration": 9,
    "start_time": "2021-12-14T09:23:22.080Z"
   },
   {
    "duration": 6,
    "start_time": "2021-12-14T09:23:32.983Z"
   },
   {
    "duration": 14,
    "start_time": "2021-12-14T09:35:29.864Z"
   },
   {
    "duration": 14,
    "start_time": "2021-12-14T09:44:07.563Z"
   },
   {
    "duration": 235,
    "start_time": "2021-12-14T09:46:58.969Z"
   },
   {
    "duration": 8,
    "start_time": "2021-12-14T09:47:05.290Z"
   },
   {
    "duration": 5,
    "start_time": "2021-12-14T09:47:30.009Z"
   },
   {
    "duration": 4,
    "start_time": "2021-12-14T09:47:40.801Z"
   },
   {
    "duration": 15,
    "start_time": "2021-12-14T09:47:50.722Z"
   },
   {
    "duration": 13,
    "start_time": "2021-12-14T09:48:02.961Z"
   },
   {
    "duration": 23,
    "start_time": "2021-12-14T09:50:33.455Z"
   },
   {
    "duration": 28,
    "start_time": "2021-12-14T09:52:48.062Z"
   },
   {
    "duration": 32,
    "start_time": "2021-12-14T09:52:59.774Z"
   },
   {
    "duration": 74,
    "start_time": "2021-12-14T09:57:06.587Z"
   },
   {
    "duration": 10,
    "start_time": "2021-12-14T09:57:10.900Z"
   },
   {
    "duration": 3,
    "start_time": "2021-12-14T09:57:25.595Z"
   },
   {
    "duration": 68,
    "start_time": "2021-12-14T09:57:26.987Z"
   },
   {
    "duration": 34,
    "start_time": "2021-12-14T09:57:28.427Z"
   },
   {
    "duration": 11,
    "start_time": "2021-12-14T09:57:32.355Z"
   },
   {
    "duration": 9,
    "start_time": "2021-12-14T09:57:38.193Z"
   },
   {
    "duration": 4,
    "start_time": "2021-12-14T09:57:39.315Z"
   },
   {
    "duration": 9,
    "start_time": "2021-12-14T09:57:44.458Z"
   },
   {
    "duration": 12,
    "start_time": "2021-12-14T09:57:52.883Z"
   },
   {
    "duration": 4,
    "start_time": "2021-12-14T09:57:57.890Z"
   },
   {
    "duration": 9,
    "start_time": "2021-12-14T09:57:59.586Z"
   },
   {
    "duration": 10,
    "start_time": "2021-12-14T09:58:01.698Z"
   },
   {
    "duration": 5,
    "start_time": "2021-12-14T09:58:33.122Z"
   },
   {
    "duration": 5,
    "start_time": "2021-12-14T09:58:53.754Z"
   },
   {
    "duration": 3,
    "start_time": "2021-12-14T09:59:15.786Z"
   },
   {
    "duration": 15,
    "start_time": "2021-12-14T09:59:19.033Z"
   },
   {
    "duration": 13,
    "start_time": "2021-12-14T09:59:23.490Z"
   },
   {
    "duration": 5,
    "start_time": "2021-12-14T09:59:27.354Z"
   },
   {
    "duration": 12,
    "start_time": "2021-12-14T10:00:43.401Z"
   },
   {
    "duration": 7,
    "start_time": "2021-12-14T10:00:45.481Z"
   },
   {
    "duration": 4,
    "start_time": "2021-12-14T10:00:47.154Z"
   },
   {
    "duration": 5,
    "start_time": "2021-12-14T10:00:49.505Z"
   },
   {
    "duration": 3,
    "start_time": "2021-12-14T10:01:39.057Z"
   },
   {
    "duration": 71,
    "start_time": "2021-12-14T10:01:40.505Z"
   },
   {
    "duration": 36,
    "start_time": "2021-12-14T10:01:41.641Z"
   },
   {
    "duration": 14,
    "start_time": "2021-12-14T10:01:47.401Z"
   },
   {
    "duration": 8,
    "start_time": "2021-12-14T10:01:51.393Z"
   },
   {
    "duration": 5,
    "start_time": "2021-12-14T10:01:53.632Z"
   },
   {
    "duration": 10,
    "start_time": "2021-12-14T10:01:56.096Z"
   },
   {
    "duration": 10,
    "start_time": "2021-12-14T10:02:01.216Z"
   },
   {
    "duration": 4,
    "start_time": "2021-12-14T10:02:07.536Z"
   },
   {
    "duration": 15,
    "start_time": "2021-12-14T10:02:13.705Z"
   },
   {
    "duration": 9,
    "start_time": "2021-12-14T10:02:15.633Z"
   },
   {
    "duration": 5,
    "start_time": "2021-12-14T10:02:23.520Z"
   },
   {
    "duration": 6,
    "start_time": "2021-12-14T10:02:42.256Z"
   },
   {
    "duration": 5,
    "start_time": "2021-12-14T10:03:49.264Z"
   },
   {
    "duration": 5,
    "start_time": "2021-12-14T10:04:12.767Z"
   },
   {
    "duration": 12,
    "start_time": "2021-12-14T10:05:16.279Z"
   },
   {
    "duration": 5,
    "start_time": "2021-12-14T10:07:04.317Z"
   },
   {
    "duration": 10,
    "start_time": "2021-12-14T10:07:08.237Z"
   },
   {
    "duration": 4,
    "start_time": "2021-12-14T10:07:12.357Z"
   },
   {
    "duration": 3,
    "start_time": "2021-12-14T10:08:44.405Z"
   },
   {
    "duration": 4,
    "start_time": "2021-12-14T10:09:10.308Z"
   },
   {
    "duration": 32,
    "start_time": "2021-12-14T10:23:35.060Z"
   },
   {
    "duration": 34,
    "start_time": "2021-12-14T10:40:46.667Z"
   },
   {
    "duration": 42,
    "start_time": "2021-12-14T10:41:16.177Z"
   },
   {
    "duration": 35,
    "start_time": "2021-12-14T10:41:42.233Z"
   },
   {
    "duration": 4,
    "start_time": "2021-12-14T10:52:07.516Z"
   },
   {
    "duration": 5,
    "start_time": "2021-12-14T10:52:41.898Z"
   },
   {
    "duration": 4,
    "start_time": "2021-12-14T10:52:52.218Z"
   },
   {
    "duration": 5,
    "start_time": "2021-12-14T10:56:51.105Z"
   },
   {
    "duration": 5,
    "start_time": "2021-12-14T10:57:12.217Z"
   },
   {
    "duration": 4,
    "start_time": "2021-12-14T10:57:43.056Z"
   },
   {
    "duration": 4,
    "start_time": "2021-12-14T10:58:20.168Z"
   },
   {
    "duration": 5,
    "start_time": "2021-12-14T10:58:24.743Z"
   },
   {
    "duration": 12,
    "start_time": "2021-12-14T10:58:30.880Z"
   },
   {
    "duration": 7,
    "start_time": "2021-12-14T10:58:33.784Z"
   },
   {
    "duration": 5,
    "start_time": "2021-12-14T10:58:35.903Z"
   },
   {
    "duration": 5,
    "start_time": "2021-12-14T10:58:38.199Z"
   },
   {
    "duration": 5,
    "start_time": "2021-12-14T10:58:42.878Z"
   },
   {
    "duration": 20,
    "start_time": "2021-12-14T11:31:19.260Z"
   },
   {
    "duration": 5,
    "start_time": "2021-12-14T11:31:42.587Z"
   },
   {
    "duration": 8,
    "start_time": "2021-12-14T11:32:43.291Z"
   },
   {
    "duration": 5,
    "start_time": "2021-12-14T11:32:44.090Z"
   },
   {
    "duration": 83,
    "start_time": "2021-12-14T11:33:44.466Z"
   },
   {
    "duration": 9,
    "start_time": "2021-12-14T11:36:40.656Z"
   },
   {
    "duration": 6,
    "start_time": "2021-12-14T11:44:11.755Z"
   },
   {
    "duration": 5,
    "start_time": "2021-12-14T11:44:26.452Z"
   },
   {
    "duration": 5,
    "start_time": "2021-12-14T11:44:48.619Z"
   },
   {
    "duration": 26,
    "start_time": "2021-12-14T11:45:59.123Z"
   },
   {
    "duration": 16,
    "start_time": "2021-12-14T11:46:44.579Z"
   },
   {
    "duration": 14,
    "start_time": "2021-12-14T11:47:13.475Z"
   },
   {
    "duration": 16,
    "start_time": "2021-12-14T11:47:27.418Z"
   },
   {
    "duration": 13,
    "start_time": "2021-12-14T11:47:37.658Z"
   },
   {
    "duration": 4,
    "start_time": "2021-12-14T11:47:50.457Z"
   },
   {
    "duration": 4,
    "start_time": "2021-12-14T11:48:01.737Z"
   },
   {
    "duration": 7,
    "start_time": "2021-12-14T11:56:22.700Z"
   },
   {
    "duration": 4,
    "start_time": "2021-12-14T11:56:50.501Z"
   },
   {
    "duration": 12,
    "start_time": "2021-12-14T11:57:04.773Z"
   },
   {
    "duration": 13,
    "start_time": "2021-12-14T11:59:34.547Z"
   },
   {
    "duration": 3,
    "start_time": "2021-12-14T12:04:32.343Z"
   },
   {
    "duration": 5,
    "start_time": "2021-12-14T12:05:02.608Z"
   },
   {
    "duration": 3,
    "start_time": "2021-12-14T12:06:42.415Z"
   },
   {
    "duration": 4,
    "start_time": "2021-12-14T12:10:09.706Z"
   },
   {
    "duration": 4,
    "start_time": "2021-12-14T12:10:14.276Z"
   },
   {
    "duration": 98,
    "start_time": "2021-12-14T12:10:41.796Z"
   },
   {
    "duration": 243,
    "start_time": "2021-12-14T12:11:32.851Z"
   },
   {
    "duration": 5,
    "start_time": "2021-12-14T12:11:39.140Z"
   },
   {
    "duration": 17,
    "start_time": "2021-12-14T12:12:18.796Z"
   },
   {
    "duration": 238,
    "start_time": "2021-12-14T12:12:39.834Z"
   },
   {
    "duration": 305,
    "start_time": "2021-12-14T12:12:59.579Z"
   },
   {
    "duration": 18,
    "start_time": "2021-12-14T12:13:09.619Z"
   },
   {
    "duration": 250,
    "start_time": "2021-12-14T12:14:41.114Z"
   },
   {
    "duration": 18,
    "start_time": "2021-12-14T12:14:48.803Z"
   },
   {
    "duration": 347,
    "start_time": "2021-12-14T12:15:04.466Z"
   },
   {
    "duration": 278,
    "start_time": "2021-12-14T12:16:09.292Z"
   },
   {
    "duration": 340,
    "start_time": "2021-12-14T12:16:29.305Z"
   },
   {
    "duration": 10,
    "start_time": "2021-12-14T12:16:44.376Z"
   },
   {
    "duration": 7,
    "start_time": "2021-12-14T12:17:29.176Z"
   },
   {
    "duration": 8,
    "start_time": "2021-12-14T12:17:38.616Z"
   },
   {
    "duration": 6,
    "start_time": "2021-12-14T12:17:45.632Z"
   },
   {
    "duration": 101,
    "start_time": "2021-12-14T12:19:28.863Z"
   },
   {
    "duration": 6,
    "start_time": "2021-12-14T12:20:53.566Z"
   },
   {
    "duration": 4,
    "start_time": "2021-12-14T12:21:04.094Z"
   },
   {
    "duration": 5,
    "start_time": "2021-12-14T12:21:19.751Z"
   },
   {
    "duration": 436,
    "start_time": "2021-12-14T12:22:16.104Z"
   },
   {
    "duration": 3,
    "start_time": "2021-12-14T12:46:12.207Z"
   },
   {
    "duration": 3,
    "start_time": "2021-12-14T12:50:18.579Z"
   },
   {
    "duration": 3,
    "start_time": "2021-12-14T12:50:52.147Z"
   },
   {
    "duration": 3,
    "start_time": "2021-12-14T12:51:36.802Z"
   },
   {
    "duration": 6,
    "start_time": "2021-12-14T12:52:09.562Z"
   },
   {
    "duration": 9,
    "start_time": "2021-12-14T12:52:37.970Z"
   },
   {
    "duration": 9,
    "start_time": "2021-12-14T12:54:25.107Z"
   },
   {
    "duration": 5,
    "start_time": "2021-12-14T12:57:40.993Z"
   },
   {
    "duration": 3,
    "start_time": "2021-12-14T12:58:01.886Z"
   },
   {
    "duration": 66,
    "start_time": "2021-12-14T12:58:03.734Z"
   },
   {
    "duration": 29,
    "start_time": "2021-12-14T12:58:05.166Z"
   },
   {
    "duration": 11,
    "start_time": "2021-12-14T12:58:19.559Z"
   },
   {
    "duration": 10,
    "start_time": "2021-12-14T12:58:26.391Z"
   },
   {
    "duration": 3,
    "start_time": "2021-12-14T12:58:27.519Z"
   },
   {
    "duration": 10,
    "start_time": "2021-12-14T12:58:31.319Z"
   },
   {
    "duration": 9,
    "start_time": "2021-12-14T12:58:34.502Z"
   },
   {
    "duration": 3,
    "start_time": "2021-12-14T12:58:36.454Z"
   },
   {
    "duration": 9,
    "start_time": "2021-12-14T12:58:37.590Z"
   },
   {
    "duration": 4,
    "start_time": "2021-12-14T12:58:38.598Z"
   },
   {
    "duration": 9,
    "start_time": "2021-12-14T12:58:40.343Z"
   },
   {
    "duration": 5,
    "start_time": "2021-12-14T12:58:41.759Z"
   },
   {
    "duration": 9,
    "start_time": "2021-12-14T12:58:45.095Z"
   },
   {
    "duration": 6,
    "start_time": "2021-12-14T12:58:47.350Z"
   },
   {
    "duration": 5,
    "start_time": "2021-12-14T12:58:48.766Z"
   },
   {
    "duration": 4,
    "start_time": "2021-12-14T12:58:52.718Z"
   },
   {
    "duration": 5,
    "start_time": "2021-12-14T12:58:58.222Z"
   },
   {
    "duration": 5,
    "start_time": "2021-12-14T12:58:58.823Z"
   },
   {
    "duration": 5,
    "start_time": "2021-12-14T12:59:00.262Z"
   },
   {
    "duration": 4,
    "start_time": "2021-12-14T12:59:03.542Z"
   },
   {
    "duration": 13,
    "start_time": "2021-12-14T12:59:07.262Z"
   },
   {
    "duration": 6,
    "start_time": "2021-12-14T12:59:09.237Z"
   },
   {
    "duration": 5,
    "start_time": "2021-12-14T12:59:09.877Z"
   },
   {
    "duration": 4,
    "start_time": "2021-12-14T12:59:13.254Z"
   },
   {
    "duration": 4,
    "start_time": "2021-12-14T12:59:14.846Z"
   },
   {
    "duration": 7,
    "start_time": "2021-12-14T12:59:18.214Z"
   },
   {
    "duration": 4,
    "start_time": "2021-12-14T12:59:24.054Z"
   },
   {
    "duration": 5,
    "start_time": "2021-12-14T12:59:25.598Z"
   },
   {
    "duration": 3,
    "start_time": "2021-12-14T12:59:42.678Z"
   },
   {
    "duration": 3,
    "start_time": "2021-12-14T12:59:45.718Z"
   },
   {
    "duration": 6,
    "start_time": "2021-12-14T12:59:48.742Z"
   },
   {
    "duration": 8,
    "start_time": "2021-12-14T12:59:53.070Z"
   },
   {
    "duration": 4,
    "start_time": "2021-12-14T13:10:08.784Z"
   },
   {
    "duration": 11,
    "start_time": "2021-12-14T13:23:11.992Z"
   },
   {
    "duration": 8,
    "start_time": "2021-12-14T13:24:05.264Z"
   },
   {
    "duration": 6,
    "start_time": "2021-12-14T13:24:27.471Z"
   },
   {
    "duration": 5,
    "start_time": "2021-12-14T13:56:37.161Z"
   },
   {
    "duration": 4,
    "start_time": "2021-12-14T13:56:57.064Z"
   },
   {
    "duration": 4,
    "start_time": "2021-12-14T13:59:53.351Z"
   },
   {
    "duration": 4,
    "start_time": "2021-12-14T14:00:00.336Z"
   },
   {
    "duration": 245,
    "start_time": "2021-12-14T14:01:52.797Z"
   },
   {
    "duration": 6,
    "start_time": "2021-12-14T14:03:48.068Z"
   },
   {
    "duration": 13,
    "start_time": "2021-12-14T14:04:02.212Z"
   },
   {
    "duration": 6,
    "start_time": "2021-12-14T14:05:13.482Z"
   },
   {
    "duration": 12,
    "start_time": "2021-12-14T14:05:14.674Z"
   },
   {
    "duration": 255,
    "start_time": "2021-12-14T14:05:23.691Z"
   },
   {
    "duration": 6,
    "start_time": "2021-12-14T14:05:35.666Z"
   },
   {
    "duration": 12,
    "start_time": "2021-12-14T14:05:38.978Z"
   },
   {
    "duration": 12,
    "start_time": "2021-12-14T14:08:11.944Z"
   },
   {
    "duration": 272,
    "start_time": "2021-12-14T14:21:54.464Z"
   },
   {
    "duration": 8,
    "start_time": "2021-12-14T14:22:14.559Z"
   },
   {
    "duration": 254,
    "start_time": "2021-12-14T14:22:19.999Z"
   },
   {
    "duration": 7,
    "start_time": "2021-12-14T14:22:30.888Z"
   },
   {
    "duration": 367,
    "start_time": "2021-12-14T14:22:37.135Z"
   },
   {
    "duration": 4,
    "start_time": "2021-12-14T14:23:23.271Z"
   },
   {
    "duration": 5,
    "start_time": "2021-12-14T14:28:57.804Z"
   },
   {
    "duration": 3,
    "start_time": "2021-12-14T14:29:01.908Z"
   },
   {
    "duration": 5,
    "start_time": "2021-12-14T14:29:27.459Z"
   },
   {
    "duration": 4,
    "start_time": "2021-12-14T14:29:46.843Z"
   },
   {
    "duration": 5,
    "start_time": "2021-12-14T14:30:09.267Z"
   },
   {
    "duration": 3,
    "start_time": "2021-12-14T14:30:35.690Z"
   },
   {
    "duration": 69,
    "start_time": "2021-12-14T14:30:37.482Z"
   },
   {
    "duration": 28,
    "start_time": "2021-12-14T14:30:38.826Z"
   },
   {
    "duration": 11,
    "start_time": "2021-12-14T14:30:42.434Z"
   },
   {
    "duration": 7,
    "start_time": "2021-12-14T14:30:46.818Z"
   },
   {
    "duration": 3,
    "start_time": "2021-12-14T14:30:47.570Z"
   },
   {
    "duration": 9,
    "start_time": "2021-12-14T14:30:48.738Z"
   },
   {
    "duration": 10,
    "start_time": "2021-12-14T14:30:49.554Z"
   },
   {
    "duration": 3,
    "start_time": "2021-12-14T14:30:49.986Z"
   },
   {
    "duration": 10,
    "start_time": "2021-12-14T14:30:50.394Z"
   },
   {
    "duration": 4,
    "start_time": "2021-12-14T14:30:50.803Z"
   },
   {
    "duration": 9,
    "start_time": "2021-12-14T14:30:51.242Z"
   },
   {
    "duration": 5,
    "start_time": "2021-12-14T14:30:51.665Z"
   },
   {
    "duration": 9,
    "start_time": "2021-12-14T14:30:52.609Z"
   },
   {
    "duration": 7,
    "start_time": "2021-12-14T14:30:53.162Z"
   },
   {
    "duration": 5,
    "start_time": "2021-12-14T14:30:53.785Z"
   },
   {
    "duration": 5,
    "start_time": "2021-12-14T14:30:54.489Z"
   },
   {
    "duration": 5,
    "start_time": "2021-12-14T14:30:55.802Z"
   },
   {
    "duration": 4,
    "start_time": "2021-12-14T14:30:56.146Z"
   },
   {
    "duration": 5,
    "start_time": "2021-12-14T14:30:56.779Z"
   },
   {
    "duration": 5,
    "start_time": "2021-12-14T14:30:57.393Z"
   },
   {
    "duration": 14,
    "start_time": "2021-12-14T14:30:58.714Z"
   },
   {
    "duration": 6,
    "start_time": "2021-12-14T14:30:59.441Z"
   },
   {
    "duration": 5,
    "start_time": "2021-12-14T14:30:59.825Z"
   },
   {
    "duration": 4,
    "start_time": "2021-12-14T14:31:01.242Z"
   },
   {
    "duration": 5,
    "start_time": "2021-12-14T14:31:01.546Z"
   },
   {
    "duration": 8,
    "start_time": "2021-12-14T14:31:03.057Z"
   },
   {
    "duration": 5,
    "start_time": "2021-12-14T14:31:04.017Z"
   },
   {
    "duration": 5,
    "start_time": "2021-12-14T14:31:04.601Z"
   },
   {
    "duration": 5,
    "start_time": "2021-12-14T14:31:07.457Z"
   },
   {
    "duration": 3,
    "start_time": "2021-12-14T14:31:08.306Z"
   },
   {
    "duration": 6,
    "start_time": "2021-12-14T14:31:09.106Z"
   },
   {
    "duration": 9,
    "start_time": "2021-12-14T14:31:10.193Z"
   },
   {
    "duration": 5,
    "start_time": "2021-12-14T14:31:11.673Z"
   },
   {
    "duration": 4,
    "start_time": "2021-12-14T14:31:12.354Z"
   },
   {
    "duration": 9,
    "start_time": "2021-12-14T14:31:18.098Z"
   },
   {
    "duration": 5,
    "start_time": "2021-12-14T14:31:18.473Z"
   },
   {
    "duration": 4,
    "start_time": "2021-12-14T14:31:37.867Z"
   },
   {
    "duration": 80,
    "start_time": "2021-12-14T14:33:48.049Z"
   },
   {
    "duration": 3,
    "start_time": "2021-12-14T14:34:03.136Z"
   },
   {
    "duration": 4,
    "start_time": "2021-12-14T14:34:04.296Z"
   },
   {
    "duration": 4,
    "start_time": "2021-12-14T14:35:28.810Z"
   },
   {
    "duration": 8,
    "start_time": "2021-12-14T14:37:35.511Z"
   },
   {
    "duration": 4,
    "start_time": "2021-12-14T14:55:02.236Z"
   },
   {
    "duration": 3,
    "start_time": "2021-12-14T14:58:04.242Z"
   },
   {
    "duration": 3,
    "start_time": "2021-12-14T14:58:33.106Z"
   },
   {
    "duration": 6580,
    "start_time": "2021-12-14T14:59:21.193Z"
   },
   {
    "duration": 3,
    "start_time": "2021-12-14T14:59:54.313Z"
   },
   {
    "duration": 9,
    "start_time": "2021-12-14T14:59:55.785Z"
   },
   {
    "duration": 12,
    "start_time": "2021-12-14T15:00:58.072Z"
   },
   {
    "duration": 731,
    "start_time": "2021-12-14T15:03:22.895Z"
   },
   {
    "duration": 244,
    "start_time": "2021-12-14T15:03:30.630Z"
   },
   {
    "duration": 6,
    "start_time": "2021-12-14T15:04:44.318Z"
   },
   {
    "duration": 6,
    "start_time": "2021-12-14T17:59:00.299Z"
   },
   {
    "duration": 329,
    "start_time": "2021-12-14T18:06:01.916Z"
   },
   {
    "duration": 3,
    "start_time": "2021-12-14T18:06:14.358Z"
   },
   {
    "duration": 396,
    "start_time": "2021-12-14T18:06:16.604Z"
   },
   {
    "duration": 738,
    "start_time": "2021-12-14T18:06:26.979Z"
   },
   {
    "duration": 79,
    "start_time": "2021-12-14T18:06:27.720Z"
   },
   {
    "duration": 64,
    "start_time": "2021-12-14T18:06:27.802Z"
   },
   {
    "duration": 19,
    "start_time": "2021-12-14T18:06:27.868Z"
   },
   {
    "duration": 10,
    "start_time": "2021-12-14T18:06:28.321Z"
   },
   {
    "duration": 5,
    "start_time": "2021-12-14T18:06:28.487Z"
   },
   {
    "duration": 13,
    "start_time": "2021-12-14T18:06:28.825Z"
   },
   {
    "duration": 12,
    "start_time": "2021-12-14T18:06:29.161Z"
   },
   {
    "duration": 4,
    "start_time": "2021-12-14T18:06:29.328Z"
   },
   {
    "duration": 14,
    "start_time": "2021-12-14T18:06:29.496Z"
   },
   {
    "duration": 5,
    "start_time": "2021-12-14T18:06:29.664Z"
   },
   {
    "duration": 12,
    "start_time": "2021-12-14T18:06:29.831Z"
   },
   {
    "duration": 6,
    "start_time": "2021-12-14T18:06:29.997Z"
   },
   {
    "duration": 13,
    "start_time": "2021-12-14T18:06:30.334Z"
   },
   {
    "duration": 8,
    "start_time": "2021-12-14T18:06:30.501Z"
   },
   {
    "duration": 7,
    "start_time": "2021-12-14T18:06:30.669Z"
   },
   {
    "duration": 6,
    "start_time": "2021-12-14T18:06:30.837Z"
   },
   {
    "duration": 6,
    "start_time": "2021-12-14T18:06:31.173Z"
   },
   {
    "duration": 6,
    "start_time": "2021-12-14T18:06:31.258Z"
   },
   {
    "duration": 12,
    "start_time": "2021-12-14T18:06:31.425Z"
   },
   {
    "duration": 5,
    "start_time": "2021-12-14T18:06:31.594Z"
   },
   {
    "duration": 23,
    "start_time": "2021-12-14T18:06:31.928Z"
   },
   {
    "duration": 8,
    "start_time": "2021-12-14T18:06:32.096Z"
   },
   {
    "duration": 7,
    "start_time": "2021-12-14T18:06:32.185Z"
   },
   {
    "duration": 5,
    "start_time": "2021-12-14T18:06:32.516Z"
   },
   {
    "duration": 6,
    "start_time": "2021-12-14T18:06:32.600Z"
   },
   {
    "duration": 9,
    "start_time": "2021-12-14T18:06:32.935Z"
   },
   {
    "duration": 6,
    "start_time": "2021-12-14T18:06:33.104Z"
   },
   {
    "duration": 7,
    "start_time": "2021-12-14T18:06:33.188Z"
   },
   {
    "duration": 4,
    "start_time": "2021-12-14T18:06:33.607Z"
   },
   {
    "duration": 3,
    "start_time": "2021-12-14T18:06:33.775Z"
   },
   {
    "duration": 8,
    "start_time": "2021-12-14T18:06:33.942Z"
   },
   {
    "duration": 11,
    "start_time": "2021-12-14T18:06:34.109Z"
   },
   {
    "duration": 5,
    "start_time": "2021-12-14T18:06:34.361Z"
   },
   {
    "duration": 5,
    "start_time": "2021-12-14T18:06:34.443Z"
   },
   {
    "duration": 13,
    "start_time": "2021-12-14T18:06:34.696Z"
   },
   {
    "duration": 11,
    "start_time": "2021-12-14T18:06:35.115Z"
   },
   {
    "duration": 5,
    "start_time": "2021-12-14T18:06:35.201Z"
   },
   {
    "duration": 4,
    "start_time": "2021-12-14T18:06:35.533Z"
   },
   {
    "duration": 4,
    "start_time": "2021-12-14T18:06:35.700Z"
   },
   {
    "duration": 14,
    "start_time": "2021-12-14T18:06:35.867Z"
   },
   {
    "duration": 8,
    "start_time": "2021-12-14T18:06:36.035Z"
   },
   {
    "duration": 24,
    "start_time": "2021-12-14T18:06:36.453Z"
   },
   {
    "duration": 3,
    "start_time": "2021-12-14T18:06:36.543Z"
   },
   {
    "duration": 6,
    "start_time": "2021-12-14T18:07:41.571Z"
   },
   {
    "duration": 25,
    "start_time": "2021-12-14T18:07:51.973Z"
   },
   {
    "duration": 9,
    "start_time": "2021-12-14T18:09:26.137Z"
   },
   {
    "duration": 6,
    "start_time": "2021-12-14T18:09:52.180Z"
   },
   {
    "duration": 24,
    "start_time": "2021-12-14T18:09:54.707Z"
   },
   {
    "duration": 5,
    "start_time": "2021-12-14T18:11:09.610Z"
   },
   {
    "duration": 27,
    "start_time": "2021-12-14T18:11:10.842Z"
   },
   {
    "duration": 10,
    "start_time": "2021-12-14T18:20:28.740Z"
   },
   {
    "duration": 18,
    "start_time": "2021-12-14T18:20:46.756Z"
   },
   {
    "duration": 24,
    "start_time": "2021-12-14T18:20:54.524Z"
   },
   {
    "duration": 52,
    "start_time": "2021-12-14T18:21:02.771Z"
   },
   {
    "duration": 7,
    "start_time": "2021-12-14T18:21:25.229Z"
   },
   {
    "duration": 7,
    "start_time": "2021-12-14T18:27:52.215Z"
   },
   {
    "duration": 27,
    "start_time": "2021-12-14T18:28:07.854Z"
   },
   {
    "duration": 7,
    "start_time": "2021-12-14T18:31:17.669Z"
   },
   {
    "duration": 31,
    "start_time": "2021-12-14T18:31:28.964Z"
   },
   {
    "duration": 8,
    "start_time": "2021-12-14T18:33:12.443Z"
   },
   {
    "duration": 7,
    "start_time": "2021-12-14T18:33:15.355Z"
   },
   {
    "duration": 7,
    "start_time": "2021-12-14T18:33:18.291Z"
   },
   {
    "duration": 4,
    "start_time": "2021-12-14T19:02:50.249Z"
   },
   {
    "duration": 1507,
    "start_time": "2021-12-14T19:04:09.896Z"
   },
   {
    "duration": 4,
    "start_time": "2021-12-14T19:04:48.873Z"
   },
   {
    "duration": 1998,
    "start_time": "2021-12-14T19:04:51.566Z"
   },
   {
    "duration": 4,
    "start_time": "2021-12-14T19:05:26.350Z"
   },
   {
    "duration": 1351,
    "start_time": "2021-12-14T19:05:28.894Z"
   },
   {
    "duration": 5,
    "start_time": "2021-12-14T19:07:02.877Z"
   },
   {
    "duration": 1852,
    "start_time": "2021-12-14T19:07:04.863Z"
   },
   {
    "duration": 5,
    "start_time": "2021-12-14T19:11:35.058Z"
   },
   {
    "duration": 1743,
    "start_time": "2021-12-14T19:11:41.937Z"
   },
   {
    "duration": 90,
    "start_time": "2021-12-14T19:14:08.296Z"
   },
   {
    "duration": 102,
    "start_time": "2021-12-14T19:14:26.775Z"
   },
   {
    "duration": 4,
    "start_time": "2021-12-14T19:14:46.263Z"
   },
   {
    "duration": 2527,
    "start_time": "2021-12-14T19:14:48.599Z"
   },
   {
    "duration": 5,
    "start_time": "2021-12-14T19:15:53.877Z"
   },
   {
    "duration": 1159,
    "start_time": "2021-12-14T19:15:55.357Z"
   },
   {
    "duration": 574,
    "start_time": "2021-12-14T19:16:24.861Z"
   },
   {
    "duration": 4,
    "start_time": "2021-12-14T19:17:30.086Z"
   },
   {
    "duration": 1403,
    "start_time": "2021-12-14T19:17:32.829Z"
   },
   {
    "duration": 129,
    "start_time": "2021-12-14T19:18:57.605Z"
   },
   {
    "duration": 5,
    "start_time": "2021-12-14T19:19:18.380Z"
   },
   {
    "duration": 12488,
    "start_time": "2021-12-14T19:19:20.956Z"
   },
   {
    "duration": 5,
    "start_time": "2021-12-14T19:21:39.042Z"
   },
   {
    "duration": 1471,
    "start_time": "2021-12-14T19:21:43.659Z"
   },
   {
    "duration": 4,
    "start_time": "2021-12-14T19:23:55.264Z"
   },
   {
    "duration": 1292,
    "start_time": "2021-12-14T19:23:57.736Z"
   },
   {
    "duration": 1153,
    "start_time": "2021-12-14T19:30:38.268Z"
   },
   {
    "duration": 1072,
    "start_time": "2021-12-14T19:31:00.172Z"
   },
   {
    "duration": 758,
    "start_time": "2021-12-14T19:32:12.030Z"
   },
   {
    "duration": 6,
    "start_time": "2021-12-14T19:38:01.264Z"
   },
   {
    "duration": 5364,
    "start_time": "2021-12-14T19:38:08.695Z"
   },
   {
    "duration": 1185,
    "start_time": "2021-12-14T19:39:33.758Z"
   },
   {
    "duration": 27,
    "start_time": "2021-12-14T19:39:53.389Z"
   },
   {
    "duration": 6,
    "start_time": "2021-12-14T19:40:20.189Z"
   },
   {
    "duration": 6,
    "start_time": "2021-12-14T19:42:00.956Z"
   },
   {
    "duration": 756,
    "start_time": "2021-12-14T19:44:34.658Z"
   },
   {
    "duration": 6,
    "start_time": "2021-12-14T19:44:38.954Z"
   },
   {
    "duration": 31,
    "start_time": "2021-12-14T19:45:50.802Z"
   },
   {
    "duration": 5,
    "start_time": "2021-12-14T19:49:29.135Z"
   },
   {
    "duration": 279,
    "start_time": "2021-12-15T05:35:33.914Z"
   },
   {
    "duration": 234,
    "start_time": "2021-12-15T06:24:07.056Z"
   },
   {
    "duration": 528,
    "start_time": "2021-12-15T06:24:18.947Z"
   },
   {
    "duration": 64,
    "start_time": "2021-12-15T06:24:19.477Z"
   },
   {
    "duration": 34,
    "start_time": "2021-12-15T06:24:19.544Z"
   },
   {
    "duration": 10,
    "start_time": "2021-12-15T06:24:19.726Z"
   },
   {
    "duration": 7,
    "start_time": "2021-12-15T06:24:20.289Z"
   },
   {
    "duration": 3,
    "start_time": "2021-12-15T06:24:20.456Z"
   },
   {
    "duration": 9,
    "start_time": "2021-12-15T06:24:20.792Z"
   },
   {
    "duration": 8,
    "start_time": "2021-12-15T06:24:21.128Z"
   },
   {
    "duration": 3,
    "start_time": "2021-12-15T06:24:21.296Z"
   },
   {
    "duration": 9,
    "start_time": "2021-12-15T06:24:21.462Z"
   },
   {
    "duration": 4,
    "start_time": "2021-12-15T06:24:21.630Z"
   },
   {
    "duration": 8,
    "start_time": "2021-12-15T06:24:21.798Z"
   },
   {
    "duration": 4,
    "start_time": "2021-12-15T06:24:21.966Z"
   },
   {
    "duration": 8,
    "start_time": "2021-12-15T06:24:22.302Z"
   },
   {
    "duration": 6,
    "start_time": "2021-12-15T06:24:22.469Z"
   },
   {
    "duration": 5,
    "start_time": "2021-12-15T06:24:22.637Z"
   },
   {
    "duration": 4,
    "start_time": "2021-12-15T06:24:22.803Z"
   },
   {
    "duration": 4,
    "start_time": "2021-12-15T06:24:23.138Z"
   },
   {
    "duration": 5,
    "start_time": "2021-12-15T06:24:23.223Z"
   },
   {
    "duration": 8,
    "start_time": "2021-12-15T06:24:23.391Z"
   },
   {
    "duration": 4,
    "start_time": "2021-12-15T06:24:23.558Z"
   },
   {
    "duration": 12,
    "start_time": "2021-12-15T06:24:23.895Z"
   },
   {
    "duration": 5,
    "start_time": "2021-12-15T06:24:24.063Z"
   },
   {
    "duration": 3,
    "start_time": "2021-12-15T06:24:24.146Z"
   },
   {
    "duration": 4,
    "start_time": "2021-12-15T06:24:24.481Z"
   },
   {
    "duration": 4,
    "start_time": "2021-12-15T06:24:24.567Z"
   },
   {
    "duration": 6,
    "start_time": "2021-12-15T06:24:24.902Z"
   },
   {
    "duration": 5,
    "start_time": "2021-12-15T06:24:25.074Z"
   },
   {
    "duration": 4,
    "start_time": "2021-12-15T06:24:25.156Z"
   },
   {
    "duration": 3,
    "start_time": "2021-12-15T06:24:25.572Z"
   },
   {
    "duration": 2,
    "start_time": "2021-12-15T06:24:25.740Z"
   },
   {
    "duration": 5,
    "start_time": "2021-12-15T06:24:25.909Z"
   },
   {
    "duration": 7,
    "start_time": "2021-12-15T06:24:26.077Z"
   },
   {
    "duration": 4,
    "start_time": "2021-12-15T06:24:26.329Z"
   },
   {
    "duration": 4,
    "start_time": "2021-12-15T06:24:26.411Z"
   },
   {
    "duration": 9,
    "start_time": "2021-12-15T06:24:26.664Z"
   },
   {
    "duration": 8,
    "start_time": "2021-12-15T06:24:27.084Z"
   },
   {
    "duration": 4,
    "start_time": "2021-12-15T06:24:27.171Z"
   },
   {
    "duration": 3,
    "start_time": "2021-12-15T06:24:27.504Z"
   },
   {
    "duration": 3,
    "start_time": "2021-12-15T06:24:27.670Z"
   },
   {
    "duration": 11,
    "start_time": "2021-12-15T06:24:27.837Z"
   },
   {
    "duration": 7,
    "start_time": "2021-12-15T06:24:28.003Z"
   },
   {
    "duration": 6,
    "start_time": "2021-12-15T06:24:28.423Z"
   },
   {
    "duration": 48,
    "start_time": "2021-12-15T06:24:28.809Z"
   },
   {
    "duration": 4,
    "start_time": "2021-12-15T06:24:28.944Z"
   },
   {
    "duration": 428,
    "start_time": "2021-12-15T06:24:29.009Z"
   },
   {
    "duration": 4,
    "start_time": "2021-12-15T06:24:29.438Z"
   },
   {
    "duration": 55,
    "start_time": "2021-12-15T06:25:51.376Z"
   },
   {
    "duration": 17,
    "start_time": "2021-12-15T06:26:10.816Z"
   },
   {
    "duration": 6,
    "start_time": "2021-12-15T06:27:11.194Z"
   },
   {
    "duration": 47,
    "start_time": "2021-12-15T06:27:26.064Z"
   },
   {
    "duration": 4,
    "start_time": "2021-12-15T06:28:09.119Z"
   },
   {
    "duration": 4,
    "start_time": "2021-12-15T06:28:20.680Z"
   },
   {
    "duration": 4,
    "start_time": "2021-12-15T06:28:26.887Z"
   },
   {
    "duration": 46,
    "start_time": "2021-12-15T06:29:23.880Z"
   },
   {
    "duration": 89,
    "start_time": "2021-12-15T07:41:37.157Z"
   },
   {
    "duration": 16,
    "start_time": "2021-12-15T07:42:01.318Z"
   },
   {
    "duration": 4,
    "start_time": "2021-12-15T07:42:35.880Z"
   },
   {
    "duration": 17,
    "start_time": "2021-12-15T07:42:43.029Z"
   },
   {
    "duration": 5,
    "start_time": "2021-12-15T07:50:47.408Z"
   },
   {
    "duration": 16,
    "start_time": "2021-12-15T07:50:54.176Z"
   },
   {
    "duration": 4,
    "start_time": "2021-12-15T07:51:39.367Z"
   },
   {
    "duration": 4,
    "start_time": "2021-12-15T07:52:34.487Z"
   },
   {
    "duration": 4,
    "start_time": "2021-12-15T07:53:01.542Z"
   },
   {
    "duration": 4,
    "start_time": "2021-12-15T07:55:04.022Z"
   },
   {
    "duration": 4,
    "start_time": "2021-12-15T07:55:20.855Z"
   },
   {
    "duration": 4,
    "start_time": "2021-12-15T07:56:15.685Z"
   },
   {
    "duration": 41,
    "start_time": "2021-12-15T07:58:39.211Z"
   },
   {
    "duration": 5,
    "start_time": "2021-12-15T08:00:40.323Z"
   },
   {
    "duration": 4,
    "start_time": "2021-12-15T08:01:27.378Z"
   },
   {
    "duration": 38,
    "start_time": "2021-12-15T08:04:38.064Z"
   },
   {
    "duration": 3,
    "start_time": "2021-12-15T08:06:19.718Z"
   },
   {
    "duration": 17,
    "start_time": "2021-12-15T08:17:07.184Z"
   },
   {
    "duration": 4,
    "start_time": "2021-12-15T08:18:03.590Z"
   },
   {
    "duration": 252,
    "start_time": "2021-12-15T08:18:16.678Z"
   },
   {
    "duration": 4,
    "start_time": "2021-12-15T08:18:33.095Z"
   },
   {
    "duration": 3,
    "start_time": "2021-12-15T08:25:36.210Z"
   },
   {
    "duration": 31,
    "start_time": "2021-12-15T08:37:47.068Z"
   },
   {
    "duration": 4,
    "start_time": "2021-12-15T08:53:35.977Z"
   },
   {
    "duration": 426,
    "start_time": "2021-12-15T08:54:25.379Z"
   },
   {
    "duration": 229,
    "start_time": "2021-12-15T08:54:57.137Z"
   },
   {
    "duration": 4,
    "start_time": "2021-12-15T08:55:06.368Z"
   },
   {
    "duration": 466,
    "start_time": "2021-12-15T08:55:33.095Z"
   },
   {
    "duration": 4,
    "start_time": "2021-12-15T08:55:34.159Z"
   },
   {
    "duration": 2,
    "start_time": "2021-12-15T08:55:46.826Z"
   },
   {
    "duration": 65,
    "start_time": "2021-12-15T08:55:47.059Z"
   },
   {
    "duration": 26,
    "start_time": "2021-12-15T08:55:47.311Z"
   },
   {
    "duration": 10,
    "start_time": "2021-12-15T08:55:47.561Z"
   },
   {
    "duration": 6,
    "start_time": "2021-12-15T08:55:48.149Z"
   },
   {
    "duration": 3,
    "start_time": "2021-12-15T08:55:48.317Z"
   },
   {
    "duration": 8,
    "start_time": "2021-12-15T08:55:48.653Z"
   },
   {
    "duration": 8,
    "start_time": "2021-12-15T08:55:48.989Z"
   },
   {
    "duration": 3,
    "start_time": "2021-12-15T08:55:49.161Z"
   },
   {
    "duration": 8,
    "start_time": "2021-12-15T08:55:49.325Z"
   },
   {
    "duration": 4,
    "start_time": "2021-12-15T08:55:49.493Z"
   },
   {
    "duration": 9,
    "start_time": "2021-12-15T08:55:49.660Z"
   },
   {
    "duration": 4,
    "start_time": "2021-12-15T08:55:49.843Z"
   },
   {
    "duration": 8,
    "start_time": "2021-12-15T08:55:50.164Z"
   },
   {
    "duration": 5,
    "start_time": "2021-12-15T08:55:50.332Z"
   },
   {
    "duration": 5,
    "start_time": "2021-12-15T08:55:50.499Z"
   },
   {
    "duration": 4,
    "start_time": "2021-12-15T08:55:50.668Z"
   },
   {
    "duration": 5,
    "start_time": "2021-12-15T08:55:51.004Z"
   },
   {
    "duration": 4,
    "start_time": "2021-12-15T08:55:51.090Z"
   },
   {
    "duration": 5,
    "start_time": "2021-12-15T08:55:51.254Z"
   },
   {
    "duration": 4,
    "start_time": "2021-12-15T08:55:51.423Z"
   },
   {
    "duration": 13,
    "start_time": "2021-12-15T08:55:51.760Z"
   },
   {
    "duration": 5,
    "start_time": "2021-12-15T08:55:51.927Z"
   },
   {
    "duration": 4,
    "start_time": "2021-12-15T08:55:52.011Z"
   },
   {
    "duration": 4,
    "start_time": "2021-12-15T08:55:52.357Z"
   },
   {
    "duration": 4,
    "start_time": "2021-12-15T08:55:52.437Z"
   },
   {
    "duration": 7,
    "start_time": "2021-12-15T08:55:52.765Z"
   },
   {
    "duration": 5,
    "start_time": "2021-12-15T08:55:52.933Z"
   },
   {
    "duration": 5,
    "start_time": "2021-12-15T08:55:53.018Z"
   },
   {
    "duration": 3,
    "start_time": "2021-12-15T08:55:53.437Z"
   },
   {
    "duration": 3,
    "start_time": "2021-12-15T08:55:53.606Z"
   },
   {
    "duration": 5,
    "start_time": "2021-12-15T08:55:53.773Z"
   },
   {
    "duration": 7,
    "start_time": "2021-12-15T08:55:53.940Z"
   },
   {
    "duration": 4,
    "start_time": "2021-12-15T08:55:54.193Z"
   },
   {
    "duration": 4,
    "start_time": "2021-12-15T08:55:54.275Z"
   },
   {
    "duration": 8,
    "start_time": "2021-12-15T08:55:54.525Z"
   },
   {
    "duration": 16,
    "start_time": "2021-12-15T08:55:54.861Z"
   },
   {
    "duration": 4,
    "start_time": "2021-12-15T08:55:55.029Z"
   },
   {
    "duration": 4,
    "start_time": "2021-12-15T08:55:55.205Z"
   },
   {
    "duration": 368,
    "start_time": "2021-12-15T08:55:55.281Z"
   },
   {
    "duration": 4,
    "start_time": "2021-12-15T08:55:55.651Z"
   },
   {
    "duration": 35,
    "start_time": "2021-12-15T08:55:55.870Z"
   },
   {
    "duration": 8,
    "start_time": "2021-12-15T08:55:56.141Z"
   },
   {
    "duration": 4,
    "start_time": "2021-12-15T08:55:56.210Z"
   },
   {
    "duration": 3,
    "start_time": "2021-12-15T08:55:58.455Z"
   },
   {
    "duration": 3,
    "start_time": "2021-12-15T08:55:58.846Z"
   },
   {
    "duration": 12,
    "start_time": "2021-12-15T08:55:59.431Z"
   },
   {
    "duration": 6,
    "start_time": "2021-12-15T08:55:59.599Z"
   },
   {
    "duration": 4,
    "start_time": "2021-12-15T08:56:00.026Z"
   },
   {
    "duration": 45,
    "start_time": "2021-12-15T08:56:00.269Z"
   },
   {
    "duration": 4,
    "start_time": "2021-12-15T08:56:00.437Z"
   },
   {
    "duration": 3,
    "start_time": "2021-12-15T08:56:00.773Z"
   },
   {
    "duration": 449,
    "start_time": "2021-12-15T08:56:00.858Z"
   },
   {
    "duration": 4,
    "start_time": "2021-12-15T08:56:01.309Z"
   },
   {
    "duration": 4,
    "start_time": "2021-12-15T08:56:01.361Z"
   },
   {
    "duration": 4,
    "start_time": "2021-12-15T08:56:01.527Z"
   },
   {
    "duration": 4,
    "start_time": "2021-12-15T08:56:01.780Z"
   },
   {
    "duration": 4,
    "start_time": "2021-12-15T08:56:01.948Z"
   },
   {
    "duration": 4,
    "start_time": "2021-12-15T08:56:34.687Z"
   },
   {
    "duration": 3,
    "start_time": "2021-12-15T08:57:50.519Z"
   },
   {
    "duration": 435,
    "start_time": "2021-12-15T08:57:51.367Z"
   },
   {
    "duration": 5,
    "start_time": "2021-12-15T08:57:52.046Z"
   },
   {
    "duration": 2,
    "start_time": "2021-12-15T08:58:09.524Z"
   },
   {
    "duration": 61,
    "start_time": "2021-12-15T08:58:09.770Z"
   },
   {
    "duration": 27,
    "start_time": "2021-12-15T08:58:10.024Z"
   },
   {
    "duration": 11,
    "start_time": "2021-12-15T08:58:10.274Z"
   },
   {
    "duration": 6,
    "start_time": "2021-12-15T08:58:10.862Z"
   },
   {
    "duration": 3,
    "start_time": "2021-12-15T08:58:11.029Z"
   },
   {
    "duration": 8,
    "start_time": "2021-12-15T08:58:11.365Z"
   },
   {
    "duration": 9,
    "start_time": "2021-12-15T08:58:11.699Z"
   },
   {
    "duration": 3,
    "start_time": "2021-12-15T08:58:11.866Z"
   },
   {
    "duration": 9,
    "start_time": "2021-12-15T08:58:12.034Z"
   },
   {
    "duration": 3,
    "start_time": "2021-12-15T08:58:12.202Z"
   },
   {
    "duration": 8,
    "start_time": "2021-12-15T08:58:12.368Z"
   },
   {
    "duration": 3,
    "start_time": "2021-12-15T08:58:12.537Z"
   },
   {
    "duration": 8,
    "start_time": "2021-12-15T08:58:12.881Z"
   },
   {
    "duration": 6,
    "start_time": "2021-12-15T08:58:13.039Z"
   },
   {
    "duration": 4,
    "start_time": "2021-12-15T08:58:13.214Z"
   },
   {
    "duration": 4,
    "start_time": "2021-12-15T08:58:13.376Z"
   },
   {
    "duration": 4,
    "start_time": "2021-12-15T08:58:13.713Z"
   },
   {
    "duration": 4,
    "start_time": "2021-12-15T08:58:13.796Z"
   },
   {
    "duration": 5,
    "start_time": "2021-12-15T08:58:13.962Z"
   },
   {
    "duration": 4,
    "start_time": "2021-12-15T08:58:14.131Z"
   },
   {
    "duration": 12,
    "start_time": "2021-12-15T08:58:14.467Z"
   },
   {
    "duration": 6,
    "start_time": "2021-12-15T08:58:14.632Z"
   },
   {
    "duration": 4,
    "start_time": "2021-12-15T08:58:14.718Z"
   },
   {
    "duration": 4,
    "start_time": "2021-12-15T08:58:15.051Z"
   },
   {
    "duration": 4,
    "start_time": "2021-12-15T08:58:15.138Z"
   },
   {
    "duration": 6,
    "start_time": "2021-12-15T08:58:15.471Z"
   },
   {
    "duration": 5,
    "start_time": "2021-12-15T08:58:15.639Z"
   },
   {
    "duration": 5,
    "start_time": "2021-12-15T08:58:15.723Z"
   },
   {
    "duration": 3,
    "start_time": "2021-12-15T08:58:16.143Z"
   },
   {
    "duration": 3,
    "start_time": "2021-12-15T08:58:16.310Z"
   },
   {
    "duration": 6,
    "start_time": "2021-12-15T08:58:16.478Z"
   },
   {
    "duration": 8,
    "start_time": "2021-12-15T08:58:16.645Z"
   },
   {
    "duration": 4,
    "start_time": "2021-12-15T08:58:16.897Z"
   },
   {
    "duration": 5,
    "start_time": "2021-12-15T08:58:16.981Z"
   },
   {
    "duration": 8,
    "start_time": "2021-12-15T08:58:17.233Z"
   },
   {
    "duration": 17,
    "start_time": "2021-12-15T08:58:17.569Z"
   },
   {
    "duration": 4,
    "start_time": "2021-12-15T08:58:17.741Z"
   },
   {
    "duration": 4,
    "start_time": "2021-12-15T08:58:17.913Z"
   },
   {
    "duration": 368,
    "start_time": "2021-12-15T08:58:17.998Z"
   },
   {
    "duration": 4,
    "start_time": "2021-12-15T08:58:18.368Z"
   },
   {
    "duration": 41,
    "start_time": "2021-12-15T08:58:18.405Z"
   },
   {
    "duration": 8,
    "start_time": "2021-12-15T08:58:18.825Z"
   },
   {
    "duration": 4,
    "start_time": "2021-12-15T08:58:18.909Z"
   },
   {
    "duration": 3,
    "start_time": "2021-12-15T08:58:19.245Z"
   },
   {
    "duration": 3,
    "start_time": "2021-12-15T08:58:19.417Z"
   },
   {
    "duration": 13,
    "start_time": "2021-12-15T08:58:19.578Z"
   },
   {
    "duration": 5,
    "start_time": "2021-12-15T08:58:19.746Z"
   },
   {
    "duration": 5,
    "start_time": "2021-12-15T08:58:20.166Z"
   },
   {
    "duration": 45,
    "start_time": "2021-12-15T08:58:20.418Z"
   },
   {
    "duration": 4,
    "start_time": "2021-12-15T08:58:20.584Z"
   },
   {
    "duration": 3,
    "start_time": "2021-12-15T08:58:20.921Z"
   },
   {
    "duration": 441,
    "start_time": "2021-12-15T08:58:21.006Z"
   },
   {
    "duration": 4,
    "start_time": "2021-12-15T08:58:21.448Z"
   },
   {
    "duration": 4,
    "start_time": "2021-12-15T08:58:21.508Z"
   },
   {
    "duration": 4,
    "start_time": "2021-12-15T08:58:21.674Z"
   },
   {
    "duration": 3,
    "start_time": "2021-12-15T08:58:21.926Z"
   },
   {
    "duration": 4,
    "start_time": "2021-12-15T08:58:22.093Z"
   },
   {
    "duration": 4,
    "start_time": "2021-12-15T09:00:43.093Z"
   },
   {
    "duration": 461,
    "start_time": "2021-12-15T09:00:43.539Z"
   },
   {
    "duration": 3,
    "start_time": "2021-12-15T09:00:44.001Z"
   },
   {
    "duration": 2,
    "start_time": "2021-12-15T09:00:49.780Z"
   },
   {
    "duration": 62,
    "start_time": "2021-12-15T09:00:50.032Z"
   },
   {
    "duration": 25,
    "start_time": "2021-12-15T09:00:50.285Z"
   },
   {
    "duration": 10,
    "start_time": "2021-12-15T09:00:50.536Z"
   },
   {
    "duration": 6,
    "start_time": "2021-12-15T09:00:51.122Z"
   },
   {
    "duration": 3,
    "start_time": "2021-12-15T09:00:51.291Z"
   },
   {
    "duration": 8,
    "start_time": "2021-12-15T09:00:51.627Z"
   },
   {
    "duration": 8,
    "start_time": "2021-12-15T09:00:51.962Z"
   },
   {
    "duration": 3,
    "start_time": "2021-12-15T09:00:52.131Z"
   },
   {
    "duration": 8,
    "start_time": "2021-12-15T09:00:52.299Z"
   },
   {
    "duration": 3,
    "start_time": "2021-12-15T09:00:52.484Z"
   },
   {
    "duration": 8,
    "start_time": "2021-12-15T09:00:52.637Z"
   },
   {
    "duration": 4,
    "start_time": "2021-12-15T09:00:52.801Z"
   },
   {
    "duration": 8,
    "start_time": "2021-12-15T09:00:53.135Z"
   },
   {
    "duration": 5,
    "start_time": "2021-12-15T09:00:53.308Z"
   },
   {
    "duration": 5,
    "start_time": "2021-12-15T09:00:53.480Z"
   },
   {
    "duration": 4,
    "start_time": "2021-12-15T09:00:53.638Z"
   },
   {
    "duration": 4,
    "start_time": "2021-12-15T09:00:53.974Z"
   },
   {
    "duration": 4,
    "start_time": "2021-12-15T09:00:54.058Z"
   },
   {
    "duration": 5,
    "start_time": "2021-12-15T09:00:54.225Z"
   },
   {
    "duration": 4,
    "start_time": "2021-12-15T09:00:54.401Z"
   },
   {
    "duration": 15,
    "start_time": "2021-12-15T09:00:54.728Z"
   },
   {
    "duration": 5,
    "start_time": "2021-12-15T09:00:54.894Z"
   },
   {
    "duration": 4,
    "start_time": "2021-12-15T09:00:54.980Z"
   },
   {
    "duration": 4,
    "start_time": "2021-12-15T09:00:55.314Z"
   },
   {
    "duration": 4,
    "start_time": "2021-12-15T09:00:55.398Z"
   },
   {
    "duration": 6,
    "start_time": "2021-12-15T09:00:55.734Z"
   },
   {
    "duration": 4,
    "start_time": "2021-12-15T09:00:55.905Z"
   },
   {
    "duration": 5,
    "start_time": "2021-12-15T09:00:55.987Z"
   },
   {
    "duration": 3,
    "start_time": "2021-12-15T09:00:56.406Z"
   },
   {
    "duration": 4,
    "start_time": "2021-12-15T09:00:56.572Z"
   },
   {
    "duration": 6,
    "start_time": "2021-12-15T09:00:56.741Z"
   },
   {
    "duration": 7,
    "start_time": "2021-12-15T09:00:56.909Z"
   },
   {
    "duration": 3,
    "start_time": "2021-12-15T09:00:58.274Z"
   },
   {
    "duration": 16,
    "start_time": "2021-12-15T09:00:58.279Z"
   },
   {
    "duration": 8,
    "start_time": "2021-12-15T09:00:58.317Z"
   },
   {
    "duration": 18,
    "start_time": "2021-12-15T09:00:58.327Z"
   },
   {
    "duration": 8,
    "start_time": "2021-12-15T09:00:58.347Z"
   },
   {
    "duration": 10,
    "start_time": "2021-12-15T09:00:58.357Z"
   },
   {
    "duration": 385,
    "start_time": "2021-12-15T09:00:58.368Z"
   },
   {
    "duration": 4,
    "start_time": "2021-12-15T09:00:58.755Z"
   },
   {
    "duration": 49,
    "start_time": "2021-12-15T09:00:58.761Z"
   },
   {
    "duration": 8,
    "start_time": "2021-12-15T09:00:59.090Z"
   },
   {
    "duration": 4,
    "start_time": "2021-12-15T09:00:59.175Z"
   },
   {
    "duration": 3,
    "start_time": "2021-12-15T09:00:59.509Z"
   },
   {
    "duration": 2,
    "start_time": "2021-12-15T09:00:59.679Z"
   },
   {
    "duration": 11,
    "start_time": "2021-12-15T09:00:59.846Z"
   },
   {
    "duration": 6,
    "start_time": "2021-12-15T09:01:00.013Z"
   },
   {
    "duration": 5,
    "start_time": "2021-12-15T09:01:00.434Z"
   },
   {
    "duration": 45,
    "start_time": "2021-12-15T09:01:00.685Z"
   },
   {
    "duration": 5,
    "start_time": "2021-12-15T09:01:00.853Z"
   },
   {
    "duration": 3,
    "start_time": "2021-12-15T09:01:01.188Z"
   },
   {
    "duration": 430,
    "start_time": "2021-12-15T09:01:01.274Z"
   },
   {
    "duration": 3,
    "start_time": "2021-12-15T09:01:01.706Z"
   },
   {
    "duration": 4,
    "start_time": "2021-12-15T09:01:01.775Z"
   },
   {
    "duration": 4,
    "start_time": "2021-12-15T09:01:01.945Z"
   },
   {
    "duration": 5,
    "start_time": "2021-12-15T09:01:02.196Z"
   },
   {
    "duration": 4,
    "start_time": "2021-12-15T09:01:02.361Z"
   },
   {
    "duration": 4,
    "start_time": "2021-12-15T09:03:31.043Z"
   },
   {
    "duration": 67,
    "start_time": "2021-12-15T09:27:35.571Z"
   },
   {
    "duration": 67,
    "start_time": "2021-12-15T09:30:36.730Z"
   },
   {
    "duration": 2292,
    "start_time": "2021-12-15T09:31:01.355Z"
   },
   {
    "duration": 147,
    "start_time": "2021-12-15T09:33:09.242Z"
   },
   {
    "duration": 923,
    "start_time": "2021-12-15T09:34:27.105Z"
   },
   {
    "duration": 2377,
    "start_time": "2021-12-15T09:34:35.304Z"
   },
   {
    "duration": 288,
    "start_time": "2021-12-15T09:34:52.017Z"
   },
   {
    "duration": 280,
    "start_time": "2021-12-15T09:35:01.704Z"
   },
   {
    "duration": 244,
    "start_time": "2021-12-15T09:35:17.137Z"
   },
   {
    "duration": 273,
    "start_time": "2021-12-15T09:35:30.976Z"
   },
   {
    "duration": 371,
    "start_time": "2021-12-15T09:42:47.667Z"
   },
   {
    "duration": 275,
    "start_time": "2021-12-15T09:42:56.659Z"
   },
   {
    "duration": 2767,
    "start_time": "2021-12-15T09:43:24.216Z"
   },
   {
    "duration": 291,
    "start_time": "2021-12-15T09:44:29.481Z"
   },
   {
    "duration": 302,
    "start_time": "2021-12-15T09:46:00.056Z"
   },
   {
    "duration": 155,
    "start_time": "2021-12-15T09:46:16.728Z"
   },
   {
    "duration": 176,
    "start_time": "2021-12-15T09:46:31.799Z"
   },
   {
    "duration": 169,
    "start_time": "2021-12-15T09:46:50.128Z"
   },
   {
    "duration": 370,
    "start_time": "2021-12-15T09:46:56.015Z"
   },
   {
    "duration": 169,
    "start_time": "2021-12-15T09:47:32.878Z"
   },
   {
    "duration": 298,
    "start_time": "2021-12-15T09:51:12.604Z"
   },
   {
    "duration": 16,
    "start_time": "2021-12-15T09:56:13.343Z"
   },
   {
    "duration": 68,
    "start_time": "2021-12-15T09:56:28.239Z"
   },
   {
    "duration": 5754,
    "start_time": "2021-12-15T09:57:40.167Z"
   },
   {
    "duration": 24,
    "start_time": "2021-12-15T09:57:51.742Z"
   },
   {
    "duration": 285,
    "start_time": "2021-12-15T09:59:53.549Z"
   },
   {
    "duration": 305,
    "start_time": "2021-12-15T10:00:02.469Z"
   },
   {
    "duration": 317,
    "start_time": "2021-12-15T10:00:07.988Z"
   },
   {
    "duration": 288,
    "start_time": "2021-12-15T10:00:17.157Z"
   },
   {
    "duration": 262,
    "start_time": "2021-12-15T10:07:01.225Z"
   },
   {
    "duration": 2,
    "start_time": "2021-12-15T10:08:02.912Z"
   },
   {
    "duration": 934,
    "start_time": "2021-12-15T10:08:08.905Z"
   },
   {
    "duration": 240,
    "start_time": "2021-12-15T10:08:22.559Z"
   },
   {
    "duration": 236,
    "start_time": "2021-12-15T10:08:38.055Z"
   },
   {
    "duration": 462,
    "start_time": "2021-12-15T10:09:38.879Z"
   },
   {
    "duration": 34,
    "start_time": "2021-12-15T10:10:22.830Z"
   },
   {
    "duration": 4,
    "start_time": "2021-12-15T10:10:41.845Z"
   },
   {
    "duration": 235,
    "start_time": "2021-12-15T10:10:49.254Z"
   },
   {
    "duration": 238,
    "start_time": "2021-12-15T10:11:17.981Z"
   },
   {
    "duration": 231,
    "start_time": "2021-12-15T10:11:28.502Z"
   },
   {
    "duration": 6786,
    "start_time": "2021-12-15T10:11:58.757Z"
   },
   {
    "duration": 5610,
    "start_time": "2021-12-15T10:12:10.893Z"
   },
   {
    "duration": 132,
    "start_time": "2021-12-15T10:12:22.045Z"
   },
   {
    "duration": 456,
    "start_time": "2021-12-15T10:13:26.908Z"
   },
   {
    "duration": 128,
    "start_time": "2021-12-15T10:14:55.668Z"
   },
   {
    "duration": 186,
    "start_time": "2021-12-15T10:17:13.315Z"
   },
   {
    "duration": 129,
    "start_time": "2021-12-15T10:18:42.017Z"
   },
   {
    "duration": 158,
    "start_time": "2021-12-15T10:23:35.566Z"
   },
   {
    "duration": 10,
    "start_time": "2021-12-15T10:24:40.348Z"
   },
   {
    "duration": 418,
    "start_time": "2021-12-15T10:26:22.452Z"
   },
   {
    "duration": 297,
    "start_time": "2021-12-15T10:26:33.555Z"
   },
   {
    "duration": 317,
    "start_time": "2021-12-15T10:26:50.650Z"
   },
   {
    "duration": 594,
    "start_time": "2021-12-15T10:27:23.386Z"
   },
   {
    "duration": 751,
    "start_time": "2021-12-15T10:27:32.418Z"
   },
   {
    "duration": 446,
    "start_time": "2021-12-15T10:27:59.970Z"
   },
   {
    "duration": 424,
    "start_time": "2021-12-15T10:28:30.354Z"
   },
   {
    "duration": 447,
    "start_time": "2021-12-15T10:28:39.586Z"
   },
   {
    "duration": 589,
    "start_time": "2021-12-15T10:28:52.449Z"
   },
   {
    "duration": 433,
    "start_time": "2021-12-15T10:29:01.066Z"
   },
   {
    "duration": 429,
    "start_time": "2021-12-15T10:29:08.777Z"
   },
   {
    "duration": 438,
    "start_time": "2021-12-15T10:29:27.441Z"
   },
   {
    "duration": 609,
    "start_time": "2021-12-15T10:29:42.057Z"
   },
   {
    "duration": 429,
    "start_time": "2021-12-15T10:29:58.673Z"
   },
   {
    "duration": 445,
    "start_time": "2021-12-15T10:30:35.672Z"
   },
   {
    "duration": 438,
    "start_time": "2021-12-15T10:31:10.776Z"
   },
   {
    "duration": 683,
    "start_time": "2021-12-15T10:31:29.472Z"
   },
   {
    "duration": 450,
    "start_time": "2021-12-15T10:31:35.624Z"
   },
   {
    "duration": 439,
    "start_time": "2021-12-15T10:31:54.248Z"
   },
   {
    "duration": 452,
    "start_time": "2021-12-15T10:32:21.304Z"
   },
   {
    "duration": 780,
    "start_time": "2021-12-15T10:33:05.183Z"
   },
   {
    "duration": 437,
    "start_time": "2021-12-15T10:33:18.407Z"
   },
   {
    "duration": 435,
    "start_time": "2021-12-15T10:33:34.207Z"
   },
   {
    "duration": 305,
    "start_time": "2021-12-15T10:34:00.230Z"
   },
   {
    "duration": 287,
    "start_time": "2021-12-15T10:34:06.542Z"
   },
   {
    "duration": 165,
    "start_time": "2021-12-15T11:43:21.646Z"
   },
   {
    "duration": 470,
    "start_time": "2021-12-15T11:46:53.764Z"
   },
   {
    "duration": 174,
    "start_time": "2021-12-15T11:47:02.467Z"
   },
   {
    "duration": 165,
    "start_time": "2021-12-15T11:47:13.012Z"
   },
   {
    "duration": 181,
    "start_time": "2021-12-15T11:47:19.115Z"
   },
   {
    "duration": 184,
    "start_time": "2021-12-15T11:48:17.387Z"
   },
   {
    "duration": 179,
    "start_time": "2021-12-15T11:48:34.723Z"
   },
   {
    "duration": 287,
    "start_time": "2021-12-15T11:50:39.705Z"
   },
   {
    "duration": 152,
    "start_time": "2021-12-15T11:54:40.650Z"
   },
   {
    "duration": 289,
    "start_time": "2021-12-15T11:56:55.103Z"
   },
   {
    "duration": 183,
    "start_time": "2021-12-15T11:57:05.015Z"
   },
   {
    "duration": 150,
    "start_time": "2021-12-15T11:57:08.863Z"
   },
   {
    "duration": 148,
    "start_time": "2021-12-15T11:57:15.294Z"
   },
   {
    "duration": 159,
    "start_time": "2021-12-15T11:57:25.805Z"
   },
   {
    "duration": 355,
    "start_time": "2021-12-15T11:57:31.902Z"
   },
   {
    "duration": 330,
    "start_time": "2021-12-15T11:57:45.199Z"
   },
   {
    "duration": 18,
    "start_time": "2021-12-15T12:15:46.434Z"
   },
   {
    "duration": 171,
    "start_time": "2021-12-15T12:23:18.661Z"
   },
   {
    "duration": 297,
    "start_time": "2021-12-15T12:23:30.468Z"
   },
   {
    "duration": 511,
    "start_time": "2021-12-15T12:24:11.052Z"
   },
   {
    "duration": 359,
    "start_time": "2021-12-15T12:24:49.677Z"
   },
   {
    "duration": 7,
    "start_time": "2021-12-15T12:31:37.161Z"
   },
   {
    "duration": 179,
    "start_time": "2021-12-15T12:31:47.024Z"
   },
   {
    "duration": 288,
    "start_time": "2021-12-15T12:31:53.728Z"
   },
   {
    "duration": 4,
    "start_time": "2021-12-15T12:34:47.318Z"
   },
   {
    "duration": 4,
    "start_time": "2021-12-15T12:34:49.374Z"
   },
   {
    "duration": 2,
    "start_time": "2021-12-15T12:34:59.847Z"
   },
   {
    "duration": 62,
    "start_time": "2021-12-15T12:35:00.097Z"
   },
   {
    "duration": 27,
    "start_time": "2021-12-15T12:35:00.359Z"
   },
   {
    "duration": 10,
    "start_time": "2021-12-15T12:35:00.600Z"
   },
   {
    "duration": 7,
    "start_time": "2021-12-15T12:35:01.189Z"
   },
   {
    "duration": 3,
    "start_time": "2021-12-15T12:35:01.357Z"
   },
   {
    "duration": 9,
    "start_time": "2021-12-15T12:35:01.693Z"
   },
   {
    "duration": 9,
    "start_time": "2021-12-15T12:35:02.027Z"
   },
   {
    "duration": 3,
    "start_time": "2021-12-15T12:35:02.193Z"
   },
   {
    "duration": 9,
    "start_time": "2021-12-15T12:35:02.361Z"
   },
   {
    "duration": 4,
    "start_time": "2021-12-15T12:35:02.527Z"
   },
   {
    "duration": 8,
    "start_time": "2021-12-15T12:35:02.696Z"
   },
   {
    "duration": 5,
    "start_time": "2021-12-15T12:35:02.862Z"
   },
   {
    "duration": 8,
    "start_time": "2021-12-15T12:35:03.198Z"
   },
   {
    "duration": 5,
    "start_time": "2021-12-15T12:35:03.367Z"
   },
   {
    "duration": 4,
    "start_time": "2021-12-15T12:35:03.533Z"
   },
   {
    "duration": 4,
    "start_time": "2021-12-15T12:35:03.700Z"
   },
   {
    "duration": 5,
    "start_time": "2021-12-15T12:35:04.037Z"
   },
   {
    "duration": 4,
    "start_time": "2021-12-15T12:35:04.121Z"
   },
   {
    "duration": 5,
    "start_time": "2021-12-15T12:35:04.288Z"
   },
   {
    "duration": 5,
    "start_time": "2021-12-15T12:35:04.454Z"
   },
   {
    "duration": 17,
    "start_time": "2021-12-15T12:35:04.792Z"
   },
   {
    "duration": 5,
    "start_time": "2021-12-15T12:35:04.960Z"
   },
   {
    "duration": 4,
    "start_time": "2021-12-15T12:35:05.046Z"
   },
   {
    "duration": 4,
    "start_time": "2021-12-15T12:35:05.378Z"
   },
   {
    "duration": 4,
    "start_time": "2021-12-15T12:35:05.463Z"
   },
   {
    "duration": 8,
    "start_time": "2021-12-15T12:35:05.797Z"
   },
   {
    "duration": 4,
    "start_time": "2021-12-15T12:35:05.965Z"
   },
   {
    "duration": 5,
    "start_time": "2021-12-15T12:35:06.048Z"
   },
   {
    "duration": 3,
    "start_time": "2021-12-15T12:35:06.469Z"
   },
   {
    "duration": 3,
    "start_time": "2021-12-15T12:35:06.635Z"
   },
   {
    "duration": 6,
    "start_time": "2021-12-15T12:35:06.802Z"
   },
   {
    "duration": 14,
    "start_time": "2021-12-15T12:35:06.970Z"
   },
   {
    "duration": 4,
    "start_time": "2021-12-15T12:35:07.223Z"
   },
   {
    "duration": 4,
    "start_time": "2021-12-15T12:35:07.307Z"
   },
   {
    "duration": 8,
    "start_time": "2021-12-15T12:35:07.560Z"
   },
   {
    "duration": 17,
    "start_time": "2021-12-15T12:35:07.896Z"
   },
   {
    "duration": 4,
    "start_time": "2021-12-15T12:35:08.065Z"
   },
   {
    "duration": 4,
    "start_time": "2021-12-15T12:35:08.230Z"
   },
   {
    "duration": 378,
    "start_time": "2021-12-15T12:35:08.315Z"
   },
   {
    "duration": 5,
    "start_time": "2021-12-15T12:35:08.695Z"
   },
   {
    "duration": 40,
    "start_time": "2021-12-15T12:35:08.733Z"
   },
   {
    "duration": 8,
    "start_time": "2021-12-15T12:35:09.160Z"
   },
   {
    "duration": 5,
    "start_time": "2021-12-15T12:35:09.239Z"
   },
   {
    "duration": 4,
    "start_time": "2021-12-15T12:35:09.571Z"
   },
   {
    "duration": 3,
    "start_time": "2021-12-15T12:35:09.741Z"
   },
   {
    "duration": 12,
    "start_time": "2021-12-15T12:35:09.906Z"
   },
   {
    "duration": 5,
    "start_time": "2021-12-15T12:35:10.075Z"
   },
   {
    "duration": 4,
    "start_time": "2021-12-15T12:35:10.492Z"
   },
   {
    "duration": 48,
    "start_time": "2021-12-15T12:35:10.744Z"
   },
   {
    "duration": 5,
    "start_time": "2021-12-15T12:35:10.913Z"
   },
   {
    "duration": 3,
    "start_time": "2021-12-15T12:35:11.246Z"
   },
   {
    "duration": 636,
    "start_time": "2021-12-15T12:35:11.332Z"
   },
   {
    "duration": 4,
    "start_time": "2021-12-15T12:35:11.970Z"
   },
   {
    "duration": 13,
    "start_time": "2021-12-15T12:35:11.975Z"
   },
   {
    "duration": 3,
    "start_time": "2021-12-15T12:35:12.000Z"
   },
   {
    "duration": 5,
    "start_time": "2021-12-15T12:35:12.253Z"
   },
   {
    "duration": 4,
    "start_time": "2021-12-15T12:35:12.421Z"
   },
   {
    "duration": 25,
    "start_time": "2021-12-15T12:35:12.756Z"
   },
   {
    "duration": 152,
    "start_time": "2021-12-15T12:35:13.008Z"
   },
   {
    "duration": 292,
    "start_time": "2021-12-15T12:35:13.175Z"
   },
   {
    "duration": 159,
    "start_time": "2021-12-15T12:35:13.515Z"
   },
   {
    "duration": 310,
    "start_time": "2021-12-15T12:35:13.680Z"
   },
   {
    "duration": 165,
    "start_time": "2021-12-15T12:35:14.016Z"
   },
   {
    "duration": 308,
    "start_time": "2021-12-15T12:35:14.183Z"
   },
   {
    "duration": 153,
    "start_time": "2021-12-15T12:35:14.519Z"
   },
   {
    "duration": 17,
    "start_time": "2021-12-15T12:35:14.854Z"
   },
   {
    "duration": 292,
    "start_time": "2021-12-15T12:35:15.027Z"
   },
   {
    "duration": 6,
    "start_time": "2021-12-15T12:35:15.321Z"
   },
   {
    "duration": 296,
    "start_time": "2021-12-15T12:36:49.821Z"
   },
   {
    "duration": 471,
    "start_time": "2021-12-15T12:36:59.324Z"
   },
   {
    "duration": 295,
    "start_time": "2021-12-15T12:37:05.804Z"
   },
   {
    "duration": 590,
    "start_time": "2021-12-15T12:37:09.189Z"
   },
   {
    "duration": 187,
    "start_time": "2021-12-15T12:37:14.620Z"
   },
   {
    "duration": 4,
    "start_time": "2021-12-15T12:39:09.156Z"
   },
   {
    "duration": 4,
    "start_time": "2021-12-15T12:39:09.803Z"
   },
   {
    "duration": 9,
    "start_time": "2021-12-15T12:39:11.244Z"
   },
   {
    "duration": 18,
    "start_time": "2021-12-15T12:39:11.586Z"
   },
   {
    "duration": 4,
    "start_time": "2021-12-15T12:39:11.749Z"
   },
   {
    "duration": 4,
    "start_time": "2021-12-15T12:39:11.916Z"
   },
   {
    "duration": 583,
    "start_time": "2021-12-15T12:39:12.000Z"
   },
   {
    "duration": 3,
    "start_time": "2021-12-15T12:39:12.585Z"
   },
   {
    "duration": 45,
    "start_time": "2021-12-15T12:39:12.590Z"
   },
   {
    "duration": 5,
    "start_time": "2021-12-15T12:39:12.836Z"
   },
   {
    "duration": 4,
    "start_time": "2021-12-15T12:39:12.923Z"
   },
   {
    "duration": 3,
    "start_time": "2021-12-15T12:39:13.255Z"
   },
   {
    "duration": 3,
    "start_time": "2021-12-15T12:39:13.423Z"
   },
   {
    "duration": 6,
    "start_time": "2021-12-15T12:39:13.590Z"
   },
   {
    "duration": 5,
    "start_time": "2021-12-15T12:39:13.758Z"
   },
   {
    "duration": 4,
    "start_time": "2021-12-15T12:39:14.177Z"
   },
   {
    "duration": 46,
    "start_time": "2021-12-15T12:39:14.429Z"
   },
   {
    "duration": 4,
    "start_time": "2021-12-15T12:39:14.597Z"
   },
   {
    "duration": 3,
    "start_time": "2021-12-15T12:39:14.932Z"
   },
   {
    "duration": 432,
    "start_time": "2021-12-15T12:39:15.015Z"
   },
   {
    "duration": 5,
    "start_time": "2021-12-15T12:39:15.448Z"
   },
   {
    "duration": 3,
    "start_time": "2021-12-15T12:39:15.520Z"
   },
   {
    "duration": 4,
    "start_time": "2021-12-15T12:39:15.689Z"
   },
   {
    "duration": 4,
    "start_time": "2021-12-15T12:39:15.940Z"
   },
   {
    "duration": 4,
    "start_time": "2021-12-15T12:39:16.107Z"
   },
   {
    "duration": 22,
    "start_time": "2021-12-15T12:39:16.443Z"
   },
   {
    "duration": 144,
    "start_time": "2021-12-15T12:39:16.694Z"
   },
   {
    "duration": 288,
    "start_time": "2021-12-15T12:39:16.860Z"
   },
   {
    "duration": 157,
    "start_time": "2021-12-15T12:39:17.196Z"
   },
   {
    "duration": 305,
    "start_time": "2021-12-15T12:39:17.362Z"
   },
   {
    "duration": 167,
    "start_time": "2021-12-15T12:39:17.697Z"
   },
   {
    "duration": 306,
    "start_time": "2021-12-15T12:39:17.868Z"
   },
   {
    "duration": 162,
    "start_time": "2021-12-15T12:39:18.201Z"
   },
   {
    "duration": 18,
    "start_time": "2021-12-15T12:39:18.541Z"
   },
   {
    "duration": 178,
    "start_time": "2021-12-15T12:39:18.708Z"
   },
   {
    "duration": 6,
    "start_time": "2021-12-15T12:39:18.888Z"
   },
   {
    "duration": 3,
    "start_time": "2021-12-15T12:39:30.931Z"
   },
   {
    "duration": 67,
    "start_time": "2021-12-15T12:39:31.183Z"
   },
   {
    "duration": 34,
    "start_time": "2021-12-15T12:39:31.435Z"
   },
   {
    "duration": 11,
    "start_time": "2021-12-15T12:39:31.687Z"
   },
   {
    "duration": 7,
    "start_time": "2021-12-15T12:39:32.275Z"
   },
   {
    "duration": 3,
    "start_time": "2021-12-15T12:39:32.442Z"
   },
   {
    "duration": 11,
    "start_time": "2021-12-15T12:39:32.779Z"
   },
   {
    "duration": 10,
    "start_time": "2021-12-15T12:39:33.114Z"
   },
   {
    "duration": 3,
    "start_time": "2021-12-15T12:39:33.287Z"
   },
   {
    "duration": 9,
    "start_time": "2021-12-15T12:39:33.447Z"
   },
   {
    "duration": 4,
    "start_time": "2021-12-15T12:39:33.614Z"
   },
   {
    "duration": 10,
    "start_time": "2021-12-15T12:39:33.782Z"
   },
   {
    "duration": 5,
    "start_time": "2021-12-15T12:39:33.950Z"
   },
   {
    "duration": 10,
    "start_time": "2021-12-15T12:39:34.284Z"
   },
   {
    "duration": 6,
    "start_time": "2021-12-15T12:39:34.451Z"
   },
   {
    "duration": 6,
    "start_time": "2021-12-15T12:39:34.618Z"
   },
   {
    "duration": 4,
    "start_time": "2021-12-15T12:39:34.788Z"
   },
   {
    "duration": 5,
    "start_time": "2021-12-15T12:39:35.123Z"
   },
   {
    "duration": 5,
    "start_time": "2021-12-15T12:39:35.207Z"
   },
   {
    "duration": 4,
    "start_time": "2021-12-15T12:39:35.376Z"
   },
   {
    "duration": 5,
    "start_time": "2021-12-15T12:39:35.541Z"
   },
   {
    "duration": 14,
    "start_time": "2021-12-15T12:39:35.877Z"
   },
   {
    "duration": 6,
    "start_time": "2021-12-15T12:39:36.045Z"
   },
   {
    "duration": 4,
    "start_time": "2021-12-15T12:39:36.129Z"
   },
   {
    "duration": 4,
    "start_time": "2021-12-15T12:39:36.466Z"
   },
   {
    "duration": 4,
    "start_time": "2021-12-15T12:39:36.550Z"
   },
   {
    "duration": 7,
    "start_time": "2021-12-15T12:39:36.883Z"
   },
   {
    "duration": 5,
    "start_time": "2021-12-15T12:39:37.052Z"
   },
   {
    "duration": 6,
    "start_time": "2021-12-15T12:39:37.134Z"
   },
   {
    "duration": 3,
    "start_time": "2021-12-15T12:39:37.555Z"
   },
   {
    "duration": 2,
    "start_time": "2021-12-15T12:39:37.724Z"
   },
   {
    "duration": 6,
    "start_time": "2021-12-15T12:39:37.889Z"
   },
   {
    "duration": 7,
    "start_time": "2021-12-15T12:39:38.057Z"
   },
   {
    "duration": 4,
    "start_time": "2021-12-15T12:39:38.549Z"
   },
   {
    "duration": 4,
    "start_time": "2021-12-15T12:39:38.590Z"
   },
   {
    "duration": 9,
    "start_time": "2021-12-15T12:39:38.686Z"
   },
   {
    "duration": 17,
    "start_time": "2021-12-15T12:39:38.980Z"
   },
   {
    "duration": 4,
    "start_time": "2021-12-15T12:39:39.147Z"
   },
   {
    "duration": 4,
    "start_time": "2021-12-15T12:39:39.318Z"
   },
   {
    "duration": 380,
    "start_time": "2021-12-15T12:39:39.401Z"
   },
   {
    "duration": 3,
    "start_time": "2021-12-15T12:39:39.783Z"
   },
   {
    "duration": 39,
    "start_time": "2021-12-15T12:39:39.817Z"
   },
   {
    "duration": 8,
    "start_time": "2021-12-15T12:39:40.236Z"
   },
   {
    "duration": 4,
    "start_time": "2021-12-15T12:39:40.319Z"
   },
   {
    "duration": 3,
    "start_time": "2021-12-15T12:39:40.656Z"
   },
   {
    "duration": 3,
    "start_time": "2021-12-15T12:39:40.823Z"
   },
   {
    "duration": 12,
    "start_time": "2021-12-15T12:39:40.990Z"
   },
   {
    "duration": 6,
    "start_time": "2021-12-15T12:39:41.159Z"
   },
   {
    "duration": 5,
    "start_time": "2021-12-15T12:39:41.578Z"
   },
   {
    "duration": 48,
    "start_time": "2021-12-15T12:39:41.828Z"
   },
   {
    "duration": 4,
    "start_time": "2021-12-15T12:39:41.997Z"
   },
   {
    "duration": 3,
    "start_time": "2021-12-15T12:39:42.332Z"
   },
   {
    "duration": 589,
    "start_time": "2021-12-15T12:39:42.417Z"
   },
   {
    "duration": 5,
    "start_time": "2021-12-15T12:39:43.007Z"
   },
   {
    "duration": 5,
    "start_time": "2021-12-15T12:39:43.014Z"
   },
   {
    "duration": 4,
    "start_time": "2021-12-15T12:39:43.092Z"
   },
   {
    "duration": 5,
    "start_time": "2021-12-15T12:39:43.337Z"
   },
   {
    "duration": 4,
    "start_time": "2021-12-15T12:39:43.504Z"
   },
   {
    "duration": 24,
    "start_time": "2021-12-15T12:39:43.839Z"
   },
   {
    "duration": 155,
    "start_time": "2021-12-15T12:39:44.090Z"
   },
   {
    "duration": 293,
    "start_time": "2021-12-15T12:39:44.258Z"
   },
   {
    "duration": 160,
    "start_time": "2021-12-15T12:39:44.593Z"
   },
   {
    "duration": 327,
    "start_time": "2021-12-15T12:39:44.761Z"
   },
   {
    "duration": 182,
    "start_time": "2021-12-15T12:39:45.096Z"
   },
   {
    "duration": 310,
    "start_time": "2021-12-15T12:39:45.280Z"
   },
   {
    "duration": 171,
    "start_time": "2021-12-15T12:39:45.602Z"
   },
   {
    "duration": 17,
    "start_time": "2021-12-15T12:39:45.935Z"
   },
   {
    "duration": 189,
    "start_time": "2021-12-15T12:39:46.104Z"
   },
   {
    "duration": 8,
    "start_time": "2021-12-15T12:39:46.295Z"
   },
   {
    "duration": 81,
    "start_time": "2021-12-15T12:43:10.192Z"
   },
   {
    "duration": 184,
    "start_time": "2021-12-15T12:50:52.457Z"
   },
   {
    "duration": 196,
    "start_time": "2021-12-15T12:55:22.859Z"
   },
   {
    "duration": 64,
    "start_time": "2021-12-15T12:57:59.241Z"
   },
   {
    "duration": 5,
    "start_time": "2021-12-15T13:09:09.768Z"
   },
   {
    "duration": 17,
    "start_time": "2021-12-15T13:09:37.312Z"
   },
   {
    "duration": 29,
    "start_time": "2021-12-15T13:09:46.752Z"
   },
   {
    "duration": 19,
    "start_time": "2021-12-15T13:11:11.911Z"
   },
   {
    "duration": 1701,
    "start_time": "2021-12-15T13:12:25.422Z"
   },
   {
    "duration": 1997,
    "start_time": "2021-12-15T13:12:38.007Z"
   },
   {
    "duration": 245,
    "start_time": "2021-12-15T13:12:54.438Z"
   },
   {
    "duration": 238,
    "start_time": "2021-12-15T13:13:48.237Z"
   },
   {
    "duration": 22,
    "start_time": "2021-12-15T13:14:08.374Z"
   },
   {
    "duration": 65,
    "start_time": "2021-12-15T13:14:54.341Z"
   },
   {
    "duration": 33,
    "start_time": "2021-12-15T13:23:15.071Z"
   },
   {
    "duration": 39,
    "start_time": "2021-12-15T13:23:39.478Z"
   },
   {
    "duration": 317,
    "start_time": "2021-12-15T13:25:03.599Z"
   },
   {
    "duration": 455,
    "start_time": "2021-12-15T13:25:20.478Z"
   },
   {
    "duration": 7,
    "start_time": "2021-12-15T13:26:23.725Z"
   },
   {
    "duration": 6,
    "start_time": "2021-12-15T13:27:01.846Z"
   },
   {
    "duration": 305,
    "start_time": "2021-12-15T13:28:11.341Z"
   },
   {
    "duration": 283,
    "start_time": "2021-12-15T13:29:07.443Z"
   },
   {
    "duration": 5,
    "start_time": "2021-12-15T13:29:43.203Z"
   },
   {
    "duration": 275,
    "start_time": "2021-12-15T13:29:48.979Z"
   },
   {
    "duration": 6,
    "start_time": "2021-12-15T13:30:16.746Z"
   },
   {
    "duration": 6,
    "start_time": "2021-12-15T13:30:21.954Z"
   },
   {
    "duration": 6,
    "start_time": "2021-12-15T13:30:34.378Z"
   },
   {
    "duration": 300,
    "start_time": "2021-12-15T13:30:49.187Z"
   },
   {
    "duration": 3,
    "start_time": "2021-12-15T13:31:24.450Z"
   },
   {
    "duration": 4,
    "start_time": "2021-12-15T13:31:29.105Z"
   },
   {
    "duration": 5,
    "start_time": "2021-12-15T13:31:37.194Z"
   },
   {
    "duration": 4,
    "start_time": "2021-12-15T13:31:41.969Z"
   },
   {
    "duration": 303,
    "start_time": "2021-12-15T13:31:53.289Z"
   },
   {
    "duration": 78,
    "start_time": "2021-12-15T13:37:02.959Z"
   },
   {
    "duration": 78,
    "start_time": "2021-12-15T13:37:27.008Z"
   },
   {
    "duration": 91,
    "start_time": "2021-12-15T13:37:39.829Z"
   },
   {
    "duration": 95,
    "start_time": "2021-12-15T13:37:58.709Z"
   },
   {
    "duration": 94,
    "start_time": "2021-12-15T13:39:15.949Z"
   },
   {
    "duration": 116,
    "start_time": "2021-12-15T13:39:53.587Z"
   },
   {
    "duration": 6,
    "start_time": "2021-12-15T13:40:07.012Z"
   },
   {
    "duration": 72,
    "start_time": "2021-12-15T13:40:52.908Z"
   },
   {
    "duration": 71,
    "start_time": "2021-12-15T13:41:10.411Z"
   },
   {
    "duration": 85,
    "start_time": "2021-12-15T13:41:23.203Z"
   },
   {
    "duration": 6,
    "start_time": "2021-12-15T13:41:35.787Z"
   },
   {
    "duration": 5,
    "start_time": "2021-12-15T13:41:51.819Z"
   },
   {
    "duration": 104,
    "start_time": "2021-12-15T13:42:42.555Z"
   },
   {
    "duration": 80,
    "start_time": "2021-12-15T13:43:00.163Z"
   },
   {
    "duration": 102,
    "start_time": "2021-12-15T13:43:06.194Z"
   },
   {
    "duration": 79,
    "start_time": "2021-12-15T13:43:13.138Z"
   },
   {
    "duration": 6,
    "start_time": "2021-12-15T13:43:22.553Z"
   },
   {
    "duration": 581,
    "start_time": "2021-12-15T13:44:25.665Z"
   },
   {
    "duration": 73,
    "start_time": "2021-12-15T13:44:53.152Z"
   },
   {
    "duration": 76,
    "start_time": "2021-12-15T13:45:08.464Z"
   },
   {
    "duration": 77,
    "start_time": "2021-12-15T13:45:21.000Z"
   },
   {
    "duration": 6,
    "start_time": "2021-12-15T13:45:42.191Z"
   },
   {
    "duration": 294,
    "start_time": "2021-12-15T13:46:26.231Z"
   },
   {
    "duration": 460,
    "start_time": "2021-12-15T13:46:34.464Z"
   },
   {
    "duration": 6,
    "start_time": "2021-12-15T13:46:42.535Z"
   },
   {
    "duration": 6,
    "start_time": "2021-12-15T13:47:25.054Z"
   },
   {
    "duration": 5,
    "start_time": "2021-12-15T13:50:40.478Z"
   },
   {
    "duration": 5,
    "start_time": "2021-12-15T13:50:59.637Z"
   },
   {
    "duration": 4,
    "start_time": "2021-12-15T13:51:06.996Z"
   },
   {
    "duration": 5,
    "start_time": "2021-12-15T13:51:14.244Z"
   },
   {
    "duration": 5,
    "start_time": "2021-12-15T13:51:19.827Z"
   },
   {
    "duration": 247,
    "start_time": "2021-12-15T13:52:47.228Z"
   },
   {
    "duration": 236,
    "start_time": "2021-12-15T13:53:21.811Z"
   },
   {
    "duration": 305,
    "start_time": "2021-12-15T13:53:38.690Z"
   },
   {
    "duration": 6,
    "start_time": "2021-12-15T13:53:59.634Z"
   },
   {
    "duration": 5,
    "start_time": "2021-12-15T13:54:08.802Z"
   },
   {
    "duration": 5,
    "start_time": "2021-12-15T13:54:28.272Z"
   },
   {
    "duration": 7,
    "start_time": "2021-12-15T13:54:34.498Z"
   },
   {
    "duration": 85,
    "start_time": "2021-12-15T13:56:54.202Z"
   },
   {
    "duration": 5,
    "start_time": "2021-12-15T13:57:18.169Z"
   },
   {
    "duration": 3,
    "start_time": "2021-12-15T13:58:02.432Z"
   },
   {
    "duration": 6,
    "start_time": "2021-12-15T13:58:22.040Z"
   },
   {
    "duration": 5,
    "start_time": "2021-12-15T13:58:30.887Z"
   },
   {
    "duration": 77,
    "start_time": "2021-12-15T13:58:53.655Z"
   },
   {
    "duration": 5,
    "start_time": "2021-12-15T13:59:07.466Z"
   },
   {
    "duration": 5,
    "start_time": "2021-12-15T13:59:17.110Z"
   },
   {
    "duration": 6,
    "start_time": "2021-12-15T14:01:54.469Z"
   },
   {
    "duration": 292,
    "start_time": "2021-12-15T14:02:02.548Z"
   },
   {
    "duration": 6,
    "start_time": "2021-12-15T14:03:44.995Z"
   },
   {
    "duration": 275,
    "start_time": "2021-12-15T14:14:23.221Z"
   },
   {
    "duration": 6,
    "start_time": "2021-12-15T14:19:01.226Z"
   },
   {
    "duration": 3,
    "start_time": "2021-12-15T14:19:26.777Z"
   },
   {
    "duration": 7,
    "start_time": "2021-12-15T14:19:54.704Z"
   },
   {
    "duration": 6,
    "start_time": "2021-12-15T14:20:00.968Z"
   },
   {
    "duration": 7,
    "start_time": "2021-12-15T14:21:04.888Z"
   },
   {
    "duration": 7,
    "start_time": "2021-12-15T14:21:23.831Z"
   },
   {
    "duration": 8,
    "start_time": "2021-12-15T14:22:20.623Z"
   },
   {
    "duration": 4,
    "start_time": "2021-12-15T14:22:38.669Z"
   },
   {
    "duration": 272,
    "start_time": "2021-12-15T14:25:06.037Z"
   },
   {
    "duration": 287,
    "start_time": "2021-12-15T14:28:32.402Z"
   },
   {
    "duration": 147,
    "start_time": "2021-12-15T14:28:37.346Z"
   },
   {
    "duration": 172,
    "start_time": "2021-12-15T14:29:09.929Z"
   },
   {
    "duration": 299,
    "start_time": "2021-12-15T14:29:14.633Z"
   },
   {
    "duration": 576,
    "start_time": "2021-12-15T14:50:04.355Z"
   },
   {
    "duration": 290,
    "start_time": "2021-12-15T14:50:13.020Z"
   },
   {
    "duration": 291,
    "start_time": "2021-12-15T14:50:32.931Z"
   },
   {
    "duration": 7,
    "start_time": "2021-12-15T14:52:52.747Z"
   },
   {
    "duration": 5,
    "start_time": "2021-12-15T14:53:07.266Z"
   },
   {
    "duration": 5,
    "start_time": "2021-12-15T14:53:14.633Z"
   },
   {
    "duration": 6,
    "start_time": "2021-12-15T14:54:30.616Z"
   },
   {
    "duration": 6,
    "start_time": "2021-12-15T14:54:35.696Z"
   },
   {
    "duration": 5,
    "start_time": "2021-12-15T14:54:40.848Z"
   },
   {
    "duration": 6,
    "start_time": "2021-12-15T14:55:40.312Z"
   },
   {
    "duration": 304,
    "start_time": "2021-12-15T14:57:06.311Z"
   },
   {
    "duration": 165,
    "start_time": "2021-12-15T14:57:14.766Z"
   },
   {
    "duration": 161,
    "start_time": "2021-12-15T14:57:24.190Z"
   },
   {
    "duration": 161,
    "start_time": "2021-12-15T14:57:32.702Z"
   },
   {
    "duration": 170,
    "start_time": "2021-12-15T14:57:44.070Z"
   },
   {
    "duration": 6,
    "start_time": "2021-12-15T14:59:41.981Z"
   },
   {
    "duration": 111,
    "start_time": "2021-12-15T14:59:47.109Z"
   },
   {
    "duration": 178,
    "start_time": "2021-12-15T14:59:51.613Z"
   },
   {
    "duration": 7,
    "start_time": "2021-12-15T15:00:29.508Z"
   },
   {
    "duration": 288,
    "start_time": "2021-12-15T15:04:34.554Z"
   },
   {
    "duration": 176,
    "start_time": "2021-12-15T15:04:41.690Z"
   },
   {
    "duration": 8,
    "start_time": "2021-12-15T15:06:59.728Z"
   },
   {
    "duration": 8,
    "start_time": "2021-12-15T15:08:07.809Z"
   },
   {
    "duration": 310,
    "start_time": "2021-12-15T15:09:10.791Z"
   },
   {
    "duration": 7,
    "start_time": "2021-12-15T15:09:34.206Z"
   },
   {
    "duration": 8,
    "start_time": "2021-12-15T15:09:40.990Z"
   },
   {
    "duration": 485,
    "start_time": "2021-12-15T15:09:56.182Z"
   },
   {
    "duration": 320,
    "start_time": "2021-12-15T17:42:15.412Z"
   },
   {
    "duration": 588,
    "start_time": "2021-12-15T17:42:26.964Z"
   },
   {
    "duration": 70,
    "start_time": "2021-12-15T17:42:27.553Z"
   },
   {
    "duration": 34,
    "start_time": "2021-12-15T17:42:27.625Z"
   },
   {
    "duration": 36,
    "start_time": "2021-12-15T17:42:27.661Z"
   },
   {
    "duration": 8,
    "start_time": "2021-12-15T17:42:28.224Z"
   },
   {
    "duration": 3,
    "start_time": "2021-12-15T17:42:28.391Z"
   },
   {
    "duration": 9,
    "start_time": "2021-12-15T17:42:28.727Z"
   },
   {
    "duration": 8,
    "start_time": "2021-12-15T17:42:29.064Z"
   },
   {
    "duration": 3,
    "start_time": "2021-12-15T17:42:29.233Z"
   },
   {
    "duration": 9,
    "start_time": "2021-12-15T17:42:29.397Z"
   },
   {
    "duration": 4,
    "start_time": "2021-12-15T17:42:29.565Z"
   },
   {
    "duration": 9,
    "start_time": "2021-12-15T17:42:29.735Z"
   },
   {
    "duration": 4,
    "start_time": "2021-12-15T17:42:29.903Z"
   },
   {
    "duration": 9,
    "start_time": "2021-12-15T17:42:30.234Z"
   },
   {
    "duration": 6,
    "start_time": "2021-12-15T17:42:30.401Z"
   },
   {
    "duration": 5,
    "start_time": "2021-12-15T17:42:30.569Z"
   },
   {
    "duration": 4,
    "start_time": "2021-12-15T17:42:30.737Z"
   },
   {
    "duration": 4,
    "start_time": "2021-12-15T17:42:31.074Z"
   },
   {
    "duration": 4,
    "start_time": "2021-12-15T17:42:31.158Z"
   },
   {
    "duration": 10,
    "start_time": "2021-12-15T17:42:31.325Z"
   },
   {
    "duration": 4,
    "start_time": "2021-12-15T17:42:31.492Z"
   },
   {
    "duration": 13,
    "start_time": "2021-12-15T17:42:31.828Z"
   },
   {
    "duration": 6,
    "start_time": "2021-12-15T17:42:31.997Z"
   },
   {
    "duration": 4,
    "start_time": "2021-12-15T17:42:32.085Z"
   },
   {
    "duration": 4,
    "start_time": "2021-12-15T17:42:32.415Z"
   },
   {
    "duration": 3,
    "start_time": "2021-12-15T17:42:32.501Z"
   },
   {
    "duration": 7,
    "start_time": "2021-12-15T17:42:32.834Z"
   },
   {
    "duration": 5,
    "start_time": "2021-12-15T17:42:33.003Z"
   },
   {
    "duration": 6,
    "start_time": "2021-12-15T17:42:33.086Z"
   },
   {
    "duration": 3,
    "start_time": "2021-12-15T17:42:33.507Z"
   },
   {
    "duration": 3,
    "start_time": "2021-12-15T17:42:33.674Z"
   },
   {
    "duration": 6,
    "start_time": "2021-12-15T17:42:33.843Z"
   },
   {
    "duration": 8,
    "start_time": "2021-12-15T17:42:34.010Z"
   },
   {
    "duration": 4,
    "start_time": "2021-12-15T17:42:34.266Z"
   },
   {
    "duration": 4,
    "start_time": "2021-12-15T17:42:34.345Z"
   },
   {
    "duration": 8,
    "start_time": "2021-12-15T17:42:34.598Z"
   },
   {
    "duration": 4,
    "start_time": "2021-12-15T17:42:35.016Z"
   },
   {
    "duration": 4,
    "start_time": "2021-12-15T17:42:35.185Z"
   },
   {
    "duration": 410,
    "start_time": "2021-12-15T17:42:35.275Z"
   },
   {
    "duration": 3,
    "start_time": "2021-12-15T17:42:35.687Z"
   },
   {
    "duration": 55,
    "start_time": "2021-12-15T17:42:35.692Z"
   },
   {
    "duration": 8,
    "start_time": "2021-12-15T17:42:36.104Z"
   },
   {
    "duration": 4,
    "start_time": "2021-12-15T17:42:36.187Z"
   },
   {
    "duration": 3,
    "start_time": "2021-12-15T17:42:36.524Z"
   },
   {
    "duration": 3,
    "start_time": "2021-12-15T17:42:36.690Z"
   },
   {
    "duration": 11,
    "start_time": "2021-12-15T17:42:36.858Z"
   },
   {
    "duration": 5,
    "start_time": "2021-12-15T17:42:37.025Z"
   },
   {
    "duration": 5,
    "start_time": "2021-12-15T17:42:37.445Z"
   },
   {
    "duration": 52,
    "start_time": "2021-12-15T17:42:37.696Z"
   },
   {
    "duration": 4,
    "start_time": "2021-12-15T17:42:37.869Z"
   },
   {
    "duration": 3,
    "start_time": "2021-12-15T17:42:38.200Z"
   },
   {
    "duration": 516,
    "start_time": "2021-12-15T17:42:38.285Z"
   },
   {
    "duration": 4,
    "start_time": "2021-12-15T17:42:38.803Z"
   },
   {
    "duration": 13,
    "start_time": "2021-12-15T17:42:38.809Z"
   },
   {
    "duration": 5,
    "start_time": "2021-12-15T17:42:38.953Z"
   },
   {
    "duration": 5,
    "start_time": "2021-12-15T17:42:39.203Z"
   },
   {
    "duration": 4,
    "start_time": "2021-12-15T17:42:39.381Z"
   },
   {
    "duration": 24,
    "start_time": "2021-12-15T17:42:39.705Z"
   },
   {
    "duration": 327,
    "start_time": "2021-12-15T17:42:39.957Z"
   },
   {
    "duration": 558,
    "start_time": "2021-12-15T17:42:40.286Z"
   },
   {
    "duration": 287,
    "start_time": "2021-12-15T17:42:40.847Z"
   },
   {
    "duration": 400,
    "start_time": "2021-12-15T17:42:41.144Z"
   },
   {
    "duration": 286,
    "start_time": "2021-12-15T17:42:41.546Z"
   },
   {
    "duration": 392,
    "start_time": "2021-12-15T17:42:41.835Z"
   },
   {
    "duration": 184,
    "start_time": "2021-12-15T17:42:42.229Z"
   },
   {
    "duration": 217,
    "start_time": "2021-12-15T17:42:42.415Z"
   },
   {
    "duration": 16,
    "start_time": "2021-12-15T17:42:42.634Z"
   },
   {
    "duration": 197,
    "start_time": "2021-12-15T17:42:42.651Z"
   },
   {
    "duration": 350,
    "start_time": "2021-12-15T17:42:42.851Z"
   },
   {
    "duration": 7,
    "start_time": "2021-12-15T17:42:43.203Z"
   },
   {
    "duration": 72,
    "start_time": "2021-12-15T17:42:43.214Z"
   },
   {
    "duration": 429,
    "start_time": "2021-12-15T17:42:43.288Z"
   },
   {
    "duration": 403,
    "start_time": "2021-12-15T17:42:43.720Z"
   },
   {
    "duration": 8,
    "start_time": "2021-12-15T17:42:44.125Z"
   },
   {
    "duration": 447,
    "start_time": "2021-12-15T17:42:44.145Z"
   },
   {
    "duration": 366,
    "start_time": "2021-12-15T17:42:44.594Z"
   },
   {
    "duration": 8,
    "start_time": "2021-12-15T17:42:44.963Z"
   },
   {
    "duration": 253,
    "start_time": "2021-12-15T17:42:44.973Z"
   },
   {
    "duration": 401,
    "start_time": "2021-12-15T17:42:45.228Z"
   },
   {
    "duration": 18,
    "start_time": "2021-12-15T17:42:45.632Z"
   },
   {
    "duration": 362,
    "start_time": "2021-12-15T17:42:45.652Z"
   },
   {
    "duration": 336,
    "start_time": "2021-12-15T17:42:46.016Z"
   },
   {
    "duration": 24,
    "start_time": "2021-12-15T17:42:46.354Z"
   },
   {
    "duration": 119,
    "start_time": "2021-12-15T17:42:46.379Z"
   },
   {
    "duration": 8,
    "start_time": "2021-12-15T17:45:56.322Z"
   },
   {
    "duration": 352,
    "start_time": "2021-12-15T18:06:02.074Z"
   },
   {
    "duration": 8,
    "start_time": "2021-12-15T18:06:16.392Z"
   },
   {
    "duration": 366,
    "start_time": "2021-12-15T18:11:34.430Z"
   },
   {
    "duration": 432,
    "start_time": "2021-12-15T18:11:39.518Z"
   },
   {
    "duration": 10,
    "start_time": "2021-12-15T18:11:51.039Z"
   },
   {
    "duration": 9,
    "start_time": "2021-12-15T18:12:26.238Z"
   },
   {
    "duration": 8,
    "start_time": "2021-12-15T18:12:54.101Z"
   },
   {
    "duration": 349,
    "start_time": "2021-12-15T18:13:06.469Z"
   },
   {
    "duration": 369,
    "start_time": "2021-12-15T18:14:09.892Z"
   },
   {
    "duration": 17,
    "start_time": "2021-12-15T18:34:46.606Z"
   },
   {
    "duration": 267,
    "start_time": "2021-12-15T18:38:06.692Z"
   },
   {
    "duration": 194,
    "start_time": "2021-12-15T18:38:54.250Z"
   },
   {
    "duration": 511,
    "start_time": "2021-12-15T18:39:33.130Z"
   },
   {
    "duration": 21,
    "start_time": "2021-12-15T18:46:26.310Z"
   },
   {
    "duration": 20,
    "start_time": "2021-12-15T18:46:38.646Z"
   },
   {
    "duration": 8405,
    "start_time": "2021-12-15T18:46:52.837Z"
   },
   {
    "duration": 563,
    "start_time": "2021-12-15T18:47:10.501Z"
   },
   {
    "duration": 525,
    "start_time": "2021-12-15T18:48:13.397Z"
   },
   {
    "duration": 296,
    "start_time": "2021-12-15T18:53:42.279Z"
   },
   {
    "duration": 330,
    "start_time": "2021-12-15T18:54:13.961Z"
   },
   {
    "duration": 554,
    "start_time": "2021-12-15T18:54:32.776Z"
   },
   {
    "duration": 90,
    "start_time": "2021-12-15T18:56:24.351Z"
   },
   {
    "duration": 5,
    "start_time": "2021-12-15T18:57:08.754Z"
   },
   {
    "duration": 5,
    "start_time": "2021-12-15T19:00:52.539Z"
   },
   {
    "duration": 5,
    "start_time": "2021-12-15T19:00:59.092Z"
   },
   {
    "duration": 534,
    "start_time": "2021-12-15T19:07:01.960Z"
   },
   {
    "duration": 502,
    "start_time": "2021-12-15T19:07:30.550Z"
   },
   {
    "duration": 8179,
    "start_time": "2021-12-15T19:10:00.230Z"
   },
   {
    "duration": 6,
    "start_time": "2021-12-15T19:11:11.301Z"
   },
   {
    "duration": 254,
    "start_time": "2021-12-15T19:11:53.509Z"
   },
   {
    "duration": 6,
    "start_time": "2021-12-15T19:12:16.493Z"
   },
   {
    "duration": 283,
    "start_time": "2021-12-15T19:15:22.323Z"
   },
   {
    "duration": 10,
    "start_time": "2021-12-15T19:15:40.082Z"
   },
   {
    "duration": 5,
    "start_time": "2021-12-15T19:15:52.618Z"
   },
   {
    "duration": 6,
    "start_time": "2021-12-15T19:16:05.081Z"
   },
   {
    "duration": 256,
    "start_time": "2021-12-15T19:16:24.361Z"
   },
   {
    "duration": 261,
    "start_time": "2021-12-15T19:16:35.937Z"
   },
   {
    "duration": 6,
    "start_time": "2021-12-15T19:16:43.793Z"
   },
   {
    "duration": 7,
    "start_time": "2021-12-15T19:16:49.281Z"
   },
   {
    "duration": 9,
    "start_time": "2021-12-15T19:17:37.665Z"
   },
   {
    "duration": 187,
    "start_time": "2021-12-15T19:18:11.544Z"
   },
   {
    "duration": 127,
    "start_time": "2021-12-15T20:10:22.706Z"
   },
   {
    "duration": 789,
    "start_time": "2021-12-15T20:10:28.881Z"
   },
   {
    "duration": 200,
    "start_time": "2021-12-15T20:10:47.474Z"
   },
   {
    "duration": 258,
    "start_time": "2021-12-15T20:11:55.800Z"
   },
   {
    "duration": 2715,
    "start_time": "2021-12-15T20:12:09.144Z"
   },
   {
    "duration": 31,
    "start_time": "2021-12-15T20:12:25.487Z"
   },
   {
    "duration": 25,
    "start_time": "2021-12-15T20:14:06.486Z"
   },
   {
    "duration": 2150,
    "start_time": "2021-12-15T20:14:42.782Z"
   },
   {
    "duration": 8482,
    "start_time": "2021-12-15T20:15:22.255Z"
   },
   {
    "duration": 501,
    "start_time": "2021-12-15T20:15:52.494Z"
   },
   {
    "duration": 500,
    "start_time": "2021-12-15T20:16:03.909Z"
   },
   {
    "duration": 572,
    "start_time": "2021-12-15T20:16:39.822Z"
   },
   {
    "duration": 2137,
    "start_time": "2021-12-15T20:16:55.661Z"
   },
   {
    "duration": 326,
    "start_time": "2021-12-15T20:17:14.787Z"
   },
   {
    "duration": 920,
    "start_time": "2021-12-15T20:17:38.268Z"
   },
   {
    "duration": 566,
    "start_time": "2021-12-15T20:18:05.668Z"
   },
   {
    "duration": 913,
    "start_time": "2021-12-15T20:18:32.443Z"
   },
   {
    "duration": 898,
    "start_time": "2021-12-15T20:18:40.171Z"
   },
   {
    "duration": 943,
    "start_time": "2021-12-15T20:18:49.548Z"
   },
   {
    "duration": 728,
    "start_time": "2021-12-15T20:20:01.858Z"
   },
   {
    "duration": 623,
    "start_time": "2021-12-15T20:20:15.314Z"
   },
   {
    "duration": 607,
    "start_time": "2021-12-15T20:21:24.842Z"
   },
   {
    "duration": 986,
    "start_time": "2021-12-15T20:23:41.040Z"
   },
   {
    "duration": 309,
    "start_time": "2021-12-15T20:28:05.717Z"
   },
   {
    "duration": 762,
    "start_time": "2021-12-15T20:28:27.061Z"
   },
   {
    "duration": 829,
    "start_time": "2021-12-15T20:29:25.139Z"
   },
   {
    "duration": 149,
    "start_time": "2021-12-15T20:32:09.393Z"
   },
   {
    "duration": 291,
    "start_time": "2021-12-15T20:32:50.193Z"
   },
   {
    "duration": 317,
    "start_time": "2021-12-15T20:33:58.280Z"
   },
   {
    "duration": 659,
    "start_time": "2021-12-15T20:34:34.745Z"
   },
   {
    "duration": 86,
    "start_time": "2021-12-15T20:38:21.289Z"
   },
   {
    "duration": 284,
    "start_time": "2021-12-15T20:38:26.708Z"
   },
   {
    "duration": 266,
    "start_time": "2021-12-15T20:38:54.789Z"
   },
   {
    "duration": 97,
    "start_time": "2021-12-15T20:39:52.988Z"
   },
   {
    "duration": 262,
    "start_time": "2021-12-15T20:39:58.923Z"
   },
   {
    "duration": 273,
    "start_time": "2021-12-15T20:40:30.787Z"
   },
   {
    "duration": 298,
    "start_time": "2021-12-15T20:41:03.684Z"
   },
   {
    "duration": 265,
    "start_time": "2021-12-15T20:41:16.963Z"
   },
   {
    "duration": 90,
    "start_time": "2021-12-15T20:42:25.011Z"
   },
   {
    "duration": 97,
    "start_time": "2021-12-15T20:42:54.314Z"
   },
   {
    "duration": 85,
    "start_time": "2021-12-15T20:43:25.002Z"
   },
   {
    "duration": 265,
    "start_time": "2021-12-15T20:44:15.633Z"
   },
   {
    "duration": 3503,
    "start_time": "2021-12-15T20:44:31.785Z"
   },
   {
    "duration": 2866,
    "start_time": "2021-12-15T20:45:28.080Z"
   },
   {
    "duration": 262,
    "start_time": "2021-12-15T20:46:07.960Z"
   },
   {
    "duration": 2505,
    "start_time": "2021-12-15T20:46:13.424Z"
   },
   {
    "duration": 585,
    "start_time": "2021-12-15T20:47:10.807Z"
   },
   {
    "duration": 2203,
    "start_time": "2021-12-15T20:47:47.998Z"
   },
   {
    "duration": 594,
    "start_time": "2021-12-15T20:48:06.023Z"
   },
   {
    "duration": 416,
    "start_time": "2021-12-15T20:50:22.468Z"
   },
   {
    "duration": 2218,
    "start_time": "2021-12-15T20:50:48.116Z"
   },
   {
    "duration": 3812,
    "start_time": "2021-12-15T20:50:57.229Z"
   },
   {
    "duration": 686,
    "start_time": "2021-12-15T20:52:07.772Z"
   },
   {
    "duration": 563,
    "start_time": "2021-12-15T20:52:39.444Z"
   },
   {
    "duration": 94,
    "start_time": "2021-12-15T21:00:09.350Z"
   },
   {
    "duration": 96,
    "start_time": "2021-12-15T21:00:13.877Z"
   },
   {
    "duration": 283,
    "start_time": "2021-12-15T21:00:19.469Z"
   },
   {
    "duration": 260,
    "start_time": "2021-12-15T21:00:50.613Z"
   },
   {
    "duration": 129,
    "start_time": "2021-12-15T21:02:56.877Z"
   },
   {
    "duration": 35,
    "start_time": "2021-12-15T21:05:44.482Z"
   },
   {
    "duration": 35,
    "start_time": "2021-12-15T21:06:36.665Z"
   },
   {
    "duration": 142,
    "start_time": "2021-12-15T21:06:51.033Z"
   },
   {
    "duration": 2721,
    "start_time": "2021-12-15T21:07:21.089Z"
   },
   {
    "duration": 2590,
    "start_time": "2021-12-15T21:08:30.912Z"
   },
   {
    "duration": 2472,
    "start_time": "2021-12-15T21:09:20.583Z"
   },
   {
    "duration": 154,
    "start_time": "2021-12-15T21:09:30.183Z"
   },
   {
    "duration": 480,
    "start_time": "2021-12-15T21:11:02.007Z"
   },
   {
    "duration": 96,
    "start_time": "2021-12-15T21:12:14.726Z"
   },
   {
    "duration": 211,
    "start_time": "2021-12-15T21:12:24.484Z"
   },
   {
    "duration": 7970,
    "start_time": "2021-12-15T21:13:01.901Z"
   },
   {
    "duration": 518,
    "start_time": "2021-12-15T21:13:15.999Z"
   },
   {
    "duration": 8141,
    "start_time": "2021-12-15T21:14:11.140Z"
   },
   {
    "duration": 509,
    "start_time": "2021-12-15T21:15:19.732Z"
   },
   {
    "duration": 731,
    "start_time": "2021-12-15T21:20:19.023Z"
   },
   {
    "duration": 745,
    "start_time": "2021-12-15T21:20:48.056Z"
   },
   {
    "duration": 5,
    "start_time": "2021-12-15T21:22:07.046Z"
   },
   {
    "duration": 384,
    "start_time": "2021-12-16T10:32:00.306Z"
   },
   {
    "duration": 271,
    "start_time": "2021-12-16T10:32:11.353Z"
   },
   {
    "duration": 316,
    "start_time": "2021-12-16T11:35:47.754Z"
   },
   {
    "duration": 734,
    "start_time": "2021-12-16T11:35:58.515Z"
   },
   {
    "duration": 83,
    "start_time": "2021-12-16T11:35:59.252Z"
   },
   {
    "duration": 54,
    "start_time": "2021-12-16T11:35:59.338Z"
   },
   {
    "duration": 43,
    "start_time": "2021-12-16T11:35:59.394Z"
   },
   {
    "duration": 11,
    "start_time": "2021-12-16T11:35:59.773Z"
   },
   {
    "duration": 6,
    "start_time": "2021-12-16T11:35:59.940Z"
   },
   {
    "duration": 14,
    "start_time": "2021-12-16T11:36:00.280Z"
   },
   {
    "duration": 11,
    "start_time": "2021-12-16T11:36:00.611Z"
   },
   {
    "duration": 5,
    "start_time": "2021-12-16T11:36:00.781Z"
   },
   {
    "duration": 12,
    "start_time": "2021-12-16T11:36:00.947Z"
   },
   {
    "duration": 5,
    "start_time": "2021-12-16T11:36:01.115Z"
   },
   {
    "duration": 12,
    "start_time": "2021-12-16T11:36:01.288Z"
   },
   {
    "duration": 6,
    "start_time": "2021-12-16T11:36:01.464Z"
   },
   {
    "duration": 13,
    "start_time": "2021-12-16T11:36:01.783Z"
   },
   {
    "duration": 8,
    "start_time": "2021-12-16T11:36:01.950Z"
   },
   {
    "duration": 5,
    "start_time": "2021-12-16T11:36:02.116Z"
   },
   {
    "duration": 6,
    "start_time": "2021-12-16T11:36:02.285Z"
   },
   {
    "duration": 7,
    "start_time": "2021-12-16T11:36:02.620Z"
   },
   {
    "duration": 5,
    "start_time": "2021-12-16T11:36:02.705Z"
   },
   {
    "duration": 11,
    "start_time": "2021-12-16T11:36:02.873Z"
   },
   {
    "duration": 6,
    "start_time": "2021-12-16T11:36:03.040Z"
   },
   {
    "duration": 22,
    "start_time": "2021-12-16T11:36:03.376Z"
   },
   {
    "duration": 8,
    "start_time": "2021-12-16T11:36:03.562Z"
   },
   {
    "duration": 6,
    "start_time": "2021-12-16T11:36:03.631Z"
   },
   {
    "duration": 5,
    "start_time": "2021-12-16T11:36:03.963Z"
   },
   {
    "duration": 6,
    "start_time": "2021-12-16T11:36:04.054Z"
   },
   {
    "duration": 9,
    "start_time": "2021-12-16T11:36:04.385Z"
   },
   {
    "duration": 6,
    "start_time": "2021-12-16T11:36:04.551Z"
   },
   {
    "duration": 7,
    "start_time": "2021-12-16T11:36:04.640Z"
   },
   {
    "duration": 4,
    "start_time": "2021-12-16T11:36:05.055Z"
   },
   {
    "duration": 4,
    "start_time": "2021-12-16T11:36:05.224Z"
   },
   {
    "duration": 8,
    "start_time": "2021-12-16T11:36:05.392Z"
   },
   {
    "duration": 10,
    "start_time": "2021-12-16T11:36:05.560Z"
   },
   {
    "duration": 4,
    "start_time": "2021-12-16T11:36:05.813Z"
   },
   {
    "duration": 6,
    "start_time": "2021-12-16T11:36:05.901Z"
   },
   {
    "duration": 16,
    "start_time": "2021-12-16T11:36:06.146Z"
   },
   {
    "duration": 6,
    "start_time": "2021-12-16T11:36:06.565Z"
   },
   {
    "duration": 7,
    "start_time": "2021-12-16T11:36:06.740Z"
   },
   {
    "duration": 706,
    "start_time": "2021-12-16T11:36:06.818Z"
   },
   {
    "duration": 5,
    "start_time": "2021-12-16T11:36:07.527Z"
   },
   {
    "duration": 106,
    "start_time": "2021-12-16T11:36:07.535Z"
   },
   {
    "duration": 12,
    "start_time": "2021-12-16T11:36:07.652Z"
   },
   {
    "duration": 5,
    "start_time": "2021-12-16T11:36:07.736Z"
   },
   {
    "duration": 4,
    "start_time": "2021-12-16T11:36:08.070Z"
   },
   {
    "duration": 5,
    "start_time": "2021-12-16T11:36:08.239Z"
   },
   {
    "duration": 16,
    "start_time": "2021-12-16T11:36:08.411Z"
   },
   {
    "duration": 8,
    "start_time": "2021-12-16T11:36:08.576Z"
   },
   {
    "duration": 7,
    "start_time": "2021-12-16T11:36:08.991Z"
   },
   {
    "duration": 74,
    "start_time": "2021-12-16T11:36:09.243Z"
   },
   {
    "duration": 5,
    "start_time": "2021-12-16T11:36:09.412Z"
   },
   {
    "duration": 5,
    "start_time": "2021-12-16T11:36:09.746Z"
   },
   {
    "duration": 766,
    "start_time": "2021-12-16T11:36:09.830Z"
   },
   {
    "duration": 5,
    "start_time": "2021-12-16T11:36:10.599Z"
   },
   {
    "duration": 25,
    "start_time": "2021-12-16T11:36:10.608Z"
   },
   {
    "duration": 17,
    "start_time": "2021-12-16T11:36:10.636Z"
   },
   {
    "duration": 5,
    "start_time": "2021-12-16T11:36:10.753Z"
   },
   {
    "duration": 7,
    "start_time": "2021-12-16T11:36:10.916Z"
   },
   {
    "duration": 46,
    "start_time": "2021-12-16T11:36:11.252Z"
   },
   {
    "duration": 388,
    "start_time": "2021-12-16T11:36:11.511Z"
   },
   {
    "duration": 538,
    "start_time": "2021-12-16T11:36:11.902Z"
   },
   {
    "duration": 307,
    "start_time": "2021-12-16T11:36:12.443Z"
   },
   {
    "duration": 628,
    "start_time": "2021-12-16T11:36:12.753Z"
   },
   {
    "duration": 323,
    "start_time": "2021-12-16T11:36:13.384Z"
   },
   {
    "duration": 789,
    "start_time": "2021-12-16T11:36:13.711Z"
   },
   {
    "duration": 392,
    "start_time": "2021-12-16T11:36:14.503Z"
   },
   {
    "duration": 490,
    "start_time": "2021-12-16T11:36:14.898Z"
   },
   {
    "duration": 10,
    "start_time": "2021-12-16T11:36:15.391Z"
   },
   {
    "duration": 213,
    "start_time": "2021-12-16T11:36:15.403Z"
   },
   {
    "duration": 558,
    "start_time": "2021-12-16T11:36:15.624Z"
   },
   {
    "duration": 8,
    "start_time": "2021-12-16T11:36:16.185Z"
   },
   {
    "duration": 15,
    "start_time": "2021-12-16T11:36:16.195Z"
   },
   {
    "duration": 605,
    "start_time": "2021-12-16T11:36:16.223Z"
   },
   {
    "duration": 757,
    "start_time": "2021-12-16T11:36:16.832Z"
   },
   {
    "duration": 13,
    "start_time": "2021-12-16T11:36:17.592Z"
   },
   {
    "duration": 573,
    "start_time": "2021-12-16T11:36:17.607Z"
   },
   {
    "duration": 554,
    "start_time": "2021-12-16T11:36:18.182Z"
   },
   {
    "duration": 8,
    "start_time": "2021-12-16T11:36:18.740Z"
   },
   {
    "duration": 350,
    "start_time": "2021-12-16T11:36:18.750Z"
   },
   {
    "duration": 579,
    "start_time": "2021-12-16T11:36:19.102Z"
   },
   {
    "duration": 10,
    "start_time": "2021-12-16T11:36:19.683Z"
   },
   {
    "duration": 567,
    "start_time": "2021-12-16T11:36:19.695Z"
   },
   {
    "duration": 521,
    "start_time": "2021-12-16T11:36:20.265Z"
   },
   {
    "duration": 10,
    "start_time": "2021-12-16T11:36:20.789Z"
   },
   {
    "duration": 525,
    "start_time": "2021-12-16T11:36:20.801Z"
   },
   {
    "duration": 990,
    "start_time": "2021-12-16T11:36:21.329Z"
   },
   {
    "duration": 7,
    "start_time": "2021-12-16T11:36:22.323Z"
   },
   {
    "duration": 1048,
    "start_time": "2021-12-16T11:36:22.332Z"
   },
   {
    "duration": 6,
    "start_time": "2021-12-16T11:52:07.775Z"
   },
   {
    "duration": 958,
    "start_time": "2021-12-16T11:55:21.828Z"
   },
   {
    "duration": 773,
    "start_time": "2021-12-16T11:56:19.084Z"
   },
   {
    "duration": 316,
    "start_time": "2021-12-16T12:11:59.218Z"
   },
   {
    "duration": 287,
    "start_time": "2021-12-16T12:12:24.736Z"
   },
   {
    "duration": 286,
    "start_time": "2021-12-16T12:13:14.330Z"
   },
   {
    "duration": 288,
    "start_time": "2021-12-16T12:14:10.473Z"
   },
   {
    "duration": 507,
    "start_time": "2021-12-16T12:14:51.792Z"
   },
   {
    "duration": 467,
    "start_time": "2021-12-16T12:15:02.791Z"
   },
   {
    "duration": 494,
    "start_time": "2021-12-16T12:15:08.625Z"
   },
   {
    "duration": 1431,
    "start_time": "2021-12-16T12:17:52.710Z"
   },
   {
    "duration": 28,
    "start_time": "2021-12-16T12:20:39.028Z"
   },
   {
    "duration": 57,
    "start_time": "2021-12-16T12:21:16.211Z"
   },
   {
    "duration": 396,
    "start_time": "2021-12-16T12:21:51.092Z"
   },
   {
    "duration": 51,
    "start_time": "2021-12-16T12:22:27.459Z"
   },
   {
    "duration": 434,
    "start_time": "2021-12-16T12:23:03.371Z"
   },
   {
    "duration": -65,
    "start_time": "2021-12-16T12:25:12.857Z"
   },
   {
    "duration": 65,
    "start_time": "2021-12-16T12:25:24.369Z"
   },
   {
    "duration": 28,
    "start_time": "2021-12-16T12:26:32.504Z"
   },
   {
    "duration": 281,
    "start_time": "2021-12-16T12:31:26.389Z"
   },
   {
    "duration": 296,
    "start_time": "2021-12-16T12:31:52.163Z"
   },
   {
    "duration": 286,
    "start_time": "2021-12-16T12:32:01.156Z"
   },
   {
    "duration": 7096,
    "start_time": "2021-12-16T12:32:23.308Z"
   },
   {
    "duration": 8136,
    "start_time": "2021-12-16T12:32:34.164Z"
   },
   {
    "duration": 87,
    "start_time": "2021-12-16T12:33:57.819Z"
   },
   {
    "duration": 108,
    "start_time": "2021-12-16T12:34:06.155Z"
   },
   {
    "duration": 64,
    "start_time": "2021-12-16T12:34:41.610Z"
   },
   {
    "duration": 67,
    "start_time": "2021-12-16T12:36:04.898Z"
   },
   {
    "duration": 63,
    "start_time": "2021-12-16T12:42:00.087Z"
   },
   {
    "duration": 475,
    "start_time": "2021-12-16T12:42:14.613Z"
   },
   {
    "duration": 488,
    "start_time": "2021-12-16T12:42:24.453Z"
   },
   {
    "duration": 509,
    "start_time": "2021-12-16T12:43:46.452Z"
   },
   {
    "duration": 57,
    "start_time": "2021-12-16T12:54:40.214Z"
   },
   {
    "duration": 55,
    "start_time": "2021-12-16T12:54:49.516Z"
   },
   {
    "duration": 499,
    "start_time": "2021-12-16T12:57:58.217Z"
   },
   {
    "duration": 57,
    "start_time": "2021-12-16T12:58:02.227Z"
   },
   {
    "duration": 107,
    "start_time": "2021-12-16T13:01:27.729Z"
   },
   {
    "duration": 735,
    "start_time": "2021-12-16T13:01:43.400Z"
   },
   {
    "duration": 6,
    "start_time": "2021-12-16T13:03:27.102Z"
   },
   {
    "duration": 898,
    "start_time": "2021-12-16T13:20:57.707Z"
   },
   {
    "duration": 120,
    "start_time": "2021-12-16T13:21:32.130Z"
   },
   {
    "duration": 7,
    "start_time": "2021-12-16T13:22:11.321Z"
   },
   {
    "duration": 159,
    "start_time": "2021-12-16T13:23:34.985Z"
   },
   {
    "duration": 953,
    "start_time": "2021-12-16T13:24:19.754Z"
   },
   {
    "duration": 789,
    "start_time": "2021-12-16T13:24:42.696Z"
   },
   {
    "duration": 495,
    "start_time": "2021-12-16T13:25:02.737Z"
   },
   {
    "duration": 734,
    "start_time": "2021-12-16T13:25:10.256Z"
   },
   {
    "duration": 18,
    "start_time": "2021-12-16T13:26:44.336Z"
   },
   {
    "duration": 109,
    "start_time": "2021-12-16T13:27:57.566Z"
   },
   {
    "duration": 111,
    "start_time": "2021-12-16T13:28:14.894Z"
   },
   {
    "duration": 89,
    "start_time": "2021-12-16T13:28:36.345Z"
   },
   {
    "duration": 99,
    "start_time": "2021-12-16T13:28:45.349Z"
   },
   {
    "duration": 89,
    "start_time": "2021-12-16T13:28:48.477Z"
   },
   {
    "duration": 90,
    "start_time": "2021-12-16T13:29:11.669Z"
   },
   {
    "duration": 90,
    "start_time": "2021-12-16T13:29:25.756Z"
   },
   {
    "duration": 97,
    "start_time": "2021-12-16T13:29:35.033Z"
   },
   {
    "duration": 101,
    "start_time": "2021-12-16T13:29:41.701Z"
   },
   {
    "duration": 122,
    "start_time": "2021-12-16T13:30:05.040Z"
   },
   {
    "duration": 25,
    "start_time": "2021-12-16T13:30:36.313Z"
   },
   {
    "duration": 25,
    "start_time": "2021-12-16T13:31:22.327Z"
   },
   {
    "duration": 346,
    "start_time": "2021-12-16T13:34:44.635Z"
   },
   {
    "duration": 346,
    "start_time": "2021-12-16T13:34:51.355Z"
   },
   {
    "duration": 28,
    "start_time": "2021-12-16T13:35:32.115Z"
   },
   {
    "duration": 32,
    "start_time": "2021-12-16T13:35:54.113Z"
   },
   {
    "duration": 20,
    "start_time": "2021-12-16T13:36:56.600Z"
   },
   {
    "duration": 17,
    "start_time": "2021-12-16T13:50:19.542Z"
   },
   {
    "duration": 798,
    "start_time": "2021-12-16T13:50:43.430Z"
   },
   {
    "duration": 96,
    "start_time": "2021-12-16T14:03:01.703Z"
   },
   {
    "duration": 26,
    "start_time": "2021-12-16T14:03:07.206Z"
   },
   {
    "duration": 25,
    "start_time": "2021-12-16T14:03:54.805Z"
   },
   {
    "duration": 62,
    "start_time": "2021-12-16T14:06:14.492Z"
   },
   {
    "duration": 305,
    "start_time": "2021-12-16T14:10:24.955Z"
   },
   {
    "duration": 11,
    "start_time": "2021-12-16T14:10:36.691Z"
   },
   {
    "duration": 10,
    "start_time": "2021-12-16T14:10:44.612Z"
   },
   {
    "duration": 10,
    "start_time": "2021-12-16T14:10:54.745Z"
   },
   {
    "duration": 10,
    "start_time": "2021-12-16T14:11:02.968Z"
   },
   {
    "duration": 10,
    "start_time": "2021-12-16T14:11:07.920Z"
   },
   {
    "duration": 69,
    "start_time": "2021-12-16T14:16:14.093Z"
   },
   {
    "duration": 36,
    "start_time": "2021-12-16T14:20:25.561Z"
   },
   {
    "duration": 35,
    "start_time": "2021-12-16T14:20:33.019Z"
   },
   {
    "duration": 35,
    "start_time": "2021-12-16T14:21:05.331Z"
   },
   {
    "duration": 50,
    "start_time": "2021-12-16T14:21:22.754Z"
   },
   {
    "duration": 338,
    "start_time": "2021-12-16T14:21:44.362Z"
   },
   {
    "duration": 38,
    "start_time": "2021-12-16T14:21:59.433Z"
   },
   {
    "duration": 37,
    "start_time": "2021-12-16T14:22:31.577Z"
   },
   {
    "duration": 294,
    "start_time": "2021-12-16T14:22:59.120Z"
   },
   {
    "duration": 306,
    "start_time": "2021-12-16T14:23:05.632Z"
   },
   {
    "duration": 302,
    "start_time": "2021-12-16T14:23:23.672Z"
   },
   {
    "duration": 38,
    "start_time": "2021-12-16T14:24:02.400Z"
   },
   {
    "duration": 280,
    "start_time": "2021-12-16T14:24:52.640Z"
   },
   {
    "duration": 7371,
    "start_time": "2021-12-16T14:26:01.943Z"
   },
   {
    "duration": 6715,
    "start_time": "2021-12-16T14:26:22.423Z"
   },
   {
    "duration": 9,
    "start_time": "2021-12-16T14:26:40.022Z"
   },
   {
    "duration": 112,
    "start_time": "2021-12-16T14:28:05.853Z"
   },
   {
    "duration": 8,
    "start_time": "2021-12-16T14:28:09.014Z"
   },
   {
    "duration": 5,
    "start_time": "2021-12-16T14:28:22.797Z"
   },
   {
    "duration": 341,
    "start_time": "2021-12-16T16:26:58.813Z"
   },
   {
    "duration": 279,
    "start_time": "2021-12-16T16:27:46.164Z"
   },
   {
    "duration": 101,
    "start_time": "2021-12-16T16:29:17.196Z"
   },
   {
    "duration": 267,
    "start_time": "2021-12-16T16:29:29.114Z"
   },
   {
    "duration": 754,
    "start_time": "2021-12-16T16:29:36.462Z"
   },
   {
    "duration": 92,
    "start_time": "2021-12-16T16:29:37.219Z"
   },
   {
    "duration": 55,
    "start_time": "2021-12-16T16:29:37.314Z"
   },
   {
    "duration": 17,
    "start_time": "2021-12-16T16:29:37.371Z"
   },
   {
    "duration": 10,
    "start_time": "2021-12-16T16:29:37.715Z"
   },
   {
    "duration": 4,
    "start_time": "2021-12-16T16:29:37.883Z"
   },
   {
    "duration": 13,
    "start_time": "2021-12-16T16:29:38.218Z"
   },
   {
    "duration": 13,
    "start_time": "2021-12-16T16:29:38.554Z"
   },
   {
    "duration": 4,
    "start_time": "2021-12-16T16:29:38.727Z"
   },
   {
    "duration": 15,
    "start_time": "2021-12-16T16:29:38.887Z"
   },
   {
    "duration": 5,
    "start_time": "2021-12-16T16:29:39.075Z"
   },
   {
    "duration": 12,
    "start_time": "2021-12-16T16:29:39.225Z"
   },
   {
    "duration": 6,
    "start_time": "2021-12-16T16:29:39.406Z"
   },
   {
    "duration": 12,
    "start_time": "2021-12-16T16:29:39.728Z"
   },
   {
    "duration": 7,
    "start_time": "2021-12-16T16:29:39.899Z"
   },
   {
    "duration": 6,
    "start_time": "2021-12-16T16:29:40.074Z"
   },
   {
    "duration": 6,
    "start_time": "2021-12-16T16:29:40.229Z"
   },
   {
    "duration": 6,
    "start_time": "2021-12-16T16:29:40.565Z"
   },
   {
    "duration": 5,
    "start_time": "2021-12-16T16:29:40.649Z"
   },
   {
    "duration": 22,
    "start_time": "2021-12-16T16:29:40.819Z"
   },
   {
    "duration": 5,
    "start_time": "2021-12-16T16:29:40.982Z"
   },
   {
    "duration": 19,
    "start_time": "2021-12-16T16:29:41.322Z"
   },
   {
    "duration": 9,
    "start_time": "2021-12-16T16:29:41.496Z"
   },
   {
    "duration": 5,
    "start_time": "2021-12-16T16:29:41.571Z"
   },
   {
    "duration": 5,
    "start_time": "2021-12-16T16:29:41.905Z"
   },
   {
    "duration": 6,
    "start_time": "2021-12-16T16:29:41.989Z"
   },
   {
    "duration": 10,
    "start_time": "2021-12-16T16:29:42.324Z"
   },
   {
    "duration": 6,
    "start_time": "2021-12-16T16:29:42.499Z"
   },
   {
    "duration": 7,
    "start_time": "2021-12-16T16:29:42.581Z"
   },
   {
    "duration": 5,
    "start_time": "2021-12-16T16:29:42.998Z"
   },
   {
    "duration": 4,
    "start_time": "2021-12-16T16:29:43.163Z"
   },
   {
    "duration": 7,
    "start_time": "2021-12-16T16:29:43.332Z"
   },
   {
    "duration": 12,
    "start_time": "2021-12-16T16:29:43.497Z"
   },
   {
    "duration": 4,
    "start_time": "2021-12-16T16:29:43.750Z"
   },
   {
    "duration": 7,
    "start_time": "2021-12-16T16:29:43.833Z"
   },
   {
    "duration": 11,
    "start_time": "2021-12-16T16:29:44.085Z"
   },
   {
    "duration": 5,
    "start_time": "2021-12-16T16:29:44.504Z"
   },
   {
    "duration": 6,
    "start_time": "2021-12-16T16:29:44.697Z"
   },
   {
    "duration": 650,
    "start_time": "2021-12-16T16:29:44.768Z"
   },
   {
    "duration": 5,
    "start_time": "2021-12-16T16:29:45.420Z"
   },
   {
    "duration": 67,
    "start_time": "2021-12-16T16:29:45.429Z"
   },
   {
    "duration": 11,
    "start_time": "2021-12-16T16:29:45.596Z"
   },
   {
    "duration": 6,
    "start_time": "2021-12-16T16:29:45.677Z"
   },
   {
    "duration": 4,
    "start_time": "2021-12-16T16:29:46.014Z"
   },
   {
    "duration": 5,
    "start_time": "2021-12-16T16:29:46.185Z"
   },
   {
    "duration": 14,
    "start_time": "2021-12-16T16:29:46.345Z"
   },
   {
    "duration": 10,
    "start_time": "2021-12-16T16:29:46.512Z"
   },
   {
    "duration": 6,
    "start_time": "2021-12-16T16:29:46.931Z"
   },
   {
    "duration": 17,
    "start_time": "2021-12-16T16:29:47.185Z"
   },
   {
    "duration": 14,
    "start_time": "2021-12-16T16:29:47.674Z"
   },
   {
    "duration": 5,
    "start_time": "2021-12-16T16:29:47.854Z"
   },
   {
    "duration": 738,
    "start_time": "2021-12-16T16:29:47.912Z"
   },
   {
    "duration": 6,
    "start_time": "2021-12-16T16:29:48.652Z"
   },
   {
    "duration": 6,
    "start_time": "2021-12-16T16:29:48.661Z"
   },
   {
    "duration": 8,
    "start_time": "2021-12-16T16:29:48.670Z"
   },
   {
    "duration": 4,
    "start_time": "2021-12-16T16:29:48.690Z"
   },
   {
    "duration": 5,
    "start_time": "2021-12-16T16:29:48.866Z"
   },
   {
    "duration": 37,
    "start_time": "2021-12-16T16:29:49.194Z"
   },
   {
    "duration": 398,
    "start_time": "2021-12-16T16:29:49.446Z"
   },
   {
    "duration": 554,
    "start_time": "2021-12-16T16:29:49.848Z"
   },
   {
    "duration": 351,
    "start_time": "2021-12-16T16:29:50.406Z"
   },
   {
    "duration": 643,
    "start_time": "2021-12-16T16:29:50.761Z"
   },
   {
    "duration": 345,
    "start_time": "2021-12-16T16:29:51.406Z"
   },
   {
    "duration": 562,
    "start_time": "2021-12-16T16:29:51.755Z"
   },
   {
    "duration": 312,
    "start_time": "2021-12-16T16:29:52.323Z"
   },
   {
    "duration": 368,
    "start_time": "2021-12-16T16:29:52.638Z"
   },
   {
    "duration": 14,
    "start_time": "2021-12-16T16:29:53.009Z"
   },
   {
    "duration": 212,
    "start_time": "2021-12-16T16:29:53.027Z"
   },
   {
    "duration": 571,
    "start_time": "2021-12-16T16:29:53.244Z"
   },
   {
    "duration": 7,
    "start_time": "2021-12-16T16:29:53.824Z"
   },
   {
    "duration": 18,
    "start_time": "2021-12-16T16:29:53.833Z"
   },
   {
    "duration": 557,
    "start_time": "2021-12-16T16:29:53.854Z"
   },
   {
    "duration": 512,
    "start_time": "2021-12-16T16:29:54.413Z"
   },
   {
    "duration": 11,
    "start_time": "2021-12-16T16:29:54.928Z"
   },
   {
    "duration": 552,
    "start_time": "2021-12-16T16:29:54.941Z"
   },
   {
    "duration": 516,
    "start_time": "2021-12-16T16:29:55.496Z"
   },
   {
    "duration": 13,
    "start_time": "2021-12-16T16:29:56.015Z"
   },
   {
    "duration": 330,
    "start_time": "2021-12-16T16:29:56.030Z"
   },
   {
    "duration": 618,
    "start_time": "2021-12-16T16:29:56.362Z"
   },
   {
    "duration": 10,
    "start_time": "2021-12-16T16:29:56.983Z"
   },
   {
    "duration": 571,
    "start_time": "2021-12-16T16:29:56.996Z"
   },
   {
    "duration": 550,
    "start_time": "2021-12-16T16:29:59.977Z"
   },
   {
    "duration": 12,
    "start_time": "2021-12-16T16:30:01.522Z"
   },
   {
    "duration": 519,
    "start_time": "2021-12-16T16:30:02.570Z"
   },
   {
    "duration": 771,
    "start_time": "2021-12-16T16:30:10.347Z"
   },
   {
    "duration": 21,
    "start_time": "2021-12-16T16:30:11.127Z"
   },
   {
    "duration": 723,
    "start_time": "2021-12-16T16:30:12.153Z"
   },
   {
    "duration": 18,
    "start_time": "2021-12-16T16:30:12.878Z"
   },
   {
    "duration": 590,
    "start_time": "2021-12-16T16:30:14.219Z"
   },
   {
    "duration": 20,
    "start_time": "2021-12-16T16:30:15.266Z"
   },
   {
    "duration": 896,
    "start_time": "2021-12-16T16:30:16.082Z"
   },
   {
    "duration": 18,
    "start_time": "2021-12-16T16:30:16.981Z"
   },
   {
    "duration": 756,
    "start_time": "2021-12-16T16:30:17.851Z"
   },
   {
    "duration": 17,
    "start_time": "2021-12-16T16:30:19.586Z"
   },
   {
    "duration": 8,
    "start_time": "2021-12-16T16:30:21.746Z"
   },
   {
    "duration": 5,
    "start_time": "2021-12-16T16:30:25.282Z"
   },
   {
    "duration": 15,
    "start_time": "2021-12-16T16:31:27.769Z"
   },
   {
    "duration": 8,
    "start_time": "2021-12-16T16:31:29.881Z"
   },
   {
    "duration": 9,
    "start_time": "2021-12-16T16:31:56.481Z"
   },
   {
    "duration": 392,
    "start_time": "2021-12-16T18:11:31.443Z"
   },
   {
    "duration": 515,
    "start_time": "2021-12-16T18:11:43.588Z"
   },
   {
    "duration": 737,
    "start_time": "2021-12-16T18:12:19.915Z"
   },
   {
    "duration": 324,
    "start_time": "2021-12-16T18:12:34.467Z"
   },
   {
    "duration": 477,
    "start_time": "2021-12-16T18:13:03.411Z"
   },
   {
    "duration": 553,
    "start_time": "2021-12-16T18:13:26.554Z"
   },
   {
    "duration": 539,
    "start_time": "2021-12-16T18:13:38.147Z"
   },
   {
    "duration": 504,
    "start_time": "2021-12-16T18:13:59.001Z"
   },
   {
    "duration": 13,
    "start_time": "2021-12-16T18:17:36.198Z"
   },
   {
    "duration": 39,
    "start_time": "2021-12-16T18:19:02.782Z"
   },
   {
    "duration": 42,
    "start_time": "2021-12-16T18:20:33.750Z"
   },
   {
    "duration": 47,
    "start_time": "2021-12-16T18:24:31.442Z"
   },
   {
    "duration": 405,
    "start_time": "2021-12-16T18:25:35.481Z"
   },
   {
    "duration": 36,
    "start_time": "2021-12-16T18:28:59.399Z"
   },
   {
    "duration": 29,
    "start_time": "2021-12-16T18:29:24.511Z"
   },
   {
    "duration": 31,
    "start_time": "2021-12-16T18:29:40.599Z"
   },
   {
    "duration": 325,
    "start_time": "2021-12-16T18:29:58.390Z"
   },
   {
    "duration": 742,
    "start_time": "2021-12-16T18:30:19.463Z"
   },
   {
    "duration": 341,
    "start_time": "2021-12-16T18:30:42.366Z"
   },
   {
    "duration": 341,
    "start_time": "2021-12-16T18:31:04.782Z"
   },
   {
    "duration": 47,
    "start_time": "2021-12-16T18:31:19.437Z"
   },
   {
    "duration": 27,
    "start_time": "2021-12-16T18:37:23.721Z"
   },
   {
    "duration": 9636,
    "start_time": "2021-12-16T18:38:05.977Z"
   },
   {
    "duration": 7147,
    "start_time": "2021-12-16T18:38:31.176Z"
   },
   {
    "duration": 48,
    "start_time": "2021-12-16T18:39:04.464Z"
   },
   {
    "duration": 131,
    "start_time": "2021-12-16T18:42:04.078Z"
   },
   {
    "duration": 54,
    "start_time": "2021-12-16T18:43:22.871Z"
   },
   {
    "duration": 308,
    "start_time": "2021-12-16T18:44:56.500Z"
   },
   {
    "duration": 344,
    "start_time": "2021-12-16T18:45:21.716Z"
   },
   {
    "duration": 44,
    "start_time": "2021-12-16T18:45:35.616Z"
   },
   {
    "duration": 52,
    "start_time": "2021-12-16T18:46:06.508Z"
   },
   {
    "duration": 35,
    "start_time": "2021-12-16T18:53:32.806Z"
   },
   {
    "duration": 842,
    "start_time": "2021-12-16T18:53:42.093Z"
   },
   {
    "duration": 750,
    "start_time": "2021-12-16T18:54:03.945Z"
   },
   {
    "duration": 731,
    "start_time": "2021-12-16T18:54:13.773Z"
   },
   {
    "duration": 319,
    "start_time": "2021-12-16T18:55:03.642Z"
   },
   {
    "duration": 38,
    "start_time": "2021-12-16T18:55:24.885Z"
   },
   {
    "duration": 36,
    "start_time": "2021-12-16T18:55:40.876Z"
   },
   {
    "duration": 5,
    "start_time": "2021-12-16T18:55:51.156Z"
   },
   {
    "duration": 1300,
    "start_time": "2021-12-16T18:56:50.076Z"
   },
   {
    "duration": 8,
    "start_time": "2021-12-16T18:57:00.723Z"
   },
   {
    "duration": 792,
    "start_time": "2021-12-16T18:57:09.771Z"
   },
   {
    "duration": 4,
    "start_time": "2021-12-16T18:57:29.619Z"
   },
   {
    "duration": 4,
    "start_time": "2021-12-16T18:57:37.493Z"
   },
   {
    "duration": 4,
    "start_time": "2021-12-16T18:59:01.735Z"
   },
   {
    "duration": 10,
    "start_time": "2021-12-16T18:59:20.658Z"
   },
   {
    "duration": 331,
    "start_time": "2021-12-16T18:59:56.314Z"
   },
   {
    "duration": 277,
    "start_time": "2021-12-16T19:00:28.897Z"
   },
   {
    "duration": 8,
    "start_time": "2021-12-16T19:01:23.289Z"
   },
   {
    "duration": 8,
    "start_time": "2021-12-16T19:02:09.296Z"
   },
   {
    "duration": 7143,
    "start_time": "2021-12-16T19:02:18.592Z"
   },
   {
    "duration": 4,
    "start_time": "2021-12-16T19:02:32.633Z"
   },
   {
    "duration": 8,
    "start_time": "2021-12-16T19:02:37.592Z"
   },
   {
    "duration": 11,
    "start_time": "2021-12-16T19:06:28.717Z"
   },
   {
    "duration": 328,
    "start_time": "2021-12-16T19:07:02.197Z"
   },
   {
    "duration": 8,
    "start_time": "2021-12-16T19:07:47.204Z"
   },
   {
    "duration": 12,
    "start_time": "2021-12-16T19:08:58.316Z"
   },
   {
    "duration": 9,
    "start_time": "2021-12-16T19:09:03.675Z"
   },
   {
    "duration": 12,
    "start_time": "2021-12-16T19:09:26.237Z"
   },
   {
    "duration": 899,
    "start_time": "2021-12-16T19:11:23.637Z"
   },
   {
    "duration": 1176,
    "start_time": "2021-12-16T19:11:43.017Z"
   },
   {
    "duration": 1255,
    "start_time": "2021-12-16T19:12:07.413Z"
   },
   {
    "duration": 808,
    "start_time": "2021-12-16T19:12:14.767Z"
   },
   {
    "duration": 771,
    "start_time": "2021-12-16T19:12:27.016Z"
   },
   {
    "duration": 125,
    "start_time": "2021-12-16T19:12:37.361Z"
   },
   {
    "duration": 102,
    "start_time": "2021-12-16T19:13:44.888Z"
   },
   {
    "duration": 26,
    "start_time": "2021-12-16T19:15:02.537Z"
   },
   {
    "duration": 4,
    "start_time": "2021-12-16T19:15:42.391Z"
   },
   {
    "duration": 11,
    "start_time": "2021-12-16T19:16:19.982Z"
   },
   {
    "duration": 4,
    "start_time": "2021-12-16T19:16:35.374Z"
   },
   {
    "duration": 14,
    "start_time": "2021-12-16T19:16:37.654Z"
   },
   {
    "duration": 12,
    "start_time": "2021-12-16T19:30:05.948Z"
   },
   {
    "duration": 35,
    "start_time": "2021-12-16T19:34:54.867Z"
   },
   {
    "duration": 10187,
    "start_time": "2021-12-16T19:38:42.905Z"
   },
   {
    "duration": 25,
    "start_time": "2021-12-16T19:39:09.224Z"
   },
   {
    "duration": 22,
    "start_time": "2021-12-16T19:39:25.870Z"
   },
   {
    "duration": 27,
    "start_time": "2021-12-16T19:42:06.813Z"
   },
   {
    "duration": 29,
    "start_time": "2021-12-16T19:43:11.284Z"
   },
   {
    "duration": 35,
    "start_time": "2021-12-16T19:44:34.995Z"
   },
   {
    "duration": 25,
    "start_time": "2021-12-16T19:45:35.525Z"
   },
   {
    "duration": 33,
    "start_time": "2021-12-16T19:45:54.514Z"
   },
   {
    "duration": 347,
    "start_time": "2021-12-16T19:51:18.199Z"
   },
   {
    "duration": 404,
    "start_time": "2021-12-16T19:51:37.591Z"
   },
   {
    "duration": 43,
    "start_time": "2021-12-16T19:52:02.718Z"
   },
   {
    "duration": 29,
    "start_time": "2021-12-16T19:52:34.654Z"
   },
   {
    "duration": 31,
    "start_time": "2021-12-16T19:52:50.653Z"
   },
   {
    "duration": 313,
    "start_time": "2021-12-16T19:53:39.061Z"
   },
   {
    "duration": 333,
    "start_time": "2021-12-16T19:53:47.253Z"
   },
   {
    "duration": 29,
    "start_time": "2021-12-16T19:54:33.268Z"
   },
   {
    "duration": 27,
    "start_time": "2021-12-16T19:54:49.789Z"
   },
   {
    "duration": 31,
    "start_time": "2021-12-16T19:55:11.004Z"
   },
   {
    "duration": 30,
    "start_time": "2021-12-16T19:57:45.450Z"
   },
   {
    "duration": 31,
    "start_time": "2021-12-16T20:00:54.344Z"
   },
   {
    "duration": 33,
    "start_time": "2021-12-16T20:03:23.998Z"
   },
   {
    "duration": 29,
    "start_time": "2021-12-16T20:03:50.366Z"
   },
   {
    "duration": 30,
    "start_time": "2021-12-16T20:04:18.398Z"
   },
   {
    "duration": 27,
    "start_time": "2021-12-16T20:12:35.233Z"
   },
   {
    "duration": 33,
    "start_time": "2021-12-16T20:15:41.431Z"
   },
   {
    "duration": 6,
    "start_time": "2021-12-16T20:19:09.284Z"
   },
   {
    "duration": 5,
    "start_time": "2021-12-16T20:19:39.588Z"
   },
   {
    "duration": 6,
    "start_time": "2021-12-16T20:20:22.214Z"
   },
   {
    "duration": 4,
    "start_time": "2021-12-16T20:20:25.803Z"
   },
   {
    "duration": 6,
    "start_time": "2021-12-16T20:20:27.907Z"
   },
   {
    "duration": 24,
    "start_time": "2021-12-16T20:23:01.427Z"
   },
   {
    "duration": 332,
    "start_time": "2021-12-16T20:29:25.668Z"
   },
   {
    "duration": 302,
    "start_time": "2021-12-16T20:31:04.748Z"
   },
   {
    "duration": 350,
    "start_time": "2021-12-16T20:31:41.660Z"
   },
   {
    "duration": 8638,
    "start_time": "2021-12-16T20:32:28.195Z"
   },
   {
    "duration": 271,
    "start_time": "2021-12-16T20:32:57.051Z"
   },
   {
    "duration": 288,
    "start_time": "2021-12-16T20:39:35.238Z"
   },
   {
    "duration": 308,
    "start_time": "2021-12-16T20:41:19.734Z"
   },
   {
    "duration": 310,
    "start_time": "2021-12-16T20:41:46.926Z"
   },
   {
    "duration": 158,
    "start_time": "2021-12-16T20:44:07.723Z"
   },
   {
    "duration": 59,
    "start_time": "2021-12-16T20:45:08.443Z"
   },
   {
    "duration": 34,
    "start_time": "2021-12-16T20:45:48.475Z"
   },
   {
    "duration": 776,
    "start_time": "2021-12-17T10:32:55.638Z"
   },
   {
    "duration": 87,
    "start_time": "2021-12-17T10:32:56.417Z"
   },
   {
    "duration": 64,
    "start_time": "2021-12-17T10:32:56.507Z"
   },
   {
    "duration": 15,
    "start_time": "2021-12-17T10:32:56.573Z"
   },
   {
    "duration": 11,
    "start_time": "2021-12-17T10:32:56.891Z"
   },
   {
    "duration": 5,
    "start_time": "2021-12-17T10:32:57.056Z"
   },
   {
    "duration": 14,
    "start_time": "2021-12-17T10:32:57.392Z"
   },
   {
    "duration": 12,
    "start_time": "2021-12-17T10:32:57.727Z"
   },
   {
    "duration": 4,
    "start_time": "2021-12-17T10:32:57.905Z"
   },
   {
    "duration": 13,
    "start_time": "2021-12-17T10:32:58.063Z"
   },
   {
    "duration": 6,
    "start_time": "2021-12-17T10:32:58.228Z"
   },
   {
    "duration": 11,
    "start_time": "2021-12-17T10:32:58.397Z"
   },
   {
    "duration": 5,
    "start_time": "2021-12-17T10:32:58.568Z"
   },
   {
    "duration": 11,
    "start_time": "2021-12-17T10:32:58.900Z"
   },
   {
    "duration": 7,
    "start_time": "2021-12-17T10:32:59.075Z"
   },
   {
    "duration": 5,
    "start_time": "2021-12-17T10:32:59.236Z"
   },
   {
    "duration": 6,
    "start_time": "2021-12-17T10:32:59.403Z"
   },
   {
    "duration": 6,
    "start_time": "2021-12-17T10:32:59.740Z"
   },
   {
    "duration": 7,
    "start_time": "2021-12-17T10:32:59.833Z"
   },
   {
    "duration": 10,
    "start_time": "2021-12-17T10:32:59.989Z"
   },
   {
    "duration": 5,
    "start_time": "2021-12-17T10:33:00.156Z"
   },
   {
    "duration": 20,
    "start_time": "2021-12-17T10:33:00.492Z"
   },
   {
    "duration": 8,
    "start_time": "2021-12-17T10:33:00.665Z"
   },
   {
    "duration": 6,
    "start_time": "2021-12-17T10:33:00.739Z"
   },
   {
    "duration": 4,
    "start_time": "2021-12-17T10:33:01.074Z"
   },
   {
    "duration": 5,
    "start_time": "2021-12-17T10:33:01.166Z"
   },
   {
    "duration": 10,
    "start_time": "2021-12-17T10:33:01.495Z"
   },
   {
    "duration": 6,
    "start_time": "2021-12-17T10:33:01.664Z"
   },
   {
    "duration": 7,
    "start_time": "2021-12-17T10:33:01.761Z"
   },
   {
    "duration": 4,
    "start_time": "2021-12-17T10:33:02.163Z"
   },
   {
    "duration": 3,
    "start_time": "2021-12-17T10:33:02.330Z"
   },
   {
    "duration": 7,
    "start_time": "2021-12-17T10:33:02.496Z"
   },
   {
    "duration": 11,
    "start_time": "2021-12-17T10:33:02.667Z"
   },
   {
    "duration": 7,
    "start_time": "2021-12-17T10:33:02.918Z"
   },
   {
    "duration": 7,
    "start_time": "2021-12-17T10:33:03.003Z"
   },
   {
    "duration": 11,
    "start_time": "2021-12-17T10:33:03.253Z"
   },
   {
    "duration": 5,
    "start_time": "2021-12-17T10:33:03.671Z"
   },
   {
    "duration": 5,
    "start_time": "2021-12-17T10:33:03.846Z"
   },
   {
    "duration": 821,
    "start_time": "2021-12-17T10:33:03.925Z"
   },
   {
    "duration": 5,
    "start_time": "2021-12-17T10:33:04.748Z"
   },
   {
    "duration": 86,
    "start_time": "2021-12-17T10:33:04.756Z"
   },
   {
    "duration": 11,
    "start_time": "2021-12-17T10:33:04.845Z"
   },
   {
    "duration": 7,
    "start_time": "2021-12-17T10:33:04.860Z"
   },
   {
    "duration": 4,
    "start_time": "2021-12-17T10:33:05.178Z"
   },
   {
    "duration": 4,
    "start_time": "2021-12-17T10:33:05.345Z"
   },
   {
    "duration": 18,
    "start_time": "2021-12-17T10:33:05.512Z"
   },
   {
    "duration": 8,
    "start_time": "2021-12-17T10:33:05.678Z"
   },
   {
    "duration": 6,
    "start_time": "2021-12-17T10:33:06.100Z"
   },
   {
    "duration": 16,
    "start_time": "2021-12-17T10:33:06.351Z"
   },
   {
    "duration": 18,
    "start_time": "2021-12-17T10:33:06.518Z"
   },
   {
    "duration": 4,
    "start_time": "2021-12-17T10:33:06.853Z"
   },
   {
    "duration": 1406,
    "start_time": "2021-12-17T10:33:06.948Z"
   },
   {
    "duration": 7,
    "start_time": "2021-12-17T10:33:08.357Z"
   },
   {
    "duration": 8,
    "start_time": "2021-12-17T10:33:08.368Z"
   },
   {
    "duration": 6,
    "start_time": "2021-12-17T10:33:08.381Z"
   },
   {
    "duration": 7,
    "start_time": "2021-12-17T10:33:08.418Z"
   },
   {
    "duration": 9,
    "start_time": "2021-12-17T10:33:08.429Z"
   },
   {
    "duration": 36,
    "start_time": "2021-12-17T10:33:08.440Z"
   },
   {
    "duration": 456,
    "start_time": "2021-12-17T10:33:08.624Z"
   },
   {
    "duration": 606,
    "start_time": "2021-12-17T10:33:09.083Z"
   },
   {
    "duration": 333,
    "start_time": "2021-12-17T10:33:09.692Z"
   },
   {
    "duration": 655,
    "start_time": "2021-12-17T10:33:10.029Z"
   },
   {
    "duration": 359,
    "start_time": "2021-12-17T10:33:10.686Z"
   },
   {
    "duration": 626,
    "start_time": "2021-12-17T10:33:11.047Z"
   },
   {
    "duration": 333,
    "start_time": "2021-12-17T10:33:11.676Z"
   },
   {
    "duration": 431,
    "start_time": "2021-12-17T10:33:12.020Z"
   },
   {
    "duration": 11,
    "start_time": "2021-12-17T10:33:12.453Z"
   },
   {
    "duration": 248,
    "start_time": "2021-12-17T10:33:12.466Z"
   },
   {
    "duration": 595,
    "start_time": "2021-12-17T10:33:12.717Z"
   },
   {
    "duration": 9,
    "start_time": "2021-12-17T10:33:13.318Z"
   },
   {
    "duration": 21,
    "start_time": "2021-12-17T10:33:13.330Z"
   },
   {
    "duration": 606,
    "start_time": "2021-12-17T10:33:13.356Z"
   },
   {
    "duration": 578,
    "start_time": "2021-12-17T10:33:13.966Z"
   },
   {
    "duration": 10,
    "start_time": "2021-12-17T10:33:14.547Z"
   },
   {
    "duration": 639,
    "start_time": "2021-12-17T10:33:14.559Z"
   },
   {
    "duration": 598,
    "start_time": "2021-12-17T10:33:15.201Z"
   },
   {
    "duration": 19,
    "start_time": "2021-12-17T10:33:15.802Z"
   },
   {
    "duration": 365,
    "start_time": "2021-12-17T10:33:15.824Z"
   },
   {
    "duration": 696,
    "start_time": "2021-12-17T10:33:16.191Z"
   },
   {
    "duration": 10,
    "start_time": "2021-12-17T10:33:16.891Z"
   },
   {
    "duration": 608,
    "start_time": "2021-12-17T10:33:16.919Z"
   },
   {
    "duration": 562,
    "start_time": "2021-12-17T10:33:17.531Z"
   },
   {
    "duration": 10,
    "start_time": "2021-12-17T10:33:18.095Z"
   },
   {
    "duration": 604,
    "start_time": "2021-12-17T10:33:18.107Z"
   },
   {
    "duration": 816,
    "start_time": "2021-12-17T10:33:18.717Z"
   },
   {
    "duration": 20,
    "start_time": "2021-12-17T10:33:19.536Z"
   },
   {
    "duration": 749,
    "start_time": "2021-12-17T10:33:19.558Z"
   },
   {
    "duration": 29,
    "start_time": "2021-12-17T10:33:20.310Z"
   },
   {
    "duration": 594,
    "start_time": "2021-12-17T10:33:20.341Z"
   },
   {
    "duration": 24,
    "start_time": "2021-12-17T10:33:20.938Z"
   },
   {
    "duration": 865,
    "start_time": "2021-12-17T10:33:20.964Z"
   },
   {
    "duration": 19,
    "start_time": "2021-12-17T10:33:21.832Z"
   },
   {
    "duration": 854,
    "start_time": "2021-12-17T10:33:21.855Z"
   },
   {
    "duration": 25,
    "start_time": "2021-12-17T10:33:22.711Z"
   },
   {
    "duration": 47,
    "start_time": "2021-12-17T10:33:22.738Z"
   },
   {
    "duration": 46,
    "start_time": "2021-12-17T10:33:22.788Z"
   },
   {
    "duration": 26,
    "start_time": "2021-12-17T10:33:22.837Z"
   },
   {
    "duration": 13,
    "start_time": "2021-12-17T10:33:22.865Z"
   },
   {
    "duration": 391,
    "start_time": "2021-12-17T10:33:22.880Z"
   },
   {
    "duration": 11,
    "start_time": "2021-12-17T10:34:36.093Z"
   },
   {
    "duration": 244,
    "start_time": "2021-12-17T10:35:03.691Z"
   },
   {
    "duration": 252,
    "start_time": "2021-12-17T10:36:17.938Z"
   },
   {
    "duration": 261,
    "start_time": "2021-12-17T10:37:00.194Z"
   },
   {
    "duration": 254,
    "start_time": "2021-12-17T10:37:24.801Z"
   },
   {
    "duration": 251,
    "start_time": "2021-12-17T10:37:44.588Z"
   },
   {
    "duration": 249,
    "start_time": "2021-12-17T10:39:01.152Z"
   },
   {
    "duration": 7876,
    "start_time": "2021-12-17T10:48:02.897Z"
   },
   {
    "duration": 8253,
    "start_time": "2021-12-17T10:48:26.490Z"
   },
   {
    "duration": 363,
    "start_time": "2021-12-17T10:48:40.723Z"
   },
   {
    "duration": 89,
    "start_time": "2021-12-17T10:54:40.966Z"
   },
   {
    "duration": 100,
    "start_time": "2021-12-17T10:54:45.524Z"
   },
   {
    "duration": 38,
    "start_time": "2021-12-17T10:54:48.005Z"
   },
   {
    "duration": 65,
    "start_time": "2021-12-17T11:00:03.418Z"
   },
   {
    "duration": 63,
    "start_time": "2021-12-17T11:00:15.162Z"
   },
   {
    "duration": 64,
    "start_time": "2021-12-17T11:00:24.977Z"
   },
   {
    "duration": 68,
    "start_time": "2021-12-17T11:00:31.370Z"
   },
   {
    "duration": 64,
    "start_time": "2021-12-17T11:00:38.377Z"
   },
   {
    "duration": 350,
    "start_time": "2021-12-17T11:02:23.610Z"
   },
   {
    "duration": 341,
    "start_time": "2021-12-17T11:02:34.169Z"
   },
   {
    "duration": 43,
    "start_time": "2021-12-17T11:02:39.344Z"
   },
   {
    "duration": 319,
    "start_time": "2021-12-17T11:02:57.848Z"
   },
   {
    "duration": 71,
    "start_time": "2021-12-17T11:03:10.192Z"
   },
   {
    "duration": 7322,
    "start_time": "2021-12-17T11:05:27.774Z"
   },
   {
    "duration": 32,
    "start_time": "2021-12-17T11:06:08.318Z"
   },
   {
    "duration": 19,
    "start_time": "2021-12-17T11:07:44.493Z"
   },
   {
    "duration": 19,
    "start_time": "2021-12-17T11:08:08.405Z"
   },
   {
    "duration": 22,
    "start_time": "2021-12-17T11:08:50.846Z"
   },
   {
    "duration": 350,
    "start_time": "2021-12-17T11:09:37.667Z"
   },
   {
    "duration": 347,
    "start_time": "2021-12-17T11:09:50.724Z"
   },
   {
    "duration": 427,
    "start_time": "2021-12-17T11:09:57.123Z"
   },
   {
    "duration": 407,
    "start_time": "2021-12-17T11:10:14.958Z"
   },
   {
    "duration": 346,
    "start_time": "2021-12-17T11:10:30.022Z"
   },
   {
    "duration": 719,
    "start_time": "2021-12-17T11:10:44.295Z"
   },
   {
    "duration": 33,
    "start_time": "2021-12-17T11:10:55.938Z"
   },
   {
    "duration": 316,
    "start_time": "2021-12-17T11:12:51.131Z"
   },
   {
    "duration": 28,
    "start_time": "2021-12-17T11:13:12.569Z"
   },
   {
    "duration": 31,
    "start_time": "2021-12-17T11:21:21.301Z"
   },
   {
    "duration": 26,
    "start_time": "2021-12-17T11:21:59.276Z"
   },
   {
    "duration": 31,
    "start_time": "2021-12-17T11:22:06.563Z"
   },
   {
    "duration": 324,
    "start_time": "2021-12-17T11:24:35.289Z"
   },
   {
    "duration": 841,
    "start_time": "2021-12-17T11:24:43.097Z"
   },
   {
    "duration": 1905,
    "start_time": "2021-12-17T11:25:03.050Z"
   },
   {
    "duration": 1081,
    "start_time": "2021-12-17T11:25:10.417Z"
   },
   {
    "duration": 838,
    "start_time": "2021-12-17T11:25:29.417Z"
   },
   {
    "duration": 1140,
    "start_time": "2021-12-17T11:25:49.666Z"
   },
   {
    "duration": 1431,
    "start_time": "2021-12-17T11:26:10.035Z"
   },
   {
    "duration": 1373,
    "start_time": "2021-12-17T11:26:25.848Z"
   },
   {
    "duration": 1389,
    "start_time": "2021-12-17T11:26:35.072Z"
   },
   {
    "duration": 2941,
    "start_time": "2021-12-17T11:26:40.911Z"
   },
   {
    "duration": 2795,
    "start_time": "2021-12-17T11:28:14.728Z"
   },
   {
    "duration": 1193,
    "start_time": "2021-12-17T11:28:26.591Z"
   },
   {
    "duration": -112,
    "start_time": "2021-12-17T11:31:02.266Z"
   },
   {
    "duration": 35,
    "start_time": "2021-12-17T11:31:21.822Z"
   },
   {
    "duration": 39,
    "start_time": "2021-12-17T11:31:36.845Z"
   },
   {
    "duration": 36,
    "start_time": "2021-12-17T11:32:09.701Z"
   },
   {
    "duration": 40,
    "start_time": "2021-12-17T11:32:52.837Z"
   },
   {
    "duration": 36,
    "start_time": "2021-12-17T11:33:05.804Z"
   },
   {
    "duration": 42,
    "start_time": "2021-12-17T11:33:32.828Z"
   },
   {
    "duration": 354,
    "start_time": "2021-12-17T11:34:18.660Z"
   },
   {
    "duration": 287,
    "start_time": "2021-12-17T11:34:50.034Z"
   },
   {
    "duration": 320,
    "start_time": "2021-12-17T11:34:55.106Z"
   },
   {
    "duration": 34,
    "start_time": "2021-12-17T11:35:26.539Z"
   },
   {
    "duration": 314,
    "start_time": "2021-12-17T11:36:35.546Z"
   },
   {
    "duration": 50,
    "start_time": "2021-12-17T11:36:52.426Z"
   },
   {
    "duration": 39,
    "start_time": "2021-12-17T11:37:35.650Z"
   },
   {
    "duration": 40,
    "start_time": "2021-12-17T11:37:45.033Z"
   },
   {
    "duration": 51,
    "start_time": "2021-12-17T11:37:57.913Z"
   },
   {
    "duration": 3120,
    "start_time": "2021-12-17T11:38:09.210Z"
   },
   {
    "duration": 46,
    "start_time": "2021-12-17T11:40:13.730Z"
   },
   {
    "duration": 37,
    "start_time": "2021-12-17T11:40:17.784Z"
   },
   {
    "duration": 313,
    "start_time": "2021-12-17T11:43:31.078Z"
   },
   {
    "duration": 39,
    "start_time": "2021-12-17T11:44:08.357Z"
   },
   {
    "duration": 45,
    "start_time": "2021-12-17T11:44:52.876Z"
   },
   {
    "duration": 62,
    "start_time": "2021-12-17T11:47:30.772Z"
   },
   {
    "duration": 22395,
    "start_time": "2021-12-17T11:48:30.051Z"
   },
   {
    "duration": 26,
    "start_time": "2021-12-17T11:49:35.890Z"
   },
   {
    "duration": 94,
    "start_time": "2021-12-17T11:50:34.889Z"
   },
   {
    "duration": 494,
    "start_time": "2021-12-17T11:51:00.272Z"
   },
   {
    "duration": 23,
    "start_time": "2021-12-17T11:51:13.480Z"
   },
   {
    "duration": 310,
    "start_time": "2021-12-17T11:51:52.799Z"
   },
   {
    "duration": 289,
    "start_time": "2021-12-17T11:54:13.582Z"
   },
   {
    "duration": -73,
    "start_time": "2021-12-17T11:55:48.362Z"
   },
   {
    "duration": 2887,
    "start_time": "2021-12-17T11:56:06.604Z"
   },
   {
    "duration": 389,
    "start_time": "2021-12-17T11:56:32.660Z"
   },
   {
    "duration": 288,
    "start_time": "2021-12-17T11:57:21.876Z"
   },
   {
    "duration": 43,
    "start_time": "2021-12-17T11:57:50.236Z"
   },
   {
    "duration": 42,
    "start_time": "2021-12-17T11:59:06.067Z"
   },
   {
    "duration": 2938,
    "start_time": "2021-12-17T11:59:19.595Z"
   },
   {
    "duration": 3236,
    "start_time": "2021-12-17T12:00:21.962Z"
   },
   {
    "duration": 349,
    "start_time": "2021-12-17T12:01:07.265Z"
   },
   {
    "duration": 2960,
    "start_time": "2021-12-17T12:01:21.722Z"
   },
   {
    "duration": 30,
    "start_time": "2021-12-17T12:04:34.811Z"
   },
   {
    "duration": 2847,
    "start_time": "2021-12-17T12:04:51.543Z"
   },
   {
    "duration": 23369,
    "start_time": "2021-12-17T12:05:23.902Z"
   },
   {
    "duration": 51,
    "start_time": "2021-12-17T12:17:33.538Z"
   },
   {
    "duration": 49,
    "start_time": "2021-12-17T12:18:20.110Z"
   },
   {
    "duration": 10,
    "start_time": "2021-12-17T12:18:52.605Z"
   },
   {
    "duration": 514,
    "start_time": "2021-12-17T12:23:53.530Z"
   },
   {
    "duration": 384,
    "start_time": "2021-12-17T12:24:03.882Z"
   },
   {
    "duration": 538,
    "start_time": "2021-12-17T12:24:59.161Z"
   },
   {
    "duration": 410,
    "start_time": "2021-12-17T12:25:13.489Z"
   },
   {
    "duration": 56503,
    "start_time": "2021-12-17T12:27:30.207Z"
   },
   {
    "duration": 47,
    "start_time": "2021-12-17T12:28:26.712Z"
   },
   {
    "duration": 93,
    "start_time": "2021-12-17T12:31:05.157Z"
   },
   {
    "duration": 37,
    "start_time": "2021-12-17T12:31:11.996Z"
   },
   {
    "duration": 323,
    "start_time": "2021-12-17T12:32:02.006Z"
   },
   {
    "duration": 304,
    "start_time": "2021-12-17T12:32:45.989Z"
   },
   {
    "duration": 321,
    "start_time": "2021-12-17T12:33:52.283Z"
   },
   {
    "duration": 31,
    "start_time": "2021-12-17T12:34:13.980Z"
   },
   {
    "duration": 302,
    "start_time": "2021-12-17T12:35:00.771Z"
   },
   {
    "duration": 306,
    "start_time": "2021-12-17T12:35:18.635Z"
   },
   {
    "duration": 38,
    "start_time": "2021-12-17T12:35:25.489Z"
   },
   {
    "duration": 470,
    "start_time": "2021-12-17T12:36:40.474Z"
   },
   {
    "duration": 500,
    "start_time": "2021-12-17T12:36:52.657Z"
   },
   {
    "duration": 467,
    "start_time": "2021-12-17T12:38:28.000Z"
   },
   {
    "duration": 484,
    "start_time": "2021-12-17T12:38:51.816Z"
   },
   {
    "duration": 555,
    "start_time": "2021-12-17T12:39:18.072Z"
   },
   {
    "duration": 545,
    "start_time": "2021-12-17T12:40:28.054Z"
   },
   {
    "duration": 510,
    "start_time": "2021-12-17T12:40:28.602Z"
   },
   {
    "duration": 627,
    "start_time": "2021-12-17T12:40:31.270Z"
   },
   {
    "duration": 578,
    "start_time": "2021-12-17T12:40:35.566Z"
   },
   {
    "duration": 480,
    "start_time": "2021-12-17T12:42:04.327Z"
   },
   {
    "duration": 559,
    "start_time": "2021-12-17T12:42:07.765Z"
   },
   {
    "duration": 685,
    "start_time": "2021-12-17T14:20:22.260Z"
   },
   {
    "duration": 502,
    "start_time": "2021-12-17T14:20:28.011Z"
   },
   {
    "duration": 507,
    "start_time": "2021-12-17T14:21:37.467Z"
   },
   {
    "duration": 591,
    "start_time": "2021-12-17T14:22:01.674Z"
   },
   {
    "duration": 109,
    "start_time": "2021-12-17T14:22:46.482Z"
   },
   {
    "duration": 532,
    "start_time": "2021-12-17T14:22:57.370Z"
   },
   {
    "duration": 570,
    "start_time": "2021-12-17T14:24:01.783Z"
   },
   {
    "duration": 470,
    "start_time": "2021-12-17T14:24:25.722Z"
   },
   {
    "duration": 507,
    "start_time": "2021-12-17T14:24:33.377Z"
   },
   {
    "duration": 19,
    "start_time": "2021-12-17T14:26:56.175Z"
   },
   {
    "duration": 508,
    "start_time": "2021-12-17T14:27:32.895Z"
   },
   {
    "duration": 313,
    "start_time": "2021-12-17T14:28:12.486Z"
   },
   {
    "duration": 903,
    "start_time": "2021-12-17T14:28:26.544Z"
   },
   {
    "duration": 3882,
    "start_time": "2021-12-17T14:28:38.287Z"
   },
   {
    "duration": 2967,
    "start_time": "2021-12-17T14:29:26.606Z"
   },
   {
    "duration": 672,
    "start_time": "2021-12-17T14:29:39.413Z"
   },
   {
    "duration": 5809,
    "start_time": "2021-12-17T14:29:58.127Z"
   },
   {
    "duration": 4631,
    "start_time": "2021-12-17T14:31:36.109Z"
   },
   {
    "duration": 25,
    "start_time": "2021-12-17T14:32:30.340Z"
   },
   {
    "duration": 29,
    "start_time": "2021-12-17T14:32:44.628Z"
   },
   {
    "duration": 32,
    "start_time": "2021-12-17T14:32:58.803Z"
   },
   {
    "duration": 98,
    "start_time": "2021-12-17T14:40:31.285Z"
   },
   {
    "duration": 143,
    "start_time": "2021-12-17T14:41:11.941Z"
   },
   {
    "duration": 42,
    "start_time": "2021-12-17T14:42:13.100Z"
   },
   {
    "duration": 31,
    "start_time": "2021-12-17T14:42:29.277Z"
   },
   {
    "duration": 33,
    "start_time": "2021-12-17T14:42:40.270Z"
   },
   {
    "duration": 32,
    "start_time": "2021-12-17T14:48:12.137Z"
   },
   {
    "duration": 36,
    "start_time": "2021-12-17T14:49:22.057Z"
   },
   {
    "duration": 54,
    "start_time": "2021-12-17T14:49:57.944Z"
   },
   {
    "duration": 64,
    "start_time": "2021-12-17T14:50:52.343Z"
   },
   {
    "duration": 236,
    "start_time": "2021-12-17T14:51:14.246Z"
   },
   {
    "duration": 55,
    "start_time": "2021-12-17T14:51:55.254Z"
   },
   {
    "duration": 226,
    "start_time": "2021-12-17T14:52:32.486Z"
   },
   {
    "duration": 5,
    "start_time": "2021-12-17T15:24:49.319Z"
   },
   {
    "duration": 92,
    "start_time": "2021-12-17T15:24:50.893Z"
   },
   {
    "duration": 48,
    "start_time": "2021-12-17T15:24:52.672Z"
   },
   {
    "duration": 19,
    "start_time": "2021-12-17T15:24:55.431Z"
   },
   {
    "duration": 11,
    "start_time": "2021-12-17T15:25:01.599Z"
   },
   {
    "duration": 4,
    "start_time": "2021-12-17T15:25:02.903Z"
   },
   {
    "duration": 12,
    "start_time": "2021-12-17T15:25:06.359Z"
   },
   {
    "duration": 13,
    "start_time": "2021-12-17T15:25:12.559Z"
   },
   {
    "duration": 4,
    "start_time": "2021-12-17T15:25:13.950Z"
   },
   {
    "duration": 17,
    "start_time": "2021-12-17T15:25:15.111Z"
   },
   {
    "duration": 5,
    "start_time": "2021-12-17T15:25:16.343Z"
   },
   {
    "duration": 11,
    "start_time": "2021-12-17T15:25:17.686Z"
   },
   {
    "duration": 6,
    "start_time": "2021-12-17T15:25:19.070Z"
   },
   {
    "duration": 13,
    "start_time": "2021-12-17T15:25:21.294Z"
   },
   {
    "duration": 8,
    "start_time": "2021-12-17T15:25:29.342Z"
   },
   {
    "duration": 6,
    "start_time": "2021-12-17T15:25:30.774Z"
   },
   {
    "duration": 7,
    "start_time": "2021-12-17T15:25:31.814Z"
   },
   {
    "duration": 6,
    "start_time": "2021-12-17T15:25:34.231Z"
   },
   {
    "duration": 5,
    "start_time": "2021-12-17T15:25:34.663Z"
   },
   {
    "duration": 7,
    "start_time": "2021-12-17T15:25:35.727Z"
   },
   {
    "duration": 6,
    "start_time": "2021-12-17T15:25:37.798Z"
   },
   {
    "duration": 19,
    "start_time": "2021-12-17T15:25:40.270Z"
   },
   {
    "duration": 14,
    "start_time": "2021-12-17T15:25:41.614Z"
   },
   {
    "duration": 5,
    "start_time": "2021-12-17T15:25:42.191Z"
   },
   {
    "duration": 8,
    "start_time": "2021-12-17T15:25:44.222Z"
   },
   {
    "duration": 5,
    "start_time": "2021-12-17T15:25:44.590Z"
   },
   {
    "duration": 10,
    "start_time": "2021-12-17T15:25:47.974Z"
   },
   {
    "duration": 6,
    "start_time": "2021-12-17T15:25:49.998Z"
   },
   {
    "duration": 7,
    "start_time": "2021-12-17T15:25:50.405Z"
   },
   {
    "duration": 4,
    "start_time": "2021-12-17T15:25:52.982Z"
   },
   {
    "duration": 3,
    "start_time": "2021-12-17T15:25:54.310Z"
   },
   {
    "duration": 9,
    "start_time": "2021-12-17T15:25:55.405Z"
   },
   {
    "duration": 11,
    "start_time": "2021-12-17T15:25:56.390Z"
   },
   {
    "duration": 5,
    "start_time": "2021-12-17T15:25:57.838Z"
   },
   {
    "duration": 5,
    "start_time": "2021-12-17T15:25:59.006Z"
   },
   {
    "duration": 19,
    "start_time": "2021-12-17T15:26:02.313Z"
   },
   {
    "duration": 7,
    "start_time": "2021-12-17T15:26:05.422Z"
   },
   {
    "duration": 5,
    "start_time": "2021-12-17T15:26:07.062Z"
   },
   {
    "duration": 710,
    "start_time": "2021-12-17T15:26:07.990Z"
   },
   {
    "duration": 6,
    "start_time": "2021-12-17T15:26:08.773Z"
   },
   {
    "duration": 66,
    "start_time": "2021-12-17T15:26:13.054Z"
   },
   {
    "duration": 14,
    "start_time": "2021-12-17T15:26:17.022Z"
   },
   {
    "duration": 6,
    "start_time": "2021-12-17T15:26:17.670Z"
   },
   {
    "duration": 5,
    "start_time": "2021-12-17T15:26:19.718Z"
   },
   {
    "duration": 4,
    "start_time": "2021-12-17T15:26:21.102Z"
   },
   {
    "duration": 20,
    "start_time": "2021-12-17T15:26:22.198Z"
   },
   {
    "duration": 9,
    "start_time": "2021-12-17T15:26:23.294Z"
   },
   {
    "duration": 6,
    "start_time": "2021-12-17T15:26:26.758Z"
   },
   {
    "duration": 21,
    "start_time": "2021-12-17T15:26:29.014Z"
   },
   {
    "duration": 16,
    "start_time": "2021-12-17T15:26:30.997Z"
   },
   {
    "duration": 7,
    "start_time": "2021-12-17T15:26:33.622Z"
   },
   {
    "duration": 827,
    "start_time": "2021-12-17T15:26:34.261Z"
   },
   {
    "duration": 6,
    "start_time": "2021-12-17T15:26:35.333Z"
   },
   {
    "duration": 6,
    "start_time": "2021-12-17T15:26:37.965Z"
   },
   {
    "duration": 6,
    "start_time": "2021-12-17T15:26:39.173Z"
   },
   {
    "duration": 9,
    "start_time": "2021-12-17T15:26:41.213Z"
   },
   {
    "duration": 6,
    "start_time": "2021-12-17T15:26:42.238Z"
   },
   {
    "duration": 35,
    "start_time": "2021-12-17T15:26:45.269Z"
   },
   {
    "duration": 285,
    "start_time": "2021-12-17T15:26:47.973Z"
   },
   {
    "duration": 568,
    "start_time": "2021-12-17T15:26:59.181Z"
   },
   {
    "duration": 296,
    "start_time": "2021-12-17T15:27:01.869Z"
   },
   {
    "duration": 576,
    "start_time": "2021-12-17T15:27:03.229Z"
   },
   {
    "duration": 314,
    "start_time": "2021-12-17T15:27:05.909Z"
   },
   {
    "duration": 652,
    "start_time": "2021-12-17T15:27:07.013Z"
   },
   {
    "duration": 302,
    "start_time": "2021-12-17T15:27:11.429Z"
   },
   {
    "duration": 358,
    "start_time": "2021-12-17T15:27:14.445Z"
   },
   {
    "duration": 9,
    "start_time": "2021-12-17T15:27:15.829Z"
   },
   {
    "duration": 124,
    "start_time": "2021-12-17T15:27:18.181Z"
   },
   {
    "duration": 599,
    "start_time": "2021-12-17T15:27:20.918Z"
   },
   {
    "duration": 8,
    "start_time": "2021-12-17T15:27:22.853Z"
   },
   {
    "duration": 7,
    "start_time": "2021-12-17T15:27:23.877Z"
   },
   {
    "duration": 555,
    "start_time": "2021-12-17T15:27:24.877Z"
   },
   {
    "duration": 508,
    "start_time": "2021-12-17T15:27:27.149Z"
   },
   {
    "duration": 10,
    "start_time": "2021-12-17T15:27:28.781Z"
   },
   {
    "duration": 552,
    "start_time": "2021-12-17T15:27:30.069Z"
   },
   {
    "duration": 545,
    "start_time": "2021-12-17T15:27:32.749Z"
   },
   {
    "duration": 8,
    "start_time": "2021-12-17T15:27:34.365Z"
   },
   {
    "duration": 341,
    "start_time": "2021-12-17T15:27:35.429Z"
   },
   {
    "duration": 528,
    "start_time": "2021-12-17T15:27:37.605Z"
   },
   {
    "duration": 14,
    "start_time": "2021-12-17T15:27:38.797Z"
   },
   {
    "duration": 600,
    "start_time": "2021-12-17T15:27:40.093Z"
   },
   {
    "duration": 554,
    "start_time": "2021-12-17T15:27:42.116Z"
   },
   {
    "duration": 11,
    "start_time": "2021-12-17T15:27:43.436Z"
   },
   {
    "duration": 548,
    "start_time": "2021-12-17T15:27:44.421Z"
   },
   {
    "duration": 782,
    "start_time": "2021-12-17T15:27:48.413Z"
   },
   {
    "duration": 20,
    "start_time": "2021-12-17T15:27:50.181Z"
   },
   {
    "duration": 715,
    "start_time": "2021-12-17T15:27:52.069Z"
   },
   {
    "duration": 18,
    "start_time": "2021-12-17T15:27:53.733Z"
   },
   {
    "duration": 241,
    "start_time": "2021-12-17T15:27:56.276Z"
   },
   {
    "duration": 506,
    "start_time": "2021-12-17T15:27:57.116Z"
   },
   {
    "duration": 23,
    "start_time": "2021-12-17T15:27:58.285Z"
   },
   {
    "duration": 881,
    "start_time": "2021-12-17T15:28:00.804Z"
   },
   {
    "duration": 17,
    "start_time": "2021-12-17T15:28:03.395Z"
   },
   {
    "duration": 751,
    "start_time": "2021-12-17T15:28:04.965Z"
   },
   {
    "duration": 17,
    "start_time": "2021-12-17T15:28:06.572Z"
   },
   {
    "duration": 36,
    "start_time": "2021-12-17T15:28:09.020Z"
   },
   {
    "duration": 27,
    "start_time": "2021-12-17T15:28:11.468Z"
   },
   {
    "duration": 27,
    "start_time": "2021-12-17T15:28:12.165Z"
   },
   {
    "duration": 5,
    "start_time": "2021-12-17T15:28:14.028Z"
   },
   {
    "duration": 325,
    "start_time": "2021-12-17T15:28:15.236Z"
   },
   {
    "duration": 214,
    "start_time": "2021-12-17T15:28:17.885Z"
   },
   {
    "duration": 848,
    "start_time": "2021-12-18T12:51:19.778Z"
   },
   {
    "duration": 91,
    "start_time": "2021-12-18T12:51:20.628Z"
   },
   {
    "duration": 72,
    "start_time": "2021-12-18T12:51:20.723Z"
   },
   {
    "duration": 19,
    "start_time": "2021-12-18T12:51:20.797Z"
   },
   {
    "duration": 26,
    "start_time": "2021-12-18T12:51:20.819Z"
   },
   {
    "duration": 30,
    "start_time": "2021-12-18T12:51:20.848Z"
   },
   {
    "duration": 23,
    "start_time": "2021-12-18T12:51:20.881Z"
   },
   {
    "duration": 13,
    "start_time": "2021-12-18T12:51:20.908Z"
   },
   {
    "duration": 5,
    "start_time": "2021-12-18T12:51:20.924Z"
   },
   {
    "duration": 42,
    "start_time": "2021-12-18T12:51:20.931Z"
   },
   {
    "duration": 6,
    "start_time": "2021-12-18T12:51:20.976Z"
   },
   {
    "duration": 13,
    "start_time": "2021-12-18T12:51:20.984Z"
   },
   {
    "duration": 6,
    "start_time": "2021-12-18T12:51:21.000Z"
   },
   {
    "duration": 14,
    "start_time": "2021-12-18T12:51:21.008Z"
   },
   {
    "duration": 45,
    "start_time": "2021-12-18T12:51:21.025Z"
   },
   {
    "duration": 12,
    "start_time": "2021-12-18T12:51:21.073Z"
   },
   {
    "duration": 6,
    "start_time": "2021-12-18T12:51:21.088Z"
   },
   {
    "duration": 16,
    "start_time": "2021-12-18T12:51:21.096Z"
   },
   {
    "duration": 13,
    "start_time": "2021-12-18T12:51:21.115Z"
   },
   {
    "duration": 7,
    "start_time": "2021-12-18T12:51:21.168Z"
   },
   {
    "duration": 15,
    "start_time": "2021-12-18T12:51:21.177Z"
   },
   {
    "duration": 21,
    "start_time": "2021-12-18T12:51:21.194Z"
   },
   {
    "duration": 8,
    "start_time": "2021-12-18T12:51:21.221Z"
   },
   {
    "duration": 36,
    "start_time": "2021-12-18T12:51:21.233Z"
   },
   {
    "duration": 5,
    "start_time": "2021-12-18T12:51:21.272Z"
   },
   {
    "duration": 16,
    "start_time": "2021-12-18T12:51:21.279Z"
   },
   {
    "duration": 21,
    "start_time": "2021-12-18T12:51:21.297Z"
   },
   {
    "duration": 16,
    "start_time": "2021-12-18T12:51:21.320Z"
   },
   {
    "duration": 7,
    "start_time": "2021-12-18T12:51:21.339Z"
   },
   {
    "duration": 21,
    "start_time": "2021-12-18T12:51:21.349Z"
   },
   {
    "duration": 10,
    "start_time": "2021-12-18T12:51:21.372Z"
   },
   {
    "duration": 15,
    "start_time": "2021-12-18T12:51:21.385Z"
   },
   {
    "duration": 10,
    "start_time": "2021-12-18T12:51:21.403Z"
   },
   {
    "duration": 6,
    "start_time": "2021-12-18T12:51:21.416Z"
   },
   {
    "duration": 12,
    "start_time": "2021-12-18T12:51:21.424Z"
   },
   {
    "duration": 12,
    "start_time": "2021-12-18T12:51:21.467Z"
   },
   {
    "duration": 5,
    "start_time": "2021-12-18T12:51:21.481Z"
   },
   {
    "duration": 9,
    "start_time": "2021-12-18T12:51:21.488Z"
   },
   {
    "duration": 773,
    "start_time": "2021-12-18T12:51:21.499Z"
   },
   {
    "duration": 6,
    "start_time": "2021-12-18T12:51:22.275Z"
   },
   {
    "duration": 88,
    "start_time": "2021-12-18T12:51:22.283Z"
   },
   {
    "duration": 12,
    "start_time": "2021-12-18T12:51:22.373Z"
   },
   {
    "duration": 7,
    "start_time": "2021-12-18T12:51:22.387Z"
   },
   {
    "duration": 6,
    "start_time": "2021-12-18T12:51:22.397Z"
   },
   {
    "duration": 15,
    "start_time": "2021-12-18T12:51:22.405Z"
   },
   {
    "duration": 45,
    "start_time": "2021-12-18T12:51:22.422Z"
   },
   {
    "duration": 8,
    "start_time": "2021-12-18T12:51:22.470Z"
   },
   {
    "duration": 6,
    "start_time": "2021-12-18T12:51:22.481Z"
   },
   {
    "duration": 36,
    "start_time": "2021-12-18T12:51:22.489Z"
   },
   {
    "duration": 14,
    "start_time": "2021-12-18T12:51:22.528Z"
   },
   {
    "duration": 26,
    "start_time": "2021-12-18T12:51:22.544Z"
   },
   {
    "duration": 830,
    "start_time": "2021-12-18T12:51:22.573Z"
   },
   {
    "duration": 6,
    "start_time": "2021-12-18T12:51:23.406Z"
   },
   {
    "duration": 5,
    "start_time": "2021-12-18T12:51:23.415Z"
   },
   {
    "duration": 9,
    "start_time": "2021-12-18T12:51:23.422Z"
   },
   {
    "duration": 33,
    "start_time": "2021-12-18T12:51:23.434Z"
   },
   {
    "duration": 8,
    "start_time": "2021-12-18T12:51:23.470Z"
   },
   {
    "duration": 40,
    "start_time": "2021-12-18T12:51:23.480Z"
   },
   {
    "duration": 557,
    "start_time": "2021-12-18T12:51:23.522Z"
   },
   {
    "duration": 578,
    "start_time": "2021-12-18T12:51:24.082Z"
   },
   {
    "duration": 310,
    "start_time": "2021-12-18T12:51:24.667Z"
   },
   {
    "duration": 595,
    "start_time": "2021-12-18T12:51:24.980Z"
   },
   {
    "duration": 347,
    "start_time": "2021-12-18T12:51:25.578Z"
   },
   {
    "duration": 574,
    "start_time": "2021-12-18T12:51:25.927Z"
   },
   {
    "duration": 308,
    "start_time": "2021-12-18T12:51:26.504Z"
   },
   {
    "duration": 375,
    "start_time": "2021-12-18T12:51:26.814Z"
   },
   {
    "duration": 9,
    "start_time": "2021-12-18T12:51:27.192Z"
   },
   {
    "duration": 229,
    "start_time": "2021-12-18T12:51:27.210Z"
   },
   {
    "duration": 606,
    "start_time": "2021-12-18T12:51:27.443Z"
   },
   {
    "duration": 15,
    "start_time": "2021-12-18T12:51:28.052Z"
   },
   {
    "duration": 28,
    "start_time": "2021-12-18T12:51:28.070Z"
   },
   {
    "duration": 597,
    "start_time": "2021-12-18T12:51:28.101Z"
   },
   {
    "duration": 547,
    "start_time": "2021-12-18T12:51:28.701Z"
   },
   {
    "duration": 20,
    "start_time": "2021-12-18T12:51:29.250Z"
   },
   {
    "duration": 602,
    "start_time": "2021-12-18T12:51:29.273Z"
   },
   {
    "duration": 645,
    "start_time": "2021-12-18T12:51:29.878Z"
   },
   {
    "duration": 8,
    "start_time": "2021-12-18T12:51:30.526Z"
   },
   {
    "duration": 362,
    "start_time": "2021-12-18T12:51:30.536Z"
   },
   {
    "duration": 792,
    "start_time": "2021-12-18T12:51:30.901Z"
   },
   {
    "duration": 12,
    "start_time": "2021-12-18T12:51:31.695Z"
   },
   {
    "duration": 611,
    "start_time": "2021-12-18T12:51:31.709Z"
   },
   {
    "duration": 591,
    "start_time": "2021-12-18T12:51:32.323Z"
   },
   {
    "duration": 15,
    "start_time": "2021-12-18T12:51:32.917Z"
   },
   {
    "duration": 589,
    "start_time": "2021-12-18T12:51:32.934Z"
   },
   {
    "duration": 832,
    "start_time": "2021-12-18T12:51:33.526Z"
   },
   {
    "duration": 22,
    "start_time": "2021-12-18T12:51:34.367Z"
   },
   {
    "duration": 760,
    "start_time": "2021-12-18T12:51:34.392Z"
   },
   {
    "duration": 27,
    "start_time": "2021-12-18T12:51:35.155Z"
   },
   {
    "duration": 260,
    "start_time": "2021-12-18T12:51:35.185Z"
   },
   {
    "duration": 620,
    "start_time": "2021-12-18T12:51:35.447Z"
   },
   {
    "duration": 23,
    "start_time": "2021-12-18T12:51:36.070Z"
   },
   {
    "duration": 852,
    "start_time": "2021-12-18T12:51:36.096Z"
   },
   {
    "duration": 25,
    "start_time": "2021-12-18T12:51:36.951Z"
   },
   {
    "duration": 808,
    "start_time": "2021-12-18T12:51:36.979Z"
   },
   {
    "duration": 17,
    "start_time": "2021-12-18T12:51:37.790Z"
   },
   {
    "duration": 59,
    "start_time": "2021-12-18T12:51:37.810Z"
   },
   {
    "duration": 29,
    "start_time": "2021-12-18T12:51:37.871Z"
   },
   {
    "duration": 28,
    "start_time": "2021-12-18T12:51:37.902Z"
   },
   {
    "duration": 36,
    "start_time": "2021-12-18T12:51:37.933Z"
   },
   {
    "duration": 368,
    "start_time": "2021-12-18T12:51:37.971Z"
   },
   {
    "duration": 230,
    "start_time": "2021-12-18T12:51:38.342Z"
   },
   {
    "duration": 12,
    "start_time": "2021-12-18T13:09:50.512Z"
   },
   {
    "duration": 86,
    "start_time": "2021-12-18T13:10:03.361Z"
   },
   {
    "duration": 12,
    "start_time": "2021-12-18T13:10:15.640Z"
   },
   {
    "duration": 49,
    "start_time": "2021-12-18T13:14:35.681Z"
   },
   {
    "duration": 13,
    "start_time": "2021-12-18T13:14:46.721Z"
   },
   {
    "duration": 479,
    "start_time": "2021-12-18T13:30:15.785Z"
   },
   {
    "duration": 376,
    "start_time": "2021-12-18T13:31:58.324Z"
   },
   {
    "duration": 275,
    "start_time": "2021-12-18T13:32:30.647Z"
   },
   {
    "duration": 399,
    "start_time": "2021-12-18T13:32:36.368Z"
   },
   {
    "duration": 266,
    "start_time": "2021-12-18T13:32:46.031Z"
   },
   {
    "duration": 357,
    "start_time": "2021-12-18T13:32:55.330Z"
   },
   {
    "duration": 266,
    "start_time": "2021-12-18T13:33:56.679Z"
   },
   {
    "duration": 816,
    "start_time": "2021-12-18T13:51:06.327Z"
   },
   {
    "duration": 102,
    "start_time": "2021-12-18T13:51:07.166Z"
   },
   {
    "duration": 58,
    "start_time": "2021-12-18T13:51:07.270Z"
   },
   {
    "duration": 50,
    "start_time": "2021-12-18T13:51:07.330Z"
   },
   {
    "duration": 10,
    "start_time": "2021-12-18T13:51:07.382Z"
   },
   {
    "duration": 6,
    "start_time": "2021-12-18T13:51:07.395Z"
   },
   {
    "duration": 64,
    "start_time": "2021-12-18T13:51:07.404Z"
   },
   {
    "duration": 12,
    "start_time": "2021-12-18T13:51:07.472Z"
   },
   {
    "duration": 4,
    "start_time": "2021-12-18T13:51:07.487Z"
   },
   {
    "duration": 16,
    "start_time": "2021-12-18T13:51:07.493Z"
   },
   {
    "duration": 4,
    "start_time": "2021-12-18T13:51:07.512Z"
   },
   {
    "duration": 59,
    "start_time": "2021-12-18T13:51:07.518Z"
   },
   {
    "duration": 6,
    "start_time": "2021-12-18T13:51:07.579Z"
   },
   {
    "duration": 15,
    "start_time": "2021-12-18T13:51:07.587Z"
   },
   {
    "duration": 7,
    "start_time": "2021-12-18T13:51:07.604Z"
   },
   {
    "duration": 54,
    "start_time": "2021-12-18T13:51:07.613Z"
   },
   {
    "duration": 6,
    "start_time": "2021-12-18T13:51:07.669Z"
   },
   {
    "duration": 9,
    "start_time": "2021-12-18T13:51:07.678Z"
   },
   {
    "duration": 7,
    "start_time": "2021-12-18T13:51:07.690Z"
   },
   {
    "duration": 11,
    "start_time": "2021-12-18T13:51:07.699Z"
   },
   {
    "duration": 5,
    "start_time": "2021-12-18T13:51:07.713Z"
   },
   {
    "duration": 31,
    "start_time": "2021-12-18T13:51:07.769Z"
   },
   {
    "duration": 8,
    "start_time": "2021-12-18T13:51:07.806Z"
   },
   {
    "duration": 7,
    "start_time": "2021-12-18T13:51:07.820Z"
   },
   {
    "duration": 39,
    "start_time": "2021-12-18T13:51:07.830Z"
   },
   {
    "duration": 8,
    "start_time": "2021-12-18T13:51:07.872Z"
   },
   {
    "duration": 16,
    "start_time": "2021-12-18T13:51:07.883Z"
   },
   {
    "duration": 10,
    "start_time": "2021-12-18T13:51:07.901Z"
   },
   {
    "duration": 9,
    "start_time": "2021-12-18T13:51:07.913Z"
   },
   {
    "duration": 5,
    "start_time": "2021-12-18T13:51:07.925Z"
   },
   {
    "duration": 37,
    "start_time": "2021-12-18T13:51:07.932Z"
   },
   {
    "duration": 14,
    "start_time": "2021-12-18T13:51:07.971Z"
   },
   {
    "duration": 12,
    "start_time": "2021-12-18T13:51:07.987Z"
   },
   {
    "duration": 6,
    "start_time": "2021-12-18T13:51:08.003Z"
   },
   {
    "duration": 19,
    "start_time": "2021-12-18T13:51:08.011Z"
   },
   {
    "duration": 42,
    "start_time": "2021-12-18T13:51:08.033Z"
   },
   {
    "duration": 8,
    "start_time": "2021-12-18T13:51:08.078Z"
   },
   {
    "duration": 15,
    "start_time": "2021-12-18T13:51:08.089Z"
   },
   {
    "duration": 924,
    "start_time": "2021-12-18T13:51:08.107Z"
   },
   {
    "duration": 6,
    "start_time": "2021-12-18T13:51:09.034Z"
   },
   {
    "duration": 113,
    "start_time": "2021-12-18T13:51:09.043Z"
   },
   {
    "duration": 25,
    "start_time": "2021-12-18T13:51:09.159Z"
   },
   {
    "duration": 6,
    "start_time": "2021-12-18T13:51:09.188Z"
   },
   {
    "duration": 18,
    "start_time": "2021-12-18T13:51:09.196Z"
   },
   {
    "duration": 16,
    "start_time": "2021-12-18T13:51:09.217Z"
   },
   {
    "duration": 36,
    "start_time": "2021-12-18T13:51:09.236Z"
   },
   {
    "duration": 8,
    "start_time": "2021-12-18T13:51:09.275Z"
   },
   {
    "duration": 7,
    "start_time": "2021-12-18T13:51:09.286Z"
   },
   {
    "duration": 21,
    "start_time": "2021-12-18T13:51:09.295Z"
   },
   {
    "duration": 55,
    "start_time": "2021-12-18T13:51:09.318Z"
   },
   {
    "duration": 5,
    "start_time": "2021-12-18T13:51:09.375Z"
   },
   {
    "duration": 835,
    "start_time": "2021-12-18T13:51:09.383Z"
   },
   {
    "duration": 8,
    "start_time": "2021-12-18T13:51:10.220Z"
   },
   {
    "duration": 8,
    "start_time": "2021-12-18T13:51:10.231Z"
   },
   {
    "duration": 32,
    "start_time": "2021-12-18T13:51:10.241Z"
   },
   {
    "duration": 8,
    "start_time": "2021-12-18T13:51:10.275Z"
   },
   {
    "duration": 8,
    "start_time": "2021-12-18T13:51:10.286Z"
   },
   {
    "duration": 73,
    "start_time": "2021-12-18T13:51:10.296Z"
   },
   {
    "duration": 441,
    "start_time": "2021-12-18T13:51:10.371Z"
   },
   {
    "duration": 611,
    "start_time": "2021-12-18T13:51:10.814Z"
   },
   {
    "duration": 341,
    "start_time": "2021-12-18T13:51:11.428Z"
   },
   {
    "duration": 618,
    "start_time": "2021-12-18T13:51:11.772Z"
   },
   {
    "duration": 341,
    "start_time": "2021-12-18T13:51:12.393Z"
   },
   {
    "duration": 614,
    "start_time": "2021-12-18T13:51:12.737Z"
   },
   {
    "duration": 321,
    "start_time": "2021-12-18T13:51:13.353Z"
   },
   {
    "duration": 397,
    "start_time": "2021-12-18T13:51:13.677Z"
   },
   {
    "duration": 10,
    "start_time": "2021-12-18T13:51:14.077Z"
   },
   {
    "duration": 234,
    "start_time": "2021-12-18T13:51:14.096Z"
   },
   {
    "duration": 581,
    "start_time": "2021-12-18T13:51:14.334Z"
   },
   {
    "duration": 8,
    "start_time": "2021-12-18T13:51:14.919Z"
   },
   {
    "duration": 10,
    "start_time": "2021-12-18T13:51:14.929Z"
   },
   {
    "duration": 597,
    "start_time": "2021-12-18T13:51:14.942Z"
   },
   {
    "duration": 803,
    "start_time": "2021-12-18T13:51:15.541Z"
   },
   {
    "duration": 24,
    "start_time": "2021-12-18T13:51:16.347Z"
   },
   {
    "duration": 592,
    "start_time": "2021-12-18T13:51:16.375Z"
   },
   {
    "duration": 565,
    "start_time": "2021-12-18T13:51:16.969Z"
   },
   {
    "duration": 8,
    "start_time": "2021-12-18T13:51:17.537Z"
   },
   {
    "duration": 336,
    "start_time": "2021-12-18T13:51:17.547Z"
   },
   {
    "duration": 655,
    "start_time": "2021-12-18T13:51:17.885Z"
   },
   {
    "duration": 11,
    "start_time": "2021-12-18T13:51:18.543Z"
   },
   {
    "duration": 588,
    "start_time": "2021-12-18T13:51:18.567Z"
   },
   {
    "duration": 554,
    "start_time": "2021-12-18T13:51:19.157Z"
   },
   {
    "duration": 13,
    "start_time": "2021-12-18T13:51:19.713Z"
   },
   {
    "duration": 578,
    "start_time": "2021-12-18T13:51:19.728Z"
   },
   {
    "duration": 874,
    "start_time": "2021-12-18T13:51:20.309Z"
   },
   {
    "duration": 20,
    "start_time": "2021-12-18T13:51:21.186Z"
   },
   {
    "duration": 791,
    "start_time": "2021-12-18T13:51:21.209Z"
   },
   {
    "duration": 18,
    "start_time": "2021-12-18T13:51:22.003Z"
   },
   {
    "duration": 268,
    "start_time": "2021-12-18T13:51:22.024Z"
   },
   {
    "duration": 604,
    "start_time": "2021-12-18T13:51:22.295Z"
   },
   {
    "duration": 22,
    "start_time": "2021-12-18T13:51:22.901Z"
   },
   {
    "duration": 910,
    "start_time": "2021-12-18T13:51:22.925Z"
   },
   {
    "duration": 34,
    "start_time": "2021-12-18T13:51:23.838Z"
   },
   {
    "duration": 808,
    "start_time": "2021-12-18T13:51:23.875Z"
   },
   {
    "duration": 16,
    "start_time": "2021-12-18T13:51:24.685Z"
   },
   {
    "duration": 64,
    "start_time": "2021-12-18T13:51:24.703Z"
   },
   {
    "duration": 27,
    "start_time": "2021-12-18T13:51:24.769Z"
   },
   {
    "duration": 29,
    "start_time": "2021-12-18T13:51:24.799Z"
   },
   {
    "duration": 5,
    "start_time": "2021-12-18T13:51:24.830Z"
   },
   {
    "duration": 341,
    "start_time": "2021-12-18T13:51:24.868Z"
   },
   {
    "duration": 226,
    "start_time": "2021-12-18T13:51:25.211Z"
   },
   {
    "duration": 300,
    "start_time": "2021-12-18T17:00:02.663Z"
   },
   {
    "duration": 868,
    "start_time": "2021-12-18T17:00:21.172Z"
   },
   {
    "duration": 89,
    "start_time": "2021-12-18T17:00:22.043Z"
   },
   {
    "duration": 65,
    "start_time": "2021-12-18T17:00:22.135Z"
   },
   {
    "duration": 16,
    "start_time": "2021-12-18T17:00:22.204Z"
   },
   {
    "duration": 10,
    "start_time": "2021-12-18T17:00:22.420Z"
   },
   {
    "duration": 5,
    "start_time": "2021-12-18T17:00:22.652Z"
   },
   {
    "duration": 12,
    "start_time": "2021-12-18T17:00:22.991Z"
   },
   {
    "duration": 12,
    "start_time": "2021-12-18T17:00:23.328Z"
   },
   {
    "duration": 4,
    "start_time": "2021-12-18T17:00:23.498Z"
   },
   {
    "duration": 15,
    "start_time": "2021-12-18T17:00:23.660Z"
   },
   {
    "duration": 6,
    "start_time": "2021-12-18T17:00:23.920Z"
   },
   {
    "duration": 15,
    "start_time": "2021-12-18T17:00:24.172Z"
   },
   {
    "duration": 5,
    "start_time": "2021-12-18T17:00:24.339Z"
   },
   {
    "duration": 11,
    "start_time": "2021-12-18T17:00:24.748Z"
   },
   {
    "duration": 8,
    "start_time": "2021-12-18T17:00:24.917Z"
   },
   {
    "duration": 5,
    "start_time": "2021-12-18T17:00:25.093Z"
   },
   {
    "duration": 5,
    "start_time": "2021-12-18T17:00:25.252Z"
   },
   {
    "duration": 6,
    "start_time": "2021-12-18T17:00:25.669Z"
   },
   {
    "duration": 7,
    "start_time": "2021-12-18T17:00:25.755Z"
   },
   {
    "duration": 13,
    "start_time": "2021-12-18T17:00:25.933Z"
   },
   {
    "duration": 5,
    "start_time": "2021-12-18T17:00:26.096Z"
   },
   {
    "duration": 19,
    "start_time": "2021-12-18T17:00:26.517Z"
   },
   {
    "duration": 7,
    "start_time": "2021-12-18T17:00:26.687Z"
   },
   {
    "duration": 6,
    "start_time": "2021-12-18T17:00:26.760Z"
   },
   {
    "duration": 5,
    "start_time": "2021-12-18T17:00:27.177Z"
   },
   {
    "duration": 5,
    "start_time": "2021-12-18T17:00:27.264Z"
   },
   {
    "duration": 9,
    "start_time": "2021-12-18T17:00:27.599Z"
   },
   {
    "duration": 6,
    "start_time": "2021-12-18T17:00:27.775Z"
   },
   {
    "duration": 6,
    "start_time": "2021-12-18T17:00:27.930Z"
   },
   {
    "duration": 4,
    "start_time": "2021-12-18T17:00:28.352Z"
   },
   {
    "duration": 5,
    "start_time": "2021-12-18T17:00:28.599Z"
   },
   {
    "duration": 8,
    "start_time": "2021-12-18T17:00:28.772Z"
   },
   {
    "duration": 11,
    "start_time": "2021-12-18T17:00:28.936Z"
   },
   {
    "duration": 6,
    "start_time": "2021-12-18T17:00:29.186Z"
   },
   {
    "duration": 6,
    "start_time": "2021-12-18T17:00:29.268Z"
   },
   {
    "duration": 12,
    "start_time": "2021-12-18T17:00:29.522Z"
   },
   {
    "duration": 6,
    "start_time": "2021-12-18T17:00:30.020Z"
   },
   {
    "duration": 6,
    "start_time": "2021-12-18T17:00:30.197Z"
   },
   {
    "duration": 703,
    "start_time": "2021-12-18T17:00:30.292Z"
   },
   {
    "duration": 4,
    "start_time": "2021-12-18T17:00:30.998Z"
   },
   {
    "duration": 80,
    "start_time": "2021-12-18T17:00:31.005Z"
   },
   {
    "duration": 11,
    "start_time": "2021-12-18T17:00:31.278Z"
   },
   {
    "duration": 5,
    "start_time": "2021-12-18T17:00:31.366Z"
   },
   {
    "duration": 4,
    "start_time": "2021-12-18T17:00:31.696Z"
   },
   {
    "duration": 3,
    "start_time": "2021-12-18T17:00:31.869Z"
   },
   {
    "duration": 14,
    "start_time": "2021-12-18T17:00:32.043Z"
   },
   {
    "duration": 7,
    "start_time": "2021-12-18T17:00:32.202Z"
   },
   {
    "duration": 6,
    "start_time": "2021-12-18T17:00:32.784Z"
   },
   {
    "duration": 18,
    "start_time": "2021-12-18T17:00:33.036Z"
   },
   {
    "duration": 14,
    "start_time": "2021-12-18T17:00:33.203Z"
   },
   {
    "duration": 5,
    "start_time": "2021-12-18T17:00:33.547Z"
   },
   {
    "duration": 930,
    "start_time": "2021-12-18T17:00:33.623Z"
   },
   {
    "duration": 8,
    "start_time": "2021-12-18T17:00:34.555Z"
   },
   {
    "duration": 22,
    "start_time": "2021-12-18T17:00:34.566Z"
   },
   {
    "duration": 28,
    "start_time": "2021-12-18T17:00:34.591Z"
   },
   {
    "duration": 14,
    "start_time": "2021-12-18T17:00:34.621Z"
   },
   {
    "duration": 6,
    "start_time": "2021-12-18T17:00:34.722Z"
   },
   {
    "duration": 39,
    "start_time": "2021-12-18T17:00:35.219Z"
   },
   {
    "duration": 429,
    "start_time": "2021-12-18T17:00:35.472Z"
   },
   {
    "duration": 577,
    "start_time": "2021-12-18T17:00:35.904Z"
   },
   {
    "duration": 317,
    "start_time": "2021-12-18T17:00:36.484Z"
   },
   {
    "duration": 620,
    "start_time": "2021-12-18T17:00:36.804Z"
   },
   {
    "duration": 323,
    "start_time": "2021-12-18T17:00:37.426Z"
   },
   {
    "duration": 567,
    "start_time": "2021-12-18T17:00:37.764Z"
   },
   {
    "duration": 302,
    "start_time": "2021-12-18T17:00:38.334Z"
   },
   {
    "duration": 373,
    "start_time": "2021-12-18T17:00:38.639Z"
   },
   {
    "duration": 10,
    "start_time": "2021-12-18T17:00:39.015Z"
   },
   {
    "duration": 231,
    "start_time": "2021-12-18T17:00:39.028Z"
   },
   {
    "duration": 583,
    "start_time": "2021-12-18T17:00:39.263Z"
   },
   {
    "duration": 14,
    "start_time": "2021-12-18T17:00:39.849Z"
   },
   {
    "duration": 12,
    "start_time": "2021-12-18T17:00:39.865Z"
   },
   {
    "duration": 566,
    "start_time": "2021-12-18T17:00:39.879Z"
   },
   {
    "duration": 535,
    "start_time": "2021-12-18T17:00:40.448Z"
   },
   {
    "duration": 10,
    "start_time": "2021-12-18T17:00:40.987Z"
   },
   {
    "duration": 582,
    "start_time": "2021-12-18T17:00:41.000Z"
   },
   {
    "duration": 556,
    "start_time": "2021-12-18T17:00:41.584Z"
   },
   {
    "duration": 8,
    "start_time": "2021-12-18T17:00:42.143Z"
   },
   {
    "duration": 338,
    "start_time": "2021-12-18T17:00:42.164Z"
   },
   {
    "duration": 615,
    "start_time": "2021-12-18T17:00:42.505Z"
   },
   {
    "duration": 11,
    "start_time": "2021-12-18T17:00:43.123Z"
   },
   {
    "duration": 564,
    "start_time": "2021-12-18T17:00:43.136Z"
   },
   {
    "duration": 572,
    "start_time": "2021-12-18T17:00:43.702Z"
   },
   {
    "duration": 12,
    "start_time": "2021-12-18T17:00:44.276Z"
   },
   {
    "duration": 556,
    "start_time": "2021-12-18T17:00:44.290Z"
   },
   {
    "duration": 818,
    "start_time": "2021-12-18T17:00:44.848Z"
   },
   {
    "duration": 21,
    "start_time": "2021-12-18T17:00:45.669Z"
   },
   {
    "duration": 727,
    "start_time": "2021-12-18T17:00:45.693Z"
   },
   {
    "duration": 18,
    "start_time": "2021-12-18T17:00:46.423Z"
   },
   {
    "duration": 258,
    "start_time": "2021-12-18T17:00:46.444Z"
   },
   {
    "duration": 583,
    "start_time": "2021-12-18T17:00:46.704Z"
   },
   {
    "duration": 23,
    "start_time": "2021-12-18T17:00:47.289Z"
   },
   {
    "duration": 793,
    "start_time": "2021-12-18T17:00:47.315Z"
   },
   {
    "duration": 17,
    "start_time": "2021-12-18T17:00:48.110Z"
   },
   {
    "duration": 799,
    "start_time": "2021-12-18T17:00:48.129Z"
   },
   {
    "duration": 33,
    "start_time": "2021-12-18T17:00:48.931Z"
   },
   {
    "duration": 35,
    "start_time": "2021-12-18T17:00:48.966Z"
   },
   {
    "duration": 26,
    "start_time": "2021-12-18T17:00:49.004Z"
   },
   {
    "duration": 52,
    "start_time": "2021-12-18T17:00:49.033Z"
   },
   {
    "duration": 5,
    "start_time": "2021-12-18T17:00:49.087Z"
   },
   {
    "duration": 351,
    "start_time": "2021-12-18T17:00:49.094Z"
   },
   {
    "duration": 230,
    "start_time": "2021-12-18T17:00:49.447Z"
   },
   {
    "duration": 6,
    "start_time": "2021-12-18T17:03:25.300Z"
   },
   {
    "duration": 11,
    "start_time": "2021-12-18T17:03:28.163Z"
   },
   {
    "duration": 5,
    "start_time": "2021-12-18T17:03:34.468Z"
   },
   {
    "duration": 7,
    "start_time": "2021-12-18T17:07:29.562Z"
   },
   {
    "duration": 3,
    "start_time": "2021-12-18T17:12:44.248Z"
   },
   {
    "duration": 79,
    "start_time": "2021-12-18T17:12:44.494Z"
   },
   {
    "duration": 47,
    "start_time": "2021-12-18T17:12:44.663Z"
   },
   {
    "duration": 15,
    "start_time": "2021-12-18T17:12:44.924Z"
   },
   {
    "duration": 8,
    "start_time": "2021-12-18T17:12:45.574Z"
   },
   {
    "duration": 5,
    "start_time": "2021-12-18T17:12:45.826Z"
   },
   {
    "duration": 12,
    "start_time": "2021-12-18T17:12:46.166Z"
   },
   {
    "duration": 12,
    "start_time": "2021-12-18T17:12:46.495Z"
   },
   {
    "duration": 5,
    "start_time": "2021-12-18T17:12:46.668Z"
   },
   {
    "duration": 14,
    "start_time": "2021-12-18T17:12:46.838Z"
   },
   {
    "duration": 7,
    "start_time": "2021-12-18T17:12:47.088Z"
   },
   {
    "duration": 13,
    "start_time": "2021-12-18T17:12:47.330Z"
   },
   {
    "duration": 6,
    "start_time": "2021-12-18T17:12:47.505Z"
   },
   {
    "duration": 14,
    "start_time": "2021-12-18T17:12:47.922Z"
   },
   {
    "duration": 7,
    "start_time": "2021-12-18T17:12:48.090Z"
   },
   {
    "duration": 7,
    "start_time": "2021-12-18T17:12:48.256Z"
   },
   {
    "duration": 5,
    "start_time": "2021-12-18T17:12:48.434Z"
   },
   {
    "duration": 7,
    "start_time": "2021-12-18T17:12:48.841Z"
   },
   {
    "duration": 5,
    "start_time": "2021-12-18T17:12:48.924Z"
   },
   {
    "duration": 7,
    "start_time": "2021-12-18T17:12:49.091Z"
   },
   {
    "duration": 6,
    "start_time": "2021-12-18T17:12:49.266Z"
   },
   {
    "duration": 19,
    "start_time": "2021-12-18T17:12:49.676Z"
   },
   {
    "duration": 8,
    "start_time": "2021-12-18T17:12:49.845Z"
   },
   {
    "duration": 5,
    "start_time": "2021-12-18T17:12:49.943Z"
   },
   {
    "duration": 4,
    "start_time": "2021-12-18T17:12:52.309Z"
   },
   {
    "duration": 6,
    "start_time": "2021-12-18T17:12:55.125Z"
   },
   {
    "duration": 9,
    "start_time": "2021-12-18T17:13:25.710Z"
   },
   {
    "duration": 7,
    "start_time": "2021-12-18T17:13:52.925Z"
   },
   {
    "duration": 66,
    "start_time": "2021-12-18T17:14:21.765Z"
   },
   {
    "duration": 7,
    "start_time": "2021-12-18T17:14:40.945Z"
   },
   {
    "duration": 10,
    "start_time": "2021-12-18T17:15:14.564Z"
   },
   {
    "duration": 304,
    "start_time": "2021-12-18T17:16:00.972Z"
   },
   {
    "duration": 309,
    "start_time": "2021-12-18T17:16:07.586Z"
   },
   {
    "duration": 28,
    "start_time": "2021-12-18T17:16:20.068Z"
   },
   {
    "duration": 81,
    "start_time": "2021-12-18T17:16:52.699Z"
   },
   {
    "duration": 89,
    "start_time": "2021-12-18T17:16:58.939Z"
   },
   {
    "duration": 11,
    "start_time": "2021-12-18T17:17:02.858Z"
   },
   {
    "duration": 16,
    "start_time": "2021-12-18T17:17:41.786Z"
   },
   {
    "duration": 7,
    "start_time": "2021-12-18T17:17:46.348Z"
   },
   {
    "duration": 13,
    "start_time": "2021-12-18T17:19:05.265Z"
   },
   {
    "duration": 7,
    "start_time": "2021-12-18T17:19:07.753Z"
   },
   {
    "duration": 12,
    "start_time": "2021-12-18T17:21:37.712Z"
   },
   {
    "duration": 4,
    "start_time": "2021-12-18T17:22:47.872Z"
   },
   {
    "duration": 4,
    "start_time": "2021-12-18T17:23:00.743Z"
   },
   {
    "duration": 3,
    "start_time": "2021-12-18T17:23:03.174Z"
   },
   {
    "duration": 7,
    "start_time": "2021-12-18T17:23:07.534Z"
   },
   {
    "duration": 10,
    "start_time": "2021-12-18T17:23:10.974Z"
   },
   {
    "duration": 7,
    "start_time": "2021-12-18T17:23:59.887Z"
   },
   {
    "duration": 238,
    "start_time": "2021-12-18T17:24:51.701Z"
   },
   {
    "duration": 338,
    "start_time": "2021-12-18T17:25:01.432Z"
   },
   {
    "duration": 7,
    "start_time": "2021-12-18T17:25:21.221Z"
   },
   {
    "duration": 12,
    "start_time": "2021-12-18T17:25:36.397Z"
   },
   {
    "duration": -64,
    "start_time": "2021-12-18T17:26:31.807Z"
   },
   {
    "duration": 4,
    "start_time": "2021-12-18T17:29:21.955Z"
   },
   {
    "duration": 6,
    "start_time": "2021-12-18T17:45:08.936Z"
   },
   {
    "duration": 259,
    "start_time": "2021-12-18T17:47:10.590Z"
   },
   {
    "duration": 41,
    "start_time": "2021-12-18T17:47:26.759Z"
   },
   {
    "duration": 13,
    "start_time": "2021-12-18T17:47:48.911Z"
   },
   {
    "duration": 286,
    "start_time": "2021-12-18T17:48:47.414Z"
   },
   {
    "duration": 13,
    "start_time": "2021-12-18T17:48:59.991Z"
   },
   {
    "duration": 17,
    "start_time": "2021-12-18T17:49:25.010Z"
   },
   {
    "duration": 15,
    "start_time": "2021-12-18T17:50:08.077Z"
   },
   {
    "duration": 7,
    "start_time": "2021-12-18T17:50:14.290Z"
   },
   {
    "duration": 1012,
    "start_time": "2021-12-18T17:50:15.068Z"
   },
   {
    "duration": 5,
    "start_time": "2021-12-18T17:50:18.212Z"
   },
   {
    "duration": 17,
    "start_time": "2021-12-18T17:51:03.429Z"
   },
   {
    "duration": 14,
    "start_time": "2021-12-18T17:51:40.123Z"
   },
   {
    "duration": 13,
    "start_time": "2021-12-18T17:52:28.595Z"
   },
   {
    "duration": 14,
    "start_time": "2021-12-18T17:52:47.979Z"
   },
   {
    "duration": 6,
    "start_time": "2021-12-18T17:53:08.883Z"
   },
   {
    "duration": 917,
    "start_time": "2021-12-18T17:53:12.698Z"
   },
   {
    "duration": 6,
    "start_time": "2021-12-18T17:53:14.922Z"
   },
   {
    "duration": 7,
    "start_time": "2021-12-18T17:53:49.610Z"
   },
   {
    "duration": 954,
    "start_time": "2021-12-18T17:53:51.209Z"
   },
   {
    "duration": 6,
    "start_time": "2021-12-18T17:53:54.402Z"
   },
   {
    "duration": 49,
    "start_time": "2021-12-18T17:54:39.442Z"
   },
   {
    "duration": 393,
    "start_time": "2021-12-18T17:54:51.687Z"
   },
   {
    "duration": 5,
    "start_time": "2021-12-18T17:55:31.802Z"
   },
   {
    "duration": 914,
    "start_time": "2021-12-18T17:55:33.369Z"
   },
   {
    "duration": 5,
    "start_time": "2021-12-18T17:55:35.977Z"
   },
   {
    "duration": 144,
    "start_time": "2021-12-18T17:57:45.929Z"
   },
   {
    "duration": 255,
    "start_time": "2021-12-18T18:01:22.158Z"
   },
   {
    "duration": 147,
    "start_time": "2021-12-18T18:01:32.222Z"
   },
   {
    "duration": 1414,
    "start_time": "2021-12-18T18:15:13.444Z"
   },
   {
    "duration": 6,
    "start_time": "2021-12-18T18:15:15.828Z"
   },
   {
    "duration": 18,
    "start_time": "2021-12-18T18:15:37.884Z"
   },
   {
    "duration": 84,
    "start_time": "2021-12-18T18:15:54.316Z"
   },
   {
    "duration": 10,
    "start_time": "2021-12-18T18:16:01.059Z"
   },
   {
    "duration": 13,
    "start_time": "2021-12-18T18:17:01.619Z"
   },
   {
    "duration": 13,
    "start_time": "2021-12-18T18:17:47.707Z"
   },
   {
    "duration": 10,
    "start_time": "2021-12-18T18:20:30.225Z"
   },
   {
    "duration": 16,
    "start_time": "2021-12-18T18:21:57.616Z"
   },
   {
    "duration": 3,
    "start_time": "2021-12-18T18:22:24.572Z"
   },
   {
    "duration": 83,
    "start_time": "2021-12-18T18:22:24.826Z"
   },
   {
    "duration": 45,
    "start_time": "2021-12-18T18:22:24.997Z"
   },
   {
    "duration": 17,
    "start_time": "2021-12-18T18:22:25.239Z"
   },
   {
    "duration": 9,
    "start_time": "2021-12-18T18:22:25.903Z"
   },
   {
    "duration": 6,
    "start_time": "2021-12-18T18:22:26.156Z"
   },
   {
    "duration": 14,
    "start_time": "2021-12-18T18:22:26.498Z"
   },
   {
    "duration": 13,
    "start_time": "2021-12-18T18:22:26.827Z"
   },
   {
    "duration": 3,
    "start_time": "2021-12-18T18:22:26.996Z"
   },
   {
    "duration": 14,
    "start_time": "2021-12-18T18:22:27.164Z"
   },
   {
    "duration": 6,
    "start_time": "2021-12-18T18:22:27.412Z"
   },
   {
    "duration": 14,
    "start_time": "2021-12-18T18:22:27.663Z"
   },
   {
    "duration": 7,
    "start_time": "2021-12-18T18:22:27.835Z"
   },
   {
    "duration": 10,
    "start_time": "2021-12-18T18:22:28.252Z"
   },
   {
    "duration": 7,
    "start_time": "2021-12-18T18:22:28.419Z"
   },
   {
    "duration": 5,
    "start_time": "2021-12-18T18:22:28.599Z"
   },
   {
    "duration": 5,
    "start_time": "2021-12-18T18:22:28.764Z"
   },
   {
    "duration": 6,
    "start_time": "2021-12-18T18:22:29.171Z"
   },
   {
    "duration": 6,
    "start_time": "2021-12-18T18:22:29.257Z"
   },
   {
    "duration": 6,
    "start_time": "2021-12-18T18:22:29.425Z"
   },
   {
    "duration": 6,
    "start_time": "2021-12-18T18:22:29.597Z"
   },
   {
    "duration": 21,
    "start_time": "2021-12-18T18:22:30.004Z"
   },
   {
    "duration": 7,
    "start_time": "2021-12-18T18:22:30.176Z"
   },
   {
    "duration": 5,
    "start_time": "2021-12-18T18:22:30.269Z"
   },
   {
    "duration": 5,
    "start_time": "2021-12-18T18:22:30.673Z"
   },
   {
    "duration": 6,
    "start_time": "2021-12-18T18:22:30.760Z"
   },
   {
    "duration": 11,
    "start_time": "2021-12-18T18:22:31.109Z"
   },
   {
    "duration": 7,
    "start_time": "2021-12-18T18:22:31.277Z"
   },
   {
    "duration": 4,
    "start_time": "2021-12-18T18:22:31.769Z"
   },
   {
    "duration": 4,
    "start_time": "2021-12-18T18:22:32.097Z"
   },
   {
    "duration": 8,
    "start_time": "2021-12-18T18:22:32.264Z"
   },
   {
    "duration": 11,
    "start_time": "2021-12-18T18:22:32.440Z"
   },
   {
    "duration": 5,
    "start_time": "2021-12-18T18:22:32.693Z"
   },
   {
    "duration": 6,
    "start_time": "2021-12-18T18:22:32.771Z"
   },
   {
    "duration": 12,
    "start_time": "2021-12-18T18:22:33.021Z"
   },
   {
    "duration": 5,
    "start_time": "2021-12-18T18:22:33.520Z"
   },
   {
    "duration": 17,
    "start_time": "2021-12-18T18:22:33.699Z"
   },
   {
    "duration": 6,
    "start_time": "2021-12-18T18:22:33.792Z"
   },
   {
    "duration": 1406,
    "start_time": "2021-12-18T18:22:33.856Z"
   },
   {
    "duration": 5,
    "start_time": "2021-12-18T18:22:35.266Z"
   },
   {
    "duration": 8,
    "start_time": "2021-12-18T18:29:03.555Z"
   },
   {
    "duration": 935,
    "start_time": "2021-12-18T18:29:04.298Z"
   },
   {
    "duration": 16,
    "start_time": "2021-12-18T18:29:13.890Z"
   },
   {
    "duration": 16,
    "start_time": "2021-12-18T18:38:05.461Z"
   },
   {
    "duration": 24,
    "start_time": "2021-12-18T18:38:25.580Z"
   },
   {
    "duration": 4,
    "start_time": "2021-12-18T18:38:32.374Z"
   },
   {
    "duration": 107,
    "start_time": "2021-12-18T18:38:32.619Z"
   },
   {
    "duration": 49,
    "start_time": "2021-12-18T18:38:32.795Z"
   },
   {
    "duration": 15,
    "start_time": "2021-12-18T18:38:33.063Z"
   },
   {
    "duration": 9,
    "start_time": "2021-12-18T18:38:33.712Z"
   },
   {
    "duration": 5,
    "start_time": "2021-12-18T18:38:33.971Z"
   },
   {
    "duration": 13,
    "start_time": "2021-12-18T18:38:34.304Z"
   },
   {
    "duration": 14,
    "start_time": "2021-12-18T18:38:34.640Z"
   },
   {
    "duration": 4,
    "start_time": "2021-12-18T18:38:34.810Z"
   },
   {
    "duration": 19,
    "start_time": "2021-12-18T18:38:34.976Z"
   },
   {
    "duration": 7,
    "start_time": "2021-12-18T18:38:35.215Z"
   },
   {
    "duration": 14,
    "start_time": "2021-12-18T18:38:35.467Z"
   },
   {
    "duration": 7,
    "start_time": "2021-12-18T18:38:35.643Z"
   },
   {
    "duration": 14,
    "start_time": "2021-12-18T18:38:36.055Z"
   },
   {
    "duration": 7,
    "start_time": "2021-12-18T18:38:36.226Z"
   },
   {
    "duration": 6,
    "start_time": "2021-12-18T18:38:36.392Z"
   },
   {
    "duration": 6,
    "start_time": "2021-12-18T18:38:36.567Z"
   },
   {
    "duration": 9,
    "start_time": "2021-12-18T18:38:36.976Z"
   },
   {
    "duration": 7,
    "start_time": "2021-12-18T18:38:37.059Z"
   },
   {
    "duration": 7,
    "start_time": "2021-12-18T18:38:37.244Z"
   },
   {
    "duration": 6,
    "start_time": "2021-12-18T18:38:37.395Z"
   },
   {
    "duration": 19,
    "start_time": "2021-12-18T18:38:37.821Z"
   },
   {
    "duration": 8,
    "start_time": "2021-12-18T18:38:37.984Z"
   },
   {
    "duration": 6,
    "start_time": "2021-12-18T18:38:38.065Z"
   },
   {
    "duration": 5,
    "start_time": "2021-12-18T18:38:38.484Z"
   },
   {
    "duration": 5,
    "start_time": "2021-12-18T18:38:38.568Z"
   },
   {
    "duration": 12,
    "start_time": "2021-12-18T18:38:38.903Z"
   },
   {
    "duration": 6,
    "start_time": "2021-12-18T18:38:39.070Z"
   },
   {
    "duration": 5,
    "start_time": "2021-12-18T18:38:39.575Z"
   },
   {
    "duration": 4,
    "start_time": "2021-12-18T18:38:39.910Z"
   },
   {
    "duration": 8,
    "start_time": "2021-12-18T18:38:40.081Z"
   },
   {
    "duration": 12,
    "start_time": "2021-12-18T18:38:40.254Z"
   },
   {
    "duration": 4,
    "start_time": "2021-12-18T18:38:40.501Z"
   },
   {
    "duration": 6,
    "start_time": "2021-12-18T18:38:40.583Z"
   },
   {
    "duration": 13,
    "start_time": "2021-12-18T18:38:40.836Z"
   },
   {
    "duration": 5,
    "start_time": "2021-12-18T18:38:41.334Z"
   },
   {
    "duration": 22,
    "start_time": "2021-12-18T18:38:41.511Z"
   },
   {
    "duration": 6,
    "start_time": "2021-12-18T18:38:41.685Z"
   },
   {
    "duration": 954,
    "start_time": "2021-12-18T18:38:41.752Z"
   },
   {
    "duration": 15,
    "start_time": "2021-12-18T18:38:42.708Z"
   },
   {
    "duration": 5,
    "start_time": "2021-12-18T18:38:42.726Z"
   },
   {
    "duration": 5,
    "start_time": "2021-12-18T18:38:58.339Z"
   },
   {
    "duration": 5,
    "start_time": "2021-12-18T18:39:02.259Z"
   },
   {
    "duration": 26,
    "start_time": "2021-12-18T18:39:56.052Z"
   },
   {
    "duration": 20,
    "start_time": "2021-12-18T18:40:05.179Z"
   },
   {
    "duration": 447,
    "start_time": "2021-12-18T20:34:13.301Z"
   },
   {
    "duration": 260,
    "start_time": "2021-12-18T20:34:26.020Z"
   },
   {
    "duration": 264,
    "start_time": "2021-12-18T20:34:51.180Z"
   },
   {
    "duration": 264,
    "start_time": "2021-12-18T20:37:54.081Z"
   },
   {
    "duration": 530,
    "start_time": "2021-12-18T20:38:14.979Z"
   },
   {
    "duration": 364,
    "start_time": "2021-12-18T20:38:51.985Z"
   },
   {
    "duration": 554,
    "start_time": "2021-12-18T20:39:09.577Z"
   },
   {
    "duration": 435,
    "start_time": "2021-12-18T20:39:42.704Z"
   },
   {
    "duration": 541,
    "start_time": "2021-12-18T20:39:56.504Z"
   },
   {
    "duration": 296,
    "start_time": "2021-12-18T20:40:05.687Z"
   },
   {
    "duration": 363,
    "start_time": "2021-12-18T20:40:24.591Z"
   },
   {
    "duration": 265,
    "start_time": "2021-12-18T20:43:20.566Z"
   },
   {
    "duration": -75,
    "start_time": "2021-12-18T20:45:47.355Z"
   },
   {
    "duration": -76,
    "start_time": "2021-12-18T20:46:21.505Z"
   },
   {
    "duration": 7219,
    "start_time": "2021-12-18T20:47:32.075Z"
   },
   {
    "duration": 629,
    "start_time": "2021-12-18T20:48:14.719Z"
   },
   {
    "duration": 16774,
    "start_time": "2021-12-18T20:48:36.002Z"
   },
   {
    "duration": 13,
    "start_time": "2021-12-18T20:49:12.650Z"
   },
   {
    "duration": 370,
    "start_time": "2021-12-18T20:49:50.432Z"
   },
   {
    "duration": 6,
    "start_time": "2021-12-18T20:50:25.800Z"
   },
   {
    "duration": 565,
    "start_time": "2021-12-18T20:53:29.943Z"
   },
   {
    "duration": 370,
    "start_time": "2021-12-18T20:54:34.774Z"
   },
   {
    "duration": 12,
    "start_time": "2021-12-18T20:54:42.678Z"
   },
   {
    "duration": 553,
    "start_time": "2021-12-18T20:57:48.019Z"
   },
   {
    "duration": 540,
    "start_time": "2021-12-18T20:58:15.835Z"
   },
   {
    "duration": 534,
    "start_time": "2021-12-18T20:59:53.042Z"
   },
   {
    "duration": 547,
    "start_time": "2021-12-18T21:00:04.290Z"
   },
   {
    "duration": 546,
    "start_time": "2021-12-18T21:00:15.938Z"
   },
   {
    "duration": 285,
    "start_time": "2021-12-18T21:00:28.761Z"
   },
   {
    "duration": 955,
    "start_time": "2021-12-18T21:00:44.777Z"
   },
   {
    "duration": 565,
    "start_time": "2021-12-18T21:00:56.442Z"
   },
   {
    "duration": 817,
    "start_time": "2021-12-18T21:01:24.074Z"
   },
   {
    "duration": 816,
    "start_time": "2021-12-18T21:01:35.476Z"
   },
   {
    "duration": 582,
    "start_time": "2021-12-18T21:02:51.928Z"
   },
   {
    "duration": 549,
    "start_time": "2021-12-18T21:03:27.264Z"
   },
   {
    "duration": 113,
    "start_time": "2021-12-18T21:05:06.462Z"
   },
   {
    "duration": 81,
    "start_time": "2021-12-18T21:05:42.485Z"
   },
   {
    "duration": 361,
    "start_time": "2021-12-18T21:05:47.846Z"
   },
   {
    "duration": 542,
    "start_time": "2021-12-18T21:07:10.221Z"
   },
   {
    "duration": 299,
    "start_time": "2021-12-18T21:07:53.933Z"
   },
   {
    "duration": 562,
    "start_time": "2021-12-18T21:08:06.340Z"
   },
   {
    "duration": 559,
    "start_time": "2021-12-18T21:08:18.180Z"
   },
   {
    "duration": 360,
    "start_time": "2021-12-18T21:09:07.756Z"
   },
   {
    "duration": 536,
    "start_time": "2021-12-18T21:09:24.244Z"
   },
   {
    "duration": 628,
    "start_time": "2021-12-18T21:09:37.020Z"
   },
   {
    "duration": 305,
    "start_time": "2021-12-18T21:09:49.322Z"
   },
   {
    "duration": 1253,
    "start_time": "2021-12-18T21:10:20.475Z"
   },
   {
    "duration": 525,
    "start_time": "2021-12-18T21:10:57.250Z"
   },
   {
    "duration": 516,
    "start_time": "2021-12-18T21:11:58.698Z"
   },
   {
    "duration": 527,
    "start_time": "2021-12-18T21:12:08.529Z"
   },
   {
    "duration": 1124,
    "start_time": "2021-12-18T21:14:20.008Z"
   },
   {
    "duration": 742,
    "start_time": "2021-12-18T21:15:49.816Z"
   },
   {
    "duration": 258,
    "start_time": "2021-12-18T21:16:11.742Z"
   },
   {
    "duration": 3,
    "start_time": "2021-12-18T21:16:42.007Z"
   },
   {
    "duration": 90,
    "start_time": "2021-12-18T21:16:42.258Z"
   },
   {
    "duration": 46,
    "start_time": "2021-12-18T21:16:42.435Z"
   },
   {
    "duration": 16,
    "start_time": "2021-12-18T21:16:42.697Z"
   },
   {
    "duration": 9,
    "start_time": "2021-12-18T21:16:43.349Z"
   },
   {
    "duration": 5,
    "start_time": "2021-12-18T21:16:43.600Z"
   },
   {
    "duration": 13,
    "start_time": "2021-12-18T21:16:43.951Z"
   },
   {
    "duration": 12,
    "start_time": "2021-12-18T21:16:44.286Z"
   },
   {
    "duration": 4,
    "start_time": "2021-12-18T21:16:44.455Z"
   },
   {
    "duration": 14,
    "start_time": "2021-12-18T21:16:44.613Z"
   },
   {
    "duration": 6,
    "start_time": "2021-12-18T21:16:44.860Z"
   },
   {
    "duration": 12,
    "start_time": "2021-12-18T21:16:45.113Z"
   },
   {
    "duration": 6,
    "start_time": "2021-12-18T21:16:45.284Z"
   },
   {
    "duration": 12,
    "start_time": "2021-12-18T21:16:45.696Z"
   },
   {
    "duration": 8,
    "start_time": "2021-12-18T21:16:45.863Z"
   },
   {
    "duration": 7,
    "start_time": "2021-12-18T21:16:46.049Z"
   },
   {
    "duration": 6,
    "start_time": "2021-12-18T21:16:46.203Z"
   },
   {
    "duration": 6,
    "start_time": "2021-12-18T21:16:46.617Z"
   },
   {
    "duration": 6,
    "start_time": "2021-12-18T21:16:46.700Z"
   },
   {
    "duration": 6,
    "start_time": "2021-12-18T21:16:46.877Z"
   },
   {
    "duration": 7,
    "start_time": "2021-12-18T21:16:47.042Z"
   },
   {
    "duration": 20,
    "start_time": "2021-12-18T21:16:47.457Z"
   },
   {
    "duration": 8,
    "start_time": "2021-12-18T21:16:47.625Z"
   },
   {
    "duration": 5,
    "start_time": "2021-12-18T21:16:47.723Z"
   },
   {
    "duration": 4,
    "start_time": "2021-12-18T21:16:48.130Z"
   },
   {
    "duration": 6,
    "start_time": "2021-12-18T21:16:48.219Z"
   },
   {
    "duration": 12,
    "start_time": "2021-12-18T21:16:48.559Z"
   },
   {
    "duration": 7,
    "start_time": "2021-12-18T21:16:48.728Z"
   },
   {
    "duration": 6,
    "start_time": "2021-12-18T21:16:49.217Z"
   },
   {
    "duration": 5,
    "start_time": "2021-12-18T21:16:49.552Z"
   },
   {
    "duration": 10,
    "start_time": "2021-12-18T21:16:49.719Z"
   },
   {
    "duration": 11,
    "start_time": "2021-12-18T21:16:49.898Z"
   },
   {
    "duration": 5,
    "start_time": "2021-12-18T21:16:50.153Z"
   },
   {
    "duration": 6,
    "start_time": "2021-12-18T21:16:50.227Z"
   },
   {
    "duration": 11,
    "start_time": "2021-12-18T21:16:50.485Z"
   },
   {
    "duration": 5,
    "start_time": "2021-12-18T21:16:50.984Z"
   },
   {
    "duration": 22,
    "start_time": "2021-12-18T21:16:51.154Z"
   },
   {
    "duration": 6,
    "start_time": "2021-12-18T21:16:51.318Z"
   },
   {
    "duration": 971,
    "start_time": "2021-12-18T21:16:51.397Z"
   },
   {
    "duration": 20,
    "start_time": "2021-12-18T21:16:52.370Z"
   },
   {
    "duration": 84,
    "start_time": "2021-12-18T21:16:52.393Z"
   },
   {
    "duration": 12,
    "start_time": "2021-12-18T21:16:52.492Z"
   },
   {
    "duration": 6,
    "start_time": "2021-12-18T21:16:52.565Z"
   },
   {
    "duration": 5,
    "start_time": "2021-12-18T21:16:52.908Z"
   },
   {
    "duration": 4,
    "start_time": "2021-12-18T21:16:53.075Z"
   },
   {
    "duration": 18,
    "start_time": "2021-12-18T21:16:53.240Z"
   },
   {
    "duration": 7,
    "start_time": "2021-12-18T21:16:53.408Z"
   },
   {
    "duration": 7,
    "start_time": "2021-12-18T21:16:53.992Z"
   },
   {
    "duration": 18,
    "start_time": "2021-12-18T21:16:54.242Z"
   },
   {
    "duration": 15,
    "start_time": "2021-12-18T21:16:54.414Z"
   },
   {
    "duration": 5,
    "start_time": "2021-12-18T21:16:54.753Z"
   },
   {
    "duration": 920,
    "start_time": "2021-12-18T21:16:54.830Z"
   },
   {
    "duration": 11,
    "start_time": "2021-12-18T21:16:55.752Z"
   },
   {
    "duration": 5,
    "start_time": "2021-12-18T21:16:55.766Z"
   },
   {
    "duration": 16,
    "start_time": "2021-12-18T21:16:55.773Z"
   },
   {
    "duration": 8,
    "start_time": "2021-12-18T21:16:55.791Z"
   },
   {
    "duration": 8,
    "start_time": "2021-12-18T21:16:55.919Z"
   },
   {
    "duration": 36,
    "start_time": "2021-12-18T21:16:56.426Z"
   },
   {
    "duration": 265,
    "start_time": "2021-12-18T21:17:03.859Z"
   },
   {
    "duration": 523,
    "start_time": "2021-12-18T21:17:08.222Z"
   },
   {
    "duration": 292,
    "start_time": "2021-12-18T21:17:09.057Z"
   },
   {
    "duration": 583,
    "start_time": "2021-12-18T21:17:09.352Z"
   },
   {
    "duration": 308,
    "start_time": "2021-12-18T21:17:09.938Z"
   },
   {
    "duration": 564,
    "start_time": "2021-12-18T21:17:10.249Z"
   },
   {
    "duration": 286,
    "start_time": "2021-12-18T21:17:12.382Z"
   },
   {
    "duration": 448,
    "start_time": "2021-12-18T21:17:15.285Z"
   },
   {
    "duration": 352,
    "start_time": "2021-12-18T21:17:17.829Z"
   },
   {
    "duration": 11,
    "start_time": "2021-12-18T21:17:21.765Z"
   },
   {
    "duration": 139,
    "start_time": "2021-12-18T21:17:25.725Z"
   },
   {
    "duration": 544,
    "start_time": "2021-12-18T21:17:28.261Z"
   },
   {
    "duration": 7,
    "start_time": "2021-12-18T21:17:29.773Z"
   },
   {
    "duration": 8,
    "start_time": "2021-12-18T21:17:30.778Z"
   },
   {
    "duration": 543,
    "start_time": "2021-12-18T21:17:30.950Z"
   },
   {
    "duration": 520,
    "start_time": "2021-12-18T21:17:31.496Z"
   },
   {
    "duration": 9,
    "start_time": "2021-12-18T21:17:32.019Z"
   },
   {
    "duration": 546,
    "start_time": "2021-12-18T21:17:35.722Z"
   },
   {
    "duration": 967,
    "start_time": "2021-12-18T21:17:39.269Z"
   },
   {
    "duration": 10,
    "start_time": "2021-12-18T21:17:41.357Z"
   },
   {
    "duration": 394,
    "start_time": "2021-12-18T21:17:42.837Z"
   },
   {
    "duration": 659,
    "start_time": "2021-12-18T21:17:47.942Z"
   },
   {
    "duration": 11,
    "start_time": "2021-12-18T21:17:50.460Z"
   },
   {
    "duration": 544,
    "start_time": "2021-12-18T21:17:52.549Z"
   },
   {
    "duration": 794,
    "start_time": "2021-12-18T21:17:55.260Z"
   },
   {
    "duration": 13,
    "start_time": "2021-12-18T21:17:57.181Z"
   },
   {
    "duration": 515,
    "start_time": "2021-12-18T21:17:58.388Z"
   },
   {
    "duration": 752,
    "start_time": "2021-12-18T21:18:04.597Z"
   },
   {
    "duration": 21,
    "start_time": "2021-12-18T21:18:12.413Z"
   },
   {
    "duration": 819,
    "start_time": "2021-12-18T21:18:15.812Z"
   },
   {
    "duration": 20,
    "start_time": "2021-12-18T21:18:18.748Z"
   },
   {
    "duration": 335,
    "start_time": "2021-12-18T21:19:55.069Z"
   },
   {
    "duration": 518,
    "start_time": "2021-12-18T21:20:22.604Z"
   },
   {
    "duration": 238,
    "start_time": "2021-12-18T21:20:32.045Z"
   },
   {
    "duration": 231,
    "start_time": "2021-12-18T21:21:04.964Z"
   },
   {
    "duration": 21,
    "start_time": "2021-12-18T21:21:26.651Z"
   },
   {
    "duration": 727,
    "start_time": "2021-12-18T21:22:46.611Z"
   },
   {
    "duration": 344,
    "start_time": "2021-12-18T21:23:18.802Z"
   },
   {
    "duration": 349,
    "start_time": "2021-12-18T21:23:25.289Z"
   },
   {
    "duration": 711,
    "start_time": "2021-12-18T21:24:04.434Z"
   },
   {
    "duration": 1363,
    "start_time": "2021-12-18T21:26:41.143Z"
   },
   {
    "duration": 241,
    "start_time": "2021-12-18T21:27:57.319Z"
   },
   {
    "duration": 1355,
    "start_time": "2021-12-18T21:28:19.359Z"
   },
   {
    "duration": 1216,
    "start_time": "2021-12-18T21:29:49.197Z"
   },
   {
    "duration": 937,
    "start_time": "2021-12-18T21:29:58.197Z"
   },
   {
    "duration": 725,
    "start_time": "2021-12-18T21:30:19.989Z"
   },
   {
    "duration": 728,
    "start_time": "2021-12-18T21:30:54.221Z"
   },
   {
    "duration": 718,
    "start_time": "2021-12-18T21:33:32.947Z"
   },
   {
    "duration": -73,
    "start_time": "2021-12-18T21:34:47.276Z"
   },
   {
    "duration": 1381,
    "start_time": "2021-12-18T21:35:28.570Z"
   },
   {
    "duration": 287,
    "start_time": "2021-12-18T21:35:37.089Z"
   },
   {
    "duration": -76,
    "start_time": "2021-12-18T21:37:03.518Z"
   },
   {
    "duration": 238,
    "start_time": "2021-12-18T21:37:10.061Z"
   },
   {
    "duration": 289,
    "start_time": "2021-12-18T21:38:38.112Z"
   },
   {
    "duration": 245,
    "start_time": "2021-12-18T21:40:10.054Z"
   },
   {
    "duration": 253,
    "start_time": "2021-12-18T21:40:45.958Z"
   },
   {
    "duration": 259,
    "start_time": "2021-12-18T21:41:00.061Z"
   },
   {
    "duration": 229,
    "start_time": "2021-12-18T21:41:19.493Z"
   },
   {
    "duration": 245,
    "start_time": "2021-12-18T21:41:45.602Z"
   },
   {
    "duration": 232,
    "start_time": "2021-12-18T21:43:09.293Z"
   },
   {
    "duration": 745,
    "start_time": "2021-12-18T21:43:20.077Z"
   },
   {
    "duration": 281,
    "start_time": "2021-12-18T21:45:20.618Z"
   },
   {
    "duration": 4861,
    "start_time": "2021-12-18T21:45:46.138Z"
   },
   {
    "duration": 785,
    "start_time": "2021-12-18T21:46:00.683Z"
   },
   {
    "duration": 750,
    "start_time": "2021-12-18T21:46:58.098Z"
   },
   {
    "duration": 12024,
    "start_time": "2021-12-18T21:47:04.209Z"
   },
   {
    "duration": 358,
    "start_time": "2021-12-18T21:47:27.154Z"
   },
   {
    "duration": 515,
    "start_time": "2021-12-18T21:47:47.074Z"
   },
   {
    "duration": 752,
    "start_time": "2021-12-18T21:48:15.929Z"
   },
   {
    "duration": 3779,
    "start_time": "2021-12-18T21:48:45.696Z"
   },
   {
    "duration": 743,
    "start_time": "2021-12-18T21:48:52.641Z"
   },
   {
    "duration": 245,
    "start_time": "2021-12-18T21:50:33.424Z"
   },
   {
    "duration": 384,
    "start_time": "2021-12-18T21:50:54.598Z"
   },
   {
    "duration": 7,
    "start_time": "2021-12-18T21:51:07.543Z"
   },
   {
    "duration": 674,
    "start_time": "2021-12-18T21:52:01.359Z"
   },
   {
    "duration": 565,
    "start_time": "2021-12-18T21:52:12.798Z"
   },
   {
    "duration": 7,
    "start_time": "2021-12-18T21:52:33.894Z"
   },
   {
    "duration": 557,
    "start_time": "2021-12-18T21:52:58.238Z"
   },
   {
    "duration": 286,
    "start_time": "2021-12-18T21:53:11.494Z"
   },
   {
    "duration": 561,
    "start_time": "2021-12-18T21:53:26.221Z"
   },
   {
    "duration": 618,
    "start_time": "2021-12-18T21:53:37.981Z"
   },
   {
    "duration": 759,
    "start_time": "2021-12-18T21:54:30.542Z"
   },
   {
    "duration": 247,
    "start_time": "2021-12-18T21:55:11.525Z"
   },
   {
    "duration": 731,
    "start_time": "2021-12-18T21:55:17.332Z"
   },
   {
    "duration": 19,
    "start_time": "2021-12-18T21:55:47.828Z"
   },
   {
    "duration": 762,
    "start_time": "2021-12-18T21:56:48.268Z"
   },
   {
    "duration": 16,
    "start_time": "2021-12-18T21:57:17.267Z"
   },
   {
    "duration": 19,
    "start_time": "2021-12-18T21:57:39.458Z"
   },
   {
    "duration": 15,
    "start_time": "2021-12-18T21:59:41.042Z"
   },
   {
    "duration": 545,
    "start_time": "2021-12-18T22:00:07.521Z"
   },
   {
    "duration": 235,
    "start_time": "2021-12-18T22:00:46.641Z"
   },
   {
    "duration": 20,
    "start_time": "2021-12-18T22:01:16.805Z"
   },
   {
    "duration": 723,
    "start_time": "2021-12-18T22:02:47.983Z"
   },
   {
    "duration": -55,
    "start_time": "2021-12-18T22:05:17.440Z"
   },
   {
    "duration": 73009,
    "start_time": "2021-12-18T22:05:33.118Z"
   },
   {
    "duration": 323,
    "start_time": "2021-12-18T22:06:57.892Z"
   },
   {
    "duration": 5790,
    "start_time": "2021-12-18T22:10:12.634Z"
   },
   {
    "duration": 494,
    "start_time": "2021-12-18T22:10:46.858Z"
   },
   {
    "duration": 665,
    "start_time": "2021-12-18T22:11:27.305Z"
   },
   {
    "duration": 745,
    "start_time": "2021-12-18T22:11:47.345Z"
   },
   {
    "duration": 6192,
    "start_time": "2021-12-18T22:12:23.033Z"
   },
   {
    "duration": 7201,
    "start_time": "2021-12-18T22:12:37.377Z"
   },
   {
    "duration": 132,
    "start_time": "2021-12-18T22:13:05.298Z"
   },
   {
    "duration": -81,
    "start_time": "2021-12-18T22:15:08.423Z"
   },
   {
    "duration": 702,
    "start_time": "2021-12-18T22:15:11.326Z"
   },
   {
    "duration": 1561,
    "start_time": "2021-12-18T22:22:12.210Z"
   },
   {
    "duration": 400,
    "start_time": "2021-12-18T22:22:44.017Z"
   },
   {
    "duration": 1661,
    "start_time": "2021-12-18T22:22:53.545Z"
   },
   {
    "duration": 559,
    "start_time": "2021-12-18T22:24:06.624Z"
   },
   {
    "duration": 705,
    "start_time": "2021-12-18T22:24:19.088Z"
   },
   {
    "duration": 124131,
    "start_time": "2021-12-18T22:24:30.504Z"
   },
   {
    "duration": -78,
    "start_time": "2021-12-18T22:27:50.617Z"
   },
   {
    "duration": 12,
    "start_time": "2021-12-18T22:27:55.430Z"
   },
   {
    "duration": 18,
    "start_time": "2021-12-18T22:28:18.085Z"
   },
   {
    "duration": 12252,
    "start_time": "2021-12-18T22:28:24.149Z"
   },
   {
    "duration": -72,
    "start_time": "2021-12-18T22:30:05.796Z"
   },
   {
    "duration": -76,
    "start_time": "2021-12-18T22:30:05.802Z"
   },
   {
    "duration": 18,
    "start_time": "2021-12-18T22:30:27.116Z"
   },
   {
    "duration": 5739,
    "start_time": "2021-12-18T22:31:11.892Z"
   },
   {
    "duration": 1033,
    "start_time": "2021-12-18T22:31:30.478Z"
   },
   {
    "duration": 156975,
    "start_time": "2021-12-18T22:31:40.444Z"
   },
   {
    "duration": 285,
    "start_time": "2021-12-18T22:34:35.940Z"
   },
   {
    "duration": 699,
    "start_time": "2021-12-18T22:34:47.441Z"
   },
   {
    "duration": -77,
    "start_time": "2021-12-18T22:38:32.124Z"
   },
   {
    "duration": -104,
    "start_time": "2021-12-18T22:41:05.896Z"
   },
   {
    "duration": 362,
    "start_time": "2021-12-19T05:50:16.584Z"
   },
   {
    "duration": 672,
    "start_time": "2021-12-19T05:50:48.952Z"
   },
   {
    "duration": 79,
    "start_time": "2021-12-19T05:50:51.208Z"
   },
   {
    "duration": 53,
    "start_time": "2021-12-19T05:50:52.432Z"
   },
   {
    "duration": 16,
    "start_time": "2021-12-19T05:50:54.328Z"
   },
   {
    "duration": 10,
    "start_time": "2021-12-19T05:50:55.920Z"
   },
   {
    "duration": 4,
    "start_time": "2021-12-19T05:50:56.170Z"
   },
   {
    "duration": 11,
    "start_time": "2021-12-19T05:50:56.512Z"
   },
   {
    "duration": 12,
    "start_time": "2021-12-19T05:50:56.838Z"
   },
   {
    "duration": 4,
    "start_time": "2021-12-19T05:50:57.011Z"
   },
   {
    "duration": 13,
    "start_time": "2021-12-19T05:50:57.169Z"
   },
   {
    "duration": 6,
    "start_time": "2021-12-19T05:50:57.424Z"
   },
   {
    "duration": 12,
    "start_time": "2021-12-19T05:50:57.671Z"
   },
   {
    "duration": 6,
    "start_time": "2021-12-19T05:50:57.840Z"
   },
   {
    "duration": 13,
    "start_time": "2021-12-19T05:50:58.256Z"
   },
   {
    "duration": 8,
    "start_time": "2021-12-19T05:50:58.430Z"
   },
   {
    "duration": 5,
    "start_time": "2021-12-19T05:50:58.591Z"
   },
   {
    "duration": 5,
    "start_time": "2021-12-19T05:50:58.757Z"
   },
   {
    "duration": 5,
    "start_time": "2021-12-19T05:50:59.176Z"
   },
   {
    "duration": 5,
    "start_time": "2021-12-19T05:50:59.259Z"
   },
   {
    "duration": 11,
    "start_time": "2021-12-19T05:50:59.430Z"
   },
   {
    "duration": 6,
    "start_time": "2021-12-19T05:50:59.599Z"
   },
   {
    "duration": 18,
    "start_time": "2021-12-19T05:51:00.015Z"
   },
   {
    "duration": 8,
    "start_time": "2021-12-19T05:51:00.185Z"
   },
   {
    "duration": 5,
    "start_time": "2021-12-19T05:51:00.278Z"
   },
   {
    "duration": 5,
    "start_time": "2021-12-19T05:51:00.687Z"
   },
   {
    "duration": 6,
    "start_time": "2021-12-19T05:51:00.770Z"
   },
   {
    "duration": 12,
    "start_time": "2021-12-19T05:51:01.109Z"
   },
   {
    "duration": 7,
    "start_time": "2021-12-19T05:51:01.276Z"
   },
   {
    "duration": 4,
    "start_time": "2021-12-19T05:51:01.772Z"
   },
   {
    "duration": 4,
    "start_time": "2021-12-19T05:51:02.106Z"
   },
   {
    "duration": 8,
    "start_time": "2021-12-19T05:51:02.274Z"
   },
   {
    "duration": 10,
    "start_time": "2021-12-19T05:51:02.445Z"
   },
   {
    "duration": 5,
    "start_time": "2021-12-19T05:51:02.703Z"
   },
   {
    "duration": 5,
    "start_time": "2021-12-19T05:51:02.779Z"
   },
   {
    "duration": 10,
    "start_time": "2021-12-19T05:51:03.052Z"
   },
   {
    "duration": 5,
    "start_time": "2021-12-19T05:51:03.535Z"
   },
   {
    "duration": 20,
    "start_time": "2021-12-19T05:51:03.709Z"
   },
   {
    "duration": 6,
    "start_time": "2021-12-19T05:51:03.874Z"
   },
   {
    "duration": 867,
    "start_time": "2021-12-19T05:51:03.951Z"
   },
   {
    "duration": 22,
    "start_time": "2021-12-19T05:51:04.821Z"
   },
   {
    "duration": 84,
    "start_time": "2021-12-19T05:51:04.847Z"
   },
   {
    "duration": 12,
    "start_time": "2021-12-19T05:51:05.058Z"
   },
   {
    "duration": 5,
    "start_time": "2021-12-19T05:51:05.125Z"
   },
   {
    "duration": 4,
    "start_time": "2021-12-19T05:51:05.458Z"
   },
   {
    "duration": 4,
    "start_time": "2021-12-19T05:51:05.625Z"
   },
   {
    "duration": 12,
    "start_time": "2021-12-19T05:51:05.792Z"
   },
   {
    "duration": 7,
    "start_time": "2021-12-19T05:51:05.960Z"
   },
   {
    "duration": 6,
    "start_time": "2021-12-19T05:51:06.551Z"
   },
   {
    "duration": 17,
    "start_time": "2021-12-19T05:51:06.814Z"
   },
   {
    "duration": 13,
    "start_time": "2021-12-19T05:51:06.969Z"
   },
   {
    "duration": 4,
    "start_time": "2021-12-19T05:51:07.309Z"
   },
   {
    "duration": 718,
    "start_time": "2021-12-19T05:51:07.388Z"
   },
   {
    "duration": 16,
    "start_time": "2021-12-19T05:51:08.108Z"
   },
   {
    "duration": 5,
    "start_time": "2021-12-19T05:51:08.127Z"
   },
   {
    "duration": 6,
    "start_time": "2021-12-19T05:51:08.134Z"
   },
   {
    "duration": 6,
    "start_time": "2021-12-19T05:51:08.320Z"
   },
   {
    "duration": 6,
    "start_time": "2021-12-19T05:51:08.489Z"
   },
   {
    "duration": 36,
    "start_time": "2021-12-19T05:51:08.980Z"
   },
   {
    "duration": 392,
    "start_time": "2021-12-19T05:51:09.239Z"
   },
   {
    "duration": 493,
    "start_time": "2021-12-19T05:51:09.633Z"
   },
   {
    "duration": 286,
    "start_time": "2021-12-19T05:51:10.128Z"
   },
   {
    "duration": 511,
    "start_time": "2021-12-19T05:51:10.424Z"
   },
   {
    "duration": 292,
    "start_time": "2021-12-19T05:51:10.937Z"
   },
   {
    "duration": 531,
    "start_time": "2021-12-19T05:51:11.231Z"
   },
   {
    "duration": 269,
    "start_time": "2021-12-19T05:51:11.765Z"
   },
   {
    "duration": 365,
    "start_time": "2021-12-19T05:51:12.037Z"
   },
   {
    "duration": 379,
    "start_time": "2021-12-19T05:51:12.405Z"
   },
   {
    "duration": 321,
    "start_time": "2021-12-19T05:51:12.787Z"
   },
   {
    "duration": -184,
    "start_time": "2021-12-19T05:51:13.295Z"
   },
   {
    "duration": -189,
    "start_time": "2021-12-19T05:51:13.301Z"
   },
   {
    "duration": -193,
    "start_time": "2021-12-19T05:51:13.307Z"
   },
   {
    "duration": -198,
    "start_time": "2021-12-19T05:51:13.313Z"
   },
   {
    "duration": 550,
    "start_time": "2021-12-19T05:51:13.173Z"
   },
   {
    "duration": 507,
    "start_time": "2021-12-19T05:51:13.726Z"
   },
   {
    "duration": 10,
    "start_time": "2021-12-19T05:51:14.236Z"
   },
   {
    "duration": 532,
    "start_time": "2021-12-19T05:51:14.248Z"
   },
   {
    "duration": 503,
    "start_time": "2021-12-19T05:51:14.782Z"
   },
   {
    "duration": 8,
    "start_time": "2021-12-19T05:51:15.655Z"
   },
   {
    "duration": 277,
    "start_time": "2021-12-19T05:51:16.071Z"
   },
   {
    "duration": 579,
    "start_time": "2021-12-19T05:51:17.104Z"
   },
   {
    "duration": 11,
    "start_time": "2021-12-19T05:51:17.702Z"
   },
   {
    "duration": 513,
    "start_time": "2021-12-19T05:51:18.392Z"
   },
   {
    "duration": 463,
    "start_time": "2021-12-19T05:51:19.655Z"
   },
   {
    "duration": 10,
    "start_time": "2021-12-19T05:51:20.359Z"
   },
   {
    "duration": 503,
    "start_time": "2021-12-19T05:51:20.775Z"
   },
   {
    "duration": 720,
    "start_time": "2021-12-19T05:51:24.553Z"
   },
   {
    "duration": 18,
    "start_time": "2021-12-19T05:51:25.792Z"
   },
   {
    "duration": 738,
    "start_time": "2021-12-19T05:51:27.928Z"
   },
   {
    "duration": 17,
    "start_time": "2021-12-19T05:51:29.127Z"
   },
   {
    "duration": 456,
    "start_time": "2021-12-19T05:51:31.122Z"
   },
   {
    "duration": 211,
    "start_time": "2021-12-19T05:51:32.616Z"
   },
   {
    "duration": 20,
    "start_time": "2021-12-19T05:51:33.960Z"
   },
   {
    "duration": 1228,
    "start_time": "2021-12-19T05:51:36.158Z"
   },
   {
    "duration": 669,
    "start_time": "2021-12-19T05:51:37.389Z"
   },
   {
    "duration": 555,
    "start_time": "2021-12-19T05:52:09.991Z"
   },
   {
    "duration": 588,
    "start_time": "2021-12-19T05:52:15.800Z"
   },
   {
    "duration": 1152,
    "start_time": "2021-12-19T05:52:19.976Z"
   },
   {
    "duration": 1114,
    "start_time": "2021-12-19T05:52:49.871Z"
   },
   {
    "duration": 306,
    "start_time": "2021-12-19T05:53:51.918Z"
   },
   {
    "duration": 315,
    "start_time": "2021-12-19T05:54:06.503Z"
   },
   {
    "duration": 321,
    "start_time": "2021-12-19T05:54:20.751Z"
   },
   {
    "duration": 290,
    "start_time": "2021-12-19T05:54:40.183Z"
   },
   {
    "duration": 733,
    "start_time": "2021-12-19T05:56:01.910Z"
   },
   {
    "duration": 1833173,
    "start_time": "2021-12-19T05:58:47.444Z"
   },
   {
    "duration": -116,
    "start_time": "2021-12-19T06:29:20.736Z"
   },
   {
    "duration": 1235,
    "start_time": "2021-12-19T06:29:24.023Z"
   },
   {
    "duration": 770,
    "start_time": "2021-12-19T06:30:05.126Z"
   },
   {
    "duration": 79337,
    "start_time": "2021-12-19T06:30:19.774Z"
   },
   {
    "duration": 1623,
    "start_time": "2021-12-19T06:31:53.936Z"
   },
   {
    "duration": 1026,
    "start_time": "2021-12-19T06:32:36.804Z"
   },
   {
    "duration": 687,
    "start_time": "2021-12-19T06:33:16.869Z"
   },
   {
    "duration": 649,
    "start_time": "2021-12-19T06:33:29.043Z"
   },
   {
    "duration": 667,
    "start_time": "2021-12-19T06:34:55.635Z"
   },
   {
    "duration": 531,
    "start_time": "2021-12-19T06:35:22.450Z"
   },
   {
    "duration": 598,
    "start_time": "2021-12-19T06:35:34.978Z"
   },
   {
    "duration": 670,
    "start_time": "2021-12-19T06:38:42.736Z"
   },
   {
    "duration": 672,
    "start_time": "2021-12-19T06:39:50.879Z"
   },
   {
    "duration": 2719,
    "start_time": "2021-12-19T06:40:30.096Z"
   },
   {
    "duration": 2684,
    "start_time": "2021-12-19T06:40:53.958Z"
   },
   {
    "duration": 2747,
    "start_time": "2021-12-19T06:41:06.807Z"
   },
   {
    "duration": 69503,
    "start_time": "2021-12-19T06:41:49.694Z"
   },
   {
    "duration": 309,
    "start_time": "2021-12-19T06:44:04.933Z"
   },
   {
    "duration": 297,
    "start_time": "2021-12-19T06:47:40.466Z"
   },
   {
    "duration": 528,
    "start_time": "2021-12-19T06:48:00.100Z"
   },
   {
    "duration": 997,
    "start_time": "2021-12-19T06:48:11.345Z"
   },
   {
    "duration": 7,
    "start_time": "2021-12-19T06:48:41.945Z"
   },
   {
    "duration": 9,
    "start_time": "2021-12-19T06:48:48.497Z"
   },
   {
    "duration": 15,
    "start_time": "2021-12-19T06:49:02.440Z"
   },
   {
    "duration": 1982,
    "start_time": "2021-12-19T06:49:08.199Z"
   },
   {
    "duration": 2021,
    "start_time": "2021-12-19T06:49:17.778Z"
   },
   {
    "duration": 1691,
    "start_time": "2021-12-19T06:50:01.800Z"
   },
   {
    "duration": 81017,
    "start_time": "2021-12-19T06:50:45.231Z"
   },
   {
    "duration": -100,
    "start_time": "2021-12-19T06:53:50.708Z"
   },
   {
    "duration": 208,
    "start_time": "2021-12-19T06:53:55.272Z"
   },
   {
    "duration": 207,
    "start_time": "2021-12-19T06:54:57.813Z"
   },
   {
    "duration": 314,
    "start_time": "2021-12-19T06:55:29.788Z"
   },
   {
    "duration": 264,
    "start_time": "2021-12-19T06:56:25.404Z"
   },
   {
    "duration": -98,
    "start_time": "2021-12-19T06:57:03.064Z"
   },
   {
    "duration": 251,
    "start_time": "2021-12-19T06:57:05.075Z"
   },
   {
    "duration": 228,
    "start_time": "2021-12-19T06:57:26.827Z"
   },
   {
    "duration": 213,
    "start_time": "2021-12-19T06:57:56.754Z"
   },
   {
    "duration": 261,
    "start_time": "2021-12-19T06:58:05.362Z"
   },
   {
    "duration": 417,
    "start_time": "2021-12-19T07:07:53.230Z"
   },
   {
    "duration": 229,
    "start_time": "2021-12-19T07:08:24.065Z"
   },
   {
    "duration": 17,
    "start_time": "2021-12-19T07:10:01.434Z"
   },
   {
    "duration": 736,
    "start_time": "2021-12-19T07:11:34.921Z"
   },
   {
    "duration": 687,
    "start_time": "2021-12-19T07:13:28.360Z"
   },
   {
    "duration": -97,
    "start_time": "2021-12-19T07:16:00.856Z"
   },
   {
    "duration": 645,
    "start_time": "2021-12-19T07:16:03.007Z"
   },
   {
    "duration": 656,
    "start_time": "2021-12-19T07:17:06.374Z"
   },
   {
    "duration": 680,
    "start_time": "2021-12-19T07:17:22.853Z"
   },
   {
    "duration": 687,
    "start_time": "2021-12-19T07:17:41.925Z"
   },
   {
    "duration": 727,
    "start_time": "2021-12-19T07:19:04.148Z"
   },
   {
    "duration": 119,
    "start_time": "2021-12-19T07:52:27.047Z"
   },
   {
    "duration": 429,
    "start_time": "2021-12-19T07:52:33.685Z"
   },
   {
    "duration": 30,
    "start_time": "2021-12-19T07:53:00.812Z"
   },
   {
    "duration": 10,
    "start_time": "2021-12-19T07:54:09.493Z"
   },
   {
    "duration": 4,
    "start_time": "2021-12-19T07:54:16.516Z"
   },
   {
    "duration": 69,
    "start_time": "2021-12-19T07:54:17.692Z"
   },
   {
    "duration": 52,
    "start_time": "2021-12-19T07:54:18.004Z"
   },
   {
    "duration": 15,
    "start_time": "2021-12-19T07:54:18.683Z"
   },
   {
    "duration": 8,
    "start_time": "2021-12-19T07:54:21.227Z"
   },
   {
    "duration": 5,
    "start_time": "2021-12-19T07:54:23.689Z"
   },
   {
    "duration": 12,
    "start_time": "2021-12-19T07:54:25.603Z"
   },
   {
    "duration": 13,
    "start_time": "2021-12-19T07:54:27.508Z"
   },
   {
    "duration": 4,
    "start_time": "2021-12-19T07:54:29.235Z"
   },
   {
    "duration": 14,
    "start_time": "2021-12-19T07:54:33.523Z"
   },
   {
    "duration": 7,
    "start_time": "2021-12-19T07:54:35.659Z"
   },
   {
    "duration": 13,
    "start_time": "2021-12-19T07:54:37.780Z"
   },
   {
    "duration": 6,
    "start_time": "2021-12-19T07:54:39.971Z"
   },
   {
    "duration": 12,
    "start_time": "2021-12-19T07:54:42.387Z"
   },
   {
    "duration": 8,
    "start_time": "2021-12-19T07:54:43.387Z"
   },
   {
    "duration": 6,
    "start_time": "2021-12-19T07:54:44.243Z"
   },
   {
    "duration": 6,
    "start_time": "2021-12-19T07:54:45.043Z"
   },
   {
    "duration": 7,
    "start_time": "2021-12-19T07:54:47.194Z"
   },
   {
    "duration": 6,
    "start_time": "2021-12-19T07:54:47.619Z"
   },
   {
    "duration": 6,
    "start_time": "2021-12-19T07:54:48.596Z"
   },
   {
    "duration": 6,
    "start_time": "2021-12-19T07:54:49.547Z"
   },
   {
    "duration": 20,
    "start_time": "2021-12-19T07:54:55.460Z"
   },
   {
    "duration": 8,
    "start_time": "2021-12-19T07:55:03.571Z"
   },
   {
    "duration": 6,
    "start_time": "2021-12-19T07:55:03.979Z"
   },
   {
    "duration": 5,
    "start_time": "2021-12-19T07:55:06.011Z"
   },
   {
    "duration": 5,
    "start_time": "2021-12-19T07:55:06.467Z"
   },
   {
    "duration": 12,
    "start_time": "2021-12-19T07:55:08.251Z"
   },
   {
    "duration": 7,
    "start_time": "2021-12-19T07:55:09.363Z"
   },
   {
    "duration": 4,
    "start_time": "2021-12-19T07:55:16.804Z"
   },
   {
    "duration": 4,
    "start_time": "2021-12-19T07:55:19.467Z"
   },
   {
    "duration": 7,
    "start_time": "2021-12-19T07:55:20.355Z"
   },
   {
    "duration": 11,
    "start_time": "2021-12-19T07:55:21.299Z"
   },
   {
    "duration": 5,
    "start_time": "2021-12-19T07:55:22.699Z"
   },
   {
    "duration": 6,
    "start_time": "2021-12-19T07:55:23.219Z"
   },
   {
    "duration": 11,
    "start_time": "2021-12-19T07:55:25.498Z"
   },
   {
    "duration": 7,
    "start_time": "2021-12-19T07:55:28.043Z"
   },
   {
    "duration": 20,
    "start_time": "2021-12-19T07:55:29.243Z"
   },
   {
    "duration": 6,
    "start_time": "2021-12-19T07:55:31.212Z"
   },
   {
    "duration": 848,
    "start_time": "2021-12-19T07:55:31.819Z"
   },
   {
    "duration": 20,
    "start_time": "2021-12-19T07:55:32.669Z"
   },
   {
    "duration": 59,
    "start_time": "2021-12-19T07:55:35.859Z"
   },
   {
    "duration": 12,
    "start_time": "2021-12-19T07:55:39.452Z"
   },
   {
    "duration": 6,
    "start_time": "2021-12-19T07:55:41.474Z"
   },
   {
    "duration": 3,
    "start_time": "2021-12-19T07:55:43.995Z"
   },
   {
    "duration": 4,
    "start_time": "2021-12-19T07:55:45.258Z"
   },
   {
    "duration": 15,
    "start_time": "2021-12-19T07:55:46.362Z"
   },
   {
    "duration": 8,
    "start_time": "2021-12-19T07:55:47.435Z"
   },
   {
    "duration": 6,
    "start_time": "2021-12-19T07:55:52.913Z"
   },
   {
    "duration": 17,
    "start_time": "2021-12-19T07:55:55.362Z"
   },
   {
    "duration": 11,
    "start_time": "2021-12-19T07:55:57.546Z"
   },
   {
    "duration": 4,
    "start_time": "2021-12-19T07:56:01.027Z"
   },
   {
    "duration": 740,
    "start_time": "2021-12-19T07:56:01.706Z"
   },
   {
    "duration": 6,
    "start_time": "2021-12-19T07:56:02.714Z"
   },
   {
    "duration": 7,
    "start_time": "2021-12-19T07:56:04.882Z"
   },
   {
    "duration": 5,
    "start_time": "2021-12-19T07:56:05.762Z"
   },
   {
    "duration": 5,
    "start_time": "2021-12-19T07:56:07.308Z"
   },
   {
    "duration": 5,
    "start_time": "2021-12-19T07:56:08.179Z"
   },
   {
    "duration": 36,
    "start_time": "2021-12-19T07:56:12.051Z"
   },
   {
    "duration": 257,
    "start_time": "2021-12-19T07:56:14.466Z"
   },
   {
    "duration": 513,
    "start_time": "2021-12-19T07:56:16.698Z"
   },
   {
    "duration": 279,
    "start_time": "2021-12-19T07:56:19.379Z"
   },
   {
    "duration": 601,
    "start_time": "2021-12-19T07:56:21.649Z"
   },
   {
    "duration": 437,
    "start_time": "2021-12-19T07:56:26.507Z"
   },
   {
    "duration": 569,
    "start_time": "2021-12-19T07:56:27.994Z"
   },
   {
    "duration": 294,
    "start_time": "2021-12-19T07:56:30.395Z"
   },
   {
    "duration": 409,
    "start_time": "2021-12-19T07:56:33.106Z"
   },
   {
    "duration": 352,
    "start_time": "2021-12-19T07:56:34.514Z"
   },
   {
    "duration": 12,
    "start_time": "2021-12-19T07:56:38.274Z"
   },
   {
    "duration": 127,
    "start_time": "2021-12-19T07:56:42.001Z"
   },
   {
    "duration": 518,
    "start_time": "2021-12-19T07:56:44.314Z"
   },
   {
    "duration": 9,
    "start_time": "2021-12-19T07:56:46.234Z"
   },
   {
    "duration": 8,
    "start_time": "2021-12-19T07:56:47.882Z"
   },
   {
    "duration": 504,
    "start_time": "2021-12-19T07:56:50.434Z"
   },
   {
    "duration": 466,
    "start_time": "2021-12-19T07:56:56.386Z"
   },
   {
    "duration": 10,
    "start_time": "2021-12-19T07:56:57.914Z"
   },
   {
    "duration": 511,
    "start_time": "2021-12-19T07:56:59.194Z"
   },
   {
    "duration": 528,
    "start_time": "2021-12-19T07:57:02.122Z"
   },
   {
    "duration": 8,
    "start_time": "2021-12-19T07:57:03.554Z"
   },
   {
    "duration": 285,
    "start_time": "2021-12-19T07:57:04.594Z"
   },
   {
    "duration": 491,
    "start_time": "2021-12-19T07:57:08.290Z"
   },
   {
    "duration": 10,
    "start_time": "2021-12-19T07:57:13.482Z"
   },
   {
    "duration": 492,
    "start_time": "2021-12-19T07:57:15.353Z"
   },
   {
    "duration": 479,
    "start_time": "2021-12-19T07:57:17.962Z"
   },
   {
    "duration": 10,
    "start_time": "2021-12-19T07:57:19.481Z"
   },
   {
    "duration": 487,
    "start_time": "2021-12-19T07:57:20.545Z"
   },
   {
    "duration": 811,
    "start_time": "2021-12-19T07:57:27.681Z"
   },
   {
    "duration": 18,
    "start_time": "2021-12-19T07:57:29.946Z"
   },
   {
    "duration": 684,
    "start_time": "2021-12-19T07:57:33.770Z"
   },
   {
    "duration": 16,
    "start_time": "2021-12-19T07:57:35.498Z"
   },
   {
    "duration": 467,
    "start_time": "2021-12-19T07:57:40.017Z"
   },
   {
    "duration": 211,
    "start_time": "2021-12-19T07:57:41.273Z"
   },
   {
    "duration": 19,
    "start_time": "2021-12-19T07:57:43.817Z"
   },
   {
    "duration": 744,
    "start_time": "2021-12-19T07:57:47.329Z"
   },
   {
    "duration": 17,
    "start_time": "2021-12-19T07:57:51.369Z"
   },
   {
    "duration": 756,
    "start_time": "2021-12-19T07:57:58.753Z"
   },
   {
    "duration": 242,
    "start_time": "2021-12-19T07:58:00.113Z"
   },
   {
    "duration": 437,
    "start_time": "2021-12-19T07:58:00.649Z"
   },
   {
    "duration": 248,
    "start_time": "2021-12-19T07:58:01.570Z"
   },
   {
    "duration": 17,
    "start_time": "2021-12-19T07:58:05.369Z"
   },
   {
    "duration": 35,
    "start_time": "2021-12-19T07:58:19.361Z"
   },
   {
    "duration": 447,
    "start_time": "2021-12-19T07:59:04.584Z"
   },
   {
    "duration": 27,
    "start_time": "2021-12-19T07:59:19.122Z"
   },
   {
    "duration": 26,
    "start_time": "2021-12-19T08:00:05.809Z"
   },
   {
    "duration": 6,
    "start_time": "2021-12-19T08:00:10.712Z"
   },
   {
    "duration": 291,
    "start_time": "2021-12-19T08:00:13.592Z"
   },
   {
    "duration": 31,
    "start_time": "2021-12-19T08:02:10.959Z"
   },
   {
    "duration": 20,
    "start_time": "2021-12-19T08:02:18.544Z"
   },
   {
    "duration": 30,
    "start_time": "2021-12-19T08:02:53.719Z"
   },
   {
    "duration": 432,
    "start_time": "2021-12-19T08:04:17.327Z"
   },
   {
    "duration": 99,
    "start_time": "2021-12-19T08:05:06.749Z"
   },
   {
    "duration": 13,
    "start_time": "2021-12-19T08:05:35.949Z"
   },
   {
    "duration": 21,
    "start_time": "2021-12-19T08:12:01.161Z"
   },
   {
    "duration": 465,
    "start_time": "2021-12-19T08:14:02.408Z"
   },
   {
    "duration": 505,
    "start_time": "2021-12-19T08:15:09.726Z"
   },
   {
    "duration": 639,
    "start_time": "2021-12-19T08:15:32.262Z"
   },
   {
    "duration": 262,
    "start_time": "2021-12-19T08:15:37.493Z"
   },
   {
    "duration": 499,
    "start_time": "2021-12-19T08:16:41.693Z"
   },
   {
    "duration": 432,
    "start_time": "2021-12-19T08:16:56.069Z"
   },
   {
    "duration": 6,
    "start_time": "2021-12-19T08:17:40.948Z"
   },
   {
    "duration": 21,
    "start_time": "2021-12-19T08:18:17.061Z"
   },
   {
    "duration": 435,
    "start_time": "2021-12-19T08:18:20.828Z"
   },
   {
    "duration": 13,
    "start_time": "2021-12-19T08:18:25.570Z"
   },
   {
    "duration": 415,
    "start_time": "2021-12-19T08:18:29.324Z"
   },
   {
    "duration": 412,
    "start_time": "2021-12-19T08:18:42.300Z"
   },
   {
    "duration": 410,
    "start_time": "2021-12-19T08:18:57.948Z"
   },
   {
    "duration": 12,
    "start_time": "2021-12-19T08:22:32.114Z"
   },
   {
    "duration": 294,
    "start_time": "2021-12-19T08:24:19.208Z"
   },
   {
    "duration": 428,
    "start_time": "2021-12-19T08:24:32.712Z"
   },
   {
    "duration": 7322,
    "start_time": "2021-12-19T08:25:23.712Z"
   },
   {
    "duration": 306,
    "start_time": "2021-12-19T08:25:36.441Z"
   },
   {
    "duration": 330,
    "start_time": "2021-12-19T08:25:41.711Z"
   },
   {
    "duration": 626,
    "start_time": "2021-12-19T08:25:58.463Z"
   },
   {
    "duration": 429,
    "start_time": "2021-12-19T08:27:41.303Z"
   },
   {
    "duration": 407,
    "start_time": "2021-12-19T08:29:45.333Z"
   },
   {
    "duration": 288,
    "start_time": "2021-12-19T08:31:38.020Z"
   },
   {
    "duration": 292,
    "start_time": "2021-12-19T08:35:13.257Z"
   },
   {
    "duration": 566,
    "start_time": "2021-12-19T08:35:29.736Z"
   },
   {
    "duration": 297,
    "start_time": "2021-12-19T08:35:35.154Z"
   },
   {
    "duration": 13,
    "start_time": "2021-12-19T08:36:59.543Z"
   },
   {
    "duration": 436,
    "start_time": "2021-12-19T08:39:29.694Z"
   },
   {
    "duration": 104,
    "start_time": "2021-12-19T08:40:39.374Z"
   },
   {
    "duration": 12,
    "start_time": "2021-12-19T08:41:01.331Z"
   },
   {
    "duration": 438,
    "start_time": "2021-12-19T08:44:36.851Z"
   },
   {
    "duration": 12,
    "start_time": "2021-12-19T08:45:33.786Z"
   },
   {
    "duration": 260,
    "start_time": "2021-12-19T08:47:38.273Z"
   },
   {
    "duration": 285,
    "start_time": "2021-12-19T08:50:46.654Z"
   },
   {
    "duration": 12,
    "start_time": "2021-12-19T08:53:08.124Z"
   },
   {
    "duration": 4,
    "start_time": "2021-12-19T09:29:06.949Z"
   },
   {
    "duration": 75,
    "start_time": "2021-12-19T09:29:08.213Z"
   },
   {
    "duration": 46,
    "start_time": "2021-12-19T09:29:08.805Z"
   },
   {
    "duration": 16,
    "start_time": "2021-12-19T09:29:10.853Z"
   },
   {
    "duration": 8,
    "start_time": "2021-12-19T09:29:14.661Z"
   },
   {
    "duration": 5,
    "start_time": "2021-12-19T09:29:16.013Z"
   },
   {
    "duration": 14,
    "start_time": "2021-12-19T09:29:17.757Z"
   },
   {
    "duration": 13,
    "start_time": "2021-12-19T09:29:19.341Z"
   },
   {
    "duration": 5,
    "start_time": "2021-12-19T09:29:20.260Z"
   },
   {
    "duration": 5,
    "start_time": "2021-12-19T09:30:54.461Z"
   },
   {
    "duration": 20513,
    "start_time": "2021-12-19T09:30:56.803Z"
   },
   {
    "duration": 7,
    "start_time": "2021-12-19T09:31:17.333Z"
   },
   {
    "duration": 12,
    "start_time": "2021-12-19T09:31:17.342Z"
   },
   {
    "duration": 5,
    "start_time": "2021-12-19T09:31:28.620Z"
   },
   {
    "duration": 3,
    "start_time": "2021-12-19T09:33:25.338Z"
   },
   {
    "duration": 68,
    "start_time": "2021-12-19T09:33:26.386Z"
   },
   {
    "duration": 44,
    "start_time": "2021-12-19T09:33:26.745Z"
   },
   {
    "duration": 21,
    "start_time": "2021-12-19T09:33:27.730Z"
   },
   {
    "duration": 7,
    "start_time": "2021-12-19T09:33:30.635Z"
   },
   {
    "duration": 5,
    "start_time": "2021-12-19T09:33:31.882Z"
   },
   {
    "duration": 14,
    "start_time": "2021-12-19T09:33:33.754Z"
   },
   {
    "duration": 14,
    "start_time": "2021-12-19T09:33:35.842Z"
   },
   {
    "duration": 6,
    "start_time": "2021-12-19T09:33:44.610Z"
   },
   {
    "duration": 12,
    "start_time": "2021-12-19T09:34:25.266Z"
   },
   {
    "duration": 5,
    "start_time": "2021-12-19T09:34:31.234Z"
   },
   {
    "duration": 12,
    "start_time": "2021-12-19T09:34:35.441Z"
   },
   {
    "duration": 7,
    "start_time": "2021-12-19T09:34:36.513Z"
   },
   {
    "duration": 7,
    "start_time": "2021-12-19T09:34:37.177Z"
   },
   {
    "duration": 5,
    "start_time": "2021-12-19T09:34:37.770Z"
   },
   {
    "duration": 6,
    "start_time": "2021-12-19T09:34:39.602Z"
   },
   {
    "duration": 6,
    "start_time": "2021-12-19T09:34:39.986Z"
   },
   {
    "duration": 7,
    "start_time": "2021-12-19T09:34:41.169Z"
   },
   {
    "duration": 7,
    "start_time": "2021-12-19T09:34:42.185Z"
   },
   {
    "duration": 19,
    "start_time": "2021-12-19T09:34:44.113Z"
   },
   {
    "duration": 9,
    "start_time": "2021-12-19T09:34:45.018Z"
   },
   {
    "duration": 6,
    "start_time": "2021-12-19T09:34:45.385Z"
   },
   {
    "duration": 5,
    "start_time": "2021-12-19T09:34:47.289Z"
   },
   {
    "duration": 7,
    "start_time": "2021-12-19T09:34:47.689Z"
   },
   {
    "duration": 12,
    "start_time": "2021-12-19T09:34:49.202Z"
   },
   {
    "duration": 7,
    "start_time": "2021-12-19T09:34:50.352Z"
   },
   {
    "duration": 5,
    "start_time": "2021-12-19T09:34:52.905Z"
   },
   {
    "duration": 3,
    "start_time": "2021-12-19T09:34:54.561Z"
   },
   {
    "duration": 8,
    "start_time": "2021-12-19T09:34:56.833Z"
   },
   {
    "duration": 10,
    "start_time": "2021-12-19T09:34:58.186Z"
   },
   {
    "duration": 5,
    "start_time": "2021-12-19T09:34:59.385Z"
   },
   {
    "duration": 6,
    "start_time": "2021-12-19T09:34:59.793Z"
   },
   {
    "duration": 12,
    "start_time": "2021-12-19T09:35:01.250Z"
   },
   {
    "duration": 5,
    "start_time": "2021-12-19T09:35:08.313Z"
   },
   {
    "duration": 21,
    "start_time": "2021-12-19T09:35:09.450Z"
   },
   {
    "duration": 6,
    "start_time": "2021-12-19T09:35:11.314Z"
   },
   {
    "duration": 1390,
    "start_time": "2021-12-19T09:35:11.977Z"
   },
   {
    "duration": 22,
    "start_time": "2021-12-19T09:35:13.371Z"
   },
   {
    "duration": 69,
    "start_time": "2021-12-19T09:35:16.880Z"
   },
   {
    "duration": 15,
    "start_time": "2021-12-19T09:35:20.769Z"
   },
   {
    "duration": 6,
    "start_time": "2021-12-19T09:35:21.553Z"
   },
   {
    "duration": 4,
    "start_time": "2021-12-19T09:35:23.689Z"
   },
   {
    "duration": 4,
    "start_time": "2021-12-19T09:35:24.584Z"
   },
   {
    "duration": 13,
    "start_time": "2021-12-19T09:35:25.288Z"
   },
   {
    "duration": 8,
    "start_time": "2021-12-19T09:35:25.848Z"
   },
   {
    "duration": 6,
    "start_time": "2021-12-19T09:35:28.361Z"
   },
   {
    "duration": 17,
    "start_time": "2021-12-19T09:35:29.720Z"
   },
   {
    "duration": 11,
    "start_time": "2021-12-19T09:35:30.473Z"
   },
   {
    "duration": 5,
    "start_time": "2021-12-19T09:35:32.097Z"
   },
   {
    "duration": 781,
    "start_time": "2021-12-19T09:35:32.737Z"
   },
   {
    "duration": 9,
    "start_time": "2021-12-19T09:35:33.683Z"
   },
   {
    "duration": 6,
    "start_time": "2021-12-19T09:35:35.385Z"
   },
   {
    "duration": 6,
    "start_time": "2021-12-19T09:35:36.105Z"
   },
   {
    "duration": 6,
    "start_time": "2021-12-19T09:35:37.544Z"
   },
   {
    "duration": 5,
    "start_time": "2021-12-19T09:35:38.377Z"
   },
   {
    "duration": 34,
    "start_time": "2021-12-19T09:35:40.713Z"
   },
   {
    "duration": 238,
    "start_time": "2021-12-19T09:35:42.496Z"
   },
   {
    "duration": 501,
    "start_time": "2021-12-19T09:35:46.245Z"
   },
   {
    "duration": 270,
    "start_time": "2021-12-19T09:35:48.776Z"
   },
   {
    "duration": 523,
    "start_time": "2021-12-19T09:35:49.817Z"
   },
   {
    "duration": 305,
    "start_time": "2021-12-19T09:35:52.848Z"
   },
   {
    "duration": 513,
    "start_time": "2021-12-19T09:35:54.216Z"
   },
   {
    "duration": 273,
    "start_time": "2021-12-19T09:35:58.913Z"
   },
   {
    "duration": 338,
    "start_time": "2021-12-19T09:36:01.416Z"
   },
   {
    "duration": 346,
    "start_time": "2021-12-19T09:36:02.496Z"
   },
   {
    "duration": 10,
    "start_time": "2021-12-19T09:36:07.057Z"
   },
   {
    "duration": 118,
    "start_time": "2021-12-19T09:36:09.216Z"
   },
   {
    "duration": 520,
    "start_time": "2021-12-19T09:36:10.945Z"
   },
   {
    "duration": 7,
    "start_time": "2021-12-19T09:36:12.249Z"
   },
   {
    "duration": 8,
    "start_time": "2021-12-19T09:36:12.897Z"
   },
   {
    "duration": 494,
    "start_time": "2021-12-19T09:36:13.545Z"
   },
   {
    "duration": 5070,
    "start_time": "2021-12-19T09:36:14.667Z"
   },
   {
    "duration": 10,
    "start_time": "2021-12-19T09:36:19.740Z"
   },
   {
    "duration": 538,
    "start_time": "2021-12-19T09:36:19.754Z"
   },
   {
    "duration": 573,
    "start_time": "2021-12-19T09:36:20.295Z"
   },
   {
    "duration": 9,
    "start_time": "2021-12-19T09:36:20.870Z"
   },
   {
    "duration": 330,
    "start_time": "2021-12-19T09:36:20.882Z"
   },
   {
    "duration": 615,
    "start_time": "2021-12-19T09:36:21.214Z"
   },
   {
    "duration": 11,
    "start_time": "2021-12-19T09:36:21.833Z"
   },
   {
    "duration": 616,
    "start_time": "2021-12-19T09:36:21.846Z"
   },
   {
    "duration": 516,
    "start_time": "2021-12-19T09:36:22.465Z"
   },
   {
    "duration": 10,
    "start_time": "2021-12-19T09:36:22.983Z"
   },
   {
    "duration": 750,
    "start_time": "2021-12-19T09:36:22.995Z"
   },
   {
    "duration": 1175,
    "start_time": "2021-12-19T09:36:23.748Z"
   },
   {
    "duration": 21,
    "start_time": "2021-12-19T09:36:24.926Z"
   },
   {
    "duration": 694,
    "start_time": "2021-12-19T09:36:24.949Z"
   },
   {
    "duration": 16,
    "start_time": "2021-12-19T09:36:25.645Z"
   },
   {
    "duration": 498,
    "start_time": "2021-12-19T09:36:25.664Z"
   },
   {
    "duration": 211,
    "start_time": "2021-12-19T09:36:26.165Z"
   },
   {
    "duration": 18,
    "start_time": "2021-12-19T09:36:26.379Z"
   },
   {
    "duration": 693,
    "start_time": "2021-12-19T09:36:28.675Z"
   },
   {
    "duration": 18,
    "start_time": "2021-12-19T09:36:30.064Z"
   },
   {
    "duration": 741,
    "start_time": "2021-12-19T09:36:31.432Z"
   },
   {
    "duration": 260,
    "start_time": "2021-12-19T09:36:32.176Z"
   },
   {
    "duration": 316,
    "start_time": "2021-12-19T09:36:32.439Z"
   },
   {
    "duration": 270,
    "start_time": "2021-12-19T09:36:32.985Z"
   },
   {
    "duration": 17,
    "start_time": "2021-12-19T09:36:34.944Z"
   },
   {
    "duration": 35,
    "start_time": "2021-12-19T09:36:37.104Z"
   },
   {
    "duration": 27,
    "start_time": "2021-12-19T09:36:39.800Z"
   },
   {
    "duration": 27,
    "start_time": "2021-12-19T09:36:40.416Z"
   },
   {
    "duration": 6,
    "start_time": "2021-12-19T09:36:42.072Z"
   },
   {
    "duration": 292,
    "start_time": "2021-12-19T09:36:43.080Z"
   },
   {
    "duration": 21,
    "start_time": "2021-12-19T09:36:45.200Z"
   },
   {
    "duration": 436,
    "start_time": "2021-12-19T09:36:46.048Z"
   },
   {
    "duration": 13,
    "start_time": "2021-12-19T09:36:47.256Z"
   },
   {
    "duration": 12,
    "start_time": "2021-12-19T09:36:48.416Z"
   },
   {
    "duration": 286,
    "start_time": "2021-12-19T09:36:49.192Z"
   },
   {
    "duration": 402,
    "start_time": "2021-12-19T09:36:53.248Z"
   },
   {
    "duration": 12,
    "start_time": "2021-12-19T09:36:54.582Z"
   },
   {
    "duration": 457,
    "start_time": "2021-12-19T09:36:55.776Z"
   },
   {
    "duration": 22,
    "start_time": "2021-12-19T09:38:08.392Z"
   },
   {
    "duration": 467,
    "start_time": "2021-12-19T09:38:10.279Z"
   },
   {
    "duration": 14,
    "start_time": "2021-12-19T09:38:12.352Z"
   },
   {
    "duration": 11,
    "start_time": "2021-12-19T09:38:15.391Z"
   },
   {
    "duration": 287,
    "start_time": "2021-12-19T09:38:17.160Z"
   },
   {
    "duration": 455,
    "start_time": "2021-12-19T09:38:33.103Z"
   },
   {
    "duration": 13,
    "start_time": "2021-12-19T09:38:53.831Z"
   },
   {
    "duration": 400,
    "start_time": "2021-12-19T09:38:55.735Z"
   },
   {
    "duration": 11,
    "start_time": "2021-12-19T09:39:00.311Z"
   },
   {
    "duration": 285,
    "start_time": "2021-12-19T09:39:01.286Z"
   },
   {
    "duration": 280,
    "start_time": "2021-12-19T09:40:29.629Z"
   },
   {
    "duration": 307,
    "start_time": "2021-12-19T09:42:28.997Z"
   },
   {
    "duration": 437,
    "start_time": "2021-12-19T09:42:37.077Z"
   },
   {
    "duration": 908,
    "start_time": "2021-12-20T07:30:25.214Z"
   },
   {
    "duration": 99,
    "start_time": "2021-12-20T07:30:26.125Z"
   },
   {
    "duration": 68,
    "start_time": "2021-12-20T07:30:26.228Z"
   },
   {
    "duration": 20,
    "start_time": "2021-12-20T07:30:26.323Z"
   },
   {
    "duration": 21,
    "start_time": "2021-12-20T07:30:26.346Z"
   },
   {
    "duration": 7,
    "start_time": "2021-12-20T07:30:26.369Z"
   },
   {
    "duration": 54,
    "start_time": "2021-12-20T07:30:26.379Z"
   },
   {
    "duration": 14,
    "start_time": "2021-12-20T07:30:26.436Z"
   },
   {
    "duration": 6,
    "start_time": "2021-12-20T07:30:26.453Z"
   },
   {
    "duration": 15,
    "start_time": "2021-12-20T07:30:26.462Z"
   },
   {
    "duration": 46,
    "start_time": "2021-12-20T07:30:26.480Z"
   },
   {
    "duration": 15,
    "start_time": "2021-12-20T07:30:26.529Z"
   },
   {
    "duration": 9,
    "start_time": "2021-12-20T07:30:26.547Z"
   },
   {
    "duration": 15,
    "start_time": "2021-12-20T07:30:26.559Z"
   },
   {
    "duration": 46,
    "start_time": "2021-12-20T07:30:26.577Z"
   },
   {
    "duration": 7,
    "start_time": "2021-12-20T07:30:26.626Z"
   },
   {
    "duration": 6,
    "start_time": "2021-12-20T07:30:26.636Z"
   },
   {
    "duration": 19,
    "start_time": "2021-12-20T07:30:26.645Z"
   },
   {
    "duration": 7,
    "start_time": "2021-12-20T07:30:26.667Z"
   },
   {
    "duration": 58,
    "start_time": "2021-12-20T07:30:26.677Z"
   },
   {
    "duration": 9,
    "start_time": "2021-12-20T07:30:26.739Z"
   },
   {
    "duration": 10,
    "start_time": "2021-12-20T07:30:26.751Z"
   },
   {
    "duration": 6,
    "start_time": "2021-12-20T07:30:26.773Z"
   },
   {
    "duration": 40,
    "start_time": "2021-12-20T07:30:26.784Z"
   },
   {
    "duration": 14,
    "start_time": "2021-12-20T07:30:26.827Z"
   },
   {
    "duration": 5,
    "start_time": "2021-12-20T07:30:26.843Z"
   },
   {
    "duration": 7,
    "start_time": "2021-12-20T07:30:26.851Z"
   },
   {
    "duration": 6,
    "start_time": "2021-12-20T07:30:26.860Z"
   },
   {
    "duration": 11,
    "start_time": "2021-12-20T07:30:26.868Z"
   },
   {
    "duration": 49,
    "start_time": "2021-12-20T07:30:26.881Z"
   },
   {
    "duration": 4,
    "start_time": "2021-12-20T07:30:26.933Z"
   },
   {
    "duration": 8,
    "start_time": "2021-12-20T07:30:26.939Z"
   },
   {
    "duration": 16,
    "start_time": "2021-12-20T07:30:26.949Z"
   },
   {
    "duration": 4,
    "start_time": "2021-12-20T07:30:26.968Z"
   },
   {
    "duration": 69,
    "start_time": "2021-12-20T07:30:26.975Z"
   },
   {
    "duration": 9,
    "start_time": "2021-12-20T07:30:27.047Z"
   },
   {
    "duration": 1456,
    "start_time": "2021-12-20T07:30:27.059Z"
   },
   {
    "duration": 24,
    "start_time": "2021-12-20T07:30:28.517Z"
   },
   {
    "duration": 59,
    "start_time": "2021-12-20T07:30:28.543Z"
   },
   {
    "duration": 10,
    "start_time": "2021-12-20T07:30:28.623Z"
   },
   {
    "duration": 9,
    "start_time": "2021-12-20T07:30:28.635Z"
   },
   {
    "duration": 5,
    "start_time": "2021-12-20T07:30:28.646Z"
   },
   {
    "duration": 6,
    "start_time": "2021-12-20T07:30:28.653Z"
   },
   {
    "duration": 14,
    "start_time": "2021-12-20T07:30:28.661Z"
   },
   {
    "duration": 8,
    "start_time": "2021-12-20T07:30:28.677Z"
   },
   {
    "duration": 5,
    "start_time": "2021-12-20T07:30:28.723Z"
   },
   {
    "duration": 18,
    "start_time": "2021-12-20T07:30:28.731Z"
   },
   {
    "duration": 11,
    "start_time": "2021-12-20T07:30:28.751Z"
   },
   {
    "duration": 3,
    "start_time": "2021-12-20T07:30:28.765Z"
   },
   {
    "duration": 854,
    "start_time": "2021-12-20T07:30:28.771Z"
   },
   {
    "duration": 6,
    "start_time": "2021-12-20T07:30:29.628Z"
   },
   {
    "duration": 8,
    "start_time": "2021-12-20T07:30:29.637Z"
   },
   {
    "duration": 28,
    "start_time": "2021-12-20T07:30:29.647Z"
   },
   {
    "duration": 18,
    "start_time": "2021-12-20T07:30:29.678Z"
   },
   {
    "duration": 26,
    "start_time": "2021-12-20T07:30:29.699Z"
   },
   {
    "duration": 51,
    "start_time": "2021-12-20T07:30:29.728Z"
   },
   {
    "duration": 416,
    "start_time": "2021-12-20T07:30:29.782Z"
   },
   {
    "duration": 555,
    "start_time": "2021-12-20T07:30:30.201Z"
   },
   {
    "duration": 307,
    "start_time": "2021-12-20T07:30:30.759Z"
   },
   {
    "duration": 573,
    "start_time": "2021-12-20T07:30:31.068Z"
   },
   {
    "duration": 296,
    "start_time": "2021-12-20T07:30:31.643Z"
   },
   {
    "duration": 607,
    "start_time": "2021-12-20T07:30:31.943Z"
   },
   {
    "duration": 427,
    "start_time": "2021-12-20T07:30:32.553Z"
   },
   {
    "duration": 407,
    "start_time": "2021-12-20T07:30:32.982Z"
   },
   {
    "duration": 456,
    "start_time": "2021-12-20T07:30:33.392Z"
   },
   {
    "duration": 9,
    "start_time": "2021-12-20T07:30:33.850Z"
   },
   {
    "duration": 144,
    "start_time": "2021-12-20T07:30:33.862Z"
   },
   {
    "duration": 552,
    "start_time": "2021-12-20T07:30:34.014Z"
   },
   {
    "duration": 8,
    "start_time": "2021-12-20T07:30:34.569Z"
   },
   {
    "duration": 31,
    "start_time": "2021-12-20T07:30:34.579Z"
   },
   {
    "duration": 524,
    "start_time": "2021-12-20T07:30:34.612Z"
   },
   {
    "duration": 494,
    "start_time": "2021-12-20T07:30:35.138Z"
   },
   {
    "duration": 10,
    "start_time": "2021-12-20T07:30:35.635Z"
   },
   {
    "duration": 537,
    "start_time": "2021-12-20T07:30:35.647Z"
   },
   {
    "duration": 530,
    "start_time": "2021-12-20T07:30:36.186Z"
   },
   {
    "duration": 8,
    "start_time": "2021-12-20T07:30:36.719Z"
   },
   {
    "duration": 394,
    "start_time": "2021-12-20T07:30:36.729Z"
   },
   {
    "duration": 505,
    "start_time": "2021-12-20T07:30:37.125Z"
   },
   {
    "duration": 19,
    "start_time": "2021-12-20T07:30:37.633Z"
   },
   {
    "duration": 703,
    "start_time": "2021-12-20T07:30:37.656Z"
   },
   {
    "duration": 506,
    "start_time": "2021-12-20T07:30:38.361Z"
   },
   {
    "duration": 11,
    "start_time": "2021-12-20T07:30:38.869Z"
   },
   {
    "duration": 525,
    "start_time": "2021-12-20T07:30:38.882Z"
   },
   {
    "duration": 775,
    "start_time": "2021-12-20T07:30:39.410Z"
   },
   {
    "duration": 17,
    "start_time": "2021-12-20T07:30:40.187Z"
   },
   {
    "duration": 719,
    "start_time": "2021-12-20T07:30:40.222Z"
   },
   {
    "duration": 15,
    "start_time": "2021-12-20T07:30:40.944Z"
   },
   {
    "duration": 567,
    "start_time": "2021-12-20T07:30:40.961Z"
   },
   {
    "duration": 224,
    "start_time": "2021-12-20T07:30:41.531Z"
   },
   {
    "duration": 19,
    "start_time": "2021-12-20T07:30:41.758Z"
   },
   {
    "duration": 756,
    "start_time": "2021-12-20T07:30:41.780Z"
   },
   {
    "duration": 15,
    "start_time": "2021-12-20T07:30:42.539Z"
   },
   {
    "duration": 754,
    "start_time": "2021-12-20T07:30:42.557Z"
   },
   {
    "duration": 222,
    "start_time": "2021-12-20T07:30:43.313Z"
   },
   {
    "duration": 276,
    "start_time": "2021-12-20T07:30:43.537Z"
   },
   {
    "duration": 240,
    "start_time": "2021-12-20T07:30:43.823Z"
   },
   {
    "duration": 18,
    "start_time": "2021-12-20T07:30:44.066Z"
   },
   {
    "duration": 61,
    "start_time": "2021-12-20T07:30:44.087Z"
   },
   {
    "duration": 25,
    "start_time": "2021-12-20T07:30:44.150Z"
   },
   {
    "duration": 47,
    "start_time": "2021-12-20T07:30:44.178Z"
   },
   {
    "duration": 5,
    "start_time": "2021-12-20T07:30:44.227Z"
   },
   {
    "duration": 314,
    "start_time": "2021-12-20T07:30:44.235Z"
   },
   {
    "duration": 20,
    "start_time": "2021-12-20T07:30:44.552Z"
   },
   {
    "duration": 464,
    "start_time": "2021-12-20T07:30:44.574Z"
   },
   {
    "duration": 12,
    "start_time": "2021-12-20T07:30:45.041Z"
   },
   {
    "duration": 34,
    "start_time": "2021-12-20T07:30:45.056Z"
   },
   {
    "duration": 330,
    "start_time": "2021-12-20T07:30:45.093Z"
   },
   {
    "duration": 293,
    "start_time": "2021-12-20T07:30:45.425Z"
   },
   {
    "duration": 13,
    "start_time": "2021-12-20T07:30:45.724Z"
   },
   {
    "duration": 512,
    "start_time": "2021-12-20T07:30:45.740Z"
   },
   {
    "duration": 11,
    "start_time": "2021-12-20T07:30:46.255Z"
   },
   {
    "duration": 314,
    "start_time": "2021-12-20T07:30:46.268Z"
   },
   {
    "duration": 397,
    "start_time": "2021-12-20T07:58:59.030Z"
   },
   {
    "duration": 723,
    "start_time": "2021-12-20T07:59:05.962Z"
   },
   {
    "duration": 86,
    "start_time": "2021-12-20T07:59:06.688Z"
   },
   {
    "duration": 67,
    "start_time": "2021-12-20T07:59:06.777Z"
   },
   {
    "duration": 15,
    "start_time": "2021-12-20T07:59:06.847Z"
   },
   {
    "duration": 11,
    "start_time": "2021-12-20T07:59:07.304Z"
   },
   {
    "duration": 5,
    "start_time": "2021-12-20T07:59:07.564Z"
   },
   {
    "duration": 14,
    "start_time": "2021-12-20T07:59:07.902Z"
   },
   {
    "duration": 13,
    "start_time": "2021-12-20T07:59:08.227Z"
   },
   {
    "duration": 6,
    "start_time": "2021-12-20T07:59:08.559Z"
   },
   {
    "duration": 11,
    "start_time": "2021-12-20T07:59:08.893Z"
   },
   {
    "duration": 6,
    "start_time": "2021-12-20T07:59:09.069Z"
   },
   {
    "duration": 12,
    "start_time": "2021-12-20T07:59:09.485Z"
   },
   {
    "duration": 7,
    "start_time": "2021-12-20T07:59:09.654Z"
   },
   {
    "duration": 6,
    "start_time": "2021-12-20T07:59:09.810Z"
   },
   {
    "duration": 6,
    "start_time": "2021-12-20T07:59:09.982Z"
   },
   {
    "duration": 7,
    "start_time": "2021-12-20T07:59:10.402Z"
   },
   {
    "duration": 7,
    "start_time": "2021-12-20T07:59:10.483Z"
   },
   {
    "duration": 10,
    "start_time": "2021-12-20T07:59:10.669Z"
   },
   {
    "duration": 6,
    "start_time": "2021-12-20T07:59:10.823Z"
   },
   {
    "duration": 19,
    "start_time": "2021-12-20T07:59:11.239Z"
   },
   {
    "duration": 7,
    "start_time": "2021-12-20T07:59:11.404Z"
   },
   {
    "duration": 6,
    "start_time": "2021-12-20T07:59:11.496Z"
   },
   {
    "duration": 5,
    "start_time": "2021-12-20T07:59:11.906Z"
   },
   {
    "duration": 6,
    "start_time": "2021-12-20T07:59:11.991Z"
   },
   {
    "duration": 12,
    "start_time": "2021-12-20T07:59:12.323Z"
   },
   {
    "duration": 6,
    "start_time": "2021-12-20T07:59:12.493Z"
   },
   {
    "duration": 5,
    "start_time": "2021-12-20T07:59:13.081Z"
   },
   {
    "duration": 3,
    "start_time": "2021-12-20T07:59:13.499Z"
   },
   {
    "duration": 7,
    "start_time": "2021-12-20T07:59:13.672Z"
   },
   {
    "duration": 10,
    "start_time": "2021-12-20T07:59:13.837Z"
   },
   {
    "duration": 5,
    "start_time": "2021-12-20T07:59:14.085Z"
   },
   {
    "duration": 6,
    "start_time": "2021-12-20T07:59:14.169Z"
   },
   {
    "duration": 11,
    "start_time": "2021-12-20T07:59:14.427Z"
   },
   {
    "duration": 5,
    "start_time": "2021-12-20T07:59:14.924Z"
   },
   {
    "duration": 20,
    "start_time": "2021-12-20T07:59:15.101Z"
   },
   {
    "duration": 6,
    "start_time": "2021-12-20T07:59:15.256Z"
   },
   {
    "duration": 911,
    "start_time": "2021-12-20T07:59:15.343Z"
   },
   {
    "duration": 19,
    "start_time": "2021-12-20T07:59:16.256Z"
   },
   {
    "duration": 82,
    "start_time": "2021-12-20T07:59:16.278Z"
   },
   {
    "duration": 11,
    "start_time": "2021-12-20T07:59:16.515Z"
   },
   {
    "duration": 6,
    "start_time": "2021-12-20T07:59:16.598Z"
   },
   {
    "duration": 4,
    "start_time": "2021-12-20T07:59:23.353Z"
   },
   {
    "duration": 4,
    "start_time": "2021-12-20T07:59:24.136Z"
   },
   {
    "duration": 12,
    "start_time": "2021-12-20T07:59:24.726Z"
   },
   {
    "duration": 8,
    "start_time": "2021-12-20T07:59:24.889Z"
   },
   {
    "duration": 6,
    "start_time": "2021-12-20T07:59:25.480Z"
   },
   {
    "duration": 17,
    "start_time": "2021-12-20T07:59:25.731Z"
   },
   {
    "duration": 13,
    "start_time": "2021-12-20T07:59:25.898Z"
   },
   {
    "duration": 4,
    "start_time": "2021-12-20T07:59:26.234Z"
   },
   {
    "duration": 759,
    "start_time": "2021-12-20T07:59:26.314Z"
   },
   {
    "duration": 6,
    "start_time": "2021-12-20T07:59:27.075Z"
   },
   {
    "duration": 11,
    "start_time": "2021-12-20T07:59:27.084Z"
   },
   {
    "duration": 21,
    "start_time": "2021-12-20T07:59:27.097Z"
   },
   {
    "duration": 5,
    "start_time": "2021-12-20T07:59:27.236Z"
   },
   {
    "duration": 5,
    "start_time": "2021-12-20T07:59:27.407Z"
   },
   {
    "duration": 35,
    "start_time": "2021-12-20T07:59:27.905Z"
   },
   {
    "duration": 428,
    "start_time": "2021-12-20T07:59:28.166Z"
   },
   {
    "duration": 526,
    "start_time": "2021-12-20T07:59:28.596Z"
   },
   {
    "duration": 301,
    "start_time": "2021-12-20T07:59:29.124Z"
   },
   {
    "duration": 589,
    "start_time": "2021-12-20T07:59:29.428Z"
   },
   {
    "duration": 311,
    "start_time": "2021-12-20T07:59:30.019Z"
   },
   {
    "duration": 553,
    "start_time": "2021-12-20T07:59:30.333Z"
   },
   {
    "duration": 289,
    "start_time": "2021-12-20T07:59:30.888Z"
   },
   {
    "duration": 367,
    "start_time": "2021-12-20T07:59:31.180Z"
   },
   {
    "duration": 424,
    "start_time": "2021-12-20T07:59:31.550Z"
   },
   {
    "duration": 9,
    "start_time": "2021-12-20T07:59:31.977Z"
   },
   {
    "duration": 147,
    "start_time": "2021-12-20T07:59:31.988Z"
   },
   {
    "duration": 569,
    "start_time": "2021-12-20T07:59:34.928Z"
   },
   {
    "duration": 17,
    "start_time": "2021-12-20T07:59:35.500Z"
   },
   {
    "duration": 8,
    "start_time": "2021-12-20T07:59:35.697Z"
   },
   {
    "duration": 628,
    "start_time": "2021-12-20T07:59:36.040Z"
   },
   {
    "duration": 495,
    "start_time": "2021-12-20T07:59:36.936Z"
   },
   {
    "duration": 12,
    "start_time": "2021-12-20T07:59:37.473Z"
   },
   {
    "duration": 537,
    "start_time": "2021-12-20T07:59:37.863Z"
   },
   {
    "duration": 535,
    "start_time": "2021-12-20T07:59:39.047Z"
   },
   {
    "duration": 8,
    "start_time": "2021-12-20T07:59:39.656Z"
   },
   {
    "duration": 369,
    "start_time": "2021-12-20T07:59:40.383Z"
   },
   {
    "duration": 519,
    "start_time": "2021-12-20T07:59:42.127Z"
   },
   {
    "duration": 10,
    "start_time": "2021-12-20T07:59:43.552Z"
   },
   {
    "duration": 540,
    "start_time": "2021-12-20T07:59:44.647Z"
   },
   {
    "duration": 511,
    "start_time": "2021-12-20T07:59:46.815Z"
   },
   {
    "duration": 10,
    "start_time": "2021-12-20T07:59:48.449Z"
   },
   {
    "duration": 529,
    "start_time": "2021-12-20T07:59:49.408Z"
   },
   {
    "duration": 23,
    "start_time": "2021-12-20T07:59:52.368Z"
   },
   {
    "duration": 693,
    "start_time": "2021-12-20T08:00:12.473Z"
   },
   {
    "duration": 13,
    "start_time": "2021-12-20T08:00:31.312Z"
   },
   {
    "duration": 690,
    "start_time": "2021-12-20T08:00:57.152Z"
   },
   {
    "duration": 12,
    "start_time": "2021-12-20T08:01:06.791Z"
   },
   {
    "duration": 11,
    "start_time": "2021-12-20T08:01:12.279Z"
   },
   {
    "duration": 551,
    "start_time": "2021-12-20T08:01:34.720Z"
   },
   {
    "duration": 478,
    "start_time": "2021-12-20T08:01:57.983Z"
   },
   {
    "duration": 210,
    "start_time": "2021-12-20T08:02:07.150Z"
   },
   {
    "duration": 18,
    "start_time": "2021-12-20T08:02:15.080Z"
   },
   {
    "duration": 693,
    "start_time": "2021-12-20T08:02:32.360Z"
   },
   {
    "duration": 415,
    "start_time": "2021-12-20T08:04:10.318Z"
   },
   {
    "duration": 319,
    "start_time": "2021-12-20T08:41:23.878Z"
   },
   {
    "duration": 305,
    "start_time": "2021-12-20T08:41:38.572Z"
   },
   {
    "duration": 554,
    "start_time": "2021-12-20T08:47:05.057Z"
   },
   {
    "duration": 534,
    "start_time": "2021-12-20T08:47:35.722Z"
   },
   {
    "duration": 609,
    "start_time": "2021-12-20T08:47:51.481Z"
   },
   {
    "duration": 584,
    "start_time": "2021-12-20T08:47:59.841Z"
   },
   {
    "duration": 561,
    "start_time": "2021-12-20T08:48:48.856Z"
   },
   {
    "duration": 342,
    "start_time": "2021-12-20T08:50:41.143Z"
   },
   {
    "duration": 747,
    "start_time": "2021-12-20T08:50:52.006Z"
   },
   {
    "duration": 316,
    "start_time": "2021-12-20T08:50:52.842Z"
   },
   {
    "duration": 656,
    "start_time": "2021-12-20T08:50:53.162Z"
   },
   {
    "duration": 752,
    "start_time": "2021-12-20T08:50:53.824Z"
   },
   {
    "duration": 385,
    "start_time": "2021-12-20T08:50:54.579Z"
   },
   {
    "duration": 401,
    "start_time": "2021-12-20T08:50:54.967Z"
   },
   {
    "duration": 14,
    "start_time": "2021-12-20T08:50:55.373Z"
   },
   {
    "duration": 160,
    "start_time": "2021-12-20T08:50:55.391Z"
   },
   {
    "duration": 596,
    "start_time": "2021-12-20T08:50:55.553Z"
   },
   {
    "duration": 7,
    "start_time": "2021-12-20T08:50:56.152Z"
   },
   {
    "duration": 9,
    "start_time": "2021-12-20T08:50:56.161Z"
   },
   {
    "duration": 591,
    "start_time": "2021-12-20T08:50:56.173Z"
   },
   {
    "duration": 554,
    "start_time": "2021-12-20T08:50:56.766Z"
   },
   {
    "duration": 4,
    "start_time": "2021-12-20T08:51:01.056Z"
   },
   {
    "duration": 156,
    "start_time": "2021-12-20T08:51:01.305Z"
   },
   {
    "duration": 63,
    "start_time": "2021-12-20T08:51:01.482Z"
   },
   {
    "duration": 21,
    "start_time": "2021-12-20T08:51:01.723Z"
   },
   {
    "duration": 9,
    "start_time": "2021-12-20T08:51:02.399Z"
   },
   {
    "duration": 5,
    "start_time": "2021-12-20T08:51:02.654Z"
   },
   {
    "duration": 12,
    "start_time": "2021-12-20T08:51:02.986Z"
   },
   {
    "duration": 13,
    "start_time": "2021-12-20T08:51:03.326Z"
   },
   {
    "duration": 8,
    "start_time": "2021-12-20T08:51:03.669Z"
   },
   {
    "duration": 12,
    "start_time": "2021-12-20T08:51:03.998Z"
   },
   {
    "duration": 5,
    "start_time": "2021-12-20T08:51:04.172Z"
   },
   {
    "duration": 13,
    "start_time": "2021-12-20T08:51:04.579Z"
   },
   {
    "duration": 8,
    "start_time": "2021-12-20T08:51:04.738Z"
   },
   {
    "duration": 6,
    "start_time": "2021-12-20T08:51:04.908Z"
   },
   {
    "duration": 7,
    "start_time": "2021-12-20T08:51:05.075Z"
   },
   {
    "duration": 8,
    "start_time": "2021-12-20T08:51:05.502Z"
   },
   {
    "duration": 6,
    "start_time": "2021-12-20T08:51:05.577Z"
   },
   {
    "duration": 6,
    "start_time": "2021-12-20T08:51:05.745Z"
   },
   {
    "duration": 7,
    "start_time": "2021-12-20T08:51:05.921Z"
   },
   {
    "duration": 31,
    "start_time": "2021-12-20T08:51:06.339Z"
   },
   {
    "duration": 14,
    "start_time": "2021-12-20T08:51:06.516Z"
   },
   {
    "duration": 6,
    "start_time": "2021-12-20T08:51:06.583Z"
   },
   {
    "duration": 6,
    "start_time": "2021-12-20T08:51:07.010Z"
   },
   {
    "duration": 6,
    "start_time": "2021-12-20T08:51:07.087Z"
   },
   {
    "duration": 13,
    "start_time": "2021-12-20T08:51:07.432Z"
   },
   {
    "duration": 6,
    "start_time": "2021-12-20T08:51:07.590Z"
   },
   {
    "duration": 4,
    "start_time": "2021-12-20T08:51:08.184Z"
   },
   {
    "duration": 4,
    "start_time": "2021-12-20T08:51:08.603Z"
   },
   {
    "duration": 12,
    "start_time": "2021-12-20T08:51:08.764Z"
   },
   {
    "duration": 14,
    "start_time": "2021-12-20T08:51:08.926Z"
   },
   {
    "duration": 6,
    "start_time": "2021-12-20T08:51:09.189Z"
   },
   {
    "duration": 6,
    "start_time": "2021-12-20T08:51:09.276Z"
   },
   {
    "duration": 17,
    "start_time": "2021-12-20T08:51:09.513Z"
   },
   {
    "duration": 5,
    "start_time": "2021-12-20T08:51:10.024Z"
   },
   {
    "duration": 25,
    "start_time": "2021-12-20T08:51:10.208Z"
   },
   {
    "duration": 7,
    "start_time": "2021-12-20T08:51:10.359Z"
   },
   {
    "duration": 977,
    "start_time": "2021-12-20T08:51:10.443Z"
   },
   {
    "duration": 24,
    "start_time": "2021-12-20T08:51:11.423Z"
   },
   {
    "duration": 90,
    "start_time": "2021-12-20T08:51:11.450Z"
   },
   {
    "duration": 21,
    "start_time": "2021-12-20T08:51:11.612Z"
   },
   {
    "duration": 6,
    "start_time": "2021-12-20T08:51:11.699Z"
   },
   {
    "duration": 4,
    "start_time": "2021-12-20T08:51:12.042Z"
   },
   {
    "duration": 3,
    "start_time": "2021-12-20T08:51:12.198Z"
   },
   {
    "duration": 14,
    "start_time": "2021-12-20T08:51:12.366Z"
   },
   {
    "duration": 8,
    "start_time": "2021-12-20T08:51:12.532Z"
   },
   {
    "duration": 8,
    "start_time": "2021-12-20T08:51:13.125Z"
   },
   {
    "duration": 20,
    "start_time": "2021-12-20T08:51:13.381Z"
   },
   {
    "duration": 12,
    "start_time": "2021-12-20T08:51:13.542Z"
   },
   {
    "duration": 4,
    "start_time": "2021-12-20T08:51:13.886Z"
   },
   {
    "duration": 871,
    "start_time": "2021-12-20T08:51:13.961Z"
   },
   {
    "duration": 6,
    "start_time": "2021-12-20T08:51:14.835Z"
   },
   {
    "duration": 6,
    "start_time": "2021-12-20T08:51:14.844Z"
   },
   {
    "duration": 6,
    "start_time": "2021-12-20T08:51:14.852Z"
   },
   {
    "duration": 5,
    "start_time": "2021-12-20T08:51:14.902Z"
   },
   {
    "duration": 6,
    "start_time": "2021-12-20T08:51:15.047Z"
   },
   {
    "duration": 36,
    "start_time": "2021-12-20T08:51:15.557Z"
   },
   {
    "duration": 268,
    "start_time": "2021-12-20T08:51:15.815Z"
   },
   {
    "duration": 593,
    "start_time": "2021-12-20T08:51:16.152Z"
   },
   {
    "duration": 358,
    "start_time": "2021-12-20T08:51:16.748Z"
   },
   {
    "duration": 764,
    "start_time": "2021-12-20T08:51:17.109Z"
   },
   {
    "duration": 397,
    "start_time": "2021-12-20T08:51:17.876Z"
   },
   {
    "duration": 598,
    "start_time": "2021-12-20T08:51:18.276Z"
   },
   {
    "duration": 694,
    "start_time": "2021-12-20T08:51:18.877Z"
   },
   {
    "duration": 375,
    "start_time": "2021-12-20T08:51:19.574Z"
   },
   {
    "duration": 389,
    "start_time": "2021-12-20T08:51:19.951Z"
   },
   {
    "duration": 9,
    "start_time": "2021-12-20T08:51:20.343Z"
   },
   {
    "duration": 183,
    "start_time": "2021-12-20T08:51:20.356Z"
   },
   {
    "duration": 602,
    "start_time": "2021-12-20T08:51:20.542Z"
   },
   {
    "duration": 9,
    "start_time": "2021-12-20T08:51:21.146Z"
   },
   {
    "duration": 13,
    "start_time": "2021-12-20T08:51:21.159Z"
   },
   {
    "duration": 661,
    "start_time": "2021-12-20T08:51:21.175Z"
   },
   {
    "duration": 640,
    "start_time": "2021-12-20T08:51:21.839Z"
   },
   {
    "duration": 9,
    "start_time": "2021-12-20T08:51:22.482Z"
   },
   {
    "duration": 692,
    "start_time": "2021-12-20T08:51:22.495Z"
   },
   {
    "duration": 589,
    "start_time": "2021-12-20T08:51:23.190Z"
   },
   {
    "duration": 9,
    "start_time": "2021-12-20T08:51:23.781Z"
   },
   {
    "duration": 325,
    "start_time": "2021-12-20T08:51:23.792Z"
   },
   {
    "duration": 542,
    "start_time": "2021-12-20T08:51:24.121Z"
   },
   {
    "duration": 14,
    "start_time": "2021-12-20T08:51:24.666Z"
   },
   {
    "duration": 613,
    "start_time": "2021-12-20T08:51:24.683Z"
   },
   {
    "duration": 659,
    "start_time": "2021-12-20T08:51:25.299Z"
   },
   {
    "duration": 11,
    "start_time": "2021-12-20T08:51:25.960Z"
   },
   {
    "duration": 678,
    "start_time": "2021-12-20T08:51:25.973Z"
   },
   {
    "duration": 23,
    "start_time": "2021-12-20T08:51:26.654Z"
   },
   {
    "duration": 1005,
    "start_time": "2021-12-20T08:51:26.680Z"
   },
   {
    "duration": 12,
    "start_time": "2021-12-20T08:51:27.687Z"
   },
   {
    "duration": 453,
    "start_time": "2021-12-20T08:51:31.423Z"
   },
   {
    "duration": 17,
    "start_time": "2021-12-20T08:51:31.880Z"
   },
   {
    "duration": 491,
    "start_time": "2021-12-20T08:51:32.012Z"
   },
   {
    "duration": 239,
    "start_time": "2021-12-20T08:51:32.505Z"
   },
   {
    "duration": 18,
    "start_time": "2021-12-20T08:51:32.747Z"
   },
   {
    "duration": 452,
    "start_time": "2021-12-20T08:51:32.768Z"
   },
   {
    "duration": 22,
    "start_time": "2021-12-20T08:51:34.818Z"
   },
   {
    "duration": 792,
    "start_time": "2021-12-20T08:51:35.158Z"
   },
   {
    "duration": 248,
    "start_time": "2021-12-20T08:51:35.954Z"
   },
   {
    "duration": 371,
    "start_time": "2021-12-20T08:51:36.206Z"
   },
   {
    "duration": 271,
    "start_time": "2021-12-20T08:51:36.580Z"
   },
   {
    "duration": 18,
    "start_time": "2021-12-20T08:51:36.854Z"
   },
   {
    "duration": 43,
    "start_time": "2021-12-20T08:51:43.884Z"
   },
   {
    "duration": 36,
    "start_time": "2021-12-20T08:51:44.320Z"
   },
   {
    "duration": 30,
    "start_time": "2021-12-20T08:51:44.391Z"
   },
   {
    "duration": 6,
    "start_time": "2021-12-20T08:51:44.735Z"
   },
   {
    "duration": 319,
    "start_time": "2021-12-20T08:51:44.902Z"
   },
   {
    "duration": 26,
    "start_time": "2021-12-20T08:51:45.319Z"
   },
   {
    "duration": 555,
    "start_time": "2021-12-20T08:51:47.190Z"
   },
   {
    "duration": 14,
    "start_time": "2021-12-20T08:51:48.439Z"
   },
   {
    "duration": 12,
    "start_time": "2021-12-20T08:51:50.173Z"
   },
   {
    "duration": 305,
    "start_time": "2021-12-20T08:51:50.822Z"
   },
   {
    "duration": 307,
    "start_time": "2021-12-20T08:51:51.958Z"
   },
   {
    "duration": 18,
    "start_time": "2021-12-20T08:51:52.734Z"
   },
   {
    "duration": 14,
    "start_time": "2021-12-20T08:51:54.013Z"
   },
   {
    "duration": 888,
    "start_time": "2021-12-20T08:51:54.837Z"
   },
   {
    "duration": 16229,
    "start_time": "2021-12-20T08:52:34.615Z"
   },
   {
    "duration": 929,
    "start_time": "2021-12-20T08:52:57.022Z"
   },
   {
    "duration": 776,
    "start_time": "2021-12-21T07:22:21.612Z"
   },
   {
    "duration": 101,
    "start_time": "2021-12-21T07:22:22.391Z"
   },
   {
    "duration": 79,
    "start_time": "2021-12-21T07:22:22.494Z"
   },
   {
    "duration": 15,
    "start_time": "2021-12-21T07:22:22.576Z"
   },
   {
    "duration": 11,
    "start_time": "2021-12-21T07:22:22.593Z"
   },
   {
    "duration": 5,
    "start_time": "2021-12-21T07:22:22.606Z"
   },
   {
    "duration": 53,
    "start_time": "2021-12-21T07:22:22.613Z"
   },
   {
    "duration": 24,
    "start_time": "2021-12-21T07:22:22.668Z"
   },
   {
    "duration": 7,
    "start_time": "2021-12-21T07:22:22.697Z"
   },
   {
    "duration": 12,
    "start_time": "2021-12-21T07:22:22.707Z"
   },
   {
    "duration": 40,
    "start_time": "2021-12-21T07:22:22.722Z"
   },
   {
    "duration": 15,
    "start_time": "2021-12-21T07:22:22.764Z"
   },
   {
    "duration": 7,
    "start_time": "2021-12-21T07:22:22.781Z"
   },
   {
    "duration": 7,
    "start_time": "2021-12-21T07:22:22.790Z"
   },
   {
    "duration": 6,
    "start_time": "2021-12-21T07:22:22.799Z"
   },
   {
    "duration": 7,
    "start_time": "2021-12-21T07:22:22.808Z"
   },
   {
    "duration": 6,
    "start_time": "2021-12-21T07:22:22.861Z"
   },
   {
    "duration": 8,
    "start_time": "2021-12-21T07:22:22.869Z"
   },
   {
    "duration": 6,
    "start_time": "2021-12-21T07:22:22.879Z"
   },
   {
    "duration": 22,
    "start_time": "2021-12-21T07:22:22.887Z"
   },
   {
    "duration": 6,
    "start_time": "2021-12-21T07:22:22.911Z"
   },
   {
    "duration": 5,
    "start_time": "2021-12-21T07:22:22.960Z"
   },
   {
    "duration": 7,
    "start_time": "2021-12-21T07:22:22.968Z"
   },
   {
    "duration": 6,
    "start_time": "2021-12-21T07:22:22.977Z"
   },
   {
    "duration": 13,
    "start_time": "2021-12-21T07:22:22.985Z"
   },
   {
    "duration": 6,
    "start_time": "2021-12-21T07:22:23.001Z"
   },
   {
    "duration": 47,
    "start_time": "2021-12-21T07:22:23.014Z"
   },
   {
    "duration": 4,
    "start_time": "2021-12-21T07:22:23.065Z"
   },
   {
    "duration": 9,
    "start_time": "2021-12-21T07:22:23.072Z"
   },
   {
    "duration": 10,
    "start_time": "2021-12-21T07:22:23.084Z"
   },
   {
    "duration": 5,
    "start_time": "2021-12-21T07:22:23.096Z"
   },
   {
    "duration": 56,
    "start_time": "2021-12-21T07:22:23.103Z"
   },
   {
    "duration": 12,
    "start_time": "2021-12-21T07:22:23.162Z"
   },
   {
    "duration": 6,
    "start_time": "2021-12-21T07:22:23.176Z"
   },
   {
    "duration": 25,
    "start_time": "2021-12-21T07:22:23.185Z"
   },
   {
    "duration": 47,
    "start_time": "2021-12-21T07:22:23.212Z"
   },
   {
    "duration": 915,
    "start_time": "2021-12-21T07:22:23.262Z"
   },
   {
    "duration": 21,
    "start_time": "2021-12-21T07:22:24.179Z"
   },
   {
    "duration": 81,
    "start_time": "2021-12-21T07:22:24.202Z"
   },
   {
    "duration": 11,
    "start_time": "2021-12-21T07:22:24.286Z"
   },
   {
    "duration": 9,
    "start_time": "2021-12-21T07:22:24.299Z"
   },
   {
    "duration": 9,
    "start_time": "2021-12-21T07:22:24.310Z"
   },
   {
    "duration": 5,
    "start_time": "2021-12-21T07:22:24.322Z"
   },
   {
    "duration": 42,
    "start_time": "2021-12-21T07:22:24.330Z"
   },
   {
    "duration": 8,
    "start_time": "2021-12-21T07:22:24.374Z"
   },
   {
    "duration": 5,
    "start_time": "2021-12-21T07:22:24.384Z"
   },
   {
    "duration": 17,
    "start_time": "2021-12-21T07:22:24.392Z"
   },
   {
    "duration": 53,
    "start_time": "2021-12-21T07:22:24.411Z"
   },
   {
    "duration": 4,
    "start_time": "2021-12-21T07:22:24.466Z"
   },
   {
    "duration": 787,
    "start_time": "2021-12-21T07:22:24.472Z"
   },
   {
    "duration": 6,
    "start_time": "2021-12-21T07:22:25.261Z"
   },
   {
    "duration": 11,
    "start_time": "2021-12-21T07:22:25.269Z"
   },
   {
    "duration": 10,
    "start_time": "2021-12-21T07:22:25.283Z"
   },
   {
    "duration": 5,
    "start_time": "2021-12-21T07:22:25.295Z"
   },
   {
    "duration": 9,
    "start_time": "2021-12-21T07:22:25.303Z"
   },
   {
    "duration": 67,
    "start_time": "2021-12-21T07:22:25.315Z"
   },
   {
    "duration": 425,
    "start_time": "2021-12-21T07:22:25.385Z"
   },
   {
    "duration": 552,
    "start_time": "2021-12-21T07:22:25.812Z"
   },
   {
    "duration": 299,
    "start_time": "2021-12-21T07:22:26.366Z"
   },
   {
    "duration": 586,
    "start_time": "2021-12-21T07:22:26.668Z"
   },
   {
    "duration": 309,
    "start_time": "2021-12-21T07:22:27.259Z"
   },
   {
    "duration": 554,
    "start_time": "2021-12-21T07:22:27.570Z"
   },
   {
    "duration": 533,
    "start_time": "2021-12-21T07:22:28.126Z"
   },
   {
    "duration": 415,
    "start_time": "2021-12-21T07:22:28.661Z"
   },
   {
    "duration": 362,
    "start_time": "2021-12-21T07:22:29.079Z"
   },
   {
    "duration": 18,
    "start_time": "2021-12-21T07:22:29.443Z"
   },
   {
    "duration": 133,
    "start_time": "2021-12-21T07:22:29.463Z"
   },
   {
    "duration": 561,
    "start_time": "2021-12-21T07:22:29.598Z"
   },
   {
    "duration": 7,
    "start_time": "2021-12-21T07:22:30.162Z"
   },
   {
    "duration": 15,
    "start_time": "2021-12-21T07:22:30.172Z"
   },
   {
    "duration": 579,
    "start_time": "2021-12-21T07:22:30.189Z"
   },
   {
    "duration": 528,
    "start_time": "2021-12-21T07:22:30.771Z"
   },
   {
    "duration": 11,
    "start_time": "2021-12-21T07:22:31.301Z"
   },
   {
    "duration": 563,
    "start_time": "2021-12-21T07:22:31.315Z"
   },
   {
    "duration": 616,
    "start_time": "2021-12-21T07:22:31.881Z"
   },
   {
    "duration": 8,
    "start_time": "2021-12-21T07:22:32.500Z"
   },
   {
    "duration": 304,
    "start_time": "2021-12-21T07:22:32.510Z"
   },
   {
    "duration": 545,
    "start_time": "2021-12-21T07:22:32.817Z"
   },
   {
    "duration": 12,
    "start_time": "2021-12-21T07:22:33.364Z"
   },
   {
    "duration": 571,
    "start_time": "2021-12-21T07:22:33.379Z"
   },
   {
    "duration": 539,
    "start_time": "2021-12-21T07:22:33.964Z"
   },
   {
    "duration": 11,
    "start_time": "2021-12-21T07:22:34.506Z"
   },
   {
    "duration": 548,
    "start_time": "2021-12-21T07:22:34.520Z"
   },
   {
    "duration": 27,
    "start_time": "2021-12-21T07:22:35.071Z"
   },
   {
    "duration": 716,
    "start_time": "2021-12-21T07:22:35.101Z"
   },
   {
    "duration": 13,
    "start_time": "2021-12-21T07:22:35.819Z"
   },
   {
    "duration": 395,
    "start_time": "2021-12-21T07:22:35.834Z"
   },
   {
    "duration": 11,
    "start_time": "2021-12-21T07:22:36.231Z"
   },
   {
    "duration": 472,
    "start_time": "2021-12-21T07:22:36.244Z"
   },
   {
    "duration": 225,
    "start_time": "2021-12-21T07:22:36.719Z"
   },
   {
    "duration": 23,
    "start_time": "2021-12-21T07:22:36.946Z"
   },
   {
    "duration": 346,
    "start_time": "2021-12-21T07:22:36.972Z"
   },
   {
    "duration": 16,
    "start_time": "2021-12-21T07:22:37.321Z"
   },
   {
    "duration": 786,
    "start_time": "2021-12-21T07:22:37.340Z"
   },
   {
    "duration": 234,
    "start_time": "2021-12-21T07:22:38.128Z"
   },
   {
    "duration": 282,
    "start_time": "2021-12-21T07:22:38.364Z"
   },
   {
    "duration": 255,
    "start_time": "2021-12-21T07:22:38.648Z"
   },
   {
    "duration": 18,
    "start_time": "2021-12-21T07:22:38.905Z"
   },
   {
    "duration": 58,
    "start_time": "2021-12-21T07:22:38.926Z"
   },
   {
    "duration": 28,
    "start_time": "2021-12-21T07:22:38.987Z"
   },
   {
    "duration": 55,
    "start_time": "2021-12-21T07:22:39.018Z"
   },
   {
    "duration": 4,
    "start_time": "2021-12-21T07:22:39.076Z"
   },
   {
    "duration": 326,
    "start_time": "2021-12-21T07:22:39.082Z"
   },
   {
    "duration": 21,
    "start_time": "2021-12-21T07:22:39.411Z"
   },
   {
    "duration": 477,
    "start_time": "2021-12-21T07:22:39.435Z"
   },
   {
    "duration": 14,
    "start_time": "2021-12-21T07:22:39.915Z"
   },
   {
    "duration": 36,
    "start_time": "2021-12-21T07:22:39.932Z"
   },
   {
    "duration": 293,
    "start_time": "2021-12-21T07:22:39.971Z"
   },
   {
    "duration": 365,
    "start_time": "2021-12-21T07:22:40.267Z"
   },
   {
    "duration": 11,
    "start_time": "2021-12-21T07:22:40.635Z"
   },
   {
    "duration": 11,
    "start_time": "2021-12-21T07:22:40.659Z"
   },
   {
    "duration": 808,
    "start_time": "2021-12-21T07:22:40.672Z"
   }
  ],
  "kernelspec": {
   "display_name": "Python 3 (ipykernel)",
   "language": "python",
   "name": "python3"
  },
  "language_info": {
   "codemirror_mode": {
    "name": "ipython",
    "version": 3
   },
   "file_extension": ".py",
   "mimetype": "text/x-python",
   "name": "python",
   "nbconvert_exporter": "python",
   "pygments_lexer": "ipython3",
   "version": "3.9.5"
  },
  "toc": {
   "base_numbering": 1,
   "nav_menu": {},
   "number_sections": true,
   "sideBar": true,
   "skip_h1_title": true,
   "title_cell": "Содержание",
   "title_sidebar": "Contents",
   "toc_cell": true,
   "toc_position": {
    "height": "calc(100% - 180px)",
    "left": "10px",
    "top": "150px",
    "width": "392px"
   },
   "toc_section_display": true,
   "toc_window_display": false
  }
 },
 "nbformat": 4,
 "nbformat_minor": 2
}
